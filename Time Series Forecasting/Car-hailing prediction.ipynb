{
 "cells": [
  {
   "cell_type": "markdown",
   "metadata": {
    "toc": true
   },
   "source": [
    "<h1>Contents<span class=\"tocSkip\"></span></h1>\n",
    "<div class=\"toc\"><ul class=\"toc-item\"><li><span><a href=\"#Data-Preparation\" data-toc-modified-id=\"Data-Preparation-1\"><span class=\"toc-item-num\">1&nbsp;&nbsp;</span>Data Preparation</a></span></li><li><span><a href=\"#Analysis\" data-toc-modified-id=\"Analysis-2\"><span class=\"toc-item-num\">2&nbsp;&nbsp;</span>Analysis</a></span></li><li><span><a href=\"#Training\" data-toc-modified-id=\"Training-3\"><span class=\"toc-item-num\">3&nbsp;&nbsp;</span>Training</a></span></li><li><span><a href=\"#Testing\" data-toc-modified-id=\"Testing-4\"><span class=\"toc-item-num\">4&nbsp;&nbsp;</span>Testing</a></span></li><li><span><a href=\"#Conclusion\" data-toc-modified-id=\"Conclusion-5\"><span class=\"toc-item-num\">5&nbsp;&nbsp;</span>Conclusion</a></span></li></ul></div>"
   ]
  },
  {
   "cell_type": "markdown",
   "metadata": {},
   "source": [
    "#  Car-hailing prediction"
   ]
  },
  {
   "cell_type": "markdown",
   "metadata": {},
   "source": [
    "Goal: Predict the number of car-hailing requests for the next hour in order to bring more drivers for the peak load periods. Use historical car-hailing activity data to make the prediction model with RMSE less than 48 on the test set."
   ]
  },
  {
   "cell_type": "markdown",
   "metadata": {},
   "source": [
    "## Data Preparation"
   ]
  },
  {
   "cell_type": "code",
   "execution_count": 1,
   "metadata": {},
   "outputs": [],
   "source": [
    "import pandas as pd\n",
    "import warnings\n",
    "warnings.filterwarnings(\"ignore\")\n",
    "from statsmodels.tsa.seasonal import seasonal_decompose\n",
    "import matplotlib.pyplot as plt\n",
    "from sklearn.model_selection import train_test_split\n",
    "from sklearn.linear_model import LinearRegression\n",
    "from sklearn.metrics import mean_squared_error\n",
    "import lightgbm as lgb\n",
    "from sklearn.linear_model import SGDClassifier\n",
    "from sklearn.model_selection import RandomizedSearchCV\n",
    "from statsmodels.tsa.seasonal import seasonal_decompose\n",
    "from sklearn.model_selection import TimeSeriesSplit"
   ]
  },
  {
   "cell_type": "code",
   "execution_count": 2,
   "metadata": {},
   "outputs": [],
   "source": [
    "#df = pd.read_csv('/datasets/taxi.csv')\n",
    "\n",
    "df = pd.read_csv(r'C:\\Users\\HP\\Downloads\\taxi.csv')"
   ]
  },
  {
   "cell_type": "code",
   "execution_count": 3,
   "metadata": {},
   "outputs": [
    {
     "data": {
      "text/html": [
       "<div>\n",
       "<style scoped>\n",
       "    .dataframe tbody tr th:only-of-type {\n",
       "        vertical-align: middle;\n",
       "    }\n",
       "\n",
       "    .dataframe tbody tr th {\n",
       "        vertical-align: top;\n",
       "    }\n",
       "\n",
       "    .dataframe thead th {\n",
       "        text-align: right;\n",
       "    }\n",
       "</style>\n",
       "<table border=\"1\" class=\"dataframe\">\n",
       "  <thead>\n",
       "    <tr style=\"text-align: right;\">\n",
       "      <th></th>\n",
       "      <th>datetime</th>\n",
       "      <th>num_orders</th>\n",
       "    </tr>\n",
       "  </thead>\n",
       "  <tbody>\n",
       "    <tr>\n",
       "      <th>0</th>\n",
       "      <td>2018-03-01 00:00:00</td>\n",
       "      <td>9</td>\n",
       "    </tr>\n",
       "    <tr>\n",
       "      <th>1</th>\n",
       "      <td>2018-03-01 00:10:00</td>\n",
       "      <td>14</td>\n",
       "    </tr>\n",
       "    <tr>\n",
       "      <th>2</th>\n",
       "      <td>2018-03-01 00:20:00</td>\n",
       "      <td>28</td>\n",
       "    </tr>\n",
       "    <tr>\n",
       "      <th>3</th>\n",
       "      <td>2018-03-01 00:30:00</td>\n",
       "      <td>20</td>\n",
       "    </tr>\n",
       "    <tr>\n",
       "      <th>4</th>\n",
       "      <td>2018-03-01 00:40:00</td>\n",
       "      <td>32</td>\n",
       "    </tr>\n",
       "  </tbody>\n",
       "</table>\n",
       "</div>"
      ],
      "text/plain": [
       "              datetime  num_orders\n",
       "0  2018-03-01 00:00:00           9\n",
       "1  2018-03-01 00:10:00          14\n",
       "2  2018-03-01 00:20:00          28\n",
       "3  2018-03-01 00:30:00          20\n",
       "4  2018-03-01 00:40:00          32"
      ]
     },
     "execution_count": 3,
     "metadata": {},
     "output_type": "execute_result"
    }
   ],
   "source": [
    "df.head()"
   ]
  },
  {
   "cell_type": "code",
   "execution_count": 4,
   "metadata": {},
   "outputs": [
    {
     "name": "stdout",
     "output_type": "stream",
     "text": [
      "<class 'pandas.core.frame.DataFrame'>\n",
      "RangeIndex: 26496 entries, 0 to 26495\n",
      "Data columns (total 2 columns):\n",
      " #   Column      Non-Null Count  Dtype \n",
      "---  ------      --------------  ----- \n",
      " 0   datetime    26496 non-null  object\n",
      " 1   num_orders  26496 non-null  int64 \n",
      "dtypes: int64(1), object(1)\n",
      "memory usage: 414.1+ KB\n"
     ]
    }
   ],
   "source": [
    "df.info()"
   ]
  },
  {
   "cell_type": "markdown",
   "metadata": {},
   "source": [
    "Datetime data type converted from object to datetime64"
   ]
  },
  {
   "cell_type": "code",
   "execution_count": 5,
   "metadata": {},
   "outputs": [],
   "source": [
    "df['datetime'] = pd.to_datetime(df['datetime'])"
   ]
  },
  {
   "cell_type": "code",
   "execution_count": 6,
   "metadata": {},
   "outputs": [
    {
     "name": "stdout",
     "output_type": "stream",
     "text": [
      "<class 'pandas.core.frame.DataFrame'>\n",
      "RangeIndex: 26496 entries, 0 to 26495\n",
      "Data columns (total 2 columns):\n",
      " #   Column      Non-Null Count  Dtype         \n",
      "---  ------      --------------  -----         \n",
      " 0   datetime    26496 non-null  datetime64[ns]\n",
      " 1   num_orders  26496 non-null  int64         \n",
      "dtypes: datetime64[ns](1), int64(1)\n",
      "memory usage: 414.1 KB\n"
     ]
    }
   ],
   "source": [
    "df.info()"
   ]
  },
  {
   "cell_type": "markdown",
   "metadata": {},
   "source": [
    "Table index is set to be equal to datetime column"
   ]
  },
  {
   "cell_type": "code",
   "execution_count": 7,
   "metadata": {},
   "outputs": [],
   "source": [
    "df = df.set_index('datetime')"
   ]
  },
  {
   "cell_type": "code",
   "execution_count": 8,
   "metadata": {},
   "outputs": [
    {
     "data": {
      "text/html": [
       "<div>\n",
       "<style scoped>\n",
       "    .dataframe tbody tr th:only-of-type {\n",
       "        vertical-align: middle;\n",
       "    }\n",
       "\n",
       "    .dataframe tbody tr th {\n",
       "        vertical-align: top;\n",
       "    }\n",
       "\n",
       "    .dataframe thead th {\n",
       "        text-align: right;\n",
       "    }\n",
       "</style>\n",
       "<table border=\"1\" class=\"dataframe\">\n",
       "  <thead>\n",
       "    <tr style=\"text-align: right;\">\n",
       "      <th></th>\n",
       "      <th>num_orders</th>\n",
       "    </tr>\n",
       "    <tr>\n",
       "      <th>datetime</th>\n",
       "      <th></th>\n",
       "    </tr>\n",
       "  </thead>\n",
       "  <tbody>\n",
       "    <tr>\n",
       "      <th>2018-03-01 00:00:00</th>\n",
       "      <td>9</td>\n",
       "    </tr>\n",
       "    <tr>\n",
       "      <th>2018-03-01 00:10:00</th>\n",
       "      <td>14</td>\n",
       "    </tr>\n",
       "    <tr>\n",
       "      <th>2018-03-01 00:20:00</th>\n",
       "      <td>28</td>\n",
       "    </tr>\n",
       "    <tr>\n",
       "      <th>2018-03-01 00:30:00</th>\n",
       "      <td>20</td>\n",
       "    </tr>\n",
       "    <tr>\n",
       "      <th>2018-03-01 00:40:00</th>\n",
       "      <td>32</td>\n",
       "    </tr>\n",
       "  </tbody>\n",
       "</table>\n",
       "</div>"
      ],
      "text/plain": [
       "                     num_orders\n",
       "datetime                       \n",
       "2018-03-01 00:00:00           9\n",
       "2018-03-01 00:10:00          14\n",
       "2018-03-01 00:20:00          28\n",
       "2018-03-01 00:30:00          20\n",
       "2018-03-01 00:40:00          32"
      ]
     },
     "execution_count": 8,
     "metadata": {},
     "output_type": "execute_result"
    }
   ],
   "source": [
    "df.head()"
   ]
  },
  {
   "cell_type": "markdown",
   "metadata": {},
   "source": [
    "Chronological check of date and time, is_monotonic index attribute is used."
   ]
  },
  {
   "cell_type": "code",
   "execution_count": 9,
   "metadata": {},
   "outputs": [
    {
     "data": {
      "text/plain": [
       "True"
      ]
     },
     "execution_count": 9,
     "metadata": {},
     "output_type": "execute_result"
    }
   ],
   "source": [
    "df.index.is_monotonic"
   ]
  },
  {
   "cell_type": "markdown",
   "metadata": {},
   "source": [
    "is_monotonic shows 'True'. Data is in chronological order."
   ]
  },
  {
   "cell_type": "markdown",
   "metadata": {},
   "source": [
    "Per hour order amount using per hour resampling"
   ]
  },
  {
   "cell_type": "code",
   "execution_count": 10,
   "metadata": {},
   "outputs": [],
   "source": [
    "df = df.resample('1H').sum()"
   ]
  },
  {
   "cell_type": "code",
   "execution_count": 11,
   "metadata": {},
   "outputs": [
    {
     "data": {
      "text/html": [
       "<div>\n",
       "<style scoped>\n",
       "    .dataframe tbody tr th:only-of-type {\n",
       "        vertical-align: middle;\n",
       "    }\n",
       "\n",
       "    .dataframe tbody tr th {\n",
       "        vertical-align: top;\n",
       "    }\n",
       "\n",
       "    .dataframe thead th {\n",
       "        text-align: right;\n",
       "    }\n",
       "</style>\n",
       "<table border=\"1\" class=\"dataframe\">\n",
       "  <thead>\n",
       "    <tr style=\"text-align: right;\">\n",
       "      <th></th>\n",
       "      <th>num_orders</th>\n",
       "    </tr>\n",
       "    <tr>\n",
       "      <th>datetime</th>\n",
       "      <th></th>\n",
       "    </tr>\n",
       "  </thead>\n",
       "  <tbody>\n",
       "    <tr>\n",
       "      <th>2018-03-01 00:00:00</th>\n",
       "      <td>124</td>\n",
       "    </tr>\n",
       "    <tr>\n",
       "      <th>2018-03-01 01:00:00</th>\n",
       "      <td>85</td>\n",
       "    </tr>\n",
       "    <tr>\n",
       "      <th>2018-03-01 02:00:00</th>\n",
       "      <td>71</td>\n",
       "    </tr>\n",
       "    <tr>\n",
       "      <th>2018-03-01 03:00:00</th>\n",
       "      <td>66</td>\n",
       "    </tr>\n",
       "    <tr>\n",
       "      <th>2018-03-01 04:00:00</th>\n",
       "      <td>43</td>\n",
       "    </tr>\n",
       "  </tbody>\n",
       "</table>\n",
       "</div>"
      ],
      "text/plain": [
       "                     num_orders\n",
       "datetime                       \n",
       "2018-03-01 00:00:00         124\n",
       "2018-03-01 01:00:00          85\n",
       "2018-03-01 02:00:00          71\n",
       "2018-03-01 03:00:00          66\n",
       "2018-03-01 04:00:00          43"
      ]
     },
     "execution_count": 11,
     "metadata": {},
     "output_type": "execute_result"
    }
   ],
   "source": [
    "df.head()"
   ]
  },
  {
   "cell_type": "markdown",
   "metadata": {},
   "source": [
    "###### Summary\n",
    "\n",
    "Data is uploaded and datetime format is converted to datetime64"
   ]
  },
  {
   "cell_type": "markdown",
   "metadata": {},
   "source": [
    "## Analysis"
   ]
  },
  {
   "cell_type": "code",
   "execution_count": 12,
   "metadata": {},
   "outputs": [
    {
     "data": {
      "image/png": "[encoded data removed]",
      "text/plain": [
       "<Figure size 1440x432 with 1 Axes>"
      ]
     },
     "metadata": {
      "needs_background": "light"
     },
     "output_type": "display_data"
    }
   ],
   "source": [
    "plt.figure(figsize=(20, 6));\n",
    "plt.plot(df);"
   ]
  },
  {
   "cell_type": "markdown",
   "metadata": {},
   "source": [
    "Limit amount of orders to one day data"
   ]
  },
  {
   "cell_type": "code",
   "execution_count": 13,
   "metadata": {},
   "outputs": [],
   "source": [
    "df_one_day = df['2018-03-01 00:00:00':'2018-03-02 01:00:00']"
   ]
  },
  {
   "cell_type": "code",
   "execution_count": 14,
   "metadata": {},
   "outputs": [
    {
     "data": {
      "image/png": "[encoded data removed]",
      "text/plain": [
       "<Figure size 432x288 with 1 Axes>"
      ]
     },
     "metadata": {
      "needs_background": "light"
     },
     "output_type": "display_data"
    }
   ],
   "source": [
    "df_one_day.plot();"
   ]
  },
  {
   "cell_type": "code",
   "execution_count": 15,
   "metadata": {},
   "outputs": [
    {
     "data": {
      "image/png": "[encoded data removed]",
      "text/plain": [
       "<Figure size 432x288 with 1 Axes>"
      ]
     },
     "metadata": {
      "needs_background": "light"
     },
     "output_type": "display_data"
    }
   ],
   "source": [
    "df_one_day['rolling_mean'] = df_one_day.rolling(3).mean()\n",
    "df_one_day.plot();"
   ]
  },
  {
   "cell_type": "code",
   "execution_count": 16,
   "metadata": {},
   "outputs": [
    {
     "data": {
      "image/png": "[encoded data removed]",
      "text/plain": [
       "<Figure size 432x288 with 1 Axes>"
      ]
     },
     "metadata": {
      "needs_background": "light"
     },
     "output_type": "display_data"
    }
   ],
   "source": [
    "df['rolling_mean'] = df.rolling(3).mean()\n",
    "df.plot();"
   ]
  },
  {
   "cell_type": "markdown",
   "metadata": {},
   "source": [
    "###### Summary\n",
    "Available data shows an increase of orders from the beginning of June. Possible explanation is the beginning of vacation season."
   ]
  },
  {
   "cell_type": "code",
   "execution_count": 17,
   "metadata": {},
   "outputs": [],
   "source": [
    "decomposed = seasonal_decompose(df['num_orders']) "
   ]
  },
  {
   "cell_type": "code",
   "execution_count": 18,
   "metadata": {},
   "outputs": [
    {
     "data": {
      "image/png": "[encoded data removed]",
      "text/plain": [
       "<Figure size 720x576 with 3 Axes>"
      ]
     },
     "metadata": {
      "needs_background": "light"
     },
     "output_type": "display_data"
    }
   ],
   "source": [
    "plt.figure(figsize=(10, 8))\n",
    "plt.subplot(311)\n",
    "decomposed.trend.plot(ax=plt.gca())\n",
    "plt.title('Trend')\n",
    "plt.subplot(312)\n",
    "decomposed.seasonal.plot(ax=plt.gca())\n",
    "plt.title('Seasonality')\n",
    "plt.subplot(313)\n",
    "decomposed.resid.plot(ax=plt.gca()) \n",
    "plt.title('Residuals')\n",
    "plt.tight_layout()"
   ]
  },
  {
   "cell_type": "markdown",
   "metadata": {},
   "source": [
    "## Training"
   ]
  },
  {
   "cell_type": "markdown",
   "metadata": {},
   "source": [
    "Create new features "
   ]
  },
  {
   "cell_type": "code",
   "execution_count": 19,
   "metadata": {},
   "outputs": [],
   "source": [
    "df['year'] = df.index.year\n",
    "df['month'] = df.index.month\n",
    "df['day'] = df.index.day\n",
    "df['dayofweek'] = df.index.dayofweek\n",
    "df['hour'] = df.index.hour"
   ]
  },
  {
   "cell_type": "code",
   "execution_count": 20,
   "metadata": {},
   "outputs": [
    {
     "data": {
      "text/html": [
       "<div>\n",
       "<style scoped>\n",
       "    .dataframe tbody tr th:only-of-type {\n",
       "        vertical-align: middle;\n",
       "    }\n",
       "\n",
       "    .dataframe tbody tr th {\n",
       "        vertical-align: top;\n",
       "    }\n",
       "\n",
       "    .dataframe thead th {\n",
       "        text-align: right;\n",
       "    }\n",
       "</style>\n",
       "<table border=\"1\" class=\"dataframe\">\n",
       "  <thead>\n",
       "    <tr style=\"text-align: right;\">\n",
       "      <th></th>\n",
       "      <th>num_orders</th>\n",
       "      <th>rolling_mean</th>\n",
       "      <th>year</th>\n",
       "      <th>month</th>\n",
       "      <th>day</th>\n",
       "      <th>dayofweek</th>\n",
       "      <th>hour</th>\n",
       "    </tr>\n",
       "    <tr>\n",
       "      <th>datetime</th>\n",
       "      <th></th>\n",
       "      <th></th>\n",
       "      <th></th>\n",
       "      <th></th>\n",
       "      <th></th>\n",
       "      <th></th>\n",
       "      <th></th>\n",
       "    </tr>\n",
       "  </thead>\n",
       "  <tbody>\n",
       "    <tr>\n",
       "      <th>2018-03-01 00:00:00</th>\n",
       "      <td>124</td>\n",
       "      <td>NaN</td>\n",
       "      <td>2018</td>\n",
       "      <td>3</td>\n",
       "      <td>1</td>\n",
       "      <td>3</td>\n",
       "      <td>0</td>\n",
       "    </tr>\n",
       "    <tr>\n",
       "      <th>2018-03-01 01:00:00</th>\n",
       "      <td>85</td>\n",
       "      <td>NaN</td>\n",
       "      <td>2018</td>\n",
       "      <td>3</td>\n",
       "      <td>1</td>\n",
       "      <td>3</td>\n",
       "      <td>1</td>\n",
       "    </tr>\n",
       "    <tr>\n",
       "      <th>2018-03-01 02:00:00</th>\n",
       "      <td>71</td>\n",
       "      <td>93.333333</td>\n",
       "      <td>2018</td>\n",
       "      <td>3</td>\n",
       "      <td>1</td>\n",
       "      <td>3</td>\n",
       "      <td>2</td>\n",
       "    </tr>\n",
       "    <tr>\n",
       "      <th>2018-03-01 03:00:00</th>\n",
       "      <td>66</td>\n",
       "      <td>74.000000</td>\n",
       "      <td>2018</td>\n",
       "      <td>3</td>\n",
       "      <td>1</td>\n",
       "      <td>3</td>\n",
       "      <td>3</td>\n",
       "    </tr>\n",
       "    <tr>\n",
       "      <th>2018-03-01 04:00:00</th>\n",
       "      <td>43</td>\n",
       "      <td>60.000000</td>\n",
       "      <td>2018</td>\n",
       "      <td>3</td>\n",
       "      <td>1</td>\n",
       "      <td>3</td>\n",
       "      <td>4</td>\n",
       "    </tr>\n",
       "  </tbody>\n",
       "</table>\n",
       "</div>"
      ],
      "text/plain": [
       "                     num_orders  rolling_mean  year  month  day  dayofweek  \\\n",
       "datetime                                                                     \n",
       "2018-03-01 00:00:00         124           NaN  2018      3    1          3   \n",
       "2018-03-01 01:00:00          85           NaN  2018      3    1          3   \n",
       "2018-03-01 02:00:00          71     93.333333  2018      3    1          3   \n",
       "2018-03-01 03:00:00          66     74.000000  2018      3    1          3   \n",
       "2018-03-01 04:00:00          43     60.000000  2018      3    1          3   \n",
       "\n",
       "                     hour  \n",
       "datetime                   \n",
       "2018-03-01 00:00:00     0  \n",
       "2018-03-01 01:00:00     1  \n",
       "2018-03-01 02:00:00     2  \n",
       "2018-03-01 03:00:00     3  \n",
       "2018-03-01 04:00:00     4  "
      ]
     },
     "execution_count": 20,
     "metadata": {},
     "output_type": "execute_result"
    }
   ],
   "source": [
    "df.head()"
   ]
  },
  {
   "cell_type": "code",
   "execution_count": 21,
   "metadata": {},
   "outputs": [],
   "source": [
    "df['num_orders_shifted'] = df['num_orders'].shift(2)"
   ]
  },
  {
   "cell_type": "code",
   "execution_count": 22,
   "metadata": {},
   "outputs": [],
   "source": [
    "df['rolling_mean_num_orders'] = df['num_orders_shifted'].rolling(3).mean()"
   ]
  },
  {
   "cell_type": "code",
   "execution_count": 23,
   "metadata": {},
   "outputs": [
    {
     "data": {
      "text/html": [
       "<div>\n",
       "<style scoped>\n",
       "    .dataframe tbody tr th:only-of-type {\n",
       "        vertical-align: middle;\n",
       "    }\n",
       "\n",
       "    .dataframe tbody tr th {\n",
       "        vertical-align: top;\n",
       "    }\n",
       "\n",
       "    .dataframe thead th {\n",
       "        text-align: right;\n",
       "    }\n",
       "</style>\n",
       "<table border=\"1\" class=\"dataframe\">\n",
       "  <thead>\n",
       "    <tr style=\"text-align: right;\">\n",
       "      <th></th>\n",
       "      <th>num_orders</th>\n",
       "      <th>rolling_mean</th>\n",
       "      <th>year</th>\n",
       "      <th>month</th>\n",
       "      <th>day</th>\n",
       "      <th>dayofweek</th>\n",
       "      <th>hour</th>\n",
       "      <th>num_orders_shifted</th>\n",
       "      <th>rolling_mean_num_orders</th>\n",
       "    </tr>\n",
       "    <tr>\n",
       "      <th>datetime</th>\n",
       "      <th></th>\n",
       "      <th></th>\n",
       "      <th></th>\n",
       "      <th></th>\n",
       "      <th></th>\n",
       "      <th></th>\n",
       "      <th></th>\n",
       "      <th></th>\n",
       "      <th></th>\n",
       "    </tr>\n",
       "  </thead>\n",
       "  <tbody>\n",
       "    <tr>\n",
       "      <th>2018-03-01 00:00:00</th>\n",
       "      <td>124</td>\n",
       "      <td>NaN</td>\n",
       "      <td>2018</td>\n",
       "      <td>3</td>\n",
       "      <td>1</td>\n",
       "      <td>3</td>\n",
       "      <td>0</td>\n",
       "      <td>NaN</td>\n",
       "      <td>NaN</td>\n",
       "    </tr>\n",
       "    <tr>\n",
       "      <th>2018-03-01 01:00:00</th>\n",
       "      <td>85</td>\n",
       "      <td>NaN</td>\n",
       "      <td>2018</td>\n",
       "      <td>3</td>\n",
       "      <td>1</td>\n",
       "      <td>3</td>\n",
       "      <td>1</td>\n",
       "      <td>NaN</td>\n",
       "      <td>NaN</td>\n",
       "    </tr>\n",
       "    <tr>\n",
       "      <th>2018-03-01 02:00:00</th>\n",
       "      <td>71</td>\n",
       "      <td>93.333333</td>\n",
       "      <td>2018</td>\n",
       "      <td>3</td>\n",
       "      <td>1</td>\n",
       "      <td>3</td>\n",
       "      <td>2</td>\n",
       "      <td>124.0</td>\n",
       "      <td>NaN</td>\n",
       "    </tr>\n",
       "    <tr>\n",
       "      <th>2018-03-01 03:00:00</th>\n",
       "      <td>66</td>\n",
       "      <td>74.000000</td>\n",
       "      <td>2018</td>\n",
       "      <td>3</td>\n",
       "      <td>1</td>\n",
       "      <td>3</td>\n",
       "      <td>3</td>\n",
       "      <td>85.0</td>\n",
       "      <td>NaN</td>\n",
       "    </tr>\n",
       "    <tr>\n",
       "      <th>2018-03-01 04:00:00</th>\n",
       "      <td>43</td>\n",
       "      <td>60.000000</td>\n",
       "      <td>2018</td>\n",
       "      <td>3</td>\n",
       "      <td>1</td>\n",
       "      <td>3</td>\n",
       "      <td>4</td>\n",
       "      <td>71.0</td>\n",
       "      <td>93.333333</td>\n",
       "    </tr>\n",
       "  </tbody>\n",
       "</table>\n",
       "</div>"
      ],
      "text/plain": [
       "                     num_orders  rolling_mean  year  month  day  dayofweek  \\\n",
       "datetime                                                                     \n",
       "2018-03-01 00:00:00         124           NaN  2018      3    1          3   \n",
       "2018-03-01 01:00:00          85           NaN  2018      3    1          3   \n",
       "2018-03-01 02:00:00          71     93.333333  2018      3    1          3   \n",
       "2018-03-01 03:00:00          66     74.000000  2018      3    1          3   \n",
       "2018-03-01 04:00:00          43     60.000000  2018      3    1          3   \n",
       "\n",
       "                     hour  num_orders_shifted  rolling_mean_num_orders  \n",
       "datetime                                                                \n",
       "2018-03-01 00:00:00     0                 NaN                      NaN  \n",
       "2018-03-01 01:00:00     1                 NaN                      NaN  \n",
       "2018-03-01 02:00:00     2               124.0                      NaN  \n",
       "2018-03-01 03:00:00     3                85.0                      NaN  \n",
       "2018-03-01 04:00:00     4                71.0                93.333333  "
      ]
     },
     "execution_count": 23,
     "metadata": {},
     "output_type": "execute_result"
    }
   ],
   "source": [
    "df.head()"
   ]
  },
  {
   "cell_type": "markdown",
   "metadata": {},
   "source": [
    "Delete rows with missing values."
   ]
  },
  {
   "cell_type": "code",
   "execution_count": 24,
   "metadata": {},
   "outputs": [],
   "source": [
    "df.drop('rolling_mean', axis=1, inplace=True)"
   ]
  },
  {
   "cell_type": "code",
   "execution_count": 25,
   "metadata": {},
   "outputs": [],
   "source": [
    "df.dropna(inplace=True)"
   ]
  },
  {
   "cell_type": "markdown",
   "metadata": {},
   "source": [
    "rolling_mean column was deleted."
   ]
  },
  {
   "cell_type": "markdown",
   "metadata": {},
   "source": [
    "Split the data to training and test sets"
   ]
  },
  {
   "cell_type": "code",
   "execution_count": 26,
   "metadata": {},
   "outputs": [],
   "source": [
    "train, test = train_test_split(df, shuffle=False, test_size=0.1)"
   ]
  },
  {
   "cell_type": "code",
   "execution_count": 27,
   "metadata": {},
   "outputs": [],
   "source": [
    "features_train = train.drop('num_orders', axis=1)\n",
    "target_train = train['num_orders']\n",
    "features_test = test.drop('num_orders', axis=1)\n",
    "target_test = test['num_orders']"
   ]
  },
  {
   "cell_type": "code",
   "execution_count": 28,
   "metadata": {},
   "outputs": [],
   "source": [
    "model_lin_reg = LinearRegression()\n",
    "model_lin_reg.fit(features_train, target_train)\n",
    "train_pred_lin_reg = model_lin_reg.predict(features_train)"
   ]
  },
  {
   "cell_type": "code",
   "execution_count": 29,
   "metadata": {},
   "outputs": [
    {
     "name": "stdout",
     "output_type": "stream",
     "text": [
      "RMSE of the training set: 33.247810208408445\n"
     ]
    }
   ],
   "source": [
    "print(\"RMSE of the training set:\", mean_squared_error(target_train, train_pred_lin_reg) ** 0.5)"
   ]
  },
  {
   "cell_type": "markdown",
   "metadata": {},
   "source": [
    "Lightgbm with 'out of the box' parameters"
   ]
  },
  {
   "cell_type": "code",
   "execution_count": 30,
   "metadata": {},
   "outputs": [],
   "source": [
    "train_data = lgb.Dataset(features_train, label=target_train)\n",
    "test_data = lgb.Dataset(features_test, label=target_test)"
   ]
  },
  {
   "cell_type": "code",
   "execution_count": 31,
   "metadata": {},
   "outputs": [],
   "source": [
    "parameters = {\n",
    "    'application': 'regression',\n",
    "    'objective': 'regression',\n",
    "    'metric': 'rmse',\n",
    "    'is_unbalance': 'true',\n",
    "    'boosting': 'gbdt',\n",
    "    'num_leaves': 31,\n",
    "    'feature_fraction': 0.5,\n",
    "    'bagging_fraction': 0.5,\n",
    "    'bagging_freq': 20,\n",
    "    'learning_rate': 0.05,\n",
    "    'verbose': 0,\n",
    "}"
   ]
  },
  {
   "cell_type": "code",
   "execution_count": 32,
   "metadata": {},
   "outputs": [
    {
     "name": "stdout",
     "output_type": "stream",
     "text": [
      "[LightGBM] [Warning] objective is set=regression, application=regression will be ignored. Current value: objective=regression\n",
      "[LightGBM] [Warning] objective is set=regression, application=regression will be ignored. Current value: objective=regression\n",
      "[LightGBM] [Warning] Auto-choosing col-wise multi-threading, the overhead of testing was 0.000282 seconds.\n",
      "You can set `force_col_wise=true` to remove the overhead.\n",
      "[LightGBM] [Warning] objective is set=regression, application=regression will be ignored. Current value: objective=regression\n",
      "[1]\tvalid_0's rmse: 82.9859\n",
      "Training until validation scores don't improve for 20 rounds\n",
      "[2]\tvalid_0's rmse: 81.4675\n",
      "[3]\tvalid_0's rmse: 80.3513\n",
      "[4]\tvalid_0's rmse: 78.7232\n",
      "[5]\tvalid_0's rmse: 77.3576\n",
      "[6]\tvalid_0's rmse: 76.058\n",
      "[7]\tvalid_0's rmse: 74.9242\n",
      "[8]\tvalid_0's rmse: 73.7611\n",
      "[9]\tvalid_0's rmse: 72.8892\n",
      "[10]\tvalid_0's rmse: 72.0762\n",
      "[11]\tvalid_0's rmse: 71.0552\n",
      "[12]\tvalid_0's rmse: 70.444\n",
      "[13]\tvalid_0's rmse: 69.879\n",
      "[14]\tvalid_0's rmse: 69.1607\n",
      "[15]\tvalid_0's rmse: 68.3512\n",
      "[16]\tvalid_0's rmse: 67.9809\n",
      "[17]\tvalid_0's rmse: 67.6518\n",
      "[18]\tvalid_0's rmse: 66.839\n",
      "[19]\tvalid_0's rmse: 66.1314\n",
      "[20]\tvalid_0's rmse: 65.7237\n",
      "[21]\tvalid_0's rmse: 65.3235\n",
      "[22]\tvalid_0's rmse: 65.0358\n",
      "[23]\tvalid_0's rmse: 64.4664\n",
      "[24]\tvalid_0's rmse: 64.1076\n",
      "[25]\tvalid_0's rmse: 63.484\n",
      "[26]\tvalid_0's rmse: 62.8006\n",
      "[27]\tvalid_0's rmse: 62.2934\n",
      "[28]\tvalid_0's rmse: 61.7666\n",
      "[29]\tvalid_0's rmse: 61.2895\n",
      "[30]\tvalid_0's rmse: 60.7582\n",
      "[31]\tvalid_0's rmse: 60.0641\n",
      "[32]\tvalid_0's rmse: 59.8245\n",
      "[33]\tvalid_0's rmse: 59.3411\n",
      "[34]\tvalid_0's rmse: 58.9554\n",
      "[35]\tvalid_0's rmse: 58.4922\n",
      "[36]\tvalid_0's rmse: 58.252\n",
      "[37]\tvalid_0's rmse: 57.9674\n",
      "[38]\tvalid_0's rmse: 57.1646\n",
      "[39]\tvalid_0's rmse: 56.9749\n",
      "[40]\tvalid_0's rmse: 56.7417\n",
      "[41]\tvalid_0's rmse: 56.3233\n",
      "[42]\tvalid_0's rmse: 55.8591\n",
      "[43]\tvalid_0's rmse: 55.4768\n",
      "[44]\tvalid_0's rmse: 55.2379\n",
      "[45]\tvalid_0's rmse: 55.0127\n",
      "[46]\tvalid_0's rmse: 54.7185\n",
      "[47]\tvalid_0's rmse: 54.337\n",
      "[48]\tvalid_0's rmse: 54.1199\n",
      "[49]\tvalid_0's rmse: 53.8904\n",
      "[50]\tvalid_0's rmse: 53.5887\n",
      "[51]\tvalid_0's rmse: 53.4173\n",
      "[52]\tvalid_0's rmse: 53.288\n",
      "[53]\tvalid_0's rmse: 53.1018\n",
      "[54]\tvalid_0's rmse: 52.8209\n",
      "[55]\tvalid_0's rmse: 52.5828\n",
      "[56]\tvalid_0's rmse: 52.4066\n",
      "[57]\tvalid_0's rmse: 52.1452\n",
      "[58]\tvalid_0's rmse: 51.9773\n",
      "[59]\tvalid_0's rmse: 51.862\n",
      "[60]\tvalid_0's rmse: 51.7132\n",
      "[61]\tvalid_0's rmse: 51.5616\n",
      "[62]\tvalid_0's rmse: 51.459\n",
      "[63]\tvalid_0's rmse: 51.3023\n",
      "[64]\tvalid_0's rmse: 51.0643\n",
      "[65]\tvalid_0's rmse: 50.9662\n",
      "[66]\tvalid_0's rmse: 50.7086\n",
      "[67]\tvalid_0's rmse: 50.5615\n",
      "[68]\tvalid_0's rmse: 50.3635\n",
      "[69]\tvalid_0's rmse: 50.2714\n",
      "[70]\tvalid_0's rmse: 50.1555\n",
      "[71]\tvalid_0's rmse: 50.0298\n",
      "[72]\tvalid_0's rmse: 49.9486\n",
      "[73]\tvalid_0's rmse: 49.9378\n",
      "[74]\tvalid_0's rmse: 49.8701\n",
      "[75]\tvalid_0's rmse: 49.6868\n",
      "[76]\tvalid_0's rmse: 49.6008\n",
      "[77]\tvalid_0's rmse: 49.0814\n",
      "[78]\tvalid_0's rmse: 49.028\n",
      "[79]\tvalid_0's rmse: 48.9321\n",
      "[80]\tvalid_0's rmse: 48.8643\n",
      "[81]\tvalid_0's rmse: 48.7967\n",
      "[82]\tvalid_0's rmse: 48.7153\n",
      "[83]\tvalid_0's rmse: 48.4056\n",
      "[84]\tvalid_0's rmse: 48.3504\n",
      "[85]\tvalid_0's rmse: 48.3622\n",
      "[86]\tvalid_0's rmse: 48.3247\n",
      "[87]\tvalid_0's rmse: 48.2385\n",
      "[88]\tvalid_0's rmse: 48.1857\n",
      "[89]\tvalid_0's rmse: 48.0411\n",
      "[90]\tvalid_0's rmse: 47.9975\n",
      "[91]\tvalid_0's rmse: 47.9058\n",
      "[92]\tvalid_0's rmse: 47.8762\n",
      "[93]\tvalid_0's rmse: 47.7905\n",
      "[94]\tvalid_0's rmse: 47.773\n",
      "[95]\tvalid_0's rmse: 47.6779\n",
      "[96]\tvalid_0's rmse: 47.6465\n",
      "[97]\tvalid_0's rmse: 47.6645\n",
      "[98]\tvalid_0's rmse: 47.6515\n",
      "[99]\tvalid_0's rmse: 47.6389\n",
      "[100]\tvalid_0's rmse: 47.6469\n",
      "[101]\tvalid_0's rmse: 47.6209\n",
      "[102]\tvalid_0's rmse: 47.5747\n",
      "[103]\tvalid_0's rmse: 47.183\n",
      "[104]\tvalid_0's rmse: 47.1519\n",
      "[105]\tvalid_0's rmse: 47.1035\n",
      "[106]\tvalid_0's rmse: 47.0574\n",
      "[107]\tvalid_0's rmse: 47.0267\n",
      "[108]\tvalid_0's rmse: 46.9822\n",
      "[109]\tvalid_0's rmse: 46.9653\n",
      "[110]\tvalid_0's rmse: 46.9135\n",
      "[111]\tvalid_0's rmse: 46.784\n",
      "[112]\tvalid_0's rmse: 46.7937\n",
      "[113]\tvalid_0's rmse: 46.8214\n",
      "[114]\tvalid_0's rmse: 46.8299\n",
      "[115]\tvalid_0's rmse: 46.8551\n",
      "[116]\tvalid_0's rmse: 46.8185\n",
      "[117]\tvalid_0's rmse: 46.7698\n",
      "[118]\tvalid_0's rmse: 46.7722\n",
      "[119]\tvalid_0's rmse: 46.4511\n",
      "[120]\tvalid_0's rmse: 46.4228\n",
      "[121]\tvalid_0's rmse: 46.3784\n",
      "[122]\tvalid_0's rmse: 46.3164\n",
      "[123]\tvalid_0's rmse: 46.1859\n",
      "[124]\tvalid_0's rmse: 46.024\n",
      "[125]\tvalid_0's rmse: 45.9189\n",
      "[126]\tvalid_0's rmse: 45.8592\n",
      "[127]\tvalid_0's rmse: 45.6774\n",
      "[128]\tvalid_0's rmse: 45.5687\n",
      "[129]\tvalid_0's rmse: 45.4712\n",
      "[130]\tvalid_0's rmse: 45.3807\n",
      "[131]\tvalid_0's rmse: 45.2962\n",
      "[132]\tvalid_0's rmse: 45.1417\n",
      "[133]\tvalid_0's rmse: 45.0995\n",
      "[134]\tvalid_0's rmse: 45.0279\n",
      "[135]\tvalid_0's rmse: 44.9611\n",
      "[136]\tvalid_0's rmse: 44.7003\n",
      "[137]\tvalid_0's rmse: 44.7064\n",
      "[138]\tvalid_0's rmse: 44.6815\n",
      "[139]\tvalid_0's rmse: 44.6238\n",
      "[140]\tvalid_0's rmse: 44.5586\n",
      "[141]\tvalid_0's rmse: 44.4372\n",
      "[142]\tvalid_0's rmse: 44.4712\n",
      "[143]\tvalid_0's rmse: 44.4352\n",
      "[144]\tvalid_0's rmse: 44.4357\n",
      "[145]\tvalid_0's rmse: 44.4474\n",
      "[146]\tvalid_0's rmse: 44.3968\n",
      "[147]\tvalid_0's rmse: 44.3584\n",
      "[148]\tvalid_0's rmse: 44.3753\n",
      "[149]\tvalid_0's rmse: 44.3882\n",
      "[150]\tvalid_0's rmse: 44.3495\n",
      "[151]\tvalid_0's rmse: 44.2979\n",
      "[152]\tvalid_0's rmse: 44.3361\n",
      "[153]\tvalid_0's rmse: 44.2502\n",
      "[154]\tvalid_0's rmse: 44.277\n",
      "[155]\tvalid_0's rmse: 44.1159\n",
      "[156]\tvalid_0's rmse: 44.0806\n",
      "[157]\tvalid_0's rmse: 44.0938\n",
      "[158]\tvalid_0's rmse: 44.1098\n",
      "[159]\tvalid_0's rmse: 44.0959\n",
      "[160]\tvalid_0's rmse: 44.0133\n",
      "[161]\tvalid_0's rmse: 43.9873\n",
      "[162]\tvalid_0's rmse: 43.9788\n",
      "[163]\tvalid_0's rmse: 44.0025\n",
      "[164]\tvalid_0's rmse: 43.978\n",
      "[165]\tvalid_0's rmse: 43.9589\n",
      "[166]\tvalid_0's rmse: 43.9431\n",
      "[167]\tvalid_0's rmse: 43.9051\n",
      "[168]\tvalid_0's rmse: 43.8636\n",
      "[169]\tvalid_0's rmse: 43.8505\n",
      "[170]\tvalid_0's rmse: 43.8387\n",
      "[171]\tvalid_0's rmse: 43.8301\n",
      "[172]\tvalid_0's rmse: 43.811\n",
      "[173]\tvalid_0's rmse: 43.7692\n",
      "[174]\tvalid_0's rmse: 43.777\n",
      "[175]\tvalid_0's rmse: 43.8024\n",
      "[176]\tvalid_0's rmse: 43.8224\n",
      "[177]\tvalid_0's rmse: 43.8352\n",
      "[178]\tvalid_0's rmse: 43.8184\n",
      "[179]\tvalid_0's rmse: 43.8171\n",
      "[180]\tvalid_0's rmse: 43.8048\n",
      "[181]\tvalid_0's rmse: 43.8302\n",
      "[182]\tvalid_0's rmse: 43.8632\n",
      "[183]\tvalid_0's rmse: 43.8963\n",
      "[184]\tvalid_0's rmse: 43.9224\n",
      "[185]\tvalid_0's rmse: 43.961\n",
      "[186]\tvalid_0's rmse: 43.9902\n",
      "[187]\tvalid_0's rmse: 44.0452\n",
      "[188]\tvalid_0's rmse: 44.0678\n",
      "[189]\tvalid_0's rmse: 44.0642\n",
      "[190]\tvalid_0's rmse: 44.0961\n",
      "[191]\tvalid_0's rmse: 44.1099\n",
      "[192]\tvalid_0's rmse: 44.1127\n",
      "[193]\tvalid_0's rmse: 44.1437\n",
      "Early stopping, best iteration is:\n",
      "[173]\tvalid_0's rmse: 43.7692\n"
     ]
    }
   ],
   "source": [
    "model_lightgbm = lgb.train(parameters,\n",
    "                       train_data,\n",
    "                       valid_sets=test_data,                           \n",
    "                       num_boost_round=500,\n",
    "                       early_stopping_rounds=20,\n",
    "                       )"
   ]
  },
  {
   "cell_type": "markdown",
   "metadata": {},
   "source": [
    "Cross validation parameters selection"
   ]
  },
  {
   "cell_type": "code",
   "execution_count": 33,
   "metadata": {},
   "outputs": [],
   "source": [
    "tscv = TimeSeriesSplit()"
   ]
  },
  {
   "cell_type": "code",
   "execution_count": 34,
   "metadata": {},
   "outputs": [],
   "source": [
    "parameters = {\n",
    "    'max_depth': (3, 5, 10, 13),\n",
    "    \"n_estimators\": (30, 50, 100, 300),\n",
    "    \"num_leaves\": (3, 5, 10, 15, 30)\n",
    "}"
   ]
  },
  {
   "cell_type": "code",
   "execution_count": 35,
   "metadata": {},
   "outputs": [
    {
     "name": "stdout",
     "output_type": "stream",
     "text": [
      "Fitting 5 folds for each of 80 candidates, totalling 400 fits\n"
     ]
    },
    {
     "data": {
      "text/plain": [
       "RandomizedSearchCV(cv=TimeSeriesSplit(gap=0, max_train_size=None, n_splits=5, test_size=None),\n",
       "                   estimator=LGBMRegressor(), n_iter=100, n_jobs=4,\n",
       "                   param_distributions={'max_depth': (3, 5, 10, 13),\n",
       "                                        'n_estimators': (30, 50, 100, 300),\n",
       "                                        'num_leaves': (3, 5, 10, 15, 30)},\n",
       "                   verbose=1)"
      ]
     },
     "execution_count": 35,
     "metadata": {},
     "output_type": "execute_result"
    }
   ],
   "source": [
    "rs_cv = RandomizedSearchCV(estimator=lgb.LGBMRegressor(), param_distributions=parameters, cv = tscv,n_jobs=4,\n",
    "                           n_iter=100,verbose=1)\n",
    "rs_cv.fit(features_train, target_train,verbose=1)"
   ]
  },
  {
   "cell_type": "code",
   "execution_count": 36,
   "metadata": {},
   "outputs": [
    {
     "data": {
      "text/plain": [
       "{'num_leaves': 30, 'n_estimators': 50, 'max_depth': 10}"
      ]
     },
     "execution_count": 36,
     "metadata": {},
     "output_type": "execute_result"
    }
   ],
   "source": [
    "rs_cv.best_params_"
   ]
  },
  {
   "cell_type": "markdown",
   "metadata": {},
   "source": [
    "## Testing"
   ]
  },
  {
   "cell_type": "code",
   "execution_count": 37,
   "metadata": {},
   "outputs": [
    {
     "name": "stdout",
     "output_type": "stream",
     "text": [
      "RMSE of the training set for linear regression:  59.94\n"
     ]
    }
   ],
   "source": [
    "test_pred_lin_reg = model_lin_reg.predict(features_test)\n",
    "print(\"RMSE of the training set for linear regression: \", \\\n",
    "      \"{:.2f}\".format(mean_squared_error(target_test, test_pred_lin_reg)** 0.5))"
   ]
  },
  {
   "cell_type": "code",
   "execution_count": 38,
   "metadata": {},
   "outputs": [
    {
     "name": "stdout",
     "output_type": "stream",
     "text": [
      "RMSE RMSE of the training set for lightgbm:  43.77\n"
     ]
    }
   ],
   "source": [
    "predictions_model_lightgbm = model_lightgbm.predict(features_test)\n",
    "print(\"RMSE RMSE of the training set for lightgbm: \", \\\n",
    "      \"{:.2f}\".format(mean_squared_error(target_test, predictions_model_lightgbm)** 0.5))"
   ]
  },
  {
   "cell_type": "code",
   "execution_count": 39,
   "metadata": {},
   "outputs": [
    {
     "name": "stdout",
     "output_type": "stream",
     "text": [
      "RMSE RMSE of the training set for lightgbm with СV:  44.85\n"
     ]
    }
   ],
   "source": [
    "rs_cv_predict = rs_cv.predict(features_test)\n",
    "print(\"RMSE RMSE of the training set for lightgbm with СV: \", \\\n",
    "      \"{:.2f}\".format(mean_squared_error(target_test, rs_cv_predict)** 0.5))"
   ]
  },
  {
   "cell_type": "markdown",
   "metadata": {},
   "source": [
    "Graphs of initial and predicted series were added."
   ]
  },
  {
   "cell_type": "markdown",
   "metadata": {},
   "source": [
    "Lightgbm model with standard parameters shows the best metric on the test set."
   ]
  },
  {
   "cell_type": "code",
   "execution_count": 40,
   "metadata": {},
   "outputs": [
    {
     "data": {
      "text/plain": [
       "[<matplotlib.lines.Line2D at 0x25173082880>]"
      ]
     },
     "execution_count": 40,
     "metadata": {},
     "output_type": "execute_result"
    },
    {
     "data": {
      "image/png": "[encoded data removed]",
      "text/plain": [
       "<Figure size 1440x432 with 1 Axes>"
      ]
     },
     "metadata": {
      "needs_background": "light"
     },
     "output_type": "display_data"
    }
   ],
   "source": [
    "plt.figure(figsize=(20, 6));\n",
    "\n",
    "plt.plot(target_test.to_numpy())\n",
    "\n",
    "plt.plot(test_pred_lin_reg)"
   ]
  },
  {
   "cell_type": "code",
   "execution_count": 41,
   "metadata": {},
   "outputs": [
    {
     "data": {
      "text/plain": [
       "[<matplotlib.lines.Line2D at 0x251730b9c10>]"
      ]
     },
     "execution_count": 41,
     "metadata": {},
     "output_type": "execute_result"
    },
    {
     "data": {
      "image/png": "[encoded data removed]",
      "text/plain": [
       "<Figure size 1440x432 with 1 Axes>"
      ]
     },
     "metadata": {
      "needs_background": "light"
     },
     "output_type": "display_data"
    }
   ],
   "source": [
    "plt.figure(figsize=(20, 6));\n",
    "\n",
    "plt.plot(target_test.to_numpy())\n",
    "\n",
    "plt.plot(predictions_model_lightgbm)"
   ]
  },
  {
   "cell_type": "code",
   "execution_count": 42,
   "metadata": {},
   "outputs": [
    {
     "data": {
      "text/plain": [
       "[<matplotlib.lines.Line2D at 0x251732c3880>]"
      ]
     },
     "execution_count": 42,
     "metadata": {},
     "output_type": "execute_result"
    },
    {
     "data": {
      "image/png": "[encoded data removed]",
      "text/plain": [
       "<Figure size 1440x432 with 1 Axes>"
      ]
     },
     "metadata": {
      "needs_background": "light"
     },
     "output_type": "display_data"
    }
   ],
   "source": [
    "plt.figure(figsize=(20, 6));\n",
    "\n",
    "plt.plot(target_test.to_numpy())\n",
    "\n",
    "plt.plot(rs_cv_predict)"
   ]
  },
  {
   "cell_type": "markdown",
   "metadata": {},
   "source": [
    "Graphs show lightgbm model predictions describing the test set quite well, except for several peak values."
   ]
  },
  {
   "cell_type": "markdown",
   "metadata": {},
   "source": [
    "## Conclusion"
   ]
  },
  {
   "cell_type": "markdown",
   "metadata": {},
   "source": [
    "Lightgbm model with standard heperparameters shows the best RMSE metric (43.77) on the test set. Quality of the model corresponds to the set goal. "
   ]
  }
 ],
 "metadata": {
  "ExecuteTimeLog": [
   {
    "duration": 640,
    "start_time": "2021-11-24T17:05:29.130Z"
   },
   {
    "duration": 36,
    "start_time": "2021-11-24T17:05:52.506Z"
   },
   {
    "duration": 14,
    "start_time": "2021-11-24T17:05:59.264Z"
   },
   {
    "duration": 318,
    "start_time": "2021-11-24T17:06:13.056Z"
   },
   {
    "duration": 14,
    "start_time": "2021-11-24T17:06:16.712Z"
   },
   {
    "duration": 9,
    "start_time": "2021-11-24T17:06:24.072Z"
   },
   {
    "duration": 9,
    "start_time": "2021-11-24T17:10:20.099Z"
   },
   {
    "duration": 6,
    "start_time": "2021-11-24T17:10:27.779Z"
   },
   {
    "duration": 4,
    "start_time": "2021-11-24T17:13:05.580Z"
   },
   {
    "duration": 8,
    "start_time": "2021-11-24T17:13:46.473Z"
   },
   {
    "duration": 5,
    "start_time": "2021-11-24T17:17:11.271Z"
   },
   {
    "duration": 290,
    "start_time": "2021-11-24T17:21:15.424Z"
   },
   {
    "duration": 258,
    "start_time": "2021-11-24T17:21:19.736Z"
   },
   {
    "duration": 10,
    "start_time": "2021-11-24T17:21:25.065Z"
   },
   {
    "duration": 347,
    "start_time": "2021-11-24T17:21:51.867Z"
   },
   {
    "duration": 5,
    "start_time": "2021-11-24T17:23:04.998Z"
   },
   {
    "duration": 270,
    "start_time": "2021-11-24T17:23:12.526Z"
   },
   {
    "duration": 256,
    "start_time": "2021-11-24T17:23:33.591Z"
   },
   {
    "duration": 7,
    "start_time": "2021-11-24T17:23:37.084Z"
   },
   {
    "duration": 4,
    "start_time": "2021-11-24T17:23:57.279Z"
   },
   {
    "duration": 166,
    "start_time": "2021-11-24T17:23:57.751Z"
   },
   {
    "duration": 107,
    "start_time": "2021-11-24T17:24:31.072Z"
   },
   {
    "duration": 8,
    "start_time": "2021-11-24T17:24:33.834Z"
   },
   {
    "duration": 3,
    "start_time": "2021-11-24T17:24:48.015Z"
   },
   {
    "duration": 217,
    "start_time": "2021-11-24T17:24:48.495Z"
   },
   {
    "duration": 8,
    "start_time": "2021-11-24T17:25:06.204Z"
   },
   {
    "duration": 90,
    "start_time": "2021-11-24T17:25:15.361Z"
   },
   {
    "duration": 8,
    "start_time": "2021-11-24T17:25:17.968Z"
   },
   {
    "duration": 4,
    "start_time": "2021-11-24T17:25:43.227Z"
   },
   {
    "duration": 169,
    "start_time": "2021-11-24T17:25:43.835Z"
   },
   {
    "duration": 173,
    "start_time": "2021-11-24T17:25:46.449Z"
   },
   {
    "duration": 252,
    "start_time": "2021-11-24T17:27:03.341Z"
   },
   {
    "duration": 4,
    "start_time": "2021-11-24T17:27:16.673Z"
   },
   {
    "duration": 184,
    "start_time": "2021-11-24T17:27:22.606Z"
   },
   {
    "duration": 271,
    "start_time": "2021-11-24T17:30:39.564Z"
   },
   {
    "duration": 208,
    "start_time": "2021-11-24T17:30:45.414Z"
   },
   {
    "duration": 195,
    "start_time": "2021-11-24T17:32:16.983Z"
   },
   {
    "duration": 197,
    "start_time": "2021-11-24T17:32:22.657Z"
   },
   {
    "duration": 198,
    "start_time": "2021-11-24T17:32:29.308Z"
   },
   {
    "duration": 205,
    "start_time": "2021-11-24T17:32:35.591Z"
   },
   {
    "duration": 262,
    "start_time": "2021-11-24T17:32:40.013Z"
   },
   {
    "duration": 3,
    "start_time": "2021-11-24T17:34:41.269Z"
   },
   {
    "duration": 201,
    "start_time": "2021-11-24T17:34:48.796Z"
   },
   {
    "duration": 198,
    "start_time": "2021-11-24T17:34:52.852Z"
   },
   {
    "duration": 286,
    "start_time": "2021-11-24T17:35:03.229Z"
   },
   {
    "duration": 406,
    "start_time": "2021-11-24T17:35:40.190Z"
   },
   {
    "duration": 317,
    "start_time": "2021-11-24T17:36:16.814Z"
   },
   {
    "duration": 269,
    "start_time": "2021-11-24T17:36:40.992Z"
   },
   {
    "duration": 279,
    "start_time": "2021-11-24T17:37:28.859Z"
   },
   {
    "duration": 276,
    "start_time": "2021-11-24T17:38:32.527Z"
   },
   {
    "duration": 295,
    "start_time": "2021-11-24T17:39:21.829Z"
   },
   {
    "duration": 121,
    "start_time": "2021-11-24T17:42:05.654Z"
   },
   {
    "duration": 273,
    "start_time": "2021-11-24T17:42:38.025Z"
   },
   {
    "duration": 5,
    "start_time": "2021-11-24T17:42:43.093Z"
   },
   {
    "duration": 9,
    "start_time": "2021-11-24T17:45:27.651Z"
   },
   {
    "duration": 10,
    "start_time": "2021-11-24T17:45:34.324Z"
   },
   {
    "duration": 17,
    "start_time": "2021-11-24T17:46:47.431Z"
   },
   {
    "duration": 6,
    "start_time": "2021-11-24T17:47:16.952Z"
   },
   {
    "duration": 6,
    "start_time": "2021-11-24T17:47:51.994Z"
   },
   {
    "duration": 348,
    "start_time": "2021-11-24T17:49:28.347Z"
   },
   {
    "duration": 9,
    "start_time": "2021-11-24T17:49:30.638Z"
   },
   {
    "duration": 4,
    "start_time": "2021-11-24T17:49:30.973Z"
   },
   {
    "duration": 4,
    "start_time": "2021-11-24T17:51:03.392Z"
   },
   {
    "duration": 333,
    "start_time": "2021-11-24T17:51:33.574Z"
   },
   {
    "duration": 6,
    "start_time": "2021-11-24T17:51:36.658Z"
   },
   {
    "duration": 4,
    "start_time": "2021-11-24T17:51:37.011Z"
   },
   {
    "duration": 5,
    "start_time": "2021-11-24T17:52:22.570Z"
   },
   {
    "duration": 5,
    "start_time": "2021-11-24T17:52:40.288Z"
   },
   {
    "duration": 16,
    "start_time": "2021-11-24T17:55:30.226Z"
   },
   {
    "duration": 3,
    "start_time": "2021-11-24T17:56:26.372Z"
   },
   {
    "duration": 3,
    "start_time": "2021-11-24T17:56:37.156Z"
   },
   {
    "duration": 44258,
    "start_time": "2021-11-24T17:56:50.595Z"
   },
   {
    "duration": 14,
    "start_time": "2021-11-24T17:58:29.274Z"
   },
   {
    "duration": 3,
    "start_time": "2021-11-24T17:59:22.810Z"
   },
   {
    "duration": 295,
    "start_time": "2021-11-24T17:59:30.145Z"
   },
   {
    "duration": 3,
    "start_time": "2021-11-24T17:59:46.587Z"
   },
   {
    "duration": 25673,
    "start_time": "2021-11-24T17:59:53.284Z"
   },
   {
    "duration": 12,
    "start_time": "2021-11-24T18:00:58.278Z"
   },
   {
    "duration": 4,
    "start_time": "2021-11-24T18:02:18.415Z"
   },
   {
    "duration": 2,
    "start_time": "2021-11-24T18:02:59.185Z"
   },
   {
    "duration": 7044,
    "start_time": "2021-11-24T18:03:00.010Z"
   },
   {
    "duration": 4,
    "start_time": "2021-11-24T18:03:07.056Z"
   },
   {
    "duration": 10,
    "start_time": "2021-11-24T18:03:07.735Z"
   },
   {
    "duration": 1164,
    "start_time": "2021-11-24T18:08:32.519Z"
   },
   {
    "duration": 32,
    "start_time": "2021-11-24T18:08:33.685Z"
   },
   {
    "duration": 9,
    "start_time": "2021-11-24T18:08:33.719Z"
   },
   {
    "duration": 17,
    "start_time": "2021-11-24T18:08:33.730Z"
   },
   {
    "duration": 9,
    "start_time": "2021-11-24T18:08:33.749Z"
   },
   {
    "duration": 7,
    "start_time": "2021-11-24T18:08:33.759Z"
   },
   {
    "duration": 4,
    "start_time": "2021-11-24T18:08:33.767Z"
   },
   {
    "duration": 13,
    "start_time": "2021-11-24T18:08:33.773Z"
   },
   {
    "duration": 3,
    "start_time": "2021-11-24T18:08:33.788Z"
   },
   {
    "duration": 11,
    "start_time": "2021-11-24T18:08:33.793Z"
   },
   {
    "duration": 6,
    "start_time": "2021-11-24T18:08:33.806Z"
   },
   {
    "duration": 302,
    "start_time": "2021-11-24T18:08:33.814Z"
   },
   {
    "duration": 5,
    "start_time": "2021-11-24T18:08:34.118Z"
   },
   {
    "duration": 189,
    "start_time": "2021-11-24T18:08:34.125Z"
   },
   {
    "duration": 259,
    "start_time": "2021-11-24T18:08:34.316Z"
   },
   {
    "duration": 311,
    "start_time": "2021-11-24T18:08:34.577Z"
   },
   {
    "duration": 4,
    "start_time": "2021-11-24T18:08:34.890Z"
   },
   {
    "duration": 22,
    "start_time": "2021-11-24T18:08:34.895Z"
   },
   {
    "duration": 20,
    "start_time": "2021-11-24T18:08:34.919Z"
   },
   {
    "duration": 9,
    "start_time": "2021-11-24T18:08:34.941Z"
   },
   {
    "duration": 11,
    "start_time": "2021-11-24T18:08:34.952Z"
   },
   {
    "duration": 88,
    "start_time": "2021-11-24T18:08:34.965Z"
   },
   {
    "duration": 13,
    "start_time": "2021-11-24T18:08:35.056Z"
   },
   {
    "duration": 22,
    "start_time": "2021-11-24T18:08:35.072Z"
   },
   {
    "duration": 11,
    "start_time": "2021-11-24T18:08:35.096Z"
   },
   {
    "duration": 1242,
    "start_time": "2021-11-24T18:08:35.108Z"
   },
   {
    "duration": 3,
    "start_time": "2021-11-24T18:08:36.351Z"
   },
   {
    "duration": 11598,
    "start_time": "2021-11-24T18:08:36.356Z"
   },
   {
    "duration": 3,
    "start_time": "2021-11-24T18:08:47.956Z"
   },
   {
    "duration": 7,
    "start_time": "2021-11-24T18:08:47.961Z"
   },
   {
    "duration": 88,
    "start_time": "2021-11-24T18:08:47.969Z"
   },
   {
    "duration": 89,
    "start_time": "2021-11-24T18:08:48.058Z"
   },
   {
    "duration": 366,
    "start_time": "2021-11-26T13:07:26.676Z"
   },
   {
    "duration": 2587,
    "start_time": "2021-11-26T13:07:48.295Z"
   },
   {
    "duration": 7,
    "start_time": "2021-11-26T13:08:00.961Z"
   },
   {
    "duration": 62,
    "start_time": "2021-11-26T13:08:00.971Z"
   },
   {
    "duration": 16,
    "start_time": "2021-11-26T13:08:01.036Z"
   },
   {
    "duration": 37,
    "start_time": "2021-11-26T13:08:01.055Z"
   },
   {
    "duration": 26,
    "start_time": "2021-11-26T13:08:01.094Z"
   },
   {
    "duration": 20,
    "start_time": "2021-11-26T13:08:01.123Z"
   },
   {
    "duration": 17,
    "start_time": "2021-11-26T13:08:01.145Z"
   },
   {
    "duration": 17,
    "start_time": "2021-11-26T13:08:01.164Z"
   },
   {
    "duration": 20,
    "start_time": "2021-11-26T13:08:01.184Z"
   },
   {
    "duration": 25,
    "start_time": "2021-11-26T13:08:01.207Z"
   },
   {
    "duration": 9,
    "start_time": "2021-11-26T13:08:01.235Z"
   },
   {
    "duration": 477,
    "start_time": "2021-11-26T13:08:01.247Z"
   },
   {
    "duration": 485,
    "start_time": "2021-11-26T13:08:24.570Z"
   },
   {
    "duration": 5,
    "start_time": "2021-11-26T13:11:33.825Z"
   },
   {
    "duration": 10,
    "start_time": "2021-11-26T13:12:23.657Z"
   },
   {
    "duration": 1685,
    "start_time": "2021-11-26T13:14:31.662Z"
   },
   {
    "duration": 1956,
    "start_time": "2021-11-26T13:14:54.299Z"
   },
   {
    "duration": 1616,
    "start_time": "2021-11-26T13:15:07.127Z"
   },
   {
    "duration": 7,
    "start_time": "2021-11-26T13:35:20.322Z"
   },
   {
    "duration": 435,
    "start_time": "2021-11-26T13:35:21.184Z"
   },
   {
    "duration": 4,
    "start_time": "2021-11-26T13:35:36.179Z"
   },
   {
    "duration": 14068,
    "start_time": "2021-11-26T13:35:39.143Z"
   },
   {
    "duration": 513,
    "start_time": "2021-11-26T13:36:10.097Z"
   },
   {
    "duration": 16,
    "start_time": "2021-11-26T13:36:15.209Z"
   },
   {
    "duration": 5,
    "start_time": "2021-11-26T13:36:23.754Z"
   },
   {
    "duration": 7,
    "start_time": "2021-11-26T13:36:26.042Z"
   },
   {
    "duration": 15,
    "start_time": "2021-11-26T13:36:55.950Z"
   },
   {
    "duration": 1532,
    "start_time": "2021-11-26T13:37:26.480Z"
   },
   {
    "duration": 39,
    "start_time": "2021-11-26T13:37:28.016Z"
   },
   {
    "duration": 13,
    "start_time": "2021-11-26T13:37:28.058Z"
   },
   {
    "duration": 11,
    "start_time": "2021-11-26T13:37:28.082Z"
   },
   {
    "duration": 14,
    "start_time": "2021-11-26T13:37:28.096Z"
   },
   {
    "duration": 8,
    "start_time": "2021-11-26T13:37:28.112Z"
   },
   {
    "duration": 5,
    "start_time": "2021-11-26T13:37:28.123Z"
   },
   {
    "duration": 51,
    "start_time": "2021-11-26T13:37:28.132Z"
   },
   {
    "duration": 7,
    "start_time": "2021-11-26T13:37:28.188Z"
   },
   {
    "duration": 16,
    "start_time": "2021-11-26T13:37:28.198Z"
   },
   {
    "duration": 10,
    "start_time": "2021-11-26T13:37:28.217Z"
   },
   {
    "duration": 528,
    "start_time": "2021-11-26T13:37:28.230Z"
   },
   {
    "duration": 7,
    "start_time": "2021-11-26T13:37:28.760Z"
   },
   {
    "duration": 321,
    "start_time": "2021-11-26T13:37:28.783Z"
   },
   {
    "duration": 332,
    "start_time": "2021-11-26T13:37:29.107Z"
   },
   {
    "duration": 495,
    "start_time": "2021-11-26T13:37:29.442Z"
   },
   {
    "duration": 652,
    "start_time": "2021-11-26T13:37:29.940Z"
   },
   {
    "duration": 921,
    "start_time": "2021-11-26T13:37:29.674Z"
   },
   {
    "duration": 903,
    "start_time": "2021-11-26T13:37:29.694Z"
   },
   {
    "duration": 894,
    "start_time": "2021-11-26T13:37:29.704Z"
   },
   {
    "duration": 890,
    "start_time": "2021-11-26T13:37:29.710Z"
   },
   {
    "duration": 886,
    "start_time": "2021-11-26T13:37:29.716Z"
   },
   {
    "duration": 884,
    "start_time": "2021-11-26T13:37:29.720Z"
   },
   {
    "duration": 880,
    "start_time": "2021-11-26T13:37:29.725Z"
   },
   {
    "duration": 869,
    "start_time": "2021-11-26T13:37:29.738Z"
   },
   {
    "duration": 866,
    "start_time": "2021-11-26T13:37:29.743Z"
   },
   {
    "duration": 864,
    "start_time": "2021-11-26T13:37:29.748Z"
   },
   {
    "duration": 855,
    "start_time": "2021-11-26T13:37:29.759Z"
   },
   {
    "duration": 852,
    "start_time": "2021-11-26T13:37:29.764Z"
   },
   {
    "duration": 781,
    "start_time": "2021-11-26T13:37:29.837Z"
   },
   {
    "duration": 773,
    "start_time": "2021-11-26T13:37:29.847Z"
   },
   {
    "duration": 764,
    "start_time": "2021-11-26T13:37:29.858Z"
   },
   {
    "duration": 752,
    "start_time": "2021-11-26T13:37:29.872Z"
   },
   {
    "duration": 738,
    "start_time": "2021-11-26T13:37:29.888Z"
   },
   {
    "duration": 723,
    "start_time": "2021-11-26T13:37:29.905Z"
   },
   {
    "duration": 711,
    "start_time": "2021-11-26T13:37:29.919Z"
   },
   {
    "duration": 708,
    "start_time": "2021-11-26T13:37:29.924Z"
   },
   {
    "duration": 744,
    "start_time": "2021-11-26T13:37:29.937Z"
   },
   {
    "duration": 741,
    "start_time": "2021-11-26T13:37:29.942Z"
   },
   {
    "duration": 11,
    "start_time": "2021-11-26T13:38:46.063Z"
   },
   {
    "duration": 1523,
    "start_time": "2021-11-26T13:39:51.567Z"
   },
   {
    "duration": 41,
    "start_time": "2021-11-26T13:39:53.093Z"
   },
   {
    "duration": 17,
    "start_time": "2021-11-26T13:39:53.137Z"
   },
   {
    "duration": 31,
    "start_time": "2021-11-26T13:39:53.158Z"
   },
   {
    "duration": 12,
    "start_time": "2021-11-26T13:39:53.192Z"
   },
   {
    "duration": 10,
    "start_time": "2021-11-26T13:39:53.207Z"
   },
   {
    "duration": 6,
    "start_time": "2021-11-26T13:39:53.219Z"
   },
   {
    "duration": 10,
    "start_time": "2021-11-26T13:39:53.229Z"
   },
   {
    "duration": 5,
    "start_time": "2021-11-26T13:39:53.284Z"
   },
   {
    "duration": 18,
    "start_time": "2021-11-26T13:39:53.292Z"
   },
   {
    "duration": 10,
    "start_time": "2021-11-26T13:39:53.312Z"
   },
   {
    "duration": 520,
    "start_time": "2021-11-26T13:39:53.325Z"
   },
   {
    "duration": 9,
    "start_time": "2021-11-26T13:39:53.848Z"
   },
   {
    "duration": 324,
    "start_time": "2021-11-26T13:39:53.860Z"
   },
   {
    "duration": 329,
    "start_time": "2021-11-26T13:39:54.188Z"
   },
   {
    "duration": 494,
    "start_time": "2021-11-26T13:39:54.520Z"
   },
   {
    "duration": 10,
    "start_time": "2021-11-26T13:39:55.018Z"
   },
   {
    "duration": 1627,
    "start_time": "2021-11-26T13:39:55.030Z"
   },
   {
    "duration": 919,
    "start_time": "2021-11-26T13:39:55.743Z"
   },
   {
    "duration": 911,
    "start_time": "2021-11-26T13:39:55.752Z"
   },
   {
    "duration": 767,
    "start_time": "2021-11-26T13:39:55.899Z"
   },
   {
    "duration": 766,
    "start_time": "2021-11-26T13:39:55.902Z"
   },
   {
    "duration": 766,
    "start_time": "2021-11-26T13:39:55.904Z"
   },
   {
    "duration": 756,
    "start_time": "2021-11-26T13:39:55.916Z"
   },
   {
    "duration": 753,
    "start_time": "2021-11-26T13:39:55.921Z"
   },
   {
    "duration": 745,
    "start_time": "2021-11-26T13:39:55.931Z"
   },
   {
    "duration": 741,
    "start_time": "2021-11-26T13:39:55.937Z"
   },
   {
    "duration": 730,
    "start_time": "2021-11-26T13:39:55.951Z"
   },
   {
    "duration": 725,
    "start_time": "2021-11-26T13:39:55.958Z"
   },
   {
    "duration": 718,
    "start_time": "2021-11-26T13:39:55.967Z"
   },
   {
    "duration": 717,
    "start_time": "2021-11-26T13:39:55.971Z"
   },
   {
    "duration": 709,
    "start_time": "2021-11-26T13:39:55.981Z"
   },
   {
    "duration": 704,
    "start_time": "2021-11-26T13:39:55.987Z"
   },
   {
    "duration": 703,
    "start_time": "2021-11-26T13:39:55.990Z"
   },
   {
    "duration": 690,
    "start_time": "2021-11-26T13:39:56.005Z"
   },
   {
    "duration": 677,
    "start_time": "2021-11-26T13:39:56.020Z"
   },
   {
    "duration": 666,
    "start_time": "2021-11-26T13:39:56.033Z"
   },
   {
    "duration": 664,
    "start_time": "2021-11-26T13:39:56.037Z"
   },
   {
    "duration": 661,
    "start_time": "2021-11-26T13:39:56.043Z"
   },
   {
    "duration": 658,
    "start_time": "2021-11-26T13:39:56.048Z"
   },
   {
    "duration": 12,
    "start_time": "2021-11-26T13:40:32.649Z"
   },
   {
    "duration": 2529,
    "start_time": "2021-11-26T13:40:36.045Z"
   },
   {
    "duration": 6,
    "start_time": "2021-11-26T13:40:53.679Z"
   },
   {
    "duration": 8,
    "start_time": "2021-11-26T13:40:57.245Z"
   },
   {
    "duration": 15,
    "start_time": "2021-11-26T13:40:58.131Z"
   },
   {
    "duration": 14,
    "start_time": "2021-11-26T13:40:59.004Z"
   },
   {
    "duration": 6,
    "start_time": "2021-11-26T13:42:10.768Z"
   },
   {
    "duration": 4,
    "start_time": "2021-11-26T13:42:15.331Z"
   },
   {
    "duration": 7,
    "start_time": "2021-11-26T13:42:17.414Z"
   },
   {
    "duration": 9,
    "start_time": "2021-11-26T13:42:21.596Z"
   },
   {
    "duration": 14,
    "start_time": "2021-11-26T13:42:25.186Z"
   },
   {
    "duration": 1954,
    "start_time": "2021-11-26T13:44:51.278Z"
   },
   {
    "duration": 50,
    "start_time": "2021-11-26T13:44:53.235Z"
   },
   {
    "duration": 14,
    "start_time": "2021-11-26T13:44:53.288Z"
   },
   {
    "duration": 10,
    "start_time": "2021-11-26T13:44:53.306Z"
   },
   {
    "duration": 14,
    "start_time": "2021-11-26T13:44:53.319Z"
   },
   {
    "duration": 9,
    "start_time": "2021-11-26T13:44:53.335Z"
   },
   {
    "duration": 6,
    "start_time": "2021-11-26T13:44:53.383Z"
   },
   {
    "duration": 13,
    "start_time": "2021-11-26T13:44:53.394Z"
   },
   {
    "duration": 11,
    "start_time": "2021-11-26T13:44:53.411Z"
   },
   {
    "duration": 23,
    "start_time": "2021-11-26T13:44:53.424Z"
   },
   {
    "duration": 13,
    "start_time": "2021-11-26T13:44:53.482Z"
   },
   {
    "duration": 608,
    "start_time": "2021-11-26T13:44:53.498Z"
   },
   {
    "duration": 7,
    "start_time": "2021-11-26T13:44:54.108Z"
   },
   {
    "duration": 327,
    "start_time": "2021-11-26T13:44:54.119Z"
   },
   {
    "duration": 344,
    "start_time": "2021-11-26T13:44:54.449Z"
   },
   {
    "duration": 777,
    "start_time": "2021-11-26T13:44:54.797Z"
   },
   {
    "duration": 10,
    "start_time": "2021-11-26T13:44:55.581Z"
   },
   {
    "duration": 13,
    "start_time": "2021-11-26T13:44:55.594Z"
   },
   {
    "duration": 1706,
    "start_time": "2021-11-26T13:44:55.609Z"
   },
   {
    "duration": 12,
    "start_time": "2021-11-26T13:44:57.318Z"
   },
   {
    "duration": 13,
    "start_time": "2021-11-26T13:44:57.332Z"
   },
   {
    "duration": 35,
    "start_time": "2021-11-26T13:44:57.347Z"
   },
   {
    "duration": 3,
    "start_time": "2021-11-26T13:44:57.387Z"
   },
   {
    "duration": 6,
    "start_time": "2021-11-26T13:44:57.393Z"
   },
   {
    "duration": 9,
    "start_time": "2021-11-26T13:44:57.401Z"
   },
   {
    "duration": 17,
    "start_time": "2021-11-26T13:44:57.413Z"
   },
   {
    "duration": 8,
    "start_time": "2021-11-26T13:44:57.432Z"
   },
   {
    "duration": 50,
    "start_time": "2021-11-26T13:44:57.442Z"
   },
   {
    "duration": 8,
    "start_time": "2021-11-26T13:44:57.494Z"
   },
   {
    "duration": 79,
    "start_time": "2021-11-26T13:44:57.505Z"
   },
   {
    "duration": 96,
    "start_time": "2021-11-26T13:44:57.589Z"
   },
   {
    "duration": 9,
    "start_time": "2021-11-26T13:44:57.688Z"
   },
   {
    "duration": 6,
    "start_time": "2021-11-26T13:44:57.699Z"
   },
   {
    "duration": 62428,
    "start_time": "2021-11-26T13:44:57.707Z"
   },
   {
    "duration": 931,
    "start_time": "2021-11-26T13:45:59.207Z"
   },
   {
    "duration": 803,
    "start_time": "2021-11-26T13:45:59.336Z"
   },
   {
    "duration": 799,
    "start_time": "2021-11-26T13:45:59.341Z"
   },
   {
    "duration": 796,
    "start_time": "2021-11-26T13:45:59.346Z"
   },
   {
    "duration": 792,
    "start_time": "2021-11-26T13:45:59.351Z"
   },
   {
    "duration": 787,
    "start_time": "2021-11-26T13:45:59.358Z"
   },
   {
    "duration": 784,
    "start_time": "2021-11-26T13:45:59.362Z"
   },
   {
    "duration": 1616,
    "start_time": "2021-11-26T13:46:07.966Z"
   },
   {
    "duration": 39,
    "start_time": "2021-11-26T13:46:09.585Z"
   },
   {
    "duration": 16,
    "start_time": "2021-11-26T13:46:09.628Z"
   },
   {
    "duration": 36,
    "start_time": "2021-11-26T13:46:09.647Z"
   },
   {
    "duration": 15,
    "start_time": "2021-11-26T13:46:09.687Z"
   },
   {
    "duration": 23,
    "start_time": "2021-11-26T13:46:09.705Z"
   },
   {
    "duration": 16,
    "start_time": "2021-11-26T13:46:09.730Z"
   },
   {
    "duration": 21,
    "start_time": "2021-11-26T13:46:09.750Z"
   },
   {
    "duration": 25,
    "start_time": "2021-11-26T13:46:09.774Z"
   },
   {
    "duration": 43,
    "start_time": "2021-11-26T13:46:09.802Z"
   },
   {
    "duration": 16,
    "start_time": "2021-11-26T13:46:09.848Z"
   },
   {
    "duration": 491,
    "start_time": "2021-11-26T13:46:09.867Z"
   },
   {
    "duration": 22,
    "start_time": "2021-11-26T13:46:10.361Z"
   },
   {
    "duration": 495,
    "start_time": "2021-11-26T13:46:10.387Z"
   },
   {
    "duration": 477,
    "start_time": "2021-11-26T13:46:10.885Z"
   },
   {
    "duration": 517,
    "start_time": "2021-11-26T13:46:11.365Z"
   },
   {
    "duration": 7,
    "start_time": "2021-11-26T13:46:11.885Z"
   },
   {
    "duration": 12,
    "start_time": "2021-11-26T13:46:11.895Z"
   },
   {
    "duration": 1678,
    "start_time": "2021-11-26T13:46:11.910Z"
   },
   {
    "duration": 12,
    "start_time": "2021-11-26T13:46:13.591Z"
   },
   {
    "duration": 13,
    "start_time": "2021-11-26T13:46:13.606Z"
   },
   {
    "duration": 6,
    "start_time": "2021-11-26T13:46:13.622Z"
   },
   {
    "duration": 4,
    "start_time": "2021-11-26T13:46:13.633Z"
   },
   {
    "duration": 44,
    "start_time": "2021-11-26T13:46:13.640Z"
   },
   {
    "duration": 14,
    "start_time": "2021-11-26T13:46:13.687Z"
   },
   {
    "duration": 20,
    "start_time": "2021-11-26T13:46:13.703Z"
   },
   {
    "duration": 10,
    "start_time": "2021-11-26T13:46:13.726Z"
   },
   {
    "duration": 6,
    "start_time": "2021-11-26T13:46:26.767Z"
   },
   {
    "duration": 10,
    "start_time": "2021-11-26T13:47:20.323Z"
   },
   {
    "duration": 194,
    "start_time": "2021-11-26T13:47:20.789Z"
   },
   {
    "duration": 5,
    "start_time": "2021-11-26T13:47:21.179Z"
   },
   {
    "duration": 7,
    "start_time": "2021-11-26T13:47:29.349Z"
   },
   {
    "duration": 5,
    "start_time": "2021-11-26T13:47:59.686Z"
   },
   {
    "duration": 5,
    "start_time": "2021-11-26T13:48:08.571Z"
   },
   {
    "duration": 20981,
    "start_time": "2021-11-26T13:48:08.903Z"
   },
   {
    "duration": 7,
    "start_time": "2021-11-26T13:49:15.469Z"
   },
   {
    "duration": 3,
    "start_time": "2021-11-26T13:50:00.314Z"
   },
   {
    "duration": 3,
    "start_time": "2021-11-26T13:51:53.595Z"
   },
   {
    "duration": 5,
    "start_time": "2021-11-26T13:51:54.506Z"
   },
   {
    "duration": 148069,
    "start_time": "2021-11-26T13:51:55.633Z"
   },
   {
    "duration": 94,
    "start_time": "2021-11-26T13:54:23.706Z"
   },
   {
    "duration": 217,
    "start_time": "2021-11-26T13:54:36.998Z"
   },
   {
    "duration": 4,
    "start_time": "2021-11-26T13:54:47.213Z"
   },
   {
    "duration": 53,
    "start_time": "2021-11-26T14:01:29.244Z"
   },
   {
    "duration": 8,
    "start_time": "2021-11-26T14:02:31.531Z"
   },
   {
    "duration": 265,
    "start_time": "2021-11-26T14:02:43.828Z"
   },
   {
    "duration": 255,
    "start_time": "2021-11-26T14:02:50.263Z"
   },
   {
    "duration": 107,
    "start_time": "2021-11-26T14:02:58.628Z"
   },
   {
    "duration": 285,
    "start_time": "2021-11-26T14:03:05.479Z"
   },
   {
    "duration": 347,
    "start_time": "2021-11-26T14:03:57.970Z"
   },
   {
    "duration": 331,
    "start_time": "2021-11-26T14:04:18.324Z"
   },
   {
    "duration": 250,
    "start_time": "2021-11-26T14:04:50.992Z"
   },
   {
    "duration": 262,
    "start_time": "2021-11-26T14:04:56.456Z"
   },
   {
    "duration": 361,
    "start_time": "2021-11-26T21:56:46.795Z"
   },
   {
    "duration": 1793,
    "start_time": "2021-11-26T21:57:02.133Z"
   },
   {
    "duration": 37,
    "start_time": "2021-11-26T21:57:03.929Z"
   },
   {
    "duration": 1530,
    "start_time": "2021-11-26T21:57:17.941Z"
   },
   {
    "duration": 37,
    "start_time": "2021-11-26T21:57:19.474Z"
   },
   {
    "duration": 14,
    "start_time": "2021-11-26T21:57:19.515Z"
   },
   {
    "duration": 12,
    "start_time": "2021-11-26T21:57:19.532Z"
   },
   {
    "duration": 30,
    "start_time": "2021-11-26T21:57:19.546Z"
   },
   {
    "duration": 9,
    "start_time": "2021-11-26T21:57:19.579Z"
   },
   {
    "duration": 4,
    "start_time": "2021-11-26T21:57:19.591Z"
   },
   {
    "duration": 11,
    "start_time": "2021-11-26T21:57:19.597Z"
   },
   {
    "duration": 7,
    "start_time": "2021-11-26T21:57:19.611Z"
   },
   {
    "duration": 15,
    "start_time": "2021-11-26T21:57:19.667Z"
   },
   {
    "duration": 9,
    "start_time": "2021-11-26T21:57:19.685Z"
   },
   {
    "duration": 515,
    "start_time": "2021-11-26T21:57:19.696Z"
   },
   {
    "duration": 8,
    "start_time": "2021-11-26T21:57:20.213Z"
   },
   {
    "duration": 327,
    "start_time": "2021-11-26T21:57:20.223Z"
   },
   {
    "duration": 345,
    "start_time": "2021-11-26T21:57:20.552Z"
   },
   {
    "duration": 518,
    "start_time": "2021-11-26T21:57:20.900Z"
   },
   {
    "duration": 9,
    "start_time": "2021-11-26T21:57:21.420Z"
   },
   {
    "duration": 1699,
    "start_time": "2021-11-26T21:57:21.432Z"
   },
   {
    "duration": 13,
    "start_time": "2021-11-26T21:57:23.133Z"
   },
   {
    "duration": 26,
    "start_time": "2021-11-26T21:57:23.149Z"
   },
   {
    "duration": 8,
    "start_time": "2021-11-26T21:57:23.177Z"
   },
   {
    "duration": 8,
    "start_time": "2021-11-26T21:57:23.188Z"
   },
   {
    "duration": 18,
    "start_time": "2021-11-26T21:57:23.198Z"
   },
   {
    "duration": 9,
    "start_time": "2021-11-26T21:57:23.218Z"
   },
   {
    "duration": 43,
    "start_time": "2021-11-26T21:57:23.229Z"
   },
   {
    "duration": 16,
    "start_time": "2021-11-26T21:57:23.274Z"
   },
   {
    "duration": 72,
    "start_time": "2021-11-26T21:57:23.295Z"
   },
   {
    "duration": 99,
    "start_time": "2021-11-26T21:57:23.372Z"
   },
   {
    "duration": 7,
    "start_time": "2021-11-26T21:57:23.473Z"
   },
   {
    "duration": 11,
    "start_time": "2021-11-26T21:57:23.482Z"
   },
   {
    "duration": 2771,
    "start_time": "2021-11-26T21:57:23.496Z"
   },
   {
    "duration": 4,
    "start_time": "2021-11-26T21:57:26.270Z"
   },
   {
    "duration": 8,
    "start_time": "2021-11-26T21:57:26.276Z"
   },
   {
    "duration": 29488,
    "start_time": "2021-11-26T21:57:26.286Z"
   },
   {
    "duration": 6,
    "start_time": "2021-11-26T21:57:55.777Z"
   },
   {
    "duration": 10,
    "start_time": "2021-11-26T21:57:55.785Z"
   },
   {
    "duration": 20,
    "start_time": "2021-11-26T21:57:55.798Z"
   },
   {
    "duration": 14,
    "start_time": "2021-11-26T21:57:55.871Z"
   },
   {
    "duration": 511,
    "start_time": "2021-11-26T21:57:55.888Z"
   },
   {
    "duration": 450,
    "start_time": "2021-11-26T21:58:22.258Z"
   },
   {
    "duration": 441,
    "start_time": "2021-11-26T21:58:45.618Z"
   },
   {
    "duration": 1520,
    "start_time": "2021-11-26T22:03:39.084Z"
   },
   {
    "duration": 39,
    "start_time": "2021-11-26T22:03:40.607Z"
   },
   {
    "duration": 20,
    "start_time": "2021-11-26T22:03:40.649Z"
   },
   {
    "duration": 9,
    "start_time": "2021-11-26T22:03:40.672Z"
   },
   {
    "duration": 16,
    "start_time": "2021-11-26T22:03:40.684Z"
   },
   {
    "duration": 10,
    "start_time": "2021-11-26T22:03:40.703Z"
   },
   {
    "duration": 5,
    "start_time": "2021-11-26T22:03:40.716Z"
   },
   {
    "duration": 50,
    "start_time": "2021-11-26T22:03:40.725Z"
   },
   {
    "duration": 7,
    "start_time": "2021-11-26T22:03:40.778Z"
   },
   {
    "duration": 15,
    "start_time": "2021-11-26T22:03:40.787Z"
   },
   {
    "duration": 9,
    "start_time": "2021-11-26T22:03:40.804Z"
   },
   {
    "duration": 538,
    "start_time": "2021-11-26T22:03:40.815Z"
   },
   {
    "duration": 17,
    "start_time": "2021-11-26T22:03:41.355Z"
   },
   {
    "duration": 306,
    "start_time": "2021-11-26T22:03:41.376Z"
   },
   {
    "duration": 340,
    "start_time": "2021-11-26T22:03:41.684Z"
   },
   {
    "duration": 507,
    "start_time": "2021-11-26T22:03:42.026Z"
   },
   {
    "duration": 13,
    "start_time": "2021-11-26T22:03:42.535Z"
   },
   {
    "duration": 1832,
    "start_time": "2021-11-26T22:03:42.551Z"
   },
   {
    "duration": 13,
    "start_time": "2021-11-26T22:03:44.385Z"
   },
   {
    "duration": 13,
    "start_time": "2021-11-26T22:03:44.401Z"
   },
   {
    "duration": 6,
    "start_time": "2021-11-26T22:03:44.417Z"
   },
   {
    "duration": 44,
    "start_time": "2021-11-26T22:03:44.426Z"
   },
   {
    "duration": 16,
    "start_time": "2021-11-26T22:03:44.476Z"
   },
   {
    "duration": 8,
    "start_time": "2021-11-26T22:03:44.495Z"
   },
   {
    "duration": 9,
    "start_time": "2021-11-26T22:03:44.505Z"
   },
   {
    "duration": 9,
    "start_time": "2021-11-26T22:03:44.516Z"
   },
   {
    "duration": 52,
    "start_time": "2021-11-26T22:03:44.528Z"
   },
   {
    "duration": 99,
    "start_time": "2021-11-26T22:03:44.669Z"
   },
   {
    "duration": 4,
    "start_time": "2021-11-26T22:03:44.771Z"
   },
   {
    "duration": 7,
    "start_time": "2021-11-26T22:03:44.777Z"
   },
   {
    "duration": 3781,
    "start_time": "2021-11-26T22:03:44.786Z"
   },
   {
    "duration": 3,
    "start_time": "2021-11-26T22:03:48.571Z"
   },
   {
    "duration": 7,
    "start_time": "2021-11-26T22:03:48.577Z"
   },
   {
    "duration": 28993,
    "start_time": "2021-11-26T22:03:48.586Z"
   },
   {
    "duration": 7,
    "start_time": "2021-11-26T22:04:17.581Z"
   },
   {
    "duration": 76,
    "start_time": "2021-11-26T22:04:17.591Z"
   },
   {
    "duration": 18,
    "start_time": "2021-11-26T22:04:17.670Z"
   },
   {
    "duration": 87,
    "start_time": "2021-11-26T22:04:17.690Z"
   },
   {
    "duration": 512,
    "start_time": "2021-11-26T22:04:17.779Z"
   },
   {
    "duration": 482,
    "start_time": "2021-11-26T22:04:18.293Z"
   },
   {
    "duration": 475,
    "start_time": "2021-11-26T22:04:18.778Z"
   },
   {
    "duration": 1731,
    "start_time": "2021-11-27T14:11:16.663Z"
   },
   {
    "duration": 39,
    "start_time": "2021-11-27T14:11:18.397Z"
   },
   {
    "duration": 27,
    "start_time": "2021-11-27T14:11:18.440Z"
   },
   {
    "duration": 12,
    "start_time": "2021-11-27T14:11:18.470Z"
   },
   {
    "duration": 20,
    "start_time": "2021-11-27T14:11:18.484Z"
   },
   {
    "duration": 13,
    "start_time": "2021-11-27T14:11:18.507Z"
   },
   {
    "duration": 38,
    "start_time": "2021-11-27T14:11:18.523Z"
   },
   {
    "duration": 15,
    "start_time": "2021-11-27T14:11:18.565Z"
   },
   {
    "duration": 8,
    "start_time": "2021-11-27T14:11:18.585Z"
   },
   {
    "duration": 21,
    "start_time": "2021-11-27T14:11:18.595Z"
   },
   {
    "duration": 9,
    "start_time": "2021-11-27T14:11:18.619Z"
   },
   {
    "duration": 519,
    "start_time": "2021-11-27T14:11:18.631Z"
   },
   {
    "duration": 9,
    "start_time": "2021-11-27T14:11:19.160Z"
   },
   {
    "duration": 319,
    "start_time": "2021-11-27T14:11:19.171Z"
   },
   {
    "duration": 346,
    "start_time": "2021-11-27T14:11:19.492Z"
   },
   {
    "duration": 822,
    "start_time": "2021-11-27T14:11:19.842Z"
   },
   {
    "duration": 15,
    "start_time": "2021-11-27T14:11:20.667Z"
   },
   {
    "duration": 1739,
    "start_time": "2021-11-27T14:11:20.685Z"
   },
   {
    "duration": 16,
    "start_time": "2021-11-27T14:11:22.427Z"
   },
   {
    "duration": 16,
    "start_time": "2021-11-27T14:11:22.460Z"
   },
   {
    "duration": 7,
    "start_time": "2021-11-27T14:11:22.479Z"
   },
   {
    "duration": 12,
    "start_time": "2021-11-27T14:11:22.488Z"
   },
   {
    "duration": 31,
    "start_time": "2021-11-27T14:11:22.506Z"
   },
   {
    "duration": 29,
    "start_time": "2021-11-27T14:11:22.539Z"
   },
   {
    "duration": 414,
    "start_time": "2021-11-27T14:13:03.546Z"
   },
   {
    "duration": 1533,
    "start_time": "2021-11-27T14:13:16.227Z"
   },
   {
    "duration": 39,
    "start_time": "2021-11-27T14:13:17.763Z"
   },
   {
    "duration": 14,
    "start_time": "2021-11-27T14:13:17.805Z"
   },
   {
    "duration": 9,
    "start_time": "2021-11-27T14:13:17.822Z"
   },
   {
    "duration": 40,
    "start_time": "2021-11-27T14:13:17.833Z"
   },
   {
    "duration": 11,
    "start_time": "2021-11-27T14:13:17.875Z"
   },
   {
    "duration": 9,
    "start_time": "2021-11-27T14:13:17.888Z"
   },
   {
    "duration": 12,
    "start_time": "2021-11-27T14:13:17.900Z"
   },
   {
    "duration": 43,
    "start_time": "2021-11-27T14:13:17.916Z"
   },
   {
    "duration": 15,
    "start_time": "2021-11-27T14:13:17.962Z"
   },
   {
    "duration": 11,
    "start_time": "2021-11-27T14:13:17.980Z"
   },
   {
    "duration": 505,
    "start_time": "2021-11-27T14:13:17.994Z"
   },
   {
    "duration": 7,
    "start_time": "2021-11-27T14:13:18.502Z"
   },
   {
    "duration": 315,
    "start_time": "2021-11-27T14:13:18.512Z"
   },
   {
    "duration": 333,
    "start_time": "2021-11-27T14:13:18.829Z"
   },
   {
    "duration": 478,
    "start_time": "2021-11-27T14:13:19.164Z"
   },
   {
    "duration": 18,
    "start_time": "2021-11-27T14:13:19.644Z"
   },
   {
    "duration": 1599,
    "start_time": "2021-11-27T14:13:19.664Z"
   },
   {
    "duration": 13,
    "start_time": "2021-11-27T14:13:21.265Z"
   },
   {
    "duration": 13,
    "start_time": "2021-11-27T14:13:21.280Z"
   },
   {
    "duration": 7,
    "start_time": "2021-11-27T14:13:21.295Z"
   },
   {
    "duration": 9,
    "start_time": "2021-11-27T14:13:21.304Z"
   },
   {
    "duration": 48,
    "start_time": "2021-11-27T14:13:21.317Z"
   },
   {
    "duration": 455,
    "start_time": "2021-11-27T14:13:21.368Z"
   },
   {
    "duration": -1140,
    "start_time": "2021-11-27T14:13:22.965Z"
   },
   {
    "duration": 7,
    "start_time": "2021-11-27T14:13:52.238Z"
   },
   {
    "duration": 9,
    "start_time": "2021-11-27T14:13:55.644Z"
   },
   {
    "duration": 14,
    "start_time": "2021-11-27T14:14:06.801Z"
   },
   {
    "duration": 1440,
    "start_time": "2021-11-27T14:18:32.899Z"
   },
   {
    "duration": 40,
    "start_time": "2021-11-27T14:18:34.341Z"
   },
   {
    "duration": 14,
    "start_time": "2021-11-27T14:18:34.384Z"
   },
   {
    "duration": 13,
    "start_time": "2021-11-27T14:18:34.402Z"
   },
   {
    "duration": 48,
    "start_time": "2021-11-27T14:18:34.418Z"
   },
   {
    "duration": 8,
    "start_time": "2021-11-27T14:18:34.469Z"
   },
   {
    "duration": 8,
    "start_time": "2021-11-27T14:18:34.479Z"
   },
   {
    "duration": 10,
    "start_time": "2021-11-27T14:18:34.491Z"
   },
   {
    "duration": 9,
    "start_time": "2021-11-27T14:18:34.504Z"
   },
   {
    "duration": 47,
    "start_time": "2021-11-27T14:18:34.515Z"
   },
   {
    "duration": 10,
    "start_time": "2021-11-27T14:18:34.565Z"
   },
   {
    "duration": 503,
    "start_time": "2021-11-27T14:18:34.577Z"
   },
   {
    "duration": 7,
    "start_time": "2021-11-27T14:18:35.082Z"
   },
   {
    "duration": 311,
    "start_time": "2021-11-27T14:18:35.091Z"
   },
   {
    "duration": 332,
    "start_time": "2021-11-27T14:18:35.405Z"
   },
   {
    "duration": 499,
    "start_time": "2021-11-27T14:18:35.740Z"
   },
   {
    "duration": 18,
    "start_time": "2021-11-27T14:18:36.241Z"
   },
   {
    "duration": 1756,
    "start_time": "2021-11-27T14:18:36.262Z"
   },
   {
    "duration": 12,
    "start_time": "2021-11-27T14:18:38.021Z"
   },
   {
    "duration": 35,
    "start_time": "2021-11-27T14:18:38.036Z"
   },
   {
    "duration": 6,
    "start_time": "2021-11-27T14:18:38.073Z"
   },
   {
    "duration": 10,
    "start_time": "2021-11-27T14:18:38.081Z"
   },
   {
    "duration": 20,
    "start_time": "2021-11-27T14:18:38.096Z"
   },
   {
    "duration": 13,
    "start_time": "2021-11-27T14:18:38.118Z"
   },
   {
    "duration": 33,
    "start_time": "2021-11-27T14:18:38.133Z"
   },
   {
    "duration": 17,
    "start_time": "2021-11-27T14:18:38.168Z"
   },
   {
    "duration": 16,
    "start_time": "2021-11-27T14:18:38.187Z"
   },
   {
    "duration": 20,
    "start_time": "2021-11-27T14:18:38.205Z"
   },
   {
    "duration": 105,
    "start_time": "2021-11-27T14:18:38.261Z"
   },
   {
    "duration": 7,
    "start_time": "2021-11-27T14:18:38.369Z"
   },
   {
    "duration": 7,
    "start_time": "2021-11-27T14:18:38.379Z"
   },
   {
    "duration": 2873,
    "start_time": "2021-11-27T14:18:38.388Z"
   },
   {
    "duration": 3,
    "start_time": "2021-11-27T14:18:41.264Z"
   },
   {
    "duration": 9,
    "start_time": "2021-11-27T14:18:41.269Z"
   },
   {
    "duration": 27588,
    "start_time": "2021-11-27T14:18:41.281Z"
   },
   {
    "duration": 6,
    "start_time": "2021-11-27T14:19:08.871Z"
   },
   {
    "duration": 26,
    "start_time": "2021-11-27T14:19:08.879Z"
   },
   {
    "duration": 55,
    "start_time": "2021-11-27T14:19:08.907Z"
   },
   {
    "duration": 17,
    "start_time": "2021-11-27T14:19:08.965Z"
   },
   {
    "duration": 516,
    "start_time": "2021-11-27T14:19:08.984Z"
   },
   {
    "duration": 453,
    "start_time": "2021-11-27T14:19:09.503Z"
   },
   {
    "duration": 471,
    "start_time": "2021-11-27T14:19:09.959Z"
   },
   {
    "duration": 1558,
    "start_time": "2021-11-27T14:22:33.244Z"
   },
   {
    "duration": 41,
    "start_time": "2021-11-27T14:22:34.805Z"
   },
   {
    "duration": 22,
    "start_time": "2021-11-27T14:22:34.849Z"
   },
   {
    "duration": 12,
    "start_time": "2021-11-27T14:22:34.875Z"
   },
   {
    "duration": 15,
    "start_time": "2021-11-27T14:22:34.890Z"
   },
   {
    "duration": 10,
    "start_time": "2021-11-27T14:22:34.907Z"
   },
   {
    "duration": 44,
    "start_time": "2021-11-27T14:22:34.919Z"
   },
   {
    "duration": 9,
    "start_time": "2021-11-27T14:22:34.969Z"
   },
   {
    "duration": 8,
    "start_time": "2021-11-27T14:22:34.983Z"
   },
   {
    "duration": 18,
    "start_time": "2021-11-27T14:22:34.993Z"
   },
   {
    "duration": 52,
    "start_time": "2021-11-27T14:22:35.013Z"
   },
   {
    "duration": 479,
    "start_time": "2021-11-27T14:22:35.068Z"
   },
   {
    "duration": 10,
    "start_time": "2021-11-27T14:22:35.551Z"
   },
   {
    "duration": 304,
    "start_time": "2021-11-27T14:22:35.563Z"
   },
   {
    "duration": 337,
    "start_time": "2021-11-27T14:22:35.869Z"
   },
   {
    "duration": 510,
    "start_time": "2021-11-27T14:22:36.209Z"
   },
   {
    "duration": 9,
    "start_time": "2021-11-27T14:22:36.722Z"
   },
   {
    "duration": 1642,
    "start_time": "2021-11-27T14:22:36.734Z"
   },
   {
    "duration": 18,
    "start_time": "2021-11-27T14:22:38.380Z"
   },
   {
    "duration": 20,
    "start_time": "2021-11-27T14:22:38.401Z"
   },
   {
    "duration": 38,
    "start_time": "2021-11-27T14:22:38.424Z"
   },
   {
    "duration": 7,
    "start_time": "2021-11-27T14:22:38.464Z"
   },
   {
    "duration": 19,
    "start_time": "2021-11-27T14:22:38.476Z"
   },
   {
    "duration": 7,
    "start_time": "2021-11-27T14:22:38.498Z"
   },
   {
    "duration": 7,
    "start_time": "2021-11-27T14:22:38.507Z"
   },
   {
    "duration": 45,
    "start_time": "2021-11-27T14:22:38.516Z"
   },
   {
    "duration": 15,
    "start_time": "2021-11-27T14:22:38.564Z"
   },
   {
    "duration": 80,
    "start_time": "2021-11-27T14:22:38.581Z"
   },
   {
    "duration": 95,
    "start_time": "2021-11-27T14:22:38.664Z"
   },
   {
    "duration": 4,
    "start_time": "2021-11-27T14:22:38.762Z"
   },
   {
    "duration": 7,
    "start_time": "2021-11-27T14:22:38.768Z"
   },
   {
    "duration": 2787,
    "start_time": "2021-11-27T14:22:38.777Z"
   },
   {
    "duration": 4,
    "start_time": "2021-11-27T14:22:41.566Z"
   },
   {
    "duration": 6,
    "start_time": "2021-11-27T14:22:41.572Z"
   },
   {
    "duration": 28286,
    "start_time": "2021-11-27T14:22:41.581Z"
   },
   {
    "duration": 5,
    "start_time": "2021-11-27T14:23:09.870Z"
   },
   {
    "duration": 10,
    "start_time": "2021-11-27T14:23:09.877Z"
   },
   {
    "duration": 70,
    "start_time": "2021-11-27T14:23:09.889Z"
   },
   {
    "duration": 12,
    "start_time": "2021-11-27T14:23:09.962Z"
   },
   {
    "duration": 495,
    "start_time": "2021-11-27T14:23:09.976Z"
   },
   {
    "duration": 454,
    "start_time": "2021-11-27T14:23:10.473Z"
   },
   {
    "duration": 462,
    "start_time": "2021-11-27T14:23:10.929Z"
   },
   {
    "duration": 1354,
    "start_time": "2022-01-31T17:06:13.087Z"
   },
   {
    "duration": 76,
    "start_time": "2022-01-31T17:06:14.443Z"
   },
   {
    "duration": 15,
    "start_time": "2022-01-31T17:06:14.522Z"
   },
   {
    "duration": 14,
    "start_time": "2022-01-31T17:06:14.540Z"
   },
   {
    "duration": 11,
    "start_time": "2022-01-31T17:06:14.556Z"
   },
   {
    "duration": 18,
    "start_time": "2022-01-31T17:06:14.569Z"
   },
   {
    "duration": 9,
    "start_time": "2022-01-31T17:06:14.588Z"
   },
   {
    "duration": 15,
    "start_time": "2022-01-31T17:06:14.599Z"
   },
   {
    "duration": 15,
    "start_time": "2022-01-31T17:06:14.616Z"
   },
   {
    "duration": 24,
    "start_time": "2022-01-31T17:06:14.634Z"
   },
   {
    "duration": 14,
    "start_time": "2022-01-31T17:06:14.660Z"
   },
   {
    "duration": 310,
    "start_time": "2022-01-31T17:06:14.676Z"
   },
   {
    "duration": 6,
    "start_time": "2022-01-31T17:06:14.988Z"
   },
   {
    "duration": 236,
    "start_time": "2022-01-31T17:06:14.996Z"
   },
   {
    "duration": 256,
    "start_time": "2022-01-31T17:06:15.235Z"
   },
   {
    "duration": 313,
    "start_time": "2022-01-31T17:06:15.493Z"
   },
   {
    "duration": 12,
    "start_time": "2022-01-31T17:06:15.807Z"
   },
   {
    "duration": 1043,
    "start_time": "2022-01-31T17:06:15.821Z"
   },
   {
    "duration": 9,
    "start_time": "2022-01-31T17:06:16.865Z"
   },
   {
    "duration": 13,
    "start_time": "2022-01-31T17:06:16.876Z"
   },
   {
    "duration": 28,
    "start_time": "2022-01-31T17:06:16.891Z"
   },
   {
    "duration": 5,
    "start_time": "2022-01-31T17:06:16.921Z"
   },
   {
    "duration": 13,
    "start_time": "2022-01-31T17:06:16.930Z"
   },
   {
    "duration": 5,
    "start_time": "2022-01-31T17:06:16.945Z"
   },
   {
    "duration": 8,
    "start_time": "2022-01-31T17:06:16.952Z"
   },
   {
    "duration": 7,
    "start_time": "2022-01-31T17:06:16.962Z"
   },
   {
    "duration": 9,
    "start_time": "2022-01-31T17:06:16.971Z"
   },
   {
    "duration": 143,
    "start_time": "2022-01-31T17:06:16.982Z"
   },
   {
    "duration": 97,
    "start_time": "2022-01-31T17:06:17.127Z"
   },
   {
    "duration": 17,
    "start_time": "2022-01-31T17:06:17.228Z"
   },
   {
    "duration": 23,
    "start_time": "2022-01-31T17:06:17.247Z"
   },
   {
    "duration": 101458,
    "start_time": "2022-01-31T17:06:17.272Z"
   },
   {
    "duration": 3,
    "start_time": "2022-01-31T17:07:58.732Z"
   },
   {
    "duration": 6,
    "start_time": "2022-01-31T17:07:58.736Z"
   },
   {
    "duration": 49213,
    "start_time": "2022-01-31T17:07:58.819Z"
   },
   {
    "duration": 6,
    "start_time": "2022-01-31T17:08:48.036Z"
   },
   {
    "duration": 5,
    "start_time": "2022-01-31T17:08:48.120Z"
   },
   {
    "duration": 12,
    "start_time": "2022-01-31T17:08:48.127Z"
   },
   {
    "duration": 78,
    "start_time": "2022-01-31T17:08:48.141Z"
   },
   {
    "duration": 331,
    "start_time": "2022-01-31T17:08:48.222Z"
   },
   {
    "duration": 304,
    "start_time": "2022-01-31T17:08:48.555Z"
   },
   {
    "duration": 288,
    "start_time": "2022-01-31T17:08:48.860Z"
   }
  ],
  "kernelspec": {
   "display_name": "Python 3 (ipykernel)",
   "language": "python",
   "name": "python3"
  },
  "language_info": {
   "codemirror_mode": {
    "name": "ipython",
    "version": 3
   },
   "file_extension": ".py",
   "mimetype": "text/x-python",
   "name": "python",
   "nbconvert_exporter": "python",
   "pygments_lexer": "ipython3",
   "version": "3.9.7"
  },
  "toc": {
   "base_numbering": 1,
   "nav_menu": {},
   "number_sections": true,
   "sideBar": true,
   "skip_h1_title": true,
   "title_cell": "Содержание",
   "title_sidebar": "Contents",
   "toc_cell": true,
   "toc_position": {},
   "toc_section_display": true,
   "toc_window_display": false
  }
 },
 "nbformat": 4,
 "nbformat_minor": 2
}
