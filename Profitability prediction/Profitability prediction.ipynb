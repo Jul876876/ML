{
 "cells": [
  {
   "cell_type": "markdown",
   "metadata": {},
   "source": [
    "#  Profitability prediction for oil field wells development"
   ]
  },
  {
   "cell_type": "markdown",
   "metadata": {},
   "source": [
    "Goal: develop a machine learning algorithm for oil field wells profitability analysis. Assess poterntial profit and risks.\n",
    "\n",
    "The model will be used for region selection for further development. \n",
    "\n",
    "There are three candidates for development. Each of them have 10 000 oil field wells. Data of oil quality and amount of row material is available for each well."
   ]
  },
  {
   "cell_type": "markdown",
   "metadata": {},
   "source": [
    "## Data Preparation"
   ]
  },
  {
   "cell_type": "markdown",
   "metadata": {},
   "source": [
    "Upload the data and the necessary libraries"
   ]
  },
  {
   "cell_type": "code",
   "execution_count": 1,
   "metadata": {},
   "outputs": [],
   "source": [
    "import pandas as pd\n",
    "import numpy as np\n",
    "from sklearn.model_selection import train_test_split\n",
    "from sklearn.preprocessing import StandardScaler\n",
    "from sklearn.linear_model import LinearRegression\n",
    "from sklearn.metrics import mean_squared_error\n",
    "from math import sqrt"
   ]
  },
  {
   "cell_type": "code",
   "execution_count": 2,
   "metadata": {},
   "outputs": [],
   "source": [
    "data_region_0 = pd.read_csv('/datasets/geo_data_0.csv')\n",
    "data_region_1 = pd.read_csv('/datasets/geo_data_1.csv')\n",
    "data_region_2 = pd.read_csv('/datasets/geo_data_2.csv')"
   ]
  },
  {
   "cell_type": "markdown",
   "metadata": {},
   "source": [
    "Create a function to describe the data"
   ]
  },
  {
   "cell_type": "code",
   "execution_count": 3,
   "metadata": {},
   "outputs": [
    {
     "name": "stdout",
     "output_type": "stream",
     "text": [
      "NAME: region_0\n",
      "-------------------\n",
      "Review first rows\n",
      "      id        f0        f1        f2     product\n",
      "0  txEyH  0.705745 -0.497823  1.221170  105.280062\n",
      "1  2acmU  1.334711 -0.340164  4.365080   73.037750\n",
      "2  409Wp  1.022732  0.151990  1.419926   85.265647\n",
      "3  iJLyR -0.032172  0.139033  2.978566  168.620776\n",
      "4  Xdl7t  1.988431  0.155413  4.751769  154.036647\n",
      "-----\n",
      "Summary\n",
      "<class 'pandas.core.frame.DataFrame'>\n",
      "RangeIndex: 100000 entries, 0 to 99999\n",
      "Data columns (total 5 columns):\n",
      " #   Column   Non-Null Count   Dtype  \n",
      "---  ------   --------------   -----  \n",
      " 0   id       100000 non-null  object \n",
      " 1   f0       100000 non-null  float64\n",
      " 2   f1       100000 non-null  float64\n",
      " 3   f2       100000 non-null  float64\n",
      " 4   product  100000 non-null  float64\n",
      "dtypes: float64(4), object(1)\n",
      "memory usage: 3.8+ MB\n",
      "None\n",
      "-----\n",
      "Statistics\n",
      "                  f0             f1             f2        product\n",
      "count  100000.000000  100000.000000  100000.000000  100000.000000\n",
      "mean        0.500419       0.250143       2.502647      92.500000\n",
      "std         0.871832       0.504433       3.248248      44.288691\n",
      "min        -1.408605      -0.848218     -12.088328       0.000000\n",
      "25%        -0.072580      -0.200881       0.287748      56.497507\n",
      "50%         0.502360       0.250252       2.515969      91.849972\n",
      "75%         1.073581       0.700646       4.715088     128.564089\n",
      "max         2.362331       1.343769      16.003790     185.364347\n",
      "-----\n",
      "Duplicates amount\n",
      "0\n",
      "\n",
      "NAME: region_1\n",
      "-------------------\n",
      "Review first rows\n",
      "      id         f0         f1        f2     product\n",
      "0  kBEdx -15.001348  -8.276000 -0.005876    3.179103\n",
      "1  62mP7  14.272088  -3.475083  0.999183   26.953261\n",
      "2  vyE1P   6.263187  -5.948386  5.001160  134.766305\n",
      "3  KcrkZ -13.081196 -11.506057  4.999415  137.945408\n",
      "4  AHL4O  12.702195  -8.147433  5.004363  134.766305\n",
      "-----\n",
      "Summary\n",
      "<class 'pandas.core.frame.DataFrame'>\n",
      "RangeIndex: 100000 entries, 0 to 99999\n",
      "Data columns (total 5 columns):\n",
      " #   Column   Non-Null Count   Dtype  \n",
      "---  ------   --------------   -----  \n",
      " 0   id       100000 non-null  object \n",
      " 1   f0       100000 non-null  float64\n",
      " 2   f1       100000 non-null  float64\n",
      " 3   f2       100000 non-null  float64\n",
      " 4   product  100000 non-null  float64\n",
      "dtypes: float64(4), object(1)\n",
      "memory usage: 3.8+ MB\n",
      "None\n",
      "-----\n",
      "Statistics\n",
      "                  f0             f1             f2        product\n",
      "count  100000.000000  100000.000000  100000.000000  100000.000000\n",
      "mean        1.141296      -4.796579       2.494541      68.825000\n",
      "std         8.965932       5.119872       1.703572      45.944423\n",
      "min       -31.609576     -26.358598      -0.018144       0.000000\n",
      "25%        -6.298551      -8.267985       1.000021      26.953261\n",
      "50%         1.153055      -4.813172       2.011479      57.085625\n",
      "75%         8.621015      -1.332816       3.999904     107.813044\n",
      "max        29.421755      18.734063       5.019721     137.945408\n",
      "-----\n",
      "Duplicates amount\n",
      "0\n",
      "\n",
      "NAME: region_2\n",
      "-------------------\n",
      "Review first rows\n",
      "      id        f0        f1        f2     product\n",
      "0  fwXo0 -1.146987  0.963328 -0.828965   27.758673\n",
      "1  WJtFt  0.262778  0.269839 -2.530187   56.069697\n",
      "2  ovLUW  0.194587  0.289035 -5.586433   62.871910\n",
      "3  q6cA6  2.236060 -0.553760  0.930038  114.572842\n",
      "4  WPMUX -0.515993  1.716266  5.899011  149.600746\n",
      "-----\n",
      "Summary\n",
      "<class 'pandas.core.frame.DataFrame'>\n",
      "RangeIndex: 100000 entries, 0 to 99999\n",
      "Data columns (total 5 columns):\n",
      " #   Column   Non-Null Count   Dtype  \n",
      "---  ------   --------------   -----  \n",
      " 0   id       100000 non-null  object \n",
      " 1   f0       100000 non-null  float64\n",
      " 2   f1       100000 non-null  float64\n",
      " 3   f2       100000 non-null  float64\n",
      " 4   product  100000 non-null  float64\n",
      "dtypes: float64(4), object(1)\n",
      "memory usage: 3.8+ MB\n",
      "None\n",
      "-----\n",
      "Statistics\n",
      "                  f0             f1             f2        product\n",
      "count  100000.000000  100000.000000  100000.000000  100000.000000\n",
      "mean        0.002023      -0.002081       2.495128      95.000000\n",
      "std         1.732045       1.730417       3.473445      44.749921\n",
      "min        -8.760004      -7.084020     -11.970335       0.000000\n",
      "25%        -1.162288      -1.174820       0.130359      59.450441\n",
      "50%         0.009424      -0.009482       2.484236      94.925613\n",
      "75%         1.158535       1.163678       4.858794     130.595027\n",
      "max         7.238262       7.844801      16.739402     190.029838\n",
      "-----\n",
      "Duplicates amount\n",
      "0\n",
      "\n"
     ]
    }
   ],
   "source": [
    "def get_to_know_your_data(df, df_name):\n",
    "    for e in range(len(df)):\n",
    "        element = df[e]\n",
    "        print(f'NAME: {df_name[e]}')\n",
    "        print(\"-------------------\")\n",
    "        print('Review first rows')\n",
    "        print(element.head())\n",
    "        print(\"-----\")\n",
    "        print('Summary')\n",
    "        print(element.info())\n",
    "        print(\"-----\")\n",
    "        print('Statistics')\n",
    "        print(element.describe())\n",
    "        print(\"-----\")\n",
    "        print('Duplicates amount')\n",
    "        print(element.duplicated().sum())\n",
    "        print()\n",
    "df = [data_region_0, data_region_1, data_region_2]\n",
    "df_name = ['region_0', 'region_1', 'region_2']\n",
    "get_to_know_your_data(df, df_name)"
   ]
  },
  {
   "cell_type": "markdown",
   "metadata": {},
   "source": [
    "After target feature is removed, features should be scaled to normalize the range of features. "
   ]
  },
  {
   "cell_type": "code",
   "execution_count": 4,
   "metadata": {},
   "outputs": [],
   "source": [
    "features_0 = data_region_0.drop('product', axis=1)\n",
    "target_0 = data_region_0['product']"
   ]
  },
  {
   "cell_type": "code",
   "execution_count": 5,
   "metadata": {},
   "outputs": [],
   "source": [
    "features_1 = data_region_1.drop('product', axis=1)\n",
    "target_1 = data_region_1['product']"
   ]
  },
  {
   "cell_type": "code",
   "execution_count": 6,
   "metadata": {},
   "outputs": [],
   "source": [
    "features_2 = data_region_2.drop('product', axis=1)\n",
    "target_2 = data_region_2['product']"
   ]
  },
  {
   "cell_type": "markdown",
   "metadata": {},
   "source": [
    "Create a function for feature scaling."
   ]
  },
  {
   "cell_type": "code",
   "execution_count": 7,
   "metadata": {},
   "outputs": [],
   "source": [
    "def features_standard(feature):\n",
    "    numeric = ['f0', 'f1', 'f2']\n",
    "    pd.options.mode.chained_assignment = None\n",
    "    scaler = StandardScaler()\n",
    "    scaler.fit(feature[numeric])\n",
    "    feature[numeric] = scaler.transform(feature[numeric])\n",
    "   \n",
    "    return feature[numeric]    "
   ]
  },
  {
   "cell_type": "code",
   "execution_count": 8,
   "metadata": {},
   "outputs": [],
   "source": [
    "features_standard_0 = features_standard(features_0)\n",
    "features_standard_1 = features_standard(features_1)\n",
    "features_standard_2 = features_standard(features_2)"
   ]
  },
  {
   "cell_type": "code",
   "execution_count": 9,
   "metadata": {},
   "outputs": [
    {
     "data": {
      "text/html": [
       "<div>\n",
       "<style scoped>\n",
       "    .dataframe tbody tr th:only-of-type {\n",
       "        vertical-align: middle;\n",
       "    }\n",
       "\n",
       "    .dataframe tbody tr th {\n",
       "        vertical-align: top;\n",
       "    }\n",
       "\n",
       "    .dataframe thead th {\n",
       "        text-align: right;\n",
       "    }\n",
       "</style>\n",
       "<table border=\"1\" class=\"dataframe\">\n",
       "  <thead>\n",
       "    <tr style=\"text-align: right;\">\n",
       "      <th></th>\n",
       "      <th>f0</th>\n",
       "      <th>f1</th>\n",
       "      <th>f2</th>\n",
       "    </tr>\n",
       "  </thead>\n",
       "  <tbody>\n",
       "    <tr>\n",
       "      <th>count</th>\n",
       "      <td>1.000000e+05</td>\n",
       "      <td>1.000000e+05</td>\n",
       "      <td>1.000000e+05</td>\n",
       "    </tr>\n",
       "    <tr>\n",
       "      <th>mean</th>\n",
       "      <td>3.544498e-17</td>\n",
       "      <td>-1.768141e-17</td>\n",
       "      <td>1.079015e-16</td>\n",
       "    </tr>\n",
       "    <tr>\n",
       "      <th>std</th>\n",
       "      <td>1.000005e+00</td>\n",
       "      <td>1.000005e+00</td>\n",
       "      <td>1.000005e+00</td>\n",
       "    </tr>\n",
       "    <tr>\n",
       "      <th>min</th>\n",
       "      <td>-2.189681e+00</td>\n",
       "      <td>-2.177430e+00</td>\n",
       "      <td>-4.491975e+00</td>\n",
       "    </tr>\n",
       "    <tr>\n",
       "      <th>25%</th>\n",
       "      <td>-6.572397e-01</td>\n",
       "      <td>-8.941262e-01</td>\n",
       "      <td>-6.818784e-01</td>\n",
       "    </tr>\n",
       "    <tr>\n",
       "      <th>50%</th>\n",
       "      <td>2.226500e-03</td>\n",
       "      <td>2.166008e-04</td>\n",
       "      <td>4.101360e-03</td>\n",
       "    </tr>\n",
       "    <tr>\n",
       "      <th>75%</th>\n",
       "      <td>6.574259e-01</td>\n",
       "      <td>8.930937e-01</td>\n",
       "      <td>6.811217e-01</td>\n",
       "    </tr>\n",
       "    <tr>\n",
       "      <th>max</th>\n",
       "      <td>2.135642e+00</td>\n",
       "      <td>2.168043e+00</td>\n",
       "      <td>4.156460e+00</td>\n",
       "    </tr>\n",
       "  </tbody>\n",
       "</table>\n",
       "</div>"
      ],
      "text/plain": [
       "                 f0            f1            f2\n",
       "count  1.000000e+05  1.000000e+05  1.000000e+05\n",
       "mean   3.544498e-17 -1.768141e-17  1.079015e-16\n",
       "std    1.000005e+00  1.000005e+00  1.000005e+00\n",
       "min   -2.189681e+00 -2.177430e+00 -4.491975e+00\n",
       "25%   -6.572397e-01 -8.941262e-01 -6.818784e-01\n",
       "50%    2.226500e-03  2.166008e-04  4.101360e-03\n",
       "75%    6.574259e-01  8.930937e-01  6.811217e-01\n",
       "max    2.135642e+00  2.168043e+00  4.156460e+00"
      ]
     },
     "execution_count": 9,
     "metadata": {},
     "output_type": "execute_result"
    }
   ],
   "source": [
    "features_standard_0.describe()"
   ]
  },
  {
   "cell_type": "markdown",
   "metadata": {},
   "source": [
    "###### Summary\n",
    "\n",
    "There are no missing values or duplicated rows in any of the datasets provided. Features were scaled for further processing."
   ]
  },
  {
   "cell_type": "markdown",
   "metadata": {},
   "source": [
    "## Model Training"
   ]
  },
  {
   "cell_type": "markdown",
   "metadata": {},
   "source": [
    "Split datasets to train and test sets"
   ]
  },
  {
   "cell_type": "code",
   "execution_count": 10,
   "metadata": {},
   "outputs": [],
   "source": [
    "features_train_0, features_valid_0, target_train_0, target_valid_0 = train_test_split(\n",
    "    features_standard_0, target_0, test_size=0.25, random_state=12345)\n",
    "\n",
    "features_train_1, features_valid_1, target_train_1, target_valid_1 = train_test_split(\n",
    "    features_standard_1, target_1, test_size=0.25, random_state=12345)\n",
    "\n",
    "features_train_2, features_valid_2, target_train_2, target_valid_2 = train_test_split(\n",
    "    features_standard_2, target_2, test_size=0.25, random_state=12345)"
   ]
  },
  {
   "cell_type": "code",
   "execution_count": 11,
   "metadata": {},
   "outputs": [],
   "source": [
    "model_0 = LinearRegression()\n",
    "model_1 = LinearRegression()\n",
    "model_2 = LinearRegression()"
   ]
  },
  {
   "cell_type": "code",
   "execution_count": 12,
   "metadata": {},
   "outputs": [
    {
     "data": {
      "text/plain": [
       "LinearRegression()"
      ]
     },
     "execution_count": 12,
     "metadata": {},
     "output_type": "execute_result"
    }
   ],
   "source": [
    "model_0.fit(features_train_0, target_train_0)\n",
    "model_1.fit(features_train_1, target_train_1)\n",
    "model_2.fit(features_train_2, target_train_2)"
   ]
  },
  {
   "cell_type": "code",
   "execution_count": 13,
   "metadata": {},
   "outputs": [],
   "source": [
    "predicted_valid_0 = model_0.predict(features_valid_0)\n",
    "predicted_valid_1 = model_1.predict(features_valid_1)\n",
    "predicted_valid_2 = model_2.predict(features_valid_2)"
   ]
  },
  {
   "cell_type": "markdown",
   "metadata": {},
   "source": [
    "Calculate mean predicted amount of the raw product, thousand barrels. "
   ]
  },
  {
   "cell_type": "code",
   "execution_count": 14,
   "metadata": {},
   "outputs": [
    {
     "name": "stdout",
     "output_type": "stream",
     "text": [
      "model_0 predictions mean: 92.59\n",
      "model_1 predictions mean: 68.73\n",
      "model_2 predictions mean: 94.97\n"
     ]
    }
   ],
   "source": [
    "print(\"model_0 predictions mean:\", \"{:.2f}\".format(predicted_valid_0.mean()))\n",
    "print(\"model_1 predictions mean:\", \"{:.2f}\".format(predicted_valid_1.mean()))\n",
    "print(\"model_2 predictions mean:\", \"{:.2f}\".format(predicted_valid_2.mean()))"
   ]
  },
  {
   "cell_type": "code",
   "execution_count": 15,
   "metadata": {},
   "outputs": [
    {
     "name": "stdout",
     "output_type": "stream",
     "text": [
      "target_0 mean: 92.08\n",
      "target_1 mean: 68.72\n",
      "target_2 mean: 94.88\n"
     ]
    }
   ],
   "source": [
    "print(\"target_0 mean:\", \"{:.2f}\".format(target_valid_0.mean()))\n",
    "print(\"target_1 mean:\", \"{:.2f}\".format(target_valid_1.mean()))\n",
    "print(\"target_2 mean:\", \"{:.2f}\".format(target_valid_2.mean()))"
   ]
  },
  {
   "cell_type": "code",
   "execution_count": 16,
   "metadata": {},
   "outputs": [
    {
     "name": "stdout",
     "output_type": "stream",
     "text": [
      "rmse_0: 37.58\n",
      "rmse_1: 0.89\n",
      "rmse_2: 40.03\n"
     ]
    }
   ],
   "source": [
    "mse_0 = mean_squared_error(target_valid_0, predicted_valid_0)\n",
    "rmse_0 = sqrt(mse_0)\n",
    "print(\"rmse_0:\", \"{:.2f}\".format(rmse_0))\n",
    "\n",
    "mse_1 = mean_squared_error(target_valid_1, predicted_valid_1)\n",
    "rmse_1 = sqrt(mse_1)\n",
    "print(\"rmse_1:\", \"{:.2f}\".format(rmse_1))\n",
    "\n",
    "mse_2 = mean_squared_error(target_valid_2, predicted_valid_2)\n",
    "rmse_2 = sqrt(mse_2)\n",
    "print(\"rmse_2:\", \"{:.2f}\".format(rmse_2))"
   ]
  },
  {
   "cell_type": "markdown",
   "metadata": {},
   "source": [
    "###### Summary\n",
    "\n",
    "Mean of predicted values for the test set is close to the mean of the actual values. \n",
    "RMSE for region_1 is the lowest one."
   ]
  },
  {
   "cell_type": "markdown",
   "metadata": {},
   "source": [
    "## \tProfit calculation - preparation steps"
   ]
  },
  {
   "cell_type": "code",
   "execution_count": 17,
   "metadata": {},
   "outputs": [],
   "source": [
    "BUDGET = 10000000000\n",
    "TOTAL_LOCATIONS_PER_REGION = 500\n",
    "BEST_LOCATIONS = 200\n",
    "PROFIT_PER_BARREL = 450"
   ]
  },
  {
   "cell_type": "code",
   "execution_count": 18,
   "metadata": {},
   "outputs": [
    {
     "data": {
      "text/plain": [
       "50000000.0"
      ]
     },
     "execution_count": 18,
     "metadata": {},
     "output_type": "execute_result"
    }
   ],
   "source": [
    "expense_per_location = BUDGET / BEST_LOCATIONS\n",
    "expense_per_location"
   ]
  },
  {
   "cell_type": "markdown",
   "metadata": {},
   "source": [
    "Calculate sufficient amount of row material for break-even point."
   ]
  },
  {
   "cell_type": "code",
   "execution_count": 19,
   "metadata": {},
   "outputs": [
    {
     "data": {
      "text/plain": [
       "'111111.11'"
      ]
     },
     "execution_count": 19,
     "metadata": {},
     "output_type": "execute_result"
    }
   ],
   "source": [
    "porog = expense_per_location / PROFIT_PER_BARREL\n",
    "\"{:.2f}\".format(porog)"
   ]
  },
  {
   "cell_type": "markdown",
   "metadata": {},
   "source": [
    "###### Summary\n",
    "\n",
    "On average it takes 50 mil. rubles to develop new oil field wells. Breakeven point (111111 barrels) is higher than the mean amount of row material in the regions. Comparison of the means is not sufficient for determination of the most profitable region. Since region_1 has the lowest mean amount of the row material, it looks like the least favourable option at the moment. Further analysis is required. "
   ]
  },
  {
   "cell_type": "markdown",
   "metadata": {},
   "source": [
    "## Calculation of profit and risks"
   ]
  },
  {
   "cell_type": "code",
   "execution_count": 20,
   "metadata": {},
   "outputs": [],
   "source": [
    "target_predicted_0 = pd.Series(predicted_valid_0)\n",
    "target_predicted_1 = pd.Series(predicted_valid_1)\n",
    "target_predicted_2 = pd.Series(predicted_valid_2)"
   ]
  },
  {
   "cell_type": "code",
   "execution_count": 21,
   "metadata": {},
   "outputs": [],
   "source": [
    "target_valid_0 = target_valid_0.reset_index(drop=True)\n",
    "target_valid_1 = target_valid_1.reset_index(drop=True)\n",
    "target_valid_2 = target_valid_2.reset_index(drop=True)"
   ]
  },
  {
   "cell_type": "markdown",
   "metadata": {},
   "source": [
    "Create function for profit calculation. "
   ]
  },
  {
   "cell_type": "code",
   "execution_count": 22,
   "metadata": {},
   "outputs": [],
   "source": [
    "def revenue(target, probabilities):\n",
    "    \n",
    "    probs_sorted = probabilities.sort_values(ascending=False)\n",
    "    selected = target[probs_sorted.index][:BEST_LOCATIONS]\n",
    "    return 1000 * selected.sum() * PROFIT_PER_BARREL - BUDGET"
   ]
  },
  {
   "cell_type": "code",
   "execution_count": 23,
   "metadata": {},
   "outputs": [],
   "source": [
    "state = np.random.RandomState(12345)"
   ]
  },
  {
   "cell_type": "code",
   "execution_count": 24,
   "metadata": {},
   "outputs": [],
   "source": [
    "def bootstrap(target, probabilities):\n",
    "    values = []\n",
    "    for i in range(1000):\n",
    "        target_subsample = target.sample(n=TOTAL_LOCATIONS_PER_REGION, replace=True, random_state=state)\n",
    "        probs_subsample = probabilities[target_subsample.index]\n",
    "        values.append(revenue(target_subsample, probs_subsample))\n",
    "    \n",
    "    values = pd.Series(values)\n",
    "    lower = values.quantile(0.025)\n",
    "    upper = values.quantile(0.975)\n",
    "    risk = (values < 0).mean() * 100\n",
    "    \n",
    "    mean = values.mean()\n",
    "    print(\"Average profit, mil. rubles:\", \"{:.2f}\".format(mean / 1000000))\n",
    "    print(\"95% Interval:\", \"{:.2f}\".format(lower / 1000000), '-', \"{:.2f}\".format(upper / 1000000))\n",
    "    print(\"Risk,%:\", \"{:.2f}\".format(risk))"
   ]
  },
  {
   "cell_type": "code",
   "execution_count": 25,
   "metadata": {},
   "outputs": [
    {
     "name": "stdout",
     "output_type": "stream",
     "text": [
      "Region_0:\n",
      "Average profit, mil. rubles: 425.94\n",
      "95% Interval: -102.09 - 947.98\n",
      "Risk,%: 6.00\n",
      "None\n",
      "\n",
      "Region_1:\n",
      "Average profit, mil. rubles: 518.26\n",
      "95% Interval: 128.12 - 953.61\n",
      "Risk,%: 0.30\n",
      "None\n",
      "\n",
      "Region_2:\n",
      "Average profit, mil. rubles: 420.19\n",
      "95% Interval: -115.85 - 989.63\n",
      "Risk,%: 6.20\n",
      "None\n"
     ]
    }
   ],
   "source": [
    "print(\"Region_0:\")\n",
    "print(bootstrap(target_valid_0, target_predicted_0))\n",
    "print()\n",
    "print(\"Region_1:\")\n",
    "print(bootstrap(target_valid_1, target_predicted_1))\n",
    "print()\n",
    "print(\"Region_2:\")\n",
    "print(bootstrap(target_valid_2, target_predicted_2))"
   ]
  },
  {
   "cell_type": "markdown",
   "metadata": {},
   "source": [
    "###### Summary \n",
    "\n",
    "According to calculations, Region_1 is the most profitable and might be recommended for oil field wells development."
   ]
  },
  {
   "cell_type": "markdown",
   "metadata": {},
   "source": [
    "## Conclusion\n",
    "\n",
    "Three regions with oil fields were analyzed for profitability of future development. Region 1 showed the highest predicted profit (518 mil. rubles) and the lower risk percentage (less that 1%). Model RMSE for this region is also the lowest compared to the other two regions. \n",
    "Based on this study, Region_1 is recommended for further oil field wells development."
   ]
  }
 ],
 "metadata": {
  "ExecuteTimeLog": [
   {
    "duration": 1087,
    "start_time": "2021-10-02T19:21:32.622Z"
   },
   {
    "duration": 935,
    "start_time": "2021-10-02T19:21:36.531Z"
   },
   {
    "duration": 172,
    "start_time": "2021-10-02T19:21:37.469Z"
   },
   {
    "duration": 467,
    "start_time": "2021-10-02T19:22:29.168Z"
   },
   {
    "duration": 23,
    "start_time": "2021-10-02T19:23:27.201Z"
   },
   {
    "duration": 482,
    "start_time": "2021-10-02T19:29:57.892Z"
   },
   {
    "duration": 619,
    "start_time": "2021-10-02T19:37:36.597Z"
   },
   {
    "duration": 6,
    "start_time": "2021-10-02T19:45:44.877Z"
   },
   {
    "duration": 969,
    "start_time": "2021-10-02T19:46:14.508Z"
   },
   {
    "duration": 1074,
    "start_time": "2021-10-02T19:46:20.093Z"
   },
   {
    "duration": 1374,
    "start_time": "2021-10-02T19:46:28.207Z"
   },
   {
    "duration": 490,
    "start_time": "2021-10-02T19:46:29.584Z"
   },
   {
    "duration": 394,
    "start_time": "2021-10-02T19:46:30.079Z"
   },
   {
    "duration": 6,
    "start_time": "2021-10-02T19:46:30.476Z"
   },
   {
    "duration": 1177,
    "start_time": "2021-10-02T19:46:30.485Z"
   },
   {
    "duration": 6,
    "start_time": "2021-10-02T19:47:20.958Z"
   },
   {
    "duration": 879,
    "start_time": "2021-10-02T19:47:23.644Z"
   },
   {
    "duration": 1436,
    "start_time": "2021-10-02T19:47:47.673Z"
   },
   {
    "duration": 644,
    "start_time": "2021-10-02T19:47:49.112Z"
   },
   {
    "duration": 506,
    "start_time": "2021-10-02T19:47:49.761Z"
   },
   {
    "duration": 8,
    "start_time": "2021-10-02T19:47:50.270Z"
   },
   {
    "duration": 952,
    "start_time": "2021-10-02T19:47:50.282Z"
   },
   {
    "duration": 6,
    "start_time": "2021-10-02T19:52:44.149Z"
   },
   {
    "duration": 97,
    "start_time": "2021-10-02T19:52:44.885Z"
   },
   {
    "duration": 397,
    "start_time": "2021-10-02T19:52:56.373Z"
   },
   {
    "duration": 142,
    "start_time": "2021-10-02T19:53:08.149Z"
   },
   {
    "duration": 11,
    "start_time": "2021-10-02T19:53:30.238Z"
   },
   {
    "duration": 144,
    "start_time": "2021-10-02T19:53:44.807Z"
   },
   {
    "duration": 29,
    "start_time": "2021-10-02T19:53:45.094Z"
   },
   {
    "duration": 14,
    "start_time": "2021-10-02T19:54:05.905Z"
   },
   {
    "duration": 68,
    "start_time": "2021-10-02T19:54:09.506Z"
   },
   {
    "duration": 1375,
    "start_time": "2021-10-02T19:54:25.836Z"
   },
   {
    "duration": 487,
    "start_time": "2021-10-02T19:54:27.214Z"
   },
   {
    "duration": 378,
    "start_time": "2021-10-02T19:54:27.704Z"
   },
   {
    "duration": 6,
    "start_time": "2021-10-02T19:54:28.084Z"
   },
   {
    "duration": 125,
    "start_time": "2021-10-02T19:54:28.093Z"
   },
   {
    "duration": 22,
    "start_time": "2021-10-02T19:54:28.221Z"
   },
   {
    "duration": 78,
    "start_time": "2021-10-02T19:54:28.245Z"
   },
   {
    "duration": 1659,
    "start_time": "2021-10-02T19:54:39.065Z"
   },
   {
    "duration": 496,
    "start_time": "2021-10-02T19:54:40.726Z"
   },
   {
    "duration": 396,
    "start_time": "2021-10-02T19:54:41.225Z"
   },
   {
    "duration": 7,
    "start_time": "2021-10-02T19:54:41.624Z"
   },
   {
    "duration": 129,
    "start_time": "2021-10-02T19:54:41.633Z"
   },
   {
    "duration": 28,
    "start_time": "2021-10-02T19:54:41.767Z"
   },
   {
    "duration": 69,
    "start_time": "2021-10-02T19:54:41.798Z"
   },
   {
    "duration": 9,
    "start_time": "2021-10-02T19:57:58.640Z"
   },
   {
    "duration": 153,
    "start_time": "2021-10-02T19:58:01.080Z"
   },
   {
    "duration": 6,
    "start_time": "2021-10-02T19:58:35.669Z"
   },
   {
    "duration": 97,
    "start_time": "2021-10-02T19:58:36.354Z"
   },
   {
    "duration": 51,
    "start_time": "2021-10-02T19:58:41.986Z"
   },
   {
    "duration": 4,
    "start_time": "2021-10-02T19:59:57.321Z"
   },
   {
    "duration": 6,
    "start_time": "2021-10-02T20:03:44.283Z"
   },
   {
    "duration": 159,
    "start_time": "2021-10-02T20:03:47.906Z"
   },
   {
    "duration": 73,
    "start_time": "2021-10-02T20:03:48.820Z"
   },
   {
    "duration": 1480,
    "start_time": "2021-10-02T20:03:57.530Z"
   },
   {
    "duration": 477,
    "start_time": "2021-10-02T20:03:59.012Z"
   },
   {
    "duration": 497,
    "start_time": "2021-10-02T20:03:59.492Z"
   },
   {
    "duration": 8,
    "start_time": "2021-10-02T20:03:59.992Z"
   },
   {
    "duration": 667,
    "start_time": "2021-10-02T20:04:00.016Z"
   },
   {
    "duration": 3132,
    "start_time": "2021-10-02T20:03:57.554Z"
   },
   {
    "duration": 9,
    "start_time": "2021-10-02T20:04:12.990Z"
   },
   {
    "duration": 147,
    "start_time": "2021-10-02T20:04:13.682Z"
   },
   {
    "duration": 435,
    "start_time": "2021-10-02T20:04:14.656Z"
   },
   {
    "duration": 1748,
    "start_time": "2021-10-02T20:05:05.390Z"
   },
   {
    "duration": 483,
    "start_time": "2021-10-02T20:05:07.141Z"
   },
   {
    "duration": 403,
    "start_time": "2021-10-02T20:05:07.628Z"
   },
   {
    "duration": 6,
    "start_time": "2021-10-02T20:05:08.034Z"
   },
   {
    "duration": 115,
    "start_time": "2021-10-02T20:05:08.043Z"
   },
   {
    "duration": 23,
    "start_time": "2021-10-02T20:05:08.161Z"
   },
   {
    "duration": 37,
    "start_time": "2021-10-02T20:05:17.507Z"
   },
   {
    "duration": 553,
    "start_time": "2021-10-02T20:07:36.751Z"
   },
   {
    "duration": 1603,
    "start_time": "2021-10-02T20:07:44.037Z"
   },
   {
    "duration": 755,
    "start_time": "2021-10-02T20:07:45.643Z"
   },
   {
    "duration": 437,
    "start_time": "2021-10-02T20:07:46.403Z"
   },
   {
    "duration": 8,
    "start_time": "2021-10-02T20:07:46.843Z"
   },
   {
    "duration": 11,
    "start_time": "2021-10-02T20:07:46.853Z"
   },
   {
    "duration": 182,
    "start_time": "2021-10-02T20:07:46.867Z"
   },
   {
    "duration": 45,
    "start_time": "2021-10-02T20:07:47.052Z"
   },
   {
    "duration": 51,
    "start_time": "2021-10-02T20:07:47.100Z"
   },
   {
    "duration": 454,
    "start_time": "2021-10-02T20:08:58.515Z"
   },
   {
    "duration": 13,
    "start_time": "2021-10-02T20:09:10.797Z"
   },
   {
    "duration": 11,
    "start_time": "2021-10-02T20:09:59.030Z"
   },
   {
    "duration": 557,
    "start_time": "2021-10-02T20:12:31.564Z"
   },
   {
    "duration": 5,
    "start_time": "2021-10-02T20:12:34.291Z"
   },
   {
    "duration": 412,
    "start_time": "2021-10-02T20:13:24.635Z"
   },
   {
    "duration": 401,
    "start_time": "2021-10-02T20:13:57.597Z"
   },
   {
    "duration": 1012,
    "start_time": "2021-10-02T20:16:27.012Z"
   },
   {
    "duration": 401,
    "start_time": "2021-10-02T20:16:31.889Z"
   },
   {
    "duration": 9,
    "start_time": "2021-10-02T20:16:38.074Z"
   },
   {
    "duration": 5,
    "start_time": "2021-10-02T20:16:51.994Z"
   },
   {
    "duration": 10,
    "start_time": "2021-10-02T20:17:50.732Z"
   },
   {
    "duration": 5,
    "start_time": "2021-10-02T20:18:06.021Z"
   },
   {
    "duration": 1412,
    "start_time": "2021-10-02T20:18:14.159Z"
   },
   {
    "duration": 474,
    "start_time": "2021-10-02T20:18:15.573Z"
   },
   {
    "duration": 351,
    "start_time": "2021-10-02T20:18:16.050Z"
   },
   {
    "duration": 13,
    "start_time": "2021-10-02T20:18:16.404Z"
   },
   {
    "duration": 15,
    "start_time": "2021-10-02T20:18:16.420Z"
   },
   {
    "duration": 479,
    "start_time": "2021-10-02T20:18:16.437Z"
   },
   {
    "duration": 13,
    "start_time": "2021-10-02T20:18:16.918Z"
   },
   {
    "duration": 15,
    "start_time": "2021-10-02T20:18:16.936Z"
   },
   {
    "duration": 7,
    "start_time": "2021-10-02T20:18:16.954Z"
   },
   {
    "duration": 12,
    "start_time": "2021-10-02T20:18:16.964Z"
   },
   {
    "duration": 39,
    "start_time": "2021-10-02T20:18:16.979Z"
   },
   {
    "duration": 373,
    "start_time": "2021-10-02T20:18:56.272Z"
   },
   {
    "duration": 5,
    "start_time": "2021-10-02T20:18:56.647Z"
   },
   {
    "duration": 21,
    "start_time": "2021-10-02T20:18:56.655Z"
   },
   {
    "duration": 6,
    "start_time": "2021-10-02T20:18:57.830Z"
   },
   {
    "duration": 6,
    "start_time": "2021-10-02T20:18:58.530Z"
   },
   {
    "duration": 6,
    "start_time": "2021-10-02T20:18:59.351Z"
   },
   {
    "duration": 18,
    "start_time": "2021-10-02T20:19:59.698Z"
   },
   {
    "duration": 9,
    "start_time": "2021-10-02T20:20:27.874Z"
   },
   {
    "duration": 6,
    "start_time": "2021-10-02T20:20:28.716Z"
   },
   {
    "duration": 21,
    "start_time": "2021-10-02T22:34:58.545Z"
   },
   {
    "duration": 1514,
    "start_time": "2021-10-02T22:35:21.056Z"
   },
   {
    "duration": 1411,
    "start_time": "2021-10-02T22:35:42.631Z"
   },
   {
    "duration": 476,
    "start_time": "2021-10-02T22:35:44.045Z"
   },
   {
    "duration": 392,
    "start_time": "2021-10-02T22:35:44.524Z"
   },
   {
    "duration": 7,
    "start_time": "2021-10-02T22:35:44.919Z"
   },
   {
    "duration": 13,
    "start_time": "2021-10-02T22:35:44.929Z"
   },
   {
    "duration": 397,
    "start_time": "2021-10-02T22:35:44.945Z"
   },
   {
    "duration": 15,
    "start_time": "2021-10-02T22:35:45.344Z"
   },
   {
    "duration": 9,
    "start_time": "2021-10-02T22:35:45.364Z"
   },
   {
    "duration": 6,
    "start_time": "2021-10-02T22:35:45.376Z"
   },
   {
    "duration": 8,
    "start_time": "2021-10-02T22:35:45.418Z"
   },
   {
    "duration": 11,
    "start_time": "2021-10-02T22:35:45.429Z"
   },
   {
    "duration": 10,
    "start_time": "2021-10-02T22:35:45.443Z"
   },
   {
    "duration": 7,
    "start_time": "2021-10-02T22:35:45.455Z"
   },
   {
    "duration": 773,
    "start_time": "2021-10-02T22:35:45.465Z"
   },
   {
    "duration": 4,
    "start_time": "2021-10-02T22:36:16.170Z"
   },
   {
    "duration": 5,
    "start_time": "2021-10-02T22:39:03.769Z"
   },
   {
    "duration": 404,
    "start_time": "2021-10-02T22:41:57.152Z"
   },
   {
    "duration": 1420,
    "start_time": "2021-10-02T22:42:11.197Z"
   },
   {
    "duration": 463,
    "start_time": "2021-10-02T22:42:12.620Z"
   },
   {
    "duration": 346,
    "start_time": "2021-10-02T22:42:13.086Z"
   },
   {
    "duration": 628,
    "start_time": "2021-10-02T22:42:13.435Z"
   },
   {
    "duration": 29,
    "start_time": "2021-10-02T22:42:49.489Z"
   },
   {
    "duration": 34,
    "start_time": "2021-10-02T22:43:16.865Z"
   },
   {
    "duration": 32,
    "start_time": "2021-10-02T22:43:47.610Z"
   },
   {
    "duration": 4,
    "start_time": "2021-10-02T22:45:51.704Z"
   },
   {
    "duration": 69,
    "start_time": "2021-10-02T22:46:03.721Z"
   },
   {
    "duration": 141,
    "start_time": "2021-10-02T22:46:47.541Z"
   },
   {
    "duration": 9,
    "start_time": "2021-10-02T22:46:58.666Z"
   },
   {
    "duration": 38,
    "start_time": "2021-10-02T22:47:01.242Z"
   },
   {
    "duration": 1546,
    "start_time": "2021-10-02T22:51:29.748Z"
   },
   {
    "duration": 469,
    "start_time": "2021-10-02T22:51:31.297Z"
   },
   {
    "duration": 357,
    "start_time": "2021-10-02T22:51:31.769Z"
   },
   {
    "duration": 28,
    "start_time": "2021-10-02T22:51:32.130Z"
   },
   {
    "duration": 64,
    "start_time": "2021-10-02T22:51:32.160Z"
   },
   {
    "duration": 31,
    "start_time": "2021-10-02T22:51:32.227Z"
   },
   {
    "duration": 4,
    "start_time": "2021-10-02T22:51:32.261Z"
   },
   {
    "duration": 168,
    "start_time": "2021-10-02T22:51:32.269Z"
   },
   {
    "duration": 42,
    "start_time": "2021-10-02T22:51:32.440Z"
   },
   {
    "duration": 518,
    "start_time": "2021-10-02T22:51:32.484Z"
   },
   {
    "duration": 3504,
    "start_time": "2021-10-02T22:51:29.500Z"
   },
   {
    "duration": 3504,
    "start_time": "2021-10-02T22:51:29.502Z"
   },
   {
    "duration": 3503,
    "start_time": "2021-10-02T22:51:29.504Z"
   },
   {
    "duration": 3501,
    "start_time": "2021-10-02T22:51:29.508Z"
   },
   {
    "duration": 3501,
    "start_time": "2021-10-02T22:51:29.509Z"
   },
   {
    "duration": 3499,
    "start_time": "2021-10-02T22:51:29.512Z"
   },
   {
    "duration": 3500,
    "start_time": "2021-10-02T22:51:29.513Z"
   },
   {
    "duration": 3362,
    "start_time": "2021-10-02T22:51:29.652Z"
   },
   {
    "duration": 3361,
    "start_time": "2021-10-02T22:51:29.655Z"
   },
   {
    "duration": 3361,
    "start_time": "2021-10-02T22:51:29.657Z"
   },
   {
    "duration": 1390,
    "start_time": "2021-10-02T22:54:59.332Z"
   },
   {
    "duration": 491,
    "start_time": "2021-10-02T22:55:00.725Z"
   },
   {
    "duration": 377,
    "start_time": "2021-10-02T22:55:01.219Z"
   },
   {
    "duration": 35,
    "start_time": "2021-10-02T22:55:01.599Z"
   },
   {
    "duration": 34,
    "start_time": "2021-10-02T22:55:01.637Z"
   },
   {
    "duration": 54,
    "start_time": "2021-10-02T22:55:01.674Z"
   },
   {
    "duration": 5,
    "start_time": "2021-10-02T22:55:01.731Z"
   },
   {
    "duration": 163,
    "start_time": "2021-10-02T22:55:01.738Z"
   },
   {
    "duration": 48,
    "start_time": "2021-10-02T22:55:01.904Z"
   },
   {
    "duration": 7,
    "start_time": "2021-10-02T22:55:01.955Z"
   },
   {
    "duration": 14,
    "start_time": "2021-10-02T22:55:01.965Z"
   },
   {
    "duration": 32,
    "start_time": "2021-10-02T22:55:01.982Z"
   },
   {
    "duration": 514,
    "start_time": "2021-10-02T22:55:02.016Z"
   },
   {
    "duration": 3518,
    "start_time": "2021-10-02T22:54:59.015Z"
   },
   {
    "duration": 5,
    "start_time": "2021-10-02T22:55:11.681Z"
   },
   {
    "duration": 5,
    "start_time": "2021-10-02T22:55:30.881Z"
   },
   {
    "duration": 387,
    "start_time": "2021-10-02T22:56:24.747Z"
   },
   {
    "duration": 380,
    "start_time": "2021-10-02T22:56:39.091Z"
   },
   {
    "duration": 7,
    "start_time": "2021-10-02T22:56:50.164Z"
   },
   {
    "duration": 9,
    "start_time": "2021-10-02T22:57:06.900Z"
   },
   {
    "duration": 6,
    "start_time": "2021-10-02T22:57:08.228Z"
   },
   {
    "duration": 9,
    "start_time": "2021-10-02T22:59:56.664Z"
   },
   {
    "duration": 248,
    "start_time": "2021-10-02T22:59:58.013Z"
   },
   {
    "duration": 40,
    "start_time": "2021-10-02T22:59:59.241Z"
   },
   {
    "duration": 11,
    "start_time": "2021-10-02T23:00:19.552Z"
   },
   {
    "duration": 6,
    "start_time": "2021-10-02T23:00:20.455Z"
   },
   {
    "duration": 5,
    "start_time": "2021-10-02T23:00:29.404Z"
   },
   {
    "duration": 6,
    "start_time": "2021-10-02T23:00:30.067Z"
   },
   {
    "duration": 5,
    "start_time": "2021-10-02T23:00:30.732Z"
   },
   {
    "duration": 492,
    "start_time": "2021-10-02T23:01:46.038Z"
   },
   {
    "duration": 126,
    "start_time": "2021-10-02T23:02:12.241Z"
   },
   {
    "duration": 10,
    "start_time": "2021-10-02T23:02:15.368Z"
   },
   {
    "duration": 11,
    "start_time": "2021-10-02T23:02:24.815Z"
   },
   {
    "duration": 8,
    "start_time": "2021-10-02T23:02:31.902Z"
   },
   {
    "duration": 1378,
    "start_time": "2021-10-02T23:02:53.977Z"
   },
   {
    "duration": 469,
    "start_time": "2021-10-02T23:02:55.358Z"
   },
   {
    "duration": 339,
    "start_time": "2021-10-02T23:02:55.830Z"
   },
   {
    "duration": 7,
    "start_time": "2021-10-02T23:02:56.172Z"
   },
   {
    "duration": 13,
    "start_time": "2021-10-02T23:02:56.182Z"
   },
   {
    "duration": 12,
    "start_time": "2021-10-02T23:02:56.197Z"
   },
   {
    "duration": 6,
    "start_time": "2021-10-02T23:02:56.211Z"
   },
   {
    "duration": 251,
    "start_time": "2021-10-02T23:02:56.221Z"
   },
   {
    "duration": 54,
    "start_time": "2021-10-02T23:02:56.475Z"
   },
   {
    "duration": 11,
    "start_time": "2021-10-02T23:02:56.531Z"
   },
   {
    "duration": 5,
    "start_time": "2021-10-02T23:02:56.545Z"
   },
   {
    "duration": 11,
    "start_time": "2021-10-02T23:02:56.552Z"
   },
   {
    "duration": 9,
    "start_time": "2021-10-02T23:02:56.565Z"
   },
   {
    "duration": 5,
    "start_time": "2021-10-02T23:02:56.577Z"
   },
   {
    "duration": 13,
    "start_time": "2021-10-02T23:02:56.585Z"
   },
   {
    "duration": 17,
    "start_time": "2021-10-02T23:02:56.601Z"
   },
   {
    "duration": 8,
    "start_time": "2021-10-02T23:02:56.620Z"
   },
   {
    "duration": 29,
    "start_time": "2021-10-02T23:02:56.630Z"
   },
   {
    "duration": 629,
    "start_time": "2021-10-02T23:02:56.661Z"
   },
   {
    "duration": 2737,
    "start_time": "2021-10-02T23:02:54.555Z"
   },
   {
    "duration": 51,
    "start_time": "2021-10-02T23:03:38.825Z"
   },
   {
    "duration": 409,
    "start_time": "2021-10-02T23:03:40.015Z"
   },
   {
    "duration": 3,
    "start_time": "2021-10-02T23:03:52.024Z"
   },
   {
    "duration": 34,
    "start_time": "2021-10-02T23:04:02.898Z"
   },
   {
    "duration": 6,
    "start_time": "2021-10-02T23:04:22.692Z"
   },
   {
    "duration": 5,
    "start_time": "2021-10-02T23:05:11.199Z"
   },
   {
    "duration": 4,
    "start_time": "2021-10-02T23:06:57.171Z"
   },
   {
    "duration": 7,
    "start_time": "2021-10-02T23:07:38.275Z"
   },
   {
    "duration": 2006,
    "start_time": "2021-10-02T23:07:59.858Z"
   },
   {
    "duration": 484,
    "start_time": "2021-10-02T23:08:01.867Z"
   },
   {
    "duration": 376,
    "start_time": "2021-10-02T23:08:02.354Z"
   },
   {
    "duration": 8,
    "start_time": "2021-10-02T23:08:02.734Z"
   },
   {
    "duration": 28,
    "start_time": "2021-10-02T23:08:02.745Z"
   },
   {
    "duration": 20,
    "start_time": "2021-10-02T23:08:02.776Z"
   },
   {
    "duration": 26,
    "start_time": "2021-10-02T23:08:02.799Z"
   },
   {
    "duration": 234,
    "start_time": "2021-10-02T23:08:02.827Z"
   },
   {
    "duration": 63,
    "start_time": "2021-10-02T23:08:03.066Z"
   },
   {
    "duration": 9,
    "start_time": "2021-10-02T23:08:03.132Z"
   },
   {
    "duration": 10,
    "start_time": "2021-10-02T23:08:03.143Z"
   },
   {
    "duration": 27,
    "start_time": "2021-10-02T23:08:03.155Z"
   },
   {
    "duration": 26,
    "start_time": "2021-10-02T23:08:03.185Z"
   },
   {
    "duration": 13,
    "start_time": "2021-10-02T23:08:03.213Z"
   },
   {
    "duration": 30,
    "start_time": "2021-10-02T23:08:03.228Z"
   },
   {
    "duration": 55,
    "start_time": "2021-10-02T23:08:03.260Z"
   },
   {
    "duration": 3,
    "start_time": "2021-10-02T23:08:03.317Z"
   },
   {
    "duration": 58,
    "start_time": "2021-10-02T23:08:03.322Z"
   },
   {
    "duration": 41,
    "start_time": "2021-10-02T23:08:03.383Z"
   },
   {
    "duration": 7,
    "start_time": "2021-10-02T23:08:03.518Z"
   },
   {
    "duration": 34,
    "start_time": "2021-10-02T23:08:03.527Z"
   },
   {
    "duration": 505,
    "start_time": "2021-10-02T23:13:52.263Z"
   },
   {
    "duration": 5,
    "start_time": "2021-10-02T23:14:23.432Z"
   },
   {
    "duration": 427,
    "start_time": "2021-10-02T23:14:29.583Z"
   },
   {
    "duration": 7,
    "start_time": "2021-10-02T23:14:38.214Z"
   },
   {
    "duration": 6,
    "start_time": "2021-10-02T23:17:46.402Z"
   },
   {
    "duration": 4,
    "start_time": "2021-10-02T23:34:34.691Z"
   },
   {
    "duration": 4,
    "start_time": "2021-10-02T23:36:12.772Z"
   },
   {
    "duration": 4,
    "start_time": "2021-10-02T23:36:18.326Z"
   },
   {
    "duration": 6,
    "start_time": "2021-10-02T23:36:32.110Z"
   },
   {
    "duration": 5,
    "start_time": "2021-10-02T23:40:48.745Z"
   },
   {
    "duration": 7,
    "start_time": "2021-10-02T23:42:06.748Z"
   },
   {
    "duration": 7,
    "start_time": "2021-10-02T23:42:13.105Z"
   },
   {
    "duration": 7,
    "start_time": "2021-10-02T23:42:18.219Z"
   },
   {
    "duration": 416,
    "start_time": "2021-10-02T23:46:47.581Z"
   },
   {
    "duration": 2081,
    "start_time": "2021-10-02T23:46:59.828Z"
   },
   {
    "duration": 1416,
    "start_time": "2021-10-02T23:47:36.902Z"
   },
   {
    "duration": 460,
    "start_time": "2021-10-02T23:47:38.320Z"
   },
   {
    "duration": 375,
    "start_time": "2021-10-02T23:47:38.783Z"
   },
   {
    "duration": 7,
    "start_time": "2021-10-02T23:47:39.161Z"
   },
   {
    "duration": 20,
    "start_time": "2021-10-02T23:47:39.170Z"
   },
   {
    "duration": 11,
    "start_time": "2021-10-02T23:47:39.193Z"
   },
   {
    "duration": 13,
    "start_time": "2021-10-02T23:47:39.206Z"
   },
   {
    "duration": 240,
    "start_time": "2021-10-02T23:47:39.223Z"
   },
   {
    "duration": 60,
    "start_time": "2021-10-02T23:47:39.466Z"
   },
   {
    "duration": 10,
    "start_time": "2021-10-02T23:47:39.528Z"
   },
   {
    "duration": 6,
    "start_time": "2021-10-02T23:47:39.540Z"
   },
   {
    "duration": 10,
    "start_time": "2021-10-02T23:47:39.548Z"
   },
   {
    "duration": 9,
    "start_time": "2021-10-02T23:47:39.560Z"
   },
   {
    "duration": 47,
    "start_time": "2021-10-02T23:47:39.571Z"
   },
   {
    "duration": 6,
    "start_time": "2021-10-02T23:47:39.621Z"
   },
   {
    "duration": 47,
    "start_time": "2021-10-02T23:47:39.629Z"
   },
   {
    "duration": 3,
    "start_time": "2021-10-02T23:47:39.679Z"
   },
   {
    "duration": 60,
    "start_time": "2021-10-02T23:47:39.684Z"
   },
   {
    "duration": 73,
    "start_time": "2021-10-02T23:47:39.747Z"
   },
   {
    "duration": 94,
    "start_time": "2021-10-02T23:47:39.826Z"
   },
   {
    "duration": 11,
    "start_time": "2021-10-02T23:47:39.922Z"
   },
   {
    "duration": 7,
    "start_time": "2021-10-02T23:47:39.935Z"
   },
   {
    "duration": 4,
    "start_time": "2021-10-02T23:47:39.946Z"
   },
   {
    "duration": 6,
    "start_time": "2021-10-02T23:47:39.953Z"
   },
   {
    "duration": 56,
    "start_time": "2021-10-02T23:47:39.962Z"
   },
   {
    "duration": 1078,
    "start_time": "2021-10-02T23:47:40.020Z"
   },
   {
    "duration": 7,
    "start_time": "2021-10-02T23:49:20.425Z"
   },
   {
    "duration": 6,
    "start_time": "2021-10-02T23:50:15.650Z"
   },
   {
    "duration": 1270,
    "start_time": "2021-10-02T23:53:00.760Z"
   },
   {
    "duration": 456,
    "start_time": "2021-10-02T23:53:02.033Z"
   },
   {
    "duration": 355,
    "start_time": "2021-10-02T23:53:02.492Z"
   },
   {
    "duration": 7,
    "start_time": "2021-10-02T23:53:02.850Z"
   },
   {
    "duration": 11,
    "start_time": "2021-10-02T23:53:02.860Z"
   },
   {
    "duration": 11,
    "start_time": "2021-10-02T23:53:02.874Z"
   },
   {
    "duration": 29,
    "start_time": "2021-10-02T23:53:02.887Z"
   },
   {
    "duration": 230,
    "start_time": "2021-10-02T23:53:02.918Z"
   },
   {
    "duration": 49,
    "start_time": "2021-10-02T23:53:03.152Z"
   },
   {
    "duration": 10,
    "start_time": "2021-10-02T23:53:03.216Z"
   },
   {
    "duration": 4,
    "start_time": "2021-10-02T23:53:03.229Z"
   },
   {
    "duration": 14,
    "start_time": "2021-10-02T23:53:03.236Z"
   },
   {
    "duration": 14,
    "start_time": "2021-10-02T23:53:03.253Z"
   },
   {
    "duration": 5,
    "start_time": "2021-10-02T23:53:03.269Z"
   },
   {
    "duration": 40,
    "start_time": "2021-10-02T23:53:03.277Z"
   },
   {
    "duration": 45,
    "start_time": "2021-10-02T23:53:03.319Z"
   },
   {
    "duration": 4,
    "start_time": "2021-10-02T23:53:03.366Z"
   },
   {
    "duration": 51,
    "start_time": "2021-10-02T23:53:03.372Z"
   },
   {
    "duration": 14,
    "start_time": "2021-10-02T23:53:03.426Z"
   },
   {
    "duration": 102,
    "start_time": "2021-10-02T23:53:03.518Z"
   },
   {
    "duration": 8,
    "start_time": "2021-10-02T23:53:03.623Z"
   },
   {
    "duration": 8,
    "start_time": "2021-10-02T23:53:03.634Z"
   },
   {
    "duration": 4,
    "start_time": "2021-10-02T23:53:03.645Z"
   },
   {
    "duration": 11,
    "start_time": "2021-10-02T23:53:03.652Z"
   },
   {
    "duration": 9,
    "start_time": "2021-10-02T23:53:03.666Z"
   },
   {
    "duration": 13,
    "start_time": "2021-10-02T23:53:03.718Z"
   },
   {
    "duration": 8,
    "start_time": "2021-10-02T23:53:03.735Z"
   },
   {
    "duration": 127,
    "start_time": "2021-10-02T23:53:03.746Z"
   },
   {
    "duration": 8,
    "start_time": "2021-10-02T23:53:12.488Z"
   },
   {
    "duration": 7,
    "start_time": "2021-10-02T23:53:23.376Z"
   },
   {
    "duration": 9,
    "start_time": "2021-10-02T23:53:34.273Z"
   },
   {
    "duration": 8,
    "start_time": "2021-10-02T23:53:43.084Z"
   },
   {
    "duration": 9,
    "start_time": "2021-10-02T23:53:51.892Z"
   },
   {
    "duration": 11,
    "start_time": "2021-10-02T23:54:11.027Z"
   },
   {
    "duration": 5,
    "start_time": "2021-10-03T00:00:48.953Z"
   },
   {
    "duration": 4,
    "start_time": "2021-10-03T00:00:57.872Z"
   },
   {
    "duration": 910,
    "start_time": "2021-10-03T00:01:27.114Z"
   },
   {
    "duration": 4,
    "start_time": "2021-10-03T00:02:06.690Z"
   },
   {
    "duration": 783,
    "start_time": "2021-10-03T00:02:07.053Z"
   },
   {
    "duration": 8,
    "start_time": "2021-10-03T00:02:27.879Z"
   },
   {
    "duration": 5,
    "start_time": "2021-10-03T00:02:41.139Z"
   },
   {
    "duration": 972,
    "start_time": "2021-10-03T00:02:41.972Z"
   },
   {
    "duration": 5,
    "start_time": "2021-10-03T00:02:54.917Z"
   },
   {
    "duration": 2256,
    "start_time": "2021-10-03T00:02:55.267Z"
   },
   {
    "duration": 5,
    "start_time": "2021-10-03T00:08:07.530Z"
   },
   {
    "duration": 5,
    "start_time": "2021-10-03T00:08:21.402Z"
   },
   {
    "duration": 789,
    "start_time": "2021-10-03T00:08:22.122Z"
   },
   {
    "duration": 9,
    "start_time": "2021-10-03T00:13:44.965Z"
   },
   {
    "duration": 4,
    "start_time": "2021-10-03T00:15:29.905Z"
   },
   {
    "duration": 820,
    "start_time": "2021-10-03T00:16:20.844Z"
   },
   {
    "duration": 4,
    "start_time": "2021-10-03T00:17:55.279Z"
   },
   {
    "duration": 805,
    "start_time": "2021-10-03T00:17:56.069Z"
   },
   {
    "duration": 987,
    "start_time": "2021-10-03T13:07:15.588Z"
   },
   {
    "duration": 359,
    "start_time": "2021-10-03T13:07:16.577Z"
   },
   {
    "duration": 231,
    "start_time": "2021-10-03T13:07:16.939Z"
   },
   {
    "duration": 6,
    "start_time": "2021-10-03T13:07:17.172Z"
   },
   {
    "duration": 8,
    "start_time": "2021-10-03T13:07:17.179Z"
   },
   {
    "duration": 8,
    "start_time": "2021-10-03T13:07:17.189Z"
   },
   {
    "duration": 5,
    "start_time": "2021-10-03T13:07:17.198Z"
   },
   {
    "duration": 174,
    "start_time": "2021-10-03T13:07:17.204Z"
   },
   {
    "duration": 34,
    "start_time": "2021-10-03T13:07:17.381Z"
   },
   {
    "duration": 8,
    "start_time": "2021-10-03T13:07:17.417Z"
   },
   {
    "duration": 4,
    "start_time": "2021-10-03T13:07:17.426Z"
   },
   {
    "duration": 22,
    "start_time": "2021-10-03T13:07:17.431Z"
   },
   {
    "duration": 9,
    "start_time": "2021-10-03T13:07:17.455Z"
   },
   {
    "duration": 4,
    "start_time": "2021-10-03T13:07:17.465Z"
   },
   {
    "duration": 4,
    "start_time": "2021-10-03T13:07:17.471Z"
   },
   {
    "duration": 41,
    "start_time": "2021-10-03T13:07:17.476Z"
   },
   {
    "duration": 3,
    "start_time": "2021-10-03T13:07:17.518Z"
   },
   {
    "duration": 23,
    "start_time": "2021-10-03T13:07:17.550Z"
   },
   {
    "duration": 5,
    "start_time": "2021-10-03T13:07:17.574Z"
   },
   {
    "duration": 168,
    "start_time": "2021-10-03T13:07:17.581Z"
   },
   {
    "duration": 5,
    "start_time": "2021-10-03T13:07:17.751Z"
   },
   {
    "duration": 7,
    "start_time": "2021-10-03T13:07:17.757Z"
   },
   {
    "duration": 3,
    "start_time": "2021-10-03T13:07:17.766Z"
   },
   {
    "duration": 5,
    "start_time": "2021-10-03T13:07:17.771Z"
   },
   {
    "duration": 28,
    "start_time": "2021-10-03T13:07:17.778Z"
   },
   {
    "duration": 8,
    "start_time": "2021-10-03T13:07:17.809Z"
   },
   {
    "duration": 28,
    "start_time": "2021-10-03T13:07:17.821Z"
   },
   {
    "duration": 5,
    "start_time": "2021-10-03T13:07:17.851Z"
   },
   {
    "duration": 16,
    "start_time": "2021-10-03T13:07:17.858Z"
   },
   {
    "duration": 7,
    "start_time": "2021-10-03T13:07:25.497Z"
   },
   {
    "duration": 3,
    "start_time": "2021-10-03T13:14:41.771Z"
   },
   {
    "duration": 545,
    "start_time": "2021-10-03T13:15:29.154Z"
   },
   {
    "duration": 4,
    "start_time": "2021-10-03T13:16:57.231Z"
   },
   {
    "duration": 3,
    "start_time": "2021-10-03T13:17:11.477Z"
   },
   {
    "duration": 4,
    "start_time": "2021-10-03T13:26:40.311Z"
   },
   {
    "duration": 3,
    "start_time": "2021-10-03T13:28:53.754Z"
   },
   {
    "duration": 462,
    "start_time": "2021-10-03T13:28:54.701Z"
   },
   {
    "duration": 1044,
    "start_time": "2021-10-03T13:29:22.846Z"
   },
   {
    "duration": 375,
    "start_time": "2021-10-03T13:29:23.892Z"
   },
   {
    "duration": 242,
    "start_time": "2021-10-03T13:29:24.270Z"
   },
   {
    "duration": 6,
    "start_time": "2021-10-03T13:29:24.514Z"
   },
   {
    "duration": 8,
    "start_time": "2021-10-03T13:29:24.521Z"
   },
   {
    "duration": 23,
    "start_time": "2021-10-03T13:29:24.531Z"
   },
   {
    "duration": 19,
    "start_time": "2021-10-03T13:29:24.556Z"
   },
   {
    "duration": 209,
    "start_time": "2021-10-03T13:29:24.577Z"
   },
   {
    "duration": 41,
    "start_time": "2021-10-03T13:29:24.789Z"
   },
   {
    "duration": 24,
    "start_time": "2021-10-03T13:29:24.831Z"
   },
   {
    "duration": 5,
    "start_time": "2021-10-03T13:29:24.857Z"
   },
   {
    "duration": 14,
    "start_time": "2021-10-03T13:29:24.864Z"
   },
   {
    "duration": 16,
    "start_time": "2021-10-03T13:29:24.880Z"
   },
   {
    "duration": 7,
    "start_time": "2021-10-03T13:29:24.898Z"
   },
   {
    "duration": 6,
    "start_time": "2021-10-03T13:29:24.906Z"
   },
   {
    "duration": 50,
    "start_time": "2021-10-03T13:29:24.913Z"
   },
   {
    "duration": 2,
    "start_time": "2021-10-03T13:29:24.965Z"
   },
   {
    "duration": 53,
    "start_time": "2021-10-03T13:29:24.968Z"
   },
   {
    "duration": 4,
    "start_time": "2021-10-03T13:29:25.023Z"
   },
   {
    "duration": 124,
    "start_time": "2021-10-03T13:29:25.029Z"
   },
   {
    "duration": 17,
    "start_time": "2021-10-03T13:29:25.156Z"
   },
   {
    "duration": 84,
    "start_time": "2021-10-03T13:29:25.175Z"
   },
   {
    "duration": 6,
    "start_time": "2021-10-03T13:29:25.263Z"
   },
   {
    "duration": 9,
    "start_time": "2021-10-03T13:29:25.271Z"
   },
   {
    "duration": 9,
    "start_time": "2021-10-03T13:29:25.281Z"
   },
   {
    "duration": 14,
    "start_time": "2021-10-03T13:29:25.291Z"
   },
   {
    "duration": 8,
    "start_time": "2021-10-03T13:29:25.306Z"
   },
   {
    "duration": 12,
    "start_time": "2021-10-03T13:29:25.315Z"
   },
   {
    "duration": 25,
    "start_time": "2021-10-03T13:29:25.329Z"
   },
   {
    "duration": 97,
    "start_time": "2021-10-03T13:29:25.357Z"
   },
   {
    "duration": 96,
    "start_time": "2021-10-03T13:29:25.456Z"
   },
   {
    "duration": 11,
    "start_time": "2021-10-03T13:29:25.553Z"
   },
   {
    "duration": 12,
    "start_time": "2021-10-03T13:29:25.565Z"
   },
   {
    "duration": 850,
    "start_time": "2021-10-03T13:29:25.579Z"
   },
   {
    "duration": 2,
    "start_time": "2021-10-03T13:29:26.430Z"
   },
   {
    "duration": 21,
    "start_time": "2021-10-03T13:29:26.433Z"
   },
   {
    "duration": 328,
    "start_time": "2021-10-03T13:29:26.456Z"
   },
   {
    "duration": 273,
    "start_time": "2021-10-03T13:30:52.660Z"
   },
   {
    "duration": 231,
    "start_time": "2021-10-03T13:31:18.924Z"
   },
   {
    "duration": 3,
    "start_time": "2021-10-03T13:31:37.707Z"
   },
   {
    "duration": 3,
    "start_time": "2021-10-03T13:31:44.959Z"
   },
   {
    "duration": 1006,
    "start_time": "2021-10-03T13:32:50.076Z"
   },
   {
    "duration": 403,
    "start_time": "2021-10-03T13:32:51.084Z"
   },
   {
    "duration": 237,
    "start_time": "2021-10-03T13:32:51.489Z"
   },
   {
    "duration": 6,
    "start_time": "2021-10-03T13:32:51.728Z"
   },
   {
    "duration": 6,
    "start_time": "2021-10-03T13:32:51.749Z"
   },
   {
    "duration": 8,
    "start_time": "2021-10-03T13:32:51.757Z"
   },
   {
    "duration": 6,
    "start_time": "2021-10-03T13:32:51.766Z"
   },
   {
    "duration": 179,
    "start_time": "2021-10-03T13:32:51.774Z"
   },
   {
    "duration": 37,
    "start_time": "2021-10-03T13:32:51.955Z"
   },
   {
    "duration": 8,
    "start_time": "2021-10-03T13:32:51.994Z"
   },
   {
    "duration": 6,
    "start_time": "2021-10-03T13:32:52.004Z"
   },
   {
    "duration": 10,
    "start_time": "2021-10-03T13:32:52.012Z"
   },
   {
    "duration": 27,
    "start_time": "2021-10-03T13:32:52.024Z"
   },
   {
    "duration": 5,
    "start_time": "2021-10-03T13:32:52.053Z"
   },
   {
    "duration": 5,
    "start_time": "2021-10-03T13:32:52.060Z"
   },
   {
    "duration": 43,
    "start_time": "2021-10-03T13:32:52.067Z"
   },
   {
    "duration": 2,
    "start_time": "2021-10-03T13:32:52.112Z"
   },
   {
    "duration": 47,
    "start_time": "2021-10-03T13:32:52.116Z"
   },
   {
    "duration": 7,
    "start_time": "2021-10-03T13:32:52.165Z"
   },
   {
    "duration": 175,
    "start_time": "2021-10-03T13:32:52.174Z"
   },
   {
    "duration": 4,
    "start_time": "2021-10-03T13:32:52.351Z"
   },
   {
    "duration": 6,
    "start_time": "2021-10-03T13:32:52.357Z"
   },
   {
    "duration": 3,
    "start_time": "2021-10-03T13:32:52.366Z"
   },
   {
    "duration": 6,
    "start_time": "2021-10-03T13:32:52.370Z"
   },
   {
    "duration": 5,
    "start_time": "2021-10-03T13:32:52.377Z"
   },
   {
    "duration": 12,
    "start_time": "2021-10-03T13:32:52.383Z"
   },
   {
    "duration": 8,
    "start_time": "2021-10-03T13:32:52.396Z"
   },
   {
    "duration": 9,
    "start_time": "2021-10-03T13:32:52.405Z"
   },
   {
    "duration": 40,
    "start_time": "2021-10-03T13:32:52.415Z"
   },
   {
    "duration": 93,
    "start_time": "2021-10-03T13:32:52.458Z"
   },
   {
    "duration": 5,
    "start_time": "2021-10-03T13:32:52.553Z"
   },
   {
    "duration": 3,
    "start_time": "2021-10-03T13:32:52.650Z"
   },
   {
    "duration": 5,
    "start_time": "2021-10-03T13:32:52.655Z"
   },
   {
    "duration": 822,
    "start_time": "2021-10-03T13:32:52.661Z"
   },
   {
    "duration": 3,
    "start_time": "2021-10-03T13:32:53.484Z"
   },
   {
    "duration": 10,
    "start_time": "2021-10-03T13:32:53.488Z"
   },
   {
    "duration": 5,
    "start_time": "2021-10-03T13:32:53.500Z"
   },
   {
    "duration": 1001,
    "start_time": "2021-10-03T13:33:36.375Z"
   },
   {
    "duration": 386,
    "start_time": "2021-10-03T13:33:37.378Z"
   },
   {
    "duration": 237,
    "start_time": "2021-10-03T13:33:37.766Z"
   },
   {
    "duration": 6,
    "start_time": "2021-10-03T13:33:38.005Z"
   },
   {
    "duration": 17,
    "start_time": "2021-10-03T13:33:38.013Z"
   },
   {
    "duration": 18,
    "start_time": "2021-10-03T13:33:38.031Z"
   },
   {
    "duration": 3,
    "start_time": "2021-10-03T13:33:38.051Z"
   },
   {
    "duration": 174,
    "start_time": "2021-10-03T13:33:38.056Z"
   },
   {
    "duration": 41,
    "start_time": "2021-10-03T13:33:38.233Z"
   },
   {
    "duration": 8,
    "start_time": "2021-10-03T13:33:38.275Z"
   },
   {
    "duration": 17,
    "start_time": "2021-10-03T13:33:38.284Z"
   },
   {
    "duration": 11,
    "start_time": "2021-10-03T13:33:38.303Z"
   },
   {
    "duration": 12,
    "start_time": "2021-10-03T13:33:38.315Z"
   },
   {
    "duration": 11,
    "start_time": "2021-10-03T13:33:38.329Z"
   },
   {
    "duration": 16,
    "start_time": "2021-10-03T13:33:38.342Z"
   },
   {
    "duration": 45,
    "start_time": "2021-10-03T13:33:38.359Z"
   },
   {
    "duration": 2,
    "start_time": "2021-10-03T13:33:38.406Z"
   },
   {
    "duration": 28,
    "start_time": "2021-10-03T13:33:38.410Z"
   },
   {
    "duration": 15,
    "start_time": "2021-10-03T13:33:38.440Z"
   },
   {
    "duration": 94,
    "start_time": "2021-10-03T13:33:38.457Z"
   },
   {
    "duration": 98,
    "start_time": "2021-10-03T13:33:38.553Z"
   },
   {
    "duration": 6,
    "start_time": "2021-10-03T13:33:38.654Z"
   },
   {
    "duration": 2,
    "start_time": "2021-10-03T13:33:38.664Z"
   },
   {
    "duration": 6,
    "start_time": "2021-10-03T13:33:38.669Z"
   },
   {
    "duration": 11,
    "start_time": "2021-10-03T13:33:38.677Z"
   },
   {
    "duration": 16,
    "start_time": "2021-10-03T13:33:38.690Z"
   },
   {
    "duration": 8,
    "start_time": "2021-10-03T13:33:38.708Z"
   },
   {
    "duration": 34,
    "start_time": "2021-10-03T13:33:38.718Z"
   },
   {
    "duration": 7,
    "start_time": "2021-10-03T13:33:38.754Z"
   },
   {
    "duration": 86,
    "start_time": "2021-10-03T13:33:38.763Z"
   },
   {
    "duration": 5,
    "start_time": "2021-10-03T13:33:38.852Z"
   },
   {
    "duration": 97,
    "start_time": "2021-10-03T13:33:38.860Z"
   },
   {
    "duration": 19,
    "start_time": "2021-10-03T13:33:38.958Z"
   },
   {
    "duration": 849,
    "start_time": "2021-10-03T13:33:38.978Z"
   },
   {
    "duration": 2,
    "start_time": "2021-10-03T13:33:39.828Z"
   },
   {
    "duration": 5,
    "start_time": "2021-10-03T13:33:39.832Z"
   },
   {
    "duration": 7,
    "start_time": "2021-10-03T13:33:39.838Z"
   },
   {
    "duration": 1015,
    "start_time": "2021-10-03T13:45:33.575Z"
   },
   {
    "duration": 397,
    "start_time": "2021-10-03T13:45:34.591Z"
   },
   {
    "duration": 302,
    "start_time": "2021-10-03T13:45:34.991Z"
   },
   {
    "duration": 8,
    "start_time": "2021-10-03T13:45:35.295Z"
   },
   {
    "duration": 8,
    "start_time": "2021-10-03T13:45:35.305Z"
   },
   {
    "duration": 7,
    "start_time": "2021-10-03T13:45:35.315Z"
   },
   {
    "duration": 5,
    "start_time": "2021-10-03T13:45:35.323Z"
   },
   {
    "duration": 179,
    "start_time": "2021-10-03T13:45:35.357Z"
   },
   {
    "duration": 41,
    "start_time": "2021-10-03T13:45:35.538Z"
   },
   {
    "duration": 9,
    "start_time": "2021-10-03T13:45:35.581Z"
   },
   {
    "duration": 3,
    "start_time": "2021-10-03T13:45:35.592Z"
   },
   {
    "duration": 9,
    "start_time": "2021-10-03T13:45:35.597Z"
   },
   {
    "duration": 7,
    "start_time": "2021-10-03T13:45:35.607Z"
   },
   {
    "duration": 4,
    "start_time": "2021-10-03T13:45:35.615Z"
   },
   {
    "duration": 3,
    "start_time": "2021-10-03T13:45:35.654Z"
   },
   {
    "duration": 73,
    "start_time": "2021-10-03T13:45:35.658Z"
   },
   {
    "duration": 3,
    "start_time": "2021-10-03T13:45:35.732Z"
   },
   {
    "duration": 36,
    "start_time": "2021-10-03T13:45:35.736Z"
   },
   {
    "duration": 5,
    "start_time": "2021-10-03T13:45:35.774Z"
   },
   {
    "duration": 72,
    "start_time": "2021-10-03T13:45:35.782Z"
   },
   {
    "duration": 99,
    "start_time": "2021-10-03T13:45:35.855Z"
   },
   {
    "duration": 6,
    "start_time": "2021-10-03T13:45:35.965Z"
   },
   {
    "duration": 11,
    "start_time": "2021-10-03T13:45:35.975Z"
   },
   {
    "duration": 5,
    "start_time": "2021-10-03T13:45:35.988Z"
   },
   {
    "duration": 11,
    "start_time": "2021-10-03T13:45:35.994Z"
   },
   {
    "duration": 10,
    "start_time": "2021-10-03T13:45:36.006Z"
   },
   {
    "duration": 6,
    "start_time": "2021-10-03T13:45:36.017Z"
   },
   {
    "duration": 9,
    "start_time": "2021-10-03T13:45:36.024Z"
   },
   {
    "duration": 26,
    "start_time": "2021-10-03T13:45:36.035Z"
   },
   {
    "duration": 86,
    "start_time": "2021-10-03T13:45:36.067Z"
   },
   {
    "duration": 9,
    "start_time": "2021-10-03T13:45:36.155Z"
   },
   {
    "duration": 86,
    "start_time": "2021-10-03T13:45:36.165Z"
   },
   {
    "duration": 14,
    "start_time": "2021-10-03T13:45:36.252Z"
   },
   {
    "duration": 866,
    "start_time": "2021-10-03T13:45:36.268Z"
   },
   {
    "duration": 17,
    "start_time": "2021-10-03T13:45:37.136Z"
   },
   {
    "duration": 1050,
    "start_time": "2021-10-03T13:47:47.634Z"
   },
   {
    "duration": 401,
    "start_time": "2021-10-03T13:47:48.686Z"
   },
   {
    "duration": 241,
    "start_time": "2021-10-03T13:47:49.089Z"
   },
   {
    "duration": 18,
    "start_time": "2021-10-03T13:47:49.331Z"
   },
   {
    "duration": 7,
    "start_time": "2021-10-03T13:47:49.354Z"
   },
   {
    "duration": 8,
    "start_time": "2021-10-03T13:47:49.363Z"
   },
   {
    "duration": 4,
    "start_time": "2021-10-03T13:47:49.373Z"
   },
   {
    "duration": 180,
    "start_time": "2021-10-03T13:47:49.379Z"
   },
   {
    "duration": 38,
    "start_time": "2021-10-03T13:47:49.561Z"
   },
   {
    "duration": 7,
    "start_time": "2021-10-03T13:47:49.601Z"
   },
   {
    "duration": 3,
    "start_time": "2021-10-03T13:47:49.610Z"
   },
   {
    "duration": 8,
    "start_time": "2021-10-03T13:47:49.614Z"
   },
   {
    "duration": 33,
    "start_time": "2021-10-03T13:47:49.624Z"
   },
   {
    "duration": 4,
    "start_time": "2021-10-03T13:47:49.659Z"
   },
   {
    "duration": 7,
    "start_time": "2021-10-03T13:47:49.664Z"
   },
   {
    "duration": 44,
    "start_time": "2021-10-03T13:47:49.672Z"
   },
   {
    "duration": 2,
    "start_time": "2021-10-03T13:47:49.718Z"
   },
   {
    "duration": 49,
    "start_time": "2021-10-03T13:47:49.722Z"
   },
   {
    "duration": 11,
    "start_time": "2021-10-03T13:47:49.773Z"
   },
   {
    "duration": 71,
    "start_time": "2021-10-03T13:47:49.787Z"
   },
   {
    "duration": 87,
    "start_time": "2021-10-03T13:47:49.862Z"
   },
   {
    "duration": 6,
    "start_time": "2021-10-03T13:47:49.951Z"
   },
   {
    "duration": 5,
    "start_time": "2021-10-03T13:47:49.960Z"
   },
   {
    "duration": 6,
    "start_time": "2021-10-03T13:47:49.967Z"
   },
   {
    "duration": 5,
    "start_time": "2021-10-03T13:47:49.974Z"
   },
   {
    "duration": 10,
    "start_time": "2021-10-03T13:47:49.981Z"
   },
   {
    "duration": 6,
    "start_time": "2021-10-03T13:47:49.992Z"
   },
   {
    "duration": 7,
    "start_time": "2021-10-03T13:47:50.000Z"
   },
   {
    "duration": 46,
    "start_time": "2021-10-03T13:47:50.009Z"
   },
   {
    "duration": 100,
    "start_time": "2021-10-03T13:47:50.058Z"
   },
   {
    "duration": 15,
    "start_time": "2021-10-03T13:47:50.160Z"
   },
   {
    "duration": 11,
    "start_time": "2021-10-03T13:47:50.176Z"
   },
   {
    "duration": 7,
    "start_time": "2021-10-03T13:47:50.188Z"
   },
   {
    "duration": 843,
    "start_time": "2021-10-03T13:47:50.197Z"
   },
   {
    "duration": 2,
    "start_time": "2021-10-03T13:47:51.042Z"
   },
   {
    "duration": 1158,
    "start_time": "2021-10-03T13:50:42.838Z"
   },
   {
    "duration": 395,
    "start_time": "2021-10-03T13:50:43.998Z"
   },
   {
    "duration": 318,
    "start_time": "2021-10-03T13:50:44.395Z"
   },
   {
    "duration": 7,
    "start_time": "2021-10-03T13:50:44.715Z"
   },
   {
    "duration": 8,
    "start_time": "2021-10-03T13:50:44.725Z"
   },
   {
    "duration": 22,
    "start_time": "2021-10-03T13:50:44.735Z"
   },
   {
    "duration": 4,
    "start_time": "2021-10-03T13:50:44.760Z"
   },
   {
    "duration": 220,
    "start_time": "2021-10-03T13:50:44.767Z"
   },
   {
    "duration": 35,
    "start_time": "2021-10-03T13:50:44.989Z"
   },
   {
    "duration": 8,
    "start_time": "2021-10-03T13:50:45.026Z"
   },
   {
    "duration": 20,
    "start_time": "2021-10-03T13:50:45.035Z"
   },
   {
    "duration": 20,
    "start_time": "2021-10-03T13:50:45.057Z"
   },
   {
    "duration": 10,
    "start_time": "2021-10-03T13:50:45.079Z"
   },
   {
    "duration": 3,
    "start_time": "2021-10-03T13:50:45.091Z"
   },
   {
    "duration": 4,
    "start_time": "2021-10-03T13:50:45.096Z"
   },
   {
    "duration": 61,
    "start_time": "2021-10-03T13:50:45.102Z"
   },
   {
    "duration": 2,
    "start_time": "2021-10-03T13:50:45.165Z"
   },
   {
    "duration": 27,
    "start_time": "2021-10-03T13:50:45.169Z"
   },
   {
    "duration": 57,
    "start_time": "2021-10-03T13:50:45.197Z"
   },
   {
    "duration": 5,
    "start_time": "2021-10-03T13:50:45.257Z"
   },
   {
    "duration": 95,
    "start_time": "2021-10-03T13:50:45.265Z"
   },
   {
    "duration": 6,
    "start_time": "2021-10-03T13:50:45.362Z"
   },
   {
    "duration": 2,
    "start_time": "2021-10-03T13:50:45.371Z"
   },
   {
    "duration": 7,
    "start_time": "2021-10-03T13:50:45.375Z"
   },
   {
    "duration": 6,
    "start_time": "2021-10-03T13:50:45.383Z"
   },
   {
    "duration": 8,
    "start_time": "2021-10-03T13:50:45.390Z"
   },
   {
    "duration": 5,
    "start_time": "2021-10-03T13:50:45.400Z"
   },
   {
    "duration": 7,
    "start_time": "2021-10-03T13:50:45.406Z"
   },
   {
    "duration": 43,
    "start_time": "2021-10-03T13:50:45.415Z"
   },
   {
    "duration": 7,
    "start_time": "2021-10-03T13:50:45.461Z"
   },
   {
    "duration": 94,
    "start_time": "2021-10-03T13:50:45.470Z"
   },
   {
    "duration": 3,
    "start_time": "2021-10-03T13:50:45.566Z"
   },
   {
    "duration": 5,
    "start_time": "2021-10-03T13:50:45.570Z"
   },
   {
    "duration": 905,
    "start_time": "2021-10-03T13:50:45.577Z"
   },
   {
    "duration": 4,
    "start_time": "2021-10-03T13:50:46.484Z"
   },
   {
    "duration": 1093,
    "start_time": "2021-10-03T13:53:10.291Z"
   },
   {
    "duration": 399,
    "start_time": "2021-10-03T13:53:11.386Z"
   },
   {
    "duration": 244,
    "start_time": "2021-10-03T13:53:11.787Z"
   },
   {
    "duration": 17,
    "start_time": "2021-10-03T13:53:12.033Z"
   },
   {
    "duration": 8,
    "start_time": "2021-10-03T13:53:12.052Z"
   },
   {
    "duration": 10,
    "start_time": "2021-10-03T13:53:12.062Z"
   },
   {
    "duration": 6,
    "start_time": "2021-10-03T13:53:12.074Z"
   },
   {
    "duration": 189,
    "start_time": "2021-10-03T13:53:12.082Z"
   },
   {
    "duration": 42,
    "start_time": "2021-10-03T13:53:12.274Z"
   },
   {
    "duration": 8,
    "start_time": "2021-10-03T13:53:12.317Z"
   },
   {
    "duration": 3,
    "start_time": "2021-10-03T13:53:12.327Z"
   },
   {
    "duration": 25,
    "start_time": "2021-10-03T13:53:12.332Z"
   },
   {
    "duration": 10,
    "start_time": "2021-10-03T13:53:12.360Z"
   },
   {
    "duration": 3,
    "start_time": "2021-10-03T13:53:12.372Z"
   },
   {
    "duration": 3,
    "start_time": "2021-10-03T13:53:12.377Z"
   },
   {
    "duration": 45,
    "start_time": "2021-10-03T13:53:12.382Z"
   },
   {
    "duration": 29,
    "start_time": "2021-10-03T13:53:12.429Z"
   },
   {
    "duration": 27,
    "start_time": "2021-10-03T13:53:12.460Z"
   },
   {
    "duration": 6,
    "start_time": "2021-10-03T13:53:12.490Z"
   },
   {
    "duration": 71,
    "start_time": "2021-10-03T13:53:12.498Z"
   },
   {
    "duration": 6,
    "start_time": "2021-10-03T13:53:12.654Z"
   },
   {
    "duration": 10,
    "start_time": "2021-10-03T13:53:12.662Z"
   },
   {
    "duration": 3,
    "start_time": "2021-10-03T13:53:12.675Z"
   },
   {
    "duration": 6,
    "start_time": "2021-10-03T13:53:12.680Z"
   },
   {
    "duration": 6,
    "start_time": "2021-10-03T13:53:12.687Z"
   },
   {
    "duration": 9,
    "start_time": "2021-10-03T13:53:12.695Z"
   },
   {
    "duration": 9,
    "start_time": "2021-10-03T13:53:12.706Z"
   },
   {
    "duration": 34,
    "start_time": "2021-10-03T13:53:12.716Z"
   },
   {
    "duration": 10,
    "start_time": "2021-10-03T13:53:12.752Z"
   },
   {
    "duration": 93,
    "start_time": "2021-10-03T13:53:12.764Z"
   },
   {
    "duration": 101,
    "start_time": "2021-10-03T13:53:12.860Z"
   },
   {
    "duration": 3,
    "start_time": "2021-10-03T13:53:12.963Z"
   },
   {
    "duration": 6,
    "start_time": "2021-10-03T13:53:12.968Z"
   },
   {
    "duration": 949,
    "start_time": "2021-10-03T13:53:12.976Z"
   },
   {
    "duration": 4,
    "start_time": "2021-10-03T13:53:13.927Z"
   },
   {
    "duration": 1080,
    "start_time": "2021-10-03T13:54:25.803Z"
   },
   {
    "duration": 392,
    "start_time": "2021-10-03T13:54:26.885Z"
   },
   {
    "duration": 246,
    "start_time": "2021-10-03T13:54:27.280Z"
   },
   {
    "duration": 5,
    "start_time": "2021-10-03T13:54:27.529Z"
   },
   {
    "duration": 21,
    "start_time": "2021-10-03T13:54:27.536Z"
   },
   {
    "duration": 12,
    "start_time": "2021-10-03T13:54:27.558Z"
   },
   {
    "duration": 10,
    "start_time": "2021-10-03T13:54:27.572Z"
   },
   {
    "duration": 185,
    "start_time": "2021-10-03T13:54:27.586Z"
   },
   {
    "duration": 40,
    "start_time": "2021-10-03T13:54:27.774Z"
   },
   {
    "duration": 10,
    "start_time": "2021-10-03T13:54:27.816Z"
   },
   {
    "duration": 24,
    "start_time": "2021-10-03T13:54:27.827Z"
   },
   {
    "duration": 15,
    "start_time": "2021-10-03T13:54:27.852Z"
   },
   {
    "duration": 14,
    "start_time": "2021-10-03T13:54:27.869Z"
   },
   {
    "duration": 15,
    "start_time": "2021-10-03T13:54:27.885Z"
   },
   {
    "duration": 12,
    "start_time": "2021-10-03T13:54:27.902Z"
   },
   {
    "duration": 62,
    "start_time": "2021-10-03T13:54:27.916Z"
   },
   {
    "duration": 2,
    "start_time": "2021-10-03T13:54:27.980Z"
   },
   {
    "duration": 35,
    "start_time": "2021-10-03T13:54:27.984Z"
   },
   {
    "duration": 36,
    "start_time": "2021-10-03T13:54:28.021Z"
   },
   {
    "duration": 107,
    "start_time": "2021-10-03T13:54:28.060Z"
   },
   {
    "duration": 24,
    "start_time": "2021-10-03T13:54:28.169Z"
   },
   {
    "duration": 17,
    "start_time": "2021-10-03T13:54:28.195Z"
   },
   {
    "duration": 3,
    "start_time": "2021-10-03T13:54:28.250Z"
   },
   {
    "duration": 23,
    "start_time": "2021-10-03T13:54:28.255Z"
   },
   {
    "duration": 21,
    "start_time": "2021-10-03T13:54:28.280Z"
   },
   {
    "duration": 17,
    "start_time": "2021-10-03T13:54:28.302Z"
   },
   {
    "duration": 18,
    "start_time": "2021-10-03T13:54:28.321Z"
   },
   {
    "duration": 15,
    "start_time": "2021-10-03T13:54:28.341Z"
   },
   {
    "duration": 90,
    "start_time": "2021-10-03T13:54:28.358Z"
   },
   {
    "duration": 7,
    "start_time": "2021-10-03T13:54:28.451Z"
   },
   {
    "duration": 92,
    "start_time": "2021-10-03T13:54:28.460Z"
   },
   {
    "duration": 16,
    "start_time": "2021-10-03T13:54:28.554Z"
   },
   {
    "duration": 14,
    "start_time": "2021-10-03T13:54:28.572Z"
   },
   {
    "duration": 870,
    "start_time": "2021-10-03T13:54:28.587Z"
   },
   {
    "duration": 5,
    "start_time": "2021-10-03T13:54:29.459Z"
   },
   {
    "duration": 1768,
    "start_time": "2021-10-03T13:54:29.466Z"
   },
   {
    "duration": 1105,
    "start_time": "2021-10-03T13:56:26.460Z"
   },
   {
    "duration": 388,
    "start_time": "2021-10-03T13:56:27.567Z"
   },
   {
    "duration": 253,
    "start_time": "2021-10-03T13:56:27.962Z"
   },
   {
    "duration": 5,
    "start_time": "2021-10-03T13:56:28.217Z"
   },
   {
    "duration": 9,
    "start_time": "2021-10-03T13:56:28.224Z"
   },
   {
    "duration": 7,
    "start_time": "2021-10-03T13:56:28.249Z"
   },
   {
    "duration": 5,
    "start_time": "2021-10-03T13:56:28.258Z"
   },
   {
    "duration": 179,
    "start_time": "2021-10-03T13:56:28.264Z"
   },
   {
    "duration": 37,
    "start_time": "2021-10-03T13:56:28.446Z"
   },
   {
    "duration": 9,
    "start_time": "2021-10-03T13:56:28.486Z"
   },
   {
    "duration": 4,
    "start_time": "2021-10-03T13:56:28.496Z"
   },
   {
    "duration": 7,
    "start_time": "2021-10-03T13:56:28.502Z"
   },
   {
    "duration": 39,
    "start_time": "2021-10-03T13:56:28.511Z"
   },
   {
    "duration": 5,
    "start_time": "2021-10-03T13:56:28.560Z"
   },
   {
    "duration": 5,
    "start_time": "2021-10-03T13:56:28.567Z"
   },
   {
    "duration": 45,
    "start_time": "2021-10-03T13:56:28.573Z"
   },
   {
    "duration": 2,
    "start_time": "2021-10-03T13:56:28.620Z"
   },
   {
    "duration": 40,
    "start_time": "2021-10-03T13:56:28.624Z"
   },
   {
    "duration": 6,
    "start_time": "2021-10-03T13:56:28.666Z"
   },
   {
    "duration": 85,
    "start_time": "2021-10-03T13:56:28.675Z"
   },
   {
    "duration": 10,
    "start_time": "2021-10-03T13:56:28.762Z"
   },
   {
    "duration": 5,
    "start_time": "2021-10-03T13:56:28.852Z"
   },
   {
    "duration": 8,
    "start_time": "2021-10-03T13:56:28.863Z"
   },
   {
    "duration": 9,
    "start_time": "2021-10-03T13:56:28.873Z"
   },
   {
    "duration": 7,
    "start_time": "2021-10-03T13:56:28.883Z"
   },
   {
    "duration": 8,
    "start_time": "2021-10-03T13:56:28.891Z"
   },
   {
    "duration": 5,
    "start_time": "2021-10-03T13:56:28.903Z"
   },
   {
    "duration": 5,
    "start_time": "2021-10-03T13:56:28.910Z"
   },
   {
    "duration": 36,
    "start_time": "2021-10-03T13:56:28.917Z"
   },
   {
    "duration": 10,
    "start_time": "2021-10-03T13:56:28.955Z"
   },
   {
    "duration": 86,
    "start_time": "2021-10-03T13:56:28.966Z"
   },
   {
    "duration": 6,
    "start_time": "2021-10-03T13:56:29.058Z"
   },
   {
    "duration": 13,
    "start_time": "2021-10-03T13:56:29.149Z"
   },
   {
    "duration": 854,
    "start_time": "2021-10-03T13:56:29.164Z"
   },
   {
    "duration": 3,
    "start_time": "2021-10-03T13:56:30.020Z"
   },
   {
    "duration": 1140,
    "start_time": "2021-10-03T14:01:27.667Z"
   },
   {
    "duration": 567,
    "start_time": "2021-10-03T14:01:28.810Z"
   },
   {
    "duration": 334,
    "start_time": "2021-10-03T14:01:29.380Z"
   },
   {
    "duration": 6,
    "start_time": "2021-10-03T14:01:29.716Z"
   },
   {
    "duration": 10,
    "start_time": "2021-10-03T14:01:29.724Z"
   },
   {
    "duration": 16,
    "start_time": "2021-10-03T14:01:29.736Z"
   },
   {
    "duration": 7,
    "start_time": "2021-10-03T14:01:29.754Z"
   },
   {
    "duration": 182,
    "start_time": "2021-10-03T14:01:29.764Z"
   },
   {
    "duration": 48,
    "start_time": "2021-10-03T14:01:29.950Z"
   },
   {
    "duration": 10,
    "start_time": "2021-10-03T14:01:30.001Z"
   },
   {
    "duration": 11,
    "start_time": "2021-10-03T14:01:30.013Z"
   },
   {
    "duration": 27,
    "start_time": "2021-10-03T14:01:30.026Z"
   },
   {
    "duration": 24,
    "start_time": "2021-10-03T14:01:30.058Z"
   },
   {
    "duration": 18,
    "start_time": "2021-10-03T14:01:30.084Z"
   },
   {
    "duration": 17,
    "start_time": "2021-10-03T14:01:30.104Z"
   },
   {
    "duration": 84,
    "start_time": "2021-10-03T14:01:30.123Z"
   },
   {
    "duration": 3,
    "start_time": "2021-10-03T14:01:30.210Z"
   },
   {
    "duration": 46,
    "start_time": "2021-10-03T14:01:30.215Z"
   },
   {
    "duration": 22,
    "start_time": "2021-10-03T14:01:30.264Z"
   },
   {
    "duration": 87,
    "start_time": "2021-10-03T14:01:30.289Z"
   },
   {
    "duration": 89,
    "start_time": "2021-10-03T14:01:30.378Z"
   },
   {
    "duration": 8,
    "start_time": "2021-10-03T14:01:30.470Z"
   },
   {
    "duration": 9,
    "start_time": "2021-10-03T14:01:30.480Z"
   },
   {
    "duration": 12,
    "start_time": "2021-10-03T14:01:30.492Z"
   },
   {
    "duration": 25,
    "start_time": "2021-10-03T14:01:30.506Z"
   },
   {
    "duration": 22,
    "start_time": "2021-10-03T14:01:30.533Z"
   },
   {
    "duration": 16,
    "start_time": "2021-10-03T14:01:30.559Z"
   },
   {
    "duration": 10,
    "start_time": "2021-10-03T14:01:30.578Z"
   },
   {
    "duration": 24,
    "start_time": "2021-10-03T14:01:30.590Z"
   },
   {
    "duration": 52,
    "start_time": "2021-10-03T14:01:30.617Z"
   },
   {
    "duration": 79,
    "start_time": "2021-10-03T14:01:30.677Z"
   },
   {
    "duration": 15,
    "start_time": "2021-10-03T14:01:30.760Z"
   },
   {
    "duration": 12,
    "start_time": "2021-10-03T14:01:30.777Z"
   },
   {
    "duration": 939,
    "start_time": "2021-10-03T14:01:30.791Z"
   },
   {
    "duration": 3,
    "start_time": "2021-10-03T14:01:31.732Z"
   },
   {
    "duration": 5,
    "start_time": "2021-10-03T14:01:51.336Z"
   },
   {
    "duration": 42746,
    "start_time": "2021-10-03T14:04:53.648Z"
   },
   {
    "duration": 1115,
    "start_time": "2021-10-03T14:09:00.374Z"
   },
   {
    "duration": 416,
    "start_time": "2021-10-03T14:09:01.491Z"
   },
   {
    "duration": 255,
    "start_time": "2021-10-03T14:09:01.909Z"
   },
   {
    "duration": 6,
    "start_time": "2021-10-03T14:09:02.166Z"
   },
   {
    "duration": 21,
    "start_time": "2021-10-03T14:09:02.174Z"
   },
   {
    "duration": 27,
    "start_time": "2021-10-03T14:09:02.197Z"
   },
   {
    "duration": 19,
    "start_time": "2021-10-03T14:09:02.225Z"
   },
   {
    "duration": 190,
    "start_time": "2021-10-03T14:09:02.247Z"
   },
   {
    "duration": 40,
    "start_time": "2021-10-03T14:09:02.439Z"
   },
   {
    "duration": 10,
    "start_time": "2021-10-03T14:09:02.481Z"
   },
   {
    "duration": 4,
    "start_time": "2021-10-03T14:09:02.493Z"
   },
   {
    "duration": 8,
    "start_time": "2021-10-03T14:09:02.499Z"
   },
   {
    "duration": 10,
    "start_time": "2021-10-03T14:09:02.508Z"
   },
   {
    "duration": 35,
    "start_time": "2021-10-03T14:09:02.519Z"
   },
   {
    "duration": 6,
    "start_time": "2021-10-03T14:09:02.556Z"
   },
   {
    "duration": 47,
    "start_time": "2021-10-03T14:09:02.565Z"
   },
   {
    "duration": 2,
    "start_time": "2021-10-03T14:09:02.614Z"
   },
   {
    "duration": 55,
    "start_time": "2021-10-03T14:09:02.617Z"
   },
   {
    "duration": 14,
    "start_time": "2021-10-03T14:09:02.674Z"
   },
   {
    "duration": 14,
    "start_time": "2021-10-03T14:09:02.757Z"
   },
   {
    "duration": 5,
    "start_time": "2021-10-03T14:09:02.850Z"
   },
   {
    "duration": 16,
    "start_time": "2021-10-03T14:09:02.856Z"
   },
   {
    "duration": 4,
    "start_time": "2021-10-03T14:09:02.875Z"
   },
   {
    "duration": 8,
    "start_time": "2021-10-03T14:09:02.880Z"
   },
   {
    "duration": 5,
    "start_time": "2021-10-03T14:09:02.890Z"
   },
   {
    "duration": 9,
    "start_time": "2021-10-03T14:09:02.897Z"
   },
   {
    "duration": 9,
    "start_time": "2021-10-03T14:09:02.908Z"
   },
   {
    "duration": 6,
    "start_time": "2021-10-03T14:09:02.919Z"
   },
   {
    "duration": 8,
    "start_time": "2021-10-03T14:09:02.950Z"
   },
   {
    "duration": 6,
    "start_time": "2021-10-03T14:09:02.960Z"
   },
   {
    "duration": 85,
    "start_time": "2021-10-03T14:09:02.967Z"
   },
   {
    "duration": 7,
    "start_time": "2021-10-03T14:09:03.055Z"
   },
   {
    "duration": 94,
    "start_time": "2021-10-03T14:09:03.064Z"
   },
   {
    "duration": 873,
    "start_time": "2021-10-03T14:09:03.160Z"
   },
   {
    "duration": 14,
    "start_time": "2021-10-03T14:09:04.035Z"
   },
   {
    "duration": 836493,
    "start_time": "2021-10-03T14:09:04.051Z"
   },
   {
    "duration": 1135,
    "start_time": "2021-10-03T14:39:44.828Z"
   },
   {
    "duration": 387,
    "start_time": "2021-10-03T14:39:45.965Z"
   },
   {
    "duration": 254,
    "start_time": "2021-10-03T14:39:46.354Z"
   },
   {
    "duration": 7,
    "start_time": "2021-10-03T14:39:46.610Z"
   },
   {
    "duration": 26,
    "start_time": "2021-10-03T14:39:46.618Z"
   },
   {
    "duration": 25,
    "start_time": "2021-10-03T14:39:46.646Z"
   },
   {
    "duration": 32,
    "start_time": "2021-10-03T14:39:46.673Z"
   },
   {
    "duration": 178,
    "start_time": "2021-10-03T14:39:46.709Z"
   },
   {
    "duration": 38,
    "start_time": "2021-10-03T14:39:46.889Z"
   },
   {
    "duration": 22,
    "start_time": "2021-10-03T14:39:46.929Z"
   },
   {
    "duration": 4,
    "start_time": "2021-10-03T14:39:46.953Z"
   },
   {
    "duration": 8,
    "start_time": "2021-10-03T14:39:46.959Z"
   },
   {
    "duration": 14,
    "start_time": "2021-10-03T14:39:46.969Z"
   },
   {
    "duration": 4,
    "start_time": "2021-10-03T14:39:46.985Z"
   },
   {
    "duration": 68,
    "start_time": "2021-10-03T14:39:46.991Z"
   },
   {
    "duration": 3,
    "start_time": "2021-10-03T14:39:47.061Z"
   },
   {
    "duration": 36,
    "start_time": "2021-10-03T14:39:47.065Z"
   },
   {
    "duration": 53,
    "start_time": "2021-10-03T14:39:47.103Z"
   },
   {
    "duration": 83,
    "start_time": "2021-10-03T14:39:47.173Z"
   },
   {
    "duration": 19,
    "start_time": "2021-10-03T14:39:47.258Z"
   },
   {
    "duration": 6,
    "start_time": "2021-10-03T14:39:47.279Z"
   },
   {
    "duration": 15,
    "start_time": "2021-10-03T14:39:47.286Z"
   },
   {
    "duration": 10,
    "start_time": "2021-10-03T14:39:47.304Z"
   },
   {
    "duration": 6,
    "start_time": "2021-10-03T14:39:47.316Z"
   },
   {
    "duration": 14,
    "start_time": "2021-10-03T14:39:47.323Z"
   },
   {
    "duration": 14,
    "start_time": "2021-10-03T14:39:47.339Z"
   },
   {
    "duration": 18,
    "start_time": "2021-10-03T14:39:47.355Z"
   },
   {
    "duration": 48,
    "start_time": "2021-10-03T14:39:47.375Z"
   },
   {
    "duration": 28,
    "start_time": "2021-10-03T14:39:47.425Z"
   },
   {
    "duration": 94,
    "start_time": "2021-10-03T14:39:47.462Z"
   },
   {
    "duration": 12,
    "start_time": "2021-10-03T14:39:47.558Z"
   },
   {
    "duration": 21,
    "start_time": "2021-10-03T14:39:47.572Z"
   },
   {
    "duration": 11,
    "start_time": "2021-10-03T14:39:47.595Z"
   },
   {
    "duration": 914,
    "start_time": "2021-10-03T14:39:47.608Z"
   },
   {
    "duration": 3,
    "start_time": "2021-10-03T14:39:48.523Z"
   },
   {
    "duration": 1092,
    "start_time": "2021-10-03T14:45:25.504Z"
   },
   {
    "duration": 415,
    "start_time": "2021-10-03T14:45:26.598Z"
   },
   {
    "duration": 268,
    "start_time": "2021-10-03T14:45:27.015Z"
   },
   {
    "duration": 7,
    "start_time": "2021-10-03T14:45:27.286Z"
   },
   {
    "duration": 9,
    "start_time": "2021-10-03T14:45:27.296Z"
   },
   {
    "duration": 9,
    "start_time": "2021-10-03T14:45:27.307Z"
   },
   {
    "duration": 13,
    "start_time": "2021-10-03T14:45:27.318Z"
   },
   {
    "duration": 199,
    "start_time": "2021-10-03T14:45:27.333Z"
   },
   {
    "duration": 40,
    "start_time": "2021-10-03T14:45:27.535Z"
   },
   {
    "duration": 10,
    "start_time": "2021-10-03T14:45:27.577Z"
   },
   {
    "duration": 4,
    "start_time": "2021-10-03T14:45:27.589Z"
   },
   {
    "duration": 7,
    "start_time": "2021-10-03T14:45:27.595Z"
   },
   {
    "duration": 8,
    "start_time": "2021-10-03T14:45:27.604Z"
   },
   {
    "duration": 3,
    "start_time": "2021-10-03T14:45:27.613Z"
   },
   {
    "duration": 45,
    "start_time": "2021-10-03T14:45:27.658Z"
   },
   {
    "duration": 3,
    "start_time": "2021-10-03T14:45:27.704Z"
   },
   {
    "duration": 31,
    "start_time": "2021-10-03T14:45:27.708Z"
   },
   {
    "duration": 25,
    "start_time": "2021-10-03T14:45:27.741Z"
   },
   {
    "duration": 97,
    "start_time": "2021-10-03T14:45:27.769Z"
   },
   {
    "duration": 92,
    "start_time": "2021-10-03T14:45:27.868Z"
   },
   {
    "duration": 6,
    "start_time": "2021-10-03T14:45:27.963Z"
   },
   {
    "duration": 3,
    "start_time": "2021-10-03T14:45:27.972Z"
   },
   {
    "duration": 6,
    "start_time": "2021-10-03T14:45:27.976Z"
   },
   {
    "duration": 5,
    "start_time": "2021-10-03T14:45:27.983Z"
   },
   {
    "duration": 8,
    "start_time": "2021-10-03T14:45:27.990Z"
   },
   {
    "duration": 6,
    "start_time": "2021-10-03T14:45:28.000Z"
   },
   {
    "duration": 6,
    "start_time": "2021-10-03T14:45:28.009Z"
   },
   {
    "duration": 42,
    "start_time": "2021-10-03T14:45:28.050Z"
   },
   {
    "duration": 71,
    "start_time": "2021-10-03T14:45:28.094Z"
   },
   {
    "duration": 10,
    "start_time": "2021-10-03T14:45:28.167Z"
   },
   {
    "duration": 82,
    "start_time": "2021-10-03T14:45:28.180Z"
   },
   {
    "duration": 3,
    "start_time": "2021-10-03T14:45:28.265Z"
   },
   {
    "duration": 5,
    "start_time": "2021-10-03T14:45:28.270Z"
   },
   {
    "duration": 923,
    "start_time": "2021-10-03T14:45:28.277Z"
   },
   {
    "duration": 3,
    "start_time": "2021-10-03T14:45:29.202Z"
   },
   {
    "duration": 1774,
    "start_time": "2021-10-03T14:45:29.206Z"
   },
   {
    "duration": 1603,
    "start_time": "2021-10-03T14:45:44.907Z"
   },
   {
    "duration": 1011,
    "start_time": "2021-10-03T14:46:45.766Z"
   },
   {
    "duration": 393,
    "start_time": "2021-10-03T14:46:46.780Z"
   },
   {
    "duration": 238,
    "start_time": "2021-10-03T14:46:47.176Z"
   },
   {
    "duration": 6,
    "start_time": "2021-10-03T14:46:47.417Z"
   },
   {
    "duration": 11,
    "start_time": "2021-10-03T14:46:47.425Z"
   },
   {
    "duration": 14,
    "start_time": "2021-10-03T14:46:47.438Z"
   },
   {
    "duration": 3,
    "start_time": "2021-10-03T14:46:47.454Z"
   },
   {
    "duration": 165,
    "start_time": "2021-10-03T14:46:47.460Z"
   },
   {
    "duration": 48,
    "start_time": "2021-10-03T14:46:47.627Z"
   },
   {
    "duration": 8,
    "start_time": "2021-10-03T14:46:47.677Z"
   },
   {
    "duration": 5,
    "start_time": "2021-10-03T14:46:47.687Z"
   },
   {
    "duration": 7,
    "start_time": "2021-10-03T14:46:47.694Z"
   },
   {
    "duration": 10,
    "start_time": "2021-10-03T14:46:47.703Z"
   },
   {
    "duration": 3,
    "start_time": "2021-10-03T14:46:47.715Z"
   },
   {
    "duration": 66,
    "start_time": "2021-10-03T14:46:47.720Z"
   },
   {
    "duration": 2,
    "start_time": "2021-10-03T14:46:47.788Z"
   },
   {
    "duration": 27,
    "start_time": "2021-10-03T14:46:47.792Z"
   },
   {
    "duration": 29,
    "start_time": "2021-10-03T14:46:47.821Z"
   },
   {
    "duration": 5,
    "start_time": "2021-10-03T14:46:47.853Z"
   },
   {
    "duration": 105,
    "start_time": "2021-10-03T14:46:47.859Z"
   },
   {
    "duration": 5,
    "start_time": "2021-10-03T14:46:48.050Z"
   },
   {
    "duration": 6,
    "start_time": "2021-10-03T14:46:48.057Z"
   },
   {
    "duration": 5,
    "start_time": "2021-10-03T14:46:48.065Z"
   },
   {
    "duration": 9,
    "start_time": "2021-10-03T14:46:48.071Z"
   },
   {
    "duration": 11,
    "start_time": "2021-10-03T14:46:48.082Z"
   },
   {
    "duration": 12,
    "start_time": "2021-10-03T14:46:48.094Z"
   },
   {
    "duration": 11,
    "start_time": "2021-10-03T14:46:48.107Z"
   },
   {
    "duration": 50,
    "start_time": "2021-10-03T14:46:48.120Z"
   },
   {
    "duration": 8,
    "start_time": "2021-10-03T14:46:48.171Z"
   },
   {
    "duration": 73,
    "start_time": "2021-10-03T14:46:48.181Z"
   },
   {
    "duration": 98,
    "start_time": "2021-10-03T14:46:48.257Z"
   },
   {
    "duration": 4,
    "start_time": "2021-10-03T14:46:48.356Z"
   },
   {
    "duration": 6,
    "start_time": "2021-10-03T14:46:48.361Z"
   },
   {
    "duration": 795,
    "start_time": "2021-10-03T14:46:48.369Z"
   },
   {
    "duration": 3,
    "start_time": "2021-10-03T14:46:49.166Z"
   },
   {
    "duration": 1544,
    "start_time": "2021-10-03T14:46:49.170Z"
   },
   {
    "duration": 1701,
    "start_time": "2021-10-03T14:53:17.486Z"
   },
   {
    "duration": 395,
    "start_time": "2021-10-03T14:53:19.189Z"
   },
   {
    "duration": 238,
    "start_time": "2021-10-03T14:53:19.587Z"
   },
   {
    "duration": 6,
    "start_time": "2021-10-03T14:53:19.827Z"
   },
   {
    "duration": 24,
    "start_time": "2021-10-03T14:53:19.834Z"
   },
   {
    "duration": 8,
    "start_time": "2021-10-03T14:53:19.860Z"
   },
   {
    "duration": 6,
    "start_time": "2021-10-03T14:53:19.870Z"
   },
   {
    "duration": 190,
    "start_time": "2021-10-03T14:53:19.879Z"
   },
   {
    "duration": 40,
    "start_time": "2021-10-03T14:53:20.071Z"
   },
   {
    "duration": 9,
    "start_time": "2021-10-03T14:53:20.112Z"
   },
   {
    "duration": 4,
    "start_time": "2021-10-03T14:53:20.123Z"
   },
   {
    "duration": 12,
    "start_time": "2021-10-03T14:53:20.151Z"
   },
   {
    "duration": 15,
    "start_time": "2021-10-03T14:53:20.165Z"
   },
   {
    "duration": 16,
    "start_time": "2021-10-03T14:53:20.182Z"
   },
   {
    "duration": 49,
    "start_time": "2021-10-03T14:53:20.199Z"
   },
   {
    "duration": 3,
    "start_time": "2021-10-03T14:53:20.258Z"
   },
   {
    "duration": 39,
    "start_time": "2021-10-03T14:53:20.262Z"
   },
   {
    "duration": 55,
    "start_time": "2021-10-03T14:53:20.303Z"
   },
   {
    "duration": 7,
    "start_time": "2021-10-03T14:53:20.360Z"
   },
   {
    "duration": 97,
    "start_time": "2021-10-03T14:53:20.369Z"
   },
   {
    "duration": 6,
    "start_time": "2021-10-03T14:53:20.469Z"
   },
   {
    "duration": 6,
    "start_time": "2021-10-03T14:53:20.477Z"
   },
   {
    "duration": 5,
    "start_time": "2021-10-03T14:53:20.486Z"
   },
   {
    "duration": 9,
    "start_time": "2021-10-03T14:53:20.494Z"
   },
   {
    "duration": 12,
    "start_time": "2021-10-03T14:53:20.505Z"
   },
   {
    "duration": 30,
    "start_time": "2021-10-03T14:53:20.519Z"
   },
   {
    "duration": 6,
    "start_time": "2021-10-03T14:53:20.557Z"
   },
   {
    "duration": 45,
    "start_time": "2021-10-03T14:53:20.565Z"
   },
   {
    "duration": 53,
    "start_time": "2021-10-03T14:53:20.613Z"
   },
   {
    "duration": 8,
    "start_time": "2021-10-03T14:53:20.668Z"
   },
   {
    "duration": 7,
    "start_time": "2021-10-03T14:53:20.750Z"
   },
   {
    "duration": 9,
    "start_time": "2021-10-03T14:53:20.759Z"
   },
   {
    "duration": 8,
    "start_time": "2021-10-03T14:53:20.770Z"
   },
   {
    "duration": 907,
    "start_time": "2021-10-03T14:53:20.780Z"
   },
   {
    "duration": 3,
    "start_time": "2021-10-03T14:53:21.689Z"
   },
   {
    "duration": 1068,
    "start_time": "2021-10-03T15:03:24.315Z"
   },
   {
    "duration": 455,
    "start_time": "2021-10-03T15:03:25.385Z"
   },
   {
    "duration": 245,
    "start_time": "2021-10-03T15:03:26.160Z"
   },
   {
    "duration": 6,
    "start_time": "2021-10-03T15:03:29.199Z"
   },
   {
    "duration": 7,
    "start_time": "2021-10-03T15:03:29.527Z"
   },
   {
    "duration": 8,
    "start_time": "2021-10-03T15:03:29.863Z"
   },
   {
    "duration": 3,
    "start_time": "2021-10-03T15:03:30.314Z"
   },
   {
    "duration": 250,
    "start_time": "2021-10-03T15:03:30.817Z"
   },
   {
    "duration": 42,
    "start_time": "2021-10-03T15:03:31.353Z"
   },
   {
    "duration": 3,
    "start_time": "2021-10-03T15:03:33.160Z"
   },
   {
    "duration": 2,
    "start_time": "2021-10-03T15:03:33.543Z"
   },
   {
    "duration": 3,
    "start_time": "2021-10-03T15:03:33.968Z"
   },
   {
    "duration": 3,
    "start_time": "2021-10-03T15:03:34.280Z"
   },
   {
    "duration": 2,
    "start_time": "2021-10-03T15:03:34.582Z"
   },
   {
    "duration": 18,
    "start_time": "2021-10-03T15:03:36.345Z"
   },
   {
    "duration": 1172,
    "start_time": "2021-10-03T15:04:39.821Z"
   },
   {
    "duration": 416,
    "start_time": "2021-10-03T15:04:40.996Z"
   },
   {
    "duration": 259,
    "start_time": "2021-10-03T15:04:41.414Z"
   },
   {
    "duration": 6,
    "start_time": "2021-10-03T15:04:41.676Z"
   },
   {
    "duration": 8,
    "start_time": "2021-10-03T15:04:41.949Z"
   },
   {
    "duration": 7,
    "start_time": "2021-10-03T15:04:42.308Z"
   },
   {
    "duration": 4,
    "start_time": "2021-10-03T15:04:42.702Z"
   },
   {
    "duration": 233,
    "start_time": "2021-10-03T15:04:43.020Z"
   },
   {
    "duration": 36,
    "start_time": "2021-10-03T15:04:43.502Z"
   },
   {
    "duration": 2,
    "start_time": "2021-10-03T15:04:44.645Z"
   },
   {
    "duration": 3,
    "start_time": "2021-10-03T15:04:44.940Z"
   },
   {
    "duration": 7,
    "start_time": "2021-10-03T15:04:45.349Z"
   },
   {
    "duration": 2,
    "start_time": "2021-10-03T15:04:45.668Z"
   },
   {
    "duration": 3,
    "start_time": "2021-10-03T15:04:45.979Z"
   },
   {
    "duration": 38,
    "start_time": "2021-10-03T15:04:47.509Z"
   },
   {
    "duration": 6,
    "start_time": "2021-10-03T15:05:17.551Z"
   },
   {
    "duration": 25,
    "start_time": "2021-10-03T15:05:59.699Z"
   },
   {
    "duration": 12,
    "start_time": "2021-10-03T15:06:41.971Z"
   },
   {
    "duration": 5,
    "start_time": "2021-10-03T15:08:04.752Z"
   },
   {
    "duration": 91,
    "start_time": "2021-10-03T15:08:52.589Z"
   },
   {
    "duration": 77,
    "start_time": "2021-10-03T15:09:04.211Z"
   },
   {
    "duration": 79,
    "start_time": "2021-10-03T15:09:08.811Z"
   },
   {
    "duration": 81,
    "start_time": "2021-10-03T15:09:25.580Z"
   },
   {
    "duration": 5,
    "start_time": "2021-10-03T15:09:50.092Z"
   },
   {
    "duration": 6,
    "start_time": "2021-10-03T15:10:17.303Z"
   },
   {
    "duration": 328,
    "start_time": "2021-10-03T15:11:12.575Z"
   },
   {
    "duration": 5,
    "start_time": "2021-10-03T15:11:18.495Z"
   },
   {
    "duration": 7,
    "start_time": "2021-10-03T15:12:26.379Z"
   },
   {
    "duration": 3,
    "start_time": "2021-10-03T15:18:04.189Z"
   },
   {
    "duration": 4,
    "start_time": "2021-10-03T15:18:05.132Z"
   },
   {
    "duration": 4,
    "start_time": "2021-10-03T15:18:12.373Z"
   },
   {
    "duration": 4,
    "start_time": "2021-10-03T15:23:10.856Z"
   },
   {
    "duration": 3,
    "start_time": "2021-10-03T15:23:15.495Z"
   },
   {
    "duration": 460,
    "start_time": "2021-10-03T15:25:18.508Z"
   },
   {
    "duration": 3,
    "start_time": "2021-10-03T15:25:42.876Z"
   },
   {
    "duration": 479,
    "start_time": "2021-10-03T15:25:44.092Z"
   },
   {
    "duration": 3,
    "start_time": "2021-10-03T15:25:59.124Z"
   },
   {
    "duration": 11,
    "start_time": "2021-10-03T15:26:00.213Z"
   },
   {
    "duration": 24,
    "start_time": "2021-10-03T15:28:07.347Z"
   },
   {
    "duration": 4,
    "start_time": "2021-10-03T15:28:17.113Z"
   },
   {
    "duration": 1137,
    "start_time": "2021-10-03T15:35:58.637Z"
   },
   {
    "duration": 390,
    "start_time": "2021-10-03T15:35:59.777Z"
   },
   {
    "duration": 256,
    "start_time": "2021-10-03T15:36:00.170Z"
   },
   {
    "duration": 21,
    "start_time": "2021-10-03T15:36:00.428Z"
   },
   {
    "duration": 9,
    "start_time": "2021-10-03T15:36:00.451Z"
   },
   {
    "duration": 20,
    "start_time": "2021-10-03T15:36:00.461Z"
   },
   {
    "duration": 14,
    "start_time": "2021-10-03T15:36:00.483Z"
   },
   {
    "duration": 176,
    "start_time": "2021-10-03T15:36:00.500Z"
   },
   {
    "duration": 50,
    "start_time": "2021-10-03T15:36:00.678Z"
   },
   {
    "duration": 51,
    "start_time": "2021-10-03T15:36:00.730Z"
   },
   {
    "duration": 2,
    "start_time": "2021-10-03T15:36:00.783Z"
   },
   {
    "duration": 42,
    "start_time": "2021-10-03T15:36:00.787Z"
   },
   {
    "duration": 118,
    "start_time": "2021-10-03T15:36:00.831Z"
   },
   {
    "duration": 98,
    "start_time": "2021-10-03T15:36:00.952Z"
   },
   {
    "duration": 21,
    "start_time": "2021-10-03T15:36:01.052Z"
   },
   {
    "duration": 17,
    "start_time": "2021-10-03T15:36:01.075Z"
   },
   {
    "duration": 26,
    "start_time": "2021-10-03T15:36:01.094Z"
   },
   {
    "duration": 23,
    "start_time": "2021-10-03T15:36:01.122Z"
   },
   {
    "duration": 21,
    "start_time": "2021-10-03T15:36:01.147Z"
   },
   {
    "duration": 40,
    "start_time": "2021-10-03T15:36:01.170Z"
   },
   {
    "duration": 31,
    "start_time": "2021-10-03T15:36:01.212Z"
   },
   {
    "duration": 34,
    "start_time": "2021-10-03T15:36:01.245Z"
   },
   {
    "duration": 3,
    "start_time": "2021-10-03T15:36:01.282Z"
   },
   {
    "duration": 23,
    "start_time": "2021-10-03T15:36:01.287Z"
   },
   {
    "duration": 26,
    "start_time": "2021-10-03T15:36:01.312Z"
   },
   {
    "duration": 3,
    "start_time": "2021-10-03T15:36:39.861Z"
   },
   {
    "duration": 1215,
    "start_time": "2021-10-03T15:37:00.954Z"
   },
   {
    "duration": 380,
    "start_time": "2021-10-03T15:37:02.171Z"
   },
   {
    "duration": 232,
    "start_time": "2021-10-03T15:37:02.553Z"
   },
   {
    "duration": 6,
    "start_time": "2021-10-03T15:37:02.786Z"
   },
   {
    "duration": 11,
    "start_time": "2021-10-03T15:37:02.794Z"
   },
   {
    "duration": 9,
    "start_time": "2021-10-03T15:37:02.806Z"
   },
   {
    "duration": 6,
    "start_time": "2021-10-03T15:37:02.816Z"
   },
   {
    "duration": 184,
    "start_time": "2021-10-03T15:37:02.825Z"
   },
   {
    "duration": 40,
    "start_time": "2021-10-03T15:37:03.011Z"
   },
   {
    "duration": 40,
    "start_time": "2021-10-03T15:37:03.053Z"
   },
   {
    "duration": 2,
    "start_time": "2021-10-03T15:37:03.095Z"
   },
   {
    "duration": 27,
    "start_time": "2021-10-03T15:37:03.099Z"
   },
   {
    "duration": 29,
    "start_time": "2021-10-03T15:37:03.127Z"
   },
   {
    "duration": 92,
    "start_time": "2021-10-03T15:37:03.159Z"
   },
   {
    "duration": 9,
    "start_time": "2021-10-03T15:37:03.254Z"
   },
   {
    "duration": 7,
    "start_time": "2021-10-03T15:37:03.350Z"
   },
   {
    "duration": 3,
    "start_time": "2021-10-03T15:37:03.359Z"
   },
   {
    "duration": 6,
    "start_time": "2021-10-03T15:37:03.364Z"
   },
   {
    "duration": 11,
    "start_time": "2021-10-03T15:37:03.371Z"
   },
   {
    "duration": 8,
    "start_time": "2021-10-03T15:37:03.383Z"
   },
   {
    "duration": 7,
    "start_time": "2021-10-03T15:37:03.392Z"
   },
   {
    "duration": 51,
    "start_time": "2021-10-03T15:37:03.401Z"
   },
   {
    "duration": 3,
    "start_time": "2021-10-03T15:37:03.455Z"
   },
   {
    "duration": 8,
    "start_time": "2021-10-03T15:37:03.460Z"
   },
   {
    "duration": 6,
    "start_time": "2021-10-03T15:37:03.470Z"
   },
   {
    "duration": 536,
    "start_time": "2021-10-03T15:37:35.740Z"
   },
   {
    "duration": 5,
    "start_time": "2021-10-03T15:37:47.092Z"
   },
   {
    "duration": 481,
    "start_time": "2021-10-03T15:37:47.803Z"
   },
   {
    "duration": 4,
    "start_time": "2021-10-03T15:38:34.478Z"
   },
   {
    "duration": 3071,
    "start_time": "2021-10-03T15:38:34.868Z"
   },
   {
    "duration": 74,
    "start_time": "2021-10-03T15:39:24.016Z"
   },
   {
    "duration": 4963,
    "start_time": "2021-10-03T15:39:28.335Z"
   },
   {
    "duration": 1340,
    "start_time": "2021-10-03T15:39:45.046Z"
   },
   {
    "duration": 385,
    "start_time": "2021-10-03T15:39:46.388Z"
   },
   {
    "duration": 247,
    "start_time": "2021-10-03T15:39:46.775Z"
   },
   {
    "duration": 7,
    "start_time": "2021-10-03T15:39:47.024Z"
   },
   {
    "duration": 21,
    "start_time": "2021-10-03T15:39:47.033Z"
   },
   {
    "duration": 9,
    "start_time": "2021-10-03T15:39:47.056Z"
   },
   {
    "duration": 5,
    "start_time": "2021-10-03T15:39:47.067Z"
   },
   {
    "duration": 183,
    "start_time": "2021-10-03T15:39:47.075Z"
   },
   {
    "duration": 38,
    "start_time": "2021-10-03T15:39:47.260Z"
   },
   {
    "duration": 62,
    "start_time": "2021-10-03T15:39:47.300Z"
   },
   {
    "duration": 3,
    "start_time": "2021-10-03T15:39:47.364Z"
   },
   {
    "duration": 27,
    "start_time": "2021-10-03T15:39:47.369Z"
   },
   {
    "duration": 56,
    "start_time": "2021-10-03T15:39:47.398Z"
   },
   {
    "duration": 5,
    "start_time": "2021-10-03T15:39:47.551Z"
   },
   {
    "duration": 6,
    "start_time": "2021-10-03T15:39:47.650Z"
   },
   {
    "duration": 7,
    "start_time": "2021-10-03T15:39:47.658Z"
   },
   {
    "duration": 2,
    "start_time": "2021-10-03T15:39:47.667Z"
   },
   {
    "duration": 9,
    "start_time": "2021-10-03T15:39:47.671Z"
   },
   {
    "duration": 5,
    "start_time": "2021-10-03T15:39:47.682Z"
   },
   {
    "duration": 7,
    "start_time": "2021-10-03T15:39:47.688Z"
   },
   {
    "duration": 9,
    "start_time": "2021-10-03T15:39:47.696Z"
   },
   {
    "duration": 61,
    "start_time": "2021-10-03T15:39:47.707Z"
   },
   {
    "duration": 3,
    "start_time": "2021-10-03T15:39:47.771Z"
   },
   {
    "duration": 5,
    "start_time": "2021-10-03T15:39:47.776Z"
   },
   {
    "duration": 7,
    "start_time": "2021-10-03T15:39:47.783Z"
   },
   {
    "duration": 3060,
    "start_time": "2021-10-03T15:39:47.791Z"
   },
   {
    "duration": 75,
    "start_time": "2021-10-03T15:40:06.781Z"
   },
   {
    "duration": 2979,
    "start_time": "2021-10-03T15:40:10.071Z"
   },
   {
    "duration": 2984,
    "start_time": "2021-10-03T15:40:17.478Z"
   },
   {
    "duration": 1052,
    "start_time": "2021-10-03T15:40:23.433Z"
   },
   {
    "duration": 372,
    "start_time": "2021-10-03T15:40:24.487Z"
   },
   {
    "duration": 236,
    "start_time": "2021-10-03T15:40:24.861Z"
   },
   {
    "duration": 6,
    "start_time": "2021-10-03T15:40:25.099Z"
   },
   {
    "duration": 10,
    "start_time": "2021-10-03T15:40:25.107Z"
   },
   {
    "duration": 7,
    "start_time": "2021-10-03T15:40:25.119Z"
   },
   {
    "duration": 6,
    "start_time": "2021-10-03T15:40:25.127Z"
   },
   {
    "duration": 166,
    "start_time": "2021-10-03T15:40:25.150Z"
   },
   {
    "duration": 44,
    "start_time": "2021-10-03T15:40:25.318Z"
   },
   {
    "duration": 38,
    "start_time": "2021-10-03T15:40:25.364Z"
   },
   {
    "duration": 3,
    "start_time": "2021-10-03T15:40:25.404Z"
   },
   {
    "duration": 41,
    "start_time": "2021-10-03T15:40:25.408Z"
   },
   {
    "duration": 10,
    "start_time": "2021-10-03T15:40:25.451Z"
   },
   {
    "duration": 95,
    "start_time": "2021-10-03T15:40:25.463Z"
   },
   {
    "duration": 6,
    "start_time": "2021-10-03T15:40:25.650Z"
   },
   {
    "duration": 6,
    "start_time": "2021-10-03T15:40:25.658Z"
   },
   {
    "duration": 3,
    "start_time": "2021-10-03T15:40:25.666Z"
   },
   {
    "duration": 6,
    "start_time": "2021-10-03T15:40:25.670Z"
   },
   {
    "duration": 5,
    "start_time": "2021-10-03T15:40:25.677Z"
   },
   {
    "duration": 9,
    "start_time": "2021-10-03T15:40:25.684Z"
   },
   {
    "duration": 7,
    "start_time": "2021-10-03T15:40:25.694Z"
   },
   {
    "duration": 69,
    "start_time": "2021-10-03T15:40:25.703Z"
   },
   {
    "duration": 4,
    "start_time": "2021-10-03T15:40:25.776Z"
   },
   {
    "duration": 5,
    "start_time": "2021-10-03T15:40:25.782Z"
   },
   {
    "duration": 6,
    "start_time": "2021-10-03T15:40:25.789Z"
   },
   {
    "duration": 3080,
    "start_time": "2021-10-03T15:40:25.796Z"
   },
   {
    "duration": 9267,
    "start_time": "2021-10-03T15:41:08.561Z"
   },
   {
    "duration": 1011,
    "start_time": "2021-10-03T15:46:10.471Z"
   },
   {
    "duration": 372,
    "start_time": "2021-10-03T15:46:11.484Z"
   },
   {
    "duration": 232,
    "start_time": "2021-10-03T15:46:11.858Z"
   },
   {
    "duration": 5,
    "start_time": "2021-10-03T15:46:12.092Z"
   },
   {
    "duration": 11,
    "start_time": "2021-10-03T15:46:12.099Z"
   },
   {
    "duration": 9,
    "start_time": "2021-10-03T15:46:12.111Z"
   },
   {
    "duration": 7,
    "start_time": "2021-10-03T15:46:12.122Z"
   },
   {
    "duration": 20,
    "start_time": "2021-10-03T15:46:12.132Z"
   },
   {
    "duration": 5,
    "start_time": "2021-10-03T15:46:12.154Z"
   },
   {
    "duration": 39,
    "start_time": "2021-10-03T15:46:12.161Z"
   },
   {
    "duration": 78,
    "start_time": "2021-10-03T15:46:12.201Z"
   },
   {
    "duration": 2,
    "start_time": "2021-10-03T15:46:12.281Z"
   },
   {
    "duration": 327,
    "start_time": "2021-10-03T15:46:12.285Z"
   },
   {
    "duration": 3273,
    "start_time": "2021-10-03T15:46:09.342Z"
   },
   {
    "duration": 3269,
    "start_time": "2021-10-03T15:46:09.346Z"
   },
   {
    "duration": 3267,
    "start_time": "2021-10-03T15:46:09.349Z"
   },
   {
    "duration": 3265,
    "start_time": "2021-10-03T15:46:09.352Z"
   },
   {
    "duration": 3263,
    "start_time": "2021-10-03T15:46:09.355Z"
   },
   {
    "duration": 3260,
    "start_time": "2021-10-03T15:46:09.358Z"
   },
   {
    "duration": 3258,
    "start_time": "2021-10-03T15:46:09.361Z"
   },
   {
    "duration": 3253,
    "start_time": "2021-10-03T15:46:09.367Z"
   },
   {
    "duration": 3251,
    "start_time": "2021-10-03T15:46:09.370Z"
   },
   {
    "duration": 3250,
    "start_time": "2021-10-03T15:46:09.372Z"
   },
   {
    "duration": 3249,
    "start_time": "2021-10-03T15:46:09.374Z"
   },
   {
    "duration": 3248,
    "start_time": "2021-10-03T15:46:09.375Z"
   },
   {
    "duration": 3247,
    "start_time": "2021-10-03T15:46:09.377Z"
   },
   {
    "duration": 3246,
    "start_time": "2021-10-03T15:46:09.379Z"
   },
   {
    "duration": 1155,
    "start_time": "2021-10-03T15:48:54.330Z"
   },
   {
    "duration": 380,
    "start_time": "2021-10-03T15:48:55.487Z"
   },
   {
    "duration": 234,
    "start_time": "2021-10-03T15:48:55.869Z"
   },
   {
    "duration": 6,
    "start_time": "2021-10-03T15:48:56.105Z"
   },
   {
    "duration": 9,
    "start_time": "2021-10-03T15:48:56.112Z"
   },
   {
    "duration": 10,
    "start_time": "2021-10-03T15:48:56.123Z"
   },
   {
    "duration": 16,
    "start_time": "2021-10-03T15:48:56.135Z"
   },
   {
    "duration": 16,
    "start_time": "2021-10-03T15:48:56.153Z"
   },
   {
    "duration": 4,
    "start_time": "2021-10-03T15:48:56.171Z"
   },
   {
    "duration": 38,
    "start_time": "2021-10-03T15:48:56.177Z"
   },
   {
    "duration": 59,
    "start_time": "2021-10-03T15:48:56.217Z"
   },
   {
    "duration": 4,
    "start_time": "2021-10-03T15:48:56.278Z"
   },
   {
    "duration": 33,
    "start_time": "2021-10-03T15:48:56.283Z"
   },
   {
    "duration": 39,
    "start_time": "2021-10-03T15:48:56.318Z"
   },
   {
    "duration": 92,
    "start_time": "2021-10-03T15:48:56.360Z"
   },
   {
    "duration": 97,
    "start_time": "2021-10-03T15:48:56.454Z"
   },
   {
    "duration": 7,
    "start_time": "2021-10-03T15:48:56.553Z"
   },
   {
    "duration": 4,
    "start_time": "2021-10-03T15:48:56.561Z"
   },
   {
    "duration": 7,
    "start_time": "2021-10-03T15:48:56.567Z"
   },
   {
    "duration": 5,
    "start_time": "2021-10-03T15:48:56.576Z"
   },
   {
    "duration": 12,
    "start_time": "2021-10-03T15:48:56.583Z"
   },
   {
    "duration": 8,
    "start_time": "2021-10-03T15:48:56.597Z"
   },
   {
    "duration": 28,
    "start_time": "2021-10-03T15:48:56.608Z"
   },
   {
    "duration": 3,
    "start_time": "2021-10-03T15:48:56.638Z"
   },
   {
    "duration": 3,
    "start_time": "2021-10-03T15:48:56.649Z"
   },
   {
    "duration": 8,
    "start_time": "2021-10-03T15:48:56.654Z"
   },
   {
    "duration": 9299,
    "start_time": "2021-10-03T15:48:56.663Z"
   },
   {
    "duration": 1045,
    "start_time": "2021-10-03T15:49:38.660Z"
   },
   {
    "duration": 384,
    "start_time": "2021-10-03T15:49:39.707Z"
   },
   {
    "duration": 234,
    "start_time": "2021-10-03T15:49:40.094Z"
   },
   {
    "duration": 20,
    "start_time": "2021-10-03T15:49:40.330Z"
   },
   {
    "duration": 8,
    "start_time": "2021-10-03T15:49:40.352Z"
   },
   {
    "duration": 8,
    "start_time": "2021-10-03T15:49:40.362Z"
   },
   {
    "duration": 11,
    "start_time": "2021-10-03T15:49:40.371Z"
   },
   {
    "duration": 173,
    "start_time": "2021-10-03T15:49:40.385Z"
   },
   {
    "duration": 37,
    "start_time": "2021-10-03T15:49:40.560Z"
   },
   {
    "duration": 57,
    "start_time": "2021-10-03T15:49:40.599Z"
   },
   {
    "duration": 3,
    "start_time": "2021-10-03T15:49:40.658Z"
   },
   {
    "duration": 24,
    "start_time": "2021-10-03T15:49:40.663Z"
   },
   {
    "duration": 66,
    "start_time": "2021-10-03T15:49:40.690Z"
   },
   {
    "duration": 94,
    "start_time": "2021-10-03T15:49:40.759Z"
   },
   {
    "duration": 97,
    "start_time": "2021-10-03T15:49:40.855Z"
   },
   {
    "duration": 8,
    "start_time": "2021-10-03T15:49:40.955Z"
   },
   {
    "duration": 4,
    "start_time": "2021-10-03T15:49:40.965Z"
   },
   {
    "duration": 6,
    "start_time": "2021-10-03T15:49:40.971Z"
   },
   {
    "duration": 4,
    "start_time": "2021-10-03T15:49:40.979Z"
   },
   {
    "duration": 7,
    "start_time": "2021-10-03T15:49:40.984Z"
   },
   {
    "duration": 8,
    "start_time": "2021-10-03T15:49:40.992Z"
   },
   {
    "duration": 65,
    "start_time": "2021-10-03T15:49:41.002Z"
   },
   {
    "duration": 3,
    "start_time": "2021-10-03T15:49:41.070Z"
   },
   {
    "duration": 5,
    "start_time": "2021-10-03T15:49:41.075Z"
   },
   {
    "duration": 4,
    "start_time": "2021-10-03T15:49:41.082Z"
   },
   {
    "duration": 9684,
    "start_time": "2021-10-03T15:49:41.088Z"
   },
   {
    "duration": 10,
    "start_time": "2021-10-03T15:54:52.137Z"
   },
   {
    "duration": 3,
    "start_time": "2021-10-03T15:55:34.516Z"
   },
   {
    "duration": 12,
    "start_time": "2021-10-03T15:55:35.019Z"
   },
   {
    "duration": 1069,
    "start_time": "2021-10-03T16:02:12.125Z"
   },
   {
    "duration": 381,
    "start_time": "2021-10-03T16:02:13.196Z"
   },
   {
    "duration": 238,
    "start_time": "2021-10-03T16:02:13.579Z"
   },
   {
    "duration": 6,
    "start_time": "2021-10-03T16:02:13.819Z"
   },
   {
    "duration": 10,
    "start_time": "2021-10-03T16:02:13.827Z"
   },
   {
    "duration": 22,
    "start_time": "2021-10-03T16:02:13.838Z"
   },
   {
    "duration": 5,
    "start_time": "2021-10-03T16:02:13.862Z"
   },
   {
    "duration": 174,
    "start_time": "2021-10-03T16:02:13.869Z"
   },
   {
    "duration": 37,
    "start_time": "2021-10-03T16:02:14.045Z"
   },
   {
    "duration": 41,
    "start_time": "2021-10-03T16:02:14.084Z"
   },
   {
    "duration": 3,
    "start_time": "2021-10-03T16:02:14.126Z"
   },
   {
    "duration": 46,
    "start_time": "2021-10-03T16:02:14.130Z"
   },
   {
    "duration": 16,
    "start_time": "2021-10-03T16:02:14.178Z"
   },
   {
    "duration": 152,
    "start_time": "2021-10-03T16:02:14.197Z"
   },
   {
    "duration": 7,
    "start_time": "2021-10-03T16:02:14.351Z"
   },
   {
    "duration": 6,
    "start_time": "2021-10-03T16:02:14.360Z"
   },
   {
    "duration": 5,
    "start_time": "2021-10-03T16:02:14.367Z"
   },
   {
    "duration": 10,
    "start_time": "2021-10-03T16:02:14.373Z"
   },
   {
    "duration": 4,
    "start_time": "2021-10-03T16:02:14.385Z"
   },
   {
    "duration": 14,
    "start_time": "2021-10-03T16:02:14.390Z"
   },
   {
    "duration": 8,
    "start_time": "2021-10-03T16:02:14.406Z"
   },
   {
    "duration": 48,
    "start_time": "2021-10-03T16:02:14.415Z"
   },
   {
    "duration": 3,
    "start_time": "2021-10-03T16:02:14.466Z"
   },
   {
    "duration": 9,
    "start_time": "2021-10-03T16:02:14.471Z"
   },
   {
    "duration": 6,
    "start_time": "2021-10-03T16:02:14.482Z"
   },
   {
    "duration": 9285,
    "start_time": "2021-10-03T16:02:14.489Z"
   },
   {
    "duration": 1544,
    "start_time": "2021-10-03T16:02:38.842Z"
   },
   {
    "duration": 393,
    "start_time": "2021-10-03T16:02:40.388Z"
   },
   {
    "duration": 228,
    "start_time": "2021-10-03T16:02:40.783Z"
   },
   {
    "duration": 6,
    "start_time": "2021-10-03T16:02:41.013Z"
   },
   {
    "duration": 11,
    "start_time": "2021-10-03T16:02:41.021Z"
   },
   {
    "duration": 21,
    "start_time": "2021-10-03T16:02:41.033Z"
   },
   {
    "duration": 7,
    "start_time": "2021-10-03T16:02:41.056Z"
   },
   {
    "duration": 177,
    "start_time": "2021-10-03T16:02:41.065Z"
   },
   {
    "duration": 36,
    "start_time": "2021-10-03T16:02:41.244Z"
   },
   {
    "duration": 42,
    "start_time": "2021-10-03T16:02:41.281Z"
   },
   {
    "duration": 3,
    "start_time": "2021-10-03T16:02:41.325Z"
   },
   {
    "duration": 22,
    "start_time": "2021-10-03T16:02:41.349Z"
   },
   {
    "duration": 12,
    "start_time": "2021-10-03T16:02:41.373Z"
   },
   {
    "duration": 6,
    "start_time": "2021-10-03T16:02:41.449Z"
   },
   {
    "duration": 95,
    "start_time": "2021-10-03T16:02:41.457Z"
   },
   {
    "duration": 7,
    "start_time": "2021-10-03T16:02:41.554Z"
   },
   {
    "duration": 4,
    "start_time": "2021-10-03T16:02:41.563Z"
   },
   {
    "duration": 9,
    "start_time": "2021-10-03T16:02:41.569Z"
   },
   {
    "duration": 7,
    "start_time": "2021-10-03T16:02:41.579Z"
   },
   {
    "duration": 7,
    "start_time": "2021-10-03T16:02:41.588Z"
   },
   {
    "duration": 5,
    "start_time": "2021-10-03T16:02:41.597Z"
   },
   {
    "duration": 56,
    "start_time": "2021-10-03T16:02:41.604Z"
   },
   {
    "duration": 4,
    "start_time": "2021-10-03T16:02:41.662Z"
   },
   {
    "duration": 7,
    "start_time": "2021-10-03T16:02:41.667Z"
   },
   {
    "duration": 6,
    "start_time": "2021-10-03T16:02:41.675Z"
   },
   {
    "duration": 9750,
    "start_time": "2021-10-03T16:02:41.683Z"
   },
   {
    "duration": 1214,
    "start_time": "2021-10-03T16:03:04.853Z"
   },
   {
    "duration": 416,
    "start_time": "2021-10-03T16:03:06.069Z"
   },
   {
    "duration": 235,
    "start_time": "2021-10-03T16:03:06.487Z"
   },
   {
    "duration": 6,
    "start_time": "2021-10-03T16:03:06.724Z"
   },
   {
    "duration": 18,
    "start_time": "2021-10-03T16:03:06.732Z"
   },
   {
    "duration": 19,
    "start_time": "2021-10-03T16:03:06.752Z"
   },
   {
    "duration": 17,
    "start_time": "2021-10-03T16:03:06.773Z"
   },
   {
    "duration": 172,
    "start_time": "2021-10-03T16:03:06.793Z"
   },
   {
    "duration": 37,
    "start_time": "2021-10-03T16:03:06.967Z"
   },
   {
    "duration": 53,
    "start_time": "2021-10-03T16:03:07.005Z"
   },
   {
    "duration": 2,
    "start_time": "2021-10-03T16:03:07.060Z"
   },
   {
    "duration": 26,
    "start_time": "2021-10-03T16:03:07.064Z"
   },
   {
    "duration": 11,
    "start_time": "2021-10-03T16:03:07.091Z"
   },
   {
    "duration": 7,
    "start_time": "2021-10-03T16:03:07.149Z"
   },
   {
    "duration": 95,
    "start_time": "2021-10-03T16:03:07.158Z"
   },
   {
    "duration": 8,
    "start_time": "2021-10-03T16:03:07.255Z"
   },
   {
    "duration": 3,
    "start_time": "2021-10-03T16:03:07.265Z"
   },
   {
    "duration": 6,
    "start_time": "2021-10-03T16:03:07.269Z"
   },
   {
    "duration": 9,
    "start_time": "2021-10-03T16:03:07.276Z"
   },
   {
    "duration": 7,
    "start_time": "2021-10-03T16:03:07.287Z"
   },
   {
    "duration": 8,
    "start_time": "2021-10-03T16:03:07.295Z"
   },
   {
    "duration": 61,
    "start_time": "2021-10-03T16:03:07.305Z"
   },
   {
    "duration": 3,
    "start_time": "2021-10-03T16:03:07.369Z"
   },
   {
    "duration": 7,
    "start_time": "2021-10-03T16:03:07.374Z"
   },
   {
    "duration": 8,
    "start_time": "2021-10-03T16:03:07.382Z"
   },
   {
    "duration": 10730,
    "start_time": "2021-10-03T16:03:07.392Z"
   },
   {
    "duration": 4,
    "start_time": "2021-10-03T16:05:32.237Z"
   },
   {
    "duration": 22,
    "start_time": "2021-10-03T16:05:32.678Z"
   },
   {
    "duration": 3,
    "start_time": "2021-10-03T16:09:56.632Z"
   },
   {
    "duration": 22,
    "start_time": "2021-10-03T16:09:57.021Z"
   },
   {
    "duration": 3,
    "start_time": "2021-10-03T16:10:20.325Z"
   },
   {
    "duration": 24,
    "start_time": "2021-10-03T16:10:20.638Z"
   },
   {
    "duration": 1156,
    "start_time": "2021-10-03T16:11:30.730Z"
   },
   {
    "duration": 448,
    "start_time": "2021-10-03T16:11:31.888Z"
   },
   {
    "duration": 292,
    "start_time": "2021-10-03T16:11:32.340Z"
   },
   {
    "duration": 18,
    "start_time": "2021-10-03T16:11:32.635Z"
   },
   {
    "duration": 8,
    "start_time": "2021-10-03T16:11:32.656Z"
   },
   {
    "duration": 8,
    "start_time": "2021-10-03T16:11:32.666Z"
   },
   {
    "duration": 6,
    "start_time": "2021-10-03T16:11:32.676Z"
   },
   {
    "duration": 199,
    "start_time": "2021-10-03T16:11:32.684Z"
   },
   {
    "duration": 40,
    "start_time": "2021-10-03T16:11:32.887Z"
   },
   {
    "duration": 59,
    "start_time": "2021-10-03T16:11:32.929Z"
   },
   {
    "duration": 3,
    "start_time": "2021-10-03T16:11:32.990Z"
   },
   {
    "duration": 25,
    "start_time": "2021-10-03T16:11:32.995Z"
   },
   {
    "duration": 128,
    "start_time": "2021-10-03T16:11:33.022Z"
   },
   {
    "duration": 7,
    "start_time": "2021-10-03T16:11:33.153Z"
   },
   {
    "duration": 88,
    "start_time": "2021-10-03T16:11:33.164Z"
   },
   {
    "duration": 10,
    "start_time": "2021-10-03T16:11:33.255Z"
   },
   {
    "duration": 4,
    "start_time": "2021-10-03T16:11:33.267Z"
   },
   {
    "duration": 6,
    "start_time": "2021-10-03T16:11:33.273Z"
   },
   {
    "duration": 9,
    "start_time": "2021-10-03T16:11:33.282Z"
   },
   {
    "duration": 17,
    "start_time": "2021-10-03T16:11:33.293Z"
   },
   {
    "duration": 10,
    "start_time": "2021-10-03T16:11:33.312Z"
   },
   {
    "duration": 50,
    "start_time": "2021-10-03T16:11:33.324Z"
   },
   {
    "duration": 4,
    "start_time": "2021-10-03T16:11:33.376Z"
   },
   {
    "duration": 8,
    "start_time": "2021-10-03T16:11:33.382Z"
   },
   {
    "duration": 8,
    "start_time": "2021-10-03T16:11:33.393Z"
   },
   {
    "duration": 11892,
    "start_time": "2021-10-03T16:11:33.403Z"
   },
   {
    "duration": 1122,
    "start_time": "2021-10-03T17:14:01.466Z"
   },
   {
    "duration": 398,
    "start_time": "2021-10-03T17:14:02.590Z"
   },
   {
    "duration": 250,
    "start_time": "2021-10-03T17:14:02.990Z"
   },
   {
    "duration": 11,
    "start_time": "2021-10-03T17:14:03.242Z"
   },
   {
    "duration": 13,
    "start_time": "2021-10-03T17:14:03.254Z"
   },
   {
    "duration": 13,
    "start_time": "2021-10-03T17:14:03.268Z"
   },
   {
    "duration": 9,
    "start_time": "2021-10-03T17:14:03.283Z"
   },
   {
    "duration": 176,
    "start_time": "2021-10-03T17:14:03.294Z"
   },
   {
    "duration": 37,
    "start_time": "2021-10-03T17:14:03.472Z"
   },
   {
    "duration": 55,
    "start_time": "2021-10-03T17:14:03.511Z"
   },
   {
    "duration": 3,
    "start_time": "2021-10-03T17:14:03.568Z"
   },
   {
    "duration": 27,
    "start_time": "2021-10-03T17:14:03.573Z"
   },
   {
    "duration": 50,
    "start_time": "2021-10-03T17:14:03.602Z"
   },
   {
    "duration": 100,
    "start_time": "2021-10-03T17:14:03.655Z"
   },
   {
    "duration": 95,
    "start_time": "2021-10-03T17:14:03.759Z"
   },
   {
    "duration": 6,
    "start_time": "2021-10-03T17:14:03.856Z"
   },
   {
    "duration": 3,
    "start_time": "2021-10-03T17:14:03.864Z"
   },
   {
    "duration": 6,
    "start_time": "2021-10-03T17:14:03.868Z"
   },
   {
    "duration": 12,
    "start_time": "2021-10-03T17:14:03.875Z"
   },
   {
    "duration": 8,
    "start_time": "2021-10-03T17:14:03.888Z"
   },
   {
    "duration": 7,
    "start_time": "2021-10-03T17:14:03.898Z"
   },
   {
    "duration": 53,
    "start_time": "2021-10-03T17:14:03.906Z"
   },
   {
    "duration": 3,
    "start_time": "2021-10-03T17:14:03.962Z"
   },
   {
    "duration": 6,
    "start_time": "2021-10-03T17:14:03.967Z"
   },
   {
    "duration": 11,
    "start_time": "2021-10-03T17:14:03.974Z"
   },
   {
    "duration": 9306,
    "start_time": "2021-10-03T17:14:03.986Z"
   },
   {
    "duration": 1376,
    "start_time": "2021-10-03T17:14:34.542Z"
   },
   {
    "duration": 398,
    "start_time": "2021-10-03T17:14:35.920Z"
   },
   {
    "duration": 257,
    "start_time": "2021-10-03T17:14:36.321Z"
   },
   {
    "duration": 7,
    "start_time": "2021-10-03T17:14:36.580Z"
   },
   {
    "duration": 8,
    "start_time": "2021-10-03T17:14:36.589Z"
   },
   {
    "duration": 9,
    "start_time": "2021-10-03T17:14:36.599Z"
   },
   {
    "duration": 5,
    "start_time": "2021-10-03T17:14:36.610Z"
   },
   {
    "duration": 193,
    "start_time": "2021-10-03T17:14:36.617Z"
   },
   {
    "duration": 46,
    "start_time": "2021-10-03T17:14:36.812Z"
   },
   {
    "duration": 40,
    "start_time": "2021-10-03T17:14:36.860Z"
   },
   {
    "duration": 2,
    "start_time": "2021-10-03T17:14:36.902Z"
   },
   {
    "duration": 44,
    "start_time": "2021-10-03T17:14:36.906Z"
   },
   {
    "duration": 98,
    "start_time": "2021-10-03T17:14:36.952Z"
   },
   {
    "duration": 6,
    "start_time": "2021-10-03T17:14:37.053Z"
   },
   {
    "duration": 7,
    "start_time": "2021-10-03T17:14:37.150Z"
   },
   {
    "duration": 9,
    "start_time": "2021-10-03T17:14:37.158Z"
   },
   {
    "duration": 80,
    "start_time": "2021-10-03T17:14:37.169Z"
   },
   {
    "duration": 6,
    "start_time": "2021-10-03T17:14:37.252Z"
   },
   {
    "duration": 7,
    "start_time": "2021-10-03T17:14:37.260Z"
   },
   {
    "duration": 9,
    "start_time": "2021-10-03T17:14:37.268Z"
   },
   {
    "duration": 4,
    "start_time": "2021-10-03T17:14:37.279Z"
   },
   {
    "duration": 30,
    "start_time": "2021-10-03T17:14:37.285Z"
   },
   {
    "duration": 3,
    "start_time": "2021-10-03T17:14:37.317Z"
   },
   {
    "duration": 28,
    "start_time": "2021-10-03T17:14:37.322Z"
   },
   {
    "duration": 4,
    "start_time": "2021-10-03T17:14:37.352Z"
   },
   {
    "duration": 9490,
    "start_time": "2021-10-03T17:14:37.358Z"
   },
   {
    "duration": 1077,
    "start_time": "2021-10-03T17:20:52.104Z"
   },
   {
    "duration": 398,
    "start_time": "2021-10-03T17:20:53.183Z"
   },
   {
    "duration": 251,
    "start_time": "2021-10-03T17:20:53.583Z"
   },
   {
    "duration": 16,
    "start_time": "2021-10-03T17:20:53.836Z"
   },
   {
    "duration": 15,
    "start_time": "2021-10-03T17:20:53.854Z"
   },
   {
    "duration": 24,
    "start_time": "2021-10-03T17:20:53.871Z"
   },
   {
    "duration": 72,
    "start_time": "2021-10-03T17:20:53.898Z"
   },
   {
    "duration": 181,
    "start_time": "2021-10-03T17:20:53.973Z"
   },
   {
    "duration": 36,
    "start_time": "2021-10-03T17:20:54.157Z"
   },
   {
    "duration": 39,
    "start_time": "2021-10-03T17:20:54.195Z"
   },
   {
    "duration": 3,
    "start_time": "2021-10-03T17:20:54.248Z"
   },
   {
    "duration": 47,
    "start_time": "2021-10-03T17:20:54.253Z"
   },
   {
    "duration": 52,
    "start_time": "2021-10-03T17:20:54.301Z"
   },
   {
    "duration": 97,
    "start_time": "2021-10-03T17:20:54.355Z"
   },
   {
    "duration": 31,
    "start_time": "2021-10-03T17:20:54.454Z"
   },
   {
    "duration": 12,
    "start_time": "2021-10-03T17:20:54.488Z"
   },
   {
    "duration": 24,
    "start_time": "2021-10-03T17:20:54.502Z"
   },
   {
    "duration": 13,
    "start_time": "2021-10-03T17:20:54.528Z"
   },
   {
    "duration": 12,
    "start_time": "2021-10-03T17:20:54.543Z"
   },
   {
    "duration": 28,
    "start_time": "2021-10-03T17:20:54.557Z"
   },
   {
    "duration": 19,
    "start_time": "2021-10-03T17:20:54.586Z"
   },
   {
    "duration": 39,
    "start_time": "2021-10-03T17:20:54.607Z"
   },
   {
    "duration": 3,
    "start_time": "2021-10-03T17:20:54.649Z"
   },
   {
    "duration": 27,
    "start_time": "2021-10-03T17:20:54.654Z"
   },
   {
    "duration": 25,
    "start_time": "2021-10-03T17:20:54.682Z"
   },
   {
    "duration": 9359,
    "start_time": "2021-10-03T17:20:54.708Z"
   },
   {
    "duration": 1151,
    "start_time": "2021-10-03T17:22:49.038Z"
   },
   {
    "duration": 395,
    "start_time": "2021-10-03T17:22:50.191Z"
   },
   {
    "duration": 251,
    "start_time": "2021-10-03T17:22:50.588Z"
   },
   {
    "duration": 6,
    "start_time": "2021-10-03T17:22:50.849Z"
   },
   {
    "duration": 11,
    "start_time": "2021-10-03T17:22:50.857Z"
   },
   {
    "duration": 15,
    "start_time": "2021-10-03T17:22:50.870Z"
   },
   {
    "duration": 13,
    "start_time": "2021-10-03T17:22:50.887Z"
   },
   {
    "duration": 179,
    "start_time": "2021-10-03T17:22:50.903Z"
   },
   {
    "duration": 37,
    "start_time": "2021-10-03T17:22:51.085Z"
   },
   {
    "duration": 60,
    "start_time": "2021-10-03T17:22:51.123Z"
   },
   {
    "duration": 3,
    "start_time": "2021-10-03T17:22:51.185Z"
   },
   {
    "duration": 27,
    "start_time": "2021-10-03T17:22:51.190Z"
   },
   {
    "duration": 35,
    "start_time": "2021-10-03T17:22:51.218Z"
   },
   {
    "duration": 94,
    "start_time": "2021-10-03T17:22:51.256Z"
   },
   {
    "duration": 97,
    "start_time": "2021-10-03T17:22:51.353Z"
   },
   {
    "duration": 7,
    "start_time": "2021-10-03T17:22:51.452Z"
   },
   {
    "duration": 7,
    "start_time": "2021-10-03T17:22:51.460Z"
   },
   {
    "duration": 8,
    "start_time": "2021-10-03T17:22:51.469Z"
   },
   {
    "duration": 5,
    "start_time": "2021-10-03T17:22:51.479Z"
   },
   {
    "duration": 10,
    "start_time": "2021-10-03T17:22:51.486Z"
   },
   {
    "duration": 7,
    "start_time": "2021-10-03T17:22:51.498Z"
   },
   {
    "duration": 325,
    "start_time": "2021-10-03T17:22:51.506Z"
   },
   {
    "duration": 2841,
    "start_time": "2021-10-03T17:22:48.993Z"
   },
   {
    "duration": 2839,
    "start_time": "2021-10-03T17:22:48.996Z"
   },
   {
    "duration": 2839,
    "start_time": "2021-10-03T17:22:48.998Z"
   },
   {
    "duration": 3,
    "start_time": "2021-10-03T17:23:05.327Z"
   },
   {
    "duration": 3,
    "start_time": "2021-10-03T17:23:06.262Z"
   },
   {
    "duration": 4,
    "start_time": "2021-10-03T17:23:06.669Z"
   },
   {
    "duration": 489,
    "start_time": "2021-10-03T17:23:07.189Z"
   },
   {
    "duration": 1170,
    "start_time": "2021-10-03T17:23:41.031Z"
   },
   {
    "duration": 408,
    "start_time": "2021-10-03T17:23:42.203Z"
   },
   {
    "duration": 249,
    "start_time": "2021-10-03T17:23:42.614Z"
   },
   {
    "duration": 7,
    "start_time": "2021-10-03T17:23:42.865Z"
   },
   {
    "duration": 18,
    "start_time": "2021-10-03T17:23:42.874Z"
   },
   {
    "duration": 13,
    "start_time": "2021-10-03T17:23:42.894Z"
   },
   {
    "duration": 14,
    "start_time": "2021-10-03T17:23:42.909Z"
   },
   {
    "duration": 184,
    "start_time": "2021-10-03T17:23:42.926Z"
   },
   {
    "duration": 66,
    "start_time": "2021-10-03T17:23:43.113Z"
   },
   {
    "duration": 58,
    "start_time": "2021-10-03T17:23:43.181Z"
   },
   {
    "duration": 3,
    "start_time": "2021-10-03T17:23:43.249Z"
   },
   {
    "duration": 38,
    "start_time": "2021-10-03T17:23:43.254Z"
   },
   {
    "duration": 66,
    "start_time": "2021-10-03T17:23:43.294Z"
   },
   {
    "duration": 90,
    "start_time": "2021-10-03T17:23:43.362Z"
   },
   {
    "duration": 7,
    "start_time": "2021-10-03T17:23:43.550Z"
   },
   {
    "duration": 14,
    "start_time": "2021-10-03T17:23:43.559Z"
   },
   {
    "duration": 3,
    "start_time": "2021-10-03T17:23:43.575Z"
   },
   {
    "duration": 9,
    "start_time": "2021-10-03T17:23:43.580Z"
   },
   {
    "duration": 10,
    "start_time": "2021-10-03T17:23:43.590Z"
   },
   {
    "duration": 12,
    "start_time": "2021-10-03T17:23:43.602Z"
   },
   {
    "duration": 10,
    "start_time": "2021-10-03T17:23:43.616Z"
   },
   {
    "duration": 4,
    "start_time": "2021-10-03T17:23:43.649Z"
   },
   {
    "duration": 11,
    "start_time": "2021-10-03T17:23:43.656Z"
   },
   {
    "duration": 9,
    "start_time": "2021-10-03T17:23:43.669Z"
   },
   {
    "duration": 9198,
    "start_time": "2021-10-03T17:23:43.680Z"
   },
   {
    "duration": 1134,
    "start_time": "2021-10-03T17:25:10.359Z"
   },
   {
    "duration": 407,
    "start_time": "2021-10-03T17:25:11.495Z"
   },
   {
    "duration": 253,
    "start_time": "2021-10-03T17:25:11.904Z"
   },
   {
    "duration": 6,
    "start_time": "2021-10-03T17:25:12.160Z"
   },
   {
    "duration": 21,
    "start_time": "2021-10-03T17:25:12.168Z"
   },
   {
    "duration": 19,
    "start_time": "2021-10-03T17:25:12.191Z"
   },
   {
    "duration": 14,
    "start_time": "2021-10-03T17:25:12.212Z"
   },
   {
    "duration": 203,
    "start_time": "2021-10-03T17:25:12.229Z"
   },
   {
    "duration": 44,
    "start_time": "2021-10-03T17:25:12.434Z"
   },
   {
    "duration": 42,
    "start_time": "2021-10-03T17:25:12.479Z"
   },
   {
    "duration": 3,
    "start_time": "2021-10-03T17:25:12.523Z"
   },
   {
    "duration": 41,
    "start_time": "2021-10-03T17:25:12.528Z"
   },
   {
    "duration": 10,
    "start_time": "2021-10-03T17:25:12.570Z"
   },
   {
    "duration": 169,
    "start_time": "2021-10-03T17:25:12.583Z"
   },
   {
    "duration": 5,
    "start_time": "2021-10-03T17:25:12.754Z"
   },
   {
    "duration": 13,
    "start_time": "2021-10-03T17:25:12.761Z"
   },
   {
    "duration": 9,
    "start_time": "2021-10-03T17:25:12.776Z"
   },
   {
    "duration": 11,
    "start_time": "2021-10-03T17:25:12.787Z"
   },
   {
    "duration": 21,
    "start_time": "2021-10-03T17:25:12.799Z"
   },
   {
    "duration": 12,
    "start_time": "2021-10-03T17:25:12.821Z"
   },
   {
    "duration": 15,
    "start_time": "2021-10-03T17:25:12.834Z"
   },
   {
    "duration": 46,
    "start_time": "2021-10-03T17:25:12.851Z"
   },
   {
    "duration": 13,
    "start_time": "2021-10-03T17:25:12.900Z"
   },
   {
    "duration": 18,
    "start_time": "2021-10-03T17:25:12.915Z"
   },
   {
    "duration": 9167,
    "start_time": "2021-10-03T17:25:12.935Z"
   },
   {
    "duration": 10,
    "start_time": "2021-10-03T17:30:12.966Z"
   },
   {
    "duration": 5,
    "start_time": "2021-10-03T17:30:26.247Z"
   },
   {
    "duration": 5,
    "start_time": "2021-10-03T17:30:43.095Z"
   },
   {
    "duration": 6,
    "start_time": "2021-10-03T17:31:17.206Z"
   },
   {
    "duration": 5,
    "start_time": "2021-10-03T17:31:52.847Z"
   },
   {
    "duration": 4,
    "start_time": "2021-10-03T17:33:10.243Z"
   },
   {
    "duration": 324,
    "start_time": "2021-10-03T17:35:05.171Z"
   },
   {
    "duration": 5,
    "start_time": "2021-10-03T17:35:22.456Z"
   },
   {
    "duration": 9,
    "start_time": "2021-10-03T17:35:28.651Z"
   },
   {
    "duration": 4,
    "start_time": "2021-10-03T17:35:46.505Z"
   },
   {
    "duration": 9,
    "start_time": "2021-10-03T17:35:46.801Z"
   },
   {
    "duration": 1134,
    "start_time": "2021-10-03T17:35:58.745Z"
   },
   {
    "duration": 402,
    "start_time": "2021-10-03T17:35:59.881Z"
   },
   {
    "duration": 254,
    "start_time": "2021-10-03T17:36:00.285Z"
   },
   {
    "duration": 7,
    "start_time": "2021-10-03T17:36:00.550Z"
   },
   {
    "duration": 18,
    "start_time": "2021-10-03T17:36:00.558Z"
   },
   {
    "duration": 12,
    "start_time": "2021-10-03T17:36:00.579Z"
   },
   {
    "duration": 58,
    "start_time": "2021-10-03T17:36:00.594Z"
   },
   {
    "duration": 186,
    "start_time": "2021-10-03T17:36:00.655Z"
   },
   {
    "duration": 40,
    "start_time": "2021-10-03T17:36:00.843Z"
   },
   {
    "duration": 64,
    "start_time": "2021-10-03T17:36:00.886Z"
   },
   {
    "duration": 3,
    "start_time": "2021-10-03T17:36:00.952Z"
   },
   {
    "duration": 37,
    "start_time": "2021-10-03T17:36:00.957Z"
   },
   {
    "duration": 56,
    "start_time": "2021-10-03T17:36:00.996Z"
   },
   {
    "duration": 6,
    "start_time": "2021-10-03T17:36:01.056Z"
   },
   {
    "duration": 16,
    "start_time": "2021-10-03T17:36:01.149Z"
   },
   {
    "duration": 22,
    "start_time": "2021-10-03T17:36:01.166Z"
   },
   {
    "duration": 16,
    "start_time": "2021-10-03T17:36:01.190Z"
   },
   {
    "duration": 24,
    "start_time": "2021-10-03T17:36:01.208Z"
   },
   {
    "duration": 16,
    "start_time": "2021-10-03T17:36:01.234Z"
   },
   {
    "duration": 27,
    "start_time": "2021-10-03T17:36:01.252Z"
   },
   {
    "duration": 15,
    "start_time": "2021-10-03T17:36:01.281Z"
   },
   {
    "duration": 23,
    "start_time": "2021-10-03T17:36:01.298Z"
   },
   {
    "duration": 16,
    "start_time": "2021-10-03T17:36:01.324Z"
   },
   {
    "duration": 21,
    "start_time": "2021-10-03T17:36:01.342Z"
   },
   {
    "duration": 17,
    "start_time": "2021-10-03T17:36:01.365Z"
   },
   {
    "duration": 20,
    "start_time": "2021-10-03T17:36:01.383Z"
   },
   {
    "duration": 8897,
    "start_time": "2021-10-03T17:36:01.405Z"
   },
   {
    "duration": 1067,
    "start_time": "2021-10-03T17:36:58.308Z"
   },
   {
    "duration": 387,
    "start_time": "2021-10-03T17:36:59.378Z"
   },
   {
    "duration": 248,
    "start_time": "2021-10-03T17:36:59.768Z"
   },
   {
    "duration": 7,
    "start_time": "2021-10-03T17:37:00.019Z"
   },
   {
    "duration": 24,
    "start_time": "2021-10-03T17:37:00.028Z"
   },
   {
    "duration": 11,
    "start_time": "2021-10-03T17:37:00.054Z"
   },
   {
    "duration": 10,
    "start_time": "2021-10-03T17:37:00.067Z"
   },
   {
    "duration": 189,
    "start_time": "2021-10-03T17:37:00.080Z"
   },
   {
    "duration": 39,
    "start_time": "2021-10-03T17:37:00.271Z"
   },
   {
    "duration": 61,
    "start_time": "2021-10-03T17:37:00.312Z"
   },
   {
    "duration": 3,
    "start_time": "2021-10-03T17:37:00.375Z"
   },
   {
    "duration": 33,
    "start_time": "2021-10-03T17:37:00.380Z"
   },
   {
    "duration": 43,
    "start_time": "2021-10-03T17:37:00.415Z"
   },
   {
    "duration": 6,
    "start_time": "2021-10-03T17:37:00.550Z"
   },
   {
    "duration": 106,
    "start_time": "2021-10-03T17:37:00.559Z"
   },
   {
    "duration": 15,
    "start_time": "2021-10-03T17:37:00.667Z"
   },
   {
    "duration": 9,
    "start_time": "2021-10-03T17:37:00.684Z"
   },
   {
    "duration": 13,
    "start_time": "2021-10-03T17:37:00.695Z"
   },
   {
    "duration": 10,
    "start_time": "2021-10-03T17:37:00.712Z"
   },
   {
    "duration": 12,
    "start_time": "2021-10-03T17:37:00.724Z"
   },
   {
    "duration": 13,
    "start_time": "2021-10-03T17:37:00.738Z"
   },
   {
    "duration": 7,
    "start_time": "2021-10-03T17:37:00.753Z"
   },
   {
    "duration": 8,
    "start_time": "2021-10-03T17:37:00.763Z"
   },
   {
    "duration": 8,
    "start_time": "2021-10-03T17:37:00.773Z"
   },
   {
    "duration": 19,
    "start_time": "2021-10-03T17:37:00.783Z"
   },
   {
    "duration": 9169,
    "start_time": "2021-10-03T17:37:00.804Z"
   },
   {
    "duration": 4,
    "start_time": "2021-10-03T17:38:04.241Z"
   },
   {
    "duration": 9089,
    "start_time": "2021-10-03T17:38:04.510Z"
   },
   {
    "duration": 21,
    "start_time": "2021-10-03T17:38:58.282Z"
   },
   {
    "duration": 5,
    "start_time": "2021-10-03T17:41:05.729Z"
   },
   {
    "duration": 9154,
    "start_time": "2021-10-03T17:41:06.118Z"
   },
   {
    "duration": 999,
    "start_time": "2021-10-03T17:42:10.795Z"
   },
   {
    "duration": 396,
    "start_time": "2021-10-03T17:42:11.797Z"
   },
   {
    "duration": 273,
    "start_time": "2021-10-03T17:42:12.196Z"
   },
   {
    "duration": 6,
    "start_time": "2021-10-03T17:42:12.471Z"
   },
   {
    "duration": 11,
    "start_time": "2021-10-03T17:42:12.479Z"
   },
   {
    "duration": 14,
    "start_time": "2021-10-03T17:42:12.492Z"
   },
   {
    "duration": 6,
    "start_time": "2021-10-03T17:42:12.508Z"
   },
   {
    "duration": 186,
    "start_time": "2021-10-03T17:42:12.517Z"
   },
   {
    "duration": 45,
    "start_time": "2021-10-03T17:42:12.705Z"
   },
   {
    "duration": 40,
    "start_time": "2021-10-03T17:42:12.751Z"
   },
   {
    "duration": 2,
    "start_time": "2021-10-03T17:42:12.793Z"
   },
   {
    "duration": 24,
    "start_time": "2021-10-03T17:42:12.797Z"
   },
   {
    "duration": 35,
    "start_time": "2021-10-03T17:42:12.823Z"
   },
   {
    "duration": 5,
    "start_time": "2021-10-03T17:42:12.860Z"
   },
   {
    "duration": 7,
    "start_time": "2021-10-03T17:42:12.868Z"
   },
   {
    "duration": 8,
    "start_time": "2021-10-03T17:42:12.950Z"
   },
   {
    "duration": 3,
    "start_time": "2021-10-03T17:42:12.960Z"
   },
   {
    "duration": 86,
    "start_time": "2021-10-03T17:42:12.965Z"
   },
   {
    "duration": 4,
    "start_time": "2021-10-03T17:42:13.052Z"
   },
   {
    "duration": 10,
    "start_time": "2021-10-03T17:42:13.058Z"
   },
   {
    "duration": 5,
    "start_time": "2021-10-03T17:42:13.070Z"
   },
   {
    "duration": 5,
    "start_time": "2021-10-03T17:42:13.077Z"
   },
   {
    "duration": 9,
    "start_time": "2021-10-03T17:42:13.085Z"
   },
   {
    "duration": 6,
    "start_time": "2021-10-03T17:42:13.102Z"
   },
   {
    "duration": 9874,
    "start_time": "2021-10-03T17:42:13.110Z"
   },
   {
    "duration": 1048,
    "start_time": "2021-10-03T17:42:25.542Z"
   },
   {
    "duration": 395,
    "start_time": "2021-10-03T17:42:26.592Z"
   },
   {
    "duration": 263,
    "start_time": "2021-10-03T17:42:26.989Z"
   },
   {
    "duration": 7,
    "start_time": "2021-10-03T17:42:27.254Z"
   },
   {
    "duration": 13,
    "start_time": "2021-10-03T17:42:27.263Z"
   },
   {
    "duration": 10,
    "start_time": "2021-10-03T17:42:27.278Z"
   },
   {
    "duration": 5,
    "start_time": "2021-10-03T17:42:27.289Z"
   },
   {
    "duration": 195,
    "start_time": "2021-10-03T17:42:27.296Z"
   },
   {
    "duration": 39,
    "start_time": "2021-10-03T17:42:27.493Z"
   },
   {
    "duration": 52,
    "start_time": "2021-10-03T17:42:27.533Z"
   },
   {
    "duration": 2,
    "start_time": "2021-10-03T17:42:27.587Z"
   },
   {
    "duration": 26,
    "start_time": "2021-10-03T17:42:27.591Z"
   },
   {
    "duration": 33,
    "start_time": "2021-10-03T17:42:27.619Z"
   },
   {
    "duration": 5,
    "start_time": "2021-10-03T17:42:27.654Z"
   },
   {
    "duration": 97,
    "start_time": "2021-10-03T17:42:27.660Z"
   },
   {
    "duration": 96,
    "start_time": "2021-10-03T17:42:27.759Z"
   },
   {
    "duration": 12,
    "start_time": "2021-10-03T17:42:27.856Z"
   },
   {
    "duration": 13,
    "start_time": "2021-10-03T17:42:27.870Z"
   },
   {
    "duration": 5,
    "start_time": "2021-10-03T17:42:27.885Z"
   },
   {
    "duration": 20,
    "start_time": "2021-10-03T17:42:27.892Z"
   },
   {
    "duration": 13,
    "start_time": "2021-10-03T17:42:27.914Z"
   },
   {
    "duration": 13,
    "start_time": "2021-10-03T17:42:27.929Z"
   },
   {
    "duration": 13,
    "start_time": "2021-10-03T17:42:27.945Z"
   },
   {
    "duration": 21,
    "start_time": "2021-10-03T17:42:27.960Z"
   },
   {
    "duration": 9182,
    "start_time": "2021-10-03T17:42:27.982Z"
   },
   {
    "duration": 1070,
    "start_time": "2021-10-03T17:48:51.362Z"
   },
   {
    "duration": 389,
    "start_time": "2021-10-03T17:48:52.434Z"
   },
   {
    "duration": 249,
    "start_time": "2021-10-03T17:48:52.826Z"
   },
   {
    "duration": 6,
    "start_time": "2021-10-03T17:48:53.077Z"
   },
   {
    "duration": 11,
    "start_time": "2021-10-03T17:48:53.085Z"
   },
   {
    "duration": 13,
    "start_time": "2021-10-03T17:48:53.098Z"
   },
   {
    "duration": 4,
    "start_time": "2021-10-03T17:48:53.113Z"
   },
   {
    "duration": 180,
    "start_time": "2021-10-03T17:48:53.119Z"
   },
   {
    "duration": 48,
    "start_time": "2021-10-03T17:48:53.302Z"
   },
   {
    "duration": 41,
    "start_time": "2021-10-03T17:48:53.352Z"
   },
   {
    "duration": 3,
    "start_time": "2021-10-03T17:48:53.394Z"
   },
   {
    "duration": 26,
    "start_time": "2021-10-03T17:48:53.398Z"
   },
   {
    "duration": 33,
    "start_time": "2021-10-03T17:48:53.426Z"
   },
   {
    "duration": 7,
    "start_time": "2021-10-03T17:48:53.551Z"
   },
   {
    "duration": 6,
    "start_time": "2021-10-03T17:48:53.650Z"
   },
   {
    "duration": 9,
    "start_time": "2021-10-03T17:48:53.657Z"
   },
   {
    "duration": 3,
    "start_time": "2021-10-03T17:48:53.667Z"
   },
   {
    "duration": 6,
    "start_time": "2021-10-03T17:48:53.671Z"
   },
   {
    "duration": 4,
    "start_time": "2021-10-03T17:48:53.679Z"
   },
   {
    "duration": 10,
    "start_time": "2021-10-03T17:48:53.685Z"
   },
   {
    "duration": 8,
    "start_time": "2021-10-03T17:48:53.696Z"
   },
   {
    "duration": 6,
    "start_time": "2021-10-03T17:48:53.706Z"
   },
   {
    "duration": 6,
    "start_time": "2021-10-03T17:48:53.715Z"
   },
   {
    "duration": 35,
    "start_time": "2021-10-03T17:48:53.723Z"
   },
   {
    "duration": 9183,
    "start_time": "2021-10-03T17:48:53.760Z"
   }
  ],
  "kernelspec": {
   "display_name": "Python 3 (ipykernel)",
   "language": "python",
   "name": "python3"
  },
  "language_info": {
   "codemirror_mode": {
    "name": "ipython",
    "version": 3
   },
   "file_extension": ".py",
   "mimetype": "text/x-python",
   "name": "python",
   "nbconvert_exporter": "python",
   "pygments_lexer": "ipython3",
   "version": "3.9.7"
  },
  "toc": {
   "base_numbering": 1,
   "nav_menu": {},
   "number_sections": true,
   "sideBar": true,
   "skip_h1_title": true,
   "title_cell": "Table of Contents",
   "title_sidebar": "Contents",
   "toc_cell": false,
   "toc_position": {},
   "toc_section_display": true,
   "toc_window_display": false
  }
 },
 "nbformat": 4,
 "nbformat_minor": 2
}
