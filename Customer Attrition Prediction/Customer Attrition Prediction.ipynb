{
 "cells": [
  {
   "cell_type": "markdown",
   "metadata": {
    "toc": true
   },
   "source": [
    "<h1>Contents<span class=\"tocSkip\"></span></h1>\n",
    "<div class=\"toc\"><ul class=\"toc-item\"><li><span><a href=\"#Data-Preparation\" data-toc-modified-id=\"Data-Preparation-1\"><span class=\"toc-item-num\">1&nbsp;&nbsp;</span>Data Preparation</a></span></li><li><span><a href=\"#Analysis-and-Model-training\" data-toc-modified-id=\"Analysis-and-Model-training-2\"><span class=\"toc-item-num\">2&nbsp;&nbsp;</span>Analysis and Model training</a></span></li><li><span><a href=\"#Imbalance-control\" data-toc-modified-id=\"Imbalance-control-3\"><span class=\"toc-item-num\">3&nbsp;&nbsp;</span>Imbalance control</a></span></li><li><span><a href=\"#Model-testing\" data-toc-modified-id=\"ТModel-testing-4\"><span class=\"toc-item-num\">4&nbsp;&nbsp;</span>Model testing</a></span></li><li><span><a href=\"#Conclusion\" data-toc-modified-id=\"Conclusion-5\"><span class=\"toc-item-num\">5&nbsp;&nbsp;</span>Conclusion</a></span></li></ul></div>"
   ]
  },
  {
   "cell_type": "markdown",
   "metadata": {},
   "source": [
    "# Customer Attrition Prediction"
   ]
  },
  {
   "cell_type": "markdown",
   "metadata": {},
   "source": [
    "Goal: develop a machine learning algorithm for customer attrition prediction analysis. \n",
    "\n",
    "Requirements: f1-score not less than 0.59 for the test set. "
   ]
  },
  {
   "cell_type": "markdown",
   "metadata": {},
   "source": [
    "## Data Preparation"
   ]
  },
  {
   "cell_type": "markdown",
   "metadata": {},
   "source": [
    "Upload the data and the necessary libraries"
   ]
  },
  {
   "cell_type": "code",
   "execution_count": 1,
   "metadata": {},
   "outputs": [],
   "source": [
    "import pandas as pd\n",
    "import numpy as np\n",
    "from sklearn.linear_model import LogisticRegression\n",
    "from sklearn.ensemble import RandomForestClassifier\n",
    "from sklearn.metrics import f1_score\n",
    "from sklearn.metrics import roc_auc_score\n",
    "from sklearn.model_selection import train_test_split\n",
    "from sklearn.metrics import *\n",
    "import matplotlib.pyplot as plt\n",
    "from sklearn.preprocessing import StandardScaler\n",
    "from sklearn.utils import shuffle"
   ]
  },
  {
   "cell_type": "code",
   "execution_count": 2,
   "metadata": {},
   "outputs": [],
   "source": [
    "import warnings\n",
    "warnings.filterwarnings(\"ignore\")"
   ]
  },
  {
   "cell_type": "code",
   "execution_count": 3,
   "metadata": {},
   "outputs": [],
   "source": [
    "df = pd.read_csv('/datasets/Churn.csv')"
   ]
  },
  {
   "cell_type": "code",
   "execution_count": 4,
   "metadata": {},
   "outputs": [
    {
     "data": {
      "text/html": [
       "<div>\n",
       "<style scoped>\n",
       "    .dataframe tbody tr th:only-of-type {\n",
       "        vertical-align: middle;\n",
       "    }\n",
       "\n",
       "    .dataframe tbody tr th {\n",
       "        vertical-align: top;\n",
       "    }\n",
       "\n",
       "    .dataframe thead th {\n",
       "        text-align: right;\n",
       "    }\n",
       "</style>\n",
       "<table border=\"1\" class=\"dataframe\">\n",
       "  <thead>\n",
       "    <tr style=\"text-align: right;\">\n",
       "      <th></th>\n",
       "      <th>RowNumber</th>\n",
       "      <th>CustomerId</th>\n",
       "      <th>Surname</th>\n",
       "      <th>CreditScore</th>\n",
       "      <th>Geography</th>\n",
       "      <th>Gender</th>\n",
       "      <th>Age</th>\n",
       "      <th>Tenure</th>\n",
       "      <th>Balance</th>\n",
       "      <th>NumOfProducts</th>\n",
       "      <th>HasCrCard</th>\n",
       "      <th>IsActiveMember</th>\n",
       "      <th>EstimatedSalary</th>\n",
       "      <th>Exited</th>\n",
       "    </tr>\n",
       "  </thead>\n",
       "  <tbody>\n",
       "    <tr>\n",
       "      <th>0</th>\n",
       "      <td>1</td>\n",
       "      <td>15634602</td>\n",
       "      <td>Hargrave</td>\n",
       "      <td>619</td>\n",
       "      <td>France</td>\n",
       "      <td>Female</td>\n",
       "      <td>42</td>\n",
       "      <td>2.0</td>\n",
       "      <td>0.00</td>\n",
       "      <td>1</td>\n",
       "      <td>1</td>\n",
       "      <td>1</td>\n",
       "      <td>101348.88</td>\n",
       "      <td>1</td>\n",
       "    </tr>\n",
       "    <tr>\n",
       "      <th>1</th>\n",
       "      <td>2</td>\n",
       "      <td>15647311</td>\n",
       "      <td>Hill</td>\n",
       "      <td>608</td>\n",
       "      <td>Spain</td>\n",
       "      <td>Female</td>\n",
       "      <td>41</td>\n",
       "      <td>1.0</td>\n",
       "      <td>83807.86</td>\n",
       "      <td>1</td>\n",
       "      <td>0</td>\n",
       "      <td>1</td>\n",
       "      <td>112542.58</td>\n",
       "      <td>0</td>\n",
       "    </tr>\n",
       "    <tr>\n",
       "      <th>2</th>\n",
       "      <td>3</td>\n",
       "      <td>15619304</td>\n",
       "      <td>Onio</td>\n",
       "      <td>502</td>\n",
       "      <td>France</td>\n",
       "      <td>Female</td>\n",
       "      <td>42</td>\n",
       "      <td>8.0</td>\n",
       "      <td>159660.80</td>\n",
       "      <td>3</td>\n",
       "      <td>1</td>\n",
       "      <td>0</td>\n",
       "      <td>113931.57</td>\n",
       "      <td>1</td>\n",
       "    </tr>\n",
       "    <tr>\n",
       "      <th>3</th>\n",
       "      <td>4</td>\n",
       "      <td>15701354</td>\n",
       "      <td>Boni</td>\n",
       "      <td>699</td>\n",
       "      <td>France</td>\n",
       "      <td>Female</td>\n",
       "      <td>39</td>\n",
       "      <td>1.0</td>\n",
       "      <td>0.00</td>\n",
       "      <td>2</td>\n",
       "      <td>0</td>\n",
       "      <td>0</td>\n",
       "      <td>93826.63</td>\n",
       "      <td>0</td>\n",
       "    </tr>\n",
       "    <tr>\n",
       "      <th>4</th>\n",
       "      <td>5</td>\n",
       "      <td>15737888</td>\n",
       "      <td>Mitchell</td>\n",
       "      <td>850</td>\n",
       "      <td>Spain</td>\n",
       "      <td>Female</td>\n",
       "      <td>43</td>\n",
       "      <td>2.0</td>\n",
       "      <td>125510.82</td>\n",
       "      <td>1</td>\n",
       "      <td>1</td>\n",
       "      <td>1</td>\n",
       "      <td>79084.10</td>\n",
       "      <td>0</td>\n",
       "    </tr>\n",
       "  </tbody>\n",
       "</table>\n",
       "</div>"
      ],
      "text/plain": [
       "   RowNumber  CustomerId   Surname  CreditScore Geography  Gender  Age  \\\n",
       "0          1    15634602  Hargrave          619    France  Female   42   \n",
       "1          2    15647311      Hill          608     Spain  Female   41   \n",
       "2          3    15619304      Onio          502    France  Female   42   \n",
       "3          4    15701354      Boni          699    France  Female   39   \n",
       "4          5    15737888  Mitchell          850     Spain  Female   43   \n",
       "\n",
       "   Tenure    Balance  NumOfProducts  HasCrCard  IsActiveMember  \\\n",
       "0     2.0       0.00              1          1               1   \n",
       "1     1.0   83807.86              1          0               1   \n",
       "2     8.0  159660.80              3          1               0   \n",
       "3     1.0       0.00              2          0               0   \n",
       "4     2.0  125510.82              1          1               1   \n",
       "\n",
       "   EstimatedSalary  Exited  \n",
       "0        101348.88       1  \n",
       "1        112542.58       0  \n",
       "2        113931.57       1  \n",
       "3         93826.63       0  \n",
       "4         79084.10       0  "
      ]
     },
     "execution_count": 4,
     "metadata": {},
     "output_type": "execute_result"
    }
   ],
   "source": [
    "df.head()"
   ]
  },
  {
   "cell_type": "code",
   "execution_count": 5,
   "metadata": {},
   "outputs": [
    {
     "data": {
      "text/plain": [
       "(10000, 14)"
      ]
     },
     "execution_count": 5,
     "metadata": {},
     "output_type": "execute_result"
    }
   ],
   "source": [
    "df.shape"
   ]
  },
  {
   "cell_type": "code",
   "execution_count": 6,
   "metadata": {},
   "outputs": [
    {
     "data": {
      "text/html": [
       "<div>\n",
       "<style scoped>\n",
       "    .dataframe tbody tr th:only-of-type {\n",
       "        vertical-align: middle;\n",
       "    }\n",
       "\n",
       "    .dataframe tbody tr th {\n",
       "        vertical-align: top;\n",
       "    }\n",
       "\n",
       "    .dataframe thead th {\n",
       "        text-align: right;\n",
       "    }\n",
       "</style>\n",
       "<table border=\"1\" class=\"dataframe\">\n",
       "  <thead>\n",
       "    <tr style=\"text-align: right;\">\n",
       "      <th></th>\n",
       "      <th>RowNumber</th>\n",
       "      <th>CustomerId</th>\n",
       "      <th>CreditScore</th>\n",
       "      <th>Age</th>\n",
       "      <th>Tenure</th>\n",
       "      <th>Balance</th>\n",
       "      <th>NumOfProducts</th>\n",
       "      <th>HasCrCard</th>\n",
       "      <th>IsActiveMember</th>\n",
       "      <th>EstimatedSalary</th>\n",
       "      <th>Exited</th>\n",
       "    </tr>\n",
       "  </thead>\n",
       "  <tbody>\n",
       "    <tr>\n",
       "      <th>count</th>\n",
       "      <td>10000.00000</td>\n",
       "      <td>1.000000e+04</td>\n",
       "      <td>10000.000000</td>\n",
       "      <td>10000.000000</td>\n",
       "      <td>9091.000000</td>\n",
       "      <td>10000.000000</td>\n",
       "      <td>10000.000000</td>\n",
       "      <td>10000.00000</td>\n",
       "      <td>10000.000000</td>\n",
       "      <td>10000.000000</td>\n",
       "      <td>10000.000000</td>\n",
       "    </tr>\n",
       "    <tr>\n",
       "      <th>mean</th>\n",
       "      <td>5000.50000</td>\n",
       "      <td>1.569094e+07</td>\n",
       "      <td>650.528800</td>\n",
       "      <td>38.921800</td>\n",
       "      <td>4.997690</td>\n",
       "      <td>76485.889288</td>\n",
       "      <td>1.530200</td>\n",
       "      <td>0.70550</td>\n",
       "      <td>0.515100</td>\n",
       "      <td>100090.239881</td>\n",
       "      <td>0.203700</td>\n",
       "    </tr>\n",
       "    <tr>\n",
       "      <th>std</th>\n",
       "      <td>2886.89568</td>\n",
       "      <td>7.193619e+04</td>\n",
       "      <td>96.653299</td>\n",
       "      <td>10.487806</td>\n",
       "      <td>2.894723</td>\n",
       "      <td>62397.405202</td>\n",
       "      <td>0.581654</td>\n",
       "      <td>0.45584</td>\n",
       "      <td>0.499797</td>\n",
       "      <td>57510.492818</td>\n",
       "      <td>0.402769</td>\n",
       "    </tr>\n",
       "    <tr>\n",
       "      <th>min</th>\n",
       "      <td>1.00000</td>\n",
       "      <td>1.556570e+07</td>\n",
       "      <td>350.000000</td>\n",
       "      <td>18.000000</td>\n",
       "      <td>0.000000</td>\n",
       "      <td>0.000000</td>\n",
       "      <td>1.000000</td>\n",
       "      <td>0.00000</td>\n",
       "      <td>0.000000</td>\n",
       "      <td>11.580000</td>\n",
       "      <td>0.000000</td>\n",
       "    </tr>\n",
       "    <tr>\n",
       "      <th>25%</th>\n",
       "      <td>2500.75000</td>\n",
       "      <td>1.562853e+07</td>\n",
       "      <td>584.000000</td>\n",
       "      <td>32.000000</td>\n",
       "      <td>2.000000</td>\n",
       "      <td>0.000000</td>\n",
       "      <td>1.000000</td>\n",
       "      <td>0.00000</td>\n",
       "      <td>0.000000</td>\n",
       "      <td>51002.110000</td>\n",
       "      <td>0.000000</td>\n",
       "    </tr>\n",
       "    <tr>\n",
       "      <th>50%</th>\n",
       "      <td>5000.50000</td>\n",
       "      <td>1.569074e+07</td>\n",
       "      <td>652.000000</td>\n",
       "      <td>37.000000</td>\n",
       "      <td>5.000000</td>\n",
       "      <td>97198.540000</td>\n",
       "      <td>1.000000</td>\n",
       "      <td>1.00000</td>\n",
       "      <td>1.000000</td>\n",
       "      <td>100193.915000</td>\n",
       "      <td>0.000000</td>\n",
       "    </tr>\n",
       "    <tr>\n",
       "      <th>75%</th>\n",
       "      <td>7500.25000</td>\n",
       "      <td>1.575323e+07</td>\n",
       "      <td>718.000000</td>\n",
       "      <td>44.000000</td>\n",
       "      <td>7.000000</td>\n",
       "      <td>127644.240000</td>\n",
       "      <td>2.000000</td>\n",
       "      <td>1.00000</td>\n",
       "      <td>1.000000</td>\n",
       "      <td>149388.247500</td>\n",
       "      <td>0.000000</td>\n",
       "    </tr>\n",
       "    <tr>\n",
       "      <th>max</th>\n",
       "      <td>10000.00000</td>\n",
       "      <td>1.581569e+07</td>\n",
       "      <td>850.000000</td>\n",
       "      <td>92.000000</td>\n",
       "      <td>10.000000</td>\n",
       "      <td>250898.090000</td>\n",
       "      <td>4.000000</td>\n",
       "      <td>1.00000</td>\n",
       "      <td>1.000000</td>\n",
       "      <td>199992.480000</td>\n",
       "      <td>1.000000</td>\n",
       "    </tr>\n",
       "  </tbody>\n",
       "</table>\n",
       "</div>"
      ],
      "text/plain": [
       "         RowNumber    CustomerId   CreditScore           Age       Tenure  \\\n",
       "count  10000.00000  1.000000e+04  10000.000000  10000.000000  9091.000000   \n",
       "mean    5000.50000  1.569094e+07    650.528800     38.921800     4.997690   \n",
       "std     2886.89568  7.193619e+04     96.653299     10.487806     2.894723   \n",
       "min        1.00000  1.556570e+07    350.000000     18.000000     0.000000   \n",
       "25%     2500.75000  1.562853e+07    584.000000     32.000000     2.000000   \n",
       "50%     5000.50000  1.569074e+07    652.000000     37.000000     5.000000   \n",
       "75%     7500.25000  1.575323e+07    718.000000     44.000000     7.000000   \n",
       "max    10000.00000  1.581569e+07    850.000000     92.000000    10.000000   \n",
       "\n",
       "             Balance  NumOfProducts    HasCrCard  IsActiveMember  \\\n",
       "count   10000.000000   10000.000000  10000.00000    10000.000000   \n",
       "mean    76485.889288       1.530200      0.70550        0.515100   \n",
       "std     62397.405202       0.581654      0.45584        0.499797   \n",
       "min         0.000000       1.000000      0.00000        0.000000   \n",
       "25%         0.000000       1.000000      0.00000        0.000000   \n",
       "50%     97198.540000       1.000000      1.00000        1.000000   \n",
       "75%    127644.240000       2.000000      1.00000        1.000000   \n",
       "max    250898.090000       4.000000      1.00000        1.000000   \n",
       "\n",
       "       EstimatedSalary        Exited  \n",
       "count     10000.000000  10000.000000  \n",
       "mean     100090.239881      0.203700  \n",
       "std       57510.492818      0.402769  \n",
       "min          11.580000      0.000000  \n",
       "25%       51002.110000      0.000000  \n",
       "50%      100193.915000      0.000000  \n",
       "75%      149388.247500      0.000000  \n",
       "max      199992.480000      1.000000  "
      ]
     },
     "execution_count": 6,
     "metadata": {},
     "output_type": "execute_result"
    }
   ],
   "source": [
    "df.describe()"
   ]
  },
  {
   "cell_type": "markdown",
   "metadata": {},
   "source": [
    "Check for missing values"
   ]
  },
  {
   "cell_type": "code",
   "execution_count": 7,
   "metadata": {},
   "outputs": [
    {
     "data": {
      "text/plain": [
       "RowNumber            0\n",
       "CustomerId           0\n",
       "Surname              0\n",
       "CreditScore          0\n",
       "Geography            0\n",
       "Gender               0\n",
       "Age                  0\n",
       "Tenure             909\n",
       "Balance              0\n",
       "NumOfProducts        0\n",
       "HasCrCard            0\n",
       "IsActiveMember       0\n",
       "EstimatedSalary      0\n",
       "Exited               0\n",
       "dtype: int64"
      ]
     },
     "execution_count": 7,
     "metadata": {},
     "output_type": "execute_result"
    }
   ],
   "source": [
    "df.isnull().sum()"
   ]
  },
  {
   "cell_type": "code",
   "execution_count": 8,
   "metadata": {
    "scrolled": true
   },
   "outputs": [
    {
     "name": "stdout",
     "output_type": "stream",
     "text": [
      "<class 'pandas.core.frame.DataFrame'>\n",
      "RangeIndex: 10000 entries, 0 to 9999\n",
      "Data columns (total 14 columns):\n",
      " #   Column           Non-Null Count  Dtype  \n",
      "---  ------           --------------  -----  \n",
      " 0   RowNumber        10000 non-null  int64  \n",
      " 1   CustomerId       10000 non-null  int64  \n",
      " 2   Surname          10000 non-null  object \n",
      " 3   CreditScore      10000 non-null  int64  \n",
      " 4   Geography        10000 non-null  object \n",
      " 5   Gender           10000 non-null  object \n",
      " 6   Age              10000 non-null  int64  \n",
      " 7   Tenure           9091 non-null   float64\n",
      " 8   Balance          10000 non-null  float64\n",
      " 9   NumOfProducts    10000 non-null  int64  \n",
      " 10  HasCrCard        10000 non-null  int64  \n",
      " 11  IsActiveMember   10000 non-null  int64  \n",
      " 12  EstimatedSalary  10000 non-null  float64\n",
      " 13  Exited           10000 non-null  int64  \n",
      "dtypes: float64(3), int64(8), object(3)\n",
      "memory usage: 1.1+ MB\n"
     ]
    }
   ],
   "source": [
    "df.info()"
   ]
  },
  {
   "cell_type": "markdown",
   "metadata": {},
   "source": [
    "There are some missing values in feature Tenure. To fill them in, check if there is any linear correlation between Tenure and any other numeric features. If this correlation is found, it can be used to fill in the missing values.                         "
   ]
  },
  {
   "cell_type": "code",
   "execution_count": 9,
   "metadata": {},
   "outputs": [
    {
     "data": {
      "text/html": [
       "<div>\n",
       "<style scoped>\n",
       "    .dataframe tbody tr th:only-of-type {\n",
       "        vertical-align: middle;\n",
       "    }\n",
       "\n",
       "    .dataframe tbody tr th {\n",
       "        vertical-align: top;\n",
       "    }\n",
       "\n",
       "    .dataframe thead th {\n",
       "        text-align: right;\n",
       "    }\n",
       "</style>\n",
       "<table border=\"1\" class=\"dataframe\">\n",
       "  <thead>\n",
       "    <tr style=\"text-align: right;\">\n",
       "      <th></th>\n",
       "      <th>CreditScore</th>\n",
       "      <th>Age</th>\n",
       "      <th>Tenure</th>\n",
       "      <th>Balance</th>\n",
       "      <th>NumOfProducts</th>\n",
       "      <th>HasCrCard</th>\n",
       "      <th>IsActiveMember</th>\n",
       "      <th>EstimatedSalary</th>\n",
       "    </tr>\n",
       "  </thead>\n",
       "  <tbody>\n",
       "    <tr>\n",
       "      <th>CreditScore</th>\n",
       "      <td>1.000000</td>\n",
       "      <td>-0.003965</td>\n",
       "      <td>-0.000062</td>\n",
       "      <td>0.006268</td>\n",
       "      <td>0.012238</td>\n",
       "      <td>-0.005458</td>\n",
       "      <td>0.025651</td>\n",
       "      <td>-0.001384</td>\n",
       "    </tr>\n",
       "    <tr>\n",
       "      <th>Age</th>\n",
       "      <td>-0.003965</td>\n",
       "      <td>1.000000</td>\n",
       "      <td>-0.013134</td>\n",
       "      <td>0.028308</td>\n",
       "      <td>-0.030680</td>\n",
       "      <td>-0.011721</td>\n",
       "      <td>0.085472</td>\n",
       "      <td>-0.007201</td>\n",
       "    </tr>\n",
       "    <tr>\n",
       "      <th>Tenure</th>\n",
       "      <td>-0.000062</td>\n",
       "      <td>-0.013134</td>\n",
       "      <td>1.000000</td>\n",
       "      <td>-0.007911</td>\n",
       "      <td>0.011979</td>\n",
       "      <td>0.027232</td>\n",
       "      <td>-0.032178</td>\n",
       "      <td>0.010520</td>\n",
       "    </tr>\n",
       "    <tr>\n",
       "      <th>Balance</th>\n",
       "      <td>0.006268</td>\n",
       "      <td>0.028308</td>\n",
       "      <td>-0.007911</td>\n",
       "      <td>1.000000</td>\n",
       "      <td>-0.304180</td>\n",
       "      <td>-0.014858</td>\n",
       "      <td>-0.010084</td>\n",
       "      <td>0.012797</td>\n",
       "    </tr>\n",
       "    <tr>\n",
       "      <th>NumOfProducts</th>\n",
       "      <td>0.012238</td>\n",
       "      <td>-0.030680</td>\n",
       "      <td>0.011979</td>\n",
       "      <td>-0.304180</td>\n",
       "      <td>1.000000</td>\n",
       "      <td>0.003183</td>\n",
       "      <td>0.009612</td>\n",
       "      <td>0.014204</td>\n",
       "    </tr>\n",
       "    <tr>\n",
       "      <th>HasCrCard</th>\n",
       "      <td>-0.005458</td>\n",
       "      <td>-0.011721</td>\n",
       "      <td>0.027232</td>\n",
       "      <td>-0.014858</td>\n",
       "      <td>0.003183</td>\n",
       "      <td>1.000000</td>\n",
       "      <td>-0.011866</td>\n",
       "      <td>-0.009933</td>\n",
       "    </tr>\n",
       "    <tr>\n",
       "      <th>IsActiveMember</th>\n",
       "      <td>0.025651</td>\n",
       "      <td>0.085472</td>\n",
       "      <td>-0.032178</td>\n",
       "      <td>-0.010084</td>\n",
       "      <td>0.009612</td>\n",
       "      <td>-0.011866</td>\n",
       "      <td>1.000000</td>\n",
       "      <td>-0.011421</td>\n",
       "    </tr>\n",
       "    <tr>\n",
       "      <th>EstimatedSalary</th>\n",
       "      <td>-0.001384</td>\n",
       "      <td>-0.007201</td>\n",
       "      <td>0.010520</td>\n",
       "      <td>0.012797</td>\n",
       "      <td>0.014204</td>\n",
       "      <td>-0.009933</td>\n",
       "      <td>-0.011421</td>\n",
       "      <td>1.000000</td>\n",
       "    </tr>\n",
       "  </tbody>\n",
       "</table>\n",
       "</div>"
      ],
      "text/plain": [
       "                 CreditScore       Age    Tenure   Balance  NumOfProducts  \\\n",
       "CreditScore         1.000000 -0.003965 -0.000062  0.006268       0.012238   \n",
       "Age                -0.003965  1.000000 -0.013134  0.028308      -0.030680   \n",
       "Tenure             -0.000062 -0.013134  1.000000 -0.007911       0.011979   \n",
       "Balance             0.006268  0.028308 -0.007911  1.000000      -0.304180   \n",
       "NumOfProducts       0.012238 -0.030680  0.011979 -0.304180       1.000000   \n",
       "HasCrCard          -0.005458 -0.011721  0.027232 -0.014858       0.003183   \n",
       "IsActiveMember      0.025651  0.085472 -0.032178 -0.010084       0.009612   \n",
       "EstimatedSalary    -0.001384 -0.007201  0.010520  0.012797       0.014204   \n",
       "\n",
       "                 HasCrCard  IsActiveMember  EstimatedSalary  \n",
       "CreditScore      -0.005458        0.025651        -0.001384  \n",
       "Age              -0.011721        0.085472        -0.007201  \n",
       "Tenure            0.027232       -0.032178         0.010520  \n",
       "Balance          -0.014858       -0.010084         0.012797  \n",
       "NumOfProducts     0.003183        0.009612         0.014204  \n",
       "HasCrCard         1.000000       -0.011866        -0.009933  \n",
       "IsActiveMember   -0.011866        1.000000        -0.011421  \n",
       "EstimatedSalary  -0.009933       -0.011421         1.000000  "
      ]
     },
     "execution_count": 9,
     "metadata": {},
     "output_type": "execute_result"
    }
   ],
   "source": [
    "df.loc[:, ['CreditScore', 'Age', 'Tenure', 'Balance', 'NumOfProducts', 'HasCrCard', 'IsActiveMember', 'EstimatedSalary']].corr()"
   ]
  },
  {
   "cell_type": "markdown",
   "metadata": {},
   "source": [
    "There is no strong correlation between Tenure and other features. Values if Tenure range from 0 to 10. Fill in missing values with random numbers 0-10. "
   ]
  },
  {
   "cell_type": "code",
   "execution_count": 10,
   "metadata": {},
   "outputs": [],
   "source": [
    "df['Tenure'] = df['Tenure'].apply(lambda  x: x if not np.isnan(x) else np.random.randint(0, 11))"
   ]
  },
  {
   "cell_type": "markdown",
   "metadata": {},
   "source": [
    "Check results of filling in the missing values."
   ]
  },
  {
   "cell_type": "code",
   "execution_count": 11,
   "metadata": {},
   "outputs": [
    {
     "data": {
      "text/plain": [
       "RowNumber          0\n",
       "CustomerId         0\n",
       "Surname            0\n",
       "CreditScore        0\n",
       "Geography          0\n",
       "Gender             0\n",
       "Age                0\n",
       "Tenure             0\n",
       "Balance            0\n",
       "NumOfProducts      0\n",
       "HasCrCard          0\n",
       "IsActiveMember     0\n",
       "EstimatedSalary    0\n",
       "Exited             0\n",
       "dtype: int64"
      ]
     },
     "execution_count": 11,
     "metadata": {},
     "output_type": "execute_result"
    }
   ],
   "source": [
    "df.isnull().sum()"
   ]
  },
  {
   "cell_type": "markdown",
   "metadata": {},
   "source": [
    "For further analysis drop features that are uninformative."
   ]
  },
  {
   "cell_type": "code",
   "execution_count": 12,
   "metadata": {},
   "outputs": [],
   "source": [
    "df = df.drop(['RowNumber', 'CustomerId', 'Surname'], axis=1)"
   ]
  },
  {
   "cell_type": "markdown",
   "metadata": {},
   "source": [
    "Features Geography and Gender are object type. For using ML algorithms, they shous be transformed to numeric values. Use One Hot Encoding."
   ]
  },
  {
   "cell_type": "code",
   "execution_count": 13,
   "metadata": {},
   "outputs": [],
   "source": [
    "df = pd.get_dummies(df, drop_first=True)"
   ]
  },
  {
   "cell_type": "code",
   "execution_count": 14,
   "metadata": {},
   "outputs": [
    {
     "data": {
      "text/html": [
       "<div>\n",
       "<style scoped>\n",
       "    .dataframe tbody tr th:only-of-type {\n",
       "        vertical-align: middle;\n",
       "    }\n",
       "\n",
       "    .dataframe tbody tr th {\n",
       "        vertical-align: top;\n",
       "    }\n",
       "\n",
       "    .dataframe thead th {\n",
       "        text-align: right;\n",
       "    }\n",
       "</style>\n",
       "<table border=\"1\" class=\"dataframe\">\n",
       "  <thead>\n",
       "    <tr style=\"text-align: right;\">\n",
       "      <th></th>\n",
       "      <th>CreditScore</th>\n",
       "      <th>Age</th>\n",
       "      <th>Tenure</th>\n",
       "      <th>Balance</th>\n",
       "      <th>NumOfProducts</th>\n",
       "      <th>HasCrCard</th>\n",
       "      <th>IsActiveMember</th>\n",
       "      <th>EstimatedSalary</th>\n",
       "      <th>Exited</th>\n",
       "      <th>Geography_Germany</th>\n",
       "      <th>Geography_Spain</th>\n",
       "      <th>Gender_Male</th>\n",
       "    </tr>\n",
       "  </thead>\n",
       "  <tbody>\n",
       "    <tr>\n",
       "      <th>0</th>\n",
       "      <td>619</td>\n",
       "      <td>42</td>\n",
       "      <td>2.0</td>\n",
       "      <td>0.00</td>\n",
       "      <td>1</td>\n",
       "      <td>1</td>\n",
       "      <td>1</td>\n",
       "      <td>101348.88</td>\n",
       "      <td>1</td>\n",
       "      <td>0</td>\n",
       "      <td>0</td>\n",
       "      <td>0</td>\n",
       "    </tr>\n",
       "    <tr>\n",
       "      <th>1</th>\n",
       "      <td>608</td>\n",
       "      <td>41</td>\n",
       "      <td>1.0</td>\n",
       "      <td>83807.86</td>\n",
       "      <td>1</td>\n",
       "      <td>0</td>\n",
       "      <td>1</td>\n",
       "      <td>112542.58</td>\n",
       "      <td>0</td>\n",
       "      <td>0</td>\n",
       "      <td>1</td>\n",
       "      <td>0</td>\n",
       "    </tr>\n",
       "    <tr>\n",
       "      <th>2</th>\n",
       "      <td>502</td>\n",
       "      <td>42</td>\n",
       "      <td>8.0</td>\n",
       "      <td>159660.80</td>\n",
       "      <td>3</td>\n",
       "      <td>1</td>\n",
       "      <td>0</td>\n",
       "      <td>113931.57</td>\n",
       "      <td>1</td>\n",
       "      <td>0</td>\n",
       "      <td>0</td>\n",
       "      <td>0</td>\n",
       "    </tr>\n",
       "    <tr>\n",
       "      <th>3</th>\n",
       "      <td>699</td>\n",
       "      <td>39</td>\n",
       "      <td>1.0</td>\n",
       "      <td>0.00</td>\n",
       "      <td>2</td>\n",
       "      <td>0</td>\n",
       "      <td>0</td>\n",
       "      <td>93826.63</td>\n",
       "      <td>0</td>\n",
       "      <td>0</td>\n",
       "      <td>0</td>\n",
       "      <td>0</td>\n",
       "    </tr>\n",
       "    <tr>\n",
       "      <th>4</th>\n",
       "      <td>850</td>\n",
       "      <td>43</td>\n",
       "      <td>2.0</td>\n",
       "      <td>125510.82</td>\n",
       "      <td>1</td>\n",
       "      <td>1</td>\n",
       "      <td>1</td>\n",
       "      <td>79084.10</td>\n",
       "      <td>0</td>\n",
       "      <td>0</td>\n",
       "      <td>1</td>\n",
       "      <td>0</td>\n",
       "    </tr>\n",
       "  </tbody>\n",
       "</table>\n",
       "</div>"
      ],
      "text/plain": [
       "   CreditScore  Age  Tenure    Balance  NumOfProducts  HasCrCard  \\\n",
       "0          619   42     2.0       0.00              1          1   \n",
       "1          608   41     1.0   83807.86              1          0   \n",
       "2          502   42     8.0  159660.80              3          1   \n",
       "3          699   39     1.0       0.00              2          0   \n",
       "4          850   43     2.0  125510.82              1          1   \n",
       "\n",
       "   IsActiveMember  EstimatedSalary  Exited  Geography_Germany  \\\n",
       "0               1        101348.88       1                  0   \n",
       "1               1        112542.58       0                  0   \n",
       "2               0        113931.57       1                  0   \n",
       "3               0         93826.63       0                  0   \n",
       "4               1         79084.10       0                  0   \n",
       "\n",
       "   Geography_Spain  Gender_Male  \n",
       "0                0            0  \n",
       "1                1            0  \n",
       "2                0            0  \n",
       "3                0            0  \n",
       "4                1            0  "
      ]
     },
     "execution_count": 14,
     "metadata": {},
     "output_type": "execute_result"
    }
   ],
   "source": [
    "df.head()"
   ]
  },
  {
   "cell_type": "code",
   "execution_count": 15,
   "metadata": {},
   "outputs": [],
   "source": [
    "features_all = df.drop('Exited', axis=1)\n",
    "target_all = df['Exited']"
   ]
  },
  {
   "cell_type": "markdown",
   "metadata": {},
   "source": [
    "Split dataset to train and test sets for final model testing."
   ]
  },
  {
   "cell_type": "code",
   "execution_count": 16,
   "metadata": {},
   "outputs": [],
   "source": [
    "features, features_test, target, target_test = train_test_split(\n",
    "    features_all, target_all, test_size=0.20, random_state=12345, stratify=target_all)"
   ]
  },
  {
   "cell_type": "markdown",
   "metadata": {},
   "source": [
    "__Summary__\n",
    "\n",
    "Dataset was uploaded, analysed and prepared for models training and evaluation"
   ]
  },
  {
   "cell_type": "markdown",
   "metadata": {},
   "source": [
    "## Analysis and Model training"
   ]
  },
  {
   "cell_type": "markdown",
   "metadata": {},
   "source": [
    "Check for imbalanced dataset "
   ]
  },
  {
   "cell_type": "code",
   "execution_count": 17,
   "metadata": {},
   "outputs": [
    {
     "data": {
      "text/plain": [
       "0    7963\n",
       "1    2037\n",
       "Name: Exited, dtype: int64"
      ]
     },
     "execution_count": 17,
     "metadata": {},
     "output_type": "execute_result"
    }
   ],
   "source": [
    "df['Exited'].value_counts()"
   ]
  },
  {
   "cell_type": "markdown",
   "metadata": {},
   "source": [
    "Amount of objects with target = 1 is about 20% of the whole sample. Dataset is imbalanced. "
   ]
  },
  {
   "cell_type": "markdown",
   "metadata": {},
   "source": [
    "Split training set to train and validation sets. Ignore imbalanced for now."
   ]
  },
  {
   "cell_type": "code",
   "execution_count": 18,
   "metadata": {},
   "outputs": [],
   "source": [
    "features_train_dis, features_valid_dis, target_train_dis, target_valid_dis = train_test_split(\n",
    "    features, target, test_size=0.25, random_state=12345)"
   ]
  },
  {
   "cell_type": "markdown",
   "metadata": {},
   "source": [
    "Check size of the sets"
   ]
  },
  {
   "cell_type": "code",
   "execution_count": 19,
   "metadata": {},
   "outputs": [
    {
     "name": "stdout",
     "output_type": "stream",
     "text": [
      "Training set: 6000 \n",
      "Test set: 2000 \n",
      "Validation set: 2000\n"
     ]
    }
   ],
   "source": [
    "print('Training set:', len(features_train_dis), '\\n'\n",
    "     'Test set:', len(features_test), '\\n'\n",
    "     'Validation set:', len(features_valid_dis))"
   ]
  },
  {
   "cell_type": "code",
   "execution_count": 20,
   "metadata": {},
   "outputs": [
    {
     "data": {
      "text/plain": [
       "424"
      ]
     },
     "execution_count": 20,
     "metadata": {},
     "output_type": "execute_result"
    }
   ],
   "source": [
    "target_valid_dis[target_valid_dis == 1].count()"
   ]
  },
  {
   "cell_type": "code",
   "execution_count": 21,
   "metadata": {},
   "outputs": [
    {
     "data": {
      "text/plain": [
       "1576"
      ]
     },
     "execution_count": 21,
     "metadata": {},
     "output_type": "execute_result"
    }
   ],
   "source": [
    "target_valid_dis[target_valid_dis == 0].count()"
   ]
  },
  {
   "cell_type": "markdown",
   "metadata": {},
   "source": [
    "Try Logistic Regression"
   ]
  },
  {
   "cell_type": "code",
   "execution_count": 22,
   "metadata": {},
   "outputs": [],
   "source": [
    "model_log_reg = LogisticRegression(random_state=12345)"
   ]
  },
  {
   "cell_type": "code",
   "execution_count": 23,
   "metadata": {},
   "outputs": [
    {
     "name": "stdout",
     "output_type": "stream",
     "text": [
      "f1_score LogisticRegression for training set: 0.09\n",
      "f1_score LogisticRegression for validation set: 0.10\n"
     ]
    }
   ],
   "source": [
    "model_log_reg.fit(features_train_dis, target_train_dis)\n",
    "predicted_train = model_log_reg.predict(features_train_dis)\n",
    "predicted_valid = model_log_reg.predict(features_valid_dis)\n",
    "f1_score_LogisticRegression_train = f1_score(target_train_dis, predicted_train)\n",
    "f1_score_LogisticRegression_valid = f1_score(target_valid_dis, predicted_valid)\n",
    "print(f'f1_score LogisticRegression for training set: {f1_score_LogisticRegression_train:.2f}')\n",
    "print(f'f1_score LogisticRegression for validation set: {f1_score_LogisticRegression_valid:.2f}')"
   ]
  },
  {
   "cell_type": "code",
   "execution_count": 24,
   "metadata": {},
   "outputs": [
    {
     "name": "stdout",
     "output_type": "stream",
     "text": [
      "auc_roc = 0.67\n"
     ]
    }
   ],
   "source": [
    "probabilities_valid = model_log_reg.predict_proba(features_valid_dis)\n",
    "probabilities_one_valid = probabilities_valid[:, 1]\n",
    "auc_roc = roc_auc_score(target_valid_dis, probabilities_one_valid)\n",
    "\n",
    "print(f'auc_roc = {auc_roc:.2f}')"
   ]
  },
  {
   "cell_type": "markdown",
   "metadata": {},
   "source": [
    "__Summary__\n",
    "\n",
    "Logistic regression shows low f1-score (0.10) and auc_roc (0.67) for validation set when dataset is imbalanced."
   ]
  },
  {
   "cell_type": "markdown",
   "metadata": {},
   "source": [
    "## Imbalance control"
   ]
  },
  {
   "cell_type": "markdown",
   "metadata": {},
   "source": [
    "Add stratification"
   ]
  },
  {
   "cell_type": "code",
   "execution_count": 25,
   "metadata": {},
   "outputs": [],
   "source": [
    "features_train, features_valid, target_train, target_valid = train_test_split(\n",
    "    features, target, test_size=0.25, random_state=12345, stratify=target)"
   ]
  },
  {
   "cell_type": "code",
   "execution_count": 26,
   "metadata": {},
   "outputs": [
    {
     "name": "stdout",
     "output_type": "stream",
     "text": [
      "Training set: 6000 \n",
      "Test set: 2000 \n",
      "Validation set: 2000\n"
     ]
    }
   ],
   "source": [
    "print('Training set:', len(features_train), '\\n'\n",
    "     'Test set:', len(features_test), '\\n'\n",
    "     'Validation set:', len(features_valid))"
   ]
  },
  {
   "cell_type": "code",
   "execution_count": 27,
   "metadata": {},
   "outputs": [
    {
     "data": {
      "text/plain": [
       "407"
      ]
     },
     "execution_count": 27,
     "metadata": {},
     "output_type": "execute_result"
    }
   ],
   "source": [
    "target_valid[target_valid == 1].count()"
   ]
  },
  {
   "cell_type": "code",
   "execution_count": 28,
   "metadata": {},
   "outputs": [
    {
     "data": {
      "text/plain": [
       "1593"
      ]
     },
     "execution_count": 28,
     "metadata": {},
     "output_type": "execute_result"
    }
   ],
   "source": [
    "target_valid[target_valid == 0].count()"
   ]
  },
  {
   "cell_type": "markdown",
   "metadata": {},
   "source": [
    "After stratification is added, 1:0 ratio is close to this ratio in original dataset (2037:7963)"
   ]
  },
  {
   "cell_type": "code",
   "execution_count": 29,
   "metadata": {},
   "outputs": [
    {
     "name": "stdout",
     "output_type": "stream",
     "text": [
      "f1_score LogisticRegression for training set:  0.09\n",
      "f1_score LogisticRegression for validation set: 0.07\n"
     ]
    }
   ],
   "source": [
    "model_2_log_reg = LogisticRegression(random_state=12345)\n",
    "model_2_log_reg.fit(features_train, target_train)\n",
    "predicted_train = model_2_log_reg.predict(features_train)\n",
    "predicted_valid = model_2_log_reg.predict(features_valid)\n",
    "f1_score_LogisticRegression_train = f1_score(target_train, predicted_train)\n",
    "f1_score_LogisticRegression_valid = f1_score(target_valid, predicted_valid)\n",
    "print(f'f1_score LogisticRegression for training set:  {f1_score_LogisticRegression_train:.2f}')\n",
    "print(f'f1_score LogisticRegression for validation set: {f1_score_LogisticRegression_valid:.2f}')"
   ]
  },
  {
   "cell_type": "code",
   "execution_count": 30,
   "metadata": {},
   "outputs": [
    {
     "name": "stdout",
     "output_type": "stream",
     "text": [
      "auc_roc = 0.68\n"
     ]
    }
   ],
   "source": [
    "probabilities_valid = model_2_log_reg.predict_proba(features_valid)\n",
    "probabilities_one_valid = probabilities_valid[:, 1]\n",
    "auc_roc = roc_auc_score(target_valid, probabilities_one_valid)\n",
    "\n",
    "print(f'auc_roc = {auc_roc:.2f}')"
   ]
  },
  {
   "cell_type": "markdown",
   "metadata": {},
   "source": [
    "Stratification did not improve f1_score. "
   ]
  },
  {
   "cell_type": "markdown",
   "metadata": {},
   "source": [
    "Use up- and downsampling"
   ]
  },
  {
   "cell_type": "code",
   "execution_count": 31,
   "metadata": {},
   "outputs": [],
   "source": [
    "features_train, features_valid, target_train, target_valid = train_test_split(\n",
    "    features, target, test_size=0.25, random_state=12345)"
   ]
  },
  {
   "cell_type": "code",
   "execution_count": 32,
   "metadata": {},
   "outputs": [
    {
     "name": "stdout",
     "output_type": "stream",
     "text": [
      "f1_score upsampled for validation set: 0.46\n"
     ]
    }
   ],
   "source": [
    "def upsample(features, target, repeat):\n",
    "    features_zeros = features[target == 0]\n",
    "    features_ones = features[target == 1]\n",
    "    target_zeros = target[target == 0]\n",
    "    target_ones = target[target == 1]\n",
    "\n",
    "    features_upsampled = pd.concat([features_zeros] + [features_ones] * repeat)\n",
    "    target_upsampled = pd.concat([target_zeros] + [target_ones] * repeat)\n",
    "    \n",
    "    features_upsampled, target_upsampled = shuffle(\n",
    "        features_upsampled, target_upsampled, random_state=12345)\n",
    "    \n",
    "    return features_upsampled, target_upsampled\n",
    "\n",
    "features_upsampled, target_upsampled = upsample(features_train, target_train, 4)\n",
    "\n",
    "model = LogisticRegression(solver='liblinear', random_state=12345)\n",
    "model.fit(features_upsampled, target_upsampled)\n",
    "predicted_valid = model.predict(features_valid)\n",
    "f1_score_values = f1_score(target_valid, predicted_valid)\n",
    "\n",
    "print(f'f1_score upsampled for validation set: {f1_score_values:.2f}')"
   ]
  },
  {
   "cell_type": "code",
   "execution_count": 33,
   "metadata": {},
   "outputs": [
    {
     "name": "stdout",
     "output_type": "stream",
     "text": [
      "auc_roc for upsampled = 0.71\n"
     ]
    }
   ],
   "source": [
    "probabilities_valid = model.predict_proba(features_valid)\n",
    "probabilities_one_valid = probabilities_valid[:, 1]\n",
    "auc_roc = roc_auc_score(target_valid, probabilities_one_valid)\n",
    "\n",
    "print(f'auc_roc for upsampled = {auc_roc:.2f}')"
   ]
  },
  {
   "cell_type": "code",
   "execution_count": 34,
   "metadata": {},
   "outputs": [
    {
     "name": "stdout",
     "output_type": "stream",
     "text": [
      "f1_score downsampled for validation set: 0.45\n"
     ]
    }
   ],
   "source": [
    "def downsample(features, target, fraction):\n",
    "    features_zeros = features[target == 0]\n",
    "    features_ones = features[target == 1]\n",
    "    target_zeros = target[target == 0]\n",
    "    target_ones = target[target == 1]\n",
    "\n",
    "    features_downsampled = pd.concat(\n",
    "        [features_zeros.sample(frac=fraction, random_state=12345)] + [features_ones])\n",
    "    target_downsampled = pd.concat(\n",
    "        [target_zeros.sample(frac=fraction, random_state=12345)] + [target_ones])\n",
    "    \n",
    "    features_downsampled, target_downsampled = shuffle(\n",
    "        features_downsampled, target_downsampled, random_state=12345)\n",
    "    \n",
    "    return features_downsampled, target_downsampled\n",
    "\n",
    "features_downsampled, target_downsampled = downsample(features_train, target_train, 0.25)\n",
    "\n",
    "model = LogisticRegression(solver='liblinear', random_state=12345)\n",
    "model.fit(features_downsampled, target_downsampled)\n",
    "predicted_valid = model.predict(features_valid)       \n",
    "f1_score_values = f1_score(target_valid, predicted_valid)\n",
    "print(f'f1_score downsampled for validation set: {f1_score_values:.2f}')"
   ]
  },
  {
   "cell_type": "code",
   "execution_count": 35,
   "metadata": {},
   "outputs": [
    {
     "name": "stdout",
     "output_type": "stream",
     "text": [
      "auc_roc for downsampled = 0.71\n"
     ]
    }
   ],
   "source": [
    "probabilities_valid = model.predict_proba(features_valid)\n",
    "probabilities_one_valid = probabilities_valid[:, 1]\n",
    "auc_roc = roc_auc_score(target_valid, probabilities_one_valid)\n",
    "\n",
    "print(f'auc_roc for downsampled = {auc_roc:.2f}')"
   ]
  },
  {
   "cell_type": "markdown",
   "metadata": {},
   "source": [
    "Up- and downsampling show significant improvement of f1_score and auc_roc."
   ]
  },
  {
   "cell_type": "markdown",
   "metadata": {},
   "source": [
    "Use Scaling"
   ]
  },
  {
   "cell_type": "code",
   "execution_count": 36,
   "metadata": {},
   "outputs": [
    {
     "data": {
      "text/plain": [
       "StandardScaler()"
      ]
     },
     "execution_count": 36,
     "metadata": {},
     "output_type": "execute_result"
    }
   ],
   "source": [
    "scaler = StandardScaler()\n",
    "numeric = ['CreditScore', 'Age', 'Tenure', 'Balance', 'NumOfProducts', 'EstimatedSalary']\n",
    "scaler.fit(features_train[numeric])"
   ]
  },
  {
   "cell_type": "code",
   "execution_count": 37,
   "metadata": {},
   "outputs": [],
   "source": [
    "features_train[numeric] = scaler.transform(features_train[numeric])\n",
    "\n",
    "features_valid[numeric] = scaler.transform(features_valid[numeric])"
   ]
  },
  {
   "cell_type": "markdown",
   "metadata": {},
   "source": [
    "Add class weights"
   ]
  },
  {
   "cell_type": "code",
   "execution_count": 38,
   "metadata": {},
   "outputs": [],
   "source": [
    "features_train, features_valid, target_train, target_valid = train_test_split(\n",
    "    features, target, test_size=0.25, random_state=12345)"
   ]
  },
  {
   "cell_type": "code",
   "execution_count": 39,
   "metadata": {},
   "outputs": [
    {
     "data": {
      "text/plain": [
       "424"
      ]
     },
     "execution_count": 39,
     "metadata": {},
     "output_type": "execute_result"
    }
   ],
   "source": [
    "target_valid[target_valid == 1].count()"
   ]
  },
  {
   "cell_type": "code",
   "execution_count": 40,
   "metadata": {},
   "outputs": [
    {
     "data": {
      "text/plain": [
       "1576"
      ]
     },
     "execution_count": 40,
     "metadata": {},
     "output_type": "execute_result"
    }
   ],
   "source": [
    "target_valid[target_valid == 0].count()"
   ]
  },
  {
   "cell_type": "code",
   "execution_count": 41,
   "metadata": {},
   "outputs": [
    {
     "name": "stdout",
     "output_type": "stream",
     "text": [
      "f1_score LogisticRegression for training set: 0.43\n",
      "f1_score LogisticRegression for validation set: 0.45\n"
     ]
    }
   ],
   "source": [
    "model_3_log_reg = LogisticRegression(random_state=12345, class_weight={1: 0.80, 0: 0.20})\n",
    "model_3_log_reg.fit(features_train, target_train)\n",
    "predicted_train = model_3_log_reg.predict(features_train)\n",
    "predicted_valid = model_3_log_reg.predict(features_valid)\n",
    "f1_score_LogisticRegression_train = f1_score(target_train, predicted_train)\n",
    "f1_score_LogisticRegression_valid = f1_score(target_valid, predicted_valid)\n",
    "print(f'f1_score LogisticRegression for training set: {f1_score_LogisticRegression_train:.2f}')\n",
    "print(f'f1_score LogisticRegression for validation set: {f1_score_LogisticRegression_valid:.2f}')"
   ]
  },
  {
   "cell_type": "code",
   "execution_count": 42,
   "metadata": {},
   "outputs": [
    {
     "name": "stdout",
     "output_type": "stream",
     "text": [
      "auc_roc = 0.71\n"
     ]
    }
   ],
   "source": [
    "probabilities_valid = model_3_log_reg.predict_proba(features_valid)\n",
    "probabilities_one_valid = probabilities_valid[:, 1]\n",
    "auc_roc = roc_auc_score(target_valid, probabilities_one_valid)\n",
    "\n",
    "print(f'auc_roc = {auc_roc:.2f}')"
   ]
  },
  {
   "cell_type": "markdown",
   "metadata": {},
   "source": [
    "After class weights are added,  f1_score and auc_roc metrics improved. Use random forest to improve further. "
   ]
  },
  {
   "cell_type": "markdown",
   "metadata": {},
   "source": [
    "Train RandomForestClassifier with hyper-parameters search."
   ]
  },
  {
   "cell_type": "code",
   "execution_count": 43,
   "metadata": {},
   "outputs": [],
   "source": [
    "model_rand_forest = RandomForestClassifier(random_state=12345, class_weight={1: 0.80, 0: 0.20})"
   ]
  },
  {
   "cell_type": "markdown",
   "metadata": {},
   "source": [
    "Find max tree depth with number of trees = 20. Find max f1_score for validation test."
   ]
  },
  {
   "cell_type": "code",
   "execution_count": 44,
   "metadata": {},
   "outputs": [
    {
     "name": "stdout",
     "output_type": "stream",
     "text": [
      "depth:1, f1_train:0.53, f1_valid:0.55\n",
      "depth:2, f1_train:0.55, f1_valid:0.57\n",
      "depth:3, f1_train:0.57, f1_valid:0.60\n",
      "depth:4, f1_train:0.59, f1_valid:0.60\n",
      "depth:5, f1_train:0.60, f1_valid:0.62\n",
      "depth:6, f1_train:0.63, f1_valid:0.60\n",
      "depth:7, f1_train:0.67, f1_valid:0.61\n",
      "depth:8, f1_train:0.70, f1_valid:0.62\n",
      "depth:9, f1_train:0.75, f1_valid:0.61\n",
      "depth:10, f1_train:0.80, f1_valid:0.59\n",
      "depth:11, f1_train:0.84, f1_valid:0.59\n",
      "depth:12, f1_train:0.89, f1_valid:0.57\n",
      "depth:13, f1_train:0.93, f1_valid:0.58\n",
      "depth:14, f1_train:0.96, f1_valid:0.56\n",
      "depth:15, f1_train:0.98, f1_valid:0.57\n",
      "depth:16, f1_train:0.98, f1_valid:0.57\n",
      "depth:17, f1_train:0.98, f1_valid:0.55\n",
      "depth:18, f1_train:0.98, f1_valid:0.53\n",
      "depth:19, f1_train:0.99, f1_valid:0.51\n",
      "depth:20, f1_train:0.98, f1_valid:0.54\n",
      "depth:21, f1_train:0.98, f1_valid:0.53\n",
      "depth:22, f1_train:0.99, f1_valid:0.53\n",
      "depth:23, f1_train:0.99, f1_valid:0.52\n",
      "depth:24, f1_train:0.99, f1_valid:0.52\n",
      "\n",
      "Optimal tree depth with 20 trees:\n",
      "depth:5, f1_train:0.99, f1_valid:0.52\n"
     ]
    }
   ],
   "source": [
    "depth_max=0\n",
    "f1_max_train=0\n",
    "f1_max_valid=0\n",
    "for depth in range(1, 25, 1):\n",
    "    model_rand_forest = RandomForestClassifier(\n",
    "        n_estimators=20, max_depth=depth, random_state=12345, class_weight={1: 0.8, 0: 0.2})\n",
    "    model_rand_forest.fit(features_train, target_train)\n",
    "    predicted_train = model_rand_forest.predict(features_train)\n",
    "    predicted_valid = model_rand_forest.predict(features_valid)\n",
    "    f1_score_RandomForestClassifier= f1_score(target_train, predicted_train)\n",
    "    f1_score_RandomForestClassifier_valid= f1_score(target_valid, predicted_valid)\n",
    "\n",
    "    print(f'depth:{depth}, f1_train:{f1_score_RandomForestClassifier :.2f}, f1_valid:{f1_score_RandomForestClassifier_valid :.2f}')\n",
    "    if f1_score_RandomForestClassifier_valid > f1_max_valid:\n",
    "        f1_max_valid = f1_score_RandomForestClassifier_valid\n",
    "        depth_max = depth\n",
    "        f1_train = f1_score_RandomForestClassifier\n",
    "print()        \n",
    "print(\"Optimal tree depth with 20 trees:\")        \n",
    "print(f'depth:{depth_max}, f1_train:{f1_score_RandomForestClassifier :.2f}, f1_valid:{f1_score_RandomForestClassifier_valid :.2f}')   "
   ]
  },
  {
   "cell_type": "code",
   "execution_count": 45,
   "metadata": {},
   "outputs": [
    {
     "name": "stdout",
     "output_type": "stream",
     "text": [
      "f1_score RandomForestClassifier for training set: 0.62\n",
      "f1_score RandomForestClassifier for validation set: 0.62\n"
     ]
    }
   ],
   "source": [
    "model_rand_forest = RandomForestClassifier(n_estimators=70, \n",
    "    max_depth=5, random_state=12345, class_weight={1: 0.8, 0: 0.2})\n",
    "model_rand_forest.fit(features_train, target_train)\n",
    "predicted_train = model_rand_forest.predict(features_train)\n",
    "predicted_valid = model_rand_forest.predict(features_valid)\n",
    "f1_score_RandomForestClassifier= f1_score(target_train, predicted_train)\n",
    "f1_score_RandomForestClassifier_valid= f1_score(target_valid, predicted_valid)\n",
    "print(f'f1_score RandomForestClassifier for training set: {f1_score_RandomForestClassifier:.2f}')\n",
    "print(f'f1_score RandomForestClassifier for validation set: {f1_score_RandomForestClassifier_valid:.2f}') "
   ]
  },
  {
   "cell_type": "code",
   "execution_count": 46,
   "metadata": {},
   "outputs": [
    {
     "name": "stdout",
     "output_type": "stream",
     "text": [
      "auc_roc = 0.86\n"
     ]
    }
   ],
   "source": [
    "probabilities_valid = model_rand_forest.predict_proba(features_valid)\n",
    "probabilities_one_valid = probabilities_valid[:, 1]\n",
    "auc_roc = roc_auc_score(target_valid, probabilities_one_valid)\n",
    "\n",
    "print(f'auc_roc = {auc_roc:.2f}')"
   ]
  },
  {
   "cell_type": "markdown",
   "metadata": {},
   "source": [
    " f1_score and auc_roc are improved. Check also precision и recall with various thresholds."
   ]
  },
  {
   "cell_type": "code",
   "execution_count": 47,
   "metadata": {},
   "outputs": [
    {
     "data": {
      "text/plain": [
       "array([[0.47177502, 0.52822498],\n",
       "       [0.74803829, 0.25196171],\n",
       "       [0.71775571, 0.28224429],\n",
       "       ...,\n",
       "       [0.81638529, 0.18361471],\n",
       "       [0.5753335 , 0.4246665 ],\n",
       "       [0.52332142, 0.47667858]])"
      ]
     },
     "execution_count": 47,
     "metadata": {},
     "output_type": "execute_result"
    }
   ],
   "source": [
    "probabilities_valid"
   ]
  },
  {
   "cell_type": "code",
   "execution_count": 48,
   "metadata": {},
   "outputs": [],
   "source": [
    "# A function that outputs information: F1-score\n",
    "def info_result(y_true, y_pred, model=None): \n",
    "    table = classification_report(y_true, y_pred)  \n",
    "    if model:\n",
    "        print(f'model :{model}')\n",
    "    print(f'average_precision_score: {average_precision_score(y_true, y_pred):.2%}')\n",
    "    print(table)\n",
    "    print('----')"
   ]
  },
  {
   "cell_type": "code",
   "execution_count": 49,
   "metadata": {},
   "outputs": [
    {
     "name": "stdout",
     "output_type": "stream",
     "text": [
      "[ True  True  True ...  True  True  True]\n",
      "model :model_log_reg, threshold =0.10\n",
      "average_precision_score: 21.20%\n",
      "              precision    recall  f1-score   support\n",
      "\n",
      "           0       0.00      0.00      0.00      1576\n",
      "           1       0.21      1.00      0.35       424\n",
      "\n",
      "    accuracy                           0.21      2000\n",
      "   macro avg       0.11      0.50      0.17      2000\n",
      "weighted avg       0.04      0.21      0.07      2000\n",
      "\n",
      "----\n",
      "[ True  True  True ...  True  True  True]\n",
      "model :model_log_reg, threshold =0.12\n",
      "average_precision_score: 21.20%\n",
      "              precision    recall  f1-score   support\n",
      "\n",
      "           0       0.00      0.00      0.00      1576\n",
      "           1       0.21      1.00      0.35       424\n",
      "\n",
      "    accuracy                           0.21      2000\n",
      "   macro avg       0.11      0.50      0.17      2000\n",
      "weighted avg       0.04      0.21      0.07      2000\n",
      "\n",
      "----\n",
      "[ True  True  True ...  True  True  True]\n",
      "model :model_log_reg, threshold =0.14\n",
      "average_precision_score: 21.21%\n",
      "              precision    recall  f1-score   support\n",
      "\n",
      "           0       1.00      0.00      0.00      1576\n",
      "           1       0.21      1.00      0.35       424\n",
      "\n",
      "    accuracy                           0.21      2000\n",
      "   macro avg       0.61      0.50      0.18      2000\n",
      "weighted avg       0.83      0.21      0.08      2000\n",
      "\n",
      "----\n",
      "[ True  True  True ...  True  True  True]\n",
      "model :model_log_reg, threshold =0.16\n",
      "average_precision_score: 21.46%\n",
      "              precision    recall  f1-score   support\n",
      "\n",
      "           0       0.97      0.02      0.03      1576\n",
      "           1       0.21      1.00      0.35       424\n",
      "\n",
      "    accuracy                           0.23      2000\n",
      "   macro avg       0.59      0.51      0.19      2000\n",
      "weighted avg       0.81      0.23      0.10      2000\n",
      "\n",
      "----\n",
      "[ True  True  True ...  True  True  True]\n",
      "model :model_log_reg, threshold =0.18\n",
      "average_precision_score: 22.45%\n",
      "              precision    recall  f1-score   support\n",
      "\n",
      "           0       0.99      0.07      0.14      1576\n",
      "           1       0.22      1.00      0.37       424\n",
      "\n",
      "    accuracy                           0.27      2000\n",
      "   macro avg       0.61      0.54      0.25      2000\n",
      "weighted avg       0.83      0.27      0.18      2000\n",
      "\n",
      "----\n",
      "[ True  True  True ... False  True  True]\n",
      "model :model_log_reg, threshold =0.20\n",
      "average_precision_score: 23.49%\n",
      "              precision    recall  f1-score   support\n",
      "\n",
      "           0       0.99      0.13      0.23      1576\n",
      "           1       0.23      1.00      0.38       424\n",
      "\n",
      "    accuracy                           0.31      2000\n",
      "   macro avg       0.61      0.56      0.30      2000\n",
      "weighted avg       0.83      0.31      0.26      2000\n",
      "\n",
      "----\n",
      "[ True  True  True ... False  True  True]\n",
      "model :model_log_reg, threshold =0.22\n",
      "average_precision_score: 24.66%\n",
      "              precision    recall  f1-score   support\n",
      "\n",
      "           0       0.99      0.18      0.31      1576\n",
      "           1       0.25      1.00      0.40       424\n",
      "\n",
      "    accuracy                           0.36      2000\n",
      "   macro avg       0.62      0.59      0.35      2000\n",
      "weighted avg       0.83      0.35      0.33      2000\n",
      "\n",
      "----\n",
      "[ True  True  True ... False  True  True]\n",
      "model :model_log_reg, threshold =0.24\n",
      "average_precision_score: 26.19%\n",
      "              precision    recall  f1-score   support\n",
      "\n",
      "           0       0.99      0.25      0.40      1576\n",
      "           1       0.26      0.99      0.41       424\n",
      "\n",
      "    accuracy                           0.41      2000\n",
      "   macro avg       0.63      0.62      0.41      2000\n",
      "weighted avg       0.84      0.41      0.40      2000\n",
      "\n",
      "----\n",
      "[ True False  True ... False  True  True]\n",
      "model :model_log_reg, threshold =0.26\n",
      "average_precision_score: 27.35%\n",
      "              precision    recall  f1-score   support\n",
      "\n",
      "           0       0.98      0.31      0.47      1576\n",
      "           1       0.27      0.98      0.43       424\n",
      "\n",
      "    accuracy                           0.45      2000\n",
      "   macro avg       0.63      0.64      0.45      2000\n",
      "weighted avg       0.83      0.45      0.46      2000\n",
      "\n",
      "----\n",
      "[ True False  True ... False  True  True]\n",
      "model :model_log_reg, threshold =0.28\n",
      "average_precision_score: 28.95%\n",
      "              precision    recall  f1-score   support\n",
      "\n",
      "           0       0.98      0.37      0.53      1576\n",
      "           1       0.29      0.97      0.45       424\n",
      "\n",
      "    accuracy                           0.49      2000\n",
      "   macro avg       0.63      0.67      0.49      2000\n",
      "weighted avg       0.83      0.49      0.52      2000\n",
      "\n",
      "----\n",
      "[ True False False ... False  True  True]\n",
      "model :model_log_reg, threshold =0.30\n",
      "average_precision_score: 30.37%\n",
      "              precision    recall  f1-score   support\n",
      "\n",
      "           0       0.97      0.42      0.59      1576\n",
      "           1       0.31      0.96      0.47       424\n",
      "\n",
      "    accuracy                           0.54      2000\n",
      "   macro avg       0.64      0.69      0.53      2000\n",
      "weighted avg       0.83      0.54      0.56      2000\n",
      "\n",
      "----\n",
      "[ True False False ... False  True  True]\n",
      "model :model_log_reg, threshold =0.32\n",
      "average_precision_score: 31.51%\n",
      "              precision    recall  f1-score   support\n",
      "\n",
      "           0       0.97      0.46      0.63      1576\n",
      "           1       0.32      0.94      0.48       424\n",
      "\n",
      "    accuracy                           0.57      2000\n",
      "   macro avg       0.64      0.70      0.55      2000\n",
      "weighted avg       0.83      0.57      0.60      2000\n",
      "\n",
      "----\n",
      "[ True False False ... False  True  True]\n",
      "model :model_log_reg, threshold =0.34\n",
      "average_precision_score: 32.44%\n",
      "              precision    recall  f1-score   support\n",
      "\n",
      "           0       0.96      0.50      0.66      1576\n",
      "           1       0.33      0.92      0.49       424\n",
      "\n",
      "    accuracy                           0.59      2000\n",
      "   macro avg       0.65      0.71      0.58      2000\n",
      "weighted avg       0.83      0.59      0.62      2000\n",
      "\n",
      "----\n",
      "[ True False False ... False  True  True]\n",
      "model :model_log_reg, threshold =0.36\n",
      "average_precision_score: 34.99%\n",
      "              precision    recall  f1-score   support\n",
      "\n",
      "           0       0.96      0.57      0.71      1576\n",
      "           1       0.36      0.91      0.52       424\n",
      "\n",
      "    accuracy                           0.64      2000\n",
      "   macro avg       0.66      0.74      0.62      2000\n",
      "weighted avg       0.83      0.64      0.67      2000\n",
      "\n",
      "----\n",
      "[ True False False ... False  True  True]\n",
      "model :model_log_reg, threshold =0.38\n",
      "average_precision_score: 36.13%\n",
      "              precision    recall  f1-score   support\n",
      "\n",
      "           0       0.95      0.61      0.74      1576\n",
      "           1       0.38      0.89      0.53       424\n",
      "\n",
      "    accuracy                           0.67      2000\n",
      "   macro avg       0.67      0.75      0.64      2000\n",
      "weighted avg       0.83      0.67      0.70      2000\n",
      "\n",
      "----\n",
      "[ True False False ... False  True  True]\n",
      "model :model_log_reg, threshold =0.40\n",
      "average_precision_score: 38.21%\n",
      "              precision    recall  f1-score   support\n",
      "\n",
      "           0       0.95      0.66      0.78      1576\n",
      "           1       0.41      0.88      0.55       424\n",
      "\n",
      "    accuracy                           0.70      2000\n",
      "   macro avg       0.68      0.77      0.67      2000\n",
      "weighted avg       0.84      0.70      0.73      2000\n",
      "\n",
      "----\n",
      "[ True False False ... False  True  True]\n",
      "model :model_log_reg, threshold =0.42\n",
      "average_precision_score: 40.49%\n",
      "              precision    recall  f1-score   support\n",
      "\n",
      "           0       0.94      0.72      0.81      1576\n",
      "           1       0.44      0.83      0.58       424\n",
      "\n",
      "    accuracy                           0.74      2000\n",
      "   macro avg       0.69      0.78      0.70      2000\n",
      "weighted avg       0.84      0.74      0.76      2000\n",
      "\n",
      "----\n",
      "[ True False False ... False False  True]\n",
      "model :model_log_reg, threshold =0.44\n",
      "average_precision_score: 42.40%\n",
      "              precision    recall  f1-score   support\n",
      "\n",
      "           0       0.94      0.76      0.84      1576\n",
      "           1       0.48      0.80      0.60       424\n",
      "\n",
      "    accuracy                           0.77      2000\n",
      "   macro avg       0.71      0.78      0.72      2000\n",
      "weighted avg       0.84      0.77      0.79      2000\n",
      "\n",
      "----\n",
      "[ True False False ... False False  True]\n",
      "model :model_log_reg, threshold =0.46\n",
      "average_precision_score: 43.00%\n",
      "              precision    recall  f1-score   support\n",
      "\n",
      "           0       0.93      0.79      0.85      1576\n",
      "           1       0.49      0.77      0.60       424\n",
      "\n",
      "    accuracy                           0.78      2000\n",
      "   macro avg       0.71      0.78      0.73      2000\n",
      "weighted avg       0.84      0.78      0.80      2000\n",
      "\n",
      "----\n",
      "[ True False False ... False False False]\n",
      "model :model_log_reg, threshold =0.48\n",
      "average_precision_score: 44.19%\n",
      "              precision    recall  f1-score   support\n",
      "\n",
      "           0       0.92      0.82      0.87      1576\n",
      "           1       0.52      0.74      0.61       424\n",
      "\n",
      "    accuracy                           0.80      2000\n",
      "   macro avg       0.72      0.78      0.74      2000\n",
      "weighted avg       0.84      0.80      0.81      2000\n",
      "\n",
      "----\n",
      "[ True False False ... False False False]\n",
      "model :model_log_reg, threshold =0.50\n",
      "average_precision_score: 44.86%\n",
      "              precision    recall  f1-score   support\n",
      "\n",
      "           0       0.91      0.84      0.88      1576\n",
      "           1       0.55      0.71      0.62       424\n",
      "\n",
      "    accuracy                           0.81      2000\n",
      "   macro avg       0.73      0.77      0.75      2000\n",
      "weighted avg       0.84      0.81      0.82      2000\n",
      "\n",
      "----\n",
      "[ True False False ... False False False]\n",
      "model :model_log_reg, threshold =0.52\n",
      "average_precision_score: 44.42%\n",
      "              precision    recall  f1-score   support\n",
      "\n",
      "           0       0.90      0.86      0.88      1576\n",
      "           1       0.57      0.66      0.61       424\n",
      "\n",
      "    accuracy                           0.82      2000\n",
      "   macro avg       0.73      0.76      0.75      2000\n",
      "weighted avg       0.83      0.82      0.83      2000\n",
      "\n",
      "----\n",
      "[False False False ... False False False]\n",
      "model :model_log_reg, threshold =0.54\n",
      "average_precision_score: 44.53%\n",
      "              precision    recall  f1-score   support\n",
      "\n",
      "           0       0.90      0.88      0.89      1576\n",
      "           1       0.59      0.62      0.60       424\n",
      "\n",
      "    accuracy                           0.83      2000\n",
      "   macro avg       0.74      0.75      0.75      2000\n",
      "weighted avg       0.83      0.83      0.83      2000\n",
      "\n",
      "----\n",
      "[False False False ... False False False]\n",
      "model :model_log_reg, threshold =0.56\n",
      "average_precision_score: 44.79%\n",
      "              precision    recall  f1-score   support\n",
      "\n",
      "           0       0.89      0.90      0.90      1576\n",
      "           1       0.62      0.58      0.60       424\n",
      "\n",
      "    accuracy                           0.83      2000\n",
      "   macro avg       0.75      0.74      0.75      2000\n",
      "weighted avg       0.83      0.83      0.83      2000\n",
      "\n",
      "----\n",
      "[False False False ... False False False]\n",
      "model :model_log_reg, threshold =0.58\n",
      "average_precision_score: 45.06%\n",
      "              precision    recall  f1-score   support\n",
      "\n",
      "           0       0.89      0.91      0.90      1576\n",
      "           1       0.64      0.56      0.60       424\n",
      "\n",
      "    accuracy                           0.84      2000\n",
      "   macro avg       0.76      0.74      0.75      2000\n",
      "weighted avg       0.83      0.84      0.84      2000\n",
      "\n",
      "----\n",
      "[False False False ... False False False]\n",
      "model :model_log_reg, threshold =0.60\n",
      "average_precision_score: 44.16%\n",
      "              precision    recall  f1-score   support\n",
      "\n",
      "           0       0.88      0.92      0.90      1576\n",
      "           1       0.64      0.53      0.58       424\n",
      "\n",
      "    accuracy                           0.84      2000\n",
      "   macro avg       0.76      0.73      0.74      2000\n",
      "weighted avg       0.83      0.84      0.83      2000\n",
      "\n",
      "----\n",
      "[False False False ... False False False]\n",
      "model :model_log_reg, threshold =0.62\n",
      "average_precision_score: 44.58%\n",
      "              precision    recall  f1-score   support\n",
      "\n",
      "           0       0.88      0.93      0.90      1576\n",
      "           1       0.67      0.51      0.58       424\n",
      "\n",
      "    accuracy                           0.84      2000\n",
      "   macro avg       0.77      0.72      0.74      2000\n",
      "weighted avg       0.83      0.84      0.83      2000\n",
      "\n",
      "----\n",
      "[False False False ... False False False]\n",
      "model :model_log_reg, threshold =0.64\n",
      "average_precision_score: 42.16%\n",
      "              precision    recall  f1-score   support\n",
      "\n",
      "           0       0.87      0.94      0.90      1576\n",
      "           1       0.67      0.46      0.54       424\n",
      "\n",
      "    accuracy                           0.84      2000\n",
      "   macro avg       0.77      0.70      0.72      2000\n",
      "weighted avg       0.82      0.84      0.83      2000\n",
      "\n",
      "----\n",
      "[False False False ... False False False]\n",
      "model :model_log_reg, threshold =0.66\n",
      "average_precision_score: 41.98%\n",
      "              precision    recall  f1-score   support\n",
      "\n",
      "           0       0.86      0.95      0.90      1576\n",
      "           1       0.70      0.43      0.53       424\n",
      "\n",
      "    accuracy                           0.84      2000\n",
      "   macro avg       0.78      0.69      0.72      2000\n",
      "weighted avg       0.83      0.84      0.82      2000\n",
      "\n",
      "----\n",
      "[False False False ... False False False]\n",
      "model :model_log_reg, threshold =0.68\n",
      "average_precision_score: 41.79%\n",
      "              precision    recall  f1-score   support\n",
      "\n",
      "           0       0.86      0.96      0.90      1576\n",
      "           1       0.72      0.41      0.52       424\n",
      "\n",
      "    accuracy                           0.84      2000\n",
      "   macro avg       0.79      0.68      0.71      2000\n",
      "weighted avg       0.83      0.84      0.82      2000\n",
      "\n",
      "----\n",
      "[False False False ... False False False]\n",
      "model :model_log_reg, threshold =0.70\n",
      "average_precision_score: 41.02%\n",
      "              precision    recall  f1-score   support\n",
      "\n",
      "           0       0.85      0.96      0.90      1576\n",
      "           1       0.74      0.38      0.50       424\n",
      "\n",
      "    accuracy                           0.84      2000\n",
      "   macro avg       0.79      0.67      0.70      2000\n",
      "weighted avg       0.83      0.84      0.82      2000\n",
      "\n",
      "----\n",
      "[False False False ... False False False]\n",
      "model :model_log_reg, threshold =0.72\n",
      "average_precision_score: 39.76%\n",
      "              precision    recall  f1-score   support\n",
      "\n",
      "           0       0.85      0.97      0.90      1576\n",
      "           1       0.74      0.35      0.48       424\n",
      "\n",
      "    accuracy                           0.84      2000\n",
      "   macro avg       0.80      0.66      0.69      2000\n",
      "weighted avg       0.82      0.84      0.81      2000\n",
      "\n",
      "----\n",
      "[False False False ... False False False]\n",
      "model :model_log_reg, threshold =0.74\n",
      "average_precision_score: 39.25%\n",
      "              precision    recall  f1-score   support\n",
      "\n",
      "           0       0.84      0.97      0.90      1576\n",
      "           1       0.77      0.33      0.46       424\n",
      "\n",
      "    accuracy                           0.84      2000\n",
      "   macro avg       0.80      0.65      0.68      2000\n",
      "weighted avg       0.83      0.84      0.81      2000\n",
      "\n",
      "----\n",
      "[False False False ... False False False]\n",
      "model :model_log_reg, threshold =0.76\n",
      "average_precision_score: 38.73%\n",
      "              precision    recall  f1-score   support\n",
      "\n",
      "           0       0.84      0.98      0.90      1576\n",
      "           1       0.81      0.29      0.43       424\n",
      "\n",
      "    accuracy                           0.84      2000\n",
      "   macro avg       0.82      0.64      0.67      2000\n",
      "weighted avg       0.83      0.84      0.80      2000\n",
      "\n",
      "----\n",
      "[False False False ... False False False]\n",
      "model :model_log_reg, threshold =0.78\n",
      "average_precision_score: 36.56%\n",
      "              precision    recall  f1-score   support\n",
      "\n",
      "           0       0.83      0.99      0.90      1576\n",
      "           1       0.84      0.24      0.38       424\n",
      "\n",
      "    accuracy                           0.83      2000\n",
      "   macro avg       0.84      0.62      0.64      2000\n",
      "weighted avg       0.83      0.83      0.79      2000\n",
      "\n",
      "----\n",
      "[False False False ... False False False]\n",
      "model :model_log_reg, threshold =0.80\n",
      "average_precision_score: 33.60%\n",
      "              precision    recall  f1-score   support\n",
      "\n",
      "           0       0.82      0.99      0.90      1576\n",
      "           1       0.88      0.19      0.31       424\n",
      "\n",
      "    accuracy                           0.82      2000\n",
      "   macro avg       0.85      0.59      0.60      2000\n",
      "weighted avg       0.83      0.82      0.77      2000\n",
      "\n",
      "----\n",
      "[False False False ... False False False]\n",
      "model :model_log_reg, threshold =0.82\n",
      "average_precision_score: 30.88%\n",
      "              precision    recall  f1-score   support\n",
      "\n",
      "           0       0.81      1.00      0.89      1576\n",
      "           1       0.91      0.14      0.24       424\n",
      "\n",
      "    accuracy                           0.81      2000\n",
      "   macro avg       0.86      0.57      0.57      2000\n",
      "weighted avg       0.83      0.81      0.76      2000\n",
      "\n",
      "----\n",
      "[False False False ... False False False]\n",
      "model :model_log_reg, threshold =0.84\n",
      "average_precision_score: 28.33%\n",
      "              precision    recall  f1-score   support\n",
      "\n",
      "           0       0.80      1.00      0.89      1576\n",
      "           1       0.91      0.10      0.18       424\n",
      "\n",
      "    accuracy                           0.81      2000\n",
      "   macro avg       0.86      0.55      0.54      2000\n",
      "weighted avg       0.83      0.81      0.74      2000\n",
      "\n",
      "----\n",
      "[False False False ... False False False]\n",
      "model :model_log_reg, threshold =0.86\n",
      "average_precision_score: 23.99%\n",
      "              precision    recall  f1-score   support\n",
      "\n",
      "           0       0.79      1.00      0.89      1576\n",
      "           1       1.00      0.04      0.07       424\n",
      "\n",
      "    accuracy                           0.80      2000\n",
      "   macro avg       0.90      0.52      0.48      2000\n",
      "weighted avg       0.84      0.80      0.71      2000\n",
      "\n",
      "----\n",
      "[False False False ... False False False]\n",
      "model :model_log_reg, threshold =0.88\n",
      "average_precision_score: 22.13%\n",
      "              precision    recall  f1-score   support\n",
      "\n",
      "           0       0.79      1.00      0.88      1576\n",
      "           1       1.00      0.01      0.02       424\n",
      "\n",
      "    accuracy                           0.79      2000\n",
      "   macro avg       0.89      0.51      0.45      2000\n",
      "weighted avg       0.83      0.79      0.70      2000\n",
      "\n",
      "----\n",
      "[False False False ... False False False]\n",
      "model :model_log_reg, threshold =0.90\n",
      "average_precision_score: 21.39%\n",
      "              precision    recall  f1-score   support\n",
      "\n",
      "           0       0.79      1.00      0.88      1576\n",
      "           1       1.00      0.00      0.00       424\n",
      "\n",
      "    accuracy                           0.79      2000\n",
      "   macro avg       0.89      0.50      0.44      2000\n",
      "weighted avg       0.83      0.79      0.70      2000\n",
      "\n",
      "----\n",
      "[False False False ... False False False]\n",
      "model :model_log_reg, threshold =0.92\n",
      "average_precision_score: 21.20%\n",
      "              precision    recall  f1-score   support\n",
      "\n",
      "           0       0.79      1.00      0.88      1576\n",
      "           1       0.00      0.00      0.00       424\n",
      "\n",
      "    accuracy                           0.79      2000\n",
      "   macro avg       0.39      0.50      0.44      2000\n",
      "weighted avg       0.62      0.79      0.69      2000\n",
      "\n",
      "----\n",
      "[False False False ... False False False]\n",
      "model :model_log_reg, threshold =0.94\n",
      "average_precision_score: 21.20%\n",
      "              precision    recall  f1-score   support\n",
      "\n",
      "           0       0.79      1.00      0.88      1576\n",
      "           1       0.00      0.00      0.00       424\n",
      "\n",
      "    accuracy                           0.79      2000\n",
      "   macro avg       0.39      0.50      0.44      2000\n",
      "weighted avg       0.62      0.79      0.69      2000\n",
      "\n",
      "----\n",
      "[False False False ... False False False]\n",
      "model :model_log_reg, threshold =0.96\n",
      "average_precision_score: 21.20%\n",
      "              precision    recall  f1-score   support\n",
      "\n",
      "           0       0.79      1.00      0.88      1576\n",
      "           1       0.00      0.00      0.00       424\n",
      "\n",
      "    accuracy                           0.79      2000\n",
      "   macro avg       0.39      0.50      0.44      2000\n",
      "weighted avg       0.62      0.79      0.69      2000\n",
      "\n",
      "----\n",
      "[False False False ... False False False]\n",
      "model :model_log_reg, threshold =0.98\n",
      "average_precision_score: 21.20%\n",
      "              precision    recall  f1-score   support\n",
      "\n",
      "           0       0.79      1.00      0.88      1576\n",
      "           1       0.00      0.00      0.00       424\n",
      "\n",
      "    accuracy                           0.79      2000\n",
      "   macro avg       0.39      0.50      0.44      2000\n",
      "weighted avg       0.62      0.79      0.69      2000\n",
      "\n",
      "----\n",
      "[False False False ... False False False]\n",
      "model :model_log_reg, threshold =1.00\n",
      "average_precision_score: 21.20%\n",
      "              precision    recall  f1-score   support\n",
      "\n",
      "           0       0.79      1.00      0.88      1576\n",
      "           1       0.00      0.00      0.00       424\n",
      "\n",
      "    accuracy                           0.79      2000\n",
      "   macro avg       0.39      0.50      0.44      2000\n",
      "weighted avg       0.62      0.79      0.69      2000\n",
      "\n",
      "----\n",
      "[False False False ... False False False]\n",
      "model :model_log_reg, threshold =1.02\n",
      "average_precision_score: 21.20%\n",
      "              precision    recall  f1-score   support\n",
      "\n",
      "           0       0.79      1.00      0.88      1576\n",
      "           1       0.00      0.00      0.00       424\n",
      "\n",
      "    accuracy                           0.79      2000\n",
      "   macro avg       0.39      0.50      0.44      2000\n",
      "weighted avg       0.62      0.79      0.69      2000\n",
      "\n",
      "----\n",
      "[False False False ... False False False]\n",
      "model :model_log_reg, threshold =1.04\n",
      "average_precision_score: 21.20%\n",
      "              precision    recall  f1-score   support\n",
      "\n",
      "           0       0.79      1.00      0.88      1576\n",
      "           1       0.00      0.00      0.00       424\n",
      "\n",
      "    accuracy                           0.79      2000\n",
      "   macro avg       0.39      0.50      0.44      2000\n",
      "weighted avg       0.62      0.79      0.69      2000\n",
      "\n",
      "----\n",
      "[False False False ... False False False]\n",
      "model :model_log_reg, threshold =1.06\n",
      "average_precision_score: 21.20%\n",
      "              precision    recall  f1-score   support\n",
      "\n",
      "           0       0.79      1.00      0.88      1576\n",
      "           1       0.00      0.00      0.00       424\n",
      "\n",
      "    accuracy                           0.79      2000\n",
      "   macro avg       0.39      0.50      0.44      2000\n",
      "weighted avg       0.62      0.79      0.69      2000\n",
      "\n",
      "----\n",
      "[False False False ... False False False]\n",
      "model :model_log_reg, threshold =1.08\n",
      "average_precision_score: 21.20%\n",
      "              precision    recall  f1-score   support\n",
      "\n",
      "           0       0.79      1.00      0.88      1576\n",
      "           1       0.00      0.00      0.00       424\n",
      "\n",
      "    accuracy                           0.79      2000\n",
      "   macro avg       0.39      0.50      0.44      2000\n",
      "weighted avg       0.62      0.79      0.69      2000\n",
      "\n",
      "----\n"
     ]
    }
   ],
   "source": [
    "threshold = 0.1\n",
    "for i in range(50):\n",
    "    y_pred = (probabilities_valid[:,1] >= threshold).astype(bool)\n",
    "    print(y_pred)\n",
    "    info_result(target_valid, y_pred, model=f'model_log_reg, threshold ={threshold:.2f}')\n",
    "    threshold += 0.02"
   ]
  },
  {
   "cell_type": "markdown",
   "metadata": {},
   "source": [
    "Precision и recall are close with threshold = 0.56"
   ]
  },
  {
   "cell_type": "code",
   "execution_count": 50,
   "metadata": {},
   "outputs": [
    {
     "name": "stdout",
     "output_type": "stream",
     "text": [
      "f1_score RandomForestClassifier for validation set: 0.60\n"
     ]
    }
   ],
   "source": [
    "model_rand_forest = RandomForestClassifier(n_estimators=70, \n",
    "    max_depth=5, random_state=12345, class_weight={1: 0.8, 0: 0.2})\n",
    "model_rand_forest.fit(features_train, target_train)\n",
    "\n",
    "threshold = 0.56\n",
    "\n",
    "predicted_proba = model_rand_forest.predict_proba(features_valid)\n",
    "predicted_valid = (predicted_proba [:,1] >= threshold).astype('int')\n",
    "\n",
    "f1_score_RandomForestClassifier_valid= f1_score(target_valid, predicted_valid)\n",
    "print(f'f1_score RandomForestClassifier for validation set: {f1_score_RandomForestClassifier_valid:.2f}')"
   ]
  },
  {
   "cell_type": "code",
   "execution_count": 51,
   "metadata": {},
   "outputs": [
    {
     "name": "stdout",
     "output_type": "stream",
     "text": [
      "auc_roc = 0.86\n"
     ]
    }
   ],
   "source": [
    "probabilities_valid = model_rand_forest.predict_proba(features_valid)\n",
    "probabilities_one_valid = probabilities_valid[:, 1]\n",
    "auc_roc = roc_auc_score(target_valid, probabilities_one_valid)\n",
    "\n",
    "print(f'auc_roc = {auc_roc:.2f}')"
   ]
  },
  {
   "cell_type": "code",
   "execution_count": 52,
   "metadata": {},
   "outputs": [],
   "source": [
    "import sklearn.metrics as metrics\n",
    "fpr, tpr, threshold = metrics.roc_curve(target_valid, probabilities_one_valid)\n",
    "roc_auc = metrics.auc(fpr, tpr)"
   ]
  },
  {
   "cell_type": "code",
   "execution_count": 53,
   "metadata": {},
   "outputs": [
    {
     "data": {
      "image/png": "[encoded data removed]",
      "text/plain": [
       "<Figure size 432x288 with 1 Axes>"
      ]
     },
     "metadata": {
      "needs_background": "light"
     },
     "output_type": "display_data"
    }
   ],
   "source": [
    "plt.title('Receiver Operating Characteristic')\n",
    "plt.plot(fpr, tpr, 'b', label = 'AUC = %0.2f' % roc_auc)\n",
    "plt.legend(loc = 'lower right')\n",
    "plt.plot([0, 1], [0, 1],'r--')\n",
    "plt.xlim([0, 1])\n",
    "plt.ylim([0, 1])\n",
    "plt.ylabel('True Positive Rate')\n",
    "plt.xlabel('False Positive Rate')\n",
    "plt.show()"
   ]
  },
  {
   "cell_type": "markdown",
   "metadata": {},
   "source": [
    "__Summary__\n",
    "\n",
    "Class weights addition significantly improves f1_score. Stratification does not show significant influence on f1_score. Threshold adjustment does not improve f1_score significantly, but helps precision come nearer to recall.   "
   ]
  },
  {
   "cell_type": "markdown",
   "metadata": {},
   "source": [
    "## Model testing"
   ]
  },
  {
   "cell_type": "code",
   "execution_count": 54,
   "metadata": {},
   "outputs": [
    {
     "name": "stdout",
     "output_type": "stream",
     "text": [
      "f1_score RandomForestClassifier for test set: 0.63\n"
     ]
    }
   ],
   "source": [
    "predicted_test = model_rand_forest.predict(features_test)\n",
    "f1_score_RandomForestClassifier_test= f1_score(target_test, predicted_test)\n",
    "print(f'f1_score RandomForestClassifier for test set: {f1_score_RandomForestClassifier_test:.2f}')"
   ]
  },
  {
   "cell_type": "code",
   "execution_count": 55,
   "metadata": {},
   "outputs": [
    {
     "name": "stdout",
     "output_type": "stream",
     "text": [
      "auc_roc = 0.86\n"
     ]
    }
   ],
   "source": [
    "probabilities_test = model_rand_forest.predict_proba(features_test)\n",
    "probabilities_one_test = probabilities_test[:, 1]\n",
    "auc_roc = roc_auc_score(target_test, probabilities_one_test)\n",
    "\n",
    "print(f'auc_roc = {auc_roc:.2f}')"
   ]
  },
  {
   "cell_type": "markdown",
   "metadata": {},
   "source": [
    "__Summary__\n",
    "\n",
    "Random forest model shows __F1 = 0.63 and auc_roc = 0.86__, for test set. "
   ]
  },
  {
   "cell_type": "markdown",
   "metadata": {},
   "source": [
    "## Conclusion"
   ]
  },
  {
   "cell_type": "markdown",
   "metadata": {},
   "source": [
    "Class weights addition shows the best results in class imbalance control compared to other methods applied. Logistic regression was tested for balanced and imbalanced datasets. Hyper-parameters selection for Random Forest Classifier shows F1 = 0.63 and auc_roc = 0.86, for test set. "
   ]
  }
 ],
 "metadata": {
  "ExecuteTimeLog": [
   {
    "duration": 625,
    "start_time": "2021-09-08T14:37:40.866Z"
   },
   {
    "duration": 672,
    "start_time": "2021-09-08T14:39:17.078Z"
   },
   {
    "duration": 341,
    "start_time": "2021-09-08T14:42:39.707Z"
   },
   {
    "duration": 5289,
    "start_time": "2021-09-08T14:42:54.156Z"
   },
   {
    "duration": 5884,
    "start_time": "2021-09-08T14:43:58.461Z"
   },
   {
    "duration": 612,
    "start_time": "2021-09-08T14:47:37.076Z"
   },
   {
    "duration": 5074,
    "start_time": "2021-09-08T14:47:37.692Z"
   },
   {
    "duration": 1779,
    "start_time": "2021-09-08T14:49:07.800Z"
   },
   {
    "duration": 5316,
    "start_time": "2021-09-08T14:49:38.328Z"
   },
   {
    "duration": 2353,
    "start_time": "2021-09-08T14:52:15.986Z"
   },
   {
    "duration": 5182,
    "start_time": "2021-09-08T14:52:29.577Z"
   },
   {
    "duration": 2,
    "start_time": "2021-09-08T15:04:58.747Z"
   },
   {
    "duration": 31,
    "start_time": "2021-09-08T15:04:59.131Z"
   },
   {
    "duration": 18,
    "start_time": "2021-09-08T15:05:06.343Z"
   },
   {
    "duration": 619,
    "start_time": "2021-09-08T15:08:09.120Z"
   },
   {
    "duration": 592,
    "start_time": "2021-09-08T15:08:09.741Z"
   },
   {
    "duration": 18,
    "start_time": "2021-09-08T15:08:10.336Z"
   },
   {
    "duration": 761,
    "start_time": "2021-09-08T15:09:45.634Z"
   },
   {
    "duration": 31,
    "start_time": "2021-09-08T15:09:46.397Z"
   },
   {
    "duration": 17,
    "start_time": "2021-09-08T15:09:46.430Z"
   },
   {
    "duration": 13,
    "start_time": "2021-09-08T15:10:03.410Z"
   },
   {
    "duration": 36,
    "start_time": "2021-09-08T15:10:07.611Z"
   },
   {
    "duration": 11,
    "start_time": "2021-09-08T15:10:13.825Z"
   },
   {
    "duration": 289,
    "start_time": "2021-09-08T15:10:28.739Z"
   },
   {
    "duration": 8,
    "start_time": "2021-09-08T15:10:34.785Z"
   },
   {
    "duration": 4,
    "start_time": "2021-09-08T15:13:51.084Z"
   },
   {
    "duration": 8,
    "start_time": "2021-09-08T15:18:18.914Z"
   },
   {
    "duration": 8,
    "start_time": "2021-09-08T15:19:03.714Z"
   },
   {
    "duration": 7,
    "start_time": "2021-09-08T15:19:14.276Z"
   },
   {
    "duration": 6,
    "start_time": "2021-09-08T15:19:22.803Z"
   },
   {
    "duration": 6,
    "start_time": "2021-09-08T15:19:32.894Z"
   },
   {
    "duration": 8,
    "start_time": "2021-09-08T15:20:29.498Z"
   },
   {
    "duration": 7,
    "start_time": "2021-09-08T15:20:40.586Z"
   },
   {
    "duration": 6,
    "start_time": "2021-09-08T15:20:54.796Z"
   },
   {
    "duration": 6,
    "start_time": "2021-09-08T15:21:12.559Z"
   },
   {
    "duration": 7,
    "start_time": "2021-09-08T15:35:01.634Z"
   },
   {
    "duration": 7,
    "start_time": "2021-09-08T15:36:58.663Z"
   },
   {
    "duration": 6,
    "start_time": "2021-09-08T15:37:19.707Z"
   },
   {
    "duration": 7,
    "start_time": "2021-09-08T15:37:24.033Z"
   },
   {
    "duration": 7,
    "start_time": "2021-09-08T15:40:33.446Z"
   },
   {
    "duration": 252,
    "start_time": "2021-09-08T15:41:15.519Z"
   },
   {
    "duration": 252,
    "start_time": "2021-09-08T15:41:31.497Z"
   },
   {
    "duration": 272,
    "start_time": "2021-09-08T15:41:40.340Z"
   },
   {
    "duration": 22294,
    "start_time": "2021-09-08T15:45:07.334Z"
   },
   {
    "duration": 248,
    "start_time": "2021-09-08T15:46:29.787Z"
   },
   {
    "duration": 24194,
    "start_time": "2021-09-08T15:46:40.811Z"
   },
   {
    "duration": 10,
    "start_time": "2021-09-08T15:47:20.725Z"
   },
   {
    "duration": 15,
    "start_time": "2021-09-08T15:48:49.410Z"
   },
   {
    "duration": 7,
    "start_time": "2021-09-08T15:52:27.972Z"
   },
   {
    "duration": 9,
    "start_time": "2021-09-08T15:52:32.258Z"
   },
   {
    "duration": 7,
    "start_time": "2021-09-08T15:52:42.832Z"
   },
   {
    "duration": 8,
    "start_time": "2021-09-08T15:52:51.937Z"
   },
   {
    "duration": 6,
    "start_time": "2021-09-08T15:55:19.952Z"
   },
   {
    "duration": 7,
    "start_time": "2021-09-08T15:55:23.388Z"
   },
   {
    "duration": 8,
    "start_time": "2021-09-08T15:55:32.925Z"
   },
   {
    "duration": 5,
    "start_time": "2021-09-08T15:58:20.570Z"
   },
   {
    "duration": 8,
    "start_time": "2021-09-08T15:58:38.641Z"
   },
   {
    "duration": 6,
    "start_time": "2021-09-08T15:59:03.446Z"
   },
   {
    "duration": 7,
    "start_time": "2021-09-08T15:59:12.667Z"
   },
   {
    "duration": 640,
    "start_time": "2021-09-08T15:59:18.958Z"
   },
   {
    "duration": 31,
    "start_time": "2021-09-08T15:59:19.601Z"
   },
   {
    "duration": 17,
    "start_time": "2021-09-08T15:59:19.634Z"
   },
   {
    "duration": 9,
    "start_time": "2021-09-08T15:59:19.653Z"
   },
   {
    "duration": 42,
    "start_time": "2021-09-08T15:59:19.663Z"
   },
   {
    "duration": 6,
    "start_time": "2021-09-08T15:59:19.707Z"
   },
   {
    "duration": 11,
    "start_time": "2021-09-08T15:59:19.715Z"
   },
   {
    "duration": 14,
    "start_time": "2021-09-08T15:59:19.728Z"
   },
   {
    "duration": 5,
    "start_time": "2021-09-08T15:59:19.744Z"
   },
   {
    "duration": 12,
    "start_time": "2021-09-08T15:59:19.750Z"
   },
   {
    "duration": 33,
    "start_time": "2021-09-08T15:59:19.763Z"
   },
   {
    "duration": 9,
    "start_time": "2021-09-08T15:59:19.798Z"
   },
   {
    "duration": 8,
    "start_time": "2021-09-08T15:59:19.809Z"
   },
   {
    "duration": 13,
    "start_time": "2021-09-08T15:59:19.818Z"
   },
   {
    "duration": 11,
    "start_time": "2021-09-08T15:59:19.833Z"
   },
   {
    "duration": 5,
    "start_time": "2021-09-08T15:59:19.846Z"
   },
   {
    "duration": 16,
    "start_time": "2021-09-08T15:59:19.852Z"
   },
   {
    "duration": 25,
    "start_time": "2021-09-08T15:59:19.870Z"
   },
   {
    "duration": 528,
    "start_time": "2021-09-08T16:11:04.111Z"
   },
   {
    "duration": 3,
    "start_time": "2021-09-08T16:11:25.466Z"
   },
   {
    "duration": 2,
    "start_time": "2021-09-08T16:11:42.976Z"
   },
   {
    "duration": 3,
    "start_time": "2021-09-08T16:12:23.947Z"
   },
   {
    "duration": 98,
    "start_time": "2021-09-08T16:13:01.482Z"
   },
   {
    "duration": 6,
    "start_time": "2021-09-08T16:13:14.820Z"
   },
   {
    "duration": 6,
    "start_time": "2021-09-08T16:13:32.841Z"
   },
   {
    "duration": 6,
    "start_time": "2021-09-08T16:14:50.286Z"
   },
   {
    "duration": 8,
    "start_time": "2021-09-08T16:16:20.360Z"
   },
   {
    "duration": 2,
    "start_time": "2021-09-08T16:16:21.363Z"
   },
   {
    "duration": 344,
    "start_time": "2021-09-08T16:20:51.582Z"
   },
   {
    "duration": 20,
    "start_time": "2021-09-08T16:25:35.105Z"
   },
   {
    "duration": 5,
    "start_time": "2021-09-08T16:25:41.660Z"
   },
   {
    "duration": 94,
    "start_time": "2021-09-08T16:30:21.983Z"
   },
   {
    "duration": 16,
    "start_time": "2021-09-08T16:30:25.863Z"
   },
   {
    "duration": 12,
    "start_time": "2021-09-08T16:30:29.832Z"
   },
   {
    "duration": 11,
    "start_time": "2021-09-08T16:30:49.479Z"
   },
   {
    "duration": 12,
    "start_time": "2021-09-08T16:30:51.506Z"
   },
   {
    "duration": 662,
    "start_time": "2021-09-08T16:31:02.255Z"
   },
   {
    "duration": 34,
    "start_time": "2021-09-08T16:31:02.919Z"
   },
   {
    "duration": 20,
    "start_time": "2021-09-08T16:31:02.955Z"
   },
   {
    "duration": 4,
    "start_time": "2021-09-08T16:31:02.976Z"
   },
   {
    "duration": 54,
    "start_time": "2021-09-08T16:31:02.981Z"
   },
   {
    "duration": 9,
    "start_time": "2021-09-08T16:31:03.038Z"
   },
   {
    "duration": 10,
    "start_time": "2021-09-08T16:31:03.049Z"
   },
   {
    "duration": 45,
    "start_time": "2021-09-08T16:31:03.062Z"
   },
   {
    "duration": 6,
    "start_time": "2021-09-08T16:31:03.109Z"
   },
   {
    "duration": 9,
    "start_time": "2021-09-08T16:31:03.118Z"
   },
   {
    "duration": 6,
    "start_time": "2021-09-08T16:31:03.129Z"
   },
   {
    "duration": 6,
    "start_time": "2021-09-08T16:31:03.137Z"
   },
   {
    "duration": 8,
    "start_time": "2021-09-08T16:31:03.144Z"
   },
   {
    "duration": 7,
    "start_time": "2021-09-08T16:31:03.190Z"
   },
   {
    "duration": 8,
    "start_time": "2021-09-08T16:31:03.199Z"
   },
   {
    "duration": 64,
    "start_time": "2021-09-08T16:31:03.209Z"
   },
   {
    "duration": 13,
    "start_time": "2021-09-08T16:31:03.275Z"
   },
   {
    "duration": 10,
    "start_time": "2021-09-08T16:31:03.290Z"
   },
   {
    "duration": 11,
    "start_time": "2021-09-08T16:31:03.302Z"
   },
   {
    "duration": 19,
    "start_time": "2021-09-08T16:31:03.315Z"
   },
   {
    "duration": 11,
    "start_time": "2021-09-08T16:31:03.336Z"
   },
   {
    "duration": 512,
    "start_time": "2021-09-08T16:31:03.349Z"
   },
   {
    "duration": 7,
    "start_time": "2021-09-08T16:31:03.864Z"
   },
   {
    "duration": 8,
    "start_time": "2021-09-08T16:31:03.873Z"
   },
   {
    "duration": 3,
    "start_time": "2021-09-08T16:31:03.892Z"
   },
   {
    "duration": 96,
    "start_time": "2021-09-08T16:31:03.897Z"
   },
   {
    "duration": 11,
    "start_time": "2021-09-08T16:31:30.961Z"
   },
   {
    "duration": 11,
    "start_time": "2021-09-08T16:31:31.566Z"
   },
   {
    "duration": 571,
    "start_time": "2021-09-08T16:31:40.826Z"
   },
   {
    "duration": 32,
    "start_time": "2021-09-08T16:31:41.400Z"
   },
   {
    "duration": 22,
    "start_time": "2021-09-08T16:31:41.434Z"
   },
   {
    "duration": 25,
    "start_time": "2021-09-08T16:31:41.458Z"
   },
   {
    "duration": 47,
    "start_time": "2021-09-08T16:31:41.485Z"
   },
   {
    "duration": 8,
    "start_time": "2021-09-08T16:31:41.533Z"
   },
   {
    "duration": 56,
    "start_time": "2021-09-08T16:31:41.542Z"
   },
   {
    "duration": 34,
    "start_time": "2021-09-08T16:31:41.600Z"
   },
   {
    "duration": 11,
    "start_time": "2021-09-08T16:31:41.637Z"
   },
   {
    "duration": 48,
    "start_time": "2021-09-08T16:31:41.650Z"
   },
   {
    "duration": 17,
    "start_time": "2021-09-08T16:31:41.699Z"
   },
   {
    "duration": 22,
    "start_time": "2021-09-08T16:31:41.717Z"
   },
   {
    "duration": 54,
    "start_time": "2021-09-08T16:31:41.741Z"
   },
   {
    "duration": 22,
    "start_time": "2021-09-08T16:31:41.797Z"
   },
   {
    "duration": 14,
    "start_time": "2021-09-08T16:31:41.821Z"
   },
   {
    "duration": 18,
    "start_time": "2021-09-08T16:31:41.837Z"
   },
   {
    "duration": 41,
    "start_time": "2021-09-08T16:31:41.856Z"
   },
   {
    "duration": 21,
    "start_time": "2021-09-08T16:31:41.899Z"
   },
   {
    "duration": 13,
    "start_time": "2021-09-08T16:31:41.921Z"
   },
   {
    "duration": 32,
    "start_time": "2021-09-08T16:31:41.936Z"
   },
   {
    "duration": 20,
    "start_time": "2021-09-08T16:31:41.970Z"
   },
   {
    "duration": 523,
    "start_time": "2021-09-08T16:31:41.992Z"
   },
   {
    "duration": 10,
    "start_time": "2021-09-08T16:31:42.526Z"
   },
   {
    "duration": 18,
    "start_time": "2021-09-08T16:31:42.566Z"
   },
   {
    "duration": 11,
    "start_time": "2021-09-08T16:31:42.586Z"
   },
   {
    "duration": 95,
    "start_time": "2021-09-08T16:31:42.598Z"
   },
   {
    "duration": 640,
    "start_time": "2021-09-08T16:31:56.652Z"
   },
   {
    "duration": 35,
    "start_time": "2021-09-08T16:31:57.294Z"
   },
   {
    "duration": 19,
    "start_time": "2021-09-08T16:31:57.332Z"
   },
   {
    "duration": 9,
    "start_time": "2021-09-08T16:31:57.352Z"
   },
   {
    "duration": 48,
    "start_time": "2021-09-08T16:31:57.362Z"
   },
   {
    "duration": 6,
    "start_time": "2021-09-08T16:31:57.412Z"
   },
   {
    "duration": 10,
    "start_time": "2021-09-08T16:31:57.420Z"
   },
   {
    "duration": 13,
    "start_time": "2021-09-08T16:31:57.432Z"
   },
   {
    "duration": 5,
    "start_time": "2021-09-08T16:31:57.447Z"
   },
   {
    "duration": 6,
    "start_time": "2021-09-08T16:31:57.454Z"
   },
   {
    "duration": 36,
    "start_time": "2021-09-08T16:31:57.462Z"
   },
   {
    "duration": 6,
    "start_time": "2021-09-08T16:31:57.500Z"
   },
   {
    "duration": 8,
    "start_time": "2021-09-08T16:31:57.508Z"
   },
   {
    "duration": 8,
    "start_time": "2021-09-08T16:31:57.518Z"
   },
   {
    "duration": 10,
    "start_time": "2021-09-08T16:31:57.528Z"
   },
   {
    "duration": 6,
    "start_time": "2021-09-08T16:31:57.539Z"
   },
   {
    "duration": 12,
    "start_time": "2021-09-08T16:31:57.546Z"
   },
   {
    "duration": 33,
    "start_time": "2021-09-08T16:31:57.559Z"
   },
   {
    "duration": 4,
    "start_time": "2021-09-08T16:31:57.594Z"
   },
   {
    "duration": 17,
    "start_time": "2021-09-08T16:31:57.599Z"
   },
   {
    "duration": 11,
    "start_time": "2021-09-08T16:31:57.617Z"
   },
   {
    "duration": 514,
    "start_time": "2021-09-08T16:31:57.630Z"
   },
   {
    "duration": 6,
    "start_time": "2021-09-08T16:31:58.147Z"
   },
   {
    "duration": 8,
    "start_time": "2021-09-08T16:31:58.155Z"
   },
   {
    "duration": 3,
    "start_time": "2021-09-08T16:31:58.165Z"
   },
   {
    "duration": 128,
    "start_time": "2021-09-08T16:31:58.170Z"
   },
   {
    "duration": 20,
    "start_time": "2021-09-08T16:32:52.868Z"
   },
   {
    "duration": 556,
    "start_time": "2021-09-08T16:33:15.728Z"
   },
   {
    "duration": 32,
    "start_time": "2021-09-08T16:33:16.286Z"
   },
   {
    "duration": 19,
    "start_time": "2021-09-08T16:33:16.320Z"
   },
   {
    "duration": 6,
    "start_time": "2021-09-08T16:33:16.341Z"
   },
   {
    "duration": 46,
    "start_time": "2021-09-08T16:33:16.348Z"
   },
   {
    "duration": 8,
    "start_time": "2021-09-08T16:33:16.395Z"
   },
   {
    "duration": 10,
    "start_time": "2021-09-08T16:33:16.404Z"
   },
   {
    "duration": 14,
    "start_time": "2021-09-08T16:33:16.417Z"
   },
   {
    "duration": 5,
    "start_time": "2021-09-08T16:33:16.433Z"
   },
   {
    "duration": 18,
    "start_time": "2021-09-08T16:33:16.440Z"
   },
   {
    "duration": 32,
    "start_time": "2021-09-08T16:33:16.459Z"
   },
   {
    "duration": 6,
    "start_time": "2021-09-08T16:33:16.493Z"
   },
   {
    "duration": 22,
    "start_time": "2021-09-08T16:33:16.500Z"
   },
   {
    "duration": 5,
    "start_time": "2021-09-08T16:33:16.524Z"
   },
   {
    "duration": 9,
    "start_time": "2021-09-08T16:33:16.531Z"
   },
   {
    "duration": 4,
    "start_time": "2021-09-08T16:33:16.542Z"
   },
   {
    "duration": 12,
    "start_time": "2021-09-08T16:33:16.548Z"
   },
   {
    "duration": 8,
    "start_time": "2021-09-08T16:33:16.561Z"
   },
   {
    "duration": 20,
    "start_time": "2021-09-08T16:33:16.571Z"
   },
   {
    "duration": 18,
    "start_time": "2021-09-08T16:33:16.593Z"
   },
   {
    "duration": 11,
    "start_time": "2021-09-08T16:33:16.612Z"
   },
   {
    "duration": 17,
    "start_time": "2021-09-08T16:33:16.625Z"
   },
   {
    "duration": 490,
    "start_time": "2021-09-08T16:33:16.644Z"
   },
   {
    "duration": 5,
    "start_time": "2021-09-08T16:33:17.135Z"
   },
   {
    "duration": 9,
    "start_time": "2021-09-08T16:33:17.142Z"
   },
   {
    "duration": 3,
    "start_time": "2021-09-08T16:33:17.153Z"
   },
   {
    "duration": 136,
    "start_time": "2021-09-08T16:33:17.157Z"
   },
   {
    "duration": 322,
    "start_time": "2021-09-08T16:36:29.180Z"
   },
   {
    "duration": 95,
    "start_time": "2021-09-08T16:36:40.407Z"
   },
   {
    "duration": 15,
    "start_time": "2021-09-08T16:37:02.572Z"
   },
   {
    "duration": 9,
    "start_time": "2021-09-08T16:38:24.937Z"
   },
   {
    "duration": 110,
    "start_time": "2021-09-08T16:38:49.283Z"
   },
   {
    "duration": 12,
    "start_time": "2021-09-08T16:39:11.174Z"
   },
   {
    "duration": 244,
    "start_time": "2021-09-08T16:39:47.200Z"
   },
   {
    "duration": 3,
    "start_time": "2021-09-08T17:27:34.031Z"
   },
   {
    "duration": 264,
    "start_time": "2021-09-08T17:30:32.631Z"
   },
   {
    "duration": 2435,
    "start_time": "2021-09-08T17:33:25.506Z"
   },
   {
    "duration": 3364,
    "start_time": "2021-09-08T17:33:45.148Z"
   },
   {
    "duration": 7,
    "start_time": "2021-09-08T17:37:07.835Z"
   },
   {
    "duration": 994,
    "start_time": "2021-09-08T17:39:39.137Z"
   },
   {
    "duration": 33,
    "start_time": "2021-09-08T17:39:40.132Z"
   },
   {
    "duration": 19,
    "start_time": "2021-09-08T17:39:40.167Z"
   },
   {
    "duration": 3,
    "start_time": "2021-09-08T17:39:40.192Z"
   },
   {
    "duration": 39,
    "start_time": "2021-09-08T17:39:40.196Z"
   },
   {
    "duration": 7,
    "start_time": "2021-09-08T17:39:40.236Z"
   },
   {
    "duration": 9,
    "start_time": "2021-09-08T17:39:40.245Z"
   },
   {
    "duration": 39,
    "start_time": "2021-09-08T17:39:40.257Z"
   },
   {
    "duration": 5,
    "start_time": "2021-09-08T17:39:40.298Z"
   },
   {
    "duration": 10,
    "start_time": "2021-09-08T17:39:40.305Z"
   },
   {
    "duration": 8,
    "start_time": "2021-09-08T17:39:40.317Z"
   },
   {
    "duration": 9,
    "start_time": "2021-09-08T17:39:40.326Z"
   },
   {
    "duration": 9,
    "start_time": "2021-09-08T17:39:40.337Z"
   },
   {
    "duration": 9,
    "start_time": "2021-09-08T17:39:40.348Z"
   },
   {
    "duration": 33,
    "start_time": "2021-09-08T17:39:40.359Z"
   },
   {
    "duration": 4,
    "start_time": "2021-09-08T17:39:40.394Z"
   },
   {
    "duration": 9,
    "start_time": "2021-09-08T17:39:40.399Z"
   },
   {
    "duration": 8,
    "start_time": "2021-09-08T17:39:40.410Z"
   },
   {
    "duration": 6,
    "start_time": "2021-09-08T17:39:40.419Z"
   },
   {
    "duration": 18,
    "start_time": "2021-09-08T17:39:40.426Z"
   },
   {
    "duration": 12,
    "start_time": "2021-09-08T17:39:40.446Z"
   },
   {
    "duration": 40,
    "start_time": "2021-09-08T17:39:40.460Z"
   },
   {
    "duration": 4,
    "start_time": "2021-09-08T17:39:40.503Z"
   },
   {
    "duration": 10,
    "start_time": "2021-09-08T17:39:40.508Z"
   },
   {
    "duration": 11,
    "start_time": "2021-09-08T17:39:40.520Z"
   },
   {
    "duration": 9,
    "start_time": "2021-09-08T17:39:40.533Z"
   },
   {
    "duration": 147,
    "start_time": "2021-09-08T17:39:40.544Z"
   },
   {
    "duration": 10,
    "start_time": "2021-09-08T17:39:40.694Z"
   },
   {
    "duration": 103,
    "start_time": "2021-09-08T17:39:40.793Z"
   },
   {
    "duration": 101,
    "start_time": "2021-09-08T17:39:40.898Z"
   },
   {
    "duration": 95,
    "start_time": "2021-09-08T17:39:41.003Z"
   },
   {
    "duration": 92,
    "start_time": "2021-09-08T17:39:41.100Z"
   },
   {
    "duration": 3444,
    "start_time": "2021-09-08T17:39:41.194Z"
   },
   {
    "duration": 1490,
    "start_time": "2021-09-09T12:49:10.879Z"
   },
   {
    "duration": 37,
    "start_time": "2021-09-09T12:49:12.371Z"
   },
   {
    "duration": 27,
    "start_time": "2021-09-09T12:49:12.411Z"
   },
   {
    "duration": 5,
    "start_time": "2021-09-09T12:49:12.441Z"
   },
   {
    "duration": 83,
    "start_time": "2021-09-09T12:49:12.448Z"
   },
   {
    "duration": 9,
    "start_time": "2021-09-09T12:49:12.534Z"
   },
   {
    "duration": 11,
    "start_time": "2021-09-09T12:49:12.545Z"
   },
   {
    "duration": 20,
    "start_time": "2021-09-09T12:49:12.560Z"
   },
   {
    "duration": 41,
    "start_time": "2021-09-09T12:49:12.582Z"
   },
   {
    "duration": 12,
    "start_time": "2021-09-09T12:49:12.625Z"
   },
   {
    "duration": 7,
    "start_time": "2021-09-09T12:49:12.639Z"
   },
   {
    "duration": 8,
    "start_time": "2021-09-09T12:49:12.649Z"
   },
   {
    "duration": 9,
    "start_time": "2021-09-09T12:49:12.659Z"
   },
   {
    "duration": 52,
    "start_time": "2021-09-09T12:49:12.670Z"
   },
   {
    "duration": 9,
    "start_time": "2021-09-09T12:49:12.724Z"
   },
   {
    "duration": 6,
    "start_time": "2021-09-09T12:49:12.736Z"
   },
   {
    "duration": 10,
    "start_time": "2021-09-09T12:49:12.745Z"
   },
   {
    "duration": 8,
    "start_time": "2021-09-09T12:49:12.757Z"
   },
   {
    "duration": 7,
    "start_time": "2021-09-09T12:49:12.815Z"
   },
   {
    "duration": 21,
    "start_time": "2021-09-09T12:49:12.824Z"
   },
   {
    "duration": 20,
    "start_time": "2021-09-09T12:49:12.848Z"
   },
   {
    "duration": 53,
    "start_time": "2021-09-09T12:49:12.870Z"
   },
   {
    "duration": 4,
    "start_time": "2021-09-09T12:49:12.928Z"
   },
   {
    "duration": 14,
    "start_time": "2021-09-09T12:49:12.935Z"
   },
   {
    "duration": 7,
    "start_time": "2021-09-09T12:49:12.951Z"
   },
   {
    "duration": 5,
    "start_time": "2021-09-09T12:49:12.961Z"
   },
   {
    "duration": 248,
    "start_time": "2021-09-09T12:49:12.968Z"
   },
   {
    "duration": 11,
    "start_time": "2021-09-09T12:49:13.219Z"
   },
   {
    "duration": 186,
    "start_time": "2021-09-09T12:49:13.234Z"
   },
   {
    "duration": 107,
    "start_time": "2021-09-09T12:49:13.422Z"
   },
   {
    "duration": 99,
    "start_time": "2021-09-09T12:49:13.618Z"
   },
   {
    "duration": 3,
    "start_time": "2021-09-09T12:49:13.720Z"
   },
   {
    "duration": 5352,
    "start_time": "2021-09-09T12:49:13.726Z"
   },
   {
    "duration": 4,
    "start_time": "2021-09-09T12:50:00.548Z"
   },
   {
    "duration": 182,
    "start_time": "2021-09-09T12:50:02.236Z"
   },
   {
    "duration": 12,
    "start_time": "2021-09-09T12:50:06.469Z"
   },
   {
    "duration": 3,
    "start_time": "2021-09-09T12:50:36.701Z"
   },
   {
    "duration": 142,
    "start_time": "2021-09-09T12:50:37.176Z"
   },
   {
    "duration": 20,
    "start_time": "2021-09-09T12:50:39.625Z"
   },
   {
    "duration": 13,
    "start_time": "2021-09-09T12:50:40.991Z"
   },
   {
    "duration": 205,
    "start_time": "2021-09-09T12:50:41.912Z"
   },
   {
    "duration": 84,
    "start_time": "2021-09-09T12:51:17.644Z"
   },
   {
    "duration": 5,
    "start_time": "2021-09-09T12:51:32.570Z"
   },
   {
    "duration": 3,
    "start_time": "2021-09-09T12:51:33.090Z"
   },
   {
    "duration": 143,
    "start_time": "2021-09-09T12:51:33.375Z"
   },
   {
    "duration": 520,
    "start_time": "2021-09-09T12:54:16.996Z"
   },
   {
    "duration": 189,
    "start_time": "2021-09-09T12:54:39.032Z"
   },
   {
    "duration": 9,
    "start_time": "2021-09-09T12:55:15.281Z"
   },
   {
    "duration": 68,
    "start_time": "2021-09-09T12:56:47.530Z"
   },
   {
    "duration": 524,
    "start_time": "2021-09-09T12:58:59.476Z"
   },
   {
    "duration": 146,
    "start_time": "2021-09-09T12:59:17.477Z"
   },
   {
    "duration": 15,
    "start_time": "2021-09-09T12:59:55.042Z"
   },
   {
    "duration": 8,
    "start_time": "2021-09-09T12:59:55.903Z"
   },
   {
    "duration": 130,
    "start_time": "2021-09-09T12:59:56.791Z"
   },
   {
    "duration": 9,
    "start_time": "2021-09-09T13:00:10.046Z"
   },
   {
    "duration": 7,
    "start_time": "2021-09-09T13:00:10.705Z"
   },
   {
    "duration": 192,
    "start_time": "2021-09-09T13:00:16.926Z"
   },
   {
    "duration": 8,
    "start_time": "2021-09-09T13:01:15.308Z"
   },
   {
    "duration": 8,
    "start_time": "2021-09-09T13:01:25.553Z"
   },
   {
    "duration": 6,
    "start_time": "2021-09-09T13:02:48.486Z"
   },
   {
    "duration": 4,
    "start_time": "2021-09-09T13:08:09.722Z"
   },
   {
    "duration": 386,
    "start_time": "2021-09-09T13:08:11.582Z"
   },
   {
    "duration": 1279,
    "start_time": "2021-09-09T13:08:24.950Z"
   },
   {
    "duration": 1090,
    "start_time": "2021-09-09T13:09:11.037Z"
   },
   {
    "duration": 518,
    "start_time": "2021-09-09T13:10:08.780Z"
   },
   {
    "duration": 146,
    "start_time": "2021-09-09T13:16:16.849Z"
   },
   {
    "duration": 136,
    "start_time": "2021-09-09T13:16:27.891Z"
   },
   {
    "duration": 239,
    "start_time": "2021-09-09T13:16:32.659Z"
   },
   {
    "duration": 679,
    "start_time": "2021-09-09T13:16:35.251Z"
   },
   {
    "duration": 5252,
    "start_time": "2021-09-09T13:17:02.393Z"
   },
   {
    "duration": 5337,
    "start_time": "2021-09-09T13:21:58.869Z"
   },
   {
    "duration": 312,
    "start_time": "2021-09-09T13:22:55.703Z"
   },
   {
    "duration": 409,
    "start_time": "2021-09-09T13:23:10.673Z"
   },
   {
    "duration": 5,
    "start_time": "2021-09-09T13:23:27.819Z"
   },
   {
    "duration": 397,
    "start_time": "2021-09-09T13:23:36.407Z"
   },
   {
    "duration": 762,
    "start_time": "2021-09-09T13:24:14.555Z"
   },
   {
    "duration": 427,
    "start_time": "2021-09-09T13:24:31.180Z"
   },
   {
    "duration": 448,
    "start_time": "2021-09-09T13:25:59.353Z"
   },
   {
    "duration": 423,
    "start_time": "2021-09-09T13:26:16.829Z"
   },
   {
    "duration": 442,
    "start_time": "2021-09-09T13:28:48.863Z"
   },
   {
    "duration": 9749,
    "start_time": "2021-09-09T13:29:08.529Z"
   },
   {
    "duration": 2120,
    "start_time": "2021-09-09T13:33:55.818Z"
   },
   {
    "duration": 55,
    "start_time": "2021-09-09T13:33:57.942Z"
   },
   {
    "duration": 58,
    "start_time": "2021-09-09T13:33:58.003Z"
   },
   {
    "duration": 7,
    "start_time": "2021-09-09T13:33:58.066Z"
   },
   {
    "duration": 99,
    "start_time": "2021-09-09T13:33:58.077Z"
   },
   {
    "duration": 36,
    "start_time": "2021-09-09T13:33:58.179Z"
   },
   {
    "duration": 12,
    "start_time": "2021-09-09T13:33:58.218Z"
   },
   {
    "duration": 24,
    "start_time": "2021-09-09T13:33:58.235Z"
   },
   {
    "duration": 55,
    "start_time": "2021-09-09T13:33:58.262Z"
   },
   {
    "duration": 10,
    "start_time": "2021-09-09T13:33:58.320Z"
   },
   {
    "duration": 11,
    "start_time": "2021-09-09T13:33:58.333Z"
   },
   {
    "duration": 25,
    "start_time": "2021-09-09T13:33:58.346Z"
   },
   {
    "duration": 42,
    "start_time": "2021-09-09T13:33:58.373Z"
   },
   {
    "duration": 11,
    "start_time": "2021-09-09T13:33:58.419Z"
   },
   {
    "duration": 13,
    "start_time": "2021-09-09T13:33:58.434Z"
   },
   {
    "duration": 11,
    "start_time": "2021-09-09T13:33:58.450Z"
   },
   {
    "duration": 58,
    "start_time": "2021-09-09T13:33:58.464Z"
   },
   {
    "duration": 16,
    "start_time": "2021-09-09T13:33:58.524Z"
   },
   {
    "duration": 14,
    "start_time": "2021-09-09T13:33:58.544Z"
   },
   {
    "duration": 84,
    "start_time": "2021-09-09T13:33:58.561Z"
   },
   {
    "duration": 72,
    "start_time": "2021-09-09T13:33:58.648Z"
   },
   {
    "duration": 105,
    "start_time": "2021-09-09T13:33:58.724Z"
   },
   {
    "duration": 7,
    "start_time": "2021-09-09T13:33:58.838Z"
   },
   {
    "duration": 67,
    "start_time": "2021-09-09T13:33:58.849Z"
   },
   {
    "duration": 8,
    "start_time": "2021-09-09T13:33:58.919Z"
   },
   {
    "duration": 6,
    "start_time": "2021-09-09T13:33:58.930Z"
   },
   {
    "duration": 7,
    "start_time": "2021-09-09T13:33:58.939Z"
   },
   {
    "duration": 368,
    "start_time": "2021-09-09T13:33:58.948Z"
   },
   {
    "duration": 9,
    "start_time": "2021-09-09T13:33:59.319Z"
   },
   {
    "duration": 88,
    "start_time": "2021-09-09T13:33:59.331Z"
   },
   {
    "duration": 95,
    "start_time": "2021-09-09T13:33:59.422Z"
   },
   {
    "duration": 811,
    "start_time": "2021-09-09T13:33:59.520Z"
   },
   {
    "duration": 19,
    "start_time": "2021-09-09T13:34:00.335Z"
   },
   {
    "duration": 260,
    "start_time": "2021-09-09T13:34:00.357Z"
   },
   {
    "duration": 99,
    "start_time": "2021-09-09T13:34:00.620Z"
   },
   {
    "duration": 101,
    "start_time": "2021-09-09T13:34:00.722Z"
   },
   {
    "duration": 30,
    "start_time": "2021-09-09T13:34:00.826Z"
   },
   {
    "duration": 44,
    "start_time": "2021-09-09T13:34:00.859Z"
   },
   {
    "duration": 213,
    "start_time": "2021-09-09T13:34:00.906Z"
   },
   {
    "duration": 94,
    "start_time": "2021-09-09T13:34:01.122Z"
   },
   {
    "duration": 5665,
    "start_time": "2021-09-09T13:34:01.219Z"
   },
   {
    "duration": 167546,
    "start_time": "2021-09-09T13:34:06.886Z"
   },
   {
    "duration": 187945,
    "start_time": "2021-09-09T13:39:58.315Z"
   },
   {
    "duration": 3,
    "start_time": "2021-09-09T13:46:42.947Z"
   },
   {
    "duration": 1367,
    "start_time": "2021-09-10T14:40:34.922Z"
   },
   {
    "duration": 37,
    "start_time": "2021-09-10T14:40:36.292Z"
   },
   {
    "duration": 27,
    "start_time": "2021-09-10T14:40:36.331Z"
   },
   {
    "duration": 7,
    "start_time": "2021-09-10T14:40:36.361Z"
   },
   {
    "duration": 63,
    "start_time": "2021-09-10T14:40:36.370Z"
   },
   {
    "duration": 9,
    "start_time": "2021-09-10T14:40:36.455Z"
   },
   {
    "duration": 12,
    "start_time": "2021-09-10T14:40:36.467Z"
   },
   {
    "duration": 22,
    "start_time": "2021-09-10T14:40:36.483Z"
   },
   {
    "duration": 46,
    "start_time": "2021-09-10T14:40:36.508Z"
   },
   {
    "duration": 9,
    "start_time": "2021-09-10T14:40:36.557Z"
   },
   {
    "duration": 9,
    "start_time": "2021-09-10T14:40:36.569Z"
   },
   {
    "duration": 15,
    "start_time": "2021-09-10T14:40:36.581Z"
   },
   {
    "duration": 8,
    "start_time": "2021-09-10T14:40:36.599Z"
   },
   {
    "duration": 46,
    "start_time": "2021-09-10T14:40:36.610Z"
   },
   {
    "duration": 10,
    "start_time": "2021-09-10T14:40:36.658Z"
   },
   {
    "duration": 5,
    "start_time": "2021-09-10T14:40:36.670Z"
   },
   {
    "duration": 10,
    "start_time": "2021-09-10T14:40:36.677Z"
   },
   {
    "duration": 9,
    "start_time": "2021-09-10T14:40:36.689Z"
   },
   {
    "duration": 56,
    "start_time": "2021-09-10T14:40:36.700Z"
   },
   {
    "duration": 22,
    "start_time": "2021-09-10T14:40:36.759Z"
   },
   {
    "duration": 17,
    "start_time": "2021-09-10T14:40:36.783Z"
   },
   {
    "duration": 52,
    "start_time": "2021-09-10T14:40:36.803Z"
   },
   {
    "duration": 6,
    "start_time": "2021-09-10T14:40:36.859Z"
   },
   {
    "duration": 9,
    "start_time": "2021-09-10T14:40:36.868Z"
   },
   {
    "duration": 10,
    "start_time": "2021-09-10T14:40:36.879Z"
   },
   {
    "duration": 4,
    "start_time": "2021-09-10T14:40:36.892Z"
   },
   {
    "duration": 5,
    "start_time": "2021-09-10T14:40:36.899Z"
   },
   {
    "duration": 249,
    "start_time": "2021-09-10T14:40:36.907Z"
   },
   {
    "duration": 98,
    "start_time": "2021-09-10T14:40:37.159Z"
   },
   {
    "duration": 96,
    "start_time": "2021-09-10T14:40:37.261Z"
   },
   {
    "duration": 7,
    "start_time": "2021-09-10T14:40:37.359Z"
   },
   {
    "duration": 826,
    "start_time": "2021-09-10T14:40:37.368Z"
   },
   {
    "duration": 68,
    "start_time": "2021-09-10T14:40:38.196Z"
   },
   {
    "duration": 288,
    "start_time": "2021-09-10T14:40:38.266Z"
   },
   {
    "duration": 14,
    "start_time": "2021-09-10T14:40:38.557Z"
   },
   {
    "duration": 99,
    "start_time": "2021-09-10T14:40:38.656Z"
   },
   {
    "duration": 10,
    "start_time": "2021-09-10T14:40:38.757Z"
   },
   {
    "duration": 17,
    "start_time": "2021-09-10T14:40:38.770Z"
   },
   {
    "duration": 168,
    "start_time": "2021-09-10T14:40:38.790Z"
   },
   {
    "duration": 93,
    "start_time": "2021-09-10T14:40:38.962Z"
   },
   {
    "duration": 5154,
    "start_time": "2021-09-10T14:40:39.057Z"
   },
   {
    "duration": 1362,
    "start_time": "2021-09-10T14:41:22.225Z"
   },
   {
    "duration": 36,
    "start_time": "2021-09-10T14:41:23.590Z"
   },
   {
    "duration": 35,
    "start_time": "2021-09-10T14:41:23.629Z"
   },
   {
    "duration": 14,
    "start_time": "2021-09-10T14:41:23.667Z"
   },
   {
    "duration": 80,
    "start_time": "2021-09-10T14:41:23.684Z"
   },
   {
    "duration": 10,
    "start_time": "2021-09-10T14:41:23.766Z"
   },
   {
    "duration": 37,
    "start_time": "2021-09-10T14:41:23.778Z"
   },
   {
    "duration": 26,
    "start_time": "2021-09-10T14:41:23.819Z"
   },
   {
    "duration": 12,
    "start_time": "2021-09-10T14:41:23.848Z"
   },
   {
    "duration": 30,
    "start_time": "2021-09-10T14:41:23.863Z"
   },
   {
    "duration": 27,
    "start_time": "2021-09-10T14:41:23.896Z"
   },
   {
    "duration": 23,
    "start_time": "2021-09-10T14:41:23.926Z"
   },
   {
    "duration": 27,
    "start_time": "2021-09-10T14:41:23.952Z"
   },
   {
    "duration": 22,
    "start_time": "2021-09-10T14:41:23.982Z"
   },
   {
    "duration": 36,
    "start_time": "2021-09-10T14:41:24.007Z"
   },
   {
    "duration": 33,
    "start_time": "2021-09-10T14:41:24.046Z"
   },
   {
    "duration": 38,
    "start_time": "2021-09-10T14:41:24.081Z"
   },
   {
    "duration": 25,
    "start_time": "2021-09-10T14:41:24.122Z"
   },
   {
    "duration": 15,
    "start_time": "2021-09-10T14:41:24.150Z"
   },
   {
    "duration": 55,
    "start_time": "2021-09-10T14:41:24.168Z"
   },
   {
    "duration": 29,
    "start_time": "2021-09-10T14:41:24.226Z"
   },
   {
    "duration": 25,
    "start_time": "2021-09-10T14:41:24.258Z"
   },
   {
    "duration": 27,
    "start_time": "2021-09-10T14:41:24.288Z"
   },
   {
    "duration": 27,
    "start_time": "2021-09-10T14:41:24.318Z"
   },
   {
    "duration": 31,
    "start_time": "2021-09-10T14:41:24.349Z"
   },
   {
    "duration": 32,
    "start_time": "2021-09-10T14:41:24.383Z"
   },
   {
    "duration": 149,
    "start_time": "2021-09-10T14:41:24.418Z"
   },
   {
    "duration": 106,
    "start_time": "2021-09-10T14:41:24.656Z"
   },
   {
    "duration": 93,
    "start_time": "2021-09-10T14:41:24.765Z"
   },
   {
    "duration": 35,
    "start_time": "2021-09-10T14:41:24.861Z"
   },
   {
    "duration": 540,
    "start_time": "2021-09-10T14:41:24.899Z"
   },
   {
    "duration": 21,
    "start_time": "2021-09-10T14:41:25.442Z"
   },
   {
    "duration": 190,
    "start_time": "2021-09-10T14:41:25.466Z"
   },
   {
    "duration": 197,
    "start_time": "2021-09-10T14:41:25.659Z"
   },
   {
    "duration": 13,
    "start_time": "2021-09-10T14:41:25.860Z"
   },
   {
    "duration": 7,
    "start_time": "2021-09-10T14:41:25.955Z"
   },
   {
    "duration": 34,
    "start_time": "2021-09-10T14:41:25.965Z"
   },
   {
    "duration": 256,
    "start_time": "2021-09-10T14:41:26.001Z"
   },
   {
    "duration": 4,
    "start_time": "2021-09-10T14:41:26.260Z"
   },
   {
    "duration": 5811,
    "start_time": "2021-09-10T14:41:26.266Z"
   },
   {
    "duration": 168795,
    "start_time": "2021-09-10T14:41:32.079Z"
   },
   {
    "duration": 3,
    "start_time": "2021-09-10T14:44:20.876Z"
   },
   {
    "duration": 136,
    "start_time": "2021-09-10T14:45:06.728Z"
   },
   {
    "duration": 1344,
    "start_time": "2021-09-10T14:47:20.431Z"
   },
   {
    "duration": 37,
    "start_time": "2021-09-10T14:47:21.778Z"
   },
   {
    "duration": 41,
    "start_time": "2021-09-10T14:47:21.817Z"
   },
   {
    "duration": 9,
    "start_time": "2021-09-10T14:47:21.861Z"
   },
   {
    "duration": 81,
    "start_time": "2021-09-10T14:47:21.872Z"
   },
   {
    "duration": 9,
    "start_time": "2021-09-10T14:47:21.955Z"
   },
   {
    "duration": 14,
    "start_time": "2021-09-10T14:47:21.967Z"
   },
   {
    "duration": 23,
    "start_time": "2021-09-10T14:47:21.985Z"
   },
   {
    "duration": 8,
    "start_time": "2021-09-10T14:47:22.011Z"
   },
   {
    "duration": 39,
    "start_time": "2021-09-10T14:47:22.021Z"
   },
   {
    "duration": 19,
    "start_time": "2021-09-10T14:47:22.063Z"
   },
   {
    "duration": 11,
    "start_time": "2021-09-10T14:47:22.085Z"
   },
   {
    "duration": 15,
    "start_time": "2021-09-10T14:47:22.099Z"
   },
   {
    "duration": 9,
    "start_time": "2021-09-10T14:47:22.117Z"
   },
   {
    "duration": 9,
    "start_time": "2021-09-10T14:47:22.155Z"
   },
   {
    "duration": 7,
    "start_time": "2021-09-10T14:47:22.167Z"
   },
   {
    "duration": 13,
    "start_time": "2021-09-10T14:47:22.177Z"
   },
   {
    "duration": 12,
    "start_time": "2021-09-10T14:47:22.192Z"
   },
   {
    "duration": 11,
    "start_time": "2021-09-10T14:47:22.206Z"
   },
   {
    "duration": 54,
    "start_time": "2021-09-10T14:47:22.219Z"
   },
   {
    "duration": 17,
    "start_time": "2021-09-10T14:47:22.276Z"
   },
   {
    "duration": 13,
    "start_time": "2021-09-10T14:47:22.295Z"
   },
   {
    "duration": 115,
    "start_time": "2021-09-10T14:47:22.313Z"
   },
   {
    "duration": 668,
    "start_time": "2021-09-10T14:47:21.763Z"
   },
   {
    "duration": 653,
    "start_time": "2021-09-10T14:47:21.780Z"
   },
   {
    "duration": 647,
    "start_time": "2021-09-10T14:47:21.787Z"
   },
   {
    "duration": 646,
    "start_time": "2021-09-10T14:47:21.790Z"
   },
   {
    "duration": 645,
    "start_time": "2021-09-10T14:47:21.792Z"
   },
   {
    "duration": 644,
    "start_time": "2021-09-10T14:47:21.794Z"
   },
   {
    "duration": 644,
    "start_time": "2021-09-10T14:47:21.796Z"
   },
   {
    "duration": 641,
    "start_time": "2021-09-10T14:47:21.800Z"
   },
   {
    "duration": 640,
    "start_time": "2021-09-10T14:47:21.802Z"
   },
   {
    "duration": 640,
    "start_time": "2021-09-10T14:47:21.804Z"
   },
   {
    "duration": 639,
    "start_time": "2021-09-10T14:47:21.806Z"
   },
   {
    "duration": 638,
    "start_time": "2021-09-10T14:47:21.808Z"
   },
   {
    "duration": 638,
    "start_time": "2021-09-10T14:47:21.810Z"
   },
   {
    "duration": 637,
    "start_time": "2021-09-10T14:47:21.812Z"
   },
   {
    "duration": 634,
    "start_time": "2021-09-10T14:47:21.816Z"
   },
   {
    "duration": 629,
    "start_time": "2021-09-10T14:47:21.822Z"
   },
   {
    "duration": 629,
    "start_time": "2021-09-10T14:47:21.824Z"
   },
   {
    "duration": 628,
    "start_time": "2021-09-10T14:47:21.826Z"
   },
   {
    "duration": 628,
    "start_time": "2021-09-10T14:47:21.828Z"
   },
   {
    "duration": 626,
    "start_time": "2021-09-10T14:47:21.831Z"
   },
   {
    "duration": 1523,
    "start_time": "2021-09-10T14:48:31.977Z"
   },
   {
    "duration": 35,
    "start_time": "2021-09-10T14:48:33.503Z"
   },
   {
    "duration": 26,
    "start_time": "2021-09-10T14:48:33.541Z"
   },
   {
    "duration": 15,
    "start_time": "2021-09-10T14:48:33.570Z"
   },
   {
    "duration": 72,
    "start_time": "2021-09-10T14:48:33.587Z"
   },
   {
    "duration": 10,
    "start_time": "2021-09-10T14:48:33.661Z"
   },
   {
    "duration": 13,
    "start_time": "2021-09-10T14:48:33.674Z"
   },
   {
    "duration": 20,
    "start_time": "2021-09-10T14:48:33.691Z"
   },
   {
    "duration": 43,
    "start_time": "2021-09-10T14:48:33.713Z"
   },
   {
    "duration": 10,
    "start_time": "2021-09-10T14:48:33.759Z"
   },
   {
    "duration": 14,
    "start_time": "2021-09-10T14:48:33.771Z"
   },
   {
    "duration": 9,
    "start_time": "2021-09-10T14:48:33.788Z"
   },
   {
    "duration": 59,
    "start_time": "2021-09-10T14:48:33.799Z"
   },
   {
    "duration": 8,
    "start_time": "2021-09-10T14:48:33.861Z"
   },
   {
    "duration": 31,
    "start_time": "2021-09-10T14:48:33.872Z"
   },
   {
    "duration": 50,
    "start_time": "2021-09-10T14:48:33.905Z"
   },
   {
    "duration": 24,
    "start_time": "2021-09-10T14:48:33.957Z"
   },
   {
    "duration": 14,
    "start_time": "2021-09-10T14:48:33.984Z"
   },
   {
    "duration": 56,
    "start_time": "2021-09-10T14:48:34.001Z"
   },
   {
    "duration": 40,
    "start_time": "2021-09-10T14:48:34.059Z"
   },
   {
    "duration": 64,
    "start_time": "2021-09-10T14:48:34.102Z"
   },
   {
    "duration": 12,
    "start_time": "2021-09-10T14:48:34.169Z"
   },
   {
    "duration": 89,
    "start_time": "2021-09-10T14:48:34.186Z"
   },
   {
    "duration": 381,
    "start_time": "2021-09-10T14:48:33.897Z"
   },
   {
    "duration": 380,
    "start_time": "2021-09-10T14:48:33.899Z"
   },
   {
    "duration": 380,
    "start_time": "2021-09-10T14:48:33.901Z"
   },
   {
    "duration": 379,
    "start_time": "2021-09-10T14:48:33.903Z"
   },
   {
    "duration": 370,
    "start_time": "2021-09-10T14:48:33.914Z"
   },
   {
    "duration": 368,
    "start_time": "2021-09-10T14:48:33.917Z"
   },
   {
    "duration": 367,
    "start_time": "2021-09-10T14:48:33.919Z"
   },
   {
    "duration": 367,
    "start_time": "2021-09-10T14:48:33.921Z"
   },
   {
    "duration": 365,
    "start_time": "2021-09-10T14:48:33.924Z"
   },
   {
    "duration": 365,
    "start_time": "2021-09-10T14:48:33.926Z"
   },
   {
    "duration": 365,
    "start_time": "2021-09-10T14:48:33.927Z"
   },
   {
    "duration": 363,
    "start_time": "2021-09-10T14:48:33.931Z"
   },
   {
    "duration": 363,
    "start_time": "2021-09-10T14:48:33.932Z"
   },
   {
    "duration": 362,
    "start_time": "2021-09-10T14:48:33.934Z"
   },
   {
    "duration": 362,
    "start_time": "2021-09-10T14:48:33.936Z"
   },
   {
    "duration": 361,
    "start_time": "2021-09-10T14:48:33.938Z"
   },
   {
    "duration": 360,
    "start_time": "2021-09-10T14:48:33.940Z"
   },
   {
    "duration": 360,
    "start_time": "2021-09-10T14:48:33.942Z"
   },
   {
    "duration": 359,
    "start_time": "2021-09-10T14:48:33.944Z"
   },
   {
    "duration": 359,
    "start_time": "2021-09-10T14:48:33.945Z"
   },
   {
    "duration": 91,
    "start_time": "2021-09-10T14:49:13.289Z"
   },
   {
    "duration": 174,
    "start_time": "2021-09-10T14:49:28.384Z"
   },
   {
    "duration": 1344,
    "start_time": "2021-09-10T14:49:36.433Z"
   },
   {
    "duration": 36,
    "start_time": "2021-09-10T14:49:37.780Z"
   },
   {
    "duration": 38,
    "start_time": "2021-09-10T14:49:37.819Z"
   },
   {
    "duration": 4,
    "start_time": "2021-09-10T14:49:37.860Z"
   },
   {
    "duration": 64,
    "start_time": "2021-09-10T14:49:37.867Z"
   },
   {
    "duration": 26,
    "start_time": "2021-09-10T14:49:37.934Z"
   },
   {
    "duration": 13,
    "start_time": "2021-09-10T14:49:37.962Z"
   },
   {
    "duration": 32,
    "start_time": "2021-09-10T14:49:37.978Z"
   },
   {
    "duration": 41,
    "start_time": "2021-09-10T14:49:38.013Z"
   },
   {
    "duration": 8,
    "start_time": "2021-09-10T14:49:38.057Z"
   },
   {
    "duration": 25,
    "start_time": "2021-09-10T14:49:38.068Z"
   },
   {
    "duration": 18,
    "start_time": "2021-09-10T14:49:38.095Z"
   },
   {
    "duration": 30,
    "start_time": "2021-09-10T14:49:38.115Z"
   },
   {
    "duration": 32,
    "start_time": "2021-09-10T14:49:38.147Z"
   },
   {
    "duration": 20,
    "start_time": "2021-09-10T14:49:38.181Z"
   },
   {
    "duration": 14,
    "start_time": "2021-09-10T14:49:38.204Z"
   },
   {
    "duration": 27,
    "start_time": "2021-09-10T14:49:38.221Z"
   },
   {
    "duration": 38,
    "start_time": "2021-09-10T14:49:38.250Z"
   },
   {
    "duration": 16,
    "start_time": "2021-09-10T14:49:38.291Z"
   },
   {
    "duration": 32,
    "start_time": "2021-09-10T14:49:38.310Z"
   },
   {
    "duration": 41,
    "start_time": "2021-09-10T14:49:38.344Z"
   },
   {
    "duration": 11,
    "start_time": "2021-09-10T14:49:38.388Z"
   },
   {
    "duration": 144,
    "start_time": "2021-09-10T14:49:38.406Z"
   },
   {
    "duration": 671,
    "start_time": "2021-09-10T14:49:37.883Z"
   },
   {
    "duration": 671,
    "start_time": "2021-09-10T14:49:37.885Z"
   },
   {
    "duration": 659,
    "start_time": "2021-09-10T14:49:37.899Z"
   },
   {
    "duration": 658,
    "start_time": "2021-09-10T14:49:37.902Z"
   },
   {
    "duration": 656,
    "start_time": "2021-09-10T14:49:37.907Z"
   },
   {
    "duration": 656,
    "start_time": "2021-09-10T14:49:37.909Z"
   },
   {
    "duration": 654,
    "start_time": "2021-09-10T14:49:37.913Z"
   },
   {
    "duration": 648,
    "start_time": "2021-09-10T14:49:37.922Z"
   },
   {
    "duration": 647,
    "start_time": "2021-09-10T14:49:37.925Z"
   },
   {
    "duration": 647,
    "start_time": "2021-09-10T14:49:37.927Z"
   },
   {
    "duration": 647,
    "start_time": "2021-09-10T14:49:37.929Z"
   },
   {
    "duration": 647,
    "start_time": "2021-09-10T14:49:37.931Z"
   },
   {
    "duration": 641,
    "start_time": "2021-09-10T14:49:37.939Z"
   },
   {
    "duration": 606,
    "start_time": "2021-09-10T14:49:37.976Z"
   },
   {
    "duration": 606,
    "start_time": "2021-09-10T14:49:37.978Z"
   },
   {
    "duration": 603,
    "start_time": "2021-09-10T14:49:37.984Z"
   },
   {
    "duration": 602,
    "start_time": "2021-09-10T14:49:37.987Z"
   },
   {
    "duration": 599,
    "start_time": "2021-09-10T14:49:37.992Z"
   },
   {
    "duration": 598,
    "start_time": "2021-09-10T14:49:37.995Z"
   },
   {
    "duration": 597,
    "start_time": "2021-09-10T14:49:37.998Z"
   },
   {
    "duration": 91,
    "start_time": "2021-09-10T14:50:23.417Z"
   },
   {
    "duration": 1303,
    "start_time": "2021-09-10T14:50:40.583Z"
   },
   {
    "duration": 38,
    "start_time": "2021-09-10T14:50:41.888Z"
   },
   {
    "duration": 33,
    "start_time": "2021-09-10T14:50:41.929Z"
   },
   {
    "duration": 6,
    "start_time": "2021-09-10T14:50:41.966Z"
   },
   {
    "duration": 82,
    "start_time": "2021-09-10T14:50:41.974Z"
   },
   {
    "duration": 9,
    "start_time": "2021-09-10T14:50:42.058Z"
   },
   {
    "duration": 28,
    "start_time": "2021-09-10T14:50:42.069Z"
   },
   {
    "duration": 35,
    "start_time": "2021-09-10T14:50:42.101Z"
   },
   {
    "duration": 15,
    "start_time": "2021-09-10T14:50:42.140Z"
   },
   {
    "duration": 21,
    "start_time": "2021-09-10T14:50:42.158Z"
   },
   {
    "duration": 18,
    "start_time": "2021-09-10T14:50:42.181Z"
   },
   {
    "duration": 17,
    "start_time": "2021-09-10T14:50:42.202Z"
   },
   {
    "duration": 17,
    "start_time": "2021-09-10T14:50:42.221Z"
   },
   {
    "duration": 18,
    "start_time": "2021-09-10T14:50:42.240Z"
   },
   {
    "duration": 15,
    "start_time": "2021-09-10T14:50:42.261Z"
   },
   {
    "duration": 22,
    "start_time": "2021-09-10T14:50:42.278Z"
   },
   {
    "duration": 20,
    "start_time": "2021-09-10T14:50:42.302Z"
   },
   {
    "duration": 16,
    "start_time": "2021-09-10T14:50:42.325Z"
   },
   {
    "duration": 11,
    "start_time": "2021-09-10T14:50:42.343Z"
   },
   {
    "duration": 38,
    "start_time": "2021-09-10T14:50:42.356Z"
   },
   {
    "duration": 25,
    "start_time": "2021-09-10T14:50:42.396Z"
   },
   {
    "duration": 8,
    "start_time": "2021-09-10T14:50:42.423Z"
   },
   {
    "duration": 114,
    "start_time": "2021-09-10T14:50:42.436Z"
   },
   {
    "duration": 640,
    "start_time": "2021-09-10T14:50:41.913Z"
   },
   {
    "duration": 639,
    "start_time": "2021-09-10T14:50:41.915Z"
   },
   {
    "duration": 639,
    "start_time": "2021-09-10T14:50:41.917Z"
   },
   {
    "duration": 636,
    "start_time": "2021-09-10T14:50:41.921Z"
   },
   {
    "duration": 635,
    "start_time": "2021-09-10T14:50:41.923Z"
   },
   {
    "duration": 633,
    "start_time": "2021-09-10T14:50:41.926Z"
   },
   {
    "duration": 632,
    "start_time": "2021-09-10T14:50:41.928Z"
   },
   {
    "duration": 632,
    "start_time": "2021-09-10T14:50:41.930Z"
   },
   {
    "duration": 632,
    "start_time": "2021-09-10T14:50:41.931Z"
   },
   {
    "duration": 630,
    "start_time": "2021-09-10T14:50:41.934Z"
   },
   {
    "duration": 628,
    "start_time": "2021-09-10T14:50:41.937Z"
   },
   {
    "duration": 627,
    "start_time": "2021-09-10T14:50:41.939Z"
   },
   {
    "duration": 626,
    "start_time": "2021-09-10T14:50:41.941Z"
   },
   {
    "duration": 625,
    "start_time": "2021-09-10T14:50:41.944Z"
   },
   {
    "duration": 624,
    "start_time": "2021-09-10T14:50:41.946Z"
   },
   {
    "duration": 617,
    "start_time": "2021-09-10T14:50:41.954Z"
   },
   {
    "duration": 615,
    "start_time": "2021-09-10T14:50:41.957Z"
   },
   {
    "duration": 614,
    "start_time": "2021-09-10T14:50:41.959Z"
   },
   {
    "duration": 614,
    "start_time": "2021-09-10T14:50:41.961Z"
   },
   {
    "duration": 613,
    "start_time": "2021-09-10T14:50:41.963Z"
   },
   {
    "duration": 136,
    "start_time": "2021-09-10T14:51:37.915Z"
   },
   {
    "duration": 13,
    "start_time": "2021-09-10T14:52:10.475Z"
   },
   {
    "duration": 1366,
    "start_time": "2021-09-10T14:52:19.249Z"
   },
   {
    "duration": 37,
    "start_time": "2021-09-10T14:52:20.617Z"
   },
   {
    "duration": 27,
    "start_time": "2021-09-10T14:52:20.657Z"
   },
   {
    "duration": 8,
    "start_time": "2021-09-10T14:52:20.687Z"
   },
   {
    "duration": 97,
    "start_time": "2021-09-10T14:52:20.698Z"
   },
   {
    "duration": 9,
    "start_time": "2021-09-10T14:52:20.798Z"
   },
   {
    "duration": 36,
    "start_time": "2021-09-10T14:52:20.809Z"
   },
   {
    "duration": 33,
    "start_time": "2021-09-10T14:52:20.848Z"
   },
   {
    "duration": 9,
    "start_time": "2021-09-10T14:52:20.885Z"
   },
   {
    "duration": 27,
    "start_time": "2021-09-10T14:52:20.897Z"
   },
   {
    "duration": 33,
    "start_time": "2021-09-10T14:52:20.926Z"
   },
   {
    "duration": 22,
    "start_time": "2021-09-10T14:52:20.962Z"
   },
   {
    "duration": 38,
    "start_time": "2021-09-10T14:52:20.986Z"
   },
   {
    "duration": 21,
    "start_time": "2021-09-10T14:52:21.027Z"
   },
   {
    "duration": 21,
    "start_time": "2021-09-10T14:52:21.051Z"
   },
   {
    "duration": 21,
    "start_time": "2021-09-10T14:52:21.075Z"
   },
   {
    "duration": 30,
    "start_time": "2021-09-10T14:52:21.099Z"
   },
   {
    "duration": 20,
    "start_time": "2021-09-10T14:52:21.132Z"
   },
   {
    "duration": 23,
    "start_time": "2021-09-10T14:52:21.155Z"
   },
   {
    "duration": 32,
    "start_time": "2021-09-10T14:52:21.181Z"
   },
   {
    "duration": 16,
    "start_time": "2021-09-10T14:52:21.216Z"
   },
   {
    "duration": 12,
    "start_time": "2021-09-10T14:52:21.234Z"
   },
   {
    "duration": 17,
    "start_time": "2021-09-10T14:52:21.249Z"
   },
   {
    "duration": 20,
    "start_time": "2021-09-10T14:52:21.268Z"
   },
   {
    "duration": 20,
    "start_time": "2021-09-10T14:52:21.290Z"
   },
   {
    "duration": 20,
    "start_time": "2021-09-10T14:52:21.312Z"
   },
   {
    "duration": 28,
    "start_time": "2021-09-10T14:52:21.337Z"
   },
   {
    "duration": 94,
    "start_time": "2021-09-10T14:52:21.368Z"
   },
   {
    "duration": 193,
    "start_time": "2021-09-10T14:52:21.464Z"
   },
   {
    "duration": 8,
    "start_time": "2021-09-10T14:52:21.660Z"
   },
   {
    "duration": 5,
    "start_time": "2021-09-10T14:52:21.755Z"
   },
   {
    "duration": 865,
    "start_time": "2021-09-10T14:52:21.762Z"
   },
   {
    "duration": 25,
    "start_time": "2021-09-10T14:52:22.629Z"
   },
   {
    "duration": 206,
    "start_time": "2021-09-10T14:52:22.657Z"
   },
   {
    "duration": 13,
    "start_time": "2021-09-10T14:52:22.955Z"
   },
   {
    "duration": 183,
    "start_time": "2021-09-10T14:52:22.971Z"
   },
   {
    "duration": 18,
    "start_time": "2021-09-10T14:52:23.157Z"
   },
   {
    "duration": 8,
    "start_time": "2021-09-10T14:52:23.179Z"
   },
   {
    "duration": 175,
    "start_time": "2021-09-10T14:52:23.189Z"
   },
   {
    "duration": 4,
    "start_time": "2021-09-10T14:52:23.455Z"
   },
   {
    "duration": 5793,
    "start_time": "2021-09-10T14:52:23.461Z"
   },
   {
    "duration": 163787,
    "start_time": "2021-09-10T14:52:29.257Z"
   },
   {
    "duration": 8,
    "start_time": "2021-09-10T14:55:13.047Z"
   },
   {
    "duration": 30,
    "start_time": "2021-09-10T14:55:13.058Z"
   },
   {
    "duration": 10,
    "start_time": "2021-09-10T14:55:55.528Z"
   },
   {
    "duration": 5,
    "start_time": "2021-09-10T14:55:56.312Z"
   },
   {
    "duration": 8,
    "start_time": "2021-09-10T14:56:01.864Z"
   },
   {
    "duration": 6,
    "start_time": "2021-09-10T14:56:02.528Z"
   },
   {
    "duration": 1333,
    "start_time": "2021-09-10T14:56:33.457Z"
   },
   {
    "duration": 37,
    "start_time": "2021-09-10T14:56:34.792Z"
   },
   {
    "duration": 27,
    "start_time": "2021-09-10T14:56:34.832Z"
   },
   {
    "duration": 11,
    "start_time": "2021-09-10T14:56:34.862Z"
   },
   {
    "duration": 80,
    "start_time": "2021-09-10T14:56:34.876Z"
   },
   {
    "duration": 9,
    "start_time": "2021-09-10T14:56:34.959Z"
   },
   {
    "duration": 25,
    "start_time": "2021-09-10T14:56:34.970Z"
   },
   {
    "duration": 31,
    "start_time": "2021-09-10T14:56:35.001Z"
   },
   {
    "duration": 19,
    "start_time": "2021-09-10T14:56:35.036Z"
   },
   {
    "duration": 32,
    "start_time": "2021-09-10T14:56:35.058Z"
   },
   {
    "duration": 33,
    "start_time": "2021-09-10T14:56:35.093Z"
   },
   {
    "duration": 28,
    "start_time": "2021-09-10T14:56:35.129Z"
   },
   {
    "duration": 27,
    "start_time": "2021-09-10T14:56:35.160Z"
   },
   {
    "duration": 28,
    "start_time": "2021-09-10T14:56:35.190Z"
   },
   {
    "duration": 21,
    "start_time": "2021-09-10T14:56:35.220Z"
   },
   {
    "duration": 36,
    "start_time": "2021-09-10T14:56:35.244Z"
   },
   {
    "duration": 30,
    "start_time": "2021-09-10T14:56:35.282Z"
   },
   {
    "duration": 22,
    "start_time": "2021-09-10T14:56:35.315Z"
   },
   {
    "duration": 19,
    "start_time": "2021-09-10T14:56:35.340Z"
   },
   {
    "duration": 35,
    "start_time": "2021-09-10T14:56:35.362Z"
   },
   {
    "duration": 26,
    "start_time": "2021-09-10T14:56:35.400Z"
   },
   {
    "duration": 10,
    "start_time": "2021-09-10T14:56:35.429Z"
   },
   {
    "duration": 32,
    "start_time": "2021-09-10T14:56:35.444Z"
   },
   {
    "duration": 12,
    "start_time": "2021-09-10T14:56:35.479Z"
   },
   {
    "duration": 24,
    "start_time": "2021-09-10T14:56:35.494Z"
   },
   {
    "duration": 20,
    "start_time": "2021-09-10T14:56:35.521Z"
   },
   {
    "duration": 6,
    "start_time": "2021-09-10T14:57:14.293Z"
   },
   {
    "duration": 3,
    "start_time": "2021-09-10T14:57:18.165Z"
   },
   {
    "duration": 3,
    "start_time": "2021-09-10T14:57:19.293Z"
   },
   {
    "duration": 203,
    "start_time": "2021-09-10T14:57:20.054Z"
   },
   {
    "duration": 12,
    "start_time": "2021-09-10T14:57:21.285Z"
   },
   {
    "duration": 5,
    "start_time": "2021-09-10T14:57:22.085Z"
   },
   {
    "duration": 5,
    "start_time": "2021-09-10T14:57:22.678Z"
   },
   {
    "duration": 464,
    "start_time": "2021-09-10T14:57:23.526Z"
   },
   {
    "duration": 13,
    "start_time": "2021-09-10T15:00:31.333Z"
   },
   {
    "duration": 143,
    "start_time": "2021-09-10T15:00:32.219Z"
   },
   {
    "duration": 13,
    "start_time": "2021-09-10T15:00:33.900Z"
   },
   {
    "duration": 10,
    "start_time": "2021-09-10T15:00:34.468Z"
   },
   {
    "duration": 8,
    "start_time": "2021-09-10T15:00:35.051Z"
   },
   {
    "duration": 8,
    "start_time": "2021-09-10T15:00:35.460Z"
   },
   {
    "duration": 179,
    "start_time": "2021-09-10T15:00:39.676Z"
   },
   {
    "duration": 203,
    "start_time": "2021-09-10T15:03:39.254Z"
   },
   {
    "duration": 108,
    "start_time": "2021-09-10T15:04:27.453Z"
   },
   {
    "duration": 115,
    "start_time": "2021-09-10T15:04:56.345Z"
   },
   {
    "duration": 1324,
    "start_time": "2021-09-10T15:05:26.473Z"
   },
   {
    "duration": 36,
    "start_time": "2021-09-10T15:05:27.800Z"
   },
   {
    "duration": 31,
    "start_time": "2021-09-10T15:05:27.839Z"
   },
   {
    "duration": 10,
    "start_time": "2021-09-10T15:05:27.873Z"
   },
   {
    "duration": 76,
    "start_time": "2021-09-10T15:05:27.885Z"
   },
   {
    "duration": 9,
    "start_time": "2021-09-10T15:05:27.963Z"
   },
   {
    "duration": 14,
    "start_time": "2021-09-10T15:05:27.974Z"
   },
   {
    "duration": 20,
    "start_time": "2021-09-10T15:05:27.993Z"
   },
   {
    "duration": 41,
    "start_time": "2021-09-10T15:05:28.016Z"
   },
   {
    "duration": 16,
    "start_time": "2021-09-10T15:05:28.059Z"
   },
   {
    "duration": 8,
    "start_time": "2021-09-10T15:05:28.078Z"
   },
   {
    "duration": 11,
    "start_time": "2021-09-10T15:05:28.088Z"
   },
   {
    "duration": 9,
    "start_time": "2021-09-10T15:05:28.102Z"
   },
   {
    "duration": 46,
    "start_time": "2021-09-10T15:05:28.113Z"
   },
   {
    "duration": 9,
    "start_time": "2021-09-10T15:05:28.161Z"
   },
   {
    "duration": 5,
    "start_time": "2021-09-10T15:05:28.172Z"
   },
   {
    "duration": 12,
    "start_time": "2021-09-10T15:05:28.180Z"
   },
   {
    "duration": 17,
    "start_time": "2021-09-10T15:05:28.194Z"
   },
   {
    "duration": 40,
    "start_time": "2021-09-10T15:05:28.214Z"
   },
   {
    "duration": 19,
    "start_time": "2021-09-10T15:05:28.257Z"
   },
   {
    "duration": 31,
    "start_time": "2021-09-10T15:05:28.279Z"
   },
   {
    "duration": 22,
    "start_time": "2021-09-10T15:05:28.313Z"
   },
   {
    "duration": 20,
    "start_time": "2021-09-10T15:05:28.340Z"
   },
   {
    "duration": 22,
    "start_time": "2021-09-10T15:05:28.363Z"
   },
   {
    "duration": 29,
    "start_time": "2021-09-10T15:05:28.388Z"
   },
   {
    "duration": 22,
    "start_time": "2021-09-10T15:05:28.420Z"
   },
   {
    "duration": 20,
    "start_time": "2021-09-10T15:05:28.445Z"
   },
   {
    "duration": 35,
    "start_time": "2021-09-10T15:05:28.467Z"
   },
   {
    "duration": 151,
    "start_time": "2021-09-10T15:05:28.505Z"
   },
   {
    "duration": 104,
    "start_time": "2021-09-10T15:05:28.659Z"
   },
   {
    "duration": 9,
    "start_time": "2021-09-10T15:05:28.856Z"
   },
   {
    "duration": 94,
    "start_time": "2021-09-10T15:05:28.868Z"
   },
   {
    "duration": 500,
    "start_time": "2021-09-10T15:05:28.964Z"
   },
   {
    "duration": 12,
    "start_time": "2021-09-10T15:05:29.467Z"
   },
   {
    "duration": 173,
    "start_time": "2021-09-10T15:05:29.482Z"
   },
   {
    "duration": 11,
    "start_time": "2021-09-10T15:06:12.329Z"
   },
   {
    "duration": 8,
    "start_time": "2021-09-10T15:06:13.407Z"
   },
   {
    "duration": 8,
    "start_time": "2021-09-10T15:06:14.040Z"
   },
   {
    "duration": 8,
    "start_time": "2021-09-10T15:06:14.464Z"
   },
   {
    "duration": 183,
    "start_time": "2021-09-10T15:06:14.873Z"
   },
   {
    "duration": 3,
    "start_time": "2021-09-10T15:07:48.444Z"
   },
   {
    "duration": 5419,
    "start_time": "2021-09-10T15:07:49.256Z"
   },
   {
    "duration": 5442,
    "start_time": "2021-09-10T15:15:16.904Z"
   },
   {
    "duration": 98,
    "start_time": "2021-09-10T15:16:48.569Z"
   },
   {
    "duration": 5412,
    "start_time": "2021-09-10T15:17:01.830Z"
   },
   {
    "duration": 5472,
    "start_time": "2021-09-10T15:17:36.343Z"
   },
   {
    "duration": 5353,
    "start_time": "2021-09-10T15:17:47.622Z"
   },
   {
    "duration": 5489,
    "start_time": "2021-09-10T15:19:26.647Z"
   },
   {
    "duration": 5572,
    "start_time": "2021-09-10T15:22:10.736Z"
   },
   {
    "duration": 5407,
    "start_time": "2021-09-10T15:23:16.662Z"
   },
   {
    "duration": 5303,
    "start_time": "2021-09-10T15:24:12.676Z"
   },
   {
    "duration": 5339,
    "start_time": "2021-09-10T15:24:19.647Z"
   },
   {
    "duration": 5419,
    "start_time": "2021-09-10T15:24:37.546Z"
   },
   {
    "duration": 168513,
    "start_time": "2021-09-10T15:25:08.526Z"
   },
   {
    "duration": 415,
    "start_time": "2021-09-10T15:28:23.446Z"
   },
   {
    "duration": 164441,
    "start_time": "2021-09-10T15:28:43.277Z"
   },
   {
    "duration": 282,
    "start_time": "2021-09-10T15:33:33.700Z"
   },
   {
    "duration": 764,
    "start_time": "2021-09-10T15:34:00.469Z"
   },
   {
    "duration": 1338,
    "start_time": "2021-09-10T15:34:28.182Z"
   },
   {
    "duration": 993,
    "start_time": "2021-09-10T15:34:39.780Z"
   },
   {
    "duration": 616,
    "start_time": "2021-09-10T15:34:51.787Z"
   },
   {
    "duration": 870,
    "start_time": "2021-09-10T15:37:55.909Z"
   },
   {
    "duration": 5361,
    "start_time": "2021-09-10T15:38:13.364Z"
   },
   {
    "duration": 1270,
    "start_time": "2021-09-10T15:38:28.908Z"
   },
   {
    "duration": 639,
    "start_time": "2021-09-10T15:38:39.915Z"
   },
   {
    "duration": 1787,
    "start_time": "2021-09-10T15:38:47.492Z"
   },
   {
    "duration": 1205,
    "start_time": "2021-09-10T15:38:56.230Z"
   },
   {
    "duration": 975,
    "start_time": "2021-09-10T15:39:48.963Z"
   },
   {
    "duration": 844,
    "start_time": "2021-09-10T15:39:55.179Z"
   },
   {
    "duration": 973,
    "start_time": "2021-09-10T15:40:00.028Z"
   },
   {
    "duration": 45,
    "start_time": "2021-09-10T15:41:21.707Z"
   },
   {
    "duration": 51,
    "start_time": "2021-09-10T15:42:09.609Z"
   },
   {
    "duration": 1278,
    "start_time": "2021-09-10T15:42:46.289Z"
   },
   {
    "duration": 37,
    "start_time": "2021-09-10T15:42:47.569Z"
   },
   {
    "duration": 27,
    "start_time": "2021-09-10T15:42:47.608Z"
   },
   {
    "duration": 17,
    "start_time": "2021-09-10T15:42:47.638Z"
   },
   {
    "duration": 60,
    "start_time": "2021-09-10T15:42:47.658Z"
   },
   {
    "duration": 34,
    "start_time": "2021-09-10T15:42:47.720Z"
   },
   {
    "duration": 11,
    "start_time": "2021-09-10T15:42:47.756Z"
   },
   {
    "duration": 36,
    "start_time": "2021-09-10T15:42:47.771Z"
   },
   {
    "duration": 8,
    "start_time": "2021-09-10T15:42:47.810Z"
   },
   {
    "duration": 14,
    "start_time": "2021-09-10T15:42:47.820Z"
   },
   {
    "duration": 8,
    "start_time": "2021-09-10T15:42:47.855Z"
   },
   {
    "duration": 21,
    "start_time": "2021-09-10T15:42:47.865Z"
   },
   {
    "duration": 26,
    "start_time": "2021-09-10T15:42:47.889Z"
   },
   {
    "duration": 20,
    "start_time": "2021-09-10T15:42:47.917Z"
   },
   {
    "duration": 29,
    "start_time": "2021-09-10T15:42:47.940Z"
   },
   {
    "duration": 44,
    "start_time": "2021-09-10T15:42:47.971Z"
   },
   {
    "duration": 20,
    "start_time": "2021-09-10T15:42:48.017Z"
   },
   {
    "duration": 21,
    "start_time": "2021-09-10T15:42:48.040Z"
   },
   {
    "duration": 11,
    "start_time": "2021-09-10T15:42:48.064Z"
   },
   {
    "duration": 21,
    "start_time": "2021-09-10T15:42:48.077Z"
   },
   {
    "duration": 16,
    "start_time": "2021-09-10T15:42:48.101Z"
   },
   {
    "duration": 14,
    "start_time": "2021-09-10T15:42:48.119Z"
   },
   {
    "duration": 12,
    "start_time": "2021-09-10T15:42:48.155Z"
   },
   {
    "duration": 8,
    "start_time": "2021-09-10T15:42:48.170Z"
   },
   {
    "duration": 21,
    "start_time": "2021-09-10T15:42:48.180Z"
   },
   {
    "duration": 11,
    "start_time": "2021-09-10T15:42:48.204Z"
   },
   {
    "duration": 8,
    "start_time": "2021-09-10T15:42:48.217Z"
   },
   {
    "duration": 14,
    "start_time": "2021-09-10T15:42:48.228Z"
   },
   {
    "duration": 213,
    "start_time": "2021-09-10T15:42:48.245Z"
   },
   {
    "duration": 101,
    "start_time": "2021-09-10T15:42:48.461Z"
   },
   {
    "duration": 94,
    "start_time": "2021-09-10T15:42:48.566Z"
   },
   {
    "duration": 106,
    "start_time": "2021-09-10T15:42:48.664Z"
   },
   {
    "duration": 821,
    "start_time": "2021-09-10T15:42:48.772Z"
   },
   {
    "duration": 12,
    "start_time": "2021-09-10T15:42:49.596Z"
   },
   {
    "duration": 154,
    "start_time": "2021-09-10T15:42:49.610Z"
   },
   {
    "duration": 98,
    "start_time": "2021-09-10T15:42:49.856Z"
   },
   {
    "duration": 101,
    "start_time": "2021-09-10T15:42:49.959Z"
   },
   {
    "duration": 38,
    "start_time": "2021-09-10T15:42:50.062Z"
   },
   {
    "duration": 45,
    "start_time": "2021-09-10T15:42:50.102Z"
   },
   {
    "duration": 206,
    "start_time": "2021-09-10T15:42:50.150Z"
   },
   {
    "duration": 95,
    "start_time": "2021-09-10T15:42:50.359Z"
   },
   {
    "duration": 5520,
    "start_time": "2021-09-10T15:42:50.457Z"
   },
   {
    "duration": 995,
    "start_time": "2021-09-10T15:42:55.980Z"
   },
   {
    "duration": 49,
    "start_time": "2021-09-10T15:42:56.978Z"
   },
   {
    "duration": 642,
    "start_time": "2021-09-10T15:43:17.225Z"
   },
   {
    "duration": 1342,
    "start_time": "2021-09-10T15:43:28.161Z"
   },
   {
    "duration": 37,
    "start_time": "2021-09-10T15:43:29.506Z"
   },
   {
    "duration": 33,
    "start_time": "2021-09-10T15:43:29.546Z"
   },
   {
    "duration": 26,
    "start_time": "2021-09-10T15:43:29.582Z"
   },
   {
    "duration": 78,
    "start_time": "2021-09-10T15:43:29.611Z"
   },
   {
    "duration": 9,
    "start_time": "2021-09-10T15:43:29.692Z"
   },
   {
    "duration": 20,
    "start_time": "2021-09-10T15:43:29.704Z"
   },
   {
    "duration": 54,
    "start_time": "2021-09-10T15:43:29.730Z"
   },
   {
    "duration": 8,
    "start_time": "2021-09-10T15:43:29.787Z"
   },
   {
    "duration": 36,
    "start_time": "2021-09-10T15:43:29.797Z"
   },
   {
    "duration": 13,
    "start_time": "2021-09-10T15:43:29.836Z"
   },
   {
    "duration": 10,
    "start_time": "2021-09-10T15:43:29.855Z"
   },
   {
    "duration": 13,
    "start_time": "2021-09-10T15:43:29.867Z"
   },
   {
    "duration": 23,
    "start_time": "2021-09-10T15:43:29.882Z"
   },
   {
    "duration": 11,
    "start_time": "2021-09-10T15:43:29.907Z"
   },
   {
    "duration": 23,
    "start_time": "2021-09-10T15:43:29.920Z"
   },
   {
    "duration": 16,
    "start_time": "2021-09-10T15:43:29.945Z"
   },
   {
    "duration": 23,
    "start_time": "2021-09-10T15:43:29.963Z"
   },
   {
    "duration": 9,
    "start_time": "2021-09-10T15:43:29.988Z"
   },
   {
    "duration": 44,
    "start_time": "2021-09-10T15:43:29.999Z"
   },
   {
    "duration": 27,
    "start_time": "2021-09-10T15:43:30.046Z"
   },
   {
    "duration": 27,
    "start_time": "2021-09-10T15:43:30.076Z"
   },
   {
    "duration": 23,
    "start_time": "2021-09-10T15:43:30.109Z"
   },
   {
    "duration": 21,
    "start_time": "2021-09-10T15:43:30.135Z"
   },
   {
    "duration": 27,
    "start_time": "2021-09-10T15:43:30.159Z"
   },
   {
    "duration": 30,
    "start_time": "2021-09-10T15:43:30.188Z"
   },
   {
    "duration": 15,
    "start_time": "2021-09-10T15:43:30.220Z"
   },
   {
    "duration": 21,
    "start_time": "2021-09-10T15:43:30.237Z"
   },
   {
    "duration": 193,
    "start_time": "2021-09-10T15:43:30.261Z"
   },
   {
    "duration": 197,
    "start_time": "2021-09-10T15:43:30.458Z"
   },
   {
    "duration": 16,
    "start_time": "2021-09-10T15:43:30.658Z"
   },
   {
    "duration": 79,
    "start_time": "2021-09-10T15:43:30.676Z"
   },
   {
    "duration": 557,
    "start_time": "2021-09-10T15:43:30.757Z"
   },
   {
    "duration": 12,
    "start_time": "2021-09-10T15:43:31.316Z"
   },
   {
    "duration": 224,
    "start_time": "2021-09-10T15:43:31.331Z"
   },
   {
    "duration": 108,
    "start_time": "2021-09-10T15:43:31.558Z"
   },
   {
    "duration": 9,
    "start_time": "2021-09-10T15:43:31.756Z"
   },
   {
    "duration": 23,
    "start_time": "2021-09-10T15:43:31.767Z"
   },
   {
    "duration": 9,
    "start_time": "2021-09-10T15:43:31.793Z"
   },
   {
    "duration": 253,
    "start_time": "2021-09-10T15:43:31.804Z"
   },
   {
    "duration": 4,
    "start_time": "2021-09-10T15:43:32.059Z"
   },
   {
    "duration": 6647,
    "start_time": "2021-09-10T15:43:32.066Z"
   },
   {
    "duration": 671,
    "start_time": "2021-09-10T15:43:38.716Z"
   },
   {
    "duration": 38,
    "start_time": "2021-09-10T15:43:39.390Z"
   },
   {
    "duration": 694,
    "start_time": "2021-09-10T15:45:56.921Z"
   },
   {
    "duration": 37,
    "start_time": "2021-09-10T15:46:05.577Z"
   },
   {
    "duration": 1417,
    "start_time": "2021-09-10T15:46:35.061Z"
   },
   {
    "duration": 36,
    "start_time": "2021-09-10T15:46:36.480Z"
   },
   {
    "duration": 38,
    "start_time": "2021-09-10T15:46:36.519Z"
   },
   {
    "duration": 13,
    "start_time": "2021-09-10T15:46:36.560Z"
   },
   {
    "duration": 80,
    "start_time": "2021-09-10T15:46:36.576Z"
   },
   {
    "duration": 9,
    "start_time": "2021-09-10T15:46:36.659Z"
   },
   {
    "duration": 36,
    "start_time": "2021-09-10T15:46:36.671Z"
   },
   {
    "duration": 43,
    "start_time": "2021-09-10T15:46:36.711Z"
   },
   {
    "duration": 21,
    "start_time": "2021-09-10T15:46:36.757Z"
   },
   {
    "duration": 38,
    "start_time": "2021-09-10T15:46:36.780Z"
   },
   {
    "duration": 19,
    "start_time": "2021-09-10T15:46:36.821Z"
   },
   {
    "duration": 26,
    "start_time": "2021-09-10T15:46:36.843Z"
   },
   {
    "duration": 23,
    "start_time": "2021-09-10T15:46:36.872Z"
   },
   {
    "duration": 19,
    "start_time": "2021-09-10T15:46:36.898Z"
   },
   {
    "duration": 27,
    "start_time": "2021-09-10T15:46:36.920Z"
   },
   {
    "duration": 22,
    "start_time": "2021-09-10T15:46:36.950Z"
   },
   {
    "duration": 34,
    "start_time": "2021-09-10T15:46:36.975Z"
   },
   {
    "duration": 21,
    "start_time": "2021-09-10T15:46:37.013Z"
   },
   {
    "duration": 18,
    "start_time": "2021-09-10T15:46:37.037Z"
   },
   {
    "duration": 40,
    "start_time": "2021-09-10T15:46:37.057Z"
   },
   {
    "duration": 48,
    "start_time": "2021-09-10T15:46:37.100Z"
   },
   {
    "duration": 21,
    "start_time": "2021-09-10T15:46:37.150Z"
   },
   {
    "duration": 36,
    "start_time": "2021-09-10T15:46:37.176Z"
   },
   {
    "duration": 18,
    "start_time": "2021-09-10T15:46:37.215Z"
   },
   {
    "duration": 33,
    "start_time": "2021-09-10T15:46:37.235Z"
   },
   {
    "duration": 25,
    "start_time": "2021-09-10T15:46:37.270Z"
   },
   {
    "duration": 23,
    "start_time": "2021-09-10T15:46:37.297Z"
   },
   {
    "duration": 30,
    "start_time": "2021-09-10T15:46:37.323Z"
   },
   {
    "duration": 108,
    "start_time": "2021-09-10T15:46:37.355Z"
   },
   {
    "duration": 98,
    "start_time": "2021-09-10T15:46:37.467Z"
   },
   {
    "duration": 99,
    "start_time": "2021-09-10T15:46:37.657Z"
   },
   {
    "duration": 4,
    "start_time": "2021-09-10T15:46:37.758Z"
   },
   {
    "duration": 633,
    "start_time": "2021-09-10T15:46:37.765Z"
   },
   {
    "duration": 14,
    "start_time": "2021-09-10T15:46:38.400Z"
   },
   {
    "duration": 339,
    "start_time": "2021-09-10T15:46:38.417Z"
   },
   {
    "duration": 97,
    "start_time": "2021-09-10T15:46:38.759Z"
   },
   {
    "duration": 96,
    "start_time": "2021-09-10T15:46:38.860Z"
   },
   {
    "duration": 15,
    "start_time": "2021-09-10T15:46:38.959Z"
   },
   {
    "duration": 18,
    "start_time": "2021-09-10T15:46:38.977Z"
   },
   {
    "duration": 261,
    "start_time": "2021-09-10T15:46:38.998Z"
   },
   {
    "duration": 5,
    "start_time": "2021-09-10T15:46:39.263Z"
   },
   {
    "duration": 5533,
    "start_time": "2021-09-10T15:46:39.272Z"
   },
   {
    "duration": 750,
    "start_time": "2021-09-10T15:46:44.807Z"
   },
   {
    "duration": 36,
    "start_time": "2021-09-10T15:46:45.560Z"
   },
   {
    "duration": 167,
    "start_time": "2021-09-10T15:47:41.494Z"
   },
   {
    "duration": 43,
    "start_time": "2021-09-10T15:48:21.510Z"
   },
   {
    "duration": 11,
    "start_time": "2021-09-10T15:48:35.293Z"
   },
   {
    "duration": 41,
    "start_time": "2021-09-10T15:49:14.109Z"
   },
   {
    "duration": 39,
    "start_time": "2021-09-10T15:49:28.261Z"
   },
   {
    "duration": 1451,
    "start_time": "2021-09-10T15:49:35.123Z"
   },
   {
    "duration": 37,
    "start_time": "2021-09-10T15:49:36.577Z"
   },
   {
    "duration": 27,
    "start_time": "2021-09-10T15:49:36.617Z"
   },
   {
    "duration": 15,
    "start_time": "2021-09-10T15:49:36.655Z"
   },
   {
    "duration": 79,
    "start_time": "2021-09-10T15:49:36.673Z"
   },
   {
    "duration": 9,
    "start_time": "2021-09-10T15:49:36.754Z"
   },
   {
    "duration": 18,
    "start_time": "2021-09-10T15:49:36.765Z"
   },
   {
    "duration": 27,
    "start_time": "2021-09-10T15:49:36.788Z"
   },
   {
    "duration": 8,
    "start_time": "2021-09-10T15:49:36.818Z"
   },
   {
    "duration": 33,
    "start_time": "2021-09-10T15:49:36.828Z"
   },
   {
    "duration": 36,
    "start_time": "2021-09-10T15:49:36.863Z"
   },
   {
    "duration": 17,
    "start_time": "2021-09-10T15:49:36.902Z"
   },
   {
    "duration": 29,
    "start_time": "2021-09-10T15:49:36.921Z"
   },
   {
    "duration": 21,
    "start_time": "2021-09-10T15:49:36.953Z"
   },
   {
    "duration": 20,
    "start_time": "2021-09-10T15:49:36.977Z"
   },
   {
    "duration": 20,
    "start_time": "2021-09-10T15:49:36.999Z"
   },
   {
    "duration": 17,
    "start_time": "2021-09-10T15:49:37.022Z"
   },
   {
    "duration": 8,
    "start_time": "2021-09-10T15:49:37.042Z"
   },
   {
    "duration": 6,
    "start_time": "2021-09-10T15:49:37.053Z"
   },
   {
    "duration": 33,
    "start_time": "2021-09-10T15:49:37.062Z"
   },
   {
    "duration": 17,
    "start_time": "2021-09-10T15:49:37.097Z"
   },
   {
    "duration": 8,
    "start_time": "2021-09-10T15:49:37.116Z"
   },
   {
    "duration": 31,
    "start_time": "2021-09-10T15:49:37.130Z"
   },
   {
    "duration": 11,
    "start_time": "2021-09-10T15:49:37.163Z"
   },
   {
    "duration": 10,
    "start_time": "2021-09-10T15:49:37.176Z"
   },
   {
    "duration": 8,
    "start_time": "2021-09-10T15:49:37.188Z"
   },
   {
    "duration": 6,
    "start_time": "2021-09-10T15:49:37.198Z"
   },
   {
    "duration": 8,
    "start_time": "2021-09-10T15:49:37.206Z"
   },
   {
    "duration": 145,
    "start_time": "2021-09-10T15:49:37.216Z"
   },
   {
    "duration": 98,
    "start_time": "2021-09-10T15:49:37.364Z"
   },
   {
    "duration": 94,
    "start_time": "2021-09-10T15:49:37.466Z"
   },
   {
    "duration": 5,
    "start_time": "2021-09-10T15:49:37.655Z"
   },
   {
    "duration": 502,
    "start_time": "2021-09-10T15:49:37.662Z"
   },
   {
    "duration": 13,
    "start_time": "2021-09-10T15:49:38.167Z"
   },
   {
    "duration": 174,
    "start_time": "2021-09-10T15:49:38.182Z"
   },
   {
    "duration": 196,
    "start_time": "2021-09-10T15:49:38.360Z"
   },
   {
    "duration": 104,
    "start_time": "2021-09-10T15:49:38.559Z"
   },
   {
    "duration": 12,
    "start_time": "2021-09-10T15:49:38.756Z"
   },
   {
    "duration": 6,
    "start_time": "2021-09-10T15:49:38.855Z"
   },
   {
    "duration": 11,
    "start_time": "2021-09-10T15:49:38.863Z"
   },
   {
    "duration": 280,
    "start_time": "2021-09-10T15:49:38.876Z"
   },
   {
    "duration": 6,
    "start_time": "2021-09-10T15:49:39.159Z"
   },
   {
    "duration": 5923,
    "start_time": "2021-09-10T15:49:39.168Z"
   },
   {
    "duration": 616,
    "start_time": "2021-09-10T15:49:45.094Z"
   },
   {
    "duration": 51,
    "start_time": "2021-09-10T15:49:45.713Z"
   },
   {
    "duration": 35,
    "start_time": "2021-09-10T15:49:45.766Z"
   },
   {
    "duration": 58,
    "start_time": "2021-09-10T15:49:45.804Z"
   },
   {
    "duration": 6,
    "start_time": "2021-09-10T15:51:18.977Z"
   },
   {
    "duration": 4,
    "start_time": "2021-09-10T15:51:34.594Z"
   },
   {
    "duration": 523,
    "start_time": "2021-09-10T15:51:47.464Z"
   },
   {
    "duration": 1278,
    "start_time": "2021-09-10T15:52:02.603Z"
   },
   {
    "duration": 36,
    "start_time": "2021-09-10T15:52:03.884Z"
   },
   {
    "duration": 33,
    "start_time": "2021-09-10T15:52:03.923Z"
   },
   {
    "duration": 24,
    "start_time": "2021-09-10T15:52:03.959Z"
   },
   {
    "duration": 86,
    "start_time": "2021-09-10T15:52:03.985Z"
   },
   {
    "duration": 9,
    "start_time": "2021-09-10T15:52:04.073Z"
   },
   {
    "duration": 29,
    "start_time": "2021-09-10T15:52:04.084Z"
   },
   {
    "duration": 25,
    "start_time": "2021-09-10T15:52:04.116Z"
   },
   {
    "duration": 12,
    "start_time": "2021-09-10T15:52:04.144Z"
   },
   {
    "duration": 20,
    "start_time": "2021-09-10T15:52:04.158Z"
   },
   {
    "duration": 27,
    "start_time": "2021-09-10T15:52:04.180Z"
   },
   {
    "duration": 29,
    "start_time": "2021-09-10T15:52:04.209Z"
   },
   {
    "duration": 25,
    "start_time": "2021-09-10T15:52:04.241Z"
   },
   {
    "duration": 10,
    "start_time": "2021-09-10T15:52:04.268Z"
   },
   {
    "duration": 30,
    "start_time": "2021-09-10T15:52:04.280Z"
   },
   {
    "duration": 15,
    "start_time": "2021-09-10T15:52:04.312Z"
   },
   {
    "duration": 22,
    "start_time": "2021-09-10T15:52:04.329Z"
   },
   {
    "duration": 23,
    "start_time": "2021-09-10T15:52:04.353Z"
   },
   {
    "duration": 14,
    "start_time": "2021-09-10T15:52:04.378Z"
   },
   {
    "duration": 27,
    "start_time": "2021-09-10T15:52:04.394Z"
   },
   {
    "duration": 41,
    "start_time": "2021-09-10T15:52:04.423Z"
   },
   {
    "duration": 26,
    "start_time": "2021-09-10T15:52:04.466Z"
   },
   {
    "duration": 23,
    "start_time": "2021-09-10T15:52:04.497Z"
   },
   {
    "duration": 16,
    "start_time": "2021-09-10T15:52:04.523Z"
   },
   {
    "duration": 24,
    "start_time": "2021-09-10T15:52:04.541Z"
   },
   {
    "duration": 17,
    "start_time": "2021-09-10T15:52:04.567Z"
   },
   {
    "duration": 18,
    "start_time": "2021-09-10T15:52:04.586Z"
   },
   {
    "duration": 20,
    "start_time": "2021-09-10T15:52:04.606Z"
   },
   {
    "duration": 132,
    "start_time": "2021-09-10T15:52:04.628Z"
   },
   {
    "duration": 104,
    "start_time": "2021-09-10T15:52:04.762Z"
   },
   {
    "duration": 104,
    "start_time": "2021-09-10T15:52:04.960Z"
   },
   {
    "duration": 190,
    "start_time": "2021-09-10T15:52:05.066Z"
   },
   {
    "duration": 103,
    "start_time": "2021-09-10T15:52:05.259Z"
   },
   {
    "duration": 99,
    "start_time": "2021-09-10T15:52:05.456Z"
   },
   {
    "duration": 101,
    "start_time": "2021-09-10T15:52:05.559Z"
   },
   {
    "duration": 41,
    "start_time": "2021-09-10T15:52:05.663Z"
   },
   {
    "duration": 37,
    "start_time": "2021-09-10T15:52:05.707Z"
   },
   {
    "duration": 210,
    "start_time": "2021-09-10T15:52:05.746Z"
   },
   {
    "duration": 94,
    "start_time": "2021-09-10T15:52:05.961Z"
   },
   {
    "duration": 5525,
    "start_time": "2021-09-10T15:52:06.057Z"
   },
   {
    "duration": 675,
    "start_time": "2021-09-10T15:52:11.584Z"
   },
   {
    "duration": 42,
    "start_time": "2021-09-10T15:52:12.262Z"
   },
   {
    "duration": 7,
    "start_time": "2021-09-10T15:52:12.307Z"
   },
   {
    "duration": 39,
    "start_time": "2021-09-10T15:52:12.316Z"
   },
   {
    "duration": 580,
    "start_time": "2021-09-10T15:52:12.358Z"
   },
   {
    "duration": 49,
    "start_time": "2021-09-10T15:52:12.941Z"
   },
   {
    "duration": 72,
    "start_time": "2021-09-10T15:52:12.992Z"
   },
   {
    "duration": 1029,
    "start_time": "2021-09-10T15:57:09.695Z"
   },
   {
    "duration": 900,
    "start_time": "2021-09-10T15:57:27.569Z"
   },
   {
    "duration": 949,
    "start_time": "2021-09-10T15:58:16.850Z"
   },
   {
    "duration": 863,
    "start_time": "2021-09-10T15:58:30.393Z"
   },
   {
    "duration": 1342,
    "start_time": "2021-09-10T15:59:19.677Z"
   },
   {
    "duration": 37,
    "start_time": "2021-09-10T15:59:21.021Z"
   },
   {
    "duration": 28,
    "start_time": "2021-09-10T15:59:21.061Z"
   },
   {
    "duration": 19,
    "start_time": "2021-09-10T15:59:21.092Z"
   },
   {
    "duration": 79,
    "start_time": "2021-09-10T15:59:21.114Z"
   },
   {
    "duration": 9,
    "start_time": "2021-09-10T15:59:21.195Z"
   },
   {
    "duration": 35,
    "start_time": "2021-09-10T15:59:21.206Z"
   },
   {
    "duration": 22,
    "start_time": "2021-09-10T15:59:21.245Z"
   },
   {
    "duration": 18,
    "start_time": "2021-09-10T15:59:21.270Z"
   },
   {
    "duration": 43,
    "start_time": "2021-09-10T15:59:21.291Z"
   },
   {
    "duration": 29,
    "start_time": "2021-09-10T15:59:21.336Z"
   },
   {
    "duration": 26,
    "start_time": "2021-09-10T15:59:21.367Z"
   },
   {
    "duration": 32,
    "start_time": "2021-09-10T15:59:21.395Z"
   },
   {
    "duration": 36,
    "start_time": "2021-09-10T15:59:21.429Z"
   },
   {
    "duration": 21,
    "start_time": "2021-09-10T15:59:21.467Z"
   },
   {
    "duration": 25,
    "start_time": "2021-09-10T15:59:21.491Z"
   },
   {
    "duration": 35,
    "start_time": "2021-09-10T15:59:21.518Z"
   },
   {
    "duration": 39,
    "start_time": "2021-09-10T15:59:21.555Z"
   },
   {
    "duration": 29,
    "start_time": "2021-09-10T15:59:21.597Z"
   },
   {
    "duration": 46,
    "start_time": "2021-09-10T15:59:21.628Z"
   },
   {
    "duration": 26,
    "start_time": "2021-09-10T15:59:21.676Z"
   },
   {
    "duration": 27,
    "start_time": "2021-09-10T15:59:21.704Z"
   },
   {
    "duration": 31,
    "start_time": "2021-09-10T15:59:21.736Z"
   },
   {
    "duration": 20,
    "start_time": "2021-09-10T15:59:21.770Z"
   },
   {
    "duration": 39,
    "start_time": "2021-09-10T15:59:21.793Z"
   },
   {
    "duration": 31,
    "start_time": "2021-09-10T15:59:21.835Z"
   },
   {
    "duration": 26,
    "start_time": "2021-09-10T15:59:21.869Z"
   },
   {
    "duration": 28,
    "start_time": "2021-09-10T15:59:21.897Z"
   },
   {
    "duration": 135,
    "start_time": "2021-09-10T15:59:21.927Z"
   },
   {
    "duration": 16,
    "start_time": "2021-09-10T15:59:22.155Z"
   },
   {
    "duration": 102,
    "start_time": "2021-09-10T15:59:22.262Z"
   },
   {
    "duration": 192,
    "start_time": "2021-09-10T15:59:22.367Z"
   },
   {
    "duration": 101,
    "start_time": "2021-09-10T15:59:22.562Z"
   },
   {
    "duration": 190,
    "start_time": "2021-09-10T15:59:22.666Z"
   },
   {
    "duration": 96,
    "start_time": "2021-09-10T15:59:22.860Z"
   },
   {
    "duration": 17,
    "start_time": "2021-09-10T15:59:22.959Z"
   },
   {
    "duration": 11,
    "start_time": "2021-09-10T15:59:22.979Z"
   },
   {
    "duration": 170,
    "start_time": "2021-09-10T15:59:22.992Z"
   },
   {
    "duration": 4,
    "start_time": "2021-09-10T15:59:23.254Z"
   },
   {
    "duration": 5781,
    "start_time": "2021-09-10T15:59:23.261Z"
   },
   {
    "duration": 925,
    "start_time": "2021-09-10T15:59:29.045Z"
   },
   {
    "duration": 42,
    "start_time": "2021-09-10T15:59:29.973Z"
   },
   {
    "duration": 6,
    "start_time": "2021-09-10T15:59:30.018Z"
   },
   {
    "duration": 42,
    "start_time": "2021-09-10T15:59:30.055Z"
   },
   {
    "duration": 830,
    "start_time": "2021-09-10T15:59:30.101Z"
   },
   {
    "duration": 1034,
    "start_time": "2021-09-10T15:59:30.934Z"
   },
   {
    "duration": -312,
    "start_time": "2021-09-10T15:59:32.283Z"
   },
   {
    "duration": -314,
    "start_time": "2021-09-10T15:59:32.287Z"
   },
   {
    "duration": 866,
    "start_time": "2021-09-10T15:59:52.270Z"
   },
   {
    "duration": 344,
    "start_time": "2021-09-10T16:00:22.125Z"
   },
   {
    "duration": 1449,
    "start_time": "2021-09-10T16:00:40.355Z"
   },
   {
    "duration": 40,
    "start_time": "2021-09-10T16:00:41.807Z"
   },
   {
    "duration": 40,
    "start_time": "2021-09-10T16:00:41.851Z"
   },
   {
    "duration": 31,
    "start_time": "2021-09-10T16:00:41.895Z"
   },
   {
    "duration": 84,
    "start_time": "2021-09-10T16:00:41.929Z"
   },
   {
    "duration": 12,
    "start_time": "2021-09-10T16:00:42.016Z"
   },
   {
    "duration": 36,
    "start_time": "2021-09-10T16:00:42.031Z"
   },
   {
    "duration": 40,
    "start_time": "2021-09-10T16:00:42.073Z"
   },
   {
    "duration": 20,
    "start_time": "2021-09-10T16:00:42.117Z"
   },
   {
    "duration": 29,
    "start_time": "2021-09-10T16:00:42.140Z"
   },
   {
    "duration": 19,
    "start_time": "2021-09-10T16:00:42.172Z"
   },
   {
    "duration": 34,
    "start_time": "2021-09-10T16:00:42.194Z"
   },
   {
    "duration": 35,
    "start_time": "2021-09-10T16:00:42.230Z"
   },
   {
    "duration": 26,
    "start_time": "2021-09-10T16:00:42.267Z"
   },
   {
    "duration": 36,
    "start_time": "2021-09-10T16:00:42.295Z"
   },
   {
    "duration": 30,
    "start_time": "2021-09-10T16:00:42.333Z"
   },
   {
    "duration": 30,
    "start_time": "2021-09-10T16:00:42.365Z"
   },
   {
    "duration": 25,
    "start_time": "2021-09-10T16:00:42.398Z"
   },
   {
    "duration": 27,
    "start_time": "2021-09-10T16:00:42.425Z"
   },
   {
    "duration": 46,
    "start_time": "2021-09-10T16:00:42.454Z"
   },
   {
    "duration": 30,
    "start_time": "2021-09-10T16:00:42.503Z"
   },
   {
    "duration": 16,
    "start_time": "2021-09-10T16:00:42.536Z"
   },
   {
    "duration": 38,
    "start_time": "2021-09-10T16:00:42.557Z"
   },
   {
    "duration": 21,
    "start_time": "2021-09-10T16:00:42.598Z"
   },
   {
    "duration": 26,
    "start_time": "2021-09-10T16:00:42.622Z"
   },
   {
    "duration": 23,
    "start_time": "2021-09-10T16:00:42.650Z"
   },
   {
    "duration": 40,
    "start_time": "2021-09-10T16:00:42.676Z"
   },
   {
    "duration": 30,
    "start_time": "2021-09-10T16:00:42.719Z"
   },
   {
    "duration": 211,
    "start_time": "2021-09-10T16:00:42.752Z"
   },
   {
    "duration": 186,
    "start_time": "2021-09-10T16:00:42.967Z"
   },
   {
    "duration": 101,
    "start_time": "2021-09-10T16:00:43.158Z"
   },
   {
    "duration": 203,
    "start_time": "2021-09-10T16:00:43.262Z"
   },
   {
    "duration": 101,
    "start_time": "2021-09-10T16:00:43.469Z"
   },
   {
    "duration": 184,
    "start_time": "2021-09-10T16:00:43.574Z"
   },
   {
    "duration": 116,
    "start_time": "2021-09-10T16:00:43.761Z"
   },
   {
    "duration": 33,
    "start_time": "2021-09-10T16:00:43.880Z"
   },
   {
    "duration": 37,
    "start_time": "2021-09-10T16:00:43.917Z"
   },
   {
    "duration": 298,
    "start_time": "2021-09-10T16:00:43.958Z"
   },
   {
    "duration": 5,
    "start_time": "2021-09-10T16:00:44.259Z"
   },
   {
    "duration": 7369,
    "start_time": "2021-09-10T16:00:44.267Z"
   },
   {
    "duration": 765,
    "start_time": "2021-09-10T16:00:51.639Z"
   },
   {
    "duration": 57,
    "start_time": "2021-09-10T16:00:52.407Z"
   },
   {
    "duration": 6,
    "start_time": "2021-09-10T16:00:52.466Z"
   },
   {
    "duration": 22,
    "start_time": "2021-09-10T16:00:52.474Z"
   },
   {
    "duration": 872,
    "start_time": "2021-09-10T16:00:52.499Z"
   },
   {
    "duration": 604,
    "start_time": "2021-09-10T16:00:53.374Z"
   },
   {
    "duration": -132,
    "start_time": "2021-09-10T16:00:54.112Z"
   },
   {
    "duration": -135,
    "start_time": "2021-09-10T16:00:54.117Z"
   },
   {
    "duration": 587,
    "start_time": "2021-09-10T16:02:28.535Z"
   },
   {
    "duration": 1411,
    "start_time": "2021-09-10T16:02:55.866Z"
   },
   {
    "duration": 36,
    "start_time": "2021-09-10T16:02:57.280Z"
   },
   {
    "duration": 36,
    "start_time": "2021-09-10T16:02:57.319Z"
   },
   {
    "duration": 5,
    "start_time": "2021-09-10T16:02:57.358Z"
   },
   {
    "duration": 65,
    "start_time": "2021-09-10T16:02:57.365Z"
   },
   {
    "duration": 29,
    "start_time": "2021-09-10T16:02:57.433Z"
   },
   {
    "duration": 14,
    "start_time": "2021-09-10T16:02:57.465Z"
   },
   {
    "duration": 25,
    "start_time": "2021-09-10T16:02:57.483Z"
   },
   {
    "duration": 8,
    "start_time": "2021-09-10T16:02:57.512Z"
   },
   {
    "duration": 39,
    "start_time": "2021-09-10T16:02:57.523Z"
   },
   {
    "duration": 10,
    "start_time": "2021-09-10T16:02:57.565Z"
   },
   {
    "duration": 15,
    "start_time": "2021-09-10T16:02:57.577Z"
   },
   {
    "duration": 11,
    "start_time": "2021-09-10T16:02:57.594Z"
   },
   {
    "duration": 48,
    "start_time": "2021-09-10T16:02:57.607Z"
   },
   {
    "duration": 9,
    "start_time": "2021-09-10T16:02:57.658Z"
   },
   {
    "duration": 9,
    "start_time": "2021-09-10T16:02:57.669Z"
   },
   {
    "duration": 18,
    "start_time": "2021-09-10T16:02:57.680Z"
   },
   {
    "duration": 11,
    "start_time": "2021-09-10T16:02:57.700Z"
   },
   {
    "duration": 6,
    "start_time": "2021-09-10T16:02:57.713Z"
   },
   {
    "duration": 59,
    "start_time": "2021-09-10T16:02:57.721Z"
   },
   {
    "duration": 16,
    "start_time": "2021-09-10T16:02:57.782Z"
   },
   {
    "duration": 8,
    "start_time": "2021-09-10T16:02:57.800Z"
   },
   {
    "duration": 44,
    "start_time": "2021-09-10T16:02:57.815Z"
   },
   {
    "duration": 10,
    "start_time": "2021-09-10T16:02:57.863Z"
   },
   {
    "duration": 13,
    "start_time": "2021-09-10T16:02:57.876Z"
   },
   {
    "duration": 27,
    "start_time": "2021-09-10T16:02:57.891Z"
   },
   {
    "duration": 8,
    "start_time": "2021-09-10T16:02:57.921Z"
   },
   {
    "duration": 23,
    "start_time": "2021-09-10T16:02:57.931Z"
   },
   {
    "duration": 197,
    "start_time": "2021-09-10T16:02:57.957Z"
   },
   {
    "duration": 18,
    "start_time": "2021-09-10T16:02:58.158Z"
   },
   {
    "duration": 101,
    "start_time": "2021-09-10T16:02:58.256Z"
   },
   {
    "duration": 102,
    "start_time": "2021-09-10T16:02:58.360Z"
   },
   {
    "duration": 190,
    "start_time": "2021-09-10T16:02:58.465Z"
   },
   {
    "duration": 105,
    "start_time": "2021-09-10T16:02:58.659Z"
   },
   {
    "duration": 10,
    "start_time": "2021-09-10T16:02:58.856Z"
   },
   {
    "duration": 86,
    "start_time": "2021-09-10T16:02:58.870Z"
   },
   {
    "duration": 7,
    "start_time": "2021-09-10T16:02:58.958Z"
   },
   {
    "duration": 195,
    "start_time": "2021-09-10T16:02:58.968Z"
   },
   {
    "duration": 3,
    "start_time": "2021-09-10T16:02:59.256Z"
   },
   {
    "duration": 5369,
    "start_time": "2021-09-10T16:02:59.261Z"
   },
   {
    "duration": 668,
    "start_time": "2021-09-10T16:03:04.633Z"
   },
   {
    "duration": 56,
    "start_time": "2021-09-10T16:03:05.303Z"
   },
   {
    "duration": 5,
    "start_time": "2021-09-10T16:03:05.362Z"
   },
   {
    "duration": 7,
    "start_time": "2021-09-10T16:03:05.369Z"
   },
   {
    "duration": 598,
    "start_time": "2021-09-10T16:03:05.379Z"
   },
   {
    "duration": 579,
    "start_time": "2021-09-10T16:03:05.980Z"
   },
   {
    "duration": 37,
    "start_time": "2021-09-10T16:03:06.561Z"
   },
   {
    "duration": 63,
    "start_time": "2021-09-10T16:03:06.601Z"
   },
   {
    "duration": 35,
    "start_time": "2021-09-10T16:07:31.438Z"
   },
   {
    "duration": 1948,
    "start_time": "2021-09-10T16:07:59.540Z"
   },
   {
    "duration": 38,
    "start_time": "2021-09-10T16:08:01.491Z"
   },
   {
    "duration": 39,
    "start_time": "2021-09-10T16:08:01.532Z"
   },
   {
    "duration": 8,
    "start_time": "2021-09-10T16:08:01.574Z"
   },
   {
    "duration": 90,
    "start_time": "2021-09-10T16:08:01.584Z"
   },
   {
    "duration": 9,
    "start_time": "2021-09-10T16:08:01.676Z"
   },
   {
    "duration": 63,
    "start_time": "2021-09-10T16:08:01.687Z"
   },
   {
    "duration": 48,
    "start_time": "2021-09-10T16:08:01.754Z"
   },
   {
    "duration": 15,
    "start_time": "2021-09-10T16:08:01.805Z"
   },
   {
    "duration": 45,
    "start_time": "2021-09-10T16:08:01.822Z"
   },
   {
    "duration": 15,
    "start_time": "2021-09-10T16:08:01.869Z"
   },
   {
    "duration": 27,
    "start_time": "2021-09-10T16:08:01.887Z"
   },
   {
    "duration": 40,
    "start_time": "2021-09-10T16:08:01.916Z"
   },
   {
    "duration": 20,
    "start_time": "2021-09-10T16:08:01.958Z"
   },
   {
    "duration": 25,
    "start_time": "2021-09-10T16:08:01.980Z"
   },
   {
    "duration": 38,
    "start_time": "2021-09-10T16:08:02.007Z"
   },
   {
    "duration": 62,
    "start_time": "2021-09-10T16:08:02.047Z"
   },
   {
    "duration": 22,
    "start_time": "2021-09-10T16:08:02.112Z"
   },
   {
    "duration": 15,
    "start_time": "2021-09-10T16:08:02.136Z"
   },
   {
    "duration": 38,
    "start_time": "2021-09-10T16:08:02.153Z"
   },
   {
    "duration": 21,
    "start_time": "2021-09-10T16:08:02.194Z"
   },
   {
    "duration": 7,
    "start_time": "2021-09-10T16:08:02.218Z"
   },
   {
    "duration": 22,
    "start_time": "2021-09-10T16:08:02.230Z"
   },
   {
    "duration": 17,
    "start_time": "2021-09-10T16:08:02.255Z"
   },
   {
    "duration": 10,
    "start_time": "2021-09-10T16:08:02.275Z"
   },
   {
    "duration": 8,
    "start_time": "2021-09-10T16:08:02.288Z"
   },
   {
    "duration": 12,
    "start_time": "2021-09-10T16:08:02.298Z"
   },
   {
    "duration": 27,
    "start_time": "2021-09-10T16:08:02.313Z"
   },
   {
    "duration": 120,
    "start_time": "2021-09-10T16:08:02.343Z"
   },
   {
    "duration": 12,
    "start_time": "2021-09-10T16:08:02.556Z"
   },
   {
    "duration": 185,
    "start_time": "2021-09-10T16:08:02.572Z"
   },
   {
    "duration": 107,
    "start_time": "2021-09-10T16:08:02.760Z"
   },
   {
    "duration": 92,
    "start_time": "2021-09-10T16:08:02.870Z"
   },
   {
    "duration": 106,
    "start_time": "2021-09-10T16:08:03.055Z"
   },
   {
    "duration": 95,
    "start_time": "2021-09-10T16:08:03.165Z"
   },
   {
    "duration": 14,
    "start_time": "2021-09-10T16:08:03.262Z"
   },
   {
    "duration": 9,
    "start_time": "2021-09-10T16:08:03.278Z"
   },
   {
    "duration": 264,
    "start_time": "2021-09-10T16:08:03.291Z"
   },
   {
    "duration": 3,
    "start_time": "2021-09-10T16:08:03.558Z"
   },
   {
    "duration": 5321,
    "start_time": "2021-09-10T16:08:03.564Z"
   },
   {
    "duration": 653,
    "start_time": "2021-09-10T16:08:08.887Z"
   },
   {
    "duration": 48,
    "start_time": "2021-09-10T16:08:09.542Z"
   },
   {
    "duration": 6,
    "start_time": "2021-09-10T16:08:09.592Z"
   },
   {
    "duration": 9,
    "start_time": "2021-09-10T16:08:09.600Z"
   },
   {
    "duration": 566,
    "start_time": "2021-09-10T16:08:09.611Z"
   },
   {
    "duration": 566,
    "start_time": "2021-09-10T16:08:10.179Z"
   },
   {
    "duration": 44,
    "start_time": "2021-09-10T16:08:10.748Z"
   },
   {
    "duration": 34,
    "start_time": "2021-09-10T16:08:10.794Z"
   },
   {
    "duration": 55,
    "start_time": "2021-09-10T16:08:10.831Z"
   },
   {
    "duration": 1289,
    "start_time": "2021-09-10T18:27:01.285Z"
   },
   {
    "duration": 36,
    "start_time": "2021-09-10T18:27:02.576Z"
   },
   {
    "duration": 29,
    "start_time": "2021-09-10T18:27:02.615Z"
   },
   {
    "duration": 11,
    "start_time": "2021-09-10T18:27:02.646Z"
   },
   {
    "duration": 72,
    "start_time": "2021-09-10T18:27:02.659Z"
   },
   {
    "duration": 21,
    "start_time": "2021-09-10T18:27:02.734Z"
   },
   {
    "duration": 12,
    "start_time": "2021-09-10T18:27:02.758Z"
   },
   {
    "duration": 22,
    "start_time": "2021-09-10T18:27:02.774Z"
   },
   {
    "duration": 7,
    "start_time": "2021-09-10T18:27:02.799Z"
   },
   {
    "duration": 51,
    "start_time": "2021-09-10T18:27:02.808Z"
   },
   {
    "duration": 8,
    "start_time": "2021-09-10T18:27:02.861Z"
   },
   {
    "duration": 21,
    "start_time": "2021-09-10T18:27:02.871Z"
   },
   {
    "duration": 16,
    "start_time": "2021-09-10T18:27:02.894Z"
   },
   {
    "duration": 16,
    "start_time": "2021-09-10T18:27:02.912Z"
   },
   {
    "duration": 27,
    "start_time": "2021-09-10T18:27:02.930Z"
   },
   {
    "duration": 5,
    "start_time": "2021-09-10T18:27:02.959Z"
   },
   {
    "duration": 17,
    "start_time": "2021-09-10T18:27:02.966Z"
   },
   {
    "duration": 16,
    "start_time": "2021-09-10T18:27:02.985Z"
   },
   {
    "duration": 16,
    "start_time": "2021-09-10T18:27:03.003Z"
   },
   {
    "duration": 33,
    "start_time": "2021-09-10T18:27:03.021Z"
   },
   {
    "duration": 24,
    "start_time": "2021-09-10T18:27:03.056Z"
   },
   {
    "duration": 10,
    "start_time": "2021-09-10T18:27:03.082Z"
   },
   {
    "duration": 26,
    "start_time": "2021-09-10T18:27:03.099Z"
   },
   {
    "duration": 8,
    "start_time": "2021-09-10T18:27:03.128Z"
   },
   {
    "duration": 22,
    "start_time": "2021-09-10T18:27:03.138Z"
   },
   {
    "duration": 11,
    "start_time": "2021-09-10T18:27:03.163Z"
   },
   {
    "duration": 10,
    "start_time": "2021-09-10T18:27:03.176Z"
   },
   {
    "duration": 17,
    "start_time": "2021-09-10T18:27:03.188Z"
   },
   {
    "duration": 149,
    "start_time": "2021-09-10T18:27:03.207Z"
   },
   {
    "duration": 104,
    "start_time": "2021-09-10T18:27:03.359Z"
   },
   {
    "duration": 15,
    "start_time": "2021-09-10T18:27:03.556Z"
   },
   {
    "duration": 189,
    "start_time": "2021-09-10T18:27:03.574Z"
   },
   {
    "duration": 12,
    "start_time": "2021-09-10T18:27:03.855Z"
   },
   {
    "duration": 187,
    "start_time": "2021-09-10T18:27:03.871Z"
   },
   {
    "duration": 99,
    "start_time": "2021-09-10T18:27:04.062Z"
   },
   {
    "duration": 8,
    "start_time": "2021-09-10T18:27:04.163Z"
   },
   {
    "duration": 7,
    "start_time": "2021-09-10T18:27:04.173Z"
   },
   {
    "duration": 178,
    "start_time": "2021-09-10T18:27:04.183Z"
   },
   {
    "duration": 93,
    "start_time": "2021-09-10T18:27:04.363Z"
   },
   {
    "duration": 5333,
    "start_time": "2021-09-10T18:27:04.459Z"
   },
   {
    "duration": 637,
    "start_time": "2021-09-10T18:27:09.795Z"
   },
   {
    "duration": 48,
    "start_time": "2021-09-10T18:27:10.435Z"
   },
   {
    "duration": 7,
    "start_time": "2021-09-10T18:27:10.486Z"
   },
   {
    "duration": 21,
    "start_time": "2021-09-10T18:27:10.496Z"
   },
   {
    "duration": 586,
    "start_time": "2021-09-10T18:27:10.519Z"
   },
   {
    "duration": 577,
    "start_time": "2021-09-10T18:27:11.107Z"
   },
   {
    "duration": 38,
    "start_time": "2021-09-10T18:27:11.687Z"
   },
   {
    "duration": 51,
    "start_time": "2021-09-10T18:27:11.727Z"
   },
   {
    "duration": 35,
    "start_time": "2021-09-10T18:27:11.780Z"
   },
   {
    "duration": 1432,
    "start_time": "2021-09-10T18:30:14.562Z"
   },
   {
    "duration": 38,
    "start_time": "2021-09-10T18:30:15.997Z"
   },
   {
    "duration": 28,
    "start_time": "2021-09-10T18:30:16.038Z"
   },
   {
    "duration": 15,
    "start_time": "2021-09-10T18:30:16.069Z"
   },
   {
    "duration": 80,
    "start_time": "2021-09-10T18:30:16.086Z"
   },
   {
    "duration": 9,
    "start_time": "2021-09-10T18:30:16.168Z"
   },
   {
    "duration": 23,
    "start_time": "2021-09-10T18:30:16.180Z"
   },
   {
    "duration": 21,
    "start_time": "2021-09-10T18:30:16.207Z"
   },
   {
    "duration": 8,
    "start_time": "2021-09-10T18:30:16.255Z"
   },
   {
    "duration": 14,
    "start_time": "2021-09-10T18:30:16.265Z"
   },
   {
    "duration": 8,
    "start_time": "2021-09-10T18:30:16.281Z"
   },
   {
    "duration": 8,
    "start_time": "2021-09-10T18:30:16.291Z"
   },
   {
    "duration": 26,
    "start_time": "2021-09-10T18:30:16.301Z"
   },
   {
    "duration": 9,
    "start_time": "2021-09-10T18:30:16.354Z"
   },
   {
    "duration": 15,
    "start_time": "2021-09-10T18:30:16.365Z"
   },
   {
    "duration": 13,
    "start_time": "2021-09-10T18:30:16.383Z"
   },
   {
    "duration": 29,
    "start_time": "2021-09-10T18:30:16.398Z"
   },
   {
    "duration": 17,
    "start_time": "2021-09-10T18:30:16.429Z"
   },
   {
    "duration": 6,
    "start_time": "2021-09-10T18:30:16.449Z"
   },
   {
    "duration": 27,
    "start_time": "2021-09-10T18:30:16.457Z"
   },
   {
    "duration": 18,
    "start_time": "2021-09-10T18:30:16.486Z"
   },
   {
    "duration": 17,
    "start_time": "2021-09-10T18:30:16.506Z"
   },
   {
    "duration": 35,
    "start_time": "2021-09-10T18:30:16.528Z"
   },
   {
    "duration": 8,
    "start_time": "2021-09-10T18:30:16.566Z"
   },
   {
    "duration": 14,
    "start_time": "2021-09-10T18:30:16.576Z"
   },
   {
    "duration": 9,
    "start_time": "2021-09-10T18:30:16.592Z"
   },
   {
    "duration": 14,
    "start_time": "2021-09-10T18:30:16.603Z"
   },
   {
    "duration": 8,
    "start_time": "2021-09-10T18:30:16.620Z"
   },
   {
    "duration": 129,
    "start_time": "2021-09-10T18:30:16.630Z"
   },
   {
    "duration": 193,
    "start_time": "2021-09-10T18:30:16.762Z"
   },
   {
    "duration": 103,
    "start_time": "2021-09-10T18:30:16.959Z"
   },
   {
    "duration": 7,
    "start_time": "2021-09-10T18:30:17.064Z"
   },
   {
    "duration": 22,
    "start_time": "2021-09-10T18:30:17.073Z"
   },
   {
    "duration": 259,
    "start_time": "2021-09-10T18:30:17.097Z"
   },
   {
    "duration": 104,
    "start_time": "2021-09-10T18:30:17.359Z"
   },
   {
    "duration": 98,
    "start_time": "2021-09-10T18:30:17.466Z"
   },
   {
    "duration": 7,
    "start_time": "2021-09-10T18:30:17.656Z"
   },
   {
    "duration": 28,
    "start_time": "2021-09-10T18:30:17.665Z"
   },
   {
    "duration": 370,
    "start_time": "2021-09-10T18:30:17.695Z"
   },
   {
    "duration": 4,
    "start_time": "2021-09-10T18:30:18.068Z"
   },
   {
    "duration": 5680,
    "start_time": "2021-09-10T18:30:18.075Z"
   },
   {
    "duration": 651,
    "start_time": "2021-09-10T18:30:23.758Z"
   },
   {
    "duration": 53,
    "start_time": "2021-09-10T18:30:24.412Z"
   },
   {
    "duration": 6,
    "start_time": "2021-09-10T18:30:24.467Z"
   },
   {
    "duration": 29,
    "start_time": "2021-09-10T18:30:24.475Z"
   },
   {
    "duration": 552,
    "start_time": "2021-09-10T18:30:24.507Z"
   },
   {
    "duration": 560,
    "start_time": "2021-09-10T18:30:25.061Z"
   },
   {
    "duration": 52,
    "start_time": "2021-09-10T18:30:25.624Z"
   },
   {
    "duration": 41,
    "start_time": "2021-09-10T18:30:25.678Z"
   },
   {
    "duration": 57,
    "start_time": "2021-09-10T18:30:25.723Z"
   },
   {
    "duration": 1336,
    "start_time": "2021-09-10T18:36:22.547Z"
   },
   {
    "duration": 39,
    "start_time": "2021-09-10T18:36:23.886Z"
   },
   {
    "duration": 38,
    "start_time": "2021-09-10T18:36:23.928Z"
   },
   {
    "duration": 5,
    "start_time": "2021-09-10T18:36:23.969Z"
   },
   {
    "duration": 82,
    "start_time": "2021-09-10T18:36:23.977Z"
   },
   {
    "duration": 10,
    "start_time": "2021-09-10T18:36:24.061Z"
   },
   {
    "duration": 13,
    "start_time": "2021-09-10T18:36:24.074Z"
   },
   {
    "duration": 24,
    "start_time": "2021-09-10T18:36:24.090Z"
   },
   {
    "duration": 40,
    "start_time": "2021-09-10T18:36:24.119Z"
   },
   {
    "duration": 22,
    "start_time": "2021-09-10T18:36:24.164Z"
   },
   {
    "duration": 20,
    "start_time": "2021-09-10T18:36:24.188Z"
   },
   {
    "duration": 11,
    "start_time": "2021-09-10T18:36:24.211Z"
   },
   {
    "duration": 32,
    "start_time": "2021-09-10T18:36:24.224Z"
   },
   {
    "duration": 10,
    "start_time": "2021-09-10T18:36:24.259Z"
   },
   {
    "duration": 13,
    "start_time": "2021-09-10T18:36:24.271Z"
   },
   {
    "duration": 7,
    "start_time": "2021-09-10T18:36:24.287Z"
   },
   {
    "duration": 20,
    "start_time": "2021-09-10T18:36:24.296Z"
   },
   {
    "duration": 39,
    "start_time": "2021-09-10T18:36:24.319Z"
   },
   {
    "duration": 6,
    "start_time": "2021-09-10T18:36:24.361Z"
   },
   {
    "duration": 25,
    "start_time": "2021-09-10T18:36:24.369Z"
   },
   {
    "duration": 18,
    "start_time": "2021-09-10T18:36:24.396Z"
   },
   {
    "duration": 42,
    "start_time": "2021-09-10T18:36:24.416Z"
   },
   {
    "duration": 483,
    "start_time": "2021-09-10T18:36:24.461Z"
   },
   {
    "duration": -113,
    "start_time": "2021-09-10T18:36:25.061Z"
   },
   {
    "duration": -114,
    "start_time": "2021-09-10T18:36:25.064Z"
   },
   {
    "duration": -117,
    "start_time": "2021-09-10T18:36:25.069Z"
   },
   {
    "duration": -118,
    "start_time": "2021-09-10T18:36:25.072Z"
   },
   {
    "duration": -120,
    "start_time": "2021-09-10T18:36:25.076Z"
   },
   {
    "duration": -281,
    "start_time": "2021-09-10T18:36:25.239Z"
   },
   {
    "duration": -288,
    "start_time": "2021-09-10T18:36:25.247Z"
   },
   {
    "duration": -290,
    "start_time": "2021-09-10T18:36:25.251Z"
   },
   {
    "duration": -292,
    "start_time": "2021-09-10T18:36:25.254Z"
   },
   {
    "duration": -294,
    "start_time": "2021-09-10T18:36:25.257Z"
   },
   {
    "duration": -296,
    "start_time": "2021-09-10T18:36:25.261Z"
   },
   {
    "duration": -299,
    "start_time": "2021-09-10T18:36:25.265Z"
   },
   {
    "duration": -301,
    "start_time": "2021-09-10T18:36:25.269Z"
   },
   {
    "duration": -303,
    "start_time": "2021-09-10T18:36:25.272Z"
   },
   {
    "duration": -306,
    "start_time": "2021-09-10T18:36:25.277Z"
   },
   {
    "duration": -308,
    "start_time": "2021-09-10T18:36:25.280Z"
   },
   {
    "duration": -311,
    "start_time": "2021-09-10T18:36:25.284Z"
   },
   {
    "duration": -312,
    "start_time": "2021-09-10T18:36:25.287Z"
   },
   {
    "duration": -314,
    "start_time": "2021-09-10T18:36:25.291Z"
   },
   {
    "duration": -316,
    "start_time": "2021-09-10T18:36:25.294Z"
   },
   {
    "duration": -320,
    "start_time": "2021-09-10T18:36:25.299Z"
   },
   {
    "duration": -321,
    "start_time": "2021-09-10T18:36:25.302Z"
   },
   {
    "duration": -323,
    "start_time": "2021-09-10T18:36:25.306Z"
   },
   {
    "duration": -325,
    "start_time": "2021-09-10T18:36:25.309Z"
   },
   {
    "duration": -331,
    "start_time": "2021-09-10T18:36:25.317Z"
   },
   {
    "duration": -334,
    "start_time": "2021-09-10T18:36:25.321Z"
   },
   {
    "duration": -336,
    "start_time": "2021-09-10T18:36:25.324Z"
   },
   {
    "duration": 1297,
    "start_time": "2021-09-10T18:37:17.679Z"
   },
   {
    "duration": 39,
    "start_time": "2021-09-10T18:37:18.979Z"
   },
   {
    "duration": 34,
    "start_time": "2021-09-10T18:37:19.022Z"
   },
   {
    "duration": 18,
    "start_time": "2021-09-10T18:37:19.060Z"
   },
   {
    "duration": 76,
    "start_time": "2021-09-10T18:37:19.081Z"
   },
   {
    "duration": 11,
    "start_time": "2021-09-10T18:37:19.161Z"
   },
   {
    "duration": 31,
    "start_time": "2021-09-10T18:37:19.175Z"
   },
   {
    "duration": 33,
    "start_time": "2021-09-10T18:37:19.212Z"
   },
   {
    "duration": 8,
    "start_time": "2021-09-10T18:37:19.258Z"
   },
   {
    "duration": 30,
    "start_time": "2021-09-10T18:37:19.269Z"
   },
   {
    "duration": 30,
    "start_time": "2021-09-10T18:37:19.302Z"
   },
   {
    "duration": 19,
    "start_time": "2021-09-10T18:37:19.335Z"
   },
   {
    "duration": 24,
    "start_time": "2021-09-10T18:37:19.357Z"
   },
   {
    "duration": 29,
    "start_time": "2021-09-10T18:37:19.385Z"
   },
   {
    "duration": 26,
    "start_time": "2021-09-10T18:37:19.417Z"
   },
   {
    "duration": 19,
    "start_time": "2021-09-10T18:37:19.446Z"
   },
   {
    "duration": 41,
    "start_time": "2021-09-10T18:37:19.468Z"
   },
   {
    "duration": 17,
    "start_time": "2021-09-10T18:37:19.512Z"
   },
   {
    "duration": 22,
    "start_time": "2021-09-10T18:37:19.532Z"
   },
   {
    "duration": 55,
    "start_time": "2021-09-10T18:37:19.557Z"
   },
   {
    "duration": 25,
    "start_time": "2021-09-10T18:37:19.615Z"
   },
   {
    "duration": 18,
    "start_time": "2021-09-10T18:37:19.642Z"
   },
   {
    "duration": 507,
    "start_time": "2021-09-10T18:37:19.666Z"
   },
   {
    "duration": -132,
    "start_time": "2021-09-10T18:37:20.308Z"
   },
   {
    "duration": -135,
    "start_time": "2021-09-10T18:37:20.313Z"
   },
   {
    "duration": -137,
    "start_time": "2021-09-10T18:37:20.316Z"
   },
   {
    "duration": -271,
    "start_time": "2021-09-10T18:37:20.452Z"
   },
   {
    "duration": -273,
    "start_time": "2021-09-10T18:37:20.456Z"
   },
   {
    "duration": -275,
    "start_time": "2021-09-10T18:37:20.459Z"
   },
   {
    "duration": -277,
    "start_time": "2021-09-10T18:37:20.463Z"
   },
   {
    "duration": -278,
    "start_time": "2021-09-10T18:37:20.466Z"
   },
   {
    "duration": -281,
    "start_time": "2021-09-10T18:37:20.470Z"
   },
   {
    "duration": -282,
    "start_time": "2021-09-10T18:37:20.473Z"
   },
   {
    "duration": -285,
    "start_time": "2021-09-10T18:37:20.477Z"
   },
   {
    "duration": -286,
    "start_time": "2021-09-10T18:37:20.480Z"
   },
   {
    "duration": -294,
    "start_time": "2021-09-10T18:37:20.489Z"
   },
   {
    "duration": -296,
    "start_time": "2021-09-10T18:37:20.492Z"
   },
   {
    "duration": -298,
    "start_time": "2021-09-10T18:37:20.495Z"
   },
   {
    "duration": -328,
    "start_time": "2021-09-10T18:37:20.527Z"
   },
   {
    "duration": -330,
    "start_time": "2021-09-10T18:37:20.530Z"
   },
   {
    "duration": -432,
    "start_time": "2021-09-10T18:37:20.633Z"
   },
   {
    "duration": -433,
    "start_time": "2021-09-10T18:37:20.636Z"
   },
   {
    "duration": -436,
    "start_time": "2021-09-10T18:37:20.640Z"
   },
   {
    "duration": -394,
    "start_time": "2021-09-10T18:37:20.649Z"
   },
   {
    "duration": -395,
    "start_time": "2021-09-10T18:37:20.652Z"
   },
   {
    "duration": -408,
    "start_time": "2021-09-10T18:37:20.666Z"
   },
   {
    "duration": -411,
    "start_time": "2021-09-10T18:37:20.670Z"
   },
   {
    "duration": -422,
    "start_time": "2021-09-10T18:37:20.683Z"
   },
   {
    "duration": -425,
    "start_time": "2021-09-10T18:37:20.687Z"
   },
   {
    "duration": -435,
    "start_time": "2021-09-10T18:37:20.699Z"
   },
   {
    "duration": 1344,
    "start_time": "2021-09-10T18:37:42.332Z"
   },
   {
    "duration": 36,
    "start_time": "2021-09-10T18:37:43.679Z"
   },
   {
    "duration": 28,
    "start_time": "2021-09-10T18:37:43.718Z"
   },
   {
    "duration": 11,
    "start_time": "2021-09-10T18:37:43.754Z"
   },
   {
    "duration": 66,
    "start_time": "2021-09-10T18:37:43.767Z"
   },
   {
    "duration": 21,
    "start_time": "2021-09-10T18:37:43.835Z"
   },
   {
    "duration": 13,
    "start_time": "2021-09-10T18:37:43.858Z"
   },
   {
    "duration": 40,
    "start_time": "2021-09-10T18:37:43.874Z"
   },
   {
    "duration": 7,
    "start_time": "2021-09-10T18:37:43.917Z"
   },
   {
    "duration": 29,
    "start_time": "2021-09-10T18:37:43.926Z"
   },
   {
    "duration": 18,
    "start_time": "2021-09-10T18:37:43.957Z"
   },
   {
    "duration": 19,
    "start_time": "2021-09-10T18:37:43.978Z"
   },
   {
    "duration": 30,
    "start_time": "2021-09-10T18:37:43.999Z"
   },
   {
    "duration": 30,
    "start_time": "2021-09-10T18:37:44.031Z"
   },
   {
    "duration": 22,
    "start_time": "2021-09-10T18:37:44.064Z"
   },
   {
    "duration": 31,
    "start_time": "2021-09-10T18:37:44.089Z"
   },
   {
    "duration": 32,
    "start_time": "2021-09-10T18:37:44.123Z"
   },
   {
    "duration": 17,
    "start_time": "2021-09-10T18:37:44.158Z"
   },
   {
    "duration": 19,
    "start_time": "2021-09-10T18:37:44.177Z"
   },
   {
    "duration": 39,
    "start_time": "2021-09-10T18:37:44.199Z"
   },
   {
    "duration": 28,
    "start_time": "2021-09-10T18:37:44.240Z"
   },
   {
    "duration": 7,
    "start_time": "2021-09-10T18:37:44.271Z"
   },
   {
    "duration": 23,
    "start_time": "2021-09-10T18:37:44.283Z"
   },
   {
    "duration": 20,
    "start_time": "2021-09-10T18:37:44.309Z"
   },
   {
    "duration": 30,
    "start_time": "2021-09-10T18:37:44.331Z"
   },
   {
    "duration": 21,
    "start_time": "2021-09-10T18:37:44.364Z"
   },
   {
    "duration": 25,
    "start_time": "2021-09-10T18:37:44.388Z"
   },
   {
    "duration": 24,
    "start_time": "2021-09-10T18:37:44.416Z"
   },
   {
    "duration": 604,
    "start_time": "2021-09-10T18:37:44.443Z"
   },
   {
    "duration": -151,
    "start_time": "2021-09-10T18:37:45.200Z"
   },
   {
    "duration": -154,
    "start_time": "2021-09-10T18:37:45.205Z"
   },
   {
    "duration": -156,
    "start_time": "2021-09-10T18:37:45.208Z"
   },
   {
    "duration": -157,
    "start_time": "2021-09-10T18:37:45.211Z"
   },
   {
    "duration": -160,
    "start_time": "2021-09-10T18:37:45.215Z"
   },
   {
    "duration": -161,
    "start_time": "2021-09-10T18:37:45.218Z"
   },
   {
    "duration": -162,
    "start_time": "2021-09-10T18:37:45.221Z"
   },
   {
    "duration": -164,
    "start_time": "2021-09-10T18:37:45.224Z"
   },
   {
    "duration": -166,
    "start_time": "2021-09-10T18:37:45.228Z"
   },
   {
    "duration": -167,
    "start_time": "2021-09-10T18:37:45.231Z"
   },
   {
    "duration": -169,
    "start_time": "2021-09-10T18:37:45.234Z"
   },
   {
    "duration": -170,
    "start_time": "2021-09-10T18:37:45.237Z"
   },
   {
    "duration": -173,
    "start_time": "2021-09-10T18:37:45.241Z"
   },
   {
    "duration": -174,
    "start_time": "2021-09-10T18:37:45.244Z"
   },
   {
    "duration": -177,
    "start_time": "2021-09-10T18:37:45.248Z"
   },
   {
    "duration": -179,
    "start_time": "2021-09-10T18:37:45.251Z"
   },
   {
    "duration": -263,
    "start_time": "2021-09-10T18:37:45.337Z"
   },
   {
    "duration": -283,
    "start_time": "2021-09-10T18:37:45.358Z"
   },
   {
    "duration": -285,
    "start_time": "2021-09-10T18:37:45.361Z"
   },
   {
    "duration": -287,
    "start_time": "2021-09-10T18:37:45.365Z"
   },
   {
    "duration": -290,
    "start_time": "2021-09-10T18:37:45.369Z"
   },
   {
    "duration": 60,
    "start_time": "2021-09-10T18:38:16.198Z"
   },
   {
    "duration": 271,
    "start_time": "2021-09-10T18:38:17.953Z"
   },
   {
    "duration": 17,
    "start_time": "2021-09-10T18:38:30.949Z"
   },
   {
    "duration": 12,
    "start_time": "2021-09-10T18:39:03.177Z"
   },
   {
    "duration": 5,
    "start_time": "2021-09-10T18:39:03.430Z"
   },
   {
    "duration": 7,
    "start_time": "2021-09-10T18:39:05.181Z"
   },
   {
    "duration": 7,
    "start_time": "2021-09-10T18:39:05.699Z"
   },
   {
    "duration": 1320,
    "start_time": "2021-09-10T18:39:47.274Z"
   },
   {
    "duration": 37,
    "start_time": "2021-09-10T18:39:48.597Z"
   },
   {
    "duration": 33,
    "start_time": "2021-09-10T18:39:48.638Z"
   },
   {
    "duration": 23,
    "start_time": "2021-09-10T18:39:48.674Z"
   },
   {
    "duration": 78,
    "start_time": "2021-09-10T18:39:48.699Z"
   },
   {
    "duration": 9,
    "start_time": "2021-09-10T18:39:48.779Z"
   },
   {
    "duration": 35,
    "start_time": "2021-09-10T18:39:48.791Z"
   },
   {
    "duration": 47,
    "start_time": "2021-09-10T18:39:48.830Z"
   },
   {
    "duration": 8,
    "start_time": "2021-09-10T18:39:48.881Z"
   },
   {
    "duration": 33,
    "start_time": "2021-09-10T18:39:48.891Z"
   },
   {
    "duration": 33,
    "start_time": "2021-09-10T18:39:48.927Z"
   },
   {
    "duration": 20,
    "start_time": "2021-09-10T18:39:48.963Z"
   },
   {
    "duration": 28,
    "start_time": "2021-09-10T18:39:48.985Z"
   },
   {
    "duration": 14,
    "start_time": "2021-09-10T18:39:49.016Z"
   },
   {
    "duration": 13,
    "start_time": "2021-09-10T18:39:49.032Z"
   },
   {
    "duration": 10,
    "start_time": "2021-09-10T18:39:49.047Z"
   },
   {
    "duration": 20,
    "start_time": "2021-09-10T18:39:49.059Z"
   },
   {
    "duration": 41,
    "start_time": "2021-09-10T18:39:49.081Z"
   },
   {
    "duration": 10,
    "start_time": "2021-09-10T18:39:49.125Z"
   },
   {
    "duration": 38,
    "start_time": "2021-09-10T18:39:49.137Z"
   },
   {
    "duration": 32,
    "start_time": "2021-09-10T18:39:49.178Z"
   },
   {
    "duration": 25,
    "start_time": "2021-09-10T18:39:49.212Z"
   },
   {
    "duration": 30,
    "start_time": "2021-09-10T18:39:49.243Z"
   },
   {
    "duration": 16,
    "start_time": "2021-09-10T18:39:49.277Z"
   },
   {
    "duration": 30,
    "start_time": "2021-09-10T18:39:49.296Z"
   },
   {
    "duration": 19,
    "start_time": "2021-09-10T18:39:49.328Z"
   },
   {
    "duration": 531,
    "start_time": "2021-09-10T18:39:49.349Z"
   },
   {
    "duration": -387,
    "start_time": "2021-09-10T18:39:50.269Z"
   },
   {
    "duration": -392,
    "start_time": "2021-09-10T18:39:50.275Z"
   },
   {
    "duration": -402,
    "start_time": "2021-09-10T18:39:50.286Z"
   },
   {
    "duration": -404,
    "start_time": "2021-09-10T18:39:50.290Z"
   },
   {
    "duration": -406,
    "start_time": "2021-09-10T18:39:50.293Z"
   },
   {
    "duration": -408,
    "start_time": "2021-09-10T18:39:50.296Z"
   },
   {
    "duration": -412,
    "start_time": "2021-09-10T18:39:50.301Z"
   },
   {
    "duration": -414,
    "start_time": "2021-09-10T18:39:50.304Z"
   },
   {
    "duration": -566,
    "start_time": "2021-09-10T18:39:50.458Z"
   },
   {
    "duration": -584,
    "start_time": "2021-09-10T18:39:50.477Z"
   },
   {
    "duration": -587,
    "start_time": "2021-09-10T18:39:50.481Z"
   },
   {
    "duration": -590,
    "start_time": "2021-09-10T18:39:50.485Z"
   },
   {
    "duration": -593,
    "start_time": "2021-09-10T18:39:50.489Z"
   },
   {
    "duration": -594,
    "start_time": "2021-09-10T18:39:50.492Z"
   },
   {
    "duration": -597,
    "start_time": "2021-09-10T18:39:50.496Z"
   },
   {
    "duration": -600,
    "start_time": "2021-09-10T18:39:50.500Z"
   },
   {
    "duration": -603,
    "start_time": "2021-09-10T18:39:50.504Z"
   },
   {
    "duration": -604,
    "start_time": "2021-09-10T18:39:50.507Z"
   },
   {
    "duration": -607,
    "start_time": "2021-09-10T18:39:50.511Z"
   },
   {
    "duration": -609,
    "start_time": "2021-09-10T18:39:50.514Z"
   },
   {
    "duration": -612,
    "start_time": "2021-09-10T18:39:50.518Z"
   },
   {
    "duration": -615,
    "start_time": "2021-09-10T18:39:50.522Z"
   },
   {
    "duration": -617,
    "start_time": "2021-09-10T18:39:50.525Z"
   },
   {
    "duration": -574,
    "start_time": "2021-09-10T18:39:50.528Z"
   },
   {
    "duration": -585,
    "start_time": "2021-09-10T18:39:50.540Z"
   },
   {
    "duration": -586,
    "start_time": "2021-09-10T18:39:50.543Z"
   },
   {
    "duration": 266,
    "start_time": "2021-09-10T18:40:41.300Z"
   },
   {
    "duration": 7,
    "start_time": "2021-09-10T18:40:52.680Z"
   },
   {
    "duration": 7,
    "start_time": "2021-09-10T18:40:53.460Z"
   },
   {
    "duration": 4,
    "start_time": "2021-09-10T18:41:53.989Z"
   },
   {
    "duration": 4,
    "start_time": "2021-09-10T18:41:54.479Z"
   },
   {
    "duration": 138,
    "start_time": "2021-09-10T18:41:55.018Z"
   },
   {
    "duration": 12,
    "start_time": "2021-09-10T18:41:56.198Z"
   },
   {
    "duration": 12,
    "start_time": "2021-09-10T18:41:59.509Z"
   },
   {
    "duration": 5,
    "start_time": "2021-09-10T18:41:59.908Z"
   },
   {
    "duration": 8,
    "start_time": "2021-09-10T18:42:01.169Z"
   },
   {
    "duration": 8,
    "start_time": "2021-09-10T18:42:01.511Z"
   },
   {
    "duration": 165,
    "start_time": "2021-09-10T18:43:45.891Z"
   },
   {
    "duration": 15,
    "start_time": "2021-09-10T18:43:47.518Z"
   },
   {
    "duration": 113,
    "start_time": "2021-09-10T18:44:07.742Z"
   },
   {
    "duration": 11,
    "start_time": "2021-09-10T18:44:08.617Z"
   },
   {
    "duration": 1311,
    "start_time": "2021-09-10T18:44:15.378Z"
   },
   {
    "duration": 38,
    "start_time": "2021-09-10T18:44:16.692Z"
   },
   {
    "duration": 35,
    "start_time": "2021-09-10T18:44:16.734Z"
   },
   {
    "duration": 6,
    "start_time": "2021-09-10T18:44:16.772Z"
   },
   {
    "duration": 96,
    "start_time": "2021-09-10T18:44:16.782Z"
   },
   {
    "duration": 12,
    "start_time": "2021-09-10T18:44:16.881Z"
   },
   {
    "duration": 14,
    "start_time": "2021-09-10T18:44:16.896Z"
   },
   {
    "duration": 58,
    "start_time": "2021-09-10T18:44:16.916Z"
   },
   {
    "duration": 8,
    "start_time": "2021-09-10T18:44:16.978Z"
   },
   {
    "duration": 10,
    "start_time": "2021-09-10T18:44:16.988Z"
   },
   {
    "duration": 8,
    "start_time": "2021-09-10T18:44:17.000Z"
   },
   {
    "duration": 51,
    "start_time": "2021-09-10T18:44:17.010Z"
   },
   {
    "duration": 19,
    "start_time": "2021-09-10T18:44:17.063Z"
   },
   {
    "duration": 16,
    "start_time": "2021-09-10T18:44:17.084Z"
   },
   {
    "duration": 54,
    "start_time": "2021-09-10T18:44:17.102Z"
   },
   {
    "duration": 4,
    "start_time": "2021-09-10T18:44:17.158Z"
   },
   {
    "duration": 14,
    "start_time": "2021-09-10T18:44:17.164Z"
   },
   {
    "duration": 10,
    "start_time": "2021-09-10T18:44:17.180Z"
   },
   {
    "duration": 61,
    "start_time": "2021-09-10T18:44:17.193Z"
   },
   {
    "duration": 21,
    "start_time": "2021-09-10T18:44:17.257Z"
   },
   {
    "duration": 75,
    "start_time": "2021-09-10T18:44:17.281Z"
   },
   {
    "duration": 8,
    "start_time": "2021-09-10T18:44:17.358Z"
   },
   {
    "duration": 22,
    "start_time": "2021-09-10T18:44:17.372Z"
   },
   {
    "duration": 59,
    "start_time": "2021-09-10T18:44:17.397Z"
   },
   {
    "duration": 8,
    "start_time": "2021-09-10T18:44:17.458Z"
   },
   {
    "duration": 9,
    "start_time": "2021-09-10T18:44:17.469Z"
   },
   {
    "duration": 16,
    "start_time": "2021-09-10T18:44:17.480Z"
   },
   {
    "duration": 9,
    "start_time": "2021-09-10T18:44:17.498Z"
   },
   {
    "duration": 9,
    "start_time": "2021-09-10T18:44:17.555Z"
   },
   {
    "duration": 9,
    "start_time": "2021-09-10T18:44:17.566Z"
   },
   {
    "duration": 285,
    "start_time": "2021-09-10T18:44:17.577Z"
   },
   {
    "duration": 104,
    "start_time": "2021-09-10T18:44:17.955Z"
   },
   {
    "duration": 97,
    "start_time": "2021-09-10T18:44:18.063Z"
   },
   {
    "duration": 12,
    "start_time": "2021-09-10T18:44:18.162Z"
   },
   {
    "duration": 11,
    "start_time": "2021-09-10T18:44:18.176Z"
   },
   {
    "duration": 66,
    "start_time": "2021-09-10T18:44:18.190Z"
   },
   {
    "duration": 199,
    "start_time": "2021-09-10T18:44:18.258Z"
   },
   {
    "duration": 193,
    "start_time": "2021-09-10T18:44:18.460Z"
   },
   {
    "duration": 9,
    "start_time": "2021-09-10T18:44:18.656Z"
   },
   {
    "duration": 95,
    "start_time": "2021-09-10T18:44:18.667Z"
   },
   {
    "duration": 10,
    "start_time": "2021-09-10T18:44:18.765Z"
   },
   {
    "duration": 182,
    "start_time": "2021-09-10T18:44:18.778Z"
   },
   {
    "duration": 92,
    "start_time": "2021-09-10T18:44:18.963Z"
   },
   {
    "duration": 4671,
    "start_time": "2021-09-10T18:44:19.058Z"
   },
   {
    "duration": 590,
    "start_time": "2021-09-10T18:44:23.731Z"
   },
   {
    "duration": 48,
    "start_time": "2021-09-10T18:44:24.323Z"
   },
   {
    "duration": 6,
    "start_time": "2021-09-10T18:44:24.373Z"
   },
   {
    "duration": 20,
    "start_time": "2021-09-10T18:44:24.381Z"
   },
   {
    "duration": 590,
    "start_time": "2021-09-10T18:44:24.404Z"
   },
   {
    "duration": 486,
    "start_time": "2021-09-10T18:44:24.996Z"
   },
   {
    "duration": 36,
    "start_time": "2021-09-10T18:44:25.484Z"
   },
   {
    "duration": 56,
    "start_time": "2021-09-10T18:44:25.523Z"
   },
   {
    "duration": 35,
    "start_time": "2021-09-10T18:44:25.581Z"
   },
   {
    "duration": 1341,
    "start_time": "2021-09-10T18:53:16.334Z"
   },
   {
    "duration": 37,
    "start_time": "2021-09-10T18:53:17.678Z"
   },
   {
    "duration": 36,
    "start_time": "2021-09-10T18:53:17.718Z"
   },
   {
    "duration": 6,
    "start_time": "2021-09-10T18:53:17.757Z"
   },
   {
    "duration": 69,
    "start_time": "2021-09-10T18:53:17.765Z"
   },
   {
    "duration": 21,
    "start_time": "2021-09-10T18:53:17.838Z"
   },
   {
    "duration": 24,
    "start_time": "2021-09-10T18:53:17.862Z"
   },
   {
    "duration": 20,
    "start_time": "2021-09-10T18:53:17.890Z"
   },
   {
    "duration": 8,
    "start_time": "2021-09-10T18:53:17.913Z"
   },
   {
    "duration": 37,
    "start_time": "2021-09-10T18:53:17.923Z"
   },
   {
    "duration": 8,
    "start_time": "2021-09-10T18:53:17.963Z"
   },
   {
    "duration": 30,
    "start_time": "2021-09-10T18:53:17.974Z"
   },
   {
    "duration": 19,
    "start_time": "2021-09-10T18:53:18.007Z"
   },
   {
    "duration": 26,
    "start_time": "2021-09-10T18:53:18.029Z"
   },
   {
    "duration": 21,
    "start_time": "2021-09-10T18:53:18.057Z"
   },
   {
    "duration": 24,
    "start_time": "2021-09-10T18:53:18.081Z"
   },
   {
    "duration": 31,
    "start_time": "2021-09-10T18:53:18.107Z"
   },
   {
    "duration": 18,
    "start_time": "2021-09-10T18:53:18.141Z"
   },
   {
    "duration": 13,
    "start_time": "2021-09-10T18:53:18.161Z"
   },
   {
    "duration": 35,
    "start_time": "2021-09-10T18:53:18.176Z"
   },
   {
    "duration": 34,
    "start_time": "2021-09-10T18:53:18.214Z"
   },
   {
    "duration": 27,
    "start_time": "2021-09-10T18:53:18.251Z"
   },
   {
    "duration": 25,
    "start_time": "2021-09-10T18:53:18.284Z"
   },
   {
    "duration": 12,
    "start_time": "2021-09-10T18:53:18.312Z"
   },
   {
    "duration": 22,
    "start_time": "2021-09-10T18:53:18.327Z"
   },
   {
    "duration": 18,
    "start_time": "2021-09-10T18:53:18.351Z"
   },
   {
    "duration": 25,
    "start_time": "2021-09-10T18:53:18.372Z"
   },
   {
    "duration": 36,
    "start_time": "2021-09-10T18:53:18.400Z"
   },
   {
    "duration": 21,
    "start_time": "2021-09-10T18:53:18.439Z"
   },
   {
    "duration": 20,
    "start_time": "2021-09-10T18:53:18.462Z"
   },
   {
    "duration": 173,
    "start_time": "2021-09-10T18:53:18.484Z"
   },
   {
    "duration": 110,
    "start_time": "2021-09-10T18:53:18.660Z"
   },
   {
    "duration": 102,
    "start_time": "2021-09-10T18:53:18.856Z"
   },
   {
    "duration": 21,
    "start_time": "2021-09-10T18:53:18.960Z"
   },
   {
    "duration": 32,
    "start_time": "2021-09-10T18:53:18.983Z"
   },
   {
    "duration": 21,
    "start_time": "2021-09-10T18:53:19.018Z"
   },
   {
    "duration": 115,
    "start_time": "2021-09-10T18:53:19.041Z"
   },
   {
    "duration": 103,
    "start_time": "2021-09-10T18:53:19.160Z"
   },
   {
    "duration": 104,
    "start_time": "2021-09-10T18:53:19.355Z"
   },
   {
    "duration": 16,
    "start_time": "2021-09-10T18:53:19.461Z"
   },
   {
    "duration": 30,
    "start_time": "2021-09-10T18:53:19.479Z"
   },
   {
    "duration": 145,
    "start_time": "2021-09-10T18:53:19.511Z"
   },
   {
    "duration": 94,
    "start_time": "2021-09-10T18:53:19.660Z"
   },
   {
    "duration": 4329,
    "start_time": "2021-09-10T18:53:19.756Z"
   },
   {
    "duration": 585,
    "start_time": "2021-09-10T18:53:24.087Z"
   },
   {
    "duration": 35,
    "start_time": "2021-09-10T18:53:24.675Z"
   },
   {
    "duration": 5,
    "start_time": "2021-09-10T18:53:24.712Z"
   },
   {
    "duration": 35,
    "start_time": "2021-09-10T18:53:24.719Z"
   },
   {
    "duration": 515,
    "start_time": "2021-09-10T18:53:24.757Z"
   },
   {
    "duration": 468,
    "start_time": "2021-09-10T18:53:25.275Z"
   },
   {
    "duration": 40,
    "start_time": "2021-09-10T18:53:25.745Z"
   },
   {
    "duration": 43,
    "start_time": "2021-09-10T18:53:25.788Z"
   },
   {
    "duration": 36,
    "start_time": "2021-09-10T18:53:25.854Z"
   },
   {
    "duration": 473,
    "start_time": "2021-09-10T18:53:42.791Z"
   },
   {
    "duration": 1598,
    "start_time": "2021-09-10T18:54:05.787Z"
   },
   {
    "duration": 35,
    "start_time": "2021-09-10T18:54:07.388Z"
   },
   {
    "duration": 32,
    "start_time": "2021-09-10T18:54:07.426Z"
   },
   {
    "duration": 5,
    "start_time": "2021-09-10T18:54:07.461Z"
   },
   {
    "duration": 61,
    "start_time": "2021-09-10T18:54:07.469Z"
   },
   {
    "duration": 10,
    "start_time": "2021-09-10T18:54:07.554Z"
   },
   {
    "duration": 12,
    "start_time": "2021-09-10T18:54:07.566Z"
   },
   {
    "duration": 21,
    "start_time": "2021-09-10T18:54:07.582Z"
   },
   {
    "duration": 7,
    "start_time": "2021-09-10T18:54:07.606Z"
   },
   {
    "duration": 9,
    "start_time": "2021-09-10T18:54:07.655Z"
   },
   {
    "duration": 13,
    "start_time": "2021-09-10T18:54:07.667Z"
   },
   {
    "duration": 8,
    "start_time": "2021-09-10T18:54:07.683Z"
   },
   {
    "duration": 16,
    "start_time": "2021-09-10T18:54:07.694Z"
   },
   {
    "duration": 7,
    "start_time": "2021-09-10T18:54:07.713Z"
   },
   {
    "duration": 8,
    "start_time": "2021-09-10T18:54:07.755Z"
   },
   {
    "duration": 8,
    "start_time": "2021-09-10T18:54:07.765Z"
   },
   {
    "duration": 19,
    "start_time": "2021-09-10T18:54:07.776Z"
   },
   {
    "duration": 12,
    "start_time": "2021-09-10T18:54:07.798Z"
   },
   {
    "duration": 15,
    "start_time": "2021-09-10T18:54:07.812Z"
   },
   {
    "duration": 40,
    "start_time": "2021-09-10T18:54:07.830Z"
   },
   {
    "duration": 17,
    "start_time": "2021-09-10T18:54:07.872Z"
   },
   {
    "duration": 8,
    "start_time": "2021-09-10T18:54:07.891Z"
   },
   {
    "duration": 51,
    "start_time": "2021-09-10T18:54:07.904Z"
   },
   {
    "duration": 7,
    "start_time": "2021-09-10T18:54:07.958Z"
   },
   {
    "duration": 11,
    "start_time": "2021-09-10T18:54:07.967Z"
   },
   {
    "duration": 8,
    "start_time": "2021-09-10T18:54:07.981Z"
   },
   {
    "duration": 14,
    "start_time": "2021-09-10T18:54:07.991Z"
   },
   {
    "duration": 6,
    "start_time": "2021-09-10T18:54:08.007Z"
   },
   {
    "duration": 40,
    "start_time": "2021-09-10T18:54:08.015Z"
   },
   {
    "duration": 13,
    "start_time": "2021-09-10T18:54:08.057Z"
   },
   {
    "duration": 184,
    "start_time": "2021-09-10T18:54:08.072Z"
   },
   {
    "duration": 103,
    "start_time": "2021-09-10T18:54:08.260Z"
   },
   {
    "duration": 12,
    "start_time": "2021-09-10T18:54:08.455Z"
   },
   {
    "duration": 6,
    "start_time": "2021-09-10T18:54:08.469Z"
   },
   {
    "duration": 83,
    "start_time": "2021-09-10T18:54:08.477Z"
   },
   {
    "duration": 39,
    "start_time": "2021-09-10T18:54:08.563Z"
   },
   {
    "duration": 252,
    "start_time": "2021-09-10T18:54:08.604Z"
   },
   {
    "duration": 10,
    "start_time": "2021-09-10T18:54:08.858Z"
   },
   {
    "duration": 87,
    "start_time": "2021-09-10T18:54:08.871Z"
   },
   {
    "duration": 93,
    "start_time": "2021-09-10T18:54:08.961Z"
   },
   {
    "duration": 7,
    "start_time": "2021-09-10T18:54:09.057Z"
   },
   {
    "duration": 195,
    "start_time": "2021-09-10T18:54:09.067Z"
   },
   {
    "duration": 89,
    "start_time": "2021-09-10T18:54:09.266Z"
   },
   {
    "duration": 4699,
    "start_time": "2021-09-10T18:54:09.358Z"
   },
   {
    "duration": 485,
    "start_time": "2021-09-10T18:54:14.059Z"
   },
   {
    "duration": 39,
    "start_time": "2021-09-10T18:54:14.546Z"
   },
   {
    "duration": 6,
    "start_time": "2021-09-10T18:54:14.588Z"
   },
   {
    "duration": 12,
    "start_time": "2021-09-10T18:54:14.597Z"
   },
   {
    "duration": 533,
    "start_time": "2021-09-10T18:54:14.611Z"
   },
   {
    "duration": 444,
    "start_time": "2021-09-10T18:54:15.146Z"
   },
   {
    "duration": 34,
    "start_time": "2021-09-10T18:54:15.592Z"
   },
   {
    "duration": 53,
    "start_time": "2021-09-10T18:54:15.629Z"
   },
   {
    "duration": 33,
    "start_time": "2021-09-10T18:54:15.684Z"
   },
   {
    "duration": 116,
    "start_time": "2021-09-10T18:54:58.047Z"
   },
   {
    "duration": 158,
    "start_time": "2021-09-10T18:55:05.804Z"
   },
   {
    "duration": 1926,
    "start_time": "2021-09-10T18:55:14.463Z"
   },
   {
    "duration": 36,
    "start_time": "2021-09-10T18:55:16.392Z"
   },
   {
    "duration": 28,
    "start_time": "2021-09-10T18:55:16.431Z"
   },
   {
    "duration": 18,
    "start_time": "2021-09-10T18:55:16.462Z"
   },
   {
    "duration": 76,
    "start_time": "2021-09-10T18:55:16.482Z"
   },
   {
    "duration": 9,
    "start_time": "2021-09-10T18:55:16.560Z"
   },
   {
    "duration": 29,
    "start_time": "2021-09-10T18:55:16.571Z"
   },
   {
    "duration": 29,
    "start_time": "2021-09-10T18:55:16.605Z"
   },
   {
    "duration": 20,
    "start_time": "2021-09-10T18:55:16.637Z"
   },
   {
    "duration": 23,
    "start_time": "2021-09-10T18:55:16.660Z"
   },
   {
    "duration": 39,
    "start_time": "2021-09-10T18:55:16.685Z"
   },
   {
    "duration": 33,
    "start_time": "2021-09-10T18:55:16.727Z"
   },
   {
    "duration": 23,
    "start_time": "2021-09-10T18:55:16.762Z"
   },
   {
    "duration": 33,
    "start_time": "2021-09-10T18:55:16.788Z"
   },
   {
    "duration": 25,
    "start_time": "2021-09-10T18:55:16.823Z"
   },
   {
    "duration": 16,
    "start_time": "2021-09-10T18:55:16.851Z"
   },
   {
    "duration": 34,
    "start_time": "2021-09-10T18:55:16.870Z"
   },
   {
    "duration": 22,
    "start_time": "2021-09-10T18:55:16.907Z"
   },
   {
    "duration": 29,
    "start_time": "2021-09-10T18:55:16.932Z"
   },
   {
    "duration": 44,
    "start_time": "2021-09-10T18:55:16.964Z"
   },
   {
    "duration": 35,
    "start_time": "2021-09-10T18:55:17.010Z"
   },
   {
    "duration": 32,
    "start_time": "2021-09-10T18:55:17.048Z"
   },
   {
    "duration": 23,
    "start_time": "2021-09-10T18:55:17.088Z"
   },
   {
    "duration": 20,
    "start_time": "2021-09-10T18:55:17.115Z"
   },
   {
    "duration": 31,
    "start_time": "2021-09-10T18:55:17.138Z"
   },
   {
    "duration": 31,
    "start_time": "2021-09-10T18:55:17.172Z"
   },
   {
    "duration": 28,
    "start_time": "2021-09-10T18:55:17.206Z"
   },
   {
    "duration": 27,
    "start_time": "2021-09-10T18:55:17.236Z"
   },
   {
    "duration": 32,
    "start_time": "2021-09-10T18:55:17.265Z"
   },
   {
    "duration": 18,
    "start_time": "2021-09-10T18:55:17.299Z"
   },
   {
    "duration": 143,
    "start_time": "2021-09-10T18:55:17.319Z"
   },
   {
    "duration": 16,
    "start_time": "2021-09-10T18:55:17.555Z"
   },
   {
    "duration": 106,
    "start_time": "2021-09-10T18:55:17.657Z"
   },
   {
    "duration": 25,
    "start_time": "2021-09-10T18:55:17.765Z"
   },
   {
    "duration": 29,
    "start_time": "2021-09-10T18:55:17.792Z"
   },
   {
    "duration": 32,
    "start_time": "2021-09-10T18:55:17.824Z"
   },
   {
    "duration": 99,
    "start_time": "2021-09-10T18:55:17.858Z"
   },
   {
    "duration": 197,
    "start_time": "2021-09-10T18:55:17.960Z"
   },
   {
    "duration": 98,
    "start_time": "2021-09-10T18:55:18.160Z"
   },
   {
    "duration": 28,
    "start_time": "2021-09-10T18:55:18.261Z"
   },
   {
    "duration": 29,
    "start_time": "2021-09-10T18:55:18.291Z"
   },
   {
    "duration": 138,
    "start_time": "2021-09-10T18:55:18.323Z"
   },
   {
    "duration": 91,
    "start_time": "2021-09-10T18:55:18.464Z"
   },
   {
    "duration": 4481,
    "start_time": "2021-09-10T18:55:18.558Z"
   },
   {
    "duration": 499,
    "start_time": "2021-09-10T18:55:23.042Z"
   },
   {
    "duration": 39,
    "start_time": "2021-09-10T18:55:23.544Z"
   },
   {
    "duration": 6,
    "start_time": "2021-09-10T18:55:23.585Z"
   },
   {
    "duration": 6,
    "start_time": "2021-09-10T18:55:23.594Z"
   },
   {
    "duration": 519,
    "start_time": "2021-09-10T18:55:23.603Z"
   },
   {
    "duration": 495,
    "start_time": "2021-09-10T18:55:24.125Z"
   },
   {
    "duration": 45,
    "start_time": "2021-09-10T18:55:24.623Z"
   },
   {
    "duration": 35,
    "start_time": "2021-09-10T18:55:24.670Z"
   },
   {
    "duration": 54,
    "start_time": "2021-09-10T18:55:24.707Z"
   },
   {
    "duration": 40,
    "start_time": "2021-09-10T18:55:59.416Z"
   },
   {
    "duration": 3,
    "start_time": "2021-09-10T18:57:51.142Z"
   },
   {
    "duration": 1429,
    "start_time": "2021-09-10T18:57:57.361Z"
   },
   {
    "duration": 36,
    "start_time": "2021-09-10T18:57:58.793Z"
   },
   {
    "duration": 27,
    "start_time": "2021-09-10T18:57:58.832Z"
   },
   {
    "duration": 17,
    "start_time": "2021-09-10T18:57:58.862Z"
   },
   {
    "duration": 76,
    "start_time": "2021-09-10T18:57:58.882Z"
   },
   {
    "duration": 9,
    "start_time": "2021-09-10T18:57:58.960Z"
   },
   {
    "duration": 21,
    "start_time": "2021-09-10T18:57:58.971Z"
   },
   {
    "duration": 27,
    "start_time": "2021-09-10T18:57:58.996Z"
   },
   {
    "duration": 7,
    "start_time": "2021-09-10T18:57:59.026Z"
   },
   {
    "duration": 24,
    "start_time": "2021-09-10T18:57:59.035Z"
   },
   {
    "duration": 26,
    "start_time": "2021-09-10T18:57:59.061Z"
   },
   {
    "duration": 7,
    "start_time": "2021-09-10T18:57:59.089Z"
   },
   {
    "duration": 7,
    "start_time": "2021-09-10T18:57:59.099Z"
   },
   {
    "duration": 8,
    "start_time": "2021-09-10T18:57:59.109Z"
   },
   {
    "duration": 36,
    "start_time": "2021-09-10T18:57:59.120Z"
   },
   {
    "duration": 5,
    "start_time": "2021-09-10T18:57:59.158Z"
   },
   {
    "duration": 13,
    "start_time": "2021-09-10T18:57:59.165Z"
   },
   {
    "duration": 23,
    "start_time": "2021-09-10T18:57:59.180Z"
   },
   {
    "duration": 11,
    "start_time": "2021-09-10T18:57:59.206Z"
   },
   {
    "duration": 42,
    "start_time": "2021-09-10T18:57:59.219Z"
   },
   {
    "duration": 32,
    "start_time": "2021-09-10T18:57:59.263Z"
   },
   {
    "duration": 17,
    "start_time": "2021-09-10T18:57:59.298Z"
   },
   {
    "duration": 20,
    "start_time": "2021-09-10T18:57:59.320Z"
   },
   {
    "duration": 24,
    "start_time": "2021-09-10T18:57:59.344Z"
   },
   {
    "duration": 24,
    "start_time": "2021-09-10T18:57:59.371Z"
   },
   {
    "duration": 21,
    "start_time": "2021-09-10T18:57:59.397Z"
   },
   {
    "duration": 21,
    "start_time": "2021-09-10T18:57:59.420Z"
   },
   {
    "duration": 25,
    "start_time": "2021-09-10T18:57:59.443Z"
   },
   {
    "duration": 13,
    "start_time": "2021-09-10T18:57:59.471Z"
   },
   {
    "duration": 20,
    "start_time": "2021-09-10T18:57:59.487Z"
   },
   {
    "duration": 154,
    "start_time": "2021-09-10T18:57:59.510Z"
   },
   {
    "duration": 102,
    "start_time": "2021-09-10T18:57:59.754Z"
   },
   {
    "duration": 104,
    "start_time": "2021-09-10T18:57:59.860Z"
   },
   {
    "duration": 9,
    "start_time": "2021-09-10T18:57:59.967Z"
   },
   {
    "duration": 25,
    "start_time": "2021-09-10T18:57:59.979Z"
   },
   {
    "duration": 28,
    "start_time": "2021-09-10T18:58:00.007Z"
   },
   {
    "duration": 122,
    "start_time": "2021-09-10T18:58:00.038Z"
   },
   {
    "duration": 103,
    "start_time": "2021-09-10T18:58:00.164Z"
   },
   {
    "duration": 108,
    "start_time": "2021-09-10T18:58:00.357Z"
   },
   {
    "duration": 21,
    "start_time": "2021-09-10T18:58:00.467Z"
   },
   {
    "duration": 30,
    "start_time": "2021-09-10T18:58:00.491Z"
   },
   {
    "duration": 137,
    "start_time": "2021-09-10T18:58:00.523Z"
   },
   {
    "duration": 99,
    "start_time": "2021-09-10T18:58:00.663Z"
   },
   {
    "duration": 98,
    "start_time": "2021-09-10T18:58:00.858Z"
   },
   {
    "duration": 4665,
    "start_time": "2021-09-10T18:58:00.959Z"
   },
   {
    "duration": 505,
    "start_time": "2021-09-10T18:58:05.627Z"
   },
   {
    "duration": 42,
    "start_time": "2021-09-10T18:58:06.134Z"
   },
   {
    "duration": 5,
    "start_time": "2021-09-10T18:58:06.178Z"
   },
   {
    "duration": 8,
    "start_time": "2021-09-10T18:58:06.185Z"
   },
   {
    "duration": 520,
    "start_time": "2021-09-10T18:58:06.195Z"
   },
   {
    "duration": 446,
    "start_time": "2021-09-10T18:58:06.718Z"
   },
   {
    "duration": 36,
    "start_time": "2021-09-10T18:58:07.167Z"
   },
   {
    "duration": 64,
    "start_time": "2021-09-10T18:58:07.206Z"
   },
   {
    "duration": 36,
    "start_time": "2021-09-10T18:58:07.273Z"
   },
   {
    "duration": 426,
    "start_time": "2021-09-10T19:00:13.306Z"
   },
   {
    "duration": 36,
    "start_time": "2021-09-10T19:00:14.846Z"
   },
   {
    "duration": 35,
    "start_time": "2021-09-10T19:00:17.490Z"
   },
   {
    "duration": 34,
    "start_time": "2021-09-10T19:00:18.415Z"
   },
   {
    "duration": 731,
    "start_time": "2021-09-10T19:02:29.423Z"
   },
   {
    "duration": 899,
    "start_time": "2021-09-10T19:02:36.448Z"
   },
   {
    "duration": 481,
    "start_time": "2021-09-10T19:02:42.741Z"
   },
   {
    "duration": 355,
    "start_time": "2021-09-10T19:02:48.672Z"
   },
   {
    "duration": 314,
    "start_time": "2021-09-10T19:02:55.235Z"
   },
   {
    "duration": 437,
    "start_time": "2021-09-10T19:03:01.309Z"
   },
   {
    "duration": 1336,
    "start_time": "2021-09-10T19:03:09.046Z"
   },
   {
    "duration": 37,
    "start_time": "2021-09-10T19:03:10.385Z"
   },
   {
    "duration": 33,
    "start_time": "2021-09-10T19:03:10.425Z"
   },
   {
    "duration": 6,
    "start_time": "2021-09-10T19:03:10.461Z"
   },
   {
    "duration": 63,
    "start_time": "2021-09-10T19:03:10.469Z"
   },
   {
    "duration": 9,
    "start_time": "2021-09-10T19:03:10.555Z"
   },
   {
    "duration": 19,
    "start_time": "2021-09-10T19:03:10.567Z"
   },
   {
    "duration": 21,
    "start_time": "2021-09-10T19:03:10.590Z"
   },
   {
    "duration": 7,
    "start_time": "2021-09-10T19:03:10.614Z"
   },
   {
    "duration": 36,
    "start_time": "2021-09-10T19:03:10.623Z"
   },
   {
    "duration": 8,
    "start_time": "2021-09-10T19:03:10.662Z"
   },
   {
    "duration": 13,
    "start_time": "2021-09-10T19:03:10.673Z"
   },
   {
    "duration": 12,
    "start_time": "2021-09-10T19:03:10.688Z"
   },
   {
    "duration": 8,
    "start_time": "2021-09-10T19:03:10.702Z"
   },
   {
    "duration": 49,
    "start_time": "2021-09-10T19:03:10.712Z"
   },
   {
    "duration": 6,
    "start_time": "2021-09-10T19:03:10.764Z"
   },
   {
    "duration": 12,
    "start_time": "2021-09-10T19:03:10.772Z"
   },
   {
    "duration": 12,
    "start_time": "2021-09-10T19:03:10.786Z"
   },
   {
    "duration": 5,
    "start_time": "2021-09-10T19:03:10.801Z"
   },
   {
    "duration": 61,
    "start_time": "2021-09-10T19:03:10.809Z"
   },
   {
    "duration": 18,
    "start_time": "2021-09-10T19:03:10.872Z"
   },
   {
    "duration": 8,
    "start_time": "2021-09-10T19:03:10.892Z"
   },
   {
    "duration": 14,
    "start_time": "2021-09-10T19:03:10.906Z"
   },
   {
    "duration": 37,
    "start_time": "2021-09-10T19:03:10.923Z"
   },
   {
    "duration": 9,
    "start_time": "2021-09-10T19:03:10.963Z"
   },
   {
    "duration": 6,
    "start_time": "2021-09-10T19:03:10.975Z"
   },
   {
    "duration": 8,
    "start_time": "2021-09-10T19:03:10.984Z"
   },
   {
    "duration": 8,
    "start_time": "2021-09-10T19:03:10.995Z"
   },
   {
    "duration": 51,
    "start_time": "2021-09-10T19:03:11.005Z"
   },
   {
    "duration": 7,
    "start_time": "2021-09-10T19:03:11.059Z"
   },
   {
    "duration": 189,
    "start_time": "2021-09-10T19:03:11.068Z"
   },
   {
    "duration": 102,
    "start_time": "2021-09-10T19:03:11.260Z"
   },
   {
    "duration": 13,
    "start_time": "2021-09-10T19:03:11.455Z"
   },
   {
    "duration": 5,
    "start_time": "2021-09-10T19:03:11.471Z"
   },
   {
    "duration": 11,
    "start_time": "2021-09-10T19:03:11.479Z"
   },
   {
    "duration": 11,
    "start_time": "2021-09-10T19:03:11.492Z"
   },
   {
    "duration": 155,
    "start_time": "2021-09-10T19:03:11.506Z"
   },
   {
    "duration": 100,
    "start_time": "2021-09-10T19:03:11.664Z"
   },
   {
    "duration": 13,
    "start_time": "2021-09-10T19:03:11.857Z"
   },
   {
    "duration": 10,
    "start_time": "2021-09-10T19:03:11.956Z"
   },
   {
    "duration": 15,
    "start_time": "2021-09-10T19:03:11.968Z"
   },
   {
    "duration": 171,
    "start_time": "2021-09-10T19:03:11.985Z"
   },
   {
    "duration": 102,
    "start_time": "2021-09-10T19:03:12.160Z"
   },
   {
    "duration": 91,
    "start_time": "2021-09-10T19:03:12.266Z"
   },
   {
    "duration": 4623,
    "start_time": "2021-09-10T19:03:12.361Z"
   },
   {
    "duration": 432,
    "start_time": "2021-09-10T19:03:16.986Z"
   },
   {
    "duration": 43,
    "start_time": "2021-09-10T19:03:17.421Z"
   },
   {
    "duration": 6,
    "start_time": "2021-09-10T19:03:17.466Z"
   },
   {
    "duration": 29,
    "start_time": "2021-09-10T19:03:17.473Z"
   },
   {
    "duration": 501,
    "start_time": "2021-09-10T19:03:17.504Z"
   },
   {
    "duration": 431,
    "start_time": "2021-09-10T19:03:18.007Z"
   },
   {
    "duration": 37,
    "start_time": "2021-09-10T19:03:18.441Z"
   },
   {
    "duration": 32,
    "start_time": "2021-09-10T19:03:18.481Z"
   },
   {
    "duration": 59,
    "start_time": "2021-09-10T19:03:18.515Z"
   },
   {
    "duration": 418,
    "start_time": "2021-09-10T19:04:45.227Z"
   },
   {
    "duration": 426,
    "start_time": "2021-09-10T19:05:22.548Z"
   },
   {
    "duration": 413,
    "start_time": "2021-09-10T19:05:46.415Z"
   },
   {
    "duration": 419,
    "start_time": "2021-09-10T19:05:54.993Z"
   },
   {
    "duration": 1396,
    "start_time": "2021-09-10T19:06:01.598Z"
   },
   {
    "duration": 39,
    "start_time": "2021-09-10T19:06:02.997Z"
   },
   {
    "duration": 38,
    "start_time": "2021-09-10T19:06:03.039Z"
   },
   {
    "duration": 6,
    "start_time": "2021-09-10T19:06:03.080Z"
   },
   {
    "duration": 81,
    "start_time": "2021-09-10T19:06:03.088Z"
   },
   {
    "duration": 9,
    "start_time": "2021-09-10T19:06:03.172Z"
   },
   {
    "duration": 16,
    "start_time": "2021-09-10T19:06:03.183Z"
   },
   {
    "duration": 27,
    "start_time": "2021-09-10T19:06:03.203Z"
   },
   {
    "duration": 29,
    "start_time": "2021-09-10T19:06:03.232Z"
   },
   {
    "duration": 20,
    "start_time": "2021-09-10T19:06:03.264Z"
   },
   {
    "duration": 10,
    "start_time": "2021-09-10T19:06:03.287Z"
   },
   {
    "duration": 11,
    "start_time": "2021-09-10T19:06:03.300Z"
   },
   {
    "duration": 20,
    "start_time": "2021-09-10T19:06:03.314Z"
   },
   {
    "duration": 25,
    "start_time": "2021-09-10T19:06:03.336Z"
   },
   {
    "duration": 11,
    "start_time": "2021-09-10T19:06:03.364Z"
   },
   {
    "duration": 11,
    "start_time": "2021-09-10T19:06:03.377Z"
   },
   {
    "duration": 22,
    "start_time": "2021-09-10T19:06:03.390Z"
   },
   {
    "duration": 20,
    "start_time": "2021-09-10T19:06:03.414Z"
   },
   {
    "duration": 18,
    "start_time": "2021-09-10T19:06:03.436Z"
   },
   {
    "duration": 26,
    "start_time": "2021-09-10T19:06:03.457Z"
   },
   {
    "duration": 15,
    "start_time": "2021-09-10T19:06:03.486Z"
   },
   {
    "duration": 13,
    "start_time": "2021-09-10T19:06:03.504Z"
   },
   {
    "duration": 37,
    "start_time": "2021-09-10T19:06:03.523Z"
   },
   {
    "duration": 7,
    "start_time": "2021-09-10T19:06:03.563Z"
   },
   {
    "duration": 9,
    "start_time": "2021-09-10T19:06:03.572Z"
   },
   {
    "duration": 10,
    "start_time": "2021-09-10T19:06:03.583Z"
   },
   {
    "duration": 16,
    "start_time": "2021-09-10T19:06:03.595Z"
   },
   {
    "duration": 14,
    "start_time": "2021-09-10T19:06:03.613Z"
   },
   {
    "duration": 27,
    "start_time": "2021-09-10T19:06:03.629Z"
   },
   {
    "duration": 12,
    "start_time": "2021-09-10T19:06:03.658Z"
   },
   {
    "duration": 186,
    "start_time": "2021-09-10T19:06:03.673Z"
   },
   {
    "duration": 98,
    "start_time": "2021-09-10T19:06:03.863Z"
   },
   {
    "duration": 96,
    "start_time": "2021-09-10T19:06:03.964Z"
   },
   {
    "duration": 93,
    "start_time": "2021-09-10T19:06:04.063Z"
   },
   {
    "duration": 13,
    "start_time": "2021-09-10T19:06:04.159Z"
   },
   {
    "duration": 14,
    "start_time": "2021-09-10T19:06:04.174Z"
   },
   {
    "duration": 168,
    "start_time": "2021-09-10T19:06:04.190Z"
   },
   {
    "duration": 194,
    "start_time": "2021-09-10T19:06:04.362Z"
   },
   {
    "duration": 104,
    "start_time": "2021-09-10T19:06:04.559Z"
   },
   {
    "duration": 13,
    "start_time": "2021-09-10T19:06:04.665Z"
   },
   {
    "duration": 10,
    "start_time": "2021-09-10T19:06:04.681Z"
   },
   {
    "duration": 163,
    "start_time": "2021-09-10T19:06:04.693Z"
   },
   {
    "duration": 97,
    "start_time": "2021-09-10T19:06:04.858Z"
   },
   {
    "duration": 96,
    "start_time": "2021-09-10T19:06:04.960Z"
   },
   {
    "duration": 4371,
    "start_time": "2021-09-10T19:06:05.058Z"
   },
   {
    "duration": 444,
    "start_time": "2021-09-10T19:06:09.432Z"
   },
   {
    "duration": 35,
    "start_time": "2021-09-10T19:06:09.879Z"
   },
   {
    "duration": 7,
    "start_time": "2021-09-10T19:06:09.916Z"
   },
   {
    "duration": 33,
    "start_time": "2021-09-10T19:06:09.926Z"
   },
   {
    "duration": 526,
    "start_time": "2021-09-10T19:06:09.962Z"
   },
   {
    "duration": 435,
    "start_time": "2021-09-10T19:06:10.490Z"
   },
   {
    "duration": 47,
    "start_time": "2021-09-10T19:06:10.928Z"
   },
   {
    "duration": 34,
    "start_time": "2021-09-10T19:06:10.978Z"
   },
   {
    "duration": 54,
    "start_time": "2021-09-10T19:06:11.015Z"
   },
   {
    "duration": 1395,
    "start_time": "2021-09-10T19:11:10.705Z"
   },
   {
    "duration": 70,
    "start_time": "2021-09-10T19:11:12.103Z"
   },
   {
    "duration": 27,
    "start_time": "2021-09-10T19:11:12.176Z"
   },
   {
    "duration": 8,
    "start_time": "2021-09-10T19:11:12.206Z"
   },
   {
    "duration": 81,
    "start_time": "2021-09-10T19:11:12.216Z"
   },
   {
    "duration": 8,
    "start_time": "2021-09-10T19:11:12.300Z"
   },
   {
    "duration": 23,
    "start_time": "2021-09-10T19:11:12.311Z"
   },
   {
    "duration": 26,
    "start_time": "2021-09-10T19:11:12.338Z"
   },
   {
    "duration": 7,
    "start_time": "2021-09-10T19:11:12.367Z"
   },
   {
    "duration": 23,
    "start_time": "2021-09-10T19:11:12.377Z"
   },
   {
    "duration": 17,
    "start_time": "2021-09-10T19:11:12.403Z"
   },
   {
    "duration": 17,
    "start_time": "2021-09-10T19:11:12.422Z"
   },
   {
    "duration": 20,
    "start_time": "2021-09-10T19:11:12.441Z"
   },
   {
    "duration": 28,
    "start_time": "2021-09-10T19:11:12.464Z"
   },
   {
    "duration": 18,
    "start_time": "2021-09-10T19:11:12.494Z"
   },
   {
    "duration": 11,
    "start_time": "2021-09-10T19:11:12.514Z"
   },
   {
    "duration": 27,
    "start_time": "2021-09-10T19:11:12.527Z"
   },
   {
    "duration": 26,
    "start_time": "2021-09-10T19:11:12.557Z"
   },
   {
    "duration": 22,
    "start_time": "2021-09-10T19:11:12.585Z"
   },
   {
    "duration": 35,
    "start_time": "2021-09-10T19:11:12.609Z"
   },
   {
    "duration": 17,
    "start_time": "2021-09-10T19:11:12.647Z"
   },
   {
    "duration": 11,
    "start_time": "2021-09-10T19:11:12.667Z"
   },
   {
    "duration": 18,
    "start_time": "2021-09-10T19:11:12.684Z"
   },
   {
    "duration": 13,
    "start_time": "2021-09-10T19:11:12.707Z"
   },
   {
    "duration": 28,
    "start_time": "2021-09-10T19:11:12.722Z"
   },
   {
    "duration": 36,
    "start_time": "2021-09-10T19:11:12.753Z"
   },
   {
    "duration": 20,
    "start_time": "2021-09-10T19:11:12.792Z"
   },
   {
    "duration": 19,
    "start_time": "2021-09-10T19:11:12.814Z"
   },
   {
    "duration": 10,
    "start_time": "2021-09-10T19:11:12.835Z"
   },
   {
    "duration": 19,
    "start_time": "2021-09-10T19:11:12.847Z"
   },
   {
    "duration": 93,
    "start_time": "2021-09-10T19:11:12.868Z"
   },
   {
    "duration": 98,
    "start_time": "2021-09-10T19:11:12.964Z"
   },
   {
    "duration": 198,
    "start_time": "2021-09-10T19:11:13.066Z"
   },
   {
    "duration": 8,
    "start_time": "2021-09-10T19:11:13.267Z"
   },
   {
    "duration": 19,
    "start_time": "2021-09-10T19:11:13.278Z"
   },
   {
    "duration": 58,
    "start_time": "2021-09-10T19:11:13.300Z"
   },
   {
    "duration": 194,
    "start_time": "2021-09-10T19:11:13.362Z"
   },
   {
    "duration": 96,
    "start_time": "2021-09-10T19:11:13.559Z"
   },
   {
    "duration": 100,
    "start_time": "2021-09-10T19:11:13.658Z"
   },
   {
    "duration": 18,
    "start_time": "2021-09-10T19:11:13.761Z"
   },
   {
    "duration": 19,
    "start_time": "2021-09-10T19:11:13.781Z"
   },
   {
    "duration": 264,
    "start_time": "2021-09-10T19:11:13.803Z"
   },
   {
    "duration": 99,
    "start_time": "2021-09-10T19:11:14.156Z"
   },
   {
    "duration": 9,
    "start_time": "2021-09-10T19:11:14.258Z"
   },
   {
    "duration": 4970,
    "start_time": "2021-09-10T19:11:14.354Z"
   },
   {
    "duration": 429,
    "start_time": "2021-09-10T19:11:19.327Z"
   },
   {
    "duration": 40,
    "start_time": "2021-09-10T19:11:19.759Z"
   },
   {
    "duration": 5,
    "start_time": "2021-09-10T19:11:19.801Z"
   },
   {
    "duration": 28,
    "start_time": "2021-09-10T19:11:19.808Z"
   },
   {
    "duration": 517,
    "start_time": "2021-09-10T19:11:19.838Z"
   },
   {
    "duration": 434,
    "start_time": "2021-09-10T19:11:20.357Z"
   },
   {
    "duration": 33,
    "start_time": "2021-09-10T19:11:20.794Z"
   },
   {
    "duration": 55,
    "start_time": "2021-09-10T19:11:20.830Z"
   },
   {
    "duration": 35,
    "start_time": "2021-09-10T19:11:20.887Z"
   },
   {
    "duration": 374,
    "start_time": "2021-09-10T19:11:56.648Z"
   },
   {
    "duration": 31,
    "start_time": "2021-09-10T19:11:58.083Z"
   },
   {
    "duration": 419,
    "start_time": "2021-09-10T19:13:57.020Z"
   },
   {
    "duration": 424,
    "start_time": "2021-09-10T19:14:04.831Z"
   },
   {
    "duration": 1331,
    "start_time": "2021-09-10T19:22:44.143Z"
   },
   {
    "duration": 36,
    "start_time": "2021-09-10T19:22:45.477Z"
   },
   {
    "duration": 26,
    "start_time": "2021-09-10T19:22:45.517Z"
   },
   {
    "duration": 5,
    "start_time": "2021-09-10T19:22:45.554Z"
   },
   {
    "duration": 60,
    "start_time": "2021-09-10T19:22:45.561Z"
   },
   {
    "duration": 35,
    "start_time": "2021-09-10T19:22:45.624Z"
   },
   {
    "duration": 14,
    "start_time": "2021-09-10T19:22:45.662Z"
   },
   {
    "duration": 22,
    "start_time": "2021-09-10T19:22:45.681Z"
   },
   {
    "duration": 54,
    "start_time": "2021-09-10T19:22:45.707Z"
   },
   {
    "duration": 14,
    "start_time": "2021-09-10T19:22:45.764Z"
   },
   {
    "duration": 11,
    "start_time": "2021-09-10T19:22:45.781Z"
   },
   {
    "duration": 11,
    "start_time": "2021-09-10T19:22:45.795Z"
   },
   {
    "duration": 47,
    "start_time": "2021-09-10T19:22:45.809Z"
   },
   {
    "duration": 10,
    "start_time": "2021-09-10T19:22:45.859Z"
   },
   {
    "duration": 11,
    "start_time": "2021-09-10T19:22:45.872Z"
   },
   {
    "duration": 5,
    "start_time": "2021-09-10T19:22:45.886Z"
   },
   {
    "duration": 12,
    "start_time": "2021-09-10T19:22:45.894Z"
   },
   {
    "duration": 11,
    "start_time": "2021-09-10T19:22:45.955Z"
   },
   {
    "duration": 6,
    "start_time": "2021-09-10T19:22:45.969Z"
   },
   {
    "duration": 31,
    "start_time": "2021-09-10T19:22:45.977Z"
   },
   {
    "duration": 43,
    "start_time": "2021-09-10T19:22:46.011Z"
   },
   {
    "duration": 7,
    "start_time": "2021-09-10T19:22:46.057Z"
   },
   {
    "duration": 11,
    "start_time": "2021-09-10T19:22:46.069Z"
   },
   {
    "duration": 8,
    "start_time": "2021-09-10T19:22:46.083Z"
   },
   {
    "duration": 12,
    "start_time": "2021-09-10T19:22:46.093Z"
   },
   {
    "duration": 8,
    "start_time": "2021-09-10T19:22:46.108Z"
   },
   {
    "duration": 7,
    "start_time": "2021-09-10T19:22:46.155Z"
   },
   {
    "duration": 11,
    "start_time": "2021-09-10T19:22:46.165Z"
   },
   {
    "duration": 7,
    "start_time": "2021-09-10T19:22:46.178Z"
   },
   {
    "duration": 11,
    "start_time": "2021-09-10T19:22:46.187Z"
   },
   {
    "duration": 161,
    "start_time": "2021-09-10T19:22:46.201Z"
   },
   {
    "duration": 18,
    "start_time": "2021-09-10T19:22:46.455Z"
   },
   {
    "duration": 104,
    "start_time": "2021-09-10T19:22:46.561Z"
   },
   {
    "duration": 6,
    "start_time": "2021-09-10T19:22:46.668Z"
   },
   {
    "duration": 19,
    "start_time": "2021-09-10T19:22:46.677Z"
   },
   {
    "duration": 10,
    "start_time": "2021-09-10T19:22:46.698Z"
   },
   {
    "duration": 146,
    "start_time": "2021-09-10T19:22:46.710Z"
   },
   {
    "duration": 100,
    "start_time": "2021-09-10T19:22:46.860Z"
   },
   {
    "duration": 98,
    "start_time": "2021-09-10T19:22:46.964Z"
   },
   {
    "duration": 8,
    "start_time": "2021-09-10T19:22:47.154Z"
   },
   {
    "duration": 35,
    "start_time": "2021-09-10T19:22:47.164Z"
   },
   {
    "duration": 162,
    "start_time": "2021-09-10T19:22:47.201Z"
   },
   {
    "duration": 13,
    "start_time": "2021-09-10T19:22:47.456Z"
   },
   {
    "duration": 183,
    "start_time": "2021-09-10T19:22:47.472Z"
   },
   {
    "duration": 4454,
    "start_time": "2021-09-10T19:22:47.658Z"
   },
   {
    "duration": 430,
    "start_time": "2021-09-10T19:22:52.114Z"
   },
   {
    "duration": 35,
    "start_time": "2021-09-10T19:22:52.546Z"
   },
   {
    "duration": 5,
    "start_time": "2021-09-10T19:22:52.584Z"
   },
   {
    "duration": 10,
    "start_time": "2021-09-10T19:22:52.592Z"
   },
   {
    "duration": 519,
    "start_time": "2021-09-10T19:22:52.604Z"
   },
   {
    "duration": 390,
    "start_time": "2021-09-10T19:22:53.125Z"
   },
   {
    "duration": 43,
    "start_time": "2021-09-10T19:22:53.517Z"
   },
   {
    "duration": 32,
    "start_time": "2021-09-10T19:22:53.562Z"
   },
   {
    "duration": 31,
    "start_time": "2021-09-10T19:22:53.596Z"
   },
   {
    "duration": 743,
    "start_time": "2021-09-10T19:24:27.705Z"
   },
   {
    "duration": 7,
    "start_time": "2021-09-10T19:26:18.183Z"
   },
   {
    "duration": 383,
    "start_time": "2021-09-10T19:26:19.763Z"
   },
   {
    "duration": 1499,
    "start_time": "2021-09-10T19:27:34.090Z"
   },
   {
    "duration": 36,
    "start_time": "2021-09-10T19:27:35.592Z"
   },
   {
    "duration": 29,
    "start_time": "2021-09-10T19:27:35.631Z"
   },
   {
    "duration": 25,
    "start_time": "2021-09-10T19:27:35.663Z"
   },
   {
    "duration": 76,
    "start_time": "2021-09-10T19:27:35.691Z"
   },
   {
    "duration": 11,
    "start_time": "2021-09-10T19:27:35.770Z"
   },
   {
    "duration": 14,
    "start_time": "2021-09-10T19:27:35.783Z"
   },
   {
    "duration": 54,
    "start_time": "2021-09-10T19:27:35.802Z"
   },
   {
    "duration": 10,
    "start_time": "2021-09-10T19:27:35.860Z"
   },
   {
    "duration": 22,
    "start_time": "2021-09-10T19:27:35.873Z"
   },
   {
    "duration": 22,
    "start_time": "2021-09-10T19:27:35.898Z"
   },
   {
    "duration": 12,
    "start_time": "2021-09-10T19:27:35.922Z"
   },
   {
    "duration": 27,
    "start_time": "2021-09-10T19:27:35.937Z"
   },
   {
    "duration": 9,
    "start_time": "2021-09-10T19:27:35.967Z"
   },
   {
    "duration": 7,
    "start_time": "2021-09-10T19:27:35.979Z"
   },
   {
    "duration": 5,
    "start_time": "2021-09-10T19:27:35.988Z"
   },
   {
    "duration": 60,
    "start_time": "2021-09-10T19:27:35.995Z"
   },
   {
    "duration": 8,
    "start_time": "2021-09-10T19:27:36.057Z"
   },
   {
    "duration": 10,
    "start_time": "2021-09-10T19:27:36.068Z"
   },
   {
    "duration": 27,
    "start_time": "2021-09-10T19:27:36.080Z"
   },
   {
    "duration": 22,
    "start_time": "2021-09-10T19:27:36.109Z"
   },
   {
    "duration": 6,
    "start_time": "2021-09-10T19:27:36.154Z"
   },
   {
    "duration": 12,
    "start_time": "2021-09-10T19:27:36.166Z"
   },
   {
    "duration": 7,
    "start_time": "2021-09-10T19:27:36.181Z"
   },
   {
    "duration": 8,
    "start_time": "2021-09-10T19:27:36.190Z"
   },
   {
    "duration": 16,
    "start_time": "2021-09-10T19:27:36.200Z"
   },
   {
    "duration": 43,
    "start_time": "2021-09-10T19:27:36.218Z"
   },
   {
    "duration": 12,
    "start_time": "2021-09-10T19:27:36.264Z"
   },
   {
    "duration": 6,
    "start_time": "2021-09-10T19:27:36.278Z"
   },
   {
    "duration": 7,
    "start_time": "2021-09-10T19:27:36.287Z"
   },
   {
    "duration": 160,
    "start_time": "2021-09-10T19:27:36.296Z"
   },
   {
    "duration": 196,
    "start_time": "2021-09-10T19:27:36.459Z"
   },
   {
    "duration": 96,
    "start_time": "2021-09-10T19:27:36.658Z"
   },
   {
    "duration": 5,
    "start_time": "2021-09-10T19:27:36.757Z"
   },
   {
    "duration": 30,
    "start_time": "2021-09-10T19:27:36.764Z"
   },
   {
    "duration": 19,
    "start_time": "2021-09-10T19:27:36.796Z"
   },
   {
    "duration": 139,
    "start_time": "2021-09-10T19:27:36.817Z"
   },
   {
    "duration": 104,
    "start_time": "2021-09-10T19:27:36.959Z"
   },
   {
    "duration": 8,
    "start_time": "2021-09-10T19:27:37.155Z"
   },
   {
    "duration": 9,
    "start_time": "2021-09-10T19:27:37.166Z"
   },
   {
    "duration": 82,
    "start_time": "2021-09-10T19:27:37.177Z"
   },
   {
    "duration": 200,
    "start_time": "2021-09-10T19:27:37.261Z"
   },
   {
    "duration": 11,
    "start_time": "2021-09-10T19:27:37.554Z"
   },
   {
    "duration": 92,
    "start_time": "2021-09-10T19:27:37.568Z"
   },
   {
    "duration": 4871,
    "start_time": "2021-09-10T19:27:37.663Z"
   },
   {
    "duration": 446,
    "start_time": "2021-09-10T19:27:42.537Z"
   },
   {
    "duration": 33,
    "start_time": "2021-09-10T19:27:42.986Z"
   },
   {
    "duration": 34,
    "start_time": "2021-09-10T19:27:43.021Z"
   },
   {
    "duration": 7,
    "start_time": "2021-09-10T19:27:43.058Z"
   },
   {
    "duration": 533,
    "start_time": "2021-09-10T19:27:43.067Z"
   },
   {
    "duration": 387,
    "start_time": "2021-09-10T19:27:43.603Z"
   },
   {
    "duration": 30,
    "start_time": "2021-09-10T19:27:43.992Z"
   },
   {
    "duration": 5,
    "start_time": "2021-09-10T19:27:44.025Z"
   },
   {
    "duration": 382,
    "start_time": "2021-09-10T19:27:44.055Z"
   },
   {
    "duration": 41,
    "start_time": "2021-09-10T19:27:44.440Z"
   },
   {
    "duration": 31,
    "start_time": "2021-09-10T19:27:44.484Z"
   },
   {
    "duration": 1322,
    "start_time": "2021-09-11T11:49:49.471Z"
   },
   {
    "duration": 32,
    "start_time": "2021-09-11T11:49:55.070Z"
   },
   {
    "duration": 26,
    "start_time": "2021-09-11T11:49:56.034Z"
   },
   {
    "duration": 5,
    "start_time": "2021-09-11T11:49:56.429Z"
   },
   {
    "duration": 68,
    "start_time": "2021-09-11T11:49:57.251Z"
   },
   {
    "duration": 9,
    "start_time": "2021-09-11T11:50:00.151Z"
   },
   {
    "duration": 13,
    "start_time": "2021-09-11T11:50:01.550Z"
   },
   {
    "duration": 22,
    "start_time": "2021-09-11T11:50:07.720Z"
   },
   {
    "duration": 9,
    "start_time": "2021-09-11T11:50:08.886Z"
   },
   {
    "duration": 9,
    "start_time": "2021-09-11T11:50:09.287Z"
   },
   {
    "duration": 8,
    "start_time": "2021-09-11T11:50:09.589Z"
   },
   {
    "duration": 8,
    "start_time": "2021-09-11T11:50:11.553Z"
   },
   {
    "duration": 9,
    "start_time": "2021-09-11T11:50:12.900Z"
   },
   {
    "duration": 8,
    "start_time": "2021-09-11T11:50:13.970Z"
   },
   {
    "duration": 8,
    "start_time": "2021-09-11T11:50:17.852Z"
   },
   {
    "duration": 379,
    "start_time": "2021-09-11T11:51:33.201Z"
   },
   {
    "duration": 264,
    "start_time": "2021-09-11T11:52:22.138Z"
   },
   {
    "duration": 5,
    "start_time": "2021-09-11T11:52:46.295Z"
   },
   {
    "duration": 1308,
    "start_time": "2021-09-11T11:53:01.065Z"
   },
   {
    "duration": 34,
    "start_time": "2021-09-11T11:53:02.375Z"
   },
   {
    "duration": 28,
    "start_time": "2021-09-11T11:53:02.412Z"
   },
   {
    "duration": 5,
    "start_time": "2021-09-11T11:53:02.443Z"
   },
   {
    "duration": 84,
    "start_time": "2021-09-11T11:53:02.451Z"
   },
   {
    "duration": 11,
    "start_time": "2021-09-11T11:53:02.538Z"
   },
   {
    "duration": 39,
    "start_time": "2021-09-11T11:53:02.551Z"
   },
   {
    "duration": 20,
    "start_time": "2021-09-11T11:53:02.595Z"
   },
   {
    "duration": 7,
    "start_time": "2021-09-11T11:53:02.619Z"
   },
   {
    "duration": 55,
    "start_time": "2021-09-11T11:53:02.629Z"
   },
   {
    "duration": 11,
    "start_time": "2021-09-11T11:53:02.686Z"
   },
   {
    "duration": 10,
    "start_time": "2021-09-11T11:53:02.699Z"
   },
   {
    "duration": 11,
    "start_time": "2021-09-11T11:53:02.712Z"
   },
   {
    "duration": 8,
    "start_time": "2021-09-11T11:53:02.725Z"
   },
   {
    "duration": 8,
    "start_time": "2021-09-11T11:53:02.783Z"
   },
   {
    "duration": 11,
    "start_time": "2021-09-11T11:53:02.794Z"
   },
   {
    "duration": 11,
    "start_time": "2021-09-11T11:53:02.807Z"
   },
   {
    "duration": 19,
    "start_time": "2021-09-11T11:53:02.821Z"
   },
   {
    "duration": 8,
    "start_time": "2021-09-11T11:53:02.843Z"
   },
   {
    "duration": 5,
    "start_time": "2021-09-11T11:53:02.853Z"
   },
   {
    "duration": 38,
    "start_time": "2021-09-11T11:53:02.860Z"
   },
   {
    "duration": 16,
    "start_time": "2021-09-11T11:53:02.900Z"
   },
   {
    "duration": 6,
    "start_time": "2021-09-11T11:53:02.921Z"
   },
   {
    "duration": 12,
    "start_time": "2021-09-11T11:53:02.930Z"
   },
   {
    "duration": 44,
    "start_time": "2021-09-11T11:53:02.944Z"
   },
   {
    "duration": 8,
    "start_time": "2021-09-11T11:53:02.990Z"
   },
   {
    "duration": 6,
    "start_time": "2021-09-11T11:53:03.000Z"
   },
   {
    "duration": 9,
    "start_time": "2021-09-11T11:53:03.009Z"
   },
   {
    "duration": 12,
    "start_time": "2021-09-11T11:53:03.020Z"
   },
   {
    "duration": 12,
    "start_time": "2021-09-11T11:53:03.035Z"
   },
   {
    "duration": 33,
    "start_time": "2021-09-11T11:53:03.050Z"
   },
   {
    "duration": 103,
    "start_time": "2021-09-11T11:53:03.086Z"
   },
   {
    "duration": 101,
    "start_time": "2021-09-11T11:53:03.192Z"
   },
   {
    "duration": 98,
    "start_time": "2021-09-11T11:53:03.385Z"
   },
   {
    "duration": 10,
    "start_time": "2021-09-11T11:53:03.485Z"
   },
   {
    "duration": 8,
    "start_time": "2021-09-11T11:53:03.498Z"
   },
   {
    "duration": 7,
    "start_time": "2021-09-11T11:53:03.509Z"
   },
   {
    "duration": 165,
    "start_time": "2021-09-11T11:53:03.518Z"
   },
   {
    "duration": 104,
    "start_time": "2021-09-11T11:53:03.686Z"
   },
   {
    "duration": 10,
    "start_time": "2021-09-11T11:53:03.883Z"
   },
   {
    "duration": 10,
    "start_time": "2021-09-11T11:53:03.895Z"
   },
   {
    "duration": 83,
    "start_time": "2021-09-11T11:53:03.908Z"
   },
   {
    "duration": 190,
    "start_time": "2021-09-11T11:53:03.993Z"
   },
   {
    "duration": 99,
    "start_time": "2021-09-11T11:53:04.186Z"
   },
   {
    "duration": 94,
    "start_time": "2021-09-11T11:53:04.288Z"
   },
   {
    "duration": 4464,
    "start_time": "2021-09-11T11:53:04.385Z"
   },
   {
    "duration": 414,
    "start_time": "2021-09-11T11:53:08.851Z"
   },
   {
    "duration": 39,
    "start_time": "2021-09-11T11:53:09.268Z"
   },
   {
    "duration": 5,
    "start_time": "2021-09-11T11:53:09.310Z"
   },
   {
    "duration": 8,
    "start_time": "2021-09-11T11:53:09.318Z"
   },
   {
    "duration": 510,
    "start_time": "2021-09-11T11:53:09.328Z"
   },
   {
    "duration": 380,
    "start_time": "2021-09-11T11:53:09.840Z"
   },
   {
    "duration": 28,
    "start_time": "2021-09-11T11:53:10.223Z"
   },
   {
    "duration": 5,
    "start_time": "2021-09-11T11:53:10.254Z"
   },
   {
    "duration": 372,
    "start_time": "2021-09-11T11:53:10.261Z"
   },
   {
    "duration": 47,
    "start_time": "2021-09-11T11:53:10.635Z"
   },
   {
    "duration": 31,
    "start_time": "2021-09-11T11:53:10.685Z"
   },
   {
    "duration": 1323,
    "start_time": "2021-09-11T11:54:52.163Z"
   },
   {
    "duration": 34,
    "start_time": "2021-09-11T11:54:53.488Z"
   },
   {
    "duration": 27,
    "start_time": "2021-09-11T11:54:53.525Z"
   },
   {
    "duration": 9,
    "start_time": "2021-09-11T11:54:53.554Z"
   },
   {
    "duration": 73,
    "start_time": "2021-09-11T11:54:53.565Z"
   },
   {
    "duration": 9,
    "start_time": "2021-09-11T11:54:53.641Z"
   },
   {
    "duration": 37,
    "start_time": "2021-09-11T11:54:53.652Z"
   },
   {
    "duration": 20,
    "start_time": "2021-09-11T11:54:53.693Z"
   },
   {
    "duration": 8,
    "start_time": "2021-09-11T11:54:53.716Z"
   },
   {
    "duration": 15,
    "start_time": "2021-09-11T11:54:53.727Z"
   },
   {
    "duration": 43,
    "start_time": "2021-09-11T11:54:53.744Z"
   },
   {
    "duration": 7,
    "start_time": "2021-09-11T11:54:53.789Z"
   },
   {
    "duration": 15,
    "start_time": "2021-09-11T11:54:53.798Z"
   },
   {
    "duration": 9,
    "start_time": "2021-09-11T11:54:53.815Z"
   },
   {
    "duration": 10,
    "start_time": "2021-09-11T11:54:53.826Z"
   },
   {
    "duration": 3,
    "start_time": "2021-09-11T11:54:53.838Z"
   },
   {
    "duration": 5,
    "start_time": "2021-09-11T11:54:53.883Z"
   },
   {
    "duration": 10,
    "start_time": "2021-09-11T11:54:53.890Z"
   },
   {
    "duration": 7,
    "start_time": "2021-09-11T11:54:53.903Z"
   },
   {
    "duration": 6,
    "start_time": "2021-09-11T11:54:53.912Z"
   },
   {
    "duration": 62,
    "start_time": "2021-09-11T11:54:53.920Z"
   },
   {
    "duration": 15,
    "start_time": "2021-09-11T11:54:53.984Z"
   },
   {
    "duration": 6,
    "start_time": "2021-09-11T11:54:54.006Z"
   },
   {
    "duration": 18,
    "start_time": "2021-09-11T11:54:54.015Z"
   },
   {
    "duration": 8,
    "start_time": "2021-09-11T11:54:54.035Z"
   },
   {
    "duration": 37,
    "start_time": "2021-09-11T11:54:54.045Z"
   },
   {
    "duration": 10,
    "start_time": "2021-09-11T11:54:54.084Z"
   },
   {
    "duration": 7,
    "start_time": "2021-09-11T11:54:54.096Z"
   },
   {
    "duration": 11,
    "start_time": "2021-09-11T11:54:54.105Z"
   },
   {
    "duration": 7,
    "start_time": "2021-09-11T11:54:54.118Z"
   },
   {
    "duration": 7,
    "start_time": "2021-09-11T11:54:54.127Z"
   },
   {
    "duration": 153,
    "start_time": "2021-09-11T11:54:54.136Z"
   },
   {
    "duration": 195,
    "start_time": "2021-09-11T11:54:54.292Z"
   },
   {
    "duration": 101,
    "start_time": "2021-09-11T11:54:54.491Z"
   },
   {
    "duration": 5,
    "start_time": "2021-09-11T11:54:54.594Z"
   },
   {
    "duration": 10,
    "start_time": "2021-09-11T11:54:54.601Z"
   },
   {
    "duration": 8,
    "start_time": "2021-09-11T11:54:54.614Z"
   },
   {
    "duration": 162,
    "start_time": "2021-09-11T11:54:54.625Z"
   },
   {
    "duration": 193,
    "start_time": "2021-09-11T11:54:54.790Z"
   },
   {
    "duration": 99,
    "start_time": "2021-09-11T11:54:54.988Z"
   },
   {
    "duration": 6,
    "start_time": "2021-09-11T11:54:55.090Z"
   },
   {
    "duration": 8,
    "start_time": "2021-09-11T11:54:55.098Z"
   },
   {
    "duration": 88,
    "start_time": "2021-09-11T11:54:55.108Z"
   },
   {
    "duration": 99,
    "start_time": "2021-09-11T11:54:55.284Z"
   },
   {
    "duration": 95,
    "start_time": "2021-09-11T11:54:55.387Z"
   },
   {
    "duration": 4454,
    "start_time": "2021-09-11T11:54:55.485Z"
   },
   {
    "duration": 407,
    "start_time": "2021-09-11T11:54:59.942Z"
   },
   {
    "duration": 42,
    "start_time": "2021-09-11T11:55:00.352Z"
   },
   {
    "duration": 7,
    "start_time": "2021-09-11T11:55:00.397Z"
   },
   {
    "duration": 13,
    "start_time": "2021-09-11T11:55:00.406Z"
   },
   {
    "duration": 479,
    "start_time": "2021-09-11T11:55:00.421Z"
   },
   {
    "duration": 368,
    "start_time": "2021-09-11T11:55:00.903Z"
   },
   {
    "duration": 33,
    "start_time": "2021-09-11T11:55:01.274Z"
   },
   {
    "duration": 5,
    "start_time": "2021-09-11T11:55:01.310Z"
   },
   {
    "duration": 381,
    "start_time": "2021-09-11T11:55:01.317Z"
   },
   {
    "duration": 30,
    "start_time": "2021-09-11T11:55:01.700Z"
   },
   {
    "duration": 50,
    "start_time": "2021-09-11T11:55:01.732Z"
   },
   {
    "duration": 5,
    "start_time": "2021-09-11T11:56:58.166Z"
   },
   {
    "duration": 1323,
    "start_time": "2021-09-11T11:57:09.771Z"
   },
   {
    "duration": 33,
    "start_time": "2021-09-11T11:57:11.096Z"
   },
   {
    "duration": 26,
    "start_time": "2021-09-11T11:57:11.131Z"
   },
   {
    "duration": 5,
    "start_time": "2021-09-11T11:57:11.159Z"
   },
   {
    "duration": 58,
    "start_time": "2021-09-11T11:57:11.183Z"
   },
   {
    "duration": 9,
    "start_time": "2021-09-11T11:57:11.243Z"
   },
   {
    "duration": 35,
    "start_time": "2021-09-11T11:57:11.254Z"
   },
   {
    "duration": 19,
    "start_time": "2021-09-11T11:57:11.293Z"
   },
   {
    "duration": 7,
    "start_time": "2021-09-11T11:57:11.315Z"
   },
   {
    "duration": 8,
    "start_time": "2021-09-11T11:57:11.325Z"
   },
   {
    "duration": 48,
    "start_time": "2021-09-11T11:57:11.336Z"
   },
   {
    "duration": 7,
    "start_time": "2021-09-11T11:57:11.386Z"
   },
   {
    "duration": 12,
    "start_time": "2021-09-11T11:57:11.395Z"
   },
   {
    "duration": 9,
    "start_time": "2021-09-11T11:57:11.409Z"
   },
   {
    "duration": 7,
    "start_time": "2021-09-11T11:57:11.420Z"
   },
   {
    "duration": 5,
    "start_time": "2021-09-11T11:57:11.429Z"
   },
   {
    "duration": 50,
    "start_time": "2021-09-11T11:57:11.436Z"
   },
   {
    "duration": 12,
    "start_time": "2021-09-11T11:57:11.488Z"
   },
   {
    "duration": 10,
    "start_time": "2021-09-11T11:57:11.503Z"
   },
   {
    "duration": 7,
    "start_time": "2021-09-11T11:57:11.516Z"
   },
   {
    "duration": 69,
    "start_time": "2021-09-11T11:57:11.525Z"
   },
   {
    "duration": 16,
    "start_time": "2021-09-11T11:57:11.596Z"
   },
   {
    "duration": 8,
    "start_time": "2021-09-11T11:57:11.617Z"
   },
   {
    "duration": 12,
    "start_time": "2021-09-11T11:57:11.629Z"
   },
   {
    "duration": 39,
    "start_time": "2021-09-11T11:57:11.643Z"
   },
   {
    "duration": 8,
    "start_time": "2021-09-11T11:57:11.684Z"
   },
   {
    "duration": 11,
    "start_time": "2021-09-11T11:57:11.694Z"
   },
   {
    "duration": 12,
    "start_time": "2021-09-11T11:57:11.707Z"
   },
   {
    "duration": 8,
    "start_time": "2021-09-11T11:57:11.722Z"
   },
   {
    "duration": 8,
    "start_time": "2021-09-11T11:57:11.733Z"
   },
   {
    "duration": 7,
    "start_time": "2021-09-11T11:57:11.743Z"
   },
   {
    "duration": 299,
    "start_time": "2021-09-11T11:57:11.784Z"
   },
   {
    "duration": 98,
    "start_time": "2021-09-11T11:57:12.085Z"
   },
   {
    "duration": 100,
    "start_time": "2021-09-11T11:57:12.186Z"
   },
   {
    "duration": 5,
    "start_time": "2021-09-11T11:57:12.288Z"
   },
   {
    "duration": 16,
    "start_time": "2021-09-11T11:57:12.295Z"
   },
   {
    "duration": 13,
    "start_time": "2021-09-11T11:57:12.313Z"
   },
   {
    "duration": 253,
    "start_time": "2021-09-11T11:57:12.328Z"
   },
   {
    "duration": 98,
    "start_time": "2021-09-11T11:57:12.586Z"
   },
   {
    "duration": 96,
    "start_time": "2021-09-11T11:57:12.687Z"
   },
   {
    "duration": 12,
    "start_time": "2021-09-11T11:57:12.786Z"
   },
   {
    "duration": 11,
    "start_time": "2021-09-11T11:57:12.801Z"
   },
   {
    "duration": 367,
    "start_time": "2021-09-11T11:57:12.815Z"
   },
   {
    "duration": 12,
    "start_time": "2021-09-11T11:57:13.186Z"
   },
   {
    "duration": 82,
    "start_time": "2021-09-11T11:57:13.201Z"
   },
   {
    "duration": 4601,
    "start_time": "2021-09-11T11:57:13.286Z"
   },
   {
    "duration": 412,
    "start_time": "2021-09-11T11:57:17.889Z"
   },
   {
    "duration": 32,
    "start_time": "2021-09-11T11:57:18.304Z"
   },
   {
    "duration": 6,
    "start_time": "2021-09-11T11:57:18.338Z"
   },
   {
    "duration": 36,
    "start_time": "2021-09-11T11:57:18.346Z"
   },
   {
    "duration": 461,
    "start_time": "2021-09-11T11:57:18.384Z"
   },
   {
    "duration": 364,
    "start_time": "2021-09-11T11:57:18.848Z"
   },
   {
    "duration": 29,
    "start_time": "2021-09-11T11:57:19.214Z"
   },
   {
    "duration": 6,
    "start_time": "2021-09-11T11:57:19.245Z"
   },
   {
    "duration": 353,
    "start_time": "2021-09-11T11:57:19.253Z"
   },
   {
    "duration": 29,
    "start_time": "2021-09-11T11:57:19.608Z"
   },
   {
    "duration": 52,
    "start_time": "2021-09-11T11:57:19.639Z"
   },
   {
    "duration": 378,
    "start_time": "2021-09-11T11:57:59.066Z"
   },
   {
    "duration": 280,
    "start_time": "2021-09-11T11:58:24.725Z"
   },
   {
    "duration": 262,
    "start_time": "2021-09-11T11:58:31.134Z"
   },
   {
    "duration": 5,
    "start_time": "2021-09-11T11:59:03.710Z"
   },
   {
    "duration": 10,
    "start_time": "2021-09-11T11:59:07.511Z"
   },
   {
    "duration": 8,
    "start_time": "2021-09-11T11:59:07.993Z"
   },
   {
    "duration": 5,
    "start_time": "2021-09-11T11:59:36.604Z"
   },
   {
    "duration": 9,
    "start_time": "2021-09-11T11:59:37.412Z"
   },
   {
    "duration": 1249,
    "start_time": "2021-09-11T12:27:34.733Z"
   },
   {
    "duration": 35,
    "start_time": "2021-09-11T12:27:35.985Z"
   },
   {
    "duration": 27,
    "start_time": "2021-09-11T12:27:36.024Z"
   },
   {
    "duration": 14,
    "start_time": "2021-09-11T12:27:36.054Z"
   },
   {
    "duration": 68,
    "start_time": "2021-09-11T12:27:36.071Z"
   },
   {
    "duration": 10,
    "start_time": "2021-09-11T12:27:36.142Z"
   },
   {
    "duration": 38,
    "start_time": "2021-09-11T12:27:36.155Z"
   },
   {
    "duration": 21,
    "start_time": "2021-09-11T12:27:36.198Z"
   },
   {
    "duration": 8,
    "start_time": "2021-09-11T12:27:36.222Z"
   },
   {
    "duration": 10,
    "start_time": "2021-09-11T12:27:36.233Z"
   },
   {
    "duration": 9,
    "start_time": "2021-09-11T12:27:36.284Z"
   },
   {
    "duration": 10,
    "start_time": "2021-09-11T12:27:36.296Z"
   },
   {
    "duration": 9,
    "start_time": "2021-09-11T12:27:36.309Z"
   },
   {
    "duration": 62,
    "start_time": "2021-09-11T12:27:36.321Z"
   },
   {
    "duration": 10,
    "start_time": "2021-09-11T12:27:36.386Z"
   },
   {
    "duration": 7,
    "start_time": "2021-09-11T12:27:36.398Z"
   },
   {
    "duration": 13,
    "start_time": "2021-09-11T12:27:36.407Z"
   },
   {
    "duration": 11,
    "start_time": "2021-09-11T12:27:36.422Z"
   },
   {
    "duration": 46,
    "start_time": "2021-09-11T12:27:36.436Z"
   },
   {
    "duration": 6,
    "start_time": "2021-09-11T12:27:36.485Z"
   },
   {
    "duration": 22,
    "start_time": "2021-09-11T12:27:36.494Z"
   },
   {
    "duration": 15,
    "start_time": "2021-09-11T12:27:36.519Z"
   },
   {
    "duration": 43,
    "start_time": "2021-09-11T12:27:36.539Z"
   },
   {
    "duration": 12,
    "start_time": "2021-09-11T12:27:36.585Z"
   },
   {
    "duration": 7,
    "start_time": "2021-09-11T12:27:36.599Z"
   },
   {
    "duration": 7,
    "start_time": "2021-09-11T12:27:36.608Z"
   },
   {
    "duration": 6,
    "start_time": "2021-09-11T12:27:36.618Z"
   },
   {
    "duration": 6,
    "start_time": "2021-09-11T12:27:36.627Z"
   },
   {
    "duration": 51,
    "start_time": "2021-09-11T12:27:36.635Z"
   },
   {
    "duration": 4,
    "start_time": "2021-09-11T12:27:36.689Z"
   },
   {
    "duration": 7,
    "start_time": "2021-09-11T12:27:36.695Z"
   },
   {
    "duration": 181,
    "start_time": "2021-09-11T12:27:36.704Z"
   },
   {
    "duration": 100,
    "start_time": "2021-09-11T12:27:36.891Z"
   },
   {
    "duration": 189,
    "start_time": "2021-09-11T12:27:36.994Z"
   },
   {
    "duration": 4,
    "start_time": "2021-09-11T12:27:37.186Z"
   },
   {
    "duration": 11,
    "start_time": "2021-09-11T12:27:37.193Z"
   },
   {
    "duration": 6,
    "start_time": "2021-09-11T12:27:37.207Z"
   },
   {
    "duration": 169,
    "start_time": "2021-09-11T12:27:37.215Z"
   },
   {
    "duration": 196,
    "start_time": "2021-09-11T12:27:37.387Z"
   },
   {
    "duration": 99,
    "start_time": "2021-09-11T12:27:37.587Z"
   },
   {
    "duration": 7,
    "start_time": "2021-09-11T12:27:37.688Z"
   },
   {
    "duration": 8,
    "start_time": "2021-09-11T12:27:37.697Z"
   },
   {
    "duration": 180,
    "start_time": "2021-09-11T12:27:37.707Z"
   },
   {
    "duration": 99,
    "start_time": "2021-09-11T12:27:37.891Z"
   },
   {
    "duration": 90,
    "start_time": "2021-09-11T12:27:37.993Z"
   },
   {
    "duration": 4189,
    "start_time": "2021-09-11T12:27:38.085Z"
   },
   {
    "duration": 413,
    "start_time": "2021-09-11T12:27:42.282Z"
   },
   {
    "duration": 41,
    "start_time": "2021-09-11T12:27:42.698Z"
   },
   {
    "duration": 6,
    "start_time": "2021-09-11T12:27:42.742Z"
   },
   {
    "duration": 32,
    "start_time": "2021-09-11T12:27:42.751Z"
   },
   {
    "duration": 483,
    "start_time": "2021-09-11T12:27:42.787Z"
   },
   {
    "duration": 366,
    "start_time": "2021-09-11T12:27:43.272Z"
   },
   {
    "duration": 29,
    "start_time": "2021-09-11T12:27:43.640Z"
   },
   {
    "duration": 5,
    "start_time": "2021-09-11T12:27:43.682Z"
   },
   {
    "duration": 353,
    "start_time": "2021-09-11T12:27:43.690Z"
   },
   {
    "duration": 41,
    "start_time": "2021-09-11T12:27:44.046Z"
   },
   {
    "duration": 30,
    "start_time": "2021-09-11T12:27:44.089Z"
   },
   {
    "duration": 5,
    "start_time": "2021-09-11T12:46:50.460Z"
   },
   {
    "duration": 5,
    "start_time": "2021-09-11T12:47:33.902Z"
   },
   {
    "duration": 5,
    "start_time": "2021-09-11T12:47:37.853Z"
   },
   {
    "duration": 1253,
    "start_time": "2021-09-11T12:51:05.030Z"
   },
   {
    "duration": 32,
    "start_time": "2021-09-11T12:51:06.286Z"
   },
   {
    "duration": 27,
    "start_time": "2021-09-11T12:51:06.321Z"
   },
   {
    "duration": 4,
    "start_time": "2021-09-11T12:51:06.351Z"
   },
   {
    "duration": 76,
    "start_time": "2021-09-11T12:51:06.358Z"
   },
   {
    "duration": 9,
    "start_time": "2021-09-11T12:51:06.436Z"
   },
   {
    "duration": 12,
    "start_time": "2021-09-11T12:51:06.447Z"
   },
   {
    "duration": 20,
    "start_time": "2021-09-11T12:51:06.483Z"
   },
   {
    "duration": 8,
    "start_time": "2021-09-11T12:51:06.506Z"
   },
   {
    "duration": 8,
    "start_time": "2021-09-11T12:51:06.517Z"
   },
   {
    "duration": 60,
    "start_time": "2021-09-11T12:51:06.528Z"
   },
   {
    "duration": 8,
    "start_time": "2021-09-11T12:51:06.590Z"
   },
   {
    "duration": 8,
    "start_time": "2021-09-11T12:51:06.601Z"
   },
   {
    "duration": 10,
    "start_time": "2021-09-11T12:51:06.611Z"
   },
   {
    "duration": 67,
    "start_time": "2021-09-11T12:51:06.623Z"
   },
   {
    "duration": 7,
    "start_time": "2021-09-11T12:51:06.692Z"
   },
   {
    "duration": 12,
    "start_time": "2021-09-11T12:51:06.701Z"
   },
   {
    "duration": 10,
    "start_time": "2021-09-11T12:51:06.715Z"
   },
   {
    "duration": 55,
    "start_time": "2021-09-11T12:51:06.727Z"
   },
   {
    "duration": 6,
    "start_time": "2021-09-11T12:51:06.784Z"
   },
   {
    "duration": 20,
    "start_time": "2021-09-11T12:51:06.792Z"
   },
   {
    "duration": 69,
    "start_time": "2021-09-11T12:51:06.815Z"
   },
   {
    "duration": 14,
    "start_time": "2021-09-11T12:51:06.890Z"
   },
   {
    "duration": 11,
    "start_time": "2021-09-11T12:51:06.908Z"
   },
   {
    "duration": 14,
    "start_time": "2021-09-11T12:51:06.921Z"
   },
   {
    "duration": 8,
    "start_time": "2021-09-11T12:51:06.983Z"
   },
   {
    "duration": 5,
    "start_time": "2021-09-11T12:51:06.993Z"
   },
   {
    "duration": 15,
    "start_time": "2021-09-11T12:51:07.000Z"
   },
   {
    "duration": 7,
    "start_time": "2021-09-11T12:51:07.018Z"
   },
   {
    "duration": 57,
    "start_time": "2021-09-11T12:51:07.027Z"
   },
   {
    "duration": 20,
    "start_time": "2021-09-11T12:51:07.086Z"
   },
   {
    "duration": 488,
    "start_time": "2021-09-11T12:51:07.108Z"
   },
   {
    "duration": -10881439,
    "start_time": "2021-09-11T15:52:29.037Z"
   },
   {
    "duration": -10881442,
    "start_time": "2021-09-11T15:52:29.042Z"
   },
   {
    "duration": -10881445,
    "start_time": "2021-09-11T15:52:29.046Z"
   },
   {
    "duration": -10881447,
    "start_time": "2021-09-11T15:52:29.050Z"
   },
   {
    "duration": -10881450,
    "start_time": "2021-09-11T15:52:29.054Z"
   },
   {
    "duration": -10881456,
    "start_time": "2021-09-11T15:52:29.061Z"
   },
   {
    "duration": -10881462,
    "start_time": "2021-09-11T15:52:29.069Z"
   },
   {
    "duration": -10881468,
    "start_time": "2021-09-11T15:52:29.076Z"
   },
   {
    "duration": -10881473,
    "start_time": "2021-09-11T15:52:29.083Z"
   },
   {
    "duration": -10881479,
    "start_time": "2021-09-11T15:52:29.090Z"
   },
   {
    "duration": -10881526,
    "start_time": "2021-09-11T15:52:29.139Z"
   },
   {
    "duration": -10881597,
    "start_time": "2021-09-11T15:52:29.212Z"
   },
   {
    "duration": -10881643,
    "start_time": "2021-09-11T15:52:29.259Z"
   },
   {
    "duration": -10881647,
    "start_time": "2021-09-11T15:52:29.264Z"
   },
   {
    "duration": -10881661,
    "start_time": "2021-09-11T15:52:29.280Z"
   },
   {
    "duration": -10881669,
    "start_time": "2021-09-11T15:52:29.289Z"
   },
   {
    "duration": -10881677,
    "start_time": "2021-09-11T15:52:29.298Z"
   },
   {
    "duration": -10881687,
    "start_time": "2021-09-11T15:52:29.309Z"
   },
   {
    "duration": -10881690,
    "start_time": "2021-09-11T15:52:29.314Z"
   },
   {
    "duration": -10881693,
    "start_time": "2021-09-11T15:52:29.318Z"
   },
   {
    "duration": -10881700,
    "start_time": "2021-09-11T15:52:29.326Z"
   },
   {
    "duration": -10881705,
    "start_time": "2021-09-11T15:52:29.333Z"
   },
   {
    "duration": -10881711,
    "start_time": "2021-09-11T15:52:29.340Z"
   },
   {
    "duration": -10881719,
    "start_time": "2021-09-11T15:52:29.349Z"
   },
   {
    "duration": -10881739,
    "start_time": "2021-09-11T15:52:29.370Z"
   },
   {
    "duration": 256,
    "start_time": "2021-09-11T12:52:31.647Z"
   },
   {
    "duration": 275,
    "start_time": "2021-09-11T12:52:49.983Z"
   },
   {
    "duration": 11,
    "start_time": "2021-09-11T12:52:54.031Z"
   },
   {
    "duration": 12,
    "start_time": "2021-09-11T12:53:14.431Z"
   },
   {
    "duration": 11,
    "start_time": "2021-09-11T12:53:17.416Z"
   },
   {
    "duration": 6,
    "start_time": "2021-09-11T12:53:35.612Z"
   },
   {
    "duration": 13,
    "start_time": "2021-09-11T12:53:50.197Z"
   },
   {
    "duration": 10,
    "start_time": "2021-09-11T12:54:30.838Z"
   },
   {
    "duration": 6863,
    "start_time": "2021-09-11T12:54:38.930Z"
   },
   {
    "duration": 267,
    "start_time": "2021-09-11T12:55:04.946Z"
   },
   {
    "duration": 6721,
    "start_time": "2021-09-11T12:55:10.211Z"
   },
   {
    "duration": 1346,
    "start_time": "2021-09-11T12:57:33.524Z"
   },
   {
    "duration": 34,
    "start_time": "2021-09-11T12:57:34.873Z"
   },
   {
    "duration": 28,
    "start_time": "2021-09-11T12:57:34.910Z"
   },
   {
    "duration": 8,
    "start_time": "2021-09-11T12:57:34.940Z"
   },
   {
    "duration": 85,
    "start_time": "2021-09-11T12:57:34.950Z"
   },
   {
    "duration": 9,
    "start_time": "2021-09-11T12:57:35.038Z"
   },
   {
    "duration": 32,
    "start_time": "2021-09-11T12:57:35.050Z"
   },
   {
    "duration": 27,
    "start_time": "2021-09-11T12:57:35.085Z"
   },
   {
    "duration": 8,
    "start_time": "2021-09-11T12:57:35.116Z"
   },
   {
    "duration": 62,
    "start_time": "2021-09-11T12:57:35.127Z"
   },
   {
    "duration": 8,
    "start_time": "2021-09-11T12:57:35.191Z"
   },
   {
    "duration": 9,
    "start_time": "2021-09-11T12:57:35.201Z"
   },
   {
    "duration": 13,
    "start_time": "2021-09-11T12:57:35.212Z"
   },
   {
    "duration": 7,
    "start_time": "2021-09-11T12:57:35.228Z"
   },
   {
    "duration": 47,
    "start_time": "2021-09-11T12:57:35.237Z"
   },
   {
    "duration": 8,
    "start_time": "2021-09-11T12:57:35.286Z"
   },
   {
    "duration": 21,
    "start_time": "2021-09-11T12:57:35.297Z"
   },
   {
    "duration": 6,
    "start_time": "2021-09-11T12:57:35.320Z"
   },
   {
    "duration": 6,
    "start_time": "2021-09-11T12:57:35.328Z"
   },
   {
    "duration": 13,
    "start_time": "2021-09-11T12:57:35.336Z"
   },
   {
    "duration": 9,
    "start_time": "2021-09-11T12:57:35.352Z"
   },
   {
    "duration": 7,
    "start_time": "2021-09-11T12:57:35.382Z"
   },
   {
    "duration": 20,
    "start_time": "2021-09-11T12:57:35.392Z"
   },
   {
    "duration": 15,
    "start_time": "2021-09-11T12:57:35.414Z"
   },
   {
    "duration": 10,
    "start_time": "2021-09-11T12:57:35.431Z"
   },
   {
    "duration": 47,
    "start_time": "2021-09-11T12:57:35.443Z"
   },
   {
    "duration": 8,
    "start_time": "2021-09-11T12:57:35.495Z"
   },
   {
    "duration": 18,
    "start_time": "2021-09-11T12:57:35.506Z"
   },
   {
    "duration": 6,
    "start_time": "2021-09-11T12:57:35.526Z"
   },
   {
    "duration": 22,
    "start_time": "2021-09-11T12:57:35.534Z"
   },
   {
    "duration": 25,
    "start_time": "2021-09-11T12:57:35.558Z"
   },
   {
    "duration": 3,
    "start_time": "2021-09-11T12:57:35.585Z"
   },
   {
    "duration": 7,
    "start_time": "2021-09-11T12:57:35.590Z"
   },
   {
    "duration": 422,
    "start_time": "2021-09-11T12:57:35.600Z"
   },
   {
    "duration": -10881084,
    "start_time": "2021-09-11T15:58:57.109Z"
   },
   {
    "duration": -10881101,
    "start_time": "2021-09-11T15:58:57.127Z"
   },
   {
    "duration": -10881109,
    "start_time": "2021-09-11T15:58:57.136Z"
   },
   {
    "duration": -10881118,
    "start_time": "2021-09-11T15:58:57.147Z"
   },
   {
    "duration": -10881180,
    "start_time": "2021-09-11T15:58:57.210Z"
   },
   {
    "duration": -10881631,
    "start_time": "2021-09-11T15:58:57.663Z"
   },
   {
    "duration": -10881639,
    "start_time": "2021-09-11T15:58:57.673Z"
   },
   {
    "duration": -10881643,
    "start_time": "2021-09-11T15:58:57.678Z"
   },
   {
    "duration": -10881645,
    "start_time": "2021-09-11T15:58:57.682Z"
   },
   {
    "duration": -10881648,
    "start_time": "2021-09-11T15:58:57.686Z"
   },
   {
    "duration": -10881652,
    "start_time": "2021-09-11T15:58:57.692Z"
   },
   {
    "duration": -10881659,
    "start_time": "2021-09-11T15:58:57.701Z"
   },
   {
    "duration": -10881684,
    "start_time": "2021-09-11T15:58:57.727Z"
   },
   {
    "duration": -10881717,
    "start_time": "2021-09-11T15:58:57.761Z"
   },
   {
    "duration": -10881743,
    "start_time": "2021-09-11T15:58:57.788Z"
   },
   {
    "duration": -10881767,
    "start_time": "2021-09-11T15:58:57.814Z"
   },
   {
    "duration": -10881848,
    "start_time": "2021-09-11T15:58:57.896Z"
   },
   {
    "duration": -10881908,
    "start_time": "2021-09-11T15:58:57.958Z"
   },
   {
    "duration": -10881917,
    "start_time": "2021-09-11T15:58:57.969Z"
   },
   {
    "duration": -10881924,
    "start_time": "2021-09-11T15:58:57.977Z"
   },
   {
    "duration": -10881929,
    "start_time": "2021-09-11T15:58:57.984Z"
   },
   {
    "duration": -10881937,
    "start_time": "2021-09-11T15:58:57.993Z"
   },
   {
    "duration": -10881945,
    "start_time": "2021-09-11T15:58:58.003Z"
   },
   {
    "duration": -10881950,
    "start_time": "2021-09-11T15:58:58.010Z"
   },
   {
    "duration": -10881960,
    "start_time": "2021-09-11T15:58:58.021Z"
   },
   {
    "duration": 262,
    "start_time": "2021-09-11T12:58:25.032Z"
   },
   {
    "duration": 243,
    "start_time": "2021-09-11T12:58:30.825Z"
   },
   {
    "duration": 291,
    "start_time": "2021-09-11T12:58:48.807Z"
   },
   {
    "duration": 10,
    "start_time": "2021-09-11T12:59:05.868Z"
   },
   {
    "duration": 3,
    "start_time": "2021-09-11T12:59:09.515Z"
   },
   {
    "duration": 3,
    "start_time": "2021-09-11T12:59:10.833Z"
   },
   {
    "duration": 9,
    "start_time": "2021-09-11T12:59:11.634Z"
   },
   {
    "duration": 10,
    "start_time": "2021-09-11T12:59:12.861Z"
   },
   {
    "duration": 9,
    "start_time": "2021-09-11T12:59:59.108Z"
   },
   {
    "duration": 1267,
    "start_time": "2021-09-11T13:00:05.270Z"
   },
   {
    "duration": 35,
    "start_time": "2021-09-11T13:00:06.540Z"
   },
   {
    "duration": 30,
    "start_time": "2021-09-11T13:00:06.578Z"
   },
   {
    "duration": 10,
    "start_time": "2021-09-11T13:00:06.611Z"
   },
   {
    "duration": 77,
    "start_time": "2021-09-11T13:00:06.623Z"
   },
   {
    "duration": 8,
    "start_time": "2021-09-11T13:00:06.703Z"
   },
   {
    "duration": 14,
    "start_time": "2021-09-11T13:00:06.713Z"
   },
   {
    "duration": 23,
    "start_time": "2021-09-11T13:00:06.731Z"
   },
   {
    "duration": 31,
    "start_time": "2021-09-11T13:00:06.757Z"
   },
   {
    "duration": 17,
    "start_time": "2021-09-11T13:00:06.790Z"
   },
   {
    "duration": 19,
    "start_time": "2021-09-11T13:00:06.810Z"
   },
   {
    "duration": 9,
    "start_time": "2021-09-11T13:00:06.831Z"
   },
   {
    "duration": 16,
    "start_time": "2021-09-11T13:00:06.842Z"
   },
   {
    "duration": 23,
    "start_time": "2021-09-11T13:00:06.860Z"
   },
   {
    "duration": 20,
    "start_time": "2021-09-11T13:00:06.885Z"
   },
   {
    "duration": 10,
    "start_time": "2021-09-11T13:00:06.907Z"
   },
   {
    "duration": 9,
    "start_time": "2021-09-11T13:00:06.919Z"
   },
   {
    "duration": 11,
    "start_time": "2021-09-11T13:00:06.930Z"
   },
   {
    "duration": 17,
    "start_time": "2021-09-11T13:00:06.944Z"
   },
   {
    "duration": 9,
    "start_time": "2021-09-11T13:00:06.963Z"
   },
   {
    "duration": 23,
    "start_time": "2021-09-11T13:00:06.974Z"
   },
   {
    "duration": 11,
    "start_time": "2021-09-11T13:00:07.000Z"
   },
   {
    "duration": 6,
    "start_time": "2021-09-11T13:00:07.018Z"
   },
   {
    "duration": 25,
    "start_time": "2021-09-11T13:00:07.027Z"
   },
   {
    "duration": 30,
    "start_time": "2021-09-11T13:00:07.054Z"
   },
   {
    "duration": 7,
    "start_time": "2021-09-11T13:00:07.086Z"
   },
   {
    "duration": 30,
    "start_time": "2021-09-11T13:00:07.095Z"
   },
   {
    "duration": 14,
    "start_time": "2021-09-11T13:00:07.127Z"
   },
   {
    "duration": 21,
    "start_time": "2021-09-11T13:00:07.143Z"
   },
   {
    "duration": 13,
    "start_time": "2021-09-11T13:00:07.166Z"
   },
   {
    "duration": 12,
    "start_time": "2021-09-11T13:00:07.181Z"
   },
   {
    "duration": 23,
    "start_time": "2021-09-11T13:00:07.195Z"
   },
   {
    "duration": 12,
    "start_time": "2021-09-11T13:00:07.220Z"
   },
   {
    "duration": 16,
    "start_time": "2021-09-11T13:00:07.234Z"
   },
   {
    "duration": 601,
    "start_time": "2021-09-11T13:00:07.252Z"
   },
   {
    "duration": -10881507,
    "start_time": "2021-09-11T16:01:29.362Z"
   },
   {
    "duration": -10881524,
    "start_time": "2021-09-11T16:01:29.381Z"
   },
   {
    "duration": -10881530,
    "start_time": "2021-09-11T16:01:29.389Z"
   },
   {
    "duration": -10881538,
    "start_time": "2021-09-11T16:01:29.398Z"
   },
   {
    "duration": -10881541,
    "start_time": "2021-09-11T16:01:29.403Z"
   },
   {
    "duration": -10881544,
    "start_time": "2021-09-11T16:01:29.407Z"
   },
   {
    "duration": -10881553,
    "start_time": "2021-09-11T16:01:29.417Z"
   },
   {
    "duration": -10881559,
    "start_time": "2021-09-11T16:01:29.425Z"
   },
   {
    "duration": -10881564,
    "start_time": "2021-09-11T16:01:29.431Z"
   },
   {
    "duration": -10881634,
    "start_time": "2021-09-11T16:01:29.502Z"
   },
   {
    "duration": -10881695,
    "start_time": "2021-09-11T16:01:29.564Z"
   },
   {
    "duration": -10881751,
    "start_time": "2021-09-11T16:01:29.622Z"
   },
   {
    "duration": -10881765,
    "start_time": "2021-09-11T16:01:29.637Z"
   },
   {
    "duration": -10881778,
    "start_time": "2021-09-11T16:01:29.651Z"
   },
   {
    "duration": -10881791,
    "start_time": "2021-09-11T16:01:29.665Z"
   },
   {
    "duration": -10881799,
    "start_time": "2021-09-11T16:01:29.675Z"
   },
   {
    "duration": -10881802,
    "start_time": "2021-09-11T16:01:29.679Z"
   },
   {
    "duration": -10881804,
    "start_time": "2021-09-11T16:01:29.682Z"
   },
   {
    "duration": -10881809,
    "start_time": "2021-09-11T16:01:29.688Z"
   },
   {
    "duration": -10881815,
    "start_time": "2021-09-11T16:01:29.696Z"
   },
   {
    "duration": -10881821,
    "start_time": "2021-09-11T16:01:29.703Z"
   },
   {
    "duration": -10881825,
    "start_time": "2021-09-11T16:01:29.709Z"
   },
   {
    "duration": -10881833,
    "start_time": "2021-09-11T16:01:29.718Z"
   },
   {
    "duration": -10881851,
    "start_time": "2021-09-11T16:01:29.738Z"
   },
   {
    "duration": -10881856,
    "start_time": "2021-09-11T16:01:29.744Z"
   },
   {
    "duration": 9,
    "start_time": "2021-09-11T13:00:32.507Z"
   },
   {
    "duration": 3,
    "start_time": "2021-09-11T13:00:32.850Z"
   },
   {
    "duration": 9,
    "start_time": "2021-09-11T13:00:34.291Z"
   },
   {
    "duration": 8,
    "start_time": "2021-09-11T13:00:48.088Z"
   },
   {
    "duration": 3,
    "start_time": "2021-09-11T13:00:48.535Z"
   },
   {
    "duration": 9,
    "start_time": "2021-09-11T13:00:49.308Z"
   },
   {
    "duration": 8,
    "start_time": "2021-09-11T13:00:57.959Z"
   },
   {
    "duration": 3,
    "start_time": "2021-09-11T13:00:58.370Z"
   },
   {
    "duration": 8,
    "start_time": "2021-09-11T13:00:58.890Z"
   },
   {
    "duration": 1290,
    "start_time": "2021-09-11T13:01:04.960Z"
   },
   {
    "duration": 34,
    "start_time": "2021-09-11T13:01:06.252Z"
   },
   {
    "duration": 25,
    "start_time": "2021-09-11T13:01:06.289Z"
   },
   {
    "duration": 7,
    "start_time": "2021-09-11T13:01:06.317Z"
   },
   {
    "duration": 77,
    "start_time": "2021-09-11T13:01:06.326Z"
   },
   {
    "duration": 8,
    "start_time": "2021-09-11T13:01:06.405Z"
   },
   {
    "duration": 14,
    "start_time": "2021-09-11T13:01:06.415Z"
   },
   {
    "duration": 55,
    "start_time": "2021-09-11T13:01:06.433Z"
   },
   {
    "duration": 8,
    "start_time": "2021-09-11T13:01:06.491Z"
   },
   {
    "duration": 8,
    "start_time": "2021-09-11T13:01:06.501Z"
   },
   {
    "duration": 7,
    "start_time": "2021-09-11T13:01:06.512Z"
   },
   {
    "duration": 62,
    "start_time": "2021-09-11T13:01:06.521Z"
   },
   {
    "duration": 8,
    "start_time": "2021-09-11T13:01:06.585Z"
   },
   {
    "duration": 11,
    "start_time": "2021-09-11T13:01:06.595Z"
   },
   {
    "duration": 16,
    "start_time": "2021-09-11T13:01:06.608Z"
   },
   {
    "duration": 3,
    "start_time": "2021-09-11T13:01:06.627Z"
   },
   {
    "duration": 4,
    "start_time": "2021-09-11T13:01:06.682Z"
   },
   {
    "duration": 7,
    "start_time": "2021-09-11T13:01:06.688Z"
   },
   {
    "duration": 14,
    "start_time": "2021-09-11T13:01:06.698Z"
   },
   {
    "duration": 9,
    "start_time": "2021-09-11T13:01:06.715Z"
   },
   {
    "duration": 57,
    "start_time": "2021-09-11T13:01:06.727Z"
   },
   {
    "duration": 11,
    "start_time": "2021-09-11T13:01:06.787Z"
   },
   {
    "duration": 7,
    "start_time": "2021-09-11T13:01:06.807Z"
   },
   {
    "duration": 84,
    "start_time": "2021-09-11T13:01:06.818Z"
   },
   {
    "duration": 23,
    "start_time": "2021-09-11T13:01:06.905Z"
   },
   {
    "duration": 9,
    "start_time": "2021-09-11T13:01:06.984Z"
   },
   {
    "duration": 18,
    "start_time": "2021-09-11T13:01:06.996Z"
   },
   {
    "duration": 66,
    "start_time": "2021-09-11T13:01:07.017Z"
   },
   {
    "duration": 7,
    "start_time": "2021-09-11T13:01:07.085Z"
   },
   {
    "duration": 5,
    "start_time": "2021-09-11T13:01:07.095Z"
   },
   {
    "duration": 8,
    "start_time": "2021-09-11T13:01:07.102Z"
   },
   {
    "duration": 10,
    "start_time": "2021-09-11T13:01:07.113Z"
   },
   {
    "duration": 58,
    "start_time": "2021-09-11T13:01:07.126Z"
   },
   {
    "duration": 7,
    "start_time": "2021-09-11T13:01:07.187Z"
   },
   {
    "duration": 632,
    "start_time": "2021-09-11T13:01:07.197Z"
   },
   {
    "duration": -10880870,
    "start_time": "2021-09-11T16:02:28.701Z"
   },
   {
    "duration": -10880877,
    "start_time": "2021-09-11T16:02:28.710Z"
   },
   {
    "duration": -10880885,
    "start_time": "2021-09-11T16:02:28.720Z"
   },
   {
    "duration": -10880889,
    "start_time": "2021-09-11T16:02:28.725Z"
   },
   {
    "duration": -10880891,
    "start_time": "2021-09-11T16:02:28.729Z"
   },
   {
    "duration": -10880898,
    "start_time": "2021-09-11T16:02:28.737Z"
   },
   {
    "duration": -10880903,
    "start_time": "2021-09-11T16:02:28.744Z"
   },
   {
    "duration": -10880909,
    "start_time": "2021-09-11T16:02:28.751Z"
   },
   {
    "duration": -10880914,
    "start_time": "2021-09-11T16:02:28.757Z"
   },
   {
    "duration": -10880921,
    "start_time": "2021-09-11T16:02:28.766Z"
   },
   {
    "duration": -10880986,
    "start_time": "2021-09-11T16:02:28.832Z"
   },
   {
    "duration": -10881001,
    "start_time": "2021-09-11T16:02:28.848Z"
   },
   {
    "duration": -10881010,
    "start_time": "2021-09-11T16:02:28.859Z"
   },
   {
    "duration": -10881013,
    "start_time": "2021-09-11T16:02:28.863Z"
   },
   {
    "duration": -10881033,
    "start_time": "2021-09-11T16:02:28.884Z"
   },
   {
    "duration": -10881068,
    "start_time": "2021-09-11T16:02:28.921Z"
   },
   {
    "duration": -10881085,
    "start_time": "2021-09-11T16:02:28.939Z"
   },
   {
    "duration": -10881124,
    "start_time": "2021-09-11T16:02:28.979Z"
   },
   {
    "duration": -10881132,
    "start_time": "2021-09-11T16:02:28.989Z"
   },
   {
    "duration": -10881138,
    "start_time": "2021-09-11T16:02:28.996Z"
   },
   {
    "duration": -10881145,
    "start_time": "2021-09-11T16:02:29.004Z"
   },
   {
    "duration": -10881152,
    "start_time": "2021-09-11T16:02:29.013Z"
   },
   {
    "duration": -10881158,
    "start_time": "2021-09-11T16:02:29.020Z"
   },
   {
    "duration": -10881165,
    "start_time": "2021-09-11T16:02:29.028Z"
   },
   {
    "duration": -10881169,
    "start_time": "2021-09-11T16:02:29.034Z"
   },
   {
    "duration": 1264,
    "start_time": "2021-09-11T13:01:49.514Z"
   },
   {
    "duration": 34,
    "start_time": "2021-09-11T13:01:50.782Z"
   },
   {
    "duration": 26,
    "start_time": "2021-09-11T13:01:50.819Z"
   },
   {
    "duration": 9,
    "start_time": "2021-09-11T13:01:50.848Z"
   },
   {
    "duration": 74,
    "start_time": "2021-09-11T13:01:50.860Z"
   },
   {
    "duration": 9,
    "start_time": "2021-09-11T13:01:50.937Z"
   },
   {
    "duration": 36,
    "start_time": "2021-09-11T13:01:50.948Z"
   },
   {
    "duration": 20,
    "start_time": "2021-09-11T13:01:50.988Z"
   },
   {
    "duration": 7,
    "start_time": "2021-09-11T13:01:51.011Z"
   },
   {
    "duration": 12,
    "start_time": "2021-09-11T13:01:51.021Z"
   },
   {
    "duration": 47,
    "start_time": "2021-09-11T13:01:51.035Z"
   },
   {
    "duration": 9,
    "start_time": "2021-09-11T13:01:51.085Z"
   },
   {
    "duration": 8,
    "start_time": "2021-09-11T13:01:51.096Z"
   },
   {
    "duration": 8,
    "start_time": "2021-09-11T13:01:51.106Z"
   },
   {
    "duration": 10,
    "start_time": "2021-09-11T13:01:51.117Z"
   },
   {
    "duration": 5,
    "start_time": "2021-09-11T13:01:51.131Z"
   },
   {
    "duration": 6,
    "start_time": "2021-09-11T13:01:51.184Z"
   },
   {
    "duration": 24,
    "start_time": "2021-09-11T13:01:51.192Z"
   },
   {
    "duration": 3,
    "start_time": "2021-09-11T13:01:51.218Z"
   },
   {
    "duration": 12,
    "start_time": "2021-09-11T13:01:51.223Z"
   },
   {
    "duration": 13,
    "start_time": "2021-09-11T13:01:51.238Z"
   },
   {
    "duration": 36,
    "start_time": "2021-09-11T13:01:51.254Z"
   },
   {
    "duration": 15,
    "start_time": "2021-09-11T13:01:51.295Z"
   },
   {
    "duration": 1327,
    "start_time": "2021-09-11T13:01:51.313Z"
   },
   {
    "duration": 43,
    "start_time": "2021-09-11T13:01:52.643Z"
   },
   {
    "duration": 210,
    "start_time": "2021-09-11T13:01:52.688Z"
   },
   {
    "duration": 712,
    "start_time": "2021-09-11T13:01:52.900Z"
   },
   {
    "duration": 8,
    "start_time": "2021-09-11T13:01:53.614Z"
   },
   {
    "duration": 907,
    "start_time": "2021-09-11T13:01:53.624Z"
   },
   {
    "duration": 6,
    "start_time": "2021-09-11T13:01:54.533Z"
   },
   {
    "duration": 9,
    "start_time": "2021-09-11T13:01:54.541Z"
   },
   {
    "duration": 8,
    "start_time": "2021-09-11T13:01:54.553Z"
   },
   {
    "duration": 4,
    "start_time": "2021-09-11T13:01:54.583Z"
   },
   {
    "duration": 8,
    "start_time": "2021-09-11T13:01:54.589Z"
   },
   {
    "duration": 2692,
    "start_time": "2021-09-11T13:01:54.599Z"
   },
   {
    "duration": 200,
    "start_time": "2021-09-11T13:01:57.383Z"
   },
   {
    "duration": 654,
    "start_time": "2021-09-11T13:01:57.586Z"
   },
   {
    "duration": 6,
    "start_time": "2021-09-11T13:01:58.243Z"
   },
   {
    "duration": 11,
    "start_time": "2021-09-11T13:01:58.252Z"
   },
   {
    "duration": 8,
    "start_time": "2021-09-11T13:01:58.283Z"
   },
   {
    "duration": 2790,
    "start_time": "2021-09-11T13:01:58.294Z"
   },
   {
    "duration": 197,
    "start_time": "2021-09-11T13:02:01.087Z"
   },
   {
    "duration": 675,
    "start_time": "2021-09-11T13:02:01.288Z"
   },
   {
    "duration": 7,
    "start_time": "2021-09-11T13:02:01.965Z"
   },
   {
    "duration": 11,
    "start_time": "2021-09-11T13:02:01.982Z"
   },
   {
    "duration": 2989,
    "start_time": "2021-09-11T13:02:01.995Z"
   },
   {
    "duration": 295,
    "start_time": "2021-09-11T13:02:04.988Z"
   },
   {
    "duration": 6,
    "start_time": "2021-09-11T13:02:05.286Z"
   },
   {
    "duration": 29649,
    "start_time": "2021-09-11T13:02:05.384Z"
   },
   {
    "duration": 1479,
    "start_time": "2021-09-11T13:02:35.036Z"
   },
   {
    "duration": 157,
    "start_time": "2021-09-11T13:02:36.518Z"
   },
   {
    "duration": 7,
    "start_time": "2021-09-11T13:02:36.677Z"
   },
   {
    "duration": 11,
    "start_time": "2021-09-11T13:02:36.686Z"
   },
   {
    "duration": 450,
    "start_time": "2021-09-11T13:02:36.700Z"
   },
   {
    "duration": 1085,
    "start_time": "2021-09-11T13:02:37.152Z"
   },
   {
    "duration": 158,
    "start_time": "2021-09-11T13:02:38.239Z"
   },
   {
    "duration": 6,
    "start_time": "2021-09-11T13:02:38.399Z"
   },
   {
    "duration": 378,
    "start_time": "2021-09-11T13:02:38.407Z"
   },
   {
    "duration": 156,
    "start_time": "2021-09-11T13:02:38.788Z"
   },
   {
    "duration": 151,
    "start_time": "2021-09-11T13:02:38.947Z"
   },
   {
    "duration": 6995,
    "start_time": "2021-09-11T13:03:00.313Z"
   },
   {
    "duration": -10880617,
    "start_time": "2021-09-11T16:04:35.405Z"
   },
   {
    "duration": 1394,
    "start_time": "2021-09-11T13:03:23.521Z"
   },
   {
    "duration": 79,
    "start_time": "2021-09-11T13:03:24.917Z"
   },
   {
    "duration": 27,
    "start_time": "2021-09-11T13:03:24.999Z"
   },
   {
    "duration": 5,
    "start_time": "2021-09-11T13:03:25.084Z"
   },
   {
    "duration": 113,
    "start_time": "2021-09-11T13:03:25.091Z"
   },
   {
    "duration": 8,
    "start_time": "2021-09-11T13:03:25.206Z"
   },
   {
    "duration": 69,
    "start_time": "2021-09-11T13:03:25.216Z"
   },
   {
    "duration": 31,
    "start_time": "2021-09-11T13:03:25.290Z"
   },
   {
    "duration": 66,
    "start_time": "2021-09-11T13:03:25.325Z"
   },
   {
    "duration": 11,
    "start_time": "2021-09-11T13:03:25.394Z"
   },
   {
    "duration": 15,
    "start_time": "2021-09-11T13:03:25.408Z"
   },
   {
    "duration": 63,
    "start_time": "2021-09-11T13:03:25.426Z"
   },
   {
    "duration": 10,
    "start_time": "2021-09-11T13:03:25.492Z"
   },
   {
    "duration": 10,
    "start_time": "2021-09-11T13:03:25.505Z"
   },
   {
    "duration": 8,
    "start_time": "2021-09-11T13:03:25.517Z"
   },
   {
    "duration": 58,
    "start_time": "2021-09-11T13:03:25.526Z"
   },
   {
    "duration": 9,
    "start_time": "2021-09-11T13:03:25.586Z"
   },
   {
    "duration": 29,
    "start_time": "2021-09-11T13:03:25.598Z"
   },
   {
    "duration": 3,
    "start_time": "2021-09-11T13:03:25.629Z"
   },
   {
    "duration": 3,
    "start_time": "2021-09-11T13:03:25.682Z"
   },
   {
    "duration": 16,
    "start_time": "2021-09-11T13:03:25.687Z"
   },
   {
    "duration": 11,
    "start_time": "2021-09-11T13:03:25.705Z"
   },
   {
    "duration": 62,
    "start_time": "2021-09-11T13:03:25.722Z"
   },
   {
    "duration": 6,
    "start_time": "2021-09-11T13:03:25.787Z"
   },
   {
    "duration": 1341,
    "start_time": "2021-09-11T13:03:25.795Z"
   },
   {
    "duration": 25,
    "start_time": "2021-09-11T13:03:27.138Z"
   },
   {
    "duration": 223,
    "start_time": "2021-09-11T13:03:27.165Z"
   },
   {
    "duration": 798,
    "start_time": "2021-09-11T13:03:27.390Z"
   },
   {
    "duration": 7,
    "start_time": "2021-09-11T13:03:28.190Z"
   },
   {
    "duration": 583,
    "start_time": "2021-09-11T13:03:28.199Z"
   },
   {
    "duration": 5,
    "start_time": "2021-09-11T13:03:28.784Z"
   },
   {
    "duration": 14,
    "start_time": "2021-09-11T13:03:28.792Z"
   },
   {
    "duration": 10,
    "start_time": "2021-09-11T13:03:28.808Z"
   },
   {
    "duration": 5,
    "start_time": "2021-09-11T13:03:28.820Z"
   },
   {
    "duration": 6,
    "start_time": "2021-09-11T13:03:28.827Z"
   },
   {
    "duration": 3253,
    "start_time": "2021-09-11T13:03:28.835Z"
   },
   {
    "duration": 293,
    "start_time": "2021-09-11T13:03:32.091Z"
   },
   {
    "duration": 716,
    "start_time": "2021-09-11T13:03:32.387Z"
   },
   {
    "duration": 5,
    "start_time": "2021-09-11T13:03:33.105Z"
   },
   {
    "duration": 17,
    "start_time": "2021-09-11T13:03:33.112Z"
   },
   {
    "duration": 13,
    "start_time": "2021-09-11T13:03:33.132Z"
   },
   {
    "duration": 3140,
    "start_time": "2021-09-11T13:03:33.148Z"
   },
   {
    "duration": 201,
    "start_time": "2021-09-11T13:03:36.383Z"
   },
   {
    "duration": 656,
    "start_time": "2021-09-11T13:03:36.588Z"
   },
   {
    "duration": 8,
    "start_time": "2021-09-11T13:03:37.246Z"
   },
   {
    "duration": 19,
    "start_time": "2021-09-11T13:03:37.256Z"
   },
   {
    "duration": 3104,
    "start_time": "2021-09-11T13:03:37.283Z"
   },
   {
    "duration": 295,
    "start_time": "2021-09-11T13:03:40.391Z"
   },
   {
    "duration": 94,
    "start_time": "2021-09-11T13:03:40.689Z"
   },
   {
    "duration": 29158,
    "start_time": "2021-09-11T13:03:40.785Z"
   },
   {
    "duration": 1432,
    "start_time": "2021-09-11T13:04:09.945Z"
   },
   {
    "duration": 150,
    "start_time": "2021-09-11T13:04:11.382Z"
   },
   {
    "duration": 6,
    "start_time": "2021-09-11T13:04:11.534Z"
   },
   {
    "duration": 5,
    "start_time": "2021-09-11T13:04:11.542Z"
   },
   {
    "duration": 506,
    "start_time": "2021-09-11T13:04:11.550Z"
   },
   {
    "duration": 1091,
    "start_time": "2021-09-11T13:04:12.059Z"
   },
   {
    "duration": 156,
    "start_time": "2021-09-11T13:04:13.152Z"
   },
   {
    "duration": 6,
    "start_time": "2021-09-11T13:04:13.310Z"
   },
   {
    "duration": 355,
    "start_time": "2021-09-11T13:04:13.318Z"
   },
   {
    "duration": 145,
    "start_time": "2021-09-11T13:04:13.682Z"
   },
   {
    "duration": 157,
    "start_time": "2021-09-11T13:04:13.830Z"
   },
   {
    "duration": 1361,
    "start_time": "2021-09-11T14:35:07.521Z"
   },
   {
    "duration": 32,
    "start_time": "2021-09-11T14:35:08.885Z"
   },
   {
    "duration": 26,
    "start_time": "2021-09-11T14:35:08.920Z"
   },
   {
    "duration": 15,
    "start_time": "2021-09-11T14:35:08.949Z"
   },
   {
    "duration": 65,
    "start_time": "2021-09-11T14:35:08.966Z"
   },
   {
    "duration": 10,
    "start_time": "2021-09-11T14:35:09.033Z"
   },
   {
    "duration": 16,
    "start_time": "2021-09-11T14:35:09.045Z"
   },
   {
    "duration": 20,
    "start_time": "2021-09-11T14:35:09.083Z"
   },
   {
    "duration": 8,
    "start_time": "2021-09-11T14:35:09.106Z"
   },
   {
    "duration": 11,
    "start_time": "2021-09-11T14:35:09.117Z"
   },
   {
    "duration": 10,
    "start_time": "2021-09-11T14:35:09.131Z"
   },
   {
    "duration": 45,
    "start_time": "2021-09-11T14:35:09.143Z"
   },
   {
    "duration": 14,
    "start_time": "2021-09-11T14:35:09.191Z"
   },
   {
    "duration": 15,
    "start_time": "2021-09-11T14:35:09.207Z"
   },
   {
    "duration": 9,
    "start_time": "2021-09-11T14:35:09.224Z"
   },
   {
    "duration": 5,
    "start_time": "2021-09-11T14:35:09.236Z"
   },
   {
    "duration": 10,
    "start_time": "2021-09-11T14:35:09.243Z"
   },
   {
    "duration": 1462,
    "start_time": "2021-09-11T14:35:09.255Z"
   },
   {
    "duration": -194,
    "start_time": "2021-09-11T14:35:10.916Z"
   },
   {
    "duration": -197,
    "start_time": "2021-09-11T14:35:10.920Z"
   },
   {
    "duration": -203,
    "start_time": "2021-09-11T14:35:10.927Z"
   },
   {
    "duration": -204,
    "start_time": "2021-09-11T14:35:10.930Z"
   },
   {
    "duration": -206,
    "start_time": "2021-09-11T14:35:10.933Z"
   },
   {
    "duration": -208,
    "start_time": "2021-09-11T14:35:10.936Z"
   },
   {
    "duration": -210,
    "start_time": "2021-09-11T14:35:10.939Z"
   },
   {
    "duration": -215,
    "start_time": "2021-09-11T14:35:10.946Z"
   },
   {
    "duration": -217,
    "start_time": "2021-09-11T14:35:10.949Z"
   },
   {
    "duration": -218,
    "start_time": "2021-09-11T14:35:10.951Z"
   },
   {
    "duration": -220,
    "start_time": "2021-09-11T14:35:10.954Z"
   },
   {
    "duration": -225,
    "start_time": "2021-09-11T14:35:10.960Z"
   },
   {
    "duration": -227,
    "start_time": "2021-09-11T14:35:10.963Z"
   },
   {
    "duration": -229,
    "start_time": "2021-09-11T14:35:10.966Z"
   },
   {
    "duration": -230,
    "start_time": "2021-09-11T14:35:10.969Z"
   },
   {
    "duration": -232,
    "start_time": "2021-09-11T14:35:10.972Z"
   },
   {
    "duration": -237,
    "start_time": "2021-09-11T14:35:10.978Z"
   },
   {
    "duration": -239,
    "start_time": "2021-09-11T14:35:10.981Z"
   },
   {
    "duration": -241,
    "start_time": "2021-09-11T14:35:10.984Z"
   },
   {
    "duration": -242,
    "start_time": "2021-09-11T14:35:10.987Z"
   },
   {
    "duration": -248,
    "start_time": "2021-09-11T14:35:10.994Z"
   },
   {
    "duration": -250,
    "start_time": "2021-09-11T14:35:10.997Z"
   },
   {
    "duration": -252,
    "start_time": "2021-09-11T14:35:11.000Z"
   },
   {
    "duration": -253,
    "start_time": "2021-09-11T14:35:11.003Z"
   },
   {
    "duration": -255,
    "start_time": "2021-09-11T14:35:11.006Z"
   },
   {
    "duration": -261,
    "start_time": "2021-09-11T14:35:11.013Z"
   },
   {
    "duration": -262,
    "start_time": "2021-09-11T14:35:11.015Z"
   },
   {
    "duration": -264,
    "start_time": "2021-09-11T14:35:11.018Z"
   },
   {
    "duration": -267,
    "start_time": "2021-09-11T14:35:11.022Z"
   },
   {
    "duration": -272,
    "start_time": "2021-09-11T14:35:11.028Z"
   },
   {
    "duration": -273,
    "start_time": "2021-09-11T14:35:11.030Z"
   },
   {
    "duration": -264,
    "start_time": "2021-09-11T14:35:11.046Z"
   },
   {
    "duration": -266,
    "start_time": "2021-09-11T14:35:11.049Z"
   },
   {
    "duration": -267,
    "start_time": "2021-09-11T14:35:11.052Z"
   },
   {
    "duration": -269,
    "start_time": "2021-09-11T14:35:11.055Z"
   },
   {
    "duration": -273,
    "start_time": "2021-09-11T14:35:11.061Z"
   },
   {
    "duration": -274,
    "start_time": "2021-09-11T14:35:11.064Z"
   },
   {
    "duration": -275,
    "start_time": "2021-09-11T14:35:11.066Z"
   },
   {
    "duration": -278,
    "start_time": "2021-09-11T14:35:11.070Z"
   },
   {
    "duration": -278,
    "start_time": "2021-09-11T14:35:11.072Z"
   },
   {
    "duration": -282,
    "start_time": "2021-09-11T14:35:11.078Z"
   },
   {
    "duration": -285,
    "start_time": "2021-09-11T14:35:11.082Z"
   },
   {
    "duration": 29,
    "start_time": "2021-09-11T14:35:18.706Z"
   },
   {
    "duration": 9,
    "start_time": "2021-09-11T14:35:20.791Z"
   },
   {
    "duration": 39,
    "start_time": "2021-09-11T14:35:26.102Z"
   },
   {
    "duration": 3,
    "start_time": "2021-09-11T14:35:26.487Z"
   },
   {
    "duration": 206,
    "start_time": "2021-09-11T17:13:48.461Z"
   },
   {
    "duration": 1015,
    "start_time": "2021-09-11T17:13:58.886Z"
   },
   {
    "duration": 29,
    "start_time": "2021-09-11T17:13:59.903Z"
   },
   {
    "duration": 17,
    "start_time": "2021-09-11T17:13:59.934Z"
   },
   {
    "duration": 5,
    "start_time": "2021-09-11T17:13:59.952Z"
   },
   {
    "duration": 50,
    "start_time": "2021-09-11T17:13:59.958Z"
   },
   {
    "duration": 8,
    "start_time": "2021-09-11T17:14:00.010Z"
   },
   {
    "duration": 11,
    "start_time": "2021-09-11T17:14:00.020Z"
   },
   {
    "duration": 15,
    "start_time": "2021-09-11T17:14:00.033Z"
   },
   {
    "duration": 34,
    "start_time": "2021-09-11T17:14:00.051Z"
   },
   {
    "duration": 7,
    "start_time": "2021-09-11T17:14:00.087Z"
   },
   {
    "duration": 6,
    "start_time": "2021-09-11T17:14:00.096Z"
   },
   {
    "duration": 7,
    "start_time": "2021-09-11T17:14:00.103Z"
   },
   {
    "duration": 9,
    "start_time": "2021-09-11T17:14:00.111Z"
   },
   {
    "duration": 10,
    "start_time": "2021-09-11T17:14:00.121Z"
   },
   {
    "duration": 15,
    "start_time": "2021-09-11T17:14:00.132Z"
   },
   {
    "duration": 13,
    "start_time": "2021-09-11T17:14:00.148Z"
   },
   {
    "duration": 23,
    "start_time": "2021-09-11T17:14:00.162Z"
   },
   {
    "duration": 58,
    "start_time": "2021-09-11T17:14:00.186Z"
   },
   {
    "duration": 862,
    "start_time": "2021-09-11T17:14:07.576Z"
   },
   {
    "duration": 165,
    "start_time": "2021-09-11T17:14:08.275Z"
   },
   {
    "duration": 936,
    "start_time": "2021-09-11T17:14:54.285Z"
   },
   {
    "duration": 847,
    "start_time": "2021-09-11T17:15:38.606Z"
   },
   {
    "duration": 996,
    "start_time": "2021-09-11T17:16:06.592Z"
   },
   {
    "duration": 28,
    "start_time": "2021-09-11T17:16:07.589Z"
   },
   {
    "duration": 16,
    "start_time": "2021-09-11T17:16:07.619Z"
   },
   {
    "duration": 6,
    "start_time": "2021-09-11T17:16:07.636Z"
   },
   {
    "duration": 45,
    "start_time": "2021-09-11T17:16:07.643Z"
   },
   {
    "duration": 7,
    "start_time": "2021-09-11T17:16:07.689Z"
   },
   {
    "duration": 6,
    "start_time": "2021-09-11T17:16:07.698Z"
   },
   {
    "duration": 14,
    "start_time": "2021-09-11T17:16:07.706Z"
   },
   {
    "duration": 4,
    "start_time": "2021-09-11T17:16:07.722Z"
   },
   {
    "duration": 6,
    "start_time": "2021-09-11T17:16:07.728Z"
   },
   {
    "duration": 5,
    "start_time": "2021-09-11T17:16:07.736Z"
   },
   {
    "duration": 42,
    "start_time": "2021-09-11T17:16:07.743Z"
   },
   {
    "duration": 6,
    "start_time": "2021-09-11T17:16:07.787Z"
   },
   {
    "duration": 6,
    "start_time": "2021-09-11T17:16:07.794Z"
   },
   {
    "duration": 6,
    "start_time": "2021-09-11T17:16:07.801Z"
   },
   {
    "duration": 3,
    "start_time": "2021-09-11T17:16:07.808Z"
   },
   {
    "duration": 4,
    "start_time": "2021-09-11T17:16:07.813Z"
   },
   {
    "duration": 1020,
    "start_time": "2021-09-11T17:16:07.818Z"
   },
   {
    "duration": 19,
    "start_time": "2021-09-11T17:16:45.462Z"
   },
   {
    "duration": 2,
    "start_time": "2021-09-11T17:16:50.062Z"
   },
   {
    "duration": 6,
    "start_time": "2021-09-11T17:16:50.644Z"
   },
   {
    "duration": 6,
    "start_time": "2021-09-11T17:16:50.890Z"
   },
   {
    "duration": 1024,
    "start_time": "2021-09-11T17:22:16.677Z"
   },
   {
    "duration": 27,
    "start_time": "2021-09-11T17:22:17.703Z"
   },
   {
    "duration": 16,
    "start_time": "2021-09-11T17:22:17.732Z"
   },
   {
    "duration": 7,
    "start_time": "2021-09-11T17:22:17.749Z"
   },
   {
    "duration": 47,
    "start_time": "2021-09-11T17:22:17.758Z"
   },
   {
    "duration": 5,
    "start_time": "2021-09-11T17:22:17.807Z"
   },
   {
    "duration": 8,
    "start_time": "2021-09-11T17:22:17.814Z"
   },
   {
    "duration": 13,
    "start_time": "2021-09-11T17:22:17.823Z"
   },
   {
    "duration": 5,
    "start_time": "2021-09-11T17:22:17.838Z"
   },
   {
    "duration": 6,
    "start_time": "2021-09-11T17:22:17.845Z"
   },
   {
    "duration": 34,
    "start_time": "2021-09-11T17:22:17.853Z"
   },
   {
    "duration": 6,
    "start_time": "2021-09-11T17:22:17.889Z"
   },
   {
    "duration": 10,
    "start_time": "2021-09-11T17:22:17.897Z"
   },
   {
    "duration": 15,
    "start_time": "2021-09-11T17:22:17.909Z"
   },
   {
    "duration": 21,
    "start_time": "2021-09-11T17:22:17.926Z"
   },
   {
    "duration": 20,
    "start_time": "2021-09-11T17:22:17.948Z"
   },
   {
    "duration": 27,
    "start_time": "2021-09-11T17:22:17.970Z"
   },
   {
    "duration": 7,
    "start_time": "2021-09-11T17:22:17.999Z"
   },
   {
    "duration": 15,
    "start_time": "2021-09-11T17:22:18.008Z"
   },
   {
    "duration": 17,
    "start_time": "2021-09-11T17:22:18.024Z"
   },
   {
    "duration": 10,
    "start_time": "2021-09-11T17:22:18.043Z"
   },
   {
    "duration": 28,
    "start_time": "2021-09-11T17:22:18.054Z"
   },
   {
    "duration": 20,
    "start_time": "2021-09-11T17:22:18.083Z"
   },
   {
    "duration": 27,
    "start_time": "2021-09-11T17:22:18.104Z"
   },
   {
    "duration": 33,
    "start_time": "2021-09-11T17:22:18.133Z"
   },
   {
    "duration": 13,
    "start_time": "2021-09-11T17:22:18.168Z"
   },
   {
    "duration": 27,
    "start_time": "2021-09-11T17:22:18.185Z"
   },
   {
    "duration": 19,
    "start_time": "2021-09-11T17:22:18.214Z"
   },
   {
    "duration": 19,
    "start_time": "2021-09-11T17:22:18.235Z"
   },
   {
    "duration": 28,
    "start_time": "2021-09-11T17:22:18.256Z"
   },
   {
    "duration": 8,
    "start_time": "2021-09-11T17:22:18.287Z"
   },
   {
    "duration": 6,
    "start_time": "2021-09-11T17:22:18.297Z"
   },
   {
    "duration": 181,
    "start_time": "2021-09-11T17:22:18.304Z"
   },
   {
    "duration": 18,
    "start_time": "2021-09-11T17:22:18.486Z"
   },
   {
    "duration": 186,
    "start_time": "2021-09-11T17:22:18.505Z"
   },
   {
    "duration": 27,
    "start_time": "2021-09-11T17:22:18.692Z"
   },
   {
    "duration": 21,
    "start_time": "2021-09-11T17:22:18.721Z"
   },
   {
    "duration": 17,
    "start_time": "2021-09-11T17:22:18.744Z"
   },
   {
    "duration": 123,
    "start_time": "2021-09-11T17:22:18.762Z"
   },
   {
    "duration": 98,
    "start_time": "2021-09-11T17:22:18.888Z"
   },
   {
    "duration": 115,
    "start_time": "2021-09-11T17:22:18.988Z"
   },
   {
    "duration": 19,
    "start_time": "2021-09-11T17:22:19.105Z"
   },
   {
    "duration": 19,
    "start_time": "2021-09-11T17:22:19.125Z"
   },
   {
    "duration": 139,
    "start_time": "2021-09-11T17:22:19.146Z"
   },
   {
    "duration": 104,
    "start_time": "2021-09-11T17:22:19.287Z"
   },
   {
    "duration": 94,
    "start_time": "2021-09-11T17:22:19.393Z"
   },
   {
    "duration": 3243,
    "start_time": "2021-09-11T17:22:19.494Z"
   },
   {
    "duration": 287,
    "start_time": "2021-09-11T17:22:22.739Z"
   },
   {
    "duration": 20,
    "start_time": "2021-09-11T17:22:23.027Z"
   },
   {
    "duration": 3,
    "start_time": "2021-09-11T17:22:23.049Z"
   },
   {
    "duration": 7,
    "start_time": "2021-09-11T17:22:23.054Z"
   },
   {
    "duration": 339,
    "start_time": "2021-09-11T17:22:23.063Z"
   },
   {
    "duration": 248,
    "start_time": "2021-09-11T17:22:23.403Z"
   },
   {
    "duration": 20,
    "start_time": "2021-09-11T17:22:23.653Z"
   },
   {
    "duration": 11,
    "start_time": "2021-09-11T17:22:23.675Z"
   },
   {
    "duration": 255,
    "start_time": "2021-09-11T17:22:23.688Z"
   },
   {
    "duration": 21,
    "start_time": "2021-09-11T17:22:23.944Z"
   },
   {
    "duration": 32,
    "start_time": "2021-09-11T17:22:23.966Z"
   },
   {
    "duration": 1051,
    "start_time": "2021-09-11T17:25:07.311Z"
   },
   {
    "duration": 3,
    "start_time": "2021-09-11T17:25:08.364Z"
   },
   {
    "duration": 45,
    "start_time": "2021-09-11T17:25:08.368Z"
   },
   {
    "duration": 14,
    "start_time": "2021-09-11T17:25:08.415Z"
   },
   {
    "duration": 3,
    "start_time": "2021-09-11T17:25:08.430Z"
   },
   {
    "duration": 41,
    "start_time": "2021-09-11T17:25:08.434Z"
   },
   {
    "duration": 9,
    "start_time": "2021-09-11T17:25:08.476Z"
   },
   {
    "duration": 6,
    "start_time": "2021-09-11T17:25:08.487Z"
   },
   {
    "duration": 12,
    "start_time": "2021-09-11T17:25:08.496Z"
   },
   {
    "duration": 4,
    "start_time": "2021-09-11T17:25:08.510Z"
   },
   {
    "duration": 8,
    "start_time": "2021-09-11T17:25:08.516Z"
   },
   {
    "duration": 5,
    "start_time": "2021-09-11T17:25:08.525Z"
   },
   {
    "duration": 5,
    "start_time": "2021-09-11T17:25:08.531Z"
   },
   {
    "duration": 6,
    "start_time": "2021-09-11T17:25:08.537Z"
   },
   {
    "duration": 46,
    "start_time": "2021-09-11T17:25:08.544Z"
   },
   {
    "duration": 9,
    "start_time": "2021-09-11T17:25:08.591Z"
   },
   {
    "duration": 3,
    "start_time": "2021-09-11T17:25:08.602Z"
   },
   {
    "duration": 19,
    "start_time": "2021-09-11T17:25:08.607Z"
   },
   {
    "duration": 8,
    "start_time": "2021-09-11T17:25:08.627Z"
   },
   {
    "duration": 7,
    "start_time": "2021-09-11T17:25:08.637Z"
   },
   {
    "duration": 41,
    "start_time": "2021-09-11T17:25:08.645Z"
   },
   {
    "duration": 4,
    "start_time": "2021-09-11T17:25:08.688Z"
   },
   {
    "duration": 21,
    "start_time": "2021-09-11T17:25:08.694Z"
   },
   {
    "duration": 10,
    "start_time": "2021-09-11T17:25:08.716Z"
   },
   {
    "duration": 5,
    "start_time": "2021-09-11T17:25:08.727Z"
   },
   {
    "duration": 10,
    "start_time": "2021-09-11T17:25:08.733Z"
   },
   {
    "duration": 5,
    "start_time": "2021-09-11T17:25:08.746Z"
   },
   {
    "duration": 34,
    "start_time": "2021-09-11T17:25:08.753Z"
   },
   {
    "duration": 3,
    "start_time": "2021-09-11T17:25:08.789Z"
   },
   {
    "duration": 6,
    "start_time": "2021-09-11T17:25:08.794Z"
   },
   {
    "duration": 5,
    "start_time": "2021-09-11T17:25:08.802Z"
   },
   {
    "duration": 3,
    "start_time": "2021-09-11T17:25:08.809Z"
   },
   {
    "duration": 170,
    "start_time": "2021-09-11T17:25:08.814Z"
   },
   {
    "duration": 100,
    "start_time": "2021-09-11T17:25:08.986Z"
   },
   {
    "duration": 97,
    "start_time": "2021-09-11T17:25:09.089Z"
   },
   {
    "duration": 4,
    "start_time": "2021-09-11T17:25:09.187Z"
   },
   {
    "duration": 12,
    "start_time": "2021-09-11T17:25:09.193Z"
   },
   {
    "duration": 8,
    "start_time": "2021-09-11T17:25:09.206Z"
   },
   {
    "duration": 170,
    "start_time": "2021-09-11T17:25:09.215Z"
   },
   {
    "duration": 10,
    "start_time": "2021-09-11T17:25:09.388Z"
   },
   {
    "duration": 98,
    "start_time": "2021-09-11T17:25:09.487Z"
   },
   {
    "duration": 6,
    "start_time": "2021-09-11T17:25:09.587Z"
   },
   {
    "duration": 9,
    "start_time": "2021-09-11T17:25:09.595Z"
   },
   {
    "duration": 180,
    "start_time": "2021-09-11T17:25:09.606Z"
   },
   {
    "duration": 98,
    "start_time": "2021-09-11T17:25:09.788Z"
   },
   {
    "duration": 5,
    "start_time": "2021-09-11T17:25:09.888Z"
   },
   {
    "duration": 3132,
    "start_time": "2021-09-11T17:25:09.984Z"
   },
   {
    "duration": 277,
    "start_time": "2021-09-11T17:25:13.117Z"
   },
   {
    "duration": 20,
    "start_time": "2021-09-11T17:25:13.395Z"
   },
   {
    "duration": 5,
    "start_time": "2021-09-11T17:25:13.416Z"
   },
   {
    "duration": 6,
    "start_time": "2021-09-11T17:25:13.422Z"
   },
   {
    "duration": 340,
    "start_time": "2021-09-11T17:25:13.429Z"
   },
   {
    "duration": 259,
    "start_time": "2021-09-11T17:25:13.771Z"
   },
   {
    "duration": 21,
    "start_time": "2021-09-11T17:25:14.032Z"
   },
   {
    "duration": 5,
    "start_time": "2021-09-11T17:25:14.054Z"
   },
   {
    "duration": 186,
    "start_time": "2021-09-11T17:25:14.061Z"
   },
   {
    "duration": 20,
    "start_time": "2021-09-11T17:25:14.248Z"
   },
   {
    "duration": 32,
    "start_time": "2021-09-11T17:25:14.270Z"
   },
   {
    "duration": 1041,
    "start_time": "2021-09-11T17:25:31.923Z"
   },
   {
    "duration": 2,
    "start_time": "2021-09-11T17:25:32.966Z"
   },
   {
    "duration": 33,
    "start_time": "2021-09-11T17:25:32.970Z"
   },
   {
    "duration": 14,
    "start_time": "2021-09-11T17:25:33.005Z"
   },
   {
    "duration": 10,
    "start_time": "2021-09-11T17:25:33.020Z"
   },
   {
    "duration": 43,
    "start_time": "2021-09-11T17:25:33.031Z"
   },
   {
    "duration": 12,
    "start_time": "2021-09-11T17:25:33.075Z"
   },
   {
    "duration": 12,
    "start_time": "2021-09-11T17:25:33.089Z"
   },
   {
    "duration": 14,
    "start_time": "2021-09-11T17:25:33.103Z"
   },
   {
    "duration": 5,
    "start_time": "2021-09-11T17:25:33.118Z"
   },
   {
    "duration": 10,
    "start_time": "2021-09-11T17:25:33.124Z"
   },
   {
    "duration": 13,
    "start_time": "2021-09-11T17:25:33.135Z"
   },
   {
    "duration": 6,
    "start_time": "2021-09-11T17:25:33.149Z"
   },
   {
    "duration": 15,
    "start_time": "2021-09-11T17:25:33.156Z"
   },
   {
    "duration": 15,
    "start_time": "2021-09-11T17:25:33.172Z"
   },
   {
    "duration": 13,
    "start_time": "2021-09-11T17:25:33.188Z"
   },
   {
    "duration": 4,
    "start_time": "2021-09-11T17:25:33.203Z"
   },
   {
    "duration": 27,
    "start_time": "2021-09-11T17:25:33.209Z"
   },
   {
    "duration": 7,
    "start_time": "2021-09-11T17:25:33.238Z"
   },
   {
    "duration": 7,
    "start_time": "2021-09-11T17:25:33.247Z"
   },
   {
    "duration": 6,
    "start_time": "2021-09-11T17:25:33.256Z"
   },
   {
    "duration": 5,
    "start_time": "2021-09-11T17:25:33.264Z"
   },
   {
    "duration": 23,
    "start_time": "2021-09-11T17:25:33.288Z"
   },
   {
    "duration": 11,
    "start_time": "2021-09-11T17:25:33.314Z"
   },
   {
    "duration": 7,
    "start_time": "2021-09-11T17:25:33.327Z"
   },
   {
    "duration": 10,
    "start_time": "2021-09-11T17:25:33.335Z"
   },
   {
    "duration": 13,
    "start_time": "2021-09-11T17:25:33.347Z"
   },
   {
    "duration": 29,
    "start_time": "2021-09-11T17:25:33.361Z"
   },
   {
    "duration": 11,
    "start_time": "2021-09-11T17:25:33.391Z"
   },
   {
    "duration": 7,
    "start_time": "2021-09-11T17:25:33.404Z"
   },
   {
    "duration": 6,
    "start_time": "2021-09-11T17:25:33.413Z"
   },
   {
    "duration": 7,
    "start_time": "2021-09-11T17:25:33.421Z"
   },
   {
    "duration": 159,
    "start_time": "2021-09-11T17:25:33.430Z"
   },
   {
    "duration": 99,
    "start_time": "2021-09-11T17:25:33.591Z"
   },
   {
    "duration": 99,
    "start_time": "2021-09-11T17:25:33.692Z"
   },
   {
    "duration": 94,
    "start_time": "2021-09-11T17:25:33.793Z"
   },
   {
    "duration": 8,
    "start_time": "2021-09-11T17:25:33.889Z"
   },
   {
    "duration": 7,
    "start_time": "2021-09-11T17:25:33.899Z"
   },
   {
    "duration": 86,
    "start_time": "2021-09-11T17:25:33.907Z"
   },
   {
    "duration": 101,
    "start_time": "2021-09-11T17:25:33.995Z"
   },
   {
    "duration": 6,
    "start_time": "2021-09-11T17:25:34.186Z"
   },
   {
    "duration": 6,
    "start_time": "2021-09-11T17:25:34.193Z"
   },
   {
    "duration": 6,
    "start_time": "2021-09-11T17:25:34.201Z"
   },
   {
    "duration": 378,
    "start_time": "2021-09-11T17:25:34.208Z"
   },
   {
    "duration": 103,
    "start_time": "2021-09-11T17:25:34.588Z"
   },
   {
    "duration": 91,
    "start_time": "2021-09-11T17:25:34.694Z"
   },
   {
    "duration": 3301,
    "start_time": "2021-09-11T17:25:34.787Z"
   },
   {
    "duration": 278,
    "start_time": "2021-09-11T17:25:38.089Z"
   },
   {
    "duration": 24,
    "start_time": "2021-09-11T17:25:38.368Z"
   },
   {
    "duration": 3,
    "start_time": "2021-09-11T17:25:38.394Z"
   },
   {
    "duration": 9,
    "start_time": "2021-09-11T17:25:38.398Z"
   },
   {
    "duration": 326,
    "start_time": "2021-09-11T17:25:38.408Z"
   },
   {
    "duration": 246,
    "start_time": "2021-09-11T17:25:38.735Z"
   },
   {
    "duration": 19,
    "start_time": "2021-09-11T17:25:38.983Z"
   },
   {
    "duration": 3,
    "start_time": "2021-09-11T17:25:39.004Z"
   },
   {
    "duration": 186,
    "start_time": "2021-09-11T17:25:39.008Z"
   },
   {
    "duration": 20,
    "start_time": "2021-09-11T17:25:39.196Z"
   },
   {
    "duration": 19,
    "start_time": "2021-09-11T17:25:39.217Z"
   },
   {
    "duration": 1104,
    "start_time": "2021-09-11T17:25:55.664Z"
   },
   {
    "duration": 3,
    "start_time": "2021-09-11T17:25:56.769Z"
   },
   {
    "duration": 31,
    "start_time": "2021-09-11T17:25:56.773Z"
   },
   {
    "duration": 14,
    "start_time": "2021-09-11T17:25:56.806Z"
   },
   {
    "duration": 4,
    "start_time": "2021-09-11T17:25:56.821Z"
   },
   {
    "duration": 37,
    "start_time": "2021-09-11T17:25:56.826Z"
   },
   {
    "duration": 20,
    "start_time": "2021-09-11T17:25:56.865Z"
   },
   {
    "duration": 9,
    "start_time": "2021-09-11T17:25:56.887Z"
   },
   {
    "duration": 13,
    "start_time": "2021-09-11T17:25:56.897Z"
   },
   {
    "duration": 5,
    "start_time": "2021-09-11T17:25:56.911Z"
   },
   {
    "duration": 6,
    "start_time": "2021-09-11T17:25:56.917Z"
   },
   {
    "duration": 5,
    "start_time": "2021-09-11T17:25:56.925Z"
   },
   {
    "duration": 5,
    "start_time": "2021-09-11T17:25:56.931Z"
   },
   {
    "duration": 7,
    "start_time": "2021-09-11T17:25:56.937Z"
   },
   {
    "duration": 43,
    "start_time": "2021-09-11T17:25:56.945Z"
   },
   {
    "duration": 9,
    "start_time": "2021-09-11T17:25:56.990Z"
   },
   {
    "duration": 2,
    "start_time": "2021-09-11T17:25:57.001Z"
   },
   {
    "duration": 21,
    "start_time": "2021-09-11T17:25:57.005Z"
   },
   {
    "duration": 58,
    "start_time": "2021-09-11T17:25:57.027Z"
   },
   {
    "duration": 5,
    "start_time": "2021-09-11T17:25:57.087Z"
   },
   {
    "duration": 5,
    "start_time": "2021-09-11T17:25:57.093Z"
   },
   {
    "duration": 5,
    "start_time": "2021-09-11T17:25:57.099Z"
   },
   {
    "duration": 13,
    "start_time": "2021-09-11T17:25:57.107Z"
   },
   {
    "duration": 10,
    "start_time": "2021-09-11T17:25:57.122Z"
   },
   {
    "duration": 5,
    "start_time": "2021-09-11T17:25:57.185Z"
   },
   {
    "duration": 9,
    "start_time": "2021-09-11T17:25:57.191Z"
   },
   {
    "duration": 5,
    "start_time": "2021-09-11T17:25:57.201Z"
   },
   {
    "duration": 9,
    "start_time": "2021-09-11T17:25:57.207Z"
   },
   {
    "duration": 3,
    "start_time": "2021-09-11T17:25:57.218Z"
   },
   {
    "duration": 5,
    "start_time": "2021-09-11T17:25:57.223Z"
   },
   {
    "duration": 57,
    "start_time": "2021-09-11T17:25:57.229Z"
   },
   {
    "duration": 2,
    "start_time": "2021-09-11T17:25:57.288Z"
   },
   {
    "duration": 193,
    "start_time": "2021-09-11T17:25:57.291Z"
   },
   {
    "duration": 9,
    "start_time": "2021-09-11T17:25:57.486Z"
   },
   {
    "duration": 96,
    "start_time": "2021-09-11T17:25:57.496Z"
   },
   {
    "duration": 93,
    "start_time": "2021-09-11T17:25:57.593Z"
   },
   {
    "duration": 8,
    "start_time": "2021-09-11T17:25:57.687Z"
   },
   {
    "duration": 7,
    "start_time": "2021-09-11T17:25:57.696Z"
   },
   {
    "duration": 181,
    "start_time": "2021-09-11T17:25:57.704Z"
   },
   {
    "duration": 98,
    "start_time": "2021-09-11T17:25:57.887Z"
   },
   {
    "duration": 107,
    "start_time": "2021-09-11T17:25:57.988Z"
   },
   {
    "duration": 5,
    "start_time": "2021-09-11T17:25:58.097Z"
   },
   {
    "duration": 5,
    "start_time": "2021-09-11T17:25:58.104Z"
   },
   {
    "duration": 83,
    "start_time": "2021-09-11T17:25:58.111Z"
   },
   {
    "duration": 9,
    "start_time": "2021-09-11T17:25:58.285Z"
   },
   {
    "duration": 94,
    "start_time": "2021-09-11T17:25:58.296Z"
   },
   {
    "duration": 2955,
    "start_time": "2021-09-11T17:25:58.392Z"
   },
   {
    "duration": 280,
    "start_time": "2021-09-11T17:26:01.348Z"
   },
   {
    "duration": 20,
    "start_time": "2021-09-11T17:26:01.629Z"
   },
   {
    "duration": 9,
    "start_time": "2021-09-11T17:26:01.651Z"
   },
   {
    "duration": 23,
    "start_time": "2021-09-11T17:26:01.662Z"
   },
   {
    "duration": 333,
    "start_time": "2021-09-11T17:26:01.687Z"
   },
   {
    "duration": 250,
    "start_time": "2021-09-11T17:26:02.022Z"
   },
   {
    "duration": 22,
    "start_time": "2021-09-11T17:26:02.274Z"
   },
   {
    "duration": 4,
    "start_time": "2021-09-11T17:26:02.297Z"
   },
   {
    "duration": 183,
    "start_time": "2021-09-11T17:26:02.302Z"
   },
   {
    "duration": 20,
    "start_time": "2021-09-11T17:26:02.486Z"
   },
   {
    "duration": 20,
    "start_time": "2021-09-11T17:26:02.508Z"
   },
   {
    "duration": 4,
    "start_time": "2021-09-11T17:27:18.836Z"
   },
   {
    "duration": 10,
    "start_time": "2021-09-11T17:30:08.904Z"
   },
   {
    "duration": 7,
    "start_time": "2021-09-11T17:30:12.287Z"
   },
   {
    "duration": 8,
    "start_time": "2021-09-11T17:31:38.061Z"
   },
   {
    "duration": 17,
    "start_time": "2021-09-11T17:31:58.693Z"
   },
   {
    "duration": 1058,
    "start_time": "2021-09-11T17:32:05.915Z"
   },
   {
    "duration": 2,
    "start_time": "2021-09-11T17:32:06.975Z"
   },
   {
    "duration": 33,
    "start_time": "2021-09-11T17:32:06.979Z"
   },
   {
    "duration": 14,
    "start_time": "2021-09-11T17:32:07.014Z"
   },
   {
    "duration": 3,
    "start_time": "2021-09-11T17:32:07.030Z"
   },
   {
    "duration": 50,
    "start_time": "2021-09-11T17:32:07.035Z"
   },
   {
    "duration": 6,
    "start_time": "2021-09-11T17:32:07.087Z"
   },
   {
    "duration": 9,
    "start_time": "2021-09-11T17:32:07.095Z"
   },
   {
    "duration": 14,
    "start_time": "2021-09-11T17:32:07.105Z"
   },
   {
    "duration": 5,
    "start_time": "2021-09-11T17:32:07.120Z"
   },
   {
    "duration": 8,
    "start_time": "2021-09-11T17:32:07.126Z"
   },
   {
    "duration": 7,
    "start_time": "2021-09-11T17:32:07.135Z"
   },
   {
    "duration": 7,
    "start_time": "2021-09-11T17:32:07.143Z"
   },
   {
    "duration": 6,
    "start_time": "2021-09-11T17:32:07.184Z"
   },
   {
    "duration": 8,
    "start_time": "2021-09-11T17:32:07.192Z"
   },
   {
    "duration": 6,
    "start_time": "2021-09-11T17:32:07.202Z"
   },
   {
    "duration": 2,
    "start_time": "2021-09-11T17:32:07.209Z"
   },
   {
    "duration": 20,
    "start_time": "2021-09-11T17:32:07.213Z"
   },
   {
    "duration": 6,
    "start_time": "2021-09-11T17:32:07.234Z"
   },
   {
    "duration": 6,
    "start_time": "2021-09-11T17:32:07.241Z"
   },
   {
    "duration": 36,
    "start_time": "2021-09-11T17:32:07.249Z"
   },
   {
    "duration": 6,
    "start_time": "2021-09-11T17:32:07.287Z"
   },
   {
    "duration": 14,
    "start_time": "2021-09-11T17:32:07.296Z"
   },
   {
    "duration": 10,
    "start_time": "2021-09-11T17:32:07.312Z"
   },
   {
    "duration": 9,
    "start_time": "2021-09-11T17:32:07.324Z"
   },
   {
    "duration": 12,
    "start_time": "2021-09-11T17:32:07.334Z"
   },
   {
    "duration": 5,
    "start_time": "2021-09-11T17:32:07.348Z"
   },
   {
    "duration": 33,
    "start_time": "2021-09-11T17:32:07.355Z"
   },
   {
    "duration": 4,
    "start_time": "2021-09-11T17:32:07.389Z"
   },
   {
    "duration": 9,
    "start_time": "2021-09-11T17:32:07.395Z"
   },
   {
    "duration": 6,
    "start_time": "2021-09-11T17:32:07.405Z"
   },
   {
    "duration": 5,
    "start_time": "2021-09-11T17:32:07.413Z"
   },
   {
    "duration": 75,
    "start_time": "2021-09-11T17:32:07.419Z"
   },
   {
    "duration": 98,
    "start_time": "2021-09-11T17:32:07.586Z"
   },
   {
    "duration": 107,
    "start_time": "2021-09-11T17:32:07.688Z"
   },
   {
    "duration": 4,
    "start_time": "2021-09-11T17:32:07.797Z"
   },
   {
    "duration": 13,
    "start_time": "2021-09-11T17:32:07.802Z"
   },
   {
    "duration": 8,
    "start_time": "2021-09-11T17:32:07.817Z"
   },
   {
    "duration": 67,
    "start_time": "2021-09-11T17:32:07.827Z"
   },
   {
    "duration": 9,
    "start_time": "2021-09-11T17:32:07.986Z"
   },
   {
    "duration": 98,
    "start_time": "2021-09-11T17:32:08.087Z"
   },
   {
    "duration": 8,
    "start_time": "2021-09-11T17:32:08.187Z"
   },
   {
    "duration": 15,
    "start_time": "2021-09-11T17:32:08.197Z"
   },
   {
    "duration": 6,
    "start_time": "2021-09-11T17:32:08.214Z"
   },
   {
    "duration": 5,
    "start_time": "2021-09-11T17:32:08.222Z"
   },
   {
    "duration": 6,
    "start_time": "2021-09-11T17:32:08.229Z"
   },
   {
    "duration": 148,
    "start_time": "2021-09-11T17:32:08.237Z"
   },
   {
    "duration": 98,
    "start_time": "2021-09-11T17:32:08.388Z"
   },
   {
    "duration": 6,
    "start_time": "2021-09-11T17:32:08.488Z"
   },
   {
    "duration": 2881,
    "start_time": "2021-09-11T17:32:08.586Z"
   },
   {
    "duration": 284,
    "start_time": "2021-09-11T17:32:11.469Z"
   },
   {
    "duration": 30,
    "start_time": "2021-09-11T17:32:11.755Z"
   },
   {
    "duration": 4,
    "start_time": "2021-09-11T17:32:11.786Z"
   },
   {
    "duration": 5,
    "start_time": "2021-09-11T17:32:11.792Z"
   },
   {
    "duration": 337,
    "start_time": "2021-09-11T17:32:11.799Z"
   },
   {
    "duration": 250,
    "start_time": "2021-09-11T17:32:12.138Z"
   },
   {
    "duration": 20,
    "start_time": "2021-09-11T17:32:12.390Z"
   },
   {
    "duration": 3,
    "start_time": "2021-09-11T17:32:12.412Z"
   },
   {
    "duration": 185,
    "start_time": "2021-09-11T17:32:12.417Z"
   },
   {
    "duration": 21,
    "start_time": "2021-09-11T17:32:12.603Z"
   },
   {
    "duration": 19,
    "start_time": "2021-09-11T17:32:12.626Z"
   },
   {
    "duration": 3,
    "start_time": "2021-09-11T17:35:51.073Z"
   },
   {
    "duration": 1079,
    "start_time": "2021-09-11T17:44:17.233Z"
   },
   {
    "duration": 3,
    "start_time": "2021-09-11T17:44:18.314Z"
   },
   {
    "duration": 75,
    "start_time": "2021-09-11T17:44:18.325Z"
   },
   {
    "duration": 14,
    "start_time": "2021-09-11T17:44:18.402Z"
   },
   {
    "duration": 4,
    "start_time": "2021-09-11T17:44:18.417Z"
   },
   {
    "duration": 92,
    "start_time": "2021-09-11T17:44:18.422Z"
   },
   {
    "duration": 6,
    "start_time": "2021-09-11T17:44:18.516Z"
   },
   {
    "duration": 10,
    "start_time": "2021-09-11T17:44:18.524Z"
   },
   {
    "duration": 14,
    "start_time": "2021-09-11T17:44:18.586Z"
   },
   {
    "duration": 4,
    "start_time": "2021-09-11T17:44:18.602Z"
   },
   {
    "duration": 7,
    "start_time": "2021-09-11T17:44:18.608Z"
   },
   {
    "duration": 5,
    "start_time": "2021-09-11T17:44:18.617Z"
   },
   {
    "duration": 62,
    "start_time": "2021-09-11T17:44:18.624Z"
   },
   {
    "duration": 7,
    "start_time": "2021-09-11T17:44:18.688Z"
   },
   {
    "duration": 6,
    "start_time": "2021-09-11T17:44:18.697Z"
   },
   {
    "duration": 8,
    "start_time": "2021-09-11T17:44:18.705Z"
   },
   {
    "duration": 2,
    "start_time": "2021-09-11T17:44:18.715Z"
   },
   {
    "duration": 22,
    "start_time": "2021-09-11T17:44:18.718Z"
   },
   {
    "duration": 7,
    "start_time": "2021-09-11T17:44:18.785Z"
   },
   {
    "duration": 18,
    "start_time": "2021-09-11T17:44:18.793Z"
   },
   {
    "duration": 22,
    "start_time": "2021-09-11T17:44:18.813Z"
   },
   {
    "duration": 13,
    "start_time": "2021-09-11T17:44:18.836Z"
   },
   {
    "duration": 18,
    "start_time": "2021-09-11T17:44:18.853Z"
   },
   {
    "duration": 11,
    "start_time": "2021-09-11T17:44:18.873Z"
   },
   {
    "duration": 5,
    "start_time": "2021-09-11T17:44:18.885Z"
   },
   {
    "duration": 20,
    "start_time": "2021-09-11T17:44:18.891Z"
   },
   {
    "duration": 8,
    "start_time": "2021-09-11T17:44:18.913Z"
   },
   {
    "duration": 13,
    "start_time": "2021-09-11T17:44:18.922Z"
   },
   {
    "duration": 6,
    "start_time": "2021-09-11T17:44:18.936Z"
   },
   {
    "duration": 8,
    "start_time": "2021-09-11T17:44:18.943Z"
   },
   {
    "duration": 8,
    "start_time": "2021-09-11T17:44:18.952Z"
   },
   {
    "duration": 7,
    "start_time": "2021-09-11T17:44:18.962Z"
   },
   {
    "duration": 117,
    "start_time": "2021-09-11T17:44:18.970Z"
   },
   {
    "duration": 99,
    "start_time": "2021-09-11T17:44:19.088Z"
   },
   {
    "duration": 101,
    "start_time": "2021-09-11T17:44:19.189Z"
   },
   {
    "duration": 6,
    "start_time": "2021-09-11T17:44:19.292Z"
   },
   {
    "duration": 8,
    "start_time": "2021-09-11T17:44:19.299Z"
   },
   {
    "duration": 8,
    "start_time": "2021-09-11T17:44:19.308Z"
   },
   {
    "duration": 77,
    "start_time": "2021-09-11T17:44:19.317Z"
   },
   {
    "duration": 99,
    "start_time": "2021-09-11T17:44:19.486Z"
   },
   {
    "duration": 98,
    "start_time": "2021-09-11T17:44:19.587Z"
   },
   {
    "duration": 106,
    "start_time": "2021-09-11T17:44:19.687Z"
   },
   {
    "duration": 95,
    "start_time": "2021-09-11T17:44:19.795Z"
   },
   {
    "duration": 105,
    "start_time": "2021-09-11T17:44:19.893Z"
   },
   {
    "duration": 6,
    "start_time": "2021-09-11T17:44:19.999Z"
   },
   {
    "duration": 12,
    "start_time": "2021-09-11T17:44:20.006Z"
   },
   {
    "duration": 7,
    "start_time": "2021-09-11T17:44:20.020Z"
   },
   {
    "duration": 156,
    "start_time": "2021-09-11T17:44:20.030Z"
   },
   {
    "duration": 98,
    "start_time": "2021-09-11T17:44:20.188Z"
   },
   {
    "duration": 96,
    "start_time": "2021-09-11T17:44:20.288Z"
   },
   {
    "duration": 3011,
    "start_time": "2021-09-11T17:44:20.387Z"
   },
   {
    "duration": 301,
    "start_time": "2021-09-11T17:44:23.400Z"
   },
   {
    "duration": 21,
    "start_time": "2021-09-11T17:44:23.703Z"
   },
   {
    "duration": 5,
    "start_time": "2021-09-11T17:44:23.726Z"
   },
   {
    "duration": 10,
    "start_time": "2021-09-11T17:44:23.733Z"
   },
   {
    "duration": 361,
    "start_time": "2021-09-11T17:44:23.745Z"
   },
   {
    "duration": 260,
    "start_time": "2021-09-11T17:44:24.108Z"
   },
   {
    "duration": 28,
    "start_time": "2021-09-11T17:44:24.370Z"
   },
   {
    "duration": 4,
    "start_time": "2021-09-11T17:44:24.399Z"
   },
   {
    "duration": 189,
    "start_time": "2021-09-11T17:44:24.405Z"
   },
   {
    "duration": 22,
    "start_time": "2021-09-11T17:44:24.596Z"
   },
   {
    "duration": 25,
    "start_time": "2021-09-11T17:44:24.620Z"
   },
   {
    "duration": 111,
    "start_time": "2021-09-11T17:45:32.177Z"
   },
   {
    "duration": 28,
    "start_time": "2021-09-11T17:46:11.421Z"
   },
   {
    "duration": 453,
    "start_time": "2021-09-11T17:47:15.420Z"
   },
   {
    "duration": 471,
    "start_time": "2021-09-11T17:47:48.238Z"
   },
   {
    "duration": 458,
    "start_time": "2021-09-11T17:48:23.190Z"
   },
   {
    "duration": 5,
    "start_time": "2021-09-11T17:48:28.369Z"
   },
   {
    "duration": 457,
    "start_time": "2021-09-11T17:49:09.297Z"
   },
   {
    "duration": 581,
    "start_time": "2021-09-11T17:50:27.702Z"
   },
   {
    "duration": 322,
    "start_time": "2021-09-11T17:50:59.382Z"
   },
   {
    "duration": 1052,
    "start_time": "2021-09-11T17:51:07.812Z"
   },
   {
    "duration": 2,
    "start_time": "2021-09-11T17:51:08.866Z"
   },
   {
    "duration": 34,
    "start_time": "2021-09-11T17:51:08.870Z"
   },
   {
    "duration": 14,
    "start_time": "2021-09-11T17:51:08.906Z"
   },
   {
    "duration": 4,
    "start_time": "2021-09-11T17:51:08.921Z"
   },
   {
    "duration": 38,
    "start_time": "2021-09-11T17:51:08.926Z"
   },
   {
    "duration": 20,
    "start_time": "2021-09-11T17:51:08.965Z"
   },
   {
    "duration": 7,
    "start_time": "2021-09-11T17:51:08.987Z"
   },
   {
    "duration": 13,
    "start_time": "2021-09-11T17:51:08.997Z"
   },
   {
    "duration": 4,
    "start_time": "2021-09-11T17:51:09.012Z"
   },
   {
    "duration": 7,
    "start_time": "2021-09-11T17:51:09.018Z"
   },
   {
    "duration": 5,
    "start_time": "2021-09-11T17:51:09.026Z"
   },
   {
    "duration": 8,
    "start_time": "2021-09-11T17:51:09.033Z"
   },
   {
    "duration": 43,
    "start_time": "2021-09-11T17:51:09.042Z"
   },
   {
    "duration": 6,
    "start_time": "2021-09-11T17:51:09.086Z"
   },
   {
    "duration": 7,
    "start_time": "2021-09-11T17:51:09.093Z"
   },
   {
    "duration": 4,
    "start_time": "2021-09-11T17:51:09.101Z"
   },
   {
    "duration": 20,
    "start_time": "2021-09-11T17:51:09.107Z"
   },
   {
    "duration": 6,
    "start_time": "2021-09-11T17:51:09.128Z"
   },
   {
    "duration": 6,
    "start_time": "2021-09-11T17:51:09.136Z"
   },
   {
    "duration": 6,
    "start_time": "2021-09-11T17:51:09.143Z"
   },
   {
    "duration": 36,
    "start_time": "2021-09-11T17:51:09.150Z"
   },
   {
    "duration": 12,
    "start_time": "2021-09-11T17:51:09.187Z"
   },
   {
    "duration": 10,
    "start_time": "2021-09-11T17:51:09.201Z"
   },
   {
    "duration": 6,
    "start_time": "2021-09-11T17:51:09.212Z"
   },
   {
    "duration": 8,
    "start_time": "2021-09-11T17:51:09.220Z"
   },
   {
    "duration": 4,
    "start_time": "2021-09-11T17:51:09.231Z"
   },
   {
    "duration": 7,
    "start_time": "2021-09-11T17:51:09.237Z"
   },
   {
    "duration": 6,
    "start_time": "2021-09-11T17:51:09.246Z"
   },
   {
    "duration": 33,
    "start_time": "2021-09-11T17:51:09.253Z"
   },
   {
    "duration": 7,
    "start_time": "2021-09-11T17:51:09.287Z"
   },
   {
    "duration": 5,
    "start_time": "2021-09-11T17:51:09.295Z"
   },
   {
    "duration": 88,
    "start_time": "2021-09-11T17:51:09.301Z"
   },
   {
    "duration": 101,
    "start_time": "2021-09-11T17:51:09.391Z"
   },
   {
    "duration": 99,
    "start_time": "2021-09-11T17:51:09.494Z"
   },
   {
    "duration": 5,
    "start_time": "2021-09-11T17:51:09.595Z"
   },
   {
    "duration": 7,
    "start_time": "2021-09-11T17:51:09.685Z"
   },
   {
    "duration": 6,
    "start_time": "2021-09-11T17:51:09.694Z"
   },
   {
    "duration": 90,
    "start_time": "2021-09-11T17:51:09.701Z"
   },
   {
    "duration": 96,
    "start_time": "2021-09-11T17:51:09.794Z"
   },
   {
    "duration": 92,
    "start_time": "2021-09-11T17:51:09.893Z"
   },
   {
    "duration": 146,
    "start_time": "2021-09-11T17:51:09.987Z"
   },
   {
    "duration": 115,
    "start_time": "2021-09-11T17:51:10.188Z"
   },
   {
    "duration": 84,
    "start_time": "2021-09-11T17:51:10.305Z"
   },
   {
    "duration": 106,
    "start_time": "2021-09-11T17:51:10.392Z"
   },
   {
    "duration": 5,
    "start_time": "2021-09-11T17:51:10.499Z"
   },
   {
    "duration": 4,
    "start_time": "2021-09-11T17:51:10.506Z"
   },
   {
    "duration": 7,
    "start_time": "2021-09-11T17:51:10.511Z"
   },
   {
    "duration": 75,
    "start_time": "2021-09-11T17:51:10.519Z"
   },
   {
    "duration": 101,
    "start_time": "2021-09-11T17:51:10.685Z"
   },
   {
    "duration": 4,
    "start_time": "2021-09-11T17:51:10.788Z"
   },
   {
    "duration": 3145,
    "start_time": "2021-09-11T17:51:10.794Z"
   },
   {
    "duration": 273,
    "start_time": "2021-09-11T17:51:13.941Z"
   },
   {
    "duration": 19,
    "start_time": "2021-09-11T17:51:14.216Z"
   },
   {
    "duration": 51,
    "start_time": "2021-09-11T17:51:14.236Z"
   },
   {
    "duration": 16,
    "start_time": "2021-09-11T17:51:14.288Z"
   },
   {
    "duration": 497,
    "start_time": "2021-09-11T17:51:14.305Z"
   },
   {
    "duration": 254,
    "start_time": "2021-09-11T17:51:14.804Z"
   },
   {
    "duration": 28,
    "start_time": "2021-09-11T17:51:15.060Z"
   },
   {
    "duration": 4,
    "start_time": "2021-09-11T17:51:15.089Z"
   },
   {
    "duration": 183,
    "start_time": "2021-09-11T17:51:15.095Z"
   },
   {
    "duration": 21,
    "start_time": "2021-09-11T17:51:15.284Z"
   },
   {
    "duration": 19,
    "start_time": "2021-09-11T17:51:15.306Z"
   },
   {
    "duration": 88,
    "start_time": "2021-09-11T17:54:09.299Z"
   },
   {
    "duration": 407,
    "start_time": "2021-09-11T17:54:28.268Z"
   },
   {
    "duration": 1037,
    "start_time": "2021-09-11T17:54:40.033Z"
   },
   {
    "duration": 2,
    "start_time": "2021-09-11T17:54:41.072Z"
   },
   {
    "duration": 30,
    "start_time": "2021-09-11T17:54:41.076Z"
   },
   {
    "duration": 14,
    "start_time": "2021-09-11T17:54:41.107Z"
   },
   {
    "duration": 7,
    "start_time": "2021-09-11T17:54:41.122Z"
   },
   {
    "duration": 39,
    "start_time": "2021-09-11T17:54:41.131Z"
   },
   {
    "duration": 15,
    "start_time": "2021-09-11T17:54:41.172Z"
   },
   {
    "duration": 7,
    "start_time": "2021-09-11T17:54:41.190Z"
   },
   {
    "duration": 13,
    "start_time": "2021-09-11T17:54:41.199Z"
   },
   {
    "duration": 6,
    "start_time": "2021-09-11T17:54:41.214Z"
   },
   {
    "duration": 6,
    "start_time": "2021-09-11T17:54:41.222Z"
   },
   {
    "duration": 7,
    "start_time": "2021-09-11T17:54:41.229Z"
   },
   {
    "duration": 48,
    "start_time": "2021-09-11T17:54:41.237Z"
   },
   {
    "duration": 6,
    "start_time": "2021-09-11T17:54:41.287Z"
   },
   {
    "duration": 9,
    "start_time": "2021-09-11T17:54:41.295Z"
   },
   {
    "duration": 8,
    "start_time": "2021-09-11T17:54:41.306Z"
   },
   {
    "duration": 4,
    "start_time": "2021-09-11T17:54:41.315Z"
   },
   {
    "duration": 19,
    "start_time": "2021-09-11T17:54:41.321Z"
   },
   {
    "duration": 7,
    "start_time": "2021-09-11T17:54:41.342Z"
   },
   {
    "duration": 7,
    "start_time": "2021-09-11T17:54:41.350Z"
   },
   {
    "duration": 29,
    "start_time": "2021-09-11T17:54:41.358Z"
   },
   {
    "duration": 6,
    "start_time": "2021-09-11T17:54:41.388Z"
   },
   {
    "duration": 12,
    "start_time": "2021-09-11T17:54:41.397Z"
   },
   {
    "duration": 11,
    "start_time": "2021-09-11T17:54:41.411Z"
   },
   {
    "duration": 4,
    "start_time": "2021-09-11T17:54:41.423Z"
   },
   {
    "duration": 9,
    "start_time": "2021-09-11T17:54:41.429Z"
   },
   {
    "duration": 6,
    "start_time": "2021-09-11T17:54:41.439Z"
   },
   {
    "duration": 44,
    "start_time": "2021-09-11T17:54:41.447Z"
   },
   {
    "duration": 6,
    "start_time": "2021-09-11T17:54:41.493Z"
   },
   {
    "duration": 6,
    "start_time": "2021-09-11T17:54:41.501Z"
   },
   {
    "duration": 6,
    "start_time": "2021-09-11T17:54:41.508Z"
   },
   {
    "duration": 3,
    "start_time": "2021-09-11T17:54:41.516Z"
   },
   {
    "duration": 73,
    "start_time": "2021-09-11T17:54:41.521Z"
   },
   {
    "duration": 191,
    "start_time": "2021-09-11T17:54:41.595Z"
   },
   {
    "duration": 9,
    "start_time": "2021-09-11T17:54:41.788Z"
   },
   {
    "duration": 4,
    "start_time": "2021-09-11T17:54:41.799Z"
   },
   {
    "duration": 6,
    "start_time": "2021-09-11T17:54:41.805Z"
   },
   {
    "duration": 10,
    "start_time": "2021-09-11T17:54:41.813Z"
   },
   {
    "duration": 163,
    "start_time": "2021-09-11T17:54:41.825Z"
   },
   {
    "duration": 98,
    "start_time": "2021-09-11T17:54:41.993Z"
   },
   {
    "duration": 95,
    "start_time": "2021-09-11T17:54:42.094Z"
   },
   {
    "duration": 94,
    "start_time": "2021-09-11T17:54:42.191Z"
   },
   {
    "duration": 529,
    "start_time": "2021-09-11T17:54:42.288Z"
   },
   {
    "duration": 264,
    "start_time": "2021-09-11T17:54:42.555Z"
   },
   {
    "duration": 127,
    "start_time": "2021-09-11T17:54:42.693Z"
   },
   {
    "duration": 121,
    "start_time": "2021-09-11T17:54:42.700Z"
   },
   {
    "duration": 120,
    "start_time": "2021-09-11T17:54:42.702Z"
   },
   {
    "duration": 118,
    "start_time": "2021-09-11T17:54:42.705Z"
   },
   {
    "duration": 117,
    "start_time": "2021-09-11T17:54:42.707Z"
   },
   {
    "duration": 114,
    "start_time": "2021-09-11T17:54:42.711Z"
   },
   {
    "duration": 113,
    "start_time": "2021-09-11T17:54:42.713Z"
   },
   {
    "duration": 112,
    "start_time": "2021-09-11T17:54:42.715Z"
   },
   {
    "duration": 112,
    "start_time": "2021-09-11T17:54:42.717Z"
   },
   {
    "duration": 111,
    "start_time": "2021-09-11T17:54:42.719Z"
   },
   {
    "duration": 109,
    "start_time": "2021-09-11T17:54:42.722Z"
   },
   {
    "duration": 108,
    "start_time": "2021-09-11T17:54:42.724Z"
   },
   {
    "duration": 107,
    "start_time": "2021-09-11T17:54:42.726Z"
   },
   {
    "duration": 107,
    "start_time": "2021-09-11T17:54:42.728Z"
   },
   {
    "duration": 106,
    "start_time": "2021-09-11T17:54:42.730Z"
   },
   {
    "duration": 105,
    "start_time": "2021-09-11T17:54:42.732Z"
   },
   {
    "duration": -18,
    "start_time": "2021-09-11T17:54:42.856Z"
   },
   {
    "duration": -20,
    "start_time": "2021-09-11T17:54:42.859Z"
   },
   {
    "duration": -25,
    "start_time": "2021-09-11T17:54:42.865Z"
   },
   {
    "duration": 268,
    "start_time": "2021-09-11T17:55:37.536Z"
   },
   {
    "duration": 298,
    "start_time": "2021-09-11T17:55:48.264Z"
   },
   {
    "duration": 1091,
    "start_time": "2021-09-11T17:55:55.015Z"
   },
   {
    "duration": 2,
    "start_time": "2021-09-11T17:55:56.108Z"
   },
   {
    "duration": 79,
    "start_time": "2021-09-11T17:55:56.111Z"
   },
   {
    "duration": 14,
    "start_time": "2021-09-11T17:55:56.192Z"
   },
   {
    "duration": 5,
    "start_time": "2021-09-11T17:55:56.208Z"
   },
   {
    "duration": 98,
    "start_time": "2021-09-11T17:55:56.214Z"
   },
   {
    "duration": 5,
    "start_time": "2021-09-11T17:55:56.314Z"
   },
   {
    "duration": 12,
    "start_time": "2021-09-11T17:55:56.322Z"
   },
   {
    "duration": 14,
    "start_time": "2021-09-11T17:55:56.386Z"
   },
   {
    "duration": 18,
    "start_time": "2021-09-11T17:55:56.401Z"
   },
   {
    "duration": 16,
    "start_time": "2021-09-11T17:55:56.420Z"
   },
   {
    "duration": 22,
    "start_time": "2021-09-11T17:55:56.437Z"
   },
   {
    "duration": 27,
    "start_time": "2021-09-11T17:55:56.461Z"
   },
   {
    "duration": 20,
    "start_time": "2021-09-11T17:55:56.490Z"
   },
   {
    "duration": 20,
    "start_time": "2021-09-11T17:55:56.511Z"
   },
   {
    "duration": 16,
    "start_time": "2021-09-11T17:55:56.532Z"
   },
   {
    "duration": 11,
    "start_time": "2021-09-11T17:55:56.550Z"
   },
   {
    "duration": 31,
    "start_time": "2021-09-11T17:55:56.562Z"
   },
   {
    "duration": 11,
    "start_time": "2021-09-11T17:55:56.595Z"
   },
   {
    "duration": 6,
    "start_time": "2021-09-11T17:55:56.608Z"
   },
   {
    "duration": 5,
    "start_time": "2021-09-11T17:55:56.615Z"
   },
   {
    "duration": 5,
    "start_time": "2021-09-11T17:55:56.622Z"
   },
   {
    "duration": 13,
    "start_time": "2021-09-11T17:55:56.630Z"
   },
   {
    "duration": 10,
    "start_time": "2021-09-11T17:55:56.645Z"
   },
   {
    "duration": 28,
    "start_time": "2021-09-11T17:55:56.657Z"
   },
   {
    "duration": 9,
    "start_time": "2021-09-11T17:55:56.686Z"
   },
   {
    "duration": 5,
    "start_time": "2021-09-11T17:55:56.696Z"
   },
   {
    "duration": 8,
    "start_time": "2021-09-11T17:55:56.702Z"
   },
   {
    "duration": 3,
    "start_time": "2021-09-11T17:55:56.712Z"
   },
   {
    "duration": 8,
    "start_time": "2021-09-11T17:55:56.717Z"
   },
   {
    "duration": 7,
    "start_time": "2021-09-11T17:55:56.727Z"
   },
   {
    "duration": 4,
    "start_time": "2021-09-11T17:55:56.736Z"
   },
   {
    "duration": 65,
    "start_time": "2021-09-11T17:55:56.742Z"
   },
   {
    "duration": 104,
    "start_time": "2021-09-11T17:55:56.886Z"
   },
   {
    "duration": 93,
    "start_time": "2021-09-11T17:55:56.992Z"
   },
   {
    "duration": 6,
    "start_time": "2021-09-11T17:55:57.087Z"
   },
   {
    "duration": 8,
    "start_time": "2021-09-11T17:55:57.095Z"
   },
   {
    "duration": 5,
    "start_time": "2021-09-11T17:55:57.104Z"
   },
   {
    "duration": 173,
    "start_time": "2021-09-11T17:55:57.111Z"
   },
   {
    "duration": 98,
    "start_time": "2021-09-11T17:55:57.288Z"
   },
   {
    "duration": 98,
    "start_time": "2021-09-11T17:55:57.389Z"
   },
   {
    "duration": 97,
    "start_time": "2021-09-11T17:55:57.489Z"
   },
   {
    "duration": 510,
    "start_time": "2021-09-11T17:55:57.588Z"
   },
   {
    "duration": 406,
    "start_time": "2021-09-11T17:55:57.694Z"
   },
   {
    "duration": 396,
    "start_time": "2021-09-11T17:55:57.705Z"
   },
   {
    "duration": 393,
    "start_time": "2021-09-11T17:55:57.708Z"
   },
   {
    "duration": 392,
    "start_time": "2021-09-11T17:55:57.710Z"
   },
   {
    "duration": 389,
    "start_time": "2021-09-11T17:55:57.714Z"
   },
   {
    "duration": 387,
    "start_time": "2021-09-11T17:55:57.717Z"
   },
   {
    "duration": 386,
    "start_time": "2021-09-11T17:55:57.719Z"
   },
   {
    "duration": 385,
    "start_time": "2021-09-11T17:55:57.721Z"
   },
   {
    "duration": 384,
    "start_time": "2021-09-11T17:55:57.723Z"
   },
   {
    "duration": 383,
    "start_time": "2021-09-11T17:55:57.725Z"
   },
   {
    "duration": 381,
    "start_time": "2021-09-11T17:55:57.727Z"
   },
   {
    "duration": 379,
    "start_time": "2021-09-11T17:55:57.730Z"
   },
   {
    "duration": 377,
    "start_time": "2021-09-11T17:55:57.733Z"
   },
   {
    "duration": 376,
    "start_time": "2021-09-11T17:55:57.735Z"
   },
   {
    "duration": 375,
    "start_time": "2021-09-11T17:55:57.737Z"
   },
   {
    "duration": 374,
    "start_time": "2021-09-11T17:55:57.739Z"
   },
   {
    "duration": 372,
    "start_time": "2021-09-11T17:55:57.741Z"
   },
   {
    "duration": 371,
    "start_time": "2021-09-11T17:55:57.743Z"
   },
   {
    "duration": 370,
    "start_time": "2021-09-11T17:55:57.745Z"
   },
   {
    "duration": 368,
    "start_time": "2021-09-11T17:55:57.747Z"
   },
   {
    "duration": 256,
    "start_time": "2021-09-11T17:56:54.504Z"
   },
   {
    "duration": 292,
    "start_time": "2021-09-11T17:57:28.815Z"
   },
   {
    "duration": 1031,
    "start_time": "2021-09-11T17:57:37.846Z"
   },
   {
    "duration": 2,
    "start_time": "2021-09-11T17:57:38.879Z"
   },
   {
    "duration": 31,
    "start_time": "2021-09-11T17:57:38.883Z"
   },
   {
    "duration": 14,
    "start_time": "2021-09-11T17:57:38.916Z"
   },
   {
    "duration": 4,
    "start_time": "2021-09-11T17:57:38.931Z"
   },
   {
    "duration": 40,
    "start_time": "2021-09-11T17:57:38.936Z"
   },
   {
    "duration": 5,
    "start_time": "2021-09-11T17:57:38.985Z"
   },
   {
    "duration": 9,
    "start_time": "2021-09-11T17:57:38.992Z"
   },
   {
    "duration": 17,
    "start_time": "2021-09-11T17:57:39.003Z"
   },
   {
    "duration": 5,
    "start_time": "2021-09-11T17:57:39.022Z"
   },
   {
    "duration": 9,
    "start_time": "2021-09-11T17:57:39.028Z"
   },
   {
    "duration": 5,
    "start_time": "2021-09-11T17:57:39.038Z"
   },
   {
    "duration": 9,
    "start_time": "2021-09-11T17:57:39.045Z"
   },
   {
    "duration": 7,
    "start_time": "2021-09-11T17:57:39.084Z"
   },
   {
    "duration": 6,
    "start_time": "2021-09-11T17:57:39.093Z"
   },
   {
    "duration": 8,
    "start_time": "2021-09-11T17:57:39.100Z"
   },
   {
    "duration": 3,
    "start_time": "2021-09-11T17:57:39.109Z"
   },
   {
    "duration": 23,
    "start_time": "2021-09-11T17:57:39.114Z"
   },
   {
    "duration": 11,
    "start_time": "2021-09-11T17:57:39.139Z"
   },
   {
    "duration": 34,
    "start_time": "2021-09-11T17:57:39.152Z"
   },
   {
    "duration": 5,
    "start_time": "2021-09-11T17:57:39.187Z"
   },
   {
    "duration": 6,
    "start_time": "2021-09-11T17:57:39.193Z"
   },
   {
    "duration": 14,
    "start_time": "2021-09-11T17:57:39.201Z"
   },
   {
    "duration": 10,
    "start_time": "2021-09-11T17:57:39.217Z"
   },
   {
    "duration": 7,
    "start_time": "2021-09-11T17:57:39.229Z"
   },
   {
    "duration": 15,
    "start_time": "2021-09-11T17:57:39.237Z"
   },
   {
    "duration": 6,
    "start_time": "2021-09-11T17:57:39.257Z"
   },
   {
    "duration": 7,
    "start_time": "2021-09-11T17:57:39.286Z"
   },
   {
    "duration": 9,
    "start_time": "2021-09-11T17:57:39.295Z"
   },
   {
    "duration": 6,
    "start_time": "2021-09-11T17:57:39.306Z"
   },
   {
    "duration": 6,
    "start_time": "2021-09-11T17:57:39.314Z"
   },
   {
    "duration": 4,
    "start_time": "2021-09-11T17:57:39.321Z"
   },
   {
    "duration": 71,
    "start_time": "2021-09-11T17:57:39.326Z"
   },
   {
    "duration": 86,
    "start_time": "2021-09-11T17:57:39.505Z"
   },
   {
    "duration": 191,
    "start_time": "2021-09-11T17:57:39.594Z"
   },
   {
    "duration": 3,
    "start_time": "2021-09-11T17:57:39.787Z"
   },
   {
    "duration": 6,
    "start_time": "2021-09-11T17:57:39.792Z"
   },
   {
    "duration": 10,
    "start_time": "2021-09-11T17:57:39.800Z"
   },
   {
    "duration": 74,
    "start_time": "2021-09-11T17:57:39.812Z"
   },
   {
    "duration": 98,
    "start_time": "2021-09-11T17:57:39.888Z"
   },
   {
    "duration": 97,
    "start_time": "2021-09-11T17:57:39.988Z"
   },
   {
    "duration": 106,
    "start_time": "2021-09-11T17:57:40.087Z"
   },
   {
    "duration": 633,
    "start_time": "2021-09-11T17:57:40.196Z"
   },
   {
    "duration": 323,
    "start_time": "2021-09-11T17:57:40.508Z"
   },
   {
    "duration": 321,
    "start_time": "2021-09-11T17:57:40.511Z"
   },
   {
    "duration": 318,
    "start_time": "2021-09-11T17:57:40.515Z"
   },
   {
    "duration": 311,
    "start_time": "2021-09-11T17:57:40.523Z"
   },
   {
    "duration": 292,
    "start_time": "2021-09-11T17:57:40.543Z"
   },
   {
    "duration": 290,
    "start_time": "2021-09-11T17:57:40.546Z"
   },
   {
    "duration": 286,
    "start_time": "2021-09-11T17:57:40.550Z"
   },
   {
    "duration": 279,
    "start_time": "2021-09-11T17:57:40.558Z"
   },
   {
    "duration": 277,
    "start_time": "2021-09-11T17:57:40.561Z"
   },
   {
    "duration": 275,
    "start_time": "2021-09-11T17:57:40.564Z"
   },
   {
    "duration": 266,
    "start_time": "2021-09-11T17:57:40.574Z"
   },
   {
    "duration": 262,
    "start_time": "2021-09-11T17:57:40.579Z"
   },
   {
    "duration": 259,
    "start_time": "2021-09-11T17:57:40.583Z"
   },
   {
    "duration": 251,
    "start_time": "2021-09-11T17:57:40.591Z"
   },
   {
    "duration": 249,
    "start_time": "2021-09-11T17:57:40.594Z"
   },
   {
    "duration": 247,
    "start_time": "2021-09-11T17:57:40.597Z"
   },
   {
    "duration": 239,
    "start_time": "2021-09-11T17:57:40.606Z"
   },
   {
    "duration": 237,
    "start_time": "2021-09-11T17:57:40.609Z"
   },
   {
    "duration": 233,
    "start_time": "2021-09-11T17:57:40.613Z"
   },
   {
    "duration": 231,
    "start_time": "2021-09-11T17:57:40.616Z"
   },
   {
    "duration": 6,
    "start_time": "2021-09-11T18:00:20.532Z"
   },
   {
    "duration": 271,
    "start_time": "2021-09-11T18:00:20.940Z"
   },
   {
    "duration": 1072,
    "start_time": "2021-09-11T18:00:31.099Z"
   },
   {
    "duration": 2,
    "start_time": "2021-09-11T18:00:32.173Z"
   },
   {
    "duration": 28,
    "start_time": "2021-09-11T18:00:32.185Z"
   },
   {
    "duration": 14,
    "start_time": "2021-09-11T18:00:32.215Z"
   },
   {
    "duration": 3,
    "start_time": "2021-09-11T18:00:32.231Z"
   },
   {
    "duration": 50,
    "start_time": "2021-09-11T18:00:32.235Z"
   },
   {
    "duration": 6,
    "start_time": "2021-09-11T18:00:32.287Z"
   },
   {
    "duration": 10,
    "start_time": "2021-09-11T18:00:32.294Z"
   },
   {
    "duration": 14,
    "start_time": "2021-09-11T18:00:32.306Z"
   },
   {
    "duration": 5,
    "start_time": "2021-09-11T18:00:32.322Z"
   },
   {
    "duration": 7,
    "start_time": "2021-09-11T18:00:32.329Z"
   },
   {
    "duration": 5,
    "start_time": "2021-09-11T18:00:32.337Z"
   },
   {
    "duration": 42,
    "start_time": "2021-09-11T18:00:32.343Z"
   },
   {
    "duration": 5,
    "start_time": "2021-09-11T18:00:32.387Z"
   },
   {
    "duration": 11,
    "start_time": "2021-09-11T18:00:32.394Z"
   },
   {
    "duration": 6,
    "start_time": "2021-09-11T18:00:32.407Z"
   },
   {
    "duration": 3,
    "start_time": "2021-09-11T18:00:32.414Z"
   },
   {
    "duration": 73,
    "start_time": "2021-09-11T18:00:32.419Z"
   },
   {
    "duration": 7,
    "start_time": "2021-09-11T18:00:32.493Z"
   },
   {
    "duration": 6,
    "start_time": "2021-09-11T18:00:32.502Z"
   },
   {
    "duration": 5,
    "start_time": "2021-09-11T18:00:32.509Z"
   },
   {
    "duration": 7,
    "start_time": "2021-09-11T18:00:32.515Z"
   },
   {
    "duration": 65,
    "start_time": "2021-09-11T18:00:32.523Z"
   },
   {
    "duration": 11,
    "start_time": "2021-09-11T18:00:32.589Z"
   },
   {
    "duration": 12,
    "start_time": "2021-09-11T18:00:32.602Z"
   },
   {
    "duration": 10,
    "start_time": "2021-09-11T18:00:32.616Z"
   },
   {
    "duration": 5,
    "start_time": "2021-09-11T18:00:32.630Z"
   },
   {
    "duration": 53,
    "start_time": "2021-09-11T18:00:32.636Z"
   },
   {
    "duration": 7,
    "start_time": "2021-09-11T18:00:32.691Z"
   },
   {
    "duration": 7,
    "start_time": "2021-09-11T18:00:32.699Z"
   },
   {
    "duration": 7,
    "start_time": "2021-09-11T18:00:32.707Z"
   },
   {
    "duration": 5,
    "start_time": "2021-09-11T18:00:32.715Z"
   },
   {
    "duration": 165,
    "start_time": "2021-09-11T18:00:32.722Z"
   },
   {
    "duration": 97,
    "start_time": "2021-09-11T18:00:32.889Z"
   },
   {
    "duration": 109,
    "start_time": "2021-09-11T18:00:32.988Z"
   },
   {
    "duration": 3,
    "start_time": "2021-09-11T18:00:33.099Z"
   },
   {
    "duration": 6,
    "start_time": "2021-09-11T18:00:33.104Z"
   },
   {
    "duration": 6,
    "start_time": "2021-09-11T18:00:33.112Z"
   },
   {
    "duration": 165,
    "start_time": "2021-09-11T18:00:33.120Z"
   },
   {
    "duration": 104,
    "start_time": "2021-09-11T18:00:33.287Z"
   },
   {
    "duration": 92,
    "start_time": "2021-09-11T18:00:33.393Z"
   },
   {
    "duration": 101,
    "start_time": "2021-09-11T18:00:33.487Z"
   },
   {
    "duration": 96,
    "start_time": "2021-09-11T18:00:33.590Z"
   },
   {
    "duration": 397,
    "start_time": "2021-09-11T18:00:33.688Z"
   },
   {
    "duration": 429,
    "start_time": "2021-09-11T18:00:33.658Z"
   },
   {
    "duration": 411,
    "start_time": "2021-09-11T18:00:33.677Z"
   },
   {
    "duration": 401,
    "start_time": "2021-09-11T18:00:33.688Z"
   },
   {
    "duration": 398,
    "start_time": "2021-09-11T18:00:33.692Z"
   },
   {
    "duration": 389,
    "start_time": "2021-09-11T18:00:33.702Z"
   },
   {
    "duration": 385,
    "start_time": "2021-09-11T18:00:33.707Z"
   },
   {
    "duration": 381,
    "start_time": "2021-09-11T18:00:33.712Z"
   },
   {
    "duration": 371,
    "start_time": "2021-09-11T18:00:33.723Z"
   },
   {
    "duration": 356,
    "start_time": "2021-09-11T18:00:33.739Z"
   },
   {
    "duration": 354,
    "start_time": "2021-09-11T18:00:33.742Z"
   },
   {
    "duration": 342,
    "start_time": "2021-09-11T18:00:33.755Z"
   },
   {
    "duration": 338,
    "start_time": "2021-09-11T18:00:33.760Z"
   },
   {
    "duration": 327,
    "start_time": "2021-09-11T18:00:33.772Z"
   },
   {
    "duration": 324,
    "start_time": "2021-09-11T18:00:33.776Z"
   },
   {
    "duration": 313,
    "start_time": "2021-09-11T18:00:33.788Z"
   },
   {
    "duration": 310,
    "start_time": "2021-09-11T18:00:33.792Z"
   },
   {
    "duration": 300,
    "start_time": "2021-09-11T18:00:33.803Z"
   },
   {
    "duration": 298,
    "start_time": "2021-09-11T18:00:33.806Z"
   },
   {
    "duration": 294,
    "start_time": "2021-09-11T18:00:33.811Z"
   },
   {
    "duration": 286,
    "start_time": "2021-09-11T18:00:33.820Z"
   },
   {
    "duration": 1034,
    "start_time": "2021-09-11T18:04:45.644Z"
   },
   {
    "duration": 4,
    "start_time": "2021-09-11T18:04:46.680Z"
   },
   {
    "duration": 30,
    "start_time": "2021-09-11T18:04:46.686Z"
   },
   {
    "duration": 15,
    "start_time": "2021-09-11T18:04:46.717Z"
   },
   {
    "duration": 5,
    "start_time": "2021-09-11T18:04:46.734Z"
   },
   {
    "duration": 48,
    "start_time": "2021-09-11T18:04:46.740Z"
   },
   {
    "duration": 6,
    "start_time": "2021-09-11T18:04:46.790Z"
   },
   {
    "duration": 9,
    "start_time": "2021-09-11T18:04:46.798Z"
   },
   {
    "duration": 15,
    "start_time": "2021-09-11T18:04:46.809Z"
   },
   {
    "duration": 5,
    "start_time": "2021-09-11T18:04:46.825Z"
   },
   {
    "duration": 7,
    "start_time": "2021-09-11T18:04:46.832Z"
   },
   {
    "duration": 5,
    "start_time": "2021-09-11T18:04:46.841Z"
   },
   {
    "duration": 41,
    "start_time": "2021-09-11T18:04:46.847Z"
   },
   {
    "duration": 5,
    "start_time": "2021-09-11T18:04:46.889Z"
   },
   {
    "duration": 5,
    "start_time": "2021-09-11T18:04:46.896Z"
   },
   {
    "duration": 5,
    "start_time": "2021-09-11T18:04:46.903Z"
   },
   {
    "duration": 4,
    "start_time": "2021-09-11T18:04:46.910Z"
   },
   {
    "duration": 20,
    "start_time": "2021-09-11T18:04:46.916Z"
   },
   {
    "duration": 7,
    "start_time": "2021-09-11T18:04:46.938Z"
   },
   {
    "duration": 42,
    "start_time": "2021-09-11T18:04:46.947Z"
   },
   {
    "duration": 5,
    "start_time": "2021-09-11T18:04:46.991Z"
   },
   {
    "duration": 6,
    "start_time": "2021-09-11T18:04:46.998Z"
   },
   {
    "duration": 13,
    "start_time": "2021-09-11T18:04:47.008Z"
   },
   {
    "duration": 11,
    "start_time": "2021-09-11T18:04:47.024Z"
   },
   {
    "duration": 6,
    "start_time": "2021-09-11T18:04:47.037Z"
   },
   {
    "duration": 43,
    "start_time": "2021-09-11T18:04:47.044Z"
   },
   {
    "duration": 7,
    "start_time": "2021-09-11T18:04:47.088Z"
   },
   {
    "duration": 8,
    "start_time": "2021-09-11T18:04:47.097Z"
   },
   {
    "duration": 8,
    "start_time": "2021-09-11T18:04:47.106Z"
   },
   {
    "duration": 8,
    "start_time": "2021-09-11T18:04:47.116Z"
   },
   {
    "duration": 6,
    "start_time": "2021-09-11T18:04:47.126Z"
   },
   {
    "duration": 25,
    "start_time": "2021-09-11T18:04:47.133Z"
   },
   {
    "duration": 128,
    "start_time": "2021-09-11T18:04:47.160Z"
   },
   {
    "duration": 101,
    "start_time": "2021-09-11T18:04:47.289Z"
   },
   {
    "duration": 103,
    "start_time": "2021-09-11T18:04:47.392Z"
   },
   {
    "duration": 3,
    "start_time": "2021-09-11T18:04:47.497Z"
   },
   {
    "duration": 6,
    "start_time": "2021-09-11T18:04:47.502Z"
   },
   {
    "duration": 6,
    "start_time": "2021-09-11T18:04:47.509Z"
   },
   {
    "duration": 84,
    "start_time": "2021-09-11T18:04:47.517Z"
   },
   {
    "duration": 99,
    "start_time": "2021-09-11T18:04:47.686Z"
   },
   {
    "duration": 97,
    "start_time": "2021-09-11T18:04:47.788Z"
   },
   {
    "duration": 2,
    "start_time": "2021-09-11T18:04:47.887Z"
   },
   {
    "duration": 95,
    "start_time": "2021-09-11T18:04:47.891Z"
   },
   {
    "duration": 98,
    "start_time": "2021-09-11T18:04:47.988Z"
   },
   {
    "duration": 19,
    "start_time": "2021-09-11T18:04:48.088Z"
   },
   {
    "duration": 5,
    "start_time": "2021-09-11T18:04:48.109Z"
   },
   {
    "duration": 6,
    "start_time": "2021-09-11T18:04:48.115Z"
   },
   {
    "duration": 6,
    "start_time": "2021-09-11T18:04:48.122Z"
   },
   {
    "duration": 632,
    "start_time": "2021-09-11T18:04:48.130Z"
   },
   {
    "duration": 256,
    "start_time": "2021-09-11T18:04:48.508Z"
   },
   {
    "duration": 254,
    "start_time": "2021-09-11T18:04:48.511Z"
   },
   {
    "duration": 251,
    "start_time": "2021-09-11T18:04:48.515Z"
   },
   {
    "duration": 250,
    "start_time": "2021-09-11T18:04:48.517Z"
   },
   {
    "duration": 249,
    "start_time": "2021-09-11T18:04:48.519Z"
   },
   {
    "duration": 109,
    "start_time": "2021-09-11T18:04:48.660Z"
   },
   {
    "duration": 102,
    "start_time": "2021-09-11T18:04:48.668Z"
   },
   {
    "duration": 100,
    "start_time": "2021-09-11T18:04:48.671Z"
   },
   {
    "duration": 97,
    "start_time": "2021-09-11T18:04:48.674Z"
   },
   {
    "duration": 94,
    "start_time": "2021-09-11T18:04:48.678Z"
   },
   {
    "duration": 87,
    "start_time": "2021-09-11T18:04:48.686Z"
   },
   {
    "duration": 84,
    "start_time": "2021-09-11T18:04:48.690Z"
   },
   {
    "duration": 80,
    "start_time": "2021-09-11T18:04:48.695Z"
   },
   {
    "duration": 70,
    "start_time": "2021-09-11T18:04:48.706Z"
   },
   {
    "duration": 218,
    "start_time": "2021-09-11T18:05:16.281Z"
   },
   {
    "duration": 1073,
    "start_time": "2021-09-11T18:05:23.725Z"
   },
   {
    "duration": 3,
    "start_time": "2021-09-11T18:05:24.799Z"
   },
   {
    "duration": 40,
    "start_time": "2021-09-11T18:05:24.804Z"
   },
   {
    "duration": 15,
    "start_time": "2021-09-11T18:05:24.846Z"
   },
   {
    "duration": 16,
    "start_time": "2021-09-11T18:05:24.863Z"
   },
   {
    "duration": 62,
    "start_time": "2021-09-11T18:05:24.880Z"
   },
   {
    "duration": 7,
    "start_time": "2021-09-11T18:05:24.943Z"
   },
   {
    "duration": 36,
    "start_time": "2021-09-11T18:05:24.953Z"
   },
   {
    "duration": 32,
    "start_time": "2021-09-11T18:05:24.992Z"
   },
   {
    "duration": 31,
    "start_time": "2021-09-11T18:05:25.027Z"
   },
   {
    "duration": 12,
    "start_time": "2021-09-11T18:05:25.060Z"
   },
   {
    "duration": 25,
    "start_time": "2021-09-11T18:05:25.074Z"
   },
   {
    "duration": 28,
    "start_time": "2021-09-11T18:05:25.101Z"
   },
   {
    "duration": 38,
    "start_time": "2021-09-11T18:05:25.131Z"
   },
   {
    "duration": 25,
    "start_time": "2021-09-11T18:05:25.171Z"
   },
   {
    "duration": 12,
    "start_time": "2021-09-11T18:05:25.197Z"
   },
   {
    "duration": 21,
    "start_time": "2021-09-11T18:05:25.211Z"
   },
   {
    "duration": 43,
    "start_time": "2021-09-11T18:05:25.234Z"
   },
   {
    "duration": 23,
    "start_time": "2021-09-11T18:05:25.279Z"
   },
   {
    "duration": 21,
    "start_time": "2021-09-11T18:05:25.304Z"
   },
   {
    "duration": 17,
    "start_time": "2021-09-11T18:05:25.327Z"
   },
   {
    "duration": 17,
    "start_time": "2021-09-11T18:05:25.346Z"
   },
   {
    "duration": 24,
    "start_time": "2021-09-11T18:05:25.368Z"
   },
   {
    "duration": 20,
    "start_time": "2021-09-11T18:05:25.394Z"
   },
   {
    "duration": 16,
    "start_time": "2021-09-11T18:05:25.416Z"
   },
   {
    "duration": 37,
    "start_time": "2021-09-11T18:05:25.433Z"
   },
   {
    "duration": 15,
    "start_time": "2021-09-11T18:05:25.471Z"
   },
   {
    "duration": 20,
    "start_time": "2021-09-11T18:05:25.487Z"
   },
   {
    "duration": 14,
    "start_time": "2021-09-11T18:05:25.509Z"
   },
   {
    "duration": 27,
    "start_time": "2021-09-11T18:05:25.525Z"
   },
   {
    "duration": 24,
    "start_time": "2021-09-11T18:05:25.554Z"
   },
   {
    "duration": 26,
    "start_time": "2021-09-11T18:05:25.580Z"
   },
   {
    "duration": 81,
    "start_time": "2021-09-11T18:05:25.608Z"
   },
   {
    "duration": 101,
    "start_time": "2021-09-11T18:05:25.691Z"
   },
   {
    "duration": 98,
    "start_time": "2021-09-11T18:05:25.794Z"
   },
   {
    "duration": 4,
    "start_time": "2021-09-11T18:05:25.894Z"
   },
   {
    "duration": 7,
    "start_time": "2021-09-11T18:05:25.900Z"
   },
   {
    "duration": 81,
    "start_time": "2021-09-11T18:05:25.909Z"
   },
   {
    "duration": 97,
    "start_time": "2021-09-11T18:05:25.992Z"
   },
   {
    "duration": 100,
    "start_time": "2021-09-11T18:05:26.091Z"
   },
   {
    "duration": 99,
    "start_time": "2021-09-11T18:05:26.194Z"
   },
   {
    "duration": 4,
    "start_time": "2021-09-11T18:05:26.296Z"
   },
   {
    "duration": 185,
    "start_time": "2021-09-11T18:05:26.302Z"
   },
   {
    "duration": 11,
    "start_time": "2021-09-11T18:05:26.586Z"
   },
   {
    "duration": 25,
    "start_time": "2021-09-11T18:05:26.599Z"
   },
   {
    "duration": 59,
    "start_time": "2021-09-11T18:05:26.626Z"
   },
   {
    "duration": 5,
    "start_time": "2021-09-11T18:05:26.687Z"
   },
   {
    "duration": 6,
    "start_time": "2021-09-11T18:05:26.694Z"
   },
   {
    "duration": 546,
    "start_time": "2021-09-11T18:05:26.702Z"
   },
   {
    "duration": 221,
    "start_time": "2021-09-11T18:05:27.029Z"
   },
   {
    "duration": 217,
    "start_time": "2021-09-11T18:05:27.034Z"
   },
   {
    "duration": 215,
    "start_time": "2021-09-11T18:05:27.037Z"
   },
   {
    "duration": 213,
    "start_time": "2021-09-11T18:05:27.040Z"
   },
   {
    "duration": 205,
    "start_time": "2021-09-11T18:05:27.049Z"
   },
   {
    "duration": 202,
    "start_time": "2021-09-11T18:05:27.053Z"
   },
   {
    "duration": 199,
    "start_time": "2021-09-11T18:05:27.057Z"
   },
   {
    "duration": 191,
    "start_time": "2021-09-11T18:05:27.066Z"
   },
   {
    "duration": 189,
    "start_time": "2021-09-11T18:05:27.069Z"
   },
   {
    "duration": 187,
    "start_time": "2021-09-11T18:05:27.072Z"
   },
   {
    "duration": 179,
    "start_time": "2021-09-11T18:05:27.081Z"
   },
   {
    "duration": 177,
    "start_time": "2021-09-11T18:05:27.084Z"
   },
   {
    "duration": 175,
    "start_time": "2021-09-11T18:05:27.087Z"
   },
   {
    "duration": 172,
    "start_time": "2021-09-11T18:05:27.091Z"
   },
   {
    "duration": 1245,
    "start_time": "2021-09-11T18:06:54.862Z"
   },
   {
    "duration": 2,
    "start_time": "2021-09-11T18:06:56.109Z"
   },
   {
    "duration": 76,
    "start_time": "2021-09-11T18:06:56.113Z"
   },
   {
    "duration": 14,
    "start_time": "2021-09-11T18:06:56.191Z"
   },
   {
    "duration": 4,
    "start_time": "2021-09-11T18:06:56.207Z"
   },
   {
    "duration": 91,
    "start_time": "2021-09-11T18:06:56.213Z"
   },
   {
    "duration": 7,
    "start_time": "2021-09-11T18:06:56.305Z"
   },
   {
    "duration": 8,
    "start_time": "2021-09-11T18:06:56.313Z"
   },
   {
    "duration": 15,
    "start_time": "2021-09-11T18:06:56.324Z"
   },
   {
    "duration": 5,
    "start_time": "2021-09-11T18:06:56.341Z"
   },
   {
    "duration": 38,
    "start_time": "2021-09-11T18:06:56.348Z"
   },
   {
    "duration": 5,
    "start_time": "2021-09-11T18:06:56.387Z"
   },
   {
    "duration": 5,
    "start_time": "2021-09-11T18:06:56.394Z"
   },
   {
    "duration": 5,
    "start_time": "2021-09-11T18:06:56.401Z"
   },
   {
    "duration": 5,
    "start_time": "2021-09-11T18:06:56.408Z"
   },
   {
    "duration": 5,
    "start_time": "2021-09-11T18:06:56.414Z"
   },
   {
    "duration": 6,
    "start_time": "2021-09-11T18:06:56.420Z"
   },
   {
    "duration": 22,
    "start_time": "2021-09-11T18:06:56.427Z"
   },
   {
    "duration": 38,
    "start_time": "2021-09-11T18:06:56.451Z"
   },
   {
    "duration": 6,
    "start_time": "2021-09-11T18:06:56.491Z"
   },
   {
    "duration": 4,
    "start_time": "2021-09-11T18:06:56.498Z"
   },
   {
    "duration": 5,
    "start_time": "2021-09-11T18:06:56.504Z"
   },
   {
    "duration": 16,
    "start_time": "2021-09-11T18:06:56.510Z"
   },
   {
    "duration": 10,
    "start_time": "2021-09-11T18:06:56.527Z"
   },
   {
    "duration": 4,
    "start_time": "2021-09-11T18:06:56.538Z"
   },
   {
    "duration": 43,
    "start_time": "2021-09-11T18:06:56.543Z"
   },
   {
    "duration": 5,
    "start_time": "2021-09-11T18:06:56.589Z"
   },
   {
    "duration": 5,
    "start_time": "2021-09-11T18:06:56.596Z"
   },
   {
    "duration": 3,
    "start_time": "2021-09-11T18:06:56.603Z"
   },
   {
    "duration": 5,
    "start_time": "2021-09-11T18:06:56.608Z"
   },
   {
    "duration": 6,
    "start_time": "2021-09-11T18:06:56.614Z"
   },
   {
    "duration": 5,
    "start_time": "2021-09-11T18:06:56.622Z"
   },
   {
    "duration": 156,
    "start_time": "2021-09-11T18:06:56.629Z"
   },
   {
    "duration": 99,
    "start_time": "2021-09-11T18:06:56.787Z"
   },
   {
    "duration": 97,
    "start_time": "2021-09-11T18:06:56.888Z"
   },
   {
    "duration": 4,
    "start_time": "2021-09-11T18:06:56.987Z"
   },
   {
    "duration": 14,
    "start_time": "2021-09-11T18:06:56.993Z"
   },
   {
    "duration": 6,
    "start_time": "2021-09-11T18:06:57.008Z"
   },
   {
    "duration": 78,
    "start_time": "2021-09-11T18:06:57.016Z"
   },
   {
    "duration": 12,
    "start_time": "2021-09-11T18:06:57.186Z"
   },
   {
    "duration": 94,
    "start_time": "2021-09-11T18:06:57.200Z"
   },
   {
    "duration": 98,
    "start_time": "2021-09-11T18:06:57.386Z"
   },
   {
    "duration": 506,
    "start_time": "2021-09-11T18:06:57.486Z"
   },
   {
    "duration": 432,
    "start_time": "2021-09-11T18:06:57.562Z"
   },
   {
    "duration": 429,
    "start_time": "2021-09-11T18:06:57.565Z"
   },
   {
    "duration": 426,
    "start_time": "2021-09-11T18:06:57.569Z"
   },
   {
    "duration": 424,
    "start_time": "2021-09-11T18:06:57.572Z"
   },
   {
    "duration": 423,
    "start_time": "2021-09-11T18:06:57.574Z"
   },
   {
    "duration": 421,
    "start_time": "2021-09-11T18:06:57.577Z"
   },
   {
    "duration": 419,
    "start_time": "2021-09-11T18:06:57.580Z"
   },
   {
    "duration": 416,
    "start_time": "2021-09-11T18:06:57.583Z"
   },
   {
    "duration": 415,
    "start_time": "2021-09-11T18:06:57.585Z"
   },
   {
    "duration": 414,
    "start_time": "2021-09-11T18:06:57.587Z"
   },
   {
    "duration": 413,
    "start_time": "2021-09-11T18:06:57.589Z"
   },
   {
    "duration": 412,
    "start_time": "2021-09-11T18:06:57.591Z"
   },
   {
    "duration": 410,
    "start_time": "2021-09-11T18:06:57.594Z"
   },
   {
    "duration": 407,
    "start_time": "2021-09-11T18:06:57.597Z"
   },
   {
    "duration": 406,
    "start_time": "2021-09-11T18:06:57.599Z"
   },
   {
    "duration": 400,
    "start_time": "2021-09-11T18:06:57.606Z"
   },
   {
    "duration": 396,
    "start_time": "2021-09-11T18:06:57.611Z"
   },
   {
    "duration": 395,
    "start_time": "2021-09-11T18:06:57.613Z"
   },
   {
    "duration": 304,
    "start_time": "2021-09-11T18:06:57.705Z"
   },
   {
    "duration": 303,
    "start_time": "2021-09-11T18:06:57.707Z"
   },
   {
    "duration": 12,
    "start_time": "2021-09-11T18:09:45.443Z"
   },
   {
    "duration": 12,
    "start_time": "2021-09-11T18:09:50.386Z"
   },
   {
    "duration": 24,
    "start_time": "2021-09-11T18:09:53.251Z"
   },
   {
    "duration": 23,
    "start_time": "2021-09-11T18:09:57.588Z"
   },
   {
    "duration": 261,
    "start_time": "2021-09-11T18:10:00.596Z"
   },
   {
    "duration": 282,
    "start_time": "2021-09-11T18:10:29.677Z"
   },
   {
    "duration": 288,
    "start_time": "2021-09-11T18:10:44.452Z"
   },
   {
    "duration": 286,
    "start_time": "2021-09-11T18:10:56.924Z"
   },
   {
    "duration": 1037,
    "start_time": "2021-09-11T18:11:11.943Z"
   },
   {
    "duration": 2,
    "start_time": "2021-09-11T18:11:12.982Z"
   },
   {
    "duration": 31,
    "start_time": "2021-09-11T18:11:12.986Z"
   },
   {
    "duration": 14,
    "start_time": "2021-09-11T18:11:13.019Z"
   },
   {
    "duration": 20,
    "start_time": "2021-09-11T18:11:13.035Z"
   },
   {
    "duration": 52,
    "start_time": "2021-09-11T18:11:13.056Z"
   },
   {
    "duration": 6,
    "start_time": "2021-09-11T18:11:13.110Z"
   },
   {
    "duration": 42,
    "start_time": "2021-09-11T18:11:13.118Z"
   },
   {
    "duration": 27,
    "start_time": "2021-09-11T18:11:13.162Z"
   },
   {
    "duration": 12,
    "start_time": "2021-09-11T18:11:13.190Z"
   },
   {
    "duration": 21,
    "start_time": "2021-09-11T18:11:13.204Z"
   },
   {
    "duration": 18,
    "start_time": "2021-09-11T18:11:13.226Z"
   },
   {
    "duration": 43,
    "start_time": "2021-09-11T18:11:13.245Z"
   },
   {
    "duration": 20,
    "start_time": "2021-09-11T18:11:13.290Z"
   },
   {
    "duration": 29,
    "start_time": "2021-09-11T18:11:13.311Z"
   },
   {
    "duration": 47,
    "start_time": "2021-09-11T18:11:13.342Z"
   },
   {
    "duration": 24,
    "start_time": "2021-09-11T18:11:13.390Z"
   },
   {
    "duration": 70,
    "start_time": "2021-09-11T18:11:13.416Z"
   },
   {
    "duration": 6,
    "start_time": "2021-09-11T18:11:13.487Z"
   },
   {
    "duration": 18,
    "start_time": "2021-09-11T18:11:13.495Z"
   },
   {
    "duration": 22,
    "start_time": "2021-09-11T18:11:13.514Z"
   },
   {
    "duration": 33,
    "start_time": "2021-09-11T18:11:13.538Z"
   },
   {
    "duration": 33,
    "start_time": "2021-09-11T18:11:13.574Z"
   },
   {
    "duration": 31,
    "start_time": "2021-09-11T18:11:13.609Z"
   },
   {
    "duration": 29,
    "start_time": "2021-09-11T18:11:13.642Z"
   },
   {
    "duration": 24,
    "start_time": "2021-09-11T18:11:13.672Z"
   },
   {
    "duration": 18,
    "start_time": "2021-09-11T18:11:13.697Z"
   },
   {
    "duration": 23,
    "start_time": "2021-09-11T18:11:13.716Z"
   },
   {
    "duration": 33,
    "start_time": "2021-09-11T18:11:13.740Z"
   },
   {
    "duration": 23,
    "start_time": "2021-09-11T18:11:13.775Z"
   },
   {
    "duration": 28,
    "start_time": "2021-09-11T18:11:13.799Z"
   },
   {
    "duration": 21,
    "start_time": "2021-09-11T18:11:13.828Z"
   },
   {
    "duration": 135,
    "start_time": "2021-09-11T18:11:13.850Z"
   },
   {
    "duration": 99,
    "start_time": "2021-09-11T18:11:13.987Z"
   },
   {
    "duration": 98,
    "start_time": "2021-09-11T18:11:14.087Z"
   },
   {
    "duration": 21,
    "start_time": "2021-09-11T18:11:14.187Z"
   },
   {
    "duration": 24,
    "start_time": "2021-09-11T18:11:14.210Z"
   },
   {
    "duration": 27,
    "start_time": "2021-09-11T18:11:14.235Z"
   },
   {
    "duration": 123,
    "start_time": "2021-09-11T18:11:14.264Z"
   },
   {
    "duration": 97,
    "start_time": "2021-09-11T18:11:14.389Z"
   },
   {
    "duration": 107,
    "start_time": "2021-09-11T18:11:14.488Z"
   },
   {
    "duration": 88,
    "start_time": "2021-09-11T18:11:14.597Z"
   },
   {
    "duration": 516,
    "start_time": "2021-09-11T18:11:14.687Z"
   },
   {
    "duration": 426,
    "start_time": "2021-09-11T18:11:14.779Z"
   },
   {
    "duration": 421,
    "start_time": "2021-09-11T18:11:14.785Z"
   },
   {
    "duration": 299,
    "start_time": "2021-09-11T18:11:14.908Z"
   },
   {
    "duration": 296,
    "start_time": "2021-09-11T18:11:14.912Z"
   },
   {
    "duration": 286,
    "start_time": "2021-09-11T18:11:14.923Z"
   },
   {
    "duration": 284,
    "start_time": "2021-09-11T18:11:14.926Z"
   },
   {
    "duration": 277,
    "start_time": "2021-09-11T18:11:14.934Z"
   },
   {
    "duration": 275,
    "start_time": "2021-09-11T18:11:14.937Z"
   },
   {
    "duration": 274,
    "start_time": "2021-09-11T18:11:14.939Z"
   },
   {
    "duration": 273,
    "start_time": "2021-09-11T18:11:14.941Z"
   },
   {
    "duration": 273,
    "start_time": "2021-09-11T18:11:14.943Z"
   },
   {
    "duration": 267,
    "start_time": "2021-09-11T18:11:14.950Z"
   },
   {
    "duration": 265,
    "start_time": "2021-09-11T18:11:14.953Z"
   },
   {
    "duration": 265,
    "start_time": "2021-09-11T18:11:14.955Z"
   },
   {
    "duration": 264,
    "start_time": "2021-09-11T18:11:14.957Z"
   },
   {
    "duration": 263,
    "start_time": "2021-09-11T18:11:14.959Z"
   },
   {
    "duration": 256,
    "start_time": "2021-09-11T18:11:14.967Z"
   },
   {
    "duration": 157,
    "start_time": "2021-09-11T18:11:15.066Z"
   },
   {
    "duration": 155,
    "start_time": "2021-09-11T18:11:15.069Z"
   },
   {
    "duration": 153,
    "start_time": "2021-09-11T18:11:15.072Z"
   },
   {
    "duration": 1108,
    "start_time": "2021-09-11T18:11:51.767Z"
   },
   {
    "duration": 3,
    "start_time": "2021-09-11T18:11:52.877Z"
   },
   {
    "duration": 28,
    "start_time": "2021-09-11T18:11:52.885Z"
   },
   {
    "duration": 15,
    "start_time": "2021-09-11T18:11:52.915Z"
   },
   {
    "duration": 3,
    "start_time": "2021-09-11T18:11:52.932Z"
   },
   {
    "duration": 49,
    "start_time": "2021-09-11T18:11:52.937Z"
   },
   {
    "duration": 7,
    "start_time": "2021-09-11T18:11:52.987Z"
   },
   {
    "duration": 8,
    "start_time": "2021-09-11T18:11:52.996Z"
   },
   {
    "duration": 14,
    "start_time": "2021-09-11T18:11:53.006Z"
   },
   {
    "duration": 5,
    "start_time": "2021-09-11T18:11:53.022Z"
   },
   {
    "duration": 6,
    "start_time": "2021-09-11T18:11:53.028Z"
   },
   {
    "duration": 5,
    "start_time": "2021-09-11T18:11:53.036Z"
   },
   {
    "duration": 45,
    "start_time": "2021-09-11T18:11:53.042Z"
   },
   {
    "duration": 6,
    "start_time": "2021-09-11T18:11:53.088Z"
   },
   {
    "duration": 7,
    "start_time": "2021-09-11T18:11:53.095Z"
   },
   {
    "duration": 7,
    "start_time": "2021-09-11T18:11:53.103Z"
   },
   {
    "duration": 2,
    "start_time": "2021-09-11T18:11:53.111Z"
   },
   {
    "duration": 24,
    "start_time": "2021-09-11T18:11:53.114Z"
   },
   {
    "duration": 6,
    "start_time": "2021-09-11T18:11:53.139Z"
   },
   {
    "duration": 7,
    "start_time": "2021-09-11T18:11:53.146Z"
   },
   {
    "duration": 32,
    "start_time": "2021-09-11T18:11:53.155Z"
   },
   {
    "duration": 4,
    "start_time": "2021-09-11T18:11:53.189Z"
   },
   {
    "duration": 17,
    "start_time": "2021-09-11T18:11:53.196Z"
   },
   {
    "duration": 12,
    "start_time": "2021-09-11T18:11:53.215Z"
   },
   {
    "duration": 14,
    "start_time": "2021-09-11T18:11:53.229Z"
   },
   {
    "duration": 10,
    "start_time": "2021-09-11T18:11:53.244Z"
   },
   {
    "duration": 12,
    "start_time": "2021-09-11T18:11:53.255Z"
   },
   {
    "duration": 20,
    "start_time": "2021-09-11T18:11:53.268Z"
   },
   {
    "duration": 4,
    "start_time": "2021-09-11T18:11:53.290Z"
   },
   {
    "duration": 8,
    "start_time": "2021-09-11T18:11:53.295Z"
   },
   {
    "duration": 7,
    "start_time": "2021-09-11T18:11:53.304Z"
   },
   {
    "duration": 4,
    "start_time": "2021-09-11T18:11:53.313Z"
   },
   {
    "duration": 76,
    "start_time": "2021-09-11T18:11:53.318Z"
   },
   {
    "duration": 11,
    "start_time": "2021-09-11T18:11:53.486Z"
   },
   {
    "duration": 106,
    "start_time": "2021-09-11T18:11:53.587Z"
   },
   {
    "duration": 4,
    "start_time": "2021-09-11T18:11:53.695Z"
   },
   {
    "duration": 9,
    "start_time": "2021-09-11T18:11:53.701Z"
   },
   {
    "duration": 6,
    "start_time": "2021-09-11T18:11:53.712Z"
   },
   {
    "duration": 170,
    "start_time": "2021-09-11T18:11:53.719Z"
   },
   {
    "duration": 99,
    "start_time": "2021-09-11T18:11:53.892Z"
   },
   {
    "duration": 96,
    "start_time": "2021-09-11T18:11:53.993Z"
   },
   {
    "duration": 195,
    "start_time": "2021-09-11T18:11:54.091Z"
   },
   {
    "duration": 545,
    "start_time": "2021-09-11T18:11:54.288Z"
   },
   {
    "duration": 231,
    "start_time": "2021-09-11T18:11:54.604Z"
   },
   {
    "duration": 227,
    "start_time": "2021-09-11T18:11:54.609Z"
   },
   {
    "duration": 226,
    "start_time": "2021-09-11T18:11:54.611Z"
   },
   {
    "duration": 224,
    "start_time": "2021-09-11T18:11:54.614Z"
   },
   {
    "duration": 223,
    "start_time": "2021-09-11T18:11:54.616Z"
   },
   {
    "duration": 221,
    "start_time": "2021-09-11T18:11:54.619Z"
   },
   {
    "duration": 68,
    "start_time": "2021-09-11T18:11:54.773Z"
   },
   {
    "duration": 61,
    "start_time": "2021-09-11T18:11:54.781Z"
   },
   {
    "duration": 58,
    "start_time": "2021-09-11T18:11:54.785Z"
   },
   {
    "duration": 54,
    "start_time": "2021-09-11T18:11:54.790Z"
   },
   {
    "duration": 50,
    "start_time": "2021-09-11T18:11:54.794Z"
   },
   {
    "duration": 48,
    "start_time": "2021-09-11T18:11:54.798Z"
   },
   {
    "duration": 46,
    "start_time": "2021-09-11T18:11:54.801Z"
   },
   {
    "duration": 43,
    "start_time": "2021-09-11T18:11:54.805Z"
   },
   {
    "duration": 40,
    "start_time": "2021-09-11T18:11:54.809Z"
   },
   {
    "duration": 37,
    "start_time": "2021-09-11T18:11:54.813Z"
   },
   {
    "duration": 35,
    "start_time": "2021-09-11T18:11:54.816Z"
   },
   {
    "duration": 33,
    "start_time": "2021-09-11T18:11:54.819Z"
   },
   {
    "duration": 30,
    "start_time": "2021-09-11T18:11:54.822Z"
   },
   {
    "duration": 28,
    "start_time": "2021-09-11T18:11:54.825Z"
   },
   {
    "duration": 1022,
    "start_time": "2021-09-11T18:12:28.152Z"
   },
   {
    "duration": 2,
    "start_time": "2021-09-11T18:12:29.176Z"
   },
   {
    "duration": 33,
    "start_time": "2021-09-11T18:12:29.184Z"
   },
   {
    "duration": 18,
    "start_time": "2021-09-11T18:12:29.219Z"
   },
   {
    "duration": 13,
    "start_time": "2021-09-11T18:12:29.239Z"
   },
   {
    "duration": 52,
    "start_time": "2021-09-11T18:12:29.254Z"
   },
   {
    "duration": 6,
    "start_time": "2021-09-11T18:12:29.308Z"
   },
   {
    "duration": 18,
    "start_time": "2021-09-11T18:12:29.316Z"
   },
   {
    "duration": 26,
    "start_time": "2021-09-11T18:12:29.336Z"
   },
   {
    "duration": 16,
    "start_time": "2021-09-11T18:12:29.363Z"
   },
   {
    "duration": 16,
    "start_time": "2021-09-11T18:12:29.380Z"
   },
   {
    "duration": 20,
    "start_time": "2021-09-11T18:12:29.397Z"
   },
   {
    "duration": 29,
    "start_time": "2021-09-11T18:12:29.418Z"
   },
   {
    "duration": 29,
    "start_time": "2021-09-11T18:12:29.448Z"
   },
   {
    "duration": 28,
    "start_time": "2021-09-11T18:12:29.478Z"
   },
   {
    "duration": 16,
    "start_time": "2021-09-11T18:12:29.507Z"
   },
   {
    "duration": 17,
    "start_time": "2021-09-11T18:12:29.524Z"
   },
   {
    "duration": 34,
    "start_time": "2021-09-11T18:12:29.542Z"
   },
   {
    "duration": 32,
    "start_time": "2021-09-11T18:12:29.578Z"
   },
   {
    "duration": 17,
    "start_time": "2021-09-11T18:12:29.612Z"
   },
   {
    "duration": 13,
    "start_time": "2021-09-11T18:12:29.631Z"
   },
   {
    "duration": 17,
    "start_time": "2021-09-11T18:12:29.645Z"
   },
   {
    "duration": 18,
    "start_time": "2021-09-11T18:12:29.666Z"
   },
   {
    "duration": 25,
    "start_time": "2021-09-11T18:12:29.686Z"
   },
   {
    "duration": 5,
    "start_time": "2021-09-11T18:12:29.713Z"
   },
   {
    "duration": 19,
    "start_time": "2021-09-11T18:12:29.719Z"
   },
   {
    "duration": 10,
    "start_time": "2021-09-11T18:12:29.740Z"
   },
   {
    "duration": 17,
    "start_time": "2021-09-11T18:12:29.752Z"
   },
   {
    "duration": 16,
    "start_time": "2021-09-11T18:12:29.771Z"
   },
   {
    "duration": 16,
    "start_time": "2021-09-11T18:12:29.789Z"
   },
   {
    "duration": 11,
    "start_time": "2021-09-11T18:12:29.807Z"
   },
   {
    "duration": 13,
    "start_time": "2021-09-11T18:12:29.819Z"
   },
   {
    "duration": 58,
    "start_time": "2021-09-11T18:12:29.833Z"
   },
   {
    "duration": 94,
    "start_time": "2021-09-11T18:12:29.895Z"
   },
   {
    "duration": 118,
    "start_time": "2021-09-11T18:12:29.991Z"
   },
   {
    "duration": 14,
    "start_time": "2021-09-11T18:12:30.111Z"
   },
   {
    "duration": 25,
    "start_time": "2021-09-11T18:12:30.127Z"
   },
   {
    "duration": 42,
    "start_time": "2021-09-11T18:12:30.153Z"
   },
   {
    "duration": 91,
    "start_time": "2021-09-11T18:12:30.197Z"
   },
   {
    "duration": 102,
    "start_time": "2021-09-11T18:12:30.290Z"
   },
   {
    "duration": 100,
    "start_time": "2021-09-11T18:12:30.394Z"
   },
   {
    "duration": 91,
    "start_time": "2021-09-11T18:12:30.495Z"
   },
   {
    "duration": 492,
    "start_time": "2021-09-11T18:12:30.588Z"
   },
   {
    "duration": 249,
    "start_time": "2021-09-11T18:12:30.836Z"
   },
   {
    "duration": 247,
    "start_time": "2021-09-11T18:12:30.839Z"
   },
   {
    "duration": 245,
    "start_time": "2021-09-11T18:12:30.842Z"
   },
   {
    "duration": 243,
    "start_time": "2021-09-11T18:12:30.844Z"
   },
   {
    "duration": 106,
    "start_time": "2021-09-11T18:12:30.982Z"
   },
   {
    "duration": 100,
    "start_time": "2021-09-11T18:12:30.989Z"
   },
   {
    "duration": 98,
    "start_time": "2021-09-11T18:12:30.992Z"
   },
   {
    "duration": 96,
    "start_time": "2021-09-11T18:12:30.995Z"
   },
   {
    "duration": 94,
    "start_time": "2021-09-11T18:12:30.998Z"
   },
   {
    "duration": 92,
    "start_time": "2021-09-11T18:12:31.001Z"
   },
   {
    "duration": 90,
    "start_time": "2021-09-11T18:12:31.003Z"
   },
   {
    "duration": 89,
    "start_time": "2021-09-11T18:12:31.005Z"
   },
   {
    "duration": 88,
    "start_time": "2021-09-11T18:12:31.007Z"
   },
   {
    "duration": 87,
    "start_time": "2021-09-11T18:12:31.009Z"
   },
   {
    "duration": 86,
    "start_time": "2021-09-11T18:12:31.011Z"
   },
   {
    "duration": 84,
    "start_time": "2021-09-11T18:12:31.014Z"
   },
   {
    "duration": 81,
    "start_time": "2021-09-11T18:12:31.017Z"
   },
   {
    "duration": 80,
    "start_time": "2021-09-11T18:12:31.019Z"
   },
   {
    "duration": 78,
    "start_time": "2021-09-11T18:12:31.022Z"
   },
   {
    "duration": 77,
    "start_time": "2021-09-11T18:12:31.024Z"
   },
   {
    "duration": 1478,
    "start_time": "2021-09-12T16:21:20.131Z"
   },
   {
    "duration": 3,
    "start_time": "2021-09-12T16:21:21.612Z"
   },
   {
    "duration": 37,
    "start_time": "2021-09-12T16:21:21.619Z"
   },
   {
    "duration": 30,
    "start_time": "2021-09-12T16:21:21.659Z"
   },
   {
    "duration": 5,
    "start_time": "2021-09-12T16:21:21.692Z"
   },
   {
    "duration": 88,
    "start_time": "2021-09-12T16:21:21.700Z"
   },
   {
    "duration": 10,
    "start_time": "2021-09-12T16:21:21.791Z"
   },
   {
    "duration": 14,
    "start_time": "2021-09-12T16:21:21.803Z"
   },
   {
    "duration": 54,
    "start_time": "2021-09-12T16:21:21.821Z"
   },
   {
    "duration": 8,
    "start_time": "2021-09-12T16:21:21.879Z"
   },
   {
    "duration": 8,
    "start_time": "2021-09-12T16:21:21.890Z"
   },
   {
    "duration": 9,
    "start_time": "2021-09-12T16:21:21.901Z"
   },
   {
    "duration": 9,
    "start_time": "2021-09-12T16:21:21.912Z"
   },
   {
    "duration": 49,
    "start_time": "2021-09-12T16:21:21.924Z"
   },
   {
    "duration": 10,
    "start_time": "2021-09-12T16:21:21.976Z"
   },
   {
    "duration": 9,
    "start_time": "2021-09-12T16:21:21.988Z"
   },
   {
    "duration": 5,
    "start_time": "2021-09-12T16:21:21.999Z"
   },
   {
    "duration": 63,
    "start_time": "2021-09-12T16:21:22.006Z"
   },
   {
    "duration": 8,
    "start_time": "2021-09-12T16:21:22.072Z"
   },
   {
    "duration": 17,
    "start_time": "2021-09-12T16:21:22.083Z"
   },
   {
    "duration": 10,
    "start_time": "2021-09-12T16:21:22.102Z"
   },
   {
    "duration": 12,
    "start_time": "2021-09-12T16:21:22.114Z"
   },
   {
    "duration": 44,
    "start_time": "2021-09-12T16:21:22.128Z"
   },
   {
    "duration": 18,
    "start_time": "2021-09-12T16:21:22.174Z"
   },
   {
    "duration": 18,
    "start_time": "2021-09-12T16:21:22.194Z"
   },
   {
    "duration": 15,
    "start_time": "2021-09-12T16:21:22.214Z"
   },
   {
    "duration": 7,
    "start_time": "2021-09-12T16:21:22.235Z"
   },
   {
    "duration": 9,
    "start_time": "2021-09-12T16:21:22.267Z"
   },
   {
    "duration": 6,
    "start_time": "2021-09-12T16:21:22.278Z"
   },
   {
    "duration": 13,
    "start_time": "2021-09-12T16:21:22.286Z"
   },
   {
    "duration": 8,
    "start_time": "2021-09-12T16:21:22.302Z"
   },
   {
    "duration": 5,
    "start_time": "2021-09-12T16:21:22.312Z"
   },
   {
    "duration": 152,
    "start_time": "2021-09-12T16:21:22.319Z"
   },
   {
    "duration": 95,
    "start_time": "2021-09-12T16:21:22.473Z"
   },
   {
    "duration": 105,
    "start_time": "2021-09-12T16:21:22.572Z"
   },
   {
    "duration": 6,
    "start_time": "2021-09-12T16:21:22.680Z"
   },
   {
    "duration": 8,
    "start_time": "2021-09-12T16:21:22.690Z"
   },
   {
    "duration": 9,
    "start_time": "2021-09-12T16:21:22.701Z"
   },
   {
    "duration": 161,
    "start_time": "2021-09-12T16:21:22.713Z"
   },
   {
    "duration": 191,
    "start_time": "2021-09-12T16:21:22.877Z"
   },
   {
    "duration": 98,
    "start_time": "2021-09-12T16:21:23.071Z"
   },
   {
    "duration": 106,
    "start_time": "2021-09-12T16:21:23.172Z"
   },
   {
    "duration": 643,
    "start_time": "2021-09-12T16:21:23.369Z"
   },
   {
    "duration": 63,
    "start_time": "2021-09-12T16:21:23.952Z"
   },
   {
    "duration": 57,
    "start_time": "2021-09-12T16:21:23.959Z"
   },
   {
    "duration": 54,
    "start_time": "2021-09-12T16:21:23.963Z"
   },
   {
    "duration": 53,
    "start_time": "2021-09-12T16:21:23.966Z"
   },
   {
    "duration": 51,
    "start_time": "2021-09-12T16:21:23.969Z"
   },
   {
    "duration": 45,
    "start_time": "2021-09-12T16:21:23.976Z"
   },
   {
    "duration": 44,
    "start_time": "2021-09-12T16:21:23.979Z"
   },
   {
    "duration": 42,
    "start_time": "2021-09-12T16:21:23.982Z"
   },
   {
    "duration": 39,
    "start_time": "2021-09-12T16:21:23.986Z"
   },
   {
    "duration": 34,
    "start_time": "2021-09-12T16:21:23.992Z"
   },
   {
    "duration": 33,
    "start_time": "2021-09-12T16:21:23.995Z"
   },
   {
    "duration": 30,
    "start_time": "2021-09-12T16:21:23.999Z"
   },
   {
    "duration": 28,
    "start_time": "2021-09-12T16:21:24.002Z"
   },
   {
    "duration": 24,
    "start_time": "2021-09-12T16:21:24.008Z"
   },
   {
    "duration": 21,
    "start_time": "2021-09-12T16:21:24.012Z"
   },
   {
    "duration": 19,
    "start_time": "2021-09-12T16:21:24.015Z"
   },
   {
    "duration": 16,
    "start_time": "2021-09-12T16:21:24.019Z"
   },
   {
    "duration": 11,
    "start_time": "2021-09-12T16:21:24.025Z"
   },
   {
    "duration": 9,
    "start_time": "2021-09-12T16:21:24.029Z"
   },
   {
    "duration": 7,
    "start_time": "2021-09-12T16:21:24.032Z"
   },
   {
    "duration": 369,
    "start_time": "2021-09-12T16:21:55.279Z"
   },
   {
    "duration": 345,
    "start_time": "2021-09-12T16:22:08.967Z"
   },
   {
    "duration": 347,
    "start_time": "2021-09-12T16:22:17.482Z"
   },
   {
    "duration": 82,
    "start_time": "2021-09-12T16:22:20.993Z"
   },
   {
    "duration": 277,
    "start_time": "2021-09-12T16:22:23.773Z"
   },
   {
    "duration": 375,
    "start_time": "2021-09-12T16:23:33.499Z"
   },
   {
    "duration": 8,
    "start_time": "2021-09-12T16:24:17.135Z"
   },
   {
    "duration": 489,
    "start_time": "2021-09-12T16:24:17.785Z"
   },
   {
    "duration": 1549,
    "start_time": "2021-09-12T16:25:01.965Z"
   },
   {
    "duration": 3,
    "start_time": "2021-09-12T16:25:03.516Z"
   },
   {
    "duration": 60,
    "start_time": "2021-09-12T16:25:03.522Z"
   },
   {
    "duration": 23,
    "start_time": "2021-09-12T16:25:03.585Z"
   },
   {
    "duration": 6,
    "start_time": "2021-09-12T16:25:03.611Z"
   },
   {
    "duration": 91,
    "start_time": "2021-09-12T16:25:03.619Z"
   },
   {
    "duration": 10,
    "start_time": "2021-09-12T16:25:03.712Z"
   },
   {
    "duration": 11,
    "start_time": "2021-09-12T16:25:03.726Z"
   },
   {
    "duration": 49,
    "start_time": "2021-09-12T16:25:03.740Z"
   },
   {
    "duration": 8,
    "start_time": "2021-09-12T16:25:03.792Z"
   },
   {
    "duration": 23,
    "start_time": "2021-09-12T16:25:03.803Z"
   },
   {
    "duration": 12,
    "start_time": "2021-09-12T16:25:03.828Z"
   },
   {
    "duration": 27,
    "start_time": "2021-09-12T16:25:03.843Z"
   },
   {
    "duration": 14,
    "start_time": "2021-09-12T16:25:03.872Z"
   },
   {
    "duration": 11,
    "start_time": "2021-09-12T16:25:03.888Z"
   },
   {
    "duration": 18,
    "start_time": "2021-09-12T16:25:03.901Z"
   },
   {
    "duration": 8,
    "start_time": "2021-09-12T16:25:03.921Z"
   },
   {
    "duration": 58,
    "start_time": "2021-09-12T16:25:03.932Z"
   },
   {
    "duration": 22,
    "start_time": "2021-09-12T16:25:03.992Z"
   },
   {
    "duration": 13,
    "start_time": "2021-09-12T16:25:04.016Z"
   },
   {
    "duration": 12,
    "start_time": "2021-09-12T16:25:04.031Z"
   },
   {
    "duration": 23,
    "start_time": "2021-09-12T16:25:04.045Z"
   },
   {
    "duration": 27,
    "start_time": "2021-09-12T16:25:04.075Z"
   },
   {
    "duration": 24,
    "start_time": "2021-09-12T16:25:04.105Z"
   },
   {
    "duration": 21,
    "start_time": "2021-09-12T16:25:04.131Z"
   },
   {
    "duration": 20,
    "start_time": "2021-09-12T16:25:04.154Z"
   },
   {
    "duration": 8,
    "start_time": "2021-09-12T16:25:04.176Z"
   },
   {
    "duration": 23,
    "start_time": "2021-09-12T16:25:04.186Z"
   },
   {
    "duration": 13,
    "start_time": "2021-09-12T16:25:04.211Z"
   },
   {
    "duration": 18,
    "start_time": "2021-09-12T16:25:04.226Z"
   },
   {
    "duration": 10,
    "start_time": "2021-09-12T16:25:04.246Z"
   },
   {
    "duration": 7,
    "start_time": "2021-09-12T16:25:04.267Z"
   },
   {
    "duration": 192,
    "start_time": "2021-09-12T16:25:04.276Z"
   },
   {
    "duration": 97,
    "start_time": "2021-09-12T16:25:04.471Z"
   },
   {
    "duration": 105,
    "start_time": "2021-09-12T16:25:04.571Z"
   },
   {
    "duration": 8,
    "start_time": "2021-09-12T16:25:04.678Z"
   },
   {
    "duration": 12,
    "start_time": "2021-09-12T16:25:04.689Z"
   },
   {
    "duration": 12,
    "start_time": "2021-09-12T16:25:04.703Z"
   },
   {
    "duration": 158,
    "start_time": "2021-09-12T16:25:04.717Z"
   },
   {
    "duration": 12,
    "start_time": "2021-09-12T16:25:04.968Z"
   },
   {
    "duration": 186,
    "start_time": "2021-09-12T16:25:04.983Z"
   },
   {
    "duration": 109,
    "start_time": "2021-09-12T16:25:05.171Z"
   },
   {
    "duration": 704,
    "start_time": "2021-09-12T16:25:05.283Z"
   },
   {
    "duration": 29,
    "start_time": "2021-09-12T16:25:05.960Z"
   },
   {
    "duration": 25,
    "start_time": "2021-09-12T16:25:05.966Z"
   },
   {
    "duration": 23,
    "start_time": "2021-09-12T16:25:05.969Z"
   },
   {
    "duration": 20,
    "start_time": "2021-09-12T16:25:05.973Z"
   },
   {
    "duration": 18,
    "start_time": "2021-09-12T16:25:05.976Z"
   },
   {
    "duration": 13,
    "start_time": "2021-09-12T16:25:05.983Z"
   },
   {
    "duration": 11,
    "start_time": "2021-09-12T16:25:05.986Z"
   },
   {
    "duration": 9,
    "start_time": "2021-09-12T16:25:05.989Z"
   },
   {
    "duration": 6,
    "start_time": "2021-09-12T16:25:05.993Z"
   },
   {
    "duration": 1,
    "start_time": "2021-09-12T16:25:05.999Z"
   },
   {
    "duration": 0,
    "start_time": "2021-09-12T16:25:06.002Z"
   },
   {
    "duration": -3,
    "start_time": "2021-09-12T16:25:06.006Z"
   },
   {
    "duration": -5,
    "start_time": "2021-09-12T16:25:06.009Z"
   },
   {
    "duration": -10,
    "start_time": "2021-09-12T16:25:06.015Z"
   },
   {
    "duration": -12,
    "start_time": "2021-09-12T16:25:06.019Z"
   },
   {
    "duration": -13,
    "start_time": "2021-09-12T16:25:06.021Z"
   },
   {
    "duration": -17,
    "start_time": "2021-09-12T16:25:06.026Z"
   },
   {
    "duration": -20,
    "start_time": "2021-09-12T16:25:06.031Z"
   },
   {
    "duration": -23,
    "start_time": "2021-09-12T16:25:06.035Z"
   },
   {
    "duration": -25,
    "start_time": "2021-09-12T16:25:06.038Z"
   },
   {
    "duration": 1427,
    "start_time": "2021-09-12T16:25:19.021Z"
   },
   {
    "duration": 4,
    "start_time": "2021-09-12T16:25:20.450Z"
   },
   {
    "duration": 50,
    "start_time": "2021-09-12T16:25:20.456Z"
   },
   {
    "duration": 24,
    "start_time": "2021-09-12T16:25:20.509Z"
   },
   {
    "duration": 16,
    "start_time": "2021-09-12T16:25:20.536Z"
   },
   {
    "duration": 80,
    "start_time": "2021-09-12T16:25:20.555Z"
   },
   {
    "duration": 9,
    "start_time": "2021-09-12T16:25:20.637Z"
   },
   {
    "duration": 26,
    "start_time": "2021-09-12T16:25:20.650Z"
   },
   {
    "duration": 23,
    "start_time": "2021-09-12T16:25:20.680Z"
   },
   {
    "duration": 8,
    "start_time": "2021-09-12T16:25:20.706Z"
   },
   {
    "duration": 9,
    "start_time": "2021-09-12T16:25:20.716Z"
   },
   {
    "duration": 42,
    "start_time": "2021-09-12T16:25:20.727Z"
   },
   {
    "duration": 13,
    "start_time": "2021-09-12T16:25:20.771Z"
   },
   {
    "duration": 12,
    "start_time": "2021-09-12T16:25:20.787Z"
   },
   {
    "duration": 24,
    "start_time": "2021-09-12T16:25:20.801Z"
   },
   {
    "duration": 7,
    "start_time": "2021-09-12T16:25:20.828Z"
   },
   {
    "duration": 7,
    "start_time": "2021-09-12T16:25:20.838Z"
   },
   {
    "duration": 31,
    "start_time": "2021-09-12T16:25:20.868Z"
   },
   {
    "duration": 11,
    "start_time": "2021-09-12T16:25:20.901Z"
   },
   {
    "duration": 9,
    "start_time": "2021-09-12T16:25:20.915Z"
   },
   {
    "duration": 7,
    "start_time": "2021-09-12T16:25:20.926Z"
   },
   {
    "duration": 5,
    "start_time": "2021-09-12T16:25:20.967Z"
   },
   {
    "duration": 24,
    "start_time": "2021-09-12T16:25:20.978Z"
   },
   {
    "duration": 21,
    "start_time": "2021-09-12T16:25:21.005Z"
   },
   {
    "duration": 12,
    "start_time": "2021-09-12T16:25:21.029Z"
   },
   {
    "duration": 33,
    "start_time": "2021-09-12T16:25:21.044Z"
   },
   {
    "duration": 8,
    "start_time": "2021-09-12T16:25:21.079Z"
   },
   {
    "duration": 12,
    "start_time": "2021-09-12T16:25:21.089Z"
   },
   {
    "duration": 6,
    "start_time": "2021-09-12T16:25:21.103Z"
   },
   {
    "duration": 17,
    "start_time": "2021-09-12T16:25:21.111Z"
   },
   {
    "duration": 38,
    "start_time": "2021-09-12T16:25:21.130Z"
   },
   {
    "duration": 6,
    "start_time": "2021-09-12T16:25:21.171Z"
   },
   {
    "duration": 189,
    "start_time": "2021-09-12T16:25:21.180Z"
   },
   {
    "duration": 99,
    "start_time": "2021-09-12T16:25:21.372Z"
   },
   {
    "duration": 96,
    "start_time": "2021-09-12T16:25:21.475Z"
   },
   {
    "duration": 6,
    "start_time": "2021-09-12T16:25:21.573Z"
   },
   {
    "duration": 16,
    "start_time": "2021-09-12T16:25:21.581Z"
   },
   {
    "duration": 6,
    "start_time": "2021-09-12T16:25:21.599Z"
   },
   {
    "duration": 166,
    "start_time": "2021-09-12T16:25:21.607Z"
   },
   {
    "duration": 99,
    "start_time": "2021-09-12T16:25:21.776Z"
   },
   {
    "duration": 94,
    "start_time": "2021-09-12T16:25:21.879Z"
   },
   {
    "duration": 96,
    "start_time": "2021-09-12T16:25:21.976Z"
   },
   {
    "duration": 93,
    "start_time": "2021-09-12T16:25:22.075Z"
   },
   {
    "duration": 103,
    "start_time": "2021-09-12T16:25:22.171Z"
   },
   {
    "duration": 23,
    "start_time": "2021-09-12T16:25:22.276Z"
   },
   {
    "duration": 7,
    "start_time": "2021-09-12T16:25:22.302Z"
   },
   {
    "duration": 7,
    "start_time": "2021-09-12T16:25:22.311Z"
   },
   {
    "duration": 47,
    "start_time": "2021-09-12T16:25:22.321Z"
   },
   {
    "duration": 621,
    "start_time": "2021-09-12T16:25:22.371Z"
   },
   {
    "duration": 40,
    "start_time": "2021-09-12T16:25:22.954Z"
   },
   {
    "duration": 37,
    "start_time": "2021-09-12T16:25:22.958Z"
   },
   {
    "duration": 33,
    "start_time": "2021-09-12T16:25:22.964Z"
   },
   {
    "duration": 31,
    "start_time": "2021-09-12T16:25:22.967Z"
   },
   {
    "duration": 29,
    "start_time": "2021-09-12T16:25:22.970Z"
   },
   {
    "duration": 28,
    "start_time": "2021-09-12T16:25:22.973Z"
   },
   {
    "duration": 22,
    "start_time": "2021-09-12T16:25:22.980Z"
   },
   {
    "duration": 20,
    "start_time": "2021-09-12T16:25:22.983Z"
   },
   {
    "duration": 17,
    "start_time": "2021-09-12T16:25:22.987Z"
   },
   {
    "duration": 16,
    "start_time": "2021-09-12T16:25:22.990Z"
   },
   {
    "duration": 10,
    "start_time": "2021-09-12T16:25:22.997Z"
   },
   {
    "duration": 8,
    "start_time": "2021-09-12T16:25:23.000Z"
   },
   {
    "duration": 6,
    "start_time": "2021-09-12T16:25:23.003Z"
   },
   {
    "duration": 5,
    "start_time": "2021-09-12T16:25:23.006Z"
   },
   {
    "duration": 7,
    "start_time": "2021-09-12T16:25:52.261Z"
   },
   {
    "duration": 1403,
    "start_time": "2021-09-12T16:26:07.405Z"
   },
   {
    "duration": 4,
    "start_time": "2021-09-12T16:26:08.810Z"
   },
   {
    "duration": 42,
    "start_time": "2021-09-12T16:26:08.817Z"
   },
   {
    "duration": 23,
    "start_time": "2021-09-12T16:26:08.862Z"
   },
   {
    "duration": 14,
    "start_time": "2021-09-12T16:26:08.888Z"
   },
   {
    "duration": 80,
    "start_time": "2021-09-12T16:26:08.905Z"
   },
   {
    "duration": 10,
    "start_time": "2021-09-12T16:26:08.987Z"
   },
   {
    "duration": 12,
    "start_time": "2021-09-12T16:26:09.000Z"
   },
   {
    "duration": 54,
    "start_time": "2021-09-12T16:26:09.015Z"
   },
   {
    "duration": 8,
    "start_time": "2021-09-12T16:26:09.072Z"
   },
   {
    "duration": 11,
    "start_time": "2021-09-12T16:26:09.083Z"
   },
   {
    "duration": 10,
    "start_time": "2021-09-12T16:26:09.096Z"
   },
   {
    "duration": 11,
    "start_time": "2021-09-12T16:26:09.109Z"
   },
   {
    "duration": 50,
    "start_time": "2021-09-12T16:26:09.122Z"
   },
   {
    "duration": 10,
    "start_time": "2021-09-12T16:26:09.174Z"
   },
   {
    "duration": 9,
    "start_time": "2021-09-12T16:26:09.186Z"
   },
   {
    "duration": 3,
    "start_time": "2021-09-12T16:26:09.198Z"
   },
   {
    "duration": 67,
    "start_time": "2021-09-12T16:26:09.204Z"
   },
   {
    "duration": 9,
    "start_time": "2021-09-12T16:26:09.273Z"
   },
   {
    "duration": 9,
    "start_time": "2021-09-12T16:26:09.285Z"
   },
   {
    "duration": 9,
    "start_time": "2021-09-12T16:26:09.296Z"
   },
   {
    "duration": 9,
    "start_time": "2021-09-12T16:26:09.307Z"
   },
   {
    "duration": 59,
    "start_time": "2021-09-12T16:26:09.323Z"
   },
   {
    "duration": 17,
    "start_time": "2021-09-12T16:26:09.385Z"
   },
   {
    "duration": 6,
    "start_time": "2021-09-12T16:26:09.404Z"
   },
   {
    "duration": 12,
    "start_time": "2021-09-12T16:26:09.412Z"
   },
   {
    "duration": 7,
    "start_time": "2021-09-12T16:26:09.427Z"
   },
   {
    "duration": 8,
    "start_time": "2021-09-12T16:26:09.467Z"
   },
   {
    "duration": 8,
    "start_time": "2021-09-12T16:26:09.477Z"
   },
   {
    "duration": 8,
    "start_time": "2021-09-12T16:26:09.487Z"
   },
   {
    "duration": 7,
    "start_time": "2021-09-12T16:26:09.497Z"
   },
   {
    "duration": 4,
    "start_time": "2021-09-12T16:26:09.506Z"
   },
   {
    "duration": 159,
    "start_time": "2021-09-12T16:26:09.513Z"
   },
   {
    "duration": 193,
    "start_time": "2021-09-12T16:26:09.675Z"
   },
   {
    "duration": 100,
    "start_time": "2021-09-12T16:26:09.872Z"
   },
   {
    "duration": 5,
    "start_time": "2021-09-12T16:26:09.974Z"
   },
   {
    "duration": 15,
    "start_time": "2021-09-12T16:26:09.982Z"
   },
   {
    "duration": 10,
    "start_time": "2021-09-12T16:26:09.999Z"
   },
   {
    "duration": 162,
    "start_time": "2021-09-12T16:26:10.011Z"
   },
   {
    "duration": 99,
    "start_time": "2021-09-12T16:26:10.176Z"
   },
   {
    "duration": 12,
    "start_time": "2021-09-12T16:26:10.369Z"
   },
   {
    "duration": 3,
    "start_time": "2021-09-12T16:26:10.467Z"
   },
   {
    "duration": 103,
    "start_time": "2021-09-12T16:26:10.473Z"
   },
   {
    "duration": 92,
    "start_time": "2021-09-12T16:26:10.579Z"
   },
   {
    "duration": 16,
    "start_time": "2021-09-12T16:26:10.674Z"
   },
   {
    "duration": 14,
    "start_time": "2021-09-12T16:26:10.692Z"
   },
   {
    "duration": 34,
    "start_time": "2021-09-12T16:26:10.708Z"
   },
   {
    "duration": 29,
    "start_time": "2021-09-12T16:26:10.744Z"
   },
   {
    "duration": 19,
    "start_time": "2021-09-12T16:26:10.775Z"
   },
   {
    "duration": 8,
    "start_time": "2021-09-12T16:26:10.797Z"
   },
   {
    "duration": 789,
    "start_time": "2021-09-12T16:26:10.807Z"
   },
   {
    "duration": 36,
    "start_time": "2021-09-12T16:26:11.562Z"
   },
   {
    "duration": 34,
    "start_time": "2021-09-12T16:26:11.566Z"
   },
   {
    "duration": 33,
    "start_time": "2021-09-12T16:26:11.569Z"
   },
   {
    "duration": 27,
    "start_time": "2021-09-12T16:26:11.576Z"
   },
   {
    "duration": 26,
    "start_time": "2021-09-12T16:26:11.578Z"
   },
   {
    "duration": 23,
    "start_time": "2021-09-12T16:26:11.582Z"
   },
   {
    "duration": 23,
    "start_time": "2021-09-12T16:26:11.584Z"
   },
   {
    "duration": 17,
    "start_time": "2021-09-12T16:26:11.591Z"
   },
   {
    "duration": 15,
    "start_time": "2021-09-12T16:26:11.595Z"
   },
   {
    "duration": 13,
    "start_time": "2021-09-12T16:26:11.598Z"
   },
   {
    "duration": 13,
    "start_time": "2021-09-12T16:26:11.600Z"
   },
   {
    "duration": 9,
    "start_time": "2021-09-12T16:26:11.605Z"
   },
   {
    "duration": 5,
    "start_time": "2021-09-12T16:26:11.611Z"
   },
   {
    "duration": 3,
    "start_time": "2021-09-12T16:26:11.614Z"
   },
   {
    "duration": 1751,
    "start_time": "2021-09-12T16:26:56.264Z"
   },
   {
    "duration": 3,
    "start_time": "2021-09-12T16:26:58.018Z"
   },
   {
    "duration": 46,
    "start_time": "2021-09-12T16:26:58.028Z"
   },
   {
    "duration": 24,
    "start_time": "2021-09-12T16:26:58.077Z"
   },
   {
    "duration": 6,
    "start_time": "2021-09-12T16:26:58.103Z"
   },
   {
    "duration": 92,
    "start_time": "2021-09-12T16:26:58.111Z"
   },
   {
    "duration": 10,
    "start_time": "2021-09-12T16:26:58.207Z"
   },
   {
    "duration": 12,
    "start_time": "2021-09-12T16:26:58.220Z"
   },
   {
    "duration": 49,
    "start_time": "2021-09-12T16:26:58.234Z"
   },
   {
    "duration": 7,
    "start_time": "2021-09-12T16:26:58.286Z"
   },
   {
    "duration": 14,
    "start_time": "2021-09-12T16:26:58.296Z"
   },
   {
    "duration": 10,
    "start_time": "2021-09-12T16:26:58.312Z"
   },
   {
    "duration": 41,
    "start_time": "2021-09-12T16:26:58.325Z"
   },
   {
    "duration": 8,
    "start_time": "2021-09-12T16:26:58.369Z"
   },
   {
    "duration": 8,
    "start_time": "2021-09-12T16:26:58.380Z"
   },
   {
    "duration": 21,
    "start_time": "2021-09-12T16:26:58.391Z"
   },
   {
    "duration": 5,
    "start_time": "2021-09-12T16:26:58.415Z"
   },
   {
    "duration": 56,
    "start_time": "2021-09-12T16:26:58.422Z"
   },
   {
    "duration": 15,
    "start_time": "2021-09-12T16:26:58.481Z"
   },
   {
    "duration": 14,
    "start_time": "2021-09-12T16:26:58.498Z"
   },
   {
    "duration": 16,
    "start_time": "2021-09-12T16:26:58.514Z"
   },
   {
    "duration": 16,
    "start_time": "2021-09-12T16:26:58.536Z"
   },
   {
    "duration": 31,
    "start_time": "2021-09-12T16:26:58.555Z"
   },
   {
    "duration": 22,
    "start_time": "2021-09-12T16:26:58.588Z"
   },
   {
    "duration": 16,
    "start_time": "2021-09-12T16:26:58.613Z"
   },
   {
    "duration": 27,
    "start_time": "2021-09-12T16:26:58.631Z"
   },
   {
    "duration": 13,
    "start_time": "2021-09-12T16:26:58.661Z"
   },
   {
    "duration": 22,
    "start_time": "2021-09-12T16:26:58.676Z"
   },
   {
    "duration": 13,
    "start_time": "2021-09-12T16:26:58.700Z"
   },
   {
    "duration": 18,
    "start_time": "2021-09-12T16:26:58.715Z"
   },
   {
    "duration": 19,
    "start_time": "2021-09-12T16:26:58.735Z"
   },
   {
    "duration": 5,
    "start_time": "2021-09-12T16:26:58.756Z"
   },
   {
    "duration": 109,
    "start_time": "2021-09-12T16:26:58.768Z"
   },
   {
    "duration": 14,
    "start_time": "2021-09-12T16:26:58.968Z"
   },
   {
    "duration": 186,
    "start_time": "2021-09-12T16:26:58.985Z"
   },
   {
    "duration": 6,
    "start_time": "2021-09-12T16:26:59.174Z"
   },
   {
    "duration": 20,
    "start_time": "2021-09-12T16:26:59.183Z"
   },
   {
    "duration": 14,
    "start_time": "2021-09-12T16:26:59.206Z"
   },
   {
    "duration": 150,
    "start_time": "2021-09-12T16:26:59.223Z"
   },
   {
    "duration": 100,
    "start_time": "2021-09-12T16:26:59.375Z"
   },
   {
    "duration": 11,
    "start_time": "2021-09-12T16:26:59.569Z"
   },
   {
    "duration": 3,
    "start_time": "2021-09-12T16:26:59.668Z"
   },
   {
    "duration": 22,
    "start_time": "2021-09-12T16:26:59.674Z"
   },
   {
    "duration": 16,
    "start_time": "2021-09-12T16:26:59.699Z"
   },
   {
    "duration": 65,
    "start_time": "2021-09-12T16:26:59.717Z"
   },
   {
    "duration": 8,
    "start_time": "2021-09-12T16:26:59.867Z"
   },
   {
    "duration": 7,
    "start_time": "2021-09-12T16:26:59.968Z"
   },
   {
    "duration": 23,
    "start_time": "2021-09-12T16:26:59.977Z"
   },
   {
    "duration": 26,
    "start_time": "2021-09-12T16:27:00.003Z"
   },
   {
    "duration": 35,
    "start_time": "2021-09-12T16:27:00.032Z"
   },
   {
    "duration": 7,
    "start_time": "2021-09-12T16:27:00.069Z"
   },
   {
    "duration": 24,
    "start_time": "2021-09-12T16:27:00.079Z"
   },
   {
    "duration": 578,
    "start_time": "2021-09-12T16:27:00.106Z"
   },
   {
    "duration": 12,
    "start_time": "2021-09-12T16:27:00.675Z"
   },
   {
    "duration": 12,
    "start_time": "2021-09-12T16:27:00.677Z"
   },
   {
    "duration": 10,
    "start_time": "2021-09-12T16:27:00.681Z"
   },
   {
    "duration": 6,
    "start_time": "2021-09-12T16:27:00.687Z"
   },
   {
    "duration": 6,
    "start_time": "2021-09-12T16:27:00.689Z"
   },
   {
    "duration": 5,
    "start_time": "2021-09-12T16:27:00.692Z"
   },
   {
    "duration": 4,
    "start_time": "2021-09-12T16:27:00.695Z"
   },
   {
    "duration": 1,
    "start_time": "2021-09-12T16:27:00.699Z"
   },
   {
    "duration": -3,
    "start_time": "2021-09-12T16:27:00.704Z"
   },
   {
    "duration": -5,
    "start_time": "2021-09-12T16:27:00.708Z"
   },
   {
    "duration": -6,
    "start_time": "2021-09-12T16:27:00.710Z"
   },
   {
    "duration": -7,
    "start_time": "2021-09-12T16:27:00.713Z"
   },
   {
    "duration": -10,
    "start_time": "2021-09-12T16:27:00.717Z"
   },
   {
    "duration": -13,
    "start_time": "2021-09-12T16:27:00.722Z"
   },
   {
    "duration": 5,
    "start_time": "2021-09-12T16:27:24.718Z"
   },
   {
    "duration": 1501,
    "start_time": "2021-09-12T16:27:36.725Z"
   },
   {
    "duration": 3,
    "start_time": "2021-09-12T16:27:38.229Z"
   },
   {
    "duration": 43,
    "start_time": "2021-09-12T16:27:38.237Z"
   },
   {
    "duration": 23,
    "start_time": "2021-09-12T16:27:38.283Z"
   },
   {
    "duration": 5,
    "start_time": "2021-09-12T16:27:38.309Z"
   },
   {
    "duration": 93,
    "start_time": "2021-09-12T16:27:38.316Z"
   },
   {
    "duration": 9,
    "start_time": "2021-09-12T16:27:38.412Z"
   },
   {
    "duration": 21,
    "start_time": "2021-09-12T16:27:38.424Z"
   },
   {
    "duration": 40,
    "start_time": "2021-09-12T16:27:38.448Z"
   },
   {
    "duration": 8,
    "start_time": "2021-09-12T16:27:38.490Z"
   },
   {
    "duration": 21,
    "start_time": "2021-09-12T16:27:38.501Z"
   },
   {
    "duration": 20,
    "start_time": "2021-09-12T16:27:38.524Z"
   },
   {
    "duration": 24,
    "start_time": "2021-09-12T16:27:38.547Z"
   },
   {
    "duration": 16,
    "start_time": "2021-09-12T16:27:38.573Z"
   },
   {
    "duration": 13,
    "start_time": "2021-09-12T16:27:38.591Z"
   },
   {
    "duration": 11,
    "start_time": "2021-09-12T16:27:38.606Z"
   },
   {
    "duration": 10,
    "start_time": "2021-09-12T16:27:38.619Z"
   },
   {
    "duration": 58,
    "start_time": "2021-09-12T16:27:38.631Z"
   },
   {
    "duration": 20,
    "start_time": "2021-09-12T16:27:38.693Z"
   },
   {
    "duration": 19,
    "start_time": "2021-09-12T16:27:38.715Z"
   },
   {
    "duration": 17,
    "start_time": "2021-09-12T16:27:38.736Z"
   },
   {
    "duration": 10,
    "start_time": "2021-09-12T16:27:38.755Z"
   },
   {
    "duration": 24,
    "start_time": "2021-09-12T16:27:38.771Z"
   },
   {
    "duration": 22,
    "start_time": "2021-09-12T16:27:38.799Z"
   },
   {
    "duration": 7,
    "start_time": "2021-09-12T16:27:38.823Z"
   },
   {
    "duration": 34,
    "start_time": "2021-09-12T16:27:38.833Z"
   },
   {
    "duration": 9,
    "start_time": "2021-09-12T16:27:38.869Z"
   },
   {
    "duration": 19,
    "start_time": "2021-09-12T16:27:38.880Z"
   },
   {
    "duration": 9,
    "start_time": "2021-09-12T16:27:38.901Z"
   },
   {
    "duration": 17,
    "start_time": "2021-09-12T16:27:38.912Z"
   },
   {
    "duration": 14,
    "start_time": "2021-09-12T16:27:38.932Z"
   },
   {
    "duration": 21,
    "start_time": "2021-09-12T16:27:38.948Z"
   },
   {
    "duration": 196,
    "start_time": "2021-09-12T16:27:38.972Z"
   },
   {
    "duration": 98,
    "start_time": "2021-09-12T16:27:39.172Z"
   },
   {
    "duration": 104,
    "start_time": "2021-09-12T16:27:39.274Z"
   },
   {
    "duration": 13,
    "start_time": "2021-09-12T16:27:39.381Z"
   },
   {
    "duration": 32,
    "start_time": "2021-09-12T16:27:39.397Z"
   },
   {
    "duration": 14,
    "start_time": "2021-09-12T16:27:39.431Z"
   },
   {
    "duration": 126,
    "start_time": "2021-09-12T16:27:39.448Z"
   },
   {
    "duration": 194,
    "start_time": "2021-09-12T16:27:39.577Z"
   },
   {
    "duration": 97,
    "start_time": "2021-09-12T16:27:39.775Z"
   },
   {
    "duration": 4,
    "start_time": "2021-09-12T16:27:39.874Z"
   },
   {
    "duration": 18,
    "start_time": "2021-09-12T16:27:39.880Z"
   },
   {
    "duration": 30,
    "start_time": "2021-09-12T16:27:39.900Z"
   },
   {
    "duration": 135,
    "start_time": "2021-09-12T16:27:39.933Z"
   },
   {
    "duration": 96,
    "start_time": "2021-09-12T16:27:40.072Z"
   },
   {
    "duration": 16,
    "start_time": "2021-09-12T16:27:40.171Z"
   },
   {
    "duration": 14,
    "start_time": "2021-09-12T16:27:40.190Z"
   },
   {
    "duration": 34,
    "start_time": "2021-09-12T16:27:40.206Z"
   },
   {
    "duration": 28,
    "start_time": "2021-09-12T16:27:40.243Z"
   },
   {
    "duration": 7,
    "start_time": "2021-09-12T16:27:40.274Z"
   },
   {
    "duration": 19,
    "start_time": "2021-09-12T16:27:40.284Z"
   },
   {
    "duration": 599,
    "start_time": "2021-09-12T16:27:40.305Z"
   },
   {
    "duration": 24,
    "start_time": "2021-09-12T16:27:40.883Z"
   },
   {
    "duration": 24,
    "start_time": "2021-09-12T16:27:40.885Z"
   },
   {
    "duration": 19,
    "start_time": "2021-09-12T16:27:40.891Z"
   },
   {
    "duration": 18,
    "start_time": "2021-09-12T16:27:40.894Z"
   },
   {
    "duration": 16,
    "start_time": "2021-09-12T16:27:40.897Z"
   },
   {
    "duration": 16,
    "start_time": "2021-09-12T16:27:40.899Z"
   },
   {
    "duration": 14,
    "start_time": "2021-09-12T16:27:40.902Z"
   },
   {
    "duration": 10,
    "start_time": "2021-09-12T16:27:40.907Z"
   },
   {
    "duration": 9,
    "start_time": "2021-09-12T16:27:40.910Z"
   },
   {
    "duration": 7,
    "start_time": "2021-09-12T16:27:40.913Z"
   },
   {
    "duration": 6,
    "start_time": "2021-09-12T16:27:40.915Z"
   },
   {
    "duration": 4,
    "start_time": "2021-09-12T16:27:40.919Z"
   },
   {
    "duration": 0,
    "start_time": "2021-09-12T16:27:40.924Z"
   },
   {
    "duration": -1,
    "start_time": "2021-09-12T16:27:40.927Z"
   },
   {
    "duration": 1509,
    "start_time": "2021-09-12T16:28:40.930Z"
   },
   {
    "duration": 4,
    "start_time": "2021-09-12T16:28:42.441Z"
   },
   {
    "duration": 40,
    "start_time": "2021-09-12T16:28:42.449Z"
   },
   {
    "duration": 25,
    "start_time": "2021-09-12T16:28:42.492Z"
   },
   {
    "duration": 6,
    "start_time": "2021-09-12T16:28:42.520Z"
   },
   {
    "duration": 98,
    "start_time": "2021-09-12T16:28:42.529Z"
   },
   {
    "duration": 9,
    "start_time": "2021-09-12T16:28:42.630Z"
   },
   {
    "duration": 32,
    "start_time": "2021-09-12T16:28:42.643Z"
   },
   {
    "duration": 21,
    "start_time": "2021-09-12T16:28:42.678Z"
   },
   {
    "duration": 8,
    "start_time": "2021-09-12T16:28:42.701Z"
   },
   {
    "duration": 10,
    "start_time": "2021-09-12T16:28:42.711Z"
   },
   {
    "duration": 49,
    "start_time": "2021-09-12T16:28:42.723Z"
   },
   {
    "duration": 7,
    "start_time": "2021-09-12T16:28:42.774Z"
   },
   {
    "duration": 11,
    "start_time": "2021-09-12T16:28:42.784Z"
   },
   {
    "duration": 8,
    "start_time": "2021-09-12T16:28:42.797Z"
   },
   {
    "duration": 12,
    "start_time": "2021-09-12T16:28:42.807Z"
   },
   {
    "duration": 48,
    "start_time": "2021-09-12T16:28:42.821Z"
   },
   {
    "duration": 31,
    "start_time": "2021-09-12T16:28:42.872Z"
   },
   {
    "duration": 9,
    "start_time": "2021-09-12T16:28:42.906Z"
   },
   {
    "duration": 9,
    "start_time": "2021-09-12T16:28:42.917Z"
   },
   {
    "duration": 43,
    "start_time": "2021-09-12T16:28:42.929Z"
   },
   {
    "duration": 5,
    "start_time": "2021-09-12T16:28:42.974Z"
   },
   {
    "duration": 24,
    "start_time": "2021-09-12T16:28:42.986Z"
   },
   {
    "duration": 17,
    "start_time": "2021-09-12T16:28:43.014Z"
   },
   {
    "duration": 7,
    "start_time": "2021-09-12T16:28:43.068Z"
   },
   {
    "duration": 16,
    "start_time": "2021-09-12T16:28:43.077Z"
   },
   {
    "duration": 7,
    "start_time": "2021-09-12T16:28:43.095Z"
   },
   {
    "duration": 8,
    "start_time": "2021-09-12T16:28:43.105Z"
   },
   {
    "duration": 5,
    "start_time": "2021-09-12T16:28:43.116Z"
   },
   {
    "duration": 47,
    "start_time": "2021-09-12T16:28:43.123Z"
   },
   {
    "duration": 6,
    "start_time": "2021-09-12T16:28:43.173Z"
   },
   {
    "duration": 4,
    "start_time": "2021-09-12T16:28:43.182Z"
   },
   {
    "duration": 180,
    "start_time": "2021-09-12T16:28:43.189Z"
   },
   {
    "duration": 196,
    "start_time": "2021-09-12T16:28:43.372Z"
   },
   {
    "duration": 12,
    "start_time": "2021-09-12T16:28:43.571Z"
   },
   {
    "duration": 5,
    "start_time": "2021-09-12T16:28:43.586Z"
   },
   {
    "duration": 7,
    "start_time": "2021-09-12T16:28:43.668Z"
   },
   {
    "duration": 6,
    "start_time": "2021-09-12T16:28:43.678Z"
   },
   {
    "duration": 182,
    "start_time": "2021-09-12T16:28:43.687Z"
   },
   {
    "duration": 194,
    "start_time": "2021-09-12T16:28:43.872Z"
   },
   {
    "duration": 100,
    "start_time": "2021-09-12T16:28:44.070Z"
   },
   {
    "duration": 110,
    "start_time": "2021-09-12T16:28:44.172Z"
   },
   {
    "duration": 85,
    "start_time": "2021-09-12T16:28:44.285Z"
   },
   {
    "duration": 96,
    "start_time": "2021-09-12T16:28:44.373Z"
   },
   {
    "duration": 519,
    "start_time": "2021-09-12T16:28:44.472Z"
   },
   {
    "duration": 24,
    "start_time": "2021-09-12T16:28:44.970Z"
   },
   {
    "duration": 22,
    "start_time": "2021-09-12T16:28:44.973Z"
   },
   {
    "duration": 20,
    "start_time": "2021-09-12T16:28:44.976Z"
   },
   {
    "duration": 17,
    "start_time": "2021-09-12T16:28:44.980Z"
   },
   {
    "duration": 12,
    "start_time": "2021-09-12T16:28:44.987Z"
   },
   {
    "duration": 10,
    "start_time": "2021-09-12T16:28:44.990Z"
   },
   {
    "duration": 8,
    "start_time": "2021-09-12T16:28:44.993Z"
   },
   {
    "duration": 5,
    "start_time": "2021-09-12T16:28:44.997Z"
   },
   {
    "duration": 2,
    "start_time": "2021-09-12T16:28:45.002Z"
   },
   {
    "duration": -1,
    "start_time": "2021-09-12T16:28:45.006Z"
   },
   {
    "duration": -3,
    "start_time": "2021-09-12T16:28:45.009Z"
   },
   {
    "duration": -4,
    "start_time": "2021-09-12T16:28:45.012Z"
   },
   {
    "duration": -9,
    "start_time": "2021-09-12T16:28:45.018Z"
   },
   {
    "duration": -11,
    "start_time": "2021-09-12T16:28:45.021Z"
   },
   {
    "duration": -13,
    "start_time": "2021-09-12T16:28:45.024Z"
   },
   {
    "duration": -14,
    "start_time": "2021-09-12T16:28:45.026Z"
   },
   {
    "duration": -15,
    "start_time": "2021-09-12T16:28:45.029Z"
   },
   {
    "duration": -20,
    "start_time": "2021-09-12T16:28:45.035Z"
   },
   {
    "duration": -22,
    "start_time": "2021-09-12T16:28:45.038Z"
   },
   {
    "duration": -24,
    "start_time": "2021-09-12T16:28:45.041Z"
   },
   {
    "duration": -26,
    "start_time": "2021-09-12T16:28:45.044Z"
   },
   {
    "duration": -30,
    "start_time": "2021-09-12T16:28:45.050Z"
   },
   {
    "duration": 1531,
    "start_time": "2021-09-12T16:30:21.405Z"
   },
   {
    "duration": 3,
    "start_time": "2021-09-12T16:30:22.939Z"
   },
   {
    "duration": 43,
    "start_time": "2021-09-12T16:30:22.945Z"
   },
   {
    "duration": 34,
    "start_time": "2021-09-12T16:30:22.992Z"
   },
   {
    "duration": 7,
    "start_time": "2021-09-12T16:30:23.029Z"
   },
   {
    "duration": 88,
    "start_time": "2021-09-12T16:30:23.039Z"
   },
   {
    "duration": 10,
    "start_time": "2021-09-12T16:30:23.129Z"
   },
   {
    "duration": 35,
    "start_time": "2021-09-12T16:30:23.143Z"
   },
   {
    "duration": 22,
    "start_time": "2021-09-12T16:30:23.181Z"
   },
   {
    "duration": 9,
    "start_time": "2021-09-12T16:30:23.205Z"
   },
   {
    "duration": 53,
    "start_time": "2021-09-12T16:30:23.216Z"
   },
   {
    "duration": 11,
    "start_time": "2021-09-12T16:30:23.272Z"
   },
   {
    "duration": 10,
    "start_time": "2021-09-12T16:30:23.287Z"
   },
   {
    "duration": 10,
    "start_time": "2021-09-12T16:30:23.300Z"
   },
   {
    "duration": 54,
    "start_time": "2021-09-12T16:30:23.315Z"
   },
   {
    "duration": 10,
    "start_time": "2021-09-12T16:30:23.371Z"
   },
   {
    "duration": 3,
    "start_time": "2021-09-12T16:30:23.384Z"
   },
   {
    "duration": 41,
    "start_time": "2021-09-12T16:30:23.390Z"
   },
   {
    "duration": 38,
    "start_time": "2021-09-12T16:30:23.434Z"
   },
   {
    "duration": 9,
    "start_time": "2021-09-12T16:30:23.475Z"
   },
   {
    "duration": 8,
    "start_time": "2021-09-12T16:30:23.487Z"
   },
   {
    "duration": 8,
    "start_time": "2021-09-12T16:30:23.498Z"
   },
   {
    "duration": 62,
    "start_time": "2021-09-12T16:30:23.512Z"
   },
   {
    "duration": 19,
    "start_time": "2021-09-12T16:30:23.577Z"
   },
   {
    "duration": 10,
    "start_time": "2021-09-12T16:30:23.599Z"
   },
   {
    "duration": 14,
    "start_time": "2021-09-12T16:30:23.611Z"
   },
   {
    "duration": 43,
    "start_time": "2021-09-12T16:30:23.628Z"
   },
   {
    "duration": 9,
    "start_time": "2021-09-12T16:30:23.674Z"
   },
   {
    "duration": 9,
    "start_time": "2021-09-12T16:30:23.686Z"
   },
   {
    "duration": 12,
    "start_time": "2021-09-12T16:30:23.698Z"
   },
   {
    "duration": 15,
    "start_time": "2021-09-12T16:30:23.713Z"
   },
   {
    "duration": 4,
    "start_time": "2021-09-12T16:30:23.766Z"
   },
   {
    "duration": 294,
    "start_time": "2021-09-12T16:30:23.773Z"
   },
   {
    "duration": 17,
    "start_time": "2021-09-12T16:30:24.070Z"
   },
   {
    "duration": 104,
    "start_time": "2021-09-12T16:30:24.169Z"
   },
   {
    "duration": 5,
    "start_time": "2021-09-12T16:30:24.275Z"
   },
   {
    "duration": 8,
    "start_time": "2021-09-12T16:30:24.283Z"
   },
   {
    "duration": 7,
    "start_time": "2021-09-12T16:30:24.293Z"
   },
   {
    "duration": 171,
    "start_time": "2021-09-12T16:30:24.303Z"
   },
   {
    "duration": 97,
    "start_time": "2021-09-12T16:30:24.477Z"
   },
   {
    "duration": 97,
    "start_time": "2021-09-12T16:30:24.577Z"
   },
   {
    "duration": 194,
    "start_time": "2021-09-12T16:30:24.677Z"
   },
   {
    "duration": 194,
    "start_time": "2021-09-12T16:30:24.874Z"
   },
   {
    "duration": 100,
    "start_time": "2021-09-12T16:30:25.071Z"
   },
   {
    "duration": 26,
    "start_time": "2021-09-12T16:30:25.174Z"
   },
   {
    "duration": 7,
    "start_time": "2021-09-12T16:30:25.203Z"
   },
   {
    "duration": 9,
    "start_time": "2021-09-12T16:30:25.213Z"
   },
   {
    "duration": 43,
    "start_time": "2021-09-12T16:30:25.224Z"
   },
   {
    "duration": 198,
    "start_time": "2021-09-12T16:30:25.270Z"
   },
   {
    "duration": 104,
    "start_time": "2021-09-12T16:30:25.471Z"
   },
   {
    "duration": 89,
    "start_time": "2021-09-12T16:30:25.579Z"
   },
   {
    "duration": 6301,
    "start_time": "2021-09-12T16:30:25.672Z"
   },
   {
    "duration": 464,
    "start_time": "2021-09-12T16:30:31.976Z"
   },
   {
    "duration": 46,
    "start_time": "2021-09-12T16:30:32.443Z"
   },
   {
    "duration": 7,
    "start_time": "2021-09-12T16:30:32.492Z"
   },
   {
    "duration": 6,
    "start_time": "2021-09-12T16:30:32.502Z"
   },
   {
    "duration": 557,
    "start_time": "2021-09-12T16:30:32.511Z"
   },
   {
    "duration": 404,
    "start_time": "2021-09-12T16:30:33.071Z"
   },
   {
    "duration": 35,
    "start_time": "2021-09-12T16:30:33.477Z"
   },
   {
    "duration": 7,
    "start_time": "2021-09-12T16:30:33.515Z"
   },
   {
    "duration": 327,
    "start_time": "2021-09-12T16:30:33.525Z"
   },
   {
    "duration": 43,
    "start_time": "2021-09-12T16:30:33.855Z"
   },
   {
    "duration": 34,
    "start_time": "2021-09-12T16:30:33.901Z"
   },
   {
    "duration": 1473,
    "start_time": "2021-09-12T16:56:04.564Z"
   },
   {
    "duration": 5,
    "start_time": "2021-09-12T16:56:06.040Z"
   },
   {
    "duration": 42,
    "start_time": "2021-09-12T16:56:06.048Z"
   },
   {
    "duration": 25,
    "start_time": "2021-09-12T16:56:06.093Z"
   },
   {
    "duration": 8,
    "start_time": "2021-09-12T16:56:06.121Z"
   },
   {
    "duration": 92,
    "start_time": "2021-09-12T16:56:06.132Z"
   },
   {
    "duration": 12,
    "start_time": "2021-09-12T16:56:06.227Z"
   },
   {
    "duration": 14,
    "start_time": "2021-09-12T16:56:06.269Z"
   },
   {
    "duration": 24,
    "start_time": "2021-09-12T16:56:06.287Z"
   },
   {
    "duration": 9,
    "start_time": "2021-09-12T16:56:06.314Z"
   },
   {
    "duration": 12,
    "start_time": "2021-09-12T16:56:06.368Z"
   },
   {
    "duration": 9,
    "start_time": "2021-09-12T16:56:06.382Z"
   },
   {
    "duration": 9,
    "start_time": "2021-09-12T16:56:06.393Z"
   },
   {
    "duration": 10,
    "start_time": "2021-09-12T16:56:06.404Z"
   },
   {
    "duration": 55,
    "start_time": "2021-09-12T16:56:06.417Z"
   },
   {
    "duration": 11,
    "start_time": "2021-09-12T16:56:06.474Z"
   },
   {
    "duration": 7,
    "start_time": "2021-09-12T16:56:06.487Z"
   },
   {
    "duration": 39,
    "start_time": "2021-09-12T16:56:06.497Z"
   },
   {
    "duration": 38,
    "start_time": "2021-09-12T16:56:06.538Z"
   },
   {
    "duration": 11,
    "start_time": "2021-09-12T16:56:06.579Z"
   },
   {
    "duration": 7,
    "start_time": "2021-09-12T16:56:06.593Z"
   },
   {
    "duration": 7,
    "start_time": "2021-09-12T16:56:06.604Z"
   },
   {
    "duration": 23,
    "start_time": "2021-09-12T16:56:06.667Z"
   },
   {
    "duration": 19,
    "start_time": "2021-09-12T16:56:06.694Z"
   },
   {
    "duration": 9,
    "start_time": "2021-09-12T16:56:06.716Z"
   },
   {
    "duration": 49,
    "start_time": "2021-09-12T16:56:06.728Z"
   },
   {
    "duration": 11,
    "start_time": "2021-09-12T16:56:06.780Z"
   },
   {
    "duration": 11,
    "start_time": "2021-09-12T16:56:06.794Z"
   },
   {
    "duration": 7,
    "start_time": "2021-09-12T16:56:06.807Z"
   },
   {
    "duration": 54,
    "start_time": "2021-09-12T16:56:06.817Z"
   },
   {
    "duration": 9,
    "start_time": "2021-09-12T16:56:06.874Z"
   },
   {
    "duration": 11,
    "start_time": "2021-09-12T16:56:06.885Z"
   },
   {
    "duration": 170,
    "start_time": "2021-09-12T16:56:06.899Z"
   },
   {
    "duration": 201,
    "start_time": "2021-09-12T16:56:07.074Z"
   },
   {
    "duration": 17,
    "start_time": "2021-09-12T16:56:07.368Z"
   },
   {
    "duration": 5,
    "start_time": "2021-09-12T16:56:07.387Z"
   },
   {
    "duration": 74,
    "start_time": "2021-09-12T16:56:07.395Z"
   },
   {
    "duration": 10,
    "start_time": "2021-09-12T16:56:07.472Z"
   },
   {
    "duration": 286,
    "start_time": "2021-09-12T16:56:07.484Z"
   },
   {
    "duration": 197,
    "start_time": "2021-09-12T16:56:07.773Z"
   },
   {
    "duration": 9,
    "start_time": "2021-09-12T16:56:07.972Z"
   },
   {
    "duration": 290,
    "start_time": "2021-09-12T16:56:07.983Z"
   },
   {
    "duration": 193,
    "start_time": "2021-09-12T16:56:08.276Z"
   },
   {
    "duration": 99,
    "start_time": "2021-09-12T16:56:08.472Z"
   },
   {
    "duration": 31,
    "start_time": "2021-09-12T16:56:08.573Z"
   },
   {
    "duration": 64,
    "start_time": "2021-09-12T16:56:08.607Z"
   },
   {
    "duration": 7,
    "start_time": "2021-09-12T16:56:08.674Z"
   },
   {
    "duration": 8,
    "start_time": "2021-09-12T16:56:08.684Z"
   },
   {
    "duration": 277,
    "start_time": "2021-09-12T16:56:08.694Z"
   },
   {
    "duration": 102,
    "start_time": "2021-09-12T16:56:08.975Z"
   },
   {
    "duration": 89,
    "start_time": "2021-09-12T16:56:09.080Z"
   },
   {
    "duration": 5373,
    "start_time": "2021-09-12T16:56:09.173Z"
   },
   {
    "duration": 472,
    "start_time": "2021-09-12T16:56:14.550Z"
   },
   {
    "duration": 45,
    "start_time": "2021-09-12T16:56:15.025Z"
   },
   {
    "duration": 5,
    "start_time": "2021-09-12T16:56:15.072Z"
   },
   {
    "duration": 10,
    "start_time": "2021-09-12T16:56:15.080Z"
   },
   {
    "duration": 586,
    "start_time": "2021-09-12T16:56:15.094Z"
   },
   {
    "duration": 414,
    "start_time": "2021-09-12T16:56:15.683Z"
   },
   {
    "duration": 34,
    "start_time": "2021-09-12T16:56:16.099Z"
   },
   {
    "duration": 6,
    "start_time": "2021-09-12T16:56:16.135Z"
   },
   {
    "duration": 341,
    "start_time": "2021-09-12T16:56:16.143Z"
   },
   {
    "duration": 34,
    "start_time": "2021-09-12T16:56:16.486Z"
   },
   {
    "duration": 56,
    "start_time": "2021-09-12T16:56:16.522Z"
   },
   {
    "duration": 1613,
    "start_time": "2021-09-12T17:02:15.693Z"
   },
   {
    "duration": 3,
    "start_time": "2021-09-12T17:02:17.308Z"
   },
   {
    "duration": 41,
    "start_time": "2021-09-12T17:02:17.314Z"
   },
   {
    "duration": 27,
    "start_time": "2021-09-12T17:02:17.358Z"
   },
   {
    "duration": 6,
    "start_time": "2021-09-12T17:02:17.387Z"
   },
   {
    "duration": 92,
    "start_time": "2021-09-12T17:02:17.395Z"
   },
   {
    "duration": 9,
    "start_time": "2021-09-12T17:02:17.489Z"
   },
   {
    "duration": 15,
    "start_time": "2021-09-12T17:02:17.501Z"
   },
   {
    "duration": 50,
    "start_time": "2021-09-12T17:02:17.519Z"
   },
   {
    "duration": 9,
    "start_time": "2021-09-12T17:02:17.572Z"
   },
   {
    "duration": 11,
    "start_time": "2021-09-12T17:02:17.583Z"
   },
   {
    "duration": 7,
    "start_time": "2021-09-12T17:02:17.597Z"
   },
   {
    "duration": 9,
    "start_time": "2021-09-12T17:02:17.607Z"
   },
   {
    "duration": 52,
    "start_time": "2021-09-12T17:02:17.619Z"
   },
   {
    "duration": 9,
    "start_time": "2021-09-12T17:02:17.674Z"
   },
   {
    "duration": 23,
    "start_time": "2021-09-12T17:02:17.685Z"
   },
   {
    "duration": 5,
    "start_time": "2021-09-12T17:02:17.711Z"
   },
   {
    "duration": 52,
    "start_time": "2021-09-12T17:02:17.719Z"
   },
   {
    "duration": 10,
    "start_time": "2021-09-12T17:02:17.773Z"
   },
   {
    "duration": 16,
    "start_time": "2021-09-12T17:02:17.785Z"
   },
   {
    "duration": 7,
    "start_time": "2021-09-12T17:02:17.804Z"
   },
   {
    "duration": 8,
    "start_time": "2021-09-12T17:02:17.814Z"
   },
   {
    "duration": 21,
    "start_time": "2021-09-12T17:02:17.869Z"
   },
   {
    "duration": 73,
    "start_time": "2021-09-12T17:02:17.893Z"
   },
   {
    "duration": 7,
    "start_time": "2021-09-12T17:02:17.969Z"
   },
   {
    "duration": 24,
    "start_time": "2021-09-12T17:02:17.978Z"
   },
   {
    "duration": 9,
    "start_time": "2021-09-12T17:02:18.004Z"
   },
   {
    "duration": 57,
    "start_time": "2021-09-12T17:02:18.015Z"
   },
   {
    "duration": 6,
    "start_time": "2021-09-12T17:02:18.074Z"
   },
   {
    "duration": 19,
    "start_time": "2021-09-12T17:02:18.082Z"
   },
   {
    "duration": 66,
    "start_time": "2021-09-12T17:02:18.104Z"
   },
   {
    "duration": 6,
    "start_time": "2021-09-12T17:02:18.172Z"
   },
   {
    "duration": 286,
    "start_time": "2021-09-12T17:02:18.181Z"
   },
   {
    "duration": 98,
    "start_time": "2021-09-12T17:02:18.471Z"
   },
   {
    "duration": 120,
    "start_time": "2021-09-12T17:02:18.573Z"
   },
   {
    "duration": 5,
    "start_time": "2021-09-12T17:02:18.696Z"
   },
   {
    "duration": 12,
    "start_time": "2021-09-12T17:02:18.704Z"
   },
   {
    "duration": 55,
    "start_time": "2021-09-12T17:02:18.718Z"
   },
   {
    "duration": 295,
    "start_time": "2021-09-12T17:02:18.776Z"
   },
   {
    "duration": 103,
    "start_time": "2021-09-12T17:02:19.074Z"
   },
   {
    "duration": 99,
    "start_time": "2021-09-12T17:02:19.269Z"
   },
   {
    "duration": 197,
    "start_time": "2021-09-12T17:02:19.371Z"
   },
   {
    "duration": 190,
    "start_time": "2021-09-12T17:02:19.577Z"
   },
   {
    "duration": 98,
    "start_time": "2021-09-12T17:02:19.772Z"
   },
   {
    "duration": 48,
    "start_time": "2021-09-12T17:02:19.872Z"
   },
   {
    "duration": 12,
    "start_time": "2021-09-12T17:02:19.922Z"
   },
   {
    "duration": 19,
    "start_time": "2021-09-12T17:02:19.936Z"
   },
   {
    "duration": 22,
    "start_time": "2021-09-12T17:02:19.957Z"
   },
   {
    "duration": 190,
    "start_time": "2021-09-12T17:02:19.982Z"
   },
   {
    "duration": 200,
    "start_time": "2021-09-12T17:02:20.176Z"
   },
   {
    "duration": 89,
    "start_time": "2021-09-12T17:02:20.381Z"
   },
   {
    "duration": 4672,
    "start_time": "2021-09-12T17:02:20.472Z"
   },
   {
    "duration": 527,
    "start_time": "2021-09-12T17:02:25.147Z"
   },
   {
    "duration": 41,
    "start_time": "2021-09-12T17:02:25.677Z"
   },
   {
    "duration": 6,
    "start_time": "2021-09-12T17:02:25.721Z"
   },
   {
    "duration": 38,
    "start_time": "2021-09-12T17:02:25.729Z"
   },
   {
    "duration": 576,
    "start_time": "2021-09-12T17:02:25.770Z"
   },
   {
    "duration": 425,
    "start_time": "2021-09-12T17:02:26.349Z"
   },
   {
    "duration": 32,
    "start_time": "2021-09-12T17:02:26.777Z"
   },
   {
    "duration": 5,
    "start_time": "2021-09-12T17:02:26.811Z"
   },
   {
    "duration": 318,
    "start_time": "2021-09-12T17:02:26.819Z"
   },
   {
    "duration": 46,
    "start_time": "2021-09-12T17:02:27.139Z"
   },
   {
    "duration": 34,
    "start_time": "2021-09-12T17:02:27.188Z"
   },
   {
    "duration": 1482,
    "start_time": "2021-09-12T17:04:21.444Z"
   },
   {
    "duration": 3,
    "start_time": "2021-09-12T17:04:22.929Z"
   },
   {
    "duration": 40,
    "start_time": "2021-09-12T17:04:22.935Z"
   },
   {
    "duration": 23,
    "start_time": "2021-09-12T17:04:22.978Z"
   },
   {
    "duration": 5,
    "start_time": "2021-09-12T17:04:23.003Z"
   },
   {
    "duration": 91,
    "start_time": "2021-09-12T17:04:23.010Z"
   },
   {
    "duration": 10,
    "start_time": "2021-09-12T17:04:23.104Z"
   },
   {
    "duration": 12,
    "start_time": "2021-09-12T17:04:23.118Z"
   },
   {
    "duration": 57,
    "start_time": "2021-09-12T17:04:23.133Z"
   },
   {
    "duration": 11,
    "start_time": "2021-09-12T17:04:23.193Z"
   },
   {
    "duration": 13,
    "start_time": "2021-09-12T17:04:23.207Z"
   },
   {
    "duration": 14,
    "start_time": "2021-09-12T17:04:23.223Z"
   },
   {
    "duration": 10,
    "start_time": "2021-09-12T17:04:23.268Z"
   },
   {
    "duration": 11,
    "start_time": "2021-09-12T17:04:23.281Z"
   },
   {
    "duration": 9,
    "start_time": "2021-09-12T17:04:23.294Z"
   },
   {
    "duration": 7,
    "start_time": "2021-09-12T17:04:23.305Z"
   },
   {
    "duration": 4,
    "start_time": "2021-09-12T17:04:23.314Z"
   },
   {
    "duration": 29,
    "start_time": "2021-09-12T17:04:23.368Z"
   },
   {
    "duration": 14,
    "start_time": "2021-09-12T17:04:23.399Z"
   },
   {
    "duration": 8,
    "start_time": "2021-09-12T17:04:23.415Z"
   },
   {
    "duration": 6,
    "start_time": "2021-09-12T17:04:23.425Z"
   },
   {
    "duration": 35,
    "start_time": "2021-09-12T17:04:23.434Z"
   },
   {
    "duration": 20,
    "start_time": "2021-09-12T17:04:23.474Z"
   },
   {
    "duration": 17,
    "start_time": "2021-09-12T17:04:23.497Z"
   },
   {
    "duration": 8,
    "start_time": "2021-09-12T17:04:23.516Z"
   },
   {
    "duration": 54,
    "start_time": "2021-09-12T17:04:23.526Z"
   },
   {
    "duration": 8,
    "start_time": "2021-09-12T17:04:23.583Z"
   },
   {
    "duration": 8,
    "start_time": "2021-09-12T17:04:23.594Z"
   },
   {
    "duration": 9,
    "start_time": "2021-09-12T17:04:23.605Z"
   },
   {
    "duration": 9,
    "start_time": "2021-09-12T17:04:23.616Z"
   },
   {
    "duration": 43,
    "start_time": "2021-09-12T17:04:23.627Z"
   },
   {
    "duration": 3,
    "start_time": "2021-09-12T17:04:23.673Z"
   },
   {
    "duration": 190,
    "start_time": "2021-09-12T17:04:23.679Z"
   },
   {
    "duration": 101,
    "start_time": "2021-09-12T17:04:23.873Z"
   },
   {
    "duration": 107,
    "start_time": "2021-09-12T17:04:23.977Z"
   },
   {
    "duration": 12,
    "start_time": "2021-09-12T17:04:24.086Z"
   },
   {
    "duration": 77,
    "start_time": "2021-09-12T17:04:24.100Z"
   },
   {
    "duration": 11,
    "start_time": "2021-09-12T17:04:24.180Z"
   },
   {
    "duration": 182,
    "start_time": "2021-09-12T17:04:24.193Z"
   },
   {
    "duration": 12,
    "start_time": "2021-09-12T17:04:24.468Z"
   },
   {
    "duration": 184,
    "start_time": "2021-09-12T17:04:24.483Z"
   },
   {
    "duration": 204,
    "start_time": "2021-09-12T17:04:24.670Z"
   },
   {
    "duration": 621,
    "start_time": "2021-09-12T17:04:24.877Z"
   },
   {
    "duration": 886,
    "start_time": "2021-09-12T17:04:24.614Z"
   },
   {
    "duration": 884,
    "start_time": "2021-09-12T17:04:24.618Z"
   },
   {
    "duration": 884,
    "start_time": "2021-09-12T17:04:24.621Z"
   },
   {
    "duration": 884,
    "start_time": "2021-09-12T17:04:24.623Z"
   },
   {
    "duration": 883,
    "start_time": "2021-09-12T17:04:24.626Z"
   },
   {
    "duration": 884,
    "start_time": "2021-09-12T17:04:24.628Z"
   },
   {
    "duration": 884,
    "start_time": "2021-09-12T17:04:24.630Z"
   },
   {
    "duration": 884,
    "start_time": "2021-09-12T17:04:24.632Z"
   },
   {
    "duration": 883,
    "start_time": "2021-09-12T17:04:24.635Z"
   },
   {
    "duration": 882,
    "start_time": "2021-09-12T17:04:24.638Z"
   },
   {
    "duration": 883,
    "start_time": "2021-09-12T17:04:24.640Z"
   },
   {
    "duration": 883,
    "start_time": "2021-09-12T17:04:24.642Z"
   },
   {
    "duration": 883,
    "start_time": "2021-09-12T17:04:24.644Z"
   },
   {
    "duration": 884,
    "start_time": "2021-09-12T17:04:24.646Z"
   },
   {
    "duration": 883,
    "start_time": "2021-09-12T17:04:24.649Z"
   },
   {
    "duration": 883,
    "start_time": "2021-09-12T17:04:24.651Z"
   },
   {
    "duration": 882,
    "start_time": "2021-09-12T17:04:24.655Z"
   },
   {
    "duration": 882,
    "start_time": "2021-09-12T17:04:24.657Z"
   },
   {
    "duration": 881,
    "start_time": "2021-09-12T17:04:24.660Z"
   },
   {
    "duration": 905,
    "start_time": "2021-09-12T17:04:24.662Z"
   },
   {
    "duration": 800,
    "start_time": "2021-09-12T17:04:24.768Z"
   },
   {
    "duration": 799,
    "start_time": "2021-09-12T17:04:24.771Z"
   },
   {
    "duration": 2370,
    "start_time": "2021-09-12T17:04:52.216Z"
   },
   {
    "duration": 4,
    "start_time": "2021-09-12T17:04:54.589Z"
   },
   {
    "duration": 462,
    "start_time": "2021-09-12T17:04:54.596Z"
   },
   {
    "duration": 23,
    "start_time": "2021-09-12T17:04:55.061Z"
   },
   {
    "duration": 13,
    "start_time": "2021-09-12T17:04:55.086Z"
   },
   {
    "duration": 82,
    "start_time": "2021-09-12T17:04:55.101Z"
   },
   {
    "duration": 9,
    "start_time": "2021-09-12T17:04:55.185Z"
   },
   {
    "duration": 22,
    "start_time": "2021-09-12T17:04:55.198Z"
   },
   {
    "duration": 25,
    "start_time": "2021-09-12T17:04:55.223Z"
   },
   {
    "duration": 8,
    "start_time": "2021-09-12T17:04:55.267Z"
   },
   {
    "duration": 21,
    "start_time": "2021-09-12T17:04:55.277Z"
   },
   {
    "duration": 9,
    "start_time": "2021-09-12T17:04:55.300Z"
   },
   {
    "duration": 13,
    "start_time": "2021-09-12T17:04:55.311Z"
   },
   {
    "duration": 11,
    "start_time": "2021-09-12T17:04:55.326Z"
   },
   {
    "duration": 35,
    "start_time": "2021-09-12T17:04:55.339Z"
   },
   {
    "duration": 9,
    "start_time": "2021-09-12T17:04:55.376Z"
   },
   {
    "duration": 3,
    "start_time": "2021-09-12T17:04:55.388Z"
   },
   {
    "duration": 35,
    "start_time": "2021-09-12T17:04:55.394Z"
   },
   {
    "duration": 42,
    "start_time": "2021-09-12T17:04:55.432Z"
   },
   {
    "duration": 8,
    "start_time": "2021-09-12T17:04:55.477Z"
   },
   {
    "duration": 7,
    "start_time": "2021-09-12T17:04:55.488Z"
   },
   {
    "duration": 8,
    "start_time": "2021-09-12T17:04:55.497Z"
   },
   {
    "duration": 61,
    "start_time": "2021-09-12T17:04:55.511Z"
   },
   {
    "duration": 17,
    "start_time": "2021-09-12T17:04:55.575Z"
   },
   {
    "duration": 13,
    "start_time": "2021-09-12T17:04:55.594Z"
   },
   {
    "duration": 13,
    "start_time": "2021-09-12T17:04:55.609Z"
   },
   {
    "duration": 8,
    "start_time": "2021-09-12T17:04:55.624Z"
   },
   {
    "duration": 34,
    "start_time": "2021-09-12T17:04:55.634Z"
   },
   {
    "duration": 17,
    "start_time": "2021-09-12T17:04:55.670Z"
   },
   {
    "duration": 15,
    "start_time": "2021-09-12T17:04:55.689Z"
   },
   {
    "duration": 9,
    "start_time": "2021-09-12T17:04:55.707Z"
   },
   {
    "duration": 6,
    "start_time": "2021-09-12T17:04:55.718Z"
   },
   {
    "duration": 149,
    "start_time": "2021-09-12T17:04:55.726Z"
   },
   {
    "duration": 12,
    "start_time": "2021-09-12T17:04:55.967Z"
   },
   {
    "duration": 187,
    "start_time": "2021-09-12T17:04:55.983Z"
   },
   {
    "duration": 4,
    "start_time": "2021-09-12T17:04:56.173Z"
   },
   {
    "duration": 13,
    "start_time": "2021-09-12T17:04:56.180Z"
   },
   {
    "duration": 11,
    "start_time": "2021-09-12T17:04:56.195Z"
   },
   {
    "duration": 160,
    "start_time": "2021-09-12T17:04:56.209Z"
   },
   {
    "duration": 97,
    "start_time": "2021-09-12T17:04:56.372Z"
   },
   {
    "duration": 101,
    "start_time": "2021-09-12T17:04:56.472Z"
   },
   {
    "duration": 109,
    "start_time": "2021-09-12T17:04:56.576Z"
   },
   {
    "duration": 99,
    "start_time": "2021-09-12T17:04:56.770Z"
   },
   {
    "duration": 194,
    "start_time": "2021-09-12T17:04:56.873Z"
   },
   {
    "duration": 104,
    "start_time": "2021-09-12T17:04:57.071Z"
   },
   {
    "duration": 159,
    "start_time": "2021-09-12T17:04:57.269Z"
   },
   {
    "duration": 33,
    "start_time": "2021-09-12T17:04:57.431Z"
   },
   {
    "duration": 11,
    "start_time": "2021-09-12T17:04:57.466Z"
   },
   {
    "duration": 11,
    "start_time": "2021-09-12T17:04:57.479Z"
   },
   {
    "duration": 17,
    "start_time": "2021-09-12T17:04:57.492Z"
   },
   {
    "duration": 162,
    "start_time": "2021-09-12T17:04:57.511Z"
   },
   {
    "duration": 101,
    "start_time": "2021-09-12T17:04:57.676Z"
   },
   {
    "duration": 188,
    "start_time": "2021-09-12T17:04:57.780Z"
   },
   {
    "duration": 4838,
    "start_time": "2021-09-12T17:04:57.971Z"
   },
   {
    "duration": 484,
    "start_time": "2021-09-12T17:05:02.812Z"
   },
   {
    "duration": 41,
    "start_time": "2021-09-12T17:05:03.298Z"
   },
   {
    "duration": 6,
    "start_time": "2021-09-12T17:05:03.341Z"
   },
   {
    "duration": 5,
    "start_time": "2021-09-12T17:05:03.368Z"
   },
   {
    "duration": 555,
    "start_time": "2021-09-12T17:05:03.375Z"
   },
   {
    "duration": 417,
    "start_time": "2021-09-12T17:05:03.932Z"
   },
   {
    "duration": 39,
    "start_time": "2021-09-12T17:05:04.352Z"
   },
   {
    "duration": 5,
    "start_time": "2021-09-12T17:05:04.394Z"
   },
   {
    "duration": 308,
    "start_time": "2021-09-12T17:05:04.401Z"
   },
   {
    "duration": 33,
    "start_time": "2021-09-12T17:05:04.711Z"
   },
   {
    "duration": 52,
    "start_time": "2021-09-12T17:05:04.746Z"
   }
  ],
  "kernelspec": {
   "display_name": "Python 3 (ipykernel)",
   "language": "python",
   "name": "python3"
  },
  "language_info": {
   "codemirror_mode": {
    "name": "ipython",
    "version": 3
   },
   "file_extension": ".py",
   "mimetype": "text/x-python",
   "name": "python",
   "nbconvert_exporter": "python",
   "pygments_lexer": "ipython3",
   "version": "3.9.7"
  },
  "toc": {
   "base_numbering": 1,
   "nav_menu": {},
   "number_sections": true,
   "sideBar": true,
   "skip_h1_title": true,
   "title_cell": "Содержание",
   "title_sidebar": "Contents",
   "toc_cell": true,
   "toc_position": {
    "height": "calc(100% - 180px)",
    "left": "10px",
    "top": "150px",
    "width": "215.085px"
   },
   "toc_section_display": true,
   "toc_window_display": true
  }
 },
 "nbformat": 4,
 "nbformat_minor": 2
}
