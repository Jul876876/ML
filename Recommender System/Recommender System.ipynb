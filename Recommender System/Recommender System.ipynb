{
 "cells": [
  {
   "cell_type": "markdown",
   "metadata": {},
   "source": [
    "<h1>Contents<span class=\"tocSkip\"></span></h1>\n",
    "<div class=\"toc\"><ul class=\"toc-item\"><li><span><a href=\"#Data-Preparation\" data-toc-modified-id=\"Data-Preparation-1\"><span class=\"toc-item-num\">1&nbsp;&nbsp;</span>Data Preparation</a></span></li><li><span><a href=\"#Analysis-and-Model-training\" data-toc-modified-id=\"Splitting-the-data-2\"><span class=\"toc-item-num\">2&nbsp;&nbsp;</span>Splitting the data</a></span></li><li><span><a href=\"#Model-Selection\" data-toc-modified-id=\"Model-Selection-3\"><span class=\"toc-item-num\">3&nbsp;&nbsp;</span>Model Selection</a></span></li><li><span><a href=\"#Model-Testing\" data-toc-modified-id=\"Model-testing-4\"><span class=\"toc-item-num\">4&nbsp;&nbsp;</span>Model Testing</a></span></li><li><span><a href=\"#Model-Adequacy-Check\" data-toc-modified-id=\"Model-Adequacy-Check-5\"><span class=\"toc-item-num\">5&nbsp;&nbsp;</span>Model Adequacy Check</a></span></li></ul></div>"
   ]
  },
  {
   "cell_type": "markdown",
   "metadata": {},
   "source": [
    "# Recommender System Development"
   ]
  },
  {
   "cell_type": "markdown",
   "metadata": {},
   "source": [
    "Goal: develop a machine learning algorithm for recommender system development.  \n",
    "\n",
    "Requirements: accuracy not less than 0.75 for the test set. "
   ]
  },
  {
   "cell_type": "markdown",
   "metadata": {},
   "source": [
    "## Data Preparation"
   ]
  },
  {
   "cell_type": "markdown",
   "metadata": {},
   "source": [
    "Upload the data and the necessary libraries"
   ]
  },
  {
   "cell_type": "code",
   "execution_count": 1,
   "metadata": {},
   "outputs": [],
   "source": [
    "import pandas as pd\n",
    "import numpy as np\n",
    "\n",
    "from sklearn.tree import DecisionTreeClassifier\n",
    "from sklearn.ensemble import RandomForestClassifier\n",
    "from sklearn.linear_model import LogisticRegression\n",
    "\n",
    "from sklearn.model_selection import train_test_split\n",
    "from sklearn.metrics import accuracy_score\n",
    "from sklearn.metrics import mean_squared_error\n",
    "import matplotlib.pyplot as plt\n",
    "\n",
    "import warnings\n",
    "warnings.filterwarnings('ignore')"
   ]
  },
  {
   "cell_type": "code",
   "execution_count": 2,
   "metadata": {},
   "outputs": [],
   "source": [
    "#df = pd.read_csv('/datasets/users_behavior.csv')\n",
    "df = pd.read_csv(r'C:\\Users\\HP\\Downloads\\users_behavior.csv')"
   ]
  },
  {
   "cell_type": "code",
   "execution_count": 3,
   "metadata": {},
   "outputs": [
    {
     "data": {
      "text/html": [
       "<div>\n",
       "<style scoped>\n",
       "    .dataframe tbody tr th:only-of-type {\n",
       "        vertical-align: middle;\n",
       "    }\n",
       "\n",
       "    .dataframe tbody tr th {\n",
       "        vertical-align: top;\n",
       "    }\n",
       "\n",
       "    .dataframe thead th {\n",
       "        text-align: right;\n",
       "    }\n",
       "</style>\n",
       "<table border=\"1\" class=\"dataframe\">\n",
       "  <thead>\n",
       "    <tr style=\"text-align: right;\">\n",
       "      <th></th>\n",
       "      <th>calls</th>\n",
       "      <th>minutes</th>\n",
       "      <th>messages</th>\n",
       "      <th>mb_used</th>\n",
       "      <th>is_ultra</th>\n",
       "    </tr>\n",
       "  </thead>\n",
       "  <tbody>\n",
       "    <tr>\n",
       "      <th>0</th>\n",
       "      <td>40.0</td>\n",
       "      <td>311.90</td>\n",
       "      <td>83.0</td>\n",
       "      <td>19915.42</td>\n",
       "      <td>0</td>\n",
       "    </tr>\n",
       "    <tr>\n",
       "      <th>1</th>\n",
       "      <td>85.0</td>\n",
       "      <td>516.75</td>\n",
       "      <td>56.0</td>\n",
       "      <td>22696.96</td>\n",
       "      <td>0</td>\n",
       "    </tr>\n",
       "    <tr>\n",
       "      <th>2</th>\n",
       "      <td>77.0</td>\n",
       "      <td>467.66</td>\n",
       "      <td>86.0</td>\n",
       "      <td>21060.45</td>\n",
       "      <td>0</td>\n",
       "    </tr>\n",
       "    <tr>\n",
       "      <th>3</th>\n",
       "      <td>106.0</td>\n",
       "      <td>745.53</td>\n",
       "      <td>81.0</td>\n",
       "      <td>8437.39</td>\n",
       "      <td>1</td>\n",
       "    </tr>\n",
       "    <tr>\n",
       "      <th>4</th>\n",
       "      <td>66.0</td>\n",
       "      <td>418.74</td>\n",
       "      <td>1.0</td>\n",
       "      <td>14502.75</td>\n",
       "      <td>0</td>\n",
       "    </tr>\n",
       "  </tbody>\n",
       "</table>\n",
       "</div>"
      ],
      "text/plain": [
       "   calls  minutes  messages   mb_used  is_ultra\n",
       "0   40.0   311.90      83.0  19915.42         0\n",
       "1   85.0   516.75      56.0  22696.96         0\n",
       "2   77.0   467.66      86.0  21060.45         0\n",
       "3  106.0   745.53      81.0   8437.39         1\n",
       "4   66.0   418.74       1.0  14502.75         0"
      ]
     },
     "execution_count": 3,
     "metadata": {},
     "output_type": "execute_result"
    }
   ],
   "source": [
    "df.head()"
   ]
  },
  {
   "cell_type": "code",
   "execution_count": 4,
   "metadata": {},
   "outputs": [
    {
     "name": "stdout",
     "output_type": "stream",
     "text": [
      "<class 'pandas.core.frame.DataFrame'>\n",
      "RangeIndex: 3214 entries, 0 to 3213\n",
      "Data columns (total 5 columns):\n",
      " #   Column    Non-Null Count  Dtype  \n",
      "---  ------    --------------  -----  \n",
      " 0   calls     3214 non-null   float64\n",
      " 1   minutes   3214 non-null   float64\n",
      " 2   messages  3214 non-null   float64\n",
      " 3   mb_used   3214 non-null   float64\n",
      " 4   is_ultra  3214 non-null   int64  \n",
      "dtypes: float64(4), int64(1)\n",
      "memory usage: 125.7 KB\n"
     ]
    }
   ],
   "source": [
    "df.info()"
   ]
  },
  {
   "cell_type": "code",
   "execution_count": 5,
   "metadata": {},
   "outputs": [
    {
     "data": {
      "text/html": [
       "<div>\n",
       "<style scoped>\n",
       "    .dataframe tbody tr th:only-of-type {\n",
       "        vertical-align: middle;\n",
       "    }\n",
       "\n",
       "    .dataframe tbody tr th {\n",
       "        vertical-align: top;\n",
       "    }\n",
       "\n",
       "    .dataframe thead th {\n",
       "        text-align: right;\n",
       "    }\n",
       "</style>\n",
       "<table border=\"1\" class=\"dataframe\">\n",
       "  <thead>\n",
       "    <tr style=\"text-align: right;\">\n",
       "      <th></th>\n",
       "      <th>calls</th>\n",
       "      <th>minutes</th>\n",
       "      <th>messages</th>\n",
       "      <th>mb_used</th>\n",
       "      <th>is_ultra</th>\n",
       "    </tr>\n",
       "  </thead>\n",
       "  <tbody>\n",
       "    <tr>\n",
       "      <th>count</th>\n",
       "      <td>3214.000000</td>\n",
       "      <td>3214.000000</td>\n",
       "      <td>3214.000000</td>\n",
       "      <td>3214.000000</td>\n",
       "      <td>3214.000000</td>\n",
       "    </tr>\n",
       "    <tr>\n",
       "      <th>mean</th>\n",
       "      <td>63.038892</td>\n",
       "      <td>438.208787</td>\n",
       "      <td>38.281269</td>\n",
       "      <td>17207.673836</td>\n",
       "      <td>0.306472</td>\n",
       "    </tr>\n",
       "    <tr>\n",
       "      <th>std</th>\n",
       "      <td>33.236368</td>\n",
       "      <td>234.569872</td>\n",
       "      <td>36.148326</td>\n",
       "      <td>7570.968246</td>\n",
       "      <td>0.461100</td>\n",
       "    </tr>\n",
       "    <tr>\n",
       "      <th>min</th>\n",
       "      <td>0.000000</td>\n",
       "      <td>0.000000</td>\n",
       "      <td>0.000000</td>\n",
       "      <td>0.000000</td>\n",
       "      <td>0.000000</td>\n",
       "    </tr>\n",
       "    <tr>\n",
       "      <th>25%</th>\n",
       "      <td>40.000000</td>\n",
       "      <td>274.575000</td>\n",
       "      <td>9.000000</td>\n",
       "      <td>12491.902500</td>\n",
       "      <td>0.000000</td>\n",
       "    </tr>\n",
       "    <tr>\n",
       "      <th>50%</th>\n",
       "      <td>62.000000</td>\n",
       "      <td>430.600000</td>\n",
       "      <td>30.000000</td>\n",
       "      <td>16943.235000</td>\n",
       "      <td>0.000000</td>\n",
       "    </tr>\n",
       "    <tr>\n",
       "      <th>75%</th>\n",
       "      <td>82.000000</td>\n",
       "      <td>571.927500</td>\n",
       "      <td>57.000000</td>\n",
       "      <td>21424.700000</td>\n",
       "      <td>1.000000</td>\n",
       "    </tr>\n",
       "    <tr>\n",
       "      <th>max</th>\n",
       "      <td>244.000000</td>\n",
       "      <td>1632.060000</td>\n",
       "      <td>224.000000</td>\n",
       "      <td>49745.730000</td>\n",
       "      <td>1.000000</td>\n",
       "    </tr>\n",
       "  </tbody>\n",
       "</table>\n",
       "</div>"
      ],
      "text/plain": [
       "             calls      minutes     messages       mb_used     is_ultra\n",
       "count  3214.000000  3214.000000  3214.000000   3214.000000  3214.000000\n",
       "mean     63.038892   438.208787    38.281269  17207.673836     0.306472\n",
       "std      33.236368   234.569872    36.148326   7570.968246     0.461100\n",
       "min       0.000000     0.000000     0.000000      0.000000     0.000000\n",
       "25%      40.000000   274.575000     9.000000  12491.902500     0.000000\n",
       "50%      62.000000   430.600000    30.000000  16943.235000     0.000000\n",
       "75%      82.000000   571.927500    57.000000  21424.700000     1.000000\n",
       "max     244.000000  1632.060000   224.000000  49745.730000     1.000000"
      ]
     },
     "execution_count": 5,
     "metadata": {},
     "output_type": "execute_result"
    }
   ],
   "source": [
    "df.describe()"
   ]
  },
  {
   "cell_type": "markdown",
   "metadata": {},
   "source": [
    "Multicollinearity check"
   ]
  },
  {
   "cell_type": "code",
   "execution_count": null,
   "metadata": {},
   "outputs": [],
   "source": [
    "df.loc[:, ['calls', 'minutes', 'messages', 'mb_used']].corr()"
   ]
  },
  {
   "cell_type": "code",
   "execution_count": 7,
   "metadata": {},
   "outputs": [
    {
     "data": {
      "image/png": "[encoded data removed]",
      "text/plain": [
       "<Figure size 864x864 with 25 Axes>"
      ]
     },
     "metadata": {
      "needs_background": "light"
     },
     "output_type": "display_data"
    }
   ],
   "source": [
    "pd.plotting.scatter_matrix(df, figsize=(12, 12));"
   ]
  },
  {
   "cell_type": "markdown",
   "metadata": {},
   "source": [
    "From correlation table and scatter matrix is seen that features 'minutes' and 'calls' are closely correlated. One of them should be romoved for further analysis."
   ]
  },
  {
   "cell_type": "code",
   "execution_count": 8,
   "metadata": {},
   "outputs": [],
   "source": [
    "df = df.drop(['minutes'], axis=1)"
   ]
  },
  {
   "cell_type": "markdown",
   "metadata": {},
   "source": [
    "__Summary__\n",
    "\n",
    "Dataset was uploaded and prepared for further analysis."
   ]
  },
  {
   "cell_type": "markdown",
   "metadata": {},
   "source": [
    "## Splitting the data"
   ]
  },
  {
   "cell_type": "code",
   "execution_count": 9,
   "metadata": {},
   "outputs": [],
   "source": [
    "features = df.drop(['is_ultra'], axis=1)\n",
    "target = df['is_ultra']"
   ]
  },
  {
   "cell_type": "code",
   "execution_count": 10,
   "metadata": {},
   "outputs": [],
   "source": [
    "#Splitting with stratify parameter\n",
    "features_train, features_valid, target_train, target_valid = train_test_split(\n",
    "    features, target, test_size=0.20, random_state=12345, stratify=target)"
   ]
  },
  {
   "cell_type": "code",
   "execution_count": 11,
   "metadata": {},
   "outputs": [],
   "source": [
    "#Splitting with stratify parameter\n",
    "features_train, features_test, target_train, target_test = train_test_split(\n",
    "    features_train, target_train, test_size=0.25, random_state=12345, stratify=target_train)"
   ]
  },
  {
   "cell_type": "code",
   "execution_count": 12,
   "metadata": {},
   "outputs": [
    {
     "name": "stdout",
     "output_type": "stream",
     "text": [
      "Trainig set: 1928 \n",
      "Test set: 643 \n",
      "Validation set: 643\n"
     ]
    }
   ],
   "source": [
    "print('Trainig set:', len(features_train), '\\n'\n",
    "     'Test set:', len(features_test), '\\n'\n",
    "     'Validation set:', len(features_valid))"
   ]
  },
  {
   "cell_type": "markdown",
   "metadata": {},
   "source": [
    "## Model Selection "
   ]
  },
  {
   "cell_type": "markdown",
   "metadata": {},
   "source": [
    "__Check Decision Tree Classifier performance__"
   ]
  },
  {
   "cell_type": "code",
   "execution_count": 13,
   "metadata": {},
   "outputs": [
    {
     "name": "stdout",
     "output_type": "stream",
     "text": [
      "Accuracy of the best Decision Tree Classifier model for validation set: 0.810\n",
      "Tree depth: 5\n"
     ]
    }
   ],
   "source": [
    "best_model_DecisionTree = None\n",
    "best_result = 0\n",
    "for depth in range(1, 11):\n",
    "    model = DecisionTreeClassifier(random_state=12345, max_depth=depth) \n",
    "    model.fit(features_train, target_train) \n",
    "    predictions = model.predict(features_valid)\n",
    "    result = accuracy_score(target_valid, predictions) \n",
    "    if result > best_result:\n",
    "        best_model_DecisionTree = model\n",
    "        best_result = result\n",
    "        best_depth = depth\n",
    "print(\"Accuracy of the best Decision Tree Classifier model for validation set:\", '{:.3f}'.format(best_result))  \n",
    "print(\"Tree depth:\", best_depth)"
   ]
  },
  {
   "cell_type": "markdown",
   "metadata": {},
   "source": [
    "__Check Random Forest Classifier performance__"
   ]
  },
  {
   "cell_type": "code",
   "execution_count": 14,
   "metadata": {},
   "outputs": [
    {
     "name": "stdout",
     "output_type": "stream",
     "text": [
      "Accuracy of the best Random Forest Classifier model fot validation set: 0.818\n",
      "Amount of trees: 24\n",
      "Tree depth: 12\n"
     ]
    }
   ],
   "source": [
    "best_model = None\n",
    "best_result = 0\n",
    "best_depth = 0\n",
    "for est in range(1, 40):\n",
    "    for depth in range(1, 20):\n",
    "        model = RandomForestClassifier(random_state=12345, n_estimators=est, max_depth=depth) \n",
    "        model.fit(features_train, target_train) \n",
    "        result = model.score(features_valid, target_valid) \n",
    "        if result > best_result:\n",
    "            best_model = model \n",
    "            best_result = result\n",
    "            best_est = est\n",
    "            best_depth = depth\n",
    "print(\"Accuracy of the best Random Forest Classifier model fot validation set:\", '{:.3f}'.format(best_result))\n",
    "print(\"Amount of trees:\", best_est)\n",
    "print(\"Tree depth:\", best_depth)"
   ]
  },
  {
   "cell_type": "markdown",
   "metadata": {},
   "source": [
    "Add progress meter"
   ]
  },
  {
   "cell_type": "code",
   "execution_count": 15,
   "metadata": {},
   "outputs": [
    {
     "data": {
      "application/vnd.jupyter.widget-view+json": {
       "model_id": "c669e9ab11814ea3ab9f37973990be65",
       "version_major": 2,
       "version_minor": 0
      },
      "text/plain": [
       "  0%|          | 0/39 [00:00<?, ?it/s]"
      ]
     },
     "metadata": {},
     "output_type": "display_data"
    },
    {
     "data": {
      "application/vnd.jupyter.widget-view+json": {
       "model_id": "908e4bbe7d1141fdac43f0086016e4c2",
       "version_major": 2,
       "version_minor": 0
      },
      "text/plain": [
       "  0%|          | 0/19 [00:00<?, ?it/s]"
      ]
     },
     "metadata": {},
     "output_type": "display_data"
    },
    {
     "data": {
      "application/vnd.jupyter.widget-view+json": {
       "model_id": "5d84659e1e2e4b1fb5153fa7bf62420e",
       "version_major": 2,
       "version_minor": 0
      },
      "text/plain": [
       "  0%|          | 0/19 [00:00<?, ?it/s]"
      ]
     },
     "metadata": {},
     "output_type": "display_data"
    },
    {
     "data": {
      "application/vnd.jupyter.widget-view+json": {
       "model_id": "41e9680695dd47099c351b883ac24fb4",
       "version_major": 2,
       "version_minor": 0
      },
      "text/plain": [
       "  0%|          | 0/19 [00:00<?, ?it/s]"
      ]
     },
     "metadata": {},
     "output_type": "display_data"
    },
    {
     "data": {
      "application/vnd.jupyter.widget-view+json": {
       "model_id": "cf84f7e437f1432a8f18a33fcd17f747",
       "version_major": 2,
       "version_minor": 0
      },
      "text/plain": [
       "  0%|          | 0/19 [00:00<?, ?it/s]"
      ]
     },
     "metadata": {},
     "output_type": "display_data"
    },
    {
     "data": {
      "application/vnd.jupyter.widget-view+json": {
       "model_id": "b89f7063976d4aafb32db55fa10238df",
       "version_major": 2,
       "version_minor": 0
      },
      "text/plain": [
       "  0%|          | 0/19 [00:00<?, ?it/s]"
      ]
     },
     "metadata": {},
     "output_type": "display_data"
    },
    {
     "data": {
      "application/vnd.jupyter.widget-view+json": {
       "model_id": "1414e7cb20ab4250803e1360b78dbc8b",
       "version_major": 2,
       "version_minor": 0
      },
      "text/plain": [
       "  0%|          | 0/19 [00:00<?, ?it/s]"
      ]
     },
     "metadata": {},
     "output_type": "display_data"
    },
    {
     "data": {
      "application/vnd.jupyter.widget-view+json": {
       "model_id": "1126958b204f4cb489cbeed2a5c47afd",
       "version_major": 2,
       "version_minor": 0
      },
      "text/plain": [
       "  0%|          | 0/19 [00:00<?, ?it/s]"
      ]
     },
     "metadata": {},
     "output_type": "display_data"
    },
    {
     "data": {
      "application/vnd.jupyter.widget-view+json": {
       "model_id": "444dcea8797c47b79d94f69987f5f794",
       "version_major": 2,
       "version_minor": 0
      },
      "text/plain": [
       "  0%|          | 0/19 [00:00<?, ?it/s]"
      ]
     },
     "metadata": {},
     "output_type": "display_data"
    },
    {
     "data": {
      "application/vnd.jupyter.widget-view+json": {
       "model_id": "2568d235a48b47a8b1f9acf8b2845674",
       "version_major": 2,
       "version_minor": 0
      },
      "text/plain": [
       "  0%|          | 0/19 [00:00<?, ?it/s]"
      ]
     },
     "metadata": {},
     "output_type": "display_data"
    },
    {
     "data": {
      "application/vnd.jupyter.widget-view+json": {
       "model_id": "7f62cb49aea44889bf503def3d765394",
       "version_major": 2,
       "version_minor": 0
      },
      "text/plain": [
       "  0%|          | 0/19 [00:00<?, ?it/s]"
      ]
     },
     "metadata": {},
     "output_type": "display_data"
    },
    {
     "data": {
      "application/vnd.jupyter.widget-view+json": {
       "model_id": "35c7fa0400894d279e50664fbadc897d",
       "version_major": 2,
       "version_minor": 0
      },
      "text/plain": [
       "  0%|          | 0/19 [00:00<?, ?it/s]"
      ]
     },
     "metadata": {},
     "output_type": "display_data"
    },
    {
     "data": {
      "application/vnd.jupyter.widget-view+json": {
       "model_id": "1baf93c5031844a0a38874abb0d2d0fa",
       "version_major": 2,
       "version_minor": 0
      },
      "text/plain": [
       "  0%|          | 0/19 [00:00<?, ?it/s]"
      ]
     },
     "metadata": {},
     "output_type": "display_data"
    },
    {
     "data": {
      "application/vnd.jupyter.widget-view+json": {
       "model_id": "eba601e4633d4c56ae7d80391784a86b",
       "version_major": 2,
       "version_minor": 0
      },
      "text/plain": [
       "  0%|          | 0/19 [00:00<?, ?it/s]"
      ]
     },
     "metadata": {},
     "output_type": "display_data"
    },
    {
     "data": {
      "application/vnd.jupyter.widget-view+json": {
       "model_id": "f20d124397914830a4ad496c639f088f",
       "version_major": 2,
       "version_minor": 0
      },
      "text/plain": [
       "  0%|          | 0/19 [00:00<?, ?it/s]"
      ]
     },
     "metadata": {},
     "output_type": "display_data"
    },
    {
     "data": {
      "application/vnd.jupyter.widget-view+json": {
       "model_id": "f1ada944f7f04c18ac468a59b8ef40e9",
       "version_major": 2,
       "version_minor": 0
      },
      "text/plain": [
       "  0%|          | 0/19 [00:00<?, ?it/s]"
      ]
     },
     "metadata": {},
     "output_type": "display_data"
    },
    {
     "data": {
      "application/vnd.jupyter.widget-view+json": {
       "model_id": "02c9325dde0244f6992238297a95170f",
       "version_major": 2,
       "version_minor": 0
      },
      "text/plain": [
       "  0%|          | 0/19 [00:00<?, ?it/s]"
      ]
     },
     "metadata": {},
     "output_type": "display_data"
    },
    {
     "data": {
      "application/vnd.jupyter.widget-view+json": {
       "model_id": "ff66a885341d48558c60d98760b46750",
       "version_major": 2,
       "version_minor": 0
      },
      "text/plain": [
       "  0%|          | 0/19 [00:00<?, ?it/s]"
      ]
     },
     "metadata": {},
     "output_type": "display_data"
    },
    {
     "data": {
      "application/vnd.jupyter.widget-view+json": {
       "model_id": "e55bdb88b8394b108455f89ac7325cde",
       "version_major": 2,
       "version_minor": 0
      },
      "text/plain": [
       "  0%|          | 0/19 [00:00<?, ?it/s]"
      ]
     },
     "metadata": {},
     "output_type": "display_data"
    },
    {
     "data": {
      "application/vnd.jupyter.widget-view+json": {
       "model_id": "b6c3c9ddd4a543e0968cef436acf3196",
       "version_major": 2,
       "version_minor": 0
      },
      "text/plain": [
       "  0%|          | 0/19 [00:00<?, ?it/s]"
      ]
     },
     "metadata": {},
     "output_type": "display_data"
    },
    {
     "data": {
      "application/vnd.jupyter.widget-view+json": {
       "model_id": "26911b0ec392420f9a30f5241b791f7f",
       "version_major": 2,
       "version_minor": 0
      },
      "text/plain": [
       "  0%|          | 0/19 [00:00<?, ?it/s]"
      ]
     },
     "metadata": {},
     "output_type": "display_data"
    },
    {
     "data": {
      "application/vnd.jupyter.widget-view+json": {
       "model_id": "e747d7effa2b47b7a5c01faea824e1d4",
       "version_major": 2,
       "version_minor": 0
      },
      "text/plain": [
       "  0%|          | 0/19 [00:00<?, ?it/s]"
      ]
     },
     "metadata": {},
     "output_type": "display_data"
    },
    {
     "data": {
      "application/vnd.jupyter.widget-view+json": {
       "model_id": "1078fb4ef04643edb18e90c69bd0b646",
       "version_major": 2,
       "version_minor": 0
      },
      "text/plain": [
       "  0%|          | 0/19 [00:00<?, ?it/s]"
      ]
     },
     "metadata": {},
     "output_type": "display_data"
    },
    {
     "data": {
      "application/vnd.jupyter.widget-view+json": {
       "model_id": "03e06984e8e0416ab48e582d20961675",
       "version_major": 2,
       "version_minor": 0
      },
      "text/plain": [
       "  0%|          | 0/19 [00:00<?, ?it/s]"
      ]
     },
     "metadata": {},
     "output_type": "display_data"
    },
    {
     "data": {
      "application/vnd.jupyter.widget-view+json": {
       "model_id": "651db01f97624405a7007c9810f017ea",
       "version_major": 2,
       "version_minor": 0
      },
      "text/plain": [
       "  0%|          | 0/19 [00:00<?, ?it/s]"
      ]
     },
     "metadata": {},
     "output_type": "display_data"
    },
    {
     "data": {
      "application/vnd.jupyter.widget-view+json": {
       "model_id": "5c6f4ffa89b74debae302e8e128be19c",
       "version_major": 2,
       "version_minor": 0
      },
      "text/plain": [
       "  0%|          | 0/19 [00:00<?, ?it/s]"
      ]
     },
     "metadata": {},
     "output_type": "display_data"
    },
    {
     "data": {
      "application/vnd.jupyter.widget-view+json": {
       "model_id": "1c0aadb5d4134f0daeda09c8026d2813",
       "version_major": 2,
       "version_minor": 0
      },
      "text/plain": [
       "  0%|          | 0/19 [00:00<?, ?it/s]"
      ]
     },
     "metadata": {},
     "output_type": "display_data"
    },
    {
     "data": {
      "application/vnd.jupyter.widget-view+json": {
       "model_id": "f6d5436563d94d1caf96f8d88e64c0b6",
       "version_major": 2,
       "version_minor": 0
      },
      "text/plain": [
       "  0%|          | 0/19 [00:00<?, ?it/s]"
      ]
     },
     "metadata": {},
     "output_type": "display_data"
    },
    {
     "data": {
      "application/vnd.jupyter.widget-view+json": {
       "model_id": "31523325e48d43a08390ea7a22cba52c",
       "version_major": 2,
       "version_minor": 0
      },
      "text/plain": [
       "  0%|          | 0/19 [00:00<?, ?it/s]"
      ]
     },
     "metadata": {},
     "output_type": "display_data"
    },
    {
     "data": {
      "application/vnd.jupyter.widget-view+json": {
       "model_id": "eaffa0740ddc497b8b8b66b1cdd1f395",
       "version_major": 2,
       "version_minor": 0
      },
      "text/plain": [
       "  0%|          | 0/19 [00:00<?, ?it/s]"
      ]
     },
     "metadata": {},
     "output_type": "display_data"
    },
    {
     "data": {
      "application/vnd.jupyter.widget-view+json": {
       "model_id": "f539f8355490437d8f90d83444b165c9",
       "version_major": 2,
       "version_minor": 0
      },
      "text/plain": [
       "  0%|          | 0/19 [00:00<?, ?it/s]"
      ]
     },
     "metadata": {},
     "output_type": "display_data"
    },
    {
     "data": {
      "application/vnd.jupyter.widget-view+json": {
       "model_id": "518be7e8ee244e66805a2656e1927871",
       "version_major": 2,
       "version_minor": 0
      },
      "text/plain": [
       "  0%|          | 0/19 [00:00<?, ?it/s]"
      ]
     },
     "metadata": {},
     "output_type": "display_data"
    },
    {
     "data": {
      "application/vnd.jupyter.widget-view+json": {
       "model_id": "7449c088b6764744a7b8cf7add843ce9",
       "version_major": 2,
       "version_minor": 0
      },
      "text/plain": [
       "  0%|          | 0/19 [00:00<?, ?it/s]"
      ]
     },
     "metadata": {},
     "output_type": "display_data"
    },
    {
     "data": {
      "application/vnd.jupyter.widget-view+json": {
       "model_id": "8c1f6ca212344149acd5e7b6b554c028",
       "version_major": 2,
       "version_minor": 0
      },
      "text/plain": [
       "  0%|          | 0/19 [00:00<?, ?it/s]"
      ]
     },
     "metadata": {},
     "output_type": "display_data"
    },
    {
     "data": {
      "application/vnd.jupyter.widget-view+json": {
       "model_id": "276828453a6143b9bd8d876b73dd8056",
       "version_major": 2,
       "version_minor": 0
      },
      "text/plain": [
       "  0%|          | 0/19 [00:00<?, ?it/s]"
      ]
     },
     "metadata": {},
     "output_type": "display_data"
    },
    {
     "data": {
      "application/vnd.jupyter.widget-view+json": {
       "model_id": "438e64f833e94cb08477603789703aa9",
       "version_major": 2,
       "version_minor": 0
      },
      "text/plain": [
       "  0%|          | 0/19 [00:00<?, ?it/s]"
      ]
     },
     "metadata": {},
     "output_type": "display_data"
    },
    {
     "data": {
      "application/vnd.jupyter.widget-view+json": {
       "model_id": "dc9d60c43b544a2fb265dc29bdd24d6e",
       "version_major": 2,
       "version_minor": 0
      },
      "text/plain": [
       "  0%|          | 0/19 [00:00<?, ?it/s]"
      ]
     },
     "metadata": {},
     "output_type": "display_data"
    },
    {
     "data": {
      "application/vnd.jupyter.widget-view+json": {
       "model_id": "67c19cfc0d8342e7bed8cd8cd3684f57",
       "version_major": 2,
       "version_minor": 0
      },
      "text/plain": [
       "  0%|          | 0/19 [00:00<?, ?it/s]"
      ]
     },
     "metadata": {},
     "output_type": "display_data"
    },
    {
     "data": {
      "application/vnd.jupyter.widget-view+json": {
       "model_id": "f840b67239fb477c8fe63adfb2ab60b7",
       "version_major": 2,
       "version_minor": 0
      },
      "text/plain": [
       "  0%|          | 0/19 [00:00<?, ?it/s]"
      ]
     },
     "metadata": {},
     "output_type": "display_data"
    },
    {
     "data": {
      "application/vnd.jupyter.widget-view+json": {
       "model_id": "0bc7eb53ec9e4b1dae3c591eec678e0d",
       "version_major": 2,
       "version_minor": 0
      },
      "text/plain": [
       "  0%|          | 0/19 [00:00<?, ?it/s]"
      ]
     },
     "metadata": {},
     "output_type": "display_data"
    }
   ],
   "source": [
    "from tqdm.notebook import tqdm\n",
    "best_model = None\n",
    "best_result = 0\n",
    "acc = []\n",
    "estt = []\n",
    "depthh = []\n",
    "for est in tqdm(range(1, 40)):\n",
    "    for depth in tqdm(range(1, 20)):\n",
    "        model = RandomForestClassifier(random_state=12345, n_estimators=est, max_depth=depth) \n",
    "        model.fit(features_train, target_train) \n",
    "        result = model.score(features_valid, target_valid) \n",
    "        acc.append(result)\n",
    "        estt.append(est)\n",
    "        depthh.append(depth)"
   ]
  },
  {
   "cell_type": "code",
   "execution_count": 16,
   "metadata": {},
   "outputs": [
    {
     "data": {
      "image/png": "[encoded data removed]",
      "text/plain": [
       "<Figure size 432x288 with 1 Axes>"
      ]
     },
     "metadata": {
      "needs_background": "light"
     },
     "output_type": "display_data"
    }
   ],
   "source": [
    "plt.plot(estt,acc)\n",
    "plt.scatter(estt[acc.index(max(acc))], max(acc), label= f'{max(acc):.2%}');\n",
    "plt.legend();\n",
    "plt.xlabel('Trees amount');\n",
    "plt.ylabel('Accuracy');\n",
    "plt.xticks(range(1, 41));"
   ]
  },
  {
   "cell_type": "markdown",
   "metadata": {},
   "source": [
    "__Check Logistic Regression performance__"
   ]
  },
  {
   "cell_type": "code",
   "execution_count": 17,
   "metadata": {},
   "outputs": [
    {
     "name": "stdout",
     "output_type": "stream",
     "text": [
      "Accuracy of Logistic Regression model for validation set: 0.703\n"
     ]
    }
   ],
   "source": [
    "model_log_reg = LogisticRegression(random_state=12345)\n",
    "model_log_reg.fit(features_train, target_train)\n",
    "result_log_reg = model_log_reg.score(features_valid, target_valid) \n",
    "\n",
    "print(\"Accuracy of Logistic Regression model for validation set:\", '{:.3f}'.format(result_log_reg))"
   ]
  },
  {
   "cell_type": "markdown",
   "metadata": {},
   "source": [
    "### __Summary__"
   ]
  },
  {
   "cell_type": "markdown",
   "metadata": {},
   "source": [
    "The highest accuracy (0.818) for validation set was shown by Random Forest Classifier model with 24 trees and max tree depth =  12. \n",
    "The lowest accuracy (0.703) for validation set was shown by Logistic Regression model."
   ]
  },
  {
   "cell_type": "markdown",
   "metadata": {},
   "source": [
    "## Model Testing"
   ]
  },
  {
   "cell_type": "markdown",
   "metadata": {},
   "source": [
    "Train the best model on merged training and validation datasets to improve model's performance."
   ]
  },
  {
   "cell_type": "code",
   "execution_count": 18,
   "metadata": {},
   "outputs": [
    {
     "name": "stdout",
     "output_type": "stream",
     "text": [
      "Accuracy of the best Random Forest Classifier model for test set: 0.813\n"
     ]
    }
   ],
   "source": [
    "model = RandomForestClassifier(random_state=12345, n_estimators=24, max_depth=12)\n",
    "features_join = pd.concat([features_train, features_valid])\n",
    "target_join = pd.concat([target_train, target_valid])\n",
    "model.fit(features_join, target_join)\n",
    "resuls_rand_forest_test = model.score(features_test, target_test)\n",
    "\n",
    "print(\"Accuracy of the best Random Forest Classifier model for test set:\", '{:.3f}'.format(resuls_rand_forest_test))"
   ]
  },
  {
   "cell_type": "markdown",
   "metadata": {},
   "source": [
    "### __Summary__"
   ]
  },
  {
   "cell_type": "markdown",
   "metadata": {},
   "source": [
    "Accuracy of the best Random Forest Classifier model for test set is 0.813."
   ]
  },
  {
   "cell_type": "markdown",
   "metadata": {},
   "source": [
    "## Model Adequacy Check"
   ]
  },
  {
   "cell_type": "markdown",
   "metadata": {},
   "source": [
    "Count amount of plans in original dataset"
   ]
  },
  {
   "cell_type": "code",
   "execution_count": 19,
   "metadata": {},
   "outputs": [
    {
     "data": {
      "text/plain": [
       "0    2229\n",
       "1     985\n",
       "Name: is_ultra, dtype: int64"
      ]
     },
     "execution_count": 19,
     "metadata": {},
     "output_type": "execute_result"
    }
   ],
   "source": [
    "df['is_ultra'].value_counts()"
   ]
  },
  {
   "cell_type": "markdown",
   "metadata": {},
   "source": [
    "Calculate percentage"
   ]
  },
  {
   "cell_type": "code",
   "execution_count": 20,
   "metadata": {},
   "outputs": [
    {
     "name": "stdout",
     "output_type": "stream",
     "text": [
      "smart: 69.35 ultra: 30.65\n"
     ]
    }
   ],
   "source": [
    "smart_0 = 2229/(2229 + 985) * 100\n",
    "ultra_1 = 985/(2229 + 985) * 100\n",
    "print(\"smart:\", round(smart_0, 2), \"ultra:\", round(ultra_1, 2))"
   ]
  },
  {
   "cell_type": "markdown",
   "metadata": {},
   "source": [
    "About 70% of customers are using plan 'smart'. If plan 'smart' was offered to all customers in the first place, accuracy would be 0.7 which is lower than optimized Random Forest Classifier model accuracy (0.813). Proposed model is adequate."
   ]
  },
  {
   "cell_type": "markdown",
   "metadata": {},
   "source": [
    "## Conclusion"
   ]
  },
  {
   "cell_type": "markdown",
   "metadata": {},
   "source": [
    "The following models were selected and tested for classification task: Decision Tree Classifier, Random Forest Classifier and Logistic Regression. The highest accuracy was shown by Random Forest Classifier model (0.813) with optimized hyper-parameters. "
   ]
  }
 ],
 "metadata": {
  "ExecuteTimeLog": [
   {
    "duration": 1330,
    "start_time": "2021-08-23T13:48:59.780Z"
   },
   {
    "duration": 20,
    "start_time": "2021-08-23T13:49:27.100Z"
   },
   {
    "duration": 23,
    "start_time": "2021-08-23T13:49:47.860Z"
   },
   {
    "duration": 13,
    "start_time": "2021-08-23T13:49:50.148Z"
   },
   {
    "duration": 9,
    "start_time": "2021-08-23T13:50:03.449Z"
   },
   {
    "duration": 5,
    "start_time": "2021-08-23T13:52:27.308Z"
   },
   {
    "duration": 11,
    "start_time": "2021-08-23T13:55:13.352Z"
   },
   {
    "duration": 34,
    "start_time": "2021-08-23T13:55:36.228Z"
   },
   {
    "duration": 355,
    "start_time": "2021-08-23T13:59:36.562Z"
   },
   {
    "duration": 7,
    "start_time": "2021-08-23T14:00:32.996Z"
   },
   {
    "duration": 291,
    "start_time": "2021-08-23T14:00:33.953Z"
   },
   {
    "duration": 5,
    "start_time": "2021-08-23T14:02:12.737Z"
   },
   {
    "duration": 7,
    "start_time": "2021-08-23T14:02:13.723Z"
   },
   {
    "duration": 7,
    "start_time": "2021-08-23T14:02:14.768Z"
   },
   {
    "duration": 5,
    "start_time": "2021-08-23T14:02:26.333Z"
   },
   {
    "duration": 5,
    "start_time": "2021-08-23T14:02:34.416Z"
   },
   {
    "duration": 5,
    "start_time": "2021-08-23T14:02:46.525Z"
   },
   {
    "duration": 5,
    "start_time": "2021-08-23T14:03:19.030Z"
   },
   {
    "duration": 7,
    "start_time": "2021-08-23T14:03:19.495Z"
   },
   {
    "duration": 7,
    "start_time": "2021-08-23T14:03:19.853Z"
   },
   {
    "duration": 5,
    "start_time": "2021-08-23T14:03:20.213Z"
   },
   {
    "duration": 6,
    "start_time": "2021-08-23T14:03:21.154Z"
   },
   {
    "duration": 4,
    "start_time": "2021-08-23T14:03:21.763Z"
   },
   {
    "duration": 7,
    "start_time": "2021-08-23T14:03:36.325Z"
   },
   {
    "duration": 5,
    "start_time": "2021-08-23T14:03:36.803Z"
   },
   {
    "duration": 5,
    "start_time": "2021-08-23T14:03:37.165Z"
   },
   {
    "duration": 5,
    "start_time": "2021-08-23T14:03:38.091Z"
   },
   {
    "duration": 6,
    "start_time": "2021-08-23T14:04:30.734Z"
   },
   {
    "duration": 6,
    "start_time": "2021-08-23T14:04:31.135Z"
   },
   {
    "duration": 7,
    "start_time": "2021-08-23T14:04:31.514Z"
   },
   {
    "duration": 7,
    "start_time": "2021-08-23T14:04:32.705Z"
   },
   {
    "duration": 5,
    "start_time": "2021-08-23T14:04:33.059Z"
   },
   {
    "duration": 5,
    "start_time": "2021-08-23T14:04:33.365Z"
   },
   {
    "duration": 1266,
    "start_time": "2021-08-23T14:04:40.918Z"
   },
   {
    "duration": 19,
    "start_time": "2021-08-23T14:04:42.187Z"
   },
   {
    "duration": 22,
    "start_time": "2021-08-23T14:04:42.209Z"
   },
   {
    "duration": 9,
    "start_time": "2021-08-23T14:04:42.233Z"
   },
   {
    "duration": 58,
    "start_time": "2021-08-23T14:04:42.244Z"
   },
   {
    "duration": 4,
    "start_time": "2021-08-23T14:04:42.305Z"
   },
   {
    "duration": 10,
    "start_time": "2021-08-23T14:04:42.312Z"
   },
   {
    "duration": 6,
    "start_time": "2021-08-23T14:04:42.325Z"
   },
   {
    "duration": 8,
    "start_time": "2021-08-23T14:04:42.334Z"
   },
   {
    "duration": 39,
    "start_time": "2021-08-23T14:04:42.345Z"
   },
   {
    "duration": 5,
    "start_time": "2021-08-23T14:04:42.386Z"
   },
   {
    "duration": 5,
    "start_time": "2021-08-23T14:04:56.450Z"
   },
   {
    "duration": 1454,
    "start_time": "2021-08-23T14:05:08.234Z"
   },
   {
    "duration": 19,
    "start_time": "2021-08-23T14:05:09.690Z"
   },
   {
    "duration": 21,
    "start_time": "2021-08-23T14:05:09.712Z"
   },
   {
    "duration": 9,
    "start_time": "2021-08-23T14:05:09.736Z"
   },
   {
    "duration": 61,
    "start_time": "2021-08-23T14:05:09.748Z"
   },
   {
    "duration": 5,
    "start_time": "2021-08-23T14:05:09.811Z"
   },
   {
    "duration": 16,
    "start_time": "2021-08-23T14:05:09.819Z"
   },
   {
    "duration": 12,
    "start_time": "2021-08-23T14:05:09.838Z"
   },
   {
    "duration": 32,
    "start_time": "2021-08-23T14:05:09.853Z"
   },
   {
    "duration": 10,
    "start_time": "2021-08-23T14:05:09.887Z"
   },
   {
    "duration": 13,
    "start_time": "2021-08-23T14:05:09.900Z"
   },
   {
    "duration": 6,
    "start_time": "2021-08-23T14:05:09.914Z"
   },
   {
    "duration": 1300,
    "start_time": "2021-08-23T14:05:24.389Z"
   },
   {
    "duration": 19,
    "start_time": "2021-08-23T14:05:25.691Z"
   },
   {
    "duration": 27,
    "start_time": "2021-08-23T14:05:25.713Z"
   },
   {
    "duration": 9,
    "start_time": "2021-08-23T14:05:25.743Z"
   },
   {
    "duration": 53,
    "start_time": "2021-08-23T14:05:25.754Z"
   },
   {
    "duration": 5,
    "start_time": "2021-08-23T14:05:25.809Z"
   },
   {
    "duration": 11,
    "start_time": "2021-08-23T14:05:25.816Z"
   },
   {
    "duration": 8,
    "start_time": "2021-08-23T14:05:25.829Z"
   },
   {
    "duration": 6,
    "start_time": "2021-08-23T14:05:25.840Z"
   },
   {
    "duration": 32,
    "start_time": "2021-08-23T14:05:25.849Z"
   },
   {
    "duration": 5,
    "start_time": "2021-08-23T14:05:25.884Z"
   },
   {
    "duration": 9,
    "start_time": "2021-08-23T14:05:25.891Z"
   },
   {
    "duration": 5,
    "start_time": "2021-08-23T14:05:50.075Z"
   },
   {
    "duration": 6,
    "start_time": "2021-08-23T14:06:55.774Z"
   },
   {
    "duration": 5,
    "start_time": "2021-08-23T14:06:57.132Z"
   },
   {
    "duration": 6,
    "start_time": "2021-08-23T14:06:57.927Z"
   },
   {
    "duration": 5,
    "start_time": "2021-08-23T14:06:58.691Z"
   },
   {
    "duration": 1292,
    "start_time": "2021-08-23T14:07:13.602Z"
   },
   {
    "duration": 19,
    "start_time": "2021-08-23T14:07:14.897Z"
   },
   {
    "duration": 22,
    "start_time": "2021-08-23T14:07:14.919Z"
   },
   {
    "duration": 12,
    "start_time": "2021-08-23T14:07:14.944Z"
   },
   {
    "duration": 53,
    "start_time": "2021-08-23T14:07:14.959Z"
   },
   {
    "duration": 5,
    "start_time": "2021-08-23T14:07:15.016Z"
   },
   {
    "duration": 16,
    "start_time": "2021-08-23T14:07:15.024Z"
   },
   {
    "duration": 6,
    "start_time": "2021-08-23T14:07:15.043Z"
   },
   {
    "duration": 33,
    "start_time": "2021-08-23T14:07:15.052Z"
   },
   {
    "duration": 10,
    "start_time": "2021-08-23T14:07:15.087Z"
   },
   {
    "duration": 12,
    "start_time": "2021-08-23T14:07:15.100Z"
   },
   {
    "duration": 17,
    "start_time": "2021-08-23T14:07:15.114Z"
   },
   {
    "duration": 15,
    "start_time": "2021-08-23T14:07:15.133Z"
   },
   {
    "duration": 421,
    "start_time": "2021-08-23T14:13:34.388Z"
   },
   {
    "duration": 1439,
    "start_time": "2021-08-23T14:13:42.860Z"
   },
   {
    "duration": 19,
    "start_time": "2021-08-23T14:13:44.302Z"
   },
   {
    "duration": 22,
    "start_time": "2021-08-23T14:13:44.324Z"
   },
   {
    "duration": 10,
    "start_time": "2021-08-23T14:13:44.349Z"
   },
   {
    "duration": 34,
    "start_time": "2021-08-23T14:13:44.383Z"
   },
   {
    "duration": 4,
    "start_time": "2021-08-23T14:13:44.420Z"
   },
   {
    "duration": 8,
    "start_time": "2021-08-23T14:13:44.427Z"
   },
   {
    "duration": 9,
    "start_time": "2021-08-23T14:13:44.437Z"
   },
   {
    "duration": 107,
    "start_time": "2021-08-23T14:13:44.482Z"
   },
   {
    "duration": 114,
    "start_time": "2021-08-23T14:14:00.185Z"
   },
   {
    "duration": 104,
    "start_time": "2021-08-23T14:14:26.823Z"
   },
   {
    "duration": 429,
    "start_time": "2021-08-23T14:14:36.945Z"
   },
   {
    "duration": 36,
    "start_time": "2021-08-23T14:14:46.995Z"
   },
   {
    "duration": 37,
    "start_time": "2021-08-23T14:17:21.756Z"
   },
   {
    "duration": 347,
    "start_time": "2021-08-23T14:19:01.261Z"
   },
   {
    "duration": 322,
    "start_time": "2021-08-23T14:19:41.942Z"
   },
   {
    "duration": 1012,
    "start_time": "2021-08-23T14:19:50.102Z"
   },
   {
    "duration": 34,
    "start_time": "2021-08-23T14:20:55.512Z"
   },
   {
    "duration": 78,
    "start_time": "2021-08-23T14:21:01.956Z"
   },
   {
    "duration": 18,
    "start_time": "2021-08-23T14:23:49.115Z"
   },
   {
    "duration": 4,
    "start_time": "2021-08-23T14:24:16.586Z"
   },
   {
    "duration": 17,
    "start_time": "2021-08-23T14:24:16.958Z"
   },
   {
    "duration": 16,
    "start_time": "2021-08-23T14:24:37.202Z"
   },
   {
    "duration": 17,
    "start_time": "2021-08-23T14:27:27.426Z"
   },
   {
    "duration": 19,
    "start_time": "2021-08-23T14:27:35.105Z"
   },
   {
    "duration": 16,
    "start_time": "2021-08-23T14:27:40.108Z"
   },
   {
    "duration": 23,
    "start_time": "2021-08-23T14:27:46.585Z"
   },
   {
    "duration": 17,
    "start_time": "2021-08-23T14:27:54.359Z"
   },
   {
    "duration": 359,
    "start_time": "2021-08-23T14:28:13.587Z"
   },
   {
    "duration": 17,
    "start_time": "2021-08-23T14:28:18.195Z"
   },
   {
    "duration": 17,
    "start_time": "2021-08-23T14:28:23.035Z"
   },
   {
    "duration": 16,
    "start_time": "2021-08-23T14:29:01.737Z"
   },
   {
    "duration": 1026,
    "start_time": "2021-08-23T14:29:15.258Z"
   },
   {
    "duration": 91,
    "start_time": "2021-08-23T14:29:27.760Z"
   },
   {
    "duration": 72,
    "start_time": "2021-08-23T14:29:32.858Z"
   },
   {
    "duration": 1000,
    "start_time": "2021-08-23T14:29:37.489Z"
   },
   {
    "duration": 17,
    "start_time": "2021-08-23T14:29:44.730Z"
   },
   {
    "duration": 78,
    "start_time": "2021-08-23T14:46:25.541Z"
   },
   {
    "duration": 78,
    "start_time": "2021-08-23T14:47:04.723Z"
   },
   {
    "duration": 1319,
    "start_time": "2021-08-23T14:50:58.566Z"
   },
   {
    "duration": 18,
    "start_time": "2021-08-23T14:50:59.887Z"
   },
   {
    "duration": 24,
    "start_time": "2021-08-23T14:50:59.908Z"
   },
   {
    "duration": 11,
    "start_time": "2021-08-23T14:50:59.935Z"
   },
   {
    "duration": 47,
    "start_time": "2021-08-23T14:50:59.948Z"
   },
   {
    "duration": 4,
    "start_time": "2021-08-23T14:50:59.997Z"
   },
   {
    "duration": 15,
    "start_time": "2021-08-23T14:51:00.003Z"
   },
   {
    "duration": 29,
    "start_time": "2021-08-23T14:51:00.022Z"
   },
   {
    "duration": 78,
    "start_time": "2021-08-23T14:51:00.054Z"
   },
   {
    "duration": 1032,
    "start_time": "2021-08-23T14:51:00.134Z"
   },
   {
    "duration": 8,
    "start_time": "2021-08-23T14:51:01.168Z"
   },
   {
    "duration": 34,
    "start_time": "2021-08-23T14:51:01.183Z"
   },
   {
    "duration": 77,
    "start_time": "2021-08-23T14:51:01.219Z"
   },
   {
    "duration": 3,
    "start_time": "2021-08-23T15:04:20.443Z"
   },
   {
    "duration": 3,
    "start_time": "2021-08-23T15:07:19.842Z"
   },
   {
    "duration": 349,
    "start_time": "2021-08-23T15:11:18.009Z"
   },
   {
    "duration": 306,
    "start_time": "2021-08-23T15:22:08.820Z"
   },
   {
    "duration": 270,
    "start_time": "2021-08-23T15:22:30.612Z"
   },
   {
    "duration": 362,
    "start_time": "2021-08-23T15:22:57.989Z"
   },
   {
    "duration": 311,
    "start_time": "2021-08-23T15:23:30.325Z"
   },
   {
    "duration": 76,
    "start_time": "2021-08-23T15:23:42.892Z"
   },
   {
    "duration": 1248,
    "start_time": "2021-08-23T15:25:33.911Z"
   },
   {
    "duration": 18,
    "start_time": "2021-08-23T15:25:35.162Z"
   },
   {
    "duration": 21,
    "start_time": "2021-08-23T15:25:35.184Z"
   },
   {
    "duration": 8,
    "start_time": "2021-08-23T15:25:35.208Z"
   },
   {
    "duration": 31,
    "start_time": "2021-08-23T15:25:35.218Z"
   },
   {
    "duration": 33,
    "start_time": "2021-08-23T15:25:35.251Z"
   },
   {
    "duration": 9,
    "start_time": "2021-08-23T15:25:35.286Z"
   },
   {
    "duration": 18,
    "start_time": "2021-08-23T15:25:35.298Z"
   },
   {
    "duration": 92,
    "start_time": "2021-08-23T15:25:35.318Z"
   },
   {
    "duration": 1039,
    "start_time": "2021-08-23T15:25:35.413Z"
   },
   {
    "duration": 3,
    "start_time": "2021-08-23T15:25:36.455Z"
   },
   {
    "duration": 32,
    "start_time": "2021-08-23T15:25:36.461Z"
   },
   {
    "duration": 91,
    "start_time": "2021-08-23T15:25:36.495Z"
   },
   {
    "duration": 95,
    "start_time": "2021-08-23T15:25:36.588Z"
   },
   {
    "duration": 79,
    "start_time": "2021-08-23T15:26:32.563Z"
   },
   {
    "duration": 80,
    "start_time": "2021-08-23T15:26:44.770Z"
   },
   {
    "duration": 77,
    "start_time": "2021-08-23T15:27:08.075Z"
   },
   {
    "duration": 92,
    "start_time": "2021-08-23T15:27:37.883Z"
   },
   {
    "duration": 79,
    "start_time": "2021-08-23T15:27:47.866Z"
   },
   {
    "duration": 76,
    "start_time": "2021-08-23T15:27:53.956Z"
   },
   {
    "duration": 77,
    "start_time": "2021-08-23T15:28:38.651Z"
   },
   {
    "duration": 1307,
    "start_time": "2021-08-23T15:28:51.881Z"
   },
   {
    "duration": 18,
    "start_time": "2021-08-23T15:28:53.191Z"
   },
   {
    "duration": 20,
    "start_time": "2021-08-23T15:28:53.212Z"
   },
   {
    "duration": 11,
    "start_time": "2021-08-23T15:28:53.234Z"
   },
   {
    "duration": 52,
    "start_time": "2021-08-23T15:28:53.247Z"
   },
   {
    "duration": 5,
    "start_time": "2021-08-23T15:28:53.302Z"
   },
   {
    "duration": 10,
    "start_time": "2021-08-23T15:28:53.310Z"
   },
   {
    "duration": 8,
    "start_time": "2021-08-23T15:28:53.324Z"
   },
   {
    "duration": 104,
    "start_time": "2021-08-23T15:28:53.335Z"
   },
   {
    "duration": 1006,
    "start_time": "2021-08-23T15:28:53.442Z"
   },
   {
    "duration": 3,
    "start_time": "2021-08-23T15:28:54.451Z"
   },
   {
    "duration": 29,
    "start_time": "2021-08-23T15:28:54.457Z"
   },
   {
    "duration": 74,
    "start_time": "2021-08-23T15:28:54.488Z"
   },
   {
    "duration": 90,
    "start_time": "2021-08-23T15:28:54.564Z"
   },
   {
    "duration": 74,
    "start_time": "2021-08-23T15:28:56.486Z"
   },
   {
    "duration": 590,
    "start_time": "2021-08-23T15:29:00.558Z"
   },
   {
    "duration": 1327,
    "start_time": "2021-08-23T15:29:09.441Z"
   },
   {
    "duration": 19,
    "start_time": "2021-08-23T15:29:10.771Z"
   },
   {
    "duration": 21,
    "start_time": "2021-08-23T15:29:10.793Z"
   },
   {
    "duration": 9,
    "start_time": "2021-08-23T15:29:10.817Z"
   },
   {
    "duration": 60,
    "start_time": "2021-08-23T15:29:10.828Z"
   },
   {
    "duration": 5,
    "start_time": "2021-08-23T15:29:10.890Z"
   },
   {
    "duration": 8,
    "start_time": "2021-08-23T15:29:10.897Z"
   },
   {
    "duration": 7,
    "start_time": "2021-08-23T15:29:10.907Z"
   },
   {
    "duration": 101,
    "start_time": "2021-08-23T15:29:10.917Z"
   },
   {
    "duration": 1125,
    "start_time": "2021-08-23T15:29:11.020Z"
   },
   {
    "duration": 3,
    "start_time": "2021-08-23T15:29:12.147Z"
   },
   {
    "duration": 37,
    "start_time": "2021-08-23T15:29:12.153Z"
   },
   {
    "duration": 90,
    "start_time": "2021-08-23T15:29:12.192Z"
   },
   {
    "duration": 79,
    "start_time": "2021-08-23T15:29:12.285Z"
   },
   {
    "duration": 547,
    "start_time": "2021-08-23T15:30:09.637Z"
   },
   {
    "duration": 1277,
    "start_time": "2021-08-23T15:30:17.113Z"
   },
   {
    "duration": 19,
    "start_time": "2021-08-23T15:30:18.393Z"
   },
   {
    "duration": 21,
    "start_time": "2021-08-23T15:30:18.415Z"
   },
   {
    "duration": 9,
    "start_time": "2021-08-23T15:30:18.439Z"
   },
   {
    "duration": 58,
    "start_time": "2021-08-23T15:30:18.450Z"
   },
   {
    "duration": 5,
    "start_time": "2021-08-23T15:30:18.510Z"
   },
   {
    "duration": 16,
    "start_time": "2021-08-23T15:30:18.517Z"
   },
   {
    "duration": 10,
    "start_time": "2021-08-23T15:30:18.535Z"
   },
   {
    "duration": 87,
    "start_time": "2021-08-23T15:30:18.548Z"
   },
   {
    "duration": 1018,
    "start_time": "2021-08-23T15:30:18.638Z"
   },
   {
    "duration": 3,
    "start_time": "2021-08-23T15:30:19.658Z"
   },
   {
    "duration": 29,
    "start_time": "2021-08-23T15:30:19.664Z"
   },
   {
    "duration": 87,
    "start_time": "2021-08-23T15:30:19.696Z"
   },
   {
    "duration": 76,
    "start_time": "2021-08-23T15:30:19.786Z"
   },
   {
    "duration": 21,
    "start_time": "2021-08-23T15:30:19.865Z"
   },
   {
    "duration": 12,
    "start_time": "2021-08-23T15:30:19.889Z"
   },
   {
    "duration": 391,
    "start_time": "2021-08-23T15:31:05.596Z"
   },
   {
    "duration": 6,
    "start_time": "2021-08-23T15:32:54.244Z"
   },
   {
    "duration": 310,
    "start_time": "2021-08-23T15:37:38.730Z"
   },
   {
    "duration": 371,
    "start_time": "2021-08-23T15:39:36.034Z"
   },
   {
    "duration": 1349,
    "start_time": "2021-08-23T15:41:13.653Z"
   },
   {
    "duration": 20,
    "start_time": "2021-08-23T15:41:15.004Z"
   },
   {
    "duration": 25,
    "start_time": "2021-08-23T15:41:15.026Z"
   },
   {
    "duration": 15,
    "start_time": "2021-08-23T15:41:15.054Z"
   },
   {
    "duration": 41,
    "start_time": "2021-08-23T15:41:15.072Z"
   },
   {
    "duration": 5,
    "start_time": "2021-08-23T15:41:15.115Z"
   },
   {
    "duration": 9,
    "start_time": "2021-08-23T15:41:15.122Z"
   },
   {
    "duration": 10,
    "start_time": "2021-08-23T15:41:15.134Z"
   },
   {
    "duration": 101,
    "start_time": "2021-08-23T15:41:15.146Z"
   },
   {
    "duration": 1014,
    "start_time": "2021-08-23T15:41:15.250Z"
   },
   {
    "duration": 3,
    "start_time": "2021-08-23T15:41:16.267Z"
   },
   {
    "duration": 25,
    "start_time": "2021-08-23T15:41:16.272Z"
   },
   {
    "duration": 100,
    "start_time": "2021-08-23T15:41:16.299Z"
   },
   {
    "duration": 87,
    "start_time": "2021-08-23T15:41:16.401Z"
   },
   {
    "duration": 5,
    "start_time": "2021-08-23T15:41:16.490Z"
   },
   {
    "duration": 6,
    "start_time": "2021-08-23T15:41:16.497Z"
   },
   {
    "duration": 436,
    "start_time": "2021-08-23T15:41:16.506Z"
   },
   {
    "duration": 280,
    "start_time": "2021-08-23T15:41:34.743Z"
   },
   {
    "duration": 76,
    "start_time": "2021-08-23T15:42:20.079Z"
   },
   {
    "duration": 5,
    "start_time": "2021-08-23T15:42:21.895Z"
   },
   {
    "duration": 7,
    "start_time": "2021-08-23T15:42:26.770Z"
   },
   {
    "duration": 284,
    "start_time": "2021-08-23T15:42:28.406Z"
   },
   {
    "duration": 255,
    "start_time": "2021-08-23T15:46:20.743Z"
   },
   {
    "duration": 78,
    "start_time": "2021-08-23T15:48:35.260Z"
   },
   {
    "duration": 74,
    "start_time": "2021-08-23T15:49:15.071Z"
   },
   {
    "duration": 6,
    "start_time": "2021-08-23T15:49:25.205Z"
   },
   {
    "duration": 5,
    "start_time": "2021-08-23T15:49:42.198Z"
   },
   {
    "duration": 349,
    "start_time": "2021-08-23T15:49:53.844Z"
   },
   {
    "duration": 6,
    "start_time": "2021-08-23T15:49:54.485Z"
   },
   {
    "duration": 1554,
    "start_time": "2021-08-23T15:50:02.833Z"
   },
   {
    "duration": 19,
    "start_time": "2021-08-23T15:50:04.389Z"
   },
   {
    "duration": 20,
    "start_time": "2021-08-23T15:50:04.411Z"
   },
   {
    "duration": 9,
    "start_time": "2021-08-23T15:50:04.433Z"
   },
   {
    "duration": 58,
    "start_time": "2021-08-23T15:50:04.444Z"
   },
   {
    "duration": 5,
    "start_time": "2021-08-23T15:50:04.504Z"
   },
   {
    "duration": 10,
    "start_time": "2021-08-23T15:50:04.512Z"
   },
   {
    "duration": 6,
    "start_time": "2021-08-23T15:50:04.526Z"
   },
   {
    "duration": 102,
    "start_time": "2021-08-23T15:50:04.535Z"
   },
   {
    "duration": 1005,
    "start_time": "2021-08-23T15:50:04.640Z"
   },
   {
    "duration": 4,
    "start_time": "2021-08-23T15:50:05.647Z"
   },
   {
    "duration": 36,
    "start_time": "2021-08-23T15:50:05.653Z"
   },
   {
    "duration": 74,
    "start_time": "2021-08-23T15:50:05.692Z"
   },
   {
    "duration": 85,
    "start_time": "2021-08-23T15:50:05.768Z"
   },
   {
    "duration": 6,
    "start_time": "2021-08-23T15:50:05.856Z"
   },
   {
    "duration": 4,
    "start_time": "2021-08-23T15:50:05.883Z"
   },
   {
    "duration": 9,
    "start_time": "2021-08-23T15:50:05.889Z"
   },
   {
    "duration": 418,
    "start_time": "2021-08-23T15:50:05.900Z"
   },
   {
    "duration": 8,
    "start_time": "2021-08-23T15:50:16.635Z"
   },
   {
    "duration": 9,
    "start_time": "2021-08-23T15:50:43.890Z"
   },
   {
    "duration": 13,
    "start_time": "2021-08-23T15:51:10.370Z"
   },
   {
    "duration": 1315,
    "start_time": "2021-08-23T15:51:19.975Z"
   },
   {
    "duration": 18,
    "start_time": "2021-08-23T15:51:21.293Z"
   },
   {
    "duration": 23,
    "start_time": "2021-08-23T15:51:21.314Z"
   },
   {
    "duration": 13,
    "start_time": "2021-08-23T15:51:21.340Z"
   },
   {
    "duration": 50,
    "start_time": "2021-08-23T15:51:21.356Z"
   },
   {
    "duration": 5,
    "start_time": "2021-08-23T15:51:21.408Z"
   },
   {
    "duration": 11,
    "start_time": "2021-08-23T15:51:21.416Z"
   },
   {
    "duration": 8,
    "start_time": "2021-08-23T15:51:21.430Z"
   },
   {
    "duration": 103,
    "start_time": "2021-08-23T15:51:21.440Z"
   },
   {
    "duration": 1037,
    "start_time": "2021-08-23T15:51:21.546Z"
   },
   {
    "duration": 5,
    "start_time": "2021-08-23T15:51:22.586Z"
   },
   {
    "duration": 26,
    "start_time": "2021-08-23T15:51:22.593Z"
   },
   {
    "duration": 97,
    "start_time": "2021-08-23T15:51:22.621Z"
   },
   {
    "duration": 90,
    "start_time": "2021-08-23T15:51:22.720Z"
   },
   {
    "duration": 7,
    "start_time": "2021-08-23T15:51:22.812Z"
   },
   {
    "duration": 15,
    "start_time": "2021-08-23T15:51:22.821Z"
   },
   {
    "duration": 12,
    "start_time": "2021-08-23T15:51:22.839Z"
   },
   {
    "duration": 422,
    "start_time": "2021-08-23T15:51:22.854Z"
   },
   {
    "duration": 311,
    "start_time": "2021-08-23T15:51:54.306Z"
   },
   {
    "duration": 292,
    "start_time": "2021-08-23T15:52:08.698Z"
   },
   {
    "duration": 301,
    "start_time": "2021-08-23T15:53:00.642Z"
   },
   {
    "duration": 312,
    "start_time": "2021-08-23T15:55:19.826Z"
   },
   {
    "duration": 267,
    "start_time": "2021-08-23T15:59:53.633Z"
   },
   {
    "duration": 1390,
    "start_time": "2021-08-24T15:06:02.896Z"
   },
   {
    "duration": 23,
    "start_time": "2021-08-24T15:06:04.288Z"
   },
   {
    "duration": 23,
    "start_time": "2021-08-24T15:06:04.314Z"
   },
   {
    "duration": 20,
    "start_time": "2021-08-24T15:06:04.340Z"
   },
   {
    "duration": 36,
    "start_time": "2021-08-24T15:06:04.362Z"
   },
   {
    "duration": 5,
    "start_time": "2021-08-24T15:06:04.400Z"
   },
   {
    "duration": 12,
    "start_time": "2021-08-24T15:06:04.408Z"
   },
   {
    "duration": 38,
    "start_time": "2021-08-24T15:06:04.423Z"
   },
   {
    "duration": 97,
    "start_time": "2021-08-24T15:06:04.466Z"
   },
   {
    "duration": 1277,
    "start_time": "2021-08-24T15:06:04.567Z"
   },
   {
    "duration": 8,
    "start_time": "2021-08-24T15:06:05.847Z"
   },
   {
    "duration": 31,
    "start_time": "2021-08-24T15:06:05.858Z"
   },
   {
    "duration": 97,
    "start_time": "2021-08-24T15:06:05.892Z"
   },
   {
    "duration": 91,
    "start_time": "2021-08-24T15:06:05.992Z"
   },
   {
    "duration": 8,
    "start_time": "2021-08-24T15:06:06.086Z"
   },
   {
    "duration": 14,
    "start_time": "2021-08-24T15:06:06.098Z"
   },
   {
    "duration": 14,
    "start_time": "2021-08-24T15:06:06.114Z"
   },
   {
    "duration": 511,
    "start_time": "2021-08-24T15:06:06.155Z"
   },
   {
    "duration": -122,
    "start_time": "2021-08-24T15:06:06.790Z"
   },
   {
    "duration": 5374,
    "start_time": "2021-08-24T15:08:28.478Z"
   },
   {
    "duration": 10330,
    "start_time": "2021-08-24T15:08:48.442Z"
   },
   {
    "duration": 389,
    "start_time": "2021-08-24T15:10:00.080Z"
   },
   {
    "duration": 10796,
    "start_time": "2021-08-24T15:10:23.467Z"
   },
   {
    "duration": 569,
    "start_time": "2021-08-24T15:10:48.120Z"
   },
   {
    "duration": 10840,
    "start_time": "2021-08-24T15:11:04.079Z"
   },
   {
    "duration": 640,
    "start_time": "2021-08-24T15:11:16.656Z"
   },
   {
    "duration": 250,
    "start_time": "2021-08-24T15:11:26.768Z"
   },
   {
    "duration": 10782,
    "start_time": "2021-08-24T15:11:38.039Z"
   },
   {
    "duration": 297,
    "start_time": "2021-08-24T15:11:48.823Z"
   },
   {
    "duration": 642,
    "start_time": "2021-08-24T15:12:38.575Z"
   },
   {
    "duration": 475,
    "start_time": "2021-08-24T15:12:49.468Z"
   },
   {
    "duration": 414,
    "start_time": "2021-08-24T15:13:11.159Z"
   },
   {
    "duration": 420,
    "start_time": "2021-08-24T15:13:37.077Z"
   },
   {
    "duration": 388,
    "start_time": "2021-08-24T15:13:46.907Z"
   },
   {
    "duration": 418,
    "start_time": "2021-08-24T15:14:16.708Z"
   },
   {
    "duration": 389,
    "start_time": "2021-08-24T15:14:39.910Z"
   },
   {
    "duration": 409,
    "start_time": "2021-08-24T15:14:43.354Z"
   },
   {
    "duration": 410,
    "start_time": "2021-08-24T15:14:46.144Z"
   },
   {
    "duration": 7,
    "start_time": "2021-08-24T15:19:21.350Z"
   },
   {
    "duration": 7,
    "start_time": "2021-08-24T15:19:21.663Z"
   },
   {
    "duration": 8,
    "start_time": "2021-08-24T15:20:53.579Z"
   },
   {
    "duration": 8,
    "start_time": "2021-08-24T15:22:20.243Z"
   },
   {
    "duration": 8,
    "start_time": "2021-08-24T15:22:36.606Z"
   },
   {
    "duration": 8,
    "start_time": "2021-08-24T15:23:52.587Z"
   },
   {
    "duration": 146,
    "start_time": "2021-08-24T15:24:17.618Z"
   },
   {
    "duration": 9,
    "start_time": "2021-08-24T15:24:21.402Z"
   },
   {
    "duration": 10,
    "start_time": "2021-08-24T15:24:31.268Z"
   },
   {
    "duration": 1800,
    "start_time": "2021-08-24T15:31:09.321Z"
   },
   {
    "duration": 24,
    "start_time": "2021-08-24T15:31:11.124Z"
   },
   {
    "duration": 29,
    "start_time": "2021-08-24T15:31:11.151Z"
   },
   {
    "duration": 9,
    "start_time": "2021-08-24T15:31:11.183Z"
   },
   {
    "duration": 71,
    "start_time": "2021-08-24T15:31:11.195Z"
   },
   {
    "duration": 7,
    "start_time": "2021-08-24T15:31:11.269Z"
   },
   {
    "duration": 11,
    "start_time": "2021-08-24T15:31:11.278Z"
   },
   {
    "duration": 9,
    "start_time": "2021-08-24T15:31:11.293Z"
   },
   {
    "duration": 107,
    "start_time": "2021-08-24T15:31:11.305Z"
   },
   {
    "duration": 1152,
    "start_time": "2021-08-24T15:31:11.414Z"
   },
   {
    "duration": 11099,
    "start_time": "2021-08-24T15:31:12.568Z"
   },
   {
    "duration": 422,
    "start_time": "2021-08-24T15:31:23.670Z"
   },
   {
    "duration": 4,
    "start_time": "2021-08-24T15:31:24.094Z"
   },
   {
    "duration": 44,
    "start_time": "2021-08-24T15:31:24.100Z"
   },
   {
    "duration": 126,
    "start_time": "2021-08-24T15:31:24.146Z"
   },
   {
    "duration": 98,
    "start_time": "2021-08-24T15:31:24.282Z"
   },
   {
    "duration": 7,
    "start_time": "2021-08-24T15:31:24.383Z"
   },
   {
    "duration": 28,
    "start_time": "2021-08-24T15:31:24.392Z"
   },
   {
    "duration": 14,
    "start_time": "2021-08-24T15:31:24.422Z"
   },
   {
    "duration": 572,
    "start_time": "2021-08-24T15:31:24.438Z"
   },
   {
    "duration": -307,
    "start_time": "2021-08-24T15:31:25.319Z"
   },
   {
    "duration": -307,
    "start_time": "2021-08-24T15:31:25.321Z"
   },
   {
    "duration": -459,
    "start_time": "2021-08-24T15:31:25.474Z"
   },
   {
    "duration": -468,
    "start_time": "2021-08-24T15:31:25.485Z"
   },
   {
    "duration": -471,
    "start_time": "2021-08-24T15:31:25.489Z"
   },
   {
    "duration": 418,
    "start_time": "2021-08-24T15:33:35.971Z"
   },
   {
    "duration": 386,
    "start_time": "2021-08-24T15:33:46.613Z"
   },
   {
    "duration": 10936,
    "start_time": "2021-08-24T15:51:53.020Z"
   },
   {
    "duration": 1336,
    "start_time": "2021-08-24T15:54:25.955Z"
   },
   {
    "duration": 1189,
    "start_time": "2021-08-24T15:57:03.573Z"
   },
   {
    "duration": 416,
    "start_time": "2021-08-24T15:57:36.040Z"
   },
   {
    "duration": 376,
    "start_time": "2021-08-24T15:58:27.704Z"
   },
   {
    "duration": 467,
    "start_time": "2021-08-24T15:59:38.100Z"
   },
   {
    "duration": 374,
    "start_time": "2021-08-24T15:59:48.292Z"
   },
   {
    "duration": 414,
    "start_time": "2021-08-24T16:00:04.040Z"
   },
   {
    "duration": 399,
    "start_time": "2021-08-24T16:00:08.648Z"
   },
   {
    "duration": 839,
    "start_time": "2021-08-24T16:00:40.904Z"
   },
   {
    "duration": 1526,
    "start_time": "2021-08-24T17:31:44.803Z"
   },
   {
    "duration": 23,
    "start_time": "2021-08-24T17:31:46.331Z"
   },
   {
    "duration": 21,
    "start_time": "2021-08-24T17:31:46.358Z"
   },
   {
    "duration": 13,
    "start_time": "2021-08-24T17:31:46.382Z"
   },
   {
    "duration": 57,
    "start_time": "2021-08-24T17:31:46.397Z"
   },
   {
    "duration": 6,
    "start_time": "2021-08-24T17:31:46.457Z"
   },
   {
    "duration": 17,
    "start_time": "2021-08-24T17:31:46.466Z"
   },
   {
    "duration": 17,
    "start_time": "2021-08-24T17:31:46.487Z"
   },
   {
    "duration": 105,
    "start_time": "2021-08-24T17:31:46.507Z"
   },
   {
    "duration": 1134,
    "start_time": "2021-08-24T17:31:46.614Z"
   },
   {
    "duration": 1369,
    "start_time": "2021-08-24T17:31:47.754Z"
   },
   {
    "duration": 460,
    "start_time": "2021-08-24T17:31:49.125Z"
   },
   {
    "duration": 4,
    "start_time": "2021-08-24T17:31:49.589Z"
   },
   {
    "duration": 32,
    "start_time": "2021-08-24T17:31:49.596Z"
   },
   {
    "duration": 99,
    "start_time": "2021-08-24T17:31:49.631Z"
   },
   {
    "duration": 107,
    "start_time": "2021-08-24T17:31:49.732Z"
   },
   {
    "duration": 15,
    "start_time": "2021-08-24T17:31:49.842Z"
   },
   {
    "duration": 16,
    "start_time": "2021-08-24T17:31:49.860Z"
   },
   {
    "duration": 14,
    "start_time": "2021-08-24T17:31:49.879Z"
   },
   {
    "duration": 574,
    "start_time": "2021-08-24T17:31:49.895Z"
   },
   {
    "duration": -119,
    "start_time": "2021-08-24T17:31:50.591Z"
   },
   {
    "duration": -121,
    "start_time": "2021-08-24T17:31:50.595Z"
   },
   {
    "duration": -122,
    "start_time": "2021-08-24T17:31:50.598Z"
   },
   {
    "duration": -122,
    "start_time": "2021-08-24T17:31:50.600Z"
   },
   {
    "duration": -120,
    "start_time": "2021-08-24T17:31:50.601Z"
   },
   {
    "duration": 467,
    "start_time": "2021-08-24T17:32:52.135Z"
   },
   {
    "duration": 470,
    "start_time": "2021-08-24T17:32:58.248Z"
   },
   {
    "duration": 476,
    "start_time": "2021-08-24T17:33:04.824Z"
   },
   {
    "duration": 8,
    "start_time": "2021-08-24T17:36:10.512Z"
   },
   {
    "duration": 8,
    "start_time": "2021-08-24T17:37:51.630Z"
   },
   {
    "duration": 5,
    "start_time": "2021-08-24T17:40:05.374Z"
   },
   {
    "duration": 6,
    "start_time": "2021-08-24T17:40:49.934Z"
   },
   {
    "duration": 441,
    "start_time": "2021-08-24T17:41:53.494Z"
   },
   {
    "duration": 126,
    "start_time": "2021-08-24T17:42:29.030Z"
   },
   {
    "duration": 6,
    "start_time": "2021-08-24T17:42:45.390Z"
   },
   {
    "duration": 1611,
    "start_time": "2021-08-24T17:49:03.429Z"
   },
   {
    "duration": 24,
    "start_time": "2021-08-24T17:49:05.043Z"
   },
   {
    "duration": 18,
    "start_time": "2021-08-24T17:49:05.070Z"
   },
   {
    "duration": 9,
    "start_time": "2021-08-24T17:49:05.091Z"
   },
   {
    "duration": 66,
    "start_time": "2021-08-24T17:49:05.103Z"
   },
   {
    "duration": 5,
    "start_time": "2021-08-24T17:49:05.172Z"
   },
   {
    "duration": 14,
    "start_time": "2021-08-24T17:49:05.180Z"
   },
   {
    "duration": 7,
    "start_time": "2021-08-24T17:49:05.197Z"
   },
   {
    "duration": 106,
    "start_time": "2021-08-24T17:49:05.207Z"
   },
   {
    "duration": 1117,
    "start_time": "2021-08-24T17:49:05.315Z"
   },
   {
    "duration": 1292,
    "start_time": "2021-08-24T17:49:06.434Z"
   },
   {
    "duration": 467,
    "start_time": "2021-08-24T17:49:07.728Z"
   },
   {
    "duration": 5,
    "start_time": "2021-08-24T17:49:08.198Z"
   },
   {
    "duration": 30,
    "start_time": "2021-08-24T17:49:08.206Z"
   },
   {
    "duration": 94,
    "start_time": "2021-08-24T17:49:08.239Z"
   },
   {
    "duration": 24,
    "start_time": "2021-08-24T17:49:08.336Z"
   },
   {
    "duration": 13,
    "start_time": "2021-08-24T17:49:08.362Z"
   },
   {
    "duration": 1627,
    "start_time": "2021-08-24T19:04:07.652Z"
   },
   {
    "duration": 23,
    "start_time": "2021-08-24T19:04:09.282Z"
   },
   {
    "duration": 26,
    "start_time": "2021-08-24T19:04:09.308Z"
   },
   {
    "duration": 11,
    "start_time": "2021-08-24T19:04:09.338Z"
   },
   {
    "duration": 52,
    "start_time": "2021-08-24T19:04:09.351Z"
   },
   {
    "duration": 5,
    "start_time": "2021-08-24T19:04:09.405Z"
   },
   {
    "duration": 14,
    "start_time": "2021-08-24T19:04:09.413Z"
   },
   {
    "duration": 16,
    "start_time": "2021-08-24T19:04:09.429Z"
   },
   {
    "duration": 121,
    "start_time": "2021-08-24T19:04:09.451Z"
   },
   {
    "duration": 1199,
    "start_time": "2021-08-24T19:04:09.575Z"
   },
   {
    "duration": 1386,
    "start_time": "2021-08-24T19:04:10.777Z"
   },
   {
    "duration": 452,
    "start_time": "2021-08-24T19:04:12.165Z"
   },
   {
    "duration": 3,
    "start_time": "2021-08-24T19:04:12.619Z"
   },
   {
    "duration": 31,
    "start_time": "2021-08-24T19:04:12.624Z"
   },
   {
    "duration": 95,
    "start_time": "2021-08-24T19:04:12.658Z"
   },
   {
    "duration": 8,
    "start_time": "2021-08-24T19:04:12.755Z"
   },
   {
    "duration": 22,
    "start_time": "2021-08-24T19:04:12.766Z"
   },
   {
    "duration": 449,
    "start_time": "2021-08-25T15:01:12.534Z"
   },
   {
    "duration": 1545,
    "start_time": "2021-08-25T15:01:25.793Z"
   },
   {
    "duration": 22,
    "start_time": "2021-08-25T15:01:27.341Z"
   },
   {
    "duration": 26,
    "start_time": "2021-08-25T15:01:27.366Z"
   },
   {
    "duration": 9,
    "start_time": "2021-08-25T15:01:27.395Z"
   },
   {
    "duration": 42,
    "start_time": "2021-08-25T15:01:27.680Z"
   },
   {
    "duration": 15,
    "start_time": "2021-08-25T15:01:31.481Z"
   },
   {
    "duration": 5190,
    "start_time": "2021-08-25T15:03:16.800Z"
   },
   {
    "duration": 15,
    "start_time": "2021-08-25T15:05:47.337Z"
   },
   {
    "duration": 5344,
    "start_time": "2021-08-25T15:05:48.047Z"
   },
   {
    "duration": 5,
    "start_time": "2021-08-25T15:10:42.035Z"
   },
   {
    "duration": 1564,
    "start_time": "2021-08-25T15:11:09.778Z"
   },
   {
    "duration": 23,
    "start_time": "2021-08-25T15:11:11.345Z"
   },
   {
    "duration": 22,
    "start_time": "2021-08-25T15:11:11.372Z"
   },
   {
    "duration": 11,
    "start_time": "2021-08-25T15:11:11.397Z"
   },
   {
    "duration": 35,
    "start_time": "2021-08-25T15:11:11.410Z"
   },
   {
    "duration": 50,
    "start_time": "2021-08-25T15:11:11.447Z"
   },
   {
    "duration": 4516,
    "start_time": "2021-08-25T15:11:11.499Z"
   },
   {
    "duration": 5,
    "start_time": "2021-08-25T15:11:16.019Z"
   },
   {
    "duration": 15,
    "start_time": "2021-08-25T15:11:16.027Z"
   },
   {
    "duration": 17,
    "start_time": "2021-08-25T15:11:16.045Z"
   },
   {
    "duration": 23,
    "start_time": "2021-08-25T15:11:16.065Z"
   },
   {
    "duration": 124,
    "start_time": "2021-08-25T15:11:16.090Z"
   },
   {
    "duration": 1346,
    "start_time": "2021-08-25T15:11:16.217Z"
   },
   {
    "duration": 1610,
    "start_time": "2021-08-25T15:11:17.567Z"
   },
   {
    "duration": 611,
    "start_time": "2021-08-25T15:11:19.187Z"
   },
   {
    "duration": 5,
    "start_time": "2021-08-25T15:11:19.801Z"
   },
   {
    "duration": 25,
    "start_time": "2021-08-25T15:11:19.809Z"
   },
   {
    "duration": 120,
    "start_time": "2021-08-25T15:11:19.837Z"
   },
   {
    "duration": 10,
    "start_time": "2021-08-25T15:11:19.960Z"
   },
   {
    "duration": 15,
    "start_time": "2021-08-25T15:11:19.973Z"
   },
   {
    "duration": 9,
    "start_time": "2021-08-25T17:06:56.844Z"
   },
   {
    "duration": 8,
    "start_time": "2021-08-25T17:07:21.963Z"
   },
   {
    "duration": 126,
    "start_time": "2021-08-25T17:12:31.754Z"
   },
   {
    "duration": 128,
    "start_time": "2021-08-25T17:13:03.122Z"
   },
   {
    "duration": 131,
    "start_time": "2021-08-25T17:13:16.626Z"
   },
   {
    "duration": 136,
    "start_time": "2021-08-25T17:13:24.497Z"
   },
   {
    "duration": 125,
    "start_time": "2021-08-25T17:13:34.841Z"
   },
   {
    "duration": 12,
    "start_time": "2021-08-25T17:14:18.265Z"
   },
   {
    "duration": 5,
    "start_time": "2021-08-25T17:14:35.921Z"
   },
   {
    "duration": 5,
    "start_time": "2021-08-25T17:16:19.466Z"
   },
   {
    "duration": 139,
    "start_time": "2021-08-25T17:16:43.193Z"
   },
   {
    "duration": 5,
    "start_time": "2021-08-25T17:16:57.641Z"
   },
   {
    "duration": 127,
    "start_time": "2021-08-25T17:17:03.496Z"
   },
   {
    "duration": 203,
    "start_time": "2021-08-25T17:17:12.473Z"
   },
   {
    "duration": 133,
    "start_time": "2021-08-25T17:17:37.752Z"
   },
   {
    "duration": 127,
    "start_time": "2021-08-25T17:18:09.545Z"
   },
   {
    "duration": 6,
    "start_time": "2021-08-25T17:18:14.744Z"
   },
   {
    "duration": 5,
    "start_time": "2021-08-25T17:18:27.393Z"
   },
   {
    "duration": 136,
    "start_time": "2021-08-25T17:18:33.496Z"
   },
   {
    "duration": 6,
    "start_time": "2021-08-25T17:18:48.344Z"
   },
   {
    "duration": 1481,
    "start_time": "2021-08-25T17:19:52.057Z"
   },
   {
    "duration": 22,
    "start_time": "2021-08-25T17:19:53.540Z"
   },
   {
    "duration": 26,
    "start_time": "2021-08-25T17:19:53.565Z"
   },
   {
    "duration": 8,
    "start_time": "2021-08-25T17:19:53.594Z"
   },
   {
    "duration": 36,
    "start_time": "2021-08-25T17:19:53.605Z"
   },
   {
    "duration": 41,
    "start_time": "2021-08-25T17:19:53.644Z"
   },
   {
    "duration": 4684,
    "start_time": "2021-08-25T17:19:53.688Z"
   },
   {
    "duration": 6,
    "start_time": "2021-08-25T17:19:58.385Z"
   },
   {
    "duration": 9,
    "start_time": "2021-08-25T17:19:58.395Z"
   },
   {
    "duration": 12,
    "start_time": "2021-08-25T17:19:58.406Z"
   },
   {
    "duration": 10,
    "start_time": "2021-08-25T17:19:58.420Z"
   },
   {
    "duration": 5,
    "start_time": "2021-08-25T17:19:58.432Z"
   },
   {
    "duration": 109,
    "start_time": "2021-08-25T17:19:58.439Z"
   },
   {
    "duration": 806,
    "start_time": "2021-08-25T17:19:58.550Z"
   },
   {
    "duration": 980,
    "start_time": "2021-08-25T17:19:59.358Z"
   },
   {
    "duration": 506,
    "start_time": "2021-08-25T17:20:00.340Z"
   },
   {
    "duration": 3,
    "start_time": "2021-08-25T17:20:00.849Z"
   },
   {
    "duration": 38,
    "start_time": "2021-08-25T17:20:00.854Z"
   },
   {
    "duration": 75,
    "start_time": "2021-08-25T17:20:00.894Z"
   },
   {
    "duration": 15,
    "start_time": "2021-08-25T17:20:00.972Z"
   },
   {
    "duration": 25,
    "start_time": "2021-08-25T17:20:00.989Z"
   },
   {
    "duration": 2690,
    "start_time": "2021-08-25T17:23:56.042Z"
   },
   {
    "duration": 52050,
    "start_time": "2021-08-25T17:24:26.208Z"
   },
   {
    "duration": 958,
    "start_time": "2021-08-25T17:25:18.261Z"
   },
   {
    "duration": 602,
    "start_time": "2021-08-25T17:28:13.666Z"
   },
   {
    "duration": 15369,
    "start_time": "2021-08-25T17:28:37.321Z"
   },
   {
    "duration": 57251,
    "start_time": "2021-08-25T17:34:36.960Z"
   },
   {
    "duration": 1457,
    "start_time": "2021-08-25T17:35:45.364Z"
   },
   {
    "duration": 23,
    "start_time": "2021-08-25T17:35:46.823Z"
   },
   {
    "duration": 21,
    "start_time": "2021-08-25T17:35:46.849Z"
   },
   {
    "duration": 17,
    "start_time": "2021-08-25T17:35:46.873Z"
   },
   {
    "duration": 40,
    "start_time": "2021-08-25T17:35:46.893Z"
   },
   {
    "duration": 15,
    "start_time": "2021-08-25T17:35:46.935Z"
   },
   {
    "duration": 4459,
    "start_time": "2021-08-25T17:35:46.953Z"
   },
   {
    "duration": 5,
    "start_time": "2021-08-25T17:35:51.416Z"
   },
   {
    "duration": 10,
    "start_time": "2021-08-25T17:35:51.424Z"
   },
   {
    "duration": 14,
    "start_time": "2021-08-25T17:35:51.436Z"
   },
   {
    "duration": 33,
    "start_time": "2021-08-25T17:35:51.452Z"
   },
   {
    "duration": 7,
    "start_time": "2021-08-25T17:35:51.487Z"
   },
   {
    "duration": 70,
    "start_time": "2021-08-25T17:35:51.496Z"
   },
   {
    "duration": 1420,
    "start_time": "2021-08-25T17:36:17.092Z"
   },
   {
    "duration": 23,
    "start_time": "2021-08-25T17:36:18.515Z"
   },
   {
    "duration": 16,
    "start_time": "2021-08-25T17:36:18.541Z"
   },
   {
    "duration": 9,
    "start_time": "2021-08-25T17:36:18.559Z"
   },
   {
    "duration": 32,
    "start_time": "2021-08-25T17:36:18.586Z"
   },
   {
    "duration": 13,
    "start_time": "2021-08-25T17:36:18.621Z"
   },
   {
    "duration": 4434,
    "start_time": "2021-08-25T17:36:18.637Z"
   },
   {
    "duration": 5,
    "start_time": "2021-08-25T17:36:23.086Z"
   },
   {
    "duration": 8,
    "start_time": "2021-08-25T17:36:23.095Z"
   },
   {
    "duration": 11,
    "start_time": "2021-08-25T17:36:23.105Z"
   },
   {
    "duration": 10,
    "start_time": "2021-08-25T17:36:23.119Z"
   },
   {
    "duration": 7,
    "start_time": "2021-08-25T17:36:23.131Z"
   },
   {
    "duration": 69,
    "start_time": "2021-08-25T17:36:23.187Z"
   },
   {
    "duration": 48621,
    "start_time": "2021-08-25T17:36:23.259Z"
   },
   {
    "duration": 56229,
    "start_time": "2021-08-25T17:37:11.886Z"
   },
   {
    "duration": 482,
    "start_time": "2021-08-25T17:38:08.118Z"
   },
   {
    "duration": 3,
    "start_time": "2021-08-25T17:38:08.603Z"
   },
   {
    "duration": 26,
    "start_time": "2021-08-25T17:38:08.609Z"
   },
   {
    "duration": 77,
    "start_time": "2021-08-25T17:38:08.637Z"
   },
   {
    "duration": 8,
    "start_time": "2021-08-25T17:38:08.717Z"
   },
   {
    "duration": 15,
    "start_time": "2021-08-25T17:38:08.727Z"
   },
   {
    "duration": 93,
    "start_time": "2021-08-25T17:39:58.102Z"
   },
   {
    "duration": 1512,
    "start_time": "2021-08-26T14:30:17.899Z"
   },
   {
    "duration": 20,
    "start_time": "2021-08-26T14:30:19.414Z"
   },
   {
    "duration": 17,
    "start_time": "2021-08-26T14:30:19.437Z"
   },
   {
    "duration": 26,
    "start_time": "2021-08-26T14:30:19.457Z"
   },
   {
    "duration": 47,
    "start_time": "2021-08-26T14:30:19.485Z"
   },
   {
    "duration": 15,
    "start_time": "2021-08-26T14:30:19.534Z"
   },
   {
    "duration": 4721,
    "start_time": "2021-08-26T14:30:19.567Z"
   },
   {
    "duration": 5,
    "start_time": "2021-08-26T14:30:24.292Z"
   },
   {
    "duration": 8,
    "start_time": "2021-08-26T14:30:24.299Z"
   },
   {
    "duration": 12,
    "start_time": "2021-08-26T14:30:24.309Z"
   },
   {
    "duration": 9,
    "start_time": "2021-08-26T14:30:24.323Z"
   },
   {
    "duration": 5,
    "start_time": "2021-08-26T14:30:24.367Z"
   },
   {
    "duration": 67,
    "start_time": "2021-08-26T14:30:24.374Z"
   },
   {
    "duration": 50068,
    "start_time": "2021-08-26T14:30:24.468Z"
   },
   {
    "duration": 58260,
    "start_time": "2021-08-26T14:31:14.538Z"
   },
   {
    "duration": 457,
    "start_time": "2021-08-26T14:32:12.800Z"
   },
   {
    "duration": 3,
    "start_time": "2021-08-26T14:32:13.260Z"
   },
   {
    "duration": 20,
    "start_time": "2021-08-26T14:32:13.268Z"
   },
   {
    "duration": 99,
    "start_time": "2021-08-26T14:32:13.290Z"
   },
   {
    "duration": 9,
    "start_time": "2021-08-26T14:32:13.391Z"
   },
   {
    "duration": 6,
    "start_time": "2021-08-26T14:32:13.403Z"
   },
   {
    "duration": 593,
    "start_time": "2021-08-26T14:32:23.051Z"
   },
   {
    "duration": 407,
    "start_time": "2021-08-26T14:41:27.080Z"
   },
   {
    "duration": 184,
    "start_time": "2021-08-26T14:44:30.706Z"
   },
   {
    "duration": 1525,
    "start_time": "2021-08-26T14:55:36.896Z"
   },
   {
    "duration": 21,
    "start_time": "2021-08-26T14:55:38.423Z"
   },
   {
    "duration": 21,
    "start_time": "2021-08-26T14:55:38.447Z"
   },
   {
    "duration": 8,
    "start_time": "2021-08-26T14:55:38.471Z"
   },
   {
    "duration": 40,
    "start_time": "2021-08-26T14:55:38.482Z"
   },
   {
    "duration": 45,
    "start_time": "2021-08-26T14:55:38.524Z"
   },
   {
    "duration": 4879,
    "start_time": "2021-08-26T14:55:38.571Z"
   },
   {
    "duration": 13,
    "start_time": "2021-08-26T14:55:43.454Z"
   },
   {
    "duration": 5,
    "start_time": "2021-08-26T14:55:43.470Z"
   },
   {
    "duration": 10,
    "start_time": "2021-08-26T14:55:43.477Z"
   },
   {
    "duration": 8,
    "start_time": "2021-08-26T14:55:43.490Z"
   },
   {
    "duration": 4,
    "start_time": "2021-08-26T14:55:43.501Z"
   },
   {
    "duration": 118,
    "start_time": "2021-08-26T14:55:43.507Z"
   },
   {
    "duration": 51201,
    "start_time": "2021-08-26T14:55:43.627Z"
   },
   {
    "duration": 57062,
    "start_time": "2021-08-26T14:56:34.831Z"
   },
   {
    "duration": 643,
    "start_time": "2021-08-26T14:57:31.896Z"
   },
   {
    "duration": 5,
    "start_time": "2021-08-26T14:57:32.543Z"
   },
   {
    "duration": 39,
    "start_time": "2021-08-26T14:57:32.550Z"
   },
   {
    "duration": 194,
    "start_time": "2021-08-26T14:57:32.592Z"
   },
   {
    "duration": 8,
    "start_time": "2021-08-26T14:57:32.789Z"
   },
   {
    "duration": 8,
    "start_time": "2021-08-26T14:57:32.799Z"
   },
   {
    "duration": 1489,
    "start_time": "2021-08-27T14:49:19.032Z"
   },
   {
    "duration": 20,
    "start_time": "2021-08-27T14:49:20.524Z"
   },
   {
    "duration": 21,
    "start_time": "2021-08-27T14:49:20.547Z"
   },
   {
    "duration": 9,
    "start_time": "2021-08-27T14:49:20.571Z"
   },
   {
    "duration": 37,
    "start_time": "2021-08-27T14:49:20.582Z"
   },
   {
    "duration": 14,
    "start_time": "2021-08-27T14:49:20.621Z"
   },
   {
    "duration": 4686,
    "start_time": "2021-08-27T14:49:20.668Z"
   },
   {
    "duration": 6,
    "start_time": "2021-08-27T14:49:25.367Z"
   },
   {
    "duration": 7,
    "start_time": "2021-08-27T14:49:25.376Z"
   },
   {
    "duration": 11,
    "start_time": "2021-08-27T14:49:25.385Z"
   },
   {
    "duration": 8,
    "start_time": "2021-08-27T14:49:25.398Z"
   },
   {
    "duration": 5,
    "start_time": "2021-08-27T14:49:25.409Z"
   },
   {
    "duration": 113,
    "start_time": "2021-08-27T14:49:25.417Z"
   },
   {
    "duration": 48394,
    "start_time": "2021-08-27T14:49:25.533Z"
   },
   {
    "duration": 56347,
    "start_time": "2021-08-27T14:50:13.929Z"
   },
   {
    "duration": 611,
    "start_time": "2021-08-27T14:51:10.278Z"
   },
   {
    "duration": 4,
    "start_time": "2021-08-27T14:51:10.891Z"
   },
   {
    "duration": 25,
    "start_time": "2021-08-27T14:51:10.897Z"
   },
   {
    "duration": 171,
    "start_time": "2021-08-27T14:51:10.924Z"
   },
   {
    "duration": 8,
    "start_time": "2021-08-27T14:51:11.097Z"
   },
   {
    "duration": 16,
    "start_time": "2021-08-27T14:51:11.107Z"
   },
   {
    "duration": 404,
    "start_time": "2021-08-27T14:59:18.380Z"
   },
   {
    "duration": 5,
    "start_time": "2021-08-27T15:00:10.021Z"
   },
   {
    "duration": 13,
    "start_time": "2021-08-27T15:00:32.732Z"
   },
   {
    "duration": 12,
    "start_time": "2021-08-27T15:00:40.964Z"
   },
   {
    "duration": 14,
    "start_time": "2021-08-27T15:00:47.254Z"
   },
   {
    "duration": 11,
    "start_time": "2021-08-27T15:00:54.374Z"
   },
   {
    "duration": 13,
    "start_time": "2021-08-27T15:00:57.723Z"
   },
   {
    "duration": 10,
    "start_time": "2021-08-27T15:01:04.628Z"
   },
   {
    "duration": 12,
    "start_time": "2021-08-27T15:01:41.421Z"
   },
   {
    "duration": 7,
    "start_time": "2021-08-27T15:01:56.445Z"
   },
   {
    "duration": 6,
    "start_time": "2021-08-27T15:02:08.036Z"
   },
   {
    "duration": 7,
    "start_time": "2021-08-27T15:02:13.132Z"
   },
   {
    "duration": 11,
    "start_time": "2021-08-27T15:02:16.964Z"
   },
   {
    "duration": 112,
    "start_time": "2021-08-27T15:03:03.524Z"
   },
   {
    "duration": 111,
    "start_time": "2021-08-27T15:03:36.620Z"
   },
   {
    "duration": 102,
    "start_time": "2021-08-27T15:03:44.660Z"
   },
   {
    "duration": 1540,
    "start_time": "2021-08-27T15:04:48.145Z"
   },
   {
    "duration": 24,
    "start_time": "2021-08-27T15:04:49.687Z"
   },
   {
    "duration": 18,
    "start_time": "2021-08-27T15:04:49.715Z"
   },
   {
    "duration": 32,
    "start_time": "2021-08-27T15:04:49.737Z"
   },
   {
    "duration": 39,
    "start_time": "2021-08-27T15:04:49.772Z"
   },
   {
    "duration": 15,
    "start_time": "2021-08-27T15:04:49.813Z"
   },
   {
    "duration": 4503,
    "start_time": "2021-08-27T15:04:49.831Z"
   },
   {
    "duration": 4,
    "start_time": "2021-08-27T15:04:54.338Z"
   },
   {
    "duration": 5,
    "start_time": "2021-08-27T15:04:54.366Z"
   },
   {
    "duration": 19,
    "start_time": "2021-08-27T15:04:54.374Z"
   },
   {
    "duration": 20,
    "start_time": "2021-08-27T15:04:54.396Z"
   },
   {
    "duration": 8,
    "start_time": "2021-08-27T15:04:54.419Z"
   },
   {
    "duration": 90,
    "start_time": "2021-08-27T15:04:54.430Z"
   },
   {
    "duration": 49413,
    "start_time": "2021-08-27T15:04:54.524Z"
   },
   {
    "duration": 61570,
    "start_time": "2021-08-27T15:05:43.940Z"
   },
   {
    "duration": 877,
    "start_time": "2021-08-27T15:06:45.512Z"
   },
   {
    "duration": 4,
    "start_time": "2021-08-27T15:06:46.392Z"
   },
   {
    "duration": 29,
    "start_time": "2021-08-27T15:06:46.399Z"
   },
   {
    "duration": 140,
    "start_time": "2021-08-27T15:06:46.431Z"
   },
   {
    "duration": 9,
    "start_time": "2021-08-27T15:06:46.574Z"
   },
   {
    "duration": 23,
    "start_time": "2021-08-27T15:06:46.585Z"
   }
  ],
  "kernelspec": {
   "display_name": "Python 3 (ipykernel)",
   "language": "python",
   "name": "python3"
  },
  "language_info": {
   "codemirror_mode": {
    "name": "ipython",
    "version": 3
   },
   "file_extension": ".py",
   "mimetype": "text/x-python",
   "name": "python",
   "nbconvert_exporter": "python",
   "pygments_lexer": "ipython3",
   "version": "3.9.7"
  },
  "toc": {
   "base_numbering": 1,
   "nav_menu": {},
   "number_sections": true,
   "sideBar": true,
   "skip_h1_title": true,
   "title_cell": "Table of Contents",
   "title_sidebar": "Contents",
   "toc_cell": false,
   "toc_position": {},
   "toc_section_display": true,
   "toc_window_display": false
  }
 },
 "nbformat": 4,
 "nbformat_minor": 2
}
