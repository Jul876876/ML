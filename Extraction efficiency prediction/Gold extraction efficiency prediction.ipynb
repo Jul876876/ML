{
 "cells": [
  {
   "cell_type": "markdown",
   "metadata": {},
   "source": [
    "# Gold extraction from gold ore"
   ]
  },
  {
   "cell_type": "markdown",
   "metadata": {},
   "source": [
    "Goal: develop machine learning algorithm for gold extraction efficiency prediction using the extraction and processing parameters data."
   ]
  },
  {
   "cell_type": "markdown",
   "metadata": {},
   "source": [
    "## Data Preparation"
   ]
  },
  {
   "cell_type": "markdown",
   "metadata": {},
   "source": [
    "Upload the data and the necessary libraries"
   ]
  },
  {
   "cell_type": "code",
   "execution_count": 1,
   "metadata": {},
   "outputs": [],
   "source": [
    "import pandas as pd\n",
    "import numpy as np\n",
    "from sklearn.model_selection import train_test_split\n",
    "import matplotlib.pyplot as plt\n",
    "from statsmodels.stats.outliers_influence import variance_inflation_factor\n",
    "from sklearn.metrics import mean_absolute_error\n",
    "from sklearn.linear_model import LinearRegression\n",
    "from sklearn.ensemble import RandomForestRegressor\n",
    "from sklearn.model_selection import train_test_split\n",
    "from sklearn.preprocessing import LabelEncoder\n",
    "from sklearn.model_selection import GridSearchCV\n",
    "import warnings\n",
    "warnings.filterwarnings('ignore')"
   ]
  },
  {
   "cell_type": "code",
   "execution_count": 2,
   "metadata": {},
   "outputs": [],
   "source": [
    "matplotlib inline"
   ]
  },
  {
   "cell_type": "code",
   "execution_count": 3,
   "metadata": {},
   "outputs": [],
   "source": [
    "data_train = pd.read_csv('/datasets/gold_recovery_train_new.csv')\n",
    "data_test = pd.read_csv('/datasets/gold_recovery_test_new.csv')\n",
    "data_all = pd.read_csv('/datasets/gold_recovery_full_new.csv')"
   ]
  },
  {
   "cell_type": "markdown",
   "metadata": {},
   "source": [
    "Data review"
   ]
  },
  {
   "cell_type": "code",
   "execution_count": 4,
   "metadata": {
    "scrolled": false
   },
   "outputs": [
    {
     "name": "stdout",
     "output_type": "stream",
     "text": [
      "NAME: data_train\n",
      "-------------------\n",
      "Dataset review\n"
     ]
    },
    {
     "data": {
      "text/html": [
       "<div>\n",
       "<style scoped>\n",
       "    .dataframe tbody tr th:only-of-type {\n",
       "        vertical-align: middle;\n",
       "    }\n",
       "\n",
       "    .dataframe tbody tr th {\n",
       "        vertical-align: top;\n",
       "    }\n",
       "\n",
       "    .dataframe thead th {\n",
       "        text-align: right;\n",
       "    }\n",
       "</style>\n",
       "<table border=\"1\" class=\"dataframe\">\n",
       "  <thead>\n",
       "    <tr style=\"text-align: right;\">\n",
       "      <th></th>\n",
       "      <th>date</th>\n",
       "      <th>final.output.concentrate_ag</th>\n",
       "      <th>final.output.concentrate_pb</th>\n",
       "      <th>final.output.concentrate_sol</th>\n",
       "      <th>final.output.concentrate_au</th>\n",
       "      <th>final.output.recovery</th>\n",
       "      <th>final.output.tail_ag</th>\n",
       "      <th>final.output.tail_pb</th>\n",
       "      <th>final.output.tail_sol</th>\n",
       "      <th>final.output.tail_au</th>\n",
       "      <th>...</th>\n",
       "      <th>secondary_cleaner.state.floatbank4_a_air</th>\n",
       "      <th>secondary_cleaner.state.floatbank4_a_level</th>\n",
       "      <th>secondary_cleaner.state.floatbank4_b_air</th>\n",
       "      <th>secondary_cleaner.state.floatbank4_b_level</th>\n",
       "      <th>secondary_cleaner.state.floatbank5_a_air</th>\n",
       "      <th>secondary_cleaner.state.floatbank5_a_level</th>\n",
       "      <th>secondary_cleaner.state.floatbank5_b_air</th>\n",
       "      <th>secondary_cleaner.state.floatbank5_b_level</th>\n",
       "      <th>secondary_cleaner.state.floatbank6_a_air</th>\n",
       "      <th>secondary_cleaner.state.floatbank6_a_level</th>\n",
       "    </tr>\n",
       "  </thead>\n",
       "  <tbody>\n",
       "    <tr>\n",
       "      <td>0</td>\n",
       "      <td>2016-01-15 00:00:00</td>\n",
       "      <td>6.055403</td>\n",
       "      <td>9.889648</td>\n",
       "      <td>5.507324</td>\n",
       "      <td>42.192020</td>\n",
       "      <td>70.541216</td>\n",
       "      <td>10.411962</td>\n",
       "      <td>0.895447</td>\n",
       "      <td>16.904297</td>\n",
       "      <td>2.143149</td>\n",
       "      <td>...</td>\n",
       "      <td>14.016835</td>\n",
       "      <td>-502.488007</td>\n",
       "      <td>12.099931</td>\n",
       "      <td>-504.715942</td>\n",
       "      <td>9.925633</td>\n",
       "      <td>-498.310211</td>\n",
       "      <td>8.079666</td>\n",
       "      <td>-500.470978</td>\n",
       "      <td>14.151341</td>\n",
       "      <td>-605.841980</td>\n",
       "    </tr>\n",
       "    <tr>\n",
       "      <td>1</td>\n",
       "      <td>2016-01-15 01:00:00</td>\n",
       "      <td>6.029369</td>\n",
       "      <td>9.968944</td>\n",
       "      <td>5.257781</td>\n",
       "      <td>42.701629</td>\n",
       "      <td>69.266198</td>\n",
       "      <td>10.462676</td>\n",
       "      <td>0.927452</td>\n",
       "      <td>16.634514</td>\n",
       "      <td>2.224930</td>\n",
       "      <td>...</td>\n",
       "      <td>13.992281</td>\n",
       "      <td>-505.503262</td>\n",
       "      <td>11.950531</td>\n",
       "      <td>-501.331529</td>\n",
       "      <td>10.039245</td>\n",
       "      <td>-500.169983</td>\n",
       "      <td>7.984757</td>\n",
       "      <td>-500.582168</td>\n",
       "      <td>13.998353</td>\n",
       "      <td>-599.787184</td>\n",
       "    </tr>\n",
       "    <tr>\n",
       "      <td>2</td>\n",
       "      <td>2016-01-15 02:00:00</td>\n",
       "      <td>6.055926</td>\n",
       "      <td>10.213995</td>\n",
       "      <td>5.383759</td>\n",
       "      <td>42.657501</td>\n",
       "      <td>68.116445</td>\n",
       "      <td>10.507046</td>\n",
       "      <td>0.953716</td>\n",
       "      <td>16.208849</td>\n",
       "      <td>2.257889</td>\n",
       "      <td>...</td>\n",
       "      <td>14.015015</td>\n",
       "      <td>-502.520901</td>\n",
       "      <td>11.912783</td>\n",
       "      <td>-501.133383</td>\n",
       "      <td>10.070913</td>\n",
       "      <td>-500.129135</td>\n",
       "      <td>8.013877</td>\n",
       "      <td>-500.517572</td>\n",
       "      <td>14.028663</td>\n",
       "      <td>-601.427363</td>\n",
       "    </tr>\n",
       "    <tr>\n",
       "      <td>3</td>\n",
       "      <td>2016-01-15 03:00:00</td>\n",
       "      <td>6.047977</td>\n",
       "      <td>9.977019</td>\n",
       "      <td>4.858634</td>\n",
       "      <td>42.689819</td>\n",
       "      <td>68.347543</td>\n",
       "      <td>10.422762</td>\n",
       "      <td>0.883763</td>\n",
       "      <td>16.532835</td>\n",
       "      <td>2.146849</td>\n",
       "      <td>...</td>\n",
       "      <td>14.036510</td>\n",
       "      <td>-500.857308</td>\n",
       "      <td>11.999550</td>\n",
       "      <td>-501.193686</td>\n",
       "      <td>9.970366</td>\n",
       "      <td>-499.201640</td>\n",
       "      <td>7.977324</td>\n",
       "      <td>-500.255908</td>\n",
       "      <td>14.005551</td>\n",
       "      <td>-599.996129</td>\n",
       "    </tr>\n",
       "    <tr>\n",
       "      <td>4</td>\n",
       "      <td>2016-01-15 04:00:00</td>\n",
       "      <td>6.148599</td>\n",
       "      <td>10.142511</td>\n",
       "      <td>4.939416</td>\n",
       "      <td>42.774141</td>\n",
       "      <td>66.927016</td>\n",
       "      <td>10.360302</td>\n",
       "      <td>0.792826</td>\n",
       "      <td>16.525686</td>\n",
       "      <td>2.055292</td>\n",
       "      <td>...</td>\n",
       "      <td>14.027298</td>\n",
       "      <td>-499.838632</td>\n",
       "      <td>11.953070</td>\n",
       "      <td>-501.053894</td>\n",
       "      <td>9.925709</td>\n",
       "      <td>-501.686727</td>\n",
       "      <td>7.894242</td>\n",
       "      <td>-500.356035</td>\n",
       "      <td>13.996647</td>\n",
       "      <td>-601.496691</td>\n",
       "    </tr>\n",
       "  </tbody>\n",
       "</table>\n",
       "<p>5 rows × 87 columns</p>\n",
       "</div>"
      ],
      "text/plain": [
       "                  date  final.output.concentrate_ag  \\\n",
       "0  2016-01-15 00:00:00                     6.055403   \n",
       "1  2016-01-15 01:00:00                     6.029369   \n",
       "2  2016-01-15 02:00:00                     6.055926   \n",
       "3  2016-01-15 03:00:00                     6.047977   \n",
       "4  2016-01-15 04:00:00                     6.148599   \n",
       "\n",
       "   final.output.concentrate_pb  final.output.concentrate_sol  \\\n",
       "0                     9.889648                      5.507324   \n",
       "1                     9.968944                      5.257781   \n",
       "2                    10.213995                      5.383759   \n",
       "3                     9.977019                      4.858634   \n",
       "4                    10.142511                      4.939416   \n",
       "\n",
       "   final.output.concentrate_au  final.output.recovery  final.output.tail_ag  \\\n",
       "0                    42.192020              70.541216             10.411962   \n",
       "1                    42.701629              69.266198             10.462676   \n",
       "2                    42.657501              68.116445             10.507046   \n",
       "3                    42.689819              68.347543             10.422762   \n",
       "4                    42.774141              66.927016             10.360302   \n",
       "\n",
       "   final.output.tail_pb  final.output.tail_sol  final.output.tail_au  ...  \\\n",
       "0              0.895447              16.904297              2.143149  ...   \n",
       "1              0.927452              16.634514              2.224930  ...   \n",
       "2              0.953716              16.208849              2.257889  ...   \n",
       "3              0.883763              16.532835              2.146849  ...   \n",
       "4              0.792826              16.525686              2.055292  ...   \n",
       "\n",
       "   secondary_cleaner.state.floatbank4_a_air  \\\n",
       "0                                 14.016835   \n",
       "1                                 13.992281   \n",
       "2                                 14.015015   \n",
       "3                                 14.036510   \n",
       "4                                 14.027298   \n",
       "\n",
       "   secondary_cleaner.state.floatbank4_a_level  \\\n",
       "0                                 -502.488007   \n",
       "1                                 -505.503262   \n",
       "2                                 -502.520901   \n",
       "3                                 -500.857308   \n",
       "4                                 -499.838632   \n",
       "\n",
       "   secondary_cleaner.state.floatbank4_b_air  \\\n",
       "0                                 12.099931   \n",
       "1                                 11.950531   \n",
       "2                                 11.912783   \n",
       "3                                 11.999550   \n",
       "4                                 11.953070   \n",
       "\n",
       "   secondary_cleaner.state.floatbank4_b_level  \\\n",
       "0                                 -504.715942   \n",
       "1                                 -501.331529   \n",
       "2                                 -501.133383   \n",
       "3                                 -501.193686   \n",
       "4                                 -501.053894   \n",
       "\n",
       "   secondary_cleaner.state.floatbank5_a_air  \\\n",
       "0                                  9.925633   \n",
       "1                                 10.039245   \n",
       "2                                 10.070913   \n",
       "3                                  9.970366   \n",
       "4                                  9.925709   \n",
       "\n",
       "   secondary_cleaner.state.floatbank5_a_level  \\\n",
       "0                                 -498.310211   \n",
       "1                                 -500.169983   \n",
       "2                                 -500.129135   \n",
       "3                                 -499.201640   \n",
       "4                                 -501.686727   \n",
       "\n",
       "   secondary_cleaner.state.floatbank5_b_air  \\\n",
       "0                                  8.079666   \n",
       "1                                  7.984757   \n",
       "2                                  8.013877   \n",
       "3                                  7.977324   \n",
       "4                                  7.894242   \n",
       "\n",
       "   secondary_cleaner.state.floatbank5_b_level  \\\n",
       "0                                 -500.470978   \n",
       "1                                 -500.582168   \n",
       "2                                 -500.517572   \n",
       "3                                 -500.255908   \n",
       "4                                 -500.356035   \n",
       "\n",
       "   secondary_cleaner.state.floatbank6_a_air  \\\n",
       "0                                 14.151341   \n",
       "1                                 13.998353   \n",
       "2                                 14.028663   \n",
       "3                                 14.005551   \n",
       "4                                 13.996647   \n",
       "\n",
       "   secondary_cleaner.state.floatbank6_a_level  \n",
       "0                                 -605.841980  \n",
       "1                                 -599.787184  \n",
       "2                                 -601.427363  \n",
       "3                                 -599.996129  \n",
       "4                                 -601.496691  \n",
       "\n",
       "[5 rows x 87 columns]"
      ]
     },
     "metadata": {},
     "output_type": "display_data"
    },
    {
     "name": "stdout",
     "output_type": "stream",
     "text": [
      "-----\n",
      "Short summary\n",
      "<class 'pandas.core.frame.DataFrame'>\n",
      "RangeIndex: 14149 entries, 0 to 14148\n",
      "Data columns (total 87 columns):\n",
      "date                                                  14149 non-null object\n",
      "final.output.concentrate_ag                           14148 non-null float64\n",
      "final.output.concentrate_pb                           14148 non-null float64\n",
      "final.output.concentrate_sol                          13938 non-null float64\n",
      "final.output.concentrate_au                           14149 non-null float64\n",
      "final.output.recovery                                 14149 non-null float64\n",
      "final.output.tail_ag                                  14149 non-null float64\n",
      "final.output.tail_pb                                  14049 non-null float64\n",
      "final.output.tail_sol                                 14144 non-null float64\n",
      "final.output.tail_au                                  14149 non-null float64\n",
      "primary_cleaner.input.sulfate                         14129 non-null float64\n",
      "primary_cleaner.input.depressant                      14117 non-null float64\n",
      "primary_cleaner.input.feed_size                       14149 non-null float64\n",
      "primary_cleaner.input.xanthate                        14049 non-null float64\n",
      "primary_cleaner.output.concentrate_ag                 14149 non-null float64\n",
      "primary_cleaner.output.concentrate_pb                 14063 non-null float64\n",
      "primary_cleaner.output.concentrate_sol                13863 non-null float64\n",
      "primary_cleaner.output.concentrate_au                 14149 non-null float64\n",
      "primary_cleaner.output.tail_ag                        14148 non-null float64\n",
      "primary_cleaner.output.tail_pb                        14134 non-null float64\n",
      "primary_cleaner.output.tail_sol                       14103 non-null float64\n",
      "primary_cleaner.output.tail_au                        14149 non-null float64\n",
      "primary_cleaner.state.floatbank8_a_air                14145 non-null float64\n",
      "primary_cleaner.state.floatbank8_a_level              14148 non-null float64\n",
      "primary_cleaner.state.floatbank8_b_air                14145 non-null float64\n",
      "primary_cleaner.state.floatbank8_b_level              14148 non-null float64\n",
      "primary_cleaner.state.floatbank8_c_air                14147 non-null float64\n",
      "primary_cleaner.state.floatbank8_c_level              14148 non-null float64\n",
      "primary_cleaner.state.floatbank8_d_air                14146 non-null float64\n",
      "primary_cleaner.state.floatbank8_d_level              14148 non-null float64\n",
      "rougher.calculation.sulfate_to_au_concentrate         14148 non-null float64\n",
      "rougher.calculation.floatbank10_sulfate_to_au_feed    14148 non-null float64\n",
      "rougher.calculation.floatbank11_sulfate_to_au_feed    14148 non-null float64\n",
      "rougher.calculation.au_pb_ratio                       14149 non-null float64\n",
      "rougher.input.feed_ag                                 14149 non-null float64\n",
      "rougher.input.feed_pb                                 14049 non-null float64\n",
      "rougher.input.feed_rate                               14141 non-null float64\n",
      "rougher.input.feed_size                               14005 non-null float64\n",
      "rougher.input.feed_sol                                14071 non-null float64\n",
      "rougher.input.feed_au                                 14149 non-null float64\n",
      "rougher.input.floatbank10_sulfate                     14120 non-null float64\n",
      "rougher.input.floatbank10_xanthate                    14141 non-null float64\n",
      "rougher.input.floatbank11_sulfate                     14113 non-null float64\n",
      "rougher.input.floatbank11_xanthate                    13721 non-null float64\n",
      "rougher.output.concentrate_ag                         14149 non-null float64\n",
      "rougher.output.concentrate_pb                         14149 non-null float64\n",
      "rougher.output.concentrate_sol                        14127 non-null float64\n",
      "rougher.output.concentrate_au                         14149 non-null float64\n",
      "rougher.output.recovery                               14149 non-null float64\n",
      "rougher.output.tail_ag                                14148 non-null float64\n",
      "rougher.output.tail_pb                                14149 non-null float64\n",
      "rougher.output.tail_sol                               14149 non-null float64\n",
      "rougher.output.tail_au                                14149 non-null float64\n",
      "rougher.state.floatbank10_a_air                       14148 non-null float64\n",
      "rougher.state.floatbank10_a_level                     14148 non-null float64\n",
      "rougher.state.floatbank10_b_air                       14148 non-null float64\n",
      "rougher.state.floatbank10_b_level                     14148 non-null float64\n",
      "rougher.state.floatbank10_c_air                       14148 non-null float64\n",
      "rougher.state.floatbank10_c_level                     14148 non-null float64\n",
      "rougher.state.floatbank10_d_air                       14149 non-null float64\n",
      "rougher.state.floatbank10_d_level                     14149 non-null float64\n",
      "rougher.state.floatbank10_e_air                       13713 non-null float64\n",
      "rougher.state.floatbank10_e_level                     14149 non-null float64\n",
      "rougher.state.floatbank10_f_air                       14149 non-null float64\n",
      "rougher.state.floatbank10_f_level                     14149 non-null float64\n",
      "secondary_cleaner.output.tail_ag                      14147 non-null float64\n",
      "secondary_cleaner.output.tail_pb                      14139 non-null float64\n",
      "secondary_cleaner.output.tail_sol                     12544 non-null float64\n",
      "secondary_cleaner.output.tail_au                      14149 non-null float64\n",
      "secondary_cleaner.state.floatbank2_a_air              13932 non-null float64\n",
      "secondary_cleaner.state.floatbank2_a_level            14148 non-null float64\n",
      "secondary_cleaner.state.floatbank2_b_air              14128 non-null float64\n",
      "secondary_cleaner.state.floatbank2_b_level            14148 non-null float64\n",
      "secondary_cleaner.state.floatbank3_a_air              14145 non-null float64\n",
      "secondary_cleaner.state.floatbank3_a_level            14148 non-null float64\n",
      "secondary_cleaner.state.floatbank3_b_air              14148 non-null float64\n",
      "secondary_cleaner.state.floatbank3_b_level            14148 non-null float64\n",
      "secondary_cleaner.state.floatbank4_a_air              14143 non-null float64\n",
      "secondary_cleaner.state.floatbank4_a_level            14148 non-null float64\n",
      "secondary_cleaner.state.floatbank4_b_air              14148 non-null float64\n",
      "secondary_cleaner.state.floatbank4_b_level            14148 non-null float64\n",
      "secondary_cleaner.state.floatbank5_a_air              14148 non-null float64\n",
      "secondary_cleaner.state.floatbank5_a_level            14148 non-null float64\n",
      "secondary_cleaner.state.floatbank5_b_air              14148 non-null float64\n",
      "secondary_cleaner.state.floatbank5_b_level            14148 non-null float64\n",
      "secondary_cleaner.state.floatbank6_a_air              14147 non-null float64\n",
      "secondary_cleaner.state.floatbank6_a_level            14148 non-null float64\n",
      "dtypes: float64(86), object(1)\n",
      "memory usage: 9.4+ MB\n"
     ]
    },
    {
     "data": {
      "text/plain": [
       "None"
      ]
     },
     "metadata": {},
     "output_type": "display_data"
    },
    {
     "name": "stdout",
     "output_type": "stream",
     "text": [
      "-----\n",
      "Statistics\n"
     ]
    },
    {
     "data": {
      "text/html": [
       "<div>\n",
       "<style scoped>\n",
       "    .dataframe tbody tr th:only-of-type {\n",
       "        vertical-align: middle;\n",
       "    }\n",
       "\n",
       "    .dataframe tbody tr th {\n",
       "        vertical-align: top;\n",
       "    }\n",
       "\n",
       "    .dataframe thead th {\n",
       "        text-align: right;\n",
       "    }\n",
       "</style>\n",
       "<table border=\"1\" class=\"dataframe\">\n",
       "  <thead>\n",
       "    <tr style=\"text-align: right;\">\n",
       "      <th></th>\n",
       "      <th>final.output.concentrate_ag</th>\n",
       "      <th>final.output.concentrate_pb</th>\n",
       "      <th>final.output.concentrate_sol</th>\n",
       "      <th>final.output.concentrate_au</th>\n",
       "      <th>final.output.recovery</th>\n",
       "      <th>final.output.tail_ag</th>\n",
       "      <th>final.output.tail_pb</th>\n",
       "      <th>final.output.tail_sol</th>\n",
       "      <th>final.output.tail_au</th>\n",
       "      <th>primary_cleaner.input.sulfate</th>\n",
       "      <th>...</th>\n",
       "      <th>secondary_cleaner.state.floatbank4_a_air</th>\n",
       "      <th>secondary_cleaner.state.floatbank4_a_level</th>\n",
       "      <th>secondary_cleaner.state.floatbank4_b_air</th>\n",
       "      <th>secondary_cleaner.state.floatbank4_b_level</th>\n",
       "      <th>secondary_cleaner.state.floatbank5_a_air</th>\n",
       "      <th>secondary_cleaner.state.floatbank5_a_level</th>\n",
       "      <th>secondary_cleaner.state.floatbank5_b_air</th>\n",
       "      <th>secondary_cleaner.state.floatbank5_b_level</th>\n",
       "      <th>secondary_cleaner.state.floatbank6_a_air</th>\n",
       "      <th>secondary_cleaner.state.floatbank6_a_level</th>\n",
       "    </tr>\n",
       "  </thead>\n",
       "  <tbody>\n",
       "    <tr>\n",
       "      <td>count</td>\n",
       "      <td>14148.000000</td>\n",
       "      <td>14148.000000</td>\n",
       "      <td>13938.000000</td>\n",
       "      <td>14149.000000</td>\n",
       "      <td>14149.000000</td>\n",
       "      <td>14149.000000</td>\n",
       "      <td>14049.000000</td>\n",
       "      <td>14144.000000</td>\n",
       "      <td>14149.000000</td>\n",
       "      <td>14129.000000</td>\n",
       "      <td>...</td>\n",
       "      <td>14143.000000</td>\n",
       "      <td>14148.000000</td>\n",
       "      <td>14148.000000</td>\n",
       "      <td>14148.000000</td>\n",
       "      <td>14148.000000</td>\n",
       "      <td>14148.000000</td>\n",
       "      <td>14148.000000</td>\n",
       "      <td>14148.000000</td>\n",
       "      <td>14147.000000</td>\n",
       "      <td>14148.000000</td>\n",
       "    </tr>\n",
       "    <tr>\n",
       "      <td>mean</td>\n",
       "      <td>5.142034</td>\n",
       "      <td>10.132960</td>\n",
       "      <td>9.202849</td>\n",
       "      <td>44.003792</td>\n",
       "      <td>66.518832</td>\n",
       "      <td>9.607035</td>\n",
       "      <td>2.597298</td>\n",
       "      <td>10.512122</td>\n",
       "      <td>2.918421</td>\n",
       "      <td>133.320659</td>\n",
       "      <td>...</td>\n",
       "      <td>19.985454</td>\n",
       "      <td>-478.696836</td>\n",
       "      <td>15.487065</td>\n",
       "      <td>-460.229416</td>\n",
       "      <td>16.775136</td>\n",
       "      <td>-483.956022</td>\n",
       "      <td>13.064590</td>\n",
       "      <td>-483.966564</td>\n",
       "      <td>19.577539</td>\n",
       "      <td>-506.798480</td>\n",
       "    </tr>\n",
       "    <tr>\n",
       "      <td>std</td>\n",
       "      <td>1.369586</td>\n",
       "      <td>1.654930</td>\n",
       "      <td>2.790516</td>\n",
       "      <td>4.905261</td>\n",
       "      <td>10.295402</td>\n",
       "      <td>2.319069</td>\n",
       "      <td>0.971843</td>\n",
       "      <td>3.003617</td>\n",
       "      <td>0.903712</td>\n",
       "      <td>39.431659</td>\n",
       "      <td>...</td>\n",
       "      <td>5.657723</td>\n",
       "      <td>50.736021</td>\n",
       "      <td>5.255655</td>\n",
       "      <td>58.843586</td>\n",
       "      <td>5.831906</td>\n",
       "      <td>37.892788</td>\n",
       "      <td>5.765617</td>\n",
       "      <td>39.207913</td>\n",
       "      <td>5.764417</td>\n",
       "      <td>37.079249</td>\n",
       "    </tr>\n",
       "    <tr>\n",
       "      <td>min</td>\n",
       "      <td>0.000000</td>\n",
       "      <td>0.000000</td>\n",
       "      <td>0.000000</td>\n",
       "      <td>0.000000</td>\n",
       "      <td>0.000000</td>\n",
       "      <td>0.000000</td>\n",
       "      <td>0.000000</td>\n",
       "      <td>0.000000</td>\n",
       "      <td>0.000000</td>\n",
       "      <td>0.003112</td>\n",
       "      <td>...</td>\n",
       "      <td>0.000000</td>\n",
       "      <td>-799.709069</td>\n",
       "      <td>0.000000</td>\n",
       "      <td>-799.889113</td>\n",
       "      <td>-0.372054</td>\n",
       "      <td>-797.142475</td>\n",
       "      <td>0.646208</td>\n",
       "      <td>-800.006180</td>\n",
       "      <td>0.195324</td>\n",
       "      <td>-809.398668</td>\n",
       "    </tr>\n",
       "    <tr>\n",
       "      <td>25%</td>\n",
       "      <td>4.211620</td>\n",
       "      <td>9.297355</td>\n",
       "      <td>7.484645</td>\n",
       "      <td>43.276111</td>\n",
       "      <td>62.545817</td>\n",
       "      <td>7.997429</td>\n",
       "      <td>1.905973</td>\n",
       "      <td>8.811324</td>\n",
       "      <td>2.368607</td>\n",
       "      <td>107.006651</td>\n",
       "      <td>...</td>\n",
       "      <td>14.990775</td>\n",
       "      <td>-500.628656</td>\n",
       "      <td>11.894558</td>\n",
       "      <td>-500.149000</td>\n",
       "      <td>11.083980</td>\n",
       "      <td>-500.363177</td>\n",
       "      <td>8.994405</td>\n",
       "      <td>-500.105994</td>\n",
       "      <td>14.989304</td>\n",
       "      <td>-500.745104</td>\n",
       "    </tr>\n",
       "    <tr>\n",
       "      <td>50%</td>\n",
       "      <td>4.994652</td>\n",
       "      <td>10.297144</td>\n",
       "      <td>8.845462</td>\n",
       "      <td>44.872436</td>\n",
       "      <td>67.432775</td>\n",
       "      <td>9.480270</td>\n",
       "      <td>2.592022</td>\n",
       "      <td>10.514621</td>\n",
       "      <td>2.851025</td>\n",
       "      <td>133.018328</td>\n",
       "      <td>...</td>\n",
       "      <td>20.001789</td>\n",
       "      <td>-499.681450</td>\n",
       "      <td>14.975536</td>\n",
       "      <td>-499.388738</td>\n",
       "      <td>17.932223</td>\n",
       "      <td>-499.702452</td>\n",
       "      <td>11.997547</td>\n",
       "      <td>-499.914556</td>\n",
       "      <td>19.984175</td>\n",
       "      <td>-500.061431</td>\n",
       "    </tr>\n",
       "    <tr>\n",
       "      <td>75%</td>\n",
       "      <td>5.859540</td>\n",
       "      <td>11.170603</td>\n",
       "      <td>10.487508</td>\n",
       "      <td>46.166425</td>\n",
       "      <td>72.346428</td>\n",
       "      <td>11.003707</td>\n",
       "      <td>3.241723</td>\n",
       "      <td>11.933009</td>\n",
       "      <td>3.434764</td>\n",
       "      <td>159.825396</td>\n",
       "      <td>...</td>\n",
       "      <td>24.990826</td>\n",
       "      <td>-477.472413</td>\n",
       "      <td>20.059375</td>\n",
       "      <td>-400.039008</td>\n",
       "      <td>21.346550</td>\n",
       "      <td>-487.712108</td>\n",
       "      <td>17.982903</td>\n",
       "      <td>-453.186936</td>\n",
       "      <td>24.991623</td>\n",
       "      <td>-499.536466</td>\n",
       "    </tr>\n",
       "    <tr>\n",
       "      <td>max</td>\n",
       "      <td>16.001945</td>\n",
       "      <td>17.031899</td>\n",
       "      <td>18.124851</td>\n",
       "      <td>52.756638</td>\n",
       "      <td>100.000000</td>\n",
       "      <td>19.552149</td>\n",
       "      <td>5.639565</td>\n",
       "      <td>22.317730</td>\n",
       "      <td>8.197408</td>\n",
       "      <td>250.127834</td>\n",
       "      <td>...</td>\n",
       "      <td>30.115735</td>\n",
       "      <td>-245.239184</td>\n",
       "      <td>24.007913</td>\n",
       "      <td>-145.071088</td>\n",
       "      <td>43.709931</td>\n",
       "      <td>-275.073125</td>\n",
       "      <td>27.926001</td>\n",
       "      <td>-157.396071</td>\n",
       "      <td>32.188906</td>\n",
       "      <td>-104.427459</td>\n",
       "    </tr>\n",
       "  </tbody>\n",
       "</table>\n",
       "<p>8 rows × 86 columns</p>\n",
       "</div>"
      ],
      "text/plain": [
       "       final.output.concentrate_ag  final.output.concentrate_pb  \\\n",
       "count                 14148.000000                 14148.000000   \n",
       "mean                      5.142034                    10.132960   \n",
       "std                       1.369586                     1.654930   \n",
       "min                       0.000000                     0.000000   \n",
       "25%                       4.211620                     9.297355   \n",
       "50%                       4.994652                    10.297144   \n",
       "75%                       5.859540                    11.170603   \n",
       "max                      16.001945                    17.031899   \n",
       "\n",
       "       final.output.concentrate_sol  final.output.concentrate_au  \\\n",
       "count                  13938.000000                 14149.000000   \n",
       "mean                       9.202849                    44.003792   \n",
       "std                        2.790516                     4.905261   \n",
       "min                        0.000000                     0.000000   \n",
       "25%                        7.484645                    43.276111   \n",
       "50%                        8.845462                    44.872436   \n",
       "75%                       10.487508                    46.166425   \n",
       "max                       18.124851                    52.756638   \n",
       "\n",
       "       final.output.recovery  final.output.tail_ag  final.output.tail_pb  \\\n",
       "count           14149.000000          14149.000000          14049.000000   \n",
       "mean               66.518832              9.607035              2.597298   \n",
       "std                10.295402              2.319069              0.971843   \n",
       "min                 0.000000              0.000000              0.000000   \n",
       "25%                62.545817              7.997429              1.905973   \n",
       "50%                67.432775              9.480270              2.592022   \n",
       "75%                72.346428             11.003707              3.241723   \n",
       "max               100.000000             19.552149              5.639565   \n",
       "\n",
       "       final.output.tail_sol  final.output.tail_au  \\\n",
       "count           14144.000000          14149.000000   \n",
       "mean               10.512122              2.918421   \n",
       "std                 3.003617              0.903712   \n",
       "min                 0.000000              0.000000   \n",
       "25%                 8.811324              2.368607   \n",
       "50%                10.514621              2.851025   \n",
       "75%                11.933009              3.434764   \n",
       "max                22.317730              8.197408   \n",
       "\n",
       "       primary_cleaner.input.sulfate  ...  \\\n",
       "count                   14129.000000  ...   \n",
       "mean                      133.320659  ...   \n",
       "std                        39.431659  ...   \n",
       "min                         0.003112  ...   \n",
       "25%                       107.006651  ...   \n",
       "50%                       133.018328  ...   \n",
       "75%                       159.825396  ...   \n",
       "max                       250.127834  ...   \n",
       "\n",
       "       secondary_cleaner.state.floatbank4_a_air  \\\n",
       "count                              14143.000000   \n",
       "mean                                  19.985454   \n",
       "std                                    5.657723   \n",
       "min                                    0.000000   \n",
       "25%                                   14.990775   \n",
       "50%                                   20.001789   \n",
       "75%                                   24.990826   \n",
       "max                                   30.115735   \n",
       "\n",
       "       secondary_cleaner.state.floatbank4_a_level  \\\n",
       "count                                14148.000000   \n",
       "mean                                  -478.696836   \n",
       "std                                     50.736021   \n",
       "min                                   -799.709069   \n",
       "25%                                   -500.628656   \n",
       "50%                                   -499.681450   \n",
       "75%                                   -477.472413   \n",
       "max                                   -245.239184   \n",
       "\n",
       "       secondary_cleaner.state.floatbank4_b_air  \\\n",
       "count                              14148.000000   \n",
       "mean                                  15.487065   \n",
       "std                                    5.255655   \n",
       "min                                    0.000000   \n",
       "25%                                   11.894558   \n",
       "50%                                   14.975536   \n",
       "75%                                   20.059375   \n",
       "max                                   24.007913   \n",
       "\n",
       "       secondary_cleaner.state.floatbank4_b_level  \\\n",
       "count                                14148.000000   \n",
       "mean                                  -460.229416   \n",
       "std                                     58.843586   \n",
       "min                                   -799.889113   \n",
       "25%                                   -500.149000   \n",
       "50%                                   -499.388738   \n",
       "75%                                   -400.039008   \n",
       "max                                   -145.071088   \n",
       "\n",
       "       secondary_cleaner.state.floatbank5_a_air  \\\n",
       "count                              14148.000000   \n",
       "mean                                  16.775136   \n",
       "std                                    5.831906   \n",
       "min                                   -0.372054   \n",
       "25%                                   11.083980   \n",
       "50%                                   17.932223   \n",
       "75%                                   21.346550   \n",
       "max                                   43.709931   \n",
       "\n",
       "       secondary_cleaner.state.floatbank5_a_level  \\\n",
       "count                                14148.000000   \n",
       "mean                                  -483.956022   \n",
       "std                                     37.892788   \n",
       "min                                   -797.142475   \n",
       "25%                                   -500.363177   \n",
       "50%                                   -499.702452   \n",
       "75%                                   -487.712108   \n",
       "max                                   -275.073125   \n",
       "\n",
       "       secondary_cleaner.state.floatbank5_b_air  \\\n",
       "count                              14148.000000   \n",
       "mean                                  13.064590   \n",
       "std                                    5.765617   \n",
       "min                                    0.646208   \n",
       "25%                                    8.994405   \n",
       "50%                                   11.997547   \n",
       "75%                                   17.982903   \n",
       "max                                   27.926001   \n",
       "\n",
       "       secondary_cleaner.state.floatbank5_b_level  \\\n",
       "count                                14148.000000   \n",
       "mean                                  -483.966564   \n",
       "std                                     39.207913   \n",
       "min                                   -800.006180   \n",
       "25%                                   -500.105994   \n",
       "50%                                   -499.914556   \n",
       "75%                                   -453.186936   \n",
       "max                                   -157.396071   \n",
       "\n",
       "       secondary_cleaner.state.floatbank6_a_air  \\\n",
       "count                              14147.000000   \n",
       "mean                                  19.577539   \n",
       "std                                    5.764417   \n",
       "min                                    0.195324   \n",
       "25%                                   14.989304   \n",
       "50%                                   19.984175   \n",
       "75%                                   24.991623   \n",
       "max                                   32.188906   \n",
       "\n",
       "       secondary_cleaner.state.floatbank6_a_level  \n",
       "count                                14148.000000  \n",
       "mean                                  -506.798480  \n",
       "std                                     37.079249  \n",
       "min                                   -809.398668  \n",
       "25%                                   -500.745104  \n",
       "50%                                   -500.061431  \n",
       "75%                                   -499.536466  \n",
       "max                                   -104.427459  \n",
       "\n",
       "[8 rows x 86 columns]"
      ]
     },
     "metadata": {},
     "output_type": "display_data"
    },
    {
     "name": "stdout",
     "output_type": "stream",
     "text": [
      "-----\n",
      "Amount of duplicates\n"
     ]
    },
    {
     "data": {
      "text/plain": [
       "0"
      ]
     },
     "metadata": {},
     "output_type": "display_data"
    },
    {
     "name": "stdout",
     "output_type": "stream",
     "text": [
      "-----\n",
      "Percentage of missing data in features\n"
     ]
    },
    {
     "data": {
      "text/plain": [
       "secondary_cleaner.output.tail_sol                     0.113436\n",
       "rougher.state.floatbank10_e_air                       0.030815\n",
       "rougher.input.floatbank11_xanthate                    0.030249\n",
       "primary_cleaner.output.concentrate_sol                0.020213\n",
       "secondary_cleaner.state.floatbank2_a_air              0.015337\n",
       "final.output.concentrate_sol                          0.014913\n",
       "rougher.input.feed_size                               0.010177\n",
       "final.output.tail_pb                                  0.007068\n",
       "rougher.input.feed_pb                                 0.007068\n",
       "primary_cleaner.input.xanthate                        0.007068\n",
       "primary_cleaner.output.concentrate_pb                 0.006078\n",
       "rougher.input.feed_sol                                0.005513\n",
       "primary_cleaner.output.tail_sol                       0.003251\n",
       "rougher.input.floatbank11_sulfate                     0.002544\n",
       "primary_cleaner.input.depressant                      0.002262\n",
       "rougher.input.floatbank10_sulfate                     0.002050\n",
       "rougher.output.concentrate_sol                        0.001555\n",
       "secondary_cleaner.state.floatbank2_b_air              0.001484\n",
       "primary_cleaner.input.sulfate                         0.001414\n",
       "primary_cleaner.output.tail_pb                        0.001060\n",
       "secondary_cleaner.output.tail_pb                      0.000707\n",
       "rougher.input.feed_rate                               0.000565\n",
       "rougher.input.floatbank10_xanthate                    0.000565\n",
       "secondary_cleaner.state.floatbank4_a_air              0.000424\n",
       "final.output.tail_sol                                 0.000353\n",
       "primary_cleaner.state.floatbank8_b_air                0.000283\n",
       "primary_cleaner.state.floatbank8_a_air                0.000283\n",
       "secondary_cleaner.state.floatbank3_a_air              0.000283\n",
       "primary_cleaner.state.floatbank8_d_air                0.000212\n",
       "primary_cleaner.state.floatbank8_c_air                0.000141\n",
       "secondary_cleaner.state.floatbank6_a_air              0.000141\n",
       "secondary_cleaner.output.tail_ag                      0.000141\n",
       "final.output.concentrate_ag                           0.000071\n",
       "final.output.concentrate_pb                           0.000071\n",
       "primary_cleaner.output.tail_ag                        0.000071\n",
       "rougher.calculation.floatbank11_sulfate_to_au_feed    0.000071\n",
       "rougher.calculation.floatbank10_sulfate_to_au_feed    0.000071\n",
       "rougher.calculation.sulfate_to_au_concentrate         0.000071\n",
       "primary_cleaner.state.floatbank8_d_level              0.000071\n",
       "primary_cleaner.state.floatbank8_b_level              0.000071\n",
       "primary_cleaner.state.floatbank8_a_level              0.000071\n",
       "primary_cleaner.state.floatbank8_c_level              0.000071\n",
       "secondary_cleaner.state.floatbank6_a_level            0.000071\n",
       "rougher.state.floatbank10_b_air                       0.000071\n",
       "rougher.state.floatbank10_a_level                     0.000071\n",
       "secondary_cleaner.state.floatbank2_a_level            0.000071\n",
       "secondary_cleaner.state.floatbank3_b_air              0.000071\n",
       "secondary_cleaner.state.floatbank3_b_level            0.000071\n",
       "secondary_cleaner.state.floatbank4_a_level            0.000071\n",
       "secondary_cleaner.state.floatbank4_b_air              0.000071\n",
       "dtype: float64"
      ]
     },
     "metadata": {},
     "output_type": "display_data"
    },
    {
     "name": "stdout",
     "output_type": "stream",
     "text": [
      "\n",
      "NAME: data_test\n",
      "-------------------\n",
      "Dataset review\n"
     ]
    },
    {
     "data": {
      "text/html": [
       "<div>\n",
       "<style scoped>\n",
       "    .dataframe tbody tr th:only-of-type {\n",
       "        vertical-align: middle;\n",
       "    }\n",
       "\n",
       "    .dataframe tbody tr th {\n",
       "        vertical-align: top;\n",
       "    }\n",
       "\n",
       "    .dataframe thead th {\n",
       "        text-align: right;\n",
       "    }\n",
       "</style>\n",
       "<table border=\"1\" class=\"dataframe\">\n",
       "  <thead>\n",
       "    <tr style=\"text-align: right;\">\n",
       "      <th></th>\n",
       "      <th>date</th>\n",
       "      <th>primary_cleaner.input.sulfate</th>\n",
       "      <th>primary_cleaner.input.depressant</th>\n",
       "      <th>primary_cleaner.input.feed_size</th>\n",
       "      <th>primary_cleaner.input.xanthate</th>\n",
       "      <th>primary_cleaner.state.floatbank8_a_air</th>\n",
       "      <th>primary_cleaner.state.floatbank8_a_level</th>\n",
       "      <th>primary_cleaner.state.floatbank8_b_air</th>\n",
       "      <th>primary_cleaner.state.floatbank8_b_level</th>\n",
       "      <th>primary_cleaner.state.floatbank8_c_air</th>\n",
       "      <th>...</th>\n",
       "      <th>secondary_cleaner.state.floatbank4_a_air</th>\n",
       "      <th>secondary_cleaner.state.floatbank4_a_level</th>\n",
       "      <th>secondary_cleaner.state.floatbank4_b_air</th>\n",
       "      <th>secondary_cleaner.state.floatbank4_b_level</th>\n",
       "      <th>secondary_cleaner.state.floatbank5_a_air</th>\n",
       "      <th>secondary_cleaner.state.floatbank5_a_level</th>\n",
       "      <th>secondary_cleaner.state.floatbank5_b_air</th>\n",
       "      <th>secondary_cleaner.state.floatbank5_b_level</th>\n",
       "      <th>secondary_cleaner.state.floatbank6_a_air</th>\n",
       "      <th>secondary_cleaner.state.floatbank6_a_level</th>\n",
       "    </tr>\n",
       "  </thead>\n",
       "  <tbody>\n",
       "    <tr>\n",
       "      <td>0</td>\n",
       "      <td>2016-09-01 00:59:59</td>\n",
       "      <td>210.800909</td>\n",
       "      <td>14.993118</td>\n",
       "      <td>8.080000</td>\n",
       "      <td>1.005021</td>\n",
       "      <td>1398.981301</td>\n",
       "      <td>-500.225577</td>\n",
       "      <td>1399.144926</td>\n",
       "      <td>-499.919735</td>\n",
       "      <td>1400.102998</td>\n",
       "      <td>...</td>\n",
       "      <td>12.023554</td>\n",
       "      <td>-497.795834</td>\n",
       "      <td>8.016656</td>\n",
       "      <td>-501.289139</td>\n",
       "      <td>7.946562</td>\n",
       "      <td>-432.317850</td>\n",
       "      <td>4.872511</td>\n",
       "      <td>-500.037437</td>\n",
       "      <td>26.705889</td>\n",
       "      <td>-499.709414</td>\n",
       "    </tr>\n",
       "    <tr>\n",
       "      <td>1</td>\n",
       "      <td>2016-09-01 01:59:59</td>\n",
       "      <td>215.392455</td>\n",
       "      <td>14.987471</td>\n",
       "      <td>8.080000</td>\n",
       "      <td>0.990469</td>\n",
       "      <td>1398.777912</td>\n",
       "      <td>-500.057435</td>\n",
       "      <td>1398.055362</td>\n",
       "      <td>-499.778182</td>\n",
       "      <td>1396.151033</td>\n",
       "      <td>...</td>\n",
       "      <td>12.058140</td>\n",
       "      <td>-498.695773</td>\n",
       "      <td>8.130979</td>\n",
       "      <td>-499.634209</td>\n",
       "      <td>7.958270</td>\n",
       "      <td>-525.839648</td>\n",
       "      <td>4.878850</td>\n",
       "      <td>-500.162375</td>\n",
       "      <td>25.019940</td>\n",
       "      <td>-499.819438</td>\n",
       "    </tr>\n",
       "    <tr>\n",
       "      <td>2</td>\n",
       "      <td>2016-09-01 02:59:59</td>\n",
       "      <td>215.259946</td>\n",
       "      <td>12.884934</td>\n",
       "      <td>7.786667</td>\n",
       "      <td>0.996043</td>\n",
       "      <td>1398.493666</td>\n",
       "      <td>-500.868360</td>\n",
       "      <td>1398.860436</td>\n",
       "      <td>-499.764529</td>\n",
       "      <td>1398.075709</td>\n",
       "      <td>...</td>\n",
       "      <td>11.962366</td>\n",
       "      <td>-498.767484</td>\n",
       "      <td>8.096893</td>\n",
       "      <td>-500.827423</td>\n",
       "      <td>8.071056</td>\n",
       "      <td>-500.801673</td>\n",
       "      <td>4.905125</td>\n",
       "      <td>-499.828510</td>\n",
       "      <td>24.994862</td>\n",
       "      <td>-500.622559</td>\n",
       "    </tr>\n",
       "    <tr>\n",
       "      <td>3</td>\n",
       "      <td>2016-09-01 03:59:59</td>\n",
       "      <td>215.336236</td>\n",
       "      <td>12.006805</td>\n",
       "      <td>7.640000</td>\n",
       "      <td>0.863514</td>\n",
       "      <td>1399.618111</td>\n",
       "      <td>-498.863574</td>\n",
       "      <td>1397.440120</td>\n",
       "      <td>-499.211024</td>\n",
       "      <td>1400.129303</td>\n",
       "      <td>...</td>\n",
       "      <td>12.033091</td>\n",
       "      <td>-498.350935</td>\n",
       "      <td>8.074946</td>\n",
       "      <td>-499.474407</td>\n",
       "      <td>7.897085</td>\n",
       "      <td>-500.868509</td>\n",
       "      <td>4.931400</td>\n",
       "      <td>-499.963623</td>\n",
       "      <td>24.948919</td>\n",
       "      <td>-498.709987</td>\n",
       "    </tr>\n",
       "    <tr>\n",
       "      <td>4</td>\n",
       "      <td>2016-09-01 04:59:59</td>\n",
       "      <td>199.099327</td>\n",
       "      <td>10.682530</td>\n",
       "      <td>7.530000</td>\n",
       "      <td>0.805575</td>\n",
       "      <td>1401.268123</td>\n",
       "      <td>-500.808305</td>\n",
       "      <td>1398.128818</td>\n",
       "      <td>-499.504543</td>\n",
       "      <td>1402.172226</td>\n",
       "      <td>...</td>\n",
       "      <td>12.025367</td>\n",
       "      <td>-500.786497</td>\n",
       "      <td>8.054678</td>\n",
       "      <td>-500.397500</td>\n",
       "      <td>8.107890</td>\n",
       "      <td>-509.526725</td>\n",
       "      <td>4.957674</td>\n",
       "      <td>-500.360026</td>\n",
       "      <td>25.003331</td>\n",
       "      <td>-500.856333</td>\n",
       "    </tr>\n",
       "  </tbody>\n",
       "</table>\n",
       "<p>5 rows × 53 columns</p>\n",
       "</div>"
      ],
      "text/plain": [
       "                  date  primary_cleaner.input.sulfate  \\\n",
       "0  2016-09-01 00:59:59                     210.800909   \n",
       "1  2016-09-01 01:59:59                     215.392455   \n",
       "2  2016-09-01 02:59:59                     215.259946   \n",
       "3  2016-09-01 03:59:59                     215.336236   \n",
       "4  2016-09-01 04:59:59                     199.099327   \n",
       "\n",
       "   primary_cleaner.input.depressant  primary_cleaner.input.feed_size  \\\n",
       "0                         14.993118                         8.080000   \n",
       "1                         14.987471                         8.080000   \n",
       "2                         12.884934                         7.786667   \n",
       "3                         12.006805                         7.640000   \n",
       "4                         10.682530                         7.530000   \n",
       "\n",
       "   primary_cleaner.input.xanthate  primary_cleaner.state.floatbank8_a_air  \\\n",
       "0                        1.005021                             1398.981301   \n",
       "1                        0.990469                             1398.777912   \n",
       "2                        0.996043                             1398.493666   \n",
       "3                        0.863514                             1399.618111   \n",
       "4                        0.805575                             1401.268123   \n",
       "\n",
       "   primary_cleaner.state.floatbank8_a_level  \\\n",
       "0                               -500.225577   \n",
       "1                               -500.057435   \n",
       "2                               -500.868360   \n",
       "3                               -498.863574   \n",
       "4                               -500.808305   \n",
       "\n",
       "   primary_cleaner.state.floatbank8_b_air  \\\n",
       "0                             1399.144926   \n",
       "1                             1398.055362   \n",
       "2                             1398.860436   \n",
       "3                             1397.440120   \n",
       "4                             1398.128818   \n",
       "\n",
       "   primary_cleaner.state.floatbank8_b_level  \\\n",
       "0                               -499.919735   \n",
       "1                               -499.778182   \n",
       "2                               -499.764529   \n",
       "3                               -499.211024   \n",
       "4                               -499.504543   \n",
       "\n",
       "   primary_cleaner.state.floatbank8_c_air  ...  \\\n",
       "0                             1400.102998  ...   \n",
       "1                             1396.151033  ...   \n",
       "2                             1398.075709  ...   \n",
       "3                             1400.129303  ...   \n",
       "4                             1402.172226  ...   \n",
       "\n",
       "   secondary_cleaner.state.floatbank4_a_air  \\\n",
       "0                                 12.023554   \n",
       "1                                 12.058140   \n",
       "2                                 11.962366   \n",
       "3                                 12.033091   \n",
       "4                                 12.025367   \n",
       "\n",
       "   secondary_cleaner.state.floatbank4_a_level  \\\n",
       "0                                 -497.795834   \n",
       "1                                 -498.695773   \n",
       "2                                 -498.767484   \n",
       "3                                 -498.350935   \n",
       "4                                 -500.786497   \n",
       "\n",
       "   secondary_cleaner.state.floatbank4_b_air  \\\n",
       "0                                  8.016656   \n",
       "1                                  8.130979   \n",
       "2                                  8.096893   \n",
       "3                                  8.074946   \n",
       "4                                  8.054678   \n",
       "\n",
       "   secondary_cleaner.state.floatbank4_b_level  \\\n",
       "0                                 -501.289139   \n",
       "1                                 -499.634209   \n",
       "2                                 -500.827423   \n",
       "3                                 -499.474407   \n",
       "4                                 -500.397500   \n",
       "\n",
       "   secondary_cleaner.state.floatbank5_a_air  \\\n",
       "0                                  7.946562   \n",
       "1                                  7.958270   \n",
       "2                                  8.071056   \n",
       "3                                  7.897085   \n",
       "4                                  8.107890   \n",
       "\n",
       "   secondary_cleaner.state.floatbank5_a_level  \\\n",
       "0                                 -432.317850   \n",
       "1                                 -525.839648   \n",
       "2                                 -500.801673   \n",
       "3                                 -500.868509   \n",
       "4                                 -509.526725   \n",
       "\n",
       "   secondary_cleaner.state.floatbank5_b_air  \\\n",
       "0                                  4.872511   \n",
       "1                                  4.878850   \n",
       "2                                  4.905125   \n",
       "3                                  4.931400   \n",
       "4                                  4.957674   \n",
       "\n",
       "   secondary_cleaner.state.floatbank5_b_level  \\\n",
       "0                                 -500.037437   \n",
       "1                                 -500.162375   \n",
       "2                                 -499.828510   \n",
       "3                                 -499.963623   \n",
       "4                                 -500.360026   \n",
       "\n",
       "   secondary_cleaner.state.floatbank6_a_air  \\\n",
       "0                                 26.705889   \n",
       "1                                 25.019940   \n",
       "2                                 24.994862   \n",
       "3                                 24.948919   \n",
       "4                                 25.003331   \n",
       "\n",
       "   secondary_cleaner.state.floatbank6_a_level  \n",
       "0                                 -499.709414  \n",
       "1                                 -499.819438  \n",
       "2                                 -500.622559  \n",
       "3                                 -498.709987  \n",
       "4                                 -500.856333  \n",
       "\n",
       "[5 rows x 53 columns]"
      ]
     },
     "metadata": {},
     "output_type": "display_data"
    },
    {
     "name": "stdout",
     "output_type": "stream",
     "text": [
      "-----\n",
      "Short summary\n",
      "<class 'pandas.core.frame.DataFrame'>\n",
      "RangeIndex: 5290 entries, 0 to 5289\n",
      "Data columns (total 53 columns):\n",
      "date                                          5290 non-null object\n",
      "primary_cleaner.input.sulfate                 5286 non-null float64\n",
      "primary_cleaner.input.depressant              5285 non-null float64\n",
      "primary_cleaner.input.feed_size               5290 non-null float64\n",
      "primary_cleaner.input.xanthate                5286 non-null float64\n",
      "primary_cleaner.state.floatbank8_a_air        5290 non-null float64\n",
      "primary_cleaner.state.floatbank8_a_level      5290 non-null float64\n",
      "primary_cleaner.state.floatbank8_b_air        5290 non-null float64\n",
      "primary_cleaner.state.floatbank8_b_level      5290 non-null float64\n",
      "primary_cleaner.state.floatbank8_c_air        5290 non-null float64\n",
      "primary_cleaner.state.floatbank8_c_level      5290 non-null float64\n",
      "primary_cleaner.state.floatbank8_d_air        5290 non-null float64\n",
      "primary_cleaner.state.floatbank8_d_level      5290 non-null float64\n",
      "rougher.input.feed_ag                         5290 non-null float64\n",
      "rougher.input.feed_pb                         5290 non-null float64\n",
      "rougher.input.feed_rate                       5287 non-null float64\n",
      "rougher.input.feed_size                       5289 non-null float64\n",
      "rougher.input.feed_sol                        5269 non-null float64\n",
      "rougher.input.feed_au                         5290 non-null float64\n",
      "rougher.input.floatbank10_sulfate             5285 non-null float64\n",
      "rougher.input.floatbank10_xanthate            5290 non-null float64\n",
      "rougher.input.floatbank11_sulfate             5282 non-null float64\n",
      "rougher.input.floatbank11_xanthate            5265 non-null float64\n",
      "rougher.state.floatbank10_a_air               5290 non-null float64\n",
      "rougher.state.floatbank10_a_level             5290 non-null float64\n",
      "rougher.state.floatbank10_b_air               5290 non-null float64\n",
      "rougher.state.floatbank10_b_level             5290 non-null float64\n",
      "rougher.state.floatbank10_c_air               5290 non-null float64\n",
      "rougher.state.floatbank10_c_level             5290 non-null float64\n",
      "rougher.state.floatbank10_d_air               5290 non-null float64\n",
      "rougher.state.floatbank10_d_level             5290 non-null float64\n",
      "rougher.state.floatbank10_e_air               5290 non-null float64\n",
      "rougher.state.floatbank10_e_level             5290 non-null float64\n",
      "rougher.state.floatbank10_f_air               5290 non-null float64\n",
      "rougher.state.floatbank10_f_level             5290 non-null float64\n",
      "secondary_cleaner.state.floatbank2_a_air      5287 non-null float64\n",
      "secondary_cleaner.state.floatbank2_a_level    5290 non-null float64\n",
      "secondary_cleaner.state.floatbank2_b_air      5288 non-null float64\n",
      "secondary_cleaner.state.floatbank2_b_level    5290 non-null float64\n",
      "secondary_cleaner.state.floatbank3_a_air      5281 non-null float64\n",
      "secondary_cleaner.state.floatbank3_a_level    5290 non-null float64\n",
      "secondary_cleaner.state.floatbank3_b_air      5290 non-null float64\n",
      "secondary_cleaner.state.floatbank3_b_level    5290 non-null float64\n",
      "secondary_cleaner.state.floatbank4_a_air      5290 non-null float64\n",
      "secondary_cleaner.state.floatbank4_a_level    5290 non-null float64\n",
      "secondary_cleaner.state.floatbank4_b_air      5290 non-null float64\n",
      "secondary_cleaner.state.floatbank4_b_level    5290 non-null float64\n",
      "secondary_cleaner.state.floatbank5_a_air      5290 non-null float64\n",
      "secondary_cleaner.state.floatbank5_a_level    5290 non-null float64\n",
      "secondary_cleaner.state.floatbank5_b_air      5290 non-null float64\n",
      "secondary_cleaner.state.floatbank5_b_level    5290 non-null float64\n",
      "secondary_cleaner.state.floatbank6_a_air      5290 non-null float64\n",
      "secondary_cleaner.state.floatbank6_a_level    5290 non-null float64\n",
      "dtypes: float64(52), object(1)\n",
      "memory usage: 2.1+ MB\n"
     ]
    },
    {
     "data": {
      "text/plain": [
       "None"
      ]
     },
     "metadata": {},
     "output_type": "display_data"
    },
    {
     "name": "stdout",
     "output_type": "stream",
     "text": [
      "-----\n",
      "Statistics\n"
     ]
    },
    {
     "data": {
      "text/html": [
       "<div>\n",
       "<style scoped>\n",
       "    .dataframe tbody tr th:only-of-type {\n",
       "        vertical-align: middle;\n",
       "    }\n",
       "\n",
       "    .dataframe tbody tr th {\n",
       "        vertical-align: top;\n",
       "    }\n",
       "\n",
       "    .dataframe thead th {\n",
       "        text-align: right;\n",
       "    }\n",
       "</style>\n",
       "<table border=\"1\" class=\"dataframe\">\n",
       "  <thead>\n",
       "    <tr style=\"text-align: right;\">\n",
       "      <th></th>\n",
       "      <th>primary_cleaner.input.sulfate</th>\n",
       "      <th>primary_cleaner.input.depressant</th>\n",
       "      <th>primary_cleaner.input.feed_size</th>\n",
       "      <th>primary_cleaner.input.xanthate</th>\n",
       "      <th>primary_cleaner.state.floatbank8_a_air</th>\n",
       "      <th>primary_cleaner.state.floatbank8_a_level</th>\n",
       "      <th>primary_cleaner.state.floatbank8_b_air</th>\n",
       "      <th>primary_cleaner.state.floatbank8_b_level</th>\n",
       "      <th>primary_cleaner.state.floatbank8_c_air</th>\n",
       "      <th>primary_cleaner.state.floatbank8_c_level</th>\n",
       "      <th>...</th>\n",
       "      <th>secondary_cleaner.state.floatbank4_a_air</th>\n",
       "      <th>secondary_cleaner.state.floatbank4_a_level</th>\n",
       "      <th>secondary_cleaner.state.floatbank4_b_air</th>\n",
       "      <th>secondary_cleaner.state.floatbank4_b_level</th>\n",
       "      <th>secondary_cleaner.state.floatbank5_a_air</th>\n",
       "      <th>secondary_cleaner.state.floatbank5_a_level</th>\n",
       "      <th>secondary_cleaner.state.floatbank5_b_air</th>\n",
       "      <th>secondary_cleaner.state.floatbank5_b_level</th>\n",
       "      <th>secondary_cleaner.state.floatbank6_a_air</th>\n",
       "      <th>secondary_cleaner.state.floatbank6_a_level</th>\n",
       "    </tr>\n",
       "  </thead>\n",
       "  <tbody>\n",
       "    <tr>\n",
       "      <td>count</td>\n",
       "      <td>5286.000000</td>\n",
       "      <td>5285.000000</td>\n",
       "      <td>5290.000000</td>\n",
       "      <td>5286.000000</td>\n",
       "      <td>5.290000e+03</td>\n",
       "      <td>5290.000000</td>\n",
       "      <td>5.290000e+03</td>\n",
       "      <td>5290.000000</td>\n",
       "      <td>5.290000e+03</td>\n",
       "      <td>5290.000000</td>\n",
       "      <td>...</td>\n",
       "      <td>5.290000e+03</td>\n",
       "      <td>5290.000000</td>\n",
       "      <td>5.290000e+03</td>\n",
       "      <td>5290.000000</td>\n",
       "      <td>5290.000000</td>\n",
       "      <td>5290.000000</td>\n",
       "      <td>5290.000000</td>\n",
       "      <td>5290.000000</td>\n",
       "      <td>5290.000000</td>\n",
       "      <td>5290.000000</td>\n",
       "    </tr>\n",
       "    <tr>\n",
       "      <td>mean</td>\n",
       "      <td>174.839652</td>\n",
       "      <td>8.683596</td>\n",
       "      <td>7.266339</td>\n",
       "      <td>1.383803</td>\n",
       "      <td>1.539494e+03</td>\n",
       "      <td>-497.665883</td>\n",
       "      <td>1.545174e+03</td>\n",
       "      <td>-500.273098</td>\n",
       "      <td>1.527272e+03</td>\n",
       "      <td>-498.330680</td>\n",
       "      <td>...</td>\n",
       "      <td>1.632007e+01</td>\n",
       "      <td>-505.144570</td>\n",
       "      <td>1.373544e+01</td>\n",
       "      <td>-463.349858</td>\n",
       "      <td>12.804186</td>\n",
       "      <td>-501.329122</td>\n",
       "      <td>9.881145</td>\n",
       "      <td>-495.663398</td>\n",
       "      <td>17.304935</td>\n",
       "      <td>-501.793193</td>\n",
       "    </tr>\n",
       "    <tr>\n",
       "      <td>std</td>\n",
       "      <td>43.027080</td>\n",
       "      <td>3.072050</td>\n",
       "      <td>0.610219</td>\n",
       "      <td>0.643474</td>\n",
       "      <td>1.167979e+02</td>\n",
       "      <td>19.952431</td>\n",
       "      <td>1.222246e+02</td>\n",
       "      <td>32.968307</td>\n",
       "      <td>1.225380e+02</td>\n",
       "      <td>21.964876</td>\n",
       "      <td>...</td>\n",
       "      <td>3.493583e+00</td>\n",
       "      <td>31.427337</td>\n",
       "      <td>3.430484e+00</td>\n",
       "      <td>86.189107</td>\n",
       "      <td>3.026591</td>\n",
       "      <td>17.951495</td>\n",
       "      <td>2.868205</td>\n",
       "      <td>34.535007</td>\n",
       "      <td>4.536544</td>\n",
       "      <td>39.044215</td>\n",
       "    </tr>\n",
       "    <tr>\n",
       "      <td>min</td>\n",
       "      <td>2.566156</td>\n",
       "      <td>0.003839</td>\n",
       "      <td>5.650000</td>\n",
       "      <td>0.004984</td>\n",
       "      <td>5.445860e-32</td>\n",
       "      <td>-795.316337</td>\n",
       "      <td>6.647490e-32</td>\n",
       "      <td>-799.997015</td>\n",
       "      <td>4.033736e-32</td>\n",
       "      <td>-799.960571</td>\n",
       "      <td>...</td>\n",
       "      <td>1.079872e-16</td>\n",
       "      <td>-799.798523</td>\n",
       "      <td>2.489718e-17</td>\n",
       "      <td>-800.836914</td>\n",
       "      <td>0.069227</td>\n",
       "      <td>-797.323986</td>\n",
       "      <td>0.528083</td>\n",
       "      <td>-800.220337</td>\n",
       "      <td>-0.079426</td>\n",
       "      <td>-809.741464</td>\n",
       "    </tr>\n",
       "    <tr>\n",
       "      <td>25%</td>\n",
       "      <td>147.121401</td>\n",
       "      <td>6.489555</td>\n",
       "      <td>6.890000</td>\n",
       "      <td>0.907623</td>\n",
       "      <td>1.498936e+03</td>\n",
       "      <td>-500.357298</td>\n",
       "      <td>1.498971e+03</td>\n",
       "      <td>-500.703002</td>\n",
       "      <td>1.473230e+03</td>\n",
       "      <td>-501.018117</td>\n",
       "      <td>...</td>\n",
       "      <td>1.403618e+01</td>\n",
       "      <td>-500.868258</td>\n",
       "      <td>1.202862e+01</td>\n",
       "      <td>-500.323028</td>\n",
       "      <td>10.914838</td>\n",
       "      <td>-500.726841</td>\n",
       "      <td>8.036719</td>\n",
       "      <td>-500.194668</td>\n",
       "      <td>13.997317</td>\n",
       "      <td>-500.690984</td>\n",
       "    </tr>\n",
       "    <tr>\n",
       "      <td>50%</td>\n",
       "      <td>177.828489</td>\n",
       "      <td>8.052207</td>\n",
       "      <td>7.250000</td>\n",
       "      <td>1.197610</td>\n",
       "      <td>1.585129e+03</td>\n",
       "      <td>-499.969164</td>\n",
       "      <td>1.595622e+03</td>\n",
       "      <td>-500.028514</td>\n",
       "      <td>1.549595e+03</td>\n",
       "      <td>-500.017711</td>\n",
       "      <td>...</td>\n",
       "      <td>1.700847e+01</td>\n",
       "      <td>-500.115727</td>\n",
       "      <td>1.496486e+01</td>\n",
       "      <td>-499.576513</td>\n",
       "      <td>12.954182</td>\n",
       "      <td>-499.990332</td>\n",
       "      <td>10.004301</td>\n",
       "      <td>-499.990535</td>\n",
       "      <td>16.014935</td>\n",
       "      <td>-500.007126</td>\n",
       "    </tr>\n",
       "    <tr>\n",
       "      <td>75%</td>\n",
       "      <td>208.125438</td>\n",
       "      <td>10.027764</td>\n",
       "      <td>7.600000</td>\n",
       "      <td>1.797819</td>\n",
       "      <td>1.602077e+03</td>\n",
       "      <td>-499.568951</td>\n",
       "      <td>1.602324e+03</td>\n",
       "      <td>-499.293257</td>\n",
       "      <td>1.601144e+03</td>\n",
       "      <td>-498.994130</td>\n",
       "      <td>...</td>\n",
       "      <td>1.803862e+01</td>\n",
       "      <td>-499.404224</td>\n",
       "      <td>1.596213e+01</td>\n",
       "      <td>-400.933805</td>\n",
       "      <td>15.097528</td>\n",
       "      <td>-499.283191</td>\n",
       "      <td>11.997467</td>\n",
       "      <td>-499.719913</td>\n",
       "      <td>21.020013</td>\n",
       "      <td>-499.373018</td>\n",
       "    </tr>\n",
       "    <tr>\n",
       "      <td>max</td>\n",
       "      <td>265.983123</td>\n",
       "      <td>40.000000</td>\n",
       "      <td>15.500000</td>\n",
       "      <td>4.102454</td>\n",
       "      <td>2.103104e+03</td>\n",
       "      <td>-57.195404</td>\n",
       "      <td>1.813084e+03</td>\n",
       "      <td>-142.527229</td>\n",
       "      <td>1.715054e+03</td>\n",
       "      <td>-150.937035</td>\n",
       "      <td>...</td>\n",
       "      <td>3.005180e+01</td>\n",
       "      <td>-401.565212</td>\n",
       "      <td>3.126971e+01</td>\n",
       "      <td>-6.506986</td>\n",
       "      <td>25.258848</td>\n",
       "      <td>-244.483566</td>\n",
       "      <td>14.086866</td>\n",
       "      <td>-137.740004</td>\n",
       "      <td>26.705889</td>\n",
       "      <td>-123.307487</td>\n",
       "    </tr>\n",
       "  </tbody>\n",
       "</table>\n",
       "<p>8 rows × 52 columns</p>\n",
       "</div>"
      ],
      "text/plain": [
       "       primary_cleaner.input.sulfate  primary_cleaner.input.depressant  \\\n",
       "count                    5286.000000                       5285.000000   \n",
       "mean                      174.839652                          8.683596   \n",
       "std                        43.027080                          3.072050   \n",
       "min                         2.566156                          0.003839   \n",
       "25%                       147.121401                          6.489555   \n",
       "50%                       177.828489                          8.052207   \n",
       "75%                       208.125438                         10.027764   \n",
       "max                       265.983123                         40.000000   \n",
       "\n",
       "       primary_cleaner.input.feed_size  primary_cleaner.input.xanthate  \\\n",
       "count                      5290.000000                     5286.000000   \n",
       "mean                          7.266339                        1.383803   \n",
       "std                           0.610219                        0.643474   \n",
       "min                           5.650000                        0.004984   \n",
       "25%                           6.890000                        0.907623   \n",
       "50%                           7.250000                        1.197610   \n",
       "75%                           7.600000                        1.797819   \n",
       "max                          15.500000                        4.102454   \n",
       "\n",
       "       primary_cleaner.state.floatbank8_a_air  \\\n",
       "count                            5.290000e+03   \n",
       "mean                             1.539494e+03   \n",
       "std                              1.167979e+02   \n",
       "min                              5.445860e-32   \n",
       "25%                              1.498936e+03   \n",
       "50%                              1.585129e+03   \n",
       "75%                              1.602077e+03   \n",
       "max                              2.103104e+03   \n",
       "\n",
       "       primary_cleaner.state.floatbank8_a_level  \\\n",
       "count                               5290.000000   \n",
       "mean                                -497.665883   \n",
       "std                                   19.952431   \n",
       "min                                 -795.316337   \n",
       "25%                                 -500.357298   \n",
       "50%                                 -499.969164   \n",
       "75%                                 -499.568951   \n",
       "max                                  -57.195404   \n",
       "\n",
       "       primary_cleaner.state.floatbank8_b_air  \\\n",
       "count                            5.290000e+03   \n",
       "mean                             1.545174e+03   \n",
       "std                              1.222246e+02   \n",
       "min                              6.647490e-32   \n",
       "25%                              1.498971e+03   \n",
       "50%                              1.595622e+03   \n",
       "75%                              1.602324e+03   \n",
       "max                              1.813084e+03   \n",
       "\n",
       "       primary_cleaner.state.floatbank8_b_level  \\\n",
       "count                               5290.000000   \n",
       "mean                                -500.273098   \n",
       "std                                   32.968307   \n",
       "min                                 -799.997015   \n",
       "25%                                 -500.703002   \n",
       "50%                                 -500.028514   \n",
       "75%                                 -499.293257   \n",
       "max                                 -142.527229   \n",
       "\n",
       "       primary_cleaner.state.floatbank8_c_air  \\\n",
       "count                            5.290000e+03   \n",
       "mean                             1.527272e+03   \n",
       "std                              1.225380e+02   \n",
       "min                              4.033736e-32   \n",
       "25%                              1.473230e+03   \n",
       "50%                              1.549595e+03   \n",
       "75%                              1.601144e+03   \n",
       "max                              1.715054e+03   \n",
       "\n",
       "       primary_cleaner.state.floatbank8_c_level  ...  \\\n",
       "count                               5290.000000  ...   \n",
       "mean                                -498.330680  ...   \n",
       "std                                   21.964876  ...   \n",
       "min                                 -799.960571  ...   \n",
       "25%                                 -501.018117  ...   \n",
       "50%                                 -500.017711  ...   \n",
       "75%                                 -498.994130  ...   \n",
       "max                                 -150.937035  ...   \n",
       "\n",
       "       secondary_cleaner.state.floatbank4_a_air  \\\n",
       "count                              5.290000e+03   \n",
       "mean                               1.632007e+01   \n",
       "std                                3.493583e+00   \n",
       "min                                1.079872e-16   \n",
       "25%                                1.403618e+01   \n",
       "50%                                1.700847e+01   \n",
       "75%                                1.803862e+01   \n",
       "max                                3.005180e+01   \n",
       "\n",
       "       secondary_cleaner.state.floatbank4_a_level  \\\n",
       "count                                 5290.000000   \n",
       "mean                                  -505.144570   \n",
       "std                                     31.427337   \n",
       "min                                   -799.798523   \n",
       "25%                                   -500.868258   \n",
       "50%                                   -500.115727   \n",
       "75%                                   -499.404224   \n",
       "max                                   -401.565212   \n",
       "\n",
       "       secondary_cleaner.state.floatbank4_b_air  \\\n",
       "count                              5.290000e+03   \n",
       "mean                               1.373544e+01   \n",
       "std                                3.430484e+00   \n",
       "min                                2.489718e-17   \n",
       "25%                                1.202862e+01   \n",
       "50%                                1.496486e+01   \n",
       "75%                                1.596213e+01   \n",
       "max                                3.126971e+01   \n",
       "\n",
       "       secondary_cleaner.state.floatbank4_b_level  \\\n",
       "count                                 5290.000000   \n",
       "mean                                  -463.349858   \n",
       "std                                     86.189107   \n",
       "min                                   -800.836914   \n",
       "25%                                   -500.323028   \n",
       "50%                                   -499.576513   \n",
       "75%                                   -400.933805   \n",
       "max                                     -6.506986   \n",
       "\n",
       "       secondary_cleaner.state.floatbank5_a_air  \\\n",
       "count                               5290.000000   \n",
       "mean                                  12.804186   \n",
       "std                                    3.026591   \n",
       "min                                    0.069227   \n",
       "25%                                   10.914838   \n",
       "50%                                   12.954182   \n",
       "75%                                   15.097528   \n",
       "max                                   25.258848   \n",
       "\n",
       "       secondary_cleaner.state.floatbank5_a_level  \\\n",
       "count                                 5290.000000   \n",
       "mean                                  -501.329122   \n",
       "std                                     17.951495   \n",
       "min                                   -797.323986   \n",
       "25%                                   -500.726841   \n",
       "50%                                   -499.990332   \n",
       "75%                                   -499.283191   \n",
       "max                                   -244.483566   \n",
       "\n",
       "       secondary_cleaner.state.floatbank5_b_air  \\\n",
       "count                               5290.000000   \n",
       "mean                                   9.881145   \n",
       "std                                    2.868205   \n",
       "min                                    0.528083   \n",
       "25%                                    8.036719   \n",
       "50%                                   10.004301   \n",
       "75%                                   11.997467   \n",
       "max                                   14.086866   \n",
       "\n",
       "       secondary_cleaner.state.floatbank5_b_level  \\\n",
       "count                                 5290.000000   \n",
       "mean                                  -495.663398   \n",
       "std                                     34.535007   \n",
       "min                                   -800.220337   \n",
       "25%                                   -500.194668   \n",
       "50%                                   -499.990535   \n",
       "75%                                   -499.719913   \n",
       "max                                   -137.740004   \n",
       "\n",
       "       secondary_cleaner.state.floatbank6_a_air  \\\n",
       "count                               5290.000000   \n",
       "mean                                  17.304935   \n",
       "std                                    4.536544   \n",
       "min                                   -0.079426   \n",
       "25%                                   13.997317   \n",
       "50%                                   16.014935   \n",
       "75%                                   21.020013   \n",
       "max                                   26.705889   \n",
       "\n",
       "       secondary_cleaner.state.floatbank6_a_level  \n",
       "count                                 5290.000000  \n",
       "mean                                  -501.793193  \n",
       "std                                     39.044215  \n",
       "min                                   -809.741464  \n",
       "25%                                   -500.690984  \n",
       "50%                                   -500.007126  \n",
       "75%                                   -499.373018  \n",
       "max                                   -123.307487  \n",
       "\n",
       "[8 rows x 52 columns]"
      ]
     },
     "metadata": {},
     "output_type": "display_data"
    },
    {
     "name": "stdout",
     "output_type": "stream",
     "text": [
      "-----\n",
      "Amount of duplicates\n"
     ]
    },
    {
     "data": {
      "text/plain": [
       "0"
      ]
     },
     "metadata": {},
     "output_type": "display_data"
    },
    {
     "name": "stdout",
     "output_type": "stream",
     "text": [
      "-----\n",
      "Percentage of missing data in features\n"
     ]
    },
    {
     "data": {
      "text/plain": [
       "rougher.input.floatbank11_xanthate            0.004726\n",
       "rougher.input.feed_sol                        0.003970\n",
       "secondary_cleaner.state.floatbank3_a_air      0.001701\n",
       "rougher.input.floatbank11_sulfate             0.001512\n",
       "primary_cleaner.input.depressant              0.000945\n",
       "rougher.input.floatbank10_sulfate             0.000945\n",
       "primary_cleaner.input.sulfate                 0.000756\n",
       "primary_cleaner.input.xanthate                0.000756\n",
       "secondary_cleaner.state.floatbank2_a_air      0.000567\n",
       "rougher.input.feed_rate                       0.000567\n",
       "secondary_cleaner.state.floatbank2_b_air      0.000378\n",
       "rougher.input.feed_size                       0.000189\n",
       "secondary_cleaner.state.floatbank6_a_level    0.000000\n",
       "rougher.input.floatbank10_xanthate            0.000000\n",
       "rougher.input.feed_au                         0.000000\n",
       "rougher.input.feed_pb                         0.000000\n",
       "primary_cleaner.state.floatbank8_d_level      0.000000\n",
       "rougher.input.feed_ag                         0.000000\n",
       "rougher.state.floatbank10_a_level             0.000000\n",
       "primary_cleaner.state.floatbank8_d_air        0.000000\n",
       "primary_cleaner.state.floatbank8_c_level      0.000000\n",
       "primary_cleaner.state.floatbank8_c_air        0.000000\n",
       "primary_cleaner.state.floatbank8_b_level      0.000000\n",
       "primary_cleaner.state.floatbank8_b_air        0.000000\n",
       "primary_cleaner.state.floatbank8_a_level      0.000000\n",
       "primary_cleaner.state.floatbank8_a_air        0.000000\n",
       "primary_cleaner.input.feed_size               0.000000\n",
       "rougher.state.floatbank10_a_air               0.000000\n",
       "rougher.state.floatbank10_b_level             0.000000\n",
       "rougher.state.floatbank10_b_air               0.000000\n",
       "secondary_cleaner.state.floatbank6_a_air      0.000000\n",
       "secondary_cleaner.state.floatbank5_b_level    0.000000\n",
       "secondary_cleaner.state.floatbank5_b_air      0.000000\n",
       "secondary_cleaner.state.floatbank5_a_level    0.000000\n",
       "secondary_cleaner.state.floatbank5_a_air      0.000000\n",
       "secondary_cleaner.state.floatbank4_b_level    0.000000\n",
       "secondary_cleaner.state.floatbank4_b_air      0.000000\n",
       "secondary_cleaner.state.floatbank4_a_level    0.000000\n",
       "secondary_cleaner.state.floatbank4_a_air      0.000000\n",
       "secondary_cleaner.state.floatbank3_b_level    0.000000\n",
       "secondary_cleaner.state.floatbank3_b_air      0.000000\n",
       "secondary_cleaner.state.floatbank3_a_level    0.000000\n",
       "secondary_cleaner.state.floatbank2_b_level    0.000000\n",
       "secondary_cleaner.state.floatbank2_a_level    0.000000\n",
       "rougher.state.floatbank10_f_level             0.000000\n",
       "rougher.state.floatbank10_f_air               0.000000\n",
       "rougher.state.floatbank10_e_level             0.000000\n",
       "rougher.state.floatbank10_e_air               0.000000\n",
       "rougher.state.floatbank10_d_level             0.000000\n",
       "rougher.state.floatbank10_d_air               0.000000\n",
       "dtype: float64"
      ]
     },
     "metadata": {},
     "output_type": "display_data"
    },
    {
     "name": "stdout",
     "output_type": "stream",
     "text": [
      "\n",
      "NAME: data_all\n",
      "-------------------\n",
      "Dataset review\n"
     ]
    },
    {
     "data": {
      "text/html": [
       "<div>\n",
       "<style scoped>\n",
       "    .dataframe tbody tr th:only-of-type {\n",
       "        vertical-align: middle;\n",
       "    }\n",
       "\n",
       "    .dataframe tbody tr th {\n",
       "        vertical-align: top;\n",
       "    }\n",
       "\n",
       "    .dataframe thead th {\n",
       "        text-align: right;\n",
       "    }\n",
       "</style>\n",
       "<table border=\"1\" class=\"dataframe\">\n",
       "  <thead>\n",
       "    <tr style=\"text-align: right;\">\n",
       "      <th></th>\n",
       "      <th>date</th>\n",
       "      <th>final.output.concentrate_ag</th>\n",
       "      <th>final.output.concentrate_pb</th>\n",
       "      <th>final.output.concentrate_sol</th>\n",
       "      <th>final.output.concentrate_au</th>\n",
       "      <th>final.output.recovery</th>\n",
       "      <th>final.output.tail_ag</th>\n",
       "      <th>final.output.tail_pb</th>\n",
       "      <th>final.output.tail_sol</th>\n",
       "      <th>final.output.tail_au</th>\n",
       "      <th>...</th>\n",
       "      <th>secondary_cleaner.state.floatbank4_a_air</th>\n",
       "      <th>secondary_cleaner.state.floatbank4_a_level</th>\n",
       "      <th>secondary_cleaner.state.floatbank4_b_air</th>\n",
       "      <th>secondary_cleaner.state.floatbank4_b_level</th>\n",
       "      <th>secondary_cleaner.state.floatbank5_a_air</th>\n",
       "      <th>secondary_cleaner.state.floatbank5_a_level</th>\n",
       "      <th>secondary_cleaner.state.floatbank5_b_air</th>\n",
       "      <th>secondary_cleaner.state.floatbank5_b_level</th>\n",
       "      <th>secondary_cleaner.state.floatbank6_a_air</th>\n",
       "      <th>secondary_cleaner.state.floatbank6_a_level</th>\n",
       "    </tr>\n",
       "  </thead>\n",
       "  <tbody>\n",
       "    <tr>\n",
       "      <td>0</td>\n",
       "      <td>2016-01-15 00:00:00</td>\n",
       "      <td>6.055403</td>\n",
       "      <td>9.889648</td>\n",
       "      <td>5.507324</td>\n",
       "      <td>42.192020</td>\n",
       "      <td>70.541216</td>\n",
       "      <td>10.411962</td>\n",
       "      <td>0.895447</td>\n",
       "      <td>16.904297</td>\n",
       "      <td>2.143149</td>\n",
       "      <td>...</td>\n",
       "      <td>14.016835</td>\n",
       "      <td>-502.488007</td>\n",
       "      <td>12.099931</td>\n",
       "      <td>-504.715942</td>\n",
       "      <td>9.925633</td>\n",
       "      <td>-498.310211</td>\n",
       "      <td>8.079666</td>\n",
       "      <td>-500.470978</td>\n",
       "      <td>14.151341</td>\n",
       "      <td>-605.841980</td>\n",
       "    </tr>\n",
       "    <tr>\n",
       "      <td>1</td>\n",
       "      <td>2016-01-15 01:00:00</td>\n",
       "      <td>6.029369</td>\n",
       "      <td>9.968944</td>\n",
       "      <td>5.257781</td>\n",
       "      <td>42.701629</td>\n",
       "      <td>69.266198</td>\n",
       "      <td>10.462676</td>\n",
       "      <td>0.927452</td>\n",
       "      <td>16.634514</td>\n",
       "      <td>2.224930</td>\n",
       "      <td>...</td>\n",
       "      <td>13.992281</td>\n",
       "      <td>-505.503262</td>\n",
       "      <td>11.950531</td>\n",
       "      <td>-501.331529</td>\n",
       "      <td>10.039245</td>\n",
       "      <td>-500.169983</td>\n",
       "      <td>7.984757</td>\n",
       "      <td>-500.582168</td>\n",
       "      <td>13.998353</td>\n",
       "      <td>-599.787184</td>\n",
       "    </tr>\n",
       "    <tr>\n",
       "      <td>2</td>\n",
       "      <td>2016-01-15 02:00:00</td>\n",
       "      <td>6.055926</td>\n",
       "      <td>10.213995</td>\n",
       "      <td>5.383759</td>\n",
       "      <td>42.657501</td>\n",
       "      <td>68.116445</td>\n",
       "      <td>10.507046</td>\n",
       "      <td>0.953716</td>\n",
       "      <td>16.208849</td>\n",
       "      <td>2.257889</td>\n",
       "      <td>...</td>\n",
       "      <td>14.015015</td>\n",
       "      <td>-502.520901</td>\n",
       "      <td>11.912783</td>\n",
       "      <td>-501.133383</td>\n",
       "      <td>10.070913</td>\n",
       "      <td>-500.129135</td>\n",
       "      <td>8.013877</td>\n",
       "      <td>-500.517572</td>\n",
       "      <td>14.028663</td>\n",
       "      <td>-601.427363</td>\n",
       "    </tr>\n",
       "    <tr>\n",
       "      <td>3</td>\n",
       "      <td>2016-01-15 03:00:00</td>\n",
       "      <td>6.047977</td>\n",
       "      <td>9.977019</td>\n",
       "      <td>4.858634</td>\n",
       "      <td>42.689819</td>\n",
       "      <td>68.347543</td>\n",
       "      <td>10.422762</td>\n",
       "      <td>0.883763</td>\n",
       "      <td>16.532835</td>\n",
       "      <td>2.146849</td>\n",
       "      <td>...</td>\n",
       "      <td>14.036510</td>\n",
       "      <td>-500.857308</td>\n",
       "      <td>11.999550</td>\n",
       "      <td>-501.193686</td>\n",
       "      <td>9.970366</td>\n",
       "      <td>-499.201640</td>\n",
       "      <td>7.977324</td>\n",
       "      <td>-500.255908</td>\n",
       "      <td>14.005551</td>\n",
       "      <td>-599.996129</td>\n",
       "    </tr>\n",
       "    <tr>\n",
       "      <td>4</td>\n",
       "      <td>2016-01-15 04:00:00</td>\n",
       "      <td>6.148599</td>\n",
       "      <td>10.142511</td>\n",
       "      <td>4.939416</td>\n",
       "      <td>42.774141</td>\n",
       "      <td>66.927016</td>\n",
       "      <td>10.360302</td>\n",
       "      <td>0.792826</td>\n",
       "      <td>16.525686</td>\n",
       "      <td>2.055292</td>\n",
       "      <td>...</td>\n",
       "      <td>14.027298</td>\n",
       "      <td>-499.838632</td>\n",
       "      <td>11.953070</td>\n",
       "      <td>-501.053894</td>\n",
       "      <td>9.925709</td>\n",
       "      <td>-501.686727</td>\n",
       "      <td>7.894242</td>\n",
       "      <td>-500.356035</td>\n",
       "      <td>13.996647</td>\n",
       "      <td>-601.496691</td>\n",
       "    </tr>\n",
       "  </tbody>\n",
       "</table>\n",
       "<p>5 rows × 87 columns</p>\n",
       "</div>"
      ],
      "text/plain": [
       "                  date  final.output.concentrate_ag  \\\n",
       "0  2016-01-15 00:00:00                     6.055403   \n",
       "1  2016-01-15 01:00:00                     6.029369   \n",
       "2  2016-01-15 02:00:00                     6.055926   \n",
       "3  2016-01-15 03:00:00                     6.047977   \n",
       "4  2016-01-15 04:00:00                     6.148599   \n",
       "\n",
       "   final.output.concentrate_pb  final.output.concentrate_sol  \\\n",
       "0                     9.889648                      5.507324   \n",
       "1                     9.968944                      5.257781   \n",
       "2                    10.213995                      5.383759   \n",
       "3                     9.977019                      4.858634   \n",
       "4                    10.142511                      4.939416   \n",
       "\n",
       "   final.output.concentrate_au  final.output.recovery  final.output.tail_ag  \\\n",
       "0                    42.192020              70.541216             10.411962   \n",
       "1                    42.701629              69.266198             10.462676   \n",
       "2                    42.657501              68.116445             10.507046   \n",
       "3                    42.689819              68.347543             10.422762   \n",
       "4                    42.774141              66.927016             10.360302   \n",
       "\n",
       "   final.output.tail_pb  final.output.tail_sol  final.output.tail_au  ...  \\\n",
       "0              0.895447              16.904297              2.143149  ...   \n",
       "1              0.927452              16.634514              2.224930  ...   \n",
       "2              0.953716              16.208849              2.257889  ...   \n",
       "3              0.883763              16.532835              2.146849  ...   \n",
       "4              0.792826              16.525686              2.055292  ...   \n",
       "\n",
       "   secondary_cleaner.state.floatbank4_a_air  \\\n",
       "0                                 14.016835   \n",
       "1                                 13.992281   \n",
       "2                                 14.015015   \n",
       "3                                 14.036510   \n",
       "4                                 14.027298   \n",
       "\n",
       "   secondary_cleaner.state.floatbank4_a_level  \\\n",
       "0                                 -502.488007   \n",
       "1                                 -505.503262   \n",
       "2                                 -502.520901   \n",
       "3                                 -500.857308   \n",
       "4                                 -499.838632   \n",
       "\n",
       "   secondary_cleaner.state.floatbank4_b_air  \\\n",
       "0                                 12.099931   \n",
       "1                                 11.950531   \n",
       "2                                 11.912783   \n",
       "3                                 11.999550   \n",
       "4                                 11.953070   \n",
       "\n",
       "   secondary_cleaner.state.floatbank4_b_level  \\\n",
       "0                                 -504.715942   \n",
       "1                                 -501.331529   \n",
       "2                                 -501.133383   \n",
       "3                                 -501.193686   \n",
       "4                                 -501.053894   \n",
       "\n",
       "   secondary_cleaner.state.floatbank5_a_air  \\\n",
       "0                                  9.925633   \n",
       "1                                 10.039245   \n",
       "2                                 10.070913   \n",
       "3                                  9.970366   \n",
       "4                                  9.925709   \n",
       "\n",
       "   secondary_cleaner.state.floatbank5_a_level  \\\n",
       "0                                 -498.310211   \n",
       "1                                 -500.169983   \n",
       "2                                 -500.129135   \n",
       "3                                 -499.201640   \n",
       "4                                 -501.686727   \n",
       "\n",
       "   secondary_cleaner.state.floatbank5_b_air  \\\n",
       "0                                  8.079666   \n",
       "1                                  7.984757   \n",
       "2                                  8.013877   \n",
       "3                                  7.977324   \n",
       "4                                  7.894242   \n",
       "\n",
       "   secondary_cleaner.state.floatbank5_b_level  \\\n",
       "0                                 -500.470978   \n",
       "1                                 -500.582168   \n",
       "2                                 -500.517572   \n",
       "3                                 -500.255908   \n",
       "4                                 -500.356035   \n",
       "\n",
       "   secondary_cleaner.state.floatbank6_a_air  \\\n",
       "0                                 14.151341   \n",
       "1                                 13.998353   \n",
       "2                                 14.028663   \n",
       "3                                 14.005551   \n",
       "4                                 13.996647   \n",
       "\n",
       "   secondary_cleaner.state.floatbank6_a_level  \n",
       "0                                 -605.841980  \n",
       "1                                 -599.787184  \n",
       "2                                 -601.427363  \n",
       "3                                 -599.996129  \n",
       "4                                 -601.496691  \n",
       "\n",
       "[5 rows x 87 columns]"
      ]
     },
     "metadata": {},
     "output_type": "display_data"
    },
    {
     "name": "stdout",
     "output_type": "stream",
     "text": [
      "-----\n",
      "Short summary\n",
      "<class 'pandas.core.frame.DataFrame'>\n",
      "RangeIndex: 19439 entries, 0 to 19438\n",
      "Data columns (total 87 columns):\n",
      "date                                                  19439 non-null object\n",
      "final.output.concentrate_ag                           19438 non-null float64\n",
      "final.output.concentrate_pb                           19438 non-null float64\n",
      "final.output.concentrate_sol                          19228 non-null float64\n",
      "final.output.concentrate_au                           19439 non-null float64\n",
      "final.output.recovery                                 19439 non-null float64\n",
      "final.output.tail_ag                                  19438 non-null float64\n",
      "final.output.tail_pb                                  19338 non-null float64\n",
      "final.output.tail_sol                                 19433 non-null float64\n",
      "final.output.tail_au                                  19439 non-null float64\n",
      "primary_cleaner.input.sulfate                         19415 non-null float64\n",
      "primary_cleaner.input.depressant                      19402 non-null float64\n",
      "primary_cleaner.input.feed_size                       19439 non-null float64\n",
      "primary_cleaner.input.xanthate                        19335 non-null float64\n",
      "primary_cleaner.output.concentrate_ag                 19439 non-null float64\n",
      "primary_cleaner.output.concentrate_pb                 19323 non-null float64\n",
      "primary_cleaner.output.concentrate_sol                19069 non-null float64\n",
      "primary_cleaner.output.concentrate_au                 19439 non-null float64\n",
      "primary_cleaner.output.tail_ag                        19435 non-null float64\n",
      "primary_cleaner.output.tail_pb                        19418 non-null float64\n",
      "primary_cleaner.output.tail_sol                       19377 non-null float64\n",
      "primary_cleaner.output.tail_au                        19439 non-null float64\n",
      "primary_cleaner.state.floatbank8_a_air                19435 non-null float64\n",
      "primary_cleaner.state.floatbank8_a_level              19438 non-null float64\n",
      "primary_cleaner.state.floatbank8_b_air                19435 non-null float64\n",
      "primary_cleaner.state.floatbank8_b_level              19438 non-null float64\n",
      "primary_cleaner.state.floatbank8_c_air                19437 non-null float64\n",
      "primary_cleaner.state.floatbank8_c_level              19438 non-null float64\n",
      "primary_cleaner.state.floatbank8_d_air                19436 non-null float64\n",
      "primary_cleaner.state.floatbank8_d_level              19438 non-null float64\n",
      "rougher.calculation.sulfate_to_au_concentrate         19437 non-null float64\n",
      "rougher.calculation.floatbank10_sulfate_to_au_feed    19437 non-null float64\n",
      "rougher.calculation.floatbank11_sulfate_to_au_feed    19437 non-null float64\n",
      "rougher.calculation.au_pb_ratio                       19439 non-null float64\n",
      "rougher.input.feed_ag                                 19439 non-null float64\n",
      "rougher.input.feed_pb                                 19339 non-null float64\n",
      "rougher.input.feed_rate                               19428 non-null float64\n",
      "rougher.input.feed_size                               19294 non-null float64\n",
      "rougher.input.feed_sol                                19340 non-null float64\n",
      "rougher.input.feed_au                                 19439 non-null float64\n",
      "rougher.input.floatbank10_sulfate                     19405 non-null float64\n",
      "rougher.input.floatbank10_xanthate                    19431 non-null float64\n",
      "rougher.input.floatbank11_sulfate                     19395 non-null float64\n",
      "rougher.input.floatbank11_xanthate                    18986 non-null float64\n",
      "rougher.output.concentrate_ag                         19439 non-null float64\n",
      "rougher.output.concentrate_pb                         19439 non-null float64\n",
      "rougher.output.concentrate_sol                        19416 non-null float64\n",
      "rougher.output.concentrate_au                         19439 non-null float64\n",
      "rougher.output.recovery                               19439 non-null float64\n",
      "rougher.output.tail_ag                                19438 non-null float64\n",
      "rougher.output.tail_pb                                19439 non-null float64\n",
      "rougher.output.tail_sol                               19439 non-null float64\n",
      "rougher.output.tail_au                                19439 non-null float64\n",
      "rougher.state.floatbank10_a_air                       19438 non-null float64\n",
      "rougher.state.floatbank10_a_level                     19438 non-null float64\n",
      "rougher.state.floatbank10_b_air                       19438 non-null float64\n",
      "rougher.state.floatbank10_b_level                     19438 non-null float64\n",
      "rougher.state.floatbank10_c_air                       19438 non-null float64\n",
      "rougher.state.floatbank10_c_level                     19438 non-null float64\n",
      "rougher.state.floatbank10_d_air                       19439 non-null float64\n",
      "rougher.state.floatbank10_d_level                     19439 non-null float64\n",
      "rougher.state.floatbank10_e_air                       19003 non-null float64\n",
      "rougher.state.floatbank10_e_level                     19439 non-null float64\n",
      "rougher.state.floatbank10_f_air                       19439 non-null float64\n",
      "rougher.state.floatbank10_f_level                     19439 non-null float64\n",
      "secondary_cleaner.output.tail_ag                      19437 non-null float64\n",
      "secondary_cleaner.output.tail_pb                      19427 non-null float64\n",
      "secondary_cleaner.output.tail_sol                     17691 non-null float64\n",
      "secondary_cleaner.output.tail_au                      19439 non-null float64\n",
      "secondary_cleaner.state.floatbank2_a_air              19219 non-null float64\n",
      "secondary_cleaner.state.floatbank2_a_level            19438 non-null float64\n",
      "secondary_cleaner.state.floatbank2_b_air              19416 non-null float64\n",
      "secondary_cleaner.state.floatbank2_b_level            19438 non-null float64\n",
      "secondary_cleaner.state.floatbank3_a_air              19426 non-null float64\n",
      "secondary_cleaner.state.floatbank3_a_level            19438 non-null float64\n",
      "secondary_cleaner.state.floatbank3_b_air              19438 non-null float64\n",
      "secondary_cleaner.state.floatbank3_b_level            19438 non-null float64\n",
      "secondary_cleaner.state.floatbank4_a_air              19433 non-null float64\n",
      "secondary_cleaner.state.floatbank4_a_level            19438 non-null float64\n",
      "secondary_cleaner.state.floatbank4_b_air              19438 non-null float64\n",
      "secondary_cleaner.state.floatbank4_b_level            19438 non-null float64\n",
      "secondary_cleaner.state.floatbank5_a_air              19438 non-null float64\n",
      "secondary_cleaner.state.floatbank5_a_level            19438 non-null float64\n",
      "secondary_cleaner.state.floatbank5_b_air              19438 non-null float64\n",
      "secondary_cleaner.state.floatbank5_b_level            19438 non-null float64\n",
      "secondary_cleaner.state.floatbank6_a_air              19437 non-null float64\n",
      "secondary_cleaner.state.floatbank6_a_level            19438 non-null float64\n",
      "dtypes: float64(86), object(1)\n",
      "memory usage: 12.9+ MB\n"
     ]
    },
    {
     "data": {
      "text/plain": [
       "None"
      ]
     },
     "metadata": {},
     "output_type": "display_data"
    },
    {
     "name": "stdout",
     "output_type": "stream",
     "text": [
      "-----\n",
      "Statistics\n"
     ]
    },
    {
     "data": {
      "text/html": [
       "<div>\n",
       "<style scoped>\n",
       "    .dataframe tbody tr th:only-of-type {\n",
       "        vertical-align: middle;\n",
       "    }\n",
       "\n",
       "    .dataframe tbody tr th {\n",
       "        vertical-align: top;\n",
       "    }\n",
       "\n",
       "    .dataframe thead th {\n",
       "        text-align: right;\n",
       "    }\n",
       "</style>\n",
       "<table border=\"1\" class=\"dataframe\">\n",
       "  <thead>\n",
       "    <tr style=\"text-align: right;\">\n",
       "      <th></th>\n",
       "      <th>final.output.concentrate_ag</th>\n",
       "      <th>final.output.concentrate_pb</th>\n",
       "      <th>final.output.concentrate_sol</th>\n",
       "      <th>final.output.concentrate_au</th>\n",
       "      <th>final.output.recovery</th>\n",
       "      <th>final.output.tail_ag</th>\n",
       "      <th>final.output.tail_pb</th>\n",
       "      <th>final.output.tail_sol</th>\n",
       "      <th>final.output.tail_au</th>\n",
       "      <th>primary_cleaner.input.sulfate</th>\n",
       "      <th>...</th>\n",
       "      <th>secondary_cleaner.state.floatbank4_a_air</th>\n",
       "      <th>secondary_cleaner.state.floatbank4_a_level</th>\n",
       "      <th>secondary_cleaner.state.floatbank4_b_air</th>\n",
       "      <th>secondary_cleaner.state.floatbank4_b_level</th>\n",
       "      <th>secondary_cleaner.state.floatbank5_a_air</th>\n",
       "      <th>secondary_cleaner.state.floatbank5_a_level</th>\n",
       "      <th>secondary_cleaner.state.floatbank5_b_air</th>\n",
       "      <th>secondary_cleaner.state.floatbank5_b_level</th>\n",
       "      <th>secondary_cleaner.state.floatbank6_a_air</th>\n",
       "      <th>secondary_cleaner.state.floatbank6_a_level</th>\n",
       "    </tr>\n",
       "  </thead>\n",
       "  <tbody>\n",
       "    <tr>\n",
       "      <td>count</td>\n",
       "      <td>19438.000000</td>\n",
       "      <td>19438.000000</td>\n",
       "      <td>19228.000000</td>\n",
       "      <td>19439.000000</td>\n",
       "      <td>19439.000000</td>\n",
       "      <td>19438.000000</td>\n",
       "      <td>19338.000000</td>\n",
       "      <td>19433.000000</td>\n",
       "      <td>19439.000000</td>\n",
       "      <td>19415.000000</td>\n",
       "      <td>...</td>\n",
       "      <td>19433.000000</td>\n",
       "      <td>19438.000000</td>\n",
       "      <td>19438.000000</td>\n",
       "      <td>19438.000000</td>\n",
       "      <td>19438.000000</td>\n",
       "      <td>19438.000000</td>\n",
       "      <td>19438.000000</td>\n",
       "      <td>19438.000000</td>\n",
       "      <td>19437.000000</td>\n",
       "      <td>19438.000000</td>\n",
       "    </tr>\n",
       "    <tr>\n",
       "      <td>mean</td>\n",
       "      <td>5.168470</td>\n",
       "      <td>9.978895</td>\n",
       "      <td>9.501224</td>\n",
       "      <td>44.076513</td>\n",
       "      <td>67.050208</td>\n",
       "      <td>9.688589</td>\n",
       "      <td>2.705795</td>\n",
       "      <td>10.583728</td>\n",
       "      <td>3.042467</td>\n",
       "      <td>144.624774</td>\n",
       "      <td>...</td>\n",
       "      <td>18.987674</td>\n",
       "      <td>-485.894516</td>\n",
       "      <td>15.010366</td>\n",
       "      <td>-461.078636</td>\n",
       "      <td>15.694452</td>\n",
       "      <td>-488.684065</td>\n",
       "      <td>12.198224</td>\n",
       "      <td>-487.149827</td>\n",
       "      <td>18.959024</td>\n",
       "      <td>-505.436305</td>\n",
       "    </tr>\n",
       "    <tr>\n",
       "      <td>std</td>\n",
       "      <td>1.372348</td>\n",
       "      <td>1.669240</td>\n",
       "      <td>2.787537</td>\n",
       "      <td>5.129784</td>\n",
       "      <td>10.125840</td>\n",
       "      <td>2.328642</td>\n",
       "      <td>0.949077</td>\n",
       "      <td>2.868782</td>\n",
       "      <td>0.922808</td>\n",
       "      <td>44.464071</td>\n",
       "      <td>...</td>\n",
       "      <td>5.411058</td>\n",
       "      <td>47.758570</td>\n",
       "      <td>4.890228</td>\n",
       "      <td>67.405524</td>\n",
       "      <td>5.510974</td>\n",
       "      <td>34.533396</td>\n",
       "      <td>5.333024</td>\n",
       "      <td>38.347312</td>\n",
       "      <td>5.550498</td>\n",
       "      <td>37.689057</td>\n",
       "    </tr>\n",
       "    <tr>\n",
       "      <td>min</td>\n",
       "      <td>0.000000</td>\n",
       "      <td>0.000000</td>\n",
       "      <td>0.000000</td>\n",
       "      <td>0.000000</td>\n",
       "      <td>0.000000</td>\n",
       "      <td>0.000000</td>\n",
       "      <td>0.000000</td>\n",
       "      <td>0.000000</td>\n",
       "      <td>0.000000</td>\n",
       "      <td>0.003112</td>\n",
       "      <td>...</td>\n",
       "      <td>0.000000</td>\n",
       "      <td>-799.798523</td>\n",
       "      <td>0.000000</td>\n",
       "      <td>-800.836914</td>\n",
       "      <td>-0.372054</td>\n",
       "      <td>-797.323986</td>\n",
       "      <td>0.528083</td>\n",
       "      <td>-800.220337</td>\n",
       "      <td>-0.079426</td>\n",
       "      <td>-809.741464</td>\n",
       "    </tr>\n",
       "    <tr>\n",
       "      <td>25%</td>\n",
       "      <td>4.251240</td>\n",
       "      <td>9.137262</td>\n",
       "      <td>7.722820</td>\n",
       "      <td>43.402215</td>\n",
       "      <td>63.299712</td>\n",
       "      <td>8.062878</td>\n",
       "      <td>2.040119</td>\n",
       "      <td>8.938947</td>\n",
       "      <td>2.461138</td>\n",
       "      <td>114.107029</td>\n",
       "      <td>...</td>\n",
       "      <td>14.975734</td>\n",
       "      <td>-500.704892</td>\n",
       "      <td>11.940294</td>\n",
       "      <td>-500.187742</td>\n",
       "      <td>10.988606</td>\n",
       "      <td>-500.458467</td>\n",
       "      <td>8.971105</td>\n",
       "      <td>-500.129462</td>\n",
       "      <td>14.983037</td>\n",
       "      <td>-500.728067</td>\n",
       "    </tr>\n",
       "    <tr>\n",
       "      <td>50%</td>\n",
       "      <td>5.066094</td>\n",
       "      <td>10.102433</td>\n",
       "      <td>9.218961</td>\n",
       "      <td>45.011244</td>\n",
       "      <td>68.172738</td>\n",
       "      <td>9.743623</td>\n",
       "      <td>2.748730</td>\n",
       "      <td>10.622456</td>\n",
       "      <td>2.984909</td>\n",
       "      <td>143.232103</td>\n",
       "      <td>...</td>\n",
       "      <td>18.017481</td>\n",
       "      <td>-499.837793</td>\n",
       "      <td>14.971014</td>\n",
       "      <td>-499.459786</td>\n",
       "      <td>15.000036</td>\n",
       "      <td>-499.802605</td>\n",
       "      <td>11.019433</td>\n",
       "      <td>-499.935317</td>\n",
       "      <td>19.960541</td>\n",
       "      <td>-500.048400</td>\n",
       "    </tr>\n",
       "    <tr>\n",
       "      <td>75%</td>\n",
       "      <td>5.895527</td>\n",
       "      <td>11.035769</td>\n",
       "      <td>10.947813</td>\n",
       "      <td>46.275313</td>\n",
       "      <td>72.686642</td>\n",
       "      <td>11.134294</td>\n",
       "      <td>3.333216</td>\n",
       "      <td>12.104271</td>\n",
       "      <td>3.571351</td>\n",
       "      <td>175.075656</td>\n",
       "      <td>...</td>\n",
       "      <td>23.012470</td>\n",
       "      <td>-498.249730</td>\n",
       "      <td>19.034162</td>\n",
       "      <td>-400.118106</td>\n",
       "      <td>18.026190</td>\n",
       "      <td>-498.384187</td>\n",
       "      <td>14.019088</td>\n",
       "      <td>-499.436708</td>\n",
       "      <td>24.003170</td>\n",
       "      <td>-499.495378</td>\n",
       "    </tr>\n",
       "    <tr>\n",
       "      <td>max</td>\n",
       "      <td>16.001945</td>\n",
       "      <td>17.031899</td>\n",
       "      <td>19.615720</td>\n",
       "      <td>52.756638</td>\n",
       "      <td>100.000000</td>\n",
       "      <td>19.552149</td>\n",
       "      <td>5.804178</td>\n",
       "      <td>22.317730</td>\n",
       "      <td>8.245022</td>\n",
       "      <td>265.983123</td>\n",
       "      <td>...</td>\n",
       "      <td>30.115735</td>\n",
       "      <td>-245.239184</td>\n",
       "      <td>31.269706</td>\n",
       "      <td>-6.506986</td>\n",
       "      <td>43.709931</td>\n",
       "      <td>-244.483566</td>\n",
       "      <td>27.926001</td>\n",
       "      <td>-137.740004</td>\n",
       "      <td>32.188906</td>\n",
       "      <td>-104.427459</td>\n",
       "    </tr>\n",
       "  </tbody>\n",
       "</table>\n",
       "<p>8 rows × 86 columns</p>\n",
       "</div>"
      ],
      "text/plain": [
       "       final.output.concentrate_ag  final.output.concentrate_pb  \\\n",
       "count                 19438.000000                 19438.000000   \n",
       "mean                      5.168470                     9.978895   \n",
       "std                       1.372348                     1.669240   \n",
       "min                       0.000000                     0.000000   \n",
       "25%                       4.251240                     9.137262   \n",
       "50%                       5.066094                    10.102433   \n",
       "75%                       5.895527                    11.035769   \n",
       "max                      16.001945                    17.031899   \n",
       "\n",
       "       final.output.concentrate_sol  final.output.concentrate_au  \\\n",
       "count                  19228.000000                 19439.000000   \n",
       "mean                       9.501224                    44.076513   \n",
       "std                        2.787537                     5.129784   \n",
       "min                        0.000000                     0.000000   \n",
       "25%                        7.722820                    43.402215   \n",
       "50%                        9.218961                    45.011244   \n",
       "75%                       10.947813                    46.275313   \n",
       "max                       19.615720                    52.756638   \n",
       "\n",
       "       final.output.recovery  final.output.tail_ag  final.output.tail_pb  \\\n",
       "count           19439.000000          19438.000000          19338.000000   \n",
       "mean               67.050208              9.688589              2.705795   \n",
       "std                10.125840              2.328642              0.949077   \n",
       "min                 0.000000              0.000000              0.000000   \n",
       "25%                63.299712              8.062878              2.040119   \n",
       "50%                68.172738              9.743623              2.748730   \n",
       "75%                72.686642             11.134294              3.333216   \n",
       "max               100.000000             19.552149              5.804178   \n",
       "\n",
       "       final.output.tail_sol  final.output.tail_au  \\\n",
       "count           19433.000000          19439.000000   \n",
       "mean               10.583728              3.042467   \n",
       "std                 2.868782              0.922808   \n",
       "min                 0.000000              0.000000   \n",
       "25%                 8.938947              2.461138   \n",
       "50%                10.622456              2.984909   \n",
       "75%                12.104271              3.571351   \n",
       "max                22.317730              8.245022   \n",
       "\n",
       "       primary_cleaner.input.sulfate  ...  \\\n",
       "count                   19415.000000  ...   \n",
       "mean                      144.624774  ...   \n",
       "std                        44.464071  ...   \n",
       "min                         0.003112  ...   \n",
       "25%                       114.107029  ...   \n",
       "50%                       143.232103  ...   \n",
       "75%                       175.075656  ...   \n",
       "max                       265.983123  ...   \n",
       "\n",
       "       secondary_cleaner.state.floatbank4_a_air  \\\n",
       "count                              19433.000000   \n",
       "mean                                  18.987674   \n",
       "std                                    5.411058   \n",
       "min                                    0.000000   \n",
       "25%                                   14.975734   \n",
       "50%                                   18.017481   \n",
       "75%                                   23.012470   \n",
       "max                                   30.115735   \n",
       "\n",
       "       secondary_cleaner.state.floatbank4_a_level  \\\n",
       "count                                19438.000000   \n",
       "mean                                  -485.894516   \n",
       "std                                     47.758570   \n",
       "min                                   -799.798523   \n",
       "25%                                   -500.704892   \n",
       "50%                                   -499.837793   \n",
       "75%                                   -498.249730   \n",
       "max                                   -245.239184   \n",
       "\n",
       "       secondary_cleaner.state.floatbank4_b_air  \\\n",
       "count                              19438.000000   \n",
       "mean                                  15.010366   \n",
       "std                                    4.890228   \n",
       "min                                    0.000000   \n",
       "25%                                   11.940294   \n",
       "50%                                   14.971014   \n",
       "75%                                   19.034162   \n",
       "max                                   31.269706   \n",
       "\n",
       "       secondary_cleaner.state.floatbank4_b_level  \\\n",
       "count                                19438.000000   \n",
       "mean                                  -461.078636   \n",
       "std                                     67.405524   \n",
       "min                                   -800.836914   \n",
       "25%                                   -500.187742   \n",
       "50%                                   -499.459786   \n",
       "75%                                   -400.118106   \n",
       "max                                     -6.506986   \n",
       "\n",
       "       secondary_cleaner.state.floatbank5_a_air  \\\n",
       "count                              19438.000000   \n",
       "mean                                  15.694452   \n",
       "std                                    5.510974   \n",
       "min                                   -0.372054   \n",
       "25%                                   10.988606   \n",
       "50%                                   15.000036   \n",
       "75%                                   18.026190   \n",
       "max                                   43.709931   \n",
       "\n",
       "       secondary_cleaner.state.floatbank5_a_level  \\\n",
       "count                                19438.000000   \n",
       "mean                                  -488.684065   \n",
       "std                                     34.533396   \n",
       "min                                   -797.323986   \n",
       "25%                                   -500.458467   \n",
       "50%                                   -499.802605   \n",
       "75%                                   -498.384187   \n",
       "max                                   -244.483566   \n",
       "\n",
       "       secondary_cleaner.state.floatbank5_b_air  \\\n",
       "count                              19438.000000   \n",
       "mean                                  12.198224   \n",
       "std                                    5.333024   \n",
       "min                                    0.528083   \n",
       "25%                                    8.971105   \n",
       "50%                                   11.019433   \n",
       "75%                                   14.019088   \n",
       "max                                   27.926001   \n",
       "\n",
       "       secondary_cleaner.state.floatbank5_b_level  \\\n",
       "count                                19438.000000   \n",
       "mean                                  -487.149827   \n",
       "std                                     38.347312   \n",
       "min                                   -800.220337   \n",
       "25%                                   -500.129462   \n",
       "50%                                   -499.935317   \n",
       "75%                                   -499.436708   \n",
       "max                                   -137.740004   \n",
       "\n",
       "       secondary_cleaner.state.floatbank6_a_air  \\\n",
       "count                              19437.000000   \n",
       "mean                                  18.959024   \n",
       "std                                    5.550498   \n",
       "min                                   -0.079426   \n",
       "25%                                   14.983037   \n",
       "50%                                   19.960541   \n",
       "75%                                   24.003170   \n",
       "max                                   32.188906   \n",
       "\n",
       "       secondary_cleaner.state.floatbank6_a_level  \n",
       "count                                19438.000000  \n",
       "mean                                  -505.436305  \n",
       "std                                     37.689057  \n",
       "min                                   -809.741464  \n",
       "25%                                   -500.728067  \n",
       "50%                                   -500.048400  \n",
       "75%                                   -499.495378  \n",
       "max                                   -104.427459  \n",
       "\n",
       "[8 rows x 86 columns]"
      ]
     },
     "metadata": {},
     "output_type": "display_data"
    },
    {
     "name": "stdout",
     "output_type": "stream",
     "text": [
      "-----\n",
      "Amount of duplicates\n"
     ]
    },
    {
     "data": {
      "text/plain": [
       "0"
      ]
     },
     "metadata": {},
     "output_type": "display_data"
    },
    {
     "name": "stdout",
     "output_type": "stream",
     "text": [
      "-----\n",
      "Percentage of missing data in features\n"
     ]
    },
    {
     "data": {
      "text/plain": [
       "secondary_cleaner.output.tail_sol                     0.089922\n",
       "rougher.input.floatbank11_xanthate                    0.023304\n",
       "rougher.state.floatbank10_e_air                       0.022429\n",
       "primary_cleaner.output.concentrate_sol                0.019034\n",
       "secondary_cleaner.state.floatbank2_a_air              0.011317\n",
       "final.output.concentrate_sol                          0.010854\n",
       "rougher.input.feed_size                               0.007459\n",
       "primary_cleaner.output.concentrate_pb                 0.005967\n",
       "primary_cleaner.input.xanthate                        0.005350\n",
       "final.output.tail_pb                                  0.005196\n",
       "rougher.input.feed_pb                                 0.005144\n",
       "rougher.input.feed_sol                                0.005093\n",
       "primary_cleaner.output.tail_sol                       0.003189\n",
       "rougher.input.floatbank11_sulfate                     0.002263\n",
       "primary_cleaner.input.depressant                      0.001903\n",
       "rougher.input.floatbank10_sulfate                     0.001749\n",
       "primary_cleaner.input.sulfate                         0.001235\n",
       "secondary_cleaner.state.floatbank2_b_air              0.001183\n",
       "rougher.output.concentrate_sol                        0.001183\n",
       "primary_cleaner.output.tail_pb                        0.001080\n",
       "secondary_cleaner.state.floatbank3_a_air              0.000669\n",
       "secondary_cleaner.output.tail_pb                      0.000617\n",
       "rougher.input.feed_rate                               0.000566\n",
       "rougher.input.floatbank10_xanthate                    0.000412\n",
       "secondary_cleaner.state.floatbank4_a_air              0.000309\n",
       "final.output.tail_sol                                 0.000309\n",
       "primary_cleaner.state.floatbank8_a_air                0.000206\n",
       "primary_cleaner.state.floatbank8_b_air                0.000206\n",
       "primary_cleaner.output.tail_ag                        0.000206\n",
       "primary_cleaner.state.floatbank8_d_air                0.000154\n",
       "rougher.calculation.floatbank10_sulfate_to_au_feed    0.000103\n",
       "rougher.calculation.floatbank11_sulfate_to_au_feed    0.000103\n",
       "primary_cleaner.state.floatbank8_c_air                0.000103\n",
       "rougher.calculation.sulfate_to_au_concentrate         0.000103\n",
       "secondary_cleaner.state.floatbank6_a_air              0.000103\n",
       "secondary_cleaner.output.tail_ag                      0.000103\n",
       "primary_cleaner.state.floatbank8_d_level              0.000051\n",
       "final.output.tail_ag                                  0.000051\n",
       "primary_cleaner.state.floatbank8_c_level              0.000051\n",
       "final.output.concentrate_pb                           0.000051\n",
       "final.output.concentrate_ag                           0.000051\n",
       "primary_cleaner.state.floatbank8_b_level              0.000051\n",
       "primary_cleaner.state.floatbank8_a_level              0.000051\n",
       "secondary_cleaner.state.floatbank6_a_level            0.000051\n",
       "rougher.state.floatbank10_a_level                     0.000051\n",
       "rougher.state.floatbank10_a_air                       0.000051\n",
       "secondary_cleaner.state.floatbank3_a_level            0.000051\n",
       "secondary_cleaner.state.floatbank3_b_air              0.000051\n",
       "secondary_cleaner.state.floatbank3_b_level            0.000051\n",
       "secondary_cleaner.state.floatbank4_a_level            0.000051\n",
       "dtype: float64"
      ]
     },
     "metadata": {},
     "output_type": "display_data"
    },
    {
     "name": "stdout",
     "output_type": "stream",
     "text": [
      "\n"
     ]
    }
   ],
   "source": [
    "def get_to_know_your_data(df, df_name):\n",
    "    for e in range(len(df)):\n",
    "        \n",
    "        element = df[e]\n",
    "        print(f'NAME: {df_name[e]}')\n",
    "        print(\"-------------------\")\n",
    "        print('Dataset review')\n",
    "        display(element.head())\n",
    "        print(\"-----\")\n",
    "        print('Short summary')\n",
    "        display(element.info())\n",
    "        print(\"-----\")\n",
    "        print('Statistics')\n",
    "        display(element.describe())\n",
    "        print(\"-----\")\n",
    "        print('Amount of duplicates')\n",
    "        display(element.duplicated().sum())\n",
    "        print(\"-----\")\n",
    "        print('Percentage of missing data in features')\n",
    "        display(element.isnull().mean().sort_values(ascending=False).head(50))\n",
    "        print()\n",
    "df = [data_train, data_test, data_all]\n",
    "df_name = ['data_train', 'data_test', 'data_all']\n",
    "get_to_know_your_data(df, df_name)"
   ]
  },
  {
   "cell_type": "markdown",
   "metadata": {},
   "source": [
    "Ore processing efficiency calculation check (\"rougher.output.recovery\" feature)"
   ]
  },
  {
   "cell_type": "code",
   "execution_count": 5,
   "metadata": {},
   "outputs": [],
   "source": [
    "data_train['rougher_output_recovery_calc'] = (data_train['rougher.output.concentrate_au'] * (\n",
    "    data_train['rougher.input.feed_au'] - data_train['rougher.output.tail_au']) / \n",
    "                                              (data_train['rougher.input.feed_au'] * \n",
    "                                              (data_train['rougher.output.concentrate_au'] - \n",
    "                                              (data_train['rougher.output.tail_au'])))) * 100"
   ]
  },
  {
   "cell_type": "code",
   "execution_count": 6,
   "metadata": {},
   "outputs": [],
   "source": [
    "mae_rougher = mean_absolute_error(data_train['rougher.output.recovery'], data_train['rougher_output_recovery_calc'])"
   ]
  },
  {
   "cell_type": "code",
   "execution_count": 7,
   "metadata": {},
   "outputs": [
    {
     "data": {
      "text/plain": [
       "9.682896147825551e-15"
      ]
     },
     "execution_count": 7,
     "metadata": {},
     "output_type": "execute_result"
    }
   ],
   "source": [
    "mae_rougher"
   ]
  },
  {
   "cell_type": "markdown",
   "metadata": {},
   "source": [
    "MAE value is low, ore processing efficiency is calculated correctly "
   ]
  },
  {
   "cell_type": "code",
   "execution_count": 8,
   "metadata": {},
   "outputs": [],
   "source": [
    "columns_train = data_train.columns\n",
    "columns_test = data_test.columns"
   ]
  },
  {
   "cell_type": "code",
   "execution_count": 9,
   "metadata": {},
   "outputs": [],
   "source": [
    "columns_train_set = set(data_train.columns)\n",
    "columns_test_set = set(data_test.columns)"
   ]
  },
  {
   "cell_type": "code",
   "execution_count": 10,
   "metadata": {},
   "outputs": [
    {
     "name": "stdout",
     "output_type": "stream",
     "text": [
      "{'primary_cleaner.input.xanthate', 'secondary_cleaner.state.floatbank2_b_level', 'primary_cleaner.state.floatbank8_d_air', 'rougher.state.floatbank10_e_air', 'primary_cleaner.input.depressant', 'primary_cleaner.state.floatbank8_a_air', 'secondary_cleaner.state.floatbank2_b_air', 'rougher.state.floatbank10_c_air', 'rougher.input.feed_au', 'primary_cleaner.input.feed_size', 'primary_cleaner.state.floatbank8_b_air', 'secondary_cleaner.state.floatbank3_a_air', 'secondary_cleaner.state.floatbank4_a_level', 'rougher.state.floatbank10_c_level', 'primary_cleaner.state.floatbank8_b_level', 'rougher.state.floatbank10_d_air', 'primary_cleaner.state.floatbank8_c_air', 'secondary_cleaner.state.floatbank5_a_air', 'rougher.state.floatbank10_a_level', 'rougher.input.feed_rate', 'secondary_cleaner.state.floatbank3_b_air', 'rougher.input.floatbank11_xanthate', 'secondary_cleaner.state.floatbank5_b_air', 'rougher.input.feed_pb', 'rougher.input.feed_ag', 'rougher.input.floatbank10_xanthate', 'secondary_cleaner.state.floatbank4_a_air', 'secondary_cleaner.state.floatbank6_a_air', 'secondary_cleaner.state.floatbank4_b_level', 'secondary_cleaner.state.floatbank3_b_level', 'rougher.input.floatbank11_sulfate', 'rougher.state.floatbank10_d_level', 'rougher.state.floatbank10_a_air', 'secondary_cleaner.state.floatbank2_a_air', 'primary_cleaner.state.floatbank8_a_level', 'rougher.state.floatbank10_b_level', 'secondary_cleaner.state.floatbank4_b_air', 'secondary_cleaner.state.floatbank3_a_level', 'rougher.state.floatbank10_e_level', 'rougher.state.floatbank10_f_air', 'primary_cleaner.state.floatbank8_d_level', 'secondary_cleaner.state.floatbank2_a_level', 'secondary_cleaner.state.floatbank5_a_level', 'date', 'rougher.input.feed_size', 'rougher.input.floatbank10_sulfate', 'rougher.state.floatbank10_b_air', 'rougher.state.floatbank10_f_level', 'secondary_cleaner.state.floatbank5_b_level', 'secondary_cleaner.state.floatbank6_a_level', 'primary_cleaner.state.floatbank8_c_level', 'rougher.input.feed_sol', 'primary_cleaner.input.sulfate'}\n"
     ]
    }
   ],
   "source": [
    "print(columns_train_set & columns_test_set)"
   ]
  },
  {
   "cell_type": "code",
   "execution_count": 11,
   "metadata": {},
   "outputs": [],
   "source": [
    "mutual_columns = []\n",
    "for element in columns_train:\n",
    "    if element in columns_test:\n",
    "        mutual_columns.append(element)"
   ]
  },
  {
   "cell_type": "code",
   "execution_count": 12,
   "metadata": {},
   "outputs": [
    {
     "data": {
      "text/plain": [
       "53"
      ]
     },
     "execution_count": 12,
     "metadata": {},
     "output_type": "execute_result"
    }
   ],
   "source": [
    "len(mutual_columns)"
   ]
  },
  {
   "cell_type": "code",
   "execution_count": 13,
   "metadata": {},
   "outputs": [],
   "source": [
    "columns_missing_in_test = []\n",
    "for element in columns_train:\n",
    "    if element not in columns_test:\n",
    "        columns_missing_in_test.append(element)"
   ]
  },
  {
   "cell_type": "code",
   "execution_count": 14,
   "metadata": {},
   "outputs": [
    {
     "data": {
      "text/plain": [
       "['final.output.concentrate_ag',\n",
       " 'final.output.concentrate_pb',\n",
       " 'final.output.concentrate_sol',\n",
       " 'final.output.concentrate_au',\n",
       " 'final.output.recovery',\n",
       " 'final.output.tail_ag',\n",
       " 'final.output.tail_pb',\n",
       " 'final.output.tail_sol',\n",
       " 'final.output.tail_au',\n",
       " 'primary_cleaner.output.concentrate_ag',\n",
       " 'primary_cleaner.output.concentrate_pb',\n",
       " 'primary_cleaner.output.concentrate_sol',\n",
       " 'primary_cleaner.output.concentrate_au',\n",
       " 'primary_cleaner.output.tail_ag',\n",
       " 'primary_cleaner.output.tail_pb',\n",
       " 'primary_cleaner.output.tail_sol',\n",
       " 'primary_cleaner.output.tail_au',\n",
       " 'rougher.calculation.sulfate_to_au_concentrate',\n",
       " 'rougher.calculation.floatbank10_sulfate_to_au_feed',\n",
       " 'rougher.calculation.floatbank11_sulfate_to_au_feed',\n",
       " 'rougher.calculation.au_pb_ratio',\n",
       " 'rougher.output.concentrate_ag',\n",
       " 'rougher.output.concentrate_pb',\n",
       " 'rougher.output.concentrate_sol',\n",
       " 'rougher.output.concentrate_au',\n",
       " 'rougher.output.recovery',\n",
       " 'rougher.output.tail_ag',\n",
       " 'rougher.output.tail_pb',\n",
       " 'rougher.output.tail_sol',\n",
       " 'rougher.output.tail_au',\n",
       " 'secondary_cleaner.output.tail_ag',\n",
       " 'secondary_cleaner.output.tail_pb',\n",
       " 'secondary_cleaner.output.tail_sol',\n",
       " 'secondary_cleaner.output.tail_au',\n",
       " 'rougher_output_recovery_calc']"
      ]
     },
     "execution_count": 14,
     "metadata": {},
     "output_type": "execute_result"
    }
   ],
   "source": [
    "columns_missing_in_test"
   ]
  },
  {
   "cell_type": "code",
   "execution_count": 15,
   "metadata": {},
   "outputs": [],
   "source": [
    "missing_train_features = data_train.loc[:, columns_missing_in_test]"
   ]
  },
  {
   "cell_type": "code",
   "execution_count": 16,
   "metadata": {},
   "outputs": [
    {
     "name": "stdout",
     "output_type": "stream",
     "text": [
      "<class 'pandas.core.frame.DataFrame'>\n",
      "RangeIndex: 14149 entries, 0 to 14148\n",
      "Data columns (total 35 columns):\n",
      "final.output.concentrate_ag                           14148 non-null float64\n",
      "final.output.concentrate_pb                           14148 non-null float64\n",
      "final.output.concentrate_sol                          13938 non-null float64\n",
      "final.output.concentrate_au                           14149 non-null float64\n",
      "final.output.recovery                                 14149 non-null float64\n",
      "final.output.tail_ag                                  14149 non-null float64\n",
      "final.output.tail_pb                                  14049 non-null float64\n",
      "final.output.tail_sol                                 14144 non-null float64\n",
      "final.output.tail_au                                  14149 non-null float64\n",
      "primary_cleaner.output.concentrate_ag                 14149 non-null float64\n",
      "primary_cleaner.output.concentrate_pb                 14063 non-null float64\n",
      "primary_cleaner.output.concentrate_sol                13863 non-null float64\n",
      "primary_cleaner.output.concentrate_au                 14149 non-null float64\n",
      "primary_cleaner.output.tail_ag                        14148 non-null float64\n",
      "primary_cleaner.output.tail_pb                        14134 non-null float64\n",
      "primary_cleaner.output.tail_sol                       14103 non-null float64\n",
      "primary_cleaner.output.tail_au                        14149 non-null float64\n",
      "rougher.calculation.sulfate_to_au_concentrate         14148 non-null float64\n",
      "rougher.calculation.floatbank10_sulfate_to_au_feed    14148 non-null float64\n",
      "rougher.calculation.floatbank11_sulfate_to_au_feed    14148 non-null float64\n",
      "rougher.calculation.au_pb_ratio                       14149 non-null float64\n",
      "rougher.output.concentrate_ag                         14149 non-null float64\n",
      "rougher.output.concentrate_pb                         14149 non-null float64\n",
      "rougher.output.concentrate_sol                        14127 non-null float64\n",
      "rougher.output.concentrate_au                         14149 non-null float64\n",
      "rougher.output.recovery                               14149 non-null float64\n",
      "rougher.output.tail_ag                                14148 non-null float64\n",
      "rougher.output.tail_pb                                14149 non-null float64\n",
      "rougher.output.tail_sol                               14149 non-null float64\n",
      "rougher.output.tail_au                                14149 non-null float64\n",
      "secondary_cleaner.output.tail_ag                      14147 non-null float64\n",
      "secondary_cleaner.output.tail_pb                      14139 non-null float64\n",
      "secondary_cleaner.output.tail_sol                     12544 non-null float64\n",
      "secondary_cleaner.output.tail_au                      14149 non-null float64\n",
      "rougher_output_recovery_calc                          14149 non-null float64\n",
      "dtypes: float64(35)\n",
      "memory usage: 3.8 MB\n"
     ]
    }
   ],
   "source": [
    "missing_train_features.info()"
   ]
  },
  {
   "cell_type": "markdown",
   "metadata": {},
   "source": [
    "All features unavailable in the test set are numeric features. These features reflect metal concentrations after various stages of ore processing as well as in final tailings."
   ]
  },
  {
   "cell_type": "markdown",
   "metadata": {},
   "source": [
    "Remove target feature for further analysis. In order to train the model only the features available in the test are kept in the training set."
   ]
  },
  {
   "cell_type": "code",
   "execution_count": 17,
   "metadata": {},
   "outputs": [],
   "source": [
    "target_train_rougher = data_train['rougher.output.recovery']"
   ]
  },
  {
   "cell_type": "code",
   "execution_count": 18,
   "metadata": {},
   "outputs": [],
   "source": [
    "target_train_final = data_train['final.output.recovery']"
   ]
  },
  {
   "cell_type": "code",
   "execution_count": 19,
   "metadata": {},
   "outputs": [],
   "source": [
    "data_train_for_model = data_train.drop(columns_missing_in_test, axis=1)"
   ]
  },
  {
   "cell_type": "markdown",
   "metadata": {},
   "source": [
    "Add target features to test dataset."
   ]
  },
  {
   "cell_type": "code",
   "execution_count": 20,
   "metadata": {},
   "outputs": [],
   "source": [
    "data_test_with_targets = pd.merge(data_test, data_all, how=\"inner\", on='date')"
   ]
  },
  {
   "cell_type": "code",
   "execution_count": 21,
   "metadata": {},
   "outputs": [
    {
     "data": {
      "text/plain": [
       "(5290, 139)"
      ]
     },
     "execution_count": 21,
     "metadata": {},
     "output_type": "execute_result"
    }
   ],
   "source": [
    "data_test_with_targets.shape"
   ]
  },
  {
   "cell_type": "code",
   "execution_count": 22,
   "metadata": {},
   "outputs": [],
   "source": [
    "target_test_rougher = data_test_with_targets['rougher.output.recovery']"
   ]
  },
  {
   "cell_type": "code",
   "execution_count": 23,
   "metadata": {},
   "outputs": [],
   "source": [
    "target_test_final = data_test_with_targets['final.output.recovery']"
   ]
  },
  {
   "cell_type": "code",
   "execution_count": 24,
   "metadata": {},
   "outputs": [],
   "source": [
    "data_train_for_model = data_train_for_model.drop('date', axis=1)"
   ]
  },
  {
   "cell_type": "code",
   "execution_count": 25,
   "metadata": {},
   "outputs": [],
   "source": [
    "data_test = data_test.drop('date', axis=1)"
   ]
  },
  {
   "cell_type": "markdown",
   "metadata": {},
   "source": [
    "Data review shows missing values in multiple features. They require processing."
   ]
  },
  {
   "cell_type": "markdown",
   "metadata": {},
   "source": [
    "Missing values are filled in using ffill."
   ]
  },
  {
   "cell_type": "code",
   "execution_count": 26,
   "metadata": {},
   "outputs": [],
   "source": [
    "data_train_for_model.ffill(inplace=True)"
   ]
  },
  {
   "cell_type": "code",
   "execution_count": 27,
   "metadata": {},
   "outputs": [],
   "source": [
    "data_test.ffill(inplace=True)"
   ]
  },
  {
   "cell_type": "markdown",
   "metadata": {},
   "source": [
    "###### Summary \n",
    "\n",
    "Data is preprocessed, missing values are filled in. Data is ready for further processing. Calculations of ore processing efficiency are checked. Calculations are correct."
   ]
  },
  {
   "cell_type": "markdown",
   "metadata": {},
   "source": [
    "## Data Analysis"
   ]
  },
  {
   "cell_type": "markdown",
   "metadata": {},
   "source": [
    "Make graphs of metal concentration depending on the process stage."
   ]
  },
  {
   "cell_type": "code",
   "execution_count": 28,
   "metadata": {},
   "outputs": [],
   "source": [
    "#Gold\n",
    "conc_au = [data_train['rougher.output.concentrate_au'],  \n",
    "           data_train['primary_cleaner.output.concentrate_au'],\n",
    "          data_train['final.output.concentrate_au']]"
   ]
  },
  {
   "cell_type": "code",
   "execution_count": 29,
   "metadata": {},
   "outputs": [
    {
     "data": {
      "image/png": "[encoded data removed]",
      "text/plain": [
       "<Figure size 864x432 with 1 Axes>"
      ]
     },
     "metadata": {
      "needs_background": "light"
     },
     "output_type": "display_data"
    }
   ],
   "source": [
    "plt.figure(figsize=(12, 6))\n",
    "plt.boxplot(conc_au);\n",
    "\n",
    "plt.title('Concentration of gold depending on the process stage',fontsize=14) \n",
    "plt.xlabel('stage',fontsize=12)\n",
    "plt.ylabel('concentration',fontsize=12);\n",
    "fig = plt.axes()\n",
    "\n",
    "fig.set_xticklabels(['Flotation', 'Coarse purification', 'Repurification'])\n",
    "plt.show()"
   ]
  },
  {
   "cell_type": "code",
   "execution_count": 30,
   "metadata": {},
   "outputs": [],
   "source": [
    "#Silver\n",
    "conc_ag = [data_train['rougher.output.concentrate_ag'],  \n",
    "           data_train['primary_cleaner.output.concentrate_ag'],\n",
    "           data_train['final.output.concentrate_ag'].dropna()]"
   ]
  },
  {
   "cell_type": "code",
   "execution_count": 31,
   "metadata": {},
   "outputs": [
    {
     "data": {
      "text/plain": [
       "1"
      ]
     },
     "execution_count": 31,
     "metadata": {},
     "output_type": "execute_result"
    }
   ],
   "source": [
    "data_train['final.output.concentrate_ag'].isna().sum()"
   ]
  },
  {
   "cell_type": "code",
   "execution_count": 32,
   "metadata": {},
   "outputs": [
    {
     "data": {
      "image/png": "[encoded data removed]",
      "text/plain": [
       "<Figure size 864x432 with 1 Axes>"
      ]
     },
     "metadata": {
      "needs_background": "light"
     },
     "output_type": "display_data"
    }
   ],
   "source": [
    "plt.figure(figsize=(12, 6));\n",
    "plt.boxplot(conc_ag);\n",
    "plt.title('Concentration of silver depending on the process stage',fontsize=14);\n",
    "plt.xlabel('stage',fontsize=12);\n",
    "plt.ylabel('concentration',fontsize=12);\n",
    "fig = plt.axes()\n",
    "fig.set_xticklabels(['Flotation', 'Coarse purification', 'Repurification'])\n",
    "plt.show()"
   ]
  },
  {
   "cell_type": "code",
   "execution_count": 33,
   "metadata": {},
   "outputs": [],
   "source": [
    "#Lead\n",
    "conc_pb = [data_train['rougher.output.concentrate_pb'],  \n",
    "           data_train['primary_cleaner.output.concentrate_pb'].dropna(),\n",
    "           data_train['final.output.concentrate_pb'].dropna()]"
   ]
  },
  {
   "cell_type": "code",
   "execution_count": 34,
   "metadata": {},
   "outputs": [
    {
     "data": {
      "image/png": "[encoded data removed]",
      "text/plain": [
       "<Figure size 864x432 with 1 Axes>"
      ]
     },
     "metadata": {
      "needs_background": "light"
     },
     "output_type": "display_data"
    }
   ],
   "source": [
    "plt.figure(figsize=(12, 6))\n",
    "plt.boxplot(conc_pb);\n",
    "plt.title('Concentration of lead depending on the process stage',fontsize=14);\n",
    "plt.xlabel('stage',fontsize=12);\n",
    "plt.ylabel('concentration',fontsize=12);\n",
    "fig = plt.axes();\n",
    "fig.set_xticklabels(['Flotation', 'Coarse purification', 'Repurification'])\n",
    "plt.show()"
   ]
  },
  {
   "cell_type": "markdown",
   "metadata": {},
   "source": [
    "The graphs show average concentration of gold increases after each subsequent processing stage and concentration of silver decreases. Average concentration of lead increases after floatation and remains about the same after further stages."
   ]
  },
  {
   "cell_type": "markdown",
   "metadata": {},
   "source": [
    "Comparison of raw material crystals (feed_size) distribution for training and test sets."
   ]
  },
  {
   "cell_type": "code",
   "execution_count": 35,
   "metadata": {},
   "outputs": [],
   "source": [
    "feed_size_rougher_train = data_train_for_model['rougher.input.feed_size']\n",
    "feed_size_rougher_test = data_test['rougher.input.feed_size']\n",
    "feed_size_primary_train = data_train_for_model['primary_cleaner.input.feed_size']\n",
    "feed_size_primary_test = data_test['primary_cleaner.input.feed_size']"
   ]
  },
  {
   "cell_type": "code",
   "execution_count": 36,
   "metadata": {},
   "outputs": [
    {
     "data": {
      "text/plain": [
       "Text(0.5, 1.0, 'Raw material crystals (feed_size) distribution incoming to floatation stage')"
      ]
     },
     "execution_count": 36,
     "metadata": {},
     "output_type": "execute_result"
    },
    {
     "data": {
      "image/png": "[encoded data removed]",
      "text/plain": [
       "<Figure size 432x288 with 1 Axes>"
      ]
     },
     "metadata": {
      "needs_background": "light"
     },
     "output_type": "display_data"
    }
   ],
   "source": [
    "plt.hist(feed_size_rougher_train)\n",
    "plt.hist(feed_size_rougher_test);\n",
    "plt.title('Raw material crystals (feed_size) distribution incoming to floatation stage',fontsize=14)"
   ]
  },
  {
   "cell_type": "code",
   "execution_count": 37,
   "metadata": {},
   "outputs": [
    {
     "data": {
      "image/png": "[encoded data removed]",
      "text/plain": [
       "<Figure size 432x288 with 1 Axes>"
      ]
     },
     "metadata": {
      "needs_background": "light"
     },
     "output_type": "display_data"
    }
   ],
   "source": [
    "plt.hist(feed_size_primary_train)\n",
    "plt.hist(feed_size_primary_test);\n",
    "plt.title('Raw material crystals distribution incoming to coarse purification stage',fontsize=14);"
   ]
  },
  {
   "cell_type": "markdown",
   "metadata": {},
   "source": [
    "The histograms show that crystal size distribution is similar for both training and test sets."
   ]
  },
  {
   "cell_type": "markdown",
   "metadata": {},
   "source": [
    "Metal concentration depending on processing stage."
   ]
  },
  {
   "cell_type": "code",
   "execution_count": 38,
   "metadata": {},
   "outputs": [],
   "source": [
    "total_conc = []\n",
    "for (item1, item2, item3) in zip(conc_au, conc_ag, conc_pb):\n",
    "    total_conc.append(item1+item2+item3)"
   ]
  },
  {
   "cell_type": "code",
   "execution_count": 39,
   "metadata": {},
   "outputs": [
    {
     "data": {
      "text/plain": [
       "3"
      ]
     },
     "execution_count": 39,
     "metadata": {},
     "output_type": "execute_result"
    }
   ],
   "source": [
    "len(total_conc)"
   ]
  },
  {
   "cell_type": "code",
   "execution_count": 40,
   "metadata": {},
   "outputs": [],
   "source": [
    "total_conc = [total_conc[0].dropna(), total_conc[1].dropna(), total_conc[2].dropna()]"
   ]
  },
  {
   "cell_type": "code",
   "execution_count": 41,
   "metadata": {},
   "outputs": [
    {
     "data": {
      "image/png": "[encoded data removed]",
      "text/plain": [
       "<Figure size 864x432 with 1 Axes>"
      ]
     },
     "metadata": {
      "needs_background": "light"
     },
     "output_type": "display_data"
    }
   ],
   "source": [
    "plt.figure(figsize=(12, 6))\n",
    "plt.boxplot(total_conc);\n",
    "plt.title('Aggregate metal concentration depending on processing stage',fontsize=14)\n",
    "plt.xlabel('stage',fontsize=12)\n",
    "plt.ylabel('concentration',fontsize=12);\n",
    "fig = plt.axes();\n",
    "fig.set_xticklabels(['Flotation', 'Coarse purification', 'Repurification'])\n",
    "plt.show()"
   ]
  },
  {
   "cell_type": "markdown",
   "metadata": {},
   "source": [
    "###### Summary \n",
    "\n",
    "Metal concentration depending on different processing stage is explored. Grain size distributions for both training and test sets are compared."
   ]
  },
  {
   "cell_type": "markdown",
   "metadata": {},
   "source": [
    "## Model"
   ]
  },
  {
   "cell_type": "markdown",
   "metadata": {},
   "source": [
    "Division by zero may occur in smape calculation if true value is equal to predicted value and is equal to zero. This case may be problematic. Create function dva_zero() to check for such values."
   ]
  },
  {
   "cell_type": "code",
   "execution_count": 42,
   "metadata": {},
   "outputs": [],
   "source": [
    "def dva_zero(target, probabilities):\n",
    "    for i in range(len(target)):\n",
    "        if target[i] == 0 and probabilities[i] == 0:\n",
    "            print('target and probabilities are equal')"
   ]
  },
  {
   "cell_type": "markdown",
   "metadata": {},
   "source": [
    "smape calculation function"
   ]
  },
  {
   "cell_type": "code",
   "execution_count": 43,
   "metadata": {},
   "outputs": [],
   "source": [
    "def smape(target, probabilities):\n",
    "    results = abs(target - probabilities) / ((abs(target) + abs(probabilities)) / 2)\n",
    "    results = results.fillna(0)\n",
    "    sMAPE = sum(results) / len(target) * 100\n",
    "    return sMAPE"
   ]
  },
  {
   "cell_type": "markdown",
   "metadata": {},
   "source": [
    "Linear regression and random forest models"
   ]
  },
  {
   "cell_type": "code",
   "execution_count": 44,
   "metadata": {},
   "outputs": [],
   "source": [
    "model1 = LinearRegression(normalize=True)"
   ]
  },
  {
   "cell_type": "code",
   "execution_count": 45,
   "metadata": {},
   "outputs": [],
   "source": [
    "model2 = RandomForestRegressor(random_state=12345)"
   ]
  },
  {
   "cell_type": "markdown",
   "metadata": {},
   "source": [
    "Hyper-parameter selection for random forest with grid search."
   ]
  },
  {
   "cell_type": "code",
   "execution_count": 46,
   "metadata": {},
   "outputs": [],
   "source": [
    "param_grid = {'max_depth':[2, 4, ],\n",
    "              'n_estimators':[5, 10, 15],\n",
    "              'n_jobs': [-1]}"
   ]
  },
  {
   "cell_type": "code",
   "execution_count": 47,
   "metadata": {},
   "outputs": [],
   "source": [
    "cv_grid = GridSearchCV(model2, param_grid, cv=3, verbose=2)\n",
    "cv_grid_final = GridSearchCV(model2, param_grid, cv=3, verbose=2)"
   ]
  },
  {
   "cell_type": "markdown",
   "metadata": {},
   "source": [
    "Split set to training and validation sets for rougher stage."
   ]
  },
  {
   "cell_type": "code",
   "execution_count": 48,
   "metadata": {},
   "outputs": [],
   "source": [
    "features_train_rougher, features_valid_rougher, target_train_rougher, target_valid_rougher = train_test_split(data_train_for_model, target_train_rougher, test_size=0.25, random_state=12345)"
   ]
  },
  {
   "cell_type": "markdown",
   "metadata": {},
   "source": [
    "Split set to training and validation for final stage."
   ]
  },
  {
   "cell_type": "code",
   "execution_count": 49,
   "metadata": {},
   "outputs": [],
   "source": [
    "features_train_final, features_valid_final, target_train_final, target_valid_final = train_test_split(data_train_for_model, target_train_final, test_size=0.25, random_state=12345)"
   ]
  },
  {
   "cell_type": "code",
   "execution_count": 50,
   "metadata": {},
   "outputs": [
    {
     "data": {
      "text/plain": [
       "LinearRegression(copy_X=True, fit_intercept=True, n_jobs=None, normalize=True)"
      ]
     },
     "execution_count": 50,
     "metadata": {},
     "output_type": "execute_result"
    }
   ],
   "source": [
    "model1.fit(features_train_rougher, target_train_rougher)"
   ]
  },
  {
   "cell_type": "code",
   "execution_count": 51,
   "metadata": {},
   "outputs": [],
   "source": [
    "model1_predict_rougher = model1.predict(features_valid_rougher)"
   ]
  },
  {
   "cell_type": "code",
   "execution_count": 52,
   "metadata": {},
   "outputs": [],
   "source": [
    "smape_valid_rougher_model1 = smape(target_valid_rougher.reset_index(drop=True), model1_predict_rougher)"
   ]
  },
  {
   "cell_type": "code",
   "execution_count": 53,
   "metadata": {},
   "outputs": [
    {
     "data": {
      "text/plain": [
       "10.713201943742215"
      ]
     },
     "execution_count": 53,
     "metadata": {},
     "output_type": "execute_result"
    }
   ],
   "source": [
    "smape_valid_rougher_model1"
   ]
  },
  {
   "cell_type": "code",
   "execution_count": 54,
   "metadata": {},
   "outputs": [
    {
     "data": {
      "text/plain": [
       "LinearRegression(copy_X=True, fit_intercept=True, n_jobs=None, normalize=True)"
      ]
     },
     "execution_count": 54,
     "metadata": {},
     "output_type": "execute_result"
    }
   ],
   "source": [
    "model1.fit(features_train_final, target_train_final)"
   ]
  },
  {
   "cell_type": "code",
   "execution_count": 55,
   "metadata": {},
   "outputs": [],
   "source": [
    "model1_predict_final = model1.predict(features_valid_final)"
   ]
  },
  {
   "cell_type": "code",
   "execution_count": 56,
   "metadata": {},
   "outputs": [],
   "source": [
    "smape_valid_final_model1 = smape(target_valid_final.reset_index(drop=True), model1_predict_final)"
   ]
  },
  {
   "cell_type": "code",
   "execution_count": 57,
   "metadata": {},
   "outputs": [],
   "source": [
    "result_smape_lin_reg = 0.25 * smape_valid_rougher_model1 + 0.75 * smape_valid_final_model1"
   ]
  },
  {
   "cell_type": "code",
   "execution_count": 58,
   "metadata": {},
   "outputs": [
    {
     "data": {
      "text/plain": [
       "9.125553722762907"
      ]
     },
     "execution_count": 58,
     "metadata": {},
     "output_type": "execute_result"
    }
   ],
   "source": [
    "result_smape_lin_reg"
   ]
  },
  {
   "cell_type": "markdown",
   "metadata": {},
   "source": [
    "Final sMAPE for linear regression is 9.13. Same metric calculation for random forest"
   ]
  },
  {
   "cell_type": "code",
   "execution_count": 59,
   "metadata": {},
   "outputs": [
    {
     "name": "stdout",
     "output_type": "stream",
     "text": [
      "Fitting 3 folds for each of 6 candidates, totalling 18 fits\n",
      "[CV] max_depth=2, n_estimators=5, n_jobs=-1 ..........................\n"
     ]
    },
    {
     "name": "stderr",
     "output_type": "stream",
     "text": [
      "[Parallel(n_jobs=1)]: Using backend SequentialBackend with 1 concurrent workers.\n"
     ]
    },
    {
     "name": "stdout",
     "output_type": "stream",
     "text": [
      "[CV] ........... max_depth=2, n_estimators=5, n_jobs=-1, total=   0.3s\n",
      "[CV] max_depth=2, n_estimators=5, n_jobs=-1 ..........................\n"
     ]
    },
    {
     "name": "stderr",
     "output_type": "stream",
     "text": [
      "[Parallel(n_jobs=1)]: Done   1 out of   1 | elapsed:    0.3s remaining:    0.0s\n"
     ]
    },
    {
     "name": "stdout",
     "output_type": "stream",
     "text": [
      "[CV] ........... max_depth=2, n_estimators=5, n_jobs=-1, total=   0.2s\n",
      "[CV] max_depth=2, n_estimators=5, n_jobs=-1 ..........................\n",
      "[CV] ........... max_depth=2, n_estimators=5, n_jobs=-1, total=   0.2s\n",
      "[CV] max_depth=2, n_estimators=10, n_jobs=-1 .........................\n",
      "[CV] .......... max_depth=2, n_estimators=10, n_jobs=-1, total=   0.4s\n",
      "[CV] max_depth=2, n_estimators=10, n_jobs=-1 .........................\n",
      "[CV] .......... max_depth=2, n_estimators=10, n_jobs=-1, total=   0.4s\n",
      "[CV] max_depth=2, n_estimators=10, n_jobs=-1 .........................\n",
      "[CV] .......... max_depth=2, n_estimators=10, n_jobs=-1, total=   0.4s\n",
      "[CV] max_depth=2, n_estimators=15, n_jobs=-1 .........................\n",
      "[CV] .......... max_depth=2, n_estimators=15, n_jobs=-1, total=   0.6s\n",
      "[CV] max_depth=2, n_estimators=15, n_jobs=-1 .........................\n",
      "[CV] .......... max_depth=2, n_estimators=15, n_jobs=-1, total=   0.6s\n",
      "[CV] max_depth=2, n_estimators=15, n_jobs=-1 .........................\n",
      "[CV] .......... max_depth=2, n_estimators=15, n_jobs=-1, total=   0.6s\n",
      "[CV] max_depth=4, n_estimators=5, n_jobs=-1 ..........................\n",
      "[CV] ........... max_depth=4, n_estimators=5, n_jobs=-1, total=   0.5s\n",
      "[CV] max_depth=4, n_estimators=5, n_jobs=-1 ..........................\n",
      "[CV] ........... max_depth=4, n_estimators=5, n_jobs=-1, total=   0.4s\n",
      "[CV] max_depth=4, n_estimators=5, n_jobs=-1 ..........................\n",
      "[CV] ........... max_depth=4, n_estimators=5, n_jobs=-1, total=   0.4s\n",
      "[CV] max_depth=4, n_estimators=10, n_jobs=-1 .........................\n",
      "[CV] .......... max_depth=4, n_estimators=10, n_jobs=-1, total=   0.8s\n",
      "[CV] max_depth=4, n_estimators=10, n_jobs=-1 .........................\n",
      "[CV] .......... max_depth=4, n_estimators=10, n_jobs=-1, total=   0.8s\n",
      "[CV] max_depth=4, n_estimators=10, n_jobs=-1 .........................\n",
      "[CV] .......... max_depth=4, n_estimators=10, n_jobs=-1, total=   0.8s\n",
      "[CV] max_depth=4, n_estimators=15, n_jobs=-1 .........................\n",
      "[CV] .......... max_depth=4, n_estimators=15, n_jobs=-1, total=   1.3s\n",
      "[CV] max_depth=4, n_estimators=15, n_jobs=-1 .........................\n",
      "[CV] .......... max_depth=4, n_estimators=15, n_jobs=-1, total=   1.2s\n",
      "[CV] max_depth=4, n_estimators=15, n_jobs=-1 .........................\n",
      "[CV] .......... max_depth=4, n_estimators=15, n_jobs=-1, total=   1.2s\n"
     ]
    },
    {
     "name": "stderr",
     "output_type": "stream",
     "text": [
      "[Parallel(n_jobs=1)]: Done  18 out of  18 | elapsed:   11.3s finished\n"
     ]
    },
    {
     "data": {
      "text/plain": [
       "GridSearchCV(cv=3, error_score='raise-deprecating',\n",
       "             estimator=RandomForestRegressor(bootstrap=True, criterion='mse',\n",
       "                                             max_depth=None,\n",
       "                                             max_features='auto',\n",
       "                                             max_leaf_nodes=None,\n",
       "                                             min_impurity_decrease=0.0,\n",
       "                                             min_impurity_split=None,\n",
       "                                             min_samples_leaf=1,\n",
       "                                             min_samples_split=2,\n",
       "                                             min_weight_fraction_leaf=0.0,\n",
       "                                             n_estimators='warn', n_jobs=None,\n",
       "                                             oob_score=False,\n",
       "                                             random_state=12345, verbose=0,\n",
       "                                             warm_start=False),\n",
       "             iid='warn', n_jobs=None,\n",
       "             param_grid={'max_depth': [2, 4], 'n_estimators': [5, 10, 15],\n",
       "                         'n_jobs': [-1]},\n",
       "             pre_dispatch='2*n_jobs', refit=True, return_train_score=False,\n",
       "             scoring=None, verbose=2)"
      ]
     },
     "execution_count": 59,
     "metadata": {},
     "output_type": "execute_result"
    }
   ],
   "source": [
    "cv_grid.fit(features_train_rougher, target_train_rougher)"
   ]
  },
  {
   "cell_type": "code",
   "execution_count": 60,
   "metadata": {},
   "outputs": [
    {
     "data": {
      "text/plain": [
       "{'max_depth': 4, 'n_estimators': 15, 'n_jobs': -1}"
      ]
     },
     "execution_count": 60,
     "metadata": {},
     "output_type": "execute_result"
    }
   ],
   "source": [
    "cv_grid.best_params_"
   ]
  },
  {
   "cell_type": "code",
   "execution_count": 61,
   "metadata": {},
   "outputs": [],
   "source": [
    "model2_predict_rougher = cv_grid.predict(features_valid_rougher)"
   ]
  },
  {
   "cell_type": "code",
   "execution_count": 62,
   "metadata": {},
   "outputs": [
    {
     "name": "stdout",
     "output_type": "stream",
     "text": [
      "Fitting 3 folds for each of 6 candidates, totalling 18 fits\n",
      "[CV] max_depth=2, n_estimators=5, n_jobs=-1 ..........................\n"
     ]
    },
    {
     "name": "stderr",
     "output_type": "stream",
     "text": [
      "[Parallel(n_jobs=1)]: Using backend SequentialBackend with 1 concurrent workers.\n"
     ]
    },
    {
     "name": "stdout",
     "output_type": "stream",
     "text": [
      "[CV] ........... max_depth=2, n_estimators=5, n_jobs=-1, total=   0.2s\n",
      "[CV] max_depth=2, n_estimators=5, n_jobs=-1 ..........................\n"
     ]
    },
    {
     "name": "stderr",
     "output_type": "stream",
     "text": [
      "[Parallel(n_jobs=1)]: Done   1 out of   1 | elapsed:    0.2s remaining:    0.0s\n"
     ]
    },
    {
     "name": "stdout",
     "output_type": "stream",
     "text": [
      "[CV] ........... max_depth=2, n_estimators=5, n_jobs=-1, total=   0.2s\n",
      "[CV] max_depth=2, n_estimators=5, n_jobs=-1 ..........................\n",
      "[CV] ........... max_depth=2, n_estimators=5, n_jobs=-1, total=   0.2s\n",
      "[CV] max_depth=2, n_estimators=10, n_jobs=-1 .........................\n",
      "[CV] .......... max_depth=2, n_estimators=10, n_jobs=-1, total=   0.4s\n",
      "[CV] max_depth=2, n_estimators=10, n_jobs=-1 .........................\n",
      "[CV] .......... max_depth=2, n_estimators=10, n_jobs=-1, total=   0.4s\n",
      "[CV] max_depth=2, n_estimators=10, n_jobs=-1 .........................\n",
      "[CV] .......... max_depth=2, n_estimators=10, n_jobs=-1, total=   0.4s\n",
      "[CV] max_depth=2, n_estimators=15, n_jobs=-1 .........................\n",
      "[CV] .......... max_depth=2, n_estimators=15, n_jobs=-1, total=   0.6s\n",
      "[CV] max_depth=2, n_estimators=15, n_jobs=-1 .........................\n",
      "[CV] .......... max_depth=2, n_estimators=15, n_jobs=-1, total=   0.6s\n",
      "[CV] max_depth=2, n_estimators=15, n_jobs=-1 .........................\n",
      "[CV] .......... max_depth=2, n_estimators=15, n_jobs=-1, total=   0.6s\n",
      "[CV] max_depth=4, n_estimators=5, n_jobs=-1 ..........................\n",
      "[CV] ........... max_depth=4, n_estimators=5, n_jobs=-1, total=   0.4s\n",
      "[CV] max_depth=4, n_estimators=5, n_jobs=-1 ..........................\n",
      "[CV] ........... max_depth=4, n_estimators=5, n_jobs=-1, total=   0.4s\n",
      "[CV] max_depth=4, n_estimators=5, n_jobs=-1 ..........................\n",
      "[CV] ........... max_depth=4, n_estimators=5, n_jobs=-1, total=   0.4s\n",
      "[CV] max_depth=4, n_estimators=10, n_jobs=-1 .........................\n",
      "[CV] .......... max_depth=4, n_estimators=10, n_jobs=-1, total=   0.8s\n",
      "[CV] max_depth=4, n_estimators=10, n_jobs=-1 .........................\n",
      "[CV] .......... max_depth=4, n_estimators=10, n_jobs=-1, total=   0.8s\n",
      "[CV] max_depth=4, n_estimators=10, n_jobs=-1 .........................\n",
      "[CV] .......... max_depth=4, n_estimators=10, n_jobs=-1, total=   0.8s\n",
      "[CV] max_depth=4, n_estimators=15, n_jobs=-1 .........................\n",
      "[CV] .......... max_depth=4, n_estimators=15, n_jobs=-1, total=   1.2s\n",
      "[CV] max_depth=4, n_estimators=15, n_jobs=-1 .........................\n",
      "[CV] .......... max_depth=4, n_estimators=15, n_jobs=-1, total=   1.3s\n",
      "[CV] max_depth=4, n_estimators=15, n_jobs=-1 .........................\n",
      "[CV] .......... max_depth=4, n_estimators=15, n_jobs=-1, total=   1.2s\n"
     ]
    },
    {
     "name": "stderr",
     "output_type": "stream",
     "text": [
      "[Parallel(n_jobs=1)]: Done  18 out of  18 | elapsed:   11.1s finished\n"
     ]
    },
    {
     "data": {
      "text/plain": [
       "GridSearchCV(cv=3, error_score='raise-deprecating',\n",
       "             estimator=RandomForestRegressor(bootstrap=True, criterion='mse',\n",
       "                                             max_depth=None,\n",
       "                                             max_features='auto',\n",
       "                                             max_leaf_nodes=None,\n",
       "                                             min_impurity_decrease=0.0,\n",
       "                                             min_impurity_split=None,\n",
       "                                             min_samples_leaf=1,\n",
       "                                             min_samples_split=2,\n",
       "                                             min_weight_fraction_leaf=0.0,\n",
       "                                             n_estimators='warn', n_jobs=None,\n",
       "                                             oob_score=False,\n",
       "                                             random_state=12345, verbose=0,\n",
       "                                             warm_start=False),\n",
       "             iid='warn', n_jobs=None,\n",
       "             param_grid={'max_depth': [2, 4], 'n_estimators': [5, 10, 15],\n",
       "                         'n_jobs': [-1]},\n",
       "             pre_dispatch='2*n_jobs', refit=True, return_train_score=False,\n",
       "             scoring=None, verbose=2)"
      ]
     },
     "execution_count": 62,
     "metadata": {},
     "output_type": "execute_result"
    }
   ],
   "source": [
    "cv_grid_final.fit(features_train_final, target_train_final)"
   ]
  },
  {
   "cell_type": "code",
   "execution_count": 63,
   "metadata": {},
   "outputs": [],
   "source": [
    "model2_predict_final = cv_grid_final.predict(features_valid_final)"
   ]
  },
  {
   "cell_type": "code",
   "execution_count": 64,
   "metadata": {},
   "outputs": [],
   "source": [
    "smape_valid_final_model2 = smape(target_valid_final.reset_index(drop=True), model2_predict_final)"
   ]
  },
  {
   "cell_type": "code",
   "execution_count": 65,
   "metadata": {},
   "outputs": [],
   "source": [
    "smape_valid_rougher_model2 = smape(target_valid_rougher.reset_index(drop=True), model2_predict_rougher)"
   ]
  },
  {
   "cell_type": "code",
   "execution_count": 66,
   "metadata": {},
   "outputs": [],
   "source": [
    "result_smape_rand_forest = 0.25 * smape_valid_rougher_model2 + 0.75 * smape_valid_final_model2"
   ]
  },
  {
   "cell_type": "code",
   "execution_count": 67,
   "metadata": {},
   "outputs": [
    {
     "data": {
      "text/plain": [
       "8.971390189669433"
      ]
     },
     "execution_count": 67,
     "metadata": {},
     "output_type": "execute_result"
    }
   ],
   "source": [
    "result_smape_rand_forest"
   ]
  },
  {
   "cell_type": "markdown",
   "metadata": {},
   "source": [
    "Final sMAPE for random forest is 7.74. Check model's performance with the test set."
   ]
  },
  {
   "cell_type": "code",
   "execution_count": 68,
   "metadata": {},
   "outputs": [],
   "source": [
    "model2_predict_rougher_test = cv_grid.predict(data_test)"
   ]
  },
  {
   "cell_type": "code",
   "execution_count": 69,
   "metadata": {},
   "outputs": [],
   "source": [
    "model2_predict_final_test = cv_grid_final.predict(data_test)"
   ]
  },
  {
   "cell_type": "code",
   "execution_count": 70,
   "metadata": {},
   "outputs": [],
   "source": [
    "smape_test_rougher_model2 = smape(target_test_rougher, model2_predict_rougher_test)"
   ]
  },
  {
   "cell_type": "code",
   "execution_count": 71,
   "metadata": {},
   "outputs": [],
   "source": [
    "smape_test_final_model2 = smape(target_test_final, model2_predict_final_test)"
   ]
  },
  {
   "cell_type": "code",
   "execution_count": 72,
   "metadata": {},
   "outputs": [],
   "source": [
    "result_smape_rand_forest_test = 0.25 * smape_test_rougher_model2 + 0.75 * smape_test_final_model2"
   ]
  },
  {
   "cell_type": "code",
   "execution_count": 73,
   "metadata": {},
   "outputs": [
    {
     "data": {
      "text/plain": [
       "9.70933772640639"
      ]
     },
     "execution_count": 73,
     "metadata": {},
     "output_type": "execute_result"
    }
   ],
   "source": [
    "result_smape_rand_forest_test"
   ]
  },
  {
   "cell_type": "markdown",
   "metadata": {},
   "source": [
    "## Conclusion\n",
    "\n",
    "Metal concentration depending on different processing stage is analyzed. Average concentration of gold increases after each subsequent processing stage and concentration of silver decreases. Average concentration of lead increases after floatation and remains about the same after further stages.\n",
    "\n",
    "Gold extraction from gold ore coefficient prediction model is chosen and trained with sMAPE = 7.74 on validation data.\n",
    "\n",
    "Test set predictions are made."
   ]
  }
 ],
 "metadata": {
  "ExecuteTimeLog": [
   {
    "duration": 1309,
    "start_time": "2021-10-04T20:24:59.109Z"
   },
   {
    "duration": 1034,
    "start_time": "2021-10-04T20:26:48.269Z"
   },
   {
    "duration": 875,
    "start_time": "2021-10-04T20:29:59.768Z"
   },
   {
    "duration": 657,
    "start_time": "2021-10-04T20:30:36.655Z"
   },
   {
    "duration": 44,
    "start_time": "2021-10-04T20:31:39.184Z"
   },
   {
    "duration": 43,
    "start_time": "2021-10-04T20:32:02.619Z"
   },
   {
    "duration": 13,
    "start_time": "2021-10-04T20:32:27.520Z"
   },
   {
    "duration": 348,
    "start_time": "2021-10-04T20:33:17.763Z"
   },
   {
    "duration": 184,
    "start_time": "2021-10-04T20:33:33.354Z"
   },
   {
    "duration": 17237,
    "start_time": "2021-10-04T21:32:38.605Z"
   },
   {
    "duration": 12,
    "start_time": "2021-10-04T21:33:10.672Z"
   },
   {
    "duration": 16904,
    "start_time": "2021-10-04T21:33:38.753Z"
   },
   {
    "duration": 293,
    "start_time": "2021-10-04T21:35:11.296Z"
   },
   {
    "duration": 1338,
    "start_time": "2021-10-04T21:41:13.787Z"
   },
   {
    "duration": 1346,
    "start_time": "2021-10-04T21:41:59.083Z"
   },
   {
    "duration": 4,
    "start_time": "2021-10-04T21:43:21.553Z"
   },
   {
    "duration": 1349,
    "start_time": "2021-10-04T21:43:37.562Z"
   },
   {
    "duration": 4,
    "start_time": "2021-10-04T21:43:50.977Z"
   },
   {
    "duration": 1385,
    "start_time": "2021-10-04T21:43:52.466Z"
   },
   {
    "duration": 484,
    "start_time": "2021-10-04T21:44:32.371Z"
   },
   {
    "duration": 1421,
    "start_time": "2021-10-04T21:44:42.963Z"
   },
   {
    "duration": 91,
    "start_time": "2021-10-04T21:47:43.371Z"
   },
   {
    "duration": 4,
    "start_time": "2021-10-04T21:47:49.443Z"
   },
   {
    "duration": 509,
    "start_time": "2021-10-04T21:47:52.930Z"
   },
   {
    "duration": 1418,
    "start_time": "2021-10-04T21:48:04.481Z"
   },
   {
    "duration": 1327,
    "start_time": "2021-10-04T21:48:56.014Z"
   },
   {
    "duration": 4,
    "start_time": "2021-10-04T21:50:04.758Z"
   },
   {
    "duration": 1350,
    "start_time": "2021-10-04T21:50:26.278Z"
   },
   {
    "duration": 1254,
    "start_time": "2021-10-04T21:52:12.883Z"
   },
   {
    "duration": 3,
    "start_time": "2021-10-04T21:52:14.140Z"
   },
   {
    "duration": 122,
    "start_time": "2021-10-04T21:52:14.147Z"
   },
   {
    "duration": 909,
    "start_time": "2021-10-04T21:52:14.272Z"
   },
   {
    "duration": 1435,
    "start_time": "2021-10-04T21:52:15.184Z"
   },
   {
    "duration": 46,
    "start_time": "2021-10-04T21:52:16.622Z"
   },
   {
    "duration": 21,
    "start_time": "2021-10-04T21:52:16.672Z"
   },
   {
    "duration": 13,
    "start_time": "2021-10-04T21:52:16.696Z"
   },
   {
    "duration": 386,
    "start_time": "2021-10-04T21:52:16.712Z"
   },
   {
    "duration": 186,
    "start_time": "2021-10-04T21:52:17.100Z"
   },
   {
    "duration": 361,
    "start_time": "2021-10-04T21:52:17.288Z"
   },
   {
    "duration": 1428,
    "start_time": "2021-10-04T21:53:38.741Z"
   },
   {
    "duration": 122,
    "start_time": "2021-10-04T21:53:40.172Z"
   },
   {
    "duration": 913,
    "start_time": "2021-10-04T21:53:40.296Z"
   },
   {
    "duration": 1485,
    "start_time": "2021-10-04T21:53:41.211Z"
   },
   {
    "duration": 34,
    "start_time": "2021-10-04T21:53:42.699Z"
   },
   {
    "duration": 37,
    "start_time": "2021-10-04T21:53:42.736Z"
   },
   {
    "duration": 13,
    "start_time": "2021-10-04T21:53:42.776Z"
   },
   {
    "duration": 497,
    "start_time": "2021-10-04T21:53:42.793Z"
   },
   {
    "duration": 191,
    "start_time": "2021-10-04T21:53:43.292Z"
   },
   {
    "duration": 364,
    "start_time": "2021-10-04T21:53:43.486Z"
   },
   {
    "duration": 1379,
    "start_time": "2021-10-04T21:55:15.959Z"
   },
   {
    "duration": 1473,
    "start_time": "2021-10-04T21:55:40.073Z"
   },
   {
    "duration": 1520,
    "start_time": "2021-10-04T21:55:49.770Z"
   },
   {
    "duration": 1419,
    "start_time": "2021-10-04T21:56:13.491Z"
   },
   {
    "duration": 1484,
    "start_time": "2021-10-04T21:56:27.355Z"
   },
   {
    "duration": 1224,
    "start_time": "2021-10-04T21:57:22.413Z"
   },
   {
    "duration": 1548,
    "start_time": "2021-10-04T21:57:35.850Z"
   },
   {
    "duration": 1920,
    "start_time": "2021-10-04T21:57:47.871Z"
   },
   {
    "duration": 1597,
    "start_time": "2021-10-04T21:58:22.799Z"
   },
   {
    "duration": 1699,
    "start_time": "2021-10-04T21:59:29.935Z"
   },
   {
    "duration": 1558,
    "start_time": "2021-10-04T22:00:51.385Z"
   },
   {
    "duration": 337,
    "start_time": "2021-10-04T22:01:46.255Z"
   },
   {
    "duration": 7,
    "start_time": "2021-10-04T23:10:52.706Z"
   },
   {
    "duration": 308,
    "start_time": "2021-10-04T23:11:37.733Z"
   },
   {
    "duration": 263,
    "start_time": "2021-10-04T23:13:24.993Z"
   },
   {
    "duration": 247,
    "start_time": "2021-10-04T23:14:57.510Z"
   },
   {
    "duration": 271,
    "start_time": "2021-10-04T23:15:08.455Z"
   },
   {
    "duration": 265,
    "start_time": "2021-10-04T23:15:38.783Z"
   },
   {
    "duration": 301,
    "start_time": "2021-10-04T23:16:23.032Z"
   },
   {
    "duration": 354,
    "start_time": "2021-10-04T23:16:29.722Z"
   },
   {
    "duration": 324,
    "start_time": "2021-10-04T23:19:06.495Z"
   },
   {
    "duration": 730,
    "start_time": "2021-10-04T23:23:16.406Z"
   },
   {
    "duration": 3,
    "start_time": "2021-10-04T23:32:15.207Z"
   },
   {
    "duration": 8094,
    "start_time": "2021-10-04T23:32:45.876Z"
   },
   {
    "duration": 7522,
    "start_time": "2021-10-04T23:33:09.694Z"
   },
   {
    "duration": 280,
    "start_time": "2021-10-04T23:33:59.567Z"
   },
   {
    "duration": 4,
    "start_time": "2021-10-04T23:34:28.551Z"
   },
   {
    "duration": 7992,
    "start_time": "2021-10-04T23:34:33.920Z"
   },
   {
    "duration": 647,
    "start_time": "2021-10-04T23:35:13.505Z"
   },
   {
    "duration": 768,
    "start_time": "2021-10-04T23:35:29.130Z"
   },
   {
    "duration": 607,
    "start_time": "2021-10-04T23:35:35.338Z"
   },
   {
    "duration": 609,
    "start_time": "2021-10-04T23:36:10.387Z"
   },
   {
    "duration": 639,
    "start_time": "2021-10-04T23:36:41.226Z"
   },
   {
    "duration": 650,
    "start_time": "2021-10-04T23:36:52.243Z"
   },
   {
    "duration": 738,
    "start_time": "2021-10-04T23:37:05.787Z"
   },
   {
    "duration": 621,
    "start_time": "2021-10-04T23:37:31.453Z"
   },
   {
    "duration": 636,
    "start_time": "2021-10-04T23:38:13.606Z"
   },
   {
    "duration": 1771,
    "start_time": "2021-10-04T23:40:53.831Z"
   },
   {
    "duration": 737,
    "start_time": "2021-10-04T23:44:00.813Z"
   },
   {
    "duration": 337,
    "start_time": "2021-10-04T23:47:52.545Z"
   },
   {
    "duration": 10,
    "start_time": "2021-10-04T23:48:39.932Z"
   },
   {
    "duration": 382,
    "start_time": "2021-10-04T23:48:48.452Z"
   },
   {
    "duration": 10,
    "start_time": "2021-10-04T23:49:00.659Z"
   },
   {
    "duration": 289,
    "start_time": "2021-10-04T23:49:02.859Z"
   },
   {
    "duration": 6,
    "start_time": "2021-10-04T23:51:33.044Z"
   },
   {
    "duration": 6,
    "start_time": "2021-10-04T23:52:24.926Z"
   },
   {
    "duration": 321,
    "start_time": "2021-10-04T23:53:20.376Z"
   },
   {
    "duration": 1603,
    "start_time": "2021-10-05T00:06:28.297Z"
   },
   {
    "duration": 7,
    "start_time": "2021-10-05T00:06:29.903Z"
   },
   {
    "duration": 981,
    "start_time": "2021-10-05T00:06:29.913Z"
   },
   {
    "duration": 1613,
    "start_time": "2021-10-05T00:06:30.896Z"
   },
   {
    "duration": 608,
    "start_time": "2021-10-05T00:06:32.511Z"
   },
   {
    "duration": 411,
    "start_time": "2021-10-05T00:06:33.121Z"
   },
   {
    "duration": -630,
    "start_time": "2021-10-05T00:06:34.165Z"
   },
   {
    "duration": -632,
    "start_time": "2021-10-05T00:06:34.168Z"
   },
   {
    "duration": -636,
    "start_time": "2021-10-05T00:06:34.173Z"
   },
   {
    "duration": -637,
    "start_time": "2021-10-05T00:06:34.175Z"
   },
   {
    "duration": -637,
    "start_time": "2021-10-05T00:06:34.177Z"
   },
   {
    "duration": 784,
    "start_time": "2021-10-05T00:08:37.147Z"
   },
   {
    "duration": 240,
    "start_time": "2021-10-05T00:11:25.122Z"
   },
   {
    "duration": 5,
    "start_time": "2021-10-05T00:11:38.872Z"
   },
   {
    "duration": 10,
    "start_time": "2021-10-05T00:11:57.994Z"
   },
   {
    "duration": 7,
    "start_time": "2021-10-05T00:12:53.285Z"
   },
   {
    "duration": 10,
    "start_time": "2021-10-05T00:13:12.625Z"
   },
   {
    "duration": 9,
    "start_time": "2021-10-05T00:13:29.464Z"
   },
   {
    "duration": 106,
    "start_time": "2021-10-05T00:14:27.121Z"
   },
   {
    "duration": 105,
    "start_time": "2021-10-05T00:15:38.300Z"
   },
   {
    "duration": 144,
    "start_time": "2021-10-05T00:16:22.325Z"
   },
   {
    "duration": 105,
    "start_time": "2021-10-05T00:16:32.543Z"
   },
   {
    "duration": 9131,
    "start_time": "2021-10-05T00:16:44.166Z"
   },
   {
    "duration": 8,
    "start_time": "2021-10-05T00:18:17.808Z"
   },
   {
    "duration": 305,
    "start_time": "2021-10-05T00:19:55.894Z"
   },
   {
    "duration": 534,
    "start_time": "2021-10-05T00:19:59.106Z"
   },
   {
    "duration": 340,
    "start_time": "2021-10-05T00:20:01.442Z"
   },
   {
    "duration": 38513,
    "start_time": "2021-10-05T00:20:38.887Z"
   },
   {
    "duration": 1437,
    "start_time": "2021-10-05T00:21:32.258Z"
   },
   {
    "duration": 7,
    "start_time": "2021-10-05T00:21:33.698Z"
   },
   {
    "duration": 928,
    "start_time": "2021-10-05T00:21:33.708Z"
   },
   {
    "duration": 1703,
    "start_time": "2021-10-05T00:21:34.638Z"
   },
   {
    "duration": 611,
    "start_time": "2021-10-05T00:21:36.343Z"
   },
   {
    "duration": 275,
    "start_time": "2021-10-05T00:21:36.962Z"
   },
   {
    "duration": 5,
    "start_time": "2021-10-05T00:21:37.239Z"
   },
   {
    "duration": 9,
    "start_time": "2021-10-05T00:21:37.263Z"
   },
   {
    "duration": 338,
    "start_time": "2021-10-05T00:21:37.275Z"
   },
   {
    "duration": 658,
    "start_time": "2021-10-05T00:21:37.617Z"
   },
   {
    "duration": 10,
    "start_time": "2021-10-05T00:21:38.277Z"
   },
   {
    "duration": 317,
    "start_time": "2021-10-05T00:21:38.290Z"
   },
   {
    "duration": 6,
    "start_time": "2021-10-05T00:21:38.610Z"
   },
   {
    "duration": 38233,
    "start_time": "2021-10-05T00:21:38.619Z"
   },
   {
    "duration": 1469,
    "start_time": "2021-10-05T00:22:23.744Z"
   },
   {
    "duration": 10,
    "start_time": "2021-10-05T00:22:25.216Z"
   },
   {
    "duration": 903,
    "start_time": "2021-10-05T00:22:25.229Z"
   },
   {
    "duration": 1570,
    "start_time": "2021-10-05T00:22:26.136Z"
   },
   {
    "duration": 618,
    "start_time": "2021-10-05T00:22:27.709Z"
   },
   {
    "duration": 277,
    "start_time": "2021-10-05T00:22:28.330Z"
   },
   {
    "duration": 5,
    "start_time": "2021-10-05T00:22:28.609Z"
   },
   {
    "duration": 13,
    "start_time": "2021-10-05T00:22:28.616Z"
   },
   {
    "duration": 357,
    "start_time": "2021-10-05T00:22:28.632Z"
   },
   {
    "duration": 685,
    "start_time": "2021-10-05T00:22:28.992Z"
   },
   {
    "duration": 10,
    "start_time": "2021-10-05T00:22:29.679Z"
   },
   {
    "duration": 330,
    "start_time": "2021-10-05T00:22:29.691Z"
   },
   {
    "duration": 6,
    "start_time": "2021-10-05T00:22:30.024Z"
   },
   {
    "duration": 39125,
    "start_time": "2021-10-05T00:22:30.033Z"
   },
   {
    "duration": 15,
    "start_time": "2021-10-05T00:23:09.163Z"
   },
   {
    "duration": 1419,
    "start_time": "2021-10-05T00:27:24.578Z"
   },
   {
    "duration": 8,
    "start_time": "2021-10-05T00:27:25.999Z"
   },
   {
    "duration": 916,
    "start_time": "2021-10-05T00:27:26.010Z"
   },
   {
    "duration": 1563,
    "start_time": "2021-10-05T00:27:26.929Z"
   },
   {
    "duration": 745,
    "start_time": "2021-10-05T00:27:28.495Z"
   },
   {
    "duration": 280,
    "start_time": "2021-10-05T00:27:29.243Z"
   },
   {
    "duration": 6,
    "start_time": "2021-10-05T00:27:29.526Z"
   },
   {
    "duration": 28,
    "start_time": "2021-10-05T00:27:29.535Z"
   },
   {
    "duration": 336,
    "start_time": "2021-10-05T00:27:29.566Z"
   },
   {
    "duration": 907,
    "start_time": "2021-10-05T00:27:29.904Z"
   },
   {
    "duration": 9,
    "start_time": "2021-10-05T00:27:30.813Z"
   },
   {
    "duration": 315,
    "start_time": "2021-10-05T00:27:30.824Z"
   },
   {
    "duration": 5,
    "start_time": "2021-10-05T00:27:31.142Z"
   },
   {
    "duration": 38880,
    "start_time": "2021-10-05T00:27:31.150Z"
   },
   {
    "duration": 35,
    "start_time": "2021-10-05T00:28:10.032Z"
   },
   {
    "duration": 3826,
    "start_time": "2021-10-05T00:29:53.445Z"
   },
   {
    "duration": 1477,
    "start_time": "2021-10-05T00:29:59.729Z"
   },
   {
    "duration": 8,
    "start_time": "2021-10-05T00:30:01.208Z"
   },
   {
    "duration": 921,
    "start_time": "2021-10-05T00:30:01.220Z"
   },
   {
    "duration": 1559,
    "start_time": "2021-10-05T00:30:02.144Z"
   },
   {
    "duration": 609,
    "start_time": "2021-10-05T00:30:03.705Z"
   },
   {
    "duration": 283,
    "start_time": "2021-10-05T00:30:04.317Z"
   },
   {
    "duration": 5,
    "start_time": "2021-10-05T00:30:04.602Z"
   },
   {
    "duration": 22,
    "start_time": "2021-10-05T00:30:04.609Z"
   },
   {
    "duration": 341,
    "start_time": "2021-10-05T00:30:04.634Z"
   },
   {
    "duration": 636,
    "start_time": "2021-10-05T00:30:04.977Z"
   },
   {
    "duration": 8,
    "start_time": "2021-10-05T00:30:05.616Z"
   },
   {
    "duration": 348,
    "start_time": "2021-10-05T00:30:05.626Z"
   },
   {
    "duration": 7,
    "start_time": "2021-10-05T00:30:05.976Z"
   },
   {
    "duration": 4268,
    "start_time": "2021-10-05T00:30:05.985Z"
   },
   {
    "duration": 47,
    "start_time": "2021-10-05T00:30:10.256Z"
   },
   {
    "duration": 133,
    "start_time": "2021-10-05T00:31:01.168Z"
   },
   {
    "duration": 18,
    "start_time": "2021-10-05T00:33:07.925Z"
   },
   {
    "duration": 1441,
    "start_time": "2021-10-05T00:33:16.088Z"
   },
   {
    "duration": 8,
    "start_time": "2021-10-05T00:33:17.531Z"
   },
   {
    "duration": 892,
    "start_time": "2021-10-05T00:33:17.542Z"
   },
   {
    "duration": 1544,
    "start_time": "2021-10-05T00:33:18.437Z"
   },
   {
    "duration": 610,
    "start_time": "2021-10-05T00:33:19.984Z"
   },
   {
    "duration": 267,
    "start_time": "2021-10-05T00:33:20.596Z"
   },
   {
    "duration": 6,
    "start_time": "2021-10-05T00:33:20.866Z"
   },
   {
    "duration": 9,
    "start_time": "2021-10-05T00:33:20.874Z"
   },
   {
    "duration": 343,
    "start_time": "2021-10-05T00:33:20.887Z"
   },
   {
    "duration": 665,
    "start_time": "2021-10-05T00:33:21.232Z"
   },
   {
    "duration": 9,
    "start_time": "2021-10-05T00:33:21.900Z"
   },
   {
    "duration": 318,
    "start_time": "2021-10-05T00:33:21.911Z"
   },
   {
    "duration": 5,
    "start_time": "2021-10-05T00:33:22.232Z"
   },
   {
    "duration": 4245,
    "start_time": "2021-10-05T00:33:22.240Z"
   },
   {
    "duration": 4,
    "start_time": "2021-10-05T00:33:26.487Z"
   },
   {
    "duration": 25,
    "start_time": "2021-10-05T00:33:26.493Z"
   },
   {
    "duration": 129,
    "start_time": "2021-10-05T00:33:26.520Z"
   },
   {
    "duration": 1447,
    "start_time": "2021-10-05T00:36:19.775Z"
   },
   {
    "duration": 8,
    "start_time": "2021-10-05T00:36:21.224Z"
   },
   {
    "duration": 976,
    "start_time": "2021-10-05T00:36:21.234Z"
   },
   {
    "duration": 1631,
    "start_time": "2021-10-05T00:36:22.214Z"
   },
   {
    "duration": 598,
    "start_time": "2021-10-05T00:36:23.848Z"
   },
   {
    "duration": 278,
    "start_time": "2021-10-05T00:36:24.449Z"
   },
   {
    "duration": 5,
    "start_time": "2021-10-05T00:36:24.730Z"
   },
   {
    "duration": 25,
    "start_time": "2021-10-05T00:36:24.739Z"
   },
   {
    "duration": 353,
    "start_time": "2021-10-05T00:36:24.767Z"
   },
   {
    "duration": 670,
    "start_time": "2021-10-05T00:36:25.123Z"
   },
   {
    "duration": 9,
    "start_time": "2021-10-05T00:36:25.796Z"
   },
   {
    "duration": 280,
    "start_time": "2021-10-05T00:36:25.808Z"
   },
   {
    "duration": 5,
    "start_time": "2021-10-05T00:36:26.091Z"
   },
   {
    "duration": 9,
    "start_time": "2021-10-05T00:36:26.099Z"
   },
   {
    "duration": 485,
    "start_time": "2021-10-05T00:36:26.111Z"
   },
   {
    "duration": 2795,
    "start_time": "2021-10-05T00:36:23.804Z"
   },
   {
    "duration": 2795,
    "start_time": "2021-10-05T00:36:23.806Z"
   },
   {
    "duration": 2793,
    "start_time": "2021-10-05T00:36:23.810Z"
   },
   {
    "duration": 328,
    "start_time": "2021-10-05T00:36:32.527Z"
   },
   {
    "duration": 380,
    "start_time": "2021-10-05T00:36:55.558Z"
   },
   {
    "duration": 95,
    "start_time": "2021-10-05T00:37:20.431Z"
   },
   {
    "duration": 14,
    "start_time": "2021-10-05T00:37:23.959Z"
   },
   {
    "duration": 9,
    "start_time": "2021-10-05T00:38:36.681Z"
   },
   {
    "duration": 8151,
    "start_time": "2021-10-05T00:39:11.476Z"
   },
   {
    "duration": 1420,
    "start_time": "2021-10-05T00:39:26.483Z"
   },
   {
    "duration": 9,
    "start_time": "2021-10-05T00:39:27.906Z"
   },
   {
    "duration": 889,
    "start_time": "2021-10-05T00:39:27.919Z"
   },
   {
    "duration": 1574,
    "start_time": "2021-10-05T00:39:28.811Z"
   },
   {
    "duration": 621,
    "start_time": "2021-10-05T00:39:30.388Z"
   },
   {
    "duration": 297,
    "start_time": "2021-10-05T00:39:31.011Z"
   },
   {
    "duration": 5,
    "start_time": "2021-10-05T00:39:31.310Z"
   },
   {
    "duration": 11,
    "start_time": "2021-10-05T00:39:31.318Z"
   },
   {
    "duration": 343,
    "start_time": "2021-10-05T00:39:31.333Z"
   },
   {
    "duration": 662,
    "start_time": "2021-10-05T00:39:31.679Z"
   },
   {
    "duration": 7839,
    "start_time": "2021-10-05T00:39:32.343Z"
   },
   {
    "duration": 2670,
    "start_time": "2021-10-05T00:39:37.515Z"
   },
   {
    "duration": 2661,
    "start_time": "2021-10-05T00:39:37.525Z"
   },
   {
    "duration": 2661,
    "start_time": "2021-10-05T00:39:37.527Z"
   },
   {
    "duration": 2660,
    "start_time": "2021-10-05T00:39:37.529Z"
   },
   {
    "duration": 2660,
    "start_time": "2021-10-05T00:39:37.530Z"
   },
   {
    "duration": 2660,
    "start_time": "2021-10-05T00:39:37.532Z"
   },
   {
    "duration": 2658,
    "start_time": "2021-10-05T00:39:37.535Z"
   },
   {
    "duration": 635,
    "start_time": "2021-10-05T00:39:41.546Z"
   },
   {
    "duration": 324,
    "start_time": "2021-10-05T00:40:31.262Z"
   },
   {
    "duration": 313,
    "start_time": "2021-10-05T00:40:50.607Z"
   },
   {
    "duration": 1518,
    "start_time": "2021-10-05T00:41:16.901Z"
   },
   {
    "duration": 7,
    "start_time": "2021-10-05T00:41:18.422Z"
   },
   {
    "duration": 913,
    "start_time": "2021-10-05T00:41:18.432Z"
   },
   {
    "duration": 1579,
    "start_time": "2021-10-05T00:41:19.348Z"
   },
   {
    "duration": 634,
    "start_time": "2021-10-05T00:41:20.929Z"
   },
   {
    "duration": 279,
    "start_time": "2021-10-05T00:41:21.565Z"
   },
   {
    "duration": 5,
    "start_time": "2021-10-05T00:41:21.847Z"
   },
   {
    "duration": 8,
    "start_time": "2021-10-05T00:41:21.863Z"
   },
   {
    "duration": 349,
    "start_time": "2021-10-05T00:41:21.874Z"
   },
   {
    "duration": 692,
    "start_time": "2021-10-05T00:41:22.226Z"
   },
   {
    "duration": 9,
    "start_time": "2021-10-05T00:41:22.921Z"
   },
   {
    "duration": 305,
    "start_time": "2021-10-05T00:41:22.932Z"
   },
   {
    "duration": 5,
    "start_time": "2021-10-05T00:41:23.239Z"
   },
   {
    "duration": 27,
    "start_time": "2021-10-05T00:41:23.247Z"
   },
   {
    "duration": 13,
    "start_time": "2021-10-05T00:41:23.277Z"
   },
   {
    "duration": 21,
    "start_time": "2021-10-05T00:41:23.292Z"
   },
   {
    "duration": 32,
    "start_time": "2021-10-05T00:41:23.315Z"
   },
   {
    "duration": 341,
    "start_time": "2021-10-05T00:41:23.349Z"
   },
   {
    "duration": 339,
    "start_time": "2021-10-05T00:42:00.237Z"
   },
   {
    "duration": 1496,
    "start_time": "2021-10-05T00:43:05.022Z"
   },
   {
    "duration": 9,
    "start_time": "2021-10-05T00:43:06.521Z"
   },
   {
    "duration": 921,
    "start_time": "2021-10-05T00:43:06.533Z"
   },
   {
    "duration": 1582,
    "start_time": "2021-10-05T00:43:07.457Z"
   },
   {
    "duration": 599,
    "start_time": "2021-10-05T00:43:09.042Z"
   },
   {
    "duration": 303,
    "start_time": "2021-10-05T00:43:09.644Z"
   },
   {
    "duration": 11,
    "start_time": "2021-10-05T00:43:09.950Z"
   },
   {
    "duration": 8,
    "start_time": "2021-10-05T00:43:09.965Z"
   },
   {
    "duration": 358,
    "start_time": "2021-10-05T00:43:09.975Z"
   },
   {
    "duration": 3,
    "start_time": "2021-10-05T00:43:10.336Z"
   },
   {
    "duration": 649,
    "start_time": "2021-10-05T00:43:10.341Z"
   },
   {
    "duration": 9,
    "start_time": "2021-10-05T00:43:10.993Z"
   },
   {
    "duration": 307,
    "start_time": "2021-10-05T00:43:11.004Z"
   },
   {
    "duration": 3,
    "start_time": "2021-10-05T00:43:11.313Z"
   },
   {
    "duration": 12,
    "start_time": "2021-10-05T00:43:11.319Z"
   },
   {
    "duration": 4,
    "start_time": "2021-10-05T00:43:11.333Z"
   },
   {
    "duration": 31,
    "start_time": "2021-10-05T00:43:11.339Z"
   },
   {
    "duration": 9,
    "start_time": "2021-10-05T00:43:11.372Z"
   },
   {
    "duration": 362,
    "start_time": "2021-10-05T00:43:11.383Z"
   },
   {
    "duration": 335,
    "start_time": "2021-10-05T00:43:20.555Z"
   },
   {
    "duration": 1424,
    "start_time": "2021-10-05T00:44:18.366Z"
   },
   {
    "duration": 9,
    "start_time": "2021-10-05T00:44:19.793Z"
   },
   {
    "duration": 911,
    "start_time": "2021-10-05T00:44:19.805Z"
   },
   {
    "duration": 1565,
    "start_time": "2021-10-05T00:44:20.719Z"
   },
   {
    "duration": 630,
    "start_time": "2021-10-05T00:44:22.287Z"
   },
   {
    "duration": 281,
    "start_time": "2021-10-05T00:44:22.920Z"
   },
   {
    "duration": 4,
    "start_time": "2021-10-05T00:44:23.204Z"
   },
   {
    "duration": 10,
    "start_time": "2021-10-05T00:44:23.212Z"
   },
   {
    "duration": 357,
    "start_time": "2021-10-05T00:44:23.225Z"
   },
   {
    "duration": 4,
    "start_time": "2021-10-05T00:44:23.584Z"
   },
   {
    "duration": 691,
    "start_time": "2021-10-05T00:44:23.590Z"
   },
   {
    "duration": 9,
    "start_time": "2021-10-05T00:44:24.284Z"
   },
   {
    "duration": 297,
    "start_time": "2021-10-05T00:44:24.295Z"
   },
   {
    "duration": 5,
    "start_time": "2021-10-05T00:44:24.595Z"
   },
   {
    "duration": 16,
    "start_time": "2021-10-05T00:44:24.603Z"
   },
   {
    "duration": 5,
    "start_time": "2021-10-05T00:44:24.622Z"
   },
   {
    "duration": 20,
    "start_time": "2021-10-05T00:44:24.630Z"
   },
   {
    "duration": 10,
    "start_time": "2021-10-05T00:44:24.663Z"
   },
   {
    "duration": 321,
    "start_time": "2021-10-05T00:44:24.676Z"
   },
   {
    "duration": 336,
    "start_time": "2021-10-05T00:44:31.528Z"
   },
   {
    "duration": 775,
    "start_time": "2021-10-05T00:45:42.532Z"
   },
   {
    "duration": 401,
    "start_time": "2021-10-05T00:45:48.105Z"
   },
   {
    "duration": 269,
    "start_time": "2021-10-05T00:45:55.778Z"
   },
   {
    "duration": 1525,
    "start_time": "2021-10-05T00:46:14.783Z"
   },
   {
    "duration": 8,
    "start_time": "2021-10-05T00:46:16.311Z"
   },
   {
    "duration": 892,
    "start_time": "2021-10-05T00:46:16.322Z"
   },
   {
    "duration": 1570,
    "start_time": "2021-10-05T00:46:17.217Z"
   },
   {
    "duration": 593,
    "start_time": "2021-10-05T00:46:18.789Z"
   },
   {
    "duration": 276,
    "start_time": "2021-10-05T00:46:19.385Z"
   },
   {
    "duration": 5,
    "start_time": "2021-10-05T00:46:19.664Z"
   },
   {
    "duration": 17,
    "start_time": "2021-10-05T00:46:19.671Z"
   },
   {
    "duration": 333,
    "start_time": "2021-10-05T00:46:19.692Z"
   },
   {
    "duration": 651,
    "start_time": "2021-10-05T00:46:20.028Z"
   },
   {
    "duration": 9,
    "start_time": "2021-10-05T00:46:20.681Z"
   },
   {
    "duration": 290,
    "start_time": "2021-10-05T00:46:20.693Z"
   },
   {
    "duration": 7,
    "start_time": "2021-10-05T00:46:20.985Z"
   },
   {
    "duration": 21,
    "start_time": "2021-10-05T00:46:20.994Z"
   },
   {
    "duration": 6,
    "start_time": "2021-10-05T00:46:21.017Z"
   },
   {
    "duration": 24,
    "start_time": "2021-10-05T00:46:21.025Z"
   },
   {
    "duration": 24,
    "start_time": "2021-10-05T00:46:21.051Z"
   },
   {
    "duration": 336,
    "start_time": "2021-10-05T00:46:21.078Z"
   },
   {
    "duration": 1936,
    "start_time": "2021-10-05T20:37:04.977Z"
   },
   {
    "duration": 10,
    "start_time": "2021-10-05T20:37:06.916Z"
   },
   {
    "duration": 1099,
    "start_time": "2021-10-05T20:37:06.929Z"
   },
   {
    "duration": 1610,
    "start_time": "2021-10-05T20:37:38.717Z"
   },
   {
    "duration": 109,
    "start_time": "2021-10-05T20:48:08.788Z"
   },
   {
    "duration": 109,
    "start_time": "2021-10-05T20:48:12.738Z"
   },
   {
    "duration": 98,
    "start_time": "2021-10-05T20:48:16.762Z"
   },
   {
    "duration": 100,
    "start_time": "2021-10-05T20:48:32.786Z"
   },
   {
    "duration": 1162,
    "start_time": "2021-10-05T20:48:34.770Z"
   },
   {
    "duration": 108,
    "start_time": "2021-10-05T20:48:39.602Z"
   },
   {
    "duration": 9985,
    "start_time": "2021-10-05T20:49:07.250Z"
   },
   {
    "duration": 1437,
    "start_time": "2021-10-05T22:20:43.260Z"
   },
   {
    "duration": 7,
    "start_time": "2021-10-05T22:20:44.700Z"
   },
   {
    "duration": 901,
    "start_time": "2021-10-05T22:20:44.710Z"
   },
   {
    "duration": 1559,
    "start_time": "2021-10-05T22:20:45.614Z"
   },
   {
    "duration": 9910,
    "start_time": "2021-10-05T22:20:47.176Z"
   },
   {
    "duration": 2510,
    "start_time": "2021-10-05T22:20:54.579Z"
   },
   {
    "duration": 2498,
    "start_time": "2021-10-05T22:20:54.593Z"
   },
   {
    "duration": 2492,
    "start_time": "2021-10-05T22:20:54.600Z"
   },
   {
    "duration": 2488,
    "start_time": "2021-10-05T22:20:54.605Z"
   },
   {
    "duration": 2483,
    "start_time": "2021-10-05T22:20:54.611Z"
   },
   {
    "duration": 2482,
    "start_time": "2021-10-05T22:20:54.614Z"
   },
   {
    "duration": 2480,
    "start_time": "2021-10-05T22:20:54.617Z"
   },
   {
    "duration": 2478,
    "start_time": "2021-10-05T22:20:54.620Z"
   },
   {
    "duration": 2477,
    "start_time": "2021-10-05T22:20:54.622Z"
   },
   {
    "duration": 2477,
    "start_time": "2021-10-05T22:20:54.624Z"
   },
   {
    "duration": 2476,
    "start_time": "2021-10-05T22:20:54.626Z"
   },
   {
    "duration": 2475,
    "start_time": "2021-10-05T22:20:54.628Z"
   },
   {
    "duration": 2474,
    "start_time": "2021-10-05T22:20:54.630Z"
   },
   {
    "duration": 2475,
    "start_time": "2021-10-05T22:20:54.631Z"
   },
   {
    "duration": 13,
    "start_time": "2021-10-05T22:21:36.197Z"
   },
   {
    "duration": 4,
    "start_time": "2021-10-05T22:22:38.465Z"
   },
   {
    "duration": 5,
    "start_time": "2021-10-05T22:23:37.615Z"
   },
   {
    "duration": 6,
    "start_time": "2021-10-05T22:23:46.263Z"
   },
   {
    "duration": 9,
    "start_time": "2021-10-05T22:24:01.969Z"
   },
   {
    "duration": 9,
    "start_time": "2021-10-05T22:24:23.170Z"
   },
   {
    "duration": 1542,
    "start_time": "2021-10-05T22:28:30.483Z"
   },
   {
    "duration": 7,
    "start_time": "2021-10-05T22:28:32.028Z"
   },
   {
    "duration": 968,
    "start_time": "2021-10-05T22:28:32.038Z"
   },
   {
    "duration": 1578,
    "start_time": "2021-10-05T22:28:33.009Z"
   },
   {
    "duration": 92,
    "start_time": "2021-10-05T22:28:34.590Z"
   },
   {
    "duration": 2738,
    "start_time": "2021-10-05T22:28:31.947Z"
   },
   {
    "duration": 2733,
    "start_time": "2021-10-05T22:28:31.953Z"
   },
   {
    "duration": 2732,
    "start_time": "2021-10-05T22:28:31.956Z"
   },
   {
    "duration": 2730,
    "start_time": "2021-10-05T22:28:31.959Z"
   },
   {
    "duration": 2728,
    "start_time": "2021-10-05T22:28:31.962Z"
   },
   {
    "duration": 2728,
    "start_time": "2021-10-05T22:28:31.964Z"
   },
   {
    "duration": 2721,
    "start_time": "2021-10-05T22:28:31.972Z"
   },
   {
    "duration": 2720,
    "start_time": "2021-10-05T22:28:31.974Z"
   },
   {
    "duration": 2720,
    "start_time": "2021-10-05T22:28:31.976Z"
   },
   {
    "duration": 2720,
    "start_time": "2021-10-05T22:28:31.978Z"
   },
   {
    "duration": 2720,
    "start_time": "2021-10-05T22:28:31.979Z"
   },
   {
    "duration": 2718,
    "start_time": "2021-10-05T22:28:31.982Z"
   },
   {
    "duration": 2714,
    "start_time": "2021-10-05T22:28:31.987Z"
   },
   {
    "duration": 2713,
    "start_time": "2021-10-05T22:28:31.990Z"
   },
   {
    "duration": 2707,
    "start_time": "2021-10-05T22:28:31.997Z"
   },
   {
    "duration": 2705,
    "start_time": "2021-10-05T22:28:32.000Z"
   },
   {
    "duration": 2704,
    "start_time": "2021-10-05T22:28:32.003Z"
   },
   {
    "duration": 2703,
    "start_time": "2021-10-05T22:28:32.005Z"
   },
   {
    "duration": 2702,
    "start_time": "2021-10-05T22:28:32.007Z"
   },
   {
    "duration": 116,
    "start_time": "2021-10-05T22:29:56.015Z"
   },
   {
    "duration": 298,
    "start_time": "2021-10-05T22:30:00.269Z"
   },
   {
    "duration": 111,
    "start_time": "2021-10-05T22:30:03.479Z"
   },
   {
    "duration": 129,
    "start_time": "2021-10-05T22:31:09.377Z"
   },
   {
    "duration": 13,
    "start_time": "2021-10-05T22:31:31.098Z"
   },
   {
    "duration": 5,
    "start_time": "2021-10-05T22:31:37.434Z"
   },
   {
    "duration": 5,
    "start_time": "2021-10-05T22:31:37.768Z"
   },
   {
    "duration": 6,
    "start_time": "2021-10-05T22:31:38.610Z"
   },
   {
    "duration": 7,
    "start_time": "2021-10-05T22:31:38.920Z"
   },
   {
    "duration": 1512,
    "start_time": "2021-10-05T22:43:23.617Z"
   },
   {
    "duration": 7,
    "start_time": "2021-10-05T22:43:25.132Z"
   },
   {
    "duration": 912,
    "start_time": "2021-10-05T22:43:25.142Z"
   },
   {
    "duration": 1586,
    "start_time": "2021-10-05T22:43:26.061Z"
   },
   {
    "duration": 21,
    "start_time": "2021-10-05T22:43:27.650Z"
   },
   {
    "duration": 10746,
    "start_time": "2021-10-05T22:43:27.673Z"
   },
   {
    "duration": 2565,
    "start_time": "2021-10-05T22:43:35.858Z"
   },
   {
    "duration": 2559,
    "start_time": "2021-10-05T22:43:35.866Z"
   },
   {
    "duration": 2555,
    "start_time": "2021-10-05T22:43:35.872Z"
   },
   {
    "duration": 2553,
    "start_time": "2021-10-05T22:43:35.876Z"
   },
   {
    "duration": 2552,
    "start_time": "2021-10-05T22:43:35.879Z"
   },
   {
    "duration": 2551,
    "start_time": "2021-10-05T22:43:35.882Z"
   },
   {
    "duration": 2550,
    "start_time": "2021-10-05T22:43:35.885Z"
   },
   {
    "duration": 2549,
    "start_time": "2021-10-05T22:43:35.888Z"
   },
   {
    "duration": 2550,
    "start_time": "2021-10-05T22:43:35.890Z"
   },
   {
    "duration": 2551,
    "start_time": "2021-10-05T22:43:35.891Z"
   },
   {
    "duration": 2551,
    "start_time": "2021-10-05T22:43:35.893Z"
   },
   {
    "duration": 2551,
    "start_time": "2021-10-05T22:43:35.895Z"
   },
   {
    "duration": 2550,
    "start_time": "2021-10-05T22:43:35.898Z"
   },
   {
    "duration": 2550,
    "start_time": "2021-10-05T22:43:35.901Z"
   },
   {
    "duration": 2551,
    "start_time": "2021-10-05T22:43:35.903Z"
   },
   {
    "duration": 2552,
    "start_time": "2021-10-05T22:43:35.904Z"
   },
   {
    "duration": 2552,
    "start_time": "2021-10-05T22:43:35.906Z"
   },
   {
    "duration": 2553,
    "start_time": "2021-10-05T22:43:35.907Z"
   },
   {
    "duration": 2552,
    "start_time": "2021-10-05T22:43:35.911Z"
   },
   {
    "duration": 2458,
    "start_time": "2021-10-05T22:43:36.007Z"
   },
   {
    "duration": 1522,
    "start_time": "2021-10-05T22:47:24.130Z"
   },
   {
    "duration": 13,
    "start_time": "2021-10-05T22:47:25.654Z"
   },
   {
    "duration": 885,
    "start_time": "2021-10-05T22:47:25.671Z"
   },
   {
    "duration": 1561,
    "start_time": "2021-10-05T22:47:26.559Z"
   },
   {
    "duration": 13,
    "start_time": "2021-10-05T22:47:28.123Z"
   },
   {
    "duration": 23,
    "start_time": "2021-10-05T22:47:28.139Z"
   },
   {
    "duration": 7,
    "start_time": "2021-10-05T22:47:28.165Z"
   },
   {
    "duration": 9,
    "start_time": "2021-10-05T22:47:28.176Z"
   },
   {
    "duration": 6,
    "start_time": "2021-10-05T22:47:28.188Z"
   },
   {
    "duration": 5,
    "start_time": "2021-10-05T22:47:28.196Z"
   },
   {
    "duration": 9,
    "start_time": "2021-10-05T22:47:28.204Z"
   },
   {
    "duration": 51,
    "start_time": "2021-10-05T22:47:28.215Z"
   },
   {
    "duration": 635,
    "start_time": "2021-10-05T22:47:28.269Z"
   },
   {
    "duration": 306,
    "start_time": "2021-10-05T22:47:28.906Z"
   },
   {
    "duration": 6,
    "start_time": "2021-10-05T22:47:29.215Z"
   },
   {
    "duration": 11,
    "start_time": "2021-10-05T22:47:29.225Z"
   },
   {
    "duration": 449,
    "start_time": "2021-10-05T22:47:29.238Z"
   },
   {
    "duration": 714,
    "start_time": "2021-10-05T22:47:29.690Z"
   },
   {
    "duration": 8,
    "start_time": "2021-10-05T22:47:30.407Z"
   },
   {
    "duration": 404,
    "start_time": "2021-10-05T22:47:30.418Z"
   },
   {
    "duration": 8,
    "start_time": "2021-10-05T22:47:30.825Z"
   },
   {
    "duration": 33,
    "start_time": "2021-10-05T22:47:30.836Z"
   },
   {
    "duration": 11,
    "start_time": "2021-10-05T22:47:30.876Z"
   },
   {
    "duration": 25,
    "start_time": "2021-10-05T22:47:30.890Z"
   },
   {
    "duration": 34,
    "start_time": "2021-10-05T22:47:30.918Z"
   },
   {
    "duration": 480,
    "start_time": "2021-10-05T22:47:30.955Z"
   },
   {
    "duration": 1564,
    "start_time": "2021-10-05T22:50:25.666Z"
   },
   {
    "duration": 7,
    "start_time": "2021-10-05T22:50:27.233Z"
   },
   {
    "duration": 900,
    "start_time": "2021-10-05T22:50:27.244Z"
   },
   {
    "duration": 1726,
    "start_time": "2021-10-05T22:50:28.147Z"
   },
   {
    "duration": 12,
    "start_time": "2021-10-05T22:50:29.876Z"
   },
   {
    "duration": 2,
    "start_time": "2021-10-05T22:50:29.891Z"
   },
   {
    "duration": 5,
    "start_time": "2021-10-05T22:50:29.896Z"
   },
   {
    "duration": 7,
    "start_time": "2021-10-05T22:50:29.905Z"
   },
   {
    "duration": 5,
    "start_time": "2021-10-05T22:50:29.915Z"
   },
   {
    "duration": 3,
    "start_time": "2021-10-05T22:50:29.963Z"
   },
   {
    "duration": 12,
    "start_time": "2021-10-05T22:50:29.968Z"
   },
   {
    "duration": 9,
    "start_time": "2021-10-05T22:50:29.983Z"
   },
   {
    "duration": 746,
    "start_time": "2021-10-05T22:50:29.994Z"
   },
   {
    "duration": 409,
    "start_time": "2021-10-05T22:50:30.743Z"
   },
   {
    "duration": 9,
    "start_time": "2021-10-05T22:50:31.154Z"
   },
   {
    "duration": 38,
    "start_time": "2021-10-05T22:50:31.165Z"
   },
   {
    "duration": 385,
    "start_time": "2021-10-05T22:50:31.205Z"
   },
   {
    "duration": 683,
    "start_time": "2021-10-05T22:50:31.593Z"
   },
   {
    "duration": 10,
    "start_time": "2021-10-05T22:50:32.279Z"
   },
   {
    "duration": 321,
    "start_time": "2021-10-05T22:50:32.291Z"
   },
   {
    "duration": 6,
    "start_time": "2021-10-05T22:50:32.614Z"
   },
   {
    "duration": 26,
    "start_time": "2021-10-05T22:50:32.623Z"
   },
   {
    "duration": 4,
    "start_time": "2021-10-05T22:50:32.663Z"
   },
   {
    "duration": 11,
    "start_time": "2021-10-05T22:50:32.671Z"
   },
   {
    "duration": 9,
    "start_time": "2021-10-05T22:50:32.685Z"
   },
   {
    "duration": 356,
    "start_time": "2021-10-05T22:50:32.696Z"
   },
   {
    "duration": 8911,
    "start_time": "2021-10-05T22:51:51.502Z"
   },
   {
    "duration": 8300,
    "start_time": "2021-10-05T22:56:10.067Z"
   },
   {
    "duration": 8,
    "start_time": "2021-10-05T22:56:54.998Z"
   },
   {
    "duration": 349,
    "start_time": "2021-10-05T22:57:01.852Z"
   },
   {
    "duration": 1476,
    "start_time": "2021-10-05T22:57:18.908Z"
   },
   {
    "duration": 8,
    "start_time": "2021-10-05T22:57:20.387Z"
   },
   {
    "duration": 908,
    "start_time": "2021-10-05T22:57:20.399Z"
   },
   {
    "duration": 1583,
    "start_time": "2021-10-05T22:57:21.310Z"
   },
   {
    "duration": 13,
    "start_time": "2021-10-05T22:57:22.896Z"
   },
   {
    "duration": 8,
    "start_time": "2021-10-05T22:57:22.912Z"
   },
   {
    "duration": 6,
    "start_time": "2021-10-05T22:57:22.923Z"
   },
   {
    "duration": 434,
    "start_time": "2021-10-05T22:57:22.963Z"
   },
   {
    "duration": 2791,
    "start_time": "2021-10-05T22:57:20.610Z"
   },
   {
    "duration": 2785,
    "start_time": "2021-10-05T22:57:20.617Z"
   },
   {
    "duration": 2785,
    "start_time": "2021-10-05T22:57:20.619Z"
   },
   {
    "duration": 2785,
    "start_time": "2021-10-05T22:57:20.621Z"
   },
   {
    "duration": 2785,
    "start_time": "2021-10-05T22:57:20.623Z"
   },
   {
    "duration": 2784,
    "start_time": "2021-10-05T22:57:20.625Z"
   },
   {
    "duration": 2784,
    "start_time": "2021-10-05T22:57:20.627Z"
   },
   {
    "duration": 2783,
    "start_time": "2021-10-05T22:57:20.629Z"
   },
   {
    "duration": 2779,
    "start_time": "2021-10-05T22:57:20.635Z"
   },
   {
    "duration": 2778,
    "start_time": "2021-10-05T22:57:20.637Z"
   },
   {
    "duration": 2778,
    "start_time": "2021-10-05T22:57:20.639Z"
   },
   {
    "duration": 2779,
    "start_time": "2021-10-05T22:57:20.640Z"
   },
   {
    "duration": 2779,
    "start_time": "2021-10-05T22:57:20.642Z"
   },
   {
    "duration": 2779,
    "start_time": "2021-10-05T22:57:20.643Z"
   },
   {
    "duration": 2779,
    "start_time": "2021-10-05T22:57:20.645Z"
   },
   {
    "duration": 2774,
    "start_time": "2021-10-05T22:57:20.652Z"
   },
   {
    "duration": 2773,
    "start_time": "2021-10-05T22:57:20.654Z"
   },
   {
    "duration": 2773,
    "start_time": "2021-10-05T22:57:20.656Z"
   },
   {
    "duration": 346,
    "start_time": "2021-10-05T22:58:14.395Z"
   },
   {
    "duration": 339,
    "start_time": "2021-10-05T23:04:31.637Z"
   },
   {
    "duration": 1623,
    "start_time": "2021-10-05T23:06:28.746Z"
   },
   {
    "duration": 7,
    "start_time": "2021-10-05T23:06:30.372Z"
   },
   {
    "duration": 1124,
    "start_time": "2021-10-05T23:06:30.382Z"
   },
   {
    "duration": 1675,
    "start_time": "2021-10-05T23:06:31.509Z"
   },
   {
    "duration": 13,
    "start_time": "2021-10-05T23:06:33.187Z"
   },
   {
    "duration": 4,
    "start_time": "2021-10-05T23:06:33.202Z"
   },
   {
    "duration": 7,
    "start_time": "2021-10-05T23:06:33.209Z"
   },
   {
    "duration": 6,
    "start_time": "2021-10-05T23:06:33.220Z"
   },
   {
    "duration": 6,
    "start_time": "2021-10-05T23:06:33.263Z"
   },
   {
    "duration": 8,
    "start_time": "2021-10-05T23:06:33.271Z"
   },
   {
    "duration": 12,
    "start_time": "2021-10-05T23:06:33.281Z"
   },
   {
    "duration": 8,
    "start_time": "2021-10-05T23:06:33.296Z"
   },
   {
    "duration": 643,
    "start_time": "2021-10-05T23:06:33.307Z"
   },
   {
    "duration": 290,
    "start_time": "2021-10-05T23:06:33.953Z"
   },
   {
    "duration": 5,
    "start_time": "2021-10-05T23:06:34.245Z"
   },
   {
    "duration": 8,
    "start_time": "2021-10-05T23:06:34.262Z"
   },
   {
    "duration": 345,
    "start_time": "2021-10-05T23:06:34.272Z"
   },
   {
    "duration": 664,
    "start_time": "2021-10-05T23:06:34.619Z"
   },
   {
    "duration": 10,
    "start_time": "2021-10-05T23:06:35.286Z"
   },
   {
    "duration": 303,
    "start_time": "2021-10-05T23:06:35.299Z"
   },
   {
    "duration": 7,
    "start_time": "2021-10-05T23:06:35.605Z"
   },
   {
    "duration": 15,
    "start_time": "2021-10-05T23:06:35.614Z"
   },
   {
    "duration": 4,
    "start_time": "2021-10-05T23:06:35.662Z"
   },
   {
    "duration": 12,
    "start_time": "2021-10-05T23:06:35.670Z"
   },
   {
    "duration": 10,
    "start_time": "2021-10-05T23:06:35.684Z"
   },
   {
    "duration": 347,
    "start_time": "2021-10-05T23:06:35.697Z"
   },
   {
    "duration": 18,
    "start_time": "2021-10-05T23:06:36.048Z"
   },
   {
    "duration": 486,
    "start_time": "2021-10-05T23:06:36.069Z"
   },
   {
    "duration": -140,
    "start_time": "2021-10-05T23:06:36.698Z"
   },
   {
    "duration": 4,
    "start_time": "2021-10-06T11:17:31.727Z"
   },
   {
    "duration": 4,
    "start_time": "2021-10-06T11:17:47.213Z"
   },
   {
    "duration": 1579,
    "start_time": "2021-10-06T11:24:37.740Z"
   },
   {
    "duration": 10,
    "start_time": "2021-10-06T11:24:39.322Z"
   },
   {
    "duration": 899,
    "start_time": "2021-10-06T11:24:39.336Z"
   },
   {
    "duration": 1601,
    "start_time": "2021-10-06T11:24:40.238Z"
   },
   {
    "duration": 30,
    "start_time": "2021-10-06T11:24:41.842Z"
   },
   {
    "duration": 6,
    "start_time": "2021-10-06T11:24:41.874Z"
   },
   {
    "duration": 6,
    "start_time": "2021-10-06T11:24:41.883Z"
   },
   {
    "duration": 680,
    "start_time": "2021-10-06T11:24:41.892Z"
   },
   {
    "duration": 330,
    "start_time": "2021-10-06T11:24:42.577Z"
   },
   {
    "duration": 4,
    "start_time": "2021-10-06T11:24:42.910Z"
   },
   {
    "duration": 14,
    "start_time": "2021-10-06T11:24:42.917Z"
   },
   {
    "duration": 373,
    "start_time": "2021-10-06T11:24:42.933Z"
   },
   {
    "duration": 689,
    "start_time": "2021-10-06T11:24:43.309Z"
   },
   {
    "duration": 9,
    "start_time": "2021-10-06T11:24:44.001Z"
   },
   {
    "duration": 323,
    "start_time": "2021-10-06T11:24:44.013Z"
   },
   {
    "duration": 7,
    "start_time": "2021-10-06T11:24:44.339Z"
   },
   {
    "duration": 9,
    "start_time": "2021-10-06T11:24:44.368Z"
   },
   {
    "duration": 5,
    "start_time": "2021-10-06T11:24:44.379Z"
   },
   {
    "duration": 11,
    "start_time": "2021-10-06T11:24:44.386Z"
   },
   {
    "duration": 8,
    "start_time": "2021-10-06T11:24:44.400Z"
   },
   {
    "duration": 394,
    "start_time": "2021-10-06T11:24:44.411Z"
   },
   {
    "duration": 4,
    "start_time": "2021-10-06T11:34:47.523Z"
   },
   {
    "duration": 1491,
    "start_time": "2021-10-06T11:35:03.936Z"
   },
   {
    "duration": 7,
    "start_time": "2021-10-06T11:35:05.430Z"
   },
   {
    "duration": 913,
    "start_time": "2021-10-06T11:35:05.440Z"
   },
   {
    "duration": 12,
    "start_time": "2021-10-06T11:35:09.756Z"
   },
   {
    "duration": 6,
    "start_time": "2021-10-06T11:35:10.202Z"
   },
   {
    "duration": 7,
    "start_time": "2021-10-06T11:35:10.587Z"
   },
   {
    "duration": 4,
    "start_time": "2021-10-06T11:38:16.988Z"
   },
   {
    "duration": 4,
    "start_time": "2021-10-06T11:38:19.885Z"
   },
   {
    "duration": 4,
    "start_time": "2021-10-06T11:38:20.318Z"
   },
   {
    "duration": 4,
    "start_time": "2021-10-06T11:39:15.401Z"
   },
   {
    "duration": 98,
    "start_time": "2021-10-06T11:41:22.336Z"
   },
   {
    "duration": 96,
    "start_time": "2021-10-06T11:41:26.194Z"
   },
   {
    "duration": 423,
    "start_time": "2021-10-06T11:41:30.342Z"
   },
   {
    "duration": 5,
    "start_time": "2021-10-06T11:41:44.901Z"
   },
   {
    "duration": 6,
    "start_time": "2021-10-06T11:41:52.466Z"
   },
   {
    "duration": 3,
    "start_time": "2021-10-06T11:42:56.033Z"
   },
   {
    "duration": 4,
    "start_time": "2021-10-06T11:46:46.628Z"
   },
   {
    "duration": 3,
    "start_time": "2021-10-06T11:46:47.613Z"
   },
   {
    "duration": 3,
    "start_time": "2021-10-06T11:46:47.946Z"
   },
   {
    "duration": 5,
    "start_time": "2021-10-06T11:46:52.759Z"
   },
   {
    "duration": 4,
    "start_time": "2021-10-06T11:47:12.257Z"
   },
   {
    "duration": 4,
    "start_time": "2021-10-06T11:47:12.809Z"
   },
   {
    "duration": 5,
    "start_time": "2021-10-06T11:47:14.409Z"
   },
   {
    "duration": 13,
    "start_time": "2021-10-06T11:47:16.807Z"
   },
   {
    "duration": 1423,
    "start_time": "2021-10-06T11:49:06.823Z"
   },
   {
    "duration": 7,
    "start_time": "2021-10-06T11:49:08.249Z"
   },
   {
    "duration": 877,
    "start_time": "2021-10-06T11:49:08.268Z"
   },
   {
    "duration": 1711,
    "start_time": "2021-10-06T11:49:09.148Z"
   },
   {
    "duration": 12,
    "start_time": "2021-10-06T11:49:10.861Z"
   },
   {
    "duration": 5,
    "start_time": "2021-10-06T11:49:10.876Z"
   },
   {
    "duration": 9,
    "start_time": "2021-10-06T11:49:10.883Z"
   },
   {
    "duration": 4,
    "start_time": "2021-10-06T11:49:10.896Z"
   },
   {
    "duration": 11,
    "start_time": "2021-10-06T11:49:10.903Z"
   },
   {
    "duration": 6,
    "start_time": "2021-10-06T11:49:10.967Z"
   },
   {
    "duration": 6,
    "start_time": "2021-10-06T11:49:10.976Z"
   },
   {
    "duration": 11,
    "start_time": "2021-10-06T11:49:10.985Z"
   },
   {
    "duration": 6,
    "start_time": "2021-10-06T11:49:10.998Z"
   },
   {
    "duration": 63,
    "start_time": "2021-10-06T11:49:11.006Z"
   },
   {
    "duration": 688,
    "start_time": "2021-10-06T11:49:11.071Z"
   },
   {
    "duration": 339,
    "start_time": "2021-10-06T11:49:11.767Z"
   },
   {
    "duration": 5,
    "start_time": "2021-10-06T11:49:12.109Z"
   },
   {
    "duration": 50,
    "start_time": "2021-10-06T11:49:12.117Z"
   },
   {
    "duration": 369,
    "start_time": "2021-10-06T11:49:12.170Z"
   },
   {
    "duration": 668,
    "start_time": "2021-10-06T11:49:12.542Z"
   },
   {
    "duration": 10,
    "start_time": "2021-10-06T11:49:13.213Z"
   },
   {
    "duration": 320,
    "start_time": "2021-10-06T11:49:13.225Z"
   },
   {
    "duration": 21,
    "start_time": "2021-10-06T11:49:13.549Z"
   },
   {
    "duration": 9,
    "start_time": "2021-10-06T11:49:13.573Z"
   },
   {
    "duration": 3,
    "start_time": "2021-10-06T11:49:13.585Z"
   },
   {
    "duration": 10,
    "start_time": "2021-10-06T11:49:13.591Z"
   },
   {
    "duration": 15,
    "start_time": "2021-10-06T11:49:13.603Z"
   },
   {
    "duration": 370,
    "start_time": "2021-10-06T11:49:13.620Z"
   },
   {
    "duration": 5,
    "start_time": "2021-10-06T11:49:49.829Z"
   },
   {
    "duration": 4,
    "start_time": "2021-10-06T11:51:08.834Z"
   },
   {
    "duration": 6,
    "start_time": "2021-10-06T11:51:10.211Z"
   },
   {
    "duration": 6,
    "start_time": "2021-10-06T11:51:21.552Z"
   },
   {
    "duration": 6,
    "start_time": "2021-10-06T11:52:28.439Z"
   },
   {
    "duration": 386,
    "start_time": "2021-10-06T11:52:43.708Z"
   },
   {
    "duration": 325,
    "start_time": "2021-10-06T11:52:46.900Z"
   },
   {
    "duration": 291,
    "start_time": "2021-10-06T11:52:51.568Z"
   },
   {
    "duration": 1484,
    "start_time": "2021-10-06T11:53:03.733Z"
   },
   {
    "duration": 7,
    "start_time": "2021-10-06T11:53:05.220Z"
   },
   {
    "duration": 885,
    "start_time": "2021-10-06T11:53:05.230Z"
   },
   {
    "duration": 1660,
    "start_time": "2021-10-06T11:53:06.117Z"
   },
   {
    "duration": 12,
    "start_time": "2021-10-06T11:53:07.779Z"
   },
   {
    "duration": 11,
    "start_time": "2021-10-06T11:53:07.793Z"
   },
   {
    "duration": 10,
    "start_time": "2021-10-06T11:53:07.806Z"
   },
   {
    "duration": 47,
    "start_time": "2021-10-06T11:53:07.820Z"
   },
   {
    "duration": 4,
    "start_time": "2021-10-06T11:53:07.870Z"
   },
   {
    "duration": 6,
    "start_time": "2021-10-06T11:53:07.877Z"
   },
   {
    "duration": 8,
    "start_time": "2021-10-06T11:53:07.885Z"
   },
   {
    "duration": 8,
    "start_time": "2021-10-06T11:53:07.895Z"
   },
   {
    "duration": 703,
    "start_time": "2021-10-06T11:53:07.905Z"
   },
   {
    "duration": -10886159,
    "start_time": "2021-10-06T14:54:34.770Z"
   },
   {
    "duration": -10886167,
    "start_time": "2021-10-06T14:54:34.779Z"
   },
   {
    "duration": -10886176,
    "start_time": "2021-10-06T14:54:34.789Z"
   },
   {
    "duration": -10886184,
    "start_time": "2021-10-06T14:54:34.799Z"
   },
   {
    "duration": -10886196,
    "start_time": "2021-10-06T14:54:34.813Z"
   },
   {
    "duration": -10886201,
    "start_time": "2021-10-06T14:54:34.819Z"
   },
   {
    "duration": -10886208,
    "start_time": "2021-10-06T14:54:34.827Z"
   },
   {
    "duration": -10886213,
    "start_time": "2021-10-06T14:54:34.834Z"
   },
   {
    "duration": -10886218,
    "start_time": "2021-10-06T14:54:34.841Z"
   },
   {
    "duration": -10886223,
    "start_time": "2021-10-06T14:54:34.847Z"
   },
   {
    "duration": -10886224,
    "start_time": "2021-10-06T14:54:34.850Z"
   },
   {
    "duration": -10886226,
    "start_time": "2021-10-06T14:54:34.853Z"
   },
   {
    "duration": -10886240,
    "start_time": "2021-10-06T14:54:34.868Z"
   },
   {
    "duration": -10886241,
    "start_time": "2021-10-06T14:54:34.871Z"
   },
   {
    "duration": -10886243,
    "start_time": "2021-10-06T14:54:34.874Z"
   },
   {
    "duration": 4,
    "start_time": "2021-10-06T11:53:24.211Z"
   },
   {
    "duration": 6,
    "start_time": "2021-10-06T11:53:25.157Z"
   },
   {
    "duration": 85,
    "start_time": "2021-10-06T11:55:17.067Z"
   },
   {
    "duration": 5,
    "start_time": "2021-10-06T11:55:24.930Z"
   },
   {
    "duration": 9,
    "start_time": "2021-10-06T11:55:27.899Z"
   },
   {
    "duration": 8054,
    "start_time": "2021-10-06T11:56:04.316Z"
   },
   {
    "duration": 335,
    "start_time": "2021-10-06T11:57:16.276Z"
   },
   {
    "duration": 10,
    "start_time": "2021-10-06T11:58:18.219Z"
   },
   {
    "duration": 45,
    "start_time": "2021-10-06T11:59:57.076Z"
   },
   {
    "duration": 6,
    "start_time": "2021-10-06T12:00:17.316Z"
   },
   {
    "duration": 22,
    "start_time": "2021-10-06T12:00:25.555Z"
   },
   {
    "duration": 15,
    "start_time": "2021-10-06T12:00:28.832Z"
   },
   {
    "duration": 10,
    "start_time": "2021-10-06T12:02:37.515Z"
   },
   {
    "duration": 5,
    "start_time": "2021-10-06T12:02:44.564Z"
   },
   {
    "duration": 1530,
    "start_time": "2021-10-06T12:04:23.084Z"
   },
   {
    "duration": 9,
    "start_time": "2021-10-06T12:04:24.617Z"
   },
   {
    "duration": 922,
    "start_time": "2021-10-06T12:04:24.631Z"
   },
   {
    "duration": 1654,
    "start_time": "2021-10-06T12:04:25.556Z"
   },
   {
    "duration": 14,
    "start_time": "2021-10-06T12:04:27.213Z"
   },
   {
    "duration": 37,
    "start_time": "2021-10-06T12:04:27.230Z"
   },
   {
    "duration": 6,
    "start_time": "2021-10-06T12:04:27.270Z"
   },
   {
    "duration": 5,
    "start_time": "2021-10-06T12:04:27.278Z"
   },
   {
    "duration": 5,
    "start_time": "2021-10-06T12:04:27.289Z"
   },
   {
    "duration": 5,
    "start_time": "2021-10-06T12:04:27.298Z"
   },
   {
    "duration": 61,
    "start_time": "2021-10-06T12:04:27.306Z"
   },
   {
    "duration": 10,
    "start_time": "2021-10-06T12:04:27.371Z"
   },
   {
    "duration": 5,
    "start_time": "2021-10-06T12:04:27.384Z"
   },
   {
    "duration": 12,
    "start_time": "2021-10-06T12:04:27.392Z"
   },
   {
    "duration": 61,
    "start_time": "2021-10-06T12:04:27.407Z"
   },
   {
    "duration": 14,
    "start_time": "2021-10-06T12:04:27.472Z"
   },
   {
    "duration": 16,
    "start_time": "2021-10-06T12:04:27.490Z"
   },
   {
    "duration": 70,
    "start_time": "2021-10-06T12:04:27.508Z"
   },
   {
    "duration": 13,
    "start_time": "2021-10-06T12:04:27.581Z"
   },
   {
    "duration": 9,
    "start_time": "2021-10-06T12:04:27.597Z"
   },
   {
    "duration": 61,
    "start_time": "2021-10-06T12:04:27.608Z"
   },
   {
    "duration": 303,
    "start_time": "2021-10-06T12:04:27.672Z"
   },
   {
    "duration": 136,
    "start_time": "2021-10-06T12:04:27.977Z"
   },
   {
    "duration": 5,
    "start_time": "2021-10-06T12:04:28.115Z"
   },
   {
    "duration": 8991,
    "start_time": "2021-10-06T12:04:28.122Z"
   },
   {
    "duration": -10886285,
    "start_time": "2021-10-06T15:06:03.402Z"
   },
   {
    "duration": -10886289,
    "start_time": "2021-10-06T15:06:03.408Z"
   },
   {
    "duration": -10886290,
    "start_time": "2021-10-06T15:06:03.412Z"
   },
   {
    "duration": -10886291,
    "start_time": "2021-10-06T15:06:03.415Z"
   },
   {
    "duration": -10886293,
    "start_time": "2021-10-06T15:06:03.419Z"
   },
   {
    "duration": -10886295,
    "start_time": "2021-10-06T15:06:03.423Z"
   },
   {
    "duration": -10886297,
    "start_time": "2021-10-06T15:06:03.427Z"
   },
   {
    "duration": -10886300,
    "start_time": "2021-10-06T15:06:03.433Z"
   },
   {
    "duration": -10886303,
    "start_time": "2021-10-06T15:06:03.438Z"
   },
   {
    "duration": -10886308,
    "start_time": "2021-10-06T15:06:03.445Z"
   },
   {
    "duration": 7,
    "start_time": "2021-10-06T12:06:53.052Z"
   },
   {
    "duration": 7094,
    "start_time": "2021-10-06T12:06:53.683Z"
   },
   {
    "duration": -10886295,
    "start_time": "2021-10-06T15:08:27.076Z"
   },
   {
    "duration": -10886302,
    "start_time": "2021-10-06T15:08:27.085Z"
   },
   {
    "duration": -10886304,
    "start_time": "2021-10-06T15:08:27.089Z"
   },
   {
    "duration": 2035,
    "start_time": "2021-10-06T12:08:01.805Z"
   },
   {
    "duration": 7,
    "start_time": "2021-10-06T12:08:03.842Z"
   },
   {
    "duration": 932,
    "start_time": "2021-10-06T12:08:03.852Z"
   },
   {
    "duration": 1646,
    "start_time": "2021-10-06T12:08:04.788Z"
   },
   {
    "duration": 32,
    "start_time": "2021-10-06T12:08:06.436Z"
   },
   {
    "duration": 5,
    "start_time": "2021-10-06T12:08:06.470Z"
   },
   {
    "duration": 10,
    "start_time": "2021-10-06T12:08:06.477Z"
   },
   {
    "duration": 5,
    "start_time": "2021-10-06T12:08:06.490Z"
   },
   {
    "duration": 7,
    "start_time": "2021-10-06T12:08:06.497Z"
   },
   {
    "duration": 61,
    "start_time": "2021-10-06T12:08:06.506Z"
   },
   {
    "duration": 7,
    "start_time": "2021-10-06T12:08:06.569Z"
   },
   {
    "duration": 16,
    "start_time": "2021-10-06T12:08:06.579Z"
   },
   {
    "duration": 9,
    "start_time": "2021-10-06T12:08:06.597Z"
   },
   {
    "duration": 59,
    "start_time": "2021-10-06T12:08:06.608Z"
   },
   {
    "duration": 17,
    "start_time": "2021-10-06T12:08:06.670Z"
   },
   {
    "duration": 20,
    "start_time": "2021-10-06T12:08:06.690Z"
   },
   {
    "duration": 57,
    "start_time": "2021-10-06T12:08:06.713Z"
   },
   {
    "duration": 11,
    "start_time": "2021-10-06T12:08:06.774Z"
   },
   {
    "duration": 7,
    "start_time": "2021-10-06T12:08:06.788Z"
   },
   {
    "duration": 10,
    "start_time": "2021-10-06T12:08:06.798Z"
   },
   {
    "duration": 422,
    "start_time": "2021-10-06T12:08:06.867Z"
   },
   {
    "duration": -10886120,
    "start_time": "2021-10-06T15:09:33.413Z"
   },
   {
    "duration": -10886122,
    "start_time": "2021-10-06T15:09:33.417Z"
   },
   {
    "duration": 3,
    "start_time": "2021-10-06T12:08:20.766Z"
   },
   {
    "duration": 6,
    "start_time": "2021-10-06T12:08:26.667Z"
   },
   {
    "duration": 17,
    "start_time": "2021-10-06T12:13:30.908Z"
   },
   {
    "duration": 1436,
    "start_time": "2021-10-06T12:14:19.972Z"
   },
   {
    "duration": 8,
    "start_time": "2021-10-06T12:14:21.410Z"
   },
   {
    "duration": 928,
    "start_time": "2021-10-06T12:14:21.421Z"
   },
   {
    "duration": 1616,
    "start_time": "2021-10-06T12:14:22.352Z"
   },
   {
    "duration": 12,
    "start_time": "2021-10-06T12:14:23.970Z"
   },
   {
    "duration": 5,
    "start_time": "2021-10-06T12:14:23.984Z"
   },
   {
    "duration": 6,
    "start_time": "2021-10-06T12:14:23.992Z"
   },
   {
    "duration": 4,
    "start_time": "2021-10-06T12:14:24.002Z"
   },
   {
    "duration": 59,
    "start_time": "2021-10-06T12:14:24.008Z"
   },
   {
    "duration": 8,
    "start_time": "2021-10-06T12:14:24.070Z"
   },
   {
    "duration": 4,
    "start_time": "2021-10-06T12:14:24.082Z"
   },
   {
    "duration": 7,
    "start_time": "2021-10-06T12:14:24.090Z"
   },
   {
    "duration": 7,
    "start_time": "2021-10-06T12:14:24.100Z"
   },
   {
    "duration": 59,
    "start_time": "2021-10-06T12:14:24.110Z"
   },
   {
    "duration": 14,
    "start_time": "2021-10-06T12:14:24.173Z"
   },
   {
    "duration": 21,
    "start_time": "2021-10-06T12:14:24.190Z"
   },
   {
    "duration": 56,
    "start_time": "2021-10-06T12:14:24.214Z"
   },
   {
    "duration": 16,
    "start_time": "2021-10-06T12:14:24.273Z"
   },
   {
    "duration": 9,
    "start_time": "2021-10-06T12:14:24.292Z"
   },
   {
    "duration": 25,
    "start_time": "2021-10-06T12:14:24.303Z"
   },
   {
    "duration": 42,
    "start_time": "2021-10-06T12:14:24.331Z"
   },
   {
    "duration": 3,
    "start_time": "2021-10-06T12:14:24.376Z"
   },
   {
    "duration": 11,
    "start_time": "2021-10-06T12:14:24.383Z"
   },
   {
    "duration": 4,
    "start_time": "2021-10-06T12:25:46.984Z"
   },
   {
    "duration": 412,
    "start_time": "2021-10-06T12:25:56.796Z"
   },
   {
    "duration": 295,
    "start_time": "2021-10-06T12:26:38.671Z"
   },
   {
    "duration": 266,
    "start_time": "2021-10-06T12:26:45.409Z"
   },
   {
    "duration": 268,
    "start_time": "2021-10-06T12:26:48.511Z"
   },
   {
    "duration": 275,
    "start_time": "2021-10-06T12:27:21.246Z"
   },
   {
    "duration": 316,
    "start_time": "2021-10-06T12:27:27.336Z"
   },
   {
    "duration": 1150,
    "start_time": "2021-10-06T12:28:01.756Z"
   },
   {
    "duration": 1458,
    "start_time": "2021-10-06T12:29:23.160Z"
   },
   {
    "duration": 7,
    "start_time": "2021-10-06T12:29:24.621Z"
   },
   {
    "duration": 1269,
    "start_time": "2021-10-06T12:29:24.631Z"
   },
   {
    "duration": 1622,
    "start_time": "2021-10-06T12:29:25.902Z"
   },
   {
    "duration": 39,
    "start_time": "2021-10-06T12:29:27.527Z"
   },
   {
    "duration": 6,
    "start_time": "2021-10-06T12:29:27.569Z"
   },
   {
    "duration": 9,
    "start_time": "2021-10-06T12:29:27.577Z"
   },
   {
    "duration": 3,
    "start_time": "2021-10-06T12:29:27.590Z"
   },
   {
    "duration": 5,
    "start_time": "2021-10-06T12:29:27.597Z"
   },
   {
    "duration": 8,
    "start_time": "2021-10-06T12:29:27.604Z"
   },
   {
    "duration": 54,
    "start_time": "2021-10-06T12:29:27.615Z"
   },
   {
    "duration": 10,
    "start_time": "2021-10-06T12:29:27.671Z"
   },
   {
    "duration": 6,
    "start_time": "2021-10-06T12:29:27.684Z"
   },
   {
    "duration": 16,
    "start_time": "2021-10-06T12:29:27.692Z"
   },
   {
    "duration": 15,
    "start_time": "2021-10-06T12:29:27.711Z"
   },
   {
    "duration": 51,
    "start_time": "2021-10-06T12:29:27.728Z"
   },
   {
    "duration": 4,
    "start_time": "2021-10-06T12:29:27.782Z"
   },
   {
    "duration": 13,
    "start_time": "2021-10-06T12:29:27.788Z"
   },
   {
    "duration": 8,
    "start_time": "2021-10-06T12:29:27.804Z"
   },
   {
    "duration": 73,
    "start_time": "2021-10-06T12:29:27.815Z"
   },
   {
    "duration": 8,
    "start_time": "2021-10-06T12:29:27.891Z"
   },
   {
    "duration": 4,
    "start_time": "2021-10-06T12:29:27.902Z"
   },
   {
    "duration": 12,
    "start_time": "2021-10-06T12:29:27.912Z"
   },
   {
    "duration": 40,
    "start_time": "2021-10-06T12:29:27.927Z"
   },
   {
    "duration": 6,
    "start_time": "2021-10-06T12:29:27.971Z"
   },
   {
    "duration": 453,
    "start_time": "2021-10-06T12:29:33.770Z"
   },
   {
    "duration": 340,
    "start_time": "2021-10-06T12:29:44.020Z"
   },
   {
    "duration": 260,
    "start_time": "2021-10-06T12:30:37.135Z"
   },
   {
    "duration": 252,
    "start_time": "2021-10-06T12:30:40.070Z"
   },
   {
    "duration": 1510,
    "start_time": "2021-10-06T16:13:16.719Z"
   },
   {
    "duration": 8,
    "start_time": "2021-10-06T16:13:18.232Z"
   },
   {
    "duration": 937,
    "start_time": "2021-10-06T16:13:18.244Z"
   },
   {
    "duration": 1755,
    "start_time": "2021-10-06T16:13:19.185Z"
   },
   {
    "duration": 32,
    "start_time": "2021-10-06T16:13:20.943Z"
   },
   {
    "duration": 6,
    "start_time": "2021-10-06T16:13:20.977Z"
   },
   {
    "duration": 18,
    "start_time": "2021-10-06T16:13:20.985Z"
   },
   {
    "duration": 12,
    "start_time": "2021-10-06T16:13:21.007Z"
   },
   {
    "duration": 20,
    "start_time": "2021-10-06T16:13:21.022Z"
   },
   {
    "duration": 29,
    "start_time": "2021-10-06T16:13:21.044Z"
   },
   {
    "duration": 18,
    "start_time": "2021-10-06T16:13:21.076Z"
   },
   {
    "duration": 14,
    "start_time": "2021-10-06T16:13:21.096Z"
   },
   {
    "duration": 11,
    "start_time": "2021-10-06T16:13:21.112Z"
   },
   {
    "duration": 19,
    "start_time": "2021-10-06T16:13:21.125Z"
   },
   {
    "duration": 28,
    "start_time": "2021-10-06T16:13:21.146Z"
   },
   {
    "duration": 15,
    "start_time": "2021-10-06T16:13:21.176Z"
   },
   {
    "duration": 3,
    "start_time": "2021-10-06T16:13:21.193Z"
   },
   {
    "duration": 23,
    "start_time": "2021-10-06T16:13:21.198Z"
   },
   {
    "duration": 12,
    "start_time": "2021-10-06T16:13:21.223Z"
   },
   {
    "duration": 25,
    "start_time": "2021-10-06T16:13:21.267Z"
   },
   {
    "duration": 8,
    "start_time": "2021-10-06T16:13:21.294Z"
   },
   {
    "duration": 3,
    "start_time": "2021-10-06T16:13:21.305Z"
   },
   {
    "duration": 13,
    "start_time": "2021-10-06T16:13:21.313Z"
   },
   {
    "duration": 4,
    "start_time": "2021-10-06T16:13:21.367Z"
   },
   {
    "duration": 10,
    "start_time": "2021-10-06T16:13:21.373Z"
   },
   {
    "duration": 270,
    "start_time": "2021-10-06T16:13:21.385Z"
   },
   {
    "duration": 10,
    "start_time": "2021-10-06T16:13:21.658Z"
   },
   {
    "duration": 8792,
    "start_time": "2021-10-06T16:15:30.688Z"
   },
   {
    "duration": 5,
    "start_time": "2021-10-06T16:15:50.839Z"
   },
   {
    "duration": 312,
    "start_time": "2021-10-06T16:15:54.102Z"
   },
   {
    "duration": 438,
    "start_time": "2021-10-06T16:19:48.724Z"
   },
   {
    "duration": 443,
    "start_time": "2021-10-06T16:20:38.869Z"
   },
   {
    "duration": 1701,
    "start_time": "2021-10-06T16:24:02.409Z"
   },
   {
    "duration": 2587,
    "start_time": "2021-10-06T16:24:42.593Z"
   },
   {
    "duration": 942,
    "start_time": "2021-10-06T16:25:00.729Z"
   },
   {
    "duration": 442,
    "start_time": "2021-10-06T16:25:19.063Z"
   },
   {
    "duration": 5,
    "start_time": "2021-10-06T16:25:29.371Z"
   },
   {
    "duration": 6,
    "start_time": "2021-10-06T16:25:40.450Z"
   },
   {
    "duration": 3,
    "start_time": "2021-10-06T16:26:06.456Z"
   },
   {
    "duration": 3,
    "start_time": "2021-10-06T16:26:20.783Z"
   },
   {
    "duration": 413,
    "start_time": "2021-10-06T16:26:21.600Z"
   },
   {
    "duration": 726,
    "start_time": "2021-10-06T16:27:36.992Z"
   },
   {
    "duration": 930,
    "start_time": "2021-10-06T16:28:02.082Z"
   },
   {
    "duration": 1120,
    "start_time": "2021-10-06T16:28:06.689Z"
   },
   {
    "duration": 2470,
    "start_time": "2021-10-06T16:29:34.920Z"
   },
   {
    "duration": 668,
    "start_time": "2021-10-06T16:29:48.689Z"
   },
   {
    "duration": 752,
    "start_time": "2021-10-06T16:30:04.873Z"
   },
   {
    "duration": 765,
    "start_time": "2021-10-06T16:31:16.095Z"
   },
   {
    "duration": 2569,
    "start_time": "2021-10-06T16:31:57.343Z"
   },
   {
    "duration": 688,
    "start_time": "2021-10-06T16:33:14.312Z"
   },
   {
    "duration": 429,
    "start_time": "2021-10-06T16:34:49.875Z"
   },
   {
    "duration": 393,
    "start_time": "2021-10-06T16:35:08.864Z"
   },
   {
    "duration": 4,
    "start_time": "2021-10-06T16:35:37.150Z"
   },
   {
    "duration": 383,
    "start_time": "2021-10-06T16:35:55.182Z"
   },
   {
    "duration": 4,
    "start_time": "2021-10-06T16:43:34.136Z"
   },
   {
    "duration": 10076,
    "start_time": "2021-10-06T16:43:34.560Z"
   },
   {
    "duration": 277,
    "start_time": "2021-10-06T16:49:45.161Z"
   },
   {
    "duration": 259,
    "start_time": "2021-10-06T16:50:26.735Z"
   },
   {
    "duration": 2171,
    "start_time": "2021-10-06T16:51:06.935Z"
   },
   {
    "duration": 522,
    "start_time": "2021-10-06T16:51:46.935Z"
   },
   {
    "duration": 4,
    "start_time": "2021-10-06T16:52:13.183Z"
   },
   {
    "duration": 5819,
    "start_time": "2021-10-06T16:52:15.407Z"
   },
   {
    "duration": 258,
    "start_time": "2021-10-06T16:52:23.303Z"
   },
   {
    "duration": 468,
    "start_time": "2021-10-06T16:52:28.991Z"
   },
   {
    "duration": 2093,
    "start_time": "2021-10-06T16:53:48.983Z"
   },
   {
    "duration": 1439,
    "start_time": "2021-10-06T16:55:19.412Z"
   },
   {
    "duration": 13,
    "start_time": "2021-10-06T16:55:20.854Z"
   },
   {
    "duration": 907,
    "start_time": "2021-10-06T16:55:20.870Z"
   },
   {
    "duration": 1614,
    "start_time": "2021-10-06T16:55:21.781Z"
   },
   {
    "duration": 13,
    "start_time": "2021-10-06T16:55:23.398Z"
   },
   {
    "duration": 6,
    "start_time": "2021-10-06T16:55:23.413Z"
   },
   {
    "duration": 48,
    "start_time": "2021-10-06T16:55:23.421Z"
   },
   {
    "duration": 3,
    "start_time": "2021-10-06T16:55:23.473Z"
   },
   {
    "duration": 4,
    "start_time": "2021-10-06T16:55:23.480Z"
   },
   {
    "duration": 10,
    "start_time": "2021-10-06T16:55:23.487Z"
   },
   {
    "duration": 5,
    "start_time": "2021-10-06T16:55:23.499Z"
   },
   {
    "duration": 61,
    "start_time": "2021-10-06T16:55:23.506Z"
   },
   {
    "duration": 4,
    "start_time": "2021-10-06T16:55:23.570Z"
   },
   {
    "duration": 9,
    "start_time": "2021-10-06T16:55:23.577Z"
   },
   {
    "duration": 17,
    "start_time": "2021-10-06T16:55:23.588Z"
   },
   {
    "duration": 60,
    "start_time": "2021-10-06T16:55:23.607Z"
   },
   {
    "duration": 3,
    "start_time": "2021-10-06T16:55:23.670Z"
   },
   {
    "duration": 18,
    "start_time": "2021-10-06T16:55:23.676Z"
   },
   {
    "duration": 10,
    "start_time": "2021-10-06T16:55:23.696Z"
   },
   {
    "duration": 5,
    "start_time": "2021-10-06T16:55:23.708Z"
   },
   {
    "duration": 6,
    "start_time": "2021-10-06T16:55:23.716Z"
   },
   {
    "duration": 462,
    "start_time": "2021-10-06T16:55:23.724Z"
   },
   {
    "duration": 4,
    "start_time": "2021-10-06T16:55:24.192Z"
   },
   {
    "duration": 410,
    "start_time": "2021-10-06T16:55:24.199Z"
   },
   {
    "duration": 4,
    "start_time": "2021-10-06T16:55:24.611Z"
   },
   {
    "duration": 407,
    "start_time": "2021-10-06T16:55:24.618Z"
   },
   {
    "duration": 4,
    "start_time": "2021-10-06T16:55:25.027Z"
   },
   {
    "duration": 414,
    "start_time": "2021-10-06T16:55:25.034Z"
   },
   {
    "duration": -165,
    "start_time": "2021-10-06T16:55:25.615Z"
   },
   {
    "duration": -167,
    "start_time": "2021-10-06T16:55:25.619Z"
   },
   {
    "duration": 1696,
    "start_time": "2021-10-06T16:56:27.469Z"
   },
   {
    "duration": 5,
    "start_time": "2021-10-06T16:56:44.179Z"
   },
   {
    "duration": 1485,
    "start_time": "2021-10-06T16:57:10.485Z"
   },
   {
    "duration": 8,
    "start_time": "2021-10-06T16:57:11.972Z"
   },
   {
    "duration": 1488,
    "start_time": "2021-10-06T16:57:11.983Z"
   },
   {
    "duration": 1620,
    "start_time": "2021-10-06T16:57:13.474Z"
   },
   {
    "duration": 12,
    "start_time": "2021-10-06T16:57:15.096Z"
   },
   {
    "duration": 6,
    "start_time": "2021-10-06T16:57:15.110Z"
   },
   {
    "duration": 51,
    "start_time": "2021-10-06T16:57:15.118Z"
   },
   {
    "duration": 7,
    "start_time": "2021-10-06T16:57:15.174Z"
   },
   {
    "duration": 9,
    "start_time": "2021-10-06T16:57:15.184Z"
   },
   {
    "duration": 14,
    "start_time": "2021-10-06T16:57:15.196Z"
   },
   {
    "duration": 9,
    "start_time": "2021-10-06T16:57:15.212Z"
   },
   {
    "duration": 10,
    "start_time": "2021-10-06T16:57:15.224Z"
   },
   {
    "duration": 4,
    "start_time": "2021-10-06T16:57:15.268Z"
   },
   {
    "duration": 11,
    "start_time": "2021-10-06T16:57:15.275Z"
   },
   {
    "duration": 15,
    "start_time": "2021-10-06T16:57:15.288Z"
   },
   {
    "duration": 14,
    "start_time": "2021-10-06T16:57:15.306Z"
   },
   {
    "duration": 4,
    "start_time": "2021-10-06T16:57:15.366Z"
   },
   {
    "duration": 15,
    "start_time": "2021-10-06T16:57:15.372Z"
   },
   {
    "duration": 14,
    "start_time": "2021-10-06T16:57:15.389Z"
   },
   {
    "duration": 6,
    "start_time": "2021-10-06T16:57:15.405Z"
   },
   {
    "duration": 7,
    "start_time": "2021-10-06T16:57:15.413Z"
   },
   {
    "duration": 47,
    "start_time": "2021-10-06T16:57:15.422Z"
   },
   {
    "duration": 4,
    "start_time": "2021-10-06T16:57:15.473Z"
   },
   {
    "duration": 432,
    "start_time": "2021-10-06T16:57:15.480Z"
   },
   {
    "duration": 4,
    "start_time": "2021-10-06T16:57:15.914Z"
   },
   {
    "duration": 413,
    "start_time": "2021-10-06T16:57:15.920Z"
   },
   {
    "duration": 4,
    "start_time": "2021-10-06T16:57:16.335Z"
   },
   {
    "duration": 408,
    "start_time": "2021-10-06T16:57:16.342Z"
   },
   {
    "duration": 3,
    "start_time": "2021-10-06T16:57:16.753Z"
   },
   {
    "duration": 411,
    "start_time": "2021-10-06T16:57:16.767Z"
   },
   {
    "duration": -130,
    "start_time": "2021-10-06T16:57:17.311Z"
   },
   {
    "duration": -140,
    "start_time": "2021-10-06T16:57:17.322Z"
   },
   {
    "duration": -141,
    "start_time": "2021-10-06T16:57:17.325Z"
   },
   {
    "duration": 1798,
    "start_time": "2021-10-06T16:57:57.612Z"
   },
   {
    "duration": 7,
    "start_time": "2021-10-06T16:57:59.413Z"
   },
   {
    "duration": 945,
    "start_time": "2021-10-06T16:57:59.423Z"
   },
   {
    "duration": 1673,
    "start_time": "2021-10-06T16:58:00.371Z"
   },
   {
    "duration": 29,
    "start_time": "2021-10-06T16:58:02.046Z"
   },
   {
    "duration": 9,
    "start_time": "2021-10-06T16:58:02.078Z"
   },
   {
    "duration": 33,
    "start_time": "2021-10-06T16:58:02.089Z"
   },
   {
    "duration": 18,
    "start_time": "2021-10-06T16:58:02.126Z"
   },
   {
    "duration": 18,
    "start_time": "2021-10-06T16:58:02.147Z"
   },
   {
    "duration": 19,
    "start_time": "2021-10-06T16:58:02.168Z"
   },
   {
    "duration": 27,
    "start_time": "2021-10-06T16:58:02.189Z"
   },
   {
    "duration": 24,
    "start_time": "2021-10-06T16:58:02.219Z"
   },
   {
    "duration": 13,
    "start_time": "2021-10-06T16:58:02.245Z"
   },
   {
    "duration": 32,
    "start_time": "2021-10-06T16:58:02.261Z"
   },
   {
    "duration": 34,
    "start_time": "2021-10-06T16:58:02.295Z"
   },
   {
    "duration": 20,
    "start_time": "2021-10-06T16:58:02.331Z"
   },
   {
    "duration": 4,
    "start_time": "2021-10-06T16:58:02.353Z"
   },
   {
    "duration": 18,
    "start_time": "2021-10-06T16:58:02.359Z"
   },
   {
    "duration": 29,
    "start_time": "2021-10-06T16:58:02.380Z"
   },
   {
    "duration": 11,
    "start_time": "2021-10-06T16:58:02.411Z"
   },
   {
    "duration": 8,
    "start_time": "2021-10-06T16:58:02.424Z"
   },
   {
    "duration": 11,
    "start_time": "2021-10-06T16:58:02.435Z"
   },
   {
    "duration": 20,
    "start_time": "2021-10-06T16:58:02.451Z"
   },
   {
    "duration": 15,
    "start_time": "2021-10-06T16:58:02.473Z"
   },
   {
    "duration": 13,
    "start_time": "2021-10-06T16:58:02.491Z"
   },
   {
    "duration": 429,
    "start_time": "2021-10-06T16:58:02.507Z"
   },
   {
    "duration": 4,
    "start_time": "2021-10-06T16:58:02.939Z"
   },
   {
    "duration": 411,
    "start_time": "2021-10-06T16:58:02.946Z"
   },
   {
    "duration": 4,
    "start_time": "2021-10-06T16:58:03.367Z"
   },
   {
    "duration": 507,
    "start_time": "2021-10-06T16:58:03.373Z"
   },
   {
    "duration": 4,
    "start_time": "2021-10-06T16:58:03.883Z"
   },
   {
    "duration": 411,
    "start_time": "2021-10-06T16:58:03.889Z"
   },
   {
    "duration": -96,
    "start_time": "2021-10-06T16:58:04.399Z"
   },
   {
    "duration": -97,
    "start_time": "2021-10-06T16:58:04.401Z"
   },
   {
    "duration": -100,
    "start_time": "2021-10-06T16:58:04.406Z"
   },
   {
    "duration": 1428,
    "start_time": "2021-10-06T16:58:43.098Z"
   },
   {
    "duration": 7,
    "start_time": "2021-10-06T16:58:44.528Z"
   },
   {
    "duration": 1294,
    "start_time": "2021-10-06T16:58:44.539Z"
   },
   {
    "duration": 1644,
    "start_time": "2021-10-06T16:58:45.835Z"
   },
   {
    "duration": 11,
    "start_time": "2021-10-06T16:58:47.481Z"
   },
   {
    "duration": 6,
    "start_time": "2021-10-06T16:58:47.494Z"
   },
   {
    "duration": 9,
    "start_time": "2021-10-06T16:58:47.503Z"
   },
   {
    "duration": 52,
    "start_time": "2021-10-06T16:58:47.515Z"
   },
   {
    "duration": 4,
    "start_time": "2021-10-06T16:58:47.571Z"
   },
   {
    "duration": 7,
    "start_time": "2021-10-06T16:58:47.578Z"
   },
   {
    "duration": 15,
    "start_time": "2021-10-06T16:58:47.588Z"
   },
   {
    "duration": 13,
    "start_time": "2021-10-06T16:58:47.605Z"
   },
   {
    "duration": 7,
    "start_time": "2021-10-06T16:58:47.621Z"
   },
   {
    "duration": 44,
    "start_time": "2021-10-06T16:58:47.630Z"
   },
   {
    "duration": 20,
    "start_time": "2021-10-06T16:58:47.677Z"
   },
   {
    "duration": 14,
    "start_time": "2021-10-06T16:58:47.699Z"
   },
   {
    "duration": 3,
    "start_time": "2021-10-06T16:58:47.716Z"
   },
   {
    "duration": 49,
    "start_time": "2021-10-06T16:58:47.721Z"
   },
   {
    "duration": 12,
    "start_time": "2021-10-06T16:58:47.772Z"
   },
   {
    "duration": 9,
    "start_time": "2021-10-06T16:58:47.786Z"
   },
   {
    "duration": 5,
    "start_time": "2021-10-06T16:58:47.798Z"
   },
   {
    "duration": 5,
    "start_time": "2021-10-06T16:58:47.806Z"
   },
   {
    "duration": 54,
    "start_time": "2021-10-06T16:58:47.816Z"
   },
   {
    "duration": 8,
    "start_time": "2021-10-06T16:58:47.873Z"
   },
   {
    "duration": 5,
    "start_time": "2021-10-06T16:58:47.883Z"
   },
   {
    "duration": 449,
    "start_time": "2021-10-06T16:58:47.890Z"
   },
   {
    "duration": 4,
    "start_time": "2021-10-06T16:58:48.342Z"
   },
   {
    "duration": 419,
    "start_time": "2021-10-06T16:58:48.348Z"
   },
   {
    "duration": 4,
    "start_time": "2021-10-06T16:58:48.769Z"
   },
   {
    "duration": 401,
    "start_time": "2021-10-06T16:58:48.775Z"
   },
   {
    "duration": 4,
    "start_time": "2021-10-06T16:58:49.179Z"
   },
   {
    "duration": 12,
    "start_time": "2021-10-06T16:58:49.186Z"
   },
   {
    "duration": 67,
    "start_time": "2021-10-06T16:58:49.200Z"
   },
   {
    "duration": 5,
    "start_time": "2021-10-06T16:58:49.270Z"
   },
   {
    "duration": 5,
    "start_time": "2021-10-06T16:58:49.277Z"
   },
   {
    "duration": 1837,
    "start_time": "2021-10-06T16:59:14.510Z"
   },
   {
    "duration": 8,
    "start_time": "2021-10-06T16:59:16.349Z"
   },
   {
    "duration": 1272,
    "start_time": "2021-10-06T16:59:16.368Z"
   },
   {
    "duration": 1636,
    "start_time": "2021-10-06T16:59:17.643Z"
   },
   {
    "duration": 11,
    "start_time": "2021-10-06T16:59:19.282Z"
   },
   {
    "duration": 4,
    "start_time": "2021-10-06T16:59:19.296Z"
   },
   {
    "duration": 7,
    "start_time": "2021-10-06T16:59:19.302Z"
   },
   {
    "duration": 3,
    "start_time": "2021-10-06T16:59:19.313Z"
   },
   {
    "duration": 48,
    "start_time": "2021-10-06T16:59:19.319Z"
   },
   {
    "duration": 8,
    "start_time": "2021-10-06T16:59:19.370Z"
   },
   {
    "duration": 6,
    "start_time": "2021-10-06T16:59:19.380Z"
   },
   {
    "duration": 16,
    "start_time": "2021-10-06T16:59:19.388Z"
   },
   {
    "duration": 8,
    "start_time": "2021-10-06T16:59:19.406Z"
   },
   {
    "duration": 52,
    "start_time": "2021-10-06T16:59:19.416Z"
   },
   {
    "duration": 14,
    "start_time": "2021-10-06T16:59:19.471Z"
   },
   {
    "duration": 13,
    "start_time": "2021-10-06T16:59:19.488Z"
   },
   {
    "duration": 3,
    "start_time": "2021-10-06T16:59:19.503Z"
   },
   {
    "duration": 13,
    "start_time": "2021-10-06T16:59:19.508Z"
   },
   {
    "duration": 48,
    "start_time": "2021-10-06T16:59:19.524Z"
   },
   {
    "duration": 6,
    "start_time": "2021-10-06T16:59:19.574Z"
   },
   {
    "duration": 3,
    "start_time": "2021-10-06T16:59:19.583Z"
   },
   {
    "duration": 431,
    "start_time": "2021-10-06T16:59:19.588Z"
   },
   {
    "duration": 4,
    "start_time": "2021-10-06T16:59:20.023Z"
   },
   {
    "duration": 400,
    "start_time": "2021-10-06T16:59:20.030Z"
   },
   {
    "duration": 3,
    "start_time": "2021-10-06T16:59:20.433Z"
   },
   {
    "duration": 398,
    "start_time": "2021-10-06T16:59:20.438Z"
   },
   {
    "duration": 4,
    "start_time": "2021-10-06T16:59:20.838Z"
   },
   {
    "duration": 24,
    "start_time": "2021-10-06T16:59:20.844Z"
   },
   {
    "duration": 30,
    "start_time": "2021-10-06T16:59:20.871Z"
   },
   {
    "duration": 5,
    "start_time": "2021-10-06T16:59:20.903Z"
   },
   {
    "duration": 6,
    "start_time": "2021-10-06T16:59:20.910Z"
   },
   {
    "duration": 4,
    "start_time": "2021-10-06T16:59:40.539Z"
   },
   {
    "duration": 4,
    "start_time": "2021-10-06T17:03:23.954Z"
   },
   {
    "duration": 332,
    "start_time": "2021-10-06T17:03:50.642Z"
   },
   {
    "duration": 634,
    "start_time": "2021-10-06T17:17:42.168Z"
   },
   {
    "duration": 1038,
    "start_time": "2021-10-06T17:19:35.698Z"
   },
   {
    "duration": 793,
    "start_time": "2021-10-06T17:26:36.499Z"
   },
   {
    "duration": 358,
    "start_time": "2021-10-06T17:26:47.983Z"
   },
   {
    "duration": 342,
    "start_time": "2021-10-06T17:26:56.044Z"
   },
   {
    "duration": 381,
    "start_time": "2021-10-06T17:28:16.825Z"
   },
   {
    "duration": 383,
    "start_time": "2021-10-06T17:31:46.694Z"
   },
   {
    "duration": 387,
    "start_time": "2021-10-06T17:32:04.530Z"
   },
   {
    "duration": 86,
    "start_time": "2021-10-06T17:32:09.138Z"
   },
   {
    "duration": 392,
    "start_time": "2021-10-06T17:32:14.835Z"
   },
   {
    "duration": 591,
    "start_time": "2021-10-06T17:32:22.549Z"
   },
   {
    "duration": 393,
    "start_time": "2021-10-06T17:32:26.846Z"
   },
   {
    "duration": 3,
    "start_time": "2021-10-06T17:38:12.704Z"
   },
   {
    "duration": 563,
    "start_time": "2021-10-06T17:38:50.306Z"
   },
   {
    "duration": 19,
    "start_time": "2021-10-06T17:39:04.778Z"
   },
   {
    "duration": 11,
    "start_time": "2021-10-06T17:39:28.617Z"
   },
   {
    "duration": 5,
    "start_time": "2021-10-06T17:40:06.437Z"
   },
   {
    "duration": 327,
    "start_time": "2021-10-06T17:40:14.312Z"
   },
   {
    "duration": 7,
    "start_time": "2021-10-06T17:40:23.803Z"
   },
   {
    "duration": 10,
    "start_time": "2021-10-06T17:40:41.320Z"
   },
   {
    "duration": 6,
    "start_time": "2021-10-06T17:45:16.213Z"
   },
   {
    "duration": 380,
    "start_time": "2021-10-06T17:45:21.090Z"
   },
   {
    "duration": 1533,
    "start_time": "2021-10-06T17:45:44.655Z"
   },
   {
    "duration": 9,
    "start_time": "2021-10-06T17:45:46.191Z"
   },
   {
    "duration": 926,
    "start_time": "2021-10-06T17:45:46.202Z"
   },
   {
    "duration": 1670,
    "start_time": "2021-10-06T17:45:47.131Z"
   },
   {
    "duration": 12,
    "start_time": "2021-10-06T17:45:48.803Z"
   },
   {
    "duration": 5,
    "start_time": "2021-10-06T17:45:48.817Z"
   },
   {
    "duration": 9,
    "start_time": "2021-10-06T17:45:48.824Z"
   },
   {
    "duration": 4,
    "start_time": "2021-10-06T17:45:48.868Z"
   },
   {
    "duration": 6,
    "start_time": "2021-10-06T17:45:48.875Z"
   },
   {
    "duration": 9,
    "start_time": "2021-10-06T17:45:48.883Z"
   },
   {
    "duration": 12,
    "start_time": "2021-10-06T17:45:48.895Z"
   },
   {
    "duration": 8,
    "start_time": "2021-10-06T17:45:48.909Z"
   },
   {
    "duration": 5,
    "start_time": "2021-10-06T17:45:48.919Z"
   },
   {
    "duration": 42,
    "start_time": "2021-10-06T17:45:48.927Z"
   },
   {
    "duration": 12,
    "start_time": "2021-10-06T17:45:48.972Z"
   },
   {
    "duration": 15,
    "start_time": "2021-10-06T17:45:48.987Z"
   },
   {
    "duration": 4,
    "start_time": "2021-10-06T17:45:49.004Z"
   },
   {
    "duration": 13,
    "start_time": "2021-10-06T17:45:49.010Z"
   },
   {
    "duration": 42,
    "start_time": "2021-10-06T17:45:49.025Z"
   },
   {
    "duration": 7,
    "start_time": "2021-10-06T17:45:49.070Z"
   },
   {
    "duration": 5,
    "start_time": "2021-10-06T17:45:49.080Z"
   },
   {
    "duration": 430,
    "start_time": "2021-10-06T17:45:49.088Z"
   },
   {
    "duration": 4,
    "start_time": "2021-10-06T17:45:49.523Z"
   },
   {
    "duration": 403,
    "start_time": "2021-10-06T17:45:49.530Z"
   },
   {
    "duration": 4,
    "start_time": "2021-10-06T17:45:49.936Z"
   },
   {
    "duration": 396,
    "start_time": "2021-10-06T17:45:49.943Z"
   },
   {
    "duration": 5,
    "start_time": "2021-10-06T17:45:50.342Z"
   },
   {
    "duration": 419,
    "start_time": "2021-10-06T17:45:50.350Z"
   },
   {
    "duration": 498,
    "start_time": "2021-10-06T17:45:50.772Z"
   },
   {
    "duration": 7,
    "start_time": "2021-10-06T17:45:51.273Z"
   },
   {
    "duration": 410,
    "start_time": "2021-10-06T17:45:51.283Z"
   },
   {
    "duration": 3,
    "start_time": "2021-10-06T17:45:51.695Z"
   },
   {
    "duration": 7,
    "start_time": "2021-10-06T17:47:52.885Z"
   },
   {
    "duration": 805,
    "start_time": "2021-10-06T17:48:03.544Z"
   },
   {
    "duration": 10,
    "start_time": "2021-10-06T17:48:15.519Z"
   },
   {
    "duration": 7,
    "start_time": "2021-10-06T17:48:46.064Z"
   },
   {
    "duration": 11,
    "start_time": "2021-10-06T17:48:46.865Z"
   },
   {
    "duration": 393,
    "start_time": "2021-10-06T17:48:47.853Z"
   },
   {
    "duration": 1524,
    "start_time": "2021-10-06T17:49:12.236Z"
   },
   {
    "duration": 9,
    "start_time": "2021-10-06T17:49:13.763Z"
   },
   {
    "duration": 914,
    "start_time": "2021-10-06T17:49:13.776Z"
   },
   {
    "duration": 1578,
    "start_time": "2021-10-06T17:49:14.693Z"
   },
   {
    "duration": 12,
    "start_time": "2021-10-06T17:49:16.273Z"
   },
   {
    "duration": 5,
    "start_time": "2021-10-06T17:49:16.287Z"
   },
   {
    "duration": 14,
    "start_time": "2021-10-06T17:49:16.295Z"
   },
   {
    "duration": 3,
    "start_time": "2021-10-06T17:49:16.313Z"
   },
   {
    "duration": 5,
    "start_time": "2021-10-06T17:49:16.320Z"
   },
   {
    "duration": 42,
    "start_time": "2021-10-06T17:49:16.327Z"
   },
   {
    "duration": 6,
    "start_time": "2021-10-06T17:49:16.372Z"
   },
   {
    "duration": 13,
    "start_time": "2021-10-06T17:49:16.380Z"
   },
   {
    "duration": 8,
    "start_time": "2021-10-06T17:49:16.395Z"
   },
   {
    "duration": 10,
    "start_time": "2021-10-06T17:49:16.405Z"
   },
   {
    "duration": 16,
    "start_time": "2021-10-06T17:49:16.418Z"
   },
   {
    "duration": 13,
    "start_time": "2021-10-06T17:49:16.467Z"
   },
   {
    "duration": 4,
    "start_time": "2021-10-06T17:49:16.482Z"
   },
   {
    "duration": 11,
    "start_time": "2021-10-06T17:49:16.488Z"
   },
   {
    "duration": 13,
    "start_time": "2021-10-06T17:49:16.501Z"
   },
   {
    "duration": 6,
    "start_time": "2021-10-06T17:49:16.516Z"
   },
   {
    "duration": 4,
    "start_time": "2021-10-06T17:49:16.525Z"
   },
   {
    "duration": 403,
    "start_time": "2021-10-06T17:49:16.567Z"
   },
   {
    "duration": 5,
    "start_time": "2021-10-06T17:49:16.975Z"
   },
   {
    "duration": 393,
    "start_time": "2021-10-06T17:49:16.982Z"
   },
   {
    "duration": 4,
    "start_time": "2021-10-06T17:49:17.378Z"
   },
   {
    "duration": 389,
    "start_time": "2021-10-06T17:49:17.384Z"
   },
   {
    "duration": 5,
    "start_time": "2021-10-06T17:49:17.776Z"
   },
   {
    "duration": 405,
    "start_time": "2021-10-06T17:49:17.784Z"
   },
   {
    "duration": 517,
    "start_time": "2021-10-06T17:49:18.192Z"
   },
   {
    "duration": 9,
    "start_time": "2021-10-06T17:49:18.712Z"
   },
   {
    "duration": 12,
    "start_time": "2021-10-06T17:49:18.724Z"
   },
   {
    "duration": 423,
    "start_time": "2021-10-06T17:49:18.739Z"
   },
   {
    "duration": 4,
    "start_time": "2021-10-06T17:49:19.168Z"
   },
   {
    "duration": 7,
    "start_time": "2021-10-06T17:50:50.548Z"
   },
   {
    "duration": 10,
    "start_time": "2021-10-06T17:50:52.115Z"
   },
   {
    "duration": 372,
    "start_time": "2021-10-06T17:50:52.307Z"
   },
   {
    "duration": 85,
    "start_time": "2021-10-06T17:52:49.333Z"
   },
   {
    "duration": 94,
    "start_time": "2021-10-06T17:52:49.771Z"
   },
   {
    "duration": 80,
    "start_time": "2021-10-06T17:53:10.895Z"
   },
   {
    "duration": 113,
    "start_time": "2021-10-06T17:53:25.055Z"
   },
   {
    "duration": 7,
    "start_time": "2021-10-06T17:53:55.511Z"
   },
   {
    "duration": 10,
    "start_time": "2021-10-06T17:53:59.855Z"
   },
   {
    "duration": 405,
    "start_time": "2021-10-06T17:54:11.230Z"
   },
   {
    "duration": 398,
    "start_time": "2021-10-06T17:54:19.662Z"
   },
   {
    "duration": 261,
    "start_time": "2021-10-06T17:55:45.888Z"
   },
   {
    "duration": 1482,
    "start_time": "2021-10-06T17:57:04.146Z"
   },
   {
    "duration": 8,
    "start_time": "2021-10-06T17:57:05.630Z"
   },
   {
    "duration": 942,
    "start_time": "2021-10-06T17:57:05.641Z"
   },
   {
    "duration": 1583,
    "start_time": "2021-10-06T17:57:06.586Z"
   },
   {
    "duration": 12,
    "start_time": "2021-10-06T17:57:08.172Z"
   },
   {
    "duration": 5,
    "start_time": "2021-10-06T17:57:08.186Z"
   },
   {
    "duration": 8,
    "start_time": "2021-10-06T17:57:08.193Z"
   },
   {
    "duration": 4,
    "start_time": "2021-10-06T17:57:08.204Z"
   },
   {
    "duration": 6,
    "start_time": "2021-10-06T17:57:08.211Z"
   },
   {
    "duration": 49,
    "start_time": "2021-10-06T17:57:08.219Z"
   },
   {
    "duration": 7,
    "start_time": "2021-10-06T17:57:08.271Z"
   },
   {
    "duration": 7,
    "start_time": "2021-10-06T17:57:08.281Z"
   },
   {
    "duration": 6,
    "start_time": "2021-10-06T17:57:08.291Z"
   },
   {
    "duration": 10,
    "start_time": "2021-10-06T17:57:08.300Z"
   },
   {
    "duration": 14,
    "start_time": "2021-10-06T17:57:08.313Z"
   },
   {
    "duration": 48,
    "start_time": "2021-10-06T17:57:08.330Z"
   },
   {
    "duration": 3,
    "start_time": "2021-10-06T17:57:08.381Z"
   },
   {
    "duration": 12,
    "start_time": "2021-10-06T17:57:08.386Z"
   },
   {
    "duration": 9,
    "start_time": "2021-10-06T17:57:08.401Z"
   },
   {
    "duration": 7,
    "start_time": "2021-10-06T17:57:08.412Z"
   },
   {
    "duration": 4,
    "start_time": "2021-10-06T17:57:08.467Z"
   },
   {
    "duration": 404,
    "start_time": "2021-10-06T17:57:08.474Z"
   },
   {
    "duration": 4,
    "start_time": "2021-10-06T17:57:08.883Z"
   },
   {
    "duration": 400,
    "start_time": "2021-10-06T17:57:08.889Z"
   },
   {
    "duration": 4,
    "start_time": "2021-10-06T17:57:09.292Z"
   },
   {
    "duration": 415,
    "start_time": "2021-10-06T17:57:09.299Z"
   },
   {
    "duration": 4,
    "start_time": "2021-10-06T17:57:09.717Z"
   },
   {
    "duration": 404,
    "start_time": "2021-10-06T17:57:09.724Z"
   },
   {
    "duration": 486,
    "start_time": "2021-10-06T17:57:10.131Z"
   },
   {
    "duration": 6,
    "start_time": "2021-10-06T17:57:10.619Z"
   },
   {
    "duration": 410,
    "start_time": "2021-10-06T17:57:10.627Z"
   },
   {
    "duration": -292,
    "start_time": "2021-10-06T17:57:11.331Z"
   },
   {
    "duration": -293,
    "start_time": "2021-10-06T17:57:11.333Z"
   },
   {
    "duration": -296,
    "start_time": "2021-10-06T17:57:11.338Z"
   },
   {
    "duration": -311,
    "start_time": "2021-10-06T17:57:11.354Z"
   },
   {
    "duration": -459,
    "start_time": "2021-10-06T17:57:11.504Z"
   },
   {
    "duration": 267,
    "start_time": "2021-10-06T17:57:29.117Z"
   },
   {
    "duration": 9,
    "start_time": "2021-10-06T17:57:35.828Z"
   },
   {
    "duration": 7,
    "start_time": "2021-10-06T17:57:45.325Z"
   },
   {
    "duration": 11,
    "start_time": "2021-10-06T17:57:55.410Z"
   },
   {
    "duration": 389,
    "start_time": "2021-10-06T17:58:00.878Z"
   },
   {
    "duration": 473,
    "start_time": "2021-10-06T17:58:09.847Z"
   },
   {
    "duration": 1722,
    "start_time": "2021-10-06T18:00:52.953Z"
   },
   {
    "duration": 11,
    "start_time": "2021-10-06T18:00:54.678Z"
   },
   {
    "duration": 933,
    "start_time": "2021-10-06T18:00:54.693Z"
   },
   {
    "duration": 1574,
    "start_time": "2021-10-06T18:00:55.629Z"
   },
   {
    "duration": 11,
    "start_time": "2021-10-06T18:00:57.206Z"
   },
   {
    "duration": 4,
    "start_time": "2021-10-06T18:00:57.220Z"
   },
   {
    "duration": 41,
    "start_time": "2021-10-06T18:00:57.226Z"
   },
   {
    "duration": 3,
    "start_time": "2021-10-06T18:00:57.271Z"
   },
   {
    "duration": 10,
    "start_time": "2021-10-06T18:00:57.277Z"
   },
   {
    "duration": 7,
    "start_time": "2021-10-06T18:00:57.290Z"
   },
   {
    "duration": 6,
    "start_time": "2021-10-06T18:00:57.299Z"
   },
   {
    "duration": 8,
    "start_time": "2021-10-06T18:00:57.307Z"
   },
   {
    "duration": 6,
    "start_time": "2021-10-06T18:00:57.318Z"
   },
   {
    "duration": 44,
    "start_time": "2021-10-06T18:00:57.326Z"
   },
   {
    "duration": 13,
    "start_time": "2021-10-06T18:00:57.373Z"
   },
   {
    "duration": 16,
    "start_time": "2021-10-06T18:00:57.388Z"
   },
   {
    "duration": 3,
    "start_time": "2021-10-06T18:00:57.407Z"
   },
   {
    "duration": 56,
    "start_time": "2021-10-06T18:00:57.413Z"
   },
   {
    "duration": 10,
    "start_time": "2021-10-06T18:00:57.472Z"
   },
   {
    "duration": 8,
    "start_time": "2021-10-06T18:00:57.485Z"
   },
   {
    "duration": 8,
    "start_time": "2021-10-06T18:00:57.495Z"
   },
   {
    "duration": 431,
    "start_time": "2021-10-06T18:00:57.505Z"
   },
   {
    "duration": 4,
    "start_time": "2021-10-06T18:00:57.943Z"
   },
   {
    "duration": 394,
    "start_time": "2021-10-06T18:00:57.967Z"
   },
   {
    "duration": 5,
    "start_time": "2021-10-06T18:00:58.367Z"
   },
   {
    "duration": 411,
    "start_time": "2021-10-06T18:00:58.374Z"
   },
   {
    "duration": 5,
    "start_time": "2021-10-06T18:00:58.787Z"
   },
   {
    "duration": 398,
    "start_time": "2021-10-06T18:00:58.794Z"
   },
   {
    "duration": 477,
    "start_time": "2021-10-06T18:00:59.194Z"
   },
   {
    "duration": 7,
    "start_time": "2021-10-06T18:00:59.674Z"
   },
   {
    "duration": 391,
    "start_time": "2021-10-06T18:00:59.683Z"
   },
   {
    "duration": 3,
    "start_time": "2021-10-06T18:01:00.077Z"
   },
   {
    "duration": 4,
    "start_time": "2021-10-06T18:01:40.021Z"
   },
   {
    "duration": 572,
    "start_time": "2021-10-06T18:01:42.466Z"
   },
   {
    "duration": 18,
    "start_time": "2021-10-06T18:01:57.007Z"
   },
   {
    "duration": 391,
    "start_time": "2021-10-06T18:02:23.031Z"
   },
   {
    "duration": 5,
    "start_time": "2021-10-06T18:02:38.745Z"
   },
   {
    "duration": 9,
    "start_time": "2021-10-06T18:02:39.588Z"
   },
   {
    "duration": 359,
    "start_time": "2021-10-06T18:02:40.969Z"
   },
   {
    "duration": 1498,
    "start_time": "2021-10-06T18:02:50.908Z"
   },
   {
    "duration": 7,
    "start_time": "2021-10-06T18:02:52.409Z"
   },
   {
    "duration": 1028,
    "start_time": "2021-10-06T18:02:52.419Z"
   },
   {
    "duration": 1637,
    "start_time": "2021-10-06T18:02:53.450Z"
   },
   {
    "duration": 13,
    "start_time": "2021-10-06T18:02:55.090Z"
   },
   {
    "duration": 18,
    "start_time": "2021-10-06T18:02:55.106Z"
   },
   {
    "duration": 11,
    "start_time": "2021-10-06T18:02:55.127Z"
   },
   {
    "duration": 4,
    "start_time": "2021-10-06T18:02:55.168Z"
   },
   {
    "duration": 9,
    "start_time": "2021-10-06T18:02:55.174Z"
   },
   {
    "duration": 10,
    "start_time": "2021-10-06T18:02:55.185Z"
   },
   {
    "duration": 7,
    "start_time": "2021-10-06T18:02:55.197Z"
   },
   {
    "duration": 9,
    "start_time": "2021-10-06T18:02:55.206Z"
   },
   {
    "duration": 5,
    "start_time": "2021-10-06T18:02:55.217Z"
   },
   {
    "duration": 45,
    "start_time": "2021-10-06T18:02:55.224Z"
   },
   {
    "duration": 16,
    "start_time": "2021-10-06T18:02:55.271Z"
   },
   {
    "duration": 13,
    "start_time": "2021-10-06T18:02:55.290Z"
   },
   {
    "duration": 4,
    "start_time": "2021-10-06T18:02:55.305Z"
   },
   {
    "duration": 11,
    "start_time": "2021-10-06T18:02:55.311Z"
   },
   {
    "duration": 42,
    "start_time": "2021-10-06T18:02:55.325Z"
   },
   {
    "duration": 7,
    "start_time": "2021-10-06T18:02:55.370Z"
   },
   {
    "duration": 7,
    "start_time": "2021-10-06T18:02:55.380Z"
   },
   {
    "duration": 419,
    "start_time": "2021-10-06T18:02:55.389Z"
   },
   {
    "duration": 4,
    "start_time": "2021-10-06T18:02:55.812Z"
   },
   {
    "duration": 397,
    "start_time": "2021-10-06T18:02:55.819Z"
   },
   {
    "duration": 4,
    "start_time": "2021-10-06T18:02:56.218Z"
   },
   {
    "duration": 408,
    "start_time": "2021-10-06T18:02:56.224Z"
   },
   {
    "duration": 4,
    "start_time": "2021-10-06T18:02:56.635Z"
   },
   {
    "duration": 410,
    "start_time": "2021-10-06T18:02:56.641Z"
   },
   {
    "duration": 481,
    "start_time": "2021-10-06T18:02:57.053Z"
   },
   {
    "duration": 4,
    "start_time": "2021-10-06T18:02:57.536Z"
   },
   {
    "duration": 25,
    "start_time": "2021-10-06T18:02:57.542Z"
   },
   {
    "duration": 8,
    "start_time": "2021-10-06T18:02:57.569Z"
   },
   {
    "duration": 367,
    "start_time": "2021-10-06T18:02:57.580Z"
   },
   {
    "duration": 17,
    "start_time": "2021-10-06T18:02:57.950Z"
   },
   {
    "duration": 412,
    "start_time": "2021-10-06T18:03:36.158Z"
   },
   {
    "duration": 1528,
    "start_time": "2021-10-06T18:10:23.635Z"
   },
   {
    "duration": 7,
    "start_time": "2021-10-06T18:10:25.168Z"
   },
   {
    "duration": 1189,
    "start_time": "2021-10-06T18:10:25.179Z"
   },
   {
    "duration": 1811,
    "start_time": "2021-10-06T18:10:26.370Z"
   },
   {
    "duration": 11,
    "start_time": "2021-10-06T18:10:28.184Z"
   },
   {
    "duration": 6,
    "start_time": "2021-10-06T18:10:28.197Z"
   },
   {
    "duration": 13,
    "start_time": "2021-10-06T18:10:28.205Z"
   },
   {
    "duration": 4,
    "start_time": "2021-10-06T18:10:28.222Z"
   },
   {
    "duration": 39,
    "start_time": "2021-10-06T18:10:28.229Z"
   },
   {
    "duration": 7,
    "start_time": "2021-10-06T18:10:28.271Z"
   },
   {
    "duration": 5,
    "start_time": "2021-10-06T18:10:28.280Z"
   },
   {
    "duration": 8,
    "start_time": "2021-10-06T18:10:28.287Z"
   },
   {
    "duration": 7,
    "start_time": "2021-10-06T18:10:28.297Z"
   },
   {
    "duration": 9,
    "start_time": "2021-10-06T18:10:28.306Z"
   },
   {
    "duration": 53,
    "start_time": "2021-10-06T18:10:28.317Z"
   },
   {
    "duration": 14,
    "start_time": "2021-10-06T18:10:28.372Z"
   },
   {
    "duration": 4,
    "start_time": "2021-10-06T18:10:28.388Z"
   },
   {
    "duration": 12,
    "start_time": "2021-10-06T18:10:28.394Z"
   },
   {
    "duration": 10,
    "start_time": "2021-10-06T18:10:28.409Z"
   },
   {
    "duration": 7,
    "start_time": "2021-10-06T18:10:28.421Z"
   },
   {
    "duration": 4,
    "start_time": "2021-10-06T18:10:28.468Z"
   },
   {
    "duration": 410,
    "start_time": "2021-10-06T18:10:28.475Z"
   },
   {
    "duration": 3,
    "start_time": "2021-10-06T18:10:28.890Z"
   },
   {
    "duration": 401,
    "start_time": "2021-10-06T18:10:28.896Z"
   },
   {
    "duration": 4,
    "start_time": "2021-10-06T18:10:29.299Z"
   },
   {
    "duration": 406,
    "start_time": "2021-10-06T18:10:29.306Z"
   },
   {
    "duration": 5,
    "start_time": "2021-10-06T18:10:29.714Z"
   },
   {
    "duration": 406,
    "start_time": "2021-10-06T18:10:29.721Z"
   },
   {
    "duration": 488,
    "start_time": "2021-10-06T18:10:30.131Z"
   },
   {
    "duration": 4,
    "start_time": "2021-10-06T18:10:30.622Z"
   },
   {
    "duration": 20,
    "start_time": "2021-10-06T18:10:30.628Z"
   },
   {
    "duration": 16,
    "start_time": "2021-10-06T18:10:30.651Z"
   },
   {
    "duration": 14,
    "start_time": "2021-10-06T18:10:30.669Z"
   },
   {
    "duration": 396,
    "start_time": "2021-10-06T18:10:30.685Z"
   },
   {
    "duration": 4,
    "start_time": "2021-10-06T18:10:31.083Z"
   },
   {
    "duration": 6,
    "start_time": "2021-10-06T18:11:21.341Z"
   },
   {
    "duration": 5,
    "start_time": "2021-10-06T18:11:37.847Z"
   },
   {
    "duration": 1567,
    "start_time": "2021-10-06T18:13:36.553Z"
   },
   {
    "duration": 8,
    "start_time": "2021-10-06T18:13:38.122Z"
   },
   {
    "duration": 921,
    "start_time": "2021-10-06T18:13:38.133Z"
   },
   {
    "duration": 1569,
    "start_time": "2021-10-06T18:13:39.056Z"
   },
   {
    "duration": 11,
    "start_time": "2021-10-06T18:13:40.627Z"
   },
   {
    "duration": 27,
    "start_time": "2021-10-06T18:13:40.641Z"
   },
   {
    "duration": 6,
    "start_time": "2021-10-06T18:13:40.671Z"
   },
   {
    "duration": 3,
    "start_time": "2021-10-06T18:13:40.681Z"
   },
   {
    "duration": 5,
    "start_time": "2021-10-06T18:13:40.687Z"
   },
   {
    "duration": 7,
    "start_time": "2021-10-06T18:13:40.695Z"
   },
   {
    "duration": 7,
    "start_time": "2021-10-06T18:13:40.705Z"
   },
   {
    "duration": 8,
    "start_time": "2021-10-06T18:13:40.715Z"
   },
   {
    "duration": 45,
    "start_time": "2021-10-06T18:13:40.725Z"
   },
   {
    "duration": 14,
    "start_time": "2021-10-06T18:13:40.772Z"
   },
   {
    "duration": 14,
    "start_time": "2021-10-06T18:13:40.788Z"
   },
   {
    "duration": 14,
    "start_time": "2021-10-06T18:13:40.804Z"
   },
   {
    "duration": 3,
    "start_time": "2021-10-06T18:13:40.820Z"
   },
   {
    "duration": 49,
    "start_time": "2021-10-06T18:13:40.825Z"
   },
   {
    "duration": 11,
    "start_time": "2021-10-06T18:13:40.876Z"
   },
   {
    "duration": 6,
    "start_time": "2021-10-06T18:13:40.889Z"
   },
   {
    "duration": 6,
    "start_time": "2021-10-06T18:13:40.897Z"
   },
   {
    "duration": 422,
    "start_time": "2021-10-06T18:13:40.905Z"
   },
   {
    "duration": 4,
    "start_time": "2021-10-06T18:13:41.331Z"
   },
   {
    "duration": 395,
    "start_time": "2021-10-06T18:13:41.337Z"
   },
   {
    "duration": 4,
    "start_time": "2021-10-06T18:13:41.734Z"
   },
   {
    "duration": 408,
    "start_time": "2021-10-06T18:13:41.740Z"
   },
   {
    "duration": 5,
    "start_time": "2021-10-06T18:13:42.150Z"
   },
   {
    "duration": 410,
    "start_time": "2021-10-06T18:13:42.157Z"
   },
   {
    "duration": 471,
    "start_time": "2021-10-06T18:13:42.570Z"
   },
   {
    "duration": 4,
    "start_time": "2021-10-06T18:13:43.043Z"
   },
   {
    "duration": 20,
    "start_time": "2021-10-06T18:13:43.049Z"
   },
   {
    "duration": 6,
    "start_time": "2021-10-06T18:13:43.071Z"
   },
   {
    "duration": 6,
    "start_time": "2021-10-06T18:13:43.080Z"
   },
   {
    "duration": 10,
    "start_time": "2021-10-06T18:13:43.089Z"
   },
   {
    "duration": 411,
    "start_time": "2021-10-06T18:13:43.101Z"
   },
   {
    "duration": 3,
    "start_time": "2021-10-06T18:13:43.515Z"
   },
   {
    "duration": 102,
    "start_time": "2021-10-06T18:31:47.900Z"
   },
   {
    "duration": 5,
    "start_time": "2021-10-06T18:31:55.273Z"
   },
   {
    "duration": 3,
    "start_time": "2021-10-06T18:40:52.292Z"
   },
   {
    "duration": 22,
    "start_time": "2021-10-06T18:45:30.272Z"
   },
   {
    "duration": 5,
    "start_time": "2021-10-06T18:45:48.522Z"
   },
   {
    "duration": 33,
    "start_time": "2021-10-06T18:47:05.330Z"
   },
   {
    "duration": 4,
    "start_time": "2021-10-06T18:47:50.565Z"
   },
   {
    "duration": 434,
    "start_time": "2021-10-06T18:52:15.207Z"
   },
   {
    "duration": 4,
    "start_time": "2021-10-06T18:53:56.085Z"
   },
   {
    "duration": 98,
    "start_time": "2021-10-06T18:56:26.333Z"
   },
   {
    "duration": 129,
    "start_time": "2021-10-06T18:56:43.401Z"
   },
   {
    "duration": 309,
    "start_time": "2021-10-06T18:56:52.250Z"
   },
   {
    "duration": 1535,
    "start_time": "2021-10-06T18:57:03.621Z"
   },
   {
    "duration": 8,
    "start_time": "2021-10-06T18:57:05.159Z"
   },
   {
    "duration": 929,
    "start_time": "2021-10-06T18:57:05.170Z"
   },
   {
    "duration": 2004,
    "start_time": "2021-10-06T18:57:06.102Z"
   },
   {
    "duration": 11,
    "start_time": "2021-10-06T18:57:08.109Z"
   },
   {
    "duration": 6,
    "start_time": "2021-10-06T18:57:08.123Z"
   },
   {
    "duration": 37,
    "start_time": "2021-10-06T18:57:08.132Z"
   },
   {
    "duration": 4,
    "start_time": "2021-10-06T18:57:08.175Z"
   },
   {
    "duration": 9,
    "start_time": "2021-10-06T18:57:08.182Z"
   },
   {
    "duration": 7,
    "start_time": "2021-10-06T18:57:08.193Z"
   },
   {
    "duration": 9,
    "start_time": "2021-10-06T18:57:08.203Z"
   },
   {
    "duration": 7,
    "start_time": "2021-10-06T18:57:08.215Z"
   },
   {
    "duration": 45,
    "start_time": "2021-10-06T18:57:08.225Z"
   },
   {
    "duration": 20,
    "start_time": "2021-10-06T18:57:08.272Z"
   },
   {
    "duration": 17,
    "start_time": "2021-10-06T18:57:08.294Z"
   },
   {
    "duration": 14,
    "start_time": "2021-10-06T18:57:08.314Z"
   },
   {
    "duration": 4,
    "start_time": "2021-10-06T18:57:08.330Z"
   },
   {
    "duration": 30,
    "start_time": "2021-10-06T18:57:08.337Z"
   },
   {
    "duration": 15,
    "start_time": "2021-10-06T18:57:08.370Z"
   },
   {
    "duration": 10,
    "start_time": "2021-10-06T18:57:08.389Z"
   },
   {
    "duration": 6,
    "start_time": "2021-10-06T18:57:08.401Z"
   },
   {
    "duration": 9,
    "start_time": "2021-10-06T18:57:08.409Z"
   },
   {
    "duration": 430,
    "start_time": "2021-10-06T18:57:08.424Z"
   },
   {
    "duration": 12,
    "start_time": "2021-10-06T18:57:08.857Z"
   },
   {
    "duration": 389,
    "start_time": "2021-10-06T18:57:08.872Z"
   },
   {
    "duration": 5,
    "start_time": "2021-10-06T18:57:09.267Z"
   },
   {
    "duration": 411,
    "start_time": "2021-10-06T18:57:09.274Z"
   },
   {
    "duration": 5,
    "start_time": "2021-10-06T18:57:09.688Z"
   },
   {
    "duration": 476,
    "start_time": "2021-10-06T18:57:09.695Z"
   },
   {
    "duration": 411,
    "start_time": "2021-10-06T18:57:10.174Z"
   },
   {
    "duration": 3,
    "start_time": "2021-10-06T18:57:10.588Z"
   },
   {
    "duration": 8,
    "start_time": "2021-10-06T18:57:10.593Z"
   },
   {
    "duration": 6,
    "start_time": "2021-10-06T18:57:10.603Z"
   },
   {
    "duration": 7,
    "start_time": "2021-10-06T18:57:10.611Z"
   },
   {
    "duration": 49,
    "start_time": "2021-10-06T18:57:10.620Z"
   },
   {
    "duration": 407,
    "start_time": "2021-10-06T18:57:10.672Z"
   },
   {
    "duration": 3,
    "start_time": "2021-10-06T18:57:11.082Z"
   },
   {
    "duration": 7,
    "start_time": "2021-10-06T18:57:11.088Z"
   },
   {
    "duration": 7,
    "start_time": "2021-10-06T18:57:11.097Z"
   },
   {
    "duration": 7,
    "start_time": "2021-10-06T18:57:11.106Z"
   },
   {
    "duration": 15,
    "start_time": "2021-10-06T18:57:11.115Z"
   },
   {
    "duration": 586,
    "start_time": "2021-10-06T18:57:11.132Z"
   },
   {
    "duration": -171,
    "start_time": "2021-10-06T18:57:11.891Z"
   },
   {
    "duration": -174,
    "start_time": "2021-10-06T18:57:11.896Z"
   },
   {
    "duration": 14,
    "start_time": "2021-10-06T18:58:04.706Z"
   },
   {
    "duration": 404,
    "start_time": "2021-10-06T18:58:30.565Z"
   },
   {
    "duration": 330,
    "start_time": "2021-10-06T18:59:02.391Z"
   },
   {
    "duration": 1525,
    "start_time": "2021-10-06T18:59:10.644Z"
   },
   {
    "duration": 7,
    "start_time": "2021-10-06T18:59:12.172Z"
   },
   {
    "duration": 927,
    "start_time": "2021-10-06T18:59:12.182Z"
   },
   {
    "duration": 1640,
    "start_time": "2021-10-06T18:59:13.112Z"
   },
   {
    "duration": 15,
    "start_time": "2021-10-06T18:59:14.767Z"
   },
   {
    "duration": 6,
    "start_time": "2021-10-06T18:59:14.784Z"
   },
   {
    "duration": 8,
    "start_time": "2021-10-06T18:59:14.793Z"
   },
   {
    "duration": 3,
    "start_time": "2021-10-06T18:59:14.807Z"
   },
   {
    "duration": 53,
    "start_time": "2021-10-06T18:59:14.814Z"
   },
   {
    "duration": 7,
    "start_time": "2021-10-06T18:59:14.870Z"
   },
   {
    "duration": 7,
    "start_time": "2021-10-06T18:59:14.880Z"
   },
   {
    "duration": 11,
    "start_time": "2021-10-06T18:59:14.889Z"
   },
   {
    "duration": 4,
    "start_time": "2021-10-06T18:59:14.902Z"
   },
   {
    "duration": 10,
    "start_time": "2021-10-06T18:59:14.909Z"
   },
   {
    "duration": 51,
    "start_time": "2021-10-06T18:59:14.921Z"
   },
   {
    "duration": 14,
    "start_time": "2021-10-06T18:59:14.975Z"
   },
   {
    "duration": 3,
    "start_time": "2021-10-06T18:59:14.991Z"
   },
   {
    "duration": 13,
    "start_time": "2021-10-06T18:59:14.996Z"
   },
   {
    "duration": 25,
    "start_time": "2021-10-06T18:59:15.012Z"
   },
   {
    "duration": 14,
    "start_time": "2021-10-06T18:59:15.039Z"
   },
   {
    "duration": 12,
    "start_time": "2021-10-06T18:59:15.055Z"
   },
   {
    "duration": 4,
    "start_time": "2021-10-06T18:59:15.069Z"
   },
   {
    "duration": 425,
    "start_time": "2021-10-06T18:59:15.079Z"
   },
   {
    "duration": 4,
    "start_time": "2021-10-06T18:59:15.507Z"
   },
   {
    "duration": 398,
    "start_time": "2021-10-06T18:59:15.513Z"
   },
   {
    "duration": 4,
    "start_time": "2021-10-06T18:59:15.913Z"
   },
   {
    "duration": 407,
    "start_time": "2021-10-06T18:59:15.919Z"
   },
   {
    "duration": 5,
    "start_time": "2021-10-06T18:59:16.328Z"
   },
   {
    "duration": 469,
    "start_time": "2021-10-06T18:59:16.335Z"
   },
   {
    "duration": 401,
    "start_time": "2021-10-06T18:59:16.806Z"
   },
   {
    "duration": 3,
    "start_time": "2021-10-06T18:59:17.210Z"
   },
   {
    "duration": 9,
    "start_time": "2021-10-06T18:59:17.216Z"
   },
   {
    "duration": 8,
    "start_time": "2021-10-06T18:59:17.227Z"
   },
   {
    "duration": 31,
    "start_time": "2021-10-06T18:59:17.238Z"
   },
   {
    "duration": 10,
    "start_time": "2021-10-06T18:59:17.271Z"
   },
   {
    "duration": 406,
    "start_time": "2021-10-06T18:59:17.284Z"
   },
   {
    "duration": 3,
    "start_time": "2021-10-06T18:59:17.693Z"
   },
   {
    "duration": 8,
    "start_time": "2021-10-06T18:59:17.698Z"
   },
   {
    "duration": 6,
    "start_time": "2021-10-06T18:59:17.709Z"
   },
   {
    "duration": 10,
    "start_time": "2021-10-06T18:59:17.717Z"
   },
   {
    "duration": 41,
    "start_time": "2021-10-06T18:59:17.729Z"
   },
   {
    "duration": 15,
    "start_time": "2021-10-06T18:59:17.772Z"
   },
   {
    "duration": 585,
    "start_time": "2021-10-06T18:59:17.789Z"
   },
   {
    "duration": -167,
    "start_time": "2021-10-06T18:59:18.543Z"
   },
   {
    "duration": -172,
    "start_time": "2021-10-06T18:59:18.549Z"
   },
   {
    "duration": 8,
    "start_time": "2021-10-06T19:00:50.055Z"
   },
   {
    "duration": 1477,
    "start_time": "2021-10-06T19:02:14.693Z"
   },
   {
    "duration": 8,
    "start_time": "2021-10-06T19:02:16.172Z"
   },
   {
    "duration": 1285,
    "start_time": "2021-10-06T19:02:16.183Z"
   },
   {
    "duration": 1626,
    "start_time": "2021-10-06T19:02:17.470Z"
   },
   {
    "duration": 11,
    "start_time": "2021-10-06T19:02:19.098Z"
   },
   {
    "duration": 5,
    "start_time": "2021-10-06T19:02:19.111Z"
   },
   {
    "duration": 11,
    "start_time": "2021-10-06T19:02:19.119Z"
   },
   {
    "duration": 34,
    "start_time": "2021-10-06T19:02:19.133Z"
   },
   {
    "duration": 8,
    "start_time": "2021-10-06T19:02:19.172Z"
   },
   {
    "duration": 9,
    "start_time": "2021-10-06T19:02:19.184Z"
   },
   {
    "duration": 8,
    "start_time": "2021-10-06T19:02:19.196Z"
   },
   {
    "duration": 18,
    "start_time": "2021-10-06T19:02:19.207Z"
   },
   {
    "duration": 40,
    "start_time": "2021-10-06T19:02:19.227Z"
   },
   {
    "duration": 11,
    "start_time": "2021-10-06T19:02:19.270Z"
   },
   {
    "duration": 14,
    "start_time": "2021-10-06T19:02:19.283Z"
   },
   {
    "duration": 20,
    "start_time": "2021-10-06T19:02:19.300Z"
   },
   {
    "duration": 4,
    "start_time": "2021-10-06T19:02:19.322Z"
   },
   {
    "duration": 14,
    "start_time": "2021-10-06T19:02:19.328Z"
   },
   {
    "duration": 9,
    "start_time": "2021-10-06T19:02:19.368Z"
   },
   {
    "duration": 15,
    "start_time": "2021-10-06T19:02:19.380Z"
   },
   {
    "duration": 10,
    "start_time": "2021-10-06T19:02:19.398Z"
   },
   {
    "duration": 9,
    "start_time": "2021-10-06T19:02:19.411Z"
   },
   {
    "duration": 4,
    "start_time": "2021-10-06T19:02:19.426Z"
   },
   {
    "duration": 34,
    "start_time": "2021-10-06T19:02:19.433Z"
   },
   {
    "duration": 405,
    "start_time": "2021-10-06T19:02:19.470Z"
   },
   {
    "duration": 4,
    "start_time": "2021-10-06T19:02:19.877Z"
   },
   {
    "duration": 399,
    "start_time": "2021-10-06T19:02:19.883Z"
   },
   {
    "duration": 3,
    "start_time": "2021-10-06T19:02:20.285Z"
   },
   {
    "duration": 402,
    "start_time": "2021-10-06T19:02:20.291Z"
   },
   {
    "duration": 4,
    "start_time": "2021-10-06T19:02:20.695Z"
   },
   {
    "duration": 467,
    "start_time": "2021-10-06T19:02:20.702Z"
   },
   {
    "duration": 402,
    "start_time": "2021-10-06T19:02:21.172Z"
   },
   {
    "duration": 3,
    "start_time": "2021-10-06T19:02:21.576Z"
   },
   {
    "duration": 12,
    "start_time": "2021-10-06T19:02:21.581Z"
   },
   {
    "duration": 11,
    "start_time": "2021-10-06T19:02:21.596Z"
   },
   {
    "duration": 8,
    "start_time": "2021-10-06T19:02:21.610Z"
   },
   {
    "duration": 15,
    "start_time": "2021-10-06T19:02:21.620Z"
   },
   {
    "duration": 406,
    "start_time": "2021-10-06T19:02:21.637Z"
   },
   {
    "duration": 3,
    "start_time": "2021-10-06T19:02:22.046Z"
   },
   {
    "duration": 17,
    "start_time": "2021-10-06T19:02:22.051Z"
   },
   {
    "duration": 15,
    "start_time": "2021-10-06T19:02:22.071Z"
   },
   {
    "duration": 16,
    "start_time": "2021-10-06T19:02:22.088Z"
   },
   {
    "duration": 20,
    "start_time": "2021-10-06T19:02:22.106Z"
   },
   {
    "duration": 15,
    "start_time": "2021-10-06T19:02:22.130Z"
   },
   {
    "duration": 483,
    "start_time": "2021-10-06T19:02:22.148Z"
   },
   {
    "duration": -158,
    "start_time": "2021-10-06T19:02:22.792Z"
   },
   {
    "duration": -161,
    "start_time": "2021-10-06T19:02:22.797Z"
   },
   {
    "duration": 291,
    "start_time": "2021-10-06T19:08:59.533Z"
   },
   {
    "duration": 4,
    "start_time": "2021-10-06T19:09:41.088Z"
   },
   {
    "duration": 5,
    "start_time": "2021-10-06T19:09:52.098Z"
   },
   {
    "duration": 6,
    "start_time": "2021-10-06T19:10:28.713Z"
   },
   {
    "duration": 4974,
    "start_time": "2021-10-06T19:11:17.446Z"
   },
   {
    "duration": 5,
    "start_time": "2021-10-06T19:12:36.564Z"
   },
   {
    "duration": 4,
    "start_time": "2021-10-06T19:12:38.294Z"
   },
   {
    "duration": 3,
    "start_time": "2021-10-06T19:12:38.841Z"
   },
   {
    "duration": 310,
    "start_time": "2021-10-06T19:12:39.411Z"
   },
   {
    "duration": 284,
    "start_time": "2021-10-06T19:12:39.856Z"
   },
   {
    "duration": 5,
    "start_time": "2021-10-06T19:12:40.206Z"
   },
   {
    "duration": 1598,
    "start_time": "2021-10-06T19:12:48.063Z"
   },
   {
    "duration": 11,
    "start_time": "2021-10-06T19:12:49.664Z"
   },
   {
    "duration": 932,
    "start_time": "2021-10-06T19:12:49.678Z"
   },
   {
    "duration": 1630,
    "start_time": "2021-10-06T19:12:50.613Z"
   },
   {
    "duration": 30,
    "start_time": "2021-10-06T19:12:52.245Z"
   },
   {
    "duration": 5,
    "start_time": "2021-10-06T19:12:52.277Z"
   },
   {
    "duration": 10,
    "start_time": "2021-10-06T19:12:52.285Z"
   },
   {
    "duration": 9,
    "start_time": "2021-10-06T19:12:52.299Z"
   },
   {
    "duration": 6,
    "start_time": "2021-10-06T19:12:52.311Z"
   },
   {
    "duration": 15,
    "start_time": "2021-10-06T19:12:52.319Z"
   },
   {
    "duration": 32,
    "start_time": "2021-10-06T19:12:52.337Z"
   },
   {
    "duration": 9,
    "start_time": "2021-10-06T19:12:52.372Z"
   },
   {
    "duration": 8,
    "start_time": "2021-10-06T19:12:52.384Z"
   },
   {
    "duration": 10,
    "start_time": "2021-10-06T19:12:52.394Z"
   },
   {
    "duration": 14,
    "start_time": "2021-10-06T19:12:52.406Z"
   },
   {
    "duration": 54,
    "start_time": "2021-10-06T19:12:52.422Z"
   },
   {
    "duration": 4,
    "start_time": "2021-10-06T19:12:52.479Z"
   },
   {
    "duration": 9,
    "start_time": "2021-10-06T19:12:52.485Z"
   },
   {
    "duration": 14,
    "start_time": "2021-10-06T19:12:52.497Z"
   },
   {
    "duration": 15,
    "start_time": "2021-10-06T19:12:52.514Z"
   },
   {
    "duration": 35,
    "start_time": "2021-10-06T19:12:52.532Z"
   },
   {
    "duration": 9,
    "start_time": "2021-10-06T19:12:52.570Z"
   },
   {
    "duration": 5,
    "start_time": "2021-10-06T19:12:52.585Z"
   },
   {
    "duration": 5,
    "start_time": "2021-10-06T19:12:52.594Z"
   },
   {
    "duration": 421,
    "start_time": "2021-10-06T19:12:52.601Z"
   },
   {
    "duration": 4,
    "start_time": "2021-10-06T19:12:53.024Z"
   },
   {
    "duration": 396,
    "start_time": "2021-10-06T19:12:53.030Z"
   },
   {
    "duration": 4,
    "start_time": "2021-10-06T19:12:53.428Z"
   },
   {
    "duration": 394,
    "start_time": "2021-10-06T19:12:53.434Z"
   },
   {
    "duration": 4,
    "start_time": "2021-10-06T19:12:53.831Z"
   },
   {
    "duration": 468,
    "start_time": "2021-10-06T19:12:53.839Z"
   },
   {
    "duration": 410,
    "start_time": "2021-10-06T19:12:54.310Z"
   },
   {
    "duration": 4,
    "start_time": "2021-10-06T19:12:54.723Z"
   },
   {
    "duration": 12,
    "start_time": "2021-10-06T19:12:54.731Z"
   },
   {
    "duration": 27,
    "start_time": "2021-10-06T19:12:54.745Z"
   },
   {
    "duration": 7,
    "start_time": "2021-10-06T19:12:54.775Z"
   },
   {
    "duration": 12,
    "start_time": "2021-10-06T19:12:54.785Z"
   },
   {
    "duration": 415,
    "start_time": "2021-10-06T19:12:54.800Z"
   },
   {
    "duration": 3,
    "start_time": "2021-10-06T19:12:55.218Z"
   },
   {
    "duration": 9,
    "start_time": "2021-10-06T19:12:55.224Z"
   },
   {
    "duration": 11,
    "start_time": "2021-10-06T19:12:55.236Z"
   },
   {
    "duration": 3,
    "start_time": "2021-10-06T19:12:55.267Z"
   },
   {
    "duration": 16,
    "start_time": "2021-10-06T19:12:55.272Z"
   },
   {
    "duration": 14,
    "start_time": "2021-10-06T19:12:55.291Z"
   },
   {
    "duration": 5,
    "start_time": "2021-10-06T19:12:55.307Z"
   },
   {
    "duration": 6,
    "start_time": "2021-10-06T19:12:55.315Z"
   },
   {
    "duration": 5112,
    "start_time": "2021-10-06T19:12:55.323Z"
   },
   {
    "duration": -370,
    "start_time": "2021-10-06T19:13:00.807Z"
   },
   {
    "duration": 1539,
    "start_time": "2021-10-06T20:32:16.036Z"
   },
   {
    "duration": 11,
    "start_time": "2021-10-06T20:32:17.578Z"
   },
   {
    "duration": 1039,
    "start_time": "2021-10-06T20:32:17.593Z"
   },
   {
    "duration": 1667,
    "start_time": "2021-10-06T20:32:18.636Z"
   },
   {
    "duration": 11,
    "start_time": "2021-10-06T20:32:20.305Z"
   },
   {
    "duration": 9,
    "start_time": "2021-10-06T20:32:20.318Z"
   },
   {
    "duration": 36,
    "start_time": "2021-10-06T20:32:20.330Z"
   },
   {
    "duration": 3,
    "start_time": "2021-10-06T20:32:20.370Z"
   },
   {
    "duration": 10,
    "start_time": "2021-10-06T20:32:20.376Z"
   },
   {
    "duration": 13,
    "start_time": "2021-10-06T20:32:20.388Z"
   },
   {
    "duration": 17,
    "start_time": "2021-10-06T20:32:20.403Z"
   },
   {
    "duration": 9,
    "start_time": "2021-10-06T20:32:20.422Z"
   },
   {
    "duration": 9,
    "start_time": "2021-10-06T20:32:20.433Z"
   },
   {
    "duration": 25,
    "start_time": "2021-10-06T20:32:20.444Z"
   },
   {
    "duration": 19,
    "start_time": "2021-10-06T20:32:20.471Z"
   },
   {
    "duration": 14,
    "start_time": "2021-10-06T20:32:20.492Z"
   },
   {
    "duration": 4,
    "start_time": "2021-10-06T20:32:20.508Z"
   },
   {
    "duration": 11,
    "start_time": "2021-10-06T20:32:20.514Z"
   },
   {
    "duration": 42,
    "start_time": "2021-10-06T20:32:20.528Z"
   },
   {
    "duration": 13,
    "start_time": "2021-10-06T20:32:20.573Z"
   },
   {
    "duration": 17,
    "start_time": "2021-10-06T20:32:20.588Z"
   },
   {
    "duration": 12,
    "start_time": "2021-10-06T20:32:20.608Z"
   },
   {
    "duration": 5,
    "start_time": "2021-10-06T20:32:20.625Z"
   },
   {
    "duration": 8,
    "start_time": "2021-10-06T20:32:20.633Z"
   },
   {
    "duration": 428,
    "start_time": "2021-10-06T20:32:20.643Z"
   },
   {
    "duration": 4,
    "start_time": "2021-10-06T20:32:21.073Z"
   },
   {
    "duration": 403,
    "start_time": "2021-10-06T20:32:21.080Z"
   },
   {
    "duration": 4,
    "start_time": "2021-10-06T20:32:21.486Z"
   },
   {
    "duration": 421,
    "start_time": "2021-10-06T20:32:21.493Z"
   },
   {
    "duration": 4,
    "start_time": "2021-10-06T20:32:21.917Z"
   },
   {
    "duration": 482,
    "start_time": "2021-10-06T20:32:21.924Z"
   },
   {
    "duration": 425,
    "start_time": "2021-10-06T20:32:22.408Z"
   },
   {
    "duration": 3,
    "start_time": "2021-10-06T20:32:22.835Z"
   },
   {
    "duration": 15,
    "start_time": "2021-10-06T20:32:22.840Z"
   },
   {
    "duration": 16,
    "start_time": "2021-10-06T20:32:22.857Z"
   },
   {
    "duration": 13,
    "start_time": "2021-10-06T20:32:22.876Z"
   },
   {
    "duration": 14,
    "start_time": "2021-10-06T20:32:22.891Z"
   },
   {
    "duration": 410,
    "start_time": "2021-10-06T20:32:22.907Z"
   },
   {
    "duration": 4,
    "start_time": "2021-10-06T20:32:23.319Z"
   },
   {
    "duration": 19,
    "start_time": "2021-10-06T20:32:23.325Z"
   },
   {
    "duration": 25,
    "start_time": "2021-10-06T20:32:23.347Z"
   },
   {
    "duration": 9,
    "start_time": "2021-10-06T20:32:23.374Z"
   },
   {
    "duration": 17,
    "start_time": "2021-10-06T20:32:23.385Z"
   },
   {
    "duration": 13,
    "start_time": "2021-10-06T20:32:23.405Z"
   },
   {
    "duration": 13,
    "start_time": "2021-10-06T20:32:23.420Z"
   },
   {
    "duration": 20,
    "start_time": "2021-10-06T20:32:23.435Z"
   },
   {
    "duration": 5783,
    "start_time": "2021-10-06T20:32:23.457Z"
   },
   {
    "duration": -721,
    "start_time": "2021-10-06T20:32:29.964Z"
   },
   {
    "duration": 12,
    "start_time": "2021-10-06T20:32:48.508Z"
   },
   {
    "duration": 311,
    "start_time": "2021-10-06T20:33:02.436Z"
   },
   {
    "duration": 284,
    "start_time": "2021-10-06T20:33:05.545Z"
   },
   {
    "duration": 8,
    "start_time": "2021-10-06T20:34:28.689Z"
   },
   {
    "duration": 5,
    "start_time": "2021-10-06T20:34:37.424Z"
   },
   {
    "duration": 5,
    "start_time": "2021-10-06T20:34:52.139Z"
   },
   {
    "duration": 275,
    "start_time": "2021-10-06T20:35:18.692Z"
   },
   {
    "duration": 10,
    "start_time": "2021-10-06T20:35:30.750Z"
   },
   {
    "duration": 9,
    "start_time": "2021-10-06T20:35:43.438Z"
   },
   {
    "duration": 278,
    "start_time": "2021-10-06T20:35:57.240Z"
   },
   {
    "duration": 10,
    "start_time": "2021-10-06T20:36:36.703Z"
   },
   {
    "duration": 260,
    "start_time": "2021-10-06T20:36:42.355Z"
   },
   {
    "duration": 20,
    "start_time": "2021-10-06T20:37:24.757Z"
   },
   {
    "duration": 368,
    "start_time": "2021-10-06T20:37:29.121Z"
   },
   {
    "duration": 11,
    "start_time": "2021-10-06T20:37:32.133Z"
   },
   {
    "duration": 9,
    "start_time": "2021-10-06T20:37:53.479Z"
   },
   {
    "duration": 1660,
    "start_time": "2021-10-06T20:38:09.395Z"
   },
   {
    "duration": 12,
    "start_time": "2021-10-06T20:38:11.062Z"
   },
   {
    "duration": 969,
    "start_time": "2021-10-06T20:38:11.077Z"
   },
   {
    "duration": 1627,
    "start_time": "2021-10-06T20:38:12.049Z"
   },
   {
    "duration": 12,
    "start_time": "2021-10-06T20:38:13.678Z"
   },
   {
    "duration": 5,
    "start_time": "2021-10-06T20:38:13.692Z"
   },
   {
    "duration": 8,
    "start_time": "2021-10-06T20:38:13.700Z"
   },
   {
    "duration": 4,
    "start_time": "2021-10-06T20:38:13.712Z"
   },
   {
    "duration": 48,
    "start_time": "2021-10-06T20:38:13.719Z"
   },
   {
    "duration": 5,
    "start_time": "2021-10-06T20:38:13.769Z"
   },
   {
    "duration": 7,
    "start_time": "2021-10-06T20:38:13.777Z"
   },
   {
    "duration": 11,
    "start_time": "2021-10-06T20:38:13.787Z"
   },
   {
    "duration": 7,
    "start_time": "2021-10-06T20:38:13.801Z"
   },
   {
    "duration": 14,
    "start_time": "2021-10-06T20:38:13.811Z"
   },
   {
    "duration": 44,
    "start_time": "2021-10-06T20:38:13.829Z"
   },
   {
    "duration": 16,
    "start_time": "2021-10-06T20:38:13.876Z"
   },
   {
    "duration": 4,
    "start_time": "2021-10-06T20:38:13.895Z"
   },
   {
    "duration": 10,
    "start_time": "2021-10-06T20:38:13.902Z"
   },
   {
    "duration": 53,
    "start_time": "2021-10-06T20:38:13.915Z"
   },
   {
    "duration": 13,
    "start_time": "2021-10-06T20:38:13.971Z"
   },
   {
    "duration": 13,
    "start_time": "2021-10-06T20:38:13.986Z"
   },
   {
    "duration": 12,
    "start_time": "2021-10-06T20:38:14.002Z"
   },
   {
    "duration": 7,
    "start_time": "2021-10-06T20:38:14.016Z"
   },
   {
    "duration": 9,
    "start_time": "2021-10-06T20:38:14.026Z"
   },
   {
    "duration": 448,
    "start_time": "2021-10-06T20:38:14.038Z"
   },
   {
    "duration": 4,
    "start_time": "2021-10-06T20:38:14.492Z"
   },
   {
    "duration": 402,
    "start_time": "2021-10-06T20:38:14.500Z"
   },
   {
    "duration": 4,
    "start_time": "2021-10-06T20:38:14.905Z"
   },
   {
    "duration": 593,
    "start_time": "2021-10-06T20:38:14.911Z"
   },
   {
    "duration": 11,
    "start_time": "2021-10-06T20:38:15.507Z"
   },
   {
    "duration": 396,
    "start_time": "2021-10-06T20:38:15.521Z"
   },
   {
    "duration": 427,
    "start_time": "2021-10-06T20:38:15.920Z"
   },
   {
    "duration": 3,
    "start_time": "2021-10-06T20:38:16.350Z"
   },
   {
    "duration": 10,
    "start_time": "2021-10-06T20:38:16.368Z"
   },
   {
    "duration": 13,
    "start_time": "2021-10-06T20:38:16.381Z"
   },
   {
    "duration": 11,
    "start_time": "2021-10-06T20:38:16.397Z"
   },
   {
    "duration": 17,
    "start_time": "2021-10-06T20:38:16.411Z"
   },
   {
    "duration": 451,
    "start_time": "2021-10-06T20:38:16.430Z"
   },
   {
    "duration": -718,
    "start_time": "2021-10-06T20:38:17.601Z"
   },
   {
    "duration": -718,
    "start_time": "2021-10-06T20:38:17.603Z"
   },
   {
    "duration": -719,
    "start_time": "2021-10-06T20:38:17.605Z"
   },
   {
    "duration": -723,
    "start_time": "2021-10-06T20:38:17.611Z"
   },
   {
    "duration": -724,
    "start_time": "2021-10-06T20:38:17.613Z"
   },
   {
    "duration": -725,
    "start_time": "2021-10-06T20:38:17.615Z"
   },
   {
    "duration": -725,
    "start_time": "2021-10-06T20:38:17.617Z"
   },
   {
    "duration": -726,
    "start_time": "2021-10-06T20:38:17.619Z"
   },
   {
    "duration": -728,
    "start_time": "2021-10-06T20:38:17.622Z"
   },
   {
    "duration": -728,
    "start_time": "2021-10-06T20:38:17.624Z"
   },
   {
    "duration": -732,
    "start_time": "2021-10-06T20:38:17.629Z"
   },
   {
    "duration": -733,
    "start_time": "2021-10-06T20:38:17.631Z"
   },
   {
    "duration": -733,
    "start_time": "2021-10-06T20:38:17.633Z"
   },
   {
    "duration": -734,
    "start_time": "2021-10-06T20:38:17.635Z"
   },
   {
    "duration": -735,
    "start_time": "2021-10-06T20:38:17.637Z"
   },
   {
    "duration": -735,
    "start_time": "2021-10-06T20:38:17.639Z"
   },
   {
    "duration": 7,
    "start_time": "2021-10-06T20:41:09.078Z"
   },
   {
    "duration": 6,
    "start_time": "2021-10-06T20:41:16.262Z"
   },
   {
    "duration": 246,
    "start_time": "2021-10-06T20:41:39.799Z"
   },
   {
    "duration": 7,
    "start_time": "2021-10-06T20:41:47.407Z"
   },
   {
    "duration": 8,
    "start_time": "2021-10-06T20:42:06.894Z"
   },
   {
    "duration": 243,
    "start_time": "2021-10-06T20:42:16.524Z"
   },
   {
    "duration": 239,
    "start_time": "2021-10-06T20:42:29.645Z"
   },
   {
    "duration": 500,
    "start_time": "2021-10-06T20:43:10.146Z"
   },
   {
    "duration": 11,
    "start_time": "2021-10-06T20:43:35.033Z"
   },
   {
    "duration": 1584,
    "start_time": "2021-10-06T20:44:00.109Z"
   },
   {
    "duration": 8,
    "start_time": "2021-10-06T20:44:01.696Z"
   },
   {
    "duration": 945,
    "start_time": "2021-10-06T20:44:01.710Z"
   },
   {
    "duration": 1711,
    "start_time": "2021-10-06T20:44:02.658Z"
   },
   {
    "duration": 21,
    "start_time": "2021-10-06T20:44:04.372Z"
   },
   {
    "duration": 5,
    "start_time": "2021-10-06T20:44:04.396Z"
   },
   {
    "duration": 8,
    "start_time": "2021-10-06T20:44:04.404Z"
   },
   {
    "duration": 4,
    "start_time": "2021-10-06T20:44:04.416Z"
   },
   {
    "duration": 5,
    "start_time": "2021-10-06T20:44:04.424Z"
   },
   {
    "duration": 5,
    "start_time": "2021-10-06T20:44:04.468Z"
   },
   {
    "duration": 7,
    "start_time": "2021-10-06T20:44:04.475Z"
   },
   {
    "duration": 9,
    "start_time": "2021-10-06T20:44:04.484Z"
   },
   {
    "duration": 7,
    "start_time": "2021-10-06T20:44:04.495Z"
   },
   {
    "duration": 13,
    "start_time": "2021-10-06T20:44:04.504Z"
   },
   {
    "duration": 55,
    "start_time": "2021-10-06T20:44:04.519Z"
   },
   {
    "duration": 15,
    "start_time": "2021-10-06T20:44:04.576Z"
   },
   {
    "duration": 4,
    "start_time": "2021-10-06T20:44:04.593Z"
   },
   {
    "duration": 14,
    "start_time": "2021-10-06T20:44:04.600Z"
   },
   {
    "duration": 13,
    "start_time": "2021-10-06T20:44:04.617Z"
   },
   {
    "duration": 37,
    "start_time": "2021-10-06T20:44:04.632Z"
   },
   {
    "duration": 14,
    "start_time": "2021-10-06T20:44:04.672Z"
   },
   {
    "duration": 11,
    "start_time": "2021-10-06T20:44:04.689Z"
   },
   {
    "duration": 7,
    "start_time": "2021-10-06T20:44:04.702Z"
   },
   {
    "duration": 5,
    "start_time": "2021-10-06T20:44:04.712Z"
   },
   {
    "duration": 440,
    "start_time": "2021-10-06T20:44:04.720Z"
   },
   {
    "duration": 4,
    "start_time": "2021-10-06T20:44:05.171Z"
   },
   {
    "duration": 407,
    "start_time": "2021-10-06T20:44:05.180Z"
   },
   {
    "duration": 5,
    "start_time": "2021-10-06T20:44:05.590Z"
   },
   {
    "duration": 502,
    "start_time": "2021-10-06T20:44:05.598Z"
   },
   {
    "duration": 5,
    "start_time": "2021-10-06T20:44:06.103Z"
   },
   {
    "duration": 407,
    "start_time": "2021-10-06T20:44:06.110Z"
   },
   {
    "duration": 713,
    "start_time": "2021-10-06T20:44:06.519Z"
   },
   {
    "duration": 4,
    "start_time": "2021-10-06T20:44:07.235Z"
   },
   {
    "duration": 28,
    "start_time": "2021-10-06T20:44:07.242Z"
   },
   {
    "duration": 12,
    "start_time": "2021-10-06T20:44:07.272Z"
   },
   {
    "duration": 7,
    "start_time": "2021-10-06T20:44:07.287Z"
   },
   {
    "duration": 13,
    "start_time": "2021-10-06T20:44:07.297Z"
   },
   {
    "duration": 754,
    "start_time": "2021-10-06T20:44:07.313Z"
   },
   {
    "duration": -716,
    "start_time": "2021-10-06T20:44:08.785Z"
   },
   {
    "duration": -716,
    "start_time": "2021-10-06T20:44:08.787Z"
   },
   {
    "duration": -717,
    "start_time": "2021-10-06T20:44:08.789Z"
   },
   {
    "duration": -719,
    "start_time": "2021-10-06T20:44:08.792Z"
   },
   {
    "duration": -720,
    "start_time": "2021-10-06T20:44:08.795Z"
   },
   {
    "duration": -724,
    "start_time": "2021-10-06T20:44:08.800Z"
   },
   {
    "duration": -724,
    "start_time": "2021-10-06T20:44:08.802Z"
   },
   {
    "duration": -725,
    "start_time": "2021-10-06T20:44:08.804Z"
   },
   {
    "duration": -726,
    "start_time": "2021-10-06T20:44:08.806Z"
   },
   {
    "duration": -726,
    "start_time": "2021-10-06T20:44:08.808Z"
   },
   {
    "duration": -727,
    "start_time": "2021-10-06T20:44:08.810Z"
   },
   {
    "duration": -730,
    "start_time": "2021-10-06T20:44:08.815Z"
   },
   {
    "duration": -731,
    "start_time": "2021-10-06T20:44:08.817Z"
   },
   {
    "duration": -732,
    "start_time": "2021-10-06T20:44:08.819Z"
   },
   {
    "duration": -732,
    "start_time": "2021-10-06T20:44:08.821Z"
   },
   {
    "duration": -733,
    "start_time": "2021-10-06T20:44:08.823Z"
   },
   {
    "duration": 2945,
    "start_time": "2021-10-06T20:44:51.580Z"
   },
   {
    "duration": 7,
    "start_time": "2021-10-06T20:45:08.103Z"
   },
   {
    "duration": 5386,
    "start_time": "2021-10-06T20:45:24.589Z"
   },
   {
    "duration": 5806,
    "start_time": "2021-10-06T20:45:50.295Z"
   },
   {
    "duration": 264,
    "start_time": "2021-10-06T20:46:41.270Z"
   },
   {
    "duration": 281,
    "start_time": "2021-10-06T20:46:44.948Z"
   },
   {
    "duration": 284,
    "start_time": "2021-10-06T20:46:49.101Z"
   },
   {
    "duration": 417,
    "start_time": "2021-10-06T20:46:53.944Z"
   },
   {
    "duration": 354,
    "start_time": "2021-10-06T20:46:56.556Z"
   },
   {
    "duration": 364,
    "start_time": "2021-10-06T20:47:00.152Z"
   },
   {
    "duration": 2076,
    "start_time": "2021-10-06T20:48:04.344Z"
   },
   {
    "duration": 507,
    "start_time": "2021-10-06T20:48:07.891Z"
   },
   {
    "duration": 351,
    "start_time": "2021-10-06T20:48:13.062Z"
   },
   {
    "duration": 264,
    "start_time": "2021-10-06T20:48:18.147Z"
   },
   {
    "duration": 403,
    "start_time": "2021-10-06T20:48:20.880Z"
   },
   {
    "duration": 403,
    "start_time": "2021-10-06T20:48:31.468Z"
   },
   {
    "duration": 9,
    "start_time": "2021-10-06T20:48:44.252Z"
   },
   {
    "duration": 6,
    "start_time": "2021-10-06T20:49:14.019Z"
   },
   {
    "duration": 367,
    "start_time": "2021-10-06T20:49:49.874Z"
   },
   {
    "duration": 5,
    "start_time": "2021-10-06T20:49:52.825Z"
   },
   {
    "duration": 6,
    "start_time": "2021-10-06T20:49:53.658Z"
   },
   {
    "duration": 357,
    "start_time": "2021-10-06T20:49:53.919Z"
   },
   {
    "duration": 5,
    "start_time": "2021-10-06T20:50:10.623Z"
   },
   {
    "duration": 400,
    "start_time": "2021-10-06T20:50:10.887Z"
   },
   {
    "duration": 6,
    "start_time": "2021-10-06T20:50:13.404Z"
   },
   {
    "duration": 344,
    "start_time": "2021-10-06T20:50:13.687Z"
   },
   {
    "duration": 405,
    "start_time": "2021-10-06T20:50:18.942Z"
   },
   {
    "duration": 4,
    "start_time": "2021-10-06T20:50:28.018Z"
   },
   {
    "duration": 484,
    "start_time": "2021-10-06T20:50:28.247Z"
   },
   {
    "duration": 394,
    "start_time": "2021-10-06T20:50:29.695Z"
   },
   {
    "duration": 4,
    "start_time": "2021-10-06T20:50:31.381Z"
   },
   {
    "duration": 14,
    "start_time": "2021-10-06T20:50:31.686Z"
   },
   {
    "duration": 12,
    "start_time": "2021-10-06T20:50:32.424Z"
   },
   {
    "duration": 5,
    "start_time": "2021-10-06T20:50:33.145Z"
   },
   {
    "duration": 10,
    "start_time": "2021-10-06T20:50:33.486Z"
   },
   {
    "duration": 1033,
    "start_time": "2021-10-06T20:50:34.408Z"
   },
   {
    "duration": -739,
    "start_time": "2021-10-06T20:50:36.182Z"
   },
   {
    "duration": -743,
    "start_time": "2021-10-06T20:50:36.188Z"
   },
   {
    "duration": 353,
    "start_time": "2021-10-06T20:50:52.669Z"
   },
   {
    "duration": 9,
    "start_time": "2021-10-06T20:51:02.143Z"
   },
   {
    "duration": 385,
    "start_time": "2021-10-06T20:51:02.725Z"
   },
   {
    "duration": 1844,
    "start_time": "2021-10-06T20:51:13.435Z"
   },
   {
    "duration": 9,
    "start_time": "2021-10-06T20:51:15.282Z"
   },
   {
    "duration": 980,
    "start_time": "2021-10-06T20:51:15.295Z"
   },
   {
    "duration": 1962,
    "start_time": "2021-10-06T20:51:16.279Z"
   },
   {
    "duration": 42,
    "start_time": "2021-10-06T20:51:18.244Z"
   },
   {
    "duration": 7,
    "start_time": "2021-10-06T20:51:18.289Z"
   },
   {
    "duration": 9,
    "start_time": "2021-10-06T20:51:18.299Z"
   },
   {
    "duration": 7,
    "start_time": "2021-10-06T20:51:18.311Z"
   },
   {
    "duration": 5,
    "start_time": "2021-10-06T20:51:18.324Z"
   },
   {
    "duration": 37,
    "start_time": "2021-10-06T20:51:18.333Z"
   },
   {
    "duration": 6,
    "start_time": "2021-10-06T20:51:18.373Z"
   },
   {
    "duration": 9,
    "start_time": "2021-10-06T20:51:18.382Z"
   },
   {
    "duration": 10,
    "start_time": "2021-10-06T20:51:18.394Z"
   },
   {
    "duration": 16,
    "start_time": "2021-10-06T20:51:18.407Z"
   },
   {
    "duration": 57,
    "start_time": "2021-10-06T20:51:18.428Z"
   },
   {
    "duration": 21,
    "start_time": "2021-10-06T20:51:18.488Z"
   },
   {
    "duration": 4,
    "start_time": "2021-10-06T20:51:18.511Z"
   },
   {
    "duration": 8,
    "start_time": "2021-10-06T20:51:18.519Z"
   },
   {
    "duration": 41,
    "start_time": "2021-10-06T20:51:18.530Z"
   },
   {
    "duration": 12,
    "start_time": "2021-10-06T20:51:18.574Z"
   },
   {
    "duration": 10,
    "start_time": "2021-10-06T20:51:18.589Z"
   },
   {
    "duration": 18,
    "start_time": "2021-10-06T20:51:18.602Z"
   },
   {
    "duration": 6,
    "start_time": "2021-10-06T20:51:18.623Z"
   },
   {
    "duration": 35,
    "start_time": "2021-10-06T20:51:18.632Z"
   },
   {
    "duration": 529,
    "start_time": "2021-10-06T20:51:18.670Z"
   },
   {
    "duration": 6,
    "start_time": "2021-10-06T20:51:19.201Z"
   },
   {
    "duration": 426,
    "start_time": "2021-10-06T20:51:19.212Z"
   },
   {
    "duration": 6,
    "start_time": "2021-10-06T20:51:19.642Z"
   },
   {
    "duration": 539,
    "start_time": "2021-10-06T20:51:19.650Z"
   },
   {
    "duration": 4,
    "start_time": "2021-10-06T20:51:20.192Z"
   },
   {
    "duration": 415,
    "start_time": "2021-10-06T20:51:20.199Z"
   },
   {
    "duration": 407,
    "start_time": "2021-10-06T20:51:20.616Z"
   },
   {
    "duration": 3,
    "start_time": "2021-10-06T20:51:21.026Z"
   },
   {
    "duration": 20,
    "start_time": "2021-10-06T20:51:21.031Z"
   },
   {
    "duration": 10,
    "start_time": "2021-10-06T20:51:21.066Z"
   },
   {
    "duration": 394,
    "start_time": "2021-10-06T20:51:21.079Z"
   },
   {
    "duration": 3,
    "start_time": "2021-10-06T20:51:21.476Z"
   },
   {
    "duration": 7,
    "start_time": "2021-10-06T20:51:21.482Z"
   },
   {
    "duration": 8,
    "start_time": "2021-10-06T20:51:21.491Z"
   },
   {
    "duration": 7,
    "start_time": "2021-10-06T20:51:21.501Z"
   },
   {
    "duration": 16,
    "start_time": "2021-10-06T20:51:21.510Z"
   },
   {
    "duration": 49,
    "start_time": "2021-10-06T20:51:21.529Z"
   },
   {
    "duration": 9,
    "start_time": "2021-10-06T20:51:21.580Z"
   },
   {
    "duration": 11,
    "start_time": "2021-10-06T20:51:21.592Z"
   },
   {
    "duration": 11,
    "start_time": "2021-10-06T20:51:21.605Z"
   },
   {
    "duration": 12,
    "start_time": "2021-10-06T20:51:21.619Z"
   },
   {
    "duration": 8115,
    "start_time": "2021-10-06T20:51:21.633Z"
   },
   {
    "duration": -722,
    "start_time": "2021-10-06T20:51:30.473Z"
   },
   {
    "duration": 8,
    "start_time": "2021-10-06T20:52:40.153Z"
   },
   {
    "duration": 409,
    "start_time": "2021-10-06T20:52:40.544Z"
   },
   {
    "duration": 4947,
    "start_time": "2021-10-06T20:54:16.884Z"
   },
   {
    "duration": 6,
    "start_time": "2021-10-06T20:54:54.536Z"
   },
   {
    "duration": 3,
    "start_time": "2021-10-06T20:54:54.970Z"
   },
   {
    "duration": 4,
    "start_time": "2021-10-06T20:54:55.307Z"
   },
   {
    "duration": 340,
    "start_time": "2021-10-06T20:54:56.486Z"
   },
   {
    "duration": -723,
    "start_time": "2021-10-06T20:54:57.552Z"
   },
   {
    "duration": 5,
    "start_time": "2021-10-06T20:54:57.006Z"
   },
   {
    "duration": 1930,
    "start_time": "2021-10-06T20:55:08.962Z"
   },
   {
    "duration": 13,
    "start_time": "2021-10-06T20:55:10.895Z"
   },
   {
    "duration": 5191,
    "start_time": "2021-10-06T20:55:10.913Z"
   },
   {
    "duration": 1582,
    "start_time": "2021-10-06T20:55:16.107Z"
   },
   {
    "duration": 12,
    "start_time": "2021-10-06T20:55:17.691Z"
   },
   {
    "duration": 5,
    "start_time": "2021-10-06T20:55:17.705Z"
   },
   {
    "duration": 9,
    "start_time": "2021-10-06T20:55:17.713Z"
   },
   {
    "duration": 44,
    "start_time": "2021-10-06T20:55:17.726Z"
   },
   {
    "duration": 5,
    "start_time": "2021-10-06T20:55:17.773Z"
   },
   {
    "duration": 7,
    "start_time": "2021-10-06T20:55:17.781Z"
   },
   {
    "duration": 4,
    "start_time": "2021-10-06T20:55:17.791Z"
   },
   {
    "duration": 9,
    "start_time": "2021-10-06T20:55:17.797Z"
   },
   {
    "duration": 6,
    "start_time": "2021-10-06T20:55:17.808Z"
   },
   {
    "duration": 49,
    "start_time": "2021-10-06T20:55:17.817Z"
   },
   {
    "duration": 11,
    "start_time": "2021-10-06T20:55:17.869Z"
   },
   {
    "duration": 14,
    "start_time": "2021-10-06T20:55:17.883Z"
   },
   {
    "duration": 3,
    "start_time": "2021-10-06T20:55:17.900Z"
   },
   {
    "duration": 6,
    "start_time": "2021-10-06T20:55:17.905Z"
   },
   {
    "duration": 13,
    "start_time": "2021-10-06T20:55:17.914Z"
   },
   {
    "duration": 9,
    "start_time": "2021-10-06T20:55:17.968Z"
   },
   {
    "duration": 12,
    "start_time": "2021-10-06T20:55:17.980Z"
   },
   {
    "duration": 12,
    "start_time": "2021-10-06T20:55:17.995Z"
   },
   {
    "duration": 4,
    "start_time": "2021-10-06T20:55:18.013Z"
   },
   {
    "duration": 5,
    "start_time": "2021-10-06T20:55:18.021Z"
   },
   {
    "duration": 431,
    "start_time": "2021-10-06T20:55:18.028Z"
   },
   {
    "duration": 7,
    "start_time": "2021-10-06T20:55:18.466Z"
   },
   {
    "duration": 417,
    "start_time": "2021-10-06T20:55:18.475Z"
   },
   {
    "duration": 6,
    "start_time": "2021-10-06T20:55:18.895Z"
   },
   {
    "duration": 431,
    "start_time": "2021-10-06T20:55:18.903Z"
   },
   {
    "duration": 5,
    "start_time": "2021-10-06T20:55:19.336Z"
   },
   {
    "duration": 474,
    "start_time": "2021-10-06T20:55:19.343Z"
   },
   {
    "duration": 411,
    "start_time": "2021-10-06T20:55:19.819Z"
   },
   {
    "duration": 3,
    "start_time": "2021-10-06T20:55:20.233Z"
   },
   {
    "duration": 36,
    "start_time": "2021-10-06T20:55:20.239Z"
   },
   {
    "duration": 14,
    "start_time": "2021-10-06T20:55:20.278Z"
   },
   {
    "duration": 9,
    "start_time": "2021-10-06T20:55:20.295Z"
   },
   {
    "duration": 446,
    "start_time": "2021-10-06T20:55:20.307Z"
   },
   {
    "duration": 12,
    "start_time": "2021-10-06T20:55:20.755Z"
   },
   {
    "duration": 9,
    "start_time": "2021-10-06T20:55:20.769Z"
   },
   {
    "duration": 12,
    "start_time": "2021-10-06T20:55:20.781Z"
   },
   {
    "duration": 9,
    "start_time": "2021-10-06T20:55:20.796Z"
   },
   {
    "duration": 17,
    "start_time": "2021-10-06T20:55:20.807Z"
   },
   {
    "duration": 15,
    "start_time": "2021-10-06T20:55:20.827Z"
   },
   {
    "duration": 27,
    "start_time": "2021-10-06T20:55:20.844Z"
   },
   {
    "duration": 6,
    "start_time": "2021-10-06T20:55:20.874Z"
   },
   {
    "duration": 10,
    "start_time": "2021-10-06T20:55:20.882Z"
   },
   {
    "duration": 9,
    "start_time": "2021-10-06T20:55:20.895Z"
   },
   {
    "duration": 5288,
    "start_time": "2021-10-06T20:55:20.907Z"
   },
   {
    "duration": -747,
    "start_time": "2021-10-06T20:55:26.944Z"
   },
   {
    "duration": -749,
    "start_time": "2021-10-06T20:55:26.948Z"
   },
   {
    "duration": 6,
    "start_time": "2021-10-06T20:55:42.443Z"
   },
   {
    "duration": 15,
    "start_time": "2021-10-06T20:56:00.762Z"
   },
   {
    "duration": 8,
    "start_time": "2021-10-06T20:56:26.890Z"
   },
   {
    "duration": 300,
    "start_time": "2021-10-06T20:56:48.965Z"
   },
   {
    "duration": 286,
    "start_time": "2021-10-06T20:56:54.915Z"
   },
   {
    "duration": 280,
    "start_time": "2021-10-06T20:57:02.866Z"
   },
   {
    "duration": 1775,
    "start_time": "2021-10-06T20:57:12.892Z"
   },
   {
    "duration": 8,
    "start_time": "2021-10-06T20:57:14.670Z"
   },
   {
    "duration": 934,
    "start_time": "2021-10-06T20:57:14.681Z"
   },
   {
    "duration": 1606,
    "start_time": "2021-10-06T20:57:15.618Z"
   },
   {
    "duration": 10,
    "start_time": "2021-10-06T20:57:17.227Z"
   },
   {
    "duration": 28,
    "start_time": "2021-10-06T20:57:17.240Z"
   },
   {
    "duration": 11,
    "start_time": "2021-10-06T20:57:17.270Z"
   },
   {
    "duration": 11,
    "start_time": "2021-10-06T20:57:17.285Z"
   },
   {
    "duration": 12,
    "start_time": "2021-10-06T20:57:17.299Z"
   },
   {
    "duration": 10,
    "start_time": "2021-10-06T20:57:17.313Z"
   },
   {
    "duration": 6,
    "start_time": "2021-10-06T20:57:17.326Z"
   },
   {
    "duration": 13,
    "start_time": "2021-10-06T20:57:17.334Z"
   },
   {
    "duration": 4,
    "start_time": "2021-10-06T20:57:17.368Z"
   },
   {
    "duration": 15,
    "start_time": "2021-10-06T20:57:17.375Z"
   },
   {
    "duration": 16,
    "start_time": "2021-10-06T20:57:17.392Z"
   },
   {
    "duration": 14,
    "start_time": "2021-10-06T20:57:17.411Z"
   },
   {
    "duration": 38,
    "start_time": "2021-10-06T20:57:17.428Z"
   },
   {
    "duration": 3,
    "start_time": "2021-10-06T20:57:17.469Z"
   },
   {
    "duration": 11,
    "start_time": "2021-10-06T20:57:17.475Z"
   },
   {
    "duration": 14,
    "start_time": "2021-10-06T20:57:17.488Z"
   },
   {
    "duration": 8,
    "start_time": "2021-10-06T20:57:17.504Z"
   },
   {
    "duration": 8,
    "start_time": "2021-10-06T20:57:17.514Z"
   },
   {
    "duration": 40,
    "start_time": "2021-10-06T20:57:17.528Z"
   },
   {
    "duration": 5,
    "start_time": "2021-10-06T20:57:17.571Z"
   },
   {
    "duration": 415,
    "start_time": "2021-10-06T20:57:17.579Z"
   },
   {
    "duration": 5,
    "start_time": "2021-10-06T20:57:17.996Z"
   },
   {
    "duration": 440,
    "start_time": "2021-10-06T20:57:18.004Z"
   },
   {
    "duration": 5,
    "start_time": "2021-10-06T20:57:18.447Z"
   },
   {
    "duration": 466,
    "start_time": "2021-10-06T20:57:18.455Z"
   },
   {
    "duration": 5,
    "start_time": "2021-10-06T20:57:18.924Z"
   },
   {
    "duration": 566,
    "start_time": "2021-10-06T20:57:18.931Z"
   },
   {
    "duration": 411,
    "start_time": "2021-10-06T20:57:19.500Z"
   },
   {
    "duration": 4,
    "start_time": "2021-10-06T20:57:19.913Z"
   },
   {
    "duration": 20,
    "start_time": "2021-10-06T20:57:19.920Z"
   },
   {
    "duration": 27,
    "start_time": "2021-10-06T20:57:19.943Z"
   },
   {
    "duration": 8,
    "start_time": "2021-10-06T20:57:19.973Z"
   },
   {
    "duration": 444,
    "start_time": "2021-10-06T20:57:19.984Z"
   },
   {
    "duration": 3,
    "start_time": "2021-10-06T20:57:20.431Z"
   },
   {
    "duration": 8,
    "start_time": "2021-10-06T20:57:20.437Z"
   },
   {
    "duration": 6,
    "start_time": "2021-10-06T20:57:20.468Z"
   },
   {
    "duration": 7,
    "start_time": "2021-10-06T20:57:20.477Z"
   },
   {
    "duration": 13,
    "start_time": "2021-10-06T20:57:20.486Z"
   },
   {
    "duration": 14,
    "start_time": "2021-10-06T20:57:20.502Z"
   },
   {
    "duration": 6,
    "start_time": "2021-10-06T20:57:20.519Z"
   },
   {
    "duration": 43,
    "start_time": "2021-10-06T20:57:20.528Z"
   },
   {
    "duration": 8,
    "start_time": "2021-10-06T20:57:20.573Z"
   },
   {
    "duration": 8,
    "start_time": "2021-10-06T20:57:20.584Z"
   },
   {
    "duration": 497,
    "start_time": "2021-10-06T20:57:20.594Z"
   },
   {
    "duration": -719,
    "start_time": "2021-10-06T20:57:21.812Z"
   },
   {
    "duration": 8,
    "start_time": "2021-10-06T20:57:34.401Z"
   },
   {
    "duration": 92,
    "start_time": "2021-10-06T20:57:48.105Z"
   },
   {
    "duration": 685,
    "start_time": "2021-10-06T20:57:56.549Z"
   },
   {
    "duration": 7,
    "start_time": "2021-10-06T20:58:29.983Z"
   },
   {
    "duration": 9,
    "start_time": "2021-10-06T20:58:47.677Z"
   },
   {
    "duration": 7,
    "start_time": "2021-10-06T20:58:53.612Z"
   },
   {
    "duration": 94,
    "start_time": "2021-10-06T20:59:06.352Z"
   },
   {
    "duration": 437,
    "start_time": "2021-10-06T20:59:14.224Z"
   },
   {
    "duration": 398,
    "start_time": "2021-10-06T20:59:26.771Z"
   },
   {
    "duration": 5,
    "start_time": "2021-10-06T20:59:39.435Z"
   },
   {
    "duration": 389,
    "start_time": "2021-10-06T20:59:44.228Z"
   },
   {
    "duration": 401,
    "start_time": "2021-10-06T20:59:49.247Z"
   },
   {
    "duration": 5,
    "start_time": "2021-10-06T21:01:29.594Z"
   },
   {
    "duration": 505,
    "start_time": "2021-10-06T21:01:35.345Z"
   },
   {
    "duration": 5,
    "start_time": "2021-10-06T21:02:26.087Z"
   },
   {
    "duration": 917,
    "start_time": "2021-10-06T21:02:30.872Z"
   },
   {
    "duration": 5,
    "start_time": "2021-10-06T21:02:42.271Z"
   },
   {
    "duration": 283,
    "start_time": "2021-10-06T21:02:44.826Z"
   },
   {
    "duration": 6,
    "start_time": "2021-10-06T21:03:00.205Z"
   },
   {
    "duration": 292,
    "start_time": "2021-10-06T21:03:04.697Z"
   },
   {
    "duration": 6,
    "start_time": "2021-10-06T21:03:15.001Z"
   },
   {
    "duration": 2526,
    "start_time": "2021-10-06T21:03:25.655Z"
   },
   {
    "duration": 5,
    "start_time": "2021-10-06T21:04:38.177Z"
   },
   {
    "duration": 8,
    "start_time": "2021-10-06T21:04:38.597Z"
   },
   {
    "duration": 5,
    "start_time": "2021-10-06T21:04:47.454Z"
   },
   {
    "duration": 11,
    "start_time": "2021-10-06T21:04:49.041Z"
   },
   {
    "duration": 5,
    "start_time": "2021-10-06T21:05:07.964Z"
   },
   {
    "duration": 11,
    "start_time": "2021-10-06T21:05:08.275Z"
   },
   {
    "duration": 5,
    "start_time": "2021-10-06T21:05:19.806Z"
   },
   {
    "duration": 9,
    "start_time": "2021-10-06T21:05:20.392Z"
   },
   {
    "duration": 5,
    "start_time": "2021-10-06T21:05:28.103Z"
   },
   {
    "duration": 10,
    "start_time": "2021-10-06T21:05:28.480Z"
   },
   {
    "duration": 6,
    "start_time": "2021-10-06T21:06:18.056Z"
   },
   {
    "duration": 278,
    "start_time": "2021-10-06T21:06:24.390Z"
   },
   {
    "duration": 7,
    "start_time": "2021-10-06T21:06:34.928Z"
   },
   {
    "duration": 4,
    "start_time": "2021-10-06T21:07:52.823Z"
   },
   {
    "duration": 4,
    "start_time": "2021-10-06T21:08:04.548Z"
   },
   {
    "duration": 182,
    "start_time": "2021-10-06T21:08:04.756Z"
   },
   {
    "duration": 4,
    "start_time": "2021-10-06T21:10:01.210Z"
   },
   {
    "duration": 11,
    "start_time": "2021-10-06T21:10:01.804Z"
   },
   {
    "duration": 5,
    "start_time": "2021-10-06T21:10:11.996Z"
   },
   {
    "duration": 10,
    "start_time": "2021-10-06T21:10:12.364Z"
   },
   {
    "duration": 4,
    "start_time": "2021-10-06T21:10:12.648Z"
   },
   {
    "duration": 4,
    "start_time": "2021-10-06T21:10:12.910Z"
   },
   {
    "duration": 306,
    "start_time": "2021-10-06T21:10:13.122Z"
   },
   {
    "duration": -732,
    "start_time": "2021-10-06T21:10:14.162Z"
   },
   {
    "duration": 5,
    "start_time": "2021-10-06T21:10:13.496Z"
   },
   {
    "duration": 5,
    "start_time": "2021-10-06T21:10:13.677Z"
   },
   {
    "duration": 7,
    "start_time": "2021-10-06T21:10:15.642Z"
   },
   {
    "duration": 5,
    "start_time": "2021-10-06T21:10:16.068Z"
   },
   {
    "duration": 8,
    "start_time": "2021-10-06T21:10:16.792Z"
   },
   {
    "duration": 10,
    "start_time": "2021-10-06T21:10:17.570Z"
   },
   {
    "duration": 14,
    "start_time": "2021-10-06T21:10:18.650Z"
   },
   {
    "duration": 1584,
    "start_time": "2021-10-06T21:12:34.396Z"
   },
   {
    "duration": 10,
    "start_time": "2021-10-06T21:12:35.983Z"
   },
   {
    "duration": 944,
    "start_time": "2021-10-06T21:12:35.996Z"
   },
   {
    "duration": 1639,
    "start_time": "2021-10-06T21:12:36.943Z"
   },
   {
    "duration": 11,
    "start_time": "2021-10-06T21:12:38.585Z"
   },
   {
    "duration": 6,
    "start_time": "2021-10-06T21:12:38.598Z"
   },
   {
    "duration": 9,
    "start_time": "2021-10-06T21:12:38.606Z"
   },
   {
    "duration": 7,
    "start_time": "2021-10-06T21:12:38.619Z"
   },
   {
    "duration": 3,
    "start_time": "2021-10-06T21:12:38.668Z"
   },
   {
    "duration": 8,
    "start_time": "2021-10-06T21:12:38.674Z"
   },
   {
    "duration": 7,
    "start_time": "2021-10-06T21:12:38.685Z"
   },
   {
    "duration": 7,
    "start_time": "2021-10-06T21:12:38.695Z"
   },
   {
    "duration": 4,
    "start_time": "2021-10-06T21:12:38.705Z"
   },
   {
    "duration": 13,
    "start_time": "2021-10-06T21:12:38.712Z"
   },
   {
    "duration": 45,
    "start_time": "2021-10-06T21:12:38.727Z"
   },
   {
    "duration": 14,
    "start_time": "2021-10-06T21:12:38.775Z"
   },
   {
    "duration": 4,
    "start_time": "2021-10-06T21:12:38.791Z"
   },
   {
    "duration": 7,
    "start_time": "2021-10-06T21:12:38.797Z"
   },
   {
    "duration": 13,
    "start_time": "2021-10-06T21:12:38.807Z"
   },
   {
    "duration": 50,
    "start_time": "2021-10-06T21:12:38.823Z"
   },
   {
    "duration": 10,
    "start_time": "2021-10-06T21:12:38.876Z"
   },
   {
    "duration": 9,
    "start_time": "2021-10-06T21:12:38.889Z"
   },
   {
    "duration": 4,
    "start_time": "2021-10-06T21:12:38.904Z"
   },
   {
    "duration": 5,
    "start_time": "2021-10-06T21:12:38.912Z"
   },
   {
    "duration": 447,
    "start_time": "2021-10-06T21:12:38.920Z"
   },
   {
    "duration": 5,
    "start_time": "2021-10-06T21:12:39.369Z"
   },
   {
    "duration": 435,
    "start_time": "2021-10-06T21:12:39.376Z"
   },
   {
    "duration": 6,
    "start_time": "2021-10-06T21:12:39.813Z"
   },
   {
    "duration": 449,
    "start_time": "2021-10-06T21:12:39.822Z"
   },
   {
    "duration": 4,
    "start_time": "2021-10-06T21:12:40.273Z"
   },
   {
    "duration": 490,
    "start_time": "2021-10-06T21:12:40.280Z"
   },
   {
    "duration": 417,
    "start_time": "2021-10-06T21:12:40.773Z"
   },
   {
    "duration": 3,
    "start_time": "2021-10-06T21:12:41.193Z"
   },
   {
    "duration": 14,
    "start_time": "2021-10-06T21:12:41.199Z"
   },
   {
    "duration": 21,
    "start_time": "2021-10-06T21:12:41.215Z"
   },
   {
    "duration": 29,
    "start_time": "2021-10-06T21:12:41.239Z"
   },
   {
    "duration": 459,
    "start_time": "2021-10-06T21:12:41.271Z"
   },
   {
    "duration": 3,
    "start_time": "2021-10-06T21:12:41.733Z"
   },
   {
    "duration": 7,
    "start_time": "2021-10-06T21:12:41.738Z"
   },
   {
    "duration": 24,
    "start_time": "2021-10-06T21:12:41.747Z"
   },
   {
    "duration": 406,
    "start_time": "2021-10-06T21:12:41.773Z"
   },
   {
    "duration": -728,
    "start_time": "2021-10-06T21:12:42.910Z"
   },
   {
    "duration": -730,
    "start_time": "2021-10-06T21:12:42.913Z"
   },
   {
    "duration": -733,
    "start_time": "2021-10-06T21:12:42.918Z"
   },
   {
    "duration": -733,
    "start_time": "2021-10-06T21:12:42.920Z"
   },
   {
    "duration": -733,
    "start_time": "2021-10-06T21:12:42.922Z"
   },
   {
    "duration": -733,
    "start_time": "2021-10-06T21:12:42.924Z"
   },
   {
    "duration": -733,
    "start_time": "2021-10-06T21:12:42.926Z"
   },
   {
    "duration": -734,
    "start_time": "2021-10-06T21:12:42.928Z"
   },
   {
    "duration": -737,
    "start_time": "2021-10-06T21:12:42.933Z"
   },
   {
    "duration": -737,
    "start_time": "2021-10-06T21:12:42.935Z"
   },
   {
    "duration": -739,
    "start_time": "2021-10-06T21:12:42.939Z"
   },
   {
    "duration": -739,
    "start_time": "2021-10-06T21:12:42.941Z"
   },
   {
    "duration": 5,
    "start_time": "2021-10-06T21:12:57.578Z"
   },
   {
    "duration": 288,
    "start_time": "2021-10-06T21:12:57.890Z"
   },
   {
    "duration": 4,
    "start_time": "2021-10-06T21:12:58.214Z"
   },
   {
    "duration": 4,
    "start_time": "2021-10-06T21:13:05.092Z"
   },
   {
    "duration": 4,
    "start_time": "2021-10-06T21:13:05.562Z"
   },
   {
    "duration": 10,
    "start_time": "2021-10-06T21:13:05.967Z"
   },
   {
    "duration": 15,
    "start_time": "2021-10-06T21:13:06.493Z"
   },
   {
    "duration": 5,
    "start_time": "2021-10-06T21:13:07.003Z"
   },
   {
    "duration": 5,
    "start_time": "2021-10-06T21:13:07.487Z"
   },
   {
    "duration": 8,
    "start_time": "2021-10-06T21:13:07.896Z"
   },
   {
    "duration": 10,
    "start_time": "2021-10-06T21:13:11.591Z"
   },
   {
    "duration": 13,
    "start_time": "2021-10-06T21:13:12.069Z"
   },
   {
    "duration": 171,
    "start_time": "2021-10-06T21:13:25.958Z"
   },
   {
    "duration": 5,
    "start_time": "2021-10-06T21:13:43.344Z"
   },
   {
    "duration": 5,
    "start_time": "2021-10-06T21:13:44.155Z"
   },
   {
    "duration": 4,
    "start_time": "2021-10-06T21:13:44.560Z"
   },
   {
    "duration": 4,
    "start_time": "2021-10-06T21:13:44.860Z"
   },
   {
    "duration": 296,
    "start_time": "2021-10-06T21:13:45.160Z"
   },
   {
    "duration": -731,
    "start_time": "2021-10-06T21:13:46.190Z"
   },
   {
    "duration": 6,
    "start_time": "2021-10-06T21:13:45.520Z"
   },
   {
    "duration": 5,
    "start_time": "2021-10-06T21:13:45.656Z"
   },
   {
    "duration": 8,
    "start_time": "2021-10-06T21:13:45.789Z"
   },
   {
    "duration": 1547,
    "start_time": "2021-10-06T21:13:52.523Z"
   },
   {
    "duration": 7,
    "start_time": "2021-10-06T21:13:54.073Z"
   },
   {
    "duration": 1022,
    "start_time": "2021-10-06T21:13:54.084Z"
   },
   {
    "duration": 1714,
    "start_time": "2021-10-06T21:13:55.110Z"
   },
   {
    "duration": 10,
    "start_time": "2021-10-06T21:13:56.826Z"
   },
   {
    "duration": 29,
    "start_time": "2021-10-06T21:13:56.839Z"
   },
   {
    "duration": 10,
    "start_time": "2021-10-06T21:13:56.872Z"
   },
   {
    "duration": 8,
    "start_time": "2021-10-06T21:13:56.886Z"
   },
   {
    "duration": 14,
    "start_time": "2021-10-06T21:13:56.897Z"
   },
   {
    "duration": 8,
    "start_time": "2021-10-06T21:13:56.913Z"
   },
   {
    "duration": 6,
    "start_time": "2021-10-06T21:13:56.924Z"
   },
   {
    "duration": 36,
    "start_time": "2021-10-06T21:13:56.933Z"
   },
   {
    "duration": 7,
    "start_time": "2021-10-06T21:13:56.972Z"
   },
   {
    "duration": 12,
    "start_time": "2021-10-06T21:13:56.982Z"
   },
   {
    "duration": 15,
    "start_time": "2021-10-06T21:13:56.997Z"
   },
   {
    "duration": 14,
    "start_time": "2021-10-06T21:13:57.015Z"
   },
   {
    "duration": 35,
    "start_time": "2021-10-06T21:13:57.032Z"
   },
   {
    "duration": 6,
    "start_time": "2021-10-06T21:13:57.070Z"
   },
   {
    "duration": 10,
    "start_time": "2021-10-06T21:13:57.079Z"
   },
   {
    "duration": 12,
    "start_time": "2021-10-06T21:13:57.092Z"
   },
   {
    "duration": 7,
    "start_time": "2021-10-06T21:13:57.107Z"
   },
   {
    "duration": 7,
    "start_time": "2021-10-06T21:13:57.117Z"
   },
   {
    "duration": 5,
    "start_time": "2021-10-06T21:13:57.166Z"
   },
   {
    "duration": 6,
    "start_time": "2021-10-06T21:13:57.175Z"
   },
   {
    "duration": 422,
    "start_time": "2021-10-06T21:13:57.184Z"
   },
   {
    "duration": 6,
    "start_time": "2021-10-06T21:13:57.609Z"
   },
   {
    "duration": 421,
    "start_time": "2021-10-06T21:13:57.617Z"
   },
   {
    "duration": 6,
    "start_time": "2021-10-06T21:13:58.041Z"
   },
   {
    "duration": 431,
    "start_time": "2021-10-06T21:13:58.049Z"
   },
   {
    "duration": 4,
    "start_time": "2021-10-06T21:13:58.483Z"
   },
   {
    "duration": 479,
    "start_time": "2021-10-06T21:13:58.490Z"
   },
   {
    "duration": 413,
    "start_time": "2021-10-06T21:13:58.972Z"
   },
   {
    "duration": 4,
    "start_time": "2021-10-06T21:13:59.387Z"
   },
   {
    "duration": 14,
    "start_time": "2021-10-06T21:13:59.394Z"
   },
   {
    "duration": 9,
    "start_time": "2021-10-06T21:13:59.410Z"
   },
   {
    "duration": 7,
    "start_time": "2021-10-06T21:13:59.422Z"
   },
   {
    "duration": 423,
    "start_time": "2021-10-06T21:13:59.468Z"
   },
   {
    "duration": 4,
    "start_time": "2021-10-06T21:13:59.893Z"
   },
   {
    "duration": 7,
    "start_time": "2021-10-06T21:13:59.900Z"
   },
   {
    "duration": 10,
    "start_time": "2021-10-06T21:13:59.909Z"
   },
   {
    "duration": 12,
    "start_time": "2021-10-06T21:13:59.921Z"
   },
   {
    "duration": 32,
    "start_time": "2021-10-06T21:13:59.935Z"
   },
   {
    "duration": 10,
    "start_time": "2021-10-06T21:13:59.969Z"
   },
   {
    "duration": 13,
    "start_time": "2021-10-06T21:13:59.981Z"
   },
   {
    "duration": 19,
    "start_time": "2021-10-06T21:13:59.996Z"
   },
   {
    "duration": 4,
    "start_time": "2021-10-06T21:14:00.018Z"
   },
   {
    "duration": 12,
    "start_time": "2021-10-06T21:14:00.024Z"
   },
   {
    "duration": 34,
    "start_time": "2021-10-06T21:14:00.038Z"
   },
   {
    "duration": 206,
    "start_time": "2021-10-06T21:14:00.075Z"
   },
   {
    "duration": 9,
    "start_time": "2021-10-06T21:14:00.283Z"
   },
   {
    "duration": 28,
    "start_time": "2021-10-06T21:14:00.294Z"
   },
   {
    "duration": 6,
    "start_time": "2021-10-06T21:14:00.325Z"
   },
   {
    "duration": 1094,
    "start_time": "2021-10-07T10:55:50.621Z"
   },
   {
    "duration": 5,
    "start_time": "2021-10-07T10:55:51.717Z"
   },
   {
    "duration": 697,
    "start_time": "2021-10-07T10:55:51.724Z"
   },
   {
    "duration": 930,
    "start_time": "2021-10-07T10:55:52.422Z"
   },
   {
    "duration": 6,
    "start_time": "2021-10-07T10:55:53.353Z"
   },
   {
    "duration": 8,
    "start_time": "2021-10-07T10:55:53.360Z"
   },
   {
    "duration": 8,
    "start_time": "2021-10-07T10:55:53.369Z"
   },
   {
    "duration": 4,
    "start_time": "2021-10-07T10:55:53.378Z"
   },
   {
    "duration": 2,
    "start_time": "2021-10-07T10:55:53.400Z"
   },
   {
    "duration": 6,
    "start_time": "2021-10-07T10:55:53.404Z"
   },
   {
    "duration": 3,
    "start_time": "2021-10-07T10:55:53.412Z"
   },
   {
    "duration": 5,
    "start_time": "2021-10-07T10:55:53.417Z"
   },
   {
    "duration": 3,
    "start_time": "2021-10-07T10:55:53.424Z"
   },
   {
    "duration": 9,
    "start_time": "2021-10-07T10:55:53.428Z"
   },
   {
    "duration": 12,
    "start_time": "2021-10-07T10:55:53.438Z"
   },
   {
    "duration": 8,
    "start_time": "2021-10-07T10:55:53.451Z"
   },
   {
    "duration": 2,
    "start_time": "2021-10-07T10:55:53.461Z"
   },
   {
    "duration": 6,
    "start_time": "2021-10-07T10:55:53.465Z"
   },
   {
    "duration": 10,
    "start_time": "2021-10-07T10:55:53.500Z"
   },
   {
    "duration": 15,
    "start_time": "2021-10-07T10:55:53.512Z"
   },
   {
    "duration": 9,
    "start_time": "2021-10-07T10:55:53.528Z"
   },
   {
    "duration": 5,
    "start_time": "2021-10-07T10:55:53.539Z"
   },
   {
    "duration": 14,
    "start_time": "2021-10-07T10:55:53.545Z"
   },
   {
    "duration": 16,
    "start_time": "2021-10-07T10:55:53.561Z"
   },
   {
    "duration": 250,
    "start_time": "2021-10-07T10:55:53.579Z"
   },
   {
    "duration": 3,
    "start_time": "2021-10-07T10:55:53.831Z"
   },
   {
    "duration": 240,
    "start_time": "2021-10-07T10:55:53.838Z"
   },
   {
    "duration": 5,
    "start_time": "2021-10-07T10:55:54.081Z"
   },
   {
    "duration": 302,
    "start_time": "2021-10-07T10:55:54.099Z"
   },
   {
    "duration": 3,
    "start_time": "2021-10-07T10:55:54.403Z"
   },
   {
    "duration": 243,
    "start_time": "2021-10-07T10:55:54.408Z"
   },
   {
    "duration": 240,
    "start_time": "2021-10-07T10:55:54.653Z"
   },
   {
    "duration": 5,
    "start_time": "2021-10-07T10:55:54.894Z"
   },
   {
    "duration": 26,
    "start_time": "2021-10-07T10:55:54.901Z"
   },
   {
    "duration": 20,
    "start_time": "2021-10-07T10:55:54.928Z"
   },
   {
    "duration": 23,
    "start_time": "2021-10-07T10:55:54.949Z"
   },
   {
    "duration": 260,
    "start_time": "2021-10-07T10:55:54.974Z"
   },
   {
    "duration": 3,
    "start_time": "2021-10-07T10:55:55.236Z"
   },
   {
    "duration": 10,
    "start_time": "2021-10-07T10:55:55.240Z"
   },
   {
    "duration": 13,
    "start_time": "2021-10-07T10:55:55.252Z"
   },
   {
    "duration": 20,
    "start_time": "2021-10-07T10:55:55.267Z"
   },
   {
    "duration": 13,
    "start_time": "2021-10-07T10:55:55.289Z"
   },
   {
    "duration": 12,
    "start_time": "2021-10-07T10:55:55.304Z"
   },
   {
    "duration": 19,
    "start_time": "2021-10-07T10:55:55.317Z"
   },
   {
    "duration": 29,
    "start_time": "2021-10-07T10:55:55.337Z"
   },
   {
    "duration": 6,
    "start_time": "2021-10-07T10:55:55.368Z"
   },
   {
    "duration": 29,
    "start_time": "2021-10-07T10:55:55.375Z"
   },
   {
    "duration": 27,
    "start_time": "2021-10-07T10:55:55.406Z"
   },
   {
    "duration": 123,
    "start_time": "2021-10-07T10:55:55.435Z"
   },
   {
    "duration": 6,
    "start_time": "2021-10-07T10:55:55.560Z"
   },
   {
    "duration": 19,
    "start_time": "2021-10-07T10:55:55.568Z"
   },
   {
    "duration": 67,
    "start_time": "2021-10-07T10:55:55.588Z"
   },
   {
    "duration": 245,
    "start_time": "2021-10-07T10:56:21.439Z"
   },
   {
    "duration": 234,
    "start_time": "2021-10-07T10:56:26.179Z"
   },
   {
    "duration": 237,
    "start_time": "2021-10-07T10:56:30.265Z"
   },
   {
    "duration": 1224,
    "start_time": "2021-10-07T11:08:38.491Z"
   },
   {
    "duration": 5,
    "start_time": "2021-10-07T11:08:39.717Z"
   },
   {
    "duration": 699,
    "start_time": "2021-10-07T11:08:39.724Z"
   },
   {
    "duration": 923,
    "start_time": "2021-10-07T11:08:40.425Z"
   },
   {
    "duration": 6,
    "start_time": "2021-10-07T11:08:41.350Z"
   },
   {
    "duration": 3,
    "start_time": "2021-10-07T11:08:41.357Z"
   },
   {
    "duration": 6,
    "start_time": "2021-10-07T11:08:41.362Z"
   },
   {
    "duration": 4,
    "start_time": "2021-10-07T11:08:41.370Z"
   },
   {
    "duration": 24,
    "start_time": "2021-10-07T11:08:41.376Z"
   },
   {
    "duration": 6,
    "start_time": "2021-10-07T11:08:41.401Z"
   },
   {
    "duration": 5,
    "start_time": "2021-10-07T11:08:41.409Z"
   },
   {
    "duration": 6,
    "start_time": "2021-10-07T11:08:41.415Z"
   },
   {
    "duration": 3,
    "start_time": "2021-10-07T11:08:41.422Z"
   },
   {
    "duration": 8,
    "start_time": "2021-10-07T11:08:41.426Z"
   },
   {
    "duration": 13,
    "start_time": "2021-10-07T11:08:41.435Z"
   },
   {
    "duration": 9,
    "start_time": "2021-10-07T11:08:41.450Z"
   },
   {
    "duration": 3,
    "start_time": "2021-10-07T11:08:41.460Z"
   },
   {
    "duration": 36,
    "start_time": "2021-10-07T11:08:41.464Z"
   },
   {
    "duration": 9,
    "start_time": "2021-10-07T11:08:41.502Z"
   },
   {
    "duration": 9,
    "start_time": "2021-10-07T11:08:41.512Z"
   },
   {
    "duration": 6,
    "start_time": "2021-10-07T11:08:41.523Z"
   },
   {
    "duration": 19,
    "start_time": "2021-10-07T11:08:41.531Z"
   },
   {
    "duration": 3,
    "start_time": "2021-10-07T11:08:41.554Z"
   },
   {
    "duration": 5,
    "start_time": "2021-10-07T11:08:41.559Z"
   },
   {
    "duration": 251,
    "start_time": "2021-10-07T11:08:41.566Z"
   },
   {
    "duration": 4,
    "start_time": "2021-10-07T11:08:41.819Z"
   },
   {
    "duration": 236,
    "start_time": "2021-10-07T11:08:41.825Z"
   },
   {
    "duration": 4,
    "start_time": "2021-10-07T11:08:42.063Z"
   },
   {
    "duration": 243,
    "start_time": "2021-10-07T11:08:42.068Z"
   },
   {
    "duration": 3,
    "start_time": "2021-10-07T11:08:42.313Z"
   },
   {
    "duration": 303,
    "start_time": "2021-10-07T11:08:42.318Z"
   },
   {
    "duration": 243,
    "start_time": "2021-10-07T11:08:42.623Z"
   },
   {
    "duration": 2,
    "start_time": "2021-10-07T11:08:42.868Z"
   },
   {
    "duration": 21,
    "start_time": "2021-10-07T11:08:42.871Z"
   },
   {
    "duration": 14,
    "start_time": "2021-10-07T11:08:42.893Z"
   },
   {
    "duration": 9,
    "start_time": "2021-10-07T11:08:42.908Z"
   },
   {
    "duration": 237,
    "start_time": "2021-10-07T11:08:42.918Z"
   },
   {
    "duration": 2,
    "start_time": "2021-10-07T11:08:43.156Z"
   },
   {
    "duration": 5,
    "start_time": "2021-10-07T11:08:43.160Z"
   },
   {
    "duration": 5,
    "start_time": "2021-10-07T11:08:43.166Z"
   },
   {
    "duration": 5,
    "start_time": "2021-10-07T11:08:43.172Z"
   },
   {
    "duration": 5,
    "start_time": "2021-10-07T11:08:43.179Z"
   },
   {
    "duration": 2,
    "start_time": "2021-10-07T11:08:43.199Z"
   },
   {
    "duration": 9,
    "start_time": "2021-10-07T11:08:43.203Z"
   },
   {
    "duration": 10,
    "start_time": "2021-10-07T11:08:43.214Z"
   },
   {
    "duration": 4,
    "start_time": "2021-10-07T11:08:43.226Z"
   },
   {
    "duration": 5,
    "start_time": "2021-10-07T11:08:43.232Z"
   },
   {
    "duration": 6,
    "start_time": "2021-10-07T11:08:43.239Z"
   },
   {
    "duration": 134,
    "start_time": "2021-10-07T11:08:43.247Z"
   },
   {
    "duration": 22,
    "start_time": "2021-10-07T11:08:43.383Z"
   },
   {
    "duration": 7,
    "start_time": "2021-10-07T11:08:43.407Z"
   },
   {
    "duration": 2,
    "start_time": "2021-10-07T11:08:43.416Z"
   },
   {
    "duration": 3,
    "start_time": "2021-10-07T11:09:13.043Z"
   },
   {
    "duration": 226,
    "start_time": "2021-10-07T11:09:13.275Z"
   },
   {
    "duration": 5,
    "start_time": "2021-10-07T11:09:42.665Z"
   },
   {
    "duration": 4,
    "start_time": "2021-10-07T11:09:51.080Z"
   },
   {
    "duration": 1134,
    "start_time": "2021-10-07T11:09:58.288Z"
   },
   {
    "duration": 6,
    "start_time": "2021-10-07T11:09:59.423Z"
   },
   {
    "duration": 978,
    "start_time": "2021-10-07T11:09:59.430Z"
   },
   {
    "duration": 1012,
    "start_time": "2021-10-07T11:10:00.410Z"
   },
   {
    "duration": 5,
    "start_time": "2021-10-07T11:10:01.424Z"
   },
   {
    "duration": 10,
    "start_time": "2021-10-07T11:10:01.431Z"
   },
   {
    "duration": 10,
    "start_time": "2021-10-07T11:10:01.443Z"
   },
   {
    "duration": 5,
    "start_time": "2021-10-07T11:10:01.455Z"
   },
   {
    "duration": 13,
    "start_time": "2021-10-07T11:10:01.462Z"
   },
   {
    "duration": 5,
    "start_time": "2021-10-07T11:10:01.477Z"
   },
   {
    "duration": 22,
    "start_time": "2021-10-07T11:10:01.484Z"
   },
   {
    "duration": 16,
    "start_time": "2021-10-07T11:10:01.507Z"
   },
   {
    "duration": 20,
    "start_time": "2021-10-07T11:10:01.525Z"
   },
   {
    "duration": 11,
    "start_time": "2021-10-07T11:10:01.547Z"
   },
   {
    "duration": 12,
    "start_time": "2021-10-07T11:10:01.560Z"
   },
   {
    "duration": 14,
    "start_time": "2021-10-07T11:10:01.573Z"
   },
   {
    "duration": 3,
    "start_time": "2021-10-07T11:10:01.589Z"
   },
   {
    "duration": 12,
    "start_time": "2021-10-07T11:10:01.593Z"
   },
   {
    "duration": 13,
    "start_time": "2021-10-07T11:10:01.607Z"
   },
   {
    "duration": 21,
    "start_time": "2021-10-07T11:10:01.622Z"
   },
   {
    "duration": 10,
    "start_time": "2021-10-07T11:10:01.644Z"
   },
   {
    "duration": 9,
    "start_time": "2021-10-07T11:10:01.656Z"
   },
   {
    "duration": 13,
    "start_time": "2021-10-07T11:10:01.668Z"
   },
   {
    "duration": 4,
    "start_time": "2021-10-07T11:10:01.683Z"
   },
   {
    "duration": 258,
    "start_time": "2021-10-07T11:10:01.688Z"
   },
   {
    "duration": 3,
    "start_time": "2021-10-07T11:10:01.947Z"
   },
   {
    "duration": 56,
    "start_time": "2021-10-07T11:10:01.951Z"
   },
   {
    "duration": 244,
    "start_time": "2021-10-07T11:10:02.009Z"
   },
   {
    "duration": 4,
    "start_time": "2021-10-07T11:10:02.254Z"
   },
   {
    "duration": 262,
    "start_time": "2021-10-07T11:10:02.259Z"
   },
   {
    "duration": 3,
    "start_time": "2021-10-07T11:10:02.523Z"
   },
   {
    "duration": 314,
    "start_time": "2021-10-07T11:10:02.528Z"
   },
   {
    "duration": 249,
    "start_time": "2021-10-07T11:10:02.843Z"
   },
   {
    "duration": 2,
    "start_time": "2021-10-07T11:10:03.093Z"
   },
   {
    "duration": 12,
    "start_time": "2021-10-07T11:10:03.096Z"
   },
   {
    "duration": 17,
    "start_time": "2021-10-07T11:10:03.109Z"
   },
   {
    "duration": 7,
    "start_time": "2021-10-07T11:10:03.127Z"
   },
   {
    "duration": 248,
    "start_time": "2021-10-07T11:10:03.136Z"
   },
   {
    "duration": 2,
    "start_time": "2021-10-07T11:10:03.385Z"
   },
   {
    "duration": 10,
    "start_time": "2021-10-07T11:10:03.389Z"
   },
   {
    "duration": 5,
    "start_time": "2021-10-07T11:10:03.401Z"
   },
   {
    "duration": 5,
    "start_time": "2021-10-07T11:10:03.408Z"
   },
   {
    "duration": 5,
    "start_time": "2021-10-07T11:10:03.414Z"
   },
   {
    "duration": 6,
    "start_time": "2021-10-07T11:10:03.420Z"
   },
   {
    "duration": 10,
    "start_time": "2021-10-07T11:10:03.427Z"
   },
   {
    "duration": 9,
    "start_time": "2021-10-07T11:10:03.438Z"
   },
   {
    "duration": 8,
    "start_time": "2021-10-07T11:10:03.448Z"
   },
   {
    "duration": 8,
    "start_time": "2021-10-07T11:10:03.457Z"
   },
   {
    "duration": 7,
    "start_time": "2021-10-07T11:10:03.466Z"
   },
   {
    "duration": 113,
    "start_time": "2021-10-07T11:10:03.474Z"
   },
   {
    "duration": 6,
    "start_time": "2021-10-07T11:10:03.600Z"
   },
   {
    "duration": 10,
    "start_time": "2021-10-07T11:10:03.608Z"
   },
   {
    "duration": 4,
    "start_time": "2021-10-07T11:10:03.620Z"
   },
   {
    "duration": 4,
    "start_time": "2021-10-07T11:11:34.386Z"
   },
   {
    "duration": 5,
    "start_time": "2021-10-07T11:11:39.675Z"
   },
   {
    "duration": 242,
    "start_time": "2021-10-07T11:11:39.905Z"
   },
   {
    "duration": 468,
    "start_time": "2021-10-07T11:14:42.748Z"
   },
   {
    "duration": 380,
    "start_time": "2021-10-07T11:14:48.850Z"
   },
   {
    "duration": 151,
    "start_time": "2021-10-07T11:15:58.213Z"
   },
   {
    "duration": 158,
    "start_time": "2021-10-07T11:16:02.042Z"
   },
   {
    "duration": 243,
    "start_time": "2021-10-07T11:16:26.343Z"
   },
   {
    "duration": 1165,
    "start_time": "2021-10-07T11:16:47.755Z"
   },
   {
    "duration": 5,
    "start_time": "2021-10-07T11:16:48.922Z"
   },
   {
    "duration": 909,
    "start_time": "2021-10-07T11:16:48.929Z"
   },
   {
    "duration": 985,
    "start_time": "2021-10-07T11:16:49.840Z"
   },
   {
    "duration": 6,
    "start_time": "2021-10-07T11:16:50.827Z"
   },
   {
    "duration": 11,
    "start_time": "2021-10-07T11:16:50.834Z"
   },
   {
    "duration": 12,
    "start_time": "2021-10-07T11:16:50.847Z"
   },
   {
    "duration": 8,
    "start_time": "2021-10-07T11:16:50.862Z"
   },
   {
    "duration": 7,
    "start_time": "2021-10-07T11:16:50.872Z"
   },
   {
    "duration": 13,
    "start_time": "2021-10-07T11:16:50.881Z"
   },
   {
    "duration": 11,
    "start_time": "2021-10-07T11:16:50.901Z"
   },
   {
    "duration": 12,
    "start_time": "2021-10-07T11:16:50.914Z"
   },
   {
    "duration": 10,
    "start_time": "2021-10-07T11:16:50.928Z"
   },
   {
    "duration": 17,
    "start_time": "2021-10-07T11:16:50.939Z"
   },
   {
    "duration": 16,
    "start_time": "2021-10-07T11:16:50.958Z"
   },
   {
    "duration": 11,
    "start_time": "2021-10-07T11:16:50.975Z"
   },
   {
    "duration": 5,
    "start_time": "2021-10-07T11:16:50.987Z"
   },
   {
    "duration": 11,
    "start_time": "2021-10-07T11:16:50.993Z"
   },
   {
    "duration": 25,
    "start_time": "2021-10-07T11:16:51.005Z"
   },
   {
    "duration": 18,
    "start_time": "2021-10-07T11:16:51.031Z"
   },
   {
    "duration": 15,
    "start_time": "2021-10-07T11:16:51.050Z"
   },
   {
    "duration": 25,
    "start_time": "2021-10-07T11:16:51.066Z"
   },
   {
    "duration": 16,
    "start_time": "2021-10-07T11:16:51.095Z"
   },
   {
    "duration": 20,
    "start_time": "2021-10-07T11:16:51.113Z"
   },
   {
    "duration": 255,
    "start_time": "2021-10-07T11:16:51.135Z"
   },
   {
    "duration": 4,
    "start_time": "2021-10-07T11:16:51.391Z"
   },
   {
    "duration": 10,
    "start_time": "2021-10-07T11:16:51.400Z"
   },
   {
    "duration": 257,
    "start_time": "2021-10-07T11:16:51.411Z"
   },
   {
    "duration": 4,
    "start_time": "2021-10-07T11:16:51.670Z"
   },
   {
    "duration": 272,
    "start_time": "2021-10-07T11:16:51.676Z"
   },
   {
    "duration": 3,
    "start_time": "2021-10-07T11:16:51.950Z"
   },
   {
    "duration": 320,
    "start_time": "2021-10-07T11:16:51.955Z"
   },
   {
    "duration": 253,
    "start_time": "2021-10-07T11:16:52.277Z"
   },
   {
    "duration": 3,
    "start_time": "2021-10-07T11:16:52.532Z"
   },
   {
    "duration": 16,
    "start_time": "2021-10-07T11:16:52.537Z"
   },
   {
    "duration": 21,
    "start_time": "2021-10-07T11:16:52.554Z"
   },
   {
    "duration": 21,
    "start_time": "2021-10-07T11:16:52.577Z"
   },
   {
    "duration": 249,
    "start_time": "2021-10-07T11:16:52.604Z"
   },
   {
    "duration": 2,
    "start_time": "2021-10-07T11:16:52.855Z"
   },
   {
    "duration": 21,
    "start_time": "2021-10-07T11:16:52.858Z"
   },
   {
    "duration": 15,
    "start_time": "2021-10-07T11:16:52.880Z"
   },
   {
    "duration": 21,
    "start_time": "2021-10-07T11:16:52.896Z"
   },
   {
    "duration": 7,
    "start_time": "2021-10-07T11:16:52.919Z"
   },
   {
    "duration": 8,
    "start_time": "2021-10-07T11:16:52.927Z"
   },
   {
    "duration": 27,
    "start_time": "2021-10-07T11:16:52.936Z"
   },
   {
    "duration": 16,
    "start_time": "2021-10-07T11:16:52.965Z"
   },
   {
    "duration": 3,
    "start_time": "2021-10-07T11:16:52.983Z"
   },
   {
    "duration": 22,
    "start_time": "2021-10-07T11:16:52.988Z"
   },
   {
    "duration": 19,
    "start_time": "2021-10-07T11:16:53.012Z"
   },
   {
    "duration": 111,
    "start_time": "2021-10-07T11:16:53.032Z"
   },
   {
    "duration": 8,
    "start_time": "2021-10-07T11:16:53.145Z"
   },
   {
    "duration": 12,
    "start_time": "2021-10-07T11:16:53.155Z"
   },
   {
    "duration": 16,
    "start_time": "2021-10-07T11:16:53.169Z"
   },
   {
    "duration": 8,
    "start_time": "2021-10-07T11:17:45.015Z"
   },
   {
    "duration": 246,
    "start_time": "2021-10-07T11:17:51.766Z"
   },
   {
    "duration": 4,
    "start_time": "2021-10-07T11:18:06.964Z"
   },
   {
    "duration": 256,
    "start_time": "2021-10-07T11:21:51.822Z"
   },
   {
    "duration": 259,
    "start_time": "2021-10-07T11:22:37.786Z"
   },
   {
    "duration": 245,
    "start_time": "2021-10-07T11:22:55.728Z"
   },
   {
    "duration": 258,
    "start_time": "2021-10-07T11:23:09.114Z"
   },
   {
    "duration": 270,
    "start_time": "2021-10-07T11:23:19.350Z"
   },
   {
    "duration": 268,
    "start_time": "2021-10-07T11:23:27.519Z"
   },
   {
    "duration": 281,
    "start_time": "2021-10-07T11:23:38.686Z"
   },
   {
    "duration": 272,
    "start_time": "2021-10-07T11:23:45.014Z"
   },
   {
    "duration": 330,
    "start_time": "2021-10-07T11:24:00.793Z"
   },
   {
    "duration": 243,
    "start_time": "2021-10-07T11:24:23.701Z"
   },
   {
    "duration": 6,
    "start_time": "2021-10-07T11:25:16.186Z"
   },
   {
    "duration": 48,
    "start_time": "2021-10-07T11:26:03.809Z"
   },
   {
    "duration": 2179,
    "start_time": "2021-10-07T11:26:10.843Z"
   },
   {
    "duration": 4,
    "start_time": "2021-10-07T11:27:47.071Z"
   },
   {
    "duration": 11,
    "start_time": "2021-10-07T11:34:19.905Z"
   },
   {
    "duration": 40,
    "start_time": "2021-10-07T11:36:17.121Z"
   },
   {
    "duration": 141,
    "start_time": "2021-10-07T11:37:41.142Z"
   },
   {
    "duration": 4,
    "start_time": "2021-10-07T11:37:58.885Z"
   },
   {
    "duration": 3,
    "start_time": "2021-10-07T11:47:56.813Z"
   },
   {
    "duration": 159,
    "start_time": "2021-10-07T11:47:57.235Z"
   },
   {
    "duration": 3,
    "start_time": "2021-10-07T11:48:42.443Z"
   },
   {
    "duration": 4,
    "start_time": "2021-10-07T11:48:48.102Z"
   },
   {
    "duration": 158,
    "start_time": "2021-10-07T11:52:20.016Z"
   },
   {
    "duration": 3809,
    "start_time": "2021-10-07T11:53:10.606Z"
   },
   {
    "duration": 7,
    "start_time": "2021-10-07T11:53:27.324Z"
   },
   {
    "duration": 5167,
    "start_time": "2021-10-07T11:54:55.826Z"
   },
   {
    "duration": 4,
    "start_time": "2021-10-07T11:56:48.891Z"
   },
   {
    "duration": 643,
    "start_time": "2021-10-07T11:56:59.952Z"
   },
   {
    "duration": 3,
    "start_time": "2021-10-07T11:57:06.229Z"
   },
   {
    "duration": 72,
    "start_time": "2021-10-07T11:57:27.028Z"
   },
   {
    "duration": 176,
    "start_time": "2021-10-07T11:57:54.498Z"
   },
   {
    "duration": 43,
    "start_time": "2021-10-07T11:58:15.287Z"
   },
   {
    "duration": 5,
    "start_time": "2021-10-07T12:01:22.457Z"
   },
   {
    "duration": 3,
    "start_time": "2021-10-07T12:11:03.425Z"
   },
   {
    "duration": 23,
    "start_time": "2021-10-07T12:14:54.982Z"
   },
   {
    "duration": 6,
    "start_time": "2021-10-07T12:15:48.208Z"
   },
   {
    "duration": 322,
    "start_time": "2021-10-07T12:25:24.844Z"
   },
   {
    "duration": 1155,
    "start_time": "2021-10-07T12:25:34.234Z"
   },
   {
    "duration": 9,
    "start_time": "2021-10-07T12:25:35.391Z"
   },
   {
    "duration": 817,
    "start_time": "2021-10-07T12:25:35.403Z"
   },
   {
    "duration": 1309,
    "start_time": "2021-10-07T12:25:36.222Z"
   },
   {
    "duration": 6,
    "start_time": "2021-10-07T12:25:37.533Z"
   },
   {
    "duration": 14,
    "start_time": "2021-10-07T12:25:37.540Z"
   },
   {
    "duration": 12,
    "start_time": "2021-10-07T12:25:37.555Z"
   },
   {
    "duration": 15,
    "start_time": "2021-10-07T12:25:37.568Z"
   },
   {
    "duration": 15,
    "start_time": "2021-10-07T12:25:37.585Z"
   },
   {
    "duration": 12,
    "start_time": "2021-10-07T12:25:37.604Z"
   },
   {
    "duration": 14,
    "start_time": "2021-10-07T12:25:37.618Z"
   },
   {
    "duration": 12,
    "start_time": "2021-10-07T12:25:37.633Z"
   },
   {
    "duration": 11,
    "start_time": "2021-10-07T12:25:37.647Z"
   },
   {
    "duration": 23,
    "start_time": "2021-10-07T12:25:37.659Z"
   },
   {
    "duration": 28,
    "start_time": "2021-10-07T12:25:37.684Z"
   },
   {
    "duration": 18,
    "start_time": "2021-10-07T12:25:37.714Z"
   },
   {
    "duration": 13,
    "start_time": "2021-10-07T12:25:37.733Z"
   },
   {
    "duration": 18,
    "start_time": "2021-10-07T12:25:37.748Z"
   },
   {
    "duration": 24,
    "start_time": "2021-10-07T12:25:37.767Z"
   },
   {
    "duration": 26,
    "start_time": "2021-10-07T12:25:37.792Z"
   },
   {
    "duration": 22,
    "start_time": "2021-10-07T12:25:37.819Z"
   },
   {
    "duration": 23,
    "start_time": "2021-10-07T12:25:37.843Z"
   },
   {
    "duration": 14,
    "start_time": "2021-10-07T12:25:37.868Z"
   },
   {
    "duration": 19,
    "start_time": "2021-10-07T12:25:37.883Z"
   },
   {
    "duration": 279,
    "start_time": "2021-10-07T12:25:37.905Z"
   },
   {
    "duration": 4,
    "start_time": "2021-10-07T12:25:38.186Z"
   },
   {
    "duration": 21,
    "start_time": "2021-10-07T12:25:38.193Z"
   },
   {
    "duration": 294,
    "start_time": "2021-10-07T12:25:38.217Z"
   },
   {
    "duration": 6,
    "start_time": "2021-10-07T12:25:38.513Z"
   },
   {
    "duration": 282,
    "start_time": "2021-10-07T12:25:38.521Z"
   },
   {
    "duration": 5,
    "start_time": "2021-10-07T12:25:38.805Z"
   },
   {
    "duration": 329,
    "start_time": "2021-10-07T12:25:38.812Z"
   },
   {
    "duration": 275,
    "start_time": "2021-10-07T12:25:39.143Z"
   },
   {
    "duration": 8,
    "start_time": "2021-10-07T12:25:39.420Z"
   },
   {
    "duration": 4,
    "start_time": "2021-10-07T12:25:39.429Z"
   },
   {
    "duration": 6,
    "start_time": "2021-10-07T12:25:39.434Z"
   },
   {
    "duration": 281,
    "start_time": "2021-10-07T12:25:39.442Z"
   },
   {
    "duration": 7,
    "start_time": "2021-10-07T12:25:39.725Z"
   },
   {
    "duration": 4,
    "start_time": "2021-10-07T12:25:39.733Z"
   },
   {
    "duration": 5,
    "start_time": "2021-10-07T12:25:39.739Z"
   },
   {
    "duration": 5,
    "start_time": "2021-10-07T12:25:39.745Z"
   },
   {
    "duration": 5,
    "start_time": "2021-10-07T12:25:39.751Z"
   },
   {
    "duration": 7,
    "start_time": "2021-10-07T12:25:39.757Z"
   },
   {
    "duration": 5,
    "start_time": "2021-10-07T12:25:39.766Z"
   },
   {
    "duration": 47,
    "start_time": "2021-10-07T12:25:39.772Z"
   },
   {
    "duration": 11,
    "start_time": "2021-10-07T12:25:39.821Z"
   },
   {
    "duration": 176,
    "start_time": "2021-10-07T12:25:39.834Z"
   },
   {
    "duration": 109,
    "start_time": "2021-10-07T12:25:40.016Z"
   },
   {
    "duration": 385,
    "start_time": "2021-10-07T12:25:40.127Z"
   },
   {
    "duration": -10886851,
    "start_time": "2021-10-07T15:27:07.366Z"
   },
   {
    "duration": -10886854,
    "start_time": "2021-10-07T15:27:07.370Z"
   },
   {
    "duration": -10886857,
    "start_time": "2021-10-07T15:27:07.374Z"
   },
   {
    "duration": 312,
    "start_time": "2021-10-07T12:26:02.261Z"
   },
   {
    "duration": 4,
    "start_time": "2021-10-07T12:26:36.819Z"
   },
   {
    "duration": 3,
    "start_time": "2021-10-07T12:26:45.190Z"
   },
   {
    "duration": 35,
    "start_time": "2021-10-07T12:27:21.380Z"
   },
   {
    "duration": 292,
    "start_time": "2021-10-07T12:29:09.544Z"
   },
   {
    "duration": 5,
    "start_time": "2021-10-07T12:29:19.427Z"
   },
   {
    "duration": 4,
    "start_time": "2021-10-07T12:29:25.817Z"
   },
   {
    "duration": 28,
    "start_time": "2021-10-07T12:31:15.089Z"
   },
   {
    "duration": 8,
    "start_time": "2021-10-07T12:31:33.387Z"
   },
   {
    "duration": 5,
    "start_time": "2021-10-07T12:31:48.214Z"
   },
   {
    "duration": 145,
    "start_time": "2021-10-07T12:34:17.314Z"
   },
   {
    "duration": 6,
    "start_time": "2021-10-07T12:34:21.134Z"
   },
   {
    "duration": 4,
    "start_time": "2021-10-07T12:34:22.004Z"
   },
   {
    "duration": 3,
    "start_time": "2021-10-07T12:34:54.013Z"
   },
   {
    "duration": 3,
    "start_time": "2021-10-07T12:34:58.912Z"
   },
   {
    "duration": 1139,
    "start_time": "2021-10-07T12:38:24.012Z"
   },
   {
    "duration": 5,
    "start_time": "2021-10-07T12:38:25.153Z"
   },
   {
    "duration": 769,
    "start_time": "2021-10-07T12:38:25.160Z"
   },
   {
    "duration": 995,
    "start_time": "2021-10-07T12:38:25.931Z"
   },
   {
    "duration": 5,
    "start_time": "2021-10-07T12:38:26.928Z"
   },
   {
    "duration": 3,
    "start_time": "2021-10-07T12:38:26.935Z"
   },
   {
    "duration": 5,
    "start_time": "2021-10-07T12:38:26.940Z"
   },
   {
    "duration": 4,
    "start_time": "2021-10-07T12:38:26.947Z"
   },
   {
    "duration": 5,
    "start_time": "2021-10-07T12:38:26.953Z"
   },
   {
    "duration": 6,
    "start_time": "2021-10-07T12:38:26.959Z"
   },
   {
    "duration": 7,
    "start_time": "2021-10-07T12:38:26.966Z"
   },
   {
    "duration": 31,
    "start_time": "2021-10-07T12:38:26.975Z"
   },
   {
    "duration": 10,
    "start_time": "2021-10-07T12:38:27.008Z"
   },
   {
    "duration": 9,
    "start_time": "2021-10-07T12:38:27.019Z"
   },
   {
    "duration": 11,
    "start_time": "2021-10-07T12:38:27.029Z"
   },
   {
    "duration": 8,
    "start_time": "2021-10-07T12:38:27.041Z"
   },
   {
    "duration": 2,
    "start_time": "2021-10-07T12:38:27.051Z"
   },
   {
    "duration": 5,
    "start_time": "2021-10-07T12:38:27.054Z"
   },
   {
    "duration": 10,
    "start_time": "2021-10-07T12:38:27.060Z"
   },
   {
    "duration": 30,
    "start_time": "2021-10-07T12:38:27.071Z"
   },
   {
    "duration": 8,
    "start_time": "2021-10-07T12:38:27.103Z"
   },
   {
    "duration": 5,
    "start_time": "2021-10-07T12:38:27.114Z"
   },
   {
    "duration": 4,
    "start_time": "2021-10-07T12:38:27.123Z"
   },
   {
    "duration": 3,
    "start_time": "2021-10-07T12:38:27.129Z"
   },
   {
    "duration": 291,
    "start_time": "2021-10-07T12:38:27.134Z"
   },
   {
    "duration": 4,
    "start_time": "2021-10-07T12:38:27.427Z"
   },
   {
    "duration": 8,
    "start_time": "2021-10-07T12:38:27.432Z"
   },
   {
    "duration": 273,
    "start_time": "2021-10-07T12:38:27.442Z"
   },
   {
    "duration": 4,
    "start_time": "2021-10-07T12:38:27.717Z"
   },
   {
    "duration": 245,
    "start_time": "2021-10-07T12:38:27.722Z"
   },
   {
    "duration": 3,
    "start_time": "2021-10-07T12:38:27.968Z"
   },
   {
    "duration": 319,
    "start_time": "2021-10-07T12:38:27.973Z"
   },
   {
    "duration": 264,
    "start_time": "2021-10-07T12:38:28.294Z"
   },
   {
    "duration": 8,
    "start_time": "2021-10-07T12:38:28.559Z"
   },
   {
    "duration": 4,
    "start_time": "2021-10-07T12:38:28.568Z"
   },
   {
    "duration": 6,
    "start_time": "2021-10-07T12:38:28.573Z"
   },
   {
    "duration": 274,
    "start_time": "2021-10-07T12:38:28.581Z"
   },
   {
    "duration": 2,
    "start_time": "2021-10-07T12:38:28.857Z"
   },
   {
    "duration": 7,
    "start_time": "2021-10-07T12:38:28.861Z"
   },
   {
    "duration": 6,
    "start_time": "2021-10-07T12:38:28.869Z"
   },
   {
    "duration": 5,
    "start_time": "2021-10-07T12:38:28.876Z"
   },
   {
    "duration": 17,
    "start_time": "2021-10-07T12:38:28.883Z"
   },
   {
    "duration": 12,
    "start_time": "2021-10-07T12:38:28.902Z"
   },
   {
    "duration": 4,
    "start_time": "2021-10-07T12:38:28.916Z"
   },
   {
    "duration": 12,
    "start_time": "2021-10-07T12:38:28.922Z"
   },
   {
    "duration": 10,
    "start_time": "2021-10-07T12:38:28.936Z"
   },
   {
    "duration": 64,
    "start_time": "2021-10-07T12:38:28.948Z"
   },
   {
    "duration": 188,
    "start_time": "2021-10-07T12:38:29.014Z"
   },
   {
    "duration": 5,
    "start_time": "2021-10-07T12:38:29.209Z"
   },
   {
    "duration": 91,
    "start_time": "2021-10-07T12:38:29.216Z"
   },
   {
    "duration": 5,
    "start_time": "2021-10-07T12:38:29.310Z"
   },
   {
    "duration": 182,
    "start_time": "2021-10-07T12:38:29.317Z"
   },
   {
    "duration": 109,
    "start_time": "2021-10-07T12:38:29.501Z"
   },
   {
    "duration": 87,
    "start_time": "2021-10-07T12:38:29.613Z"
   },
   {
    "duration": 4,
    "start_time": "2021-10-07T12:38:29.702Z"
   },
   {
    "duration": 6,
    "start_time": "2021-10-07T12:38:29.709Z"
   },
   {
    "duration": 31015,
    "start_time": "2021-10-07T12:38:29.717Z"
   },
   {
    "duration": 2,
    "start_time": "2021-10-07T12:39:00.734Z"
   },
   {
    "duration": 1095,
    "start_time": "2021-10-07T12:39:10.662Z"
   },
   {
    "duration": 5,
    "start_time": "2021-10-07T12:39:11.759Z"
   },
   {
    "duration": 775,
    "start_time": "2021-10-07T12:39:11.766Z"
   },
   {
    "duration": 1010,
    "start_time": "2021-10-07T12:39:12.543Z"
   },
   {
    "duration": 6,
    "start_time": "2021-10-07T12:39:13.554Z"
   },
   {
    "duration": 4,
    "start_time": "2021-10-07T12:39:13.561Z"
   },
   {
    "duration": 8,
    "start_time": "2021-10-07T12:39:13.566Z"
   },
   {
    "duration": 24,
    "start_time": "2021-10-07T12:39:13.576Z"
   },
   {
    "duration": 5,
    "start_time": "2021-10-07T12:39:13.604Z"
   },
   {
    "duration": 4,
    "start_time": "2021-10-07T12:39:13.612Z"
   },
   {
    "duration": 4,
    "start_time": "2021-10-07T12:39:13.618Z"
   },
   {
    "duration": 6,
    "start_time": "2021-10-07T12:39:13.623Z"
   },
   {
    "duration": 4,
    "start_time": "2021-10-07T12:39:13.631Z"
   },
   {
    "duration": 8,
    "start_time": "2021-10-07T12:39:13.637Z"
   },
   {
    "duration": 11,
    "start_time": "2021-10-07T12:39:13.646Z"
   },
   {
    "duration": 41,
    "start_time": "2021-10-07T12:39:13.659Z"
   },
   {
    "duration": 4,
    "start_time": "2021-10-07T12:39:13.702Z"
   },
   {
    "duration": 5,
    "start_time": "2021-10-07T12:39:13.709Z"
   },
   {
    "duration": 9,
    "start_time": "2021-10-07T12:39:13.716Z"
   },
   {
    "duration": 11,
    "start_time": "2021-10-07T12:39:13.727Z"
   },
   {
    "duration": 6,
    "start_time": "2021-10-07T12:39:13.740Z"
   },
   {
    "duration": 6,
    "start_time": "2021-10-07T12:39:13.747Z"
   },
   {
    "duration": 3,
    "start_time": "2021-10-07T12:39:13.755Z"
   },
   {
    "duration": 4,
    "start_time": "2021-10-07T12:39:13.759Z"
   },
   {
    "duration": 298,
    "start_time": "2021-10-07T12:39:13.765Z"
   },
   {
    "duration": 4,
    "start_time": "2021-10-07T12:39:14.064Z"
   },
   {
    "duration": 5,
    "start_time": "2021-10-07T12:39:14.071Z"
   },
   {
    "duration": 281,
    "start_time": "2021-10-07T12:39:14.078Z"
   },
   {
    "duration": 4,
    "start_time": "2021-10-07T12:39:14.361Z"
   },
   {
    "duration": 325,
    "start_time": "2021-10-07T12:39:14.366Z"
   },
   {
    "duration": 7,
    "start_time": "2021-10-07T12:39:14.693Z"
   },
   {
    "duration": 261,
    "start_time": "2021-10-07T12:39:14.703Z"
   },
   {
    "duration": 278,
    "start_time": "2021-10-07T12:39:14.966Z"
   },
   {
    "duration": 8,
    "start_time": "2021-10-07T12:39:15.246Z"
   },
   {
    "duration": 4,
    "start_time": "2021-10-07T12:39:15.255Z"
   },
   {
    "duration": 5,
    "start_time": "2021-10-07T12:39:15.261Z"
   },
   {
    "duration": 283,
    "start_time": "2021-10-07T12:39:15.267Z"
   },
   {
    "duration": 2,
    "start_time": "2021-10-07T12:39:15.552Z"
   },
   {
    "duration": 8,
    "start_time": "2021-10-07T12:39:15.555Z"
   },
   {
    "duration": 6,
    "start_time": "2021-10-07T12:39:15.564Z"
   },
   {
    "duration": 5,
    "start_time": "2021-10-07T12:39:15.571Z"
   },
   {
    "duration": 6,
    "start_time": "2021-10-07T12:39:15.577Z"
   },
   {
    "duration": 4,
    "start_time": "2021-10-07T12:39:15.601Z"
   },
   {
    "duration": 9,
    "start_time": "2021-10-07T12:39:15.608Z"
   },
   {
    "duration": 12,
    "start_time": "2021-10-07T12:39:15.618Z"
   },
   {
    "duration": 9,
    "start_time": "2021-10-07T12:39:15.632Z"
   },
   {
    "duration": 69,
    "start_time": "2021-10-07T12:39:15.643Z"
   },
   {
    "duration": 108,
    "start_time": "2021-10-07T12:39:15.800Z"
   },
   {
    "duration": 3,
    "start_time": "2021-10-07T12:39:15.910Z"
   },
   {
    "duration": 88,
    "start_time": "2021-10-07T12:39:15.915Z"
   },
   {
    "duration": 6,
    "start_time": "2021-10-07T12:39:16.006Z"
   },
   {
    "duration": 199,
    "start_time": "2021-10-07T12:39:16.014Z"
   },
   {
    "duration": 100,
    "start_time": "2021-10-07T12:39:16.215Z"
   },
   {
    "duration": 96,
    "start_time": "2021-10-07T12:39:16.321Z"
   },
   {
    "duration": 4,
    "start_time": "2021-10-07T12:39:16.500Z"
   },
   {
    "duration": 7,
    "start_time": "2021-10-07T12:39:16.507Z"
   },
   {
    "duration": 31471,
    "start_time": "2021-10-07T12:39:16.517Z"
   },
   {
    "duration": 10,
    "start_time": "2021-10-07T12:39:47.989Z"
   },
   {
    "duration": 4,
    "start_time": "2021-10-07T12:40:35.460Z"
   },
   {
    "duration": 9,
    "start_time": "2021-10-07T12:46:04.967Z"
   },
   {
    "duration": 242,
    "start_time": "2021-10-07T12:46:18.785Z"
   },
   {
    "duration": 8,
    "start_time": "2021-10-07T12:46:38.746Z"
   },
   {
    "duration": 5,
    "start_time": "2021-10-07T12:48:15.192Z"
   },
   {
    "duration": 5,
    "start_time": "2021-10-07T12:48:15.716Z"
   },
   {
    "duration": 3,
    "start_time": "2021-10-07T12:48:46.332Z"
   },
   {
    "duration": 3,
    "start_time": "2021-10-07T12:48:51.467Z"
   },
   {
    "duration": 8,
    "start_time": "2021-10-07T12:52:12.388Z"
   },
   {
    "duration": 146,
    "start_time": "2021-10-07T12:56:34.428Z"
   },
   {
    "duration": 1066,
    "start_time": "2021-10-07T12:56:47.661Z"
   },
   {
    "duration": 5,
    "start_time": "2021-10-07T12:56:48.729Z"
   },
   {
    "duration": 1004,
    "start_time": "2021-10-07T12:56:48.736Z"
   },
   {
    "duration": 1007,
    "start_time": "2021-10-07T12:56:49.742Z"
   },
   {
    "duration": 7,
    "start_time": "2021-10-07T12:56:50.751Z"
   },
   {
    "duration": 4,
    "start_time": "2021-10-07T12:56:50.760Z"
   },
   {
    "duration": 9,
    "start_time": "2021-10-07T12:56:50.765Z"
   },
   {
    "duration": 25,
    "start_time": "2021-10-07T12:56:50.777Z"
   },
   {
    "duration": 7,
    "start_time": "2021-10-07T12:56:50.805Z"
   },
   {
    "duration": 9,
    "start_time": "2021-10-07T12:56:50.815Z"
   },
   {
    "duration": 6,
    "start_time": "2021-10-07T12:56:50.826Z"
   },
   {
    "duration": 8,
    "start_time": "2021-10-07T12:56:50.833Z"
   },
   {
    "duration": 4,
    "start_time": "2021-10-07T12:56:50.843Z"
   },
   {
    "duration": 10,
    "start_time": "2021-10-07T12:56:50.848Z"
   },
   {
    "duration": 12,
    "start_time": "2021-10-07T12:56:50.859Z"
   },
   {
    "duration": 28,
    "start_time": "2021-10-07T12:56:50.873Z"
   },
   {
    "duration": 5,
    "start_time": "2021-10-07T12:56:50.903Z"
   },
   {
    "duration": 9,
    "start_time": "2021-10-07T12:56:50.909Z"
   },
   {
    "duration": 11,
    "start_time": "2021-10-07T12:56:50.920Z"
   },
   {
    "duration": 9,
    "start_time": "2021-10-07T12:56:50.933Z"
   },
   {
    "duration": 8,
    "start_time": "2021-10-07T12:56:50.944Z"
   },
   {
    "duration": 7,
    "start_time": "2021-10-07T12:56:50.954Z"
   },
   {
    "duration": 3,
    "start_time": "2021-10-07T12:56:50.965Z"
   },
   {
    "duration": 6,
    "start_time": "2021-10-07T12:56:50.970Z"
   },
   {
    "duration": 287,
    "start_time": "2021-10-07T12:56:50.978Z"
   },
   {
    "duration": 5,
    "start_time": "2021-10-07T12:56:51.268Z"
   },
   {
    "duration": 8,
    "start_time": "2021-10-07T12:56:51.274Z"
   },
   {
    "duration": 278,
    "start_time": "2021-10-07T12:56:51.284Z"
   },
   {
    "duration": 6,
    "start_time": "2021-10-07T12:56:51.564Z"
   },
   {
    "duration": 268,
    "start_time": "2021-10-07T12:56:51.571Z"
   },
   {
    "duration": 4,
    "start_time": "2021-10-07T12:56:51.840Z"
   },
   {
    "duration": 323,
    "start_time": "2021-10-07T12:56:51.846Z"
   },
   {
    "duration": 258,
    "start_time": "2021-10-07T12:56:52.171Z"
   },
   {
    "duration": 8,
    "start_time": "2021-10-07T12:56:52.430Z"
   },
   {
    "duration": 14,
    "start_time": "2021-10-07T12:56:52.439Z"
   },
   {
    "duration": 16,
    "start_time": "2021-10-07T12:56:52.455Z"
   },
   {
    "duration": 252,
    "start_time": "2021-10-07T12:56:52.473Z"
   },
   {
    "duration": 2,
    "start_time": "2021-10-07T12:56:52.727Z"
   },
   {
    "duration": 8,
    "start_time": "2021-10-07T12:56:52.731Z"
   },
   {
    "duration": 7,
    "start_time": "2021-10-07T12:56:52.740Z"
   },
   {
    "duration": 7,
    "start_time": "2021-10-07T12:56:52.748Z"
   },
   {
    "duration": 5,
    "start_time": "2021-10-07T12:56:52.756Z"
   },
   {
    "duration": 5,
    "start_time": "2021-10-07T12:56:52.763Z"
   },
   {
    "duration": 6,
    "start_time": "2021-10-07T12:56:52.770Z"
   },
   {
    "duration": 33,
    "start_time": "2021-10-07T12:56:52.777Z"
   },
   {
    "duration": 12,
    "start_time": "2021-10-07T12:56:52.812Z"
   },
   {
    "duration": 79,
    "start_time": "2021-10-07T12:56:52.825Z"
   },
   {
    "duration": 9,
    "start_time": "2021-10-07T12:56:52.905Z"
   },
   {
    "duration": 109,
    "start_time": "2021-10-07T12:56:52.916Z"
   },
   {
    "duration": 17,
    "start_time": "2021-10-07T12:56:53.100Z"
   },
   {
    "duration": 15,
    "start_time": "2021-10-07T12:56:53.119Z"
   },
   {
    "duration": 65,
    "start_time": "2021-10-07T12:56:53.136Z"
   },
   {
    "duration": 98,
    "start_time": "2021-10-07T12:56:53.203Z"
   },
   {
    "duration": 7,
    "start_time": "2021-10-07T12:56:53.303Z"
   },
   {
    "duration": 89,
    "start_time": "2021-10-07T12:56:53.312Z"
   },
   {
    "duration": 18,
    "start_time": "2021-10-07T12:56:53.404Z"
   },
   {
    "duration": 31196,
    "start_time": "2021-10-07T12:56:53.424Z"
   },
   {
    "duration": 4,
    "start_time": "2021-10-07T12:57:24.621Z"
   },
   {
    "duration": 10,
    "start_time": "2021-10-07T12:57:24.627Z"
   },
   {
    "duration": 31179,
    "start_time": "2021-10-07T12:57:24.639Z"
   },
   {
    "duration": 9,
    "start_time": "2021-10-07T12:57:55.819Z"
   },
   {
    "duration": 4,
    "start_time": "2021-10-07T12:57:55.829Z"
   },
   {
    "duration": 6,
    "start_time": "2021-10-07T12:57:55.835Z"
   },
   {
    "duration": 6,
    "start_time": "2021-10-07T12:57:55.843Z"
   },
   {
    "duration": 6,
    "start_time": "2021-10-07T12:57:55.850Z"
   },
   {
    "duration": 30760,
    "start_time": "2021-10-07T12:57:55.857Z"
   },
   {
    "duration": 8,
    "start_time": "2021-10-07T12:58:26.619Z"
   },
   {
    "duration": 8,
    "start_time": "2021-10-07T12:58:26.631Z"
   },
   {
    "duration": 9,
    "start_time": "2021-10-07T13:00:08.636Z"
   },
   {
    "duration": 8,
    "start_time": "2021-10-07T13:00:09.275Z"
   },
   {
    "duration": 1129,
    "start_time": "2021-10-07T13:02:16.049Z"
   },
   {
    "duration": 6,
    "start_time": "2021-10-07T13:02:17.180Z"
   },
   {
    "duration": 1038,
    "start_time": "2021-10-07T13:02:17.188Z"
   },
   {
    "duration": 1008,
    "start_time": "2021-10-07T13:02:18.228Z"
   },
   {
    "duration": 6,
    "start_time": "2021-10-07T13:02:19.238Z"
   },
   {
    "duration": 4,
    "start_time": "2021-10-07T13:02:19.246Z"
   },
   {
    "duration": 12,
    "start_time": "2021-10-07T13:02:19.252Z"
   },
   {
    "duration": 3,
    "start_time": "2021-10-07T13:02:19.266Z"
   },
   {
    "duration": 4,
    "start_time": "2021-10-07T13:02:19.271Z"
   },
   {
    "duration": 23,
    "start_time": "2021-10-07T13:02:19.277Z"
   },
   {
    "duration": 6,
    "start_time": "2021-10-07T13:02:19.302Z"
   },
   {
    "duration": 6,
    "start_time": "2021-10-07T13:02:19.310Z"
   },
   {
    "duration": 3,
    "start_time": "2021-10-07T13:02:19.317Z"
   },
   {
    "duration": 8,
    "start_time": "2021-10-07T13:02:19.322Z"
   },
   {
    "duration": 13,
    "start_time": "2021-10-07T13:02:19.331Z"
   },
   {
    "duration": 9,
    "start_time": "2021-10-07T13:02:19.345Z"
   },
   {
    "duration": 2,
    "start_time": "2021-10-07T13:02:19.355Z"
   },
   {
    "duration": 6,
    "start_time": "2021-10-07T13:02:19.359Z"
   },
   {
    "duration": 33,
    "start_time": "2021-10-07T13:02:19.366Z"
   },
   {
    "duration": 8,
    "start_time": "2021-10-07T13:02:19.402Z"
   },
   {
    "duration": 5,
    "start_time": "2021-10-07T13:02:19.412Z"
   },
   {
    "duration": 6,
    "start_time": "2021-10-07T13:02:19.419Z"
   },
   {
    "duration": 3,
    "start_time": "2021-10-07T13:02:19.429Z"
   },
   {
    "duration": 5,
    "start_time": "2021-10-07T13:02:19.434Z"
   },
   {
    "duration": 296,
    "start_time": "2021-10-07T13:02:19.441Z"
   },
   {
    "duration": 4,
    "start_time": "2021-10-07T13:02:19.739Z"
   },
   {
    "duration": 7,
    "start_time": "2021-10-07T13:02:19.744Z"
   },
   {
    "duration": 284,
    "start_time": "2021-10-07T13:02:19.752Z"
   },
   {
    "duration": 5,
    "start_time": "2021-10-07T13:02:20.037Z"
   },
   {
    "duration": 279,
    "start_time": "2021-10-07T13:02:20.044Z"
   },
   {
    "duration": 2,
    "start_time": "2021-10-07T13:02:20.325Z"
   },
   {
    "duration": 319,
    "start_time": "2021-10-07T13:02:20.329Z"
   },
   {
    "duration": 274,
    "start_time": "2021-10-07T13:02:20.650Z"
   },
   {
    "duration": 8,
    "start_time": "2021-10-07T13:02:20.925Z"
   },
   {
    "duration": 5,
    "start_time": "2021-10-07T13:02:20.934Z"
   },
   {
    "duration": 8,
    "start_time": "2021-10-07T13:02:20.940Z"
   },
   {
    "duration": 270,
    "start_time": "2021-10-07T13:02:20.949Z"
   },
   {
    "duration": 2,
    "start_time": "2021-10-07T13:02:21.221Z"
   },
   {
    "duration": 16,
    "start_time": "2021-10-07T13:02:21.224Z"
   },
   {
    "duration": 5,
    "start_time": "2021-10-07T13:02:21.242Z"
   },
   {
    "duration": 5,
    "start_time": "2021-10-07T13:02:21.248Z"
   },
   {
    "duration": 6,
    "start_time": "2021-10-07T13:02:21.255Z"
   },
   {
    "duration": 9,
    "start_time": "2021-10-07T13:02:21.262Z"
   },
   {
    "duration": 6,
    "start_time": "2021-10-07T13:02:21.272Z"
   },
   {
    "duration": 13,
    "start_time": "2021-10-07T13:02:21.279Z"
   },
   {
    "duration": 22,
    "start_time": "2021-10-07T13:02:21.294Z"
   },
   {
    "duration": 93,
    "start_time": "2021-10-07T13:02:21.317Z"
   },
   {
    "duration": 101,
    "start_time": "2021-10-07T13:02:21.415Z"
   },
   {
    "duration": 94,
    "start_time": "2021-10-07T13:02:21.520Z"
   },
   {
    "duration": 92,
    "start_time": "2021-10-07T13:02:21.617Z"
   },
   {
    "duration": 5,
    "start_time": "2021-10-07T13:02:21.714Z"
   },
   {
    "duration": 91,
    "start_time": "2021-10-07T13:02:21.721Z"
   },
   {
    "duration": 98,
    "start_time": "2021-10-07T13:02:21.815Z"
   },
   {
    "duration": 86,
    "start_time": "2021-10-07T13:02:21.917Z"
   },
   {
    "duration": 3,
    "start_time": "2021-10-07T13:02:22.010Z"
   },
   {
    "duration": 17,
    "start_time": "2021-10-07T13:02:22.015Z"
   },
   {
    "duration": 31480,
    "start_time": "2021-10-07T13:02:22.033Z"
   },
   {
    "duration": 4,
    "start_time": "2021-10-07T13:02:53.514Z"
   },
   {
    "duration": 19,
    "start_time": "2021-10-07T13:02:53.520Z"
   },
   {
    "duration": 30690,
    "start_time": "2021-10-07T13:02:53.540Z"
   },
   {
    "duration": 9,
    "start_time": "2021-10-07T13:03:24.232Z"
   },
   {
    "duration": 4,
    "start_time": "2021-10-07T13:03:24.242Z"
   },
   {
    "duration": 8,
    "start_time": "2021-10-07T13:03:24.248Z"
   },
   {
    "duration": 6,
    "start_time": "2021-10-07T13:03:24.257Z"
   },
   {
    "duration": 6,
    "start_time": "2021-10-07T13:03:24.265Z"
   },
   {
    "duration": 32,
    "start_time": "2021-10-07T13:03:24.272Z"
   },
   {
    "duration": 10,
    "start_time": "2021-10-07T13:03:24.307Z"
   },
   {
    "duration": 4,
    "start_time": "2021-10-07T13:03:24.322Z"
   },
   {
    "duration": 6,
    "start_time": "2021-10-07T13:03:24.328Z"
   },
   {
    "duration": 5,
    "start_time": "2021-10-07T13:03:24.336Z"
   },
   {
    "duration": 8,
    "start_time": "2021-10-07T13:03:39.735Z"
   },
   {
    "duration": 5,
    "start_time": "2021-10-07T13:03:40.559Z"
   },
   {
    "duration": 5,
    "start_time": "2021-10-07T13:03:40.969Z"
   },
   {
    "duration": 3,
    "start_time": "2021-10-07T13:03:41.324Z"
   },
   {
    "duration": 3,
    "start_time": "2021-10-07T13:03:41.713Z"
   },
   {
    "duration": 12,
    "start_time": "2021-10-07T13:03:47.504Z"
   },
   {
    "duration": 14,
    "start_time": "2021-10-07T13:03:47.799Z"
   },
   {
    "duration": 1106,
    "start_time": "2021-10-07T13:15:49.432Z"
   },
   {
    "duration": 7,
    "start_time": "2021-10-07T13:15:50.540Z"
   },
   {
    "duration": 746,
    "start_time": "2021-10-07T13:15:50.549Z"
   },
   {
    "duration": 1022,
    "start_time": "2021-10-07T13:15:51.299Z"
   },
   {
    "duration": 6,
    "start_time": "2021-10-07T13:15:52.322Z"
   },
   {
    "duration": 9,
    "start_time": "2021-10-07T13:15:52.329Z"
   },
   {
    "duration": 14,
    "start_time": "2021-10-07T13:15:52.339Z"
   },
   {
    "duration": 6,
    "start_time": "2021-10-07T13:15:52.355Z"
   },
   {
    "duration": 21,
    "start_time": "2021-10-07T13:15:52.362Z"
   },
   {
    "duration": 15,
    "start_time": "2021-10-07T13:15:52.385Z"
   },
   {
    "duration": 18,
    "start_time": "2021-10-07T13:15:52.403Z"
   },
   {
    "duration": 13,
    "start_time": "2021-10-07T13:15:52.422Z"
   },
   {
    "duration": 11,
    "start_time": "2021-10-07T13:15:52.437Z"
   },
   {
    "duration": 12,
    "start_time": "2021-10-07T13:15:52.450Z"
   },
   {
    "duration": 21,
    "start_time": "2021-10-07T13:15:52.463Z"
   },
   {
    "duration": 17,
    "start_time": "2021-10-07T13:15:52.485Z"
   },
   {
    "duration": 5,
    "start_time": "2021-10-07T13:15:52.504Z"
   },
   {
    "duration": 14,
    "start_time": "2021-10-07T13:15:52.511Z"
   },
   {
    "duration": 14,
    "start_time": "2021-10-07T13:15:52.526Z"
   },
   {
    "duration": 21,
    "start_time": "2021-10-07T13:15:52.541Z"
   },
   {
    "duration": 15,
    "start_time": "2021-10-07T13:15:52.564Z"
   },
   {
    "duration": 9,
    "start_time": "2021-10-07T13:15:52.580Z"
   },
   {
    "duration": 3,
    "start_time": "2021-10-07T13:15:52.592Z"
   },
   {
    "duration": 10,
    "start_time": "2021-10-07T13:15:52.597Z"
   },
   {
    "duration": 262,
    "start_time": "2021-10-07T13:15:52.613Z"
   },
   {
    "duration": 4,
    "start_time": "2021-10-07T13:15:52.876Z"
   },
   {
    "duration": 7,
    "start_time": "2021-10-07T13:15:52.882Z"
   },
   {
    "duration": 269,
    "start_time": "2021-10-07T13:15:52.900Z"
   },
   {
    "duration": 5,
    "start_time": "2021-10-07T13:15:53.170Z"
   },
   {
    "duration": 280,
    "start_time": "2021-10-07T13:15:53.176Z"
   },
   {
    "duration": 4,
    "start_time": "2021-10-07T13:15:53.459Z"
   },
   {
    "duration": 358,
    "start_time": "2021-10-07T13:15:53.465Z"
   },
   {
    "duration": 293,
    "start_time": "2021-10-07T13:15:53.825Z"
   },
   {
    "duration": 8,
    "start_time": "2021-10-07T13:15:54.119Z"
   },
   {
    "duration": 6,
    "start_time": "2021-10-07T13:15:54.129Z"
   },
   {
    "duration": 13,
    "start_time": "2021-10-07T13:15:54.137Z"
   },
   {
    "duration": 256,
    "start_time": "2021-10-07T13:15:54.152Z"
   },
   {
    "duration": 3,
    "start_time": "2021-10-07T13:15:54.410Z"
   },
   {
    "duration": 17,
    "start_time": "2021-10-07T13:15:54.415Z"
   },
   {
    "duration": 12,
    "start_time": "2021-10-07T13:15:54.434Z"
   },
   {
    "duration": 11,
    "start_time": "2021-10-07T13:15:54.448Z"
   },
   {
    "duration": 21,
    "start_time": "2021-10-07T13:15:54.461Z"
   },
   {
    "duration": 14,
    "start_time": "2021-10-07T13:15:54.484Z"
   },
   {
    "duration": 35,
    "start_time": "2021-10-07T13:15:54.503Z"
   },
   {
    "duration": 22,
    "start_time": "2021-10-07T13:15:54.540Z"
   },
   {
    "duration": 12,
    "start_time": "2021-10-07T13:15:54.564Z"
   },
   {
    "duration": 122,
    "start_time": "2021-10-07T13:15:54.578Z"
   },
   {
    "duration": 110,
    "start_time": "2021-10-07T13:15:54.703Z"
   },
   {
    "duration": 84,
    "start_time": "2021-10-07T13:15:54.817Z"
   },
   {
    "duration": 27,
    "start_time": "2021-10-07T13:15:54.903Z"
   },
   {
    "duration": 25,
    "start_time": "2021-10-07T13:15:54.932Z"
   },
   {
    "duration": 45,
    "start_time": "2021-10-07T13:15:54.959Z"
   },
   {
    "duration": 101,
    "start_time": "2021-10-07T13:15:55.006Z"
   },
   {
    "duration": 91,
    "start_time": "2021-10-07T13:15:55.113Z"
   },
   {
    "duration": 11,
    "start_time": "2021-10-07T13:15:55.206Z"
   },
   {
    "duration": 14,
    "start_time": "2021-10-07T13:15:55.219Z"
   },
   {
    "duration": 368273,
    "start_time": "2021-10-07T13:15:55.235Z"
   },
   {
    "duration": 5,
    "start_time": "2021-10-07T13:22:03.511Z"
   },
   {
    "duration": 42,
    "start_time": "2021-10-07T13:22:03.517Z"
   },
   {
    "duration": 364104,
    "start_time": "2021-10-07T13:22:03.560Z"
   },
   {
    "duration": 49,
    "start_time": "2021-10-07T13:28:07.665Z"
   },
   {
    "duration": 4,
    "start_time": "2021-10-07T13:28:07.716Z"
   },
   {
    "duration": 11,
    "start_time": "2021-10-07T13:28:07.722Z"
   },
   {
    "duration": 18,
    "start_time": "2021-10-07T13:28:07.734Z"
   },
   {
    "duration": 18,
    "start_time": "2021-10-07T13:28:07.754Z"
   },
   {
    "duration": 45,
    "start_time": "2021-10-07T13:28:07.774Z"
   },
   {
    "duration": 33,
    "start_time": "2021-10-07T13:28:07.820Z"
   },
   {
    "duration": 2,
    "start_time": "2021-10-07T13:38:14.471Z"
   },
   {
    "duration": 265,
    "start_time": "2021-10-07T13:38:17.589Z"
   },
   {
    "duration": 232,
    "start_time": "2021-10-07T13:38:26.511Z"
   },
   {
    "duration": 266,
    "start_time": "2021-10-07T13:38:29.889Z"
   },
   {
    "duration": 228,
    "start_time": "2021-10-07T13:38:37.333Z"
   },
   {
    "duration": 241,
    "start_time": "2021-10-07T13:38:40.319Z"
   },
   {
    "duration": 246,
    "start_time": "2021-10-07T13:38:46.781Z"
   },
   {
    "duration": 1113,
    "start_time": "2021-10-07T13:50:50.124Z"
   },
   {
    "duration": 5,
    "start_time": "2021-10-07T13:50:51.239Z"
   },
   {
    "duration": 768,
    "start_time": "2021-10-07T13:50:51.246Z"
   },
   {
    "duration": 1021,
    "start_time": "2021-10-07T13:50:52.016Z"
   },
   {
    "duration": 7,
    "start_time": "2021-10-07T13:50:53.039Z"
   },
   {
    "duration": 14,
    "start_time": "2021-10-07T13:50:53.048Z"
   },
   {
    "duration": 17,
    "start_time": "2021-10-07T13:50:53.064Z"
   },
   {
    "duration": 20,
    "start_time": "2021-10-07T13:50:53.083Z"
   },
   {
    "duration": 20,
    "start_time": "2021-10-07T13:50:53.105Z"
   },
   {
    "duration": 15,
    "start_time": "2021-10-07T13:50:53.127Z"
   },
   {
    "duration": 20,
    "start_time": "2021-10-07T13:50:53.144Z"
   },
   {
    "duration": 25,
    "start_time": "2021-10-07T13:50:53.166Z"
   },
   {
    "duration": 10,
    "start_time": "2021-10-07T13:50:53.193Z"
   },
   {
    "duration": 25,
    "start_time": "2021-10-07T13:50:53.214Z"
   },
   {
    "duration": 25,
    "start_time": "2021-10-07T13:50:53.241Z"
   },
   {
    "duration": 14,
    "start_time": "2021-10-07T13:50:53.268Z"
   },
   {
    "duration": 13,
    "start_time": "2021-10-07T13:50:53.284Z"
   },
   {
    "duration": 17,
    "start_time": "2021-10-07T13:50:53.298Z"
   },
   {
    "duration": 12,
    "start_time": "2021-10-07T13:50:53.317Z"
   },
   {
    "duration": 23,
    "start_time": "2021-10-07T13:50:53.330Z"
   },
   {
    "duration": 15,
    "start_time": "2021-10-07T13:50:53.354Z"
   },
   {
    "duration": 24,
    "start_time": "2021-10-07T13:50:53.371Z"
   },
   {
    "duration": 10,
    "start_time": "2021-10-07T13:50:53.399Z"
   },
   {
    "duration": 10,
    "start_time": "2021-10-07T13:50:53.415Z"
   },
   {
    "duration": 8,
    "start_time": "2021-10-07T13:50:53.426Z"
   },
   {
    "duration": 248,
    "start_time": "2021-10-07T13:50:53.435Z"
   },
   {
    "duration": 3,
    "start_time": "2021-10-07T13:50:53.685Z"
   },
   {
    "duration": 22,
    "start_time": "2021-10-07T13:50:53.690Z"
   },
   {
    "duration": 245,
    "start_time": "2021-10-07T13:50:53.714Z"
   },
   {
    "duration": 4,
    "start_time": "2021-10-07T13:50:53.961Z"
   },
   {
    "duration": 273,
    "start_time": "2021-10-07T13:50:53.966Z"
   },
   {
    "duration": 3,
    "start_time": "2021-10-07T13:50:54.240Z"
   },
   {
    "duration": 318,
    "start_time": "2021-10-07T13:50:54.245Z"
   },
   {
    "duration": 266,
    "start_time": "2021-10-07T13:50:54.565Z"
   },
   {
    "duration": 8,
    "start_time": "2021-10-07T13:50:54.833Z"
   },
   {
    "duration": 14,
    "start_time": "2021-10-07T13:50:54.843Z"
   },
   {
    "duration": 20,
    "start_time": "2021-10-07T13:50:54.859Z"
   },
   {
    "duration": 260,
    "start_time": "2021-10-07T13:50:54.881Z"
   },
   {
    "duration": 2,
    "start_time": "2021-10-07T13:50:55.143Z"
   },
   {
    "duration": 20,
    "start_time": "2021-10-07T13:50:55.147Z"
   },
   {
    "duration": 19,
    "start_time": "2021-10-07T13:50:55.169Z"
   },
   {
    "duration": 13,
    "start_time": "2021-10-07T13:50:55.190Z"
   },
   {
    "duration": 12,
    "start_time": "2021-10-07T13:50:55.205Z"
   },
   {
    "duration": 22,
    "start_time": "2021-10-07T13:50:55.219Z"
   },
   {
    "duration": 24,
    "start_time": "2021-10-07T13:50:55.243Z"
   },
   {
    "duration": 19,
    "start_time": "2021-10-07T13:50:55.268Z"
   },
   {
    "duration": 42,
    "start_time": "2021-10-07T13:50:55.288Z"
   },
   {
    "duration": 107,
    "start_time": "2021-10-07T13:50:55.401Z"
   },
   {
    "duration": 93,
    "start_time": "2021-10-07T13:50:55.510Z"
   },
   {
    "duration": 29,
    "start_time": "2021-10-07T13:50:55.606Z"
   },
   {
    "duration": 33,
    "start_time": "2021-10-07T13:50:55.636Z"
   },
   {
    "duration": 130,
    "start_time": "2021-10-07T13:50:55.670Z"
   },
   {
    "duration": 6,
    "start_time": "2021-10-07T13:50:55.809Z"
   },
   {
    "duration": 9,
    "start_time": "2021-10-07T13:50:55.901Z"
   },
   {
    "duration": 89,
    "start_time": "2021-10-07T13:50:55.913Z"
   },
   {
    "duration": 14,
    "start_time": "2021-10-07T13:50:56.005Z"
   },
   {
    "duration": 367928,
    "start_time": "2021-10-07T13:50:56.020Z"
   },
   {
    "duration": 4,
    "start_time": "2021-10-07T13:57:03.949Z"
   },
   {
    "duration": 46,
    "start_time": "2021-10-07T13:57:03.954Z"
   },
   {
    "duration": 1145,
    "start_time": "2021-10-08T15:31:13.636Z"
   },
   {
    "duration": 5,
    "start_time": "2021-10-08T15:31:14.783Z"
   },
   {
    "duration": 681,
    "start_time": "2021-10-08T15:31:14.790Z"
   },
   {
    "duration": 917,
    "start_time": "2021-10-08T15:31:15.473Z"
   },
   {
    "duration": 10,
    "start_time": "2021-10-08T15:31:16.392Z"
   },
   {
    "duration": 4,
    "start_time": "2021-10-08T15:31:16.403Z"
   },
   {
    "duration": 6,
    "start_time": "2021-10-08T15:31:16.409Z"
   },
   {
    "duration": 2,
    "start_time": "2021-10-08T15:31:16.418Z"
   },
   {
    "duration": 3,
    "start_time": "2021-10-08T15:31:16.444Z"
   },
   {
    "duration": 5,
    "start_time": "2021-10-08T15:31:16.449Z"
   },
   {
    "duration": 4,
    "start_time": "2021-10-08T15:31:16.456Z"
   },
   {
    "duration": 5,
    "start_time": "2021-10-08T15:31:16.462Z"
   },
   {
    "duration": 4,
    "start_time": "2021-10-08T15:31:16.469Z"
   },
   {
    "duration": 6,
    "start_time": "2021-10-08T15:31:16.474Z"
   },
   {
    "duration": 11,
    "start_time": "2021-10-08T15:31:16.482Z"
   },
   {
    "duration": 8,
    "start_time": "2021-10-08T15:31:16.495Z"
   },
   {
    "duration": 2,
    "start_time": "2021-10-08T15:31:16.505Z"
   },
   {
    "duration": 3,
    "start_time": "2021-10-08T15:31:16.545Z"
   },
   {
    "duration": 7,
    "start_time": "2021-10-08T15:31:16.550Z"
   },
   {
    "duration": 8,
    "start_time": "2021-10-08T15:31:16.558Z"
   },
   {
    "duration": 5,
    "start_time": "2021-10-08T15:31:16.568Z"
   },
   {
    "duration": 10,
    "start_time": "2021-10-08T15:31:16.575Z"
   },
   {
    "duration": 3,
    "start_time": "2021-10-08T15:31:16.589Z"
   },
   {
    "duration": 4,
    "start_time": "2021-10-08T15:31:16.595Z"
   },
   {
    "duration": 5,
    "start_time": "2021-10-08T15:31:16.601Z"
   },
   {
    "duration": 248,
    "start_time": "2021-10-08T15:31:16.607Z"
   },
   {
    "duration": 3,
    "start_time": "2021-10-08T15:31:16.857Z"
   },
   {
    "duration": 7,
    "start_time": "2021-10-08T15:31:16.862Z"
   },
   {
    "duration": 228,
    "start_time": "2021-10-08T15:31:16.870Z"
   },
   {
    "duration": 4,
    "start_time": "2021-10-08T15:31:17.101Z"
   },
   {
    "duration": 241,
    "start_time": "2021-10-08T15:31:17.106Z"
   },
   {
    "duration": 3,
    "start_time": "2021-10-08T15:31:17.348Z"
   },
   {
    "duration": 277,
    "start_time": "2021-10-08T15:31:17.353Z"
   },
   {
    "duration": 239,
    "start_time": "2021-10-08T15:31:17.632Z"
   },
   {
    "duration": 6,
    "start_time": "2021-10-08T15:31:17.873Z"
   },
   {
    "duration": 3,
    "start_time": "2021-10-08T15:31:17.881Z"
   },
   {
    "duration": 6,
    "start_time": "2021-10-08T15:31:17.885Z"
   },
   {
    "duration": 248,
    "start_time": "2021-10-08T15:31:17.892Z"
   },
   {
    "duration": 3,
    "start_time": "2021-10-08T15:31:18.141Z"
   },
   {
    "duration": 5,
    "start_time": "2021-10-08T15:31:18.146Z"
   },
   {
    "duration": 4,
    "start_time": "2021-10-08T15:31:18.153Z"
   },
   {
    "duration": 4,
    "start_time": "2021-10-08T15:31:18.159Z"
   },
   {
    "duration": 7,
    "start_time": "2021-10-08T15:31:18.164Z"
   },
   {
    "duration": 5,
    "start_time": "2021-10-08T15:31:18.172Z"
   },
   {
    "duration": 11,
    "start_time": "2021-10-08T15:31:18.179Z"
   },
   {
    "duration": 9,
    "start_time": "2021-10-08T15:31:18.192Z"
   },
   {
    "duration": 142,
    "start_time": "2021-10-08T15:31:18.203Z"
   },
   {
    "duration": 101,
    "start_time": "2021-10-08T15:31:18.348Z"
   },
   {
    "duration": 93,
    "start_time": "2021-10-08T15:31:18.452Z"
   },
   {
    "duration": 4,
    "start_time": "2021-10-08T15:31:18.547Z"
   },
   {
    "duration": 6,
    "start_time": "2021-10-08T15:31:18.553Z"
   },
   {
    "duration": 184,
    "start_time": "2021-10-08T15:31:18.561Z"
   },
   {
    "duration": 104,
    "start_time": "2021-10-08T15:31:18.748Z"
   },
   {
    "duration": 91,
    "start_time": "2021-10-08T15:31:18.854Z"
   },
   {
    "duration": 12,
    "start_time": "2021-10-08T15:31:18.947Z"
   },
   {
    "duration": 86,
    "start_time": "2021-10-08T15:31:18.961Z"
   },
   {
    "duration": 360915,
    "start_time": "2021-10-08T15:31:19.048Z"
   },
   {
    "duration": 3,
    "start_time": "2021-10-08T15:37:19.965Z"
   },
   {
    "duration": 58,
    "start_time": "2021-10-08T15:37:19.969Z"
   },
   {
    "duration": 353362,
    "start_time": "2021-10-08T15:37:20.029Z"
   },
   {
    "duration": 36,
    "start_time": "2021-10-08T15:43:13.392Z"
   },
   {
    "duration": 4,
    "start_time": "2021-10-08T15:43:13.429Z"
   },
   {
    "duration": 13,
    "start_time": "2021-10-08T15:43:13.434Z"
   },
   {
    "duration": 8,
    "start_time": "2021-10-08T15:43:13.448Z"
   },
   {
    "duration": 8,
    "start_time": "2021-10-08T15:43:13.458Z"
   },
   {
    "duration": 31,
    "start_time": "2021-10-08T15:43:13.467Z"
   },
   {
    "duration": 50,
    "start_time": "2021-10-08T15:43:13.499Z"
   },
   {
    "duration": 1513,
    "start_time": "2021-10-08T16:31:13.019Z"
   },
   {
    "duration": 9,
    "start_time": "2021-10-08T16:31:14.534Z"
   },
   {
    "duration": 911,
    "start_time": "2021-10-08T16:31:14.546Z"
   },
   {
    "duration": 1586,
    "start_time": "2021-10-08T16:31:15.461Z"
   },
   {
    "duration": 13,
    "start_time": "2021-10-08T16:31:17.049Z"
   },
   {
    "duration": 11,
    "start_time": "2021-10-08T16:31:17.064Z"
   },
   {
    "duration": 10,
    "start_time": "2021-10-08T16:31:17.078Z"
   },
   {
    "duration": 31,
    "start_time": "2021-10-08T16:31:17.092Z"
   },
   {
    "duration": 8,
    "start_time": "2021-10-08T16:31:17.126Z"
   },
   {
    "duration": 6,
    "start_time": "2021-10-08T16:31:17.137Z"
   },
   {
    "duration": 7,
    "start_time": "2021-10-08T16:31:17.145Z"
   },
   {
    "duration": 7,
    "start_time": "2021-10-08T16:31:17.154Z"
   },
   {
    "duration": 4,
    "start_time": "2021-10-08T16:31:17.164Z"
   },
   {
    "duration": 15,
    "start_time": "2021-10-08T16:31:17.171Z"
   },
   {
    "duration": 42,
    "start_time": "2021-10-08T16:31:17.188Z"
   },
   {
    "duration": 13,
    "start_time": "2021-10-08T16:31:17.232Z"
   },
   {
    "duration": 4,
    "start_time": "2021-10-08T16:31:17.247Z"
   },
   {
    "duration": 5,
    "start_time": "2021-10-08T16:31:17.253Z"
   },
   {
    "duration": 14,
    "start_time": "2021-10-08T16:31:17.260Z"
   },
   {
    "duration": 45,
    "start_time": "2021-10-08T16:31:17.277Z"
   },
   {
    "duration": 8,
    "start_time": "2021-10-08T16:31:17.325Z"
   },
   {
    "duration": 9,
    "start_time": "2021-10-08T16:31:17.335Z"
   },
   {
    "duration": 4,
    "start_time": "2021-10-08T16:31:17.350Z"
   },
   {
    "duration": 9,
    "start_time": "2021-10-08T16:31:17.358Z"
   },
   {
    "duration": 8,
    "start_time": "2021-10-08T16:31:17.369Z"
   },
   {
    "duration": 380,
    "start_time": "2021-10-08T16:31:17.379Z"
   },
   {
    "duration": 5,
    "start_time": "2021-10-08T16:31:17.762Z"
   },
   {
    "duration": 10,
    "start_time": "2021-10-08T16:31:17.769Z"
   },
   {
    "duration": 375,
    "start_time": "2021-10-08T16:31:17.782Z"
   },
   {
    "duration": 6,
    "start_time": "2021-10-08T16:31:18.159Z"
   },
   {
    "duration": 374,
    "start_time": "2021-10-08T16:31:18.167Z"
   },
   {
    "duration": 5,
    "start_time": "2021-10-08T16:31:18.543Z"
   },
   {
    "duration": 456,
    "start_time": "2021-10-08T16:31:18.550Z"
   },
   {
    "duration": 392,
    "start_time": "2021-10-08T16:31:19.008Z"
   },
   {
    "duration": 24,
    "start_time": "2021-10-08T16:31:19.403Z"
   },
   {
    "duration": 5,
    "start_time": "2021-10-08T16:31:19.429Z"
   },
   {
    "duration": 6,
    "start_time": "2021-10-08T16:31:19.436Z"
   },
   {
    "duration": 385,
    "start_time": "2021-10-08T16:31:19.445Z"
   },
   {
    "duration": 4,
    "start_time": "2021-10-08T16:31:19.833Z"
   },
   {
    "duration": 17,
    "start_time": "2021-10-08T16:31:19.840Z"
   },
   {
    "duration": 8,
    "start_time": "2021-10-08T16:31:19.860Z"
   },
   {
    "duration": 8,
    "start_time": "2021-10-08T16:31:19.870Z"
   },
   {
    "duration": 6,
    "start_time": "2021-10-08T16:31:19.880Z"
   },
   {
    "duration": 5,
    "start_time": "2021-10-08T16:31:19.888Z"
   },
   {
    "duration": 33,
    "start_time": "2021-10-08T16:31:19.896Z"
   },
   {
    "duration": 16,
    "start_time": "2021-10-08T16:31:19.931Z"
   },
   {
    "duration": 178,
    "start_time": "2021-10-08T16:31:19.949Z"
   },
   {
    "duration": 95,
    "start_time": "2021-10-08T16:31:20.130Z"
   },
   {
    "duration": 96,
    "start_time": "2021-10-08T16:31:20.229Z"
   },
   {
    "duration": 96,
    "start_time": "2021-10-08T16:31:20.329Z"
   },
   {
    "duration": 5,
    "start_time": "2021-10-08T16:31:20.427Z"
   },
   {
    "duration": 189,
    "start_time": "2021-10-08T16:31:20.434Z"
   },
   {
    "duration": 98,
    "start_time": "2021-10-08T16:31:20.626Z"
   },
   {
    "duration": 97,
    "start_time": "2021-10-08T16:31:20.728Z"
   },
   {
    "duration": 5,
    "start_time": "2021-10-08T16:31:20.827Z"
   },
   {
    "duration": 25,
    "start_time": "2021-10-08T16:31:20.834Z"
   },
   {
    "duration": 460326,
    "start_time": "2021-10-08T16:31:20.861Z"
   },
   {
    "duration": 6,
    "start_time": "2021-10-08T16:39:01.189Z"
   },
   {
    "duration": 87,
    "start_time": "2021-10-08T16:39:01.197Z"
   },
   {
    "duration": 1513,
    "start_time": "2021-10-08T17:23:02.491Z"
   },
   {
    "duration": 17,
    "start_time": "2021-10-08T17:23:04.007Z"
   },
   {
    "duration": 878,
    "start_time": "2021-10-08T17:23:04.026Z"
   },
   {
    "duration": 1767,
    "start_time": "2021-10-08T17:23:04.907Z"
   },
   {
    "duration": 12,
    "start_time": "2021-10-08T17:23:06.677Z"
   },
   {
    "duration": 5,
    "start_time": "2021-10-08T17:23:06.692Z"
   },
   {
    "duration": 26,
    "start_time": "2021-10-08T17:23:06.699Z"
   },
   {
    "duration": 14,
    "start_time": "2021-10-08T17:23:06.729Z"
   },
   {
    "duration": 15,
    "start_time": "2021-10-08T17:23:06.746Z"
   },
   {
    "duration": 11,
    "start_time": "2021-10-08T17:23:06.764Z"
   },
   {
    "duration": 13,
    "start_time": "2021-10-08T17:23:06.777Z"
   },
   {
    "duration": 23,
    "start_time": "2021-10-08T17:23:06.792Z"
   },
   {
    "duration": 14,
    "start_time": "2021-10-08T17:23:06.818Z"
   },
   {
    "duration": 15,
    "start_time": "2021-10-08T17:23:06.834Z"
   },
   {
    "duration": 22,
    "start_time": "2021-10-08T17:23:06.851Z"
   },
   {
    "duration": 13,
    "start_time": "2021-10-08T17:23:06.875Z"
   },
   {
    "duration": 4,
    "start_time": "2021-10-08T17:23:06.891Z"
   },
   {
    "duration": 25,
    "start_time": "2021-10-08T17:23:06.897Z"
   },
   {
    "duration": 7,
    "start_time": "2021-10-08T17:23:06.925Z"
   },
   {
    "duration": 14,
    "start_time": "2021-10-08T17:23:06.934Z"
   },
   {
    "duration": 21,
    "start_time": "2021-10-08T17:23:06.951Z"
   },
   {
    "duration": 16,
    "start_time": "2021-10-08T17:23:06.974Z"
   },
   {
    "duration": 8,
    "start_time": "2021-10-08T17:23:06.996Z"
   },
   {
    "duration": 17,
    "start_time": "2021-10-08T17:23:07.008Z"
   },
   {
    "duration": 16,
    "start_time": "2021-10-08T17:23:07.028Z"
   },
   {
    "duration": 370,
    "start_time": "2021-10-08T17:23:07.047Z"
   },
   {
    "duration": 6,
    "start_time": "2021-10-08T17:23:07.420Z"
   },
   {
    "duration": 25,
    "start_time": "2021-10-08T17:23:07.428Z"
   },
   {
    "duration": 354,
    "start_time": "2021-10-08T17:23:07.456Z"
   },
   {
    "duration": 12,
    "start_time": "2021-10-08T17:23:07.813Z"
   },
   {
    "duration": 384,
    "start_time": "2021-10-08T17:23:07.827Z"
   },
   {
    "duration": 9,
    "start_time": "2021-10-08T17:23:08.214Z"
   },
   {
    "duration": 440,
    "start_time": "2021-10-08T17:23:08.225Z"
   },
   {
    "duration": 598,
    "start_time": "2021-10-08T17:23:08.668Z"
   },
   {
    "duration": 11,
    "start_time": "2021-10-08T17:23:09.269Z"
   },
   {
    "duration": 11,
    "start_time": "2021-10-08T17:23:09.282Z"
   },
   {
    "duration": 27,
    "start_time": "2021-10-08T17:23:09.295Z"
   },
   {
    "duration": 362,
    "start_time": "2021-10-08T17:23:09.325Z"
   },
   {
    "duration": 5,
    "start_time": "2021-10-08T17:23:09.690Z"
   },
   {
    "duration": 25,
    "start_time": "2021-10-08T17:23:09.697Z"
   },
   {
    "duration": 24,
    "start_time": "2021-10-08T17:23:09.724Z"
   },
   {
    "duration": 13,
    "start_time": "2021-10-08T17:23:09.750Z"
   },
   {
    "duration": 27,
    "start_time": "2021-10-08T17:23:09.765Z"
   },
   {
    "duration": 23,
    "start_time": "2021-10-08T17:23:09.795Z"
   },
   {
    "duration": 22,
    "start_time": "2021-10-08T17:23:09.820Z"
   },
   {
    "duration": 20,
    "start_time": "2021-10-08T17:23:09.845Z"
   },
   {
    "duration": 163,
    "start_time": "2021-10-08T17:23:09.867Z"
   },
   {
    "duration": 6,
    "start_time": "2021-10-08T17:23:10.123Z"
   },
   {
    "duration": 100,
    "start_time": "2021-10-08T17:23:10.132Z"
   },
   {
    "duration": 89,
    "start_time": "2021-10-08T17:23:10.235Z"
   },
   {
    "duration": 19,
    "start_time": "2021-10-08T17:23:10.326Z"
   },
   {
    "duration": 176,
    "start_time": "2021-10-08T17:23:10.347Z"
   },
   {
    "duration": 97,
    "start_time": "2021-10-08T17:23:10.527Z"
   },
   {
    "duration": 99,
    "start_time": "2021-10-08T17:23:10.628Z"
   },
   {
    "duration": 12,
    "start_time": "2021-10-08T17:23:10.731Z"
   },
   {
    "duration": 24,
    "start_time": "2021-10-08T17:23:10.747Z"
   },
   {
    "duration": 453365,
    "start_time": "2021-10-08T17:23:10.773Z"
   },
   {
    "duration": 5,
    "start_time": "2021-10-08T17:30:44.141Z"
   },
   {
    "duration": 67,
    "start_time": "2021-10-08T17:30:44.148Z"
   },
   {
    "duration": 444382,
    "start_time": "2021-10-08T17:30:44.223Z"
   },
   {
    "duration": 56,
    "start_time": "2021-10-08T17:38:08.608Z"
   },
   {
    "duration": 6,
    "start_time": "2021-10-08T17:38:08.666Z"
   },
   {
    "duration": 14,
    "start_time": "2021-10-08T17:38:08.675Z"
   },
   {
    "duration": 8,
    "start_time": "2021-10-08T17:38:08.692Z"
   },
   {
    "duration": 21,
    "start_time": "2021-10-08T17:38:08.702Z"
   },
   {
    "duration": 45,
    "start_time": "2021-10-08T17:38:08.725Z"
   },
   {
    "duration": 73,
    "start_time": "2021-10-08T17:38:08.772Z"
   },
   {
    "duration": 2,
    "start_time": "2021-10-08T17:38:08.852Z"
   },
   {
    "duration": 19,
    "start_time": "2021-10-08T17:38:08.856Z"
   },
   {
    "duration": 8189,
    "start_time": "2021-10-08T17:47:13.968Z"
   },
   {
    "duration": -261,
    "start_time": "2021-10-08T17:47:22.421Z"
   },
   {
    "duration": -263,
    "start_time": "2021-10-08T17:47:22.425Z"
   },
   {
    "duration": 5889,
    "start_time": "2021-10-08T17:51:21.026Z"
   },
   {
    "duration": 1531,
    "start_time": "2021-10-08T18:51:31.196Z"
   },
   {
    "duration": 9,
    "start_time": "2021-10-08T18:51:32.730Z"
   },
   {
    "duration": 948,
    "start_time": "2021-10-08T18:51:32.744Z"
   },
   {
    "duration": 1585,
    "start_time": "2021-10-08T18:51:33.694Z"
   },
   {
    "duration": 12,
    "start_time": "2021-10-08T18:51:35.281Z"
   },
   {
    "duration": 5,
    "start_time": "2021-10-08T18:51:35.295Z"
   },
   {
    "duration": 9,
    "start_time": "2021-10-08T18:51:35.302Z"
   },
   {
    "duration": 8,
    "start_time": "2021-10-08T18:51:35.314Z"
   },
   {
    "duration": 6,
    "start_time": "2021-10-08T18:51:35.326Z"
   },
   {
    "duration": 13,
    "start_time": "2021-10-08T18:51:35.335Z"
   },
   {
    "duration": 5,
    "start_time": "2021-10-08T18:51:35.351Z"
   },
   {
    "duration": 9,
    "start_time": "2021-10-08T18:51:35.358Z"
   },
   {
    "duration": 11,
    "start_time": "2021-10-08T18:51:35.369Z"
   },
   {
    "duration": 22,
    "start_time": "2021-10-08T18:51:35.382Z"
   },
   {
    "duration": 25,
    "start_time": "2021-10-08T18:51:35.407Z"
   },
   {
    "duration": 19,
    "start_time": "2021-10-08T18:51:35.435Z"
   },
   {
    "duration": 6,
    "start_time": "2021-10-08T18:51:35.457Z"
   },
   {
    "duration": 57,
    "start_time": "2021-10-08T18:51:35.466Z"
   },
   {
    "duration": 28,
    "start_time": "2021-10-08T18:51:35.525Z"
   },
   {
    "duration": 23,
    "start_time": "2021-10-08T18:51:35.556Z"
   },
   {
    "duration": 30,
    "start_time": "2021-10-08T18:51:35.582Z"
   },
   {
    "duration": 11,
    "start_time": "2021-10-08T18:51:35.622Z"
   },
   {
    "duration": 16,
    "start_time": "2021-10-08T18:51:35.635Z"
   },
   {
    "duration": 37,
    "start_time": "2021-10-08T18:51:35.653Z"
   },
   {
    "duration": 38,
    "start_time": "2021-10-08T18:51:35.692Z"
   },
   {
    "duration": 545,
    "start_time": "2021-10-08T18:51:35.733Z"
   },
   {
    "duration": 5,
    "start_time": "2021-10-08T18:51:36.284Z"
   },
   {
    "duration": 22,
    "start_time": "2021-10-08T18:51:36.292Z"
   },
   {
    "duration": 378,
    "start_time": "2021-10-08T18:51:36.317Z"
   },
   {
    "duration": 6,
    "start_time": "2021-10-08T18:51:36.697Z"
   },
   {
    "duration": 446,
    "start_time": "2021-10-08T18:51:36.705Z"
   },
   {
    "duration": 5,
    "start_time": "2021-10-08T18:51:37.153Z"
   },
   {
    "duration": 389,
    "start_time": "2021-10-08T18:51:37.161Z"
   },
   {
    "duration": 402,
    "start_time": "2021-10-08T18:51:37.553Z"
   },
   {
    "duration": 11,
    "start_time": "2021-10-08T18:51:37.958Z"
   },
   {
    "duration": 17,
    "start_time": "2021-10-08T18:51:37.971Z"
   },
   {
    "duration": 32,
    "start_time": "2021-10-08T18:51:37.990Z"
   },
   {
    "duration": 475,
    "start_time": "2021-10-08T18:51:38.024Z"
   },
   {
    "duration": 4,
    "start_time": "2021-10-08T18:51:38.502Z"
   },
   {
    "duration": 29,
    "start_time": "2021-10-08T18:51:38.508Z"
   },
   {
    "duration": 37,
    "start_time": "2021-10-08T18:51:38.539Z"
   },
   {
    "duration": 25,
    "start_time": "2021-10-08T18:51:38.578Z"
   },
   {
    "duration": 29,
    "start_time": "2021-10-08T18:51:38.605Z"
   },
   {
    "duration": 23,
    "start_time": "2021-10-08T18:51:38.636Z"
   },
   {
    "duration": 35,
    "start_time": "2021-10-08T18:51:38.661Z"
   },
   {
    "duration": 30,
    "start_time": "2021-10-08T18:51:38.698Z"
   },
   {
    "duration": 195,
    "start_time": "2021-10-08T18:51:38.731Z"
   },
   {
    "duration": 101,
    "start_time": "2021-10-08T18:51:38.930Z"
   },
   {
    "duration": 91,
    "start_time": "2021-10-08T18:51:39.035Z"
   },
   {
    "duration": 102,
    "start_time": "2021-10-08T18:51:39.130Z"
   },
   {
    "duration": 23,
    "start_time": "2021-10-08T18:51:39.235Z"
   },
   {
    "duration": 162,
    "start_time": "2021-10-08T18:51:39.261Z"
   },
   {
    "duration": 97,
    "start_time": "2021-10-08T18:51:39.426Z"
   },
   {
    "duration": 101,
    "start_time": "2021-10-08T18:51:39.527Z"
   },
   {
    "duration": 28,
    "start_time": "2021-10-08T18:51:39.630Z"
   },
   {
    "duration": 25,
    "start_time": "2021-10-08T18:51:39.660Z"
   },
   {
    "duration": 374449,
    "start_time": "2021-10-08T18:51:39.688Z"
   },
   {
    "duration": -195,
    "start_time": "2021-10-08T18:57:54.335Z"
   },
   {
    "duration": -202,
    "start_time": "2021-10-08T18:57:54.343Z"
   },
   {
    "duration": -205,
    "start_time": "2021-10-08T18:57:54.347Z"
   },
   {
    "duration": -209,
    "start_time": "2021-10-08T18:57:54.353Z"
   },
   {
    "duration": -215,
    "start_time": "2021-10-08T18:57:54.360Z"
   },
   {
    "duration": -217,
    "start_time": "2021-10-08T18:57:54.363Z"
   },
   {
    "duration": -218,
    "start_time": "2021-10-08T18:57:54.366Z"
   },
   {
    "duration": -227,
    "start_time": "2021-10-08T18:57:54.376Z"
   },
   {
    "duration": -229,
    "start_time": "2021-10-08T18:57:54.380Z"
   },
   {
    "duration": -229,
    "start_time": "2021-10-08T18:57:54.382Z"
   },
   {
    "duration": -233,
    "start_time": "2021-10-08T18:57:54.387Z"
   },
   {
    "duration": -240,
    "start_time": "2021-10-08T18:57:54.395Z"
   },
   {
    "duration": -241,
    "start_time": "2021-10-08T18:57:54.397Z"
   },
   {
    "duration": -244,
    "start_time": "2021-10-08T18:57:54.402Z"
   },
   {
    "duration": -250,
    "start_time": "2021-10-08T18:57:54.409Z"
   },
   {
    "duration": 1535,
    "start_time": "2021-10-08T18:58:44.672Z"
   },
   {
    "duration": 12,
    "start_time": "2021-10-08T18:58:46.210Z"
   },
   {
    "duration": 917,
    "start_time": "2021-10-08T18:58:46.225Z"
   },
   {
    "duration": 1561,
    "start_time": "2021-10-08T18:58:47.145Z"
   },
   {
    "duration": 22,
    "start_time": "2021-10-08T18:58:48.709Z"
   },
   {
    "duration": 13,
    "start_time": "2021-10-08T18:58:48.733Z"
   },
   {
    "duration": 34,
    "start_time": "2021-10-08T18:58:48.749Z"
   },
   {
    "duration": 22,
    "start_time": "2021-10-08T18:58:48.785Z"
   },
   {
    "duration": 25,
    "start_time": "2021-10-08T18:58:48.811Z"
   },
   {
    "duration": 11,
    "start_time": "2021-10-08T18:58:48.840Z"
   },
   {
    "duration": 19,
    "start_time": "2021-10-08T18:58:48.854Z"
   },
   {
    "duration": 25,
    "start_time": "2021-10-08T18:58:48.875Z"
   },
   {
    "duration": 19,
    "start_time": "2021-10-08T18:58:48.902Z"
   },
   {
    "duration": 25,
    "start_time": "2021-10-08T18:58:48.923Z"
   },
   {
    "duration": 35,
    "start_time": "2021-10-08T18:58:48.950Z"
   },
   {
    "duration": 13,
    "start_time": "2021-10-08T18:58:48.987Z"
   },
   {
    "duration": 21,
    "start_time": "2021-10-08T18:58:49.002Z"
   },
   {
    "duration": 23,
    "start_time": "2021-10-08T18:58:49.025Z"
   },
   {
    "duration": 25,
    "start_time": "2021-10-08T18:58:49.050Z"
   },
   {
    "duration": 27,
    "start_time": "2021-10-08T18:58:49.078Z"
   },
   {
    "duration": 16,
    "start_time": "2021-10-08T18:58:49.107Z"
   },
   {
    "duration": 13,
    "start_time": "2021-10-08T18:58:49.125Z"
   },
   {
    "duration": 9,
    "start_time": "2021-10-08T18:58:49.140Z"
   },
   {
    "duration": 15,
    "start_time": "2021-10-08T18:58:49.151Z"
   },
   {
    "duration": 25,
    "start_time": "2021-10-08T18:58:49.168Z"
   },
   {
    "duration": 367,
    "start_time": "2021-10-08T18:58:49.196Z"
   },
   {
    "duration": 6,
    "start_time": "2021-10-08T18:58:49.569Z"
   },
   {
    "duration": 24,
    "start_time": "2021-10-08T18:58:49.578Z"
   },
   {
    "duration": 366,
    "start_time": "2021-10-08T18:58:49.604Z"
   },
   {
    "duration": 6,
    "start_time": "2021-10-08T18:58:49.972Z"
   },
   {
    "duration": 447,
    "start_time": "2021-10-08T18:58:49.980Z"
   },
   {
    "duration": 4,
    "start_time": "2021-10-08T18:58:50.430Z"
   },
   {
    "duration": 377,
    "start_time": "2021-10-08T18:58:50.436Z"
   },
   {
    "duration": 392,
    "start_time": "2021-10-08T18:58:50.816Z"
   },
   {
    "duration": 15,
    "start_time": "2021-10-08T18:58:51.210Z"
   },
   {
    "duration": 5,
    "start_time": "2021-10-08T18:58:51.227Z"
   },
   {
    "duration": 17,
    "start_time": "2021-10-08T18:58:51.234Z"
   },
   {
    "duration": 387,
    "start_time": "2021-10-08T18:58:51.253Z"
   },
   {
    "duration": 4,
    "start_time": "2021-10-08T18:58:51.642Z"
   },
   {
    "duration": 16,
    "start_time": "2021-10-08T18:58:51.649Z"
   },
   {
    "duration": 6,
    "start_time": "2021-10-08T18:58:51.667Z"
   },
   {
    "duration": 7,
    "start_time": "2021-10-08T18:58:51.675Z"
   },
   {
    "duration": 8,
    "start_time": "2021-10-08T18:58:51.684Z"
   },
   {
    "duration": 28,
    "start_time": "2021-10-08T18:58:51.694Z"
   },
   {
    "duration": 4,
    "start_time": "2021-10-08T18:58:51.725Z"
   },
   {
    "duration": 14,
    "start_time": "2021-10-08T18:58:51.731Z"
   },
   {
    "duration": 13,
    "start_time": "2021-10-08T18:58:51.747Z"
   },
   {
    "duration": 161,
    "start_time": "2021-10-08T18:58:51.763Z"
   },
   {
    "duration": 98,
    "start_time": "2021-10-08T18:58:51.927Z"
   },
   {
    "duration": 92,
    "start_time": "2021-10-08T18:58:52.033Z"
   },
   {
    "duration": 98,
    "start_time": "2021-10-08T18:58:52.128Z"
   },
   {
    "duration": 11,
    "start_time": "2021-10-08T18:58:52.229Z"
   },
   {
    "duration": 178,
    "start_time": "2021-10-08T18:58:52.243Z"
   },
   {
    "duration": 99,
    "start_time": "2021-10-08T18:58:52.425Z"
   },
   {
    "duration": 192,
    "start_time": "2021-10-08T18:58:52.530Z"
   },
   {
    "duration": 3,
    "start_time": "2021-10-08T18:58:52.725Z"
   },
   {
    "duration": 8,
    "start_time": "2021-10-08T18:58:52.730Z"
   },
   {
    "duration": 17257,
    "start_time": "2021-10-08T18:58:52.741Z"
   },
   {
    "duration": 5,
    "start_time": "2021-10-08T18:59:10.000Z"
   },
   {
    "duration": 21,
    "start_time": "2021-10-08T18:59:10.007Z"
   },
   {
    "duration": 16837,
    "start_time": "2021-10-08T18:59:10.030Z"
   },
   {
    "duration": 9,
    "start_time": "2021-10-08T18:59:26.870Z"
   },
   {
    "duration": 17,
    "start_time": "2021-10-08T18:59:26.881Z"
   },
   {
    "duration": 22,
    "start_time": "2021-10-08T18:59:26.901Z"
   },
   {
    "duration": 19,
    "start_time": "2021-10-08T18:59:26.925Z"
   },
   {
    "duration": 23,
    "start_time": "2021-10-08T18:59:26.946Z"
   },
   {
    "duration": 21,
    "start_time": "2021-10-08T18:59:26.971Z"
   },
   {
    "duration": 19,
    "start_time": "2021-10-08T18:59:26.995Z"
   },
   {
    "duration": 13,
    "start_time": "2021-10-08T18:59:27.017Z"
   },
   {
    "duration": 6150,
    "start_time": "2021-10-08T18:59:27.033Z"
   },
   {
    "duration": -184,
    "start_time": "2021-10-08T18:59:33.369Z"
   },
   {
    "duration": -191,
    "start_time": "2021-10-08T18:59:33.377Z"
   },
   {
    "duration": -199,
    "start_time": "2021-10-08T18:59:33.387Z"
   },
   {
    "duration": 37,
    "start_time": "2021-10-08T18:59:45.524Z"
   },
   {
    "duration": 43,
    "start_time": "2021-10-08T18:59:59.999Z"
   },
   {
    "duration": 7,
    "start_time": "2021-10-08T19:02:51.482Z"
   },
   {
    "duration": 1494,
    "start_time": "2021-10-08T22:47:54.831Z"
   },
   {
    "duration": 8,
    "start_time": "2021-10-08T22:47:56.328Z"
   },
   {
    "duration": 897,
    "start_time": "2021-10-08T22:47:56.339Z"
   },
   {
    "duration": 1555,
    "start_time": "2021-10-08T22:47:57.239Z"
   },
   {
    "duration": 29,
    "start_time": "2021-10-08T22:47:58.796Z"
   },
   {
    "duration": 5,
    "start_time": "2021-10-08T22:47:58.828Z"
   },
   {
    "duration": 8,
    "start_time": "2021-10-08T22:47:58.835Z"
   },
   {
    "duration": 7,
    "start_time": "2021-10-08T22:47:58.846Z"
   },
   {
    "duration": 10,
    "start_time": "2021-10-08T22:47:58.857Z"
   },
   {
    "duration": 8,
    "start_time": "2021-10-08T22:47:58.870Z"
   },
   {
    "duration": 42,
    "start_time": "2021-10-08T22:47:58.881Z"
   },
   {
    "duration": 8,
    "start_time": "2021-10-08T22:47:58.925Z"
   },
   {
    "duration": 7,
    "start_time": "2021-10-08T22:47:58.936Z"
   },
   {
    "duration": 9,
    "start_time": "2021-10-08T22:47:58.945Z"
   },
   {
    "duration": 14,
    "start_time": "2021-10-08T22:47:58.956Z"
   },
   {
    "duration": 54,
    "start_time": "2021-10-08T22:47:58.972Z"
   },
   {
    "duration": 3,
    "start_time": "2021-10-08T22:47:59.028Z"
   },
   {
    "duration": 10,
    "start_time": "2021-10-08T22:47:59.034Z"
   },
   {
    "duration": 13,
    "start_time": "2021-10-08T22:47:59.046Z"
   },
   {
    "duration": 437,
    "start_time": "2021-10-08T22:47:59.061Z"
   },
   {
    "duration": 3417,
    "start_time": "2021-10-08T22:47:56.083Z"
   },
   {
    "duration": 492,
    "start_time": "2021-10-08T22:48:11.854Z"
   },
   {
    "duration": 219,
    "start_time": "2021-10-08T22:48:13.621Z"
   },
   {
    "duration": 560,
    "start_time": "2021-10-08T22:51:08.932Z"
   },
   {
    "duration": 39472,
    "start_time": "2021-10-08T22:51:15.270Z"
   },
   {
    "duration": 40,
    "start_time": "2021-10-08T22:51:54.745Z"
   },
   {
    "duration": 1591,
    "start_time": "2021-10-08T22:52:39.009Z"
   },
   {
    "duration": 9,
    "start_time": "2021-10-08T22:52:40.603Z"
   },
   {
    "duration": 1040,
    "start_time": "2021-10-08T22:52:40.615Z"
   },
   {
    "duration": 1727,
    "start_time": "2021-10-08T22:52:41.657Z"
   },
   {
    "duration": 12,
    "start_time": "2021-10-08T22:52:43.387Z"
   },
   {
    "duration": 34,
    "start_time": "2021-10-08T22:52:43.402Z"
   },
   {
    "duration": 33,
    "start_time": "2021-10-08T22:52:43.438Z"
   },
   {
    "duration": 24,
    "start_time": "2021-10-08T22:52:43.473Z"
   },
   {
    "duration": 28,
    "start_time": "2021-10-08T22:52:43.500Z"
   },
   {
    "duration": 33,
    "start_time": "2021-10-08T22:52:43.531Z"
   },
   {
    "duration": 19,
    "start_time": "2021-10-08T22:52:43.567Z"
   },
   {
    "duration": 25,
    "start_time": "2021-10-08T22:52:43.588Z"
   },
   {
    "duration": 22,
    "start_time": "2021-10-08T22:52:43.616Z"
   },
   {
    "duration": 23,
    "start_time": "2021-10-08T22:52:43.640Z"
   },
   {
    "duration": 41,
    "start_time": "2021-10-08T22:52:43.665Z"
   },
   {
    "duration": 24,
    "start_time": "2021-10-08T22:52:43.708Z"
   },
   {
    "duration": 21,
    "start_time": "2021-10-08T22:52:43.735Z"
   },
   {
    "duration": 18,
    "start_time": "2021-10-08T22:52:43.759Z"
   },
   {
    "duration": 35,
    "start_time": "2021-10-08T22:52:43.779Z"
   },
   {
    "duration": 58,
    "start_time": "2021-10-08T22:52:43.816Z"
   },
   {
    "duration": 5,
    "start_time": "2021-10-08T22:52:53.189Z"
   },
   {
    "duration": 29,
    "start_time": "2021-10-08T22:53:23.504Z"
   },
   {
    "duration": 492,
    "start_time": "2021-10-08T22:53:44.908Z"
   },
   {
    "duration": 24,
    "start_time": "2021-10-08T22:53:53.270Z"
   },
   {
    "duration": 23,
    "start_time": "2021-10-08T22:53:57.974Z"
   },
   {
    "duration": 18,
    "start_time": "2021-10-08T22:54:00.996Z"
   },
   {
    "duration": 11,
    "start_time": "2021-10-08T22:54:15.983Z"
   },
   {
    "duration": 4,
    "start_time": "2021-10-08T22:55:37.623Z"
   },
   {
    "duration": 4,
    "start_time": "2021-10-08T22:55:57.476Z"
   },
   {
    "duration": 1463,
    "start_time": "2021-10-08T22:57:09.743Z"
   },
   {
    "duration": 18,
    "start_time": "2021-10-08T22:57:11.208Z"
   },
   {
    "duration": 897,
    "start_time": "2021-10-08T22:57:11.229Z"
   },
   {
    "duration": 1513,
    "start_time": "2021-10-08T22:57:12.128Z"
   },
   {
    "duration": 12,
    "start_time": "2021-10-08T22:57:13.644Z"
   },
   {
    "duration": 11,
    "start_time": "2021-10-08T22:57:13.658Z"
   },
   {
    "duration": 20,
    "start_time": "2021-10-08T22:57:13.672Z"
   },
   {
    "duration": 26,
    "start_time": "2021-10-08T22:57:13.696Z"
   },
   {
    "duration": 4,
    "start_time": "2021-10-08T22:57:13.725Z"
   },
   {
    "duration": 8,
    "start_time": "2021-10-08T22:57:13.732Z"
   },
   {
    "duration": 6,
    "start_time": "2021-10-08T22:57:13.743Z"
   },
   {
    "duration": 19,
    "start_time": "2021-10-08T22:57:13.751Z"
   },
   {
    "duration": 8,
    "start_time": "2021-10-08T22:57:13.772Z"
   },
   {
    "duration": 17,
    "start_time": "2021-10-08T22:57:13.783Z"
   },
   {
    "duration": 31,
    "start_time": "2021-10-08T22:57:13.803Z"
   },
   {
    "duration": 17,
    "start_time": "2021-10-08T22:57:13.836Z"
   },
   {
    "duration": 4,
    "start_time": "2021-10-08T22:57:13.855Z"
   },
   {
    "duration": 11,
    "start_time": "2021-10-08T22:57:13.862Z"
   },
   {
    "duration": 20,
    "start_time": "2021-10-08T22:57:13.875Z"
   },
   {
    "duration": 51,
    "start_time": "2021-10-08T22:57:13.897Z"
   },
   {
    "duration": 5,
    "start_time": "2021-10-08T22:57:13.950Z"
   },
   {
    "duration": 16,
    "start_time": "2021-10-08T22:57:13.957Z"
   },
   {
    "duration": 8,
    "start_time": "2021-10-08T22:57:13.979Z"
   },
   {
    "duration": 34,
    "start_time": "2021-10-08T22:57:13.991Z"
   },
   {
    "duration": 23,
    "start_time": "2021-10-08T22:57:14.027Z"
   },
   {
    "duration": 12,
    "start_time": "2021-10-08T22:57:14.052Z"
   },
   {
    "duration": 21,
    "start_time": "2021-10-08T22:57:14.067Z"
   },
   {
    "duration": 9,
    "start_time": "2021-10-08T22:57:14.091Z"
   },
   {
    "duration": 11,
    "start_time": "2021-10-08T22:57:14.103Z"
   },
   {
    "duration": 361,
    "start_time": "2021-10-08T22:57:14.116Z"
   },
   {
    "duration": 6,
    "start_time": "2021-10-08T22:57:14.480Z"
   },
   {
    "duration": 25,
    "start_time": "2021-10-08T22:57:14.488Z"
   },
   {
    "duration": 358,
    "start_time": "2021-10-08T22:57:14.515Z"
   },
   {
    "duration": 5,
    "start_time": "2021-10-08T22:57:14.875Z"
   },
   {
    "duration": 556,
    "start_time": "2021-10-08T22:57:14.883Z"
   },
   {
    "duration": 4,
    "start_time": "2021-10-08T22:57:15.441Z"
   },
   {
    "duration": 396,
    "start_time": "2021-10-08T22:57:15.448Z"
   },
   {
    "duration": 393,
    "start_time": "2021-10-08T22:57:15.847Z"
   },
   {
    "duration": 12,
    "start_time": "2021-10-08T22:57:16.243Z"
   },
   {
    "duration": 17,
    "start_time": "2021-10-08T22:57:16.257Z"
   },
   {
    "duration": 25,
    "start_time": "2021-10-08T22:57:16.276Z"
   },
   {
    "duration": 370,
    "start_time": "2021-10-08T22:57:16.304Z"
   },
   {
    "duration": 4,
    "start_time": "2021-10-08T22:57:16.677Z"
   },
   {
    "duration": 22,
    "start_time": "2021-10-08T22:57:16.683Z"
   },
   {
    "duration": 14,
    "start_time": "2021-10-08T22:57:16.707Z"
   },
   {
    "duration": 15,
    "start_time": "2021-10-08T22:57:16.724Z"
   },
   {
    "duration": 30,
    "start_time": "2021-10-08T22:57:16.741Z"
   },
   {
    "duration": 45,
    "start_time": "2021-10-08T22:57:16.774Z"
   },
   {
    "duration": 25,
    "start_time": "2021-10-08T22:57:16.822Z"
   },
   {
    "duration": 34,
    "start_time": "2021-10-08T22:57:16.850Z"
   },
   {
    "duration": 23,
    "start_time": "2021-10-08T22:57:16.886Z"
   },
   {
    "duration": 113,
    "start_time": "2021-10-08T22:57:16.912Z"
   },
   {
    "duration": 96,
    "start_time": "2021-10-08T22:57:17.028Z"
   },
   {
    "duration": 96,
    "start_time": "2021-10-08T22:57:17.128Z"
   },
   {
    "duration": 98,
    "start_time": "2021-10-08T22:57:17.226Z"
   },
   {
    "duration": 5,
    "start_time": "2021-10-08T22:57:17.327Z"
   },
   {
    "duration": 97,
    "start_time": "2021-10-08T22:57:17.334Z"
   },
   {
    "duration": 103,
    "start_time": "2021-10-08T22:57:17.524Z"
   },
   {
    "duration": 95,
    "start_time": "2021-10-08T22:57:17.733Z"
   },
   {
    "duration": 7,
    "start_time": "2021-10-08T22:57:17.831Z"
   },
   {
    "duration": 12,
    "start_time": "2021-10-08T22:57:17.841Z"
   },
   {
    "duration": 17136,
    "start_time": "2021-10-08T22:57:17.856Z"
   },
   {
    "duration": 5,
    "start_time": "2021-10-08T22:57:34.994Z"
   },
   {
    "duration": 30,
    "start_time": "2021-10-08T22:57:35.001Z"
   },
   {
    "duration": 17096,
    "start_time": "2021-10-08T22:57:35.033Z"
   },
   {
    "duration": 9,
    "start_time": "2021-10-08T22:57:52.131Z"
   },
   {
    "duration": 15,
    "start_time": "2021-10-08T22:57:52.143Z"
   },
   {
    "duration": 33,
    "start_time": "2021-10-08T22:57:52.165Z"
   },
   {
    "duration": 26,
    "start_time": "2021-10-08T22:57:52.200Z"
   },
   {
    "duration": 16,
    "start_time": "2021-10-08T22:57:52.229Z"
   },
   {
    "duration": 33,
    "start_time": "2021-10-08T22:57:52.247Z"
   },
   {
    "duration": 13,
    "start_time": "2021-10-08T22:57:52.282Z"
   },
   {
    "duration": 10,
    "start_time": "2021-10-08T22:57:52.297Z"
   },
   {
    "duration": 29,
    "start_time": "2021-10-08T22:57:52.309Z"
   },
   {
    "duration": 18,
    "start_time": "2021-10-08T22:57:52.341Z"
   },
   {
    "duration": 22,
    "start_time": "2021-10-08T22:57:52.362Z"
   },
   {
    "duration": 389,
    "start_time": "2021-10-08T22:57:52.387Z"
   },
   {
    "duration": 7,
    "start_time": "2021-10-08T22:58:14.184Z"
   },
   {
    "duration": 3,
    "start_time": "2021-10-08T22:58:37.090Z"
   },
   {
    "duration": 5,
    "start_time": "2021-10-08T22:58:43.739Z"
   },
   {
    "duration": 7,
    "start_time": "2021-10-08T22:59:13.027Z"
   },
   {
    "duration": 5,
    "start_time": "2021-10-08T22:59:22.170Z"
   },
   {
    "duration": 1492,
    "start_time": "2021-10-08T23:05:08.765Z"
   },
   {
    "duration": 11,
    "start_time": "2021-10-08T23:05:10.260Z"
   },
   {
    "duration": 922,
    "start_time": "2021-10-08T23:05:10.274Z"
   },
   {
    "duration": 1626,
    "start_time": "2021-10-08T23:05:11.199Z"
   },
   {
    "duration": 12,
    "start_time": "2021-10-08T23:05:12.828Z"
   },
   {
    "duration": 6,
    "start_time": "2021-10-08T23:05:12.843Z"
   },
   {
    "duration": 7,
    "start_time": "2021-10-08T23:05:12.851Z"
   },
   {
    "duration": 11,
    "start_time": "2021-10-08T23:05:12.862Z"
   },
   {
    "duration": 46,
    "start_time": "2021-10-08T23:05:12.876Z"
   },
   {
    "duration": 7,
    "start_time": "2021-10-08T23:05:12.925Z"
   },
   {
    "duration": 6,
    "start_time": "2021-10-08T23:05:12.935Z"
   },
   {
    "duration": 17,
    "start_time": "2021-10-08T23:05:12.943Z"
   },
   {
    "duration": 5,
    "start_time": "2021-10-08T23:05:12.962Z"
   },
   {
    "duration": 7,
    "start_time": "2021-10-08T23:05:12.969Z"
   },
   {
    "duration": 13,
    "start_time": "2021-10-08T23:05:12.978Z"
   },
   {
    "duration": 14,
    "start_time": "2021-10-08T23:05:13.023Z"
   },
   {
    "duration": 4,
    "start_time": "2021-10-08T23:05:13.039Z"
   },
   {
    "duration": 8,
    "start_time": "2021-10-08T23:05:13.045Z"
   },
   {
    "duration": 21,
    "start_time": "2021-10-08T23:05:13.056Z"
   },
   {
    "duration": 62,
    "start_time": "2021-10-08T23:05:13.080Z"
   },
   {
    "duration": 6,
    "start_time": "2021-10-08T23:05:13.145Z"
   },
   {
    "duration": 10,
    "start_time": "2021-10-08T23:05:13.154Z"
   },
   {
    "duration": 6,
    "start_time": "2021-10-08T23:05:13.170Z"
   },
   {
    "duration": 22,
    "start_time": "2021-10-08T23:05:13.180Z"
   },
   {
    "duration": 18,
    "start_time": "2021-10-08T23:05:13.205Z"
   },
   {
    "duration": 15,
    "start_time": "2021-10-08T23:05:13.225Z"
   },
   {
    "duration": 12,
    "start_time": "2021-10-08T23:05:13.242Z"
   },
   {
    "duration": 8,
    "start_time": "2021-10-08T23:05:13.256Z"
   },
   {
    "duration": 13,
    "start_time": "2021-10-08T23:05:13.267Z"
   },
   {
    "duration": 373,
    "start_time": "2021-10-08T23:05:13.282Z"
   },
   {
    "duration": 5,
    "start_time": "2021-10-08T23:05:13.657Z"
   },
   {
    "duration": 24,
    "start_time": "2021-10-08T23:05:13.664Z"
   },
   {
    "duration": 366,
    "start_time": "2021-10-08T23:05:13.690Z"
   },
   {
    "duration": 5,
    "start_time": "2021-10-08T23:05:14.058Z"
   },
   {
    "duration": 433,
    "start_time": "2021-10-08T23:05:14.066Z"
   },
   {
    "duration": 5,
    "start_time": "2021-10-08T23:05:14.501Z"
   },
   {
    "duration": 392,
    "start_time": "2021-10-08T23:05:14.508Z"
   },
   {
    "duration": 388,
    "start_time": "2021-10-08T23:05:14.903Z"
   },
   {
    "duration": 12,
    "start_time": "2021-10-08T23:05:15.293Z"
   },
   {
    "duration": 18,
    "start_time": "2021-10-08T23:05:15.307Z"
   },
   {
    "duration": 12,
    "start_time": "2021-10-08T23:05:15.327Z"
   },
   {
    "duration": 384,
    "start_time": "2021-10-08T23:05:15.341Z"
   },
   {
    "duration": 4,
    "start_time": "2021-10-08T23:05:15.727Z"
   },
   {
    "duration": 6,
    "start_time": "2021-10-08T23:05:15.733Z"
   },
   {
    "duration": 11,
    "start_time": "2021-10-08T23:05:15.741Z"
   },
   {
    "duration": 8,
    "start_time": "2021-10-08T23:05:15.754Z"
   },
   {
    "duration": 9,
    "start_time": "2021-10-08T23:05:15.764Z"
   },
   {
    "duration": 6,
    "start_time": "2021-10-08T23:05:15.775Z"
   },
   {
    "duration": 7,
    "start_time": "2021-10-08T23:05:15.783Z"
   },
   {
    "duration": 16,
    "start_time": "2021-10-08T23:05:15.823Z"
   },
   {
    "duration": 15,
    "start_time": "2021-10-08T23:05:15.841Z"
   },
   {
    "duration": 166,
    "start_time": "2021-10-08T23:05:15.859Z"
   },
   {
    "duration": 96,
    "start_time": "2021-10-08T23:05:16.028Z"
   },
   {
    "duration": 5,
    "start_time": "2021-10-08T23:05:16.126Z"
   },
   {
    "duration": 8,
    "start_time": "2021-10-08T23:05:16.134Z"
   },
   {
    "duration": 8,
    "start_time": "2021-10-08T23:05:16.221Z"
   },
   {
    "duration": 195,
    "start_time": "2021-10-08T23:05:16.232Z"
   },
   {
    "duration": 95,
    "start_time": "2021-10-08T23:05:16.431Z"
   },
   {
    "duration": 102,
    "start_time": "2021-10-08T23:05:16.530Z"
   },
   {
    "duration": 4,
    "start_time": "2021-10-08T23:05:16.723Z"
   },
   {
    "duration": 18,
    "start_time": "2021-10-08T23:05:16.729Z"
   },
   {
    "duration": 457273,
    "start_time": "2021-10-08T23:05:16.750Z"
   },
   {
    "duration": 6,
    "start_time": "2021-10-08T23:12:54.026Z"
   },
   {
    "duration": 56,
    "start_time": "2021-10-08T23:12:54.034Z"
   },
   {
    "duration": 448344,
    "start_time": "2021-10-08T23:12:54.093Z"
   },
   {
    "duration": 51,
    "start_time": "2021-10-08T23:20:22.439Z"
   },
   {
    "duration": 6,
    "start_time": "2021-10-08T23:20:22.493Z"
   },
   {
    "duration": 6,
    "start_time": "2021-10-08T23:20:22.523Z"
   },
   {
    "duration": 6,
    "start_time": "2021-10-08T23:20:22.532Z"
   },
   {
    "duration": 10,
    "start_time": "2021-10-08T23:20:22.541Z"
   },
   {
    "duration": 77,
    "start_time": "2021-10-08T23:20:22.554Z"
   },
   {
    "duration": 51,
    "start_time": "2021-10-08T23:20:22.633Z"
   },
   {
    "duration": 3,
    "start_time": "2021-10-08T23:20:22.686Z"
   },
   {
    "duration": 31,
    "start_time": "2021-10-08T23:20:22.692Z"
   },
   {
    "duration": 11,
    "start_time": "2021-10-08T23:20:22.725Z"
   },
   {
    "duration": 8,
    "start_time": "2021-10-08T23:20:22.738Z"
   },
   {
    "duration": 15,
    "start_time": "2021-10-08T23:20:22.748Z"
   },
   {
    "duration": 6,
    "start_time": "2021-10-08T23:20:22.766Z"
   },
   {
    "duration": 8,
    "start_time": "2021-10-08T23:20:22.774Z"
   },
   {
    "duration": 1882,
    "start_time": "2021-10-08T23:21:34.377Z"
   },
   {
    "duration": 8,
    "start_time": "2021-10-08T23:21:36.261Z"
   },
   {
    "duration": 896,
    "start_time": "2021-10-08T23:21:36.272Z"
   },
   {
    "duration": 1517,
    "start_time": "2021-10-08T23:21:37.170Z"
   },
   {
    "duration": 33,
    "start_time": "2021-10-08T23:21:38.689Z"
   },
   {
    "duration": 5,
    "start_time": "2021-10-08T23:21:38.724Z"
   },
   {
    "duration": 10,
    "start_time": "2021-10-08T23:21:38.732Z"
   },
   {
    "duration": 6,
    "start_time": "2021-10-08T23:21:38.746Z"
   },
   {
    "duration": 10,
    "start_time": "2021-10-08T23:21:38.755Z"
   },
   {
    "duration": 11,
    "start_time": "2021-10-08T23:21:38.767Z"
   },
   {
    "duration": 9,
    "start_time": "2021-10-08T23:21:38.780Z"
   },
   {
    "duration": 33,
    "start_time": "2021-10-08T23:21:38.791Z"
   },
   {
    "duration": 7,
    "start_time": "2021-10-08T23:21:38.827Z"
   },
   {
    "duration": 16,
    "start_time": "2021-10-08T23:21:38.836Z"
   },
   {
    "duration": 17,
    "start_time": "2021-10-08T23:21:38.854Z"
   },
   {
    "duration": 13,
    "start_time": "2021-10-08T23:21:38.874Z"
   },
   {
    "duration": 32,
    "start_time": "2021-10-08T23:21:38.890Z"
   },
   {
    "duration": 4,
    "start_time": "2021-10-08T23:21:38.925Z"
   },
   {
    "duration": 15,
    "start_time": "2021-10-08T23:21:38.931Z"
   },
   {
    "duration": 36,
    "start_time": "2021-10-08T23:21:38.948Z"
   },
   {
    "duration": 6,
    "start_time": "2021-10-08T23:21:38.986Z"
   },
   {
    "duration": 4,
    "start_time": "2021-10-08T23:21:39.022Z"
   },
   {
    "duration": 4,
    "start_time": "2021-10-08T23:21:39.033Z"
   },
   {
    "duration": 11,
    "start_time": "2021-10-08T23:21:39.040Z"
   },
   {
    "duration": 8,
    "start_time": "2021-10-08T23:21:39.054Z"
   },
   {
    "duration": 10,
    "start_time": "2021-10-08T23:21:39.065Z"
   },
   {
    "duration": 10,
    "start_time": "2021-10-08T23:21:39.077Z"
   },
   {
    "duration": 3,
    "start_time": "2021-10-08T23:21:39.123Z"
   },
   {
    "duration": 10,
    "start_time": "2021-10-08T23:21:39.129Z"
   },
   {
    "duration": 361,
    "start_time": "2021-10-08T23:21:39.142Z"
   },
   {
    "duration": 5,
    "start_time": "2021-10-08T23:21:39.506Z"
   },
   {
    "duration": 6,
    "start_time": "2021-10-08T23:21:39.522Z"
   },
   {
    "duration": 358,
    "start_time": "2021-10-08T23:21:39.530Z"
   },
   {
    "duration": 6,
    "start_time": "2021-10-08T23:21:39.890Z"
   },
   {
    "duration": 449,
    "start_time": "2021-10-08T23:21:39.898Z"
   },
   {
    "duration": 4,
    "start_time": "2021-10-08T23:21:40.350Z"
   },
   {
    "duration": 390,
    "start_time": "2021-10-08T23:21:40.356Z"
   },
   {
    "duration": 408,
    "start_time": "2021-10-08T23:21:40.749Z"
   },
   {
    "duration": 12,
    "start_time": "2021-10-08T23:21:41.160Z"
   },
   {
    "duration": 20,
    "start_time": "2021-10-08T23:21:41.174Z"
   },
   {
    "duration": 27,
    "start_time": "2021-10-08T23:21:41.196Z"
   },
   {
    "duration": 382,
    "start_time": "2021-10-08T23:21:41.226Z"
   },
   {
    "duration": 4,
    "start_time": "2021-10-08T23:21:41.611Z"
   },
   {
    "duration": 5,
    "start_time": "2021-10-08T23:21:41.623Z"
   },
   {
    "duration": 6,
    "start_time": "2021-10-08T23:21:41.630Z"
   },
   {
    "duration": 6,
    "start_time": "2021-10-08T23:21:41.638Z"
   },
   {
    "duration": 8,
    "start_time": "2021-10-08T23:21:41.647Z"
   },
   {
    "duration": 9,
    "start_time": "2021-10-08T23:21:41.657Z"
   },
   {
    "duration": 6,
    "start_time": "2021-10-08T23:21:41.668Z"
   },
   {
    "duration": 13,
    "start_time": "2021-10-08T23:21:41.723Z"
   },
   {
    "duration": 18,
    "start_time": "2021-10-08T23:21:41.738Z"
   },
   {
    "duration": 174,
    "start_time": "2021-10-08T23:21:41.758Z"
   },
   {
    "duration": 88,
    "start_time": "2021-10-08T23:21:41.936Z"
   },
   {
    "duration": 4,
    "start_time": "2021-10-08T23:21:42.027Z"
   },
   {
    "duration": 92,
    "start_time": "2021-10-08T23:21:42.033Z"
   },
   {
    "duration": 4,
    "start_time": "2021-10-08T23:21:42.128Z"
   },
   {
    "duration": 193,
    "start_time": "2021-10-08T23:21:42.134Z"
   },
   {
    "duration": 103,
    "start_time": "2021-10-08T23:21:42.330Z"
   },
   {
    "duration": 89,
    "start_time": "2021-10-08T23:21:42.437Z"
   },
   {
    "duration": 93,
    "start_time": "2021-10-08T23:21:42.531Z"
   },
   {
    "duration": 25,
    "start_time": "2021-10-08T23:21:42.626Z"
   },
   {
    "duration": 17413,
    "start_time": "2021-10-08T23:21:42.653Z"
   },
   {
    "duration": 5,
    "start_time": "2021-10-08T23:22:00.069Z"
   },
   {
    "duration": 13,
    "start_time": "2021-10-08T23:22:00.077Z"
   },
   {
    "duration": 17466,
    "start_time": "2021-10-08T23:22:00.093Z"
   },
   {
    "duration": 9,
    "start_time": "2021-10-08T23:22:17.561Z"
   },
   {
    "duration": 10,
    "start_time": "2021-10-08T23:22:17.572Z"
   },
   {
    "duration": 11,
    "start_time": "2021-10-08T23:22:17.589Z"
   },
   {
    "duration": 22,
    "start_time": "2021-10-08T23:22:17.602Z"
   },
   {
    "duration": 10,
    "start_time": "2021-10-08T23:22:17.627Z"
   },
   {
    "duration": 23,
    "start_time": "2021-10-08T23:22:17.639Z"
   },
   {
    "duration": 16,
    "start_time": "2021-10-08T23:22:17.664Z"
   },
   {
    "duration": 9,
    "start_time": "2021-10-08T23:22:17.683Z"
   },
   {
    "duration": 17,
    "start_time": "2021-10-08T23:22:17.694Z"
   },
   {
    "duration": 10,
    "start_time": "2021-10-08T23:22:17.713Z"
   },
   {
    "duration": 17,
    "start_time": "2021-10-08T23:22:17.726Z"
   },
   {
    "duration": 12,
    "start_time": "2021-10-08T23:22:17.746Z"
   },
   {
    "duration": 7,
    "start_time": "2021-10-08T23:22:17.760Z"
   },
   {
    "duration": 10,
    "start_time": "2021-10-08T23:22:17.769Z"
   },
   {
    "duration": 1102,
    "start_time": "2022-01-30T19:38:02.200Z"
   },
   {
    "duration": 5,
    "start_time": "2022-01-30T19:38:03.304Z"
   },
   {
    "duration": 664,
    "start_time": "2022-01-30T19:38:03.311Z"
   },
   {
    "duration": 994,
    "start_time": "2022-01-30T19:38:03.978Z"
   },
   {
    "duration": 11,
    "start_time": "2022-01-30T19:38:04.974Z"
   },
   {
    "duration": 4,
    "start_time": "2022-01-30T19:38:04.987Z"
   },
   {
    "duration": 5,
    "start_time": "2022-01-30T19:38:04.992Z"
   },
   {
    "duration": 3,
    "start_time": "2022-01-30T19:38:05.000Z"
   },
   {
    "duration": 3,
    "start_time": "2022-01-30T19:38:05.005Z"
   },
   {
    "duration": 5,
    "start_time": "2022-01-30T19:38:05.010Z"
   },
   {
    "duration": 9,
    "start_time": "2022-01-30T19:38:05.016Z"
   },
   {
    "duration": 8,
    "start_time": "2022-01-30T19:38:05.026Z"
   },
   {
    "duration": 8,
    "start_time": "2022-01-30T19:38:05.035Z"
   },
   {
    "duration": 10,
    "start_time": "2022-01-30T19:38:05.072Z"
   },
   {
    "duration": 10,
    "start_time": "2022-01-30T19:38:05.084Z"
   },
   {
    "duration": 8,
    "start_time": "2022-01-30T19:38:05.096Z"
   },
   {
    "duration": 3,
    "start_time": "2022-01-30T19:38:05.105Z"
   },
   {
    "duration": 9,
    "start_time": "2022-01-30T19:38:05.109Z"
   },
   {
    "duration": 12,
    "start_time": "2022-01-30T19:38:05.120Z"
   },
   {
    "duration": 46,
    "start_time": "2022-01-30T19:38:05.133Z"
   },
   {
    "duration": 4,
    "start_time": "2022-01-30T19:38:05.181Z"
   },
   {
    "duration": 4,
    "start_time": "2022-01-30T19:38:05.187Z"
   },
   {
    "duration": 3,
    "start_time": "2022-01-30T19:38:05.196Z"
   },
   {
    "duration": 10,
    "start_time": "2022-01-30T19:38:05.202Z"
   },
   {
    "duration": 8,
    "start_time": "2022-01-30T19:38:05.214Z"
   },
   {
    "duration": 11,
    "start_time": "2022-01-30T19:38:05.224Z"
   },
   {
    "duration": 8,
    "start_time": "2022-01-30T19:38:05.236Z"
   },
   {
    "duration": 8,
    "start_time": "2022-01-30T19:38:05.246Z"
   },
   {
    "duration": 931,
    "start_time": "2022-01-30T19:38:05.256Z"
   },
   {
    "duration": 1849,
    "start_time": "2022-01-30T19:38:04.341Z"
   },
   {
    "duration": 1849,
    "start_time": "2022-01-30T19:38:04.343Z"
   },
   {
    "duration": 1699,
    "start_time": "2022-01-30T19:38:04.494Z"
   },
   {
    "duration": 1692,
    "start_time": "2022-01-30T19:38:04.503Z"
   },
   {
    "duration": 1678,
    "start_time": "2022-01-30T19:38:04.518Z"
   },
   {
    "duration": 1675,
    "start_time": "2022-01-30T19:38:04.522Z"
   },
   {
    "duration": 1673,
    "start_time": "2022-01-30T19:38:04.526Z"
   },
   {
    "duration": 1671,
    "start_time": "2022-01-30T19:38:04.529Z"
   },
   {
    "duration": 1669,
    "start_time": "2022-01-30T19:38:04.532Z"
   },
   {
    "duration": 1667,
    "start_time": "2022-01-30T19:38:04.535Z"
   },
   {
    "duration": 1663,
    "start_time": "2022-01-30T19:38:04.540Z"
   },
   {
    "duration": 1660,
    "start_time": "2022-01-30T19:38:04.544Z"
   },
   {
    "duration": 1658,
    "start_time": "2022-01-30T19:38:04.546Z"
   },
   {
    "duration": 1656,
    "start_time": "2022-01-30T19:38:04.550Z"
   },
   {
    "duration": 1655,
    "start_time": "2022-01-30T19:38:04.552Z"
   },
   {
    "duration": 1652,
    "start_time": "2022-01-30T19:38:04.555Z"
   },
   {
    "duration": 1650,
    "start_time": "2022-01-30T19:38:04.558Z"
   },
   {
    "duration": 1480,
    "start_time": "2022-01-30T19:38:04.729Z"
   },
   {
    "duration": 1479,
    "start_time": "2022-01-30T19:38:04.731Z"
   },
   {
    "duration": 1477,
    "start_time": "2022-01-30T19:38:04.734Z"
   },
   {
    "duration": 1476,
    "start_time": "2022-01-30T19:38:04.736Z"
   },
   {
    "duration": 1475,
    "start_time": "2022-01-30T19:38:04.738Z"
   },
   {
    "duration": 1474,
    "start_time": "2022-01-30T19:38:04.740Z"
   },
   {
    "duration": 1472,
    "start_time": "2022-01-30T19:38:04.743Z"
   },
   {
    "duration": 1469,
    "start_time": "2022-01-30T19:38:04.746Z"
   },
   {
    "duration": 1468,
    "start_time": "2022-01-30T19:38:04.748Z"
   },
   {
    "duration": 1466,
    "start_time": "2022-01-30T19:38:04.750Z"
   },
   {
    "duration": 1465,
    "start_time": "2022-01-30T19:38:04.752Z"
   },
   {
    "duration": 1463,
    "start_time": "2022-01-30T19:38:04.754Z"
   },
   {
    "duration": 1461,
    "start_time": "2022-01-30T19:38:04.757Z"
   },
   {
    "duration": 1459,
    "start_time": "2022-01-30T19:38:04.759Z"
   },
   {
    "duration": 1458,
    "start_time": "2022-01-30T19:38:04.761Z"
   },
   {
    "duration": 1457,
    "start_time": "2022-01-30T19:38:04.763Z"
   },
   {
    "duration": 1456,
    "start_time": "2022-01-30T19:38:04.765Z"
   },
   {
    "duration": 1410,
    "start_time": "2022-01-30T19:38:04.812Z"
   },
   {
    "duration": 1408,
    "start_time": "2022-01-30T19:38:04.815Z"
   },
   {
    "duration": 1406,
    "start_time": "2022-01-30T19:38:04.817Z"
   },
   {
    "duration": 1404,
    "start_time": "2022-01-30T19:38:04.820Z"
   },
   {
    "duration": 1402,
    "start_time": "2022-01-30T19:38:04.823Z"
   },
   {
    "duration": 1399,
    "start_time": "2022-01-30T19:38:04.826Z"
   },
   {
    "duration": 1398,
    "start_time": "2022-01-30T19:38:04.828Z"
   },
   {
    "duration": 1396,
    "start_time": "2022-01-30T19:38:04.831Z"
   },
   {
    "duration": 1393,
    "start_time": "2022-01-30T19:38:04.834Z"
   },
   {
    "duration": 1392,
    "start_time": "2022-01-30T19:38:04.836Z"
   },
   {
    "duration": 1390,
    "start_time": "2022-01-30T19:38:04.839Z"
   },
   {
    "duration": 201,
    "start_time": "2022-01-30T19:38:28.459Z"
   },
   {
    "duration": 1126,
    "start_time": "2022-01-30T19:38:35.700Z"
   },
   {
    "duration": 4,
    "start_time": "2022-01-30T19:38:36.828Z"
   },
   {
    "duration": 749,
    "start_time": "2022-01-30T19:38:36.834Z"
   },
   {
    "duration": 904,
    "start_time": "2022-01-30T19:38:37.585Z"
   },
   {
    "duration": 7,
    "start_time": "2022-01-30T19:38:38.491Z"
   },
   {
    "duration": 4,
    "start_time": "2022-01-30T19:38:38.500Z"
   },
   {
    "duration": 4,
    "start_time": "2022-01-30T19:38:38.506Z"
   },
   {
    "duration": 3,
    "start_time": "2022-01-30T19:38:38.513Z"
   },
   {
    "duration": 3,
    "start_time": "2022-01-30T19:38:38.518Z"
   },
   {
    "duration": 4,
    "start_time": "2022-01-30T19:38:38.522Z"
   },
   {
    "duration": 7,
    "start_time": "2022-01-30T19:38:38.527Z"
   },
   {
    "duration": 38,
    "start_time": "2022-01-30T19:38:38.536Z"
   },
   {
    "duration": 2,
    "start_time": "2022-01-30T19:38:38.576Z"
   },
   {
    "duration": 9,
    "start_time": "2022-01-30T19:38:38.580Z"
   },
   {
    "duration": 14,
    "start_time": "2022-01-30T19:38:38.590Z"
   },
   {
    "duration": 8,
    "start_time": "2022-01-30T19:38:38.605Z"
   },
   {
    "duration": 15,
    "start_time": "2022-01-30T19:38:38.615Z"
   },
   {
    "duration": 9,
    "start_time": "2022-01-30T19:38:38.631Z"
   },
   {
    "duration": 15,
    "start_time": "2022-01-30T19:38:38.641Z"
   },
   {
    "duration": 28,
    "start_time": "2022-01-30T19:38:38.658Z"
   },
   {
    "duration": 3,
    "start_time": "2022-01-30T19:38:38.688Z"
   },
   {
    "duration": 6,
    "start_time": "2022-01-30T19:38:38.692Z"
   },
   {
    "duration": 6,
    "start_time": "2022-01-30T19:38:38.702Z"
   },
   {
    "duration": 11,
    "start_time": "2022-01-30T19:38:38.710Z"
   },
   {
    "duration": 9,
    "start_time": "2022-01-30T19:38:38.723Z"
   },
   {
    "duration": 11,
    "start_time": "2022-01-30T19:38:38.733Z"
   },
   {
    "duration": 7,
    "start_time": "2022-01-30T19:38:38.745Z"
   },
   {
    "duration": 7,
    "start_time": "2022-01-30T19:38:38.754Z"
   },
   {
    "duration": 202,
    "start_time": "2022-01-30T19:38:38.762Z"
   },
   {
    "duration": 8,
    "start_time": "2022-01-30T19:38:38.965Z"
   },
   {
    "duration": 5,
    "start_time": "2022-01-30T19:38:38.974Z"
   },
   {
    "duration": 198,
    "start_time": "2022-01-30T19:38:38.981Z"
   },
   {
    "duration": 4,
    "start_time": "2022-01-30T19:38:39.180Z"
   },
   {
    "duration": 258,
    "start_time": "2022-01-30T19:38:39.186Z"
   },
   {
    "duration": 3,
    "start_time": "2022-01-30T19:38:39.446Z"
   },
   {
    "duration": 212,
    "start_time": "2022-01-30T19:38:39.450Z"
   },
   {
    "duration": 215,
    "start_time": "2022-01-30T19:38:39.664Z"
   },
   {
    "duration": 7,
    "start_time": "2022-01-30T19:38:39.881Z"
   },
   {
    "duration": 3,
    "start_time": "2022-01-30T19:38:39.890Z"
   },
   {
    "duration": 4,
    "start_time": "2022-01-30T19:38:39.894Z"
   },
   {
    "duration": 222,
    "start_time": "2022-01-30T19:38:39.900Z"
   },
   {
    "duration": 2,
    "start_time": "2022-01-30T19:38:40.124Z"
   },
   {
    "duration": 13,
    "start_time": "2022-01-30T19:38:40.128Z"
   },
   {
    "duration": 10,
    "start_time": "2022-01-30T19:38:40.143Z"
   },
   {
    "duration": 17,
    "start_time": "2022-01-30T19:38:40.155Z"
   },
   {
    "duration": 7,
    "start_time": "2022-01-30T19:38:40.173Z"
   },
   {
    "duration": 29,
    "start_time": "2022-01-30T19:38:40.181Z"
   },
   {
    "duration": 20,
    "start_time": "2022-01-30T19:38:40.212Z"
   },
   {
    "duration": 9,
    "start_time": "2022-01-30T19:38:40.234Z"
   },
   {
    "duration": 37,
    "start_time": "2022-01-30T19:38:40.244Z"
   },
   {
    "duration": 189,
    "start_time": "2022-01-30T19:38:40.283Z"
   },
   {
    "duration": 7,
    "start_time": "2022-01-30T19:38:40.474Z"
   },
   {
    "duration": 4,
    "start_time": "2022-01-30T19:38:40.572Z"
   },
   {
    "duration": 97,
    "start_time": "2022-01-30T19:38:40.577Z"
   },
   {
    "duration": 5,
    "start_time": "2022-01-30T19:38:40.676Z"
   },
   {
    "duration": 6,
    "start_time": "2022-01-30T19:38:40.774Z"
   },
   {
    "duration": 3,
    "start_time": "2022-01-30T19:38:40.872Z"
   },
   {
    "duration": 5,
    "start_time": "2022-01-30T19:38:40.877Z"
   },
   {
    "duration": 13190,
    "start_time": "2022-01-30T19:38:40.884Z"
   },
   {
    "duration": 3,
    "start_time": "2022-01-30T19:38:54.076Z"
   },
   {
    "duration": 7,
    "start_time": "2022-01-30T19:38:54.080Z"
   },
   {
    "duration": 13033,
    "start_time": "2022-01-30T19:38:54.088Z"
   },
   {
    "duration": 6,
    "start_time": "2022-01-30T19:39:07.122Z"
   },
   {
    "duration": 17,
    "start_time": "2022-01-30T19:39:07.129Z"
   },
   {
    "duration": 13,
    "start_time": "2022-01-30T19:39:07.148Z"
   },
   {
    "duration": 17,
    "start_time": "2022-01-30T19:39:07.162Z"
   },
   {
    "duration": 10,
    "start_time": "2022-01-30T19:39:07.181Z"
   },
   {
    "duration": 19,
    "start_time": "2022-01-30T19:39:07.195Z"
   },
   {
    "duration": 9,
    "start_time": "2022-01-30T19:39:07.216Z"
   },
   {
    "duration": 7,
    "start_time": "2022-01-30T19:39:07.227Z"
   },
   {
    "duration": 7,
    "start_time": "2022-01-30T19:39:07.236Z"
   },
   {
    "duration": 5,
    "start_time": "2022-01-30T19:39:07.245Z"
   },
   {
    "duration": 10,
    "start_time": "2022-01-30T19:39:07.252Z"
   }
  ],
  "kernelspec": {
   "display_name": "Python 3",
   "language": "python",
   "name": "python3"
  },
  "language_info": {
   "codemirror_mode": {
    "name": "ipython",
    "version": 3
   },
   "file_extension": ".py",
   "mimetype": "text/x-python",
   "name": "python",
   "nbconvert_exporter": "python",
   "pygments_lexer": "ipython3",
   "version": "3.7.8"
  },
  "toc": {
   "base_numbering": 1,
   "nav_menu": {},
   "number_sections": true,
   "sideBar": true,
   "skip_h1_title": true,
   "title_cell": "Содержание",
   "title_sidebar": "Contents",
   "toc_cell": true,
   "toc_position": {
    "height": "calc(100% - 180px)",
    "left": "10px",
    "top": "150px",
    "width": "165px"
   },
   "toc_section_display": true,
   "toc_window_display": false
  }
 },
 "nbformat": 4,
 "nbformat_minor": 2
}
