{
 "cells": [
  {
   "cell_type": "markdown",
   "metadata": {},
   "source": [
    "<h1>Contents<span class=\"tocSkip\"></span></h1>\n",
    "<div class=\"toc\"><ul class=\"toc-item\"><li><span><a href=\"#Customer-personal-data-protection\" data-toc-modified-id=\"Customer-personal-data-protection-1\"><span class=\"toc-item-num\">1&nbsp;&nbsp;</span>Project Description</a></span></li><li><span><a href=\"#Data-Preparation\" data-toc-modified-id=\"Data-Preparation-2\"><span class=\"toc-item-num\">2&nbsp;&nbsp;</span>Data Preparation</a></span></li><li><span><a href=\"#Transformation-algorithm-proposal\" data-toc-modified-id=\"Transformation-algorithm-proposal-3\"><span class=\"toc-item-num\">3&nbsp;&nbsp;</span>Transformation algorithm proposal</a></span></li><li><span><a href=\"#Conclusion\" data-toc-modified-id=\"Conclusion-4\"><span class=\"toc-item-num\">4&nbsp;&nbsp;</span>Conclusion</a></span></li></ul></div>"
   ]
  },
  {
   "cell_type": "markdown",
   "metadata": {},
   "source": [
    "# Customer personal data protection"
   ]
  },
  {
   "cell_type": "markdown",
   "metadata": {},
   "source": [
    "Goal: ensure customer personal data protection. \n",
    "\n",
    "Develop a data transformation method providing complicated personal information recovery. Verify correct functioning of the method.\n",
    "\n",
    "Encode customers' personal information in a way that machine learning models performance does not degrade."
   ]
  },
  {
   "cell_type": "markdown",
   "metadata": {},
   "source": [
    "## Data Preparation"
   ]
  },
  {
   "cell_type": "code",
   "execution_count": 1,
   "metadata": {},
   "outputs": [],
   "source": [
    "import pandas as pd\n",
    "import numpy as np\n",
    "from sklearn.linear_model import LinearRegression\n",
    "from sklearn.model_selection import train_test_split\n",
    "from sklearn.metrics import r2_score\n",
    "from sklearn.preprocessing import StandardScaler"
   ]
  },
  {
   "cell_type": "code",
   "execution_count": 2,
   "metadata": {},
   "outputs": [],
   "source": [
    "data = pd.read_csv('/datasets/insurance.csv')"
   ]
  },
  {
   "cell_type": "code",
   "execution_count": 3,
   "metadata": {},
   "outputs": [
    {
     "data": {
      "text/html": [
       "<div>\n",
       "<style scoped>\n",
       "    .dataframe tbody tr th:only-of-type {\n",
       "        vertical-align: middle;\n",
       "    }\n",
       "\n",
       "    .dataframe tbody tr th {\n",
       "        vertical-align: top;\n",
       "    }\n",
       "\n",
       "    .dataframe thead th {\n",
       "        text-align: right;\n",
       "    }\n",
       "</style>\n",
       "<table border=\"1\" class=\"dataframe\">\n",
       "  <thead>\n",
       "    <tr style=\"text-align: right;\">\n",
       "      <th></th>\n",
       "      <th>Gender</th>\n",
       "      <th>Age</th>\n",
       "      <th>Income</th>\n",
       "      <th>Family members</th>\n",
       "      <th>Insurance claim</th>\n",
       "    </tr>\n",
       "  </thead>\n",
       "  <tbody>\n",
       "    <tr>\n",
       "      <th>0</th>\n",
       "      <td>1</td>\n",
       "      <td>41.0</td>\n",
       "      <td>49600.0</td>\n",
       "      <td>1</td>\n",
       "      <td>0</td>\n",
       "    </tr>\n",
       "    <tr>\n",
       "      <th>1</th>\n",
       "      <td>0</td>\n",
       "      <td>46.0</td>\n",
       "      <td>38000.0</td>\n",
       "      <td>1</td>\n",
       "      <td>1</td>\n",
       "    </tr>\n",
       "    <tr>\n",
       "      <th>2</th>\n",
       "      <td>0</td>\n",
       "      <td>29.0</td>\n",
       "      <td>21000.0</td>\n",
       "      <td>0</td>\n",
       "      <td>0</td>\n",
       "    </tr>\n",
       "    <tr>\n",
       "      <th>3</th>\n",
       "      <td>0</td>\n",
       "      <td>21.0</td>\n",
       "      <td>41700.0</td>\n",
       "      <td>2</td>\n",
       "      <td>0</td>\n",
       "    </tr>\n",
       "    <tr>\n",
       "      <th>4</th>\n",
       "      <td>1</td>\n",
       "      <td>28.0</td>\n",
       "      <td>26100.0</td>\n",
       "      <td>0</td>\n",
       "      <td>0</td>\n",
       "    </tr>\n",
       "  </tbody>\n",
       "</table>\n",
       "</div>"
      ],
      "text/plain": [
       "   Gender   Age   Income  Family members  Insurance claim\n",
       "0       1  41.0  49600.0               1                0\n",
       "1       0  46.0  38000.0               1                1\n",
       "2       0  29.0  21000.0               0                0\n",
       "3       0  21.0  41700.0               2                0\n",
       "4       1  28.0  26100.0               0                0"
      ]
     },
     "execution_count": 3,
     "metadata": {},
     "output_type": "execute_result"
    }
   ],
   "source": [
    "data.head()"
   ]
  },
  {
   "cell_type": "code",
   "execution_count": 4,
   "metadata": {},
   "outputs": [
    {
     "name": "stdout",
     "output_type": "stream",
     "text": [
      "<class 'pandas.core.frame.DataFrame'>\n",
      "RangeIndex: 5000 entries, 0 to 4999\n",
      "Data columns (total 5 columns):\n",
      " #   Column           Non-Null Count  Dtype  \n",
      "---  ------           --------------  -----  \n",
      " 0   Gender           5000 non-null   int64  \n",
      " 1   Age              5000 non-null   float64\n",
      " 2   Income           5000 non-null   float64\n",
      " 3   Family members   5000 non-null   int64  \n",
      " 4   Insurance claim  5000 non-null   int64  \n",
      "dtypes: float64(2), int64(3)\n",
      "memory usage: 195.4 KB\n"
     ]
    }
   ],
   "source": [
    "data.info()"
   ]
  },
  {
   "cell_type": "code",
   "execution_count": 5,
   "metadata": {},
   "outputs": [
    {
     "data": {
      "text/html": [
       "<div>\n",
       "<style scoped>\n",
       "    .dataframe tbody tr th:only-of-type {\n",
       "        vertical-align: middle;\n",
       "    }\n",
       "\n",
       "    .dataframe tbody tr th {\n",
       "        vertical-align: top;\n",
       "    }\n",
       "\n",
       "    .dataframe thead th {\n",
       "        text-align: right;\n",
       "    }\n",
       "</style>\n",
       "<table border=\"1\" class=\"dataframe\">\n",
       "  <thead>\n",
       "    <tr style=\"text-align: right;\">\n",
       "      <th></th>\n",
       "      <th>Gender</th>\n",
       "      <th>Age</th>\n",
       "      <th>Income</th>\n",
       "      <th>Family members</th>\n",
       "      <th>Insurance claim</th>\n",
       "    </tr>\n",
       "  </thead>\n",
       "  <tbody>\n",
       "    <tr>\n",
       "      <th>count</th>\n",
       "      <td>5000.000000</td>\n",
       "      <td>5000.000000</td>\n",
       "      <td>5000.000000</td>\n",
       "      <td>5000.000000</td>\n",
       "      <td>5000.000000</td>\n",
       "    </tr>\n",
       "    <tr>\n",
       "      <th>mean</th>\n",
       "      <td>0.499000</td>\n",
       "      <td>30.952800</td>\n",
       "      <td>39916.360000</td>\n",
       "      <td>1.194200</td>\n",
       "      <td>0.148000</td>\n",
       "    </tr>\n",
       "    <tr>\n",
       "      <th>std</th>\n",
       "      <td>0.500049</td>\n",
       "      <td>8.440807</td>\n",
       "      <td>9900.083569</td>\n",
       "      <td>1.091387</td>\n",
       "      <td>0.463183</td>\n",
       "    </tr>\n",
       "    <tr>\n",
       "      <th>min</th>\n",
       "      <td>0.000000</td>\n",
       "      <td>18.000000</td>\n",
       "      <td>5300.000000</td>\n",
       "      <td>0.000000</td>\n",
       "      <td>0.000000</td>\n",
       "    </tr>\n",
       "    <tr>\n",
       "      <th>25%</th>\n",
       "      <td>0.000000</td>\n",
       "      <td>24.000000</td>\n",
       "      <td>33300.000000</td>\n",
       "      <td>0.000000</td>\n",
       "      <td>0.000000</td>\n",
       "    </tr>\n",
       "    <tr>\n",
       "      <th>50%</th>\n",
       "      <td>0.000000</td>\n",
       "      <td>30.000000</td>\n",
       "      <td>40200.000000</td>\n",
       "      <td>1.000000</td>\n",
       "      <td>0.000000</td>\n",
       "    </tr>\n",
       "    <tr>\n",
       "      <th>75%</th>\n",
       "      <td>1.000000</td>\n",
       "      <td>37.000000</td>\n",
       "      <td>46600.000000</td>\n",
       "      <td>2.000000</td>\n",
       "      <td>0.000000</td>\n",
       "    </tr>\n",
       "    <tr>\n",
       "      <th>max</th>\n",
       "      <td>1.000000</td>\n",
       "      <td>65.000000</td>\n",
       "      <td>79000.000000</td>\n",
       "      <td>6.000000</td>\n",
       "      <td>5.000000</td>\n",
       "    </tr>\n",
       "  </tbody>\n",
       "</table>\n",
       "</div>"
      ],
      "text/plain": [
       "            Gender          Age        Income  Family members  Insurance claim\n",
       "count  5000.000000  5000.000000   5000.000000     5000.000000      5000.000000\n",
       "mean      0.499000    30.952800  39916.360000        1.194200         0.148000\n",
       "std       0.500049     8.440807   9900.083569        1.091387         0.463183\n",
       "min       0.000000    18.000000   5300.000000        0.000000         0.000000\n",
       "25%       0.000000    24.000000  33300.000000        0.000000         0.000000\n",
       "50%       0.000000    30.000000  40200.000000        1.000000         0.000000\n",
       "75%       1.000000    37.000000  46600.000000        2.000000         0.000000\n",
       "max       1.000000    65.000000  79000.000000        6.000000         5.000000"
      ]
     },
     "execution_count": 5,
     "metadata": {},
     "output_type": "execute_result"
    }
   ],
   "source": [
    "data.describe()"
   ]
  },
  {
   "cell_type": "code",
   "execution_count": 6,
   "metadata": {},
   "outputs": [
    {
     "data": {
      "text/plain": [
       "153"
      ]
     },
     "execution_count": 6,
     "metadata": {},
     "output_type": "execute_result"
    }
   ],
   "source": [
    "data.duplicated().sum()"
   ]
  },
  {
   "cell_type": "code",
   "execution_count": 7,
   "metadata": {},
   "outputs": [],
   "source": [
    "duplicate = data[data.duplicated()]"
   ]
  },
  {
   "cell_type": "code",
   "execution_count": 8,
   "metadata": {},
   "outputs": [],
   "source": [
    "data = data.drop_duplicates()"
   ]
  },
  {
   "cell_type": "code",
   "execution_count": 9,
   "metadata": {},
   "outputs": [
    {
     "data": {
      "text/plain": [
       "(4847, 5)"
      ]
     },
     "execution_count": 9,
     "metadata": {},
     "output_type": "execute_result"
    }
   ],
   "source": [
    "data.shape"
   ]
  },
  {
   "cell_type": "markdown",
   "metadata": {},
   "source": [
    "###### Summary \n",
    "\n",
    "Dataset was uploaded and reviewed. No missing or negative values found. Deleted 153 duplicates."
   ]
  },
  {
   "cell_type": "markdown",
   "metadata": {},
   "source": [
    "Remove target feature. Check linear regression performance."
   ]
  },
  {
   "cell_type": "code",
   "execution_count": 15,
   "metadata": {},
   "outputs": [],
   "source": [
    "features = data.drop('Insurance claim', axis=1)"
   ]
  },
  {
   "cell_type": "code",
   "execution_count": 16,
   "metadata": {},
   "outputs": [],
   "source": [
    "target = data['Insurance claim'] "
   ]
  },
  {
   "cell_type": "code",
   "execution_count": 17,
   "metadata": {},
   "outputs": [],
   "source": [
    "features_train, features_valid, target_train, target_valid = \\\n",
    "train_test_split(features, target, test_size=0.25, random_state=12345)"
   ]
  },
  {
   "cell_type": "code",
   "execution_count": 18,
   "metadata": {},
   "outputs": [],
   "source": [
    "model = LinearRegression()"
   ]
  },
  {
   "cell_type": "code",
   "execution_count": 19,
   "metadata": {},
   "outputs": [
    {
     "data": {
      "text/plain": [
       "LinearRegression()"
      ]
     },
     "execution_count": 19,
     "metadata": {},
     "output_type": "execute_result"
    }
   ],
   "source": [
    "model.fit(features_train, target_train)"
   ]
  },
  {
   "cell_type": "code",
   "execution_count": 20,
   "metadata": {},
   "outputs": [],
   "source": [
    "predictions = model.predict(features_valid)"
   ]
  },
  {
   "cell_type": "code",
   "execution_count": 21,
   "metadata": {
    "scrolled": true
   },
   "outputs": [
    {
     "data": {
      "text/plain": [
       "0.42307727492147573"
      ]
     },
     "execution_count": 21,
     "metadata": {},
     "output_type": "execute_result"
    }
   ],
   "source": [
    "r2_score(target_valid, predictions)"
   ]
  },
  {
   "cell_type": "code",
   "execution_count": 22,
   "metadata": {},
   "outputs": [],
   "source": [
    "coef_original = model.coef_"
   ]
  },
  {
   "cell_type": "raw",
   "metadata": {},
   "source": [
    "Create invertible matrix with an amount of rows equal to the amount of columns in feature matrix - features_train"
   ]
  },
  {
   "cell_type": "code",
   "execution_count": 23,
   "metadata": {},
   "outputs": [
    {
     "data": {
      "text/plain": [
       "(3635, 4)"
      ]
     },
     "execution_count": 23,
     "metadata": {},
     "output_type": "execute_result"
    }
   ],
   "source": [
    "features_train.shape"
   ]
  },
  {
   "cell_type": "code",
   "execution_count": 24,
   "metadata": {},
   "outputs": [],
   "source": [
    "matrixSize = 4\n",
    "B = np.random.rand(matrixSize,matrixSize)"
   ]
  },
  {
   "cell_type": "markdown",
   "metadata": {},
   "source": [
    "Matrix invertibility check: create an inverse matrix C. If such matrix doesn't exist, it means that an noninvertible matrix B was created "
   ]
  },
  {
   "cell_type": "code",
   "execution_count": 25,
   "metadata": {},
   "outputs": [
    {
     "data": {
      "text/plain": [
       "array([[ -0.57418168,  13.84993229, -18.56260765,   0.42623925],\n",
       "       [  0.66022883,  -6.46483446,  10.5950053 ,  -0.74067942],\n",
       "       [  8.94742362, -56.29310327,  73.94468647,  -4.70724359],\n",
       "       [ -7.51666877,  47.15193914, -62.31256761,   5.29091294]])"
      ]
     },
     "execution_count": 25,
     "metadata": {},
     "output_type": "execute_result"
    }
   ],
   "source": [
    "C = np.linalg.inv(B)\n",
    "C"
   ]
  },
  {
   "cell_type": "markdown",
   "metadata": {},
   "source": [
    "Multiply features by invertible matrix B "
   ]
  },
  {
   "cell_type": "code",
   "execution_count": 26,
   "metadata": {},
   "outputs": [],
   "source": [
    "features_multip_by_inv_matrix = features_train.values @ B"
   ]
  },
  {
   "cell_type": "code",
   "execution_count": 27,
   "metadata": {},
   "outputs": [
    {
     "data": {
      "text/plain": [
       "(3635, 4)"
      ]
     },
     "execution_count": 27,
     "metadata": {},
     "output_type": "execute_result"
    }
   ],
   "source": [
    "features_multip_by_inv_matrix.shape"
   ]
  },
  {
   "cell_type": "code",
   "execution_count": 28,
   "metadata": {},
   "outputs": [
    {
     "data": {
      "text/plain": [
       "LinearRegression()"
      ]
     },
     "execution_count": 28,
     "metadata": {},
     "output_type": "execute_result"
    }
   ],
   "source": [
    "model.fit(features_multip_by_inv_matrix, target_train)"
   ]
  },
  {
   "cell_type": "code",
   "execution_count": 29,
   "metadata": {},
   "outputs": [],
   "source": [
    "predictions_multip_by_inv_matrix = model.predict(features_valid.values @ B)"
   ]
  },
  {
   "cell_type": "code",
   "execution_count": 30,
   "metadata": {},
   "outputs": [
    {
     "data": {
      "text/plain": [
       "numpy.ndarray"
      ]
     },
     "execution_count": 30,
     "metadata": {},
     "output_type": "execute_result"
    }
   ],
   "source": [
    "type(predictions_multip_by_inv_matrix)"
   ]
  },
  {
   "cell_type": "code",
   "execution_count": 31,
   "metadata": {},
   "outputs": [
    {
     "data": {
      "text/plain": [
       "0.42307727492155545"
      ]
     },
     "execution_count": 31,
     "metadata": {},
     "output_type": "execute_result"
    }
   ],
   "source": [
    "r2_score(target_valid, predictions_multip_by_inv_matrix)"
   ]
  },
  {
   "cell_type": "markdown",
   "metadata": {},
   "source": [
    "Prove that predictions before the multiplication are equal to predictions after the multiplication"
   ]
  },
  {
   "cell_type": "code",
   "execution_count": 32,
   "metadata": {},
   "outputs": [],
   "source": [
    "difference = predictions / predictions_multip_by_inv_matrix"
   ]
  },
  {
   "cell_type": "code",
   "execution_count": 33,
   "metadata": {},
   "outputs": [],
   "source": [
    "difference = np.round(difference)"
   ]
  },
  {
   "cell_type": "code",
   "execution_count": 34,
   "metadata": {},
   "outputs": [
    {
     "data": {
      "text/plain": [
       "array([1., 1., 1., ..., 1., 1., 1.])"
      ]
     },
     "execution_count": 34,
     "metadata": {},
     "output_type": "execute_result"
    }
   ],
   "source": [
    "difference"
   ]
  },
  {
   "cell_type": "code",
   "execution_count": 35,
   "metadata": {},
   "outputs": [
    {
     "data": {
      "text/plain": [
       "{1.0}"
      ]
     },
     "execution_count": 35,
     "metadata": {},
     "output_type": "execute_result"
    }
   ],
   "source": [
    "set(difference)"
   ]
  },
  {
   "cell_type": "code",
   "execution_count": 36,
   "metadata": {},
   "outputs": [],
   "source": [
    "coef__multip_by_inv_matrix = model.coef_"
   ]
  },
  {
   "cell_type": "markdown",
   "metadata": {},
   "source": [
    "Features multiplication by invertible matrix did not cause any significant difference for r2_score."
   ]
  },
  {
   "cell_type": "code",
   "execution_count": 37,
   "metadata": {},
   "outputs": [
    {
     "data": {
      "text/plain": [
       "array([ 1.45766002e-02,  3.64782926e-02,  1.79477716e-07, -1.23345013e-02])"
      ]
     },
     "execution_count": 37,
     "metadata": {},
     "output_type": "execute_result"
    }
   ],
   "source": [
    "coef_original"
   ]
  },
  {
   "cell_type": "code",
   "execution_count": 38,
   "metadata": {},
   "outputs": [
    {
     "data": {
      "text/plain": [
       "array([ 0.49159149, -0.21706442, -1.8649785 ,  1.5451828 ])"
      ]
     },
     "execution_count": 38,
     "metadata": {},
     "output_type": "execute_result"
    }
   ],
   "source": [
    "coef__multip_by_inv_matrix"
   ]
  },
  {
   "cell_type": "markdown",
   "metadata": {},
   "source": [
    "Features multiplication by invertible matrix did not caused proportional change of model parameters. Linear regression model performance did not degrade.  "
   ]
  },
  {
   "cell_type": "markdown",
   "metadata": {},
   "source": [
    "## Transformation algorithm proposal"
   ]
  },
  {
   "cell_type": "markdown",
   "metadata": {},
   "source": [
    "**Algorithm**\n",
    "\n",
    "Use feature scaling or vector linear transformation"
   ]
  },
  {
   "cell_type": "markdown",
   "metadata": {},
   "source": [
    "Method#1: Scaling"
   ]
  },
  {
   "cell_type": "code",
   "execution_count": 39,
   "metadata": {},
   "outputs": [],
   "source": [
    "scaler = StandardScaler()"
   ]
  },
  {
   "cell_type": "code",
   "execution_count": 40,
   "metadata": {},
   "outputs": [],
   "source": [
    "features_scaled = scaler.fit_transform(features)"
   ]
  },
  {
   "cell_type": "code",
   "execution_count": 41,
   "metadata": {},
   "outputs": [
    {
     "data": {
      "text/plain": [
       "array([[ 1.0030995 ,  1.1754362 ,  0.97315092, -0.18517565],\n",
       "       [-0.99691008,  1.76456423, -0.19011493, -0.18517565],\n",
       "       [-0.99691008, -0.23847105, -1.89490109, -1.09546611],\n",
       "       ...,\n",
       "       [-0.99691008, -1.29890149, -0.60126924,  0.7251148 ],\n",
       "       [ 1.0030995 , -1.06325028, -0.72160708,  1.63540526],\n",
       "       [ 1.0030995 , -0.35629665,  0.07061707, -0.18517565]])"
      ]
     },
     "execution_count": 41,
     "metadata": {},
     "output_type": "execute_result"
    }
   ],
   "source": [
    "features_scaled"
   ]
  },
  {
   "cell_type": "code",
   "execution_count": 42,
   "metadata": {},
   "outputs": [],
   "source": [
    "features_train_scaled, features_valid_scaled, target_train, \\\n",
    "target_valid = train_test_split(\n",
    "    features_scaled, target, test_size=0.25, random_state=12345)"
   ]
  },
  {
   "cell_type": "code",
   "execution_count": 43,
   "metadata": {},
   "outputs": [
    {
     "data": {
      "text/plain": [
       "LinearRegression()"
      ]
     },
     "execution_count": 43,
     "metadata": {},
     "output_type": "execute_result"
    }
   ],
   "source": [
    "model.fit(features_train_scaled, target_train)"
   ]
  },
  {
   "cell_type": "code",
   "execution_count": 44,
   "metadata": {},
   "outputs": [],
   "source": [
    "predictions = model.predict(features_valid_scaled)"
   ]
  },
  {
   "cell_type": "code",
   "execution_count": 45,
   "metadata": {},
   "outputs": [
    {
     "data": {
      "text/plain": [
       "0.4230772749214825"
      ]
     },
     "execution_count": 45,
     "metadata": {},
     "output_type": "execute_result"
    }
   ],
   "source": [
    "r2_score(target_valid, predictions)"
   ]
  },
  {
   "cell_type": "markdown",
   "metadata": {},
   "source": [
    "Method#1\n",
    "Feature standardization is conducted as per the formula: \n",
    "\n",
    "$$\n",
    "z = (x - u) / sigma \n",
    "$$\n",
    "\n",
    "This formula includes linear operations, so the model quality doesn't degrade"
   ]
  },
  {
   "cell_type": "markdown",
   "metadata": {},
   "source": [
    "Method#2: Vector multiplication"
   ]
  },
  {
   "cell_type": "code",
   "execution_count": 46,
   "metadata": {},
   "outputs": [
    {
     "data": {
      "text/plain": [
       "4"
      ]
     },
     "execution_count": 46,
     "metadata": {},
     "output_type": "execute_result"
    }
   ],
   "source": [
    "features.shape[1]"
   ]
  },
  {
   "cell_type": "code",
   "execution_count": 47,
   "metadata": {},
   "outputs": [],
   "source": [
    "vector_random = np.array(np.random.randint(1000, size = features.shape[1]))"
   ]
  },
  {
   "cell_type": "code",
   "execution_count": 48,
   "metadata": {},
   "outputs": [
    {
     "data": {
      "text/plain": [
       "array([182,   4, 225, 912])"
      ]
     },
     "execution_count": 48,
     "metadata": {},
     "output_type": "execute_result"
    }
   ],
   "source": [
    "vector_random"
   ]
  },
  {
   "cell_type": "markdown",
   "metadata": {},
   "source": [
    "Multiply feature matrix by the vector of random numbers. A random number 12 is added in order to improve encoding "
   ]
  },
  {
   "cell_type": "code",
   "execution_count": 49,
   "metadata": {},
   "outputs": [],
   "source": [
    "features_transformed = features * vector_random + 12 "
   ]
  },
  {
   "cell_type": "code",
   "execution_count": 50,
   "metadata": {},
   "outputs": [
    {
     "data": {
      "text/html": [
       "<div>\n",
       "<style scoped>\n",
       "    .dataframe tbody tr th:only-of-type {\n",
       "        vertical-align: middle;\n",
       "    }\n",
       "\n",
       "    .dataframe tbody tr th {\n",
       "        vertical-align: top;\n",
       "    }\n",
       "\n",
       "    .dataframe thead th {\n",
       "        text-align: right;\n",
       "    }\n",
       "</style>\n",
       "<table border=\"1\" class=\"dataframe\">\n",
       "  <thead>\n",
       "    <tr style=\"text-align: right;\">\n",
       "      <th></th>\n",
       "      <th>Gender</th>\n",
       "      <th>Age</th>\n",
       "      <th>Income</th>\n",
       "      <th>Family members</th>\n",
       "    </tr>\n",
       "  </thead>\n",
       "  <tbody>\n",
       "    <tr>\n",
       "      <th>0</th>\n",
       "      <td>194</td>\n",
       "      <td>176.0</td>\n",
       "      <td>11160012.0</td>\n",
       "      <td>924</td>\n",
       "    </tr>\n",
       "    <tr>\n",
       "      <th>1</th>\n",
       "      <td>12</td>\n",
       "      <td>196.0</td>\n",
       "      <td>8550012.0</td>\n",
       "      <td>924</td>\n",
       "    </tr>\n",
       "    <tr>\n",
       "      <th>2</th>\n",
       "      <td>12</td>\n",
       "      <td>128.0</td>\n",
       "      <td>4725012.0</td>\n",
       "      <td>12</td>\n",
       "    </tr>\n",
       "    <tr>\n",
       "      <th>3</th>\n",
       "      <td>12</td>\n",
       "      <td>96.0</td>\n",
       "      <td>9382512.0</td>\n",
       "      <td>1836</td>\n",
       "    </tr>\n",
       "    <tr>\n",
       "      <th>4</th>\n",
       "      <td>194</td>\n",
       "      <td>124.0</td>\n",
       "      <td>5872512.0</td>\n",
       "      <td>12</td>\n",
       "    </tr>\n",
       "    <tr>\n",
       "      <th>...</th>\n",
       "      <td>...</td>\n",
       "      <td>...</td>\n",
       "      <td>...</td>\n",
       "      <td>...</td>\n",
       "    </tr>\n",
       "    <tr>\n",
       "      <th>4995</th>\n",
       "      <td>12</td>\n",
       "      <td>124.0</td>\n",
       "      <td>8032512.0</td>\n",
       "      <td>1836</td>\n",
       "    </tr>\n",
       "    <tr>\n",
       "      <th>4996</th>\n",
       "      <td>12</td>\n",
       "      <td>148.0</td>\n",
       "      <td>11790012.0</td>\n",
       "      <td>924</td>\n",
       "    </tr>\n",
       "    <tr>\n",
       "      <th>4997</th>\n",
       "      <td>12</td>\n",
       "      <td>92.0</td>\n",
       "      <td>7627512.0</td>\n",
       "      <td>1836</td>\n",
       "    </tr>\n",
       "    <tr>\n",
       "      <th>4998</th>\n",
       "      <td>194</td>\n",
       "      <td>100.0</td>\n",
       "      <td>7357512.0</td>\n",
       "      <td>2748</td>\n",
       "    </tr>\n",
       "    <tr>\n",
       "      <th>4999</th>\n",
       "      <td>194</td>\n",
       "      <td>124.0</td>\n",
       "      <td>9135012.0</td>\n",
       "      <td>924</td>\n",
       "    </tr>\n",
       "  </tbody>\n",
       "</table>\n",
       "<p>4847 rows × 4 columns</p>\n",
       "</div>"
      ],
      "text/plain": [
       "      Gender    Age      Income  Family members\n",
       "0        194  176.0  11160012.0             924\n",
       "1         12  196.0   8550012.0             924\n",
       "2         12  128.0   4725012.0              12\n",
       "3         12   96.0   9382512.0            1836\n",
       "4        194  124.0   5872512.0              12\n",
       "...      ...    ...         ...             ...\n",
       "4995      12  124.0   8032512.0            1836\n",
       "4996      12  148.0  11790012.0             924\n",
       "4997      12   92.0   7627512.0            1836\n",
       "4998     194  100.0   7357512.0            2748\n",
       "4999     194  124.0   9135012.0             924\n",
       "\n",
       "[4847 rows x 4 columns]"
      ]
     },
     "execution_count": 50,
     "metadata": {},
     "output_type": "execute_result"
    }
   ],
   "source": [
    "features_transformed"
   ]
  },
  {
   "cell_type": "code",
   "execution_count": 51,
   "metadata": {},
   "outputs": [],
   "source": [
    "features_train_transformed, features_valid_transformed, target_train, target_valid = \\\n",
    "train_test_split(\n",
    "    features_transformed, target, test_size=0.25, random_state=12345)"
   ]
  },
  {
   "cell_type": "code",
   "execution_count": 52,
   "metadata": {},
   "outputs": [
    {
     "data": {
      "text/plain": [
       "LinearRegression()"
      ]
     },
     "execution_count": 52,
     "metadata": {},
     "output_type": "execute_result"
    }
   ],
   "source": [
    "model.fit(features_train_transformed, target_train)"
   ]
  },
  {
   "cell_type": "code",
   "execution_count": 53,
   "metadata": {},
   "outputs": [],
   "source": [
    "predictions = model.predict(features_valid_transformed)"
   ]
  },
  {
   "cell_type": "code",
   "execution_count": 54,
   "metadata": {},
   "outputs": [
    {
     "data": {
      "text/plain": [
       "0.42307727492111646"
      ]
     },
     "execution_count": 54,
     "metadata": {},
     "output_type": "execute_result"
    }
   ],
   "source": [
    "r2_score(target_valid, predictions)"
   ]
  },
  {
   "cell_type": "markdown",
   "metadata": {},
   "source": [
    "###### Conclusion\n",
    "\n",
    "r2 metric comparison reflects that the model quality doesn't degrade after the transformation."
   ]
  }
 ],
 "metadata": {
  "ExecuteTimeLog": [
   {
    "duration": 116,
    "start_time": "2021-10-25T14:29:58.553Z"
   },
   {
    "duration": 565,
    "start_time": "2021-10-25T14:30:06.589Z"
   },
   {
    "duration": 21,
    "start_time": "2021-10-25T14:30:27.646Z"
   },
   {
    "duration": 16,
    "start_time": "2021-10-25T14:30:41.901Z"
   },
   {
    "duration": 8,
    "start_time": "2021-10-25T14:30:50.645Z"
   },
   {
    "duration": 8,
    "start_time": "2021-10-25T14:30:53.677Z"
   },
   {
    "duration": 22,
    "start_time": "2021-10-25T14:31:21.893Z"
   },
   {
    "duration": 7,
    "start_time": "2021-10-25T14:37:00.260Z"
   },
   {
    "duration": 7,
    "start_time": "2021-10-25T14:37:16.797Z"
   },
   {
    "duration": 6,
    "start_time": "2021-10-25T14:37:48.720Z"
   },
   {
    "duration": 4,
    "start_time": "2021-10-25T14:38:00.589Z"
   },
   {
    "duration": 5,
    "start_time": "2021-10-25T14:40:03.596Z"
   },
   {
    "duration": 6,
    "start_time": "2021-10-25T14:40:10.139Z"
   },
   {
    "duration": 613,
    "start_time": "2021-10-25T14:40:34.372Z"
   },
   {
    "duration": 23,
    "start_time": "2021-10-25T14:40:34.987Z"
   },
   {
    "duration": 7,
    "start_time": "2021-10-25T14:40:37.347Z"
   },
   {
    "duration": 605,
    "start_time": "2021-10-25T14:40:45.901Z"
   },
   {
    "duration": 22,
    "start_time": "2021-10-25T14:40:46.508Z"
   },
   {
    "duration": 12,
    "start_time": "2021-10-25T14:40:49.591Z"
   },
   {
    "duration": 5,
    "start_time": "2021-10-25T14:40:50.396Z"
   },
   {
    "duration": 14,
    "start_time": "2021-10-25T14:40:51.134Z"
   },
   {
    "duration": 18,
    "start_time": "2021-10-25T14:41:13.563Z"
   },
   {
    "duration": 15,
    "start_time": "2021-10-25T14:53:04.052Z"
   },
   {
    "duration": 12,
    "start_time": "2021-10-25T14:53:09.564Z"
   },
   {
    "duration": 13,
    "start_time": "2021-10-25T14:53:15.018Z"
   },
   {
    "duration": 309,
    "start_time": "2021-10-25T14:54:04.682Z"
   },
   {
    "duration": 24,
    "start_time": "2021-10-25T14:54:09.433Z"
   },
   {
    "duration": 649,
    "start_time": "2021-10-25T14:56:10.792Z"
   },
   {
    "duration": 23,
    "start_time": "2021-10-25T14:56:11.443Z"
   },
   {
    "duration": 17,
    "start_time": "2021-10-25T14:56:11.468Z"
   },
   {
    "duration": 13,
    "start_time": "2021-10-25T14:56:11.487Z"
   },
   {
    "duration": 24,
    "start_time": "2021-10-25T14:56:11.502Z"
   },
   {
    "duration": 5,
    "start_time": "2021-10-25T14:56:11.528Z"
   },
   {
    "duration": 15,
    "start_time": "2021-10-25T14:56:11.534Z"
   },
   {
    "duration": 38,
    "start_time": "2021-10-25T14:56:11.552Z"
   },
   {
    "duration": 17,
    "start_time": "2021-10-25T14:56:11.592Z"
   },
   {
    "duration": 9,
    "start_time": "2021-10-25T14:56:11.611Z"
   },
   {
    "duration": 7,
    "start_time": "2021-10-25T14:57:06.120Z"
   },
   {
    "duration": 9,
    "start_time": "2021-10-25T14:57:06.956Z"
   },
   {
    "duration": 615,
    "start_time": "2021-10-25T14:57:16.087Z"
   },
   {
    "duration": 21,
    "start_time": "2021-10-25T14:57:16.704Z"
   },
   {
    "duration": 14,
    "start_time": "2021-10-25T14:57:16.727Z"
   },
   {
    "duration": 8,
    "start_time": "2021-10-25T14:57:16.743Z"
   },
   {
    "duration": 25,
    "start_time": "2021-10-25T14:57:16.753Z"
   },
   {
    "duration": 5,
    "start_time": "2021-10-25T14:57:16.780Z"
   },
   {
    "duration": 6,
    "start_time": "2021-10-25T14:57:16.786Z"
   },
   {
    "duration": 16,
    "start_time": "2021-10-25T14:57:16.794Z"
   },
   {
    "duration": 9,
    "start_time": "2021-10-25T14:57:16.811Z"
   },
   {
    "duration": 5,
    "start_time": "2021-10-25T14:57:16.821Z"
   },
   {
    "duration": 40,
    "start_time": "2021-10-25T14:57:35.044Z"
   },
   {
    "duration": 839,
    "start_time": "2021-10-25T14:58:36.026Z"
   },
   {
    "duration": 25,
    "start_time": "2021-10-25T14:58:36.868Z"
   },
   {
    "duration": 22,
    "start_time": "2021-10-25T14:58:36.896Z"
   },
   {
    "duration": 8,
    "start_time": "2021-10-25T14:58:36.921Z"
   },
   {
    "duration": 34,
    "start_time": "2021-10-25T14:58:36.931Z"
   },
   {
    "duration": 6,
    "start_time": "2021-10-25T14:58:36.967Z"
   },
   {
    "duration": 9,
    "start_time": "2021-10-25T14:58:36.974Z"
   },
   {
    "duration": 6,
    "start_time": "2021-10-25T14:58:36.985Z"
   },
   {
    "duration": 4,
    "start_time": "2021-10-25T14:58:36.993Z"
   },
   {
    "duration": 513,
    "start_time": "2021-10-25T15:27:48.468Z"
   },
   {
    "duration": 2,
    "start_time": "2021-10-25T15:28:04.484Z"
   },
   {
    "duration": 337,
    "start_time": "2021-10-25T15:28:58.153Z"
   },
   {
    "duration": 257,
    "start_time": "2021-10-25T15:29:06.929Z"
   },
   {
    "duration": 267,
    "start_time": "2021-10-25T15:29:37.112Z"
   },
   {
    "duration": 3,
    "start_time": "2021-10-25T15:29:42.810Z"
   },
   {
    "duration": 4,
    "start_time": "2021-10-25T15:29:49.386Z"
   },
   {
    "duration": 3,
    "start_time": "2021-10-25T15:30:21.824Z"
   },
   {
    "duration": 81,
    "start_time": "2021-10-25T15:31:10.184Z"
   },
   {
    "duration": 7,
    "start_time": "2021-10-25T15:31:18.016Z"
   },
   {
    "duration": 8,
    "start_time": "2021-10-25T15:32:11.392Z"
   },
   {
    "duration": 3,
    "start_time": "2021-10-25T15:33:05.096Z"
   },
   {
    "duration": 251,
    "start_time": "2021-10-25T15:33:13.632Z"
   },
   {
    "duration": 242,
    "start_time": "2021-10-25T15:33:22.855Z"
   },
   {
    "duration": 4,
    "start_time": "2021-10-25T15:34:12.288Z"
   },
   {
    "duration": 5,
    "start_time": "2021-10-25T15:34:23.511Z"
   },
   {
    "duration": 3,
    "start_time": "2021-10-25T17:51:12.856Z"
   },
   {
    "duration": 319,
    "start_time": "2021-10-25T17:51:54.797Z"
   },
   {
    "duration": 2376,
    "start_time": "2021-10-25T17:52:01.437Z"
   },
   {
    "duration": 3,
    "start_time": "2021-10-25T17:52:16.781Z"
   },
   {
    "duration": 2342,
    "start_time": "2021-10-25T17:52:27.736Z"
   },
   {
    "duration": 3496,
    "start_time": "2021-10-25T17:52:39.509Z"
   },
   {
    "duration": 4,
    "start_time": "2021-10-25T17:52:57.989Z"
   },
   {
    "duration": 4,
    "start_time": "2021-10-25T17:54:38.733Z"
   },
   {
    "duration": 4,
    "start_time": "2021-10-25T17:55:04.708Z"
   },
   {
    "duration": 6,
    "start_time": "2021-10-25T17:55:18.885Z"
   },
   {
    "duration": 3,
    "start_time": "2021-10-25T17:56:03.711Z"
   },
   {
    "duration": 5,
    "start_time": "2021-10-25T17:56:08.244Z"
   },
   {
    "duration": 3,
    "start_time": "2021-10-25T17:58:59.076Z"
   },
   {
    "duration": 4,
    "start_time": "2021-10-25T17:59:03.692Z"
   },
   {
    "duration": 4,
    "start_time": "2021-10-25T18:00:14.196Z"
   },
   {
    "duration": 4,
    "start_time": "2021-10-25T18:00:51.100Z"
   },
   {
    "duration": 5,
    "start_time": "2021-10-25T18:01:02.209Z"
   },
   {
    "duration": 1073,
    "start_time": "2021-10-25T18:02:32.827Z"
   },
   {
    "duration": 20,
    "start_time": "2021-10-25T18:02:33.902Z"
   },
   {
    "duration": 14,
    "start_time": "2021-10-25T18:02:33.924Z"
   },
   {
    "duration": 8,
    "start_time": "2021-10-25T18:02:33.940Z"
   },
   {
    "duration": 30,
    "start_time": "2021-10-25T18:02:33.950Z"
   },
   {
    "duration": 7,
    "start_time": "2021-10-25T18:02:33.982Z"
   },
   {
    "duration": 6,
    "start_time": "2021-10-25T18:02:33.992Z"
   },
   {
    "duration": 6,
    "start_time": "2021-10-25T18:02:34.001Z"
   },
   {
    "duration": 4,
    "start_time": "2021-10-25T18:02:34.009Z"
   },
   {
    "duration": 8,
    "start_time": "2021-10-25T18:02:34.015Z"
   },
   {
    "duration": 7,
    "start_time": "2021-10-25T18:02:34.025Z"
   },
   {
    "duration": 9,
    "start_time": "2021-10-25T18:02:34.064Z"
   },
   {
    "duration": 5,
    "start_time": "2021-10-25T18:02:34.075Z"
   },
   {
    "duration": 13,
    "start_time": "2021-10-25T18:02:34.081Z"
   },
   {
    "duration": 6,
    "start_time": "2021-10-25T18:02:34.096Z"
   },
   {
    "duration": 8,
    "start_time": "2021-10-25T18:02:34.104Z"
   },
   {
    "duration": 7,
    "start_time": "2021-10-25T18:02:34.114Z"
   },
   {
    "duration": 14,
    "start_time": "2021-10-25T18:02:34.123Z"
   },
   {
    "duration": 9,
    "start_time": "2021-10-25T18:02:34.139Z"
   },
   {
    "duration": 13,
    "start_time": "2021-10-25T18:02:34.150Z"
   },
   {
    "duration": 7,
    "start_time": "2021-10-25T18:02:34.167Z"
   },
   {
    "duration": 9,
    "start_time": "2021-10-25T18:02:34.176Z"
   },
   {
    "duration": 5,
    "start_time": "2021-10-25T18:02:34.188Z"
   },
   {
    "duration": 9,
    "start_time": "2021-10-25T18:02:34.194Z"
   },
   {
    "duration": 1043,
    "start_time": "2021-10-25T18:03:25.156Z"
   },
   {
    "duration": 19,
    "start_time": "2021-10-25T18:03:26.201Z"
   },
   {
    "duration": 14,
    "start_time": "2021-10-25T18:03:26.223Z"
   },
   {
    "duration": 6,
    "start_time": "2021-10-25T18:03:26.239Z"
   },
   {
    "duration": 32,
    "start_time": "2021-10-25T18:03:26.247Z"
   },
   {
    "duration": 6,
    "start_time": "2021-10-25T18:03:26.281Z"
   },
   {
    "duration": 5,
    "start_time": "2021-10-25T18:03:26.288Z"
   },
   {
    "duration": 6,
    "start_time": "2021-10-25T18:03:26.295Z"
   },
   {
    "duration": 4,
    "start_time": "2021-10-25T18:03:26.304Z"
   },
   {
    "duration": 9,
    "start_time": "2021-10-25T18:03:26.310Z"
   },
   {
    "duration": 8,
    "start_time": "2021-10-25T18:03:26.321Z"
   },
   {
    "duration": 33,
    "start_time": "2021-10-25T18:03:26.330Z"
   },
   {
    "duration": 8,
    "start_time": "2021-10-25T18:03:26.366Z"
   },
   {
    "duration": 10,
    "start_time": "2021-10-25T18:03:26.376Z"
   },
   {
    "duration": 12,
    "start_time": "2021-10-25T18:03:26.387Z"
   },
   {
    "duration": 9,
    "start_time": "2021-10-25T18:03:26.401Z"
   },
   {
    "duration": 8,
    "start_time": "2021-10-25T18:03:26.412Z"
   },
   {
    "duration": 13,
    "start_time": "2021-10-25T18:03:26.422Z"
   },
   {
    "duration": 14,
    "start_time": "2021-10-25T18:03:26.437Z"
   },
   {
    "duration": 10,
    "start_time": "2021-10-25T18:03:26.452Z"
   },
   {
    "duration": 15,
    "start_time": "2021-10-25T18:03:26.463Z"
   },
   {
    "duration": 4,
    "start_time": "2021-10-25T18:03:26.480Z"
   },
   {
    "duration": 8,
    "start_time": "2021-10-25T18:03:26.487Z"
   },
   {
    "duration": 322,
    "start_time": "2021-10-25T18:03:50.397Z"
   },
   {
    "duration": 1128,
    "start_time": "2021-10-25T18:04:43.021Z"
   },
   {
    "duration": 21,
    "start_time": "2021-10-25T18:04:44.152Z"
   },
   {
    "duration": 15,
    "start_time": "2021-10-25T18:04:44.176Z"
   },
   {
    "duration": 11,
    "start_time": "2021-10-25T18:04:44.193Z"
   },
   {
    "duration": 24,
    "start_time": "2021-10-25T18:04:44.206Z"
   },
   {
    "duration": 6,
    "start_time": "2021-10-25T18:04:44.232Z"
   },
   {
    "duration": 6,
    "start_time": "2021-10-25T18:04:44.263Z"
   },
   {
    "duration": 6,
    "start_time": "2021-10-25T18:04:44.272Z"
   },
   {
    "duration": 5,
    "start_time": "2021-10-25T18:04:44.280Z"
   },
   {
    "duration": 6,
    "start_time": "2021-10-25T18:04:44.287Z"
   },
   {
    "duration": 6,
    "start_time": "2021-10-25T18:04:44.295Z"
   },
   {
    "duration": 15,
    "start_time": "2021-10-25T18:04:44.303Z"
   },
   {
    "duration": 330,
    "start_time": "2021-10-25T18:04:44.320Z"
   },
   {
    "duration": -108,
    "start_time": "2021-10-25T18:04:44.760Z"
   },
   {
    "duration": -112,
    "start_time": "2021-10-25T18:04:44.765Z"
   },
   {
    "duration": -114,
    "start_time": "2021-10-25T18:04:44.768Z"
   },
   {
    "duration": -115,
    "start_time": "2021-10-25T18:04:44.770Z"
   },
   {
    "duration": -115,
    "start_time": "2021-10-25T18:04:44.771Z"
   },
   {
    "duration": -116,
    "start_time": "2021-10-25T18:04:44.773Z"
   },
   {
    "duration": -117,
    "start_time": "2021-10-25T18:04:44.775Z"
   },
   {
    "duration": -118,
    "start_time": "2021-10-25T18:04:44.777Z"
   },
   {
    "duration": -120,
    "start_time": "2021-10-25T18:04:44.780Z"
   },
   {
    "duration": -121,
    "start_time": "2021-10-25T18:04:44.782Z"
   },
   {
    "duration": 3,
    "start_time": "2021-10-25T18:04:49.170Z"
   },
   {
    "duration": 7,
    "start_time": "2021-10-25T18:04:50.465Z"
   },
   {
    "duration": 5,
    "start_time": "2021-10-25T18:04:51.354Z"
   },
   {
    "duration": 4,
    "start_time": "2021-10-25T18:04:55.804Z"
   },
   {
    "duration": 3,
    "start_time": "2021-10-25T18:04:57.002Z"
   },
   {
    "duration": 3,
    "start_time": "2021-10-25T18:05:02.931Z"
   },
   {
    "duration": 4,
    "start_time": "2021-10-25T18:05:03.483Z"
   },
   {
    "duration": 78,
    "start_time": "2021-10-25T18:05:11.154Z"
   },
   {
    "duration": 6,
    "start_time": "2021-10-25T18:05:26.234Z"
   },
   {
    "duration": 7,
    "start_time": "2021-10-25T18:05:35.234Z"
   },
   {
    "duration": 1164,
    "start_time": "2021-10-25T18:08:54.526Z"
   },
   {
    "duration": 19,
    "start_time": "2021-10-25T18:08:55.692Z"
   },
   {
    "duration": 14,
    "start_time": "2021-10-25T18:08:55.713Z"
   },
   {
    "duration": 6,
    "start_time": "2021-10-25T18:08:55.729Z"
   },
   {
    "duration": 31,
    "start_time": "2021-10-25T18:08:55.737Z"
   },
   {
    "duration": 6,
    "start_time": "2021-10-25T18:08:55.770Z"
   },
   {
    "duration": 8,
    "start_time": "2021-10-25T18:08:55.778Z"
   },
   {
    "duration": 5,
    "start_time": "2021-10-25T18:08:55.789Z"
   },
   {
    "duration": 4,
    "start_time": "2021-10-25T18:08:55.797Z"
   },
   {
    "duration": 7,
    "start_time": "2021-10-25T18:08:55.802Z"
   },
   {
    "duration": 7,
    "start_time": "2021-10-25T18:08:55.811Z"
   },
   {
    "duration": 14,
    "start_time": "2021-10-25T18:08:55.820Z"
   },
   {
    "duration": 28,
    "start_time": "2021-10-25T18:08:55.836Z"
   },
   {
    "duration": 13,
    "start_time": "2021-10-25T18:08:55.865Z"
   },
   {
    "duration": 11,
    "start_time": "2021-10-25T18:08:55.880Z"
   },
   {
    "duration": 9,
    "start_time": "2021-10-25T18:08:55.892Z"
   },
   {
    "duration": 9,
    "start_time": "2021-10-25T18:08:55.902Z"
   },
   {
    "duration": 16,
    "start_time": "2021-10-25T18:08:55.913Z"
   },
   {
    "duration": 14,
    "start_time": "2021-10-25T18:08:55.931Z"
   },
   {
    "duration": 14,
    "start_time": "2021-10-25T18:08:55.946Z"
   },
   {
    "duration": 9,
    "start_time": "2021-10-25T18:08:55.961Z"
   },
   {
    "duration": 11,
    "start_time": "2021-10-25T18:08:55.972Z"
   },
   {
    "duration": 1227,
    "start_time": "2021-10-25T18:09:08.924Z"
   },
   {
    "duration": 20,
    "start_time": "2021-10-25T18:09:10.153Z"
   },
   {
    "duration": 21,
    "start_time": "2021-10-25T18:09:10.176Z"
   },
   {
    "duration": 10,
    "start_time": "2021-10-25T18:09:10.199Z"
   },
   {
    "duration": 24,
    "start_time": "2021-10-25T18:09:10.211Z"
   },
   {
    "duration": 6,
    "start_time": "2021-10-25T18:09:10.237Z"
   },
   {
    "duration": 22,
    "start_time": "2021-10-25T18:09:10.244Z"
   },
   {
    "duration": 6,
    "start_time": "2021-10-25T18:09:10.269Z"
   },
   {
    "duration": 4,
    "start_time": "2021-10-25T18:09:10.277Z"
   },
   {
    "duration": 9,
    "start_time": "2021-10-25T18:09:10.283Z"
   },
   {
    "duration": 10,
    "start_time": "2021-10-25T18:09:10.293Z"
   },
   {
    "duration": 9,
    "start_time": "2021-10-25T18:09:10.305Z"
   },
   {
    "duration": 5,
    "start_time": "2021-10-25T18:09:10.316Z"
   },
   {
    "duration": 14,
    "start_time": "2021-10-25T18:09:10.323Z"
   },
   {
    "duration": 20,
    "start_time": "2021-10-25T18:09:10.338Z"
   },
   {
    "duration": 20,
    "start_time": "2021-10-25T18:09:10.363Z"
   },
   {
    "duration": 14,
    "start_time": "2021-10-25T18:09:10.385Z"
   },
   {
    "duration": 9,
    "start_time": "2021-10-25T18:09:10.401Z"
   },
   {
    "duration": 13,
    "start_time": "2021-10-25T18:09:10.411Z"
   },
   {
    "duration": 18,
    "start_time": "2021-10-25T18:09:10.426Z"
   },
   {
    "duration": 22,
    "start_time": "2021-10-25T18:09:10.445Z"
   },
   {
    "duration": 17,
    "start_time": "2021-10-25T18:09:10.469Z"
   },
   {
    "duration": 5,
    "start_time": "2021-10-25T18:12:29.428Z"
   },
   {
    "duration": 5,
    "start_time": "2021-10-25T18:12:31.321Z"
   },
   {
    "duration": 1017,
    "start_time": "2021-10-25T18:12:38.069Z"
   },
   {
    "duration": 19,
    "start_time": "2021-10-25T18:12:39.088Z"
   },
   {
    "duration": 15,
    "start_time": "2021-10-25T18:12:39.109Z"
   },
   {
    "duration": 7,
    "start_time": "2021-10-25T18:12:39.126Z"
   },
   {
    "duration": 30,
    "start_time": "2021-10-25T18:12:39.134Z"
   },
   {
    "duration": 6,
    "start_time": "2021-10-25T18:12:39.166Z"
   },
   {
    "duration": 5,
    "start_time": "2021-10-25T18:12:39.173Z"
   },
   {
    "duration": 5,
    "start_time": "2021-10-25T18:12:39.181Z"
   },
   {
    "duration": 4,
    "start_time": "2021-10-25T18:12:39.188Z"
   },
   {
    "duration": 7,
    "start_time": "2021-10-25T18:12:39.193Z"
   },
   {
    "duration": 9,
    "start_time": "2021-10-25T18:12:39.202Z"
   },
   {
    "duration": 9,
    "start_time": "2021-10-25T18:12:39.213Z"
   },
   {
    "duration": 6,
    "start_time": "2021-10-25T18:12:39.223Z"
   },
   {
    "duration": 10,
    "start_time": "2021-10-25T18:12:39.231Z"
   },
   {
    "duration": 4,
    "start_time": "2021-10-25T18:12:39.263Z"
   },
   {
    "duration": 6,
    "start_time": "2021-10-25T18:12:39.269Z"
   },
   {
    "duration": 7,
    "start_time": "2021-10-25T18:12:39.277Z"
   },
   {
    "duration": 10,
    "start_time": "2021-10-25T18:12:39.285Z"
   },
   {
    "duration": 8,
    "start_time": "2021-10-25T18:12:39.296Z"
   },
   {
    "duration": 11,
    "start_time": "2021-10-25T18:12:39.305Z"
   },
   {
    "duration": 11,
    "start_time": "2021-10-25T18:12:39.317Z"
   },
   {
    "duration": 24,
    "start_time": "2021-10-25T18:12:39.330Z"
   },
   {
    "duration": 325,
    "start_time": "2021-10-25T18:16:29.715Z"
   },
   {
    "duration": 243,
    "start_time": "2021-10-25T18:18:04.442Z"
   },
   {
    "duration": 6,
    "start_time": "2021-10-25T18:18:26.355Z"
   },
   {
    "duration": 4,
    "start_time": "2021-10-25T18:18:31.794Z"
   },
   {
    "duration": 1288,
    "start_time": "2021-10-25T18:20:46.033Z"
   },
   {
    "duration": 21,
    "start_time": "2021-10-25T18:20:47.323Z"
   },
   {
    "duration": 14,
    "start_time": "2021-10-25T18:20:47.346Z"
   },
   {
    "duration": 8,
    "start_time": "2021-10-25T18:20:47.362Z"
   },
   {
    "duration": 25,
    "start_time": "2021-10-25T18:20:47.372Z"
   },
   {
    "duration": 48,
    "start_time": "2021-10-25T18:20:47.399Z"
   },
   {
    "duration": 7,
    "start_time": "2021-10-25T18:20:47.449Z"
   },
   {
    "duration": 6,
    "start_time": "2021-10-25T18:20:47.460Z"
   },
   {
    "duration": 4,
    "start_time": "2021-10-25T18:20:47.469Z"
   },
   {
    "duration": 8,
    "start_time": "2021-10-25T18:20:47.475Z"
   },
   {
    "duration": 6,
    "start_time": "2021-10-25T18:20:47.485Z"
   },
   {
    "duration": 12,
    "start_time": "2021-10-25T18:20:47.493Z"
   },
   {
    "duration": 6,
    "start_time": "2021-10-25T18:20:47.507Z"
   },
   {
    "duration": 13,
    "start_time": "2021-10-25T18:20:47.514Z"
   },
   {
    "duration": 5,
    "start_time": "2021-10-25T18:20:47.529Z"
   },
   {
    "duration": 29,
    "start_time": "2021-10-25T18:20:47.536Z"
   },
   {
    "duration": 4,
    "start_time": "2021-10-25T18:20:47.567Z"
   },
   {
    "duration": 11,
    "start_time": "2021-10-25T18:20:47.573Z"
   },
   {
    "duration": 12,
    "start_time": "2021-10-25T18:20:47.585Z"
   },
   {
    "duration": 18,
    "start_time": "2021-10-25T18:20:47.598Z"
   },
   {
    "duration": 10,
    "start_time": "2021-10-25T18:20:47.617Z"
   },
   {
    "duration": 11,
    "start_time": "2021-10-25T18:20:47.629Z"
   },
   {
    "duration": 11,
    "start_time": "2021-10-25T18:20:47.644Z"
   },
   {
    "duration": 10,
    "start_time": "2021-10-25T18:20:47.657Z"
   },
   {
    "duration": 11,
    "start_time": "2021-10-25T18:20:47.669Z"
   },
   {
    "duration": 15,
    "start_time": "2021-10-25T18:20:47.682Z"
   },
   {
    "duration": 3,
    "start_time": "2021-10-25T18:21:43.872Z"
   },
   {
    "duration": 3,
    "start_time": "2021-10-25T18:21:48.575Z"
   },
   {
    "duration": 5,
    "start_time": "2021-10-25T18:21:58.344Z"
   },
   {
    "duration": 5,
    "start_time": "2021-10-25T18:22:16.184Z"
   },
   {
    "duration": 4,
    "start_time": "2021-10-25T18:22:16.816Z"
   },
   {
    "duration": 1192,
    "start_time": "2021-10-25T18:22:27.559Z"
   },
   {
    "duration": 18,
    "start_time": "2021-10-25T18:22:28.753Z"
   },
   {
    "duration": 15,
    "start_time": "2021-10-25T18:22:28.773Z"
   },
   {
    "duration": 7,
    "start_time": "2021-10-25T18:22:28.790Z"
   },
   {
    "duration": 21,
    "start_time": "2021-10-25T18:22:28.799Z"
   },
   {
    "duration": 5,
    "start_time": "2021-10-25T18:22:28.821Z"
   },
   {
    "duration": 5,
    "start_time": "2021-10-25T18:22:28.828Z"
   },
   {
    "duration": 31,
    "start_time": "2021-10-25T18:22:28.835Z"
   },
   {
    "duration": 4,
    "start_time": "2021-10-25T18:22:28.869Z"
   },
   {
    "duration": 5,
    "start_time": "2021-10-25T18:22:28.876Z"
   },
   {
    "duration": 12,
    "start_time": "2021-10-25T18:22:28.882Z"
   },
   {
    "duration": 9,
    "start_time": "2021-10-25T18:22:28.896Z"
   },
   {
    "duration": 5,
    "start_time": "2021-10-25T18:22:28.907Z"
   },
   {
    "duration": 12,
    "start_time": "2021-10-25T18:22:28.914Z"
   },
   {
    "duration": 5,
    "start_time": "2021-10-25T18:22:28.929Z"
   },
   {
    "duration": 29,
    "start_time": "2021-10-25T18:22:28.936Z"
   },
   {
    "duration": 2,
    "start_time": "2021-10-25T18:22:28.967Z"
   },
   {
    "duration": 8,
    "start_time": "2021-10-25T18:22:28.971Z"
   },
   {
    "duration": 7,
    "start_time": "2021-10-25T18:22:28.980Z"
   },
   {
    "duration": 13,
    "start_time": "2021-10-25T18:22:28.989Z"
   },
   {
    "duration": 7,
    "start_time": "2021-10-25T18:22:29.004Z"
   },
   {
    "duration": 11,
    "start_time": "2021-10-25T18:22:29.013Z"
   },
   {
    "duration": 9,
    "start_time": "2021-10-25T18:22:29.026Z"
   },
   {
    "duration": 10,
    "start_time": "2021-10-25T18:22:29.037Z"
   },
   {
    "duration": 17,
    "start_time": "2021-10-25T18:22:29.048Z"
   },
   {
    "duration": 10,
    "start_time": "2021-10-25T18:22:29.066Z"
   },
   {
    "duration": 9,
    "start_time": "2021-10-25T18:22:29.078Z"
   },
   {
    "duration": 8,
    "start_time": "2021-10-25T18:22:29.089Z"
   },
   {
    "duration": 8,
    "start_time": "2021-10-25T18:22:29.099Z"
   },
   {
    "duration": 4,
    "start_time": "2021-10-25T18:25:04.091Z"
   },
   {
    "duration": 4,
    "start_time": "2021-10-25T18:25:11.236Z"
   },
   {
    "duration": 5,
    "start_time": "2021-10-25T18:25:15.186Z"
   },
   {
    "duration": 5,
    "start_time": "2021-10-25T18:25:38.140Z"
   },
   {
    "duration": 1515,
    "start_time": "2021-10-28T11:50:59.366Z"
   },
   {
    "duration": 40,
    "start_time": "2021-10-28T11:51:00.884Z"
   },
   {
    "duration": 19,
    "start_time": "2021-10-28T11:51:00.927Z"
   },
   {
    "duration": 7,
    "start_time": "2021-10-28T11:51:00.948Z"
   },
   {
    "duration": 29,
    "start_time": "2021-10-28T11:51:00.956Z"
   },
   {
    "duration": 5,
    "start_time": "2021-10-28T11:51:00.987Z"
   },
   {
    "duration": 19,
    "start_time": "2021-10-28T11:51:00.994Z"
   },
   {
    "duration": 21,
    "start_time": "2021-10-28T11:51:01.016Z"
   },
   {
    "duration": 26,
    "start_time": "2021-10-28T11:51:01.040Z"
   },
   {
    "duration": 13,
    "start_time": "2021-10-28T11:51:01.068Z"
   },
   {
    "duration": 10,
    "start_time": "2021-10-28T11:51:01.083Z"
   },
   {
    "duration": 21,
    "start_time": "2021-10-28T11:51:01.095Z"
   },
   {
    "duration": 18,
    "start_time": "2021-10-28T11:51:01.118Z"
   },
   {
    "duration": 14,
    "start_time": "2021-10-28T11:51:01.138Z"
   },
   {
    "duration": 17,
    "start_time": "2021-10-28T11:51:01.154Z"
   },
   {
    "duration": 20,
    "start_time": "2021-10-28T11:51:01.173Z"
   },
   {
    "duration": 24,
    "start_time": "2021-10-28T11:51:01.195Z"
   },
   {
    "duration": 28,
    "start_time": "2021-10-28T11:51:01.221Z"
   },
   {
    "duration": 18,
    "start_time": "2021-10-28T11:51:01.251Z"
   },
   {
    "duration": 21,
    "start_time": "2021-10-28T11:51:01.271Z"
   },
   {
    "duration": 21,
    "start_time": "2021-10-28T11:51:01.293Z"
   },
   {
    "duration": 18,
    "start_time": "2021-10-28T11:51:01.316Z"
   },
   {
    "duration": 24,
    "start_time": "2021-10-28T11:51:01.336Z"
   },
   {
    "duration": 21,
    "start_time": "2021-10-28T11:51:01.361Z"
   },
   {
    "duration": 25,
    "start_time": "2021-10-28T11:51:01.383Z"
   },
   {
    "duration": 19,
    "start_time": "2021-10-28T11:51:01.410Z"
   },
   {
    "duration": 26,
    "start_time": "2021-10-28T11:51:01.431Z"
   },
   {
    "duration": 17,
    "start_time": "2021-10-28T11:51:01.459Z"
   },
   {
    "duration": 20,
    "start_time": "2021-10-28T11:51:01.478Z"
   },
   {
    "duration": 20,
    "start_time": "2021-10-28T11:51:01.500Z"
   },
   {
    "duration": 1057,
    "start_time": "2021-10-28T11:57:44.928Z"
   },
   {
    "duration": 19,
    "start_time": "2021-10-28T11:57:45.987Z"
   },
   {
    "duration": 16,
    "start_time": "2021-10-28T11:57:46.008Z"
   },
   {
    "duration": 8,
    "start_time": "2021-10-28T11:57:46.026Z"
   },
   {
    "duration": 29,
    "start_time": "2021-10-28T11:57:46.035Z"
   },
   {
    "duration": 5,
    "start_time": "2021-10-28T11:57:46.066Z"
   },
   {
    "duration": 5,
    "start_time": "2021-10-28T11:57:46.073Z"
   },
   {
    "duration": 5,
    "start_time": "2021-10-28T11:57:46.081Z"
   },
   {
    "duration": 4,
    "start_time": "2021-10-28T11:57:46.088Z"
   },
   {
    "duration": 8,
    "start_time": "2021-10-28T11:57:46.094Z"
   },
   {
    "duration": 5,
    "start_time": "2021-10-28T11:57:46.103Z"
   },
   {
    "duration": 10,
    "start_time": "2021-10-28T11:57:46.110Z"
   },
   {
    "duration": 9,
    "start_time": "2021-10-28T11:57:46.121Z"
   },
   {
    "duration": 36,
    "start_time": "2021-10-28T11:57:46.131Z"
   },
   {
    "duration": 3,
    "start_time": "2021-10-28T11:57:46.168Z"
   },
   {
    "duration": 7,
    "start_time": "2021-10-28T11:57:46.173Z"
   },
   {
    "duration": 7,
    "start_time": "2021-10-28T11:57:46.182Z"
   },
   {
    "duration": 10,
    "start_time": "2021-10-28T11:57:46.191Z"
   },
   {
    "duration": 10,
    "start_time": "2021-10-28T11:57:46.203Z"
   },
   {
    "duration": 10,
    "start_time": "2021-10-28T11:57:46.215Z"
   },
   {
    "duration": 6,
    "start_time": "2021-10-28T11:57:46.227Z"
   },
   {
    "duration": 9,
    "start_time": "2021-10-28T11:57:46.235Z"
   },
   {
    "duration": 7,
    "start_time": "2021-10-28T11:57:46.264Z"
   },
   {
    "duration": 4,
    "start_time": "2021-10-28T11:57:46.273Z"
   },
   {
    "duration": 10,
    "start_time": "2021-10-28T11:57:46.279Z"
   },
   {
    "duration": 8,
    "start_time": "2021-10-28T11:57:46.291Z"
   },
   {
    "duration": 11,
    "start_time": "2021-10-28T11:57:46.301Z"
   },
   {
    "duration": 8,
    "start_time": "2021-10-28T11:57:46.313Z"
   },
   {
    "duration": 10,
    "start_time": "2021-10-28T11:57:46.323Z"
   },
   {
    "duration": 7,
    "start_time": "2021-10-28T11:57:46.335Z"
   },
   {
    "duration": 3,
    "start_time": "2021-10-28T12:12:04.268Z"
   },
   {
    "duration": 324,
    "start_time": "2021-10-28T12:12:33.779Z"
   },
   {
    "duration": 3,
    "start_time": "2021-10-28T12:12:40.140Z"
   },
   {
    "duration": 6,
    "start_time": "2021-10-28T12:16:58.781Z"
   },
   {
    "duration": 274,
    "start_time": "2021-10-28T12:17:24.619Z"
   },
   {
    "duration": 4,
    "start_time": "2021-10-28T12:19:32.916Z"
   },
   {
    "duration": 247,
    "start_time": "2021-10-28T12:19:33.730Z"
   },
   {
    "duration": 1093,
    "start_time": "2021-10-28T12:19:44.093Z"
   },
   {
    "duration": 19,
    "start_time": "2021-10-28T12:19:45.188Z"
   },
   {
    "duration": 16,
    "start_time": "2021-10-28T12:19:45.210Z"
   },
   {
    "duration": 8,
    "start_time": "2021-10-28T12:19:45.228Z"
   },
   {
    "duration": 35,
    "start_time": "2021-10-28T12:19:45.238Z"
   },
   {
    "duration": 5,
    "start_time": "2021-10-28T12:19:45.275Z"
   },
   {
    "duration": 7,
    "start_time": "2021-10-28T12:19:45.282Z"
   },
   {
    "duration": 18,
    "start_time": "2021-10-28T12:19:45.291Z"
   },
   {
    "duration": 4,
    "start_time": "2021-10-28T12:19:45.311Z"
   },
   {
    "duration": 13,
    "start_time": "2021-10-28T12:19:45.317Z"
   },
   {
    "duration": 10,
    "start_time": "2021-10-28T12:19:45.332Z"
   },
   {
    "duration": 17,
    "start_time": "2021-10-28T12:19:45.344Z"
   },
   {
    "duration": 7,
    "start_time": "2021-10-28T12:19:45.363Z"
   },
   {
    "duration": 11,
    "start_time": "2021-10-28T12:19:45.372Z"
   },
   {
    "duration": 7,
    "start_time": "2021-10-28T12:19:45.385Z"
   },
   {
    "duration": 17,
    "start_time": "2021-10-28T12:19:45.394Z"
   },
   {
    "duration": 9,
    "start_time": "2021-10-28T12:19:45.413Z"
   },
   {
    "duration": 16,
    "start_time": "2021-10-28T12:19:45.423Z"
   },
   {
    "duration": 7,
    "start_time": "2021-10-28T12:19:45.441Z"
   },
   {
    "duration": 19,
    "start_time": "2021-10-28T12:19:45.449Z"
   },
   {
    "duration": 9,
    "start_time": "2021-10-28T12:19:45.469Z"
   },
   {
    "duration": 12,
    "start_time": "2021-10-28T12:19:45.480Z"
   },
   {
    "duration": 11,
    "start_time": "2021-10-28T12:19:45.493Z"
   },
   {
    "duration": 8,
    "start_time": "2021-10-28T12:19:45.506Z"
   },
   {
    "duration": 14,
    "start_time": "2021-10-28T12:19:45.516Z"
   },
   {
    "duration": 12,
    "start_time": "2021-10-28T12:19:45.531Z"
   },
   {
    "duration": 8,
    "start_time": "2021-10-28T12:19:45.547Z"
   },
   {
    "duration": 16,
    "start_time": "2021-10-28T12:19:45.557Z"
   },
   {
    "duration": 10,
    "start_time": "2021-10-28T12:19:45.575Z"
   },
   {
    "duration": 19,
    "start_time": "2021-10-28T12:19:45.587Z"
   },
   {
    "duration": 9,
    "start_time": "2021-10-28T12:19:45.608Z"
   },
   {
    "duration": 333,
    "start_time": "2021-10-28T12:19:45.619Z"
   },
   {
    "duration": 6,
    "start_time": "2021-10-28T12:19:50.926Z"
   },
   {
    "duration": 3,
    "start_time": "2021-10-28T12:20:19.493Z"
   },
   {
    "duration": 5,
    "start_time": "2021-10-28T12:23:00.018Z"
   },
   {
    "duration": 4,
    "start_time": "2021-10-28T12:31:26.440Z"
   },
   {
    "duration": 4,
    "start_time": "2021-10-28T12:31:40.860Z"
   },
   {
    "duration": 272,
    "start_time": "2021-10-28T12:32:41.259Z"
   },
   {
    "duration": 3,
    "start_time": "2021-10-28T12:32:49.651Z"
   },
   {
    "duration": 5,
    "start_time": "2021-10-28T12:32:54.036Z"
   },
   {
    "duration": 3,
    "start_time": "2021-10-28T12:33:46.461Z"
   },
   {
    "duration": 4,
    "start_time": "2021-10-28T12:33:56.582Z"
   },
   {
    "duration": 4,
    "start_time": "2021-10-28T12:34:06.696Z"
   },
   {
    "duration": 9,
    "start_time": "2021-10-28T12:34:58.953Z"
   },
   {
    "duration": 11,
    "start_time": "2021-10-28T12:35:02.907Z"
   },
   {
    "duration": 917,
    "start_time": "2021-10-28T12:36:08.209Z"
   },
   {
    "duration": 3,
    "start_time": "2021-10-28T12:36:27.929Z"
   },
   {
    "duration": 5,
    "start_time": "2021-10-28T12:36:30.167Z"
   },
   {
    "duration": 953,
    "start_time": "2021-10-28T12:37:02.193Z"
   },
   {
    "duration": 968,
    "start_time": "2021-10-28T12:37:17.195Z"
   },
   {
    "duration": 4,
    "start_time": "2021-10-28T12:37:18.253Z"
   },
   {
    "duration": 941,
    "start_time": "2021-10-28T12:37:43.820Z"
   },
   {
    "duration": 3,
    "start_time": "2021-10-28T12:38:04.982Z"
   },
   {
    "duration": 4,
    "start_time": "2021-10-28T12:38:06.177Z"
   },
   {
    "duration": 6,
    "start_time": "2021-10-28T12:38:14.028Z"
   },
   {
    "duration": 12,
    "start_time": "2021-10-28T12:38:14.677Z"
   },
   {
    "duration": 8,
    "start_time": "2021-10-28T12:39:43.004Z"
   },
   {
    "duration": 17,
    "start_time": "2021-10-28T12:39:43.779Z"
   },
   {
    "duration": 9,
    "start_time": "2021-10-28T12:40:01.811Z"
   },
   {
    "duration": 16,
    "start_time": "2021-10-28T12:40:03.442Z"
   },
   {
    "duration": 5,
    "start_time": "2021-10-28T12:40:55.072Z"
   },
   {
    "duration": 6,
    "start_time": "2021-10-28T12:43:32.884Z"
   },
   {
    "duration": 7,
    "start_time": "2021-10-28T12:43:51.438Z"
   },
   {
    "duration": 10,
    "start_time": "2021-10-28T12:44:04.008Z"
   },
   {
    "duration": 246,
    "start_time": "2021-10-28T12:44:16.637Z"
   },
   {
    "duration": 4,
    "start_time": "2021-10-28T12:44:42.579Z"
   },
   {
    "duration": 5,
    "start_time": "2021-10-28T12:44:45.953Z"
   },
   {
    "duration": 1300,
    "start_time": "2021-10-28T12:45:27.334Z"
   },
   {
    "duration": 20,
    "start_time": "2021-10-28T12:45:28.636Z"
   },
   {
    "duration": 16,
    "start_time": "2021-10-28T12:45:28.659Z"
   },
   {
    "duration": 8,
    "start_time": "2021-10-28T12:45:28.678Z"
   },
   {
    "duration": 26,
    "start_time": "2021-10-28T12:45:28.689Z"
   },
   {
    "duration": 6,
    "start_time": "2021-10-28T12:45:28.717Z"
   },
   {
    "duration": 39,
    "start_time": "2021-10-28T12:45:28.725Z"
   },
   {
    "duration": 6,
    "start_time": "2021-10-28T12:45:28.767Z"
   },
   {
    "duration": 7,
    "start_time": "2021-10-28T12:45:28.775Z"
   },
   {
    "duration": 8,
    "start_time": "2021-10-28T12:45:28.784Z"
   },
   {
    "duration": 15,
    "start_time": "2021-10-28T12:45:28.794Z"
   },
   {
    "duration": 9,
    "start_time": "2021-10-28T12:45:28.811Z"
   },
   {
    "duration": 6,
    "start_time": "2021-10-28T12:45:28.821Z"
   },
   {
    "duration": 12,
    "start_time": "2021-10-28T12:45:28.829Z"
   },
   {
    "duration": 20,
    "start_time": "2021-10-28T12:45:28.843Z"
   },
   {
    "duration": 10,
    "start_time": "2021-10-28T12:45:28.866Z"
   },
   {
    "duration": 8,
    "start_time": "2021-10-28T12:45:28.877Z"
   },
   {
    "duration": 17,
    "start_time": "2021-10-28T12:45:28.887Z"
   },
   {
    "duration": 8,
    "start_time": "2021-10-28T12:45:28.906Z"
   },
   {
    "duration": 12,
    "start_time": "2021-10-28T12:45:28.916Z"
   },
   {
    "duration": 11,
    "start_time": "2021-10-28T12:45:28.930Z"
   },
   {
    "duration": 15,
    "start_time": "2021-10-28T12:45:28.943Z"
   },
   {
    "duration": 8,
    "start_time": "2021-10-28T12:45:28.962Z"
   },
   {
    "duration": 6,
    "start_time": "2021-10-28T12:45:28.972Z"
   },
   {
    "duration": 11,
    "start_time": "2021-10-28T12:45:28.980Z"
   },
   {
    "duration": 8,
    "start_time": "2021-10-28T12:45:28.993Z"
   },
   {
    "duration": 10,
    "start_time": "2021-10-28T12:45:29.003Z"
   },
   {
    "duration": 14,
    "start_time": "2021-10-28T12:45:29.015Z"
   },
   {
    "duration": 15,
    "start_time": "2021-10-28T12:45:29.031Z"
   },
   {
    "duration": 18,
    "start_time": "2021-10-28T12:45:29.048Z"
   },
   {
    "duration": 11,
    "start_time": "2021-10-28T12:45:29.068Z"
   },
   {
    "duration": 7,
    "start_time": "2021-10-28T12:45:29.081Z"
   },
   {
    "duration": 9,
    "start_time": "2021-10-28T12:45:29.090Z"
   },
   {
    "duration": 5,
    "start_time": "2021-10-28T12:45:29.101Z"
   },
   {
    "duration": 12,
    "start_time": "2021-10-28T12:45:29.108Z"
   },
   {
    "duration": 15,
    "start_time": "2021-10-28T12:45:29.121Z"
   },
   {
    "duration": 25,
    "start_time": "2021-10-28T12:45:29.138Z"
   },
   {
    "duration": 5,
    "start_time": "2021-10-28T12:45:29.166Z"
   },
   {
    "duration": 19,
    "start_time": "2021-10-28T12:45:29.173Z"
   },
   {
    "duration": 13,
    "start_time": "2021-10-28T12:45:29.195Z"
   },
   {
    "duration": 12,
    "start_time": "2021-10-28T12:45:29.210Z"
   },
   {
    "duration": 14,
    "start_time": "2021-10-28T12:45:29.224Z"
   },
   {
    "duration": 24,
    "start_time": "2021-10-28T12:45:29.240Z"
   },
   {
    "duration": 5,
    "start_time": "2021-10-28T12:45:29.266Z"
   },
   {
    "duration": 9,
    "start_time": "2021-10-28T12:47:09.015Z"
   },
   {
    "duration": 12,
    "start_time": "2021-10-28T12:47:09.599Z"
   },
   {
    "duration": 7,
    "start_time": "2021-10-28T12:47:39.892Z"
   },
   {
    "duration": 10,
    "start_time": "2021-10-28T12:47:40.453Z"
   },
   {
    "duration": 1404,
    "start_time": "2021-10-28T20:50:42.137Z"
   },
   {
    "duration": 21,
    "start_time": "2021-10-28T20:50:43.543Z"
   },
   {
    "duration": 22,
    "start_time": "2021-10-28T20:50:43.567Z"
   },
   {
    "duration": 8,
    "start_time": "2021-10-28T20:50:43.592Z"
   },
   {
    "duration": 35,
    "start_time": "2021-10-28T20:50:43.623Z"
   },
   {
    "duration": 9,
    "start_time": "2021-10-28T20:50:43.661Z"
   },
   {
    "duration": 49,
    "start_time": "2021-10-28T20:50:43.673Z"
   },
   {
    "duration": 7,
    "start_time": "2021-10-28T20:50:43.728Z"
   },
   {
    "duration": 4,
    "start_time": "2021-10-28T20:50:43.739Z"
   },
   {
    "duration": 6,
    "start_time": "2021-10-28T20:50:43.745Z"
   },
   {
    "duration": 8,
    "start_time": "2021-10-28T20:50:43.754Z"
   },
   {
    "duration": 8,
    "start_time": "2021-10-28T20:50:43.765Z"
   },
   {
    "duration": 3,
    "start_time": "2021-10-28T20:50:43.776Z"
   },
   {
    "duration": 43,
    "start_time": "2021-10-28T20:50:43.781Z"
   },
   {
    "duration": 9,
    "start_time": "2021-10-28T20:50:43.826Z"
   },
   {
    "duration": 7,
    "start_time": "2021-10-28T20:50:43.837Z"
   },
   {
    "duration": 4,
    "start_time": "2021-10-28T20:50:43.847Z"
   },
   {
    "duration": 6,
    "start_time": "2021-10-28T20:50:43.854Z"
   },
   {
    "duration": 4,
    "start_time": "2021-10-28T20:50:43.862Z"
   },
   {
    "duration": 55,
    "start_time": "2021-10-28T20:50:43.868Z"
   },
   {
    "duration": 4,
    "start_time": "2021-10-28T20:50:43.925Z"
   },
   {
    "duration": 8,
    "start_time": "2021-10-28T20:50:43.931Z"
   },
   {
    "duration": 6,
    "start_time": "2021-10-28T20:50:43.945Z"
   },
   {
    "duration": 3,
    "start_time": "2021-10-28T20:50:43.954Z"
   },
   {
    "duration": 9,
    "start_time": "2021-10-28T20:50:43.959Z"
   },
   {
    "duration": 4,
    "start_time": "2021-10-28T20:50:43.971Z"
   },
   {
    "duration": 48,
    "start_time": "2021-10-28T20:50:43.977Z"
   },
   {
    "duration": 8,
    "start_time": "2021-10-28T20:50:44.027Z"
   },
   {
    "duration": 12,
    "start_time": "2021-10-28T20:50:44.037Z"
   },
   {
    "duration": 10,
    "start_time": "2021-10-28T20:50:44.052Z"
   },
   {
    "duration": 6,
    "start_time": "2021-10-28T20:50:44.065Z"
   },
   {
    "duration": 6,
    "start_time": "2021-10-28T20:50:44.073Z"
   },
   {
    "duration": 43,
    "start_time": "2021-10-28T20:50:44.081Z"
   },
   {
    "duration": 8,
    "start_time": "2021-10-28T20:50:44.126Z"
   },
   {
    "duration": 10,
    "start_time": "2021-10-28T20:50:44.136Z"
   },
   {
    "duration": 12,
    "start_time": "2021-10-28T20:50:44.148Z"
   },
   {
    "duration": 7,
    "start_time": "2021-10-28T20:50:44.163Z"
   },
   {
    "duration": 9,
    "start_time": "2021-10-28T20:50:44.173Z"
   },
   {
    "duration": 53,
    "start_time": "2021-10-28T20:50:44.184Z"
   },
   {
    "duration": 17,
    "start_time": "2021-10-28T20:50:44.239Z"
   },
   {
    "duration": 7,
    "start_time": "2021-10-28T20:50:44.259Z"
   },
   {
    "duration": 15,
    "start_time": "2021-10-28T20:50:44.269Z"
   },
   {
    "duration": 9,
    "start_time": "2021-10-28T20:50:44.287Z"
   },
   {
    "duration": 28,
    "start_time": "2021-10-28T20:50:44.299Z"
   },
   {
    "duration": 1534,
    "start_time": "2021-10-28T20:52:15.026Z"
   },
   {
    "duration": 20,
    "start_time": "2021-10-28T20:52:16.562Z"
   },
   {
    "duration": 22,
    "start_time": "2021-10-28T20:52:16.586Z"
   },
   {
    "duration": 19,
    "start_time": "2021-10-28T20:52:16.611Z"
   },
   {
    "duration": 38,
    "start_time": "2021-10-28T20:52:16.632Z"
   },
   {
    "duration": 8,
    "start_time": "2021-10-28T20:52:16.672Z"
   },
   {
    "duration": 9,
    "start_time": "2021-10-28T20:52:16.722Z"
   },
   {
    "duration": 9,
    "start_time": "2021-10-28T20:52:16.736Z"
   },
   {
    "duration": 7,
    "start_time": "2021-10-28T20:52:16.748Z"
   },
   {
    "duration": 6,
    "start_time": "2021-10-28T20:52:16.758Z"
   },
   {
    "duration": 7,
    "start_time": "2021-10-28T20:52:16.767Z"
   },
   {
    "duration": 53,
    "start_time": "2021-10-28T20:52:16.777Z"
   },
   {
    "duration": 4,
    "start_time": "2021-10-28T20:52:16.833Z"
   },
   {
    "duration": 15,
    "start_time": "2021-10-28T20:52:16.840Z"
   },
   {
    "duration": 6,
    "start_time": "2021-10-28T20:52:16.858Z"
   },
   {
    "duration": 10,
    "start_time": "2021-10-28T20:52:16.866Z"
   },
   {
    "duration": 44,
    "start_time": "2021-10-28T20:52:16.879Z"
   },
   {
    "duration": 12,
    "start_time": "2021-10-28T20:52:16.926Z"
   },
   {
    "duration": 4,
    "start_time": "2021-10-28T20:52:16.941Z"
   },
   {
    "duration": 8,
    "start_time": "2021-10-28T20:52:16.948Z"
   },
   {
    "duration": 5,
    "start_time": "2021-10-28T20:52:16.959Z"
   },
   {
    "duration": 11,
    "start_time": "2021-10-28T20:52:16.967Z"
   },
   {
    "duration": 9,
    "start_time": "2021-10-28T20:52:17.026Z"
   },
   {
    "duration": 4,
    "start_time": "2021-10-28T20:52:17.038Z"
   },
   {
    "duration": 8,
    "start_time": "2021-10-28T20:52:17.045Z"
   },
   {
    "duration": 13,
    "start_time": "2021-10-28T20:52:17.055Z"
   },
   {
    "duration": 12,
    "start_time": "2021-10-28T20:52:17.070Z"
   },
   {
    "duration": 40,
    "start_time": "2021-10-28T20:52:17.084Z"
   },
   {
    "duration": 5,
    "start_time": "2021-10-28T20:52:17.126Z"
   },
   {
    "duration": 11,
    "start_time": "2021-10-28T20:52:17.134Z"
   },
   {
    "duration": 9,
    "start_time": "2021-10-28T20:52:17.147Z"
   },
   {
    "duration": 12,
    "start_time": "2021-10-28T20:52:17.159Z"
   },
   {
    "duration": 53,
    "start_time": "2021-10-28T20:52:17.173Z"
   },
   {
    "duration": 5,
    "start_time": "2021-10-28T20:52:17.229Z"
   },
   {
    "duration": 11,
    "start_time": "2021-10-28T20:52:17.237Z"
   },
   {
    "duration": 7,
    "start_time": "2021-10-28T20:52:17.251Z"
   },
   {
    "duration": 7,
    "start_time": "2021-10-28T20:52:17.260Z"
   },
   {
    "duration": 11,
    "start_time": "2021-10-28T20:52:17.269Z"
   },
   {
    "duration": 67,
    "start_time": "2021-10-28T20:52:17.282Z"
   },
   {
    "duration": 18,
    "start_time": "2021-10-28T20:52:17.351Z"
   },
   {
    "duration": 12,
    "start_time": "2021-10-28T20:52:17.372Z"
   },
   {
    "duration": 9,
    "start_time": "2021-10-28T20:52:17.387Z"
   },
   {
    "duration": 27,
    "start_time": "2021-10-28T20:52:17.398Z"
   },
   {
    "duration": 12,
    "start_time": "2021-10-28T20:52:17.427Z"
   },
   {
    "duration": 1291,
    "start_time": "2021-10-28T21:04:57.334Z"
   },
   {
    "duration": 22,
    "start_time": "2021-10-28T21:04:58.628Z"
   },
   {
    "duration": 25,
    "start_time": "2021-10-28T21:04:58.654Z"
   },
   {
    "duration": 9,
    "start_time": "2021-10-28T21:04:58.682Z"
   },
   {
    "duration": 56,
    "start_time": "2021-10-28T21:04:58.694Z"
   },
   {
    "duration": 9,
    "start_time": "2021-10-28T21:04:58.752Z"
   },
   {
    "duration": 8,
    "start_time": "2021-10-28T21:04:58.764Z"
   },
   {
    "duration": 48,
    "start_time": "2021-10-28T21:04:58.777Z"
   },
   {
    "duration": 7,
    "start_time": "2021-10-28T21:04:58.828Z"
   },
   {
    "duration": 6,
    "start_time": "2021-10-28T21:04:58.838Z"
   },
   {
    "duration": 4,
    "start_time": "2021-10-28T21:04:58.848Z"
   },
   {
    "duration": 10,
    "start_time": "2021-10-28T21:04:58.855Z"
   },
   {
    "duration": 7,
    "start_time": "2021-10-28T21:04:58.867Z"
   },
   {
    "duration": 56,
    "start_time": "2021-10-28T21:04:58.876Z"
   },
   {
    "duration": 5,
    "start_time": "2021-10-28T21:04:58.935Z"
   },
   {
    "duration": 8,
    "start_time": "2021-10-28T21:04:58.943Z"
   },
   {
    "duration": 8,
    "start_time": "2021-10-28T21:04:58.954Z"
   },
   {
    "duration": 12,
    "start_time": "2021-10-28T21:04:58.964Z"
   },
   {
    "duration": 45,
    "start_time": "2021-10-28T21:04:58.979Z"
   },
   {
    "duration": 10,
    "start_time": "2021-10-28T21:04:59.028Z"
   },
   {
    "duration": 10,
    "start_time": "2021-10-28T21:04:59.040Z"
   },
   {
    "duration": 7,
    "start_time": "2021-10-28T21:04:59.053Z"
   },
   {
    "duration": 7,
    "start_time": "2021-10-28T21:04:59.066Z"
   },
   {
    "duration": 46,
    "start_time": "2021-10-28T21:04:59.076Z"
   },
   {
    "duration": 6,
    "start_time": "2021-10-28T21:04:59.125Z"
   },
   {
    "duration": 5,
    "start_time": "2021-10-28T21:04:59.133Z"
   },
   {
    "duration": 7,
    "start_time": "2021-10-28T21:04:59.141Z"
   },
   {
    "duration": 8,
    "start_time": "2021-10-28T21:04:59.150Z"
   },
   {
    "duration": 7,
    "start_time": "2021-10-28T21:04:59.160Z"
   },
   {
    "duration": 10,
    "start_time": "2021-10-28T21:04:59.170Z"
   },
   {
    "duration": 44,
    "start_time": "2021-10-28T21:04:59.182Z"
   },
   {
    "duration": 6,
    "start_time": "2021-10-28T21:04:59.228Z"
   },
   {
    "duration": 9,
    "start_time": "2021-10-28T21:04:59.236Z"
   },
   {
    "duration": 3,
    "start_time": "2021-10-28T21:04:59.248Z"
   },
   {
    "duration": 7,
    "start_time": "2021-10-28T21:04:59.254Z"
   },
   {
    "duration": 6,
    "start_time": "2021-10-28T21:04:59.263Z"
   },
   {
    "duration": 50,
    "start_time": "2021-10-28T21:04:59.271Z"
   },
   {
    "duration": 16,
    "start_time": "2021-10-28T21:04:59.324Z"
   },
   {
    "duration": 17,
    "start_time": "2021-10-28T21:04:59.343Z"
   },
   {
    "duration": 16,
    "start_time": "2021-10-28T21:04:59.362Z"
   },
   {
    "duration": 8,
    "start_time": "2021-10-28T21:04:59.380Z"
   },
   {
    "duration": 33,
    "start_time": "2021-10-28T21:04:59.390Z"
   },
   {
    "duration": 4,
    "start_time": "2021-10-28T21:04:59.426Z"
   },
   {
    "duration": 9,
    "start_time": "2021-10-28T21:04:59.432Z"
   },
   {
    "duration": 1406,
    "start_time": "2021-11-06T18:12:22.599Z"
   },
   {
    "duration": 18,
    "start_time": "2021-11-06T18:12:24.007Z"
   },
   {
    "duration": 23,
    "start_time": "2021-11-06T18:12:24.029Z"
   },
   {
    "duration": 8,
    "start_time": "2021-11-06T18:12:24.055Z"
   },
   {
    "duration": 70,
    "start_time": "2021-11-06T18:12:24.065Z"
   },
   {
    "duration": 8,
    "start_time": "2021-11-06T18:12:24.137Z"
   },
   {
    "duration": 9,
    "start_time": "2021-11-06T18:12:24.148Z"
   },
   {
    "duration": 6,
    "start_time": "2021-11-06T18:12:24.161Z"
   },
   {
    "duration": 6,
    "start_time": "2021-11-06T18:12:24.170Z"
   },
   {
    "duration": 8,
    "start_time": "2021-11-06T18:12:24.178Z"
   },
   {
    "duration": 6,
    "start_time": "2021-11-06T18:12:24.238Z"
   },
   {
    "duration": 9,
    "start_time": "2021-11-06T18:12:24.246Z"
   },
   {
    "duration": 3,
    "start_time": "2021-11-06T18:12:24.258Z"
   },
   {
    "duration": 11,
    "start_time": "2021-11-06T18:12:24.264Z"
   },
   {
    "duration": 5,
    "start_time": "2021-11-06T18:12:24.278Z"
   },
   {
    "duration": 56,
    "start_time": "2021-11-06T18:12:24.286Z"
   },
   {
    "duration": 3,
    "start_time": "2021-11-06T18:12:24.345Z"
   },
   {
    "duration": 8,
    "start_time": "2021-11-06T18:12:24.351Z"
   },
   {
    "duration": 14,
    "start_time": "2021-11-06T18:12:24.362Z"
   },
   {
    "duration": 9,
    "start_time": "2021-11-06T18:12:24.378Z"
   },
   {
    "duration": 14,
    "start_time": "2021-11-06T18:12:24.389Z"
   },
   {
    "duration": 28,
    "start_time": "2021-11-06T18:12:24.405Z"
   },
   {
    "duration": 6,
    "start_time": "2021-11-06T18:12:24.448Z"
   },
   {
    "duration": 7,
    "start_time": "2021-11-06T18:12:24.457Z"
   },
   {
    "duration": 15,
    "start_time": "2021-11-06T18:12:24.466Z"
   },
   {
    "duration": 10,
    "start_time": "2021-11-06T18:12:24.483Z"
   },
   {
    "duration": 36,
    "start_time": "2021-11-06T18:12:24.495Z"
   },
   {
    "duration": 14,
    "start_time": "2021-11-06T18:12:24.537Z"
   },
   {
    "duration": 19,
    "start_time": "2021-11-06T18:12:24.553Z"
   },
   {
    "duration": 16,
    "start_time": "2021-11-06T18:12:24.574Z"
   },
   {
    "duration": 8,
    "start_time": "2021-11-06T18:12:24.593Z"
   },
   {
    "duration": 22,
    "start_time": "2021-11-06T18:12:24.603Z"
   },
   {
    "duration": 17,
    "start_time": "2021-11-06T18:12:24.627Z"
   },
   {
    "duration": 14,
    "start_time": "2021-11-06T18:12:24.647Z"
   },
   {
    "duration": 10,
    "start_time": "2021-11-06T18:12:24.664Z"
   },
   {
    "duration": 13,
    "start_time": "2021-11-06T18:12:24.677Z"
   },
   {
    "duration": 5,
    "start_time": "2021-11-06T18:12:24.693Z"
   },
   {
    "duration": 17,
    "start_time": "2021-11-06T18:12:24.701Z"
   },
   {
    "duration": 17,
    "start_time": "2021-11-06T18:12:24.729Z"
   },
   {
    "duration": 16,
    "start_time": "2021-11-06T18:12:24.750Z"
   },
   {
    "duration": 11,
    "start_time": "2021-11-06T18:12:24.769Z"
   },
   {
    "duration": 9,
    "start_time": "2021-11-06T18:12:24.782Z"
   },
   {
    "duration": 5,
    "start_time": "2021-11-06T18:12:24.793Z"
   },
   {
    "duration": 6,
    "start_time": "2021-11-06T18:12:24.832Z"
   },
   {
    "duration": 6,
    "start_time": "2021-11-06T18:13:57.111Z"
   },
   {
    "duration": 6,
    "start_time": "2021-11-06T18:20:17.921Z"
   },
   {
    "duration": 3,
    "start_time": "2021-11-06T18:21:15.261Z"
   },
   {
    "duration": 3,
    "start_time": "2021-11-06T18:21:17.129Z"
   },
   {
    "duration": 6,
    "start_time": "2021-11-06T18:21:18.844Z"
   },
   {
    "duration": 6,
    "start_time": "2021-11-06T18:21:30.920Z"
   },
   {
    "duration": 4,
    "start_time": "2021-11-06T18:23:09.063Z"
   },
   {
    "duration": 451,
    "start_time": "2021-11-06T18:23:12.160Z"
   },
   {
    "duration": 10,
    "start_time": "2021-11-06T18:23:17.469Z"
   },
   {
    "duration": 99,
    "start_time": "2021-11-06T18:25:22.308Z"
   },
   {
    "duration": 699,
    "start_time": "2021-11-06T18:25:27.029Z"
   },
   {
    "duration": 3,
    "start_time": "2021-11-06T18:25:31.229Z"
   },
   {
    "duration": 6,
    "start_time": "2021-11-06T18:31:36.132Z"
   },
   {
    "duration": 1335,
    "start_time": "2021-11-06T18:31:43.612Z"
   },
   {
    "duration": 18,
    "start_time": "2021-11-06T18:31:44.950Z"
   },
   {
    "duration": 21,
    "start_time": "2021-11-06T18:31:44.971Z"
   },
   {
    "duration": 9,
    "start_time": "2021-11-06T18:31:44.995Z"
   },
   {
    "duration": 56,
    "start_time": "2021-11-06T18:31:45.006Z"
   },
   {
    "duration": 8,
    "start_time": "2021-11-06T18:31:45.064Z"
   },
   {
    "duration": 9,
    "start_time": "2021-11-06T18:31:45.075Z"
   },
   {
    "duration": 46,
    "start_time": "2021-11-06T18:31:45.088Z"
   },
   {
    "duration": 6,
    "start_time": "2021-11-06T18:31:45.137Z"
   },
   {
    "duration": 10,
    "start_time": "2021-11-06T18:31:45.145Z"
   },
   {
    "duration": 8,
    "start_time": "2021-11-06T18:31:45.157Z"
   },
   {
    "duration": 12,
    "start_time": "2021-11-06T18:31:45.167Z"
   },
   {
    "duration": 4,
    "start_time": "2021-11-06T18:31:45.182Z"
   },
   {
    "duration": 46,
    "start_time": "2021-11-06T18:31:45.188Z"
   },
   {
    "duration": 5,
    "start_time": "2021-11-06T18:31:45.236Z"
   },
   {
    "duration": 9,
    "start_time": "2021-11-06T18:31:45.244Z"
   },
   {
    "duration": 4,
    "start_time": "2021-11-06T18:31:45.255Z"
   },
   {
    "duration": 8,
    "start_time": "2021-11-06T18:31:45.261Z"
   },
   {
    "duration": 6,
    "start_time": "2021-11-06T18:31:45.271Z"
   },
   {
    "duration": 432,
    "start_time": "2021-11-06T18:31:45.280Z"
   },
   {
    "duration": -10890696,
    "start_time": "2021-11-06T21:33:16.411Z"
   },
   {
    "duration": -10890709,
    "start_time": "2021-11-06T21:33:16.426Z"
   },
   {
    "duration": -10890713,
    "start_time": "2021-11-06T21:33:16.431Z"
   },
   {
    "duration": -10890715,
    "start_time": "2021-11-06T21:33:16.435Z"
   },
   {
    "duration": -10890717,
    "start_time": "2021-11-06T21:33:16.438Z"
   },
   {
    "duration": -10890719,
    "start_time": "2021-11-06T21:33:16.442Z"
   },
   {
    "duration": -10890722,
    "start_time": "2021-11-06T21:33:16.447Z"
   },
   {
    "duration": -10890724,
    "start_time": "2021-11-06T21:33:16.450Z"
   },
   {
    "duration": -10890726,
    "start_time": "2021-11-06T21:33:16.454Z"
   },
   {
    "duration": -10890728,
    "start_time": "2021-11-06T21:33:16.457Z"
   },
   {
    "duration": -10890729,
    "start_time": "2021-11-06T21:33:16.460Z"
   },
   {
    "duration": -10890730,
    "start_time": "2021-11-06T21:33:16.463Z"
   },
   {
    "duration": -10890733,
    "start_time": "2021-11-06T21:33:16.467Z"
   },
   {
    "duration": -10890735,
    "start_time": "2021-11-06T21:33:16.471Z"
   },
   {
    "duration": -10890739,
    "start_time": "2021-11-06T21:33:16.476Z"
   },
   {
    "duration": -10890740,
    "start_time": "2021-11-06T21:33:16.479Z"
   },
   {
    "duration": -10890743,
    "start_time": "2021-11-06T21:33:16.483Z"
   },
   {
    "duration": -10890744,
    "start_time": "2021-11-06T21:33:16.486Z"
   },
   {
    "duration": -10890745,
    "start_time": "2021-11-06T21:33:16.489Z"
   },
   {
    "duration": -10890759,
    "start_time": "2021-11-06T21:33:16.504Z"
   },
   {
    "duration": -10890762,
    "start_time": "2021-11-06T21:33:16.508Z"
   },
   {
    "duration": -10890764,
    "start_time": "2021-11-06T21:33:16.512Z"
   },
   {
    "duration": -10890768,
    "start_time": "2021-11-06T21:33:16.517Z"
   },
   {
    "duration": -10890772,
    "start_time": "2021-11-06T21:33:16.523Z"
   },
   {
    "duration": 1381,
    "start_time": "2021-11-06T18:32:15.462Z"
   },
   {
    "duration": 19,
    "start_time": "2021-11-06T18:32:16.846Z"
   },
   {
    "duration": 29,
    "start_time": "2021-11-06T18:32:16.868Z"
   },
   {
    "duration": 10,
    "start_time": "2021-11-06T18:32:16.900Z"
   },
   {
    "duration": 35,
    "start_time": "2021-11-06T18:32:16.929Z"
   },
   {
    "duration": 8,
    "start_time": "2021-11-06T18:32:16.966Z"
   },
   {
    "duration": 7,
    "start_time": "2021-11-06T18:32:16.976Z"
   },
   {
    "duration": 48,
    "start_time": "2021-11-06T18:32:16.986Z"
   },
   {
    "duration": 8,
    "start_time": "2021-11-06T18:32:17.037Z"
   },
   {
    "duration": 6,
    "start_time": "2021-11-06T18:32:17.047Z"
   },
   {
    "duration": 18,
    "start_time": "2021-11-06T18:32:17.055Z"
   },
   {
    "duration": 12,
    "start_time": "2021-11-06T18:32:17.076Z"
   },
   {
    "duration": 9,
    "start_time": "2021-11-06T18:32:17.090Z"
   },
   {
    "duration": 34,
    "start_time": "2021-11-06T18:32:17.101Z"
   },
   {
    "duration": 5,
    "start_time": "2021-11-06T18:32:17.138Z"
   },
   {
    "duration": 8,
    "start_time": "2021-11-06T18:32:17.145Z"
   },
   {
    "duration": 8,
    "start_time": "2021-11-06T18:32:17.155Z"
   },
   {
    "duration": 8,
    "start_time": "2021-11-06T18:32:17.165Z"
   },
   {
    "duration": 9,
    "start_time": "2021-11-06T18:32:17.176Z"
   },
   {
    "duration": 46,
    "start_time": "2021-11-06T18:32:17.187Z"
   },
   {
    "duration": 7,
    "start_time": "2021-11-06T18:32:17.237Z"
   },
   {
    "duration": 87,
    "start_time": "2021-11-06T18:32:17.246Z"
   },
   {
    "duration": 7,
    "start_time": "2021-11-06T18:32:17.338Z"
   },
   {
    "duration": 5,
    "start_time": "2021-11-06T18:32:17.349Z"
   },
   {
    "duration": 8,
    "start_time": "2021-11-06T18:32:17.356Z"
   },
   {
    "duration": 4,
    "start_time": "2021-11-06T18:32:17.366Z"
   },
   {
    "duration": 58,
    "start_time": "2021-11-06T18:32:17.373Z"
   },
   {
    "duration": 6,
    "start_time": "2021-11-06T18:32:17.434Z"
   },
   {
    "duration": 6,
    "start_time": "2021-11-06T18:32:17.443Z"
   },
   {
    "duration": 12,
    "start_time": "2021-11-06T18:32:17.452Z"
   },
   {
    "duration": 7,
    "start_time": "2021-11-06T18:32:17.467Z"
   },
   {
    "duration": 10,
    "start_time": "2021-11-06T18:32:17.477Z"
   },
   {
    "duration": 49,
    "start_time": "2021-11-06T18:32:17.489Z"
   },
   {
    "duration": 4,
    "start_time": "2021-11-06T18:32:17.541Z"
   },
   {
    "duration": 12,
    "start_time": "2021-11-06T18:32:17.547Z"
   },
   {
    "duration": 7,
    "start_time": "2021-11-06T18:32:17.562Z"
   },
   {
    "duration": 7,
    "start_time": "2021-11-06T18:32:17.572Z"
   },
   {
    "duration": 49,
    "start_time": "2021-11-06T18:32:17.581Z"
   },
   {
    "duration": 15,
    "start_time": "2021-11-06T18:32:17.633Z"
   },
   {
    "duration": 17,
    "start_time": "2021-11-06T18:32:17.651Z"
   },
   {
    "duration": 10,
    "start_time": "2021-11-06T18:32:17.670Z"
   },
   {
    "duration": 8,
    "start_time": "2021-11-06T18:32:17.682Z"
   },
   {
    "duration": 4,
    "start_time": "2021-11-06T18:32:17.730Z"
   },
   {
    "duration": 12,
    "start_time": "2021-11-06T18:32:17.736Z"
   },
   {
    "duration": 119,
    "start_time": "2021-11-06T18:34:58.534Z"
   },
   {
    "duration": 7,
    "start_time": "2021-11-06T18:36:31.547Z"
   },
   {
    "duration": 6,
    "start_time": "2021-11-06T18:36:43.874Z"
   },
   {
    "duration": 1377,
    "start_time": "2021-11-06T18:36:51.445Z"
   },
   {
    "duration": 18,
    "start_time": "2021-11-06T18:36:52.824Z"
   },
   {
    "duration": 25,
    "start_time": "2021-11-06T18:36:52.845Z"
   },
   {
    "duration": 8,
    "start_time": "2021-11-06T18:36:52.873Z"
   },
   {
    "duration": 57,
    "start_time": "2021-11-06T18:36:52.884Z"
   },
   {
    "duration": 8,
    "start_time": "2021-11-06T18:36:52.944Z"
   },
   {
    "duration": 11,
    "start_time": "2021-11-06T18:36:52.954Z"
   },
   {
    "duration": 9,
    "start_time": "2021-11-06T18:36:52.970Z"
   },
   {
    "duration": 9,
    "start_time": "2021-11-06T18:36:52.983Z"
   },
   {
    "duration": 36,
    "start_time": "2021-11-06T18:36:52.994Z"
   },
   {
    "duration": 7,
    "start_time": "2021-11-06T18:36:53.033Z"
   },
   {
    "duration": 9,
    "start_time": "2021-11-06T18:36:53.042Z"
   },
   {
    "duration": 5,
    "start_time": "2021-11-06T18:36:53.053Z"
   },
   {
    "duration": 11,
    "start_time": "2021-11-06T18:36:53.060Z"
   },
   {
    "duration": 5,
    "start_time": "2021-11-06T18:36:53.073Z"
   },
   {
    "duration": 53,
    "start_time": "2021-11-06T18:36:53.081Z"
   },
   {
    "duration": 11,
    "start_time": "2021-11-06T18:36:53.136Z"
   },
   {
    "duration": 12,
    "start_time": "2021-11-06T18:36:53.149Z"
   },
   {
    "duration": 4,
    "start_time": "2021-11-06T18:36:53.163Z"
   },
   {
    "duration": 12,
    "start_time": "2021-11-06T18:36:53.170Z"
   },
   {
    "duration": 5,
    "start_time": "2021-11-06T18:36:53.231Z"
   },
   {
    "duration": 7,
    "start_time": "2021-11-06T18:36:53.239Z"
   },
   {
    "duration": 8,
    "start_time": "2021-11-06T18:36:53.332Z"
   },
   {
    "duration": 7,
    "start_time": "2021-11-06T18:36:53.343Z"
   },
   {
    "duration": 11,
    "start_time": "2021-11-06T18:36:53.353Z"
   },
   {
    "duration": 5,
    "start_time": "2021-11-06T18:36:53.366Z"
   },
   {
    "duration": 11,
    "start_time": "2021-11-06T18:36:53.374Z"
   },
   {
    "duration": 47,
    "start_time": "2021-11-06T18:36:53.387Z"
   },
   {
    "duration": 4,
    "start_time": "2021-11-06T18:36:53.437Z"
   },
   {
    "duration": 10,
    "start_time": "2021-11-06T18:36:53.444Z"
   },
   {
    "duration": 6,
    "start_time": "2021-11-06T18:36:53.458Z"
   },
   {
    "duration": 404,
    "start_time": "2021-11-06T18:36:53.468Z"
   },
   {
    "duration": -10890686,
    "start_time": "2021-11-06T21:38:24.561Z"
   },
   {
    "duration": -10890693,
    "start_time": "2021-11-06T21:38:24.569Z"
   },
   {
    "duration": -10890695,
    "start_time": "2021-11-06T21:38:24.573Z"
   },
   {
    "duration": -10890697,
    "start_time": "2021-11-06T21:38:24.576Z"
   },
   {
    "duration": -10890698,
    "start_time": "2021-11-06T21:38:24.579Z"
   },
   {
    "duration": -10890699,
    "start_time": "2021-11-06T21:38:24.582Z"
   },
   {
    "duration": -10890701,
    "start_time": "2021-11-06T21:38:24.585Z"
   },
   {
    "duration": -10890703,
    "start_time": "2021-11-06T21:38:24.589Z"
   },
   {
    "duration": -10890705,
    "start_time": "2021-11-06T21:38:24.592Z"
   },
   {
    "duration": -10890706,
    "start_time": "2021-11-06T21:38:24.595Z"
   },
   {
    "duration": -10890708,
    "start_time": "2021-11-06T21:38:24.598Z"
   },
   {
    "duration": -10890709,
    "start_time": "2021-11-06T21:38:24.601Z"
   },
   {
    "duration": 6,
    "start_time": "2021-11-06T18:37:29.194Z"
   },
   {
    "duration": 1275,
    "start_time": "2021-11-06T18:37:37.562Z"
   },
   {
    "duration": 18,
    "start_time": "2021-11-06T18:37:38.840Z"
   },
   {
    "duration": 21,
    "start_time": "2021-11-06T18:37:38.861Z"
   },
   {
    "duration": 9,
    "start_time": "2021-11-06T18:37:38.885Z"
   },
   {
    "duration": 57,
    "start_time": "2021-11-06T18:37:38.897Z"
   },
   {
    "duration": 7,
    "start_time": "2021-11-06T18:37:38.957Z"
   },
   {
    "duration": 9,
    "start_time": "2021-11-06T18:37:38.966Z"
   },
   {
    "duration": 9,
    "start_time": "2021-11-06T18:37:38.979Z"
   },
   {
    "duration": 43,
    "start_time": "2021-11-06T18:37:38.991Z"
   },
   {
    "duration": 7,
    "start_time": "2021-11-06T18:37:39.038Z"
   },
   {
    "duration": 7,
    "start_time": "2021-11-06T18:37:39.048Z"
   },
   {
    "duration": 12,
    "start_time": "2021-11-06T18:37:39.058Z"
   },
   {
    "duration": 4,
    "start_time": "2021-11-06T18:37:39.072Z"
   },
   {
    "duration": 52,
    "start_time": "2021-11-06T18:37:39.079Z"
   },
   {
    "duration": 6,
    "start_time": "2021-11-06T18:37:39.134Z"
   },
   {
    "duration": 12,
    "start_time": "2021-11-06T18:37:39.143Z"
   },
   {
    "duration": 5,
    "start_time": "2021-11-06T18:37:39.158Z"
   },
   {
    "duration": 11,
    "start_time": "2021-11-06T18:37:39.166Z"
   },
   {
    "duration": 4,
    "start_time": "2021-11-06T18:37:39.180Z"
   },
   {
    "duration": 50,
    "start_time": "2021-11-06T18:37:39.187Z"
   },
   {
    "duration": 8,
    "start_time": "2021-11-06T18:37:39.241Z"
   },
   {
    "duration": 8,
    "start_time": "2021-11-06T18:37:39.331Z"
   },
   {
    "duration": 87,
    "start_time": "2021-11-06T18:37:39.347Z"
   },
   {
    "duration": 4,
    "start_time": "2021-11-06T18:37:39.437Z"
   },
   {
    "duration": 10,
    "start_time": "2021-11-06T18:37:39.444Z"
   },
   {
    "duration": 9,
    "start_time": "2021-11-06T18:37:39.456Z"
   },
   {
    "duration": 8,
    "start_time": "2021-11-06T18:37:39.468Z"
   },
   {
    "duration": 7,
    "start_time": "2021-11-06T18:37:39.479Z"
   },
   {
    "duration": 40,
    "start_time": "2021-11-06T18:37:39.488Z"
   },
   {
    "duration": 14,
    "start_time": "2021-11-06T18:37:39.531Z"
   },
   {
    "duration": 8,
    "start_time": "2021-11-06T18:37:39.547Z"
   },
   {
    "duration": 8,
    "start_time": "2021-11-06T18:37:39.558Z"
   },
   {
    "duration": 8,
    "start_time": "2021-11-06T18:37:39.568Z"
   },
   {
    "duration": 3,
    "start_time": "2021-11-06T18:37:39.578Z"
   },
   {
    "duration": 50,
    "start_time": "2021-11-06T18:37:39.583Z"
   },
   {
    "duration": 6,
    "start_time": "2021-11-06T18:37:39.635Z"
   },
   {
    "duration": 7,
    "start_time": "2021-11-06T18:37:39.643Z"
   },
   {
    "duration": 9,
    "start_time": "2021-11-06T18:37:39.652Z"
   },
   {
    "duration": 20,
    "start_time": "2021-11-06T18:37:39.663Z"
   },
   {
    "duration": 46,
    "start_time": "2021-11-06T18:37:39.686Z"
   },
   {
    "duration": 14,
    "start_time": "2021-11-06T18:37:39.735Z"
   },
   {
    "duration": 10,
    "start_time": "2021-11-06T18:37:39.751Z"
   },
   {
    "duration": 9,
    "start_time": "2021-11-06T18:37:39.764Z"
   },
   {
    "duration": 16,
    "start_time": "2021-11-06T18:37:39.776Z"
   },
   {
    "duration": 1323,
    "start_time": "2021-11-06T18:38:13.310Z"
   },
   {
    "duration": 18,
    "start_time": "2021-11-06T18:38:14.635Z"
   },
   {
    "duration": 21,
    "start_time": "2021-11-06T18:38:14.656Z"
   },
   {
    "duration": 9,
    "start_time": "2021-11-06T18:38:14.680Z"
   },
   {
    "duration": 65,
    "start_time": "2021-11-06T18:38:14.692Z"
   },
   {
    "duration": 8,
    "start_time": "2021-11-06T18:38:14.760Z"
   },
   {
    "duration": 8,
    "start_time": "2021-11-06T18:38:14.770Z"
   },
   {
    "duration": 8,
    "start_time": "2021-11-06T18:38:14.783Z"
   },
   {
    "duration": 6,
    "start_time": "2021-11-06T18:38:14.829Z"
   },
   {
    "duration": 7,
    "start_time": "2021-11-06T18:38:14.838Z"
   },
   {
    "duration": 5,
    "start_time": "2021-11-06T18:38:14.847Z"
   },
   {
    "duration": 9,
    "start_time": "2021-11-06T18:38:14.856Z"
   },
   {
    "duration": 5,
    "start_time": "2021-11-06T18:38:14.867Z"
   },
   {
    "duration": 60,
    "start_time": "2021-11-06T18:38:14.874Z"
   },
   {
    "duration": 7,
    "start_time": "2021-11-06T18:38:14.936Z"
   },
   {
    "duration": 9,
    "start_time": "2021-11-06T18:38:14.946Z"
   },
   {
    "duration": 6,
    "start_time": "2021-11-06T18:38:14.958Z"
   },
   {
    "duration": 8,
    "start_time": "2021-11-06T18:38:14.967Z"
   },
   {
    "duration": 4,
    "start_time": "2021-11-06T18:38:14.978Z"
   },
   {
    "duration": 47,
    "start_time": "2021-11-06T18:38:14.984Z"
   },
   {
    "duration": 12,
    "start_time": "2021-11-06T18:38:15.038Z"
   },
   {
    "duration": 81,
    "start_time": "2021-11-06T18:38:15.053Z"
   },
   {
    "duration": 9,
    "start_time": "2021-11-06T18:38:15.140Z"
   },
   {
    "duration": 5,
    "start_time": "2021-11-06T18:38:15.152Z"
   },
   {
    "duration": 14,
    "start_time": "2021-11-06T18:38:15.159Z"
   },
   {
    "duration": 6,
    "start_time": "2021-11-06T18:38:15.175Z"
   },
   {
    "duration": 54,
    "start_time": "2021-11-06T18:38:15.184Z"
   },
   {
    "duration": 7,
    "start_time": "2021-11-06T18:38:15.241Z"
   },
   {
    "duration": 6,
    "start_time": "2021-11-06T18:38:15.251Z"
   },
   {
    "duration": 10,
    "start_time": "2021-11-06T18:38:15.260Z"
   },
   {
    "duration": 8,
    "start_time": "2021-11-06T18:38:15.273Z"
   },
   {
    "duration": 45,
    "start_time": "2021-11-06T18:38:15.284Z"
   },
   {
    "duration": 9,
    "start_time": "2021-11-06T18:38:15.333Z"
   },
   {
    "duration": 5,
    "start_time": "2021-11-06T18:38:15.345Z"
   },
   {
    "duration": 8,
    "start_time": "2021-11-06T18:38:15.353Z"
   },
   {
    "duration": 12,
    "start_time": "2021-11-06T18:38:15.363Z"
   },
   {
    "duration": 9,
    "start_time": "2021-11-06T18:38:15.378Z"
   },
   {
    "duration": 44,
    "start_time": "2021-11-06T18:38:15.390Z"
   },
   {
    "duration": 15,
    "start_time": "2021-11-06T18:38:15.436Z"
   },
   {
    "duration": 17,
    "start_time": "2021-11-06T18:38:15.453Z"
   },
   {
    "duration": 13,
    "start_time": "2021-11-06T18:38:15.472Z"
   },
   {
    "duration": 42,
    "start_time": "2021-11-06T18:38:15.487Z"
   },
   {
    "duration": 6,
    "start_time": "2021-11-06T18:38:15.532Z"
   },
   {
    "duration": 9,
    "start_time": "2021-11-06T18:38:15.541Z"
   },
   {
    "duration": 1548,
    "start_time": "2021-11-06T18:38:32.593Z"
   },
   {
    "duration": 18,
    "start_time": "2021-11-06T18:38:34.143Z"
   },
   {
    "duration": 20,
    "start_time": "2021-11-06T18:38:34.165Z"
   },
   {
    "duration": 8,
    "start_time": "2021-11-06T18:38:34.188Z"
   },
   {
    "duration": 55,
    "start_time": "2021-11-06T18:38:34.199Z"
   },
   {
    "duration": 7,
    "start_time": "2021-11-06T18:38:34.257Z"
   },
   {
    "duration": 7,
    "start_time": "2021-11-06T18:38:34.267Z"
   },
   {
    "duration": 8,
    "start_time": "2021-11-06T18:38:34.278Z"
   },
   {
    "duration": 43,
    "start_time": "2021-11-06T18:38:34.288Z"
   },
   {
    "duration": 5,
    "start_time": "2021-11-06T18:38:34.334Z"
   },
   {
    "duration": 8,
    "start_time": "2021-11-06T18:38:34.342Z"
   },
   {
    "duration": 11,
    "start_time": "2021-11-06T18:38:34.352Z"
   },
   {
    "duration": 4,
    "start_time": "2021-11-06T18:38:34.366Z"
   },
   {
    "duration": 57,
    "start_time": "2021-11-06T18:38:34.373Z"
   },
   {
    "duration": 5,
    "start_time": "2021-11-06T18:38:34.434Z"
   },
   {
    "duration": 8,
    "start_time": "2021-11-06T18:38:34.442Z"
   },
   {
    "duration": 4,
    "start_time": "2021-11-06T18:38:34.453Z"
   },
   {
    "duration": 7,
    "start_time": "2021-11-06T18:38:34.460Z"
   },
   {
    "duration": 9,
    "start_time": "2021-11-06T18:38:34.470Z"
   },
   {
    "duration": 56,
    "start_time": "2021-11-06T18:38:34.482Z"
   },
   {
    "duration": 88,
    "start_time": "2021-11-06T18:38:34.541Z"
   },
   {
    "duration": 5,
    "start_time": "2021-11-06T18:38:34.632Z"
   },
   {
    "duration": 7,
    "start_time": "2021-11-06T18:38:34.642Z"
   },
   {
    "duration": 4,
    "start_time": "2021-11-06T18:38:34.652Z"
   },
   {
    "duration": 10,
    "start_time": "2021-11-06T18:38:34.658Z"
   },
   {
    "duration": 4,
    "start_time": "2021-11-06T18:38:34.671Z"
   },
   {
    "duration": 56,
    "start_time": "2021-11-06T18:38:34.677Z"
   },
   {
    "duration": 7,
    "start_time": "2021-11-06T18:38:34.735Z"
   },
   {
    "duration": 6,
    "start_time": "2021-11-06T18:38:34.745Z"
   },
   {
    "duration": 12,
    "start_time": "2021-11-06T18:38:34.754Z"
   },
   {
    "duration": 8,
    "start_time": "2021-11-06T18:38:34.768Z"
   },
   {
    "duration": 12,
    "start_time": "2021-11-06T18:38:34.778Z"
   },
   {
    "duration": 41,
    "start_time": "2021-11-06T18:38:34.793Z"
   },
   {
    "duration": 3,
    "start_time": "2021-11-06T18:38:34.837Z"
   },
   {
    "duration": 9,
    "start_time": "2021-11-06T18:38:34.842Z"
   },
   {
    "duration": 7,
    "start_time": "2021-11-06T18:38:34.853Z"
   },
   {
    "duration": 10,
    "start_time": "2021-11-06T18:38:34.862Z"
   },
   {
    "duration": 8,
    "start_time": "2021-11-06T18:38:34.875Z"
   },
   {
    "duration": 54,
    "start_time": "2021-11-06T18:38:34.885Z"
   },
   {
    "duration": 15,
    "start_time": "2021-11-06T18:38:34.942Z"
   },
   {
    "duration": 400,
    "start_time": "2021-11-06T18:38:34.960Z"
   },
   {
    "duration": -10890668,
    "start_time": "2021-11-06T21:40:06.031Z"
   },
   {
    "duration": -10890676,
    "start_time": "2021-11-06T21:40:06.041Z"
   },
   {
    "duration": -10890680,
    "start_time": "2021-11-06T21:40:06.047Z"
   },
   {
    "duration": 103,
    "start_time": "2021-11-06T18:38:40.627Z"
   },
   {
    "duration": 81,
    "start_time": "2021-11-06T18:38:49.962Z"
   },
   {
    "duration": 252,
    "start_time": "2021-11-06T18:38:54.282Z"
   },
   {
    "duration": 1706,
    "start_time": "2021-11-06T18:39:03.376Z"
   },
   {
    "duration": 22,
    "start_time": "2021-11-06T18:39:05.085Z"
   },
   {
    "duration": 25,
    "start_time": "2021-11-06T18:39:05.111Z"
   },
   {
    "duration": 16,
    "start_time": "2021-11-06T18:39:05.140Z"
   },
   {
    "duration": 43,
    "start_time": "2021-11-06T18:39:05.159Z"
   },
   {
    "duration": 29,
    "start_time": "2021-11-06T18:39:05.205Z"
   },
   {
    "duration": 9,
    "start_time": "2021-11-06T18:39:05.237Z"
   },
   {
    "duration": 20,
    "start_time": "2021-11-06T18:39:05.251Z"
   },
   {
    "duration": 31,
    "start_time": "2021-11-06T18:39:05.275Z"
   },
   {
    "duration": 35,
    "start_time": "2021-11-06T18:39:05.308Z"
   },
   {
    "duration": 23,
    "start_time": "2021-11-06T18:39:05.345Z"
   },
   {
    "duration": 24,
    "start_time": "2021-11-06T18:39:05.370Z"
   },
   {
    "duration": 7,
    "start_time": "2021-11-06T18:39:05.397Z"
   },
   {
    "duration": 26,
    "start_time": "2021-11-06T18:39:05.407Z"
   },
   {
    "duration": 12,
    "start_time": "2021-11-06T18:39:05.436Z"
   },
   {
    "duration": 20,
    "start_time": "2021-11-06T18:39:05.451Z"
   },
   {
    "duration": 24,
    "start_time": "2021-11-06T18:39:05.474Z"
   },
   {
    "duration": 25,
    "start_time": "2021-11-06T18:39:05.500Z"
   },
   {
    "duration": 24,
    "start_time": "2021-11-06T18:39:05.528Z"
   },
   {
    "duration": 19,
    "start_time": "2021-11-06T18:39:05.554Z"
   },
   {
    "duration": 54,
    "start_time": "2021-11-06T18:39:05.575Z"
   },
   {
    "duration": 18,
    "start_time": "2021-11-06T18:39:05.632Z"
   },
   {
    "duration": 7,
    "start_time": "2021-11-06T18:39:05.734Z"
   },
   {
    "duration": 11,
    "start_time": "2021-11-06T18:39:05.744Z"
   },
   {
    "duration": 25,
    "start_time": "2021-11-06T18:39:05.757Z"
   },
   {
    "duration": 12,
    "start_time": "2021-11-06T18:39:05.785Z"
   },
   {
    "duration": 23,
    "start_time": "2021-11-06T18:39:05.799Z"
   },
   {
    "duration": 29,
    "start_time": "2021-11-06T18:39:05.824Z"
   },
   {
    "duration": 25,
    "start_time": "2021-11-06T18:39:05.855Z"
   },
   {
    "duration": 26,
    "start_time": "2021-11-06T18:39:05.882Z"
   },
   {
    "duration": 19,
    "start_time": "2021-11-06T18:39:05.910Z"
   },
   {
    "duration": 23,
    "start_time": "2021-11-06T18:39:05.932Z"
   },
   {
    "duration": 16,
    "start_time": "2021-11-06T18:39:05.958Z"
   },
   {
    "duration": 16,
    "start_time": "2021-11-06T18:39:05.976Z"
   },
   {
    "duration": 11,
    "start_time": "2021-11-06T18:39:05.994Z"
   },
   {
    "duration": 14,
    "start_time": "2021-11-06T18:39:06.008Z"
   },
   {
    "duration": 18,
    "start_time": "2021-11-06T18:39:06.024Z"
   },
   {
    "duration": 21,
    "start_time": "2021-11-06T18:39:06.044Z"
   },
   {
    "duration": 23,
    "start_time": "2021-11-06T18:39:06.068Z"
   },
   {
    "duration": 20,
    "start_time": "2021-11-06T18:39:06.093Z"
   },
   {
    "duration": 21,
    "start_time": "2021-11-06T18:39:06.116Z"
   },
   {
    "duration": 21,
    "start_time": "2021-11-06T18:39:06.139Z"
   },
   {
    "duration": 8,
    "start_time": "2021-11-06T18:39:06.163Z"
   },
   {
    "duration": 15,
    "start_time": "2021-11-06T18:39:06.174Z"
   },
   {
    "duration": 230,
    "start_time": "2021-11-07T16:18:19.993Z"
   },
   {
    "duration": 1017,
    "start_time": "2021-11-07T16:18:27.347Z"
   },
   {
    "duration": 58,
    "start_time": "2021-11-07T16:18:28.366Z"
   },
   {
    "duration": 13,
    "start_time": "2021-11-07T16:18:28.426Z"
   },
   {
    "duration": 22,
    "start_time": "2021-11-07T16:18:28.440Z"
   },
   {
    "duration": 27,
    "start_time": "2021-11-07T16:18:28.464Z"
   },
   {
    "duration": 12,
    "start_time": "2021-11-07T16:18:28.493Z"
   },
   {
    "duration": 11,
    "start_time": "2021-11-07T16:18:28.507Z"
   },
   {
    "duration": 21,
    "start_time": "2021-11-07T16:18:28.520Z"
   },
   {
    "duration": 16,
    "start_time": "2021-11-07T16:18:28.544Z"
   },
   {
    "duration": 16,
    "start_time": "2021-11-07T16:18:28.561Z"
   },
   {
    "duration": 16,
    "start_time": "2021-11-07T16:18:28.578Z"
   },
   {
    "duration": 9,
    "start_time": "2021-11-07T16:18:28.597Z"
   },
   {
    "duration": 2,
    "start_time": "2021-11-07T16:18:28.608Z"
   },
   {
    "duration": 12,
    "start_time": "2021-11-07T16:18:28.612Z"
   },
   {
    "duration": 4,
    "start_time": "2021-11-07T16:18:28.625Z"
   },
   {
    "duration": 9,
    "start_time": "2021-11-07T16:18:28.630Z"
   },
   {
    "duration": 11,
    "start_time": "2021-11-07T16:18:28.640Z"
   },
   {
    "duration": 9,
    "start_time": "2021-11-07T16:18:28.652Z"
   },
   {
    "duration": 7,
    "start_time": "2021-11-07T16:18:28.662Z"
   },
   {
    "duration": 26,
    "start_time": "2021-11-07T16:18:28.671Z"
   },
   {
    "duration": 11,
    "start_time": "2021-11-07T16:18:28.701Z"
   },
   {
    "duration": 82,
    "start_time": "2021-11-07T16:18:28.713Z"
   },
   {
    "duration": 9,
    "start_time": "2021-11-07T16:18:28.798Z"
   },
   {
    "duration": 4,
    "start_time": "2021-11-07T16:18:28.812Z"
   },
   {
    "duration": 76,
    "start_time": "2021-11-07T16:18:28.818Z"
   },
   {
    "duration": 7,
    "start_time": "2021-11-07T16:18:28.897Z"
   },
   {
    "duration": 6,
    "start_time": "2021-11-07T16:18:28.911Z"
   },
   {
    "duration": 7,
    "start_time": "2021-11-07T16:18:28.918Z"
   },
   {
    "duration": 3,
    "start_time": "2021-11-07T16:18:28.927Z"
   },
   {
    "duration": 10,
    "start_time": "2021-11-07T16:18:28.932Z"
   },
   {
    "duration": 4,
    "start_time": "2021-11-07T16:18:28.944Z"
   },
   {
    "duration": 41,
    "start_time": "2021-11-07T16:18:28.950Z"
   },
   {
    "duration": 9,
    "start_time": "2021-11-07T16:18:28.994Z"
   },
   {
    "duration": 14,
    "start_time": "2021-11-07T16:18:29.006Z"
   },
   {
    "duration": 20,
    "start_time": "2021-11-07T16:18:29.022Z"
   },
   {
    "duration": 16,
    "start_time": "2021-11-07T16:18:29.044Z"
   },
   {
    "duration": 14,
    "start_time": "2021-11-07T16:18:29.062Z"
   },
   {
    "duration": 27,
    "start_time": "2021-11-07T16:18:29.077Z"
   },
   {
    "duration": 12,
    "start_time": "2021-11-07T16:18:29.107Z"
   },
   {
    "duration": 11,
    "start_time": "2021-11-07T16:18:29.120Z"
   },
   {
    "duration": 8,
    "start_time": "2021-11-07T16:18:29.132Z"
   },
   {
    "duration": 10,
    "start_time": "2021-11-07T16:18:29.142Z"
   },
   {
    "duration": 6,
    "start_time": "2021-11-07T16:18:29.154Z"
   },
   {
    "duration": 11,
    "start_time": "2021-11-07T16:18:29.161Z"
   },
   {
    "duration": 7,
    "start_time": "2021-11-07T16:22:57.524Z"
   },
   {
    "duration": 4,
    "start_time": "2021-11-07T16:42:38.339Z"
   },
   {
    "duration": 3,
    "start_time": "2021-11-07T16:45:47.596Z"
   },
   {
    "duration": 4,
    "start_time": "2021-11-07T16:46:03.013Z"
   },
   {
    "duration": 4,
    "start_time": "2021-11-07T16:47:26.193Z"
   },
   {
    "duration": 979,
    "start_time": "2021-11-07T16:48:01.332Z"
   },
   {
    "duration": 19,
    "start_time": "2021-11-07T16:48:02.313Z"
   },
   {
    "duration": 27,
    "start_time": "2021-11-07T16:48:02.335Z"
   },
   {
    "duration": 14,
    "start_time": "2021-11-07T16:48:02.364Z"
   },
   {
    "duration": 36,
    "start_time": "2021-11-07T16:48:02.380Z"
   },
   {
    "duration": 6,
    "start_time": "2021-11-07T16:48:02.418Z"
   },
   {
    "duration": 7,
    "start_time": "2021-11-07T16:48:02.425Z"
   },
   {
    "duration": 8,
    "start_time": "2021-11-07T16:48:02.434Z"
   },
   {
    "duration": 8,
    "start_time": "2021-11-07T16:48:02.444Z"
   },
   {
    "duration": 7,
    "start_time": "2021-11-07T16:48:02.454Z"
   },
   {
    "duration": 15,
    "start_time": "2021-11-07T16:48:02.462Z"
   },
   {
    "duration": 22,
    "start_time": "2021-11-07T16:48:02.479Z"
   },
   {
    "duration": 11,
    "start_time": "2021-11-07T16:48:02.502Z"
   },
   {
    "duration": 15,
    "start_time": "2021-11-07T16:48:02.514Z"
   },
   {
    "duration": 20,
    "start_time": "2021-11-07T16:48:02.531Z"
   },
   {
    "duration": 281,
    "start_time": "2021-11-07T16:48:02.553Z"
   },
   {
    "duration": -10891207,
    "start_time": "2021-11-07T19:49:34.045Z"
   },
   {
    "duration": -10891214,
    "start_time": "2021-11-07T19:49:34.052Z"
   },
   {
    "duration": -10891217,
    "start_time": "2021-11-07T19:49:34.056Z"
   },
   {
    "duration": -10891221,
    "start_time": "2021-11-07T19:49:34.061Z"
   },
   {
    "duration": -10891223,
    "start_time": "2021-11-07T19:49:34.064Z"
   },
   {
    "duration": -10891227,
    "start_time": "2021-11-07T19:49:34.069Z"
   },
   {
    "duration": -10891230,
    "start_time": "2021-11-07T19:49:34.073Z"
   },
   {
    "duration": -10891233,
    "start_time": "2021-11-07T19:49:34.077Z"
   },
   {
    "duration": -10891236,
    "start_time": "2021-11-07T19:49:34.081Z"
   },
   {
    "duration": -10891238,
    "start_time": "2021-11-07T19:49:34.084Z"
   },
   {
    "duration": -10891240,
    "start_time": "2021-11-07T19:49:34.087Z"
   },
   {
    "duration": -10891243,
    "start_time": "2021-11-07T19:49:34.091Z"
   },
   {
    "duration": -10891246,
    "start_time": "2021-11-07T19:49:34.095Z"
   },
   {
    "duration": -10891250,
    "start_time": "2021-11-07T19:49:34.100Z"
   },
   {
    "duration": -10891255,
    "start_time": "2021-11-07T19:49:34.106Z"
   },
   {
    "duration": -10891272,
    "start_time": "2021-11-07T19:49:34.124Z"
   },
   {
    "duration": -10891274,
    "start_time": "2021-11-07T19:49:34.127Z"
   },
   {
    "duration": -10891277,
    "start_time": "2021-11-07T19:49:34.131Z"
   },
   {
    "duration": -10891282,
    "start_time": "2021-11-07T19:49:34.136Z"
   },
   {
    "duration": -10891285,
    "start_time": "2021-11-07T19:49:34.140Z"
   },
   {
    "duration": -10891287,
    "start_time": "2021-11-07T19:49:34.143Z"
   },
   {
    "duration": -10891289,
    "start_time": "2021-11-07T19:49:34.146Z"
   },
   {
    "duration": -10891291,
    "start_time": "2021-11-07T19:49:34.149Z"
   },
   {
    "duration": -10891294,
    "start_time": "2021-11-07T19:49:34.153Z"
   },
   {
    "duration": -10891298,
    "start_time": "2021-11-07T19:49:34.158Z"
   },
   {
    "duration": -10891304,
    "start_time": "2021-11-07T19:49:34.165Z"
   },
   {
    "duration": -10891308,
    "start_time": "2021-11-07T19:49:34.170Z"
   },
   {
    "duration": -10891313,
    "start_time": "2021-11-07T19:49:34.176Z"
   },
   {
    "duration": -10891331,
    "start_time": "2021-11-07T19:49:34.195Z"
   },
   {
    "duration": -10891337,
    "start_time": "2021-11-07T19:49:34.201Z"
   },
   {
    "duration": -10891340,
    "start_time": "2021-11-07T19:49:34.205Z"
   },
   {
    "duration": 5,
    "start_time": "2021-11-07T16:48:32.816Z"
   },
   {
    "duration": 3,
    "start_time": "2021-11-07T16:48:35.408Z"
   },
   {
    "duration": 4,
    "start_time": "2021-11-07T16:48:38.514Z"
   },
   {
    "duration": 2,
    "start_time": "2021-11-07T16:48:39.100Z"
   },
   {
    "duration": 5,
    "start_time": "2021-11-07T16:48:41.799Z"
   },
   {
    "duration": 4,
    "start_time": "2021-11-07T16:48:42.909Z"
   },
   {
    "duration": 4,
    "start_time": "2021-11-07T16:48:43.738Z"
   },
   {
    "duration": 6,
    "start_time": "2021-11-07T16:48:45.433Z"
   },
   {
    "duration": 3,
    "start_time": "2021-11-07T16:48:46.693Z"
   },
   {
    "duration": 4,
    "start_time": "2021-11-07T16:48:47.396Z"
   },
   {
    "duration": 4,
    "start_time": "2021-11-07T16:48:48.659Z"
   },
   {
    "duration": 5,
    "start_time": "2021-11-07T16:48:49.707Z"
   },
   {
    "duration": 4,
    "start_time": "2021-11-07T16:49:04.237Z"
   },
   {
    "duration": 4,
    "start_time": "2021-11-07T16:49:10.554Z"
   },
   {
    "duration": 4,
    "start_time": "2021-11-07T16:49:40.467Z"
   },
   {
    "duration": 174,
    "start_time": "2021-11-07T16:49:51.760Z"
   },
   {
    "duration": 2,
    "start_time": "2021-11-07T16:51:02.112Z"
   },
   {
    "duration": 293,
    "start_time": "2021-11-07T16:56:30.186Z"
   },
   {
    "duration": 314,
    "start_time": "2021-11-07T16:57:46.951Z"
   },
   {
    "duration": 4,
    "start_time": "2021-11-07T16:58:17.234Z"
   },
   {
    "duration": 4,
    "start_time": "2021-11-07T16:58:24.340Z"
   },
   {
    "duration": 4,
    "start_time": "2021-11-07T16:58:30.884Z"
   },
   {
    "duration": 4,
    "start_time": "2021-11-07T16:58:38.033Z"
   },
   {
    "duration": 171,
    "start_time": "2021-11-07T16:58:46.546Z"
   },
   {
    "duration": 15,
    "start_time": "2021-11-07T16:59:01.124Z"
   },
   {
    "duration": 2,
    "start_time": "2021-11-07T16:59:52.587Z"
   },
   {
    "duration": 4,
    "start_time": "2021-11-07T16:59:53.117Z"
   },
   {
    "duration": 4,
    "start_time": "2021-11-07T16:59:54.210Z"
   },
   {
    "duration": 167,
    "start_time": "2021-11-07T17:05:03.479Z"
   },
   {
    "duration": 4,
    "start_time": "2021-11-07T17:05:06.459Z"
   },
   {
    "duration": 1043,
    "start_time": "2021-11-07T17:21:13.460Z"
   },
   {
    "duration": 1290,
    "start_time": "2021-11-07T17:21:14.505Z"
   },
   {
    "duration": 14,
    "start_time": "2021-11-07T17:21:15.797Z"
   },
   {
    "duration": 6,
    "start_time": "2021-11-07T17:21:15.813Z"
   },
   {
    "duration": 24,
    "start_time": "2021-11-07T17:21:15.820Z"
   },
   {
    "duration": 4,
    "start_time": "2021-11-07T17:21:15.846Z"
   },
   {
    "duration": 5,
    "start_time": "2021-11-07T17:21:15.852Z"
   },
   {
    "duration": 33,
    "start_time": "2021-11-07T17:21:15.859Z"
   },
   {
    "duration": 3,
    "start_time": "2021-11-07T17:21:15.894Z"
   },
   {
    "duration": 6,
    "start_time": "2021-11-07T17:21:15.899Z"
   },
   {
    "duration": 6,
    "start_time": "2021-11-07T17:21:15.906Z"
   },
   {
    "duration": 6,
    "start_time": "2021-11-07T17:21:15.914Z"
   },
   {
    "duration": 2,
    "start_time": "2021-11-07T17:21:15.922Z"
   },
   {
    "duration": 8,
    "start_time": "2021-11-07T17:21:15.926Z"
   },
   {
    "duration": 6,
    "start_time": "2021-11-07T17:21:15.935Z"
   },
   {
    "duration": 7,
    "start_time": "2021-11-07T17:21:15.942Z"
   },
   {
    "duration": 6,
    "start_time": "2021-11-07T17:21:15.950Z"
   },
   {
    "duration": 35,
    "start_time": "2021-11-07T17:21:15.957Z"
   },
   {
    "duration": 5,
    "start_time": "2021-11-07T17:21:15.994Z"
   },
   {
    "duration": 9,
    "start_time": "2021-11-07T17:21:16.001Z"
   },
   {
    "duration": 5,
    "start_time": "2021-11-07T17:21:16.012Z"
   },
   {
    "duration": 74,
    "start_time": "2021-11-07T17:21:16.019Z"
   },
   {
    "duration": 8,
    "start_time": "2021-11-07T17:21:16.097Z"
   },
   {
    "duration": 3,
    "start_time": "2021-11-07T17:21:16.107Z"
   },
   {
    "duration": 4,
    "start_time": "2021-11-07T17:21:16.192Z"
   },
   {
    "duration": 7,
    "start_time": "2021-11-07T17:21:16.198Z"
   },
   {
    "duration": 9,
    "start_time": "2021-11-07T17:21:16.206Z"
   },
   {
    "duration": 7,
    "start_time": "2021-11-07T17:21:16.216Z"
   },
   {
    "duration": 7,
    "start_time": "2021-11-07T17:21:16.224Z"
   },
   {
    "duration": 5,
    "start_time": "2021-11-07T17:21:16.232Z"
   },
   {
    "duration": 4,
    "start_time": "2021-11-07T17:21:16.238Z"
   },
   {
    "duration": 6,
    "start_time": "2021-11-07T17:21:16.244Z"
   },
   {
    "duration": 6,
    "start_time": "2021-11-07T17:21:16.251Z"
   },
   {
    "duration": 5,
    "start_time": "2021-11-07T17:21:16.259Z"
   },
   {
    "duration": 5,
    "start_time": "2021-11-07T17:21:16.292Z"
   },
   {
    "duration": 6,
    "start_time": "2021-11-07T17:21:16.298Z"
   },
   {
    "duration": 6,
    "start_time": "2021-11-07T17:21:16.305Z"
   },
   {
    "duration": 7,
    "start_time": "2021-11-07T17:21:16.312Z"
   },
   {
    "duration": 3,
    "start_time": "2021-11-07T17:21:16.321Z"
   },
   {
    "duration": 7,
    "start_time": "2021-11-07T17:21:16.326Z"
   },
   {
    "duration": 11,
    "start_time": "2021-11-07T17:21:16.335Z"
   },
   {
    "duration": 6,
    "start_time": "2021-11-07T17:21:16.347Z"
   },
   {
    "duration": 7,
    "start_time": "2021-11-07T17:21:16.354Z"
   },
   {
    "duration": 36,
    "start_time": "2021-11-07T17:21:16.362Z"
   },
   {
    "duration": 11,
    "start_time": "2021-11-07T17:21:16.399Z"
   },
   {
    "duration": 7,
    "start_time": "2021-11-07T17:21:16.412Z"
   },
   {
    "duration": 8,
    "start_time": "2021-11-07T17:21:16.420Z"
   },
   {
    "duration": 4,
    "start_time": "2021-11-07T17:21:16.430Z"
   },
   {
    "duration": 9,
    "start_time": "2021-11-07T17:21:16.435Z"
   },
   {
    "duration": 1500,
    "start_time": "2021-11-10T19:07:42.811Z"
   },
   {
    "duration": 19,
    "start_time": "2021-11-10T19:07:44.314Z"
   },
   {
    "duration": 25,
    "start_time": "2021-11-10T19:07:44.336Z"
   },
   {
    "duration": 12,
    "start_time": "2021-11-10T19:07:44.365Z"
   },
   {
    "duration": 74,
    "start_time": "2021-11-10T19:07:44.379Z"
   },
   {
    "duration": 11,
    "start_time": "2021-11-10T19:07:44.456Z"
   },
   {
    "duration": 8,
    "start_time": "2021-11-10T19:07:44.470Z"
   },
   {
    "duration": 47,
    "start_time": "2021-11-10T19:07:44.482Z"
   },
   {
    "duration": 6,
    "start_time": "2021-11-10T19:07:44.533Z"
   },
   {
    "duration": 10,
    "start_time": "2021-11-10T19:07:44.542Z"
   },
   {
    "duration": 11,
    "start_time": "2021-11-10T19:07:44.555Z"
   },
   {
    "duration": 11,
    "start_time": "2021-11-10T19:07:44.569Z"
   },
   {
    "duration": 5,
    "start_time": "2021-11-10T19:07:44.582Z"
   },
   {
    "duration": 46,
    "start_time": "2021-11-10T19:07:44.589Z"
   },
   {
    "duration": 6,
    "start_time": "2021-11-10T19:07:44.639Z"
   },
   {
    "duration": 18,
    "start_time": "2021-11-10T19:07:44.648Z"
   },
   {
    "duration": 12,
    "start_time": "2021-11-10T19:07:44.669Z"
   },
   {
    "duration": 9,
    "start_time": "2021-11-10T19:07:44.683Z"
   },
   {
    "duration": 18,
    "start_time": "2021-11-10T19:07:44.695Z"
   },
   {
    "duration": 21,
    "start_time": "2021-11-10T19:07:44.715Z"
   },
   {
    "duration": 5,
    "start_time": "2021-11-10T19:07:44.743Z"
   },
   {
    "duration": 82,
    "start_time": "2021-11-10T19:07:44.750Z"
   },
   {
    "duration": 88,
    "start_time": "2021-11-10T19:07:44.840Z"
   },
   {
    "duration": 4,
    "start_time": "2021-11-10T19:07:44.932Z"
   },
   {
    "duration": 19,
    "start_time": "2021-11-10T19:07:44.939Z"
   },
   {
    "duration": 8,
    "start_time": "2021-11-10T19:07:44.961Z"
   },
   {
    "duration": 9,
    "start_time": "2021-11-10T19:07:44.971Z"
   },
   {
    "duration": 6,
    "start_time": "2021-11-10T19:07:44.982Z"
   },
   {
    "duration": 8,
    "start_time": "2021-11-10T19:07:44.990Z"
   },
   {
    "duration": 22,
    "start_time": "2021-11-10T19:07:45.030Z"
   },
   {
    "duration": 14,
    "start_time": "2021-11-10T19:07:45.055Z"
   },
   {
    "duration": 14,
    "start_time": "2021-11-10T19:07:45.071Z"
   },
   {
    "duration": 14,
    "start_time": "2021-11-10T19:07:45.087Z"
   },
   {
    "duration": 9,
    "start_time": "2021-11-10T19:07:45.104Z"
   },
   {
    "duration": 19,
    "start_time": "2021-11-10T19:07:45.116Z"
   },
   {
    "duration": 15,
    "start_time": "2021-11-10T19:07:45.137Z"
   },
   {
    "duration": 8,
    "start_time": "2021-11-10T19:07:45.154Z"
   },
   {
    "duration": 14,
    "start_time": "2021-11-10T19:07:45.165Z"
   },
   {
    "duration": 5,
    "start_time": "2021-11-10T19:07:45.181Z"
   },
   {
    "duration": 14,
    "start_time": "2021-11-10T19:07:45.188Z"
   },
   {
    "duration": 29,
    "start_time": "2021-11-10T19:07:45.204Z"
   },
   {
    "duration": 14,
    "start_time": "2021-11-10T19:07:45.235Z"
   },
   {
    "duration": 7,
    "start_time": "2021-11-10T19:07:45.252Z"
   },
   {
    "duration": 20,
    "start_time": "2021-11-10T19:07:45.261Z"
   },
   {
    "duration": 17,
    "start_time": "2021-11-10T19:07:45.283Z"
   },
   {
    "duration": 9,
    "start_time": "2021-11-10T19:07:45.330Z"
   },
   {
    "duration": 10,
    "start_time": "2021-11-10T19:07:45.342Z"
   },
   {
    "duration": 8,
    "start_time": "2021-11-10T19:07:45.354Z"
   },
   {
    "duration": 16,
    "start_time": "2021-11-10T19:07:45.365Z"
   },
   {
    "duration": 6,
    "start_time": "2021-11-10T19:49:27.361Z"
   },
   {
    "duration": 1564,
    "start_time": "2021-11-10T20:05:45.704Z"
   },
   {
    "duration": 18,
    "start_time": "2021-11-10T20:05:47.272Z"
   },
   {
    "duration": 25,
    "start_time": "2021-11-10T20:05:47.293Z"
   },
   {
    "duration": 24,
    "start_time": "2021-11-10T20:05:47.320Z"
   },
   {
    "duration": 82,
    "start_time": "2021-11-10T20:05:47.356Z"
   },
   {
    "duration": 14,
    "start_time": "2021-11-10T20:05:47.440Z"
   },
   {
    "duration": 51,
    "start_time": "2021-11-10T20:05:47.458Z"
   },
   {
    "duration": 45,
    "start_time": "2021-11-10T20:05:47.513Z"
   },
   {
    "duration": 22,
    "start_time": "2021-11-10T20:05:47.562Z"
   },
   {
    "duration": 34,
    "start_time": "2021-11-10T20:05:47.586Z"
   },
   {
    "duration": 15,
    "start_time": "2021-11-10T20:05:47.623Z"
   },
   {
    "duration": 31,
    "start_time": "2021-11-10T20:05:47.641Z"
   },
   {
    "duration": 29,
    "start_time": "2021-11-10T20:05:47.690Z"
   },
   {
    "duration": 72,
    "start_time": "2021-11-10T20:05:47.722Z"
   },
   {
    "duration": 23,
    "start_time": "2021-11-10T20:05:47.797Z"
   },
   {
    "duration": 37,
    "start_time": "2021-11-10T20:05:47.822Z"
   },
   {
    "duration": 23,
    "start_time": "2021-11-10T20:05:47.862Z"
   },
   {
    "duration": 20,
    "start_time": "2021-11-10T20:05:47.888Z"
   },
   {
    "duration": 31,
    "start_time": "2021-11-10T20:05:47.910Z"
   },
   {
    "duration": 60,
    "start_time": "2021-11-10T20:05:47.944Z"
   },
   {
    "duration": 126,
    "start_time": "2021-11-10T20:05:48.006Z"
   },
   {
    "duration": 31,
    "start_time": "2021-11-10T20:05:48.135Z"
   },
   {
    "duration": 21,
    "start_time": "2021-11-10T20:05:48.171Z"
   },
   {
    "duration": 4,
    "start_time": "2021-11-10T20:05:48.195Z"
   },
   {
    "duration": 21,
    "start_time": "2021-11-10T20:05:48.202Z"
   },
   {
    "duration": 13,
    "start_time": "2021-11-10T20:05:48.226Z"
   },
   {
    "duration": 6,
    "start_time": "2021-11-10T20:05:48.243Z"
   },
   {
    "duration": 11,
    "start_time": "2021-11-10T20:05:48.251Z"
   },
   {
    "duration": 10,
    "start_time": "2021-11-10T20:05:48.265Z"
   },
   {
    "duration": 6,
    "start_time": "2021-11-10T20:05:48.278Z"
   },
   {
    "duration": 43,
    "start_time": "2021-11-10T20:05:48.286Z"
   },
   {
    "duration": 9,
    "start_time": "2021-11-10T20:05:48.333Z"
   },
   {
    "duration": 11,
    "start_time": "2021-11-10T20:05:48.345Z"
   },
   {
    "duration": 9,
    "start_time": "2021-11-10T20:05:48.359Z"
   },
   {
    "duration": 18,
    "start_time": "2021-11-10T20:05:48.371Z"
   },
   {
    "duration": 6,
    "start_time": "2021-11-10T20:05:48.392Z"
   },
   {
    "duration": 8,
    "start_time": "2021-11-10T20:05:48.430Z"
   },
   {
    "duration": 16,
    "start_time": "2021-11-10T20:05:48.441Z"
   },
   {
    "duration": 6,
    "start_time": "2021-11-10T20:05:48.460Z"
   },
   {
    "duration": 11,
    "start_time": "2021-11-10T20:05:48.468Z"
   },
   {
    "duration": 15,
    "start_time": "2021-11-10T20:05:48.482Z"
   },
   {
    "duration": 36,
    "start_time": "2021-11-10T20:05:48.499Z"
   },
   {
    "duration": 11,
    "start_time": "2021-11-10T20:05:48.538Z"
   },
   {
    "duration": 32,
    "start_time": "2021-11-10T20:05:48.551Z"
   },
   {
    "duration": 16,
    "start_time": "2021-11-10T20:05:48.586Z"
   },
   {
    "duration": 28,
    "start_time": "2021-11-10T20:05:48.604Z"
   },
   {
    "duration": 9,
    "start_time": "2021-11-10T20:05:48.636Z"
   },
   {
    "duration": 6,
    "start_time": "2021-11-10T20:05:48.648Z"
   },
   {
    "duration": 12,
    "start_time": "2021-11-10T20:05:48.656Z"
   }
  ],
  "kernelspec": {
   "display_name": "Python 3 (ipykernel)",
   "language": "python",
   "name": "python3"
  },
  "language_info": {
   "codemirror_mode": {
    "name": "ipython",
    "version": 3
   },
   "file_extension": ".py",
   "mimetype": "text/x-python",
   "name": "python",
   "nbconvert_exporter": "python",
   "pygments_lexer": "ipython3",
   "version": "3.9.7"
  },
  "toc": {
   "base_numbering": 1,
   "nav_menu": {},
   "number_sections": true,
   "sideBar": true,
   "skip_h1_title": true,
   "title_cell": "Содержание",
   "title_sidebar": "Contents",
   "toc_cell": true,
   "toc_position": {},
   "toc_section_display": true,
   "toc_window_display": false
  }
 },
 "nbformat": 4,
 "nbformat_minor": 2
}
