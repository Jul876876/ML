{
  "nbformat": 4,
  "nbformat_minor": 0,
  "metadata": {
    "colab": {
      "name": "Leetcode_20. Valid_Parentheses.ipynb",
      "provenance": [],
      "authorship_tag": "ABX9TyNk3zzR31eFHWEG49JbIdm/",
      "include_colab_link": true
    },
    "kernelspec": {
      "name": "python3",
      "display_name": "Python 3"
    },
    "language_info": {
      "name": "python"
    }
  },
  "cells": [
    {
      "cell_type": "markdown",
      "metadata": {
        "id": "view-in-github",
        "colab_type": "text"
      },
      "source": [
        "<a href=\"https://colab.research.google.com/github/proj343/ML/blob/main/Leetcode_20_Valid_Parentheses.ipynb\" target=\"_parent\"><img src=\"https://colab.research.google.com/assets/colab-badge.svg\" alt=\"Open In Colab\"/></a>"
      ]
    },
    {
      "cell_type": "code",
      "execution_count": 18,
      "metadata": {
        "id": "MDOO1TrEa4BU"
      },
      "outputs": [],
      "source": [
        "    def isValid(s):\n",
        "        mapping = {\")\": \"(\", \"}\": \"{\", \"]\": \"[\"}\n",
        "        stack = []\n",
        "        for char in s:\n",
        "            if char in mapping.keys():\n",
        "                top_elem = stack.pop() if stack else '#'\n",
        "             \n",
        "                if mapping[char] != top_elem:\n",
        "                    return False\n",
        "                \n",
        "            else:\n",
        "                stack.append(char)\n",
        "        return not stack        \n",
        "        "
      ]
    },
    {
      "cell_type": "code",
      "source": [
        "\n",
        "isValid(\"())\")"
      ],
      "metadata": {
        "colab": {
          "base_uri": "https://localhost:8080/"
        },
        "id": "CPs2_wGwa49-",
        "outputId": "78aa0f42-88d8-46a6-9daa-e4ebf243dff5"
      },
      "execution_count": 19,
      "outputs": [
        {
          "output_type": "execute_result",
          "data": {
            "text/plain": [
              "False"
            ]
          },
          "metadata": {},
          "execution_count": 19
        }
      ]
    },
    {
      "cell_type": "code",
      "source": [
        ""
      ],
      "metadata": {
        "id": "GsQ4U9SXbFjU"
      },
      "execution_count": null,
      "outputs": []
    }
  ]
}