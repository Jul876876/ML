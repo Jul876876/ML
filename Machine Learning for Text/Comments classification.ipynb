{
 "cells": [
  {
   "cell_type": "markdown",
   "metadata": {
    "toc": true
   },
   "source": [
    "<h1>Contents<span class=\"tocSkip\"></span></h1>\n",
    "<div class=\"toc\"><ul class=\"toc-item\"><li><span><a href=\"#Data-Preparation\" data-toc-modified-id=\"Data-Preparation-1\"><span class=\"toc-item-num\">1&nbsp;&nbsp;</span>Data Preparation</a></span></li><li><span><a href=\"#Model-Training\" data-toc-modified-id=\"Model-Training-2\"><span class=\"toc-item-num\">2&nbsp;&nbsp;</span>Model Training</a></span></li><li><span><a href=\"#Conclusion\" data-toc-modified-id=\"Conclusion-3\"><span class=\"toc-item-num\">3&nbsp;&nbsp;</span>Conclusion</a></span>"
   ]
  },
  {
   "cell_type": "markdown",
   "metadata": {},
   "source": [
    "# Comments classification"
   ]
  },
  {
   "cell_type": "markdown",
   "metadata": {},
   "source": [
    "Goal: Develop machine learning model for user’s feedback classification to positive and negative comments. F1 score > 0.75 is required."
   ]
  },
  {
   "cell_type": "markdown",
   "metadata": {},
   "source": [
    "## Data Preparation"
   ]
  },
  {
   "cell_type": "markdown",
   "metadata": {},
   "source": [
    "Import necessary libraries and packages"
   ]
  },
  {
   "cell_type": "code",
   "execution_count": 1,
   "metadata": {},
   "outputs": [
    {
     "name": "stderr",
     "output_type": "stream",
     "text": [
      "[nltk_data] Downloading package stopwords to\n",
      "[nltk_data]     C:\\Users\\HP\\AppData\\Roaming\\nltk_data...\n",
      "[nltk_data]   Package stopwords is already up-to-date!\n"
     ]
    },
    {
     "name": "stdout",
     "output_type": "stream",
     "text": [
      "Requirement already satisfied: lightgbm in c:\\users\\hp\\anaconda3\\lib\\site-packages (3.3.1)\n",
      "Requirement already satisfied: numpy in c:\\users\\hp\\anaconda3\\lib\\site-packages (from lightgbm) (1.20.3)\n",
      "Requirement already satisfied: scikit-learn!=0.22.0 in c:\\users\\hp\\anaconda3\\lib\\site-packages (from lightgbm) (0.24.2)\n",
      "Requirement already satisfied: wheel in c:\\users\\hp\\anaconda3\\lib\\site-packages (from lightgbm) (0.37.0)\n",
      "Requirement already satisfied: scipy in c:\\users\\hp\\anaconda3\\lib\\site-packages (from lightgbm) (1.7.1)\n",
      "Requirement already satisfied: joblib>=0.11 in c:\\users\\hp\\anaconda3\\lib\\site-packages (from scikit-learn!=0.22.0->lightgbm) (1.1.0)\n",
      "Requirement already satisfied: threadpoolctl>=2.0.0 in c:\\users\\hp\\anaconda3\\lib\\site-packages (from scikit-learn!=0.22.0->lightgbm) (2.2.0)\n"
     ]
    },
    {
     "name": "stderr",
     "output_type": "stream",
     "text": [
      "[nltk_data] Downloading package punkt to\n",
      "[nltk_data]     C:\\Users\\HP\\AppData\\Roaming\\nltk_data...\n",
      "[nltk_data]   Package punkt is already up-to-date!\n",
      "[nltk_data] Downloading package wordnet to\n",
      "[nltk_data]     C:\\Users\\HP\\AppData\\Roaming\\nltk_data...\n",
      "[nltk_data]   Package wordnet is already up-to-date!\n"
     ]
    }
   ],
   "source": [
    "import pandas as pd\n",
    "import numpy as np\n",
    "from nltk.stem import WordNetLemmatizer\n",
    "import re \n",
    "from sklearn.feature_extraction.text import CountVectorizer \n",
    "import nltk\n",
    "nltk.download('stopwords') \n",
    "from nltk.corpus import stopwords\n",
    "from sklearn.feature_extraction.text import TfidfVectorizer \n",
    "from sklearn.model_selection import train_test_split\n",
    "from sklearn.linear_model import LogisticRegression\n",
    "from sklearn.ensemble import RandomForestClassifier\n",
    "from sklearn.metrics import f1_score\n",
    "from sklearn.linear_model import SGDClassifier\n",
    "!pip install lightgbm\n",
    "nltk.download('punkt')\n",
    "nltk.download('wordnet')\n",
    "import warnings\n",
    "warnings.filterwarnings(\"ignore\")\n",
    "from sklearn.pipeline import Pipeline\n",
    "from sklearn.model_selection import GridSearchCV"
   ]
  },
  {
   "cell_type": "markdown",
   "metadata": {},
   "source": [
    "Data upload"
   ]
  },
  {
   "cell_type": "code",
   "execution_count": 3,
   "metadata": {},
   "outputs": [],
   "source": [
    "df = pd.read_csv(r'C:\\Users\\HP\\Downloads\\toxic_comments.csv')"
   ]
  },
  {
   "cell_type": "markdown",
   "metadata": {},
   "source": [
    "Data review"
   ]
  },
  {
   "cell_type": "code",
   "execution_count": 4,
   "metadata": {},
   "outputs": [
    {
     "data": {
      "text/html": [
       "<div>\n",
       "<style scoped>\n",
       "    .dataframe tbody tr th:only-of-type {\n",
       "        vertical-align: middle;\n",
       "    }\n",
       "\n",
       "    .dataframe tbody tr th {\n",
       "        vertical-align: top;\n",
       "    }\n",
       "\n",
       "    .dataframe thead th {\n",
       "        text-align: right;\n",
       "    }\n",
       "</style>\n",
       "<table border=\"1\" class=\"dataframe\">\n",
       "  <thead>\n",
       "    <tr style=\"text-align: right;\">\n",
       "      <th></th>\n",
       "      <th>text</th>\n",
       "      <th>toxic</th>\n",
       "    </tr>\n",
       "  </thead>\n",
       "  <tbody>\n",
       "    <tr>\n",
       "      <th>0</th>\n",
       "      <td>Explanation\\nWhy the edits made under my usern...</td>\n",
       "      <td>0</td>\n",
       "    </tr>\n",
       "    <tr>\n",
       "      <th>1</th>\n",
       "      <td>D'aww! He matches this background colour I'm s...</td>\n",
       "      <td>0</td>\n",
       "    </tr>\n",
       "    <tr>\n",
       "      <th>2</th>\n",
       "      <td>Hey man, I'm really not trying to edit war. It...</td>\n",
       "      <td>0</td>\n",
       "    </tr>\n",
       "    <tr>\n",
       "      <th>3</th>\n",
       "      <td>\"\\nMore\\nI can't make any real suggestions on ...</td>\n",
       "      <td>0</td>\n",
       "    </tr>\n",
       "    <tr>\n",
       "      <th>4</th>\n",
       "      <td>You, sir, are my hero. Any chance you remember...</td>\n",
       "      <td>0</td>\n",
       "    </tr>\n",
       "  </tbody>\n",
       "</table>\n",
       "</div>"
      ],
      "text/plain": [
       "                                                text  toxic\n",
       "0  Explanation\\nWhy the edits made under my usern...      0\n",
       "1  D'aww! He matches this background colour I'm s...      0\n",
       "2  Hey man, I'm really not trying to edit war. It...      0\n",
       "3  \"\\nMore\\nI can't make any real suggestions on ...      0\n",
       "4  You, sir, are my hero. Any chance you remember...      0"
      ]
     },
     "execution_count": 4,
     "metadata": {},
     "output_type": "execute_result"
    }
   ],
   "source": [
    "df.head()"
   ]
  },
  {
   "cell_type": "code",
   "execution_count": 5,
   "metadata": {},
   "outputs": [
    {
     "data": {
      "text/plain": [
       "(159571, 2)"
      ]
     },
     "execution_count": 5,
     "metadata": {},
     "output_type": "execute_result"
    }
   ],
   "source": [
    "df.shape"
   ]
  },
  {
   "cell_type": "code",
   "execution_count": 6,
   "metadata": {},
   "outputs": [],
   "source": [
    "corpus = df['text']"
   ]
  },
  {
   "cell_type": "code",
   "execution_count": 7,
   "metadata": {},
   "outputs": [
    {
     "data": {
      "text/plain": [
       "pandas.core.series.Series"
      ]
     },
     "execution_count": 7,
     "metadata": {},
     "output_type": "execute_result"
    }
   ],
   "source": [
    "type(corpus)"
   ]
  },
  {
   "cell_type": "markdown",
   "metadata": {},
   "source": [
    "Create function for text cleaning. "
   ]
  },
  {
   "cell_type": "code",
   "execution_count": 8,
   "metadata": {},
   "outputs": [],
   "source": [
    "def clear_text(text):\n",
    "    text = text.lower()\n",
    "    text = re.sub(r'[^a-zA-Z_]', ' ', text)\n",
    "    text = text.split() \n",
    "    text = \" \".join(text)\n",
    "    return text"
   ]
  },
  {
   "cell_type": "code",
   "execution_count": 9,
   "metadata": {},
   "outputs": [],
   "source": [
    "for x in range(len(corpus)):\n",
    "    corpus[x] = clear_text(corpus[x]) "
   ]
  },
  {
   "cell_type": "code",
   "execution_count": 10,
   "metadata": {},
   "outputs": [
    {
     "data": {
      "text/plain": [
       "0         explanation why the edits made under my userna...\n",
       "1         d aww he matches this background colour i m se...\n",
       "2         hey man i m really not trying to edit war it s...\n",
       "3         more i can t make any real suggestions on impr...\n",
       "4         you sir are my hero any chance you remember wh...\n",
       "                                ...                        \n",
       "159566    and for the second time of asking when your vi...\n",
       "159567    you should be ashamed of yourself that is a ho...\n",
       "159568    spitzer umm theres no actual article for prost...\n",
       "159569    and it looks like it was actually you who put ...\n",
       "159570    and i really don t think you understand i came...\n",
       "Name: text, Length: 159571, dtype: object"
      ]
     },
     "execution_count": 10,
     "metadata": {},
     "output_type": "execute_result"
    }
   ],
   "source": [
    "corpus"
   ]
  },
  {
   "cell_type": "markdown",
   "metadata": {},
   "source": [
    "Tokenization and lemmatization"
   ]
  },
  {
   "cell_type": "code",
   "execution_count": 11,
   "metadata": {},
   "outputs": [],
   "source": [
    "def lemm(text):\n",
    "    lemmatizer = WordNetLemmatizer()\n",
    "    word_list = nltk.word_tokenize(text)\n",
    "    #corpus = [ lemmatize(i) for i in corpus]\n",
    "    lemmatized_output = ' '.join([lemmatizer.lemmatize(w) for w in word_list])\n",
    "    \n",
    "    return lemmatized_output"
   ]
  },
  {
   "cell_type": "code",
   "execution_count": 12,
   "metadata": {},
   "outputs": [],
   "source": [
    "corpus_lemma = []\n",
    "for el in corpus:\n",
    "    corpus_lemma.append(lemm(el))"
   ]
  },
  {
   "cell_type": "code",
   "execution_count": 13,
   "metadata": {},
   "outputs": [
    {
     "name": "stdout",
     "output_type": "stream",
     "text": [
      "Original text: d aww he matches this background colour i m seemingly stuck with thanks talk january utc\n",
      "Lemmatized text: d aww he match this background colour i m seemingly stuck with thanks talk january utc\n"
     ]
    }
   ],
   "source": [
    "print(\"Original text:\", corpus[1])\n",
    "print(\"Lemmatized text:\", corpus_lemma[1])"
   ]
  },
  {
   "cell_type": "markdown",
   "metadata": {},
   "source": [
    "Calculate tf_idf"
   ]
  },
  {
   "cell_type": "markdown",
   "metadata": {},
   "source": [
    "Make data ready for training and testing"
   ]
  },
  {
   "cell_type": "code",
   "execution_count": 14,
   "metadata": {},
   "outputs": [],
   "source": [
    "target = df['toxic']\n",
    "X_train, X_test, y_train, y_test = train_test_split(corpus_lemma, target, test_size=0.1, random_state=17)\n",
    "tfidfvectorizer = TfidfVectorizer(analyzer='word' , stop_words='english',)\n",
    "tfidfvectorizer.fit(X_train)\n",
    "tfidf_train = tfidfvectorizer.transform(X_train)\n",
    "tfidf_test = tfidfvectorizer.transform(X_test)"
   ]
  },
  {
   "cell_type": "markdown",
   "metadata": {},
   "source": [
    "## Model Training"
   ]
  },
  {
   "cell_type": "markdown",
   "metadata": {},
   "source": [
    "_Logistic Regression model_"
   ]
  },
  {
   "cell_type": "code",
   "execution_count": 15,
   "metadata": {},
   "outputs": [],
   "source": [
    "model = LogisticRegression()"
   ]
  },
  {
   "cell_type": "code",
   "execution_count": 16,
   "metadata": {},
   "outputs": [
    {
     "data": {
      "text/plain": [
       "LogisticRegression()"
      ]
     },
     "execution_count": 16,
     "metadata": {},
     "output_type": "execute_result"
    }
   ],
   "source": [
    "model.fit(tfidf_train, y_train)"
   ]
  },
  {
   "cell_type": "code",
   "execution_count": 17,
   "metadata": {},
   "outputs": [],
   "source": [
    "predictions = model.predict(tfidf_test)"
   ]
  },
  {
   "cell_type": "code",
   "execution_count": 18,
   "metadata": {},
   "outputs": [
    {
     "data": {
      "text/plain": [
       "array([0, 0, 0, ..., 0, 0, 0], dtype=int64)"
      ]
     },
     "execution_count": 18,
     "metadata": {},
     "output_type": "execute_result"
    }
   ],
   "source": [
    "predictions"
   ]
  },
  {
   "cell_type": "code",
   "execution_count": 19,
   "metadata": {},
   "outputs": [
    {
     "name": "stdout",
     "output_type": "stream",
     "text": [
      "0.74\n"
     ]
    }
   ],
   "source": [
    "print(\"{:.2f}\".format(f1_score(y_test, predictions)))"
   ]
  },
  {
   "cell_type": "markdown",
   "metadata": {},
   "source": [
    "Logistic Regression did not show required f1-score.  "
   ]
  },
  {
   "cell_type": "markdown",
   "metadata": {},
   "source": [
    "_SGDClassifier model_"
   ]
  },
  {
   "cell_type": "code",
   "execution_count": 20,
   "metadata": {},
   "outputs": [],
   "source": [
    "model_2 = SGDClassifier(max_iter=1000)"
   ]
  },
  {
   "cell_type": "code",
   "execution_count": 21,
   "metadata": {},
   "outputs": [
    {
     "data": {
      "text/plain": [
       "SGDClassifier()"
      ]
     },
     "execution_count": 21,
     "metadata": {},
     "output_type": "execute_result"
    }
   ],
   "source": [
    "model_2.fit(tfidf_train, y_train)"
   ]
  },
  {
   "cell_type": "code",
   "execution_count": 22,
   "metadata": {},
   "outputs": [],
   "source": [
    "predictions_SGD = model_2.predict(tfidf_test)"
   ]
  },
  {
   "cell_type": "code",
   "execution_count": 23,
   "metadata": {},
   "outputs": [
    {
     "data": {
      "text/plain": [
       "0.6341263330598851"
      ]
     },
     "execution_count": 23,
     "metadata": {},
     "output_type": "execute_result"
    }
   ],
   "source": [
    "f1_score(y_test, predictions_SGD)"
   ]
  },
  {
   "cell_type": "markdown",
   "metadata": {},
   "source": [
    "_RandomForestClassifier_"
   ]
  },
  {
   "cell_type": "code",
   "execution_count": 24,
   "metadata": {},
   "outputs": [],
   "source": [
    "clf = RandomForestClassifier(random_state=42, n_jobs=-1)"
   ]
  },
  {
   "cell_type": "code",
   "execution_count": 25,
   "metadata": {},
   "outputs": [
    {
     "data": {
      "text/plain": [
       "RandomForestClassifier(n_jobs=-1, random_state=42)"
      ]
     },
     "execution_count": 25,
     "metadata": {},
     "output_type": "execute_result"
    }
   ],
   "source": [
    "clf.fit(tfidf_train, y_train)"
   ]
  },
  {
   "cell_type": "code",
   "execution_count": 26,
   "metadata": {},
   "outputs": [],
   "source": [
    "predictions_clf = clf.predict(tfidf_test)"
   ]
  },
  {
   "cell_type": "code",
   "execution_count": 27,
   "metadata": {},
   "outputs": [
    {
     "data": {
      "text/plain": [
       "0.7188208616780045"
      ]
     },
     "execution_count": 27,
     "metadata": {},
     "output_type": "execute_result"
    }
   ],
   "source": [
    "f1_score(y_test, predictions_clf)"
   ]
  },
  {
   "cell_type": "markdown",
   "metadata": {},
   "source": [
    "SGDClassifier and RandomForestClassifier with standard hyperparameters did now show required f1-score. Logistic Regression shows the best performance which can be improved using regularization."
   ]
  },
  {
   "cell_type": "code",
   "execution_count": 28,
   "metadata": {},
   "outputs": [],
   "source": [
    "model_log_reg_2 = LogisticRegression(penalty='l2', C=10, max_iter=1000, random_state=42, n_jobs=-1)"
   ]
  },
  {
   "cell_type": "code",
   "execution_count": 29,
   "metadata": {},
   "outputs": [
    {
     "data": {
      "text/plain": [
       "LogisticRegression(C=10, max_iter=1000, n_jobs=-1, random_state=42)"
      ]
     },
     "execution_count": 29,
     "metadata": {},
     "output_type": "execute_result"
    }
   ],
   "source": [
    "model_log_reg_2.fit(tfidf_train, y_train)"
   ]
  },
  {
   "cell_type": "code",
   "execution_count": 30,
   "metadata": {},
   "outputs": [],
   "source": [
    "predictions_log_reg_2 = model_log_reg_2.predict(tfidf_test)"
   ]
  },
  {
   "cell_type": "code",
   "execution_count": 31,
   "metadata": {},
   "outputs": [
    {
     "data": {
      "text/plain": [
       "0.7770177838577291"
      ]
     },
     "execution_count": 31,
     "metadata": {},
     "output_type": "execute_result"
    }
   ],
   "source": [
    "f1_score(y_test, predictions_log_reg_2)"
   ]
  },
  {
   "cell_type": "markdown",
   "metadata": {},
   "source": [
    "Add cross-validation for hyperparameters tuning"
   ]
  },
  {
   "cell_type": "code",
   "execution_count": 32,
   "metadata": {},
   "outputs": [
    {
     "data": {
      "text/plain": [
       "GridSearchCV(estimator=LogisticRegression(),\n",
       "             param_grid={'C': [0.001, 0.01, 0.1, 1, 10, 100, 1000]})"
      ]
     },
     "execution_count": 32,
     "metadata": {},
     "output_type": "execute_result"
    }
   ],
   "source": [
    "param_grid = {'C': [0.001, 0.01, 0.1, 1, 10, 100, 1000] }\n",
    "reg_with_cv = GridSearchCV(LogisticRegression(penalty='l2'), param_grid)\n",
    "reg_with_cv"
   ]
  },
  {
   "cell_type": "code",
   "execution_count": 33,
   "metadata": {},
   "outputs": [
    {
     "data": {
      "text/plain": [
       "GridSearchCV(estimator=LogisticRegression(),\n",
       "             param_grid={'C': [0.001, 0.01, 0.1, 1, 10, 100, 1000]})"
      ]
     },
     "execution_count": 33,
     "metadata": {},
     "output_type": "execute_result"
    }
   ],
   "source": [
    "reg_with_cv.fit(tfidf_train, y_train)"
   ]
  },
  {
   "cell_type": "code",
   "execution_count": 34,
   "metadata": {},
   "outputs": [],
   "source": [
    "reg_with_cv_predictions = reg_with_cv.predict(tfidf_test)"
   ]
  },
  {
   "cell_type": "code",
   "execution_count": 35,
   "metadata": {},
   "outputs": [
    {
     "data": {
      "text/plain": [
       "0.7773610637572452"
      ]
     },
     "execution_count": 35,
     "metadata": {},
     "output_type": "execute_result"
    }
   ],
   "source": [
    "f1_score(y_test, reg_with_cv_predictions)"
   ]
  },
  {
   "cell_type": "code",
   "execution_count": 36,
   "metadata": {},
   "outputs": [
    {
     "data": {
      "text/plain": [
       "{'C': 10}"
      ]
     },
     "execution_count": 36,
     "metadata": {},
     "output_type": "execute_result"
    }
   ],
   "source": [
    "reg_with_cv.best_params_"
   ]
  },
  {
   "cell_type": "markdown",
   "metadata": {},
   "source": [
    "## Conclusion"
   ]
  },
  {
   "cell_type": "markdown",
   "metadata": {},
   "source": [
    "The text was prepared, the models were trained and evaluated with F1-score metric. The best result was shown by Logistic Regression with ridge regularization and regularization coefficient C=10."
   ]
  }
 ],
 "metadata": {
  "ExecuteTimeLog": [
   {
    "duration": 1027,
    "start_time": "2021-11-29T14:34:53.929Z"
   },
   {
    "duration": 820,
    "start_time": "2021-11-29T14:36:00.208Z"
   },
   {
    "duration": 19,
    "start_time": "2021-11-29T14:36:05.080Z"
   },
   {
    "duration": 809,
    "start_time": "2021-11-29T14:37:15.565Z"
   },
   {
    "duration": 4,
    "start_time": "2021-11-29T14:38:56.132Z"
   },
   {
    "duration": 594,
    "start_time": "2021-11-29T14:39:18.108Z"
   },
   {
    "duration": 315,
    "start_time": "2021-11-29T14:39:20.340Z"
   },
   {
    "duration": 3109,
    "start_time": "2021-11-29T14:39:24.991Z"
   },
   {
    "duration": 2138,
    "start_time": "2021-11-29T14:39:29.907Z"
   },
   {
    "duration": 5,
    "start_time": "2021-11-29T14:39:39.071Z"
   },
   {
    "duration": 814,
    "start_time": "2021-11-29T14:40:06.122Z"
   },
   {
    "duration": 688,
    "start_time": "2021-11-29T14:40:21.717Z"
   },
   {
    "duration": 4,
    "start_time": "2021-11-29T14:40:33.768Z"
   },
   {
    "duration": 5,
    "start_time": "2021-11-29T14:40:34.877Z"
   },
   {
    "duration": 317,
    "start_time": "2021-11-29T14:40:40.410Z"
   },
   {
    "duration": 3,
    "start_time": "2021-11-29T14:41:14.284Z"
   },
   {
    "duration": 5,
    "start_time": "2021-11-29T14:41:35.012Z"
   },
   {
    "duration": 104,
    "start_time": "2021-11-29T14:41:58.773Z"
   },
   {
    "duration": 5,
    "start_time": "2021-11-29T14:42:02.803Z"
   },
   {
    "duration": 5,
    "start_time": "2021-11-29T14:42:06.599Z"
   },
   {
    "duration": 5,
    "start_time": "2021-11-29T14:42:10.008Z"
   },
   {
    "duration": 5,
    "start_time": "2021-11-29T14:42:36.533Z"
   },
   {
    "duration": 378,
    "start_time": "2021-11-29T14:42:53.245Z"
   },
   {
    "duration": 9418,
    "start_time": "2021-11-29T14:42:57.268Z"
   },
   {
    "duration": 8262,
    "start_time": "2021-11-29T14:43:20.025Z"
   },
   {
    "duration": 6,
    "start_time": "2021-11-29T14:43:41.869Z"
   },
   {
    "duration": 225,
    "start_time": "2021-11-29T14:43:42.700Z"
   },
   {
    "duration": 861,
    "start_time": "2021-11-29T14:43:44.368Z"
   },
   {
    "duration": 1646,
    "start_time": "2021-11-29T14:44:05.693Z"
   },
   {
    "duration": 789,
    "start_time": "2021-11-29T14:44:07.341Z"
   },
   {
    "duration": 19,
    "start_time": "2021-11-29T14:44:08.133Z"
   },
   {
    "duration": 2881,
    "start_time": "2021-11-29T14:44:08.155Z"
   },
   {
    "duration": 25,
    "start_time": "2021-11-29T14:44:11.039Z"
   },
   {
    "duration": 6,
    "start_time": "2021-11-29T14:44:11.067Z"
   },
   {
    "duration": 2188,
    "start_time": "2021-11-29T14:44:11.076Z"
   },
   {
    "duration": 241,
    "start_time": "2021-11-29T14:44:13.266Z"
   },
   {
    "duration": 1028,
    "start_time": "2021-11-29T14:44:13.510Z"
   },
   {
    "duration": 1783,
    "start_time": "2021-11-29T14:44:42.478Z"
   },
   {
    "duration": 801,
    "start_time": "2021-11-29T14:44:44.263Z"
   },
   {
    "duration": 28,
    "start_time": "2021-11-29T14:44:45.067Z"
   },
   {
    "duration": 3304,
    "start_time": "2021-11-29T14:44:45.098Z"
   },
   {
    "duration": 8,
    "start_time": "2021-11-29T14:44:49.935Z"
   },
   {
    "duration": 4,
    "start_time": "2021-11-29T14:46:14.138Z"
   },
   {
    "duration": 5,
    "start_time": "2021-11-29T14:46:17.495Z"
   },
   {
    "duration": 2066,
    "start_time": "2021-11-29T14:46:19.667Z"
   },
   {
    "duration": 19,
    "start_time": "2021-11-29T14:46:24.223Z"
   },
   {
    "duration": 23,
    "start_time": "2021-11-29T14:46:33.780Z"
   },
   {
    "duration": 341,
    "start_time": "2021-11-29T14:47:59.790Z"
   },
   {
    "duration": 4,
    "start_time": "2021-11-29T14:50:35.430Z"
   },
   {
    "duration": 8,
    "start_time": "2021-11-29T14:50:36.775Z"
   },
   {
    "duration": 21,
    "start_time": "2021-11-29T14:50:38.086Z"
   },
   {
    "duration": 21,
    "start_time": "2021-11-29T14:50:39.195Z"
   },
   {
    "duration": 1708,
    "start_time": "2021-11-29T14:50:51.388Z"
   },
   {
    "duration": 779,
    "start_time": "2021-11-29T14:50:53.099Z"
   },
   {
    "duration": 12,
    "start_time": "2021-11-29T14:50:53.882Z"
   },
   {
    "duration": 2959,
    "start_time": "2021-11-29T14:50:53.897Z"
   },
   {
    "duration": 9,
    "start_time": "2021-11-29T14:50:56.859Z"
   },
   {
    "duration": 4,
    "start_time": "2021-11-29T14:50:56.883Z"
   },
   {
    "duration": 7,
    "start_time": "2021-11-29T14:50:56.889Z"
   },
   {
    "duration": 2187,
    "start_time": "2021-11-29T14:50:56.898Z"
   },
   {
    "duration": 24,
    "start_time": "2021-11-29T14:50:59.089Z"
   },
   {
    "duration": 33,
    "start_time": "2021-11-29T14:50:59.117Z"
   },
   {
    "duration": 8930,
    "start_time": "2021-11-29T14:50:59.153Z"
   },
   {
    "duration": 6975,
    "start_time": "2021-11-29T14:51:08.086Z"
   },
   {
    "duration": 8828,
    "start_time": "2021-11-29T14:51:45.961Z"
   },
   {
    "duration": 319,
    "start_time": "2021-11-29T14:53:39.281Z"
   },
   {
    "duration": 6,
    "start_time": "2021-11-29T14:53:59.483Z"
   },
   {
    "duration": 5656,
    "start_time": "2021-11-29T14:54:07.207Z"
   },
   {
    "duration": 8486,
    "start_time": "2021-11-29T14:54:20.465Z"
   },
   {
    "duration": 8500,
    "start_time": "2021-11-29T14:55:10.951Z"
   },
   {
    "duration": 7,
    "start_time": "2021-11-29T14:56:42.140Z"
   },
   {
    "duration": 396,
    "start_time": "2021-11-29T14:57:13.156Z"
   },
   {
    "duration": 10002,
    "start_time": "2021-11-29T14:59:20.763Z"
   },
   {
    "duration": 15350,
    "start_time": "2021-11-29T14:59:30.781Z"
   },
   {
    "duration": 10428,
    "start_time": "2021-11-29T14:59:46.135Z"
   },
   {
    "duration": 6,
    "start_time": "2021-11-29T15:15:51.682Z"
   },
   {
    "duration": 4,
    "start_time": "2021-11-29T15:17:13.659Z"
   },
   {
    "duration": 34,
    "start_time": "2021-11-29T15:17:25.404Z"
   },
   {
    "duration": 7,
    "start_time": "2021-11-29T15:19:09.994Z"
   },
   {
    "duration": 15,
    "start_time": "2021-11-29T15:19:18.973Z"
   },
   {
    "duration": 5,
    "start_time": "2021-11-29T15:20:47.054Z"
   },
   {
    "duration": 605,
    "start_time": "2021-11-29T15:21:07.959Z"
   },
   {
    "duration": 2322,
    "start_time": "2021-11-29T15:21:49.695Z"
   },
   {
    "duration": 1152,
    "start_time": "2021-11-29T15:21:53.337Z"
   },
   {
    "duration": 27,
    "start_time": "2021-11-29T15:21:54.492Z"
   },
   {
    "duration": 4,
    "start_time": "2021-11-29T15:22:22.860Z"
   },
   {
    "duration": 3104,
    "start_time": "2021-11-29T15:22:23.917Z"
   },
   {
    "duration": 15,
    "start_time": "2021-11-29T15:22:34.325Z"
   },
   {
    "duration": 668,
    "start_time": "2021-11-29T15:22:45.924Z"
   },
   {
    "duration": 3178,
    "start_time": "2021-11-29T15:24:24.964Z"
   },
   {
    "duration": 6,
    "start_time": "2021-11-29T15:24:29.921Z"
   },
   {
    "duration": 786,
    "start_time": "2021-11-29T15:24:48.113Z"
   },
   {
    "duration": 6,
    "start_time": "2021-11-29T15:25:04.703Z"
   },
   {
    "duration": 5,
    "start_time": "2021-11-29T15:25:41.440Z"
   },
   {
    "duration": 334,
    "start_time": "2021-11-29T15:26:36.673Z"
   },
   {
    "duration": 331,
    "start_time": "2021-11-29T15:26:48.746Z"
   },
   {
    "duration": 398,
    "start_time": "2021-11-29T15:28:40.989Z"
   },
   {
    "duration": 1777,
    "start_time": "2021-11-29T15:28:51.051Z"
   },
   {
    "duration": 799,
    "start_time": "2021-11-29T15:28:52.830Z"
   },
   {
    "duration": 2883,
    "start_time": "2021-11-29T15:28:55.550Z"
   },
   {
    "duration": 19,
    "start_time": "2021-11-29T15:28:58.436Z"
   },
   {
    "duration": 6,
    "start_time": "2021-11-29T15:29:04.896Z"
   },
   {
    "duration": 4,
    "start_time": "2021-11-29T15:30:03.198Z"
   },
   {
    "duration": 2887,
    "start_time": "2021-11-29T15:30:07.663Z"
   },
   {
    "duration": 5,
    "start_time": "2021-11-29T15:37:43.882Z"
   },
   {
    "duration": 624,
    "start_time": "2021-11-29T15:37:49.701Z"
   },
   {
    "duration": 9,
    "start_time": "2021-11-29T15:38:01.829Z"
   },
   {
    "duration": 647,
    "start_time": "2021-11-29T15:38:06.945Z"
   },
   {
    "duration": 4,
    "start_time": "2021-11-29T15:38:18.192Z"
   },
   {
    "duration": 4,
    "start_time": "2021-11-29T15:38:19.781Z"
   },
   {
    "duration": 1975,
    "start_time": "2021-11-29T15:38:40.627Z"
   },
   {
    "duration": 794,
    "start_time": "2021-11-29T15:38:42.605Z"
   },
   {
    "duration": 20,
    "start_time": "2021-11-29T15:38:43.402Z"
   },
   {
    "duration": 2882,
    "start_time": "2021-11-29T15:38:43.424Z"
   },
   {
    "duration": 11,
    "start_time": "2021-11-29T15:38:46.309Z"
   },
   {
    "duration": 5,
    "start_time": "2021-11-29T15:38:48.367Z"
   },
   {
    "duration": 2856,
    "start_time": "2021-11-29T15:38:50.843Z"
   },
   {
    "duration": 7,
    "start_time": "2021-11-29T15:40:14.249Z"
   },
   {
    "duration": 6,
    "start_time": "2021-11-29T15:43:22.803Z"
   },
   {
    "duration": 3685,
    "start_time": "2021-11-29T15:43:27.477Z"
   },
   {
    "duration": 6,
    "start_time": "2021-11-29T15:43:41.769Z"
   },
   {
    "duration": 1844,
    "start_time": "2021-11-29T15:44:16.372Z"
   },
   {
    "duration": 864,
    "start_time": "2021-11-29T15:44:18.219Z"
   },
   {
    "duration": 21,
    "start_time": "2021-11-29T15:44:19.085Z"
   },
   {
    "duration": 3551,
    "start_time": "2021-11-29T15:44:19.110Z"
   },
   {
    "duration": 19,
    "start_time": "2021-11-29T15:44:22.664Z"
   },
   {
    "duration": 7,
    "start_time": "2021-11-29T15:44:22.686Z"
   },
   {
    "duration": 5,
    "start_time": "2021-11-29T15:44:22.696Z"
   },
   {
    "duration": 16,
    "start_time": "2021-11-29T15:44:22.705Z"
   },
   {
    "duration": 8467,
    "start_time": "2021-11-29T15:44:22.724Z"
   },
   {
    "duration": 7,
    "start_time": "2021-11-29T15:44:31.194Z"
   },
   {
    "duration": 6,
    "start_time": "2021-11-29T15:45:44.719Z"
   },
   {
    "duration": 8683,
    "start_time": "2021-11-29T15:46:15.201Z"
   },
   {
    "duration": 5,
    "start_time": "2021-11-29T15:46:23.886Z"
   },
   {
    "duration": 12,
    "start_time": "2021-11-29T15:48:41.476Z"
   },
   {
    "duration": 36,
    "start_time": "2021-11-29T15:48:48.303Z"
   },
   {
    "duration": 5,
    "start_time": "2021-11-29T15:49:08.715Z"
   },
   {
    "duration": 469,
    "start_time": "2021-11-29T15:49:10.225Z"
   },
   {
    "duration": 31,
    "start_time": "2021-11-29T15:49:16.094Z"
   },
   {
    "duration": 826,
    "start_time": "2021-11-29T15:49:20.075Z"
   },
   {
    "duration": 33,
    "start_time": "2021-11-29T15:49:26.126Z"
   },
   {
    "duration": 11,
    "start_time": "2021-11-29T15:49:33.006Z"
   },
   {
    "duration": 4,
    "start_time": "2021-11-29T15:49:39.260Z"
   },
   {
    "duration": 5750,
    "start_time": "2021-11-29T15:49:41.335Z"
   },
   {
    "duration": 32,
    "start_time": "2021-11-29T15:49:48.121Z"
   },
   {
    "duration": 1657,
    "start_time": "2021-11-30T15:50:34.805Z"
   },
   {
    "duration": 565,
    "start_time": "2021-11-30T15:50:36.465Z"
   },
   {
    "duration": 7,
    "start_time": "2021-11-30T15:50:38.929Z"
   },
   {
    "duration": 30,
    "start_time": "2021-11-30T15:50:40.680Z"
   },
   {
    "duration": 3,
    "start_time": "2021-11-30T15:50:50.882Z"
   },
   {
    "duration": 1654,
    "start_time": "2021-11-30T15:50:52.673Z"
   },
   {
    "duration": 30,
    "start_time": "2021-11-30T15:50:54.329Z"
   },
   {
    "duration": 3,
    "start_time": "2021-11-30T15:51:33.579Z"
   },
   {
    "duration": 394,
    "start_time": "2021-11-30T15:51:36.094Z"
   },
   {
    "duration": 22,
    "start_time": "2021-11-30T15:51:37.267Z"
   },
   {
    "duration": 3,
    "start_time": "2021-11-30T15:52:24.728Z"
   },
   {
    "duration": 648,
    "start_time": "2021-11-30T15:52:27.709Z"
   },
   {
    "duration": 572,
    "start_time": "2021-11-30T15:52:45.262Z"
   },
   {
    "duration": 2151,
    "start_time": "2021-12-02T15:40:47.902Z"
   },
   {
    "duration": 832,
    "start_time": "2021-12-02T15:40:50.056Z"
   },
   {
    "duration": 20,
    "start_time": "2021-12-02T15:40:50.890Z"
   },
   {
    "duration": 2938,
    "start_time": "2021-12-02T15:40:50.913Z"
   },
   {
    "duration": 189,
    "start_time": "2021-12-02T15:40:55.557Z"
   },
   {
    "duration": 40,
    "start_time": "2021-12-02T15:40:56.450Z"
   },
   {
    "duration": 6,
    "start_time": "2021-12-02T15:41:02.539Z"
   },
   {
    "duration": 615,
    "start_time": "2021-12-02T15:41:04.738Z"
   },
   {
    "duration": 1682,
    "start_time": "2021-12-02T15:42:43.511Z"
   },
   {
    "duration": 765,
    "start_time": "2021-12-02T15:42:45.196Z"
   },
   {
    "duration": 19,
    "start_time": "2021-12-02T15:42:45.964Z"
   },
   {
    "duration": 2802,
    "start_time": "2021-12-02T15:42:45.986Z"
   },
   {
    "duration": 6,
    "start_time": "2021-12-02T15:42:48.792Z"
   },
   {
    "duration": 11,
    "start_time": "2021-12-02T15:42:48.801Z"
   },
   {
    "duration": 6,
    "start_time": "2021-12-02T15:42:48.814Z"
   },
   {
    "duration": 5,
    "start_time": "2021-12-02T15:42:48.824Z"
   },
   {
    "duration": 36,
    "start_time": "2021-12-02T15:42:48.832Z"
   },
   {
    "duration": 9,
    "start_time": "2021-12-02T15:42:48.871Z"
   },
   {
    "duration": 5,
    "start_time": "2021-12-02T15:42:48.883Z"
   },
   {
    "duration": 7,
    "start_time": "2021-12-02T15:42:48.890Z"
   },
   {
    "duration": 5533,
    "start_time": "2021-12-02T15:42:48.900Z"
   },
   {
    "duration": 6,
    "start_time": "2021-12-02T15:42:54.436Z"
   },
   {
    "duration": 22,
    "start_time": "2021-12-02T15:42:54.445Z"
   },
   {
    "duration": 4,
    "start_time": "2021-12-02T15:43:06.896Z"
   },
   {
    "duration": 8362,
    "start_time": "2021-12-02T15:43:07.158Z"
   },
   {
    "duration": 5,
    "start_time": "2021-12-02T15:43:15.523Z"
   },
   {
    "duration": 113,
    "start_time": "2021-12-02T18:08:46.749Z"
   },
   {
    "duration": 805,
    "start_time": "2021-12-02T18:08:48.237Z"
   },
   {
    "duration": 349,
    "start_time": "2021-12-02T18:08:57.232Z"
   },
   {
    "duration": 1957,
    "start_time": "2021-12-02T18:09:09.648Z"
   },
   {
    "duration": 866,
    "start_time": "2021-12-02T18:09:11.608Z"
   },
   {
    "duration": 2878,
    "start_time": "2021-12-02T18:09:13.840Z"
   },
   {
    "duration": 9,
    "start_time": "2021-12-02T18:09:24.122Z"
   },
   {
    "duration": 4,
    "start_time": "2021-12-02T18:10:11.203Z"
   },
   {
    "duration": 165347,
    "start_time": "2021-12-02T18:10:12.620Z"
   },
   {
    "duration": 16,
    "start_time": "2021-12-02T18:12:57.970Z"
   },
   {
    "duration": 170163,
    "start_time": "2021-12-02T18:13:18.905Z"
   },
   {
    "duration": 12,
    "start_time": "2021-12-02T18:16:35.524Z"
   },
   {
    "duration": 4,
    "start_time": "2021-12-02T18:18:36.226Z"
   },
   {
    "duration": 2086,
    "start_time": "2021-12-02T18:18:36.888Z"
   },
   {
    "duration": 4,
    "start_time": "2021-12-02T18:18:54.866Z"
   },
   {
    "duration": 5,
    "start_time": "2021-12-02T18:18:59.403Z"
   },
   {
    "duration": 3592,
    "start_time": "2021-12-02T18:19:03.453Z"
   },
   {
    "duration": 5,
    "start_time": "2021-12-02T18:19:07.047Z"
   },
   {
    "duration": 435,
    "start_time": "2021-12-02T18:19:36.942Z"
   },
   {
    "duration": 39,
    "start_time": "2021-12-02T18:19:46.397Z"
   },
   {
    "duration": 357,
    "start_time": "2021-12-02T18:19:48.890Z"
   },
   {
    "duration": 1701,
    "start_time": "2021-12-02T18:23:27.613Z"
   },
   {
    "duration": 532,
    "start_time": "2021-12-02T18:23:29.317Z"
   },
   {
    "duration": -234,
    "start_time": "2021-12-02T18:23:30.086Z"
   },
   {
    "duration": -239,
    "start_time": "2021-12-02T18:23:30.093Z"
   },
   {
    "duration": 6,
    "start_time": "2021-12-02T18:23:36.898Z"
   },
   {
    "duration": 820,
    "start_time": "2021-12-02T18:23:37.737Z"
   },
   {
    "duration": 23,
    "start_time": "2021-12-02T18:23:39.652Z"
   },
   {
    "duration": 2883,
    "start_time": "2021-12-02T18:23:41.552Z"
   },
   {
    "duration": 5,
    "start_time": "2021-12-02T18:23:51.433Z"
   },
   {
    "duration": 3092,
    "start_time": "2021-12-02T18:24:04.433Z"
   },
   {
    "duration": 5,
    "start_time": "2021-12-02T18:24:08.345Z"
   },
   {
    "duration": 60,
    "start_time": "2021-12-02T18:24:16.586Z"
   },
   {
    "duration": 3,
    "start_time": "2021-12-02T18:24:44.478Z"
   },
   {
    "duration": 3129,
    "start_time": "2021-12-02T18:24:46.985Z"
   },
   {
    "duration": 37,
    "start_time": "2021-12-02T18:24:50.117Z"
   },
   {
    "duration": 1767,
    "start_time": "2021-12-02T18:53:31.857Z"
   },
   {
    "duration": 802,
    "start_time": "2021-12-02T18:53:33.627Z"
   },
   {
    "duration": 20,
    "start_time": "2021-12-02T18:53:34.432Z"
   },
   {
    "duration": 2821,
    "start_time": "2021-12-02T18:53:34.467Z"
   },
   {
    "duration": 7,
    "start_time": "2021-12-02T18:53:37.291Z"
   },
   {
    "duration": 10,
    "start_time": "2021-12-02T18:53:37.301Z"
   },
   {
    "duration": 2765,
    "start_time": "2021-12-02T18:53:37.313Z"
   },
   {
    "duration": 61,
    "start_time": "2021-12-02T18:53:40.080Z"
   },
   {
    "duration": 5,
    "start_time": "2021-12-02T18:53:40.145Z"
   },
   {
    "duration": 413,
    "start_time": "2021-12-02T18:53:40.168Z"
   },
   {
    "duration": -3873,
    "start_time": "2021-12-02T18:53:44.457Z"
   },
   {
    "duration": -3884,
    "start_time": "2021-12-02T18:53:44.469Z"
   },
   {
    "duration": -3887,
    "start_time": "2021-12-02T18:53:44.473Z"
   },
   {
    "duration": -3889,
    "start_time": "2021-12-02T18:53:44.477Z"
   },
   {
    "duration": -3892,
    "start_time": "2021-12-02T18:53:44.481Z"
   },
   {
    "duration": -3894,
    "start_time": "2021-12-02T18:53:44.484Z"
   },
   {
    "duration": -3896,
    "start_time": "2021-12-02T18:53:44.487Z"
   },
   {
    "duration": -3898,
    "start_time": "2021-12-02T18:53:44.491Z"
   },
   {
    "duration": 3,
    "start_time": "2021-12-02T18:54:28.642Z"
   },
   {
    "duration": 38,
    "start_time": "2021-12-02T18:54:30.895Z"
   },
   {
    "duration": 4,
    "start_time": "2021-12-02T18:54:40.173Z"
   },
   {
    "duration": 4,
    "start_time": "2021-12-02T18:54:43.813Z"
   },
   {
    "duration": 3017,
    "start_time": "2021-12-02T18:54:52.301Z"
   },
   {
    "duration": 50,
    "start_time": "2021-12-02T18:54:55.321Z"
   },
   {
    "duration": 275,
    "start_time": "2021-12-02T18:55:19.108Z"
   },
   {
    "duration": 13,
    "start_time": "2021-12-02T18:55:41.630Z"
   },
   {
    "duration": 4,
    "start_time": "2021-12-02T18:55:52.639Z"
   },
   {
    "duration": 842,
    "start_time": "2021-12-02T18:55:54.808Z"
   },
   {
    "duration": 41,
    "start_time": "2021-12-02T18:55:55.652Z"
   },
   {
    "duration": 5,
    "start_time": "2021-12-02T19:01:01.479Z"
   },
   {
    "duration": 1783,
    "start_time": "2021-12-02T19:01:10.029Z"
   },
   {
    "duration": 806,
    "start_time": "2021-12-02T19:01:11.815Z"
   },
   {
    "duration": 22,
    "start_time": "2021-12-02T19:01:13.029Z"
   },
   {
    "duration": 2890,
    "start_time": "2021-12-02T19:01:14.078Z"
   },
   {
    "duration": 12,
    "start_time": "2021-12-02T19:01:16.971Z"
   },
   {
    "duration": 5,
    "start_time": "2021-12-02T19:01:36.576Z"
   },
   {
    "duration": 3,
    "start_time": "2021-12-02T19:02:42.456Z"
   },
   {
    "duration": 704,
    "start_time": "2021-12-02T19:02:43.272Z"
   },
   {
    "duration": 4,
    "start_time": "2021-12-02T19:03:00.275Z"
   },
   {
    "duration": 577,
    "start_time": "2021-12-02T19:03:00.726Z"
   },
   {
    "duration": 4,
    "start_time": "2021-12-02T19:03:08.406Z"
   },
   {
    "duration": 2072,
    "start_time": "2021-12-02T19:03:09.108Z"
   },
   {
    "duration": 4,
    "start_time": "2021-12-02T19:04:36.811Z"
   },
   {
    "duration": 5,
    "start_time": "2021-12-02T19:04:37.082Z"
   },
   {
    "duration": 4,
    "start_time": "2021-12-02T19:04:46.857Z"
   },
   {
    "duration": 282,
    "start_time": "2021-12-02T19:05:22.692Z"
   },
   {
    "duration": 4,
    "start_time": "2021-12-02T19:05:33.100Z"
   },
   {
    "duration": 337,
    "start_time": "2021-12-02T19:05:33.107Z"
   },
   {
    "duration": 1775,
    "start_time": "2021-12-02T19:05:41.649Z"
   },
   {
    "duration": 800,
    "start_time": "2021-12-02T19:05:43.427Z"
   },
   {
    "duration": 20,
    "start_time": "2021-12-02T19:05:44.230Z"
   },
   {
    "duration": 3016,
    "start_time": "2021-12-02T19:05:44.252Z"
   },
   {
    "duration": 7,
    "start_time": "2021-12-02T19:05:47.271Z"
   },
   {
    "duration": 4,
    "start_time": "2021-12-02T19:06:04.381Z"
   },
   {
    "duration": 2202,
    "start_time": "2021-12-02T19:06:04.917Z"
   },
   {
    "duration": 4,
    "start_time": "2021-12-02T19:07:14.201Z"
   },
   {
    "duration": 5,
    "start_time": "2021-12-02T19:07:14.524Z"
   },
   {
    "duration": 725,
    "start_time": "2021-12-02T19:07:56.980Z"
   },
   {
    "duration": 5,
    "start_time": "2021-12-02T19:08:37.302Z"
   },
   {
    "duration": 4,
    "start_time": "2021-12-02T19:09:29.469Z"
   },
   {
    "duration": 8191,
    "start_time": "2021-12-02T19:09:30.801Z"
   },
   {
    "duration": 5,
    "start_time": "2021-12-02T19:09:38.995Z"
   },
   {
    "duration": 2739,
    "start_time": "2021-12-02T19:11:25.322Z"
   },
   {
    "duration": 564,
    "start_time": "2021-12-02T19:11:29.345Z"
   },
   {
    "duration": 12,
    "start_time": "2021-12-02T19:11:51.416Z"
   },
   {
    "duration": 678,
    "start_time": "2021-12-02T19:11:52.137Z"
   },
   {
    "duration": 1767,
    "start_time": "2021-12-02T19:13:46.915Z"
   },
   {
    "duration": 808,
    "start_time": "2021-12-02T19:13:48.685Z"
   },
   {
    "duration": 21,
    "start_time": "2021-12-02T19:13:49.496Z"
   },
   {
    "duration": 2896,
    "start_time": "2021-12-02T19:13:49.519Z"
   },
   {
    "duration": 10,
    "start_time": "2021-12-02T19:13:52.417Z"
   },
   {
    "duration": 8,
    "start_time": "2021-12-02T19:13:52.430Z"
   },
   {
    "duration": 8,
    "start_time": "2021-12-02T19:13:52.440Z"
   },
   {
    "duration": 5,
    "start_time": "2021-12-02T19:13:52.468Z"
   },
   {
    "duration": 2659,
    "start_time": "2021-12-02T19:13:52.476Z"
   },
   {
    "duration": 458,
    "start_time": "2021-12-02T19:13:55.138Z"
   },
   {
    "duration": -136,
    "start_time": "2021-12-02T19:13:55.735Z"
   },
   {
    "duration": -141,
    "start_time": "2021-12-02T19:13:55.742Z"
   },
   {
    "duration": -142,
    "start_time": "2021-12-02T19:13:55.744Z"
   },
   {
    "duration": -143,
    "start_time": "2021-12-02T19:13:55.747Z"
   },
   {
    "duration": -269,
    "start_time": "2021-12-02T19:13:55.875Z"
   },
   {
    "duration": -272,
    "start_time": "2021-12-02T19:13:55.879Z"
   },
   {
    "duration": -274,
    "start_time": "2021-12-02T19:13:55.882Z"
   },
   {
    "duration": -274,
    "start_time": "2021-12-02T19:13:55.884Z"
   },
   {
    "duration": -276,
    "start_time": "2021-12-02T19:13:55.887Z"
   },
   {
    "duration": -287,
    "start_time": "2021-12-02T19:13:55.900Z"
   },
   {
    "duration": -289,
    "start_time": "2021-12-02T19:13:55.903Z"
   },
   {
    "duration": -284,
    "start_time": "2021-12-02T19:13:55.906Z"
   },
   {
    "duration": -287,
    "start_time": "2021-12-02T19:13:55.911Z"
   },
   {
    "duration": 1671,
    "start_time": "2021-12-02T19:14:23.561Z"
   },
   {
    "duration": 795,
    "start_time": "2021-12-02T19:14:25.236Z"
   },
   {
    "duration": 21,
    "start_time": "2021-12-02T19:14:26.034Z"
   },
   {
    "duration": 2808,
    "start_time": "2021-12-02T19:14:26.069Z"
   },
   {
    "duration": 7,
    "start_time": "2021-12-02T19:14:28.881Z"
   },
   {
    "duration": 9,
    "start_time": "2021-12-02T19:14:28.890Z"
   },
   {
    "duration": 9,
    "start_time": "2021-12-02T19:14:28.901Z"
   },
   {
    "duration": 8,
    "start_time": "2021-12-02T19:14:28.913Z"
   },
   {
    "duration": 4,
    "start_time": "2021-12-02T19:14:28.924Z"
   },
   {
    "duration": 9,
    "start_time": "2021-12-02T19:14:28.968Z"
   },
   {
    "duration": 5,
    "start_time": "2021-12-02T19:14:28.980Z"
   },
   {
    "duration": 2141,
    "start_time": "2021-12-02T19:14:28.988Z"
   },
   {
    "duration": 770,
    "start_time": "2021-12-02T19:14:31.132Z"
   },
   {
    "duration": -6244,
    "start_time": "2021-12-02T19:14:38.148Z"
   },
   {
    "duration": -6245,
    "start_time": "2021-12-02T19:14:38.151Z"
   },
   {
    "duration": -6404,
    "start_time": "2021-12-02T19:14:38.311Z"
   },
   {
    "duration": -6405,
    "start_time": "2021-12-02T19:14:38.314Z"
   },
   {
    "duration": -6407,
    "start_time": "2021-12-02T19:14:38.317Z"
   },
   {
    "duration": -6407,
    "start_time": "2021-12-02T19:14:38.319Z"
   },
   {
    "duration": -6409,
    "start_time": "2021-12-02T19:14:38.323Z"
   },
   {
    "duration": -6410,
    "start_time": "2021-12-02T19:14:38.325Z"
   },
   {
    "duration": -6409,
    "start_time": "2021-12-02T19:14:38.326Z"
   },
   {
    "duration": -6410,
    "start_time": "2021-12-02T19:14:38.328Z"
   },
   {
    "duration": 4,
    "start_time": "2021-12-02T19:15:38.358Z"
   },
   {
    "duration": 8782,
    "start_time": "2021-12-02T19:15:38.684Z"
   },
   {
    "duration": 5,
    "start_time": "2021-12-02T19:15:47.469Z"
   },
   {
    "duration": 1508,
    "start_time": "2021-12-03T16:00:27.715Z"
   },
   {
    "duration": 649,
    "start_time": "2021-12-03T16:00:30.881Z"
   },
   {
    "duration": 13,
    "start_time": "2021-12-03T16:00:31.605Z"
   },
   {
    "duration": 1360,
    "start_time": "2021-12-03T16:01:25.584Z"
   },
   {
    "duration": 652,
    "start_time": "2021-12-03T16:01:27.989Z"
   },
   {
    "duration": 19,
    "start_time": "2021-12-03T16:01:29.170Z"
   },
   {
    "duration": 3,
    "start_time": "2021-12-03T16:04:34.666Z"
   },
   {
    "duration": 400,
    "start_time": "2021-12-03T16:04:35.400Z"
   },
   {
    "duration": 2303,
    "start_time": "2021-12-03T16:04:39.274Z"
   },
   {
    "duration": 1323,
    "start_time": "2021-12-03T16:05:01.976Z"
   },
   {
    "duration": 4,
    "start_time": "2021-12-03T16:05:39.647Z"
   },
   {
    "duration": 362,
    "start_time": "2021-12-03T16:06:22.271Z"
   },
   {
    "duration": 3,
    "start_time": "2021-12-03T16:06:43.597Z"
   },
   {
    "duration": 5,
    "start_time": "2021-12-03T16:06:43.892Z"
   },
   {
    "duration": 4,
    "start_time": "2021-12-03T16:08:16.381Z"
   },
   {
    "duration": 4,
    "start_time": "2021-12-03T16:10:04.745Z"
   },
   {
    "duration": 363,
    "start_time": "2021-12-03T16:10:21.535Z"
   },
   {
    "duration": 1349,
    "start_time": "2021-12-03T16:12:17.758Z"
   },
   {
    "duration": 667,
    "start_time": "2021-12-03T16:12:19.109Z"
   },
   {
    "duration": 17,
    "start_time": "2021-12-03T16:12:19.779Z"
   },
   {
    "duration": 2266,
    "start_time": "2021-12-03T16:12:19.874Z"
   },
   {
    "duration": 4,
    "start_time": "2021-12-03T16:12:24.934Z"
   },
   {
    "duration": 496,
    "start_time": "2021-12-03T16:12:25.281Z"
   },
   {
    "duration": 9,
    "start_time": "2021-12-03T16:12:38.242Z"
   },
   {
    "duration": 362,
    "start_time": "2021-12-03T16:12:41.142Z"
   },
   {
    "duration": 173,
    "start_time": "2021-12-03T16:13:45.256Z"
   },
   {
    "duration": 4,
    "start_time": "2021-12-03T16:13:54.197Z"
   },
   {
    "duration": 1274,
    "start_time": "2021-12-03T16:14:37.115Z"
   },
   {
    "duration": 673,
    "start_time": "2021-12-03T16:14:38.391Z"
   },
   {
    "duration": 13,
    "start_time": "2021-12-03T16:14:39.065Z"
   },
   {
    "duration": 2150,
    "start_time": "2021-12-03T16:14:40.542Z"
   },
   {
    "duration": 4,
    "start_time": "2021-12-03T16:14:51.569Z"
   },
   {
    "duration": 4,
    "start_time": "2021-12-03T16:14:56.627Z"
   },
   {
    "duration": 3,
    "start_time": "2021-12-03T16:17:38.617Z"
   },
   {
    "duration": 516,
    "start_time": "2021-12-03T16:17:44.376Z"
   },
   {
    "duration": 1222,
    "start_time": "2021-12-03T16:17:58.556Z"
   },
   {
    "duration": 4,
    "start_time": "2021-12-03T16:18:03.674Z"
   },
   {
    "duration": 4,
    "start_time": "2021-12-03T16:19:11.444Z"
   },
   {
    "duration": 1277,
    "start_time": "2021-12-03T16:19:38.607Z"
   },
   {
    "duration": 626,
    "start_time": "2021-12-03T16:19:39.886Z"
   },
   {
    "duration": 13,
    "start_time": "2021-12-03T16:19:40.515Z"
   },
   {
    "duration": 2186,
    "start_time": "2021-12-03T16:19:40.530Z"
   },
   {
    "duration": 3,
    "start_time": "2021-12-03T16:19:45.152Z"
   },
   {
    "duration": 5,
    "start_time": "2021-12-03T16:19:49.496Z"
   },
   {
    "duration": 4,
    "start_time": "2021-12-03T16:19:51.343Z"
   },
   {
    "duration": 1225,
    "start_time": "2021-12-03T16:19:53.108Z"
   },
   {
    "duration": 4,
    "start_time": "2021-12-03T16:21:09.318Z"
   },
   {
    "duration": 55,
    "start_time": "2021-12-03T16:21:21.324Z"
   },
   {
    "duration": 271,
    "start_time": "2021-12-03T16:21:27.011Z"
   },
   {
    "duration": 5409,
    "start_time": "2021-12-03T16:22:13.783Z"
   },
   {
    "duration": 5,
    "start_time": "2021-12-03T16:22:23.199Z"
   },
   {
    "duration": 91,
    "start_time": "2021-12-03T16:24:18.290Z"
   },
   {
    "duration": 3,
    "start_time": "2021-12-03T16:24:22.252Z"
   },
   {
    "duration": 3,
    "start_time": "2021-12-03T16:24:45.244Z"
   },
   {
    "duration": 4,
    "start_time": "2021-12-03T16:24:47.726Z"
   },
   {
    "duration": 171,
    "start_time": "2021-12-03T16:25:21.423Z"
   },
   {
    "duration": 4,
    "start_time": "2021-12-03T16:25:21.926Z"
   },
   {
    "duration": 3,
    "start_time": "2021-12-03T16:25:34.503Z"
   },
   {
    "duration": 4,
    "start_time": "2021-12-03T16:25:35.319Z"
   },
   {
    "duration": 5327,
    "start_time": "2021-12-03T16:26:06.483Z"
   },
   {
    "duration": 4,
    "start_time": "2021-12-03T16:26:15.323Z"
   },
   {
    "duration": 4,
    "start_time": "2021-12-03T16:26:40.788Z"
   },
   {
    "duration": 582,
    "start_time": "2021-12-03T16:27:25.432Z"
   },
   {
    "duration": 3,
    "start_time": "2021-12-03T16:28:48.021Z"
   },
   {
    "duration": 75832,
    "start_time": "2021-12-03T16:29:52.499Z"
   },
   {
    "duration": 23,
    "start_time": "2021-12-03T16:32:00.133Z"
   },
   {
    "duration": 4,
    "start_time": "2021-12-03T16:32:30.780Z"
   },
   {
    "duration": 4,
    "start_time": "2021-12-03T16:36:29.036Z"
   },
   {
    "duration": 4939,
    "start_time": "2021-12-03T16:36:39.981Z"
   },
   {
    "duration": 5,
    "start_time": "2021-12-03T16:36:44.921Z"
   },
   {
    "duration": 3,
    "start_time": "2021-12-03T16:36:47.434Z"
   },
   {
    "duration": 75245,
    "start_time": "2021-12-03T16:36:47.973Z"
   },
   {
    "duration": 19,
    "start_time": "2021-12-03T16:38:03.220Z"
   },
   {
    "duration": 1229,
    "start_time": "2021-12-03T16:41:35.540Z"
   },
   {
    "duration": 639,
    "start_time": "2021-12-03T16:41:36.771Z"
   },
   {
    "duration": 12,
    "start_time": "2021-12-03T16:41:37.412Z"
   },
   {
    "duration": 2226,
    "start_time": "2021-12-03T16:41:37.426Z"
   },
   {
    "duration": 16,
    "start_time": "2021-12-03T16:41:39.654Z"
   },
   {
    "duration": 8,
    "start_time": "2021-12-03T16:41:39.671Z"
   },
   {
    "duration": 10,
    "start_time": "2021-12-03T16:41:39.681Z"
   },
   {
    "duration": 2,
    "start_time": "2021-12-03T16:41:39.695Z"
   },
   {
    "duration": 386,
    "start_time": "2021-12-03T16:41:39.700Z"
   },
   {
    "duration": 2863,
    "start_time": "2021-12-03T16:41:37.226Z"
   },
   {
    "duration": 2842,
    "start_time": "2021-12-03T16:41:37.248Z"
   },
   {
    "duration": 2837,
    "start_time": "2021-12-03T16:41:37.255Z"
   },
   {
    "duration": 2820,
    "start_time": "2021-12-03T16:41:37.273Z"
   },
   {
    "duration": 2816,
    "start_time": "2021-12-03T16:41:37.279Z"
   },
   {
    "duration": 2802,
    "start_time": "2021-12-03T16:41:37.294Z"
   },
   {
    "duration": 2784,
    "start_time": "2021-12-03T16:41:37.313Z"
   },
   {
    "duration": 2768,
    "start_time": "2021-12-03T16:41:37.331Z"
   },
   {
    "duration": 2741,
    "start_time": "2021-12-03T16:41:37.360Z"
   },
   {
    "duration": 2694,
    "start_time": "2021-12-03T16:41:37.408Z"
   },
   {
    "duration": 2633,
    "start_time": "2021-12-03T16:41:37.470Z"
   },
   {
    "duration": 2632,
    "start_time": "2021-12-03T16:41:37.473Z"
   },
   {
    "duration": 2629,
    "start_time": "2021-12-03T16:41:37.477Z"
   },
   {
    "duration": 3,
    "start_time": "2021-12-03T16:42:33.601Z"
   },
   {
    "duration": 5861,
    "start_time": "2021-12-03T16:42:34.067Z"
   },
   {
    "duration": 4,
    "start_time": "2021-12-03T16:42:39.929Z"
   },
   {
    "duration": 4,
    "start_time": "2021-12-03T16:42:39.935Z"
   },
   {
    "duration": 77511,
    "start_time": "2021-12-03T16:42:39.940Z"
   },
   {
    "duration": 22,
    "start_time": "2021-12-03T16:43:57.453Z"
   },
   {
    "duration": 213,
    "start_time": "2021-12-03T16:45:22.323Z"
   },
   {
    "duration": 1245,
    "start_time": "2021-12-03T16:45:47.329Z"
   },
   {
    "duration": 233,
    "start_time": "2021-12-03T16:45:55.959Z"
   },
   {
    "duration": 1271,
    "start_time": "2021-12-03T16:46:11.582Z"
   },
   {
    "duration": 613,
    "start_time": "2021-12-03T16:46:12.855Z"
   },
   {
    "duration": 25,
    "start_time": "2021-12-03T16:46:13.470Z"
   },
   {
    "duration": 2242,
    "start_time": "2021-12-03T16:46:13.497Z"
   },
   {
    "duration": 6,
    "start_time": "2021-12-03T16:46:15.741Z"
   },
   {
    "duration": 5,
    "start_time": "2021-12-03T16:46:15.749Z"
   },
   {
    "duration": 7,
    "start_time": "2021-12-03T16:46:15.755Z"
   },
   {
    "duration": 9,
    "start_time": "2021-12-03T16:46:15.764Z"
   },
   {
    "duration": 3,
    "start_time": "2021-12-03T16:46:15.792Z"
   },
   {
    "duration": 5690,
    "start_time": "2021-12-03T16:46:15.796Z"
   },
   {
    "duration": 6,
    "start_time": "2021-12-03T16:46:21.487Z"
   },
   {
    "duration": 5,
    "start_time": "2021-12-03T16:46:21.494Z"
   },
   {
    "duration": 76981,
    "start_time": "2021-12-03T16:46:21.501Z"
   },
   {
    "duration": 21,
    "start_time": "2021-12-03T16:47:38.485Z"
   },
   {
    "duration": 1280,
    "start_time": "2021-12-03T16:48:34.183Z"
   },
   {
    "duration": 623,
    "start_time": "2021-12-03T16:48:35.465Z"
   },
   {
    "duration": 13,
    "start_time": "2021-12-03T16:48:36.092Z"
   },
   {
    "duration": 2223,
    "start_time": "2021-12-03T16:48:36.106Z"
   },
   {
    "duration": 7,
    "start_time": "2021-12-03T16:48:38.330Z"
   },
   {
    "duration": 4,
    "start_time": "2021-12-03T16:48:38.338Z"
   },
   {
    "duration": 4,
    "start_time": "2021-12-03T16:48:38.343Z"
   },
   {
    "duration": 7,
    "start_time": "2021-12-03T16:48:38.349Z"
   },
   {
    "duration": 5,
    "start_time": "2021-12-03T16:48:38.357Z"
   },
   {
    "duration": 5820,
    "start_time": "2021-12-03T16:48:38.363Z"
   },
   {
    "duration": 7,
    "start_time": "2021-12-03T16:48:44.185Z"
   },
   {
    "duration": 3,
    "start_time": "2021-12-03T16:48:44.193Z"
   },
   {
    "duration": 77026,
    "start_time": "2021-12-03T16:48:44.198Z"
   },
   {
    "duration": 20,
    "start_time": "2021-12-03T16:50:01.226Z"
   },
   {
    "duration": 1300,
    "start_time": "2021-12-03T16:50:35.856Z"
   },
   {
    "duration": 662,
    "start_time": "2021-12-03T16:50:37.158Z"
   },
   {
    "duration": 15,
    "start_time": "2021-12-03T16:50:37.823Z"
   },
   {
    "duration": 2351,
    "start_time": "2021-12-03T16:50:37.841Z"
   },
   {
    "duration": 11,
    "start_time": "2021-12-03T16:50:40.194Z"
   },
   {
    "duration": 7,
    "start_time": "2021-12-03T16:50:40.207Z"
   },
   {
    "duration": 4,
    "start_time": "2021-12-03T16:50:40.216Z"
   },
   {
    "duration": 4,
    "start_time": "2021-12-03T16:50:40.222Z"
   },
   {
    "duration": 5,
    "start_time": "2021-12-03T16:50:40.228Z"
   },
   {
    "duration": 5796,
    "start_time": "2021-12-03T16:50:40.235Z"
   },
   {
    "duration": 3,
    "start_time": "2021-12-03T16:50:46.033Z"
   },
   {
    "duration": 5,
    "start_time": "2021-12-03T16:50:46.038Z"
   },
   {
    "duration": 81311,
    "start_time": "2021-12-03T16:50:46.045Z"
   },
   {
    "duration": 22,
    "start_time": "2021-12-03T16:52:07.357Z"
   },
   {
    "duration": 1377,
    "start_time": "2021-12-03T16:52:21.388Z"
   },
   {
    "duration": 699,
    "start_time": "2021-12-03T16:52:22.767Z"
   },
   {
    "duration": 13,
    "start_time": "2021-12-03T16:52:23.469Z"
   },
   {
    "duration": 2354,
    "start_time": "2021-12-03T16:52:23.493Z"
   },
   {
    "duration": 6,
    "start_time": "2021-12-03T16:52:25.849Z"
   },
   {
    "duration": 5,
    "start_time": "2021-12-03T16:52:25.857Z"
   },
   {
    "duration": 5,
    "start_time": "2021-12-03T16:52:25.863Z"
   },
   {
    "duration": 12,
    "start_time": "2021-12-03T16:52:25.870Z"
   },
   {
    "duration": 6,
    "start_time": "2021-12-03T16:52:25.893Z"
   },
   {
    "duration": 6156,
    "start_time": "2021-12-03T16:52:25.902Z"
   },
   {
    "duration": 3,
    "start_time": "2021-12-03T16:52:32.060Z"
   },
   {
    "duration": 15,
    "start_time": "2021-12-03T16:52:32.065Z"
   },
   {
    "duration": 81793,
    "start_time": "2021-12-03T16:52:32.081Z"
   },
   {
    "duration": 27,
    "start_time": "2021-12-03T16:53:53.876Z"
   },
   {
    "duration": 9,
    "start_time": "2021-12-03T16:53:53.906Z"
   },
   {
    "duration": 4,
    "start_time": "2021-12-03T16:53:59.082Z"
   },
   {
    "duration": 63,
    "start_time": "2021-12-03T16:54:16.449Z"
   },
   {
    "duration": 7,
    "start_time": "2021-12-03T16:54:23.482Z"
   },
   {
    "duration": 3,
    "start_time": "2021-12-03T16:54:24.273Z"
   },
   {
    "duration": 9,
    "start_time": "2021-12-03T16:56:46.675Z"
   },
   {
    "duration": 218,
    "start_time": "2021-12-03T16:57:39.570Z"
   },
   {
    "duration": 1286,
    "start_time": "2021-12-03T16:57:51.858Z"
   },
   {
    "duration": 242,
    "start_time": "2021-12-03T16:57:56.557Z"
   },
   {
    "duration": 1222,
    "start_time": "2021-12-03T16:58:19.033Z"
   },
   {
    "duration": 635,
    "start_time": "2021-12-03T16:58:20.257Z"
   },
   {
    "duration": 14,
    "start_time": "2021-12-03T16:58:20.894Z"
   },
   {
    "duration": 2286,
    "start_time": "2021-12-03T16:58:20.910Z"
   },
   {
    "duration": 18,
    "start_time": "2021-12-03T16:58:23.198Z"
   },
   {
    "duration": 6,
    "start_time": "2021-12-03T16:58:23.217Z"
   },
   {
    "duration": 11,
    "start_time": "2021-12-03T16:58:23.224Z"
   },
   {
    "duration": 7,
    "start_time": "2021-12-03T16:58:23.237Z"
   },
   {
    "duration": 5,
    "start_time": "2021-12-03T16:58:23.245Z"
   },
   {
    "duration": 5762,
    "start_time": "2021-12-03T16:58:23.252Z"
   },
   {
    "duration": 4,
    "start_time": "2021-12-03T16:58:29.016Z"
   },
   {
    "duration": 4,
    "start_time": "2021-12-03T16:58:29.022Z"
   },
   {
    "duration": 75287,
    "start_time": "2021-12-03T16:58:29.028Z"
   },
   {
    "duration": 19,
    "start_time": "2021-12-03T16:59:44.316Z"
   },
   {
    "duration": 1227,
    "start_time": "2021-12-03T17:00:44.449Z"
   },
   {
    "duration": 655,
    "start_time": "2021-12-03T17:00:45.679Z"
   },
   {
    "duration": 14,
    "start_time": "2021-12-03T17:00:46.336Z"
   },
   {
    "duration": 2319,
    "start_time": "2021-12-03T17:00:46.352Z"
   },
   {
    "duration": 6,
    "start_time": "2021-12-03T17:00:48.673Z"
   },
   {
    "duration": 3,
    "start_time": "2021-12-03T17:00:48.692Z"
   },
   {
    "duration": 4,
    "start_time": "2021-12-03T17:00:48.697Z"
   },
   {
    "duration": 4,
    "start_time": "2021-12-03T17:00:48.704Z"
   },
   {
    "duration": 9,
    "start_time": "2021-12-03T17:00:48.709Z"
   },
   {
    "duration": 5808,
    "start_time": "2021-12-03T17:00:48.720Z"
   },
   {
    "duration": 4,
    "start_time": "2021-12-03T17:00:54.530Z"
   },
   {
    "duration": 4,
    "start_time": "2021-12-03T17:00:54.536Z"
   },
   {
    "duration": 292,
    "start_time": "2021-12-03T17:00:54.542Z"
   },
   {
    "duration": 2910,
    "start_time": "2021-12-03T17:00:51.926Z"
   },
   {
    "duration": 2906,
    "start_time": "2021-12-03T17:00:51.931Z"
   },
   {
    "duration": 79279,
    "start_time": "2021-12-03T17:01:43.031Z"
   },
   {
    "duration": 4,
    "start_time": "2021-12-03T17:03:02.312Z"
   },
   {
    "duration": 200,
    "start_time": "2021-12-03T17:03:02.319Z"
   },
   {
    "duration": 75218,
    "start_time": "2021-12-03T17:03:34.212Z"
   },
   {
    "duration": 14,
    "start_time": "2021-12-03T17:04:49.432Z"
   },
   {
    "duration": 8,
    "start_time": "2021-12-03T17:10:32.720Z"
   },
   {
    "duration": 180,
    "start_time": "2021-12-03T17:11:11.649Z"
   },
   {
    "duration": 5,
    "start_time": "2021-12-03T17:11:43.550Z"
   },
   {
    "duration": 3,
    "start_time": "2021-12-03T17:11:48.474Z"
   },
   {
    "duration": 3,
    "start_time": "2021-12-03T17:12:04.339Z"
   },
   {
    "duration": 28,
    "start_time": "2021-12-03T17:13:11.278Z"
   },
   {
    "duration": 5,
    "start_time": "2021-12-03T17:13:17.520Z"
   },
   {
    "duration": 23,
    "start_time": "2021-12-03T17:15:03.012Z"
   },
   {
    "duration": 8,
    "start_time": "2021-12-03T17:15:27.509Z"
   },
   {
    "duration": 10,
    "start_time": "2021-12-03T17:15:44.579Z"
   },
   {
    "duration": 4,
    "start_time": "2021-12-03T17:16:25.328Z"
   },
   {
    "duration": 6707,
    "start_time": "2021-12-03T17:17:04.309Z"
   },
   {
    "duration": 2,
    "start_time": "2021-12-03T17:17:56.413Z"
   },
   {
    "duration": 3,
    "start_time": "2021-12-03T17:18:16.333Z"
   },
   {
    "duration": 46,
    "start_time": "2021-12-03T17:18:23.064Z"
   },
   {
    "duration": 1276,
    "start_time": "2021-12-03T17:19:58.547Z"
   },
   {
    "duration": 650,
    "start_time": "2021-12-03T17:19:59.825Z"
   },
   {
    "duration": 33,
    "start_time": "2021-12-03T17:20:00.477Z"
   },
   {
    "duration": 16,
    "start_time": "2021-12-03T17:20:00.512Z"
   },
   {
    "duration": 46,
    "start_time": "2021-12-03T17:20:00.530Z"
   },
   {
    "duration": 52,
    "start_time": "2021-12-03T17:20:00.578Z"
   },
   {
    "duration": 43,
    "start_time": "2021-12-03T17:20:00.632Z"
   },
   {
    "duration": 31,
    "start_time": "2021-12-03T17:20:00.677Z"
   },
   {
    "duration": 12,
    "start_time": "2021-12-03T17:20:00.711Z"
   },
   {
    "duration": 31,
    "start_time": "2021-12-03T17:20:00.725Z"
   },
   {
    "duration": 45,
    "start_time": "2021-12-03T17:20:00.757Z"
   },
   {
    "duration": 42,
    "start_time": "2021-12-03T17:20:00.804Z"
   },
   {
    "duration": 34,
    "start_time": "2021-12-03T17:20:00.848Z"
   },
   {
    "duration": 36,
    "start_time": "2021-12-03T17:20:00.885Z"
   },
   {
    "duration": 1474,
    "start_time": "2021-12-03T17:20:00.923Z"
   },
   {
    "duration": 8,
    "start_time": "2021-12-03T17:20:02.399Z"
   },
   {
    "duration": 31,
    "start_time": "2021-12-03T17:20:02.409Z"
   },
   {
    "duration": 12,
    "start_time": "2021-12-03T17:20:02.442Z"
   },
   {
    "duration": 11,
    "start_time": "2021-12-03T17:20:02.456Z"
   },
   {
    "duration": 27,
    "start_time": "2021-12-03T17:20:02.470Z"
   },
   {
    "duration": 6,
    "start_time": "2021-12-03T17:20:02.499Z"
   },
   {
    "duration": 10,
    "start_time": "2021-12-03T17:20:02.506Z"
   },
   {
    "duration": 278,
    "start_time": "2021-12-03T17:20:02.519Z"
   },
   {
    "duration": 2919,
    "start_time": "2021-12-03T17:19:59.880Z"
   },
   {
    "duration": 4,
    "start_time": "2021-12-03T17:21:15.498Z"
   },
   {
    "duration": 3,
    "start_time": "2021-12-03T17:24:12.292Z"
   },
   {
    "duration": 3,
    "start_time": "2021-12-03T17:24:12.649Z"
   },
   {
    "duration": 5,
    "start_time": "2021-12-03T17:24:12.973Z"
   },
   {
    "duration": 8,
    "start_time": "2021-12-03T17:24:13.872Z"
   },
   {
    "duration": 3,
    "start_time": "2021-12-03T17:24:32.413Z"
   },
   {
    "duration": 4,
    "start_time": "2021-12-03T17:24:38.736Z"
   },
   {
    "duration": 4,
    "start_time": "2021-12-03T17:25:28.774Z"
   },
   {
    "duration": 8,
    "start_time": "2021-12-03T17:25:51.118Z"
   },
   {
    "duration": 1373,
    "start_time": "2021-12-03T17:26:09.670Z"
   },
   {
    "duration": 620,
    "start_time": "2021-12-03T17:26:11.045Z"
   },
   {
    "duration": 26,
    "start_time": "2021-12-03T17:26:11.667Z"
   },
   {
    "duration": 13,
    "start_time": "2021-12-03T17:26:11.695Z"
   },
   {
    "duration": 4,
    "start_time": "2021-12-03T17:26:11.710Z"
   },
   {
    "duration": 177,
    "start_time": "2021-12-03T17:26:11.715Z"
   },
   {
    "duration": 8,
    "start_time": "2021-12-03T17:26:11.894Z"
   },
   {
    "duration": 4,
    "start_time": "2021-12-03T17:26:11.905Z"
   },
   {
    "duration": 3,
    "start_time": "2021-12-03T17:26:11.911Z"
   },
   {
    "duration": 5,
    "start_time": "2021-12-03T17:26:11.916Z"
   },
   {
    "duration": 6,
    "start_time": "2021-12-03T17:26:11.922Z"
   },
   {
    "duration": 398,
    "start_time": "2021-12-03T17:26:11.930Z"
   },
   {
    "duration": 5,
    "start_time": "2021-12-03T17:26:12.330Z"
   },
   {
    "duration": 18,
    "start_time": "2021-12-03T17:26:12.336Z"
   },
   {
    "duration": 6062,
    "start_time": "2021-12-03T17:26:12.356Z"
   },
   {
    "duration": 19,
    "start_time": "2021-12-03T17:26:18.420Z"
   },
   {
    "duration": 1264,
    "start_time": "2021-12-03T17:26:18.441Z"
   },
   {
    "duration": 4,
    "start_time": "2021-12-03T17:26:19.707Z"
   },
   {
    "duration": 457,
    "start_time": "2021-12-03T17:26:19.712Z"
   },
   {
    "duration": 3,
    "start_time": "2021-12-03T17:26:20.170Z"
   },
   {
    "duration": 17,
    "start_time": "2021-12-03T17:26:20.174Z"
   },
   {
    "duration": 16,
    "start_time": "2021-12-03T17:26:20.193Z"
   },
   {
    "duration": 19,
    "start_time": "2021-12-03T17:26:20.212Z"
   },
   {
    "duration": 760,
    "start_time": "2021-12-03T17:26:20.233Z"
   },
   {
    "duration": 4,
    "start_time": "2021-12-03T17:26:20.996Z"
   },
   {
    "duration": 8,
    "start_time": "2021-12-03T17:26:21.092Z"
   },
   {
    "duration": 16,
    "start_time": "2021-12-03T17:26:21.102Z"
   },
   {
    "duration": 1208,
    "start_time": "2021-12-03T17:27:11.337Z"
   },
   {
    "duration": 624,
    "start_time": "2021-12-03T17:27:12.547Z"
   },
   {
    "duration": 25,
    "start_time": "2021-12-03T17:27:13.173Z"
   },
   {
    "duration": 27,
    "start_time": "2021-12-03T17:27:13.200Z"
   },
   {
    "duration": 29,
    "start_time": "2021-12-03T17:27:13.229Z"
   },
   {
    "duration": 796,
    "start_time": "2021-12-03T17:27:13.259Z"
   },
   {
    "duration": 34,
    "start_time": "2021-12-03T17:27:14.057Z"
   },
   {
    "duration": 40,
    "start_time": "2021-12-03T17:27:14.093Z"
   },
   {
    "duration": 35,
    "start_time": "2021-12-03T17:27:14.135Z"
   },
   {
    "duration": 40,
    "start_time": "2021-12-03T17:27:14.172Z"
   },
   {
    "duration": 38,
    "start_time": "2021-12-03T17:27:14.215Z"
   },
   {
    "duration": 1868,
    "start_time": "2021-12-03T17:27:14.255Z"
   },
   {
    "duration": 5,
    "start_time": "2021-12-03T17:27:16.124Z"
   },
   {
    "duration": 5,
    "start_time": "2021-12-03T17:27:16.131Z"
   },
   {
    "duration": 24663,
    "start_time": "2021-12-03T17:27:16.138Z"
   },
   {
    "duration": 21,
    "start_time": "2021-12-03T17:27:40.803Z"
   },
   {
    "duration": 2,
    "start_time": "2021-12-03T17:27:40.825Z"
   },
   {
    "duration": 2196,
    "start_time": "2021-12-03T17:27:40.829Z"
   },
   {
    "duration": 2,
    "start_time": "2021-12-03T17:27:43.027Z"
   },
   {
    "duration": 5,
    "start_time": "2021-12-03T17:27:43.031Z"
   },
   {
    "duration": 4,
    "start_time": "2021-12-03T17:27:43.038Z"
   },
   {
    "duration": 16,
    "start_time": "2021-12-03T17:27:43.044Z"
   },
   {
    "duration": 4631,
    "start_time": "2021-12-03T17:27:43.062Z"
   },
   {
    "duration": 5,
    "start_time": "2021-12-03T17:27:47.695Z"
   },
   {
    "duration": 6,
    "start_time": "2021-12-03T17:27:47.701Z"
   },
   {
    "duration": 10,
    "start_time": "2021-12-03T17:27:47.709Z"
   },
   {
    "duration": 1278,
    "start_time": "2021-12-03T17:28:23.193Z"
   },
   {
    "duration": 660,
    "start_time": "2021-12-03T17:28:24.473Z"
   },
   {
    "duration": 3,
    "start_time": "2021-12-03T17:28:25.135Z"
   },
   {
    "duration": 15,
    "start_time": "2021-12-03T17:28:25.140Z"
   },
   {
    "duration": 3,
    "start_time": "2021-12-03T17:28:25.157Z"
   },
   {
    "duration": 2363,
    "start_time": "2021-12-03T17:28:25.161Z"
   },
   {
    "duration": 9,
    "start_time": "2021-12-03T17:28:27.526Z"
   },
   {
    "duration": 4,
    "start_time": "2021-12-03T17:28:27.538Z"
   },
   {
    "duration": 3,
    "start_time": "2021-12-03T17:28:27.544Z"
   },
   {
    "duration": 4,
    "start_time": "2021-12-03T17:28:27.549Z"
   },
   {
    "duration": 5,
    "start_time": "2021-12-03T17:28:27.555Z"
   },
   {
    "duration": 5841,
    "start_time": "2021-12-03T17:28:27.562Z"
   },
   {
    "duration": 3,
    "start_time": "2021-12-03T17:28:33.405Z"
   },
   {
    "duration": 7,
    "start_time": "2021-12-03T17:28:33.410Z"
   },
   {
    "duration": 76789,
    "start_time": "2021-12-03T17:28:33.418Z"
   },
   {
    "duration": 3,
    "start_time": "2021-12-03T17:29:50.209Z"
   },
   {
    "duration": 6559,
    "start_time": "2021-12-03T17:29:50.214Z"
   },
   {
    "duration": 3,
    "start_time": "2021-12-03T17:29:56.775Z"
   },
   {
    "duration": 14,
    "start_time": "2021-12-03T17:29:56.780Z"
   },
   {
    "duration": 4,
    "start_time": "2021-12-03T17:29:56.796Z"
   },
   {
    "duration": 51,
    "start_time": "2021-12-03T17:29:56.802Z"
   },
   {
    "duration": 7774,
    "start_time": "2021-12-03T17:29:56.855Z"
   },
   {
    "duration": 7,
    "start_time": "2021-12-03T17:30:04.632Z"
   },
   {
    "duration": 4,
    "start_time": "2021-12-03T17:30:04.640Z"
   },
   {
    "duration": 47,
    "start_time": "2021-12-03T17:30:04.646Z"
   },
   {
    "duration": 4,
    "start_time": "2021-12-03T17:31:47.321Z"
   },
   {
    "duration": 592,
    "start_time": "2021-12-03T17:31:47.327Z"
   },
   {
    "duration": 3,
    "start_time": "2021-12-03T17:31:47.921Z"
   },
   {
    "duration": 9,
    "start_time": "2021-12-03T17:31:47.926Z"
   },
   {
    "duration": 5,
    "start_time": "2021-12-03T17:31:47.936Z"
   },
   {
    "duration": 1352,
    "start_time": "2021-12-03T17:32:06.993Z"
   },
   {
    "duration": 631,
    "start_time": "2021-12-03T17:32:08.347Z"
   },
   {
    "duration": 3,
    "start_time": "2021-12-03T17:32:08.980Z"
   },
   {
    "duration": 29,
    "start_time": "2021-12-03T17:32:08.985Z"
   },
   {
    "duration": 18,
    "start_time": "2021-12-03T17:32:09.016Z"
   },
   {
    "duration": 2281,
    "start_time": "2021-12-03T17:32:09.036Z"
   },
   {
    "duration": 7,
    "start_time": "2021-12-03T17:32:11.319Z"
   },
   {
    "duration": 4,
    "start_time": "2021-12-03T17:32:11.329Z"
   },
   {
    "duration": 6,
    "start_time": "2021-12-03T17:32:11.335Z"
   },
   {
    "duration": 5,
    "start_time": "2021-12-03T17:32:11.342Z"
   },
   {
    "duration": 5,
    "start_time": "2021-12-03T17:32:11.348Z"
   },
   {
    "duration": 5436,
    "start_time": "2021-12-03T17:32:11.355Z"
   },
   {
    "duration": 3,
    "start_time": "2021-12-03T17:32:16.793Z"
   },
   {
    "duration": 5,
    "start_time": "2021-12-03T17:32:16.798Z"
   },
   {
    "duration": 75928,
    "start_time": "2021-12-03T17:32:16.804Z"
   },
   {
    "duration": 2,
    "start_time": "2021-12-03T17:33:32.734Z"
   },
   {
    "duration": 212,
    "start_time": "2021-12-03T17:34:37.619Z"
   },
   {
    "duration": 165,
    "start_time": "2021-12-03T17:34:56.742Z"
   },
   {
    "duration": 1299,
    "start_time": "2021-12-03T17:35:03.002Z"
   },
   {
    "duration": 630,
    "start_time": "2021-12-03T17:35:04.302Z"
   },
   {
    "duration": 3,
    "start_time": "2021-12-03T17:35:04.934Z"
   },
   {
    "duration": 16,
    "start_time": "2021-12-03T17:35:04.938Z"
   },
   {
    "duration": 5,
    "start_time": "2021-12-03T17:35:04.956Z"
   },
   {
    "duration": 2346,
    "start_time": "2021-12-03T17:35:04.962Z"
   },
   {
    "duration": 9,
    "start_time": "2021-12-03T17:35:07.309Z"
   },
   {
    "duration": 6,
    "start_time": "2021-12-03T17:35:07.320Z"
   },
   {
    "duration": 5,
    "start_time": "2021-12-03T17:35:07.327Z"
   },
   {
    "duration": 5,
    "start_time": "2021-12-03T17:35:07.333Z"
   },
   {
    "duration": 4,
    "start_time": "2021-12-03T17:35:07.340Z"
   },
   {
    "duration": 5645,
    "start_time": "2021-12-03T17:35:07.346Z"
   },
   {
    "duration": 3,
    "start_time": "2021-12-03T17:35:12.993Z"
   },
   {
    "duration": 5,
    "start_time": "2021-12-03T17:35:12.998Z"
   },
   {
    "duration": 75298,
    "start_time": "2021-12-03T17:35:13.004Z"
   },
   {
    "duration": 2,
    "start_time": "2021-12-03T17:36:28.304Z"
   },
   {
    "duration": 1251,
    "start_time": "2021-12-03T17:36:48.447Z"
   },
   {
    "duration": 627,
    "start_time": "2021-12-03T17:36:49.700Z"
   },
   {
    "duration": 2,
    "start_time": "2021-12-03T17:36:50.330Z"
   },
   {
    "duration": 20,
    "start_time": "2021-12-03T17:36:50.335Z"
   },
   {
    "duration": 3,
    "start_time": "2021-12-03T17:36:50.356Z"
   },
   {
    "duration": 2309,
    "start_time": "2021-12-03T17:36:50.360Z"
   },
   {
    "duration": 6,
    "start_time": "2021-12-03T17:36:52.671Z"
   },
   {
    "duration": 3,
    "start_time": "2021-12-03T17:36:52.691Z"
   },
   {
    "duration": 3,
    "start_time": "2021-12-03T17:36:52.696Z"
   },
   {
    "duration": 4,
    "start_time": "2021-12-03T17:36:52.701Z"
   },
   {
    "duration": 5,
    "start_time": "2021-12-03T17:36:52.706Z"
   },
   {
    "duration": 5624,
    "start_time": "2021-12-03T17:36:52.712Z"
   },
   {
    "duration": 3,
    "start_time": "2021-12-03T17:36:58.338Z"
   },
   {
    "duration": 6,
    "start_time": "2021-12-03T17:36:58.343Z"
   },
   {
    "duration": 78291,
    "start_time": "2021-12-03T17:36:58.350Z"
   },
   {
    "duration": 7011,
    "start_time": "2021-12-03T17:38:19.056Z"
   },
   {
    "duration": 4,
    "start_time": "2021-12-03T17:38:26.069Z"
   },
   {
    "duration": 17,
    "start_time": "2021-12-03T17:38:26.076Z"
   },
   {
    "duration": 4,
    "start_time": "2021-12-03T17:38:26.095Z"
   },
   {
    "duration": 52,
    "start_time": "2021-12-03T17:38:26.101Z"
   },
   {
    "duration": 9606,
    "start_time": "2021-12-03T17:38:26.155Z"
   },
   {
    "duration": 5,
    "start_time": "2021-12-03T17:38:35.762Z"
   },
   {
    "duration": 23,
    "start_time": "2021-12-03T17:38:35.769Z"
   },
   {
    "duration": 10,
    "start_time": "2021-12-03T17:38:35.794Z"
   },
   {
    "duration": 41,
    "start_time": "2021-12-03T17:38:51.929Z"
   },
   {
    "duration": 9356,
    "start_time": "2021-12-03T17:38:52.995Z"
   },
   {
    "duration": 6,
    "start_time": "2021-12-03T17:39:02.354Z"
   },
   {
    "duration": 6,
    "start_time": "2021-12-03T17:39:02.362Z"
   },
   {
    "duration": 13,
    "start_time": "2021-12-03T17:39:02.391Z"
   },
   {
    "duration": 4,
    "start_time": "2021-12-03T17:41:18.331Z"
   },
   {
    "duration": 2,
    "start_time": "2021-12-03T17:41:25.582Z"
   },
   {
    "duration": 478,
    "start_time": "2021-12-03T17:41:50.326Z"
   },
   {
    "duration": 2,
    "start_time": "2021-12-03T17:42:12.954Z"
   },
   {
    "duration": 492,
    "start_time": "2021-12-03T17:42:14.511Z"
   },
   {
    "duration": 8,
    "start_time": "2021-12-03T17:42:19.598Z"
   },
   {
    "duration": 7,
    "start_time": "2021-12-03T17:42:23.395Z"
   },
   {
    "duration": 9,
    "start_time": "2021-12-03T17:42:37.948Z"
   },
   {
    "duration": 3,
    "start_time": "2021-12-03T17:42:45.302Z"
   },
   {
    "duration": 500,
    "start_time": "2021-12-03T17:42:45.636Z"
   },
   {
    "duration": 4,
    "start_time": "2021-12-03T17:42:46.138Z"
   },
   {
    "duration": 10,
    "start_time": "2021-12-03T17:42:46.253Z"
   },
   {
    "duration": 3,
    "start_time": "2021-12-03T17:42:50.012Z"
   },
   {
    "duration": 537,
    "start_time": "2021-12-03T17:42:50.316Z"
   },
   {
    "duration": 4,
    "start_time": "2021-12-03T17:42:50.855Z"
   },
   {
    "duration": 10,
    "start_time": "2021-12-03T17:42:51.149Z"
   },
   {
    "duration": 1331,
    "start_time": "2021-12-03T17:45:30.589Z"
   },
   {
    "duration": 659,
    "start_time": "2021-12-03T17:45:31.923Z"
   },
   {
    "duration": 278,
    "start_time": "2021-12-03T17:47:19.473Z"
   },
   {
    "duration": 1323,
    "start_time": "2021-12-03T17:47:37.851Z"
   },
   {
    "duration": 662,
    "start_time": "2021-12-03T17:47:39.176Z"
   },
   {
    "duration": 3,
    "start_time": "2021-12-03T17:47:39.840Z"
   },
   {
    "duration": 16,
    "start_time": "2021-12-03T17:47:39.845Z"
   },
   {
    "duration": 4,
    "start_time": "2021-12-03T17:47:39.862Z"
   },
   {
    "duration": 2377,
    "start_time": "2021-12-03T17:47:39.867Z"
   },
   {
    "duration": 35,
    "start_time": "2021-12-03T17:47:42.245Z"
   },
   {
    "duration": 19,
    "start_time": "2021-12-03T17:47:42.282Z"
   },
   {
    "duration": 21,
    "start_time": "2021-12-03T17:47:42.304Z"
   },
   {
    "duration": 26,
    "start_time": "2021-12-03T17:47:42.327Z"
   },
   {
    "duration": 26,
    "start_time": "2021-12-03T17:47:42.354Z"
   },
   {
    "duration": 5944,
    "start_time": "2021-12-03T17:47:42.382Z"
   },
   {
    "duration": 5,
    "start_time": "2021-12-03T17:47:48.328Z"
   },
   {
    "duration": 3,
    "start_time": "2021-12-03T17:47:48.335Z"
   },
   {
    "duration": 81241,
    "start_time": "2021-12-03T17:47:48.340Z"
   },
   {
    "duration": 9,
    "start_time": "2021-12-03T17:49:09.583Z"
   },
   {
    "duration": 6891,
    "start_time": "2021-12-03T17:49:09.595Z"
   },
   {
    "duration": 3,
    "start_time": "2021-12-03T17:49:16.488Z"
   },
   {
    "duration": 6,
    "start_time": "2021-12-03T17:49:16.494Z"
   },
   {
    "duration": 11,
    "start_time": "2021-12-03T17:49:16.502Z"
   },
   {
    "duration": 53,
    "start_time": "2021-12-03T17:49:16.515Z"
   },
   {
    "duration": 9175,
    "start_time": "2021-12-03T17:49:16.570Z"
   },
   {
    "duration": 4,
    "start_time": "2021-12-03T17:49:25.748Z"
   },
   {
    "duration": 35,
    "start_time": "2021-12-03T17:49:25.754Z"
   },
   {
    "duration": 34,
    "start_time": "2021-12-03T17:49:25.791Z"
   },
   {
    "duration": 24,
    "start_time": "2021-12-03T17:49:25.827Z"
   },
   {
    "duration": 598,
    "start_time": "2021-12-03T17:49:25.853Z"
   },
   {
    "duration": 4,
    "start_time": "2021-12-03T17:49:26.452Z"
   },
   {
    "duration": 49,
    "start_time": "2021-12-03T17:49:26.458Z"
   },
   {
    "duration": 303,
    "start_time": "2021-12-03T17:49:26.509Z"
   },
   {
    "duration": 3001,
    "start_time": "2021-12-03T17:49:23.814Z"
   },
   {
    "duration": 2996,
    "start_time": "2021-12-03T17:49:23.820Z"
   },
   {
    "duration": 3,
    "start_time": "2021-12-03T17:50:42.626Z"
   },
   {
    "duration": 4,
    "start_time": "2021-12-03T17:50:43.137Z"
   },
   {
    "duration": 1386,
    "start_time": "2021-12-03T17:51:26.341Z"
   },
   {
    "duration": 653,
    "start_time": "2021-12-03T17:51:27.729Z"
   },
   {
    "duration": 6,
    "start_time": "2021-12-03T17:51:28.385Z"
   },
   {
    "duration": 16,
    "start_time": "2021-12-03T17:51:28.394Z"
   },
   {
    "duration": 3,
    "start_time": "2021-12-03T17:51:28.411Z"
   },
   {
    "duration": 2382,
    "start_time": "2021-12-03T17:51:28.415Z"
   },
   {
    "duration": 13,
    "start_time": "2021-12-03T17:51:30.799Z"
   },
   {
    "duration": 11,
    "start_time": "2021-12-03T17:51:30.815Z"
   },
   {
    "duration": 9,
    "start_time": "2021-12-03T17:51:30.828Z"
   },
   {
    "duration": 8,
    "start_time": "2021-12-03T17:51:30.838Z"
   },
   {
    "duration": 12,
    "start_time": "2021-12-03T17:51:30.847Z"
   },
   {
    "duration": 5953,
    "start_time": "2021-12-03T17:51:30.860Z"
   },
   {
    "duration": 5,
    "start_time": "2021-12-03T17:51:36.814Z"
   },
   {
    "duration": 5,
    "start_time": "2021-12-03T17:51:36.820Z"
   },
   {
    "duration": 80403,
    "start_time": "2021-12-03T17:51:36.826Z"
   },
   {
    "duration": 3,
    "start_time": "2021-12-03T17:52:57.231Z"
   },
   {
    "duration": 6535,
    "start_time": "2021-12-03T17:52:57.235Z"
   },
   {
    "duration": 3,
    "start_time": "2021-12-03T17:53:03.772Z"
   },
   {
    "duration": 14,
    "start_time": "2021-12-03T17:53:03.777Z"
   },
   {
    "duration": 3,
    "start_time": "2021-12-03T17:53:03.793Z"
   },
   {
    "duration": 54,
    "start_time": "2021-12-03T17:53:03.797Z"
   },
   {
    "duration": 9295,
    "start_time": "2021-12-03T17:53:03.853Z"
   },
   {
    "duration": 5,
    "start_time": "2021-12-03T17:53:13.150Z"
   },
   {
    "duration": 7,
    "start_time": "2021-12-03T17:53:13.156Z"
   },
   {
    "duration": 29,
    "start_time": "2021-12-03T17:53:13.165Z"
   },
   {
    "duration": 3,
    "start_time": "2021-12-03T17:53:13.195Z"
   },
   {
    "duration": 471,
    "start_time": "2021-12-03T17:53:13.199Z"
   },
   {
    "duration": 4,
    "start_time": "2021-12-03T17:53:13.671Z"
   },
   {
    "duration": 17,
    "start_time": "2021-12-03T17:53:13.677Z"
   },
   {
    "duration": 2,
    "start_time": "2021-12-03T17:53:13.696Z"
   },
   {
    "duration": 5,
    "start_time": "2021-12-03T17:53:13.699Z"
   },
   {
    "duration": 3568,
    "start_time": "2021-12-03T18:09:34.485Z"
   },
   {
    "duration": 4554,
    "start_time": "2021-12-04T06:44:48.846Z"
   },
   {
    "duration": 2784,
    "start_time": "2021-12-04T06:44:53.403Z"
   },
   {
    "duration": -30,
    "start_time": "2021-12-04T06:44:56.221Z"
   },
   {
    "duration": -34,
    "start_time": "2021-12-04T06:44:56.226Z"
   },
   {
    "duration": -35,
    "start_time": "2021-12-04T06:44:56.228Z"
   },
   {
    "duration": -36,
    "start_time": "2021-12-04T06:44:56.230Z"
   },
   {
    "duration": -37,
    "start_time": "2021-12-04T06:44:56.232Z"
   },
   {
    "duration": -38,
    "start_time": "2021-12-04T06:44:56.234Z"
   },
   {
    "duration": -38,
    "start_time": "2021-12-04T06:44:56.236Z"
   },
   {
    "duration": -40,
    "start_time": "2021-12-04T06:44:56.239Z"
   },
   {
    "duration": -43,
    "start_time": "2021-12-04T06:44:56.243Z"
   },
   {
    "duration": -45,
    "start_time": "2021-12-04T06:44:56.246Z"
   },
   {
    "duration": -47,
    "start_time": "2021-12-04T06:44:56.248Z"
   },
   {
    "duration": -47,
    "start_time": "2021-12-04T06:44:56.249Z"
   },
   {
    "duration": -47,
    "start_time": "2021-12-04T06:44:56.250Z"
   },
   {
    "duration": -49,
    "start_time": "2021-12-04T06:44:56.253Z"
   },
   {
    "duration": -50,
    "start_time": "2021-12-04T06:44:56.255Z"
   },
   {
    "duration": -50,
    "start_time": "2021-12-04T06:44:56.256Z"
   },
   {
    "duration": -54,
    "start_time": "2021-12-04T06:44:56.261Z"
   },
   {
    "duration": -55,
    "start_time": "2021-12-04T06:44:56.263Z"
   },
   {
    "duration": -56,
    "start_time": "2021-12-04T06:44:56.264Z"
   },
   {
    "duration": -57,
    "start_time": "2021-12-04T06:44:56.266Z"
   },
   {
    "duration": -59,
    "start_time": "2021-12-04T06:44:56.269Z"
   },
   {
    "duration": -60,
    "start_time": "2021-12-04T06:44:56.271Z"
   },
   {
    "duration": -61,
    "start_time": "2021-12-04T06:44:56.273Z"
   },
   {
    "duration": -64,
    "start_time": "2021-12-04T06:44:56.277Z"
   },
   {
    "duration": -66,
    "start_time": "2021-12-04T06:44:56.279Z"
   },
   {
    "duration": -67,
    "start_time": "2021-12-04T06:44:56.281Z"
   },
   {
    "duration": -68,
    "start_time": "2021-12-04T06:44:56.283Z"
   },
   {
    "duration": -68,
    "start_time": "2021-12-04T06:44:56.284Z"
   },
   {
    "duration": -69,
    "start_time": "2021-12-04T06:44:56.286Z"
   },
   {
    "duration": -71,
    "start_time": "2021-12-04T06:44:56.288Z"
   },
   {
    "duration": -72,
    "start_time": "2021-12-04T06:44:56.290Z"
   },
   {
    "duration": -75,
    "start_time": "2021-12-04T06:44:56.294Z"
   },
   {
    "duration": 655,
    "start_time": "2021-12-04T06:46:02.771Z"
   },
   {
    "duration": 3828,
    "start_time": "2021-12-04T06:46:08.551Z"
   },
   {
    "duration": 664,
    "start_time": "2021-12-04T06:46:12.382Z"
   },
   {
    "duration": 9,
    "start_time": "2021-12-04T06:46:13.050Z"
   },
   {
    "duration": 5,
    "start_time": "2021-12-04T06:46:13.061Z"
   },
   {
    "duration": 2242,
    "start_time": "2021-12-04T06:46:13.068Z"
   },
   {
    "duration": 6,
    "start_time": "2021-12-04T06:46:15.311Z"
   },
   {
    "duration": 5,
    "start_time": "2021-12-04T06:46:15.318Z"
   },
   {
    "duration": 3,
    "start_time": "2021-12-04T06:46:15.325Z"
   },
   {
    "duration": 5636,
    "start_time": "2021-12-04T06:46:15.330Z"
   },
   {
    "duration": 3,
    "start_time": "2021-12-04T06:46:20.968Z"
   },
   {
    "duration": 5,
    "start_time": "2021-12-04T06:46:20.973Z"
   },
   {
    "duration": 79427,
    "start_time": "2021-12-04T06:46:20.979Z"
   },
   {
    "duration": 433,
    "start_time": "2021-12-04T06:47:40.408Z"
   },
   {
    "duration": -20,
    "start_time": "2021-12-04T06:47:40.863Z"
   },
   {
    "duration": -20,
    "start_time": "2021-12-04T06:47:40.864Z"
   },
   {
    "duration": -23,
    "start_time": "2021-12-04T06:47:40.868Z"
   },
   {
    "duration": -25,
    "start_time": "2021-12-04T06:47:40.871Z"
   },
   {
    "duration": -26,
    "start_time": "2021-12-04T06:47:40.873Z"
   },
   {
    "duration": -26,
    "start_time": "2021-12-04T06:47:40.874Z"
   },
   {
    "duration": -26,
    "start_time": "2021-12-04T06:47:40.875Z"
   },
   {
    "duration": -27,
    "start_time": "2021-12-04T06:47:40.877Z"
   },
   {
    "duration": -29,
    "start_time": "2021-12-04T06:47:40.880Z"
   },
   {
    "duration": -31,
    "start_time": "2021-12-04T06:47:40.882Z"
   },
   {
    "duration": -33,
    "start_time": "2021-12-04T06:47:40.885Z"
   },
   {
    "duration": -34,
    "start_time": "2021-12-04T06:47:40.887Z"
   },
   {
    "duration": -36,
    "start_time": "2021-12-04T06:47:40.890Z"
   },
   {
    "duration": -36,
    "start_time": "2021-12-04T06:47:40.891Z"
   },
   {
    "duration": -37,
    "start_time": "2021-12-04T06:47:40.892Z"
   },
   {
    "duration": -38,
    "start_time": "2021-12-04T06:47:40.894Z"
   },
   {
    "duration": -39,
    "start_time": "2021-12-04T06:47:40.896Z"
   },
   {
    "duration": -40,
    "start_time": "2021-12-04T06:47:40.898Z"
   },
   {
    "duration": -43,
    "start_time": "2021-12-04T06:47:40.902Z"
   },
   {
    "duration": -45,
    "start_time": "2021-12-04T06:47:40.904Z"
   },
   {
    "duration": -45,
    "start_time": "2021-12-04T06:47:40.905Z"
   },
   {
    "duration": 11806,
    "start_time": "2021-12-04T06:47:54.295Z"
   },
   {
    "duration": 12402,
    "start_time": "2021-12-04T06:48:18.597Z"
   },
   {
    "duration": 12262,
    "start_time": "2021-12-04T06:48:57.526Z"
   },
   {
    "duration": 4,
    "start_time": "2021-12-04T06:49:51.217Z"
   },
   {
    "duration": 391,
    "start_time": "2021-12-04T06:49:51.827Z"
   },
   {
    "duration": 2420,
    "start_time": "2021-12-04T06:50:47.030Z"
   },
   {
    "duration": 17750,
    "start_time": "2021-12-04T06:51:18.400Z"
   },
   {
    "duration": 6,
    "start_time": "2021-12-04T06:51:38.067Z"
   },
   {
    "duration": 12,
    "start_time": "2021-12-04T06:51:38.355Z"
   },
   {
    "duration": 5232,
    "start_time": "2021-12-04T16:46:45.197Z"
   },
   {
    "duration": 3234,
    "start_time": "2021-12-04T16:46:50.431Z"
   },
   {
    "duration": 10,
    "start_time": "2021-12-04T16:46:53.667Z"
   },
   {
    "duration": 10,
    "start_time": "2021-12-04T16:46:53.680Z"
   },
   {
    "duration": 6,
    "start_time": "2021-12-04T16:46:53.692Z"
   },
   {
    "duration": 386,
    "start_time": "2021-12-04T16:46:53.700Z"
   },
   {
    "duration": 4040,
    "start_time": "2021-12-04T16:46:50.048Z"
   },
   {
    "duration": 4036,
    "start_time": "2021-12-04T16:46:50.053Z"
   },
   {
    "duration": 4031,
    "start_time": "2021-12-04T16:46:50.059Z"
   },
   {
    "duration": 4025,
    "start_time": "2021-12-04T16:46:50.066Z"
   },
   {
    "duration": 4019,
    "start_time": "2021-12-04T16:46:50.073Z"
   },
   {
    "duration": 4014,
    "start_time": "2021-12-04T16:46:50.079Z"
   },
   {
    "duration": 3,
    "start_time": "2021-12-04T16:48:04.703Z"
   },
   {
    "duration": 4,
    "start_time": "2021-12-04T16:48:06.111Z"
   },
   {
    "duration": 3,
    "start_time": "2021-12-04T16:48:12.247Z"
   },
   {
    "duration": 4031,
    "start_time": "2021-12-04T16:50:47.116Z"
   },
   {
    "duration": 621,
    "start_time": "2021-12-04T16:50:51.150Z"
   },
   {
    "duration": 11,
    "start_time": "2021-12-04T16:50:51.773Z"
   },
   {
    "duration": 7,
    "start_time": "2021-12-04T16:50:51.786Z"
   },
   {
    "duration": 7,
    "start_time": "2021-12-04T16:50:51.795Z"
   },
   {
    "duration": 5,
    "start_time": "2021-12-04T16:50:51.804Z"
   },
   {
    "duration": 6,
    "start_time": "2021-12-04T16:50:51.810Z"
   },
   {
    "duration": 32,
    "start_time": "2021-12-04T16:50:51.817Z"
   },
   {
    "duration": 209638,
    "start_time": "2021-12-04T16:50:51.852Z"
   },
   {
    "duration": 5,
    "start_time": "2021-12-04T16:54:21.492Z"
   },
   {
    "duration": 5,
    "start_time": "2021-12-04T16:54:21.498Z"
   },
   {
    "duration": 77357,
    "start_time": "2021-12-04T16:54:21.505Z"
   },
   {
    "duration": 367,
    "start_time": "2021-12-04T16:55:38.864Z"
   },
   {
    "duration": 4040,
    "start_time": "2021-12-04T16:55:35.193Z"
   },
   {
    "duration": 4038,
    "start_time": "2021-12-04T16:55:35.196Z"
   },
   {
    "duration": 3903,
    "start_time": "2021-12-04T16:55:35.332Z"
   },
   {
    "duration": 3902,
    "start_time": "2021-12-04T16:55:35.334Z"
   },
   {
    "duration": 3900,
    "start_time": "2021-12-04T16:55:35.336Z"
   },
   {
    "duration": 4,
    "start_time": "2021-12-04T17:09:52.620Z"
   },
   {
    "duration": 4,
    "start_time": "2021-12-04T17:10:24.854Z"
   },
   {
    "duration": 3,
    "start_time": "2021-12-04T17:10:43.270Z"
   },
   {
    "duration": 5,
    "start_time": "2021-12-04T17:11:25.231Z"
   },
   {
    "duration": 4,
    "start_time": "2021-12-04T17:11:33.122Z"
   },
   {
    "duration": 4,
    "start_time": "2021-12-04T17:11:53.526Z"
   },
   {
    "duration": 12376,
    "start_time": "2021-12-04T17:12:16.995Z"
   },
   {
    "duration": 3,
    "start_time": "2021-12-04T17:12:29.373Z"
   },
   {
    "duration": 17621,
    "start_time": "2021-12-04T17:12:29.378Z"
   },
   {
    "duration": 6,
    "start_time": "2021-12-04T17:12:47.001Z"
   },
   {
    "duration": 22,
    "start_time": "2021-12-04T17:12:47.009Z"
   },
   {
    "duration": 3,
    "start_time": "2021-12-04T17:13:37.546Z"
   },
   {
    "duration": 305,
    "start_time": "2021-12-04T17:13:37.841Z"
   },
   {
    "duration": 3669,
    "start_time": "2021-12-04T17:13:34.479Z"
   },
   {
    "duration": 259,
    "start_time": "2021-12-04T17:13:38.455Z"
   },
   {
    "duration": 255,
    "start_time": "2021-12-04T17:13:38.781Z"
   },
   {
    "duration": 8291,
    "start_time": "2021-12-04T17:14:42.507Z"
   },
   {
    "duration": 4,
    "start_time": "2021-12-04T17:15:02.685Z"
   },
   {
    "duration": 4,
    "start_time": "2021-12-04T17:15:03.032Z"
   },
   {
    "duration": 12,
    "start_time": "2021-12-04T17:15:06.113Z"
   },
   {
    "duration": 2,
    "start_time": "2021-12-04T17:16:24.782Z"
   },
   {
    "duration": 484,
    "start_time": "2021-12-04T17:16:25.360Z"
   },
   {
    "duration": 5,
    "start_time": "2021-12-04T17:16:26.883Z"
   },
   {
    "duration": 10,
    "start_time": "2021-12-04T17:16:28.101Z"
   },
   {
    "duration": 4,
    "start_time": "2021-12-04T17:16:38.232Z"
   },
   {
    "duration": 17564,
    "start_time": "2021-12-04T17:16:38.538Z"
   },
   {
    "duration": 6,
    "start_time": "2021-12-04T17:16:56.104Z"
   },
   {
    "duration": 23,
    "start_time": "2021-12-04T17:16:56.112Z"
   },
   {
    "duration": 5,
    "start_time": "2021-12-04T17:18:54.755Z"
   },
   {
    "duration": 9,
    "start_time": "2021-12-04T17:44:51.567Z"
   },
   {
    "duration": 7,
    "start_time": "2021-12-04T17:46:39.325Z"
   },
   {
    "duration": 6,
    "start_time": "2021-12-04T17:50:42.570Z"
   },
   {
    "duration": 267,
    "start_time": "2021-12-04T17:50:54.803Z"
   },
   {
    "duration": 6,
    "start_time": "2021-12-04T17:51:11.380Z"
   },
   {
    "duration": 345616,
    "start_time": "2021-12-04T17:52:02.584Z"
   },
   {
    "duration": 5,
    "start_time": "2021-12-04T17:57:48.202Z"
   },
   {
    "duration": 4,
    "start_time": "2021-12-04T17:57:48.209Z"
   },
   {
    "duration": 271,
    "start_time": "2021-12-04T17:57:48.215Z"
   },
   {
    "duration": 261,
    "start_time": "2021-12-04T17:57:59.374Z"
   },
   {
    "duration": 5,
    "start_time": "2021-12-04T17:58:03.190Z"
   },
   {
    "duration": 10,
    "start_time": "2021-12-04T17:58:03.596Z"
   },
   {
    "duration": 2904,
    "start_time": "2021-12-04T18:03:11.715Z"
   },
   {
    "duration": 4,
    "start_time": "2021-12-04T18:06:51.637Z"
   }
  ],
  "kernelspec": {
   "display_name": "Python 3 (ipykernel)",
   "language": "python",
   "name": "python3"
  },
  "language_info": {
   "codemirror_mode": {
    "name": "ipython",
    "version": 3
   },
   "file_extension": ".py",
   "mimetype": "text/x-python",
   "name": "python",
   "nbconvert_exporter": "python",
   "pygments_lexer": "ipython3",
   "version": "3.9.7"
  },
  "toc": {
   "base_numbering": 1,
   "nav_menu": {},
   "number_sections": true,
   "sideBar": true,
   "skip_h1_title": true,
   "title_cell": "Содержание",
   "title_sidebar": "Contents",
   "toc_cell": true,
   "toc_position": {
    "height": "calc(100% - 180px)",
    "left": "10px",
    "top": "150px",
    "width": "302.391px"
   },
   "toc_section_display": true,
   "toc_window_display": false
  }
 },
 "nbformat": 4,
 "nbformat_minor": 2
}
